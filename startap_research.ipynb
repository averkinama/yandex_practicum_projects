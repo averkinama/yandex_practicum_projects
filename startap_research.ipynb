{
 "cells": [
  {
   "cell_type": "markdown",
   "metadata": {},
   "source": [
    "### Цели и задачи проекта\n",
    "\n",
    "Познакомиться с данными датасетов `company_and_rounds.csv`, `acquisition.csv`, `people.csv`, `education.csv`, `degrees.csv`, которые содержат информацию об инфестиционном рынке. Необходимо  подготовить датасет и проверить, что данные в нём соответствуют здравому смыслу, а также ответить на вопросы заказчика как о предобработке, так и о значении данных для бизнеса."
   ]
  },
  {
   "cell_type": "markdown",
   "metadata": {},
   "source": [
    "### Описание данных\n",
    "Таблица `acquisition` содержит информацию о покупках одними компаниями других компаний:\n",
    "\n",
    "- `id` — идентификатор покупки.\n",
    "- `acquiring_company_id` — идентификатор покупающей компании.\n",
    "- `acquired_company_id` — идентификатор покупаемой компании.\n",
    "- `term_code` — варианты расчёта.\n",
    "- `price_amount` — сумма сделки.\n",
    "- `acquired_at` — дата сделки.\n",
    "\n",
    "Таблица `company_and_rounds` содержит информацию о компаниях и раундах финансирования:\n",
    "\n",
    "- `company ID` — идентификатор компании.\n",
    "- `name` — название компании.\n",
    "- `category code` — категория области деятельности компании.\n",
    "- `status` — статус компании.\n",
    "- `founded at` — дата инвестирования.\n",
    "- `closed at` — дата закрытия компании.\n",
    "- `domain` — официальный сайт компании.\n",
    "- `network username` — ник компании в сети.\n",
    "- `country code` — код страны компании.\n",
    "- `investment rounds` — число инвестиционных раундов.\n",
    "- `funding rounds` — число раундов финансирования.\n",
    "- `funding total` — сумма финансирования.\n",
    "- `milestones` — вехи финансирования.\n",
    "- `funding round id` — идентификатор этапа финансирования.\n",
    "- `company id `— идентификатор компании.\n",
    "- `funded at` — дата финансирования.\n",
    "- `funding round type` — тип финансирования.\n",
    "- `raised amount` — сумма финансирования.\n",
    "- `pre money valuation` — предварительная денежная оценка.\n",
    "- `participants` — число участников.\n",
    "- `is first round` — является ли раунд первым.\n",
    "- `is last round` — является раунд последним.\n",
    "\n",
    "Таблица `education` содержит информацию об образовании сотрудника:\n",
    "\n",
    "- `id` — идентификатор записи об образовании.\n",
    "- `person_id` — идентификатор работника.\n",
    "- `instituition` — название учебного заведения.\n",
    "- `graduated_at` — дата получения образования.\n",
    "\n",
    "Таблица `people` содержит информацию о сотрудниках:\n",
    "- `id` — идентификатор сотрудника.\n",
    "- `first_name` — имя сотрудника.\n",
    "- `last_name` — фамилия сотрудника.\n",
    "- `company_id` — идентификатор компании.\n",
    "- `network_username` — ник в социальных сетях.\n",
    "\n",
    "Таблица `degrees` содержит информацию о типе образования сотрудника:\n",
    "\n",
    "- `id` — идентификатор записи.\n",
    "- `object_id` — идентификатор сотрудника.\n",
    "- `degree_type` — тип образования.\n",
    "- `subject` — специальность"
   ]
  },
  {
   "cell_type": "markdown",
   "metadata": {},
   "source": [
    "### Содержимое проекта\n",
    "\n",
    "Шаг 1. Знакомство с данными: загрузка и первичная предобработка\n",
    "\n",
    "- 1.1. Вывод общей информации, исправление названия столбцов\n",
    "- 1.2. Смена типов и анализ пропусков\n",
    "\n",
    "Шаг 2. Предобработка данных, предварительное исследование\n",
    "\n",
    "- 2.1. Раунды финансирования по годам\n",
    "- 2.2. Люди и их образование\n",
    "- 2.3. Объединять или не объединять — вот в чём вопрос\n",
    "- 2.4. Проблемный датасет и причина возникновения пропусков\n",
    "\n",
    "Шаг 3. Исследовательский анализ объединённых таблиц\n",
    "\n",
    "- 3.1. Объединение данных\n",
    "- 3.2. Анализ выбросов\n",
    "- 3.3. Куплены забесплатно?\n",
    "- 3.4. Цены стартапов по категориям\n",
    "- 3.5. Сколько раундов продержится стартап перед покупкой\n",
    "\n",
    "Шаг 4. Итоговый вывод и рекомендации\n",
    "\n",
    "По результатам проведённого исследовательского анализа данных сформулировать итоговый вывод и рекомендации для заказчика. "
   ]
  },
  {
   "cell_type": "markdown",
   "metadata": {
    "id": "xqr6uttCrJg0"
   },
   "source": [
    "\n",
    "## Шаг 1. Знакомство с данными: загрузка и первичная предобработка\n",
    "\n",
    "Названия файлов:\n",
    "* acquisition.csv\n",
    "* company_and_rounds.csv\n",
    "* people.csv\n",
    "* education.csv\n",
    "* degrees.csv\n",
    "\n",
    "Опциональные датасеты:\n",
    "* fund.csv\n",
    "* investment.csv\n",
    "\n",
    "\n",
    "Они находятся в папке datasets, если вы выполняете работу на платформе. В случае, если вы делаете работу локально, доступ к файлам в папке можно получить по адресу `https://code.s3.yandex.net/datasets/` + имя файла.\n",
    "\n",
    "### 1.1. Вывод общей информации, исправление названия столбцов\n",
    "\n",
    "- Загрузите все данные по проекту.\n",
    "- Проверьте названия столбцов.\n",
    "- Выведите информацию, которая необходима вам для принятия решений о предобработке, для каждого из датасетов."
   ]
  },
  {
   "cell_type": "code",
   "execution_count": 4,
   "metadata": {},
   "outputs": [],
   "source": [
    "# Эта ячейка исправит проблему SSL если она есть\n",
    "import ssl\n",
    "try:\n",
    "    # Пробуем нормальный режим\n",
    "    _create_unverified_https_context = ssl._create_unverified_context\n",
    "except AttributeError:\n",
    "    pass\n",
    "else:\n",
    "    ssl._create_default_https_context = _create_unverified_https_context"
   ]
  },
  {
   "cell_type": "code",
   "execution_count": 5,
   "metadata": {
    "colab": {
     "base_uri": "https://localhost:8080/"
    },
    "id": "W_W4jRazrJg0",
    "outputId": "d2409aad-233f-4bb4-ec71-7da96594f9df",
    "scrolled": true
   },
   "outputs": [
    {
     "name": "stdout",
     "output_type": "stream",
     "text": [
      "zsh:1: command not found: pip\n"
     ]
    }
   ],
   "source": [
    "# устанавливаем библиотеку phik\n",
    "!pip install phik"
   ]
  },
  {
   "cell_type": "code",
   "execution_count": 6,
   "metadata": {
    "id": "2Tm4Pk__Felf"
   },
   "outputs": [],
   "source": [
    "# Импортируем библиотеки\n",
    "import pandas as pd\n",
    "import numpy as np\n",
    "\n",
    "# Загружаем библиотеки для визуализации данных\n",
    "import matplotlib.pyplot as plt\n",
    "import seaborn as sns\n",
    "\n",
    "# Загружаем библиотеку для расчёта коэффициента корреляции phi_k\n",
    "from phik import phik_matrix\n",
    "\n",
    "# Загружаем данные датасетов\n",
    "\n",
    "df_acquisition = pd.read_csv('https://code.s3.yandex.net/datasets/acquisition.csv')\n",
    "df_company_and_rounds = pd.read_csv('https://code.s3.yandex.net/datasets/company_and_rounds.csv')\n",
    "df_people = pd.read_csv('https://code.s3.yandex.net/datasets/people.csv')\n",
    "df_education = pd.read_csv('https://code.s3.yandex.net/datasets/education.csv')\n",
    "df_degrees = pd.read_csv('https://code.s3.yandex.net/datasets/degrees.csv')"
   ]
  },
  {
   "cell_type": "code",
   "execution_count": 7,
   "metadata": {
    "id": "oNqJ2qpRFebv",
    "scrolled": true
   },
   "outputs": [
    {
     "data": {
      "text/html": [
       "<div>\n",
       "<style scoped>\n",
       "    .dataframe tbody tr th:only-of-type {\n",
       "        vertical-align: middle;\n",
       "    }\n",
       "\n",
       "    .dataframe tbody tr th {\n",
       "        vertical-align: top;\n",
       "    }\n",
       "\n",
       "    .dataframe thead th {\n",
       "        text-align: right;\n",
       "    }\n",
       "</style>\n",
       "<table border=\"1\" class=\"dataframe\">\n",
       "  <thead>\n",
       "    <tr style=\"text-align: right;\">\n",
       "      <th></th>\n",
       "      <th>id</th>\n",
       "      <th>acquiring_company_id</th>\n",
       "      <th>acquired_company_id</th>\n",
       "      <th>term_code</th>\n",
       "      <th>price_amount</th>\n",
       "      <th>acquired_at</th>\n",
       "    </tr>\n",
       "  </thead>\n",
       "  <tbody>\n",
       "    <tr>\n",
       "      <th>0</th>\n",
       "      <td>1</td>\n",
       "      <td>11</td>\n",
       "      <td>10</td>\n",
       "      <td>NaN</td>\n",
       "      <td>20000000</td>\n",
       "      <td>2007-05-30</td>\n",
       "    </tr>\n",
       "    <tr>\n",
       "      <th>1</th>\n",
       "      <td>7</td>\n",
       "      <td>59</td>\n",
       "      <td>72</td>\n",
       "      <td>cash</td>\n",
       "      <td>60000000</td>\n",
       "      <td>2007-07-01</td>\n",
       "    </tr>\n",
       "    <tr>\n",
       "      <th>2</th>\n",
       "      <td>8</td>\n",
       "      <td>24</td>\n",
       "      <td>132</td>\n",
       "      <td>cash</td>\n",
       "      <td>280000000</td>\n",
       "      <td>2007-05-01</td>\n",
       "    </tr>\n",
       "    <tr>\n",
       "      <th>3</th>\n",
       "      <td>9</td>\n",
       "      <td>59</td>\n",
       "      <td>155</td>\n",
       "      <td>cash</td>\n",
       "      <td>100000000</td>\n",
       "      <td>2007-06-01</td>\n",
       "    </tr>\n",
       "    <tr>\n",
       "      <th>4</th>\n",
       "      <td>10</td>\n",
       "      <td>212</td>\n",
       "      <td>215</td>\n",
       "      <td>cash</td>\n",
       "      <td>25000000</td>\n",
       "      <td>2007-07-01</td>\n",
       "    </tr>\n",
       "  </tbody>\n",
       "</table>\n",
       "</div>"
      ],
      "text/plain": [
       "   id  acquiring_company_id  acquired_company_id term_code  price_amount  \\\n",
       "0   1                    11                   10       NaN      20000000   \n",
       "1   7                    59                   72      cash      60000000   \n",
       "2   8                    24                  132      cash     280000000   \n",
       "3   9                    59                  155      cash     100000000   \n",
       "4  10                   212                  215      cash      25000000   \n",
       "\n",
       "  acquired_at  \n",
       "0  2007-05-30  \n",
       "1  2007-07-01  \n",
       "2  2007-05-01  \n",
       "3  2007-06-01  \n",
       "4  2007-07-01  "
      ]
     },
     "execution_count": 7,
     "metadata": {},
     "output_type": "execute_result"
    }
   ],
   "source": [
    "df_acquisition.head()"
   ]
  },
  {
   "cell_type": "code",
   "execution_count": 8,
   "metadata": {},
   "outputs": [
    {
     "name": "stdout",
     "output_type": "stream",
     "text": [
      "<class 'pandas.core.frame.DataFrame'>\n",
      "RangeIndex: 9407 entries, 0 to 9406\n",
      "Data columns (total 6 columns):\n",
      " #   Column                Non-Null Count  Dtype \n",
      "---  ------                --------------  ----- \n",
      " 0   id                    9407 non-null   int64 \n",
      " 1   acquiring_company_id  9407 non-null   int64 \n",
      " 2   acquired_company_id   9407 non-null   int64 \n",
      " 3   term_code             1831 non-null   object\n",
      " 4   price_amount          9407 non-null   int64 \n",
      " 5   acquired_at           9378 non-null   object\n",
      "dtypes: int64(4), object(2)\n",
      "memory usage: 441.1+ KB\n"
     ]
    }
   ],
   "source": [
    "df_acquisition.info()"
   ]
  },
  {
   "cell_type": "markdown",
   "metadata": {},
   "source": [
    "Промежуточный вывод:\n",
    "\n",
    "- Всего 9407 строк и 6 столбцов. \n",
    "\n",
    "Типы данных по столбцам:\n",
    "\n",
    "- `id` — int64.\n",
    "- `acquiring_company_id` — int64.\n",
    "- `acquired_company_id` — int64.\n",
    "- `term_code` — object. (есть пропуски)\n",
    "- `price_amount` — int64.\n",
    "- `acquired_at` — object. (есть пропуски)\n",
    "\n",
    "\n",
    "- Столбец`acquired_at` лучше будет привести к типу данных 'Дата'. \n",
    "- Общий стиль названия столбцов соблюден. "
   ]
  },
  {
   "cell_type": "code",
   "execution_count": 9,
   "metadata": {},
   "outputs": [
    {
     "data": {
      "text/html": [
       "<div>\n",
       "<style scoped>\n",
       "    .dataframe tbody tr th:only-of-type {\n",
       "        vertical-align: middle;\n",
       "    }\n",
       "\n",
       "    .dataframe tbody tr th {\n",
       "        vertical-align: top;\n",
       "    }\n",
       "\n",
       "    .dataframe thead th {\n",
       "        text-align: right;\n",
       "    }\n",
       "</style>\n",
       "<table border=\"1\" class=\"dataframe\">\n",
       "  <thead>\n",
       "    <tr style=\"text-align: right;\">\n",
       "      <th></th>\n",
       "      <th>company  ID</th>\n",
       "      <th>name</th>\n",
       "      <th>category  code</th>\n",
       "      <th>status</th>\n",
       "      <th>founded  at</th>\n",
       "      <th>closed  at</th>\n",
       "      <th>domain</th>\n",
       "      <th>network  username</th>\n",
       "      <th>country  code</th>\n",
       "      <th>investment  rounds</th>\n",
       "      <th>...</th>\n",
       "      <th>milestones</th>\n",
       "      <th>funding  round  id</th>\n",
       "      <th>company  id</th>\n",
       "      <th>funded  at</th>\n",
       "      <th>funding  round  type</th>\n",
       "      <th>raised  amount</th>\n",
       "      <th>pre  money  valuation</th>\n",
       "      <th>participants</th>\n",
       "      <th>is  first  round</th>\n",
       "      <th>is  last  round</th>\n",
       "    </tr>\n",
       "  </thead>\n",
       "  <tbody>\n",
       "    <tr>\n",
       "      <th>0</th>\n",
       "      <td>1.0</td>\n",
       "      <td>Wetpaint</td>\n",
       "      <td>web</td>\n",
       "      <td>operating</td>\n",
       "      <td>2005-10-17</td>\n",
       "      <td>NaN</td>\n",
       "      <td>wetpaint-inc.com</td>\n",
       "      <td>BachelrWetpaint</td>\n",
       "      <td>USA</td>\n",
       "      <td>0.0</td>\n",
       "      <td>...</td>\n",
       "      <td>5.0</td>\n",
       "      <td>888.0</td>\n",
       "      <td>1.0</td>\n",
       "      <td>2005-10-01</td>\n",
       "      <td>series-a</td>\n",
       "      <td>5250000.0</td>\n",
       "      <td>0.0</td>\n",
       "      <td>2.0</td>\n",
       "      <td>0.0</td>\n",
       "      <td>1.0</td>\n",
       "    </tr>\n",
       "    <tr>\n",
       "      <th>1</th>\n",
       "      <td>1.0</td>\n",
       "      <td>Wetpaint</td>\n",
       "      <td>web</td>\n",
       "      <td>operating</td>\n",
       "      <td>2005-10-17</td>\n",
       "      <td>NaN</td>\n",
       "      <td>wetpaint-inc.com</td>\n",
       "      <td>BachelrWetpaint</td>\n",
       "      <td>USA</td>\n",
       "      <td>0.0</td>\n",
       "      <td>...</td>\n",
       "      <td>5.0</td>\n",
       "      <td>889.0</td>\n",
       "      <td>1.0</td>\n",
       "      <td>2007-01-01</td>\n",
       "      <td>series-b</td>\n",
       "      <td>9500000.0</td>\n",
       "      <td>0.0</td>\n",
       "      <td>3.0</td>\n",
       "      <td>0.0</td>\n",
       "      <td>0.0</td>\n",
       "    </tr>\n",
       "    <tr>\n",
       "      <th>2</th>\n",
       "      <td>1.0</td>\n",
       "      <td>Wetpaint</td>\n",
       "      <td>web</td>\n",
       "      <td>operating</td>\n",
       "      <td>2005-10-17</td>\n",
       "      <td>NaN</td>\n",
       "      <td>wetpaint-inc.com</td>\n",
       "      <td>BachelrWetpaint</td>\n",
       "      <td>USA</td>\n",
       "      <td>0.0</td>\n",
       "      <td>...</td>\n",
       "      <td>5.0</td>\n",
       "      <td>2312.0</td>\n",
       "      <td>1.0</td>\n",
       "      <td>2008-05-19</td>\n",
       "      <td>series-c+</td>\n",
       "      <td>25000000.0</td>\n",
       "      <td>0.0</td>\n",
       "      <td>4.0</td>\n",
       "      <td>1.0</td>\n",
       "      <td>0.0</td>\n",
       "    </tr>\n",
       "    <tr>\n",
       "      <th>3</th>\n",
       "      <td>10.0</td>\n",
       "      <td>Flektor</td>\n",
       "      <td>games_video</td>\n",
       "      <td>acquired</td>\n",
       "      <td>NaN</td>\n",
       "      <td>NaN</td>\n",
       "      <td>flektor.com</td>\n",
       "      <td>NaN</td>\n",
       "      <td>USA</td>\n",
       "      <td>0.0</td>\n",
       "      <td>...</td>\n",
       "      <td>0.0</td>\n",
       "      <td>NaN</td>\n",
       "      <td>NaN</td>\n",
       "      <td>NaN</td>\n",
       "      <td>NaN</td>\n",
       "      <td>NaN</td>\n",
       "      <td>NaN</td>\n",
       "      <td>NaN</td>\n",
       "      <td>NaN</td>\n",
       "      <td>NaN</td>\n",
       "    </tr>\n",
       "    <tr>\n",
       "      <th>4</th>\n",
       "      <td>100.0</td>\n",
       "      <td>There</td>\n",
       "      <td>games_video</td>\n",
       "      <td>acquired</td>\n",
       "      <td>NaN</td>\n",
       "      <td>NaN</td>\n",
       "      <td>there.com</td>\n",
       "      <td>NaN</td>\n",
       "      <td>USA</td>\n",
       "      <td>0.0</td>\n",
       "      <td>...</td>\n",
       "      <td>4.0</td>\n",
       "      <td>NaN</td>\n",
       "      <td>NaN</td>\n",
       "      <td>NaN</td>\n",
       "      <td>NaN</td>\n",
       "      <td>NaN</td>\n",
       "      <td>NaN</td>\n",
       "      <td>NaN</td>\n",
       "      <td>NaN</td>\n",
       "      <td>NaN</td>\n",
       "    </tr>\n",
       "  </tbody>\n",
       "</table>\n",
       "<p>5 rows × 22 columns</p>\n",
       "</div>"
      ],
      "text/plain": [
       "   company  ID      name category  code     status founded  at closed  at  \\\n",
       "0          1.0  Wetpaint            web  operating  2005-10-17        NaN   \n",
       "1          1.0  Wetpaint            web  operating  2005-10-17        NaN   \n",
       "2          1.0  Wetpaint            web  operating  2005-10-17        NaN   \n",
       "3         10.0   Flektor    games_video   acquired         NaN        NaN   \n",
       "4        100.0     There    games_video   acquired         NaN        NaN   \n",
       "\n",
       "             domain network  username country  code  investment  rounds  ...  \\\n",
       "0  wetpaint-inc.com   BachelrWetpaint           USA                 0.0  ...   \n",
       "1  wetpaint-inc.com   BachelrWetpaint           USA                 0.0  ...   \n",
       "2  wetpaint-inc.com   BachelrWetpaint           USA                 0.0  ...   \n",
       "3       flektor.com               NaN           USA                 0.0  ...   \n",
       "4         there.com               NaN           USA                 0.0  ...   \n",
       "\n",
       "   milestones  funding  round  id  company  id  funded  at  \\\n",
       "0         5.0               888.0          1.0  2005-10-01   \n",
       "1         5.0               889.0          1.0  2007-01-01   \n",
       "2         5.0              2312.0          1.0  2008-05-19   \n",
       "3         0.0                 NaN          NaN         NaN   \n",
       "4         4.0                 NaN          NaN         NaN   \n",
       "\n",
       "   funding  round  type raised  amount pre  money  valuation  participants  \\\n",
       "0              series-a      5250000.0                   0.0           2.0   \n",
       "1              series-b      9500000.0                   0.0           3.0   \n",
       "2             series-c+     25000000.0                   0.0           4.0   \n",
       "3                   NaN            NaN                   NaN           NaN   \n",
       "4                   NaN            NaN                   NaN           NaN   \n",
       "\n",
       "   is  first  round  is  last  round  \n",
       "0               0.0              1.0  \n",
       "1               0.0              0.0  \n",
       "2               1.0              0.0  \n",
       "3               NaN              NaN  \n",
       "4               NaN              NaN  \n",
       "\n",
       "[5 rows x 22 columns]"
      ]
     },
     "execution_count": 9,
     "metadata": {},
     "output_type": "execute_result"
    }
   ],
   "source": [
    "df_company_and_rounds.head()"
   ]
  },
  {
   "cell_type": "code",
   "execution_count": 10,
   "metadata": {},
   "outputs": [
    {
     "name": "stdout",
     "output_type": "stream",
     "text": [
      "<class 'pandas.core.frame.DataFrame'>\n",
      "RangeIndex: 217774 entries, 0 to 217773\n",
      "Data columns (total 22 columns):\n",
      " #   Column                 Non-Null Count   Dtype  \n",
      "---  ------                 --------------   -----  \n",
      " 0   company  ID            217472 non-null  float64\n",
      " 1   name                   217471 non-null  object \n",
      " 2   category  code         143886 non-null  object \n",
      " 3   status                 217472 non-null  object \n",
      " 4   founded  at            109956 non-null  object \n",
      " 5   closed  at             3449 non-null    object \n",
      " 6   domain                 147159 non-null  object \n",
      " 7   network  username      95534 non-null   object \n",
      " 8   country  code          108607 non-null  object \n",
      " 9   investment  rounds     217472 non-null  float64\n",
      " 10  funding  rounds        217472 non-null  float64\n",
      " 11  funding  total         217472 non-null  float64\n",
      " 12  milestones             217472 non-null  float64\n",
      " 13  funding  round  id     52928 non-null   float64\n",
      " 14  company  id            52928 non-null   float64\n",
      " 15  funded  at             52680 non-null   object \n",
      " 16  funding  round  type   52928 non-null   object \n",
      " 17  raised  amount         52928 non-null   float64\n",
      " 18  pre  money  valuation  52928 non-null   float64\n",
      " 19  participants           52928 non-null   float64\n",
      " 20  is  first  round       52928 non-null   float64\n",
      " 21  is  last  round        52928 non-null   float64\n",
      "dtypes: float64(12), object(10)\n",
      "memory usage: 36.6+ MB\n"
     ]
    }
   ],
   "source": [
    "df_company_and_rounds.info()"
   ]
  },
  {
   "cell_type": "markdown",
   "metadata": {},
   "source": [
    "Промежуточный вывод:\n",
    "- Всего 217774 строк и 22 столбца. \n",
    "\n",
    "Типы данных по столбцам:\n",
    "\n",
    "- `company ID` — float64.\n",
    "- `name` — object.\n",
    "- `category code` — object. (есть пропуски)\n",
    "- `status` — object.\n",
    "- `founded at` — object. (есть пропуски)\n",
    "- `closed at` — object. (есть пропуски)\n",
    "- `domain` — object. (есть пропуски)\n",
    "- `network username` — object. (есть пропуски)\n",
    "- `country code` — object. (есть пропуски)\n",
    "- `investment rounds` — float64.\n",
    "- `funding rounds` — float64.\n",
    "- `funding total` — float64.\n",
    "- `milestones` — float64.\n",
    "- `funding round id` — float64. (есть пропуски)\n",
    "- `company id `— float64. (есть пропуски)\n",
    "- `funded at` — object. (есть пропуски)\n",
    "- `funding round type` — object. (есть пропуски)\n",
    "- `raised amount` — float64. (есть пропуски)\n",
    "- `pre money valuation` — float64. (есть пропуски)\n",
    "- `participants` — float64. (есть пропуски)\n",
    "- `is first round` — float64. (есть пропуски)\n",
    "- `is last round` — float64. (есть пропуски)\n",
    "\n",
    "\n",
    "- В таблице встречаектся два столбца с похожим названием `company ID` и `company id`, по описанию данных они должны обозначать одно и то же, но по факту их значения в одних и тех же строках не совпадают. Далее разберемся, почему так получилось и что они значат. \n",
    "- Столбец `founded at`, `funded at` лучше будет привести к типу данных 'Дата'.\n",
    "- Столбцы `funding_round_id`, `company ID`,`company id`, `participants`, `is first round`, `is last round` лучше будет привести к целочисленному типу данных.\n",
    "- Общий стиль названия столбцов не соблюден, в названиях встречаются пробелы. "
   ]
  },
  {
   "cell_type": "code",
   "execution_count": 11,
   "metadata": {
    "scrolled": true
   },
   "outputs": [
    {
     "data": {
      "text/html": [
       "<div>\n",
       "<style scoped>\n",
       "    .dataframe tbody tr th:only-of-type {\n",
       "        vertical-align: middle;\n",
       "    }\n",
       "\n",
       "    .dataframe tbody tr th {\n",
       "        vertical-align: top;\n",
       "    }\n",
       "\n",
       "    .dataframe thead th {\n",
       "        text-align: right;\n",
       "    }\n",
       "</style>\n",
       "<table border=\"1\" class=\"dataframe\">\n",
       "  <thead>\n",
       "    <tr style=\"text-align: right;\">\n",
       "      <th></th>\n",
       "      <th>id</th>\n",
       "      <th>first_name</th>\n",
       "      <th>last_name</th>\n",
       "      <th>company_id</th>\n",
       "      <th>network_username</th>\n",
       "    </tr>\n",
       "  </thead>\n",
       "  <tbody>\n",
       "    <tr>\n",
       "      <th>0</th>\n",
       "      <td>10</td>\n",
       "      <td>Mark</td>\n",
       "      <td>Zuckerberg</td>\n",
       "      <td>5.0</td>\n",
       "      <td>NaN</td>\n",
       "    </tr>\n",
       "    <tr>\n",
       "      <th>1</th>\n",
       "      <td>100</td>\n",
       "      <td>Peter</td>\n",
       "      <td>Lester</td>\n",
       "      <td>27.0</td>\n",
       "      <td>NaN</td>\n",
       "    </tr>\n",
       "    <tr>\n",
       "      <th>2</th>\n",
       "      <td>1000</td>\n",
       "      <td>Dr. Steven</td>\n",
       "      <td>E. Saunders</td>\n",
       "      <td>292.0</td>\n",
       "      <td>NaN</td>\n",
       "    </tr>\n",
       "    <tr>\n",
       "      <th>3</th>\n",
       "      <td>10000</td>\n",
       "      <td>Neil</td>\n",
       "      <td>Capel</td>\n",
       "      <td>2526.0</td>\n",
       "      <td>NaN</td>\n",
       "    </tr>\n",
       "    <tr>\n",
       "      <th>4</th>\n",
       "      <td>100000</td>\n",
       "      <td>Sue</td>\n",
       "      <td>Pilsch</td>\n",
       "      <td>NaN</td>\n",
       "      <td>NaN</td>\n",
       "    </tr>\n",
       "  </tbody>\n",
       "</table>\n",
       "</div>"
      ],
      "text/plain": [
       "       id  first_name    last_name  company_id network_username\n",
       "0      10        Mark   Zuckerberg         5.0              NaN\n",
       "1     100       Peter       Lester        27.0              NaN\n",
       "2    1000  Dr. Steven  E. Saunders       292.0              NaN\n",
       "3   10000        Neil        Capel      2526.0              NaN\n",
       "4  100000         Sue       Pilsch         NaN              NaN"
      ]
     },
     "execution_count": 11,
     "metadata": {},
     "output_type": "execute_result"
    }
   ],
   "source": [
    "df_people.head()"
   ]
  },
  {
   "cell_type": "code",
   "execution_count": 12,
   "metadata": {
    "scrolled": true
   },
   "outputs": [
    {
     "name": "stdout",
     "output_type": "stream",
     "text": [
      "<class 'pandas.core.frame.DataFrame'>\n",
      "RangeIndex: 226709 entries, 0 to 226708\n",
      "Data columns (total 5 columns):\n",
      " #   Column            Non-Null Count   Dtype  \n",
      "---  ------            --------------   -----  \n",
      " 0   id                226709 non-null  int64  \n",
      " 1   first_name        226700 non-null  object \n",
      " 2   last_name         226705 non-null  object \n",
      " 3   company_id        34615 non-null   float64\n",
      " 4   network_username  38867 non-null   object \n",
      "dtypes: float64(1), int64(1), object(3)\n",
      "memory usage: 8.6+ MB\n"
     ]
    }
   ],
   "source": [
    "df_people.info()"
   ]
  },
  {
   "cell_type": "markdown",
   "metadata": {},
   "source": [
    "Промежуточный вывод:\n",
    "\n",
    "- Всего 226709 строк и 5 столбцов. \n",
    "\n",
    "Типы данных по столбцам: \n",
    "\n",
    "- `id` — int64.\n",
    "- `first_name` — object. (есть пропуски)\n",
    "- `last_name` — object. (есть пропуски)\n",
    "- `company_id` — float64. (есть пропуски)\n",
    "- `network_username` — object. (есть пропуски)\n",
    "\n",
    "- Столбец `company_id` лучше будет привести к целочисленному типу данных.\n",
    "- Общий стиль названия столбцов соблюден."
   ]
  },
  {
   "cell_type": "code",
   "execution_count": 13,
   "metadata": {
    "scrolled": true
   },
   "outputs": [
    {
     "data": {
      "text/html": [
       "<div>\n",
       "<style scoped>\n",
       "    .dataframe tbody tr th:only-of-type {\n",
       "        vertical-align: middle;\n",
       "    }\n",
       "\n",
       "    .dataframe tbody tr th {\n",
       "        vertical-align: top;\n",
       "    }\n",
       "\n",
       "    .dataframe thead th {\n",
       "        text-align: right;\n",
       "    }\n",
       "</style>\n",
       "<table border=\"1\" class=\"dataframe\">\n",
       "  <thead>\n",
       "    <tr style=\"text-align: right;\">\n",
       "      <th></th>\n",
       "      <th>id</th>\n",
       "      <th>person_id</th>\n",
       "      <th>instituition</th>\n",
       "      <th>graduated_at</th>\n",
       "    </tr>\n",
       "  </thead>\n",
       "  <tbody>\n",
       "    <tr>\n",
       "      <th>0</th>\n",
       "      <td>1</td>\n",
       "      <td>6117</td>\n",
       "      <td>NaN</td>\n",
       "      <td>NaN</td>\n",
       "    </tr>\n",
       "    <tr>\n",
       "      <th>1</th>\n",
       "      <td>2</td>\n",
       "      <td>6136</td>\n",
       "      <td>Washington University, St. Louis</td>\n",
       "      <td>1990-01-01</td>\n",
       "    </tr>\n",
       "    <tr>\n",
       "      <th>2</th>\n",
       "      <td>3</td>\n",
       "      <td>6136</td>\n",
       "      <td>Boston University</td>\n",
       "      <td>1992-01-01</td>\n",
       "    </tr>\n",
       "    <tr>\n",
       "      <th>3</th>\n",
       "      <td>4</td>\n",
       "      <td>6005</td>\n",
       "      <td>University of Greenwich</td>\n",
       "      <td>2006-01-01</td>\n",
       "    </tr>\n",
       "    <tr>\n",
       "      <th>4</th>\n",
       "      <td>5</td>\n",
       "      <td>5832</td>\n",
       "      <td>Rice University</td>\n",
       "      <td>NaN</td>\n",
       "    </tr>\n",
       "  </tbody>\n",
       "</table>\n",
       "</div>"
      ],
      "text/plain": [
       "   id  person_id                      instituition graduated_at\n",
       "0   1       6117                               NaN          NaN\n",
       "1   2       6136  Washington University, St. Louis   1990-01-01\n",
       "2   3       6136                 Boston University   1992-01-01\n",
       "3   4       6005           University of Greenwich   2006-01-01\n",
       "4   5       5832                   Rice University          NaN"
      ]
     },
     "execution_count": 13,
     "metadata": {},
     "output_type": "execute_result"
    }
   ],
   "source": [
    "df_education.head()"
   ]
  },
  {
   "cell_type": "code",
   "execution_count": 14,
   "metadata": {},
   "outputs": [
    {
     "name": "stdout",
     "output_type": "stream",
     "text": [
      "<class 'pandas.core.frame.DataFrame'>\n",
      "RangeIndex: 109610 entries, 0 to 109609\n",
      "Data columns (total 4 columns):\n",
      " #   Column        Non-Null Count   Dtype \n",
      "---  ------        --------------   ----- \n",
      " 0   id            109610 non-null  int64 \n",
      " 1   person_id     109610 non-null  int64 \n",
      " 2   instituition  109555 non-null  object\n",
      " 3   graduated_at  58054 non-null   object\n",
      "dtypes: int64(2), object(2)\n",
      "memory usage: 3.3+ MB\n"
     ]
    }
   ],
   "source": [
    "df_education.info()"
   ]
  },
  {
   "cell_type": "markdown",
   "metadata": {},
   "source": [
    "Промежуточный вывод:\n",
    "\n",
    "- Всего 109610 строк и 4 столбцов. \n",
    "\n",
    "Типы данных по столбцам: \n",
    "\n",
    "- `id` — int64.\n",
    "- `person_id` — int64.\n",
    "- `instituition` — object. (есть пропуски)\n",
    "- `graduated_at` — onject. (есть пропуски)\n",
    "\n",
    "- Столбец `graduated_at` лучше будет привести к типу данных 'Дата'.\n",
    "- Общий стиль названия столбцов соблюден."
   ]
  },
  {
   "cell_type": "code",
   "execution_count": 15,
   "metadata": {
    "scrolled": false
   },
   "outputs": [
    {
     "data": {
      "text/html": [
       "<div>\n",
       "<style scoped>\n",
       "    .dataframe tbody tr th:only-of-type {\n",
       "        vertical-align: middle;\n",
       "    }\n",
       "\n",
       "    .dataframe tbody tr th {\n",
       "        vertical-align: top;\n",
       "    }\n",
       "\n",
       "    .dataframe thead th {\n",
       "        text-align: right;\n",
       "    }\n",
       "</style>\n",
       "<table border=\"1\" class=\"dataframe\">\n",
       "  <thead>\n",
       "    <tr style=\"text-align: right;\">\n",
       "      <th></th>\n",
       "      <th>id</th>\n",
       "      <th>object_id</th>\n",
       "      <th>degree_type</th>\n",
       "      <th>subject</th>\n",
       "    </tr>\n",
       "  </thead>\n",
       "  <tbody>\n",
       "    <tr>\n",
       "      <th>0</th>\n",
       "      <td>1</td>\n",
       "      <td>p:6117</td>\n",
       "      <td>MBA</td>\n",
       "      <td>NaN</td>\n",
       "    </tr>\n",
       "    <tr>\n",
       "      <th>1</th>\n",
       "      <td>2</td>\n",
       "      <td>p:6136</td>\n",
       "      <td>BA</td>\n",
       "      <td>English, French</td>\n",
       "    </tr>\n",
       "    <tr>\n",
       "      <th>2</th>\n",
       "      <td>3</td>\n",
       "      <td>p:6136</td>\n",
       "      <td>MS</td>\n",
       "      <td>Mass Communication</td>\n",
       "    </tr>\n",
       "    <tr>\n",
       "      <th>3</th>\n",
       "      <td>4</td>\n",
       "      <td>p:6005</td>\n",
       "      <td>MS</td>\n",
       "      <td>Internet Technology</td>\n",
       "    </tr>\n",
       "    <tr>\n",
       "      <th>4</th>\n",
       "      <td>5</td>\n",
       "      <td>p:5832</td>\n",
       "      <td>BCS</td>\n",
       "      <td>Computer Science, Psychology</td>\n",
       "    </tr>\n",
       "  </tbody>\n",
       "</table>\n",
       "</div>"
      ],
      "text/plain": [
       "   id object_id degree_type                       subject\n",
       "0   1    p:6117         MBA                           NaN\n",
       "1   2    p:6136          BA               English, French\n",
       "2   3    p:6136          MS            Mass Communication\n",
       "3   4    p:6005          MS           Internet Technology\n",
       "4   5    p:5832         BCS  Computer Science, Psychology"
      ]
     },
     "execution_count": 15,
     "metadata": {},
     "output_type": "execute_result"
    }
   ],
   "source": [
    "df_degrees.head()"
   ]
  },
  {
   "cell_type": "code",
   "execution_count": 16,
   "metadata": {},
   "outputs": [
    {
     "name": "stdout",
     "output_type": "stream",
     "text": [
      "<class 'pandas.core.frame.DataFrame'>\n",
      "RangeIndex: 109610 entries, 0 to 109609\n",
      "Data columns (total 4 columns):\n",
      " #   Column       Non-Null Count   Dtype \n",
      "---  ------       --------------   ----- \n",
      " 0   id           109610 non-null  int64 \n",
      " 1   object_id    109610 non-null  object\n",
      " 2   degree_type  98389 non-null   object\n",
      " 3   subject      81298 non-null   object\n",
      "dtypes: int64(1), object(3)\n",
      "memory usage: 3.3+ MB\n"
     ]
    }
   ],
   "source": [
    "df_degrees.info()"
   ]
  },
  {
   "cell_type": "markdown",
   "metadata": {},
   "source": [
    "Промежуточный вывод:\n",
    "\n",
    "- Всего 109610 строк и 4 столбцов. \n",
    "\n",
    "Типы данных по столбцам: \n",
    "\n",
    "- `id` — int64.\n",
    "- `object_id` — object.\n",
    "- `degree_type` — object. (есть пропуски)\n",
    "- `subject` — object. (есть пропуски)\n",
    "\n",
    "- Столбец `object_id` - внешний ключ к столбцу `id` таблицы `people` и к столбцу `person_id` таблицы `education`, но при этом записан он иначе, имеет символы 'p:' в начале. Чтобы в дальнейшем было удобно соединять таблицы, надо удалить эту часть 'p:' в идентификаторах. \n",
    "- Общий стиль названия столбцов соблюден."
   ]
  },
  {
   "cell_type": "markdown",
   "metadata": {
    "id": "mg2gEwh0rJg0"
   },
   "source": [
    "### 1.2. Смена типов и анализ пропусков\n",
    "\n",
    "- Преобразуем типы данных к более удобным форматам и изменим стиль названия столбцов, где необходимо. "
   ]
  },
  {
   "cell_type": "code",
   "execution_count": 17,
   "metadata": {
    "id": "FsL0A8RBrJg1"
   },
   "outputs": [
    {
     "ename": "ValueError",
     "evalue": "time data \"2007-05-30\" doesn't match format \"%Y/%m/%d\", at position 0. You might want to try:\n    - passing `format` if your strings have a consistent format;\n    - passing `format='ISO8601'` if your strings are all ISO8601 but not necessarily in exactly the same format;\n    - passing `format='mixed'`, and the format will be inferred for each element individually. You might want to use `dayfirst` alongside this.",
     "output_type": "error",
     "traceback": [
      "\u001b[31m---------------------------------------------------------------------------\u001b[39m",
      "\u001b[31mValueError\u001b[39m                                Traceback (most recent call last)",
      "\u001b[36mCell\u001b[39m\u001b[36m \u001b[39m\u001b[32mIn[17]\u001b[39m\u001b[32m, line 1\u001b[39m\n\u001b[32m----> \u001b[39m\u001b[32m1\u001b[39m df_acquisition[\u001b[33m'\u001b[39m\u001b[33macquired_at\u001b[39m\u001b[33m'\u001b[39m] = \u001b[43mpd\u001b[49m\u001b[43m.\u001b[49m\u001b[43mto_datetime\u001b[49m\u001b[43m(\u001b[49m\u001b[43mdf_acquisition\u001b[49m\u001b[43m[\u001b[49m\u001b[33;43m'\u001b[39;49m\u001b[33;43macquired_at\u001b[39;49m\u001b[33;43m'\u001b[39;49m\u001b[43m]\u001b[49m\u001b[43m,\u001b[49m\u001b[43m  \u001b[49m\u001b[38;5;28;43mformat\u001b[39;49m\u001b[43m=\u001b[49m\u001b[33;43m'\u001b[39;49m\u001b[33;43m%\u001b[39;49m\u001b[33;43mY/\u001b[39;49m\u001b[33;43m%\u001b[39;49m\u001b[33;43mm/\u001b[39;49m\u001b[38;5;132;43;01m%d\u001b[39;49;00m\u001b[33;43m'\u001b[39;49m\u001b[43m)\u001b[49m\n\u001b[32m      3\u001b[39m df_acquisition.info()\n",
      "\u001b[36mFile \u001b[39m\u001b[32m/Library/Frameworks/Python.framework/Versions/3.13/lib/python3.13/site-packages/pandas/core/tools/datetimes.py:1063\u001b[39m, in \u001b[36mto_datetime\u001b[39m\u001b[34m(arg, errors, dayfirst, yearfirst, utc, format, exact, unit, infer_datetime_format, origin, cache)\u001b[39m\n\u001b[32m   1061\u001b[39m             result = arg.tz_localize(\u001b[33m\"\u001b[39m\u001b[33mutc\u001b[39m\u001b[33m\"\u001b[39m)\n\u001b[32m   1062\u001b[39m \u001b[38;5;28;01melif\u001b[39;00m \u001b[38;5;28misinstance\u001b[39m(arg, ABCSeries):\n\u001b[32m-> \u001b[39m\u001b[32m1063\u001b[39m     cache_array = \u001b[43m_maybe_cache\u001b[49m\u001b[43m(\u001b[49m\u001b[43marg\u001b[49m\u001b[43m,\u001b[49m\u001b[43m \u001b[49m\u001b[38;5;28;43mformat\u001b[39;49m\u001b[43m,\u001b[49m\u001b[43m \u001b[49m\u001b[43mcache\u001b[49m\u001b[43m,\u001b[49m\u001b[43m \u001b[49m\u001b[43mconvert_listlike\u001b[49m\u001b[43m)\u001b[49m\n\u001b[32m   1064\u001b[39m     \u001b[38;5;28;01mif\u001b[39;00m \u001b[38;5;129;01mnot\u001b[39;00m cache_array.empty:\n\u001b[32m   1065\u001b[39m         result = arg.map(cache_array)\n",
      "\u001b[36mFile \u001b[39m\u001b[32m/Library/Frameworks/Python.framework/Versions/3.13/lib/python3.13/site-packages/pandas/core/tools/datetimes.py:247\u001b[39m, in \u001b[36m_maybe_cache\u001b[39m\u001b[34m(arg, format, cache, convert_listlike)\u001b[39m\n\u001b[32m    245\u001b[39m unique_dates = unique(arg)\n\u001b[32m    246\u001b[39m \u001b[38;5;28;01mif\u001b[39;00m \u001b[38;5;28mlen\u001b[39m(unique_dates) < \u001b[38;5;28mlen\u001b[39m(arg):\n\u001b[32m--> \u001b[39m\u001b[32m247\u001b[39m     cache_dates = \u001b[43mconvert_listlike\u001b[49m\u001b[43m(\u001b[49m\u001b[43munique_dates\u001b[49m\u001b[43m,\u001b[49m\u001b[43m \u001b[49m\u001b[38;5;28;43mformat\u001b[39;49m\u001b[43m)\u001b[49m\n\u001b[32m    248\u001b[39m     \u001b[38;5;66;03m# GH#45319\u001b[39;00m\n\u001b[32m    249\u001b[39m     \u001b[38;5;28;01mtry\u001b[39;00m:\n",
      "\u001b[36mFile \u001b[39m\u001b[32m/Library/Frameworks/Python.framework/Versions/3.13/lib/python3.13/site-packages/pandas/core/tools/datetimes.py:433\u001b[39m, in \u001b[36m_convert_listlike_datetimes\u001b[39m\u001b[34m(arg, format, name, utc, unit, errors, dayfirst, yearfirst, exact)\u001b[39m\n\u001b[32m    431\u001b[39m \u001b[38;5;66;03m# `format` could be inferred, or user didn't ask for mixed-format parsing.\u001b[39;00m\n\u001b[32m    432\u001b[39m \u001b[38;5;28;01mif\u001b[39;00m \u001b[38;5;28mformat\u001b[39m \u001b[38;5;129;01mis\u001b[39;00m \u001b[38;5;129;01mnot\u001b[39;00m \u001b[38;5;28;01mNone\u001b[39;00m \u001b[38;5;129;01mand\u001b[39;00m \u001b[38;5;28mformat\u001b[39m != \u001b[33m\"\u001b[39m\u001b[33mmixed\u001b[39m\u001b[33m\"\u001b[39m:\n\u001b[32m--> \u001b[39m\u001b[32m433\u001b[39m     \u001b[38;5;28;01mreturn\u001b[39;00m \u001b[43m_array_strptime_with_fallback\u001b[49m\u001b[43m(\u001b[49m\u001b[43marg\u001b[49m\u001b[43m,\u001b[49m\u001b[43m \u001b[49m\u001b[43mname\u001b[49m\u001b[43m,\u001b[49m\u001b[43m \u001b[49m\u001b[43mutc\u001b[49m\u001b[43m,\u001b[49m\u001b[43m \u001b[49m\u001b[38;5;28;43mformat\u001b[39;49m\u001b[43m,\u001b[49m\u001b[43m \u001b[49m\u001b[43mexact\u001b[49m\u001b[43m,\u001b[49m\u001b[43m \u001b[49m\u001b[43merrors\u001b[49m\u001b[43m)\u001b[49m\n\u001b[32m    435\u001b[39m result, tz_parsed = objects_to_datetime64(\n\u001b[32m    436\u001b[39m     arg,\n\u001b[32m    437\u001b[39m     dayfirst=dayfirst,\n\u001b[32m   (...)\u001b[39m\u001b[32m    441\u001b[39m     allow_object=\u001b[38;5;28;01mTrue\u001b[39;00m,\n\u001b[32m    442\u001b[39m )\n\u001b[32m    444\u001b[39m \u001b[38;5;28;01mif\u001b[39;00m tz_parsed \u001b[38;5;129;01mis\u001b[39;00m \u001b[38;5;129;01mnot\u001b[39;00m \u001b[38;5;28;01mNone\u001b[39;00m:\n\u001b[32m    445\u001b[39m     \u001b[38;5;66;03m# We can take a shortcut since the datetime64 numpy array\u001b[39;00m\n\u001b[32m    446\u001b[39m     \u001b[38;5;66;03m# is in UTC\u001b[39;00m\n",
      "\u001b[36mFile \u001b[39m\u001b[32m/Library/Frameworks/Python.framework/Versions/3.13/lib/python3.13/site-packages/pandas/core/tools/datetimes.py:467\u001b[39m, in \u001b[36m_array_strptime_with_fallback\u001b[39m\u001b[34m(arg, name, utc, fmt, exact, errors)\u001b[39m\n\u001b[32m    456\u001b[39m \u001b[38;5;28;01mdef\u001b[39;00m\u001b[38;5;250m \u001b[39m\u001b[34m_array_strptime_with_fallback\u001b[39m(\n\u001b[32m    457\u001b[39m     arg,\n\u001b[32m    458\u001b[39m     name,\n\u001b[32m   (...)\u001b[39m\u001b[32m    462\u001b[39m     errors: \u001b[38;5;28mstr\u001b[39m,\n\u001b[32m    463\u001b[39m ) -> Index:\n\u001b[32m    464\u001b[39m \u001b[38;5;250m    \u001b[39m\u001b[33;03m\"\"\"\u001b[39;00m\n\u001b[32m    465\u001b[39m \u001b[33;03m    Call array_strptime, with fallback behavior depending on 'errors'.\u001b[39;00m\n\u001b[32m    466\u001b[39m \u001b[33;03m    \"\"\"\u001b[39;00m\n\u001b[32m--> \u001b[39m\u001b[32m467\u001b[39m     result, tz_out = \u001b[43marray_strptime\u001b[49m\u001b[43m(\u001b[49m\u001b[43marg\u001b[49m\u001b[43m,\u001b[49m\u001b[43m \u001b[49m\u001b[43mfmt\u001b[49m\u001b[43m,\u001b[49m\u001b[43m \u001b[49m\u001b[43mexact\u001b[49m\u001b[43m=\u001b[49m\u001b[43mexact\u001b[49m\u001b[43m,\u001b[49m\u001b[43m \u001b[49m\u001b[43merrors\u001b[49m\u001b[43m=\u001b[49m\u001b[43merrors\u001b[49m\u001b[43m,\u001b[49m\u001b[43m \u001b[49m\u001b[43mutc\u001b[49m\u001b[43m=\u001b[49m\u001b[43mutc\u001b[49m\u001b[43m)\u001b[49m\n\u001b[32m    468\u001b[39m     \u001b[38;5;28;01mif\u001b[39;00m tz_out \u001b[38;5;129;01mis\u001b[39;00m \u001b[38;5;129;01mnot\u001b[39;00m \u001b[38;5;28;01mNone\u001b[39;00m:\n\u001b[32m    469\u001b[39m         unit = np.datetime_data(result.dtype)[\u001b[32m0\u001b[39m]\n",
      "\u001b[36mFile \u001b[39m\u001b[32mstrptime.pyx:501\u001b[39m, in \u001b[36mpandas._libs.tslibs.strptime.array_strptime\u001b[39m\u001b[34m()\u001b[39m\n",
      "\u001b[36mFile \u001b[39m\u001b[32mstrptime.pyx:451\u001b[39m, in \u001b[36mpandas._libs.tslibs.strptime.array_strptime\u001b[39m\u001b[34m()\u001b[39m\n",
      "\u001b[36mFile \u001b[39m\u001b[32mstrptime.pyx:583\u001b[39m, in \u001b[36mpandas._libs.tslibs.strptime._parse_with_format\u001b[39m\u001b[34m()\u001b[39m\n",
      "\u001b[31mValueError\u001b[39m: time data \"2007-05-30\" doesn't match format \"%Y/%m/%d\", at position 0. You might want to try:\n    - passing `format` if your strings have a consistent format;\n    - passing `format='ISO8601'` if your strings are all ISO8601 but not necessarily in exactly the same format;\n    - passing `format='mixed'`, and the format will be inferred for each element individually. You might want to use `dayfirst` alongside this."
     ]
    }
   ],
   "source": [
    "df_acquisition['acquired_at'] = pd.to_datetime(df_acquisition['acquired_at'],  format='%Y/%m/%d')\n",
    "                                               \n",
    "df_acquisition.info()"
   ]
  },
  {
   "cell_type": "code",
   "execution_count": null,
   "metadata": {
    "id": "46VskrGyFeJ-"
   },
   "outputs": [],
   "source": [
    "columns_snake_case = ['company_ID', 'name', 'category_code', 'status' , 'founded_at', 'closed_at',  'domain', \n",
    "'network_username', 'country_code', 'investment_rounds', 'funding_rounds', 'funding_total', 'milestones', \n",
    "'funding_round_id' ,'company_id','funded_at', 'funding_round_type', 'raised_amount', 'pre_money_valuation', \n",
    "'participants', 'is_first_round', 'is_last_round']\n",
    "\n",
    "df_company_and_rounds.columns = columns_snake_case "
   ]
  },
  {
   "cell_type": "code",
   "execution_count": null,
   "metadata": {
    "id": "DEg1tl8DFeBn",
    "scrolled": true
   },
   "outputs": [
    {
     "data": {
      "text/html": [
       "<div>\n",
       "<style scoped>\n",
       "    .dataframe tbody tr th:only-of-type {\n",
       "        vertical-align: middle;\n",
       "    }\n",
       "\n",
       "    .dataframe tbody tr th {\n",
       "        vertical-align: top;\n",
       "    }\n",
       "\n",
       "    .dataframe thead th {\n",
       "        text-align: right;\n",
       "    }\n",
       "</style>\n",
       "<table border=\"1\" class=\"dataframe\">\n",
       "  <thead>\n",
       "    <tr style=\"text-align: right;\">\n",
       "      <th></th>\n",
       "      <th>company_ID</th>\n",
       "      <th>name</th>\n",
       "      <th>category_code</th>\n",
       "      <th>status</th>\n",
       "      <th>founded_at</th>\n",
       "      <th>closed_at</th>\n",
       "      <th>domain</th>\n",
       "      <th>network_username</th>\n",
       "      <th>country_code</th>\n",
       "      <th>investment_rounds</th>\n",
       "      <th>...</th>\n",
       "      <th>milestones</th>\n",
       "      <th>funding_round_id</th>\n",
       "      <th>company_id</th>\n",
       "      <th>funded_at</th>\n",
       "      <th>funding_round_type</th>\n",
       "      <th>raised_amount</th>\n",
       "      <th>pre_money_valuation</th>\n",
       "      <th>participants</th>\n",
       "      <th>is_first_round</th>\n",
       "      <th>is_last_round</th>\n",
       "    </tr>\n",
       "  </thead>\n",
       "  <tbody>\n",
       "    <tr>\n",
       "      <th>0</th>\n",
       "      <td>1</td>\n",
       "      <td>Wetpaint</td>\n",
       "      <td>web</td>\n",
       "      <td>operating</td>\n",
       "      <td>2005-10-17</td>\n",
       "      <td>NaT</td>\n",
       "      <td>wetpaint-inc.com</td>\n",
       "      <td>BachelrWetpaint</td>\n",
       "      <td>USA</td>\n",
       "      <td>0.00</td>\n",
       "      <td>...</td>\n",
       "      <td>5.00</td>\n",
       "      <td>888</td>\n",
       "      <td>1</td>\n",
       "      <td>2005-10-01</td>\n",
       "      <td>series-a</td>\n",
       "      <td>5250000.00</td>\n",
       "      <td>0.00</td>\n",
       "      <td>2</td>\n",
       "      <td>0</td>\n",
       "      <td>1</td>\n",
       "    </tr>\n",
       "    <tr>\n",
       "      <th>1</th>\n",
       "      <td>1</td>\n",
       "      <td>Wetpaint</td>\n",
       "      <td>web</td>\n",
       "      <td>operating</td>\n",
       "      <td>2005-10-17</td>\n",
       "      <td>NaT</td>\n",
       "      <td>wetpaint-inc.com</td>\n",
       "      <td>BachelrWetpaint</td>\n",
       "      <td>USA</td>\n",
       "      <td>0.00</td>\n",
       "      <td>...</td>\n",
       "      <td>5.00</td>\n",
       "      <td>889</td>\n",
       "      <td>1</td>\n",
       "      <td>2007-01-01</td>\n",
       "      <td>series-b</td>\n",
       "      <td>9500000.00</td>\n",
       "      <td>0.00</td>\n",
       "      <td>3</td>\n",
       "      <td>0</td>\n",
       "      <td>0</td>\n",
       "    </tr>\n",
       "    <tr>\n",
       "      <th>2</th>\n",
       "      <td>1</td>\n",
       "      <td>Wetpaint</td>\n",
       "      <td>web</td>\n",
       "      <td>operating</td>\n",
       "      <td>2005-10-17</td>\n",
       "      <td>NaT</td>\n",
       "      <td>wetpaint-inc.com</td>\n",
       "      <td>BachelrWetpaint</td>\n",
       "      <td>USA</td>\n",
       "      <td>0.00</td>\n",
       "      <td>...</td>\n",
       "      <td>5.00</td>\n",
       "      <td>2312</td>\n",
       "      <td>1</td>\n",
       "      <td>2008-05-19</td>\n",
       "      <td>series-c+</td>\n",
       "      <td>25000000.00</td>\n",
       "      <td>0.00</td>\n",
       "      <td>4</td>\n",
       "      <td>1</td>\n",
       "      <td>0</td>\n",
       "    </tr>\n",
       "    <tr>\n",
       "      <th>3</th>\n",
       "      <td>10</td>\n",
       "      <td>Flektor</td>\n",
       "      <td>games_video</td>\n",
       "      <td>acquired</td>\n",
       "      <td>NaT</td>\n",
       "      <td>NaT</td>\n",
       "      <td>flektor.com</td>\n",
       "      <td>NaN</td>\n",
       "      <td>USA</td>\n",
       "      <td>0.00</td>\n",
       "      <td>...</td>\n",
       "      <td>0.00</td>\n",
       "      <td>&lt;NA&gt;</td>\n",
       "      <td>&lt;NA&gt;</td>\n",
       "      <td>NaT</td>\n",
       "      <td>NaN</td>\n",
       "      <td>NaN</td>\n",
       "      <td>NaN</td>\n",
       "      <td>&lt;NA&gt;</td>\n",
       "      <td>&lt;NA&gt;</td>\n",
       "      <td>&lt;NA&gt;</td>\n",
       "    </tr>\n",
       "    <tr>\n",
       "      <th>4</th>\n",
       "      <td>100</td>\n",
       "      <td>There</td>\n",
       "      <td>games_video</td>\n",
       "      <td>acquired</td>\n",
       "      <td>NaT</td>\n",
       "      <td>NaT</td>\n",
       "      <td>there.com</td>\n",
       "      <td>NaN</td>\n",
       "      <td>USA</td>\n",
       "      <td>0.00</td>\n",
       "      <td>...</td>\n",
       "      <td>4.00</td>\n",
       "      <td>&lt;NA&gt;</td>\n",
       "      <td>&lt;NA&gt;</td>\n",
       "      <td>NaT</td>\n",
       "      <td>NaN</td>\n",
       "      <td>NaN</td>\n",
       "      <td>NaN</td>\n",
       "      <td>&lt;NA&gt;</td>\n",
       "      <td>&lt;NA&gt;</td>\n",
       "      <td>&lt;NA&gt;</td>\n",
       "    </tr>\n",
       "  </tbody>\n",
       "</table>\n",
       "<p>5 rows × 22 columns</p>\n",
       "</div>"
      ],
      "text/plain": [
       "   company_ID      name category_code     status founded_at closed_at  \\\n",
       "0           1  Wetpaint           web  operating 2005-10-17       NaT   \n",
       "1           1  Wetpaint           web  operating 2005-10-17       NaT   \n",
       "2           1  Wetpaint           web  operating 2005-10-17       NaT   \n",
       "3          10   Flektor   games_video   acquired        NaT       NaT   \n",
       "4         100     There   games_video   acquired        NaT       NaT   \n",
       "\n",
       "             domain network_username country_code  investment_rounds  ...  \\\n",
       "0  wetpaint-inc.com  BachelrWetpaint          USA               0.00  ...   \n",
       "1  wetpaint-inc.com  BachelrWetpaint          USA               0.00  ...   \n",
       "2  wetpaint-inc.com  BachelrWetpaint          USA               0.00  ...   \n",
       "3       flektor.com              NaN          USA               0.00  ...   \n",
       "4         there.com              NaN          USA               0.00  ...   \n",
       "\n",
       "   milestones  funding_round_id  company_id  funded_at  funding_round_type  \\\n",
       "0        5.00               888           1 2005-10-01            series-a   \n",
       "1        5.00               889           1 2007-01-01            series-b   \n",
       "2        5.00              2312           1 2008-05-19           series-c+   \n",
       "3        0.00              <NA>        <NA>        NaT                 NaN   \n",
       "4        4.00              <NA>        <NA>        NaT                 NaN   \n",
       "\n",
       "  raised_amount pre_money_valuation  participants  is_first_round  \\\n",
       "0    5250000.00                0.00             2               0   \n",
       "1    9500000.00                0.00             3               0   \n",
       "2   25000000.00                0.00             4               1   \n",
       "3           NaN                 NaN          <NA>            <NA>   \n",
       "4           NaN                 NaN          <NA>            <NA>   \n",
       "\n",
       "   is_last_round  \n",
       "0              1  \n",
       "1              0  \n",
       "2              0  \n",
       "3           <NA>  \n",
       "4           <NA>  \n",
       "\n",
       "[5 rows x 22 columns]"
      ]
     },
     "execution_count": 79,
     "metadata": {},
     "output_type": "execute_result"
    }
   ],
   "source": [
    "df_company_and_rounds['founded_at'] = pd.to_datetime(df_company_and_rounds['founded_at'], format='%Y/%m/%d')\n",
    "df_company_and_rounds['funded_at'] = pd.to_datetime(df_company_and_rounds['funded_at'], format='%Y/%m/%d')\n",
    "df_company_and_rounds['closed_at'] = pd.to_datetime(df_company_and_rounds['closed_at'], format='%Y/%m/%d')\n",
    "\n",
    "for column in ['funding_round_id', 'company_ID', 'company_id', 'participants', 'is_first_round', 'is_last_round']:\n",
    "    df_company_and_rounds[column] = df_company_and_rounds[column].astype('Int32')   \n",
    "    \n",
    "df_company_and_rounds.head()"
   ]
  },
  {
   "cell_type": "code",
   "execution_count": null,
   "metadata": {},
   "outputs": [
    {
     "name": "stdout",
     "output_type": "stream",
     "text": [
      "<class 'pandas.core.frame.DataFrame'>\n",
      "RangeIndex: 217774 entries, 0 to 217773\n",
      "Data columns (total 22 columns):\n",
      " #   Column               Non-Null Count   Dtype         \n",
      "---  ------               --------------   -----         \n",
      " 0   company_ID           217472 non-null  Int32         \n",
      " 1   name                 217472 non-null  object        \n",
      " 2   category_code        143886 non-null  object        \n",
      " 3   status               217472 non-null  object        \n",
      " 4   founded_at           109956 non-null  datetime64[ns]\n",
      " 5   closed_at            3449 non-null    datetime64[ns]\n",
      " 6   domain               147159 non-null  object        \n",
      " 7   network_username     95534 non-null   object        \n",
      " 8   country_code         108607 non-null  object        \n",
      " 9   investment_rounds    217472 non-null  float64       \n",
      " 10  funding_rounds       217472 non-null  float64       \n",
      " 11  funding_total        217472 non-null  float64       \n",
      " 12  milestones           217472 non-null  float64       \n",
      " 13  funding_round_id     52928 non-null   Int32         \n",
      " 14  company_id           52928 non-null   Int32         \n",
      " 15  funded_at            52680 non-null   datetime64[ns]\n",
      " 16  funding_round_type   52928 non-null   object        \n",
      " 17  raised_amount        52928 non-null   float64       \n",
      " 18  pre_money_valuation  52928 non-null   float64       \n",
      " 19  participants         52928 non-null   Int32         \n",
      " 20  is_first_round       52928 non-null   Int32         \n",
      " 21  is_last_round        52928 non-null   Int32         \n",
      "dtypes: Int32(6), datetime64[ns](3), float64(6), object(7)\n",
      "memory usage: 32.8+ MB\n"
     ]
    }
   ],
   "source": [
    "df_company_and_rounds.info()"
   ]
  },
  {
   "cell_type": "code",
   "execution_count": null,
   "metadata": {},
   "outputs": [
    {
     "name": "stdout",
     "output_type": "stream",
     "text": [
      "<class 'pandas.core.frame.DataFrame'>\n",
      "RangeIndex: 226709 entries, 0 to 226708\n",
      "Data columns (total 5 columns):\n",
      " #   Column            Non-Null Count   Dtype \n",
      "---  ------            --------------   ----- \n",
      " 0   id                226709 non-null  int64 \n",
      " 1   first_name        226704 non-null  object\n",
      " 2   last_name         226708 non-null  object\n",
      " 3   company_id        34615 non-null   Int32 \n",
      " 4   network_username  38867 non-null   object\n",
      "dtypes: Int32(1), int64(1), object(3)\n",
      "memory usage: 8.0+ MB\n"
     ]
    }
   ],
   "source": [
    "df_people['company_id'] = df_people['company_id'].astype('Int32')\n",
    "\n",
    "df_people.info()"
   ]
  },
  {
   "cell_type": "code",
   "execution_count": null,
   "metadata": {},
   "outputs": [
    {
     "name": "stdout",
     "output_type": "stream",
     "text": [
      "<class 'pandas.core.frame.DataFrame'>\n",
      "RangeIndex: 109610 entries, 0 to 109609\n",
      "Data columns (total 4 columns):\n",
      " #   Column        Non-Null Count   Dtype         \n",
      "---  ------        --------------   -----         \n",
      " 0   id            109610 non-null  int64         \n",
      " 1   person_id     109610 non-null  int64         \n",
      " 2   instituition  109555 non-null  object        \n",
      " 3   graduated_at  58054 non-null   datetime64[ns]\n",
      "dtypes: datetime64[ns](1), int64(2), object(1)\n",
      "memory usage: 3.3+ MB\n"
     ]
    }
   ],
   "source": [
    "df_education['graduated_at'] = pd.to_datetime(df_education['graduated_at'], format='%Y/%m/%d')\n",
    "\n",
    "df_education.info()"
   ]
  },
  {
   "cell_type": "code",
   "execution_count": null,
   "metadata": {},
   "outputs": [
    {
     "data": {
      "text/html": [
       "<div>\n",
       "<style scoped>\n",
       "    .dataframe tbody tr th:only-of-type {\n",
       "        vertical-align: middle;\n",
       "    }\n",
       "\n",
       "    .dataframe tbody tr th {\n",
       "        vertical-align: top;\n",
       "    }\n",
       "\n",
       "    .dataframe thead th {\n",
       "        text-align: right;\n",
       "    }\n",
       "</style>\n",
       "<table border=\"1\" class=\"dataframe\">\n",
       "  <thead>\n",
       "    <tr style=\"text-align: right;\">\n",
       "      <th></th>\n",
       "      <th>id</th>\n",
       "      <th>object_id</th>\n",
       "      <th>degree_type</th>\n",
       "      <th>subject</th>\n",
       "    </tr>\n",
       "  </thead>\n",
       "  <tbody>\n",
       "    <tr>\n",
       "      <th>0</th>\n",
       "      <td>1</td>\n",
       "      <td>6117</td>\n",
       "      <td>MBA</td>\n",
       "      <td>NaN</td>\n",
       "    </tr>\n",
       "    <tr>\n",
       "      <th>1</th>\n",
       "      <td>2</td>\n",
       "      <td>6136</td>\n",
       "      <td>BA</td>\n",
       "      <td>English, French</td>\n",
       "    </tr>\n",
       "    <tr>\n",
       "      <th>2</th>\n",
       "      <td>3</td>\n",
       "      <td>6136</td>\n",
       "      <td>MS</td>\n",
       "      <td>Mass Communication</td>\n",
       "    </tr>\n",
       "    <tr>\n",
       "      <th>3</th>\n",
       "      <td>4</td>\n",
       "      <td>6005</td>\n",
       "      <td>MS</td>\n",
       "      <td>Internet Technology</td>\n",
       "    </tr>\n",
       "    <tr>\n",
       "      <th>4</th>\n",
       "      <td>5</td>\n",
       "      <td>5832</td>\n",
       "      <td>BCS</td>\n",
       "      <td>Computer Science, Psychology</td>\n",
       "    </tr>\n",
       "  </tbody>\n",
       "</table>\n",
       "</div>"
      ],
      "text/plain": [
       "   id object_id degree_type                       subject\n",
       "0   1      6117         MBA                           NaN\n",
       "1   2      6136          BA               English, French\n",
       "2   3      6136          MS            Mass Communication\n",
       "3   4      6005          MS           Internet Technology\n",
       "4   5      5832         BCS  Computer Science, Psychology"
      ]
     },
     "execution_count": 83,
     "metadata": {},
     "output_type": "execute_result"
    }
   ],
   "source": [
    "df_degrees['object_id'] = df_degrees['object_id'].str.replace('p:', '')\n",
    "\n",
    "df_degrees.head()"
   ]
  },
  {
   "cell_type": "markdown",
   "metadata": {},
   "source": [
    "Промежуточные выводы:\n",
    "- В таблице `acquisition` в столбце `acquired_at` был преобразован тип данных к `datetime[ns]`. \n",
    "- В таблице `company_and_rounds` в названиях столбцов заменили пропуски на нижнему подчеркиванию, тем самым привели все названия во всех таблицах к единому стилю.\n",
    "- В таблице `company_and_rounds` в столбцах `founded_at` и `funded_at` были преобразованы типы данных к `datetime[ns]`. \n",
    "- В таблице `company_and_rounds` в столбцах `funding_round_id`, `company_ID`, `company_id`, `participants`, `is_first_round`, `is_last_round` были преобразованы типы данных к `Int32`. Такой тип данных позволяет сохранить пропуски в столбцах. \n",
    "- В таблице `people` в столбце `company_id` был преобразован тип данных к `Int32`. Такой тип данных позволяет сохранить пропуски в столбцах. \n",
    "- В таблице `education` в столбце `graduated_at` был преобразован тип данных к `datetime[ns]`. \n",
    "- <a id='dgr'></a> В таблице `degrees` в столбце `object_id` был удален элемент \"p:\" из всех строк, так как `object_id` - внешний ключ к столбцу `id` таблицы `people` и к столбцу `person_id` таблицы `education`, но при этом записан он иначе, имеет символы 'p:' в начале, когда остальные столбцы не имеют. Мы привели все три столбца к единому стилю. "
   ]
  },
  {
   "cell_type": "markdown",
   "metadata": {},
   "source": [
    "Далее изучим пропуски в каждой таблице. "
   ]
  },
  {
   "cell_type": "code",
   "execution_count": null,
   "metadata": {},
   "outputs": [
    {
     "data": {
      "text/plain": [
       "id                         0\n",
       "acquiring_company_id       0\n",
       "acquired_company_id        0\n",
       "term_code               7576\n",
       "price_amount               0\n",
       "acquired_at               29\n",
       "dtype: int64"
      ]
     },
     "execution_count": 84,
     "metadata": {},
     "output_type": "execute_result"
    }
   ],
   "source": [
    "df_acquisition.isna().sum()"
   ]
  },
  {
   "cell_type": "code",
   "execution_count": null,
   "metadata": {},
   "outputs": [
    {
     "data": {
      "text/plain": [
       "id                     0.00\n",
       "acquiring_company_id   0.00\n",
       "acquired_company_id    0.00\n",
       "term_code              0.81\n",
       "price_amount           0.00\n",
       "acquired_at            0.00\n",
       "dtype: float64"
      ]
     },
     "execution_count": 85,
     "metadata": {},
     "output_type": "execute_result"
    }
   ],
   "source": [
    "(df_acquisition.isna().sum()) / len(df_acquisition)"
   ]
  },
  {
   "cell_type": "markdown",
   "metadata": {},
   "source": [
    "Промежуточный вывод:\n",
    "\n",
    "- Пропуски есть в столбцах (число - доля): `term_code`(7576 - 0.81), `acquired_at`(29 - 0.003). В данных столбцах возможны пропуски, возможно пока не сделаны предварительные расчеты и не назначена дата сделки. "
   ]
  },
  {
   "cell_type": "code",
   "execution_count": null,
   "metadata": {},
   "outputs": [
    {
     "data": {
      "text/plain": [
       "company_ID                302\n",
       "name                      302\n",
       "category_code           73888\n",
       "status                    302\n",
       "founded_at             107818\n",
       "closed_at              214325\n",
       "domain                  70615\n",
       "network_username       122240\n",
       "country_code           109167\n",
       "investment_rounds         302\n",
       "funding_rounds            302\n",
       "funding_total             302\n",
       "milestones                302\n",
       "funding_round_id       164846\n",
       "company_id             164846\n",
       "funded_at              165094\n",
       "funding_round_type     164846\n",
       "raised_amount          164846\n",
       "pre_money_valuation    164846\n",
       "participants           164846\n",
       "is_first_round         164846\n",
       "is_last_round          164846\n",
       "dtype: int64"
      ]
     },
     "execution_count": 86,
     "metadata": {},
     "output_type": "execute_result"
    }
   ],
   "source": [
    "df_company_and_rounds.isna().sum()"
   ]
  },
  {
   "cell_type": "code",
   "execution_count": null,
   "metadata": {},
   "outputs": [
    {
     "data": {
      "text/plain": [
       "company_ID            0.00\n",
       "name                  0.00\n",
       "category_code         0.34\n",
       "status                0.00\n",
       "founded_at            0.50\n",
       "closed_at             0.98\n",
       "domain                0.32\n",
       "network_username      0.56\n",
       "country_code          0.50\n",
       "investment_rounds     0.00\n",
       "funding_rounds        0.00\n",
       "funding_total         0.00\n",
       "milestones            0.00\n",
       "funding_round_id      0.76\n",
       "company_id            0.76\n",
       "funded_at             0.76\n",
       "funding_round_type    0.76\n",
       "raised_amount         0.76\n",
       "pre_money_valuation   0.76\n",
       "participants          0.76\n",
       "is_first_round        0.76\n",
       "is_last_round         0.76\n",
       "dtype: float64"
      ]
     },
     "execution_count": 87,
     "metadata": {},
     "output_type": "execute_result"
    }
   ],
   "source": [
    "(df_company_and_rounds.isna().sum())/ len(df_company_and_rounds)"
   ]
  },
  {
   "cell_type": "markdown",
   "metadata": {},
   "source": [
    "Промежуточныый вывод: \n",
    "\n",
    "- Пропуски есть во всех столбцах, далее будут перечислены столбца, у которых доля пропусков составляет >= 0.5: `closed_at` (0.98), `network_username` (0.56), `country_code` (0.5), `funding_round_id` (0.76), `company_id` (0.76), `funded_at` (0.76), `funding_round_type` (0.76), `raised_amount` (0.76), `pre_money_valuation` (0.76), `participants` (0.76), `is_first_round` (0.76), `is_last_round` (0.76). \n",
    "- Такое большое количество пропусков может стать проблемой в будущем при ответе на определенные вопросы заказчика. "
   ]
  },
  {
   "cell_type": "code",
   "execution_count": null,
   "metadata": {},
   "outputs": [
    {
     "data": {
      "text/plain": [
       "id                       0\n",
       "first_name               5\n",
       "last_name                1\n",
       "company_id          192094\n",
       "network_username    187842\n",
       "dtype: int64"
      ]
     },
     "execution_count": 89,
     "metadata": {},
     "output_type": "execute_result"
    }
   ],
   "source": [
    "df_people.isna().sum()"
   ]
  },
  {
   "cell_type": "code",
   "execution_count": null,
   "metadata": {},
   "outputs": [
    {
     "data": {
      "text/plain": [
       "id                 0.00\n",
       "first_name         0.00\n",
       "last_name          0.00\n",
       "company_id         0.85\n",
       "network_username   0.83\n",
       "dtype: float64"
      ]
     },
     "execution_count": 90,
     "metadata": {},
     "output_type": "execute_result"
    }
   ],
   "source": [
    "(df_people.isna().sum())/ len(df_people)"
   ]
  },
  {
   "cell_type": "markdown",
   "metadata": {},
   "source": [
    "Промежуточный вывод:\n",
    "\n",
    "- Пропуски есть в столбцах (число - доля): `first_name` (5 - 0.000022), `last_name`(1 - 0.000004), `company_id`(0.85), `network_username`(0.83). Странно, что пропуски есть в первых двух столбцах, там их быть не должно, но они составляют совсем незначительную часть от всех данных. В остальных столбцах пропуски - норма. \n",
    "- Удалим пропуски из столбцов `first_name` и `last_name`, так как их доля настолько незначительна, что их отсутвие не повлдияет на дальнейший анализ, лишь облегчит нашу работу. "
   ]
  },
  {
   "cell_type": "code",
   "execution_count": null,
   "metadata": {},
   "outputs": [
    {
     "data": {
      "text/plain": [
       "id                       0\n",
       "first_name               0\n",
       "last_name                0\n",
       "company_id          192090\n",
       "network_username    187837\n",
       "dtype: int64"
      ]
     },
     "metadata": {},
     "output_type": "display_data"
    },
    {
     "name": "stdout",
     "output_type": "stream",
     "text": [
      "<class 'pandas.core.frame.DataFrame'>\n",
      "Int64Index: 226704 entries, 0 to 226708\n",
      "Data columns (total 5 columns):\n",
      " #   Column            Non-Null Count   Dtype \n",
      "---  ------            --------------   ----- \n",
      " 0   id                226704 non-null  int64 \n",
      " 1   first_name        226704 non-null  object\n",
      " 2   last_name         226704 non-null  object\n",
      " 3   company_id        34614 non-null   Int32 \n",
      " 4   network_username  38867 non-null   object\n",
      "dtypes: Int32(1), int64(1), object(3)\n",
      "memory usage: 9.7+ MB\n"
     ]
    },
    {
     "data": {
      "text/plain": [
       "None"
      ]
     },
     "metadata": {},
     "output_type": "display_data"
    }
   ],
   "source": [
    "df_people = df_people.dropna(subset= ['first_name'])\n",
    "df_people = df_people.dropna(subset= ['last_name'])\n",
    "\n",
    "display(df_people.isna().sum())\n",
    "display(df_people.info())"
   ]
  },
  {
   "cell_type": "markdown",
   "metadata": {},
   "source": [
    "- Соответсвенно, общее число строк уменьшилось на 5 и стало равно 226704."
   ]
  },
  {
   "cell_type": "code",
   "execution_count": null,
   "metadata": {},
   "outputs": [
    {
     "data": {
      "text/plain": [
       "id                  0\n",
       "person_id           0\n",
       "instituition       55\n",
       "graduated_at    51556\n",
       "dtype: int64"
      ]
     },
     "execution_count": 92,
     "metadata": {},
     "output_type": "execute_result"
    }
   ],
   "source": [
    "df_education.isna().sum()"
   ]
  },
  {
   "cell_type": "code",
   "execution_count": null,
   "metadata": {},
   "outputs": [
    {
     "data": {
      "text/plain": [
       "id             0.00\n",
       "person_id      0.00\n",
       "instituition   0.00\n",
       "graduated_at   0.47\n",
       "dtype: float64"
      ]
     },
     "execution_count": 93,
     "metadata": {},
     "output_type": "execute_result"
    }
   ],
   "source": [
    "(df_education.isna().sum())/ len(df_education)"
   ]
  },
  {
   "cell_type": "markdown",
   "metadata": {},
   "source": [
    "Промежуточный вывод:\n",
    "\n",
    "- Пропуски есть в столбцах (число - доля): `instituition` (55 - 0.000502), `graduated_at`(51556 - 0.470359). Пропуски - в рамках нормы,  у некоторых сотрудников может не быть образования. "
   ]
  },
  {
   "cell_type": "code",
   "execution_count": null,
   "metadata": {},
   "outputs": [
    {
     "data": {
      "text/plain": [
       "id                 0\n",
       "object_id          0\n",
       "degree_type    11218\n",
       "subject        28312\n",
       "dtype: int64"
      ]
     },
     "execution_count": 94,
     "metadata": {},
     "output_type": "execute_result"
    }
   ],
   "source": [
    "df_degrees.isna().sum()"
   ]
  },
  {
   "cell_type": "code",
   "execution_count": null,
   "metadata": {},
   "outputs": [
    {
     "data": {
      "text/plain": [
       "id            0.00\n",
       "object_id     0.00\n",
       "degree_type   0.10\n",
       "subject       0.26\n",
       "dtype: float64"
      ]
     },
     "execution_count": 95,
     "metadata": {},
     "output_type": "execute_result"
    }
   ],
   "source": [
    "(df_degrees.isna().sum())/ len(df_degrees)"
   ]
  },
  {
   "cell_type": "markdown",
   "metadata": {},
   "source": [
    "Промежуточный вывод:\n",
    "\n",
    "- Пропуски есть в столбцах (число - доля): `degree_type` (11218 - 0.102345), `subject`(28312 - 0.258298). Вероятно пропускив данных столбцах у тех сотрудников, у которых вообще нет образования, либо это техническая ошибка. "
   ]
  },
  {
   "cell_type": "markdown",
   "metadata": {},
   "source": [
    "Общий промежуточный вывод по анализу пропусков:\n",
    "\n",
    "- Был изучен каждый датасет и его коливество пропусков. Так или иначе в каждом датасете есть пропуски. Это говорит о том, что при их присоединении практически в любом случае для анализа будет доступна только часть информации. \n",
    "- Большая часть пропусков содержится в таблице `company_and_rounds`, это может стать проблемой при дальнейшем ответе на вопросы заказчика. \n",
    "- Были удалены пропуски из столбцов `first_name` и `last_name` (таблица `people`), так как их доля настолько незначительна, что их отсутвие не повлдияет на дальнейший анализ, лишь облегчит нашу работу. \n",
    "- Остальные пропуски удалять или заменять не будем, чтобы не исказить данные. На данном этапе пока не до конца понятно, как работа с пропусками отразится на дальнейшем анализе. При необходимости, мы вернемся к данному шагу и заменим или удалим пропуски позже. "
   ]
  },
  {
   "cell_type": "markdown",
   "metadata": {
    "id": "u60cHsn6rJg1"
   },
   "source": [
    "## Шаг 2. Предобработка данных, предварительное исследование"
   ]
  },
  {
   "cell_type": "markdown",
   "metadata": {
    "id": "g2bHIIjcrJg1"
   },
   "source": [
    "\n",
    "### 2.1. Раунды финансирования по годам\n",
    "\n",
    "Необходимо составить сводную таблицу по годам, в которой на основании столбца raised_amount для каждого года указан:\n",
    "- типичный размер средств, выделяемый в рамках одного раунда;\n",
    "- общее количество раундов финансирования за этот год.\n",
    "Оставим в таблице информацию только для тех лет, для которых есть информация о более чем 50 раундах финансирования.\n",
    "На основе получившейся таблицы построим график, который будет отражать динамику типичного размера средств, которые стартапы получали в рамках одного раунда финансирования. В конце отыетим на вопросы заказчика. \n"
   ]
  },
  {
   "cell_type": "code",
   "execution_count": null,
   "metadata": {
    "id": "Cf5IjfOQrJg1"
   },
   "outputs": [
    {
     "data": {
      "text/html": [
       "<div>\n",
       "<style scoped>\n",
       "    .dataframe tbody tr th:only-of-type {\n",
       "        vertical-align: middle;\n",
       "    }\n",
       "\n",
       "    .dataframe tbody tr th {\n",
       "        vertical-align: top;\n",
       "    }\n",
       "\n",
       "    .dataframe thead th {\n",
       "        text-align: right;\n",
       "    }\n",
       "</style>\n",
       "<table border=\"1\" class=\"dataframe\">\n",
       "  <thead>\n",
       "    <tr style=\"text-align: right;\">\n",
       "      <th></th>\n",
       "      <th>funding_rounds</th>\n",
       "      <th>raised_amount</th>\n",
       "    </tr>\n",
       "    <tr>\n",
       "      <th>year</th>\n",
       "      <th></th>\n",
       "      <th></th>\n",
       "    </tr>\n",
       "  </thead>\n",
       "  <tbody>\n",
       "    <tr>\n",
       "      <th>2012.00</th>\n",
       "      <td>24549.00</td>\n",
       "      <td>1000000.00</td>\n",
       "    </tr>\n",
       "    <tr>\n",
       "      <th>2013.00</th>\n",
       "      <td>23978.00</td>\n",
       "      <td>1200000.00</td>\n",
       "    </tr>\n",
       "    <tr>\n",
       "      <th>2011.00</th>\n",
       "      <td>23503.00</td>\n",
       "      <td>1200000.00</td>\n",
       "    </tr>\n",
       "    <tr>\n",
       "      <th>2010.00</th>\n",
       "      <td>16913.00</td>\n",
       "      <td>1602500.00</td>\n",
       "    </tr>\n",
       "    <tr>\n",
       "      <th>2009.00</th>\n",
       "      <td>11857.00</td>\n",
       "      <td>2000000.00</td>\n",
       "    </tr>\n",
       "    <tr>\n",
       "      <th>2008.00</th>\n",
       "      <td>9931.00</td>\n",
       "      <td>3110000.00</td>\n",
       "    </tr>\n",
       "    <tr>\n",
       "      <th>2007.00</th>\n",
       "      <td>8494.00</td>\n",
       "      <td>3973320.00</td>\n",
       "    </tr>\n",
       "    <tr>\n",
       "      <th>2006.00</th>\n",
       "      <td>6295.00</td>\n",
       "      <td>5000000.00</td>\n",
       "    </tr>\n",
       "    <tr>\n",
       "      <th>2005.00</th>\n",
       "      <td>4157.00</td>\n",
       "      <td>5500000.00</td>\n",
       "    </tr>\n",
       "    <tr>\n",
       "      <th>2004.00</th>\n",
       "      <td>1057.00</td>\n",
       "      <td>5000000.00</td>\n",
       "    </tr>\n",
       "    <tr>\n",
       "      <th>2003.00</th>\n",
       "      <td>569.00</td>\n",
       "      <td>3000000.00</td>\n",
       "    </tr>\n",
       "    <tr>\n",
       "      <th>2000.00</th>\n",
       "      <td>403.00</td>\n",
       "      <td>4200000.00</td>\n",
       "    </tr>\n",
       "    <tr>\n",
       "      <th>2002.00</th>\n",
       "      <td>385.00</td>\n",
       "      <td>4200000.00</td>\n",
       "    </tr>\n",
       "    <tr>\n",
       "      <th>2001.00</th>\n",
       "      <td>302.00</td>\n",
       "      <td>3000000.00</td>\n",
       "    </tr>\n",
       "    <tr>\n",
       "      <th>1999.00</th>\n",
       "      <td>268.00</td>\n",
       "      <td>2000000.00</td>\n",
       "    </tr>\n",
       "    <tr>\n",
       "      <th>1998.00</th>\n",
       "      <td>72.00</td>\n",
       "      <td>100000.00</td>\n",
       "    </tr>\n",
       "  </tbody>\n",
       "</table>\n",
       "</div>"
      ],
      "text/plain": [
       "         funding_rounds  raised_amount\n",
       "year                                  \n",
       "2012.00        24549.00     1000000.00\n",
       "2013.00        23978.00     1200000.00\n",
       "2011.00        23503.00     1200000.00\n",
       "2010.00        16913.00     1602500.00\n",
       "2009.00        11857.00     2000000.00\n",
       "2008.00         9931.00     3110000.00\n",
       "2007.00         8494.00     3973320.00\n",
       "2006.00         6295.00     5000000.00\n",
       "2005.00         4157.00     5500000.00\n",
       "2004.00         1057.00     5000000.00\n",
       "2003.00          569.00     3000000.00\n",
       "2000.00          403.00     4200000.00\n",
       "2002.00          385.00     4200000.00\n",
       "2001.00          302.00     3000000.00\n",
       "1999.00          268.00     2000000.00\n",
       "1998.00           72.00      100000.00"
      ]
     },
     "metadata": {},
     "output_type": "display_data"
    }
   ],
   "source": [
    "df_company_and_rounds['year'] = df_company_and_rounds['funded_at'].dt.year\n",
    "\n",
    "pivot_company_and_rounds = pd.pivot_table(df_company_and_rounds,\n",
    "                             index=\"year\",\n",
    "                             values= ['raised_amount', 'funding_rounds'],\n",
    "                             aggfunc=({'raised_amount': 'median', 'funding_rounds': 'sum'}))\n",
    "\n",
    "\n",
    "pivot_company_and_rounds_loc = pivot_company_and_rounds.loc[pivot_company_and_rounds['funding_rounds']>50]\n",
    "\n",
    "\n",
    "display(pivot_company_and_rounds_loc.sort_values(by = 'funding_rounds', ascending = False))\n"
   ]
  },
  {
   "cell_type": "markdown",
   "metadata": {},
   "source": [
    "- Больше всего раундов было в 2012 году (24549.0). Меньше всего -  в 1998 (72.0). "
   ]
  },
  {
   "cell_type": "code",
   "execution_count": null,
   "metadata": {
    "id": "8Fbz6KmzFdYP"
   },
   "outputs": [
    {
     "data": {
      "image/png": "[encoded data removed]",
      "text/plain": [
       "<Figure size 864x432 with 1 Axes>"
      ]
     },
     "metadata": {
      "needs_background": "light"
     },
     "output_type": "display_data"
    }
   ],
   "source": [
    "pivot_to_plot = pivot_company_and_rounds_loc\n",
    "\n",
    "plt.figure(figsize=(12,6))\n",
    "plt.plot(\n",
    "    pivot_to_plot.index, \n",
    "    pivot_to_plot['raised_amount'], \n",
    "    marker='o', \n",
    "    linestyle='-',\n",
    "    label='Медианный размер финансирования за раунд'\n",
    ")\n",
    "plt.title('Динамика типичного размера средств по годам')\n",
    "plt.xlabel('Год')\n",
    "plt.ylabel('Типичный размер средств (е6 = млн $)')\n",
    "plt.grid(True)\n",
    "plt.legend()\n",
    "plt.show()\n"
   ]
  },
  {
   "cell_type": "markdown",
   "metadata": {
    "id": "Z92DzKMMFdKW"
   },
   "source": [
    "В каком году типичный размер собранных в рамках одного раунда средств был максимален?\n",
    "\n",
    "- В 2005 году типичный замер собранных средств в рамках одного раунда был максимален (5500000.0). \n",
    "\n",
    "Какая тенденция по количеству раундов и выделяемых в рамках каждого раунда средств наблюдалась в 2013 году?\n",
    "\n",
    "- Анализируя график, можно выделить его пик в 2005 году,после которого график пошел на спад, но с 2012 по 2013 год он начал рости и точка графика 2013 года выше точки графика 2012 года. По сравнению с 2012 годом в 2013 количество раундов уменьшилось,  а количество выделяемых средств увеличилиось. "
   ]
  },
  {
   "cell_type": "markdown",
   "metadata": {
    "id": "45if1en1rJg2"
   },
   "source": [
    "\n",
    "### 2.2. Люди и их образование\n",
    "\n",
    "Заказчик хочет понять, зависит ли полнота сведений о сотрудниках (например, об их образовании) от размера компаний.\n",
    "\n",
    "- Оценим насколько информация об образовании сотрудников полна. Используя датасеты `people.csv` и `education.csv`, разделим все компании на несколько групп по количеству сотрудников и оценим среднюю долю сотрудников без информации об образовании в каждой из групп. \n",
    "- Оценим, возможно ли для выполнения задания присоединить к этим таблицам ещё и таблицу `degrees.csv`."
   ]
  },
  {
   "cell_type": "code",
   "execution_count": null,
   "metadata": {
    "id": "psPO7C4MrJg2"
   },
   "outputs": [
    {
     "data": {
      "text/html": [
       "<div>\n",
       "<style scoped>\n",
       "    .dataframe tbody tr th:only-of-type {\n",
       "        vertical-align: middle;\n",
       "    }\n",
       "\n",
       "    .dataframe tbody tr th {\n",
       "        vertical-align: top;\n",
       "    }\n",
       "\n",
       "    .dataframe thead th {\n",
       "        text-align: right;\n",
       "    }\n",
       "</style>\n",
       "<table border=\"1\" class=\"dataframe\">\n",
       "  <thead>\n",
       "    <tr style=\"text-align: right;\">\n",
       "      <th></th>\n",
       "      <th>person_id</th>\n",
       "      <th>first_name</th>\n",
       "      <th>last_name</th>\n",
       "      <th>company_id</th>\n",
       "      <th>network_username</th>\n",
       "      <th>id</th>\n",
       "      <th>instituition</th>\n",
       "      <th>graduated_at</th>\n",
       "    </tr>\n",
       "  </thead>\n",
       "  <tbody>\n",
       "    <tr>\n",
       "      <th>0</th>\n",
       "      <td>10</td>\n",
       "      <td>Mark</td>\n",
       "      <td>Zuckerberg</td>\n",
       "      <td>5</td>\n",
       "      <td>NaN</td>\n",
       "      <td>2415.00</td>\n",
       "      <td>Harvard University</td>\n",
       "      <td>NaT</td>\n",
       "    </tr>\n",
       "    <tr>\n",
       "      <th>1</th>\n",
       "      <td>100</td>\n",
       "      <td>Peter</td>\n",
       "      <td>Lester</td>\n",
       "      <td>27</td>\n",
       "      <td>NaN</td>\n",
       "      <td>NaN</td>\n",
       "      <td>NaN</td>\n",
       "      <td>NaT</td>\n",
       "    </tr>\n",
       "    <tr>\n",
       "      <th>2</th>\n",
       "      <td>1000</td>\n",
       "      <td>Dr. Steven</td>\n",
       "      <td>E. Saunders</td>\n",
       "      <td>292</td>\n",
       "      <td>NaN</td>\n",
       "      <td>NaN</td>\n",
       "      <td>NaN</td>\n",
       "      <td>NaT</td>\n",
       "    </tr>\n",
       "    <tr>\n",
       "      <th>3</th>\n",
       "      <td>10000</td>\n",
       "      <td>Neil</td>\n",
       "      <td>Capel</td>\n",
       "      <td>2526</td>\n",
       "      <td>NaN</td>\n",
       "      <td>NaN</td>\n",
       "      <td>NaN</td>\n",
       "      <td>NaT</td>\n",
       "    </tr>\n",
       "    <tr>\n",
       "      <th>4</th>\n",
       "      <td>100000</td>\n",
       "      <td>Sue</td>\n",
       "      <td>Pilsch</td>\n",
       "      <td>&lt;NA&gt;</td>\n",
       "      <td>NaN</td>\n",
       "      <td>NaN</td>\n",
       "      <td>NaN</td>\n",
       "      <td>NaT</td>\n",
       "    </tr>\n",
       "    <tr>\n",
       "      <th>5</th>\n",
       "      <td>100002</td>\n",
       "      <td>Keith</td>\n",
       "      <td>Kurzendoerfer</td>\n",
       "      <td>&lt;NA&gt;</td>\n",
       "      <td>NaN</td>\n",
       "      <td>NaN</td>\n",
       "      <td>NaN</td>\n",
       "      <td>NaT</td>\n",
       "    </tr>\n",
       "    <tr>\n",
       "      <th>6</th>\n",
       "      <td>100006</td>\n",
       "      <td>Courtney</td>\n",
       "      <td>Homer</td>\n",
       "      <td>81558</td>\n",
       "      <td>jobsbostontech</td>\n",
       "      <td>83604.00</td>\n",
       "      <td>MIT Sloan School of Management</td>\n",
       "      <td>2004-01-01</td>\n",
       "    </tr>\n",
       "    <tr>\n",
       "      <th>7</th>\n",
       "      <td>100009</td>\n",
       "      <td>Eddy</td>\n",
       "      <td>Badrina</td>\n",
       "      <td>&lt;NA&gt;</td>\n",
       "      <td>NaN</td>\n",
       "      <td>NaN</td>\n",
       "      <td>NaN</td>\n",
       "      <td>NaT</td>\n",
       "    </tr>\n",
       "    <tr>\n",
       "      <th>8</th>\n",
       "      <td>100010</td>\n",
       "      <td>Michael</td>\n",
       "      <td>Dadashyan</td>\n",
       "      <td>&lt;NA&gt;</td>\n",
       "      <td>fbroulette</td>\n",
       "      <td>NaN</td>\n",
       "      <td>NaN</td>\n",
       "      <td>NaT</td>\n",
       "    </tr>\n",
       "    <tr>\n",
       "      <th>9</th>\n",
       "      <td>100011</td>\n",
       "      <td>Jeff</td>\n",
       "      <td>Grell</td>\n",
       "      <td>&lt;NA&gt;</td>\n",
       "      <td>NaN</td>\n",
       "      <td>NaN</td>\n",
       "      <td>NaN</td>\n",
       "      <td>NaT</td>\n",
       "    </tr>\n",
       "    <tr>\n",
       "      <th>10</th>\n",
       "      <td>100012</td>\n",
       "      <td>Nick</td>\n",
       "      <td>Bova</td>\n",
       "      <td>&lt;NA&gt;</td>\n",
       "      <td>NaN</td>\n",
       "      <td>NaN</td>\n",
       "      <td>NaN</td>\n",
       "      <td>NaT</td>\n",
       "    </tr>\n",
       "    <tr>\n",
       "      <th>11</th>\n",
       "      <td>100013</td>\n",
       "      <td>Umesh</td>\n",
       "      <td>Singh</td>\n",
       "      <td>&lt;NA&gt;</td>\n",
       "      <td>NaN</td>\n",
       "      <td>36786.00</td>\n",
       "      <td>Rutgers University</td>\n",
       "      <td>NaT</td>\n",
       "    </tr>\n",
       "    <tr>\n",
       "      <th>12</th>\n",
       "      <td>100013</td>\n",
       "      <td>Umesh</td>\n",
       "      <td>Singh</td>\n",
       "      <td>&lt;NA&gt;</td>\n",
       "      <td>NaN</td>\n",
       "      <td>36787.00</td>\n",
       "      <td>University of Mumbai</td>\n",
       "      <td>NaT</td>\n",
       "    </tr>\n",
       "    <tr>\n",
       "      <th>13</th>\n",
       "      <td>100014</td>\n",
       "      <td>Larry</td>\n",
       "      <td>Blankenship</td>\n",
       "      <td>&lt;NA&gt;</td>\n",
       "      <td>NaN</td>\n",
       "      <td>NaN</td>\n",
       "      <td>NaN</td>\n",
       "      <td>NaT</td>\n",
       "    </tr>\n",
       "    <tr>\n",
       "      <th>14</th>\n",
       "      <td>100015</td>\n",
       "      <td>Steven</td>\n",
       "      <td>G. Anderson</td>\n",
       "      <td>&lt;NA&gt;</td>\n",
       "      <td>NaN</td>\n",
       "      <td>NaN</td>\n",
       "      <td>NaN</td>\n",
       "      <td>NaT</td>\n",
       "    </tr>\n",
       "    <tr>\n",
       "      <th>15</th>\n",
       "      <td>100016</td>\n",
       "      <td>Thomas</td>\n",
       "      <td>F. Ackerman</td>\n",
       "      <td>&lt;NA&gt;</td>\n",
       "      <td>NaN</td>\n",
       "      <td>NaN</td>\n",
       "      <td>NaN</td>\n",
       "      <td>NaT</td>\n",
       "    </tr>\n",
       "    <tr>\n",
       "      <th>16</th>\n",
       "      <td>100017</td>\n",
       "      <td>Kurt</td>\n",
       "      <td>Azarbarzin</td>\n",
       "      <td>&lt;NA&gt;</td>\n",
       "      <td>NaN</td>\n",
       "      <td>NaN</td>\n",
       "      <td>NaN</td>\n",
       "      <td>NaT</td>\n",
       "    </tr>\n",
       "    <tr>\n",
       "      <th>17</th>\n",
       "      <td>100018</td>\n",
       "      <td>Adam</td>\n",
       "      <td>Beckerman</td>\n",
       "      <td>148554</td>\n",
       "      <td>adam_beckerman</td>\n",
       "      <td>14433.00</td>\n",
       "      <td>Columbia University, Business School</td>\n",
       "      <td>2004-01-01</td>\n",
       "    </tr>\n",
       "    <tr>\n",
       "      <th>18</th>\n",
       "      <td>100018</td>\n",
       "      <td>Adam</td>\n",
       "      <td>Beckerman</td>\n",
       "      <td>148554</td>\n",
       "      <td>adam_beckerman</td>\n",
       "      <td>14434.00</td>\n",
       "      <td>University of Maryland, College Park</td>\n",
       "      <td>1996-01-01</td>\n",
       "    </tr>\n",
       "    <tr>\n",
       "      <th>19</th>\n",
       "      <td>100019</td>\n",
       "      <td>Melissa</td>\n",
       "      <td>French</td>\n",
       "      <td>&lt;NA&gt;</td>\n",
       "      <td>netcastles</td>\n",
       "      <td>NaN</td>\n",
       "      <td>NaN</td>\n",
       "      <td>NaT</td>\n",
       "    </tr>\n",
       "  </tbody>\n",
       "</table>\n",
       "</div>"
      ],
      "text/plain": [
       "    person_id  first_name      last_name  company_id network_username  \\\n",
       "0          10        Mark     Zuckerberg           5              NaN   \n",
       "1         100       Peter         Lester          27              NaN   \n",
       "2        1000  Dr. Steven    E. Saunders         292              NaN   \n",
       "3       10000        Neil          Capel        2526              NaN   \n",
       "4      100000         Sue         Pilsch        <NA>              NaN   \n",
       "5      100002       Keith  Kurzendoerfer        <NA>              NaN   \n",
       "6      100006    Courtney          Homer       81558   jobsbostontech   \n",
       "7      100009        Eddy        Badrina        <NA>              NaN   \n",
       "8      100010     Michael      Dadashyan        <NA>       fbroulette   \n",
       "9      100011        Jeff          Grell        <NA>              NaN   \n",
       "10     100012        Nick           Bova        <NA>              NaN   \n",
       "11     100013       Umesh          Singh        <NA>              NaN   \n",
       "12     100013       Umesh          Singh        <NA>              NaN   \n",
       "13     100014       Larry    Blankenship        <NA>              NaN   \n",
       "14     100015      Steven    G. Anderson        <NA>              NaN   \n",
       "15     100016      Thomas    F. Ackerman        <NA>              NaN   \n",
       "16     100017        Kurt     Azarbarzin        <NA>              NaN   \n",
       "17     100018        Adam      Beckerman      148554   adam_beckerman   \n",
       "18     100018        Adam      Beckerman      148554   adam_beckerman   \n",
       "19     100019     Melissa         French        <NA>       netcastles   \n",
       "\n",
       "         id                          instituition graduated_at  \n",
       "0   2415.00                    Harvard University          NaT  \n",
       "1       NaN                                   NaN          NaT  \n",
       "2       NaN                                   NaN          NaT  \n",
       "3       NaN                                   NaN          NaT  \n",
       "4       NaN                                   NaN          NaT  \n",
       "5       NaN                                   NaN          NaT  \n",
       "6  83604.00        MIT Sloan School of Management   2004-01-01  \n",
       "7       NaN                                   NaN          NaT  \n",
       "8       NaN                                   NaN          NaT  \n",
       "9       NaN                                   NaN          NaT  \n",
       "10      NaN                                   NaN          NaT  \n",
       "11 36786.00                    Rutgers University          NaT  \n",
       "12 36787.00                  University of Mumbai          NaT  \n",
       "13      NaN                                   NaN          NaT  \n",
       "14      NaN                                   NaN          NaT  \n",
       "15      NaN                                   NaN          NaT  \n",
       "16      NaN                                   NaN          NaT  \n",
       "17 14433.00  Columbia University, Business School   2004-01-01  \n",
       "18 14434.00  University of Maryland, College Park   1996-01-01  \n",
       "19      NaN                                   NaN          NaT  "
      ]
     },
     "metadata": {},
     "output_type": "display_data"
    }
   ],
   "source": [
    "df_people=df_people.rename(columns={'id': 'person_id'}) # Переназовем id чтобы можно было присоединить таблитцы\n",
    "\n",
    "df_people_education = df_people.merge(df_education, on = 'person_id', how = 'left')\n",
    "\n",
    "display(df_people_education.head(20))"
   ]
  },
  {
   "cell_type": "markdown",
   "metadata": {},
   "source": [
    "<a id='str'></a>Принято делить предприятия по количетсву сотрудников следующим образом:\n",
    "1. Микропредприятие = до 15 чел. \n",
    "2. Мелкие предприятие = 16-100 чел. \n",
    "3. Средние предприятие = 101 - 250 чел. \n",
    "4. Крпуные предприятия = 251 - ... чел. \n",
    "\n",
    "Разделим предприятия из нашего датасета также. За начало деления возьмем -1, чтобы предприятия с 0 сотрудников тоже вошли в деление по категориям. За конечнае значение в делении возьмем просто очень большое число, превышающее в целом адекватное число сотрудников любой компании, чтобы в категорию \"Крупные предприятия\" попали точно все предприятия с >251 сотрудников."
   ]
  },
  {
   "cell_type": "code",
   "execution_count": null,
   "metadata": {
    "id": "BThTjpLqFcsm"
   },
   "outputs": [
    {
     "data": {
      "text/html": [
       "<div>\n",
       "<style scoped>\n",
       "    .dataframe tbody tr th:only-of-type {\n",
       "        vertical-align: middle;\n",
       "    }\n",
       "\n",
       "    .dataframe tbody tr th {\n",
       "        vertical-align: top;\n",
       "    }\n",
       "\n",
       "    .dataframe thead th {\n",
       "        text-align: right;\n",
       "    }\n",
       "</style>\n",
       "<table border=\"1\" class=\"dataframe\">\n",
       "  <thead>\n",
       "    <tr style=\"text-align: right;\">\n",
       "      <th></th>\n",
       "      <th>company_id</th>\n",
       "      <th>count</th>\n",
       "      <th>group</th>\n",
       "    </tr>\n",
       "  </thead>\n",
       "  <tbody>\n",
       "    <tr>\n",
       "      <th>0</th>\n",
       "      <td>1</td>\n",
       "      <td>3</td>\n",
       "      <td>Микропредприятие</td>\n",
       "    </tr>\n",
       "    <tr>\n",
       "      <th>1</th>\n",
       "      <td>2</td>\n",
       "      <td>1</td>\n",
       "      <td>Микропредприятие</td>\n",
       "    </tr>\n",
       "    <tr>\n",
       "      <th>2</th>\n",
       "      <td>3</td>\n",
       "      <td>5</td>\n",
       "      <td>Микропредприятие</td>\n",
       "    </tr>\n",
       "    <tr>\n",
       "      <th>3</th>\n",
       "      <td>4</td>\n",
       "      <td>18</td>\n",
       "      <td>Малые предприятие</td>\n",
       "    </tr>\n",
       "    <tr>\n",
       "      <th>4</th>\n",
       "      <td>5</td>\n",
       "      <td>84</td>\n",
       "      <td>Малые предприятие</td>\n",
       "    </tr>\n",
       "    <tr>\n",
       "      <th>5</th>\n",
       "      <td>8</td>\n",
       "      <td>3</td>\n",
       "      <td>Микропредприятие</td>\n",
       "    </tr>\n",
       "    <tr>\n",
       "      <th>6</th>\n",
       "      <td>9</td>\n",
       "      <td>1</td>\n",
       "      <td>Микропредприятие</td>\n",
       "    </tr>\n",
       "    <tr>\n",
       "      <th>7</th>\n",
       "      <td>10</td>\n",
       "      <td>3</td>\n",
       "      <td>Микропредприятие</td>\n",
       "    </tr>\n",
       "    <tr>\n",
       "      <th>8</th>\n",
       "      <td>11</td>\n",
       "      <td>5</td>\n",
       "      <td>Микропредприятие</td>\n",
       "    </tr>\n",
       "    <tr>\n",
       "      <th>9</th>\n",
       "      <td>12</td>\n",
       "      <td>64</td>\n",
       "      <td>Малые предприятие</td>\n",
       "    </tr>\n",
       "    <tr>\n",
       "      <th>10</th>\n",
       "      <td>13</td>\n",
       "      <td>10</td>\n",
       "      <td>Микропредприятие</td>\n",
       "    </tr>\n",
       "    <tr>\n",
       "      <th>11</th>\n",
       "      <td>14</td>\n",
       "      <td>6</td>\n",
       "      <td>Микропредприятие</td>\n",
       "    </tr>\n",
       "    <tr>\n",
       "      <th>12</th>\n",
       "      <td>15</td>\n",
       "      <td>4</td>\n",
       "      <td>Микропредприятие</td>\n",
       "    </tr>\n",
       "    <tr>\n",
       "      <th>13</th>\n",
       "      <td>16</td>\n",
       "      <td>3</td>\n",
       "      <td>Микропредприятие</td>\n",
       "    </tr>\n",
       "    <tr>\n",
       "      <th>14</th>\n",
       "      <td>18</td>\n",
       "      <td>2</td>\n",
       "      <td>Микропредприятие</td>\n",
       "    </tr>\n",
       "    <tr>\n",
       "      <th>15</th>\n",
       "      <td>19</td>\n",
       "      <td>8</td>\n",
       "      <td>Микропредприятие</td>\n",
       "    </tr>\n",
       "    <tr>\n",
       "      <th>16</th>\n",
       "      <td>20</td>\n",
       "      <td>59</td>\n",
       "      <td>Малые предприятие</td>\n",
       "    </tr>\n",
       "    <tr>\n",
       "      <th>17</th>\n",
       "      <td>21</td>\n",
       "      <td>2</td>\n",
       "      <td>Микропредприятие</td>\n",
       "    </tr>\n",
       "    <tr>\n",
       "      <th>18</th>\n",
       "      <td>22</td>\n",
       "      <td>2</td>\n",
       "      <td>Микропредприятие</td>\n",
       "    </tr>\n",
       "    <tr>\n",
       "      <th>19</th>\n",
       "      <td>23</td>\n",
       "      <td>5</td>\n",
       "      <td>Микропредприятие</td>\n",
       "    </tr>\n",
       "  </tbody>\n",
       "</table>\n",
       "</div>"
      ],
      "text/plain": [
       "    company_id  count              group\n",
       "0            1      3   Микропредприятие\n",
       "1            2      1   Микропредприятие\n",
       "2            3      5   Микропредприятие\n",
       "3            4     18  Малые предприятие\n",
       "4            5     84  Малые предприятие\n",
       "5            8      3   Микропредприятие\n",
       "6            9      1   Микропредприятие\n",
       "7           10      3   Микропредприятие\n",
       "8           11      5   Микропредприятие\n",
       "9           12     64  Малые предприятие\n",
       "10          13     10   Микропредприятие\n",
       "11          14      6   Микропредприятие\n",
       "12          15      4   Микропредприятие\n",
       "13          16      3   Микропредприятие\n",
       "14          18      2   Микропредприятие\n",
       "15          19      8   Микропредприятие\n",
       "16          20     59  Малые предприятие\n",
       "17          21      2   Микропредприятие\n",
       "18          22      2   Микропредприятие\n",
       "19          23      5   Микропредприятие"
      ]
     },
     "metadata": {},
     "output_type": "display_data"
    },
    {
     "data": {
      "text/plain": [
       "0"
      ]
     },
     "metadata": {},
     "output_type": "display_data"
    },
    {
     "data": {
      "text/plain": [
       "222901"
      ]
     },
     "metadata": {},
     "output_type": "display_data"
    },
    {
     "data": {
      "text/plain": [
       "<IntegerArray>\n",
       "[     5,     27,    292,   2526,   <NA>,  81558, 148554,  81571,  81576,\n",
       "     63,\n",
       " ...\n",
       "  81525,  81527,  86377,  48256,  64683,  81971, 146815,  83651, 188200,\n",
       " 143419]\n",
       "Length: 22923, dtype: Int32"
      ]
     },
     "metadata": {},
     "output_type": "display_data"
    },
    {
     "name": "stdout",
     "output_type": "stream",
     "text": [
      "<class 'pandas.core.frame.DataFrame'>\n",
      "RangeIndex: 22922 entries, 0 to 22921\n",
      "Data columns (total 3 columns):\n",
      " #   Column      Non-Null Count  Dtype   \n",
      "---  ------      --------------  -----   \n",
      " 0   company_id  22922 non-null  int64   \n",
      " 1   count       22922 non-null  int64   \n",
      " 2   group       22922 non-null  category\n",
      "dtypes: category(1), int64(2)\n",
      "memory usage: 380.9 KB\n"
     ]
    },
    {
     "data": {
      "text/plain": [
       "None"
      ]
     },
     "metadata": {},
     "output_type": "display_data"
    },
    {
     "name": "stdout",
     "output_type": "stream",
     "text": [
      "<class 'pandas.core.frame.DataFrame'>\n",
      "RangeIndex: 22922 entries, 0 to 22921\n",
      "Data columns (total 3 columns):\n",
      " #   Column      Non-Null Count  Dtype   \n",
      "---  ------      --------------  -----   \n",
      " 0   company_id  22922 non-null  int32   \n",
      " 1   count       22922 non-null  int64   \n",
      " 2   group       22922 non-null  category\n",
      "dtypes: category(1), int32(1), int64(1)\n",
      "memory usage: 291.3 KB\n"
     ]
    },
    {
     "data": {
      "text/plain": [
       "None"
      ]
     },
     "metadata": {},
     "output_type": "display_data"
    },
    {
     "data": {
      "text/html": [
       "<div>\n",
       "<style scoped>\n",
       "    .dataframe tbody tr th:only-of-type {\n",
       "        vertical-align: middle;\n",
       "    }\n",
       "\n",
       "    .dataframe tbody tr th {\n",
       "        vertical-align: top;\n",
       "    }\n",
       "\n",
       "    .dataframe thead th {\n",
       "        text-align: right;\n",
       "    }\n",
       "</style>\n",
       "<table border=\"1\" class=\"dataframe\">\n",
       "  <thead>\n",
       "    <tr style=\"text-align: right;\">\n",
       "      <th></th>\n",
       "      <th>person_id</th>\n",
       "      <th>first_name</th>\n",
       "      <th>last_name</th>\n",
       "      <th>company_id</th>\n",
       "      <th>network_username</th>\n",
       "      <th>id</th>\n",
       "      <th>instituition</th>\n",
       "      <th>graduated_at</th>\n",
       "      <th>group</th>\n",
       "    </tr>\n",
       "  </thead>\n",
       "  <tbody>\n",
       "    <tr>\n",
       "      <th>0</th>\n",
       "      <td>10</td>\n",
       "      <td>Mark</td>\n",
       "      <td>Zuckerberg</td>\n",
       "      <td>5</td>\n",
       "      <td>NaN</td>\n",
       "      <td>2415.00</td>\n",
       "      <td>Harvard University</td>\n",
       "      <td>NaT</td>\n",
       "      <td>Малые предприятие</td>\n",
       "    </tr>\n",
       "    <tr>\n",
       "      <th>1</th>\n",
       "      <td>100</td>\n",
       "      <td>Peter</td>\n",
       "      <td>Lester</td>\n",
       "      <td>27</td>\n",
       "      <td>NaN</td>\n",
       "      <td>NaN</td>\n",
       "      <td>NaN</td>\n",
       "      <td>NaT</td>\n",
       "      <td>Микропредприятие</td>\n",
       "    </tr>\n",
       "    <tr>\n",
       "      <th>2</th>\n",
       "      <td>1000</td>\n",
       "      <td>Dr. Steven</td>\n",
       "      <td>E. Saunders</td>\n",
       "      <td>292</td>\n",
       "      <td>NaN</td>\n",
       "      <td>NaN</td>\n",
       "      <td>NaN</td>\n",
       "      <td>NaT</td>\n",
       "      <td>Микропредприятие</td>\n",
       "    </tr>\n",
       "    <tr>\n",
       "      <th>3</th>\n",
       "      <td>10000</td>\n",
       "      <td>Neil</td>\n",
       "      <td>Capel</td>\n",
       "      <td>2526</td>\n",
       "      <td>NaN</td>\n",
       "      <td>NaN</td>\n",
       "      <td>NaN</td>\n",
       "      <td>NaT</td>\n",
       "      <td>Микропредприятие</td>\n",
       "    </tr>\n",
       "    <tr>\n",
       "      <th>4</th>\n",
       "      <td>100006</td>\n",
       "      <td>Courtney</td>\n",
       "      <td>Homer</td>\n",
       "      <td>81558</td>\n",
       "      <td>jobsbostontech</td>\n",
       "      <td>83604.00</td>\n",
       "      <td>MIT Sloan School of Management</td>\n",
       "      <td>2004-01-01</td>\n",
       "      <td>Микропредприятие</td>\n",
       "    </tr>\n",
       "    <tr>\n",
       "      <th>5</th>\n",
       "      <td>100018</td>\n",
       "      <td>Adam</td>\n",
       "      <td>Beckerman</td>\n",
       "      <td>148554</td>\n",
       "      <td>adam_beckerman</td>\n",
       "      <td>14433.00</td>\n",
       "      <td>Columbia University, Business School</td>\n",
       "      <td>2004-01-01</td>\n",
       "      <td>Микропредприятие</td>\n",
       "    </tr>\n",
       "    <tr>\n",
       "      <th>6</th>\n",
       "      <td>100018</td>\n",
       "      <td>Adam</td>\n",
       "      <td>Beckerman</td>\n",
       "      <td>148554</td>\n",
       "      <td>adam_beckerman</td>\n",
       "      <td>14434.00</td>\n",
       "      <td>University of Maryland, College Park</td>\n",
       "      <td>1996-01-01</td>\n",
       "      <td>Микропредприятие</td>\n",
       "    </tr>\n",
       "    <tr>\n",
       "      <th>7</th>\n",
       "      <td>100023</td>\n",
       "      <td>Neil</td>\n",
       "      <td>Chandran</td>\n",
       "      <td>81571</td>\n",
       "      <td>neilchandran</td>\n",
       "      <td>NaN</td>\n",
       "      <td>NaN</td>\n",
       "      <td>NaT</td>\n",
       "      <td>Микропредприятие</td>\n",
       "    </tr>\n",
       "    <tr>\n",
       "      <th>8</th>\n",
       "      <td>100031</td>\n",
       "      <td>Sandeep</td>\n",
       "      <td>Hegde</td>\n",
       "      <td>81576</td>\n",
       "      <td>sandeephegde</td>\n",
       "      <td>14436.00</td>\n",
       "      <td>Gogte Institute of Technology</td>\n",
       "      <td>2010-01-01</td>\n",
       "      <td>Микропредприятие</td>\n",
       "    </tr>\n",
       "    <tr>\n",
       "      <th>9</th>\n",
       "      <td>100049</td>\n",
       "      <td>Mike</td>\n",
       "      <td>Cannady</td>\n",
       "      <td>63</td>\n",
       "      <td>NaN</td>\n",
       "      <td>32494.00</td>\n",
       "      <td>New York University (NYU)</td>\n",
       "      <td>NaT</td>\n",
       "      <td>Малые предприятие</td>\n",
       "    </tr>\n",
       "    <tr>\n",
       "      <th>10</th>\n",
       "      <td>100049</td>\n",
       "      <td>Mike</td>\n",
       "      <td>Cannady</td>\n",
       "      <td>63</td>\n",
       "      <td>NaN</td>\n",
       "      <td>32495.00</td>\n",
       "      <td>University of Virginia</td>\n",
       "      <td>NaT</td>\n",
       "      <td>Малые предприятие</td>\n",
       "    </tr>\n",
       "    <tr>\n",
       "      <th>11</th>\n",
       "      <td>100051</td>\n",
       "      <td>Colin</td>\n",
       "      <td>Kelly</td>\n",
       "      <td>79332</td>\n",
       "      <td>NaN</td>\n",
       "      <td>32516.00</td>\n",
       "      <td>Duke University</td>\n",
       "      <td>2003-01-01</td>\n",
       "      <td>Микропредприятие</td>\n",
       "    </tr>\n",
       "    <tr>\n",
       "      <th>12</th>\n",
       "      <td>100062</td>\n",
       "      <td>Fahad</td>\n",
       "      <td>Khan</td>\n",
       "      <td>81603</td>\n",
       "      <td>fahadkhan</td>\n",
       "      <td>14443.00</td>\n",
       "      <td>Chalmers University of Technology</td>\n",
       "      <td>NaT</td>\n",
       "      <td>Микропредприятие</td>\n",
       "    </tr>\n",
       "    <tr>\n",
       "      <th>13</th>\n",
       "      <td>100068</td>\n",
       "      <td>Omar</td>\n",
       "      <td>Butt</td>\n",
       "      <td>81610</td>\n",
       "      <td>NaN</td>\n",
       "      <td>NaN</td>\n",
       "      <td>NaN</td>\n",
       "      <td>NaT</td>\n",
       "      <td>Микропредприятие</td>\n",
       "    </tr>\n",
       "    <tr>\n",
       "      <th>14</th>\n",
       "      <td>100069</td>\n",
       "      <td>Grace</td>\n",
       "      <td>S.</td>\n",
       "      <td>81613</td>\n",
       "      <td>CardWiX</td>\n",
       "      <td>NaN</td>\n",
       "      <td>NaN</td>\n",
       "      <td>NaT</td>\n",
       "      <td>Микропредприятие</td>\n",
       "    </tr>\n",
       "    <tr>\n",
       "      <th>15</th>\n",
       "      <td>10008</td>\n",
       "      <td>Olivier</td>\n",
       "      <td>Schaal</td>\n",
       "      <td>4887</td>\n",
       "      <td>NaN</td>\n",
       "      <td>NaN</td>\n",
       "      <td>NaN</td>\n",
       "      <td>NaT</td>\n",
       "      <td>Микропредприятие</td>\n",
       "    </tr>\n",
       "    <tr>\n",
       "      <th>16</th>\n",
       "      <td>100086</td>\n",
       "      <td>Trent</td>\n",
       "      <td>Johnsen</td>\n",
       "      <td>81557</td>\n",
       "      <td>NaN</td>\n",
       "      <td>18334.00</td>\n",
       "      <td>University of Calgary</td>\n",
       "      <td>NaT</td>\n",
       "      <td>Микропредприятие</td>\n",
       "    </tr>\n",
       "    <tr>\n",
       "      <th>17</th>\n",
       "      <td>100086</td>\n",
       "      <td>Trent</td>\n",
       "      <td>Johnsen</td>\n",
       "      <td>81557</td>\n",
       "      <td>NaN</td>\n",
       "      <td>22793.00</td>\n",
       "      <td>University of Calgary</td>\n",
       "      <td>NaT</td>\n",
       "      <td>Микропредприятие</td>\n",
       "    </tr>\n",
       "    <tr>\n",
       "      <th>18</th>\n",
       "      <td>100091</td>\n",
       "      <td>Andrew</td>\n",
       "      <td>Ibbotson</td>\n",
       "      <td>67008</td>\n",
       "      <td>andrewibbotson</td>\n",
       "      <td>37717.00</td>\n",
       "      <td>Georgia Institute of Technology</td>\n",
       "      <td>1998-01-01</td>\n",
       "      <td>Микропредприятие</td>\n",
       "    </tr>\n",
       "    <tr>\n",
       "      <th>19</th>\n",
       "      <td>100091</td>\n",
       "      <td>Andrew</td>\n",
       "      <td>Ibbotson</td>\n",
       "      <td>67008</td>\n",
       "      <td>andrewibbotson</td>\n",
       "      <td>37718.00</td>\n",
       "      <td>Bishop Ireton High School</td>\n",
       "      <td>1993-01-01</td>\n",
       "      <td>Микропредприятие</td>\n",
       "    </tr>\n",
       "  </tbody>\n",
       "</table>\n",
       "</div>"
      ],
      "text/plain": [
       "    person_id  first_name    last_name  company_id network_username       id  \\\n",
       "0          10        Mark   Zuckerberg           5              NaN  2415.00   \n",
       "1         100       Peter       Lester          27              NaN      NaN   \n",
       "2        1000  Dr. Steven  E. Saunders         292              NaN      NaN   \n",
       "3       10000        Neil        Capel        2526              NaN      NaN   \n",
       "4      100006    Courtney        Homer       81558   jobsbostontech 83604.00   \n",
       "5      100018        Adam    Beckerman      148554   adam_beckerman 14433.00   \n",
       "6      100018        Adam    Beckerman      148554   adam_beckerman 14434.00   \n",
       "7      100023        Neil     Chandran       81571     neilchandran      NaN   \n",
       "8      100031     Sandeep        Hegde       81576     sandeephegde 14436.00   \n",
       "9      100049        Mike      Cannady          63              NaN 32494.00   \n",
       "10     100049        Mike      Cannady          63              NaN 32495.00   \n",
       "11     100051       Colin        Kelly       79332              NaN 32516.00   \n",
       "12     100062       Fahad         Khan       81603        fahadkhan 14443.00   \n",
       "13     100068        Omar         Butt       81610              NaN      NaN   \n",
       "14     100069       Grace           S.       81613          CardWiX      NaN   \n",
       "15      10008     Olivier       Schaal        4887              NaN      NaN   \n",
       "16     100086       Trent      Johnsen       81557              NaN 18334.00   \n",
       "17     100086       Trent      Johnsen       81557              NaN 22793.00   \n",
       "18     100091      Andrew     Ibbotson       67008   andrewibbotson 37717.00   \n",
       "19     100091      Andrew     Ibbotson       67008   andrewibbotson 37718.00   \n",
       "\n",
       "                            instituition graduated_at              group  \n",
       "0                     Harvard University          NaT  Малые предприятие  \n",
       "1                                    NaN          NaT   Микропредприятие  \n",
       "2                                    NaN          NaT   Микропредприятие  \n",
       "3                                    NaN          NaT   Микропредприятие  \n",
       "4         MIT Sloan School of Management   2004-01-01   Микропредприятие  \n",
       "5   Columbia University, Business School   2004-01-01   Микропредприятие  \n",
       "6   University of Maryland, College Park   1996-01-01   Микропредприятие  \n",
       "7                                    NaN          NaT   Микропредприятие  \n",
       "8          Gogte Institute of Technology   2010-01-01   Микропредприятие  \n",
       "9              New York University (NYU)          NaT  Малые предприятие  \n",
       "10                University of Virginia          NaT  Малые предприятие  \n",
       "11                       Duke University   2003-01-01   Микропредприятие  \n",
       "12     Chalmers University of Technology          NaT   Микропредприятие  \n",
       "13                                   NaN          NaT   Микропредприятие  \n",
       "14                                   NaN          NaT   Микропредприятие  \n",
       "15                                   NaN          NaT   Микропредприятие  \n",
       "16                 University of Calgary          NaT   Микропредприятие  \n",
       "17                 University of Calgary          NaT   Микропредприятие  \n",
       "18       Georgia Institute of Technology   1998-01-01   Микропредприятие  \n",
       "19             Bishop Ireton High School   1993-01-01   Микропредприятие  "
      ]
     },
     "metadata": {},
     "output_type": "display_data"
    },
    {
     "data": {
      "text/plain": [
       "['Малые предприятие', 'Микропредприятие', 'Средние предприятия', 'Крупные предприятия']\n",
       "Categories (4, object): ['Микропредприятие' < 'Малые предприятие' < 'Средние предприятия' < 'Крупные предприятия']"
      ]
     },
     "metadata": {},
     "output_type": "display_data"
    }
   ],
   "source": [
    "grouped_people_education = df_people_education.groupby('company_id')['person_id'].count()\n",
    "grouped_people_education = grouped_people_education.rename('count').reset_index()\n",
    "grouped_people_education['group'] = pd.cut(grouped_people_education['count'], bins = [-1, 15, 100, 250, 1000000000000000000000000], labels = ['Микропредприятие', 'Малые предприятие', 'Средние предприятия', 'Крупные предприятия'], right=False)\n",
    "\n",
    "\n",
    "display(grouped_people_education.head(20))\n",
    "\n",
    "\n",
    "# Проверяем таблицы на пропуски перед присоединением\n",
    "\n",
    "display(grouped_people_education['company_id'].isna().sum())\n",
    "display(df_people_education['company_id'].isna().sum())\n",
    "display(df_people_education['company_id'].unique())\n",
    "\n",
    "\n",
    "display(grouped_people_education.info())\n",
    "\n",
    "# Изменить тип данных столбца 'company_id' в grouped_people_education\n",
    "grouped_people_education['company_id'] = pd.to_numeric(grouped_people_education['company_id'], downcast = 'integer')\n",
    "\n",
    "display(grouped_people_education.info())\n",
    "\n",
    "#Чтобы пропуски не мешали рассчетам средний доли сотрудников без информации об образовании,удалим их \n",
    "df_people_education = df_people_education.dropna(subset=['company_id'])\n",
    "grouped_people_education = grouped_people_education.dropna(subset=['company_id'])\n",
    "                                                    \n",
    "df_people_education = df_people_education.merge(\n",
    "    grouped_people_education[['company_id', 'group']], \n",
    "    how='left', \n",
    "    on='company_id'\n",
    ")\n",
    "\n",
    "\n",
    "display(df_people_education.head(20))\n",
    "\n",
    "display(df_people_education['group'].unique())\n"
   ]
  },
  {
   "cell_type": "code",
   "execution_count": null,
   "metadata": {},
   "outputs": [
    {
     "data": {
      "text/plain": [
       "['Малые предприятие', 'Микропредприятие', 'Средние предприятия', 'Крупные предприятия']\n",
       "Categories (4, object): ['Микропредприятие' < 'Малые предприятие' < 'Средние предприятия' < 'Крупные предприятия']"
      ]
     },
     "execution_count": 101,
     "metadata": {},
     "output_type": "execute_result"
    }
   ],
   "source": [
    "df_people_education['group'].unique()"
   ]
  },
  {
   "cell_type": "code",
   "execution_count": null,
   "metadata": {
    "id": "4FC98Pd-FcmG"
   },
   "outputs": [
    {
     "data": {
      "text/html": [
       "<div>\n",
       "<style scoped>\n",
       "    .dataframe tbody tr th:only-of-type {\n",
       "        vertical-align: middle;\n",
       "    }\n",
       "\n",
       "    .dataframe tbody tr th {\n",
       "        vertical-align: top;\n",
       "    }\n",
       "\n",
       "    .dataframe thead th {\n",
       "        text-align: right;\n",
       "    }\n",
       "</style>\n",
       "<table border=\"1\" class=\"dataframe\">\n",
       "  <thead>\n",
       "    <tr style=\"text-align: right;\">\n",
       "      <th></th>\n",
       "      <th>group</th>\n",
       "      <th>person_id_x</th>\n",
       "      <th>person_id_y</th>\n",
       "    </tr>\n",
       "  </thead>\n",
       "  <tbody>\n",
       "    <tr>\n",
       "      <th>0</th>\n",
       "      <td>Микропредприятие</td>\n",
       "      <td>32061</td>\n",
       "      <td>15364</td>\n",
       "    </tr>\n",
       "    <tr>\n",
       "      <th>1</th>\n",
       "      <td>Малые предприятие</td>\n",
       "      <td>1949</td>\n",
       "      <td>645</td>\n",
       "    </tr>\n",
       "    <tr>\n",
       "      <th>2</th>\n",
       "      <td>Средние предприятия</td>\n",
       "      <td>359</td>\n",
       "      <td>90</td>\n",
       "    </tr>\n",
       "    <tr>\n",
       "      <th>3</th>\n",
       "      <td>Крупные предприятия</td>\n",
       "      <td>244</td>\n",
       "      <td>76</td>\n",
       "    </tr>\n",
       "  </tbody>\n",
       "</table>\n",
       "</div>"
      ],
      "text/plain": [
       "                 group  person_id_x  person_id_y\n",
       "0     Микропредприятие        32061        15364\n",
       "1    Малые предприятие         1949          645\n",
       "2  Средние предприятия          359           90\n",
       "3  Крупные предприятия          244           76"
      ]
     },
     "metadata": {},
     "output_type": "display_data"
    },
    {
     "data": {
      "text/html": [
       "<div>\n",
       "<style scoped>\n",
       "    .dataframe tbody tr th:only-of-type {\n",
       "        vertical-align: middle;\n",
       "    }\n",
       "\n",
       "    .dataframe tbody tr th {\n",
       "        vertical-align: top;\n",
       "    }\n",
       "\n",
       "    .dataframe thead th {\n",
       "        text-align: right;\n",
       "    }\n",
       "</style>\n",
       "<table border=\"1\" class=\"dataframe\">\n",
       "  <thead>\n",
       "    <tr style=\"text-align: right;\">\n",
       "      <th></th>\n",
       "      <th>group</th>\n",
       "      <th>employee_total</th>\n",
       "      <th>without_education</th>\n",
       "      <th>part</th>\n",
       "    </tr>\n",
       "  </thead>\n",
       "  <tbody>\n",
       "    <tr>\n",
       "      <th>0</th>\n",
       "      <td>Микропредприятие</td>\n",
       "      <td>32061</td>\n",
       "      <td>15364</td>\n",
       "      <td>0.48</td>\n",
       "    </tr>\n",
       "    <tr>\n",
       "      <th>1</th>\n",
       "      <td>Малые предприятие</td>\n",
       "      <td>1949</td>\n",
       "      <td>645</td>\n",
       "      <td>0.33</td>\n",
       "    </tr>\n",
       "    <tr>\n",
       "      <th>3</th>\n",
       "      <td>Крупные предприятия</td>\n",
       "      <td>244</td>\n",
       "      <td>76</td>\n",
       "      <td>0.31</td>\n",
       "    </tr>\n",
       "    <tr>\n",
       "      <th>2</th>\n",
       "      <td>Средние предприятия</td>\n",
       "      <td>359</td>\n",
       "      <td>90</td>\n",
       "      <td>0.25</td>\n",
       "    </tr>\n",
       "  </tbody>\n",
       "</table>\n",
       "</div>"
      ],
      "text/plain": [
       "                 group  employee_total  without_education  part\n",
       "0     Микропредприятие           32061              15364  0.48\n",
       "1    Малые предприятие            1949                645  0.33\n",
       "3  Крупные предприятия             244                 76  0.31\n",
       "2  Средние предприятия             359                 90  0.25"
      ]
     },
     "metadata": {},
     "output_type": "display_data"
    }
   ],
   "source": [
    "# Группируем первую табличку с общим числом  сотрудников\n",
    "grouped_ppl_ed_2 = df_people_education.groupby('group')['person_id'].nunique().reset_index()\n",
    "\n",
    "#Группируем вторую табличку с числом сотрудников без образования\n",
    "grouped_ppl_ed_3 = df_people_education.loc[df_people_education['instituition'].isna() == True].groupby('group')['person_id'].nunique().reset_index()\n",
    "\n",
    "# Объединяем эти таблички\n",
    "grouped_ppl_ed_23 = grouped_ppl_ed_2.merge(grouped_ppl_ed_3, on = 'group')\n",
    "\n",
    "display(grouped_ppl_ed_23)\n",
    "\n",
    "# Переименуем названия столбцов, чтобы было более понятно смотреть результат\n",
    "grouped_ppl_ed_23 = grouped_ppl_ed_23.rename(columns={'person_id_y': 'without_education', 'person_id_x' : 'employee_total'})\n",
    "\n",
    "\n",
    "#Считаем долю в новом столбце объединенной таблички\n",
    "grouped_ppl_ed_23['part'] = round(grouped_ppl_ed_23['without_education']/grouped_ppl_ed_23['employee_total'], 2)\n",
    "\n",
    "display(grouped_ppl_ed_23.sort_values(by='part', ascending=False))"
   ]
  },
  {
   "cell_type": "markdown",
   "metadata": {},
   "source": [
    "Построим столбчатую диаграмму по полученным данным."
   ]
  },
  {
   "cell_type": "code",
   "execution_count": null,
   "metadata": {},
   "outputs": [
    {
     "data": {
      "image/png": "[encoded data removed]",
      "text/plain": [
       "<Figure size 432x288 with 1 Axes>"
      ]
     },
     "metadata": {
      "needs_background": "light"
     },
     "output_type": "display_data"
    }
   ],
   "source": [
    "\n",
    "grouped_ppl_ed_23.sort_values(by='part', ascending=False).plot(kind = 'bar', x = 'group', y = 'part', rot = 45)\n",
    "\n",
    "plt.title('Доля сотрудников без образования')\n",
    "plt.xlabel('Категория компании')\n",
    "plt.ylabel('Доля')\n",
    "plt.grid(True)\n",
    "plt.show()"
   ]
  },
  {
   "cell_type": "markdown",
   "metadata": {},
   "source": [
    "Промежуточные выводы:\n",
    "\n",
    "- После объединения таблиц `people` и `education`, мы сгруппировали данные по `company_id` и посчитали кол-во сотрудников. Далее мы разделили компании на категории [по кол-ву сотрудников](#str).\n",
    "- Мы посчитали долю сотрудников без образования в каждой категории. Вот каие результаты мы получили:\n",
    "1. Микропредприятие\t0.48\n",
    "2. Малые предприятие 0.33\n",
    "3. Крупные предприятия 0.31\n",
    "4.\tСредние предприятия\t0.25\n",
    "\n",
    "Наибольшая доля сотрудников без образования в категории \"Микропредприятия\" (до 15 сотрудников). Можно предположить, что такие предприятия только начали развиваться и набирают в штат стажеров-студентов, которые пока находятся в процессе получения образования. Или, например, в таких компаниях ценят больше опыт работы, чем факт наличия образования. Самая низкая доля работников без образования в категории \"Средние предприятия\". Это может быть связано с тем, что такие предприятия хотят масштабно развиваться и расти и переходить в разряд Крпуных предприятий и им требуются обученные управленцы и специалисты, поэтому такие компании больше смотрят в сторону работников с образованием. "
   ]
  },
  {
   "cell_type": "markdown",
   "metadata": {},
   "source": [
    "Присоединить таблицу `degrees.csv` возможно, так как еще в перовм пункте мы привели [индексы к единому виду](#dgr). Попробуем это проверить:"
   ]
  },
  {
   "cell_type": "code",
   "execution_count": null,
   "metadata": {},
   "outputs": [
    {
     "name": "stdout",
     "output_type": "stream",
     "text": [
      "<class 'pandas.core.frame.DataFrame'>\n",
      "Int64Index: 44788 entries, 0 to 44787\n",
      "Data columns (total 12 columns):\n",
      " #   Column            Non-Null Count  Dtype         \n",
      "---  ------            --------------  -----         \n",
      " 0   person_id         44788 non-null  int64         \n",
      " 1   first_name        44788 non-null  object        \n",
      " 2   last_name         44788 non-null  object        \n",
      " 3   company_id        44788 non-null  Int32         \n",
      " 4   network_username  22892 non-null  object        \n",
      " 5   id                28638 non-null  float64       \n",
      " 6   instituition      28609 non-null  object        \n",
      " 7   graduated_at      20954 non-null  datetime64[ns]\n",
      " 8   group             44788 non-null  category      \n",
      " 9   object_id         28638 non-null  object        \n",
      " 10  degree_type       25563 non-null  object        \n",
      " 11  subject           23263 non-null  object        \n",
      "dtypes: Int32(1), category(1), datetime64[ns](1), float64(1), int64(1), object(7)\n",
      "memory usage: 4.0+ MB\n"
     ]
    },
    {
     "data": {
      "text/plain": [
       "None"
      ]
     },
     "metadata": {},
     "output_type": "display_data"
    }
   ],
   "source": [
    "df_people_education = df_people_education.merge(df_degrees, on = 'id', how = 'left')\n",
    "display(df_people_education.info())"
   ]
  },
  {
   "cell_type": "markdown",
   "metadata": {},
   "source": [
    "Получили таблицу, в которой 44788 строк и 15 столбцов. "
   ]
  },
  {
   "cell_type": "markdown",
   "metadata": {
    "id": "Lz7qjM32xglW"
   },
   "source": [
    "### 2.3. Объединять или не объединять — вот в чём вопрос\n",
    "\n",
    "Некоторые названия столбцов встречаются в датасетах чаще других. В результате предварительной проверки датасетов было выяснено, что столбец `company_id` подходит для объединения данных.\n",
    "\n",
    "- Установим, подходит ли для объединения данных столбец `network_username`, который встречается в нескольких датасетах. Нам необходимо понимать, дублируется ли для разных датасетов информация в столбцах с таким названием, и если да — тио насколько часто.\n",
    "- Оценим, можно ли использовать столбцы с именем `network_username` для объединения данных."
   ]
  },
  {
   "cell_type": "markdown",
   "metadata": {},
   "source": [
    "В таблицах `people` и `company_and_rounds` содержатся столбцы `network_username`. Проверим общее количество строк в таблице, количество пустых строк и уникальных строк по столбцу `network_username`."
   ]
  },
  {
   "cell_type": "code",
   "execution_count": null,
   "metadata": {
    "id": "zyI3rt0rxg1O"
   },
   "outputs": [
    {
     "name": "stdout",
     "output_type": "stream",
     "text": [
      "<class 'pandas.core.frame.DataFrame'>\n",
      "Int64Index: 226704 entries, 0 to 226708\n",
      "Data columns (total 5 columns):\n",
      " #   Column            Non-Null Count   Dtype \n",
      "---  ------            --------------   ----- \n",
      " 0   person_id         226704 non-null  int64 \n",
      " 1   first_name        226704 non-null  object\n",
      " 2   last_name         226704 non-null  object\n",
      " 3   company_id        34614 non-null   Int32 \n",
      " 4   network_username  38867 non-null   object\n",
      "dtypes: Int32(1), int64(1), object(3)\n",
      "memory usage: 9.7+ MB\n"
     ]
    },
    {
     "data": {
      "text/plain": [
       "None"
      ]
     },
     "metadata": {},
     "output_type": "display_data"
    },
    {
     "data": {
      "text/plain": [
       "187837"
      ]
     },
     "metadata": {},
     "output_type": "display_data"
    },
    {
     "data": {
      "text/plain": [
       "0.83"
      ]
     },
     "metadata": {},
     "output_type": "display_data"
    },
    {
     "data": {
      "text/plain": [
       "38421"
      ]
     },
     "metadata": {},
     "output_type": "display_data"
    }
   ],
   "source": [
    "display(df_people.info()) # Кол-во строк\n",
    "\n",
    "display(df_people['network_username'].isna().sum()) # Кол-во пустых строк\n",
    "\n",
    "display(round(df_people['network_username'].isna().sum()/ len(df_people['network_username']), 2)) # Доля пропусков в столбце по отношению к общему числу строк в столбце\n",
    "\n",
    "display(df_people['network_username'].nunique()) #Кол-во уникальных строк"
   ]
  },
  {
   "cell_type": "code",
   "execution_count": null,
   "metadata": {
    "id": "RxOS5rwmFcNW",
    "scrolled": true
   },
   "outputs": [
    {
     "name": "stdout",
     "output_type": "stream",
     "text": [
      "<class 'pandas.core.frame.DataFrame'>\n",
      "RangeIndex: 217774 entries, 0 to 217773\n",
      "Data columns (total 23 columns):\n",
      " #   Column               Non-Null Count   Dtype         \n",
      "---  ------               --------------   -----         \n",
      " 0   company_ID           217472 non-null  Int32         \n",
      " 1   name                 217472 non-null  object        \n",
      " 2   category_code        143886 non-null  object        \n",
      " 3   status               217472 non-null  object        \n",
      " 4   founded_at           109956 non-null  datetime64[ns]\n",
      " 5   closed_at            3449 non-null    datetime64[ns]\n",
      " 6   domain               147159 non-null  object        \n",
      " 7   network_username     95534 non-null   object        \n",
      " 8   country_code         108607 non-null  object        \n",
      " 9   investment_rounds    217472 non-null  float64       \n",
      " 10  funding_rounds       217472 non-null  float64       \n",
      " 11  funding_total        217472 non-null  float64       \n",
      " 12  milestones           217472 non-null  float64       \n",
      " 13  funding_round_id     52928 non-null   Int32         \n",
      " 14  company_id           52928 non-null   Int32         \n",
      " 15  funded_at            52680 non-null   datetime64[ns]\n",
      " 16  funding_round_type   52928 non-null   object        \n",
      " 17  raised_amount        52928 non-null   float64       \n",
      " 18  pre_money_valuation  52928 non-null   float64       \n",
      " 19  participants         52928 non-null   Int32         \n",
      " 20  is_first_round       52928 non-null   Int32         \n",
      " 21  is_last_round        52928 non-null   Int32         \n",
      " 22  year                 52680 non-null   float64       \n",
      "dtypes: Int32(6), datetime64[ns](3), float64(7), object(7)\n",
      "memory usage: 34.5+ MB\n"
     ]
    },
    {
     "data": {
      "text/plain": [
       "None"
      ]
     },
     "metadata": {},
     "output_type": "display_data"
    },
    {
     "data": {
      "text/plain": [
       "122240"
      ]
     },
     "metadata": {},
     "output_type": "display_data"
    },
    {
     "data": {
      "text/plain": [
       "0.56"
      ]
     },
     "metadata": {},
     "output_type": "display_data"
    },
    {
     "data": {
      "text/plain": [
       "79571"
      ]
     },
     "metadata": {},
     "output_type": "display_data"
    }
   ],
   "source": [
    "display(df_company_and_rounds.info()) # Кол-во строк\n",
    "\n",
    "display(df_company_and_rounds['network_username'].isna().sum()) # Кол-во пустых строк\n",
    "\n",
    "display(round(df_company_and_rounds['network_username'].isna().sum()/ len(df_company_and_rounds['network_username']), 2)) # Доля пропусков в столбце по отношению к общему числу строк в столбце\n",
    "\n",
    "display(df_company_and_rounds['network_username'].nunique()) # Кол-во уникальных строк"
   ]
  },
  {
   "cell_type": "markdown",
   "metadata": {},
   "source": [
    "Промежуточные выводы:\n",
    "\n",
    "Для таблицы `people` в столбце `network_username`:\n",
    "\n",
    "- Всего 38867 строки из 226704 строк (есть пропуски). \n",
    "- Пустых строк - 187837. \n",
    "- Уникальных строк - 38421 (есть дубли). \n",
    "- Доля пропусков - 0.83.\n",
    "\n",
    "Для таблицы `company_and_rounds` в столбце `network_username`:\n",
    "\n",
    "- Всего 95534 строки из 217472 строк (есть пропуски). \n",
    "- Пустых строк - 122240. \n",
    "- Уникальных строк - 79571 (есть дубли).\n",
    "- Доля попусков - 0.56. \n",
    "\n",
    "\n",
    "В таблице `people` значительно меньше значений в столбце `network_username`, чем в `company_and_rounds`. Дубли в целом могут быть по саими никнеймам, пропуски могут помешать при ананлизе. "
   ]
  },
  {
   "cell_type": "markdown",
   "metadata": {},
   "source": [
    "Посмотрим сами уникальные значения никнеймов сотрудников. "
   ]
  },
  {
   "cell_type": "code",
   "execution_count": null,
   "metadata": {},
   "outputs": [
    {
     "data": {
      "text/plain": [
       "array(['BachelrWetpaint', nan, 'Hostnine', ..., 'networkzend',\n",
       "       'pPhotonet', 'Photonet'], dtype=object)"
      ]
     },
     "metadata": {},
     "output_type": "display_data"
    },
    {
     "data": {
      "text/plain": [
       "array([nan, 'jobsbostontech', 'fbroulette', ..., 'itechsocialnet',\n",
       "       'socialnethubs', 'esocialnetlike'], dtype=object)"
      ]
     },
     "metadata": {},
     "output_type": "display_data"
    }
   ],
   "source": [
    "display(df_company_and_rounds['network_username'].unique())\n",
    "\n",
    "display(df_people['network_username'].unique())"
   ]
  },
  {
   "cell_type": "markdown",
   "metadata": {},
   "source": [
    "В целом, объединить две таблицы `company_and_rounds по столбцу` и `people` по столбцу `network_username`: столбцы имеют один тип данных (`object`). Но так или иначе в итоговой объединенной таблице будут пропуски, так как в одной таблице строк в целом больше и, соответвеннно, больше `network_username`. Также велика вероятность, что возможно некоторые `network_username` не будут находить совпадений в другой таблице, но тем не менее само объединение возможно. "
   ]
  },
  {
   "cell_type": "markdown",
   "metadata": {
    "id": "EHcODomVrJg1"
   },
   "source": [
    "\n",
    "### 2.4. Проблемный датасет и причина возникновения пропусков\n",
    "\n",
    "Во время собственного анализа данных у заказчика больше всего вопросов возникло к датасету `company_and_rounds.csv`. В нём много пропусков как раз в информации о раундах, которая заказчику важна.\n",
    "\n",
    "- Любым удобным способом приведем данные в вид, который позволит в дальнейшем проводить анализ в разрезе отдельных компаний. Обратим внимание на структуру датасета, порядок и названия столбцов, проанализируйте значения.\n",
    "\n",
    "По гипотезе заказчика данные по компаниям из этой таблицы раньше хранились иначе, более удобным для исследования образом.\n",
    "\n",
    "- Максимальным образом сохраняя данные, сохранив их связность и исключив возможные возникающие при этом ошибки, подготовим данные так, чтобы удобно было отобрать компании по параметрам и рассчитать показатели из расчёта на одну компанию без промежуточных агрегаций."
   ]
  },
  {
   "cell_type": "code",
   "execution_count": null,
   "metadata": {
    "id": "oSk7xqu_FbaN"
   },
   "outputs": [
    {
     "name": "stdout",
     "output_type": "stream",
     "text": [
      "<class 'pandas.core.frame.DataFrame'>\n",
      "RangeIndex: 217774 entries, 0 to 217773\n",
      "Data columns (total 23 columns):\n",
      " #   Column               Non-Null Count   Dtype         \n",
      "---  ------               --------------   -----         \n",
      " 0   company_ID           217472 non-null  Int32         \n",
      " 1   name                 217472 non-null  object        \n",
      " 2   category_code        143886 non-null  object        \n",
      " 3   status               217472 non-null  object        \n",
      " 4   founded_at           109956 non-null  datetime64[ns]\n",
      " 5   closed_at            3449 non-null    datetime64[ns]\n",
      " 6   domain               147159 non-null  object        \n",
      " 7   network_username     95534 non-null   object        \n",
      " 8   country_code         108607 non-null  object        \n",
      " 9   investment_rounds    217472 non-null  float64       \n",
      " 10  funding_rounds       217472 non-null  float64       \n",
      " 11  funding_total        217472 non-null  float64       \n",
      " 12  milestones           217472 non-null  float64       \n",
      " 13  funding_round_id     52928 non-null   Int32         \n",
      " 14  company_id           52928 non-null   Int32         \n",
      " 15  funded_at            52680 non-null   datetime64[ns]\n",
      " 16  funding_round_type   52928 non-null   object        \n",
      " 17  raised_amount        52928 non-null   float64       \n",
      " 18  pre_money_valuation  52928 non-null   float64       \n",
      " 19  participants         52928 non-null   Int32         \n",
      " 20  is_first_round       52928 non-null   Int32         \n",
      " 21  is_last_round        52928 non-null   Int32         \n",
      " 22  year                 52680 non-null   float64       \n",
      "dtypes: Int32(6), datetime64[ns](3), float64(7), object(7)\n",
      "memory usage: 34.5+ MB\n"
     ]
    },
    {
     "data": {
      "text/plain": [
       "None"
      ]
     },
     "metadata": {},
     "output_type": "display_data"
    }
   ],
   "source": [
    "display(df_company_and_rounds.info())"
   ]
  },
  {
   "cell_type": "markdown",
   "metadata": {
    "id": "9BY9lTUcFbJ-"
   },
   "source": [
    "Можно предположить, что это когда то были две разные таблицы с двумя `company_id`, потому что ровно до слуедующего столбца `company_id` можно заметить информацию о компаниях и далее о раундах финансирования. Можно разделить данные таблицы на две, чтобы в дальнейшем было удобнее проводить анализ.\n"
   ]
  },
  {
   "cell_type": "code",
   "execution_count": null,
   "metadata": {
    "id": "tJ6Sl6MKrJg1"
   },
   "outputs": [
    {
     "name": "stdout",
     "output_type": "stream",
     "text": [
      "<class 'pandas.core.frame.DataFrame'>\n",
      "RangeIndex: 217774 entries, 0 to 217773\n",
      "Data columns (total 13 columns):\n",
      " #   Column             Non-Null Count   Dtype         \n",
      "---  ------             --------------   -----         \n",
      " 0   company_ID         217472 non-null  Int32         \n",
      " 1   name               217472 non-null  object        \n",
      " 2   category_code      143886 non-null  object        \n",
      " 3   status             217472 non-null  object        \n",
      " 4   founded_at         109956 non-null  datetime64[ns]\n",
      " 5   closed_at          3449 non-null    datetime64[ns]\n",
      " 6   domain             147159 non-null  object        \n",
      " 7   network_username   95534 non-null   object        \n",
      " 8   country_code       108607 non-null  object        \n",
      " 9   investment_rounds  217472 non-null  float64       \n",
      " 10  funding_rounds     217472 non-null  float64       \n",
      " 11  funding_total      217472 non-null  float64       \n",
      " 12  milestones         217472 non-null  float64       \n",
      "dtypes: Int32(1), datetime64[ns](2), float64(4), object(6)\n",
      "memory usage: 21.0+ MB\n"
     ]
    },
    {
     "data": {
      "text/plain": [
       "None"
      ]
     },
     "metadata": {},
     "output_type": "display_data"
    },
    {
     "name": "stdout",
     "output_type": "stream",
     "text": [
      "<class 'pandas.core.frame.DataFrame'>\n",
      "RangeIndex: 217774 entries, 0 to 217773\n",
      "Data columns (total 10 columns):\n",
      " #   Column               Non-Null Count  Dtype         \n",
      "---  ------               --------------  -----         \n",
      " 0   company_id           52928 non-null  Int32         \n",
      " 1   funding_round_id     52928 non-null  Int32         \n",
      " 2   funded_at            52680 non-null  datetime64[ns]\n",
      " 3   funding_round_type   52928 non-null  object        \n",
      " 4   raised_amount        52928 non-null  float64       \n",
      " 5   pre_money_valuation  52928 non-null  float64       \n",
      " 6   participants         52928 non-null  Int32         \n",
      " 7   is_first_round       52928 non-null  Int32         \n",
      " 8   is_last_round        52928 non-null  Int32         \n",
      " 9   year                 52680 non-null  float64       \n",
      "dtypes: Int32(5), datetime64[ns](1), float64(3), object(1)\n",
      "memory usage: 13.5+ MB\n"
     ]
    },
    {
     "data": {
      "text/plain": [
       "None"
      ]
     },
     "metadata": {},
     "output_type": "display_data"
    }
   ],
   "source": [
    "# При помощи loc создадим новую таблицу df_company со столбцами от начала до milestones\n",
    "\n",
    "df_company = df_company_and_rounds.loc[:,:'milestones']\n",
    "\n",
    "# Создадим вторую таблицу df_rounds со столбцами от company_id до year\n",
    "df_rounds = df_company_and_rounds[['company_id', 'funding_round_id', 'funded_at', 'funding_round_type', 'raised_amount', 'pre_money_valuation', 'participants', 'is_first_round', 'is_last_round', 'year']]     \n",
    "\n",
    "display(df_company.info())\n",
    "display(df_rounds.info())"
   ]
  },
  {
   "cell_type": "markdown",
   "metadata": {},
   "source": [
    "Мы получили две новых таблицы `df_company` и `df_rounds`. В первой таблице 217774 строк и 13 столбцов. Во второй таблице 217774 строк и 10 столбцов. "
   ]
  },
  {
   "cell_type": "code",
   "execution_count": null,
   "metadata": {
    "scrolled": false
   },
   "outputs": [
    {
     "data": {
      "text/plain": [
       "'name'"
      ]
     },
     "metadata": {},
     "output_type": "display_data"
    },
    {
     "data": {
      "text/plain": [
       "array(['Wetpaint', 'Flektor', 'There', ..., 'Pphotonet', 'Photonet', nan],\n",
       "      dtype=object)"
      ]
     },
     "metadata": {},
     "output_type": "display_data"
    },
    {
     "data": {
      "text/plain": [
       "'category_code'"
      ]
     },
     "metadata": {},
     "output_type": "display_data"
    },
    {
     "data": {
      "text/plain": [
       "array(['web', 'games_video', 'network_hosting', 'advertising',\n",
       "       'cleantech', nan, 'enterprise', 'other', 'consulting', 'mobile',\n",
       "       'health', 'software', 'analytics', 'finance', 'education',\n",
       "       'medical', 'manufacturing', 'biotech', 'ecommerce',\n",
       "       'public_relations', 'hardware', 'search', 'news', 'government',\n",
       "       'security', 'photo_video', 'travel', 'semiconductor', 'social',\n",
       "       'legal', 'transportation', 'hospitality', 'sports', 'nonprofit',\n",
       "       'fashion', 'messaging', 'music', 'automotive', 'design',\n",
       "       'real_estate', 'local', 'nanotech', 'pets'], dtype=object)"
      ]
     },
     "metadata": {},
     "output_type": "display_data"
    },
    {
     "data": {
      "text/plain": [
       "'status'"
      ]
     },
     "metadata": {},
     "output_type": "display_data"
    },
    {
     "data": {
      "text/plain": [
       "array(['operating', 'acquired', 'closed', 'ipo', nan], dtype=object)"
      ]
     },
     "metadata": {},
     "output_type": "display_data"
    },
    {
     "data": {
      "text/plain": [
       "'domain'"
      ]
     },
     "metadata": {},
     "output_type": "display_data"
    },
    {
     "data": {
      "text/plain": [
       "array(['wetpaint-inc.com', 'flektor.com', 'there.com', ...,\n",
       "       'flowgram.com', 'pPhotonet.co', 'Photonet.com'], dtype=object)"
      ]
     },
     "metadata": {},
     "output_type": "display_data"
    },
    {
     "data": {
      "text/plain": [
       "'network_username'"
      ]
     },
     "metadata": {},
     "output_type": "display_data"
    },
    {
     "data": {
      "text/plain": [
       "array(['BachelrWetpaint', nan, 'Hostnine', ..., 'networkzend',\n",
       "       'pPhotonet', 'Photonet'], dtype=object)"
      ]
     },
     "metadata": {},
     "output_type": "display_data"
    },
    {
     "data": {
      "text/plain": [
       "'country_code'"
      ]
     },
     "metadata": {},
     "output_type": "display_data"
    },
    {
     "data": {
      "text/plain": [
       "array(['USA', nan, 'MAR', 'IND', 'AUS', 'FRA', 'JPN', 'NLD', 'EGY', 'ISR',\n",
       "       'GBR', 'THA', 'CAN', 'AUT', 'IRL', 'SWE', 'DEU', 'BRA', 'FIN',\n",
       "       'RUS', 'SGP', 'MEX', 'CHN', 'ESP', 'ISL', 'KOR', 'TUR', 'DNK',\n",
       "       'ARG', 'PAK', 'HUN', 'POL', 'GRC', 'PRT', 'BLR', 'CSS', 'MKD',\n",
       "       'CHE', 'SVN', 'UKR', 'ITA', 'NZL', 'LIE', 'NOR', 'CZE', 'VNM',\n",
       "       'HRV', 'BEN', 'CHL', 'GHA', 'ZAF', 'MYS', 'EST', 'BEL', 'SVK',\n",
       "       'TWN', 'CRI', 'HKG', 'BGD', 'BOL', 'LBN', 'LUX', 'AZE', 'COL',\n",
       "       'PHL', 'ARE', 'IDN', 'ROM', 'ANT', 'CYM', 'NGA', 'GIN', 'CYP',\n",
       "       'LKA', 'SWZ', 'VGB', 'MLT', 'SAU', 'KEN', 'BGR', 'PER', 'LVA',\n",
       "       'LAO', 'NPL', 'MDA', 'CMR', 'UGA', 'TUN', 'URY', 'MUS', 'VEN',\n",
       "       'OMN', 'ECU', 'KWT', 'JOR', 'LTU', 'ALB', 'QAT', 'UMI', 'PST',\n",
       "       'REU', 'GTM', 'PCN', 'BHS', 'GEO', 'BWA', 'DZA', 'GRD', 'ZMB',\n",
       "       'GIB', 'PAN', 'MTQ', 'PRI', 'BIH', 'DMA', 'BHR', 'SYC', 'SLE',\n",
       "       'TTO', 'VCT', 'ARA', 'BRB', 'NAM', 'SLV', 'AFG', 'BLZ', 'UZB',\n",
       "       'IRN', 'TZA', 'ARM', 'ATG', 'DOM', 'JAM', 'MDV', 'MMR', 'KAZ',\n",
       "       'GLP', 'MAC', 'IOT', 'MDG', 'KGZ', 'VIR', 'ZWE', 'PRY', 'PRK',\n",
       "       'LSO', 'SMR', 'IRQ', 'BMU', 'NRU', 'KHM', 'ETH', 'BDI', 'SEN',\n",
       "       'HMI', 'TJK', 'NER', 'NCL', 'CUB', 'FST', 'AGO', 'NFK', 'NIC',\n",
       "       'AND', 'MCO', 'YEM', 'BRN', 'HTI', 'AIA', 'SUR', 'SYR', 'SOM',\n",
       "       'RWA', 'CIV', 'SDN', 'HND'], dtype=object)"
      ]
     },
     "metadata": {},
     "output_type": "display_data"
    },
    {
     "data": {
      "text/plain": [
       "array(['series-a', 'series-b', 'series-c+', nan, 'angel', 'venture',\n",
       "       'other', 'private-equity', 'post-ipo', 'crowdfunding'],\n",
       "      dtype=object)"
      ]
     },
     "metadata": {},
     "output_type": "display_data"
    },
    {
     "data": {
      "text/plain": [
       "'Кол-во явных дубликатов по столбцу company_ID таблицы company:'"
      ]
     },
     "metadata": {},
     "output_type": "display_data"
    },
    {
     "data": {
      "text/plain": [
       "21220"
      ]
     },
     "metadata": {},
     "output_type": "display_data"
    },
    {
     "data": {
      "text/plain": [
       "'Кол-во явных дубликатов по столбцу company_id таблицы rounds:'"
      ]
     },
     "metadata": {},
     "output_type": "display_data"
    },
    {
     "data": {
      "text/plain": [
       "185834"
      ]
     },
     "metadata": {},
     "output_type": "display_data"
    },
    {
     "data": {
      "text/plain": [
       "'Кол-во явных дубликатов по столбцам таблицы company:'"
      ]
     },
     "metadata": {},
     "output_type": "display_data"
    },
    {
     "data": {
      "text/plain": [
       "21220"
      ]
     },
     "metadata": {},
     "output_type": "display_data"
    },
    {
     "data": {
      "text/plain": [
       "'Кол-во явных дубликатов по столбцам таблицы rounds:'"
      ]
     },
     "metadata": {},
     "output_type": "display_data"
    },
    {
     "data": {
      "text/plain": [
       "164845"
      ]
     },
     "metadata": {},
     "output_type": "display_data"
    },
    {
     "data": {
      "text/html": [
       "<div>\n",
       "<style scoped>\n",
       "    .dataframe tbody tr th:only-of-type {\n",
       "        vertical-align: middle;\n",
       "    }\n",
       "\n",
       "    .dataframe tbody tr th {\n",
       "        vertical-align: top;\n",
       "    }\n",
       "\n",
       "    .dataframe thead th {\n",
       "        text-align: right;\n",
       "    }\n",
       "</style>\n",
       "<table border=\"1\" class=\"dataframe\">\n",
       "  <thead>\n",
       "    <tr style=\"text-align: right;\">\n",
       "      <th></th>\n",
       "      <th>company_ID</th>\n",
       "      <th>name</th>\n",
       "      <th>category_code</th>\n",
       "      <th>status</th>\n",
       "      <th>founded_at</th>\n",
       "      <th>closed_at</th>\n",
       "      <th>domain</th>\n",
       "      <th>network_username</th>\n",
       "      <th>country_code</th>\n",
       "      <th>investment_rounds</th>\n",
       "      <th>funding_rounds</th>\n",
       "      <th>funding_total</th>\n",
       "      <th>milestones</th>\n",
       "    </tr>\n",
       "  </thead>\n",
       "  <tbody>\n",
       "    <tr>\n",
       "      <th>171448</th>\n",
       "      <td>44927</td>\n",
       "      <td>10-20 media</td>\n",
       "      <td>ecommerce</td>\n",
       "      <td>operating</td>\n",
       "      <td>2001-01-01</td>\n",
       "      <td>NaT</td>\n",
       "      <td>10-20media.com</td>\n",
       "      <td>NaN</td>\n",
       "      <td>usa</td>\n",
       "      <td>0.00</td>\n",
       "      <td>3.00</td>\n",
       "      <td>1550000.00</td>\n",
       "      <td>0.00</td>\n",
       "    </tr>\n",
       "    <tr>\n",
       "      <th>171447</th>\n",
       "      <td>44927</td>\n",
       "      <td>10-20 media</td>\n",
       "      <td>ecommerce</td>\n",
       "      <td>operating</td>\n",
       "      <td>2001-01-01</td>\n",
       "      <td>NaT</td>\n",
       "      <td>10-20media.com</td>\n",
       "      <td>NaN</td>\n",
       "      <td>usa</td>\n",
       "      <td>0.00</td>\n",
       "      <td>3.00</td>\n",
       "      <td>1550000.00</td>\n",
       "      <td>0.00</td>\n",
       "    </tr>\n",
       "    <tr>\n",
       "      <th>179056</th>\n",
       "      <td>51379</td>\n",
       "      <td>1000memories</td>\n",
       "      <td>web</td>\n",
       "      <td>acquired</td>\n",
       "      <td>2010-07-01</td>\n",
       "      <td>NaT</td>\n",
       "      <td>1000memories.com</td>\n",
       "      <td>1000memories</td>\n",
       "      <td>usa</td>\n",
       "      <td>0.00</td>\n",
       "      <td>2.00</td>\n",
       "      <td>2535000.00</td>\n",
       "      <td>2.00</td>\n",
       "    </tr>\n",
       "    <tr>\n",
       "      <th>55163</th>\n",
       "      <td>191780</td>\n",
       "      <td>1000museums.com</td>\n",
       "      <td>web</td>\n",
       "      <td>operating</td>\n",
       "      <td>2008-01-01</td>\n",
       "      <td>NaT</td>\n",
       "      <td>1000museums.com</td>\n",
       "      <td>1000Museums</td>\n",
       "      <td>usa</td>\n",
       "      <td>0.00</td>\n",
       "      <td>2.00</td>\n",
       "      <td>1289880.00</td>\n",
       "      <td>1.00</td>\n",
       "    </tr>\n",
       "    <tr>\n",
       "      <th>163437</th>\n",
       "      <td>38391</td>\n",
       "      <td>100du.tv</td>\n",
       "      <td>hospitality</td>\n",
       "      <td>operating</td>\n",
       "      <td>NaT</td>\n",
       "      <td>NaT</td>\n",
       "      <td>100du.com</td>\n",
       "      <td>NaN</td>\n",
       "      <td>NaN</td>\n",
       "      <td>0.00</td>\n",
       "      <td>2.00</td>\n",
       "      <td>3000000.00</td>\n",
       "      <td>0.00</td>\n",
       "    </tr>\n",
       "    <tr>\n",
       "      <th>...</th>\n",
       "      <td>...</td>\n",
       "      <td>...</td>\n",
       "      <td>...</td>\n",
       "      <td>...</td>\n",
       "      <td>...</td>\n",
       "      <td>...</td>\n",
       "      <td>...</td>\n",
       "      <td>...</td>\n",
       "      <td>...</td>\n",
       "      <td>...</td>\n",
       "      <td>...</td>\n",
       "      <td>...</td>\n",
       "      <td>...</td>\n",
       "    </tr>\n",
       "    <tr>\n",
       "      <th>217769</th>\n",
       "      <td>&lt;NA&gt;</td>\n",
       "      <td>NaN</td>\n",
       "      <td>NaN</td>\n",
       "      <td>NaN</td>\n",
       "      <td>NaT</td>\n",
       "      <td>NaT</td>\n",
       "      <td>NaN</td>\n",
       "      <td>NaN</td>\n",
       "      <td>NaN</td>\n",
       "      <td>NaN</td>\n",
       "      <td>NaN</td>\n",
       "      <td>NaN</td>\n",
       "      <td>NaN</td>\n",
       "    </tr>\n",
       "    <tr>\n",
       "      <th>217770</th>\n",
       "      <td>&lt;NA&gt;</td>\n",
       "      <td>NaN</td>\n",
       "      <td>NaN</td>\n",
       "      <td>NaN</td>\n",
       "      <td>NaT</td>\n",
       "      <td>NaT</td>\n",
       "      <td>NaN</td>\n",
       "      <td>NaN</td>\n",
       "      <td>NaN</td>\n",
       "      <td>NaN</td>\n",
       "      <td>NaN</td>\n",
       "      <td>NaN</td>\n",
       "      <td>NaN</td>\n",
       "    </tr>\n",
       "    <tr>\n",
       "      <th>217771</th>\n",
       "      <td>&lt;NA&gt;</td>\n",
       "      <td>NaN</td>\n",
       "      <td>NaN</td>\n",
       "      <td>NaN</td>\n",
       "      <td>NaT</td>\n",
       "      <td>NaT</td>\n",
       "      <td>NaN</td>\n",
       "      <td>NaN</td>\n",
       "      <td>NaN</td>\n",
       "      <td>NaN</td>\n",
       "      <td>NaN</td>\n",
       "      <td>NaN</td>\n",
       "      <td>NaN</td>\n",
       "    </tr>\n",
       "    <tr>\n",
       "      <th>217772</th>\n",
       "      <td>&lt;NA&gt;</td>\n",
       "      <td>NaN</td>\n",
       "      <td>NaN</td>\n",
       "      <td>NaN</td>\n",
       "      <td>NaT</td>\n",
       "      <td>NaT</td>\n",
       "      <td>NaN</td>\n",
       "      <td>NaN</td>\n",
       "      <td>NaN</td>\n",
       "      <td>NaN</td>\n",
       "      <td>NaN</td>\n",
       "      <td>NaN</td>\n",
       "      <td>NaN</td>\n",
       "    </tr>\n",
       "    <tr>\n",
       "      <th>217773</th>\n",
       "      <td>&lt;NA&gt;</td>\n",
       "      <td>NaN</td>\n",
       "      <td>NaN</td>\n",
       "      <td>NaN</td>\n",
       "      <td>NaT</td>\n",
       "      <td>NaT</td>\n",
       "      <td>NaN</td>\n",
       "      <td>NaN</td>\n",
       "      <td>NaN</td>\n",
       "      <td>NaN</td>\n",
       "      <td>NaN</td>\n",
       "      <td>NaN</td>\n",
       "      <td>NaN</td>\n",
       "    </tr>\n",
       "  </tbody>\n",
       "</table>\n",
       "<p>21268 rows × 13 columns</p>\n",
       "</div>"
      ],
      "text/plain": [
       "        company_ID             name category_code     status founded_at  \\\n",
       "171448       44927      10-20 media     ecommerce  operating 2001-01-01   \n",
       "171447       44927      10-20 media     ecommerce  operating 2001-01-01   \n",
       "179056       51379     1000memories           web   acquired 2010-07-01   \n",
       "55163       191780  1000museums.com           web  operating 2008-01-01   \n",
       "163437       38391         100du.tv   hospitality  operating        NaT   \n",
       "...            ...              ...           ...        ...        ...   \n",
       "217769        <NA>              NaN           NaN        NaN        NaT   \n",
       "217770        <NA>              NaN           NaN        NaN        NaT   \n",
       "217771        <NA>              NaN           NaN        NaN        NaT   \n",
       "217772        <NA>              NaN           NaN        NaN        NaT   \n",
       "217773        <NA>              NaN           NaN        NaN        NaT   \n",
       "\n",
       "       closed_at            domain network_username country_code  \\\n",
       "171448       NaT    10-20media.com              NaN          usa   \n",
       "171447       NaT    10-20media.com              NaN          usa   \n",
       "179056       NaT  1000memories.com     1000memories          usa   \n",
       "55163        NaT   1000museums.com      1000Museums          usa   \n",
       "163437       NaT         100du.com              NaN          NaN   \n",
       "...          ...               ...              ...          ...   \n",
       "217769       NaT               NaN              NaN          NaN   \n",
       "217770       NaT               NaN              NaN          NaN   \n",
       "217771       NaT               NaN              NaN          NaN   \n",
       "217772       NaT               NaN              NaN          NaN   \n",
       "217773       NaT               NaN              NaN          NaN   \n",
       "\n",
       "        investment_rounds  funding_rounds  funding_total  milestones  \n",
       "171448               0.00            3.00     1550000.00        0.00  \n",
       "171447               0.00            3.00     1550000.00        0.00  \n",
       "179056               0.00            2.00     2535000.00        2.00  \n",
       "55163                0.00            2.00     1289880.00        1.00  \n",
       "163437               0.00            2.00     3000000.00        0.00  \n",
       "...                   ...             ...            ...         ...  \n",
       "217769                NaN             NaN            NaN         NaN  \n",
       "217770                NaN             NaN            NaN         NaN  \n",
       "217771                NaN             NaN            NaN         NaN  \n",
       "217772                NaN             NaN            NaN         NaN  \n",
       "217773                NaN             NaN            NaN         NaN  \n",
       "\n",
       "[21268 rows x 13 columns]"
      ]
     },
     "metadata": {},
     "output_type": "display_data"
    },
    {
     "data": {
      "text/html": [
       "<div>\n",
       "<style scoped>\n",
       "    .dataframe tbody tr th:only-of-type {\n",
       "        vertical-align: middle;\n",
       "    }\n",
       "\n",
       "    .dataframe tbody tr th {\n",
       "        vertical-align: top;\n",
       "    }\n",
       "\n",
       "    .dataframe thead th {\n",
       "        text-align: right;\n",
       "    }\n",
       "</style>\n",
       "<table border=\"1\" class=\"dataframe\">\n",
       "  <thead>\n",
       "    <tr style=\"text-align: right;\">\n",
       "      <th></th>\n",
       "      <th>company_ID</th>\n",
       "      <th>name</th>\n",
       "      <th>category_code</th>\n",
       "      <th>status</th>\n",
       "      <th>founded_at</th>\n",
       "      <th>closed_at</th>\n",
       "      <th>domain</th>\n",
       "      <th>network_username</th>\n",
       "      <th>country_code</th>\n",
       "      <th>investment_rounds</th>\n",
       "      <th>funding_rounds</th>\n",
       "      <th>funding_total</th>\n",
       "      <th>milestones</th>\n",
       "    </tr>\n",
       "  </thead>\n",
       "  <tbody>\n",
       "    <tr>\n",
       "      <th>0</th>\n",
       "      <td>1</td>\n",
       "      <td>wetpaint</td>\n",
       "      <td>web</td>\n",
       "      <td>operating</td>\n",
       "      <td>2005-10-17</td>\n",
       "      <td>NaT</td>\n",
       "      <td>wetpaint-inc.com</td>\n",
       "      <td>BachelrWetpaint</td>\n",
       "      <td>usa</td>\n",
       "      <td>0.00</td>\n",
       "      <td>3.00</td>\n",
       "      <td>39750000.00</td>\n",
       "      <td>5.00</td>\n",
       "    </tr>\n",
       "    <tr>\n",
       "      <th>3</th>\n",
       "      <td>10</td>\n",
       "      <td>flektor</td>\n",
       "      <td>games_video</td>\n",
       "      <td>acquired</td>\n",
       "      <td>NaT</td>\n",
       "      <td>NaT</td>\n",
       "      <td>flektor.com</td>\n",
       "      <td>NaN</td>\n",
       "      <td>usa</td>\n",
       "      <td>0.00</td>\n",
       "      <td>0.00</td>\n",
       "      <td>0.00</td>\n",
       "      <td>0.00</td>\n",
       "    </tr>\n",
       "    <tr>\n",
       "      <th>4</th>\n",
       "      <td>100</td>\n",
       "      <td>there</td>\n",
       "      <td>games_video</td>\n",
       "      <td>acquired</td>\n",
       "      <td>NaT</td>\n",
       "      <td>NaT</td>\n",
       "      <td>there.com</td>\n",
       "      <td>NaN</td>\n",
       "      <td>usa</td>\n",
       "      <td>0.00</td>\n",
       "      <td>0.00</td>\n",
       "      <td>0.00</td>\n",
       "      <td>4.00</td>\n",
       "    </tr>\n",
       "    <tr>\n",
       "      <th>5</th>\n",
       "      <td>10000</td>\n",
       "      <td>mywebbo</td>\n",
       "      <td>network_hosting</td>\n",
       "      <td>operating</td>\n",
       "      <td>2008-07-26</td>\n",
       "      <td>NaT</td>\n",
       "      <td>mywebbo.com</td>\n",
       "      <td>NaN</td>\n",
       "      <td>NaN</td>\n",
       "      <td>0.00</td>\n",
       "      <td>0.00</td>\n",
       "      <td>0.00</td>\n",
       "      <td>0.00</td>\n",
       "    </tr>\n",
       "    <tr>\n",
       "      <th>6</th>\n",
       "      <td>10001</td>\n",
       "      <td>the movie streamer</td>\n",
       "      <td>games_video</td>\n",
       "      <td>operating</td>\n",
       "      <td>2008-07-26</td>\n",
       "      <td>NaT</td>\n",
       "      <td>themoviestreamer.com</td>\n",
       "      <td>NaN</td>\n",
       "      <td>NaN</td>\n",
       "      <td>0.00</td>\n",
       "      <td>0.00</td>\n",
       "      <td>0.00</td>\n",
       "      <td>0.00</td>\n",
       "    </tr>\n",
       "    <tr>\n",
       "      <th>...</th>\n",
       "      <td>...</td>\n",
       "      <td>...</td>\n",
       "      <td>...</td>\n",
       "      <td>...</td>\n",
       "      <td>...</td>\n",
       "      <td>...</td>\n",
       "      <td>...</td>\n",
       "      <td>...</td>\n",
       "      <td>...</td>\n",
       "      <td>...</td>\n",
       "      <td>...</td>\n",
       "      <td>...</td>\n",
       "      <td>...</td>\n",
       "    </tr>\n",
       "    <tr>\n",
       "      <th>217462</th>\n",
       "      <td>183352</td>\n",
       "      <td>mattress source</td>\n",
       "      <td>NaN</td>\n",
       "      <td>operating</td>\n",
       "      <td>NaT</td>\n",
       "      <td>NaT</td>\n",
       "      <td>mattresssourcestl.com</td>\n",
       "      <td>network</td>\n",
       "      <td>NaN</td>\n",
       "      <td>0.00</td>\n",
       "      <td>0.00</td>\n",
       "      <td>0.00</td>\n",
       "      <td>0.00</td>\n",
       "    </tr>\n",
       "    <tr>\n",
       "      <th>217463</th>\n",
       "      <td>3429</td>\n",
       "      <td>zend technologies</td>\n",
       "      <td>software</td>\n",
       "      <td>operating</td>\n",
       "      <td>1999-01-01</td>\n",
       "      <td>NaT</td>\n",
       "      <td>zend.com</td>\n",
       "      <td>networkzend</td>\n",
       "      <td>usa</td>\n",
       "      <td>0.00</td>\n",
       "      <td>4.00</td>\n",
       "      <td>44000000.00</td>\n",
       "      <td>6.00</td>\n",
       "    </tr>\n",
       "    <tr>\n",
       "      <th>217467</th>\n",
       "      <td>7748</td>\n",
       "      <td>flowgram</td>\n",
       "      <td>web</td>\n",
       "      <td>closed</td>\n",
       "      <td>2007-06-01</td>\n",
       "      <td>2008-06-11</td>\n",
       "      <td>flowgram.com</td>\n",
       "      <td>network</td>\n",
       "      <td>usa</td>\n",
       "      <td>0.00</td>\n",
       "      <td>1.00</td>\n",
       "      <td>1300000.00</td>\n",
       "      <td>3.00</td>\n",
       "    </tr>\n",
       "    <tr>\n",
       "      <th>217468</th>\n",
       "      <td>174536</td>\n",
       "      <td>pphotonet</td>\n",
       "      <td>games_video</td>\n",
       "      <td>operating</td>\n",
       "      <td>2012-05-01</td>\n",
       "      <td>NaT</td>\n",
       "      <td>pPhotonet.co</td>\n",
       "      <td>pPhotonet</td>\n",
       "      <td>NaN</td>\n",
       "      <td>0.00</td>\n",
       "      <td>0.00</td>\n",
       "      <td>0.00</td>\n",
       "      <td>0.00</td>\n",
       "    </tr>\n",
       "    <tr>\n",
       "      <th>217469</th>\n",
       "      <td>43233</td>\n",
       "      <td>photonet</td>\n",
       "      <td>photo_video</td>\n",
       "      <td>acquired</td>\n",
       "      <td>2010-03-01</td>\n",
       "      <td>NaT</td>\n",
       "      <td>Photonet.com</td>\n",
       "      <td>Photonet</td>\n",
       "      <td>usa</td>\n",
       "      <td>0.00</td>\n",
       "      <td>3.00</td>\n",
       "      <td>57500000.00</td>\n",
       "      <td>3.00</td>\n",
       "    </tr>\n",
       "  </tbody>\n",
       "</table>\n",
       "<p>196505 rows × 13 columns</p>\n",
       "</div>"
      ],
      "text/plain": [
       "        company_ID                name    category_code     status founded_at  \\\n",
       "0                1            wetpaint              web  operating 2005-10-17   \n",
       "3               10             flektor      games_video   acquired        NaT   \n",
       "4              100               there      games_video   acquired        NaT   \n",
       "5            10000             mywebbo  network_hosting  operating 2008-07-26   \n",
       "6            10001  the movie streamer      games_video  operating 2008-07-26   \n",
       "...            ...                 ...              ...        ...        ...   \n",
       "217462      183352     mattress source              NaN  operating        NaT   \n",
       "217463        3429   zend technologies         software  operating 1999-01-01   \n",
       "217467        7748            flowgram              web     closed 2007-06-01   \n",
       "217468      174536           pphotonet      games_video  operating 2012-05-01   \n",
       "217469       43233            photonet      photo_video   acquired 2010-03-01   \n",
       "\n",
       "        closed_at                 domain network_username country_code  \\\n",
       "0             NaT       wetpaint-inc.com  BachelrWetpaint          usa   \n",
       "3             NaT            flektor.com              NaN          usa   \n",
       "4             NaT              there.com              NaN          usa   \n",
       "5             NaT            mywebbo.com              NaN          NaN   \n",
       "6             NaT   themoviestreamer.com              NaN          NaN   \n",
       "...           ...                    ...              ...          ...   \n",
       "217462        NaT  mattresssourcestl.com          network          NaN   \n",
       "217463        NaT               zend.com      networkzend          usa   \n",
       "217467 2008-06-11           flowgram.com          network          usa   \n",
       "217468        NaT           pPhotonet.co        pPhotonet          NaN   \n",
       "217469        NaT           Photonet.com         Photonet          usa   \n",
       "\n",
       "        investment_rounds  funding_rounds  funding_total  milestones  \n",
       "0                    0.00            3.00    39750000.00        5.00  \n",
       "3                    0.00            0.00           0.00        0.00  \n",
       "4                    0.00            0.00           0.00        4.00  \n",
       "5                    0.00            0.00           0.00        0.00  \n",
       "6                    0.00            0.00           0.00        0.00  \n",
       "...                   ...             ...            ...         ...  \n",
       "217462               0.00            0.00           0.00        0.00  \n",
       "217463               0.00            4.00    44000000.00        6.00  \n",
       "217467               0.00            1.00     1300000.00        3.00  \n",
       "217468               0.00            0.00           0.00        0.00  \n",
       "217469               0.00            3.00    57500000.00        3.00  \n",
       "\n",
       "[196505 rows x 13 columns]"
      ]
     },
     "metadata": {},
     "output_type": "display_data"
    },
    {
     "data": {
      "text/html": [
       "<div>\n",
       "<style scoped>\n",
       "    .dataframe tbody tr th:only-of-type {\n",
       "        vertical-align: middle;\n",
       "    }\n",
       "\n",
       "    .dataframe tbody tr th {\n",
       "        vertical-align: top;\n",
       "    }\n",
       "\n",
       "    .dataframe thead th {\n",
       "        text-align: right;\n",
       "    }\n",
       "</style>\n",
       "<table border=\"1\" class=\"dataframe\">\n",
       "  <thead>\n",
       "    <tr style=\"text-align: right;\">\n",
       "      <th></th>\n",
       "      <th>company_id</th>\n",
       "      <th>funding_round_id</th>\n",
       "      <th>funded_at</th>\n",
       "      <th>funding_round_type</th>\n",
       "      <th>raised_amount</th>\n",
       "      <th>pre_money_valuation</th>\n",
       "      <th>participants</th>\n",
       "      <th>is_first_round</th>\n",
       "      <th>is_last_round</th>\n",
       "      <th>year</th>\n",
       "    </tr>\n",
       "  </thead>\n",
       "  <tbody>\n",
       "    <tr>\n",
       "      <th>0</th>\n",
       "      <td>1</td>\n",
       "      <td>888</td>\n",
       "      <td>2005-10-01</td>\n",
       "      <td>series-a</td>\n",
       "      <td>5250000.00</td>\n",
       "      <td>0.00</td>\n",
       "      <td>2</td>\n",
       "      <td>0</td>\n",
       "      <td>1</td>\n",
       "      <td>2005.00</td>\n",
       "    </tr>\n",
       "    <tr>\n",
       "      <th>1</th>\n",
       "      <td>1</td>\n",
       "      <td>889</td>\n",
       "      <td>2007-01-01</td>\n",
       "      <td>series-b</td>\n",
       "      <td>9500000.00</td>\n",
       "      <td>0.00</td>\n",
       "      <td>3</td>\n",
       "      <td>0</td>\n",
       "      <td>0</td>\n",
       "      <td>2007.00</td>\n",
       "    </tr>\n",
       "    <tr>\n",
       "      <th>2</th>\n",
       "      <td>1</td>\n",
       "      <td>2312</td>\n",
       "      <td>2008-05-19</td>\n",
       "      <td>series-c+</td>\n",
       "      <td>25000000.00</td>\n",
       "      <td>0.00</td>\n",
       "      <td>4</td>\n",
       "      <td>1</td>\n",
       "      <td>0</td>\n",
       "      <td>2008.00</td>\n",
       "    </tr>\n",
       "    <tr>\n",
       "      <th>15</th>\n",
       "      <td>1001</td>\n",
       "      <td>1644</td>\n",
       "      <td>2008-02-26</td>\n",
       "      <td>series-a</td>\n",
       "      <td>5000000.00</td>\n",
       "      <td>0.00</td>\n",
       "      <td>3</td>\n",
       "      <td>1</td>\n",
       "      <td>1</td>\n",
       "      <td>2008.00</td>\n",
       "    </tr>\n",
       "    <tr>\n",
       "      <th>20</th>\n",
       "      <td>10014</td>\n",
       "      <td>6682</td>\n",
       "      <td>2008-09-01</td>\n",
       "      <td>angel</td>\n",
       "      <td>0.00</td>\n",
       "      <td>0.00</td>\n",
       "      <td>1</td>\n",
       "      <td>1</td>\n",
       "      <td>1</td>\n",
       "      <td>2008.00</td>\n",
       "    </tr>\n",
       "    <tr>\n",
       "      <th>...</th>\n",
       "      <td>...</td>\n",
       "      <td>...</td>\n",
       "      <td>...</td>\n",
       "      <td>...</td>\n",
       "      <td>...</td>\n",
       "      <td>...</td>\n",
       "      <td>...</td>\n",
       "      <td>...</td>\n",
       "      <td>...</td>\n",
       "      <td>...</td>\n",
       "    </tr>\n",
       "    <tr>\n",
       "      <th>217769</th>\n",
       "      <td>282847</td>\n",
       "      <td>56454</td>\n",
       "      <td>2011-01-31</td>\n",
       "      <td>other</td>\n",
       "      <td>5500000.00</td>\n",
       "      <td>0.00</td>\n",
       "      <td>0</td>\n",
       "      <td>1</td>\n",
       "      <td>1</td>\n",
       "      <td>2011.00</td>\n",
       "    </tr>\n",
       "    <tr>\n",
       "      <th>217770</th>\n",
       "      <td>55477</td>\n",
       "      <td>56542</td>\n",
       "      <td>2011-01-13</td>\n",
       "      <td>venture</td>\n",
       "      <td>10633300.00</td>\n",
       "      <td>0.00</td>\n",
       "      <td>0</td>\n",
       "      <td>0</td>\n",
       "      <td>1</td>\n",
       "      <td>2011.00</td>\n",
       "    </tr>\n",
       "    <tr>\n",
       "      <th>217771</th>\n",
       "      <td>55477</td>\n",
       "      <td>56543</td>\n",
       "      <td>2012-05-31</td>\n",
       "      <td>venture</td>\n",
       "      <td>2125720.00</td>\n",
       "      <td>0.00</td>\n",
       "      <td>0</td>\n",
       "      <td>1</td>\n",
       "      <td>0</td>\n",
       "      <td>2012.00</td>\n",
       "    </tr>\n",
       "    <tr>\n",
       "      <th>217772</th>\n",
       "      <td>283492</td>\n",
       "      <td>56928</td>\n",
       "      <td>2013-12-03</td>\n",
       "      <td>venture</td>\n",
       "      <td>3602480.00</td>\n",
       "      <td>0.00</td>\n",
       "      <td>5</td>\n",
       "      <td>1</td>\n",
       "      <td>1</td>\n",
       "      <td>2013.00</td>\n",
       "    </tr>\n",
       "    <tr>\n",
       "      <th>217773</th>\n",
       "      <td>284191</td>\n",
       "      <td>57063</td>\n",
       "      <td>2013-12-04</td>\n",
       "      <td>venture</td>\n",
       "      <td>7000000.00</td>\n",
       "      <td>0.00</td>\n",
       "      <td>4</td>\n",
       "      <td>1</td>\n",
       "      <td>1</td>\n",
       "      <td>2013.00</td>\n",
       "    </tr>\n",
       "  </tbody>\n",
       "</table>\n",
       "<p>52928 rows × 10 columns</p>\n",
       "</div>"
      ],
      "text/plain": [
       "        company_id  funding_round_id  funded_at funding_round_type  \\\n",
       "0                1               888 2005-10-01           series-a   \n",
       "1                1               889 2007-01-01           series-b   \n",
       "2                1              2312 2008-05-19          series-c+   \n",
       "15            1001              1644 2008-02-26           series-a   \n",
       "20           10014              6682 2008-09-01              angel   \n",
       "...            ...               ...        ...                ...   \n",
       "217769      282847             56454 2011-01-31              other   \n",
       "217770       55477             56542 2011-01-13            venture   \n",
       "217771       55477             56543 2012-05-31            venture   \n",
       "217772      283492             56928 2013-12-03            venture   \n",
       "217773      284191             57063 2013-12-04            venture   \n",
       "\n",
       "        raised_amount  pre_money_valuation  participants  is_first_round  \\\n",
       "0          5250000.00                 0.00             2               0   \n",
       "1          9500000.00                 0.00             3               0   \n",
       "2         25000000.00                 0.00             4               1   \n",
       "15         5000000.00                 0.00             3               1   \n",
       "20               0.00                 0.00             1               1   \n",
       "...               ...                  ...           ...             ...   \n",
       "217769     5500000.00                 0.00             0               1   \n",
       "217770    10633300.00                 0.00             0               0   \n",
       "217771     2125720.00                 0.00             0               1   \n",
       "217772     3602480.00                 0.00             5               1   \n",
       "217773     7000000.00                 0.00             4               1   \n",
       "\n",
       "        is_last_round    year  \n",
       "0                   1 2005.00  \n",
       "1                   0 2007.00  \n",
       "2                   0 2008.00  \n",
       "15                  1 2008.00  \n",
       "20                  1 2008.00  \n",
       "...               ...     ...  \n",
       "217769              1 2011.00  \n",
       "217770              1 2011.00  \n",
       "217771              0 2012.00  \n",
       "217772              1 2013.00  \n",
       "217773              1 2013.00  \n",
       "\n",
       "[52928 rows x 10 columns]"
      ]
     },
     "metadata": {},
     "output_type": "display_data"
    }
   ],
   "source": [
    "# Изучим неявные дубликаты по столбам в таблице company\n",
    "for column in ['name','category_code','status', 'domain', 'network_username', 'country_code']:\n",
    "    display(column, df_company[column].unique())\n",
    "\n",
    "# Изучим неявные дубликаты по столбцу в таблице rounds\n",
    "display(df_rounds['funding_round_type'].unique())\n",
    "\n",
    "\n",
    "# Изучим явные дубликаты\n",
    "display('Кол-во явных дубликатов по столбцу company_ID таблицы company:', sum(df_company.duplicated(subset=['company_ID'], keep = 'first')))\n",
    "display('Кол-во явных дубликатов по столбцу company_id таблицы rounds:',sum(df_rounds.duplicated(subset=['company_id'], keep = 'first')))\n",
    "\n",
    "# Проведем нормализацию данных и изучим дубликаты поосле этого \n",
    "df_company['name'] = df_company['name'].str.lower()\n",
    "df_company['status'] = df_company['status'].str.lower()\n",
    "df_company['category_code'] = df_company['category_code'].str.lower()\n",
    "df_company['country_code'] = df_company['country_code'].str.lower()\n",
    "\n",
    "# Изучаем явные дубликаты после нормализации\n",
    "display('Кол-во явных дубликатов по столбцам таблицы company:', sum(df_company.duplicated(keep = 'first')))\n",
    "display('Кол-во явных дубликатов по столбцам таблицы rounds:', sum(df_rounds.duplicated(subset = ['company_id', 'funding_round_id'])))\n",
    "\n",
    "# Изучим дубликаты в таблице по столбцу name\n",
    "display(df_company[df_company.duplicated(subset = ['name'], keep = 'first')].sort_values(by = 'name'))\n",
    "\n",
    "#Удалим явные дубликаты\n",
    "df_company = df_company.drop_duplicates(keep = 'first')\n",
    "df_company = df_company.drop_duplicates(subset = ['name'])\n",
    "df_rounds = df_rounds.drop_duplicates(subset = ['company_id', 'funding_round_id'])\n",
    "\n",
    "\n",
    "#Удалим пропуски по общему столбцу для обоих таблиц\n",
    "df_company = df_company.dropna(subset=['company_ID'])\n",
    "df_company = df_company.dropna(subset=['name'])\n",
    "df_rounds = df_rounds.dropna(subset = ['company_id'])\n",
    "df_rounds = df_rounds.dropna(subset = ['funding_round_id']) # Удаляем пропуски по этому столбцу, чтобы оставить полную инф-ю для дальнейшего анализа\n",
    "\n",
    "display(df_company)\n",
    "display(df_rounds)\n",
    "\n"
   ]
  },
  {
   "cell_type": "markdown",
   "metadata": {},
   "source": [
    "Провели преобразование таблиц, избавились от дубликатов и пропусков, тем самам упростили дальнейший анализ. Можно предположить, что для таблиицы `rounds` `company_id` - внешний ключ, так как он повторяется. "
   ]
  },
  {
   "cell_type": "markdown",
   "metadata": {},
   "source": [
    "Промежуточные выводы по шагу 2:\n",
    "\n",
    "2.1\n",
    "\n",
    "- Больше всего раундов было в 2012 году (24549.0). Меньше всего -  в 1998 (72.0). \n",
    "\n",
    "В каком году типичный размер собранных в рамках одного раунда средств был максимален?\n",
    "\n",
    "- В 2005 году типичный замер собранных средств в рамках одного раунда был максимален (5500000.0). \n",
    "\n",
    "Какая тенденция по количеству раундов и выделяемых в рамках каждого раунда средств наблюдалась в 2013 году?\n",
    "\n",
    "- Анализируя график, можно выделить его пик в 2005 году,после которого график пошел на спад, но с 2012 по 2013 год он начал рости и точка графика 2013 года выше точки графика 2012 года. По сравнению с 2012 годом в 2013 количество раундов уменьшилось,  а количество выделяемых средств увеличилиось. \n",
    "\n",
    "\n",
    "\n",
    "2.2\n",
    "- Мы посчитали долю сотрудников без образования в каждой категории. Вот каие результаты мы получили:\n",
    "1. Микропредприятие\t0.48\n",
    "2. Малые предприятие 0.33\n",
    "3. Крупные предприятия 0.31\n",
    "4.\tСредние предприятия\t0.25\n",
    "\n",
    "Наибольшая доля сотрудников без образования в категории \"Микропредприятия\" (до 15 сотрудников). Можно предположить, что такие предприятия только начали развиваться и набирают в штат стажеров-студентов, которые пока находятся в процессе получения образования. Или, например, в таких компаниях ценят больше опыт работы, чем факт наличия образования. Самая низкая доля работников без образования в категории \"Средние предприятия\". Это может быть связано с тем, что такие предприятия хотят масштабно развиваться и расти и переходить в разряд Крпуных предприятий и им требуются обученные управленцы и специалисты, поэтому такие компании больше смотрят в сторону работников с образованием. \n",
    "\n",
    "- Присоединить таблицу `degrees.csv` возможно, так как еще в перовм пункте мы привели [индексы к единому виду](#dgr). \n",
    "\n",
    "2.3\n",
    "\n",
    "- В целом, объединить две таблицы `company_and_rounds по столбцу` и `people` по столбцу `network_username`: столбцы имеют один тип данных. Но так или иначе в итоговой объединенной таблице будут пропуски, так как в одной таблице строк в целом больше и, соответвеннно, больше `network_username`. Также велика вероятность, что возможно некоторые `network_username` не будут находить совпадений в другой таблице, но тем не менее само объединение возможно. \n",
    "\n",
    "2.4\n",
    "\n",
    "- Провели преобразование таблиц, избавились от дубликатов и пропусков, тем самам упростили дальнейший анализ.Мы получили две новых таблицы df_company и df_rounds. В первой таблице 217774 строк и 13 столбцов. Во второй таблице 217774 строк и 10 столбцов. Можно предположить, что для таблиицы `rounds` `company_id` - внешний ключ, так как он повторяется. \n"
   ]
  },
  {
   "cell_type": "markdown",
   "metadata": {
    "id": "bmVYhphNrJg2"
   },
   "source": [
    "\n",
    "## Шаг 3. Исследовательский анализ объединённых таблиц\n"
   ]
  },
  {
   "cell_type": "markdown",
   "metadata": {
    "id": "3Di6tCT3rJg2"
   },
   "source": [
    "\n",
    "### 3.1. Объединение данных\n",
    "\n",
    "Объединим данные для ответа на вопросы заказчика, которые касаются интересующих его компаний. Заказчика прежде всего интересуют те компании, которые меняли или готовы менять владельцев. Получение инвестиций или финансирования, по мнению заказчика, означает интерес к покупке или продаже компании.\n",
    "\n",
    "В качестве основы для объединённой таблицы возьмеем данные из обработанного датасета `company_and_rounds.csv` — выберем только те компании, у которых указаны значения `funding_rounds` или `investment_rounds` больше нуля, или те, у которых в колонке `status` указано `acquired`. В результирующей таблице должно получиться порядка 40 тысяч компаний.\n",
    "\n",
    "Проверим полноту и корректность получившейся таблицы. Далее работайте только с этими данными."
   ]
  },
  {
   "cell_type": "code",
   "execution_count": null,
   "metadata": {
    "id": "93v3fEX5FgtP"
   },
   "outputs": [
    {
     "data": {
      "text/html": [
       "<div>\n",
       "<style scoped>\n",
       "    .dataframe tbody tr th:only-of-type {\n",
       "        vertical-align: middle;\n",
       "    }\n",
       "\n",
       "    .dataframe tbody tr th {\n",
       "        vertical-align: top;\n",
       "    }\n",
       "\n",
       "    .dataframe thead th {\n",
       "        text-align: right;\n",
       "    }\n",
       "</style>\n",
       "<table border=\"1\" class=\"dataframe\">\n",
       "  <thead>\n",
       "    <tr style=\"text-align: right;\">\n",
       "      <th></th>\n",
       "      <th>funding_rounds</th>\n",
       "      <th>investment_rounds</th>\n",
       "      <th>status</th>\n",
       "    </tr>\n",
       "  </thead>\n",
       "  <tbody>\n",
       "    <tr>\n",
       "      <th>0</th>\n",
       "      <td>3.00</td>\n",
       "      <td>0.00</td>\n",
       "      <td>operating</td>\n",
       "    </tr>\n",
       "    <tr>\n",
       "      <th>3</th>\n",
       "      <td>0.00</td>\n",
       "      <td>0.00</td>\n",
       "      <td>acquired</td>\n",
       "    </tr>\n",
       "    <tr>\n",
       "      <th>4</th>\n",
       "      <td>0.00</td>\n",
       "      <td>0.00</td>\n",
       "      <td>acquired</td>\n",
       "    </tr>\n",
       "    <tr>\n",
       "      <th>15</th>\n",
       "      <td>1.00</td>\n",
       "      <td>0.00</td>\n",
       "      <td>acquired</td>\n",
       "    </tr>\n",
       "    <tr>\n",
       "      <th>20</th>\n",
       "      <td>1.00</td>\n",
       "      <td>0.00</td>\n",
       "      <td>acquired</td>\n",
       "    </tr>\n",
       "    <tr>\n",
       "      <th>...</th>\n",
       "      <td>...</td>\n",
       "      <td>...</td>\n",
       "      <td>...</td>\n",
       "    </tr>\n",
       "    <tr>\n",
       "      <th>217458</th>\n",
       "      <td>1.00</td>\n",
       "      <td>0.00</td>\n",
       "      <td>operating</td>\n",
       "    </tr>\n",
       "    <tr>\n",
       "      <th>217459</th>\n",
       "      <td>1.00</td>\n",
       "      <td>0.00</td>\n",
       "      <td>operating</td>\n",
       "    </tr>\n",
       "    <tr>\n",
       "      <th>217463</th>\n",
       "      <td>4.00</td>\n",
       "      <td>0.00</td>\n",
       "      <td>operating</td>\n",
       "    </tr>\n",
       "    <tr>\n",
       "      <th>217467</th>\n",
       "      <td>1.00</td>\n",
       "      <td>0.00</td>\n",
       "      <td>closed</td>\n",
       "    </tr>\n",
       "    <tr>\n",
       "      <th>217469</th>\n",
       "      <td>3.00</td>\n",
       "      <td>0.00</td>\n",
       "      <td>acquired</td>\n",
       "    </tr>\n",
       "  </tbody>\n",
       "</table>\n",
       "<p>40745 rows × 3 columns</p>\n",
       "</div>"
      ],
      "text/plain": [
       "        funding_rounds  investment_rounds     status\n",
       "0                 3.00               0.00  operating\n",
       "3                 0.00               0.00   acquired\n",
       "4                 0.00               0.00   acquired\n",
       "15                1.00               0.00   acquired\n",
       "20                1.00               0.00   acquired\n",
       "...                ...                ...        ...\n",
       "217458            1.00               0.00  operating\n",
       "217459            1.00               0.00  operating\n",
       "217463            4.00               0.00  operating\n",
       "217467            1.00               0.00     closed\n",
       "217469            3.00               0.00   acquired\n",
       "\n",
       "[40745 rows x 3 columns]"
      ]
     },
     "metadata": {},
     "output_type": "display_data"
    },
    {
     "data": {
      "text/html": [
       "<div>\n",
       "<style scoped>\n",
       "    .dataframe tbody tr th:only-of-type {\n",
       "        vertical-align: middle;\n",
       "    }\n",
       "\n",
       "    .dataframe tbody tr th {\n",
       "        vertical-align: top;\n",
       "    }\n",
       "\n",
       "    .dataframe thead th {\n",
       "        text-align: right;\n",
       "    }\n",
       "</style>\n",
       "<table border=\"1\" class=\"dataframe\">\n",
       "  <thead>\n",
       "    <tr style=\"text-align: right;\">\n",
       "      <th></th>\n",
       "      <th>company_ID</th>\n",
       "      <th>name</th>\n",
       "      <th>category_code</th>\n",
       "      <th>status</th>\n",
       "      <th>founded_at</th>\n",
       "      <th>closed_at</th>\n",
       "      <th>domain</th>\n",
       "      <th>network_username</th>\n",
       "      <th>country_code</th>\n",
       "      <th>investment_rounds</th>\n",
       "      <th>funding_rounds</th>\n",
       "      <th>funding_total</th>\n",
       "      <th>milestones</th>\n",
       "    </tr>\n",
       "  </thead>\n",
       "  <tbody>\n",
       "    <tr>\n",
       "      <th>0</th>\n",
       "      <td>1</td>\n",
       "      <td>wetpaint</td>\n",
       "      <td>web</td>\n",
       "      <td>operating</td>\n",
       "      <td>2005-10-17</td>\n",
       "      <td>NaT</td>\n",
       "      <td>wetpaint-inc.com</td>\n",
       "      <td>BachelrWetpaint</td>\n",
       "      <td>usa</td>\n",
       "      <td>0.00</td>\n",
       "      <td>3.00</td>\n",
       "      <td>39750000.00</td>\n",
       "      <td>5.00</td>\n",
       "    </tr>\n",
       "    <tr>\n",
       "      <th>3</th>\n",
       "      <td>10</td>\n",
       "      <td>flektor</td>\n",
       "      <td>games_video</td>\n",
       "      <td>acquired</td>\n",
       "      <td>NaT</td>\n",
       "      <td>NaT</td>\n",
       "      <td>flektor.com</td>\n",
       "      <td>NaN</td>\n",
       "      <td>usa</td>\n",
       "      <td>0.00</td>\n",
       "      <td>0.00</td>\n",
       "      <td>0.00</td>\n",
       "      <td>0.00</td>\n",
       "    </tr>\n",
       "    <tr>\n",
       "      <th>4</th>\n",
       "      <td>100</td>\n",
       "      <td>there</td>\n",
       "      <td>games_video</td>\n",
       "      <td>acquired</td>\n",
       "      <td>NaT</td>\n",
       "      <td>NaT</td>\n",
       "      <td>there.com</td>\n",
       "      <td>NaN</td>\n",
       "      <td>usa</td>\n",
       "      <td>0.00</td>\n",
       "      <td>0.00</td>\n",
       "      <td>0.00</td>\n",
       "      <td>4.00</td>\n",
       "    </tr>\n",
       "    <tr>\n",
       "      <th>15</th>\n",
       "      <td>1001</td>\n",
       "      <td>friendfeed</td>\n",
       "      <td>web</td>\n",
       "      <td>acquired</td>\n",
       "      <td>2007-10-01</td>\n",
       "      <td>NaT</td>\n",
       "      <td>friendfeed.com</td>\n",
       "      <td>friendfeed</td>\n",
       "      <td>usa</td>\n",
       "      <td>0.00</td>\n",
       "      <td>1.00</td>\n",
       "      <td>5000000.00</td>\n",
       "      <td>3.00</td>\n",
       "    </tr>\n",
       "    <tr>\n",
       "      <th>20</th>\n",
       "      <td>10014</td>\n",
       "      <td>mobclix</td>\n",
       "      <td>mobile</td>\n",
       "      <td>acquired</td>\n",
       "      <td>2008-03-01</td>\n",
       "      <td>NaT</td>\n",
       "      <td>mobclix.com</td>\n",
       "      <td>mobclix</td>\n",
       "      <td>usa</td>\n",
       "      <td>0.00</td>\n",
       "      <td>1.00</td>\n",
       "      <td>0.00</td>\n",
       "      <td>4.00</td>\n",
       "    </tr>\n",
       "  </tbody>\n",
       "</table>\n",
       "</div>"
      ],
      "text/plain": [
       "    company_ID        name category_code     status founded_at closed_at  \\\n",
       "0            1    wetpaint           web  operating 2005-10-17       NaT   \n",
       "3           10     flektor   games_video   acquired        NaT       NaT   \n",
       "4          100       there   games_video   acquired        NaT       NaT   \n",
       "15        1001  friendfeed           web   acquired 2007-10-01       NaT   \n",
       "20       10014     mobclix        mobile   acquired 2008-03-01       NaT   \n",
       "\n",
       "              domain network_username country_code  investment_rounds  \\\n",
       "0   wetpaint-inc.com  BachelrWetpaint          usa               0.00   \n",
       "3        flektor.com              NaN          usa               0.00   \n",
       "4          there.com              NaN          usa               0.00   \n",
       "15    friendfeed.com       friendfeed          usa               0.00   \n",
       "20       mobclix.com          mobclix          usa               0.00   \n",
       "\n",
       "    funding_rounds  funding_total  milestones  \n",
       "0             3.00    39750000.00        5.00  \n",
       "3             0.00           0.00        0.00  \n",
       "4             0.00           0.00        4.00  \n",
       "15            1.00     5000000.00        3.00  \n",
       "20            1.00           0.00        4.00  "
      ]
     },
     "metadata": {},
     "output_type": "display_data"
    },
    {
     "name": "stdout",
     "output_type": "stream",
     "text": [
      "<class 'pandas.core.frame.DataFrame'>\n",
      "Int64Index: 40745 entries, 0 to 217469\n",
      "Data columns (total 13 columns):\n",
      " #   Column             Non-Null Count  Dtype         \n",
      "---  ------             --------------  -----         \n",
      " 0   company_ID         40745 non-null  Int32         \n",
      " 1   name               40745 non-null  object        \n",
      " 2   category_code      35314 non-null  object        \n",
      " 3   status             40745 non-null  object        \n",
      " 4   founded_at         27806 non-null  datetime64[ns]\n",
      " 5   closed_at          2128 non-null   datetime64[ns]\n",
      " 6   domain             35753 non-null  object        \n",
      " 7   network_username   20849 non-null  object        \n",
      " 8   country_code       34741 non-null  object        \n",
      " 9   investment_rounds  40745 non-null  float64       \n",
      " 10  funding_rounds     40745 non-null  float64       \n",
      " 11  funding_total      40745 non-null  float64       \n",
      " 12  milestones         40745 non-null  float64       \n",
      "dtypes: Int32(1), datetime64[ns](2), float64(4), object(6)\n",
      "memory usage: 4.2+ MB\n"
     ]
    },
    {
     "data": {
      "text/plain": [
       "None"
      ]
     },
     "metadata": {},
     "output_type": "display_data"
    },
    {
     "data": {
      "text/plain": [
       "40745"
      ]
     },
     "metadata": {},
     "output_type": "display_data"
    }
   ],
   "source": [
    "# Создадим новую таблицу df_company_and_rounds_new с отфильтрованными по условию данными\n",
    "df_company_new = df_company.loc[(df_company['funding_rounds']>0) | (df_company_and_rounds['investment_rounds']>0) | (df_company_and_rounds['status'] =='acquired') ]\n",
    "\n",
    "# Выведем столбцы, по которым фильтровали данные\n",
    "display(df_company_new[['funding_rounds', 'investment_rounds', 'status' ]])\n",
    "\n",
    "# Выведем новую таблицу и информацию о ней\n",
    "display(df_company_new.head())\n",
    "display(df_company_new.info())\n",
    "\n",
    "# Посчитаем кол-во строк\n",
    "display(df_company_new.shape[0])"
   ]
  },
  {
   "cell_type": "markdown",
   "metadata": {},
   "source": [
    "Да, получилось примерно 40 тыс. строк в отфильтрованной таблице."
   ]
  },
  {
   "cell_type": "markdown",
   "metadata": {
    "id": "DFHINkV3rJg2"
   },
   "source": [
    "\n",
    "### 3.2. Анализ выбросов\n",
    "\n",
    "Заказчика интересует обычный для рассматриваемого периода размер средств, который предоставлялся компаниям.\n",
    "\n",
    "- По предобработанному столбцу `funding_total` графическим способом оценим, какой размер общего финансирования для одной компании будет типичным, а какой — выбивающимся.\n",
    "- В процессе расчёта значений обратим внимание, например, на показатели, возвращаемые методом `.describe()`, — объясним их. Применимы ли к таким данным обычные способы нахождения типичных значений?"
   ]
  },
  {
   "cell_type": "code",
   "execution_count": null,
   "metadata": {
    "id": "8jm75fKXrJg2"
   },
   "outputs": [
    {
     "data": {
      "text/plain": [
       "count        40747.00\n",
       "mean      10135609.64\n",
       "std       56464359.98\n",
       "min              0.00\n",
       "25%              0.00\n",
       "50%         600000.00\n",
       "75%        5650650.00\n",
       "max     5700000000.00\n",
       "Name: funding_total, dtype: float64"
      ]
     },
     "metadata": {},
     "output_type": "display_data"
    }
   ],
   "source": [
    "# Установим опцию отображения чисел в обычном формате, а не экспоненциальном\n",
    "pd.set_option('display.float_format', '{:.2f}'.format)\n",
    "\n",
    "display(df_company_and_rounds_new['funding_total'].describe())"
   ]
  },
  {
   "cell_type": "markdown",
   "metadata": {},
   "source": [
    "Можно заметить, что медиана очень сильно отклоняется от среднего арифметического, что свидетельствует о выбросах. Также можно заметить, что минимальное значение `funding_total` = 0, уберем их из анализа, так как это аномалия. Также можно щаметить очень высокое значение стнадартного отклонения, что свидетельствует о сильном отклонения значений от среднего. Построим график распределения по данному столбцу."
   ]
  },
  {
   "cell_type": "code",
   "execution_count": null,
   "metadata": {},
   "outputs": [
    {
     "data": {
      "image/png": "[encoded data removed]",
      "text/plain": [
       "<Figure size 864x432 with 1 Axes>"
      ]
     },
     "metadata": {
      "needs_background": "light"
     },
     "output_type": "display_data"
    },
    {
     "data": {
      "text/plain": [
       "2564500.0"
      ]
     },
     "metadata": {},
     "output_type": "display_data"
    }
   ],
   "source": [
    "# Фильтрация по наличию финансирования\n",
    "df_company_and_rounds_new_flt = df_company_and_rounds_new.loc[df_company_and_rounds_new['funding_total'] > 0].copy()\n",
    "\n",
    "# Вычисление логарифма сумм финансирования\n",
    "df_company_and_rounds_new_flt['funding_total_log'] = np.log(df_company_and_rounds_new_flt['funding_total'])\n",
    "\n",
    "# Построение гистограммы\n",
    "plt.figure(figsize=(12, 6))\n",
    "sns.histplot(data=df_company_and_rounds_new_flt, x='funding_total_log', bins=25, kde=True)\n",
    "\n",
    "plt.title('Анализ логарифма сумм финансирования')\n",
    "plt.ylabel('Количество')\n",
    "plt.xlabel('Логарифм суммы финансирования')\n",
    "plt.show()\n",
    "\n",
    "# Посчитаем типичный размер общего финансирования компании\n",
    "display(df_company_and_rounds_new_flt['funding_total'].median())"
   ]
  },
  {
   "cell_type": "markdown",
   "metadata": {},
   "source": [
    "Промежуточные выводы:\n",
    "\n",
    "- График распределения сумм финансирования визуально близок к нормальному распределению, но в данных мы имеем много выбросов. \n",
    "- Типичный объем общего финансирования компании без учета 0 значений составил 2564500. "
   ]
  },
  {
   "cell_type": "markdown",
   "metadata": {
    "id": "JqkRAQrIrJg2"
   },
   "source": [
    "\n",
    "### 3.3. Куплены забесплатно?\n",
    "\n",
    "- Исследуем компании, которые были проданы за ноль или за один доллар, и при этом известно, что у них был ненулевой общий объём финансирования.\n",
    "\n",
    "- Рассчитаем аналитически верхнюю и нижнюю границу выбросов для столбца `funding_total` и укажем, каким процентилям границы соответствуют."
   ]
  },
  {
   "cell_type": "code",
   "execution_count": null,
   "metadata": {
    "id": "wJHXCBwwrJg2"
   },
   "outputs": [
    {
     "data": {
      "text/html": [
       "<div>\n",
       "<style scoped>\n",
       "    .dataframe tbody tr th:only-of-type {\n",
       "        vertical-align: middle;\n",
       "    }\n",
       "\n",
       "    .dataframe tbody tr th {\n",
       "        vertical-align: top;\n",
       "    }\n",
       "\n",
       "    .dataframe thead th {\n",
       "        text-align: right;\n",
       "    }\n",
       "</style>\n",
       "<table border=\"1\" class=\"dataframe\">\n",
       "  <thead>\n",
       "    <tr style=\"text-align: right;\">\n",
       "      <th></th>\n",
       "      <th>company_ID</th>\n",
       "      <th>name</th>\n",
       "      <th>category_code</th>\n",
       "      <th>status</th>\n",
       "      <th>founded_at</th>\n",
       "      <th>closed_at</th>\n",
       "      <th>domain</th>\n",
       "      <th>network_username</th>\n",
       "      <th>country_code</th>\n",
       "      <th>investment_rounds</th>\n",
       "      <th>funding_rounds</th>\n",
       "      <th>funding_total</th>\n",
       "      <th>milestones</th>\n",
       "      <th>id</th>\n",
       "      <th>acquiring_company_id</th>\n",
       "      <th>acquired_company_id</th>\n",
       "      <th>term_code</th>\n",
       "      <th>price_amount</th>\n",
       "      <th>acquired_at</th>\n",
       "    </tr>\n",
       "  </thead>\n",
       "  <tbody>\n",
       "    <tr>\n",
       "      <th>66</th>\n",
       "      <td>10054</td>\n",
       "      <td>jumptap</td>\n",
       "      <td>mobile</td>\n",
       "      <td>acquired</td>\n",
       "      <td>2005-01-01</td>\n",
       "      <td>NaT</td>\n",
       "      <td>jumptap.com</td>\n",
       "      <td>jumptap</td>\n",
       "      <td>usa</td>\n",
       "      <td>0.00</td>\n",
       "      <td>7.00</td>\n",
       "      <td>121500000.00</td>\n",
       "      <td>3.00</td>\n",
       "      <td>9288.00</td>\n",
       "      <td>23283.00</td>\n",
       "      <td>10054.00</td>\n",
       "      <td>cash_and_stock</td>\n",
       "      <td>0.00</td>\n",
       "      <td>2013-08-13</td>\n",
       "    </tr>\n",
       "    <tr>\n",
       "      <th>170</th>\n",
       "      <td>101312</td>\n",
       "      <td>sidetour</td>\n",
       "      <td>web</td>\n",
       "      <td>acquired</td>\n",
       "      <td>2011-06-01</td>\n",
       "      <td>NaT</td>\n",
       "      <td>sidetour.com</td>\n",
       "      <td>sidetour</td>\n",
       "      <td>usa</td>\n",
       "      <td>0.00</td>\n",
       "      <td>3.00</td>\n",
       "      <td>4000000.00</td>\n",
       "      <td>2.00</td>\n",
       "      <td>9653.00</td>\n",
       "      <td>11391.00</td>\n",
       "      <td>101312.00</td>\n",
       "      <td>NaN</td>\n",
       "      <td>0.00</td>\n",
       "      <td>2013-09-18</td>\n",
       "    </tr>\n",
       "    <tr>\n",
       "      <th>177</th>\n",
       "      <td>101340</td>\n",
       "      <td>choicepass</td>\n",
       "      <td>enterprise</td>\n",
       "      <td>acquired</td>\n",
       "      <td>2011-07-01</td>\n",
       "      <td>NaT</td>\n",
       "      <td>choicepass.com</td>\n",
       "      <td>choicepass</td>\n",
       "      <td>usa</td>\n",
       "      <td>0.00</td>\n",
       "      <td>1.00</td>\n",
       "      <td>250000.00</td>\n",
       "      <td>1.00</td>\n",
       "      <td>7272.00</td>\n",
       "      <td>1972.00</td>\n",
       "      <td>101340.00</td>\n",
       "      <td>NaN</td>\n",
       "      <td>0.00</td>\n",
       "      <td>2012-06-18</td>\n",
       "    </tr>\n",
       "    <tr>\n",
       "      <th>181</th>\n",
       "      <td>10137</td>\n",
       "      <td>producteev</td>\n",
       "      <td>software</td>\n",
       "      <td>acquired</td>\n",
       "      <td>2008-07-08</td>\n",
       "      <td>NaT</td>\n",
       "      <td>producteev.com</td>\n",
       "      <td>producteev</td>\n",
       "      <td>usa</td>\n",
       "      <td>0.00</td>\n",
       "      <td>3.00</td>\n",
       "      <td>1310000.00</td>\n",
       "      <td>2.00</td>\n",
       "      <td>8254.00</td>\n",
       "      <td>757.00</td>\n",
       "      <td>10137.00</td>\n",
       "      <td>cash_and_stock</td>\n",
       "      <td>0.00</td>\n",
       "      <td>2012-11-05</td>\n",
       "    </tr>\n",
       "    <tr>\n",
       "      <th>184</th>\n",
       "      <td>10139</td>\n",
       "      <td>tradecard</td>\n",
       "      <td>enterprise</td>\n",
       "      <td>acquired</td>\n",
       "      <td>1999-01-01</td>\n",
       "      <td>NaT</td>\n",
       "      <td>tradecard.com</td>\n",
       "      <td>TradeCard</td>\n",
       "      <td>usa</td>\n",
       "      <td>0.00</td>\n",
       "      <td>2.00</td>\n",
       "      <td>44925000.00</td>\n",
       "      <td>1.00</td>\n",
       "      <td>9326.00</td>\n",
       "      <td>44008.00</td>\n",
       "      <td>10139.00</td>\n",
       "      <td>NaN</td>\n",
       "      <td>0.00</td>\n",
       "      <td>2013-04-01</td>\n",
       "    </tr>\n",
       "  </tbody>\n",
       "</table>\n",
       "</div>"
      ],
      "text/plain": [
       "     company_ID        name category_code    status founded_at closed_at  \\\n",
       "66        10054     jumptap        mobile  acquired 2005-01-01       NaT   \n",
       "170      101312    sidetour           web  acquired 2011-06-01       NaT   \n",
       "177      101340  choicepass    enterprise  acquired 2011-07-01       NaT   \n",
       "181       10137  producteev      software  acquired 2008-07-08       NaT   \n",
       "184       10139   tradecard    enterprise  acquired 1999-01-01       NaT   \n",
       "\n",
       "             domain network_username country_code  investment_rounds  \\\n",
       "66      jumptap.com          jumptap          usa               0.00   \n",
       "170    sidetour.com         sidetour          usa               0.00   \n",
       "177  choicepass.com       choicepass          usa               0.00   \n",
       "181  producteev.com       producteev          usa               0.00   \n",
       "184   tradecard.com        TradeCard          usa               0.00   \n",
       "\n",
       "     funding_rounds  funding_total  milestones      id  acquiring_company_id  \\\n",
       "66             7.00   121500000.00        3.00 9288.00              23283.00   \n",
       "170            3.00     4000000.00        2.00 9653.00              11391.00   \n",
       "177            1.00      250000.00        1.00 7272.00               1972.00   \n",
       "181            3.00     1310000.00        2.00 8254.00                757.00   \n",
       "184            2.00    44925000.00        1.00 9326.00              44008.00   \n",
       "\n",
       "     acquired_company_id       term_code  price_amount acquired_at  \n",
       "66              10054.00  cash_and_stock          0.00  2013-08-13  \n",
       "170            101312.00             NaN          0.00  2013-09-18  \n",
       "177            101340.00             NaN          0.00  2012-06-18  \n",
       "181             10137.00  cash_and_stock          0.00  2012-11-05  \n",
       "184             10139.00             NaN          0.00  2013-04-01  "
      ]
     },
     "metadata": {},
     "output_type": "display_data"
    },
    {
     "data": {
      "text/plain": [
       "array([0.])"
      ]
     },
     "metadata": {},
     "output_type": "display_data"
    },
    {
     "name": "stdout",
     "output_type": "stream",
     "text": [
      "<class 'pandas.core.frame.DataFrame'>\n",
      "Int64Index: 1618 entries, 66 to 196514\n",
      "Data columns (total 19 columns):\n",
      " #   Column                Non-Null Count  Dtype         \n",
      "---  ------                --------------  -----         \n",
      " 0   company_ID            1618 non-null   Int32         \n",
      " 1   name                  1618 non-null   object        \n",
      " 2   category_code         1553 non-null   object        \n",
      " 3   status                1618 non-null   object        \n",
      " 4   founded_at            1285 non-null   datetime64[ns]\n",
      " 5   closed_at             13 non-null     datetime64[ns]\n",
      " 6   domain                1546 non-null   object        \n",
      " 7   network_username      812 non-null    object        \n",
      " 8   country_code          1536 non-null   object        \n",
      " 9   investment_rounds     1618 non-null   float64       \n",
      " 10  funding_rounds        1618 non-null   float64       \n",
      " 11  funding_total         1618 non-null   float64       \n",
      " 12  milestones            1618 non-null   float64       \n",
      " 13  id                    1618 non-null   float64       \n",
      " 14  acquiring_company_id  1618 non-null   float64       \n",
      " 15  acquired_company_id   1618 non-null   float64       \n",
      " 16  term_code             121 non-null    object        \n",
      " 17  price_amount          1618 non-null   float64       \n",
      " 18  acquired_at           1614 non-null   datetime64[ns]\n",
      "dtypes: Int32(1), datetime64[ns](3), float64(8), object(7)\n",
      "memory usage: 248.1+ KB\n"
     ]
    },
    {
     "data": {
      "text/plain": [
       "None"
      ]
     },
     "metadata": {},
     "output_type": "display_data"
    }
   ],
   "source": [
    "# Объединим необходимы для анализа таблицы df_company_and_rounds и df_acquisition\n",
    "df_company_acquisition = df_company.merge(df_acquisition, how = 'left', left_on = 'company_ID', right_on = 'acquired_company_id')\n",
    "\n",
    "\n",
    "# Удалим пропуски из столбца price_amount и funding_total, которые могут мешать дальнейшей фильтрации\n",
    "df_company_acquisition.dropna(subset = ['price_amount'])\n",
    "df_company_acquisition.dropna(subset = ['funding_total'])\n",
    "\n",
    "\n",
    "# Проведем фильтрацию согласно условию задания\n",
    "df_company_acquisition_flt = df_company_acquisition[(df_company_acquisition['funding_total'] > 0) & ((df_company_acquisition['price_amount'] == 0) | (df_company_acquisition['price_amount'] == 1))]\n",
    "display(df_company_acquisition_flt.head())\n",
    "\n",
    "display(df_company_acquisition_flt['price_amount'].unique())\n",
    "display(df_company_acquisition_flt.info())"
   ]
  },
  {
   "cell_type": "code",
   "execution_count": null,
   "metadata": {},
   "outputs": [
    {
     "data": {
      "image/png": "[encoded data removed]",
      "text/plain": [
       "<Figure size 864x432 with 1 Axes>"
      ]
     },
     "metadata": {
      "needs_background": "light"
     },
     "output_type": "display_data"
    }
   ],
   "source": [
    "plt.figure(figsize=(12,6))\n",
    "\n",
    "df_company_acquisition_flt['category_code'].value_counts().sort_values(ascending = True).plot(kind = 'barh')\n",
    "\n",
    "plt.title('Количесвто компаний проданных компаний за 1 и 0 долларов')\n",
    "plt.ylabel('Категория')\n",
    "plt.grid(True)\n",
    "plt.xlabel('Количество компаний')\n",
    "plt.xticks(rotation=0)\n",
    "plt.show()"
   ]
  },
  {
   "cell_type": "markdown",
   "metadata": {},
   "source": [
    "Посчитаем точыне значения кол-ва компаний, проданных за 0 и 1 доллар по каждой категории с помощью сводной таблицы. "
   ]
  },
  {
   "cell_type": "code",
   "execution_count": null,
   "metadata": {},
   "outputs": [
    {
     "data": {
      "text/html": [
       "<div>\n",
       "<style scoped>\n",
       "    .dataframe tbody tr th:only-of-type {\n",
       "        vertical-align: middle;\n",
       "    }\n",
       "\n",
       "    .dataframe tbody tr th {\n",
       "        vertical-align: top;\n",
       "    }\n",
       "\n",
       "    .dataframe thead th {\n",
       "        text-align: right;\n",
       "    }\n",
       "</style>\n",
       "<table border=\"1\" class=\"dataframe\">\n",
       "  <thead>\n",
       "    <tr style=\"text-align: right;\">\n",
       "      <th></th>\n",
       "      <th>price_amount</th>\n",
       "    </tr>\n",
       "    <tr>\n",
       "      <th>category_code</th>\n",
       "      <th></th>\n",
       "    </tr>\n",
       "  </thead>\n",
       "  <tbody>\n",
       "    <tr>\n",
       "      <th>software</th>\n",
       "      <td>362</td>\n",
       "    </tr>\n",
       "    <tr>\n",
       "      <th>web</th>\n",
       "      <td>216</td>\n",
       "    </tr>\n",
       "    <tr>\n",
       "      <th>enterprise</th>\n",
       "      <td>131</td>\n",
       "    </tr>\n",
       "    <tr>\n",
       "      <th>mobile</th>\n",
       "      <td>118</td>\n",
       "    </tr>\n",
       "    <tr>\n",
       "      <th>advertising</th>\n",
       "      <td>77</td>\n",
       "    </tr>\n",
       "    <tr>\n",
       "      <th>games_video</th>\n",
       "      <td>76</td>\n",
       "    </tr>\n",
       "    <tr>\n",
       "      <th>biotech</th>\n",
       "      <td>69</td>\n",
       "    </tr>\n",
       "    <tr>\n",
       "      <th>ecommerce</th>\n",
       "      <td>61</td>\n",
       "    </tr>\n",
       "    <tr>\n",
       "      <th>network_hosting</th>\n",
       "      <td>56</td>\n",
       "    </tr>\n",
       "    <tr>\n",
       "      <th>semiconductor</th>\n",
       "      <td>43</td>\n",
       "    </tr>\n",
       "    <tr>\n",
       "      <th>cleantech</th>\n",
       "      <td>40</td>\n",
       "    </tr>\n",
       "    <tr>\n",
       "      <th>hardware</th>\n",
       "      <td>36</td>\n",
       "    </tr>\n",
       "    <tr>\n",
       "      <th>analytics</th>\n",
       "      <td>32</td>\n",
       "    </tr>\n",
       "    <tr>\n",
       "      <th>security</th>\n",
       "      <td>30</td>\n",
       "    </tr>\n",
       "    <tr>\n",
       "      <th>public_relations</th>\n",
       "      <td>26</td>\n",
       "    </tr>\n",
       "    <tr>\n",
       "      <th>other</th>\n",
       "      <td>20</td>\n",
       "    </tr>\n",
       "    <tr>\n",
       "      <th>search</th>\n",
       "      <td>18</td>\n",
       "    </tr>\n",
       "    <tr>\n",
       "      <th>social</th>\n",
       "      <td>17</td>\n",
       "    </tr>\n",
       "    <tr>\n",
       "      <th>travel</th>\n",
       "      <td>16</td>\n",
       "    </tr>\n",
       "    <tr>\n",
       "      <th>messaging</th>\n",
       "      <td>16</td>\n",
       "    </tr>\n",
       "    <tr>\n",
       "      <th>health</th>\n",
       "      <td>13</td>\n",
       "    </tr>\n",
       "    <tr>\n",
       "      <th>medical</th>\n",
       "      <td>11</td>\n",
       "    </tr>\n",
       "    <tr>\n",
       "      <th>education</th>\n",
       "      <td>10</td>\n",
       "    </tr>\n",
       "    <tr>\n",
       "      <th>consulting</th>\n",
       "      <td>10</td>\n",
       "    </tr>\n",
       "    <tr>\n",
       "      <th>news</th>\n",
       "      <td>9</td>\n",
       "    </tr>\n",
       "    <tr>\n",
       "      <th>music</th>\n",
       "      <td>8</td>\n",
       "    </tr>\n",
       "    <tr>\n",
       "      <th>finance</th>\n",
       "      <td>7</td>\n",
       "    </tr>\n",
       "    <tr>\n",
       "      <th>fashion</th>\n",
       "      <td>5</td>\n",
       "    </tr>\n",
       "    <tr>\n",
       "      <th>design</th>\n",
       "      <td>3</td>\n",
       "    </tr>\n",
       "    <tr>\n",
       "      <th>photo_video</th>\n",
       "      <td>3</td>\n",
       "    </tr>\n",
       "    <tr>\n",
       "      <th>manufacturing</th>\n",
       "      <td>3</td>\n",
       "    </tr>\n",
       "    <tr>\n",
       "      <th>hospitality</th>\n",
       "      <td>3</td>\n",
       "    </tr>\n",
       "    <tr>\n",
       "      <th>legal</th>\n",
       "      <td>2</td>\n",
       "    </tr>\n",
       "    <tr>\n",
       "      <th>automotive</th>\n",
       "      <td>2</td>\n",
       "    </tr>\n",
       "    <tr>\n",
       "      <th>sports</th>\n",
       "      <td>2</td>\n",
       "    </tr>\n",
       "    <tr>\n",
       "      <th>transportation</th>\n",
       "      <td>2</td>\n",
       "    </tr>\n",
       "  </tbody>\n",
       "</table>\n",
       "</div>"
      ],
      "text/plain": [
       "                  price_amount\n",
       "category_code                 \n",
       "software                   362\n",
       "web                        216\n",
       "enterprise                 131\n",
       "mobile                     118\n",
       "advertising                 77\n",
       "games_video                 76\n",
       "biotech                     69\n",
       "ecommerce                   61\n",
       "network_hosting             56\n",
       "semiconductor               43\n",
       "cleantech                   40\n",
       "hardware                    36\n",
       "analytics                   32\n",
       "security                    30\n",
       "public_relations            26\n",
       "other                       20\n",
       "search                      18\n",
       "social                      17\n",
       "travel                      16\n",
       "messaging                   16\n",
       "health                      13\n",
       "medical                     11\n",
       "education                   10\n",
       "consulting                  10\n",
       "news                         9\n",
       "music                        8\n",
       "finance                      7\n",
       "fashion                      5\n",
       "design                       3\n",
       "photo_video                  3\n",
       "manufacturing                3\n",
       "hospitality                  3\n",
       "legal                        2\n",
       "automotive                   2\n",
       "sports                       2\n",
       "transportation               2"
      ]
     },
     "metadata": {},
     "output_type": "display_data"
    }
   ],
   "source": [
    "pivot1 = df_company_acquisition_flt.pivot_table(values='price_amount', index='category_code', aggfunc='count').sort_values(by = 'price_amount', ascending = False)\n",
    "display(pivot1)"
   ]
  },
  {
   "cell_type": "code",
   "execution_count": null,
   "metadata": {},
   "outputs": [
    {
     "data": {
      "text/plain": [
       "count         1618.00\n",
       "mean      18152961.94\n",
       "std      144503027.47\n",
       "min           3750.00\n",
       "25%        2000000.00\n",
       "50%        6000000.00\n",
       "75%       15500000.00\n",
       "max     5700000000.00\n",
       "Name: funding_total, dtype: float64"
      ]
     },
     "execution_count": 120,
     "metadata": {},
     "output_type": "execute_result"
    }
   ],
   "source": [
    "# Установим опцию отображения чисел в обычном формате, а не экспоненциальном\n",
    "pd.set_option('display.float_format', '{:.2f}'.format)\n",
    "\n",
    "# Изучим статистические показатели и выбросы относительно столлбца funding_total\n",
    "df_company_acquisition_flt['funding_total'].describe()"
   ]
  },
  {
   "cell_type": "markdown",
   "metadata": {},
   "source": [
    "Можно замеитить, что медиана (6 000 000) отличается от среднего арифметического поти в три раза (18 152 961). Можно также заметить достаточно высокое значение стандартного отклонения (144 503 027), что свидетельствует о сильном отклонения значений от среднего. \n",
    "\n",
    "Между минимальным значением (3 750) и 25 процентилем (2 000 000) видна сильная разница. Необходимо посчитать квартили между этими значениями. Посчитаем 5, 10, 15, 20 квартили. \n",
    "\n",
    "Можно также заметить, что между 75 процентилем (15 500 000) и макисмальным значением (5 700 000 000) видна сильная разница, значит выбросы скорее всего находятся в промежутке между ними. Найдем 80, 85, 90, 95 и 99 квартили, чтобы более подробно изучить есто расположение выбросов. \n",
    "\n"
   ]
  },
  {
   "cell_type": "code",
   "execution_count": null,
   "metadata": {},
   "outputs": [
    {
     "data": {
      "text/plain": [
       "250000.0"
      ]
     },
     "metadata": {},
     "output_type": "display_data"
    },
    {
     "data": {
      "text/plain": [
       "513588.5"
      ]
     },
     "metadata": {},
     "output_type": "display_data"
    },
    {
     "data": {
      "text/plain": [
       "1000000.0"
      ]
     },
     "metadata": {},
     "output_type": "display_data"
    },
    {
     "data": {
      "text/plain": [
       "1400000.0"
      ]
     },
     "metadata": {},
     "output_type": "display_data"
    },
    {
     "data": {
      "text/plain": [
       "20000000.0"
      ]
     },
     "metadata": {},
     "output_type": "display_data"
    },
    {
     "data": {
      "text/plain": [
       "25353735.0"
      ]
     },
     "metadata": {},
     "output_type": "display_data"
    },
    {
     "data": {
      "text/plain": [
       "33015810.0"
      ]
     },
     "metadata": {},
     "output_type": "display_data"
    },
    {
     "data": {
      "text/plain": [
       "51487500.0"
      ]
     },
     "metadata": {},
     "output_type": "display_data"
    },
    {
     "data": {
      "text/plain": [
       "151552930.0"
      ]
     },
     "metadata": {},
     "output_type": "display_data"
    }
   ],
   "source": [
    "display(round(df_company_acquisition_flt['funding_total'].quantile(0.05), 2))\n",
    "display(round(df_company_acquisition_flt['funding_total'].quantile(0.1), 2))\n",
    "display(round(df_company_acquisition_flt['funding_total'].quantile(0.15), 2))\n",
    "display(round(df_company_acquisition_flt['funding_total'].quantile(0.20), 2))\n",
    "\n",
    "\n",
    "display(round(df_company_acquisition_flt['funding_total'].quantile(0.80), 2))\n",
    "display(round(df_company_acquisition_flt['funding_total'].quantile(0.85), 2))\n",
    "display(round(df_company_acquisition_flt['funding_total'].quantile(0.90), 2))\n",
    "display(round(df_company_acquisition_flt['funding_total'].quantile(0.95), 2))\n",
    "display(round(df_company_acquisition_flt['funding_total'].quantile(0.99), 2))"
   ]
  },
  {
   "cell_type": "markdown",
   "metadata": {},
   "source": [
    "Промежуточные итоги:\n",
    "- Минимальное значение - 3 750.\n",
    "- 5 квартилю соответсвует значение - 250 000. \n",
    "- 10 квартилю соответсвует значение - 513 588. \n",
    "- 15 квартилю соответсвует значение - 1 000 000. \n",
    "- 20 квартилю соответсвует значение - 1 400 000.\n",
    "- 25 квартилю соответсвует значение - 2 000 000.\n",
    "\n",
    "\n",
    "- 75 квартилю соответсвует значение - 15 500 000. \n",
    "- 80 квартилю соответсвует значение - 20 000 000. \n",
    "- 85 квартилю соответсвует значение - 25 353 735. \n",
    "- 90 квартилю соответсвует значение - 33 015 810. \n",
    "- 95 квартилю соответсвует значение - 51 487 500. \n",
    "- 99 квартилю соответсвует значение - 151 552 930. \n",
    "- Максимальное значение - 5 700 000 000.\n",
    "\n",
    "Можно заметить, что с 5 (250 000) квартиля до 25 процентиля (2 000 000) средства распредлены адекватно и равномерно, но между минимальным значением и 5 квартилем огромная разница, из чего мы можем сделать вывод, что 5 квартиль (250 000) это верхняя граница выбросов\n",
    "\n",
    "Мы видим, что до 95 квартиля (51 487 500) наблюдается плавное увеличение значений. Между 99 квартилем (151 552 930) и максимальным значением (5 700 000 000) также наблюдается существенная разница. На всякий случай посчитаем 98 процентиль. Следовательно, выбросы, скорее всего начинаются после 99 квартиля (151 552 930) и он будет являться нижней границей выбросов. \n",
    "\n",
    "- Верхняя граница выбросов:  5 квартиль (250 000).\n",
    "- Нижняя граница выбросов: 99 квартиль (151 552 930). "
   ]
  },
  {
   "cell_type": "code",
   "execution_count": null,
   "metadata": {},
   "outputs": [
    {
     "name": "stdout",
     "output_type": "stream",
     "text": [
      "Нижняя граница (ниже неё — выброс вниз): 0.00\n",
      "Верхняя граница (выше неё — выброс вверх): 90.91\n"
     ]
    }
   ],
   "source": [
    "# Код ревьюера\n",
    "\n",
    "from scipy import stats\n",
    "# Вычисление первого и третьего квартилей\n",
    "Q1 = df_company_acquisition_flt['funding_total'].quantile(0.25)\n",
    "Q3 = df_company_acquisition_flt['funding_total'].quantile(0.75)\n",
    "\n",
    "# Вычисление межквартильного размаха\n",
    "IQR = Q3 - Q1\n",
    "\n",
    "# Определение границ выбросов\n",
    "lower_bound = Q1 - 1.5 * IQR\n",
    "upper_bound = Q3 + 1.5 * IQR\n",
    "\n",
    "# Определение процентилей для границ с использованием percentileofscore\n",
    "lower_percentile = stats.percentileofscore(df_company_acquisition_flt['funding_total'], lower_bound)\n",
    "upper_percentile = stats.percentileofscore(df_company_acquisition_flt['funding_total'], upper_bound)\n",
    "\n",
    "\n",
    "print(f\"Нижняя граница (ниже неё — выброс вниз): {lower_percentile:,.2f}\")\n",
    "print(f\"Верхняя граница (выше неё — выброс вверх): {upper_percentile:,.2f}\")"
   ]
  },
  {
   "cell_type": "markdown",
   "metadata": {
    "id": "mEiWpROjrJg2"
   },
   "source": [
    "\n",
    "### 3.4. Цены стартапов по категориям\n",
    "\n",
    "Категории стартапов с типично высокими ценами покупки стартапов и значительным разбросом цен могут быть привлекательными для крупных инвесторов, которые готовы к высоким рискам ради потенциально больших доходов. Среди категорий стартапов выделим категории стартапов, характеризующиеся:\n",
    "\n",
    "- типично высокими ценами;\n",
    "- и наибольшим разбросом цен за стартап.\n",
    "\n",
    "Объясним, почему решили составить топ именно из такого числа категорий и почему рассчитывали именно так."
   ]
  },
  {
   "cell_type": "markdown",
   "metadata": {},
   "source": [
    "Для начала найдем стартапы с типично высокими ценами. "
   ]
  },
  {
   "cell_type": "code",
   "execution_count": null,
   "metadata": {
    "id": "jQ09dYUWrJg2"
   },
   "outputs": [
    {
     "data": {
      "text/plain": [
       "category_code\n",
       "nanotech           584000000.00\n",
       "manufacturing       72000000.00\n",
       "real_estate         50000000.00\n",
       "automotive          43000000.00\n",
       "biotech             13200000.00\n",
       "hospitality         12500000.00\n",
       "finance               600000.00\n",
       "news                       0.00\n",
       "nonprofit                  0.00\n",
       "other                      0.00\n",
       "photo_video                0.00\n",
       "public_relations           0.00\n",
       "advertising                0.00\n",
       "search                     0.00\n",
       "security                   0.00\n",
       "semiconductor              0.00\n",
       "social                     0.00\n",
       "software                   0.00\n",
       "sports                     0.00\n",
       "transportation             0.00\n",
       "travel                     0.00\n",
       "network_hosting            0.00\n",
       "messaging                  0.00\n",
       "music                      0.00\n",
       "fashion                    0.00\n",
       "cleantech                  0.00\n",
       "consulting                 0.00\n",
       "design                     0.00\n",
       "ecommerce                  0.00\n",
       "education                  0.00\n",
       "enterprise                 0.00\n",
       "games_video                0.00\n",
       "mobile                     0.00\n",
       "hardware                   0.00\n",
       "health                     0.00\n",
       "legal                      0.00\n",
       "local                      0.00\n",
       "medical                    0.00\n",
       "analytics                  0.00\n",
       "web                        0.00\n",
       "government                  NaN\n",
       "pets                        NaN\n",
       "Name: price_amount, dtype: float64"
      ]
     },
     "metadata": {},
     "output_type": "display_data"
    }
   ],
   "source": [
    "df_company_acquisition_grouped1 = df_company_acquisition.groupby('category_code')['price_amount'].median().sort_values( ascending = False)\n",
    "\n",
    "display(df_company_acquisition_grouped1)"
   ]
  },
  {
   "cell_type": "markdown",
   "metadata": {},
   "source": [
    "Далее найдем катеогрии стартапов с наибольшим разбросом цен. Посчитаем наибольший разброс цен через стандартное отклонение. "
   ]
  },
  {
   "cell_type": "code",
   "execution_count": null,
   "metadata": {
    "id": "eF1aULm5FjfY"
   },
   "outputs": [
    {
     "data": {
      "text/plain": [
       "category_code\n",
       "automotive         1193005553.21\n",
       "hospitality         651449440.58\n",
       "manufacturing       594791244.03\n",
       "real_estate         479040882.04\n",
       "finance             444101695.15\n",
       "sports              426561836.08\n",
       "transportation      408848557.36\n",
       "cleantech           333807072.84\n",
       "biotech             317894007.72\n",
       "network_hosting     309789962.30\n",
       "photo_video         287732057.47\n",
       "enterprise          272866589.10\n",
       "other               257370549.35\n",
       "security            252666849.28\n",
       "advertising         221534302.74\n",
       "semiconductor       221452029.79\n",
       "software            214929469.35\n",
       "search              194157764.05\n",
       "web                 185765635.19\n",
       "public_relations    181839059.61\n",
       "hardware            179905887.21\n",
       "mobile              162341639.06\n",
       "ecommerce           151236352.36\n",
       "games_video         145632306.44\n",
       "education           125364201.89\n",
       "health              116149013.48\n",
       "consulting          114080574.91\n",
       "medical             105950927.12\n",
       "fashion              95742908.59\n",
       "music                72198580.46\n",
       "news                 70965628.09\n",
       "analytics            52671642.49\n",
       "travel               50446297.66\n",
       "messaging            42412773.23\n",
       "social               31859746.73\n",
       "local                 9318548.81\n",
       "legal                       0.00\n",
       "design                      0.00\n",
       "nanotech                     NaN\n",
       "nonprofit                    NaN\n",
       "Name: price_amount, dtype: float64"
      ]
     },
     "metadata": {},
     "output_type": "display_data"
    }
   ],
   "source": [
    "# Профедем фильтрацию, исклтв значения выше 99 квартиля\n",
    "\n",
    "q1 = df_company_acquisition['price_amount'].quantile(0.99)\n",
    "\n",
    "df_company_acquisition99 = df_company_acquisition[df_company_acquisition['price_amount']<q1]\n",
    "\n",
    "df_company_acquisition_grouped1 = df_company_acquisition99.groupby('category_code')['price_amount'].std().sort_values( ascending = False)\n",
    "\n",
    "display(df_company_acquisition_grouped1)"
   ]
  },
  {
   "cell_type": "markdown",
   "metadata": {},
   "source": [
    "Промежуточный вывод:\n",
    "\n",
    "Категории стартапов с типично высокими ценами. В данный топ вошло всего 7 категорий компаний, так как далее компании имеют цену 0, что не является высокой ценой.\n",
    "1. nanotech           584 000 000.00\n",
    "2. manufacturing       72 000 000.00\n",
    "3. real_estate         50 000 000.00\n",
    "4. automotive          43 000 000.00\n",
    "5. biotech             13 200 000.00\n",
    "6. hospitality         12 500 000.00\n",
    "7. finance               600 000.00\n",
    "\n",
    "Наиболее дорогими стартапами являются те, которые относятся к категории nanotech (584 000 000). Наименее дорогими стартапами являются те, которые относятся к категории finance (600 000). Стартапы в категории nanotech могут быть просто достаточно перспективными в развитии, поэтому у них высокая типичная цена. Стартапы в категории finance могут быть достаточно нестабильными, поэтому на них цена низкая. \n",
    "\n",
    "Категории стартапов с наибольшим разбросом цен за стартап. В данный топ вошло всего 7 категорий компаний, так как только у этих компаний стандартное отклонение максимально, исчисляется в млрд долларов и варьируется от 600 до 400 млн доллларов. В топе категорий стаптапов с типично выскоими ценами также 7 категорий, удобно сравнивать такие топы. \n",
    "\n",
    "1. automotive         1 193 005 553.21\n",
    "2. hospitality         651 449 440.58\n",
    "3. manufacturing       594 791 244.03\n",
    "4. real_estate         479 040 882.04\n",
    "5. finance             444 101 695.15\n",
    "6. sports              426 561 836.08\n",
    "7. transportation      408 848 557.36\n",
    "\n",
    "Наибольший разброс можно наблюдать в категории automotive (1 193 005 553). Наименьший разброс можно наблюдать в категории transportation (408 848 557).\n",
    "\n",
    "В оба топа попали категориии стартапов: manufacturing, automotive, finance, hospitality, real_estate."
   ]
  },
  {
   "cell_type": "markdown",
   "metadata": {
    "id": "ADOfyVY_rJg3"
   },
   "source": [
    "\n",
    "### 3.5. Сколько раундов продержится стартап перед покупкой\n",
    "\n",
    "- Необходимо проанализировать столбец `funding_rounds`. Исследуем значения столбца. Заказчика интересует типичное значение количества раундов для каждого возможного статуса стартапа.\n",
    "- Построим график, который отображает, сколько в среднем раундов финансирования проходило для стартапов из каждой группы. "
   ]
  },
  {
   "cell_type": "markdown",
   "metadata": {},
   "source": [
    "Посмотрим на таблицу и значение `funding_rounds` в ней, тип данных в столбце, количество пропусков и уникальные значения. "
   ]
  },
  {
   "cell_type": "code",
   "execution_count": null,
   "metadata": {
    "id": "hgXMPC4WrJg3"
   },
   "outputs": [
    {
     "data": {
      "text/html": [
       "<div>\n",
       "<style scoped>\n",
       "    .dataframe tbody tr th:only-of-type {\n",
       "        vertical-align: middle;\n",
       "    }\n",
       "\n",
       "    .dataframe tbody tr th {\n",
       "        vertical-align: top;\n",
       "    }\n",
       "\n",
       "    .dataframe thead th {\n",
       "        text-align: right;\n",
       "    }\n",
       "</style>\n",
       "<table border=\"1\" class=\"dataframe\">\n",
       "  <thead>\n",
       "    <tr style=\"text-align: right;\">\n",
       "      <th></th>\n",
       "      <th>company_ID</th>\n",
       "      <th>name</th>\n",
       "      <th>category_code</th>\n",
       "      <th>status</th>\n",
       "      <th>founded_at</th>\n",
       "      <th>closed_at</th>\n",
       "      <th>domain</th>\n",
       "      <th>network_username</th>\n",
       "      <th>country_code</th>\n",
       "      <th>investment_rounds</th>\n",
       "      <th>funding_rounds</th>\n",
       "      <th>funding_total</th>\n",
       "      <th>milestones</th>\n",
       "    </tr>\n",
       "  </thead>\n",
       "  <tbody>\n",
       "    <tr>\n",
       "      <th>0</th>\n",
       "      <td>1</td>\n",
       "      <td>wetpaint</td>\n",
       "      <td>web</td>\n",
       "      <td>operating</td>\n",
       "      <td>2005-10-17</td>\n",
       "      <td>NaT</td>\n",
       "      <td>wetpaint-inc.com</td>\n",
       "      <td>BachelrWetpaint</td>\n",
       "      <td>usa</td>\n",
       "      <td>0.00</td>\n",
       "      <td>3.00</td>\n",
       "      <td>39750000.00</td>\n",
       "      <td>5.00</td>\n",
       "    </tr>\n",
       "    <tr>\n",
       "      <th>3</th>\n",
       "      <td>10</td>\n",
       "      <td>flektor</td>\n",
       "      <td>games_video</td>\n",
       "      <td>acquired</td>\n",
       "      <td>NaT</td>\n",
       "      <td>NaT</td>\n",
       "      <td>flektor.com</td>\n",
       "      <td>NaN</td>\n",
       "      <td>usa</td>\n",
       "      <td>0.00</td>\n",
       "      <td>0.00</td>\n",
       "      <td>0.00</td>\n",
       "      <td>0.00</td>\n",
       "    </tr>\n",
       "    <tr>\n",
       "      <th>4</th>\n",
       "      <td>100</td>\n",
       "      <td>there</td>\n",
       "      <td>games_video</td>\n",
       "      <td>acquired</td>\n",
       "      <td>NaT</td>\n",
       "      <td>NaT</td>\n",
       "      <td>there.com</td>\n",
       "      <td>NaN</td>\n",
       "      <td>usa</td>\n",
       "      <td>0.00</td>\n",
       "      <td>0.00</td>\n",
       "      <td>0.00</td>\n",
       "      <td>4.00</td>\n",
       "    </tr>\n",
       "    <tr>\n",
       "      <th>5</th>\n",
       "      <td>10000</td>\n",
       "      <td>mywebbo</td>\n",
       "      <td>network_hosting</td>\n",
       "      <td>operating</td>\n",
       "      <td>2008-07-26</td>\n",
       "      <td>NaT</td>\n",
       "      <td>mywebbo.com</td>\n",
       "      <td>NaN</td>\n",
       "      <td>NaN</td>\n",
       "      <td>0.00</td>\n",
       "      <td>0.00</td>\n",
       "      <td>0.00</td>\n",
       "      <td>0.00</td>\n",
       "    </tr>\n",
       "    <tr>\n",
       "      <th>6</th>\n",
       "      <td>10001</td>\n",
       "      <td>the movie streamer</td>\n",
       "      <td>games_video</td>\n",
       "      <td>operating</td>\n",
       "      <td>2008-07-26</td>\n",
       "      <td>NaT</td>\n",
       "      <td>themoviestreamer.com</td>\n",
       "      <td>NaN</td>\n",
       "      <td>NaN</td>\n",
       "      <td>0.00</td>\n",
       "      <td>0.00</td>\n",
       "      <td>0.00</td>\n",
       "      <td>0.00</td>\n",
       "    </tr>\n",
       "  </tbody>\n",
       "</table>\n",
       "</div>"
      ],
      "text/plain": [
       "   company_ID                name    category_code     status founded_at  \\\n",
       "0           1            wetpaint              web  operating 2005-10-17   \n",
       "3          10             flektor      games_video   acquired        NaT   \n",
       "4         100               there      games_video   acquired        NaT   \n",
       "5       10000             mywebbo  network_hosting  operating 2008-07-26   \n",
       "6       10001  the movie streamer      games_video  operating 2008-07-26   \n",
       "\n",
       "  closed_at                domain network_username country_code  \\\n",
       "0       NaT      wetpaint-inc.com  BachelrWetpaint          usa   \n",
       "3       NaT           flektor.com              NaN          usa   \n",
       "4       NaT             there.com              NaN          usa   \n",
       "5       NaT           mywebbo.com              NaN          NaN   \n",
       "6       NaT  themoviestreamer.com              NaN          NaN   \n",
       "\n",
       "   investment_rounds  funding_rounds  funding_total  milestones  \n",
       "0               0.00            3.00    39750000.00        5.00  \n",
       "3               0.00            0.00           0.00        0.00  \n",
       "4               0.00            0.00           0.00        4.00  \n",
       "5               0.00            0.00           0.00        0.00  \n",
       "6               0.00            0.00           0.00        0.00  "
      ]
     },
     "metadata": {},
     "output_type": "display_data"
    },
    {
     "data": {
      "text/plain": [
       "dtype('float64')"
      ]
     },
     "metadata": {},
     "output_type": "display_data"
    },
    {
     "data": {
      "text/plain": [
       "0"
      ]
     },
     "metadata": {},
     "output_type": "display_data"
    },
    {
     "data": {
      "text/plain": [
       "array([ 3.,  0.,  1.,  5.,  2.,  7.,  4.,  6.,  8., 10.,  9., 13., 11.,\n",
       "       15., 14., 12.])"
      ]
     },
     "metadata": {},
     "output_type": "display_data"
    },
    {
     "data": {
      "text/plain": [
       "16"
      ]
     },
     "metadata": {},
     "output_type": "display_data"
    }
   ],
   "source": [
    "display(df_company.head())\n",
    "display(df_company['funding_rounds'].dtype)\n",
    "display(df_company['funding_rounds'].isna().sum())\n",
    "display(df_company['funding_rounds'].unique())\n",
    "display(df_company['funding_rounds'].nunique())"
   ]
  },
  {
   "cell_type": "markdown",
   "metadata": {
    "id": "pV3e7kw5Fj1Y"
   },
   "source": [
    "Пропусков обнаружено не было, столбец имеет числовой с плавающей точкой тип данных. Уникальных значений не так много, всего 16, минимальное кол-во раундов равно 0, максимальное - 15. \n",
    "\n",
    "Построим столбачтый график с типичным количеством раундов по статусам. "
   ]
  },
  {
   "cell_type": "code",
   "execution_count": null,
   "metadata": {},
   "outputs": [
    {
     "data": {
      "image/png": "[encoded data removed]",
      "text/plain": [
       "<Figure size 864x432 with 1 Axes>"
      ]
     },
     "metadata": {
      "needs_background": "light"
     },
     "output_type": "display_data"
    }
   ],
   "source": [
    "plt.figure(figsize=(12,6))\n",
    "\n",
    "df_company.groupby('status')['funding_rounds'].mean().sort_values(ascending = True).plot(kind = 'barh')\n",
    "\n",
    "plt.title('Типичное кол-во раундов по статусам компании')\n",
    "plt.ylabel('Статус')\n",
    "plt.grid(True)\n",
    "plt.xlabel('Типичное кол-во раундов')\n",
    "plt.xticks(rotation=0)\n",
    "plt.show()"
   ]
  },
  {
   "cell_type": "code",
   "execution_count": null,
   "metadata": {},
   "outputs": [
    {
     "data": {
      "text/html": [
       "<div>\n",
       "<style scoped>\n",
       "    .dataframe tbody tr th:only-of-type {\n",
       "        vertical-align: middle;\n",
       "    }\n",
       "\n",
       "    .dataframe tbody tr th {\n",
       "        vertical-align: top;\n",
       "    }\n",
       "\n",
       "    .dataframe thead th {\n",
       "        text-align: right;\n",
       "    }\n",
       "</style>\n",
       "<table border=\"1\" class=\"dataframe\">\n",
       "  <thead>\n",
       "    <tr style=\"text-align: right;\">\n",
       "      <th></th>\n",
       "      <th>funding_rounds</th>\n",
       "    </tr>\n",
       "    <tr>\n",
       "      <th>status</th>\n",
       "      <th></th>\n",
       "    </tr>\n",
       "  </thead>\n",
       "  <tbody>\n",
       "    <tr>\n",
       "      <th>closed</th>\n",
       "      <td>1.12</td>\n",
       "    </tr>\n",
       "    <tr>\n",
       "      <th>ipo</th>\n",
       "      <td>1.09</td>\n",
       "    </tr>\n",
       "    <tr>\n",
       "      <th>acquired</th>\n",
       "      <td>0.52</td>\n",
       "    </tr>\n",
       "    <tr>\n",
       "      <th>operating</th>\n",
       "      <td>0.24</td>\n",
       "    </tr>\n",
       "  </tbody>\n",
       "</table>\n",
       "</div>"
      ],
      "text/plain": [
       "           funding_rounds\n",
       "status                   \n",
       "closed               1.12\n",
       "ipo                  1.09\n",
       "acquired             0.52\n",
       "operating            0.24"
      ]
     },
     "metadata": {},
     "output_type": "display_data"
    }
   ],
   "source": [
    "pivot3 = df_company.pivot_table(values = 'funding_rounds', index = 'status', aggfunc = 'mean').sort_values(by = 'funding_rounds',ascending = False)\n",
    "display(pivot3)"
   ]
  },
  {
   "cell_type": "markdown",
   "metadata": {},
   "source": [
    "Промежуточные выводы: \n",
    "\n",
    "- Уникальных значений не так много, всего 16, минимальное кол-во раундов равно 0, максимальное - 15. \n",
    "- Макисмальное значение типичного числа раундов у стартапов со статусом closed - 1.12. \n",
    "- Минимальное значение типичного числа раундов у стартапов со статусом operating - 0.24. "
   ]
  },
  {
   "cell_type": "markdown",
   "metadata": {
    "id": "VAFEZ2HBrJg3"
   },
   "source": [
    "\n",
    "## Шаг 4. Итоговый вывод и рекомендации\n",
    "\n",
    "Итоговые выводы:\n",
    "\n",
    "\n",
    "2.1\n",
    "\n",
    "- Больше всего раундов было в 2012 году (24549.0). Меньше всего -  в 1998 (72.0). \n",
    "\n",
    "В каком году типичный размер собранных в рамках одного раунда средств был максимален?\n",
    "\n",
    "- В 2005 году типичный замер собранных средств в рамках одного раунда был максимален (5500000.0). \n",
    "\n",
    "Какая тенденция по количеству раундов и выделяемых в рамках каждого раунда средств наблюдалась в 2013 году?\n",
    "\n",
    "- Анализируя график, можно выделить его пик в 2005 году,после которого график пошел на спад, но с 2012 по 2013 год он начал рости и точка графика 2013 года выше точки графика 2012 года. По сравнению с 2012 годом в 2013 количество раундов уменьшилось,  а количество выделяемых средств увеличилиось. \n",
    "\n",
    "\n",
    "\n",
    "2.2\n",
    "- Мы посчитали долю сотрудников без образования в каждой категории. Вот каие результаты мы получили:\n",
    "1. Микропредприятие\t0.48\n",
    "2. Малые предприятие 0.33\n",
    "3. Крупные предприятия 0.31\n",
    "4. Средние предприятия\t0.25\n",
    "\n",
    "- Наибольшая доля сотрудников без образования в категории \"Микропредприятия\" (до 15 сотрудников). Можно предположить, что такие предприятия только начали развиваться и набирают в штат стажеров-студентов, которые пока находятся в процессе получения образования. Или, например, в таких компаниях ценят больше опыт работы, чем факт наличия образования. Самая низкая доля работников без образования в категории \"Средние предприятия\". Это может быть связано с тем, что такие предприятия хотят масштабно развиваться и расти и переходить в разряд Крпуных предприятий и им требуются обученные управленцы и специалисты, поэтому такие компании больше смотрят в сторону работников с образованием. \n",
    "\n",
    "- Присоединить таблицу `degrees.csv` возможно, так как еще в перовм пункте мы привели [индексы к единому виду](#dgr). \n",
    "\n",
    "2.3\n",
    "\n",
    "- В целом, объединить две таблицы `company_and_rounds по столбцу` и `people` по столбцу `network_username`: столбцы имеют один тип данных. Но так или иначе в итоговой объединенной таблице будут пропуски, так как в одной таблице строк в целом больше и, соответвеннно, больше `network_username`. Также велика вероятность, что возможно некоторые `network_username` не будут находить совпадений в другой таблице, но тем не менее само объединение возможно. \n",
    "\n",
    "2.4\n",
    "\n",
    "- Провели преобразование таблиц, избавились от дубликатов и пропусков, тем самам упростили дальнейший анализ.Мы получили две новых таблицы df_company и df_rounds. В первой таблице 217774 строк и 13 столбцов. Во второй таблице 217774 строк и 10 столбцов. Можно предположить, что для таблиицы `rounds` `company_id` - внешний ключ, так как он повторяется. \n",
    "\n",
    "3.2\n",
    "\n",
    "- Типичный объем общего финансирования компании без учета 0 значений составил 2 564 500. \n",
    "\n",
    "3.3\n",
    "\n",
    "\n",
    "3.4\n",
    "\n",
    "- Наиболее дорогими стартапами являются те, которые относятся к категории nanotech (584 000 000). Наименее дорогими стартапами являются те, которые относятся к категории finance (600 000). Стартапы в категории nanotech могут быть просто достаточно перспективными в развитии, поэтому у них высокая типичная цена. Стартапы в категории finance могут быть достаточно нестабильными, поэтому на них цена низкая. \n",
    "\n",
    "- Наибольший разброс можно наблюдать в категории automotive (1 193 005 553). Наименьший разброс можно наблюдать в категории transportation (408 848 557).\n",
    "\n",
    "- В оба топа попали категориии стартапов: manufacturing, automotive, finance, hospitality, real_estate.\n",
    "\n",
    "3.5\n",
    "\n",
    "- Уникальных значений кол-ва раундов не так много, всего 16, минимальное кол-во раундов равно 0, максимальное - 15. \n",
    "- Макисмальное значение типичного числа раундов у стартапов со статусом closed - 1.12. \n",
    "- Минимальное значение типичного числа раундов у стартапов со статусом operating - 0.24.\n",
    "\n",
    "Рекомендации:\n",
    "\n",
    "Заказчики могут выбирать стартапы с ценами ниже, чем у стартапов категории nanotech, которые являются наиболее дорогими, чтобы сэкономить средства, а вложиться можно  в чуть более дешевые категории и развить их, например real_estate (50 000 000) или (automotive 43 000 000). Также заказчиками не стоит выбирать стартапы категории с наибольшим разбросом цен enterprise, так как есть шансы переплатить. "
   ]
  }
 ],
 "metadata": {
  "ExecuteTimeLog": [
   {
    "duration": 3699,
    "start_time": "2025-06-02T09:26:25.086Z"
   },
   {
    "duration": 1687,
    "start_time": "2025-06-02T09:26:28.788Z"
   },
   {
    "duration": 1424,
    "start_time": "2025-06-02T09:27:13.484Z"
   },
   {
    "duration": 15,
    "start_time": "2025-06-02T09:27:27.262Z"
   },
   {
    "duration": 2794,
    "start_time": "2025-06-02T09:29:35.155Z"
   },
   {
    "duration": 1294,
    "start_time": "2025-06-02T09:29:37.951Z"
   },
   {
    "duration": 10,
    "start_time": "2025-06-02T09:29:39.247Z"
   },
   {
    "duration": 17,
    "start_time": "2025-06-02T09:30:11.082Z"
   },
   {
    "duration": 1189,
    "start_time": "2025-06-02T09:30:18.283Z"
   },
   {
    "duration": 9,
    "start_time": "2025-06-02T09:30:19.474Z"
   },
   {
    "duration": 28,
    "start_time": "2025-06-02T09:30:24.594Z"
   },
   {
    "duration": 26,
    "start_time": "2025-06-02T09:30:32.266Z"
   },
   {
    "duration": 9,
    "start_time": "2025-06-02T09:31:18.211Z"
   },
   {
    "duration": 26,
    "start_time": "2025-06-02T09:31:20.987Z"
   },
   {
    "duration": 10,
    "start_time": "2025-06-02T09:31:23.249Z"
   },
   {
    "duration": 8,
    "start_time": "2025-06-02T09:31:23.429Z"
   },
   {
    "duration": 9,
    "start_time": "2025-06-02T09:31:23.595Z"
   },
   {
    "duration": 1151,
    "start_time": "2025-06-02T09:32:12.854Z"
   },
   {
    "duration": 10,
    "start_time": "2025-06-02T09:32:17.263Z"
   },
   {
    "duration": 27,
    "start_time": "2025-06-02T09:32:17.275Z"
   },
   {
    "duration": 9,
    "start_time": "2025-06-02T09:32:17.304Z"
   },
   {
    "duration": 8,
    "start_time": "2025-06-02T09:32:17.315Z"
   },
   {
    "duration": 10,
    "start_time": "2025-06-02T09:32:17.360Z"
   },
   {
    "duration": 15,
    "start_time": "2025-06-02T09:32:43.459Z"
   },
   {
    "duration": 10,
    "start_time": "2025-06-02T09:33:00.992Z"
   },
   {
    "duration": 13,
    "start_time": "2025-06-02T09:33:07.729Z"
   },
   {
    "duration": 107,
    "start_time": "2025-06-02T09:33:26.022Z"
   },
   {
    "duration": 43,
    "start_time": "2025-06-02T09:33:41.955Z"
   },
   {
    "duration": 22,
    "start_time": "2025-06-02T09:34:02.007Z"
   },
   {
    "duration": 9,
    "start_time": "2025-06-02T09:34:08.496Z"
   },
   {
    "duration": 27,
    "start_time": "2025-06-02T09:34:19.492Z"
   },
   {
    "duration": 2677,
    "start_time": "2025-06-02T09:57:19.157Z"
   },
   {
    "duration": 1161,
    "start_time": "2025-06-02T09:57:21.837Z"
   },
   {
    "duration": 12,
    "start_time": "2025-06-02T09:57:23.000Z"
   },
   {
    "duration": 19,
    "start_time": "2025-06-02T09:57:23.014Z"
   },
   {
    "duration": 43,
    "start_time": "2025-06-02T09:57:23.037Z"
   },
   {
    "duration": 120,
    "start_time": "2025-06-02T09:57:23.082Z"
   },
   {
    "duration": 11,
    "start_time": "2025-06-02T09:57:23.204Z"
   },
   {
    "duration": 56,
    "start_time": "2025-06-02T09:57:23.217Z"
   },
   {
    "duration": 8,
    "start_time": "2025-06-02T09:57:23.275Z"
   },
   {
    "duration": 22,
    "start_time": "2025-06-02T09:57:23.285Z"
   },
   {
    "duration": 8,
    "start_time": "2025-06-02T09:57:23.309Z"
   },
   {
    "duration": 56,
    "start_time": "2025-06-02T09:57:23.319Z"
   },
   {
    "duration": 10,
    "start_time": "2025-06-02T09:59:50.393Z"
   },
   {
    "duration": 43,
    "start_time": "2025-06-02T09:59:54.380Z"
   },
   {
    "duration": 2799,
    "start_time": "2025-06-02T10:07:06.748Z"
   },
   {
    "duration": 1183,
    "start_time": "2025-06-02T10:07:09.550Z"
   },
   {
    "duration": 10,
    "start_time": "2025-06-02T10:07:10.734Z"
   },
   {
    "duration": 29,
    "start_time": "2025-06-02T10:07:10.745Z"
   },
   {
    "duration": 27,
    "start_time": "2025-06-02T10:07:10.777Z"
   },
   {
    "duration": 114,
    "start_time": "2025-06-02T10:07:10.806Z"
   },
   {
    "duration": 10,
    "start_time": "2025-06-02T10:07:10.922Z"
   },
   {
    "duration": 60,
    "start_time": "2025-06-02T10:07:10.934Z"
   },
   {
    "duration": 8,
    "start_time": "2025-06-02T10:07:10.996Z"
   },
   {
    "duration": 21,
    "start_time": "2025-06-02T10:07:11.006Z"
   },
   {
    "duration": 9,
    "start_time": "2025-06-02T10:07:11.029Z"
   },
   {
    "duration": 27,
    "start_time": "2025-06-02T10:07:11.061Z"
   },
   {
    "duration": 79,
    "start_time": "2025-06-02T10:25:15.744Z"
   },
   {
    "duration": 2684,
    "start_time": "2025-06-02T10:25:35.885Z"
   },
   {
    "duration": 2580,
    "start_time": "2025-06-02T10:25:38.571Z"
   },
   {
    "duration": 13,
    "start_time": "2025-06-02T10:25:41.152Z"
   },
   {
    "duration": 15,
    "start_time": "2025-06-02T10:25:41.167Z"
   },
   {
    "duration": 28,
    "start_time": "2025-06-02T10:25:41.185Z"
   },
   {
    "duration": 128,
    "start_time": "2025-06-02T10:25:41.215Z"
   },
   {
    "duration": 17,
    "start_time": "2025-06-02T10:25:41.345Z"
   },
   {
    "duration": 50,
    "start_time": "2025-06-02T10:25:41.364Z"
   },
   {
    "duration": 9,
    "start_time": "2025-06-02T10:25:41.415Z"
   },
   {
    "duration": 39,
    "start_time": "2025-06-02T10:25:41.426Z"
   },
   {
    "duration": 8,
    "start_time": "2025-06-02T10:25:41.467Z"
   },
   {
    "duration": 28,
    "start_time": "2025-06-02T10:25:41.477Z"
   },
   {
    "duration": 139,
    "start_time": "2025-06-02T10:25:41.507Z"
   },
   {
    "duration": 14,
    "start_time": "2025-06-02T10:26:16.414Z"
   },
   {
    "duration": 618,
    "start_time": "2025-06-02T10:27:41.842Z"
   },
   {
    "duration": 14,
    "start_time": "2025-06-02T10:27:59.392Z"
   },
   {
    "duration": 30,
    "start_time": "2025-06-02T10:29:29.028Z"
   },
   {
    "duration": 1645,
    "start_time": "2025-06-02T10:33:42.720Z"
   },
   {
    "duration": 1653,
    "start_time": "2025-06-02T10:35:17.553Z"
   },
   {
    "duration": 3627,
    "start_time": "2025-06-02T10:35:27.125Z"
   },
   {
    "duration": 1206,
    "start_time": "2025-06-02T10:35:33.505Z"
   },
   {
    "duration": 378,
    "start_time": "2025-06-02T10:48:23.438Z"
   },
   {
    "duration": 27,
    "start_time": "2025-06-02T10:51:27.018Z"
   },
   {
    "duration": 10,
    "start_time": "2025-06-02T10:53:50.100Z"
   },
   {
    "duration": 168,
    "start_time": "2025-06-02T10:54:00.433Z"
   },
   {
    "duration": 89,
    "start_time": "2025-06-02T10:55:53.068Z"
   },
   {
    "duration": 114,
    "start_time": "2025-06-02T10:56:10.588Z"
   },
   {
    "duration": 122,
    "start_time": "2025-06-02T10:58:39.582Z"
   },
   {
    "duration": 34,
    "start_time": "2025-06-02T10:58:54.213Z"
   },
   {
    "duration": 165,
    "start_time": "2025-06-02T10:59:40.048Z"
   },
   {
    "duration": 155,
    "start_time": "2025-06-02T11:00:53.661Z"
   },
   {
    "duration": 121,
    "start_time": "2025-06-02T11:01:05.095Z"
   },
   {
    "duration": 192,
    "start_time": "2025-06-02T11:01:14.778Z"
   },
   {
    "duration": 115,
    "start_time": "2025-06-02T11:01:29.736Z"
   },
   {
    "duration": 114,
    "start_time": "2025-06-02T11:01:51.682Z"
   },
   {
    "duration": 51,
    "start_time": "2025-06-02T11:01:59.414Z"
   },
   {
    "duration": 61,
    "start_time": "2025-06-02T11:02:46.730Z"
   },
   {
    "duration": 48,
    "start_time": "2025-06-02T11:07:48.461Z"
   },
   {
    "duration": 53,
    "start_time": "2025-06-02T11:08:02.408Z"
   },
   {
    "duration": 126,
    "start_time": "2025-06-02T11:08:08.159Z"
   },
   {
    "duration": 33,
    "start_time": "2025-06-02T11:13:23.806Z"
   },
   {
    "duration": 89,
    "start_time": "2025-06-02T11:13:45.140Z"
   },
   {
    "duration": 4,
    "start_time": "2025-06-02T11:14:31.864Z"
   },
   {
    "duration": 91,
    "start_time": "2025-06-02T11:15:01.804Z"
   },
   {
    "duration": 9,
    "start_time": "2025-06-02T11:17:24.786Z"
   },
   {
    "duration": 86,
    "start_time": "2025-06-02T11:17:34.120Z"
   },
   {
    "duration": 54,
    "start_time": "2025-06-02T12:11:40.166Z"
   },
   {
    "duration": 2676,
    "start_time": "2025-06-02T12:11:42.898Z"
   },
   {
    "duration": 2655,
    "start_time": "2025-06-02T12:11:45.576Z"
   },
   {
    "duration": 15,
    "start_time": "2025-06-02T12:11:48.233Z"
   },
   {
    "duration": 20,
    "start_time": "2025-06-02T12:11:48.250Z"
   },
   {
    "duration": 27,
    "start_time": "2025-06-02T12:11:48.273Z"
   },
   {
    "duration": 131,
    "start_time": "2025-06-02T12:11:48.302Z"
   },
   {
    "duration": 10,
    "start_time": "2025-06-02T12:11:48.436Z"
   },
   {
    "duration": 58,
    "start_time": "2025-06-02T12:11:48.448Z"
   },
   {
    "duration": 9,
    "start_time": "2025-06-02T12:11:48.508Z"
   },
   {
    "duration": 54,
    "start_time": "2025-06-02T12:11:48.519Z"
   },
   {
    "duration": 10,
    "start_time": "2025-06-02T12:11:48.575Z"
   },
   {
    "duration": 28,
    "start_time": "2025-06-02T12:11:48.587Z"
   },
   {
    "duration": 50,
    "start_time": "2025-06-02T12:11:48.617Z"
   },
   {
    "duration": 4,
    "start_time": "2025-06-02T12:11:48.671Z"
   },
   {
    "duration": 233,
    "start_time": "2025-06-02T12:11:48.677Z"
   },
   {
    "duration": 114,
    "start_time": "2025-06-02T12:11:48.912Z"
   },
   {
    "duration": 57,
    "start_time": "2025-06-02T12:11:49.029Z"
   },
   {
    "duration": 34,
    "start_time": "2025-06-02T12:11:49.087Z"
   },
   {
    "duration": 107,
    "start_time": "2025-06-02T12:11:49.123Z"
   },
   {
    "duration": 23,
    "start_time": "2025-06-02T12:20:59.797Z"
   },
   {
    "duration": 4,
    "start_time": "2025-06-02T12:20:59.983Z"
   },
   {
    "duration": 52,
    "start_time": "2025-06-02T12:21:00.152Z"
   },
   {
    "duration": 91,
    "start_time": "2025-06-02T12:21:00.314Z"
   },
   {
    "duration": 43,
    "start_time": "2025-06-02T12:21:00.466Z"
   },
   {
    "duration": 26,
    "start_time": "2025-06-02T12:21:00.650Z"
   },
   {
    "duration": 69,
    "start_time": "2025-06-02T12:21:00.816Z"
   },
   {
    "duration": 13,
    "start_time": "2025-06-02T12:22:54.164Z"
   },
   {
    "duration": 11,
    "start_time": "2025-06-02T12:23:07.096Z"
   },
   {
    "duration": 8,
    "start_time": "2025-06-02T12:24:06.615Z"
   },
   {
    "duration": 10,
    "start_time": "2025-06-02T12:24:49.613Z"
   },
   {
    "duration": 84,
    "start_time": "2025-06-02T12:25:17.685Z"
   },
   {
    "duration": 87,
    "start_time": "2025-06-02T12:25:46.014Z"
   },
   {
    "duration": 39,
    "start_time": "2025-06-02T12:27:24.499Z"
   },
   {
    "duration": 39,
    "start_time": "2025-06-02T12:27:24.949Z"
   },
   {
    "duration": 13,
    "start_time": "2025-06-02T12:28:08.912Z"
   },
   {
    "duration": 15,
    "start_time": "2025-06-02T12:28:09.293Z"
   },
   {
    "duration": 15,
    "start_time": "2025-06-02T12:28:50.832Z"
   },
   {
    "duration": 22,
    "start_time": "2025-06-02T12:28:51.517Z"
   },
   {
    "duration": 22,
    "start_time": "2025-06-02T12:28:52.567Z"
   },
   {
    "duration": 2832,
    "start_time": "2025-06-02T12:45:54.830Z"
   },
   {
    "duration": 1146,
    "start_time": "2025-06-02T12:45:57.664Z"
   },
   {
    "duration": 11,
    "start_time": "2025-06-02T12:45:58.811Z"
   },
   {
    "duration": 16,
    "start_time": "2025-06-02T12:45:58.824Z"
   },
   {
    "duration": 144,
    "start_time": "2025-06-02T12:45:58.842Z"
   },
   {
    "duration": 136,
    "start_time": "2025-06-02T12:45:58.988Z"
   },
   {
    "duration": 9,
    "start_time": "2025-06-02T12:45:59.126Z"
   },
   {
    "duration": 61,
    "start_time": "2025-06-02T12:45:59.137Z"
   },
   {
    "duration": 9,
    "start_time": "2025-06-02T12:45:59.199Z"
   },
   {
    "duration": 22,
    "start_time": "2025-06-02T12:45:59.209Z"
   },
   {
    "duration": 35,
    "start_time": "2025-06-02T12:45:59.232Z"
   },
   {
    "duration": 28,
    "start_time": "2025-06-02T12:45:59.269Z"
   },
   {
    "duration": 17,
    "start_time": "2025-06-02T12:45:59.298Z"
   },
   {
    "duration": 100,
    "start_time": "2025-06-02T12:45:59.318Z"
   },
   {
    "duration": 167,
    "start_time": "2025-06-02T12:45:59.420Z"
   },
   {
    "duration": 93,
    "start_time": "2025-06-02T12:45:59.588Z"
   },
   {
    "duration": 45,
    "start_time": "2025-06-02T12:45:59.683Z"
   },
   {
    "duration": 53,
    "start_time": "2025-06-02T12:45:59.730Z"
   },
   {
    "duration": 98,
    "start_time": "2025-06-02T12:45:59.785Z"
   },
   {
    "duration": 8,
    "start_time": "2025-06-02T12:45:59.884Z"
   },
   {
    "duration": 13,
    "start_time": "2025-06-02T12:45:59.893Z"
   },
   {
    "duration": 110,
    "start_time": "2025-06-02T12:45:59.908Z"
   },
   {
    "duration": 100,
    "start_time": "2025-06-02T12:46:00.019Z"
   },
   {
    "duration": 43,
    "start_time": "2025-06-02T12:46:00.121Z"
   },
   {
    "duration": 43,
    "start_time": "2025-06-02T12:46:00.166Z"
   },
   {
    "duration": 73,
    "start_time": "2025-06-02T12:46:00.211Z"
   },
   {
    "duration": 76,
    "start_time": "2025-06-02T12:46:00.286Z"
   },
   {
    "duration": 131,
    "start_time": "2025-06-02T12:46:00.364Z"
   },
   {
    "duration": 33,
    "start_time": "2025-06-02T12:46:00.497Z"
   },
   {
    "duration": 2612,
    "start_time": "2025-06-02T12:48:15.798Z"
   },
   {
    "duration": 1124,
    "start_time": "2025-06-02T12:48:18.413Z"
   },
   {
    "duration": 11,
    "start_time": "2025-06-02T12:48:19.538Z"
   },
   {
    "duration": 28,
    "start_time": "2025-06-02T12:48:19.550Z"
   },
   {
    "duration": 27,
    "start_time": "2025-06-02T12:48:19.582Z"
   },
   {
    "duration": 124,
    "start_time": "2025-06-02T12:48:19.611Z"
   },
   {
    "duration": 10,
    "start_time": "2025-06-02T12:48:19.737Z"
   },
   {
    "duration": 49,
    "start_time": "2025-06-02T12:48:19.761Z"
   },
   {
    "duration": 8,
    "start_time": "2025-06-02T12:48:19.812Z"
   },
   {
    "duration": 21,
    "start_time": "2025-06-02T12:48:19.821Z"
   },
   {
    "duration": 10,
    "start_time": "2025-06-02T12:48:19.860Z"
   },
   {
    "duration": 26,
    "start_time": "2025-06-02T12:48:19.872Z"
   },
   {
    "duration": 15,
    "start_time": "2025-06-02T12:48:19.900Z"
   },
   {
    "duration": 6,
    "start_time": "2025-06-02T12:48:19.918Z"
   },
   {
    "duration": 196,
    "start_time": "2025-06-02T12:48:19.926Z"
   },
   {
    "duration": 96,
    "start_time": "2025-06-02T12:48:20.124Z"
   },
   {
    "duration": 52,
    "start_time": "2025-06-02T12:48:20.221Z"
   },
   {
    "duration": 32,
    "start_time": "2025-06-02T12:48:20.275Z"
   },
   {
    "duration": 99,
    "start_time": "2025-06-02T12:48:20.309Z"
   },
   {
    "duration": 8,
    "start_time": "2025-06-02T12:48:20.410Z"
   },
   {
    "duration": 20,
    "start_time": "2025-06-02T12:48:20.420Z"
   },
   {
    "duration": 92,
    "start_time": "2025-06-02T12:48:20.442Z"
   },
   {
    "duration": 99,
    "start_time": "2025-06-02T12:48:20.536Z"
   },
   {
    "duration": 48,
    "start_time": "2025-06-02T12:48:20.636Z"
   },
   {
    "duration": 38,
    "start_time": "2025-06-02T12:48:20.686Z"
   },
   {
    "duration": 37,
    "start_time": "2025-06-02T12:48:20.725Z"
   },
   {
    "duration": 13,
    "start_time": "2025-06-02T12:48:20.763Z"
   },
   {
    "duration": 22,
    "start_time": "2025-06-02T12:48:20.778Z"
   },
   {
    "duration": 25,
    "start_time": "2025-06-02T12:48:20.802Z"
   },
   {
    "duration": 101,
    "start_time": "2025-06-02T12:50:44.968Z"
   },
   {
    "duration": 136,
    "start_time": "2025-06-02T12:52:12.612Z"
   },
   {
    "duration": 2729,
    "start_time": "2025-06-02T13:11:48.091Z"
   },
   {
    "duration": 1153,
    "start_time": "2025-06-02T13:11:50.823Z"
   },
   {
    "duration": 12,
    "start_time": "2025-06-02T13:11:51.978Z"
   },
   {
    "duration": 15,
    "start_time": "2025-06-02T13:11:51.993Z"
   },
   {
    "duration": 26,
    "start_time": "2025-06-02T13:11:52.010Z"
   },
   {
    "duration": 121,
    "start_time": "2025-06-02T13:11:52.061Z"
   },
   {
    "duration": 10,
    "start_time": "2025-06-02T13:11:52.185Z"
   },
   {
    "duration": 64,
    "start_time": "2025-06-02T13:11:52.197Z"
   },
   {
    "duration": 9,
    "start_time": "2025-06-02T13:11:52.264Z"
   },
   {
    "duration": 32,
    "start_time": "2025-06-02T13:11:52.278Z"
   },
   {
    "duration": 12,
    "start_time": "2025-06-02T13:11:52.312Z"
   },
   {
    "duration": 44,
    "start_time": "2025-06-02T13:11:52.326Z"
   },
   {
    "duration": 18,
    "start_time": "2025-06-02T13:11:52.372Z"
   },
   {
    "duration": 5,
    "start_time": "2025-06-02T13:11:52.392Z"
   },
   {
    "duration": 190,
    "start_time": "2025-06-02T13:11:52.398Z"
   },
   {
    "duration": 101,
    "start_time": "2025-06-02T13:11:52.590Z"
   },
   {
    "duration": 46,
    "start_time": "2025-06-02T13:11:52.693Z"
   },
   {
    "duration": 45,
    "start_time": "2025-06-02T13:11:52.741Z"
   },
   {
    "duration": 99,
    "start_time": "2025-06-02T13:11:52.788Z"
   },
   {
    "duration": 6,
    "start_time": "2025-06-02T13:11:52.889Z"
   },
   {
    "duration": 9,
    "start_time": "2025-06-02T13:11:52.897Z"
   },
   {
    "duration": 107,
    "start_time": "2025-06-02T13:11:52.909Z"
   },
   {
    "duration": 91,
    "start_time": "2025-06-02T13:11:53.018Z"
   },
   {
    "duration": 37,
    "start_time": "2025-06-02T13:11:53.111Z"
   },
   {
    "duration": 76,
    "start_time": "2025-06-02T13:11:53.160Z"
   },
   {
    "duration": 144,
    "start_time": "2025-06-02T13:11:53.238Z"
   },
   {
    "duration": 13,
    "start_time": "2025-06-02T13:11:53.384Z"
   },
   {
    "duration": 13,
    "start_time": "2025-06-02T13:11:53.400Z"
   },
   {
    "duration": 50,
    "start_time": "2025-06-02T13:11:53.415Z"
   },
   {
    "duration": 22,
    "start_time": "2025-06-02T13:11:53.467Z"
   },
   {
    "duration": 138,
    "start_time": "2025-06-02T13:11:53.491Z"
   },
   {
    "duration": 89,
    "start_time": "2025-06-02T13:18:43.914Z"
   },
   {
    "duration": 12,
    "start_time": "2025-06-02T13:19:12.413Z"
   },
   {
    "duration": 43,
    "start_time": "2025-06-02T13:19:26.634Z"
   },
   {
    "duration": 44,
    "start_time": "2025-06-02T13:19:41.685Z"
   },
   {
    "duration": 39,
    "start_time": "2025-06-02T13:19:54.613Z"
   },
   {
    "duration": 35,
    "start_time": "2025-06-02T13:24:33.511Z"
   },
   {
    "duration": 39,
    "start_time": "2025-06-02T13:24:43.781Z"
   },
   {
    "duration": 30,
    "start_time": "2025-06-02T13:24:56.428Z"
   },
   {
    "duration": 34,
    "start_time": "2025-06-02T13:25:34.030Z"
   },
   {
    "duration": 31,
    "start_time": "2025-06-02T13:25:45.511Z"
   },
   {
    "duration": 33,
    "start_time": "2025-06-02T13:30:23.688Z"
   },
   {
    "duration": 39,
    "start_time": "2025-06-02T13:30:34.941Z"
   },
   {
    "duration": 38,
    "start_time": "2025-06-02T13:30:48.927Z"
   },
   {
    "duration": 34,
    "start_time": "2025-06-02T13:31:32.874Z"
   },
   {
    "duration": 37,
    "start_time": "2025-06-02T13:31:40.013Z"
   },
   {
    "duration": 2854,
    "start_time": "2025-06-02T13:42:44.378Z"
   },
   {
    "duration": 2662,
    "start_time": "2025-06-02T13:42:47.234Z"
   },
   {
    "duration": 13,
    "start_time": "2025-06-02T13:42:49.898Z"
   },
   {
    "duration": 14,
    "start_time": "2025-06-02T13:42:49.913Z"
   },
   {
    "duration": 45,
    "start_time": "2025-06-02T13:42:49.929Z"
   },
   {
    "duration": 120,
    "start_time": "2025-06-02T13:42:49.976Z"
   },
   {
    "duration": 10,
    "start_time": "2025-06-02T13:42:50.098Z"
   },
   {
    "duration": 60,
    "start_time": "2025-06-02T13:42:50.110Z"
   },
   {
    "duration": 8,
    "start_time": "2025-06-02T13:42:50.172Z"
   },
   {
    "duration": 22,
    "start_time": "2025-06-02T13:42:50.182Z"
   },
   {
    "duration": 9,
    "start_time": "2025-06-02T13:42:50.205Z"
   },
   {
    "duration": 55,
    "start_time": "2025-06-02T13:42:50.216Z"
   },
   {
    "duration": 18,
    "start_time": "2025-06-02T13:42:50.273Z"
   },
   {
    "duration": 4,
    "start_time": "2025-06-02T13:42:50.294Z"
   },
   {
    "duration": 243,
    "start_time": "2025-06-02T13:42:50.300Z"
   },
   {
    "duration": 106,
    "start_time": "2025-06-02T13:42:50.545Z"
   },
   {
    "duration": 51,
    "start_time": "2025-06-02T13:42:50.653Z"
   },
   {
    "duration": 35,
    "start_time": "2025-06-02T13:42:50.706Z"
   },
   {
    "duration": 107,
    "start_time": "2025-06-02T13:42:50.743Z"
   },
   {
    "duration": 8,
    "start_time": "2025-06-02T13:42:50.859Z"
   },
   {
    "duration": 11,
    "start_time": "2025-06-02T13:42:50.868Z"
   },
   {
    "duration": 107,
    "start_time": "2025-06-02T13:42:50.881Z"
   },
   {
    "duration": 92,
    "start_time": "2025-06-02T13:42:50.989Z"
   },
   {
    "duration": 38,
    "start_time": "2025-06-02T13:42:51.083Z"
   },
   {
    "duration": 56,
    "start_time": "2025-06-02T13:42:51.122Z"
   },
   {
    "duration": 150,
    "start_time": "2025-06-02T13:42:51.180Z"
   },
   {
    "duration": 12,
    "start_time": "2025-06-02T13:42:51.332Z"
   },
   {
    "duration": 13,
    "start_time": "2025-06-02T13:42:51.361Z"
   },
   {
    "duration": 32,
    "start_time": "2025-06-02T13:42:51.376Z"
   },
   {
    "duration": 23,
    "start_time": "2025-06-02T13:42:51.410Z"
   },
   {
    "duration": 67,
    "start_time": "2025-06-02T13:42:51.435Z"
   },
   {
    "duration": 118,
    "start_time": "2025-06-02T13:59:02.158Z"
   },
   {
    "duration": 51,
    "start_time": "2025-06-02T13:59:26.298Z"
   },
   {
    "duration": 2674,
    "start_time": "2025-06-02T13:59:28.584Z"
   },
   {
    "duration": 2639,
    "start_time": "2025-06-02T13:59:31.260Z"
   },
   {
    "duration": 13,
    "start_time": "2025-06-02T13:59:33.902Z"
   },
   {
    "duration": 33,
    "start_time": "2025-06-02T13:59:33.917Z"
   },
   {
    "duration": 29,
    "start_time": "2025-06-02T13:59:33.953Z"
   },
   {
    "duration": 120,
    "start_time": "2025-06-02T13:59:33.984Z"
   },
   {
    "duration": 10,
    "start_time": "2025-06-02T13:59:34.106Z"
   },
   {
    "duration": 62,
    "start_time": "2025-06-02T13:59:34.117Z"
   },
   {
    "duration": 9,
    "start_time": "2025-06-02T13:59:34.181Z"
   },
   {
    "duration": 23,
    "start_time": "2025-06-02T13:59:34.192Z"
   },
   {
    "duration": 23,
    "start_time": "2025-06-02T13:59:34.218Z"
   },
   {
    "duration": 44,
    "start_time": "2025-06-02T13:59:34.243Z"
   },
   {
    "duration": 18,
    "start_time": "2025-06-02T13:59:34.289Z"
   },
   {
    "duration": 20,
    "start_time": "2025-06-02T13:59:34.311Z"
   },
   {
    "duration": 249,
    "start_time": "2025-06-02T13:59:34.333Z"
   },
   {
    "duration": 102,
    "start_time": "2025-06-02T13:59:34.584Z"
   },
   {
    "duration": 47,
    "start_time": "2025-06-02T13:59:34.688Z"
   },
   {
    "duration": 45,
    "start_time": "2025-06-02T13:59:34.737Z"
   },
   {
    "duration": 100,
    "start_time": "2025-06-02T13:59:34.784Z"
   },
   {
    "duration": 7,
    "start_time": "2025-06-02T13:59:34.885Z"
   },
   {
    "duration": 9,
    "start_time": "2025-06-02T13:59:34.893Z"
   },
   {
    "duration": 112,
    "start_time": "2025-06-02T13:59:34.904Z"
   },
   {
    "duration": 93,
    "start_time": "2025-06-02T13:59:35.017Z"
   },
   {
    "duration": 50,
    "start_time": "2025-06-02T13:59:35.111Z"
   },
   {
    "duration": 82,
    "start_time": "2025-06-02T13:59:35.163Z"
   },
   {
    "duration": 205,
    "start_time": "2025-06-02T13:59:35.246Z"
   },
   {
    "duration": 17,
    "start_time": "2025-06-02T13:59:35.453Z"
   },
   {
    "duration": 13,
    "start_time": "2025-06-02T13:59:35.472Z"
   },
   {
    "duration": 22,
    "start_time": "2025-06-02T13:59:35.487Z"
   },
   {
    "duration": 44,
    "start_time": "2025-06-02T13:59:35.511Z"
   },
   {
    "duration": 54,
    "start_time": "2025-06-02T13:59:35.560Z"
   },
   {
    "duration": 231,
    "start_time": "2025-06-02T13:59:35.616Z"
   },
   {
    "duration": 323,
    "start_time": "2025-06-02T14:00:26.227Z"
   },
   {
    "duration": 335,
    "start_time": "2025-06-02T14:00:36.431Z"
   },
   {
    "duration": 323,
    "start_time": "2025-06-02T14:01:14.314Z"
   },
   {
    "duration": 54,
    "start_time": "2025-06-02T14:01:35.848Z"
   },
   {
    "duration": 2681,
    "start_time": "2025-06-02T14:01:56.052Z"
   },
   {
    "duration": 2564,
    "start_time": "2025-06-02T14:01:58.735Z"
   },
   {
    "duration": 15,
    "start_time": "2025-06-02T14:02:01.301Z"
   },
   {
    "duration": 30,
    "start_time": "2025-06-02T14:02:01.318Z"
   },
   {
    "duration": 33,
    "start_time": "2025-06-02T14:02:01.350Z"
   },
   {
    "duration": 116,
    "start_time": "2025-06-02T14:02:01.385Z"
   },
   {
    "duration": 14,
    "start_time": "2025-06-02T14:02:01.503Z"
   },
   {
    "duration": 71,
    "start_time": "2025-06-02T14:02:01.519Z"
   },
   {
    "duration": 9,
    "start_time": "2025-06-02T14:02:01.592Z"
   },
   {
    "duration": 49,
    "start_time": "2025-06-02T14:02:01.603Z"
   },
   {
    "duration": 9,
    "start_time": "2025-06-02T14:02:01.654Z"
   },
   {
    "duration": 62,
    "start_time": "2025-06-02T14:02:01.665Z"
   },
   {
    "duration": 19,
    "start_time": "2025-06-02T14:02:01.729Z"
   },
   {
    "duration": 3,
    "start_time": "2025-06-02T14:02:01.752Z"
   },
   {
    "duration": 228,
    "start_time": "2025-06-02T14:02:01.757Z"
   },
   {
    "duration": 102,
    "start_time": "2025-06-02T14:02:01.987Z"
   },
   {
    "duration": 45,
    "start_time": "2025-06-02T14:02:02.090Z"
   },
   {
    "duration": 62,
    "start_time": "2025-06-02T14:02:02.137Z"
   },
   {
    "duration": 84,
    "start_time": "2025-06-02T14:02:02.200Z"
   },
   {
    "duration": 6,
    "start_time": "2025-06-02T14:02:02.286Z"
   },
   {
    "duration": 36,
    "start_time": "2025-06-02T14:02:02.294Z"
   },
   {
    "duration": 99,
    "start_time": "2025-06-02T14:02:02.332Z"
   },
   {
    "duration": 94,
    "start_time": "2025-06-02T14:02:02.432Z"
   },
   {
    "duration": 42,
    "start_time": "2025-06-02T14:02:02.528Z"
   },
   {
    "duration": 161,
    "start_time": "2025-06-02T14:02:02.572Z"
   },
   {
    "duration": 193,
    "start_time": "2025-06-02T14:02:02.734Z"
   },
   {
    "duration": 13,
    "start_time": "2025-06-02T14:02:02.929Z"
   },
   {
    "duration": 44,
    "start_time": "2025-06-02T14:02:02.944Z"
   },
   {
    "duration": 22,
    "start_time": "2025-06-02T14:02:02.989Z"
   },
   {
    "duration": 24,
    "start_time": "2025-06-02T14:02:03.013Z"
   },
   {
    "duration": 55,
    "start_time": "2025-06-02T14:02:03.039Z"
   },
   {
    "duration": 336,
    "start_time": "2025-06-02T14:02:03.096Z"
   },
   {
    "duration": 368,
    "start_time": "2025-06-02T14:03:10.793Z"
   },
   {
    "duration": 346,
    "start_time": "2025-06-02T14:05:21.044Z"
   },
   {
    "duration": 335,
    "start_time": "2025-06-02T14:05:29.972Z"
   },
   {
    "duration": 198,
    "start_time": "2025-06-02T14:05:37.969Z"
   },
   {
    "duration": 179,
    "start_time": "2025-06-02T14:05:50.879Z"
   },
   {
    "duration": 285,
    "start_time": "2025-06-02T14:05:56.862Z"
   },
   {
    "duration": 374,
    "start_time": "2025-06-02T14:06:15.494Z"
   },
   {
    "duration": 199,
    "start_time": "2025-06-02T14:06:27.021Z"
   },
   {
    "duration": 200,
    "start_time": "2025-06-02T14:18:16.296Z"
   },
   {
    "duration": 51,
    "start_time": "2025-06-03T07:37:16.342Z"
   },
   {
    "duration": 3524,
    "start_time": "2025-06-03T07:37:23.579Z"
   },
   {
    "duration": 2868,
    "start_time": "2025-06-03T07:37:27.106Z"
   },
   {
    "duration": 13,
    "start_time": "2025-06-03T07:37:29.976Z"
   },
   {
    "duration": 16,
    "start_time": "2025-06-03T07:37:29.991Z"
   },
   {
    "duration": 108,
    "start_time": "2025-06-03T07:37:30.009Z"
   },
   {
    "duration": 162,
    "start_time": "2025-06-03T07:37:30.119Z"
   },
   {
    "duration": 9,
    "start_time": "2025-06-03T07:37:30.283Z"
   },
   {
    "duration": 99,
    "start_time": "2025-06-03T07:37:30.294Z"
   },
   {
    "duration": 7,
    "start_time": "2025-06-03T07:37:30.395Z"
   },
   {
    "duration": 76,
    "start_time": "2025-06-03T07:37:30.403Z"
   },
   {
    "duration": 57,
    "start_time": "2025-06-03T07:37:30.481Z"
   },
   {
    "duration": 196,
    "start_time": "2025-06-03T07:37:30.539Z"
   },
   {
    "duration": 53,
    "start_time": "2025-06-03T07:37:30.737Z"
   },
   {
    "duration": 151,
    "start_time": "2025-06-03T07:37:30.793Z"
   },
   {
    "duration": 226,
    "start_time": "2025-06-03T07:37:30.945Z"
   },
   {
    "duration": 96,
    "start_time": "2025-06-03T07:37:31.172Z"
   },
   {
    "duration": 130,
    "start_time": "2025-06-03T07:37:31.270Z"
   },
   {
    "duration": 30,
    "start_time": "2025-06-03T07:37:31.402Z"
   },
   {
    "duration": 159,
    "start_time": "2025-06-03T07:37:31.434Z"
   },
   {
    "duration": 6,
    "start_time": "2025-06-03T07:37:31.595Z"
   },
   {
    "duration": 68,
    "start_time": "2025-06-03T07:37:31.603Z"
   },
   {
    "duration": 101,
    "start_time": "2025-06-03T07:37:31.673Z"
   },
   {
    "duration": 86,
    "start_time": "2025-06-03T07:37:31.776Z"
   },
   {
    "duration": 36,
    "start_time": "2025-06-03T07:37:31.863Z"
   },
   {
    "duration": 65,
    "start_time": "2025-06-03T07:37:31.901Z"
   },
   {
    "duration": 153,
    "start_time": "2025-06-03T07:37:31.967Z"
   },
   {
    "duration": 20,
    "start_time": "2025-06-03T07:37:32.122Z"
   },
   {
    "duration": 92,
    "start_time": "2025-06-03T07:37:32.144Z"
   },
   {
    "duration": 50,
    "start_time": "2025-06-03T07:37:32.238Z"
   },
   {
    "duration": 50,
    "start_time": "2025-06-03T07:37:32.289Z"
   },
   {
    "duration": 63,
    "start_time": "2025-06-03T07:37:32.341Z"
   },
   {
    "duration": 208,
    "start_time": "2025-06-03T07:37:32.405Z"
   },
   {
    "duration": 127,
    "start_time": "2025-06-03T07:37:32.614Z"
   },
   {
    "duration": 1965,
    "start_time": "2025-06-03T07:38:44.057Z"
   },
   {
    "duration": 81,
    "start_time": "2025-06-03T07:39:50.797Z"
   },
   {
    "duration": 25,
    "start_time": "2025-06-03T07:40:00.907Z"
   },
   {
    "duration": 168,
    "start_time": "2025-06-03T07:41:51.737Z"
   },
   {
    "duration": 66,
    "start_time": "2025-06-03T07:59:26.848Z"
   },
   {
    "duration": 16,
    "start_time": "2025-06-03T08:06:55.065Z"
   },
   {
    "duration": 17,
    "start_time": "2025-06-03T08:08:29.271Z"
   },
   {
    "duration": 16,
    "start_time": "2025-06-03T08:08:47.431Z"
   },
   {
    "duration": 28,
    "start_time": "2025-06-03T08:09:07.676Z"
   },
   {
    "duration": 27,
    "start_time": "2025-06-03T08:09:44.632Z"
   },
   {
    "duration": 31,
    "start_time": "2025-06-03T08:10:04.522Z"
   },
   {
    "duration": 39,
    "start_time": "2025-06-03T08:10:39.652Z"
   },
   {
    "duration": 34,
    "start_time": "2025-06-03T08:10:50.031Z"
   },
   {
    "duration": 3865,
    "start_time": "2025-06-03T18:38:06.388Z"
   },
   {
    "duration": 2814,
    "start_time": "2025-06-03T18:38:10.255Z"
   },
   {
    "duration": 12,
    "start_time": "2025-06-03T18:38:13.072Z"
   },
   {
    "duration": 34,
    "start_time": "2025-06-03T18:38:13.086Z"
   },
   {
    "duration": 25,
    "start_time": "2025-06-03T18:38:13.122Z"
   },
   {
    "duration": 120,
    "start_time": "2025-06-03T18:38:13.148Z"
   },
   {
    "duration": 9,
    "start_time": "2025-06-03T18:38:13.269Z"
   },
   {
    "duration": 50,
    "start_time": "2025-06-03T18:38:13.280Z"
   },
   {
    "duration": 8,
    "start_time": "2025-06-03T18:38:13.331Z"
   },
   {
    "duration": 31,
    "start_time": "2025-06-03T18:38:13.342Z"
   },
   {
    "duration": 23,
    "start_time": "2025-06-03T18:38:13.374Z"
   },
   {
    "duration": 97,
    "start_time": "2025-06-03T18:38:13.398Z"
   },
   {
    "duration": 138,
    "start_time": "2025-06-03T18:38:13.497Z"
   },
   {
    "duration": 84,
    "start_time": "2025-06-03T18:38:13.637Z"
   },
   {
    "duration": 206,
    "start_time": "2025-06-03T18:38:13.723Z"
   },
   {
    "duration": 95,
    "start_time": "2025-06-03T18:38:13.930Z"
   },
   {
    "duration": 58,
    "start_time": "2025-06-03T18:38:14.026Z"
   },
   {
    "duration": 32,
    "start_time": "2025-06-03T18:38:14.086Z"
   },
   {
    "duration": 106,
    "start_time": "2025-06-03T18:38:14.119Z"
   },
   {
    "duration": 10,
    "start_time": "2025-06-03T18:38:14.227Z"
   },
   {
    "duration": 28,
    "start_time": "2025-06-03T18:38:14.239Z"
   },
   {
    "duration": 104,
    "start_time": "2025-06-03T18:38:14.269Z"
   },
   {
    "duration": 92,
    "start_time": "2025-06-03T18:38:14.374Z"
   },
   {
    "duration": 38,
    "start_time": "2025-06-03T18:38:14.467Z"
   },
   {
    "duration": 286,
    "start_time": "2025-06-03T18:38:14.506Z"
   },
   {
    "duration": 136,
    "start_time": "2025-06-03T18:38:14.794Z"
   },
   {
    "duration": 12,
    "start_time": "2025-06-03T18:38:14.931Z"
   },
   {
    "duration": 105,
    "start_time": "2025-06-03T18:38:14.963Z"
   },
   {
    "duration": 76,
    "start_time": "2025-06-03T18:38:15.069Z"
   },
   {
    "duration": 70,
    "start_time": "2025-06-03T18:38:15.147Z"
   },
   {
    "duration": 58,
    "start_time": "2025-06-03T18:38:15.219Z"
   },
   {
    "duration": 215,
    "start_time": "2025-06-03T18:38:15.279Z"
   },
   {
    "duration": 135,
    "start_time": "2025-06-03T18:38:15.496Z"
   },
   {
    "duration": 33,
    "start_time": "2025-06-03T18:38:15.633Z"
   },
   {
    "duration": 96,
    "start_time": "2025-06-03T18:45:09.253Z"
   },
   {
    "duration": 122,
    "start_time": "2025-06-03T18:49:33.652Z"
   },
   {
    "duration": 131,
    "start_time": "2025-06-03T18:49:44.217Z"
   },
   {
    "duration": 29,
    "start_time": "2025-06-03T18:50:14.885Z"
   },
   {
    "duration": 36,
    "start_time": "2025-06-03T18:51:08.398Z"
   },
   {
    "duration": 41,
    "start_time": "2025-06-03T18:51:28.048Z"
   },
   {
    "duration": 28,
    "start_time": "2025-06-03T18:51:56.353Z"
   },
   {
    "duration": 693,
    "start_time": "2025-06-03T19:02:28.111Z"
   },
   {
    "duration": 40,
    "start_time": "2025-06-03T19:03:02.246Z"
   },
   {
    "duration": 469,
    "start_time": "2025-06-03T19:03:21.785Z"
   },
   {
    "duration": 473,
    "start_time": "2025-06-03T19:04:01.729Z"
   },
   {
    "duration": 470,
    "start_time": "2025-06-03T19:05:57.023Z"
   },
   {
    "duration": 477,
    "start_time": "2025-06-03T19:07:02.643Z"
   },
   {
    "duration": 567,
    "start_time": "2025-06-03T19:07:19.435Z"
   },
   {
    "duration": 501,
    "start_time": "2025-06-03T19:08:58.748Z"
   },
   {
    "duration": 31,
    "start_time": "2025-06-03T19:09:25.875Z"
   },
   {
    "duration": 677,
    "start_time": "2025-06-03T19:11:30.957Z"
   },
   {
    "duration": 581,
    "start_time": "2025-06-03T19:13:15.124Z"
   },
   {
    "duration": 90,
    "start_time": "2025-06-03T19:15:29.806Z"
   },
   {
    "duration": 131,
    "start_time": "2025-06-03T19:15:38.739Z"
   },
   {
    "duration": 132,
    "start_time": "2025-06-03T19:16:30.201Z"
   },
   {
    "duration": 125,
    "start_time": "2025-06-03T19:16:40.074Z"
   },
   {
    "duration": 101,
    "start_time": "2025-06-03T19:16:47.828Z"
   },
   {
    "duration": 374,
    "start_time": "2025-06-03T19:17:36.393Z"
   },
   {
    "duration": 129,
    "start_time": "2025-06-03T19:18:00.470Z"
   },
   {
    "duration": 101,
    "start_time": "2025-06-03T19:18:24.278Z"
   },
   {
    "duration": 162,
    "start_time": "2025-06-03T19:20:22.427Z"
   },
   {
    "duration": 130,
    "start_time": "2025-06-03T19:20:31.787Z"
   },
   {
    "duration": 193,
    "start_time": "2025-06-03T19:22:13.397Z"
   },
   {
    "duration": 230,
    "start_time": "2025-06-03T19:25:28.496Z"
   },
   {
    "duration": 195,
    "start_time": "2025-06-03T19:26:08.049Z"
   },
   {
    "duration": 3819,
    "start_time": "2025-06-04T05:52:05.902Z"
   },
   {
    "duration": 2882,
    "start_time": "2025-06-04T05:52:09.723Z"
   },
   {
    "duration": 14,
    "start_time": "2025-06-04T05:52:12.607Z"
   },
   {
    "duration": 40,
    "start_time": "2025-06-04T05:52:12.623Z"
   },
   {
    "duration": 28,
    "start_time": "2025-06-04T05:52:12.666Z"
   },
   {
    "duration": 111,
    "start_time": "2025-06-04T05:52:12.695Z"
   },
   {
    "duration": 9,
    "start_time": "2025-06-04T05:52:12.808Z"
   },
   {
    "duration": 63,
    "start_time": "2025-06-04T05:52:12.818Z"
   },
   {
    "duration": 9,
    "start_time": "2025-06-04T05:52:12.883Z"
   },
   {
    "duration": 33,
    "start_time": "2025-06-04T05:52:12.893Z"
   },
   {
    "duration": 11,
    "start_time": "2025-06-04T05:52:12.928Z"
   },
   {
    "duration": 44,
    "start_time": "2025-06-04T05:52:12.941Z"
   },
   {
    "duration": 27,
    "start_time": "2025-06-04T05:52:12.987Z"
   },
   {
    "duration": 3,
    "start_time": "2025-06-04T05:52:13.018Z"
   },
   {
    "duration": 223,
    "start_time": "2025-06-04T05:52:13.023Z"
   },
   {
    "duration": 105,
    "start_time": "2025-06-04T05:52:13.248Z"
   },
   {
    "duration": 46,
    "start_time": "2025-06-04T05:52:13.356Z"
   },
   {
    "duration": 135,
    "start_time": "2025-06-04T05:52:13.404Z"
   },
   {
    "duration": 187,
    "start_time": "2025-06-04T05:52:13.541Z"
   },
   {
    "duration": 8,
    "start_time": "2025-06-04T05:52:13.730Z"
   },
   {
    "duration": 16,
    "start_time": "2025-06-04T05:52:13.740Z"
   },
   {
    "duration": 110,
    "start_time": "2025-06-04T05:52:13.758Z"
   },
   {
    "duration": 90,
    "start_time": "2025-06-04T05:52:13.870Z"
   },
   {
    "duration": 39,
    "start_time": "2025-06-04T05:52:13.962Z"
   },
   {
    "duration": 88,
    "start_time": "2025-06-04T05:52:14.003Z"
   },
   {
    "duration": 139,
    "start_time": "2025-06-04T05:52:14.093Z"
   },
   {
    "duration": 22,
    "start_time": "2025-06-04T05:52:14.237Z"
   },
   {
    "duration": 20,
    "start_time": "2025-06-04T05:52:14.261Z"
   },
   {
    "duration": 39,
    "start_time": "2025-06-04T05:52:14.283Z"
   },
   {
    "duration": 47,
    "start_time": "2025-06-04T05:52:14.324Z"
   },
   {
    "duration": 62,
    "start_time": "2025-06-04T05:52:14.373Z"
   },
   {
    "duration": 241,
    "start_time": "2025-06-04T05:52:14.437Z"
   },
   {
    "duration": 140,
    "start_time": "2025-06-04T05:52:14.680Z"
   },
   {
    "duration": 299,
    "start_time": "2025-06-04T05:52:14.822Z"
   },
   {
    "duration": 259,
    "start_time": "2025-06-04T05:56:22.614Z"
   },
   {
    "duration": 3024,
    "start_time": "2025-06-04T05:59:51.892Z"
   },
   {
    "duration": 2741,
    "start_time": "2025-06-04T05:59:54.919Z"
   },
   {
    "duration": 17,
    "start_time": "2025-06-04T05:59:57.663Z"
   },
   {
    "duration": 58,
    "start_time": "2025-06-04T05:59:57.682Z"
   },
   {
    "duration": 34,
    "start_time": "2025-06-04T05:59:57.743Z"
   },
   {
    "duration": 132,
    "start_time": "2025-06-04T05:59:57.779Z"
   },
   {
    "duration": 11,
    "start_time": "2025-06-04T05:59:57.913Z"
   },
   {
    "duration": 57,
    "start_time": "2025-06-04T05:59:57.938Z"
   },
   {
    "duration": 9,
    "start_time": "2025-06-04T05:59:57.997Z"
   },
   {
    "duration": 131,
    "start_time": "2025-06-04T05:59:58.007Z"
   },
   {
    "duration": 13,
    "start_time": "2025-06-04T05:59:58.141Z"
   },
   {
    "duration": 28,
    "start_time": "2025-06-04T05:59:58.156Z"
   },
   {
    "duration": 32,
    "start_time": "2025-06-04T05:59:58.185Z"
   },
   {
    "duration": 3,
    "start_time": "2025-06-04T05:59:58.220Z"
   },
   {
    "duration": 224,
    "start_time": "2025-06-04T05:59:58.236Z"
   },
   {
    "duration": 101,
    "start_time": "2025-06-04T05:59:58.462Z"
   },
   {
    "duration": 45,
    "start_time": "2025-06-04T05:59:58.565Z"
   },
   {
    "duration": 92,
    "start_time": "2025-06-04T05:59:58.612Z"
   },
   {
    "duration": 88,
    "start_time": "2025-06-04T05:59:58.705Z"
   },
   {
    "duration": 40,
    "start_time": "2025-06-04T05:59:58.794Z"
   },
   {
    "duration": 15,
    "start_time": "2025-06-04T05:59:58.835Z"
   },
   {
    "duration": 102,
    "start_time": "2025-06-04T05:59:58.852Z"
   },
   {
    "duration": 114,
    "start_time": "2025-06-04T05:59:58.958Z"
   },
   {
    "duration": 40,
    "start_time": "2025-06-04T05:59:59.074Z"
   },
   {
    "duration": 56,
    "start_time": "2025-06-04T05:59:59.116Z"
   },
   {
    "duration": 145,
    "start_time": "2025-06-04T05:59:59.174Z"
   },
   {
    "duration": 23,
    "start_time": "2025-06-04T05:59:59.321Z"
   },
   {
    "duration": 19,
    "start_time": "2025-06-04T05:59:59.347Z"
   },
   {
    "duration": 23,
    "start_time": "2025-06-04T05:59:59.368Z"
   },
   {
    "duration": 57,
    "start_time": "2025-06-04T05:59:59.392Z"
   },
   {
    "duration": 128,
    "start_time": "2025-06-04T05:59:59.452Z"
   },
   {
    "duration": 215,
    "start_time": "2025-06-04T05:59:59.582Z"
   },
   {
    "duration": 139,
    "start_time": "2025-06-04T05:59:59.799Z"
   },
   {
    "duration": 388,
    "start_time": "2025-06-04T05:59:59.941Z"
   },
   {
    "duration": 311,
    "start_time": "2025-06-04T06:00:39.255Z"
   },
   {
    "duration": 2639,
    "start_time": "2025-06-04T06:00:57.016Z"
   },
   {
    "duration": 2588,
    "start_time": "2025-06-04T06:00:59.658Z"
   },
   {
    "duration": 12,
    "start_time": "2025-06-04T06:01:02.248Z"
   },
   {
    "duration": 84,
    "start_time": "2025-06-04T06:01:02.262Z"
   },
   {
    "duration": 66,
    "start_time": "2025-06-04T06:01:02.349Z"
   },
   {
    "duration": 121,
    "start_time": "2025-06-04T06:01:02.417Z"
   },
   {
    "duration": 10,
    "start_time": "2025-06-04T06:01:02.540Z"
   },
   {
    "duration": 196,
    "start_time": "2025-06-04T06:01:02.552Z"
   },
   {
    "duration": 8,
    "start_time": "2025-06-04T06:01:02.750Z"
   },
   {
    "duration": 102,
    "start_time": "2025-06-04T06:01:02.759Z"
   },
   {
    "duration": 61,
    "start_time": "2025-06-04T06:01:02.862Z"
   },
   {
    "duration": 74,
    "start_time": "2025-06-04T06:01:02.926Z"
   },
   {
    "duration": 72,
    "start_time": "2025-06-04T06:01:03.002Z"
   },
   {
    "duration": 42,
    "start_time": "2025-06-04T06:01:03.077Z"
   },
   {
    "duration": 248,
    "start_time": "2025-06-04T06:01:03.121Z"
   },
   {
    "duration": 96,
    "start_time": "2025-06-04T06:01:03.371Z"
   },
   {
    "duration": 45,
    "start_time": "2025-06-04T06:01:03.469Z"
   },
   {
    "duration": 92,
    "start_time": "2025-06-04T06:01:03.516Z"
   },
   {
    "duration": 203,
    "start_time": "2025-06-04T06:01:03.610Z"
   },
   {
    "duration": 7,
    "start_time": "2025-06-04T06:01:03.815Z"
   },
   {
    "duration": 100,
    "start_time": "2025-06-04T06:01:03.824Z"
   },
   {
    "duration": 92,
    "start_time": "2025-06-04T06:01:03.927Z"
   },
   {
    "duration": 91,
    "start_time": "2025-06-04T06:01:04.021Z"
   },
   {
    "duration": 75,
    "start_time": "2025-06-04T06:01:04.114Z"
   },
   {
    "duration": 52,
    "start_time": "2025-06-04T06:01:04.191Z"
   },
   {
    "duration": 144,
    "start_time": "2025-06-04T06:01:04.245Z"
   },
   {
    "duration": 22,
    "start_time": "2025-06-04T06:01:04.392Z"
   },
   {
    "duration": 36,
    "start_time": "2025-06-04T06:01:04.416Z"
   },
   {
    "duration": 24,
    "start_time": "2025-06-04T06:01:04.455Z"
   },
   {
    "duration": 56,
    "start_time": "2025-06-04T06:01:04.480Z"
   },
   {
    "duration": 72,
    "start_time": "2025-06-04T06:01:04.538Z"
   },
   {
    "duration": 333,
    "start_time": "2025-06-04T06:01:04.613Z"
   },
   {
    "duration": 137,
    "start_time": "2025-06-04T06:01:04.947Z"
   },
   {
    "duration": 353,
    "start_time": "2025-06-04T06:01:05.085Z"
   },
   {
    "duration": 2670,
    "start_time": "2025-06-04T06:01:26.496Z"
   },
   {
    "duration": 2434,
    "start_time": "2025-06-04T06:01:29.169Z"
   },
   {
    "duration": 12,
    "start_time": "2025-06-04T06:01:31.605Z"
   },
   {
    "duration": 112,
    "start_time": "2025-06-04T06:01:31.619Z"
   },
   {
    "duration": 48,
    "start_time": "2025-06-04T06:01:31.733Z"
   },
   {
    "duration": 128,
    "start_time": "2025-06-04T06:01:31.784Z"
   },
   {
    "duration": 11,
    "start_time": "2025-06-04T06:01:31.915Z"
   },
   {
    "duration": 56,
    "start_time": "2025-06-04T06:01:31.937Z"
   },
   {
    "duration": 16,
    "start_time": "2025-06-04T06:01:31.995Z"
   },
   {
    "duration": 39,
    "start_time": "2025-06-04T06:01:32.013Z"
   },
   {
    "duration": 20,
    "start_time": "2025-06-04T06:01:32.053Z"
   },
   {
    "duration": 64,
    "start_time": "2025-06-04T06:01:32.075Z"
   },
   {
    "duration": 22,
    "start_time": "2025-06-04T06:01:32.141Z"
   },
   {
    "duration": 16,
    "start_time": "2025-06-04T06:01:32.166Z"
   },
   {
    "duration": 214,
    "start_time": "2025-06-04T06:01:32.184Z"
   },
   {
    "duration": 100,
    "start_time": "2025-06-04T06:01:32.400Z"
   },
   {
    "duration": 53,
    "start_time": "2025-06-04T06:01:32.501Z"
   },
   {
    "duration": 32,
    "start_time": "2025-06-04T06:01:32.556Z"
   },
   {
    "duration": 182,
    "start_time": "2025-06-04T06:01:32.590Z"
   },
   {
    "duration": 7,
    "start_time": "2025-06-04T06:01:32.774Z"
   },
   {
    "duration": 84,
    "start_time": "2025-06-04T06:01:32.783Z"
   },
   {
    "duration": 108,
    "start_time": "2025-06-04T06:01:32.869Z"
   },
   {
    "duration": 86,
    "start_time": "2025-06-04T06:01:32.979Z"
   },
   {
    "duration": 37,
    "start_time": "2025-06-04T06:01:33.067Z"
   },
   {
    "duration": 51,
    "start_time": "2025-06-04T06:01:33.105Z"
   },
   {
    "duration": 149,
    "start_time": "2025-06-04T06:01:33.158Z"
   },
   {
    "duration": 12,
    "start_time": "2025-06-04T06:01:33.309Z"
   },
   {
    "duration": 66,
    "start_time": "2025-06-04T06:01:33.337Z"
   },
   {
    "duration": 30,
    "start_time": "2025-06-04T06:01:33.405Z"
   },
   {
    "duration": 250,
    "start_time": "2025-06-04T06:01:33.437Z"
   },
   {
    "duration": 86,
    "start_time": "2025-06-04T06:01:33.689Z"
   },
   {
    "duration": 223,
    "start_time": "2025-06-04T06:01:33.777Z"
   },
   {
    "duration": 136,
    "start_time": "2025-06-04T06:01:34.002Z"
   },
   {
    "duration": 331,
    "start_time": "2025-06-04T06:01:34.140Z"
   },
   {
    "duration": 2697,
    "start_time": "2025-06-04T06:02:04.305Z"
   },
   {
    "duration": 2532,
    "start_time": "2025-06-04T06:02:07.005Z"
   },
   {
    "duration": 22,
    "start_time": "2025-06-04T06:02:09.540Z"
   },
   {
    "duration": 101,
    "start_time": "2025-06-04T06:02:09.564Z"
   },
   {
    "duration": 57,
    "start_time": "2025-06-04T06:02:09.669Z"
   },
   {
    "duration": 129,
    "start_time": "2025-06-04T06:02:09.727Z"
   },
   {
    "duration": 11,
    "start_time": "2025-06-04T06:02:09.859Z"
   },
   {
    "duration": 45,
    "start_time": "2025-06-04T06:02:09.872Z"
   },
   {
    "duration": 14,
    "start_time": "2025-06-04T06:02:09.937Z"
   },
   {
    "duration": 33,
    "start_time": "2025-06-04T06:02:09.953Z"
   },
   {
    "duration": 9,
    "start_time": "2025-06-04T06:02:09.987Z"
   },
   {
    "duration": 146,
    "start_time": "2025-06-04T06:02:09.998Z"
   },
   {
    "duration": 19,
    "start_time": "2025-06-04T06:02:10.146Z"
   },
   {
    "duration": 32,
    "start_time": "2025-06-04T06:02:10.168Z"
   },
   {
    "duration": 224,
    "start_time": "2025-06-04T06:02:10.202Z"
   },
   {
    "duration": 94,
    "start_time": "2025-06-04T06:02:10.428Z"
   },
   {
    "duration": 69,
    "start_time": "2025-06-04T06:02:10.524Z"
   },
   {
    "duration": 54,
    "start_time": "2025-06-04T06:02:10.595Z"
   },
   {
    "duration": 272,
    "start_time": "2025-06-04T06:02:10.652Z"
   },
   {
    "duration": 15,
    "start_time": "2025-06-04T06:02:10.926Z"
   },
   {
    "duration": 37,
    "start_time": "2025-06-04T06:02:10.944Z"
   },
   {
    "duration": 247,
    "start_time": "2025-06-04T06:02:10.983Z"
   },
   {
    "duration": 95,
    "start_time": "2025-06-04T06:02:11.232Z"
   },
   {
    "duration": 52,
    "start_time": "2025-06-04T06:02:11.329Z"
   },
   {
    "duration": 75,
    "start_time": "2025-06-04T06:02:11.383Z"
   },
   {
    "duration": 282,
    "start_time": "2025-06-04T06:02:11.460Z"
   },
   {
    "duration": 34,
    "start_time": "2025-06-04T06:02:11.744Z"
   },
   {
    "duration": 18,
    "start_time": "2025-06-04T06:02:11.780Z"
   },
   {
    "duration": 54,
    "start_time": "2025-06-04T06:02:11.801Z"
   },
   {
    "duration": 34,
    "start_time": "2025-06-04T06:02:11.857Z"
   },
   {
    "duration": 61,
    "start_time": "2025-06-04T06:02:11.893Z"
   },
   {
    "duration": 234,
    "start_time": "2025-06-04T06:02:11.957Z"
   },
   {
    "duration": 133,
    "start_time": "2025-06-04T06:02:12.193Z"
   },
   {
    "duration": 275,
    "start_time": "2025-06-04T06:02:12.328Z"
   },
   {
    "duration": 1597,
    "start_time": "2025-06-04T06:03:07.595Z"
   },
   {
    "duration": 2529,
    "start_time": "2025-06-04T06:03:54.877Z"
   },
   {
    "duration": 2518,
    "start_time": "2025-06-04T06:03:57.408Z"
   },
   {
    "duration": 18,
    "start_time": "2025-06-04T06:03:59.928Z"
   },
   {
    "duration": 14,
    "start_time": "2025-06-04T06:03:59.948Z"
   },
   {
    "duration": 52,
    "start_time": "2025-06-04T06:03:59.964Z"
   },
   {
    "duration": 328,
    "start_time": "2025-06-04T06:04:00.018Z"
   },
   {
    "duration": 9,
    "start_time": "2025-06-04T06:04:00.348Z"
   },
   {
    "duration": 79,
    "start_time": "2025-06-04T06:04:00.358Z"
   },
   {
    "duration": 29,
    "start_time": "2025-06-04T06:04:00.439Z"
   },
   {
    "duration": 85,
    "start_time": "2025-06-04T06:04:00.470Z"
   },
   {
    "duration": 154,
    "start_time": "2025-06-04T06:04:00.557Z"
   },
   {
    "duration": 45,
    "start_time": "2025-06-04T06:04:00.713Z"
   },
   {
    "duration": 85,
    "start_time": "2025-06-04T06:04:00.760Z"
   },
   {
    "duration": 7,
    "start_time": "2025-06-04T06:04:00.848Z"
   },
   {
    "duration": 232,
    "start_time": "2025-06-04T06:04:00.857Z"
   },
   {
    "duration": 92,
    "start_time": "2025-06-04T06:04:01.090Z"
   },
   {
    "duration": 52,
    "start_time": "2025-06-04T06:04:01.184Z"
   },
   {
    "duration": 33,
    "start_time": "2025-06-04T06:04:01.238Z"
   },
   {
    "duration": 106,
    "start_time": "2025-06-04T06:04:01.273Z"
   },
   {
    "duration": 7,
    "start_time": "2025-06-04T06:04:01.380Z"
   },
   {
    "duration": 30,
    "start_time": "2025-06-04T06:04:01.389Z"
   },
   {
    "duration": 179,
    "start_time": "2025-06-04T06:04:01.420Z"
   },
   {
    "duration": 158,
    "start_time": "2025-06-04T06:04:01.601Z"
   },
   {
    "duration": 37,
    "start_time": "2025-06-04T06:04:01.760Z"
   },
   {
    "duration": 54,
    "start_time": "2025-06-04T06:04:01.798Z"
   },
   {
    "duration": 152,
    "start_time": "2025-06-04T06:04:01.854Z"
   },
   {
    "duration": 12,
    "start_time": "2025-06-04T06:04:02.008Z"
   },
   {
    "duration": 39,
    "start_time": "2025-06-04T06:04:02.022Z"
   },
   {
    "duration": 41,
    "start_time": "2025-06-04T06:04:02.062Z"
   },
   {
    "duration": 26,
    "start_time": "2025-06-04T06:04:02.105Z"
   },
   {
    "duration": 50,
    "start_time": "2025-06-04T06:04:02.132Z"
   },
   {
    "duration": 210,
    "start_time": "2025-06-04T06:04:02.184Z"
   },
   {
    "duration": 196,
    "start_time": "2025-06-04T06:04:02.395Z"
   },
   {
    "duration": 283,
    "start_time": "2025-06-04T06:04:02.594Z"
   },
   {
    "duration": 196,
    "start_time": "2025-06-04T06:41:26.813Z"
   },
   {
    "duration": 2682,
    "start_time": "2025-06-04T06:41:37.386Z"
   },
   {
    "duration": 2509,
    "start_time": "2025-06-04T06:41:40.070Z"
   },
   {
    "duration": 18,
    "start_time": "2025-06-04T06:41:42.581Z"
   },
   {
    "duration": 26,
    "start_time": "2025-06-04T06:41:42.602Z"
   },
   {
    "duration": 43,
    "start_time": "2025-06-04T06:41:42.630Z"
   },
   {
    "duration": 123,
    "start_time": "2025-06-04T06:41:42.675Z"
   },
   {
    "duration": 10,
    "start_time": "2025-06-04T06:41:42.800Z"
   },
   {
    "duration": 180,
    "start_time": "2025-06-04T06:41:42.812Z"
   },
   {
    "duration": 8,
    "start_time": "2025-06-04T06:41:42.993Z"
   },
   {
    "duration": 23,
    "start_time": "2025-06-04T06:41:43.004Z"
   },
   {
    "duration": 21,
    "start_time": "2025-06-04T06:41:43.029Z"
   },
   {
    "duration": 32,
    "start_time": "2025-06-04T06:41:43.052Z"
   },
   {
    "duration": 28,
    "start_time": "2025-06-04T06:41:43.086Z"
   },
   {
    "duration": 4,
    "start_time": "2025-06-04T06:41:43.116Z"
   },
   {
    "duration": 232,
    "start_time": "2025-06-04T06:41:43.122Z"
   },
   {
    "duration": 101,
    "start_time": "2025-06-04T06:41:43.356Z"
   },
   {
    "duration": 44,
    "start_time": "2025-06-04T06:41:43.459Z"
   },
   {
    "duration": 51,
    "start_time": "2025-06-04T06:41:43.505Z"
   },
   {
    "duration": 106,
    "start_time": "2025-06-04T06:41:43.559Z"
   },
   {
    "duration": 9,
    "start_time": "2025-06-04T06:41:43.667Z"
   },
   {
    "duration": 182,
    "start_time": "2025-06-04T06:41:43.678Z"
   },
   {
    "duration": 120,
    "start_time": "2025-06-04T06:41:43.862Z"
   },
   {
    "duration": 92,
    "start_time": "2025-06-04T06:41:43.984Z"
   },
   {
    "duration": 38,
    "start_time": "2025-06-04T06:41:44.078Z"
   },
   {
    "duration": 53,
    "start_time": "2025-06-04T06:41:44.118Z"
   },
   {
    "duration": 146,
    "start_time": "2025-06-04T06:41:44.173Z"
   },
   {
    "duration": 27,
    "start_time": "2025-06-04T06:41:44.321Z"
   },
   {
    "duration": 96,
    "start_time": "2025-06-04T06:41:44.351Z"
   },
   {
    "duration": 29,
    "start_time": "2025-06-04T06:41:44.450Z"
   },
   {
    "duration": 28,
    "start_time": "2025-06-04T06:41:44.481Z"
   },
   {
    "duration": 65,
    "start_time": "2025-06-04T06:41:44.511Z"
   },
   {
    "duration": 226,
    "start_time": "2025-06-04T06:41:44.578Z"
   },
   {
    "duration": 137,
    "start_time": "2025-06-04T06:41:44.806Z"
   },
   {
    "duration": 625,
    "start_time": "2025-06-04T06:41:44.945Z"
   },
   {
    "duration": 506,
    "start_time": "2025-06-04T06:44:16.265Z"
   },
   {
    "duration": 2702,
    "start_time": "2025-06-04T06:44:22.615Z"
   },
   {
    "duration": 2574,
    "start_time": "2025-06-04T06:44:25.320Z"
   },
   {
    "duration": 15,
    "start_time": "2025-06-04T06:44:27.896Z"
   },
   {
    "duration": 27,
    "start_time": "2025-06-04T06:44:27.913Z"
   },
   {
    "duration": 86,
    "start_time": "2025-06-04T06:44:27.943Z"
   },
   {
    "duration": 190,
    "start_time": "2025-06-04T06:44:28.031Z"
   },
   {
    "duration": 15,
    "start_time": "2025-06-04T06:44:28.223Z"
   },
   {
    "duration": 48,
    "start_time": "2025-06-04T06:44:28.240Z"
   },
   {
    "duration": 9,
    "start_time": "2025-06-04T06:44:28.290Z"
   },
   {
    "duration": 44,
    "start_time": "2025-06-04T06:44:28.301Z"
   },
   {
    "duration": 84,
    "start_time": "2025-06-04T06:44:28.347Z"
   },
   {
    "duration": 42,
    "start_time": "2025-06-04T06:44:28.433Z"
   },
   {
    "duration": 43,
    "start_time": "2025-06-04T06:44:28.477Z"
   },
   {
    "duration": 33,
    "start_time": "2025-06-04T06:44:28.523Z"
   },
   {
    "duration": 219,
    "start_time": "2025-06-04T06:44:28.558Z"
   },
   {
    "duration": 100,
    "start_time": "2025-06-04T06:44:28.779Z"
   },
   {
    "duration": 123,
    "start_time": "2025-06-04T06:44:28.881Z"
   },
   {
    "duration": 39,
    "start_time": "2025-06-04T06:44:29.006Z"
   },
   {
    "duration": 100,
    "start_time": "2025-06-04T06:44:29.047Z"
   },
   {
    "duration": 6,
    "start_time": "2025-06-04T06:44:29.149Z"
   },
   {
    "duration": 31,
    "start_time": "2025-06-04T06:44:29.157Z"
   },
   {
    "duration": 88,
    "start_time": "2025-06-04T06:44:29.190Z"
   },
   {
    "duration": 92,
    "start_time": "2025-06-04T06:44:29.280Z"
   },
   {
    "duration": 38,
    "start_time": "2025-06-04T06:44:29.374Z"
   },
   {
    "duration": 51,
    "start_time": "2025-06-04T06:44:29.414Z"
   },
   {
    "duration": 181,
    "start_time": "2025-06-04T06:44:29.467Z"
   },
   {
    "duration": 13,
    "start_time": "2025-06-04T06:44:29.650Z"
   },
   {
    "duration": 165,
    "start_time": "2025-06-04T06:44:29.665Z"
   },
   {
    "duration": 46,
    "start_time": "2025-06-04T06:44:29.832Z"
   },
   {
    "duration": 28,
    "start_time": "2025-06-04T06:44:29.880Z"
   },
   {
    "duration": 74,
    "start_time": "2025-06-04T06:44:29.909Z"
   },
   {
    "duration": 228,
    "start_time": "2025-06-04T06:44:29.985Z"
   },
   {
    "duration": 137,
    "start_time": "2025-06-04T06:44:30.215Z"
   },
   {
    "duration": 636,
    "start_time": "2025-06-04T06:44:30.354Z"
   },
   {
    "duration": 526,
    "start_time": "2025-06-04T06:46:16.553Z"
   },
   {
    "duration": 1360,
    "start_time": "2025-06-04T06:47:11.706Z"
   },
   {
    "duration": 1636,
    "start_time": "2025-06-04T06:48:34.674Z"
   },
   {
    "duration": 2688,
    "start_time": "2025-06-04T06:49:09.614Z"
   },
   {
    "duration": 2532,
    "start_time": "2025-06-04T06:49:12.305Z"
   },
   {
    "duration": 13,
    "start_time": "2025-06-04T06:49:14.839Z"
   },
   {
    "duration": 203,
    "start_time": "2025-06-04T06:49:14.854Z"
   },
   {
    "duration": 37,
    "start_time": "2025-06-04T06:49:15.060Z"
   },
   {
    "duration": 149,
    "start_time": "2025-06-04T06:49:15.098Z"
   },
   {
    "duration": 12,
    "start_time": "2025-06-04T06:49:15.250Z"
   },
   {
    "duration": 108,
    "start_time": "2025-06-04T06:49:15.264Z"
   },
   {
    "duration": 20,
    "start_time": "2025-06-04T06:49:15.374Z"
   },
   {
    "duration": 55,
    "start_time": "2025-06-04T06:49:15.396Z"
   },
   {
    "duration": 34,
    "start_time": "2025-06-04T06:49:15.453Z"
   },
   {
    "duration": 51,
    "start_time": "2025-06-04T06:49:15.489Z"
   },
   {
    "duration": 26,
    "start_time": "2025-06-04T06:49:15.542Z"
   },
   {
    "duration": 4,
    "start_time": "2025-06-04T06:49:15.572Z"
   },
   {
    "duration": 246,
    "start_time": "2025-06-04T06:49:15.578Z"
   },
   {
    "duration": 89,
    "start_time": "2025-06-04T06:49:15.826Z"
   },
   {
    "duration": 58,
    "start_time": "2025-06-04T06:49:15.917Z"
   },
   {
    "duration": 34,
    "start_time": "2025-06-04T06:49:15.977Z"
   },
   {
    "duration": 102,
    "start_time": "2025-06-04T06:49:16.013Z"
   },
   {
    "duration": 6,
    "start_time": "2025-06-04T06:49:16.117Z"
   },
   {
    "duration": 10,
    "start_time": "2025-06-04T06:49:16.137Z"
   },
   {
    "duration": 100,
    "start_time": "2025-06-04T06:49:16.149Z"
   },
   {
    "duration": 95,
    "start_time": "2025-06-04T06:49:16.251Z"
   },
   {
    "duration": 38,
    "start_time": "2025-06-04T06:49:16.348Z"
   },
   {
    "duration": 131,
    "start_time": "2025-06-04T06:49:16.388Z"
   },
   {
    "duration": 138,
    "start_time": "2025-06-04T06:49:16.520Z"
   },
   {
    "duration": 11,
    "start_time": "2025-06-04T06:49:16.660Z"
   },
   {
    "duration": 23,
    "start_time": "2025-06-04T06:49:16.673Z"
   },
   {
    "duration": 62,
    "start_time": "2025-06-04T06:49:16.698Z"
   },
   {
    "duration": 23,
    "start_time": "2025-06-04T06:49:16.761Z"
   },
   {
    "duration": 226,
    "start_time": "2025-06-04T06:49:16.786Z"
   },
   {
    "duration": 208,
    "start_time": "2025-06-04T06:49:17.014Z"
   },
   {
    "duration": 133,
    "start_time": "2025-06-04T06:49:17.224Z"
   },
   {
    "duration": 141,
    "start_time": "2025-06-04T06:49:17.358Z"
   },
   {
    "duration": 488,
    "start_time": "2025-06-04T06:49:38.694Z"
   },
   {
    "duration": 225,
    "start_time": "2025-06-04T06:52:40.254Z"
   },
   {
    "duration": 1357,
    "start_time": "2025-06-04T06:53:27.713Z"
   },
   {
    "duration": 151,
    "start_time": "2025-06-04T06:54:21.354Z"
   },
   {
    "duration": 96,
    "start_time": "2025-06-04T06:56:15.614Z"
   },
   {
    "duration": 143,
    "start_time": "2025-06-04T06:56:22.795Z"
   },
   {
    "duration": 147,
    "start_time": "2025-06-04T06:56:39.914Z"
   },
   {
    "duration": 136,
    "start_time": "2025-06-04T06:56:48.654Z"
   },
   {
    "duration": 147,
    "start_time": "2025-06-04T06:56:57.114Z"
   },
   {
    "duration": 1704,
    "start_time": "2025-06-04T06:57:37.194Z"
   },
   {
    "duration": 2720,
    "start_time": "2025-06-04T06:58:11.817Z"
   },
   {
    "duration": 2579,
    "start_time": "2025-06-04T06:58:14.540Z"
   },
   {
    "duration": 17,
    "start_time": "2025-06-04T06:58:17.121Z"
   },
   {
    "duration": 27,
    "start_time": "2025-06-04T06:58:17.140Z"
   },
   {
    "duration": 25,
    "start_time": "2025-06-04T06:58:17.170Z"
   },
   {
    "duration": 116,
    "start_time": "2025-06-04T06:58:17.196Z"
   },
   {
    "duration": 9,
    "start_time": "2025-06-04T06:58:17.314Z"
   },
   {
    "duration": 52,
    "start_time": "2025-06-04T06:58:17.337Z"
   },
   {
    "duration": 9,
    "start_time": "2025-06-04T06:58:17.390Z"
   },
   {
    "duration": 22,
    "start_time": "2025-06-04T06:58:17.401Z"
   },
   {
    "duration": 41,
    "start_time": "2025-06-04T06:58:17.425Z"
   },
   {
    "duration": 35,
    "start_time": "2025-06-04T06:58:17.468Z"
   },
   {
    "duration": 18,
    "start_time": "2025-06-04T06:58:17.506Z"
   },
   {
    "duration": 11,
    "start_time": "2025-06-04T06:58:17.527Z"
   },
   {
    "duration": 239,
    "start_time": "2025-06-04T06:58:17.540Z"
   },
   {
    "duration": 111,
    "start_time": "2025-06-04T06:58:17.781Z"
   },
   {
    "duration": 80,
    "start_time": "2025-06-04T06:58:17.894Z"
   },
   {
    "duration": 34,
    "start_time": "2025-06-04T06:58:17.976Z"
   },
   {
    "duration": 99,
    "start_time": "2025-06-04T06:58:18.012Z"
   },
   {
    "duration": 7,
    "start_time": "2025-06-04T06:58:18.112Z"
   },
   {
    "duration": 9,
    "start_time": "2025-06-04T06:58:18.137Z"
   },
   {
    "duration": 99,
    "start_time": "2025-06-04T06:58:18.148Z"
   },
   {
    "duration": 96,
    "start_time": "2025-06-04T06:58:18.248Z"
   },
   {
    "duration": 39,
    "start_time": "2025-06-04T06:58:18.346Z"
   },
   {
    "duration": 66,
    "start_time": "2025-06-04T06:58:18.387Z"
   },
   {
    "duration": 252,
    "start_time": "2025-06-04T06:58:18.455Z"
   },
   {
    "duration": 30,
    "start_time": "2025-06-04T06:58:18.709Z"
   },
   {
    "duration": 16,
    "start_time": "2025-06-04T06:58:18.741Z"
   },
   {
    "duration": 24,
    "start_time": "2025-06-04T06:58:18.759Z"
   },
   {
    "duration": 32,
    "start_time": "2025-06-04T06:58:18.785Z"
   },
   {
    "duration": 67,
    "start_time": "2025-06-04T06:58:18.819Z"
   },
   {
    "duration": 261,
    "start_time": "2025-06-04T06:58:18.889Z"
   },
   {
    "duration": 137,
    "start_time": "2025-06-04T06:58:19.152Z"
   },
   {
    "duration": 274,
    "start_time": "2025-06-04T06:58:19.291Z"
   },
   {
    "duration": 86,
    "start_time": "2025-06-04T07:02:52.894Z"
   },
   {
    "duration": 11,
    "start_time": "2025-06-04T07:03:02.153Z"
   },
   {
    "duration": 1358,
    "start_time": "2025-06-04T07:06:56.805Z"
   },
   {
    "duration": 28,
    "start_time": "2025-06-04T07:07:12.973Z"
   },
   {
    "duration": 29,
    "start_time": "2025-06-04T07:08:07.664Z"
   },
   {
    "duration": 28,
    "start_time": "2025-06-04T07:09:03.504Z"
   },
   {
    "duration": 30,
    "start_time": "2025-06-04T07:10:13.864Z"
   },
   {
    "duration": 26,
    "start_time": "2025-06-04T07:10:35.684Z"
   },
   {
    "duration": 41,
    "start_time": "2025-06-04T07:11:42.071Z"
   },
   {
    "duration": 28,
    "start_time": "2025-06-04T07:11:53.173Z"
   },
   {
    "duration": 1465,
    "start_time": "2025-06-04T07:15:02.592Z"
   },
   {
    "duration": 2945,
    "start_time": "2025-06-04T07:15:07.112Z"
   },
   {
    "duration": 2630,
    "start_time": "2025-06-04T07:15:10.060Z"
   },
   {
    "duration": 15,
    "start_time": "2025-06-04T07:15:12.692Z"
   },
   {
    "duration": 19,
    "start_time": "2025-06-04T07:15:12.709Z"
   },
   {
    "duration": 42,
    "start_time": "2025-06-04T07:15:12.738Z"
   },
   {
    "duration": 134,
    "start_time": "2025-06-04T07:15:12.782Z"
   },
   {
    "duration": 10,
    "start_time": "2025-06-04T07:15:12.918Z"
   },
   {
    "duration": 48,
    "start_time": "2025-06-04T07:15:12.930Z"
   },
   {
    "duration": 226,
    "start_time": "2025-06-04T07:15:12.980Z"
   },
   {
    "duration": 39,
    "start_time": "2025-06-04T07:15:13.209Z"
   },
   {
    "duration": 12,
    "start_time": "2025-06-04T07:15:13.252Z"
   },
   {
    "duration": 43,
    "start_time": "2025-06-04T07:15:13.266Z"
   },
   {
    "duration": 17,
    "start_time": "2025-06-04T07:15:13.311Z"
   },
   {
    "duration": 9,
    "start_time": "2025-06-04T07:15:13.330Z"
   },
   {
    "duration": 244,
    "start_time": "2025-06-04T07:15:13.341Z"
   },
   {
    "duration": 116,
    "start_time": "2025-06-04T07:15:13.587Z"
   },
   {
    "duration": 68,
    "start_time": "2025-06-04T07:15:13.705Z"
   },
   {
    "duration": 33,
    "start_time": "2025-06-04T07:15:13.776Z"
   },
   {
    "duration": 204,
    "start_time": "2025-06-04T07:15:13.811Z"
   },
   {
    "duration": 52,
    "start_time": "2025-06-04T07:15:14.017Z"
   },
   {
    "duration": 19,
    "start_time": "2025-06-04T07:15:14.071Z"
   },
   {
    "duration": 119,
    "start_time": "2025-06-04T07:15:14.092Z"
   },
   {
    "duration": 89,
    "start_time": "2025-06-04T07:15:14.212Z"
   },
   {
    "duration": 57,
    "start_time": "2025-06-04T07:15:14.303Z"
   },
   {
    "duration": 81,
    "start_time": "2025-06-04T07:15:14.363Z"
   },
   {
    "duration": 195,
    "start_time": "2025-06-04T07:15:14.446Z"
   },
   {
    "duration": 19,
    "start_time": "2025-06-04T07:15:14.643Z"
   },
   {
    "duration": 71,
    "start_time": "2025-06-04T07:15:14.664Z"
   },
   {
    "duration": 32,
    "start_time": "2025-06-04T07:15:14.739Z"
   },
   {
    "duration": 22,
    "start_time": "2025-06-04T07:15:14.773Z"
   },
   {
    "duration": 69,
    "start_time": "2025-06-04T07:15:14.797Z"
   },
   {
    "duration": 238,
    "start_time": "2025-06-04T07:15:14.868Z"
   },
   {
    "duration": 153,
    "start_time": "2025-06-04T07:15:15.108Z"
   },
   {
    "duration": 288,
    "start_time": "2025-06-04T07:15:15.264Z"
   },
   {
    "duration": 37,
    "start_time": "2025-06-04T07:15:15.554Z"
   },
   {
    "duration": 1457,
    "start_time": "2025-06-04T07:20:39.665Z"
   },
   {
    "duration": 2743,
    "start_time": "2025-06-04T07:20:56.516Z"
   },
   {
    "duration": 2580,
    "start_time": "2025-06-04T07:20:59.261Z"
   },
   {
    "duration": 13,
    "start_time": "2025-06-04T07:21:01.843Z"
   },
   {
    "duration": 214,
    "start_time": "2025-06-04T07:21:01.858Z"
   },
   {
    "duration": 130,
    "start_time": "2025-06-04T07:21:02.074Z"
   },
   {
    "duration": 157,
    "start_time": "2025-06-04T07:21:02.206Z"
   },
   {
    "duration": 10,
    "start_time": "2025-06-04T07:21:02.364Z"
   },
   {
    "duration": 86,
    "start_time": "2025-06-04T07:21:02.376Z"
   },
   {
    "duration": 8,
    "start_time": "2025-06-04T07:21:02.464Z"
   },
   {
    "duration": 72,
    "start_time": "2025-06-04T07:21:02.473Z"
   },
   {
    "duration": 26,
    "start_time": "2025-06-04T07:21:02.546Z"
   },
   {
    "duration": 39,
    "start_time": "2025-06-04T07:21:02.574Z"
   },
   {
    "duration": 143,
    "start_time": "2025-06-04T07:21:02.614Z"
   },
   {
    "duration": 81,
    "start_time": "2025-06-04T07:21:02.759Z"
   },
   {
    "duration": 256,
    "start_time": "2025-06-04T07:21:02.842Z"
   },
   {
    "duration": 92,
    "start_time": "2025-06-04T07:21:03.100Z"
   },
   {
    "duration": 72,
    "start_time": "2025-06-04T07:21:03.194Z"
   },
   {
    "duration": 41,
    "start_time": "2025-06-04T07:21:03.268Z"
   },
   {
    "duration": 94,
    "start_time": "2025-06-04T07:21:03.310Z"
   },
   {
    "duration": 7,
    "start_time": "2025-06-04T07:21:03.406Z"
   },
   {
    "duration": 42,
    "start_time": "2025-06-04T07:21:03.414Z"
   },
   {
    "duration": 137,
    "start_time": "2025-06-04T07:21:03.458Z"
   },
   {
    "duration": 96,
    "start_time": "2025-06-04T07:21:03.597Z"
   },
   {
    "duration": 46,
    "start_time": "2025-06-04T07:21:03.694Z"
   },
   {
    "duration": 61,
    "start_time": "2025-06-04T07:21:03.742Z"
   },
   {
    "duration": 140,
    "start_time": "2025-06-04T07:21:03.805Z"
   },
   {
    "duration": 14,
    "start_time": "2025-06-04T07:21:03.946Z"
   },
   {
    "duration": 108,
    "start_time": "2025-06-04T07:21:03.961Z"
   },
   {
    "duration": 24,
    "start_time": "2025-06-04T07:21:04.071Z"
   },
   {
    "duration": 32,
    "start_time": "2025-06-04T07:21:04.096Z"
   },
   {
    "duration": 66,
    "start_time": "2025-06-04T07:21:04.130Z"
   },
   {
    "duration": 211,
    "start_time": "2025-06-04T07:21:04.198Z"
   },
   {
    "duration": 150,
    "start_time": "2025-06-04T07:21:04.411Z"
   },
   {
    "duration": 1652,
    "start_time": "2025-06-04T07:21:04.562Z"
   },
   {
    "duration": 0,
    "start_time": "2025-06-04T07:21:06.216Z"
   },
   {
    "duration": 1392,
    "start_time": "2025-06-04T07:21:24.326Z"
   },
   {
    "duration": 2644,
    "start_time": "2025-06-04T07:21:31.713Z"
   },
   {
    "duration": 2626,
    "start_time": "2025-06-04T07:21:34.360Z"
   },
   {
    "duration": 13,
    "start_time": "2025-06-04T07:21:36.988Z"
   },
   {
    "duration": 117,
    "start_time": "2025-06-04T07:21:37.002Z"
   },
   {
    "duration": 138,
    "start_time": "2025-06-04T07:21:37.121Z"
   },
   {
    "duration": 145,
    "start_time": "2025-06-04T07:21:37.261Z"
   },
   {
    "duration": 10,
    "start_time": "2025-06-04T07:21:37.408Z"
   },
   {
    "duration": 108,
    "start_time": "2025-06-04T07:21:37.435Z"
   },
   {
    "duration": 8,
    "start_time": "2025-06-04T07:21:37.545Z"
   },
   {
    "duration": 41,
    "start_time": "2025-06-04T07:21:37.555Z"
   },
   {
    "duration": 31,
    "start_time": "2025-06-04T07:21:37.597Z"
   },
   {
    "duration": 32,
    "start_time": "2025-06-04T07:21:37.630Z"
   },
   {
    "duration": 22,
    "start_time": "2025-06-04T07:21:37.664Z"
   },
   {
    "duration": 32,
    "start_time": "2025-06-04T07:21:37.690Z"
   },
   {
    "duration": 221,
    "start_time": "2025-06-04T07:21:37.723Z"
   },
   {
    "duration": 97,
    "start_time": "2025-06-04T07:21:37.946Z"
   },
   {
    "duration": 122,
    "start_time": "2025-06-04T07:21:38.045Z"
   },
   {
    "duration": 36,
    "start_time": "2025-06-04T07:21:38.169Z"
   },
   {
    "duration": 108,
    "start_time": "2025-06-04T07:21:38.207Z"
   },
   {
    "duration": 21,
    "start_time": "2025-06-04T07:21:38.318Z"
   },
   {
    "duration": 11,
    "start_time": "2025-06-04T07:21:38.341Z"
   },
   {
    "duration": 101,
    "start_time": "2025-06-04T07:21:38.354Z"
   },
   {
    "duration": 98,
    "start_time": "2025-06-04T07:21:38.457Z"
   },
   {
    "duration": 38,
    "start_time": "2025-06-04T07:21:38.557Z"
   },
   {
    "duration": 223,
    "start_time": "2025-06-04T07:21:38.597Z"
   },
   {
    "duration": 200,
    "start_time": "2025-06-04T07:21:38.822Z"
   },
   {
    "duration": 31,
    "start_time": "2025-06-04T07:21:39.024Z"
   },
   {
    "duration": 54,
    "start_time": "2025-06-04T07:21:39.058Z"
   },
   {
    "duration": 32,
    "start_time": "2025-06-04T07:21:39.114Z"
   },
   {
    "duration": 130,
    "start_time": "2025-06-04T07:21:39.148Z"
   },
   {
    "duration": 58,
    "start_time": "2025-06-04T07:21:39.280Z"
   },
   {
    "duration": 221,
    "start_time": "2025-06-04T07:21:39.340Z"
   },
   {
    "duration": 141,
    "start_time": "2025-06-04T07:21:39.563Z"
   },
   {
    "duration": 263,
    "start_time": "2025-06-04T07:21:39.706Z"
   },
   {
    "duration": 33,
    "start_time": "2025-06-04T07:21:39.971Z"
   },
   {
    "duration": 6,
    "start_time": "2025-06-04T07:22:34.046Z"
   },
   {
    "duration": 2662,
    "start_time": "2025-06-04T07:57:58.294Z"
   },
   {
    "duration": 2584,
    "start_time": "2025-06-04T07:58:00.959Z"
   },
   {
    "duration": 13,
    "start_time": "2025-06-04T07:58:03.545Z"
   },
   {
    "duration": 127,
    "start_time": "2025-06-04T07:58:03.560Z"
   },
   {
    "duration": 53,
    "start_time": "2025-06-04T07:58:03.689Z"
   },
   {
    "duration": 117,
    "start_time": "2025-06-04T07:58:03.743Z"
   },
   {
    "duration": 9,
    "start_time": "2025-06-04T07:58:03.862Z"
   },
   {
    "duration": 78,
    "start_time": "2025-06-04T07:58:03.873Z"
   },
   {
    "duration": 12,
    "start_time": "2025-06-04T07:58:03.953Z"
   },
   {
    "duration": 154,
    "start_time": "2025-06-04T07:58:03.967Z"
   },
   {
    "duration": 11,
    "start_time": "2025-06-04T07:58:04.123Z"
   },
   {
    "duration": 59,
    "start_time": "2025-06-04T07:58:04.136Z"
   },
   {
    "duration": 140,
    "start_time": "2025-06-04T07:58:04.197Z"
   },
   {
    "duration": 33,
    "start_time": "2025-06-04T07:58:04.340Z"
   },
   {
    "duration": 274,
    "start_time": "2025-06-04T07:58:04.375Z"
   },
   {
    "duration": 95,
    "start_time": "2025-06-04T07:58:04.651Z"
   },
   {
    "duration": 45,
    "start_time": "2025-06-04T07:58:04.748Z"
   },
   {
    "duration": 49,
    "start_time": "2025-06-04T07:58:04.794Z"
   },
   {
    "duration": 96,
    "start_time": "2025-06-04T07:58:04.845Z"
   },
   {
    "duration": 24,
    "start_time": "2025-06-04T07:58:04.943Z"
   },
   {
    "duration": 47,
    "start_time": "2025-06-04T07:58:04.969Z"
   },
   {
    "duration": 90,
    "start_time": "2025-06-04T07:58:05.018Z"
   },
   {
    "duration": 90,
    "start_time": "2025-06-04T07:58:05.110Z"
   },
   {
    "duration": 46,
    "start_time": "2025-06-04T07:58:05.202Z"
   },
   {
    "duration": 144,
    "start_time": "2025-06-04T07:58:05.250Z"
   },
   {
    "duration": 251,
    "start_time": "2025-06-04T07:58:05.396Z"
   },
   {
    "duration": 15,
    "start_time": "2025-06-04T07:58:05.649Z"
   },
   {
    "duration": 24,
    "start_time": "2025-06-04T07:58:05.666Z"
   },
   {
    "duration": 45,
    "start_time": "2025-06-04T07:58:05.692Z"
   },
   {
    "duration": 28,
    "start_time": "2025-06-04T07:58:05.739Z"
   },
   {
    "duration": 71,
    "start_time": "2025-06-04T07:58:05.769Z"
   },
   {
    "duration": 223,
    "start_time": "2025-06-04T07:58:05.842Z"
   },
   {
    "duration": 140,
    "start_time": "2025-06-04T07:58:06.067Z"
   },
   {
    "duration": 285,
    "start_time": "2025-06-04T07:58:06.210Z"
   },
   {
    "duration": 7,
    "start_time": "2025-06-04T07:58:06.496Z"
   },
   {
    "duration": 59,
    "start_time": "2025-06-04T07:58:06.505Z"
   },
   {
    "duration": 117,
    "start_time": "2025-06-04T08:01:01.466Z"
   },
   {
    "duration": 21,
    "start_time": "2025-06-04T08:01:09.473Z"
   },
   {
    "duration": 39,
    "start_time": "2025-06-04T08:01:50.093Z"
   },
   {
    "duration": 85,
    "start_time": "2025-06-04T08:02:19.144Z"
   },
   {
    "duration": 39,
    "start_time": "2025-06-04T08:02:26.893Z"
   },
   {
    "duration": 31,
    "start_time": "2025-06-04T08:02:41.784Z"
   },
   {
    "duration": 29,
    "start_time": "2025-06-04T08:03:01.344Z"
   },
   {
    "duration": 102,
    "start_time": "2025-06-04T08:04:14.244Z"
   },
   {
    "duration": 38,
    "start_time": "2025-06-04T08:04:45.894Z"
   },
   {
    "duration": 47,
    "start_time": "2025-06-04T08:05:43.024Z"
   },
   {
    "duration": 26,
    "start_time": "2025-06-04T08:05:59.894Z"
   },
   {
    "duration": 78,
    "start_time": "2025-06-04T08:06:11.044Z"
   },
   {
    "duration": 160,
    "start_time": "2025-06-04T08:07:37.314Z"
   },
   {
    "duration": 12,
    "start_time": "2025-06-04T08:13:01.724Z"
   },
   {
    "duration": 50,
    "start_time": "2025-06-04T08:13:30.808Z"
   },
   {
    "duration": 2702,
    "start_time": "2025-06-04T08:15:47.149Z"
   },
   {
    "duration": 2737,
    "start_time": "2025-06-04T08:15:49.854Z"
   },
   {
    "duration": 13,
    "start_time": "2025-06-04T08:15:52.593Z"
   },
   {
    "duration": 29,
    "start_time": "2025-06-04T08:15:52.608Z"
   },
   {
    "duration": 28,
    "start_time": "2025-06-04T08:15:52.639Z"
   },
   {
    "duration": 119,
    "start_time": "2025-06-04T08:15:52.669Z"
   },
   {
    "duration": 11,
    "start_time": "2025-06-04T08:15:52.791Z"
   },
   {
    "duration": 62,
    "start_time": "2025-06-04T08:15:52.803Z"
   },
   {
    "duration": 9,
    "start_time": "2025-06-04T08:15:52.867Z"
   },
   {
    "duration": 51,
    "start_time": "2025-06-04T08:15:52.877Z"
   },
   {
    "duration": 28,
    "start_time": "2025-06-04T08:15:52.929Z"
   },
   {
    "duration": 47,
    "start_time": "2025-06-04T08:15:52.959Z"
   },
   {
    "duration": 24,
    "start_time": "2025-06-04T08:15:53.008Z"
   },
   {
    "duration": 5,
    "start_time": "2025-06-04T08:15:53.035Z"
   },
   {
    "duration": 221,
    "start_time": "2025-06-04T08:15:53.041Z"
   },
   {
    "duration": 98,
    "start_time": "2025-06-04T08:15:53.264Z"
   },
   {
    "duration": 44,
    "start_time": "2025-06-04T08:15:53.364Z"
   },
   {
    "duration": 99,
    "start_time": "2025-06-04T08:15:53.410Z"
   },
   {
    "duration": 87,
    "start_time": "2025-06-04T08:15:53.511Z"
   },
   {
    "duration": 41,
    "start_time": "2025-06-04T08:15:53.600Z"
   },
   {
    "duration": 16,
    "start_time": "2025-06-04T08:15:53.643Z"
   },
   {
    "duration": 81,
    "start_time": "2025-06-04T08:15:53.661Z"
   },
   {
    "duration": 94,
    "start_time": "2025-06-04T08:15:53.743Z"
   },
   {
    "duration": 37,
    "start_time": "2025-06-04T08:15:53.839Z"
   },
   {
    "duration": 38,
    "start_time": "2025-06-04T08:15:53.877Z"
   },
   {
    "duration": 161,
    "start_time": "2025-06-04T08:15:53.916Z"
   },
   {
    "duration": 12,
    "start_time": "2025-06-04T08:15:54.079Z"
   },
   {
    "duration": 21,
    "start_time": "2025-06-04T08:15:54.093Z"
   },
   {
    "duration": 119,
    "start_time": "2025-06-04T08:15:54.116Z"
   },
   {
    "duration": 28,
    "start_time": "2025-06-04T08:15:54.236Z"
   },
   {
    "duration": 190,
    "start_time": "2025-06-04T08:15:54.266Z"
   },
   {
    "duration": 217,
    "start_time": "2025-06-04T08:15:54.458Z"
   },
   {
    "duration": 130,
    "start_time": "2025-06-04T08:15:54.677Z"
   },
   {
    "duration": 266,
    "start_time": "2025-06-04T08:15:54.809Z"
   },
   {
    "duration": 6,
    "start_time": "2025-06-04T08:15:55.076Z"
   },
   {
    "duration": 90,
    "start_time": "2025-06-04T08:15:55.084Z"
   },
   {
    "duration": 84,
    "start_time": "2025-06-04T08:15:55.176Z"
   },
   {
    "duration": 183,
    "start_time": "2025-06-04T08:15:55.262Z"
   },
   {
    "duration": 50,
    "start_time": "2025-06-04T08:15:55.447Z"
   },
   {
    "duration": 2624,
    "start_time": "2025-06-04T08:39:25.697Z"
   },
   {
    "duration": 2693,
    "start_time": "2025-06-04T08:39:28.323Z"
   },
   {
    "duration": 13,
    "start_time": "2025-06-04T08:39:31.017Z"
   },
   {
    "duration": 19,
    "start_time": "2025-06-04T08:39:31.032Z"
   },
   {
    "duration": 133,
    "start_time": "2025-06-04T08:39:31.053Z"
   },
   {
    "duration": 116,
    "start_time": "2025-06-04T08:39:31.187Z"
   },
   {
    "duration": 10,
    "start_time": "2025-06-04T08:39:31.305Z"
   },
   {
    "duration": 77,
    "start_time": "2025-06-04T08:39:31.317Z"
   },
   {
    "duration": 9,
    "start_time": "2025-06-04T08:39:31.396Z"
   },
   {
    "duration": 46,
    "start_time": "2025-06-04T08:39:31.406Z"
   },
   {
    "duration": 24,
    "start_time": "2025-06-04T08:39:31.453Z"
   },
   {
    "duration": 151,
    "start_time": "2025-06-04T08:39:31.479Z"
   },
   {
    "duration": 16,
    "start_time": "2025-06-04T08:39:31.632Z"
   },
   {
    "duration": 4,
    "start_time": "2025-06-04T08:39:31.652Z"
   },
   {
    "duration": 247,
    "start_time": "2025-06-04T08:39:31.658Z"
   },
   {
    "duration": 98,
    "start_time": "2025-06-04T08:39:31.907Z"
   },
   {
    "duration": 52,
    "start_time": "2025-06-04T08:39:32.007Z"
   },
   {
    "duration": 32,
    "start_time": "2025-06-04T08:39:32.061Z"
   },
   {
    "duration": 115,
    "start_time": "2025-06-04T08:39:32.095Z"
   },
   {
    "duration": 6,
    "start_time": "2025-06-04T08:39:32.212Z"
   },
   {
    "duration": 131,
    "start_time": "2025-06-04T08:39:32.220Z"
   },
   {
    "duration": 100,
    "start_time": "2025-06-04T08:39:32.353Z"
   },
   {
    "duration": 127,
    "start_time": "2025-06-04T08:39:32.455Z"
   },
   {
    "duration": 37,
    "start_time": "2025-06-04T08:39:32.584Z"
   },
   {
    "duration": 49,
    "start_time": "2025-06-04T08:39:32.622Z"
   },
   {
    "duration": 154,
    "start_time": "2025-06-04T08:39:32.673Z"
   },
   {
    "duration": 13,
    "start_time": "2025-06-04T08:39:32.836Z"
   },
   {
    "duration": 35,
    "start_time": "2025-06-04T08:39:32.850Z"
   },
   {
    "duration": 41,
    "start_time": "2025-06-04T08:39:32.887Z"
   },
   {
    "duration": 23,
    "start_time": "2025-06-04T08:39:32.930Z"
   },
   {
    "duration": 55,
    "start_time": "2025-06-04T08:39:32.955Z"
   },
   {
    "duration": 218,
    "start_time": "2025-06-04T08:39:33.012Z"
   },
   {
    "duration": 135,
    "start_time": "2025-06-04T08:39:33.232Z"
   },
   {
    "duration": 276,
    "start_time": "2025-06-04T08:39:33.370Z"
   },
   {
    "duration": 6,
    "start_time": "2025-06-04T08:39:33.648Z"
   },
   {
    "duration": 40,
    "start_time": "2025-06-04T08:39:33.656Z"
   },
   {
    "duration": 188,
    "start_time": "2025-06-04T08:39:33.698Z"
   },
   {
    "duration": 178,
    "start_time": "2025-06-04T08:39:33.888Z"
   },
   {
    "duration": 48,
    "start_time": "2025-06-04T08:39:34.068Z"
   },
   {
    "duration": 52,
    "start_time": "2025-06-04T08:44:02.169Z"
   },
   {
    "duration": 6,
    "start_time": "2025-06-04T08:44:07.468Z"
   },
   {
    "duration": 2612,
    "start_time": "2025-06-04T08:44:56.170Z"
   },
   {
    "duration": 2779,
    "start_time": "2025-06-04T08:44:58.785Z"
   },
   {
    "duration": 18,
    "start_time": "2025-06-04T08:45:01.566Z"
   },
   {
    "duration": 76,
    "start_time": "2025-06-04T08:45:01.587Z"
   },
   {
    "duration": 69,
    "start_time": "2025-06-04T08:45:01.665Z"
   },
   {
    "duration": 238,
    "start_time": "2025-06-04T08:45:01.735Z"
   },
   {
    "duration": 11,
    "start_time": "2025-06-04T08:45:01.974Z"
   },
   {
    "duration": 66,
    "start_time": "2025-06-04T08:45:01.987Z"
   },
   {
    "duration": 44,
    "start_time": "2025-06-04T08:45:02.055Z"
   },
   {
    "duration": 33,
    "start_time": "2025-06-04T08:45:02.101Z"
   },
   {
    "duration": 37,
    "start_time": "2025-06-04T08:45:02.136Z"
   },
   {
    "duration": 65,
    "start_time": "2025-06-04T08:45:02.174Z"
   },
   {
    "duration": 160,
    "start_time": "2025-06-04T08:45:02.241Z"
   },
   {
    "duration": 201,
    "start_time": "2025-06-04T08:45:02.405Z"
   },
   {
    "duration": 276,
    "start_time": "2025-06-04T08:45:02.609Z"
   },
   {
    "duration": 100,
    "start_time": "2025-06-04T08:45:02.887Z"
   },
   {
    "duration": 53,
    "start_time": "2025-06-04T08:45:02.989Z"
   },
   {
    "duration": 34,
    "start_time": "2025-06-04T08:45:03.044Z"
   },
   {
    "duration": 361,
    "start_time": "2025-06-04T08:45:03.080Z"
   },
   {
    "duration": 40,
    "start_time": "2025-06-04T08:45:03.444Z"
   },
   {
    "duration": 144,
    "start_time": "2025-06-04T08:45:03.486Z"
   },
   {
    "duration": 111,
    "start_time": "2025-06-04T08:45:03.631Z"
   },
   {
    "duration": 83,
    "start_time": "2025-06-04T08:45:03.744Z"
   },
   {
    "duration": 73,
    "start_time": "2025-06-04T08:45:03.829Z"
   },
   {
    "duration": 69,
    "start_time": "2025-06-04T08:45:03.904Z"
   },
   {
    "duration": 167,
    "start_time": "2025-06-04T08:45:03.975Z"
   },
   {
    "duration": 13,
    "start_time": "2025-06-04T08:45:04.143Z"
   },
   {
    "duration": 30,
    "start_time": "2025-06-04T08:45:04.157Z"
   },
   {
    "duration": 65,
    "start_time": "2025-06-04T08:45:04.189Z"
   },
   {
    "duration": 224,
    "start_time": "2025-06-04T08:45:04.256Z"
   },
   {
    "duration": 103,
    "start_time": "2025-06-04T08:45:04.481Z"
   },
   {
    "duration": 212,
    "start_time": "2025-06-04T08:45:04.586Z"
   },
   {
    "duration": 128,
    "start_time": "2025-06-04T08:45:04.800Z"
   },
   {
    "duration": 264,
    "start_time": "2025-06-04T08:45:04.930Z"
   },
   {
    "duration": 6,
    "start_time": "2025-06-04T08:45:05.195Z"
   },
   {
    "duration": 103,
    "start_time": "2025-06-04T08:45:05.203Z"
   },
   {
    "duration": 184,
    "start_time": "2025-06-04T08:45:05.309Z"
   },
   {
    "duration": 179,
    "start_time": "2025-06-04T08:45:05.495Z"
   },
   {
    "duration": 66,
    "start_time": "2025-06-04T08:45:05.676Z"
   },
   {
    "duration": 2661,
    "start_time": "2025-06-04T08:45:20.011Z"
   },
   {
    "duration": 2656,
    "start_time": "2025-06-04T08:45:22.675Z"
   },
   {
    "duration": 13,
    "start_time": "2025-06-04T08:45:25.333Z"
   },
   {
    "duration": 58,
    "start_time": "2025-06-04T08:45:25.348Z"
   },
   {
    "duration": 30,
    "start_time": "2025-06-04T08:45:25.409Z"
   },
   {
    "duration": 111,
    "start_time": "2025-06-04T08:45:25.441Z"
   },
   {
    "duration": 11,
    "start_time": "2025-06-04T08:45:25.553Z"
   },
   {
    "duration": 127,
    "start_time": "2025-06-04T08:45:25.565Z"
   },
   {
    "duration": 8,
    "start_time": "2025-06-04T08:45:25.694Z"
   },
   {
    "duration": 115,
    "start_time": "2025-06-04T08:45:25.704Z"
   },
   {
    "duration": 26,
    "start_time": "2025-06-04T08:45:25.821Z"
   },
   {
    "duration": 30,
    "start_time": "2025-06-04T08:45:25.849Z"
   },
   {
    "duration": 18,
    "start_time": "2025-06-04T08:45:25.881Z"
   },
   {
    "duration": 7,
    "start_time": "2025-06-04T08:45:25.902Z"
   },
   {
    "duration": 237,
    "start_time": "2025-06-04T08:45:25.910Z"
   },
   {
    "duration": 92,
    "start_time": "2025-06-04T08:45:26.149Z"
   },
   {
    "duration": 46,
    "start_time": "2025-06-04T08:45:26.243Z"
   },
   {
    "duration": 131,
    "start_time": "2025-06-04T08:45:26.291Z"
   },
   {
    "duration": 175,
    "start_time": "2025-06-04T08:45:26.424Z"
   },
   {
    "duration": 6,
    "start_time": "2025-06-04T08:45:26.601Z"
   },
   {
    "duration": 12,
    "start_time": "2025-06-04T08:45:26.609Z"
   },
   {
    "duration": 91,
    "start_time": "2025-06-04T08:45:26.623Z"
   },
   {
    "duration": 99,
    "start_time": "2025-06-04T08:45:26.716Z"
   },
   {
    "duration": 43,
    "start_time": "2025-06-04T08:45:26.817Z"
   },
   {
    "duration": 43,
    "start_time": "2025-06-04T08:45:26.862Z"
   },
   {
    "duration": 153,
    "start_time": "2025-06-04T08:45:26.907Z"
   },
   {
    "duration": 12,
    "start_time": "2025-06-04T08:45:27.062Z"
   },
   {
    "duration": 142,
    "start_time": "2025-06-04T08:45:27.075Z"
   },
   {
    "duration": 39,
    "start_time": "2025-06-04T08:45:27.219Z"
   },
   {
    "duration": 37,
    "start_time": "2025-06-04T08:45:27.260Z"
   },
   {
    "duration": 118,
    "start_time": "2025-06-04T08:45:27.299Z"
   },
   {
    "duration": 214,
    "start_time": "2025-06-04T08:45:27.419Z"
   },
   {
    "duration": 137,
    "start_time": "2025-06-04T08:45:27.637Z"
   },
   {
    "duration": 284,
    "start_time": "2025-06-04T08:45:27.777Z"
   },
   {
    "duration": 6,
    "start_time": "2025-06-04T08:45:28.062Z"
   },
   {
    "duration": 51,
    "start_time": "2025-06-04T08:45:28.069Z"
   },
   {
    "duration": 84,
    "start_time": "2025-06-04T08:45:28.122Z"
   },
   {
    "duration": 190,
    "start_time": "2025-06-04T08:45:28.208Z"
   },
   {
    "duration": 61,
    "start_time": "2025-06-04T08:45:28.400Z"
   },
   {
    "duration": 171,
    "start_time": "2025-06-04T08:45:28.463Z"
   },
   {
    "duration": 225,
    "start_time": "2025-06-04T09:00:58.560Z"
   },
   {
    "duration": 117,
    "start_time": "2025-06-04T09:02:52.740Z"
   },
   {
    "duration": 27,
    "start_time": "2025-06-04T09:08:38.129Z"
   },
   {
    "duration": 63,
    "start_time": "2025-06-04T09:09:17.110Z"
   },
   {
    "duration": 402,
    "start_time": "2025-06-04T09:13:41.960Z"
   },
   {
    "duration": 358,
    "start_time": "2025-06-04T09:14:11.252Z"
   },
   {
    "duration": 447,
    "start_time": "2025-06-04T09:15:31.757Z"
   },
   {
    "duration": 435,
    "start_time": "2025-06-04T09:16:38.257Z"
   },
   {
    "duration": 171,
    "start_time": "2025-06-04T09:23:37.388Z"
   },
   {
    "duration": 41,
    "start_time": "2025-06-04T09:24:08.527Z"
   },
   {
    "duration": 3892,
    "start_time": "2025-06-04T11:40:23.776Z"
   },
   {
    "duration": 2766,
    "start_time": "2025-06-04T11:40:27.671Z"
   },
   {
    "duration": 19,
    "start_time": "2025-06-04T11:40:30.440Z"
   },
   {
    "duration": 49,
    "start_time": "2025-06-04T11:40:30.462Z"
   },
   {
    "duration": 50,
    "start_time": "2025-06-04T11:40:30.512Z"
   },
   {
    "duration": 150,
    "start_time": "2025-06-04T11:40:30.564Z"
   },
   {
    "duration": 9,
    "start_time": "2025-06-04T11:40:30.716Z"
   },
   {
    "duration": 63,
    "start_time": "2025-06-04T11:40:30.727Z"
   },
   {
    "duration": 7,
    "start_time": "2025-06-04T11:40:30.793Z"
   },
   {
    "duration": 57,
    "start_time": "2025-06-04T11:40:30.803Z"
   },
   {
    "duration": 39,
    "start_time": "2025-06-04T11:40:30.866Z"
   },
   {
    "duration": 61,
    "start_time": "2025-06-04T11:40:30.907Z"
   },
   {
    "duration": 16,
    "start_time": "2025-06-04T11:40:30.971Z"
   },
   {
    "duration": 24,
    "start_time": "2025-06-04T11:40:30.989Z"
   },
   {
    "duration": 252,
    "start_time": "2025-06-04T11:40:31.014Z"
   },
   {
    "duration": 104,
    "start_time": "2025-06-04T11:40:31.269Z"
   },
   {
    "duration": 42,
    "start_time": "2025-06-04T11:40:31.375Z"
   },
   {
    "duration": 81,
    "start_time": "2025-06-04T11:40:31.419Z"
   },
   {
    "duration": 308,
    "start_time": "2025-06-04T11:40:31.502Z"
   },
   {
    "duration": 7,
    "start_time": "2025-06-04T11:40:31.812Z"
   },
   {
    "duration": 29,
    "start_time": "2025-06-04T11:40:31.820Z"
   },
   {
    "duration": 110,
    "start_time": "2025-06-04T11:40:31.852Z"
   },
   {
    "duration": 98,
    "start_time": "2025-06-04T11:40:31.965Z"
   },
   {
    "duration": 36,
    "start_time": "2025-06-04T11:40:32.065Z"
   },
   {
    "duration": 60,
    "start_time": "2025-06-04T11:40:32.103Z"
   },
   {
    "duration": 147,
    "start_time": "2025-06-04T11:40:32.166Z"
   },
   {
    "duration": 37,
    "start_time": "2025-06-04T11:40:32.315Z"
   },
   {
    "duration": 17,
    "start_time": "2025-06-04T11:40:32.361Z"
   },
   {
    "duration": 32,
    "start_time": "2025-06-04T11:40:32.380Z"
   },
   {
    "duration": 52,
    "start_time": "2025-06-04T11:40:32.413Z"
   },
   {
    "duration": 55,
    "start_time": "2025-06-04T11:40:32.467Z"
   },
   {
    "duration": 223,
    "start_time": "2025-06-04T11:40:32.524Z"
   },
   {
    "duration": 153,
    "start_time": "2025-06-04T11:40:32.750Z"
   },
   {
    "duration": 298,
    "start_time": "2025-06-04T11:40:32.905Z"
   },
   {
    "duration": 6,
    "start_time": "2025-06-04T11:40:33.204Z"
   },
   {
    "duration": 63,
    "start_time": "2025-06-04T11:40:33.211Z"
   },
   {
    "duration": 103,
    "start_time": "2025-06-04T11:40:33.276Z"
   },
   {
    "duration": 190,
    "start_time": "2025-06-04T11:40:33.381Z"
   },
   {
    "duration": 47,
    "start_time": "2025-06-04T11:40:33.573Z"
   },
   {
    "duration": 202,
    "start_time": "2025-06-04T11:40:33.621Z"
   },
   {
    "duration": 75,
    "start_time": "2025-06-04T11:40:33.825Z"
   },
   {
    "duration": 507,
    "start_time": "2025-06-04T11:40:33.902Z"
   },
   {
    "duration": 85,
    "start_time": "2025-06-04T11:40:54.533Z"
   },
   {
    "duration": 2882,
    "start_time": "2025-06-04T11:42:23.642Z"
   },
   {
    "duration": 2540,
    "start_time": "2025-06-04T11:42:26.527Z"
   },
   {
    "duration": 14,
    "start_time": "2025-06-04T11:42:29.070Z"
   },
   {
    "duration": 75,
    "start_time": "2025-06-04T11:42:29.085Z"
   },
   {
    "duration": 27,
    "start_time": "2025-06-04T11:42:29.163Z"
   },
   {
    "duration": 117,
    "start_time": "2025-06-04T11:42:29.192Z"
   },
   {
    "duration": 9,
    "start_time": "2025-06-04T11:42:29.311Z"
   },
   {
    "duration": 72,
    "start_time": "2025-06-04T11:42:29.322Z"
   },
   {
    "duration": 31,
    "start_time": "2025-06-04T11:42:29.396Z"
   },
   {
    "duration": 68,
    "start_time": "2025-06-04T11:42:29.429Z"
   },
   {
    "duration": 11,
    "start_time": "2025-06-04T11:42:29.499Z"
   },
   {
    "duration": 133,
    "start_time": "2025-06-04T11:42:29.512Z"
   },
   {
    "duration": 92,
    "start_time": "2025-06-04T11:42:29.650Z"
   },
   {
    "duration": 7,
    "start_time": "2025-06-04T11:42:29.752Z"
   },
   {
    "duration": 223,
    "start_time": "2025-06-04T11:42:29.764Z"
   },
   {
    "duration": 94,
    "start_time": "2025-06-04T11:42:29.988Z"
   },
   {
    "duration": 41,
    "start_time": "2025-06-04T11:42:30.083Z"
   },
   {
    "duration": 52,
    "start_time": "2025-06-04T11:42:30.137Z"
   },
   {
    "duration": 104,
    "start_time": "2025-06-04T11:42:30.191Z"
   },
   {
    "duration": 7,
    "start_time": "2025-06-04T11:42:30.296Z"
   },
   {
    "duration": 76,
    "start_time": "2025-06-04T11:42:30.305Z"
   },
   {
    "duration": 113,
    "start_time": "2025-06-04T11:42:30.383Z"
   },
   {
    "duration": 100,
    "start_time": "2025-06-04T11:42:30.498Z"
   },
   {
    "duration": 60,
    "start_time": "2025-06-04T11:42:30.600Z"
   },
   {
    "duration": 36,
    "start_time": "2025-06-04T11:42:30.665Z"
   },
   {
    "duration": 162,
    "start_time": "2025-06-04T11:42:30.703Z"
   },
   {
    "duration": 13,
    "start_time": "2025-06-04T11:42:30.869Z"
   },
   {
    "duration": 13,
    "start_time": "2025-06-04T11:42:30.884Z"
   },
   {
    "duration": 47,
    "start_time": "2025-06-04T11:42:30.899Z"
   },
   {
    "duration": 31,
    "start_time": "2025-06-04T11:42:30.948Z"
   },
   {
    "duration": 68,
    "start_time": "2025-06-04T11:42:30.980Z"
   },
   {
    "duration": 229,
    "start_time": "2025-06-04T11:42:31.053Z"
   },
   {
    "duration": 132,
    "start_time": "2025-06-04T11:42:31.283Z"
   },
   {
    "duration": 295,
    "start_time": "2025-06-04T11:42:31.417Z"
   },
   {
    "duration": 5,
    "start_time": "2025-06-04T11:42:31.714Z"
   },
   {
    "duration": 68,
    "start_time": "2025-06-04T11:42:31.720Z"
   },
   {
    "duration": 84,
    "start_time": "2025-06-04T11:42:31.790Z"
   },
   {
    "duration": 177,
    "start_time": "2025-06-04T11:42:31.876Z"
   },
   {
    "duration": 48,
    "start_time": "2025-06-04T11:42:32.055Z"
   },
   {
    "duration": 111,
    "start_time": "2025-06-04T11:42:32.105Z"
   },
   {
    "duration": 70,
    "start_time": "2025-06-04T11:42:32.219Z"
   },
   {
    "duration": 509,
    "start_time": "2025-06-04T11:42:32.290Z"
   },
   {
    "duration": 103,
    "start_time": "2025-06-04T11:51:23.572Z"
   },
   {
    "duration": 79,
    "start_time": "2025-06-04T11:51:30.302Z"
   },
   {
    "duration": 91,
    "start_time": "2025-06-04T11:52:08.786Z"
   },
   {
    "duration": 80,
    "start_time": "2025-06-04T11:56:38.243Z"
   },
   {
    "duration": 122,
    "start_time": "2025-06-04T11:56:47.743Z"
   },
   {
    "duration": 153,
    "start_time": "2025-06-04T12:01:45.546Z"
   },
   {
    "duration": 165,
    "start_time": "2025-06-04T12:02:38.666Z"
   },
   {
    "duration": 153,
    "start_time": "2025-06-04T12:02:53.828Z"
   },
   {
    "duration": 59,
    "start_time": "2025-06-04T12:03:57.899Z"
   },
   {
    "duration": 129,
    "start_time": "2025-06-04T12:04:14.731Z"
   },
   {
    "duration": 125,
    "start_time": "2025-06-04T12:12:29.263Z"
   },
   {
    "duration": 465,
    "start_time": "2025-06-04T12:16:32.994Z"
   },
   {
    "duration": 1225,
    "start_time": "2025-06-04T12:27:43.407Z"
   },
   {
    "duration": 42,
    "start_time": "2025-06-04T12:28:14.234Z"
   },
   {
    "duration": 39,
    "start_time": "2025-06-04T12:28:22.341Z"
   },
   {
    "duration": 34,
    "start_time": "2025-06-04T12:29:08.350Z"
   },
   {
    "duration": 46,
    "start_time": "2025-06-04T12:29:15.437Z"
   },
   {
    "duration": 38,
    "start_time": "2025-06-04T12:29:28.812Z"
   },
   {
    "duration": 37,
    "start_time": "2025-06-04T12:29:34.874Z"
   },
   {
    "duration": 49,
    "start_time": "2025-06-04T12:30:14.689Z"
   },
   {
    "duration": 40,
    "start_time": "2025-06-04T12:31:42.515Z"
   },
   {
    "duration": 13,
    "start_time": "2025-06-04T12:32:30.121Z"
   },
   {
    "duration": 2719,
    "start_time": "2025-06-04T12:51:06.097Z"
   },
   {
    "duration": 2541,
    "start_time": "2025-06-04T12:51:08.819Z"
   },
   {
    "duration": 19,
    "start_time": "2025-06-04T12:51:11.362Z"
   },
   {
    "duration": 18,
    "start_time": "2025-06-04T12:51:11.383Z"
   },
   {
    "duration": 45,
    "start_time": "2025-06-04T12:51:11.404Z"
   },
   {
    "duration": 129,
    "start_time": "2025-06-04T12:51:11.452Z"
   },
   {
    "duration": 11,
    "start_time": "2025-06-04T12:51:11.582Z"
   },
   {
    "duration": 110,
    "start_time": "2025-06-04T12:51:11.594Z"
   },
   {
    "duration": 8,
    "start_time": "2025-06-04T12:51:11.706Z"
   },
   {
    "duration": 25,
    "start_time": "2025-06-04T12:51:11.715Z"
   },
   {
    "duration": 15,
    "start_time": "2025-06-04T12:51:11.745Z"
   },
   {
    "duration": 29,
    "start_time": "2025-06-04T12:51:11.763Z"
   },
   {
    "duration": 15,
    "start_time": "2025-06-04T12:51:11.794Z"
   },
   {
    "duration": 87,
    "start_time": "2025-06-04T12:51:11.812Z"
   },
   {
    "duration": 302,
    "start_time": "2025-06-04T12:51:11.901Z"
   },
   {
    "duration": 120,
    "start_time": "2025-06-04T12:51:12.204Z"
   },
   {
    "duration": 70,
    "start_time": "2025-06-04T12:51:12.326Z"
   },
   {
    "duration": 55,
    "start_time": "2025-06-04T12:51:12.398Z"
   },
   {
    "duration": 107,
    "start_time": "2025-06-04T12:51:12.455Z"
   },
   {
    "duration": 9,
    "start_time": "2025-06-04T12:51:12.564Z"
   },
   {
    "duration": 10,
    "start_time": "2025-06-04T12:51:12.574Z"
   },
   {
    "duration": 117,
    "start_time": "2025-06-04T12:51:12.586Z"
   },
   {
    "duration": 104,
    "start_time": "2025-06-04T12:51:12.705Z"
   },
   {
    "duration": 57,
    "start_time": "2025-06-04T12:51:12.810Z"
   },
   {
    "duration": 39,
    "start_time": "2025-06-04T12:51:12.869Z"
   },
   {
    "duration": 175,
    "start_time": "2025-06-04T12:51:12.909Z"
   },
   {
    "duration": 18,
    "start_time": "2025-06-04T12:51:13.086Z"
   },
   {
    "duration": 48,
    "start_time": "2025-06-04T12:51:13.106Z"
   },
   {
    "duration": 33,
    "start_time": "2025-06-04T12:51:13.156Z"
   },
   {
    "duration": 24,
    "start_time": "2025-06-04T12:51:13.191Z"
   },
   {
    "duration": 70,
    "start_time": "2025-06-04T12:51:13.217Z"
   },
   {
    "duration": 233,
    "start_time": "2025-06-04T12:51:13.289Z"
   },
   {
    "duration": 144,
    "start_time": "2025-06-04T12:51:13.524Z"
   },
   {
    "duration": 288,
    "start_time": "2025-06-04T12:51:13.670Z"
   },
   {
    "duration": 9,
    "start_time": "2025-06-04T12:51:13.961Z"
   },
   {
    "duration": 32,
    "start_time": "2025-06-04T12:51:13.973Z"
   },
   {
    "duration": 118,
    "start_time": "2025-06-04T12:51:14.007Z"
   },
   {
    "duration": 133,
    "start_time": "2025-06-04T12:51:14.127Z"
   },
   {
    "duration": 157,
    "start_time": "2025-06-04T12:51:14.262Z"
   },
   {
    "duration": 69,
    "start_time": "2025-06-04T12:51:14.421Z"
   },
   {
    "duration": 166,
    "start_time": "2025-06-04T12:51:14.494Z"
   },
   {
    "duration": 162,
    "start_time": "2025-06-04T12:51:14.662Z"
   },
   {
    "duration": 519,
    "start_time": "2025-06-04T12:51:14.843Z"
   },
   {
    "duration": 1475,
    "start_time": "2025-06-04T13:02:36.530Z"
   },
   {
    "duration": 2306,
    "start_time": "2025-06-04T13:03:31.853Z"
   },
   {
    "duration": 1445,
    "start_time": "2025-06-04T13:04:01.773Z"
   },
   {
    "duration": 793,
    "start_time": "2025-06-04T13:04:10.595Z"
   },
   {
    "duration": 96,
    "start_time": "2025-06-04T13:05:24.795Z"
   },
   {
    "duration": 755,
    "start_time": "2025-06-04T13:05:32.164Z"
   },
   {
    "duration": 527,
    "start_time": "2025-06-04T13:06:08.850Z"
   },
   {
    "duration": 528,
    "start_time": "2025-06-04T13:06:20.436Z"
   },
   {
    "duration": 811,
    "start_time": "2025-06-04T13:10:59.374Z"
   },
   {
    "duration": 567,
    "start_time": "2025-06-04T13:11:13.826Z"
   },
   {
    "duration": 1050,
    "start_time": "2025-06-04T13:18:20.622Z"
   },
   {
    "duration": 93,
    "start_time": "2025-06-04T13:18:49.469Z"
   },
   {
    "duration": 775,
    "start_time": "2025-06-04T13:19:46.371Z"
   },
   {
    "duration": 844,
    "start_time": "2025-06-04T13:20:12.907Z"
   },
   {
    "duration": 104,
    "start_time": "2025-06-04T13:20:30.186Z"
   },
   {
    "duration": 566,
    "start_time": "2025-06-04T13:22:04.618Z"
   },
   {
    "duration": 1106,
    "start_time": "2025-06-04T13:22:30.133Z"
   },
   {
    "duration": 1194,
    "start_time": "2025-06-04T13:24:30.457Z"
   },
   {
    "duration": 1070,
    "start_time": "2025-06-04T13:25:51.516Z"
   },
   {
    "duration": 1104,
    "start_time": "2025-06-04T13:26:17.044Z"
   },
   {
    "duration": 1111,
    "start_time": "2025-06-04T13:28:07.749Z"
   },
   {
    "duration": 1240,
    "start_time": "2025-06-04T13:29:52.946Z"
   },
   {
    "duration": 966,
    "start_time": "2025-06-04T13:30:26.352Z"
   },
   {
    "duration": 2538,
    "start_time": "2025-06-04T13:33:02.680Z"
   },
   {
    "duration": 2468,
    "start_time": "2025-06-04T13:33:05.220Z"
   },
   {
    "duration": 13,
    "start_time": "2025-06-04T13:33:07.690Z"
   },
   {
    "duration": 73,
    "start_time": "2025-06-04T13:33:07.705Z"
   },
   {
    "duration": 60,
    "start_time": "2025-06-04T13:33:07.780Z"
   },
   {
    "duration": 136,
    "start_time": "2025-06-04T13:33:07.842Z"
   },
   {
    "duration": 12,
    "start_time": "2025-06-04T13:33:07.981Z"
   },
   {
    "duration": 68,
    "start_time": "2025-06-04T13:33:07.996Z"
   },
   {
    "duration": 177,
    "start_time": "2025-06-04T13:33:08.065Z"
   },
   {
    "duration": 35,
    "start_time": "2025-06-04T13:33:08.244Z"
   },
   {
    "duration": 10,
    "start_time": "2025-06-04T13:33:08.281Z"
   },
   {
    "duration": 34,
    "start_time": "2025-06-04T13:33:08.292Z"
   },
   {
    "duration": 29,
    "start_time": "2025-06-04T13:33:08.328Z"
   },
   {
    "duration": 4,
    "start_time": "2025-06-04T13:33:08.359Z"
   },
   {
    "duration": 232,
    "start_time": "2025-06-04T13:33:08.365Z"
   },
   {
    "duration": 94,
    "start_time": "2025-06-04T13:33:08.599Z"
   },
   {
    "duration": 177,
    "start_time": "2025-06-04T13:33:08.695Z"
   },
   {
    "duration": 116,
    "start_time": "2025-06-04T13:33:08.873Z"
   },
   {
    "duration": 197,
    "start_time": "2025-06-04T13:33:08.990Z"
   },
   {
    "duration": 32,
    "start_time": "2025-06-04T13:33:09.189Z"
   },
   {
    "duration": 43,
    "start_time": "2025-06-04T13:33:09.223Z"
   },
   {
    "duration": 112,
    "start_time": "2025-06-04T13:33:09.268Z"
   },
   {
    "duration": 76,
    "start_time": "2025-06-04T13:33:09.382Z"
   },
   {
    "duration": 36,
    "start_time": "2025-06-04T13:33:09.460Z"
   },
   {
    "duration": 50,
    "start_time": "2025-06-04T13:33:09.497Z"
   },
   {
    "duration": 157,
    "start_time": "2025-06-04T13:33:09.549Z"
   },
   {
    "duration": 109,
    "start_time": "2025-06-04T13:33:09.707Z"
   },
   {
    "duration": 37,
    "start_time": "2025-06-04T13:33:09.819Z"
   },
   {
    "duration": 33,
    "start_time": "2025-06-04T13:33:09.858Z"
   },
   {
    "duration": 32,
    "start_time": "2025-06-04T13:33:09.894Z"
   },
   {
    "duration": 62,
    "start_time": "2025-06-04T13:33:09.930Z"
   },
   {
    "duration": 238,
    "start_time": "2025-06-04T13:33:09.994Z"
   },
   {
    "duration": 129,
    "start_time": "2025-06-04T13:33:10.234Z"
   },
   {
    "duration": 257,
    "start_time": "2025-06-04T13:33:10.364Z"
   },
   {
    "duration": 19,
    "start_time": "2025-06-04T13:33:10.623Z"
   },
   {
    "duration": 88,
    "start_time": "2025-06-04T13:33:10.645Z"
   },
   {
    "duration": 104,
    "start_time": "2025-06-04T13:33:10.735Z"
   },
   {
    "duration": 101,
    "start_time": "2025-06-04T13:33:10.842Z"
   },
   {
    "duration": 157,
    "start_time": "2025-06-04T13:33:10.945Z"
   },
   {
    "duration": 57,
    "start_time": "2025-06-04T13:33:11.104Z"
   },
   {
    "duration": 112,
    "start_time": "2025-06-04T13:33:11.164Z"
   },
   {
    "duration": 129,
    "start_time": "2025-06-04T13:33:11.277Z"
   },
   {
    "duration": 1281,
    "start_time": "2025-06-04T13:33:11.408Z"
   },
   {
    "duration": 967,
    "start_time": "2025-06-04T13:36:15.694Z"
   },
   {
    "duration": 998,
    "start_time": "2025-06-04T13:36:59.975Z"
   },
   {
    "duration": 7,
    "start_time": "2025-06-04T13:38:32.873Z"
   },
   {
    "duration": 6,
    "start_time": "2025-06-04T13:38:51.425Z"
   },
   {
    "duration": 6,
    "start_time": "2025-06-04T13:39:08.598Z"
   },
   {
    "duration": 6,
    "start_time": "2025-06-04T13:40:14.024Z"
   },
   {
    "duration": 6,
    "start_time": "2025-06-04T13:40:55.256Z"
   },
   {
    "duration": 6,
    "start_time": "2025-06-04T13:41:05.827Z"
   },
   {
    "duration": 1315,
    "start_time": "2025-06-04T13:43:32.856Z"
   },
   {
    "duration": 96,
    "start_time": "2025-06-04T13:44:00.764Z"
   },
   {
    "duration": 2994,
    "start_time": "2025-06-04T13:45:28.960Z"
   },
   {
    "duration": 2899,
    "start_time": "2025-06-04T13:45:31.958Z"
   },
   {
    "duration": 16,
    "start_time": "2025-06-04T13:45:34.859Z"
   },
   {
    "duration": 13,
    "start_time": "2025-06-04T13:45:34.877Z"
   },
   {
    "duration": 73,
    "start_time": "2025-06-04T13:45:34.893Z"
   },
   {
    "duration": 128,
    "start_time": "2025-06-04T13:45:34.969Z"
   },
   {
    "duration": 10,
    "start_time": "2025-06-04T13:45:35.099Z"
   },
   {
    "duration": 94,
    "start_time": "2025-06-04T13:45:35.111Z"
   },
   {
    "duration": 10,
    "start_time": "2025-06-04T13:45:35.207Z"
   },
   {
    "duration": 73,
    "start_time": "2025-06-04T13:45:35.218Z"
   },
   {
    "duration": 9,
    "start_time": "2025-06-04T13:45:35.294Z"
   },
   {
    "duration": 64,
    "start_time": "2025-06-04T13:45:35.304Z"
   },
   {
    "duration": 18,
    "start_time": "2025-06-04T13:45:35.371Z"
   },
   {
    "duration": 6,
    "start_time": "2025-06-04T13:45:35.394Z"
   },
   {
    "duration": 323,
    "start_time": "2025-06-04T13:45:35.402Z"
   },
   {
    "duration": 120,
    "start_time": "2025-06-04T13:45:35.727Z"
   },
   {
    "duration": 75,
    "start_time": "2025-06-04T13:45:35.849Z"
   },
   {
    "duration": 53,
    "start_time": "2025-06-04T13:45:35.928Z"
   },
   {
    "duration": 115,
    "start_time": "2025-06-04T13:45:35.983Z"
   },
   {
    "duration": 7,
    "start_time": "2025-06-04T13:45:36.100Z"
   },
   {
    "duration": 173,
    "start_time": "2025-06-04T13:45:36.108Z"
   },
   {
    "duration": 98,
    "start_time": "2025-06-04T13:45:36.282Z"
   },
   {
    "duration": 104,
    "start_time": "2025-06-04T13:45:36.383Z"
   },
   {
    "duration": 37,
    "start_time": "2025-06-04T13:45:36.489Z"
   },
   {
    "duration": 53,
    "start_time": "2025-06-04T13:45:36.539Z"
   },
   {
    "duration": 182,
    "start_time": "2025-06-04T13:45:36.594Z"
   },
   {
    "duration": 24,
    "start_time": "2025-06-04T13:45:36.779Z"
   },
   {
    "duration": 41,
    "start_time": "2025-06-04T13:45:36.805Z"
   },
   {
    "duration": 31,
    "start_time": "2025-06-04T13:45:36.850Z"
   },
   {
    "duration": 33,
    "start_time": "2025-06-04T13:45:36.883Z"
   },
   {
    "duration": 79,
    "start_time": "2025-06-04T13:45:36.918Z"
   },
   {
    "duration": 229,
    "start_time": "2025-06-04T13:45:36.999Z"
   },
   {
    "duration": 155,
    "start_time": "2025-06-04T13:45:37.239Z"
   },
   {
    "duration": 323,
    "start_time": "2025-06-04T13:45:37.396Z"
   },
   {
    "duration": 21,
    "start_time": "2025-06-04T13:45:37.722Z"
   },
   {
    "duration": 73,
    "start_time": "2025-06-04T13:45:37.748Z"
   },
   {
    "duration": 130,
    "start_time": "2025-06-04T13:45:37.823Z"
   },
   {
    "duration": 107,
    "start_time": "2025-06-04T13:45:37.956Z"
   },
   {
    "duration": 161,
    "start_time": "2025-06-04T13:45:38.066Z"
   },
   {
    "duration": 91,
    "start_time": "2025-06-04T13:45:38.228Z"
   },
   {
    "duration": 126,
    "start_time": "2025-06-04T13:45:38.323Z"
   },
   {
    "duration": 142,
    "start_time": "2025-06-04T13:45:38.453Z"
   },
   {
    "duration": 1497,
    "start_time": "2025-06-04T13:45:38.597Z"
   },
   {
    "duration": 1257,
    "start_time": "2025-06-04T13:50:14.803Z"
   },
   {
    "duration": 2806,
    "start_time": "2025-06-04T13:50:23.385Z"
   },
   {
    "duration": 2611,
    "start_time": "2025-06-04T13:50:26.193Z"
   },
   {
    "duration": 14,
    "start_time": "2025-06-04T13:50:28.805Z"
   },
   {
    "duration": 25,
    "start_time": "2025-06-04T13:50:28.821Z"
   },
   {
    "duration": 30,
    "start_time": "2025-06-04T13:50:28.852Z"
   },
   {
    "duration": 113,
    "start_time": "2025-06-04T13:50:28.884Z"
   },
   {
    "duration": 9,
    "start_time": "2025-06-04T13:50:28.999Z"
   },
   {
    "duration": 63,
    "start_time": "2025-06-04T13:50:29.010Z"
   },
   {
    "duration": 8,
    "start_time": "2025-06-04T13:50:29.075Z"
   },
   {
    "duration": 31,
    "start_time": "2025-06-04T13:50:29.086Z"
   },
   {
    "duration": 32,
    "start_time": "2025-06-04T13:50:29.119Z"
   },
   {
    "duration": 25,
    "start_time": "2025-06-04T13:50:29.153Z"
   },
   {
    "duration": 16,
    "start_time": "2025-06-04T13:50:29.180Z"
   },
   {
    "duration": 4,
    "start_time": "2025-06-04T13:50:29.197Z"
   },
   {
    "duration": 244,
    "start_time": "2025-06-04T13:50:29.203Z"
   },
   {
    "duration": 92,
    "start_time": "2025-06-04T13:50:29.453Z"
   },
   {
    "duration": 44,
    "start_time": "2025-06-04T13:50:29.554Z"
   },
   {
    "duration": 48,
    "start_time": "2025-06-04T13:50:29.599Z"
   },
   {
    "duration": 101,
    "start_time": "2025-06-04T13:50:29.649Z"
   },
   {
    "duration": 8,
    "start_time": "2025-06-04T13:50:29.752Z"
   },
   {
    "duration": 36,
    "start_time": "2025-06-04T13:50:29.761Z"
   },
   {
    "duration": 90,
    "start_time": "2025-06-04T13:50:29.798Z"
   },
   {
    "duration": 94,
    "start_time": "2025-06-04T13:50:29.890Z"
   },
   {
    "duration": 36,
    "start_time": "2025-06-04T13:50:29.986Z"
   },
   {
    "duration": 78,
    "start_time": "2025-06-04T13:50:30.024Z"
   },
   {
    "duration": 341,
    "start_time": "2025-06-04T13:50:30.104Z"
   },
   {
    "duration": 17,
    "start_time": "2025-06-04T13:50:30.447Z"
   },
   {
    "duration": 14,
    "start_time": "2025-06-04T13:50:30.468Z"
   },
   {
    "duration": 20,
    "start_time": "2025-06-04T13:50:30.484Z"
   },
   {
    "duration": 87,
    "start_time": "2025-06-04T13:50:30.506Z"
   },
   {
    "duration": 72,
    "start_time": "2025-06-04T13:50:30.595Z"
   },
   {
    "duration": 256,
    "start_time": "2025-06-04T13:50:30.669Z"
   },
   {
    "duration": 149,
    "start_time": "2025-06-04T13:50:30.928Z"
   },
   {
    "duration": 295,
    "start_time": "2025-06-04T13:50:31.078Z"
   },
   {
    "duration": 7,
    "start_time": "2025-06-04T13:50:31.375Z"
   },
   {
    "duration": 63,
    "start_time": "2025-06-04T13:50:31.384Z"
   },
   {
    "duration": 107,
    "start_time": "2025-06-04T13:50:31.449Z"
   },
   {
    "duration": 112,
    "start_time": "2025-06-04T13:50:31.558Z"
   },
   {
    "duration": 192,
    "start_time": "2025-06-04T13:50:31.672Z"
   },
   {
    "duration": 50,
    "start_time": "2025-06-04T13:50:31.866Z"
   },
   {
    "duration": 99,
    "start_time": "2025-06-04T13:50:31.938Z"
   },
   {
    "duration": 126,
    "start_time": "2025-06-04T13:50:32.045Z"
   },
   {
    "duration": 1576,
    "start_time": "2025-06-04T13:50:32.173Z"
   },
   {
    "duration": 1210,
    "start_time": "2025-06-04T13:51:55.273Z"
   },
   {
    "duration": 2719,
    "start_time": "2025-06-04T13:52:46.331Z"
   },
   {
    "duration": 2518,
    "start_time": "2025-06-04T13:52:49.052Z"
   },
   {
    "duration": 14,
    "start_time": "2025-06-04T13:52:51.572Z"
   },
   {
    "duration": 24,
    "start_time": "2025-06-04T13:52:51.588Z"
   },
   {
    "duration": 42,
    "start_time": "2025-06-04T13:52:51.615Z"
   },
   {
    "duration": 124,
    "start_time": "2025-06-04T13:52:51.659Z"
   },
   {
    "duration": 10,
    "start_time": "2025-06-04T13:52:51.785Z"
   },
   {
    "duration": 91,
    "start_time": "2025-06-04T13:52:51.797Z"
   },
   {
    "duration": 9,
    "start_time": "2025-06-04T13:52:51.890Z"
   },
   {
    "duration": 48,
    "start_time": "2025-06-04T13:52:51.902Z"
   },
   {
    "duration": 15,
    "start_time": "2025-06-04T13:52:51.954Z"
   },
   {
    "duration": 47,
    "start_time": "2025-06-04T13:52:51.972Z"
   },
   {
    "duration": 23,
    "start_time": "2025-06-04T13:52:52.021Z"
   },
   {
    "duration": 4,
    "start_time": "2025-06-04T13:52:52.055Z"
   },
   {
    "duration": 236,
    "start_time": "2025-06-04T13:52:52.061Z"
   },
   {
    "duration": 109,
    "start_time": "2025-06-04T13:52:52.298Z"
   },
   {
    "duration": 65,
    "start_time": "2025-06-04T13:52:52.409Z"
   },
   {
    "duration": 33,
    "start_time": "2025-06-04T13:52:52.476Z"
   },
   {
    "duration": 109,
    "start_time": "2025-06-04T13:52:52.512Z"
   },
   {
    "duration": 25,
    "start_time": "2025-06-04T13:52:52.623Z"
   },
   {
    "duration": 26,
    "start_time": "2025-06-04T13:52:52.654Z"
   },
   {
    "duration": 149,
    "start_time": "2025-06-04T13:52:52.682Z"
   },
   {
    "duration": 85,
    "start_time": "2025-06-04T13:52:52.833Z"
   },
   {
    "duration": 55,
    "start_time": "2025-06-04T13:52:52.919Z"
   },
   {
    "duration": 38,
    "start_time": "2025-06-04T13:52:52.976Z"
   },
   {
    "duration": 177,
    "start_time": "2025-06-04T13:52:53.016Z"
   },
   {
    "duration": 14,
    "start_time": "2025-06-04T13:52:53.194Z"
   },
   {
    "duration": 40,
    "start_time": "2025-06-04T13:52:53.210Z"
   },
   {
    "duration": 22,
    "start_time": "2025-06-04T13:52:53.256Z"
   },
   {
    "duration": 32,
    "start_time": "2025-06-04T13:52:53.280Z"
   },
   {
    "duration": 55,
    "start_time": "2025-06-04T13:52:53.315Z"
   },
   {
    "duration": 228,
    "start_time": "2025-06-04T13:52:53.372Z"
   },
   {
    "duration": 154,
    "start_time": "2025-06-04T13:52:53.602Z"
   },
   {
    "duration": 307,
    "start_time": "2025-06-04T13:52:53.758Z"
   },
   {
    "duration": 5,
    "start_time": "2025-06-04T13:52:54.067Z"
   },
   {
    "duration": 40,
    "start_time": "2025-06-04T13:52:54.073Z"
   },
   {
    "duration": 241,
    "start_time": "2025-06-04T13:52:54.115Z"
   },
   {
    "duration": 113,
    "start_time": "2025-06-04T13:52:54.358Z"
   },
   {
    "duration": 189,
    "start_time": "2025-06-04T13:52:54.474Z"
   },
   {
    "duration": 93,
    "start_time": "2025-06-04T13:52:54.665Z"
   },
   {
    "duration": 128,
    "start_time": "2025-06-04T13:52:54.767Z"
   },
   {
    "duration": 159,
    "start_time": "2025-06-04T13:52:54.897Z"
   },
   {
    "duration": 1548,
    "start_time": "2025-06-04T13:52:55.059Z"
   },
   {
    "duration": 3021,
    "start_time": "2025-06-04T13:53:33.756Z"
   },
   {
    "duration": 2656,
    "start_time": "2025-06-04T13:53:36.780Z"
   },
   {
    "duration": 22,
    "start_time": "2025-06-04T13:53:39.441Z"
   },
   {
    "duration": 15,
    "start_time": "2025-06-04T13:53:39.465Z"
   },
   {
    "duration": 28,
    "start_time": "2025-06-04T13:53:39.483Z"
   },
   {
    "duration": 175,
    "start_time": "2025-06-04T13:53:39.513Z"
   },
   {
    "duration": 11,
    "start_time": "2025-06-04T13:53:39.690Z"
   },
   {
    "duration": 96,
    "start_time": "2025-06-04T13:53:39.703Z"
   },
   {
    "duration": 9,
    "start_time": "2025-06-04T13:53:39.801Z"
   },
   {
    "duration": 49,
    "start_time": "2025-06-04T13:53:39.813Z"
   },
   {
    "duration": 20,
    "start_time": "2025-06-04T13:53:39.864Z"
   },
   {
    "duration": 56,
    "start_time": "2025-06-04T13:53:39.886Z"
   },
   {
    "duration": 19,
    "start_time": "2025-06-04T13:53:39.946Z"
   },
   {
    "duration": 15,
    "start_time": "2025-06-04T13:53:39.969Z"
   },
   {
    "duration": 220,
    "start_time": "2025-06-04T13:53:39.986Z"
   },
   {
    "duration": 104,
    "start_time": "2025-06-04T13:53:40.209Z"
   },
   {
    "duration": 66,
    "start_time": "2025-06-04T13:53:40.315Z"
   },
   {
    "duration": 33,
    "start_time": "2025-06-04T13:53:40.382Z"
   },
   {
    "duration": 123,
    "start_time": "2025-06-04T13:53:40.417Z"
   },
   {
    "duration": 15,
    "start_time": "2025-06-04T13:53:40.545Z"
   },
   {
    "duration": 13,
    "start_time": "2025-06-04T13:53:40.562Z"
   },
   {
    "duration": 126,
    "start_time": "2025-06-04T13:53:40.578Z"
   },
   {
    "duration": 111,
    "start_time": "2025-06-04T13:53:40.706Z"
   },
   {
    "duration": 53,
    "start_time": "2025-06-04T13:53:40.819Z"
   },
   {
    "duration": 41,
    "start_time": "2025-06-04T13:53:40.874Z"
   },
   {
    "duration": 172,
    "start_time": "2025-06-04T13:53:40.917Z"
   },
   {
    "duration": 22,
    "start_time": "2025-06-04T13:53:41.092Z"
   },
   {
    "duration": 48,
    "start_time": "2025-06-04T13:53:41.116Z"
   },
   {
    "duration": 54,
    "start_time": "2025-06-04T13:53:41.167Z"
   },
   {
    "duration": 61,
    "start_time": "2025-06-04T13:53:41.223Z"
   },
   {
    "duration": 76,
    "start_time": "2025-06-04T13:53:41.287Z"
   },
   {
    "duration": 277,
    "start_time": "2025-06-04T13:53:41.365Z"
   },
   {
    "duration": 141,
    "start_time": "2025-06-04T13:53:41.645Z"
   },
   {
    "duration": 305,
    "start_time": "2025-06-04T13:53:41.788Z"
   },
   {
    "duration": 8,
    "start_time": "2025-06-04T13:53:42.095Z"
   },
   {
    "duration": 65,
    "start_time": "2025-06-04T13:53:42.106Z"
   },
   {
    "duration": 137,
    "start_time": "2025-06-04T13:53:42.174Z"
   },
   {
    "duration": 107,
    "start_time": "2025-06-04T13:53:42.313Z"
   },
   {
    "duration": 153,
    "start_time": "2025-06-04T13:53:42.446Z"
   },
   {
    "duration": 77,
    "start_time": "2025-06-04T13:53:42.601Z"
   },
   {
    "duration": 156,
    "start_time": "2025-06-04T13:53:42.685Z"
   },
   {
    "duration": 129,
    "start_time": "2025-06-04T13:53:42.850Z"
   },
   {
    "duration": 1684,
    "start_time": "2025-06-04T13:53:42.981Z"
   },
   {
    "duration": 2819,
    "start_time": "2025-06-04T13:55:20.860Z"
   },
   {
    "duration": 2825,
    "start_time": "2025-06-04T13:55:23.682Z"
   },
   {
    "duration": 12,
    "start_time": "2025-06-04T13:55:26.509Z"
   },
   {
    "duration": 29,
    "start_time": "2025-06-04T13:55:26.523Z"
   },
   {
    "duration": 56,
    "start_time": "2025-06-04T13:55:26.555Z"
   },
   {
    "duration": 133,
    "start_time": "2025-06-04T13:55:26.613Z"
   },
   {
    "duration": 16,
    "start_time": "2025-06-04T13:55:26.748Z"
   },
   {
    "duration": 81,
    "start_time": "2025-06-04T13:55:26.766Z"
   },
   {
    "duration": 10,
    "start_time": "2025-06-04T13:55:26.852Z"
   },
   {
    "duration": 23,
    "start_time": "2025-06-04T13:55:26.864Z"
   },
   {
    "duration": 10,
    "start_time": "2025-06-04T13:55:26.889Z"
   },
   {
    "duration": 66,
    "start_time": "2025-06-04T13:55:26.901Z"
   },
   {
    "duration": 21,
    "start_time": "2025-06-04T13:55:26.969Z"
   },
   {
    "duration": 4,
    "start_time": "2025-06-04T13:55:26.993Z"
   },
   {
    "duration": 279,
    "start_time": "2025-06-04T13:55:26.999Z"
   },
   {
    "duration": 106,
    "start_time": "2025-06-04T13:55:27.280Z"
   },
   {
    "duration": 58,
    "start_time": "2025-06-04T13:55:27.387Z"
   },
   {
    "duration": 39,
    "start_time": "2025-06-04T13:55:27.447Z"
   },
   {
    "duration": 117,
    "start_time": "2025-06-04T13:55:27.487Z"
   },
   {
    "duration": 8,
    "start_time": "2025-06-04T13:55:27.606Z"
   },
   {
    "duration": 36,
    "start_time": "2025-06-04T13:55:27.616Z"
   },
   {
    "duration": 91,
    "start_time": "2025-06-04T13:55:27.656Z"
   },
   {
    "duration": 142,
    "start_time": "2025-06-04T13:55:27.752Z"
   },
   {
    "duration": 67,
    "start_time": "2025-06-04T13:55:27.896Z"
   },
   {
    "duration": 80,
    "start_time": "2025-06-04T13:55:27.965Z"
   },
   {
    "duration": 174,
    "start_time": "2025-06-04T13:55:28.047Z"
   },
   {
    "duration": 30,
    "start_time": "2025-06-04T13:55:28.223Z"
   },
   {
    "duration": 76,
    "start_time": "2025-06-04T13:55:28.260Z"
   },
   {
    "duration": 28,
    "start_time": "2025-06-04T13:55:28.348Z"
   },
   {
    "duration": 23,
    "start_time": "2025-06-04T13:55:28.378Z"
   },
   {
    "duration": 70,
    "start_time": "2025-06-04T13:55:28.404Z"
   },
   {
    "duration": 234,
    "start_time": "2025-06-04T13:55:28.476Z"
   },
   {
    "duration": 157,
    "start_time": "2025-06-04T13:55:28.711Z"
   },
   {
    "duration": 300,
    "start_time": "2025-06-04T13:55:28.873Z"
   },
   {
    "duration": 8,
    "start_time": "2025-06-04T13:55:29.175Z"
   },
   {
    "duration": 64,
    "start_time": "2025-06-04T13:55:29.184Z"
   },
   {
    "duration": 124,
    "start_time": "2025-06-04T13:55:29.251Z"
   },
   {
    "duration": 124,
    "start_time": "2025-06-04T13:55:29.377Z"
   },
   {
    "duration": 178,
    "start_time": "2025-06-04T13:55:29.502Z"
   },
   {
    "duration": 76,
    "start_time": "2025-06-04T13:55:29.682Z"
   },
   {
    "duration": 143,
    "start_time": "2025-06-04T13:55:29.765Z"
   },
   {
    "duration": 145,
    "start_time": "2025-06-04T13:55:29.909Z"
   },
   {
    "duration": 1705,
    "start_time": "2025-06-04T13:55:30.056Z"
   },
   {
    "duration": 2638,
    "start_time": "2025-06-04T13:57:49.848Z"
   },
   {
    "duration": 2584,
    "start_time": "2025-06-04T13:57:52.490Z"
   },
   {
    "duration": 15,
    "start_time": "2025-06-04T13:57:55.077Z"
   },
   {
    "duration": 40,
    "start_time": "2025-06-04T13:57:55.094Z"
   },
   {
    "duration": 46,
    "start_time": "2025-06-04T13:57:55.137Z"
   },
   {
    "duration": 163,
    "start_time": "2025-06-04T13:57:55.185Z"
   },
   {
    "duration": 14,
    "start_time": "2025-06-04T13:57:55.351Z"
   },
   {
    "duration": 66,
    "start_time": "2025-06-04T13:57:55.367Z"
   },
   {
    "duration": 13,
    "start_time": "2025-06-04T13:57:55.438Z"
   },
   {
    "duration": 43,
    "start_time": "2025-06-04T13:57:55.454Z"
   },
   {
    "duration": 10,
    "start_time": "2025-06-04T13:57:55.498Z"
   },
   {
    "duration": 27,
    "start_time": "2025-06-04T13:57:55.538Z"
   },
   {
    "duration": 18,
    "start_time": "2025-06-04T13:57:55.568Z"
   },
   {
    "duration": 26,
    "start_time": "2025-06-04T13:57:55.590Z"
   },
   {
    "duration": 307,
    "start_time": "2025-06-04T13:57:55.620Z"
   },
   {
    "duration": 88,
    "start_time": "2025-06-04T13:57:55.937Z"
   },
   {
    "duration": 56,
    "start_time": "2025-06-04T13:57:56.027Z"
   },
   {
    "duration": 32,
    "start_time": "2025-06-04T13:57:56.085Z"
   },
   {
    "duration": 80,
    "start_time": "2025-06-04T13:57:56.138Z"
   },
   {
    "duration": 95,
    "start_time": "2025-06-04T13:57:56.221Z"
   },
   {
    "duration": 33,
    "start_time": "2025-06-04T13:57:56.318Z"
   },
   {
    "duration": 149,
    "start_time": "2025-06-04T13:57:56.353Z"
   },
   {
    "duration": 104,
    "start_time": "2025-06-04T13:57:56.504Z"
   },
   {
    "duration": 74,
    "start_time": "2025-06-04T13:57:56.611Z"
   },
   {
    "duration": 119,
    "start_time": "2025-06-04T13:57:56.686Z"
   },
   {
    "duration": 138,
    "start_time": "2025-06-04T13:57:56.806Z"
   },
   {
    "duration": 14,
    "start_time": "2025-06-04T13:57:56.947Z"
   },
   {
    "duration": 39,
    "start_time": "2025-06-04T13:57:56.964Z"
   },
   {
    "duration": 48,
    "start_time": "2025-06-04T13:57:57.005Z"
   },
   {
    "duration": 59,
    "start_time": "2025-06-04T13:57:57.056Z"
   },
   {
    "duration": 67,
    "start_time": "2025-06-04T13:57:57.117Z"
   },
   {
    "duration": 223,
    "start_time": "2025-06-04T13:57:57.186Z"
   },
   {
    "duration": 133,
    "start_time": "2025-06-04T13:57:57.411Z"
   },
   {
    "duration": 363,
    "start_time": "2025-06-04T13:57:57.546Z"
   },
   {
    "duration": 9,
    "start_time": "2025-06-04T13:57:57.911Z"
   },
   {
    "duration": 66,
    "start_time": "2025-06-04T13:57:57.939Z"
   },
   {
    "duration": 114,
    "start_time": "2025-06-04T13:57:58.006Z"
   },
   {
    "duration": 89,
    "start_time": "2025-06-04T13:57:58.121Z"
   },
   {
    "duration": 252,
    "start_time": "2025-06-04T13:57:58.212Z"
   },
   {
    "duration": 53,
    "start_time": "2025-06-04T13:57:58.466Z"
   },
   {
    "duration": 117,
    "start_time": "2025-06-04T13:57:58.537Z"
   },
   {
    "duration": 135,
    "start_time": "2025-06-04T13:57:58.656Z"
   },
   {
    "duration": 1690,
    "start_time": "2025-06-04T13:57:58.793Z"
   },
   {
    "duration": 1444,
    "start_time": "2025-06-04T14:00:33.447Z"
   },
   {
    "duration": 2729,
    "start_time": "2025-06-04T14:00:38.677Z"
   },
   {
    "duration": 2655,
    "start_time": "2025-06-04T14:00:41.410Z"
   },
   {
    "duration": 15,
    "start_time": "2025-06-04T14:00:44.067Z"
   },
   {
    "duration": 16,
    "start_time": "2025-06-04T14:00:44.084Z"
   },
   {
    "duration": 60,
    "start_time": "2025-06-04T14:00:44.103Z"
   },
   {
    "duration": 262,
    "start_time": "2025-06-04T14:00:44.166Z"
   },
   {
    "duration": 22,
    "start_time": "2025-06-04T14:00:44.430Z"
   },
   {
    "duration": 47,
    "start_time": "2025-06-04T14:00:44.454Z"
   },
   {
    "duration": 9,
    "start_time": "2025-06-04T14:00:44.503Z"
   },
   {
    "duration": 53,
    "start_time": "2025-06-04T14:00:44.516Z"
   },
   {
    "duration": 10,
    "start_time": "2025-06-04T14:00:44.571Z"
   },
   {
    "duration": 26,
    "start_time": "2025-06-04T14:00:44.585Z"
   },
   {
    "duration": 43,
    "start_time": "2025-06-04T14:00:44.614Z"
   },
   {
    "duration": 6,
    "start_time": "2025-06-04T14:00:44.661Z"
   },
   {
    "duration": 372,
    "start_time": "2025-06-04T14:00:44.669Z"
   },
   {
    "duration": 105,
    "start_time": "2025-06-04T14:00:45.044Z"
   },
   {
    "duration": 124,
    "start_time": "2025-06-04T14:00:45.153Z"
   },
   {
    "duration": 35,
    "start_time": "2025-06-04T14:00:45.279Z"
   },
   {
    "duration": 164,
    "start_time": "2025-06-04T14:00:45.316Z"
   },
   {
    "duration": 10,
    "start_time": "2025-06-04T14:00:45.482Z"
   },
   {
    "duration": 52,
    "start_time": "2025-06-04T14:00:45.495Z"
   },
   {
    "duration": 109,
    "start_time": "2025-06-04T14:00:45.553Z"
   },
   {
    "duration": 164,
    "start_time": "2025-06-04T14:00:45.665Z"
   },
   {
    "duration": 60,
    "start_time": "2025-06-04T14:00:45.838Z"
   },
   {
    "duration": 67,
    "start_time": "2025-06-04T14:00:45.900Z"
   },
   {
    "duration": 160,
    "start_time": "2025-06-04T14:00:45.970Z"
   },
   {
    "duration": 22,
    "start_time": "2025-06-04T14:00:46.133Z"
   },
   {
    "duration": 187,
    "start_time": "2025-06-04T14:00:46.160Z"
   },
   {
    "duration": 27,
    "start_time": "2025-06-04T14:00:46.349Z"
   },
   {
    "duration": 23,
    "start_time": "2025-06-04T14:00:46.378Z"
   },
   {
    "duration": 75,
    "start_time": "2025-06-04T14:00:46.404Z"
   },
   {
    "duration": 232,
    "start_time": "2025-06-04T14:00:46.481Z"
   },
   {
    "duration": 156,
    "start_time": "2025-06-04T14:00:46.715Z"
   },
   {
    "duration": 322,
    "start_time": "2025-06-04T14:00:46.873Z"
   },
   {
    "duration": 7,
    "start_time": "2025-06-04T14:00:47.196Z"
   },
   {
    "duration": 71,
    "start_time": "2025-06-04T14:00:47.205Z"
   },
   {
    "duration": 127,
    "start_time": "2025-06-04T14:00:47.277Z"
   },
   {
    "duration": 104,
    "start_time": "2025-06-04T14:00:47.405Z"
   },
   {
    "duration": 192,
    "start_time": "2025-06-04T14:00:47.511Z"
   },
   {
    "duration": 72,
    "start_time": "2025-06-04T14:00:47.705Z"
   },
   {
    "duration": 145,
    "start_time": "2025-06-04T14:00:47.778Z"
   },
   {
    "duration": 144,
    "start_time": "2025-06-04T14:00:47.925Z"
   },
   {
    "duration": 1833,
    "start_time": "2025-06-04T14:00:48.071Z"
   },
   {
    "duration": 3319,
    "start_time": "2025-06-04T14:30:52.646Z"
   },
   {
    "duration": 2734,
    "start_time": "2025-06-04T14:30:55.968Z"
   },
   {
    "duration": 14,
    "start_time": "2025-06-04T14:30:58.705Z"
   },
   {
    "duration": 34,
    "start_time": "2025-06-04T14:30:58.721Z"
   },
   {
    "duration": 27,
    "start_time": "2025-06-04T14:30:58.758Z"
   },
   {
    "duration": 206,
    "start_time": "2025-06-04T14:30:58.786Z"
   },
   {
    "duration": 12,
    "start_time": "2025-06-04T14:30:58.994Z"
   },
   {
    "duration": 73,
    "start_time": "2025-06-04T14:30:59.008Z"
   },
   {
    "duration": 9,
    "start_time": "2025-06-04T14:30:59.083Z"
   },
   {
    "duration": 27,
    "start_time": "2025-06-04T14:30:59.096Z"
   },
   {
    "duration": 22,
    "start_time": "2025-06-04T14:30:59.147Z"
   },
   {
    "duration": 43,
    "start_time": "2025-06-04T14:30:59.172Z"
   },
   {
    "duration": 18,
    "start_time": "2025-06-04T14:30:59.217Z"
   },
   {
    "duration": 8,
    "start_time": "2025-06-04T14:30:59.239Z"
   },
   {
    "duration": 264,
    "start_time": "2025-06-04T14:30:59.248Z"
   },
   {
    "duration": 111,
    "start_time": "2025-06-04T14:30:59.514Z"
   },
   {
    "duration": 72,
    "start_time": "2025-06-04T14:30:59.626Z"
   },
   {
    "duration": 32,
    "start_time": "2025-06-04T14:30:59.699Z"
   },
   {
    "duration": 126,
    "start_time": "2025-06-04T14:30:59.740Z"
   },
   {
    "duration": 7,
    "start_time": "2025-06-04T14:30:59.872Z"
   },
   {
    "duration": 14,
    "start_time": "2025-06-04T14:30:59.881Z"
   },
   {
    "duration": 95,
    "start_time": "2025-06-04T14:30:59.897Z"
   },
   {
    "duration": 103,
    "start_time": "2025-06-04T14:30:59.994Z"
   },
   {
    "duration": 68,
    "start_time": "2025-06-04T14:31:00.098Z"
   },
   {
    "duration": 59,
    "start_time": "2025-06-04T14:31:00.169Z"
   },
   {
    "duration": 178,
    "start_time": "2025-06-04T14:31:00.230Z"
   },
   {
    "duration": 12,
    "start_time": "2025-06-04T14:31:00.410Z"
   },
   {
    "duration": 109,
    "start_time": "2025-06-04T14:31:00.424Z"
   },
   {
    "duration": 41,
    "start_time": "2025-06-04T14:31:00.535Z"
   },
   {
    "duration": 35,
    "start_time": "2025-06-04T14:31:00.578Z"
   },
   {
    "duration": 103,
    "start_time": "2025-06-04T14:31:00.615Z"
   },
   {
    "duration": 240,
    "start_time": "2025-06-04T14:31:00.720Z"
   },
   {
    "duration": 134,
    "start_time": "2025-06-04T14:31:00.965Z"
   },
   {
    "duration": 298,
    "start_time": "2025-06-04T14:31:01.101Z"
   },
   {
    "duration": 5,
    "start_time": "2025-06-04T14:31:01.401Z"
   },
   {
    "duration": 70,
    "start_time": "2025-06-04T14:31:01.408Z"
   },
   {
    "duration": 125,
    "start_time": "2025-06-04T14:31:01.479Z"
   },
   {
    "duration": 117,
    "start_time": "2025-06-04T14:31:01.605Z"
   },
   {
    "duration": 195,
    "start_time": "2025-06-04T14:31:01.724Z"
   },
   {
    "duration": 72,
    "start_time": "2025-06-04T14:31:01.921Z"
   },
   {
    "duration": 117,
    "start_time": "2025-06-04T14:31:01.997Z"
   },
   {
    "duration": 148,
    "start_time": "2025-06-04T14:31:02.115Z"
   },
   {
    "duration": 1815,
    "start_time": "2025-06-04T14:31:02.267Z"
   },
   {
    "duration": 5,
    "start_time": "2025-06-04T14:38:26.977Z"
   },
   {
    "duration": 2662,
    "start_time": "2025-06-04T14:49:46.793Z"
   },
   {
    "duration": 2571,
    "start_time": "2025-06-04T14:49:49.459Z"
   },
   {
    "duration": 15,
    "start_time": "2025-06-04T14:49:52.032Z"
   },
   {
    "duration": 27,
    "start_time": "2025-06-04T14:49:52.048Z"
   },
   {
    "duration": 45,
    "start_time": "2025-06-04T14:49:52.077Z"
   },
   {
    "duration": 126,
    "start_time": "2025-06-04T14:49:52.124Z"
   },
   {
    "duration": 10,
    "start_time": "2025-06-04T14:49:52.251Z"
   },
   {
    "duration": 62,
    "start_time": "2025-06-04T14:49:52.263Z"
   },
   {
    "duration": 9,
    "start_time": "2025-06-04T14:49:52.327Z"
   },
   {
    "duration": 43,
    "start_time": "2025-06-04T14:49:52.338Z"
   },
   {
    "duration": 21,
    "start_time": "2025-06-04T14:49:52.383Z"
   },
   {
    "duration": 47,
    "start_time": "2025-06-04T14:49:52.406Z"
   },
   {
    "duration": 216,
    "start_time": "2025-06-04T14:49:52.455Z"
   },
   {
    "duration": 11,
    "start_time": "2025-06-04T14:49:52.674Z"
   },
   {
    "duration": 223,
    "start_time": "2025-06-04T14:49:52.687Z"
   },
   {
    "duration": 92,
    "start_time": "2025-06-04T14:49:52.912Z"
   },
   {
    "duration": 52,
    "start_time": "2025-06-04T14:49:53.005Z"
   },
   {
    "duration": 32,
    "start_time": "2025-06-04T14:49:53.059Z"
   },
   {
    "duration": 102,
    "start_time": "2025-06-04T14:49:53.093Z"
   },
   {
    "duration": 8,
    "start_time": "2025-06-04T14:49:53.197Z"
   },
   {
    "duration": 38,
    "start_time": "2025-06-04T14:49:53.207Z"
   },
   {
    "duration": 93,
    "start_time": "2025-06-04T14:49:53.248Z"
   },
   {
    "duration": 94,
    "start_time": "2025-06-04T14:49:53.345Z"
   },
   {
    "duration": 56,
    "start_time": "2025-06-04T14:49:53.442Z"
   },
   {
    "duration": 55,
    "start_time": "2025-06-04T14:49:53.500Z"
   },
   {
    "duration": 184,
    "start_time": "2025-06-04T14:49:53.557Z"
   },
   {
    "duration": 13,
    "start_time": "2025-06-04T14:49:53.742Z"
   },
   {
    "duration": 19,
    "start_time": "2025-06-04T14:49:53.757Z"
   },
   {
    "duration": 44,
    "start_time": "2025-06-04T14:49:53.778Z"
   },
   {
    "duration": 23,
    "start_time": "2025-06-04T14:49:53.824Z"
   },
   {
    "duration": 125,
    "start_time": "2025-06-04T14:49:53.849Z"
   },
   {
    "duration": 233,
    "start_time": "2025-06-04T14:49:53.976Z"
   },
   {
    "duration": 144,
    "start_time": "2025-06-04T14:49:54.211Z"
   },
   {
    "duration": 286,
    "start_time": "2025-06-04T14:49:54.357Z"
   },
   {
    "duration": 7,
    "start_time": "2025-06-04T14:49:54.645Z"
   },
   {
    "duration": 56,
    "start_time": "2025-06-04T14:49:54.654Z"
   },
   {
    "duration": 136,
    "start_time": "2025-06-04T14:49:54.712Z"
   },
   {
    "duration": 97,
    "start_time": "2025-06-04T14:49:54.850Z"
   },
   {
    "duration": 148,
    "start_time": "2025-06-04T14:49:54.949Z"
   },
   {
    "duration": 75,
    "start_time": "2025-06-04T14:49:55.099Z"
   },
   {
    "duration": 109,
    "start_time": "2025-06-04T14:49:55.178Z"
   },
   {
    "duration": 133,
    "start_time": "2025-06-04T14:49:55.289Z"
   },
   {
    "duration": 1667,
    "start_time": "2025-06-04T14:49:55.424Z"
   },
   {
    "duration": 49,
    "start_time": "2025-06-05T04:09:28.074Z"
   },
   {
    "duration": 3303,
    "start_time": "2025-06-05T04:09:35.569Z"
   },
   {
    "duration": 2520,
    "start_time": "2025-06-05T04:09:38.874Z"
   },
   {
    "duration": 11,
    "start_time": "2025-06-05T04:09:41.397Z"
   },
   {
    "duration": 18,
    "start_time": "2025-06-05T04:09:41.410Z"
   },
   {
    "duration": 30,
    "start_time": "2025-06-05T04:09:41.429Z"
   },
   {
    "duration": 116,
    "start_time": "2025-06-05T04:09:41.460Z"
   },
   {
    "duration": 11,
    "start_time": "2025-06-05T04:09:41.578Z"
   },
   {
    "duration": 43,
    "start_time": "2025-06-05T04:09:41.591Z"
   },
   {
    "duration": 142,
    "start_time": "2025-06-05T04:09:41.635Z"
   },
   {
    "duration": 81,
    "start_time": "2025-06-05T04:09:41.779Z"
   },
   {
    "duration": 8,
    "start_time": "2025-06-05T04:09:41.862Z"
   },
   {
    "duration": 26,
    "start_time": "2025-06-05T04:09:41.871Z"
   },
   {
    "duration": 14,
    "start_time": "2025-06-05T04:09:41.899Z"
   },
   {
    "duration": 3,
    "start_time": "2025-06-05T04:09:41.915Z"
   },
   {
    "duration": 229,
    "start_time": "2025-06-05T04:09:41.920Z"
   },
   {
    "duration": 85,
    "start_time": "2025-06-05T04:09:42.151Z"
   },
   {
    "duration": 54,
    "start_time": "2025-06-05T04:09:42.237Z"
   },
   {
    "duration": 29,
    "start_time": "2025-06-05T04:09:42.293Z"
   },
   {
    "duration": 94,
    "start_time": "2025-06-05T04:09:42.323Z"
   },
   {
    "duration": 7,
    "start_time": "2025-06-05T04:09:42.418Z"
   },
   {
    "duration": 8,
    "start_time": "2025-06-05T04:09:42.426Z"
   },
   {
    "duration": 93,
    "start_time": "2025-06-05T04:09:42.435Z"
   },
   {
    "duration": 95,
    "start_time": "2025-06-05T04:09:42.529Z"
   },
   {
    "duration": 38,
    "start_time": "2025-06-05T04:09:42.625Z"
   },
   {
    "duration": 40,
    "start_time": "2025-06-05T04:09:42.664Z"
   },
   {
    "duration": 134,
    "start_time": "2025-06-05T04:09:42.705Z"
   },
   {
    "duration": 22,
    "start_time": "2025-06-05T04:09:42.841Z"
   },
   {
    "duration": 72,
    "start_time": "2025-06-05T04:09:42.866Z"
   },
   {
    "duration": 20,
    "start_time": "2025-06-05T04:09:42.939Z"
   },
   {
    "duration": 21,
    "start_time": "2025-06-05T04:09:42.960Z"
   },
   {
    "duration": 132,
    "start_time": "2025-06-05T04:09:42.982Z"
   },
   {
    "duration": 185,
    "start_time": "2025-06-05T04:09:43.116Z"
   },
   {
    "duration": 117,
    "start_time": "2025-06-05T04:09:43.302Z"
   },
   {
    "duration": 241,
    "start_time": "2025-06-05T04:09:43.421Z"
   },
   {
    "duration": 5,
    "start_time": "2025-06-05T04:09:43.663Z"
   },
   {
    "duration": 205,
    "start_time": "2025-06-05T04:09:43.670Z"
   },
   {
    "duration": 90,
    "start_time": "2025-06-05T04:09:43.877Z"
   },
   {
    "duration": 91,
    "start_time": "2025-06-05T04:09:43.968Z"
   },
   {
    "duration": 135,
    "start_time": "2025-06-05T04:09:44.060Z"
   },
   {
    "duration": 42,
    "start_time": "2025-06-05T04:09:44.196Z"
   },
   {
    "duration": 2339,
    "start_time": "2025-06-05T04:10:32.796Z"
   },
   {
    "duration": 2422,
    "start_time": "2025-06-05T04:10:35.137Z"
   },
   {
    "duration": 11,
    "start_time": "2025-06-05T04:10:37.561Z"
   },
   {
    "duration": 18,
    "start_time": "2025-06-05T04:10:37.574Z"
   },
   {
    "duration": 24,
    "start_time": "2025-06-05T04:10:37.594Z"
   },
   {
    "duration": 318,
    "start_time": "2025-06-05T04:10:37.619Z"
   },
   {
    "duration": 9,
    "start_time": "2025-06-05T04:10:37.938Z"
   },
   {
    "duration": 40,
    "start_time": "2025-06-05T04:10:37.948Z"
   },
   {
    "duration": 8,
    "start_time": "2025-06-05T04:10:37.989Z"
   },
   {
    "duration": 18,
    "start_time": "2025-06-05T04:10:37.999Z"
   },
   {
    "duration": 12,
    "start_time": "2025-06-05T04:10:38.019Z"
   },
   {
    "duration": 24,
    "start_time": "2025-06-05T04:10:38.058Z"
   },
   {
    "duration": 14,
    "start_time": "2025-06-05T04:10:38.084Z"
   },
   {
    "duration": 4,
    "start_time": "2025-06-05T04:10:38.101Z"
   },
   {
    "duration": 217,
    "start_time": "2025-06-05T04:10:38.106Z"
   },
   {
    "duration": 85,
    "start_time": "2025-06-05T04:10:38.325Z"
   },
   {
    "duration": 53,
    "start_time": "2025-06-05T04:10:38.412Z"
   },
   {
    "duration": 27,
    "start_time": "2025-06-05T04:10:38.467Z"
   },
   {
    "duration": 87,
    "start_time": "2025-06-05T04:10:38.496Z"
   },
   {
    "duration": 7,
    "start_time": "2025-06-05T04:10:38.585Z"
   },
   {
    "duration": 8,
    "start_time": "2025-06-05T04:10:38.593Z"
   },
   {
    "duration": 97,
    "start_time": "2025-06-05T04:10:38.602Z"
   },
   {
    "duration": 85,
    "start_time": "2025-06-05T04:10:38.700Z"
   },
   {
    "duration": 34,
    "start_time": "2025-06-05T04:10:38.786Z"
   },
   {
    "duration": 48,
    "start_time": "2025-06-05T04:10:38.822Z"
   },
   {
    "duration": 194,
    "start_time": "2025-06-05T04:10:38.872Z"
   },
   {
    "duration": 10,
    "start_time": "2025-06-05T04:10:39.068Z"
   },
   {
    "duration": 11,
    "start_time": "2025-06-05T04:10:39.080Z"
   },
   {
    "duration": 19,
    "start_time": "2025-06-05T04:10:39.092Z"
   },
   {
    "duration": 49,
    "start_time": "2025-06-05T04:10:39.112Z"
   },
   {
    "duration": 104,
    "start_time": "2025-06-05T04:10:39.162Z"
   },
   {
    "duration": 188,
    "start_time": "2025-06-05T04:10:39.267Z"
   },
   {
    "duration": 118,
    "start_time": "2025-06-05T04:10:39.457Z"
   },
   {
    "duration": 240,
    "start_time": "2025-06-05T04:10:39.577Z"
   },
   {
    "duration": 6,
    "start_time": "2025-06-05T04:10:39.818Z"
   },
   {
    "duration": 51,
    "start_time": "2025-06-05T04:10:39.825Z"
   },
   {
    "duration": 94,
    "start_time": "2025-06-05T04:10:39.878Z"
   },
   {
    "duration": 87,
    "start_time": "2025-06-05T04:10:39.974Z"
   },
   {
    "duration": 136,
    "start_time": "2025-06-05T04:10:40.063Z"
   },
   {
    "duration": 60,
    "start_time": "2025-06-05T04:10:40.200Z"
   },
   {
    "duration": 82,
    "start_time": "2025-06-05T04:10:40.263Z"
   },
   {
    "duration": 124,
    "start_time": "2025-06-05T04:10:40.347Z"
   },
   {
    "duration": 1502,
    "start_time": "2025-06-05T04:10:40.472Z"
   },
   {
    "duration": 2384,
    "start_time": "2025-06-05T04:11:31.099Z"
   },
   {
    "duration": 2181,
    "start_time": "2025-06-05T04:11:33.486Z"
   },
   {
    "duration": 11,
    "start_time": "2025-06-05T04:11:35.669Z"
   },
   {
    "duration": 134,
    "start_time": "2025-06-05T04:11:35.682Z"
   },
   {
    "duration": 65,
    "start_time": "2025-06-05T04:11:35.818Z"
   },
   {
    "duration": 110,
    "start_time": "2025-06-05T04:11:35.884Z"
   },
   {
    "duration": 8,
    "start_time": "2025-06-05T04:11:35.996Z"
   },
   {
    "duration": 46,
    "start_time": "2025-06-05T04:11:36.006Z"
   },
   {
    "duration": 7,
    "start_time": "2025-06-05T04:11:36.054Z"
   },
   {
    "duration": 28,
    "start_time": "2025-06-05T04:11:36.062Z"
   },
   {
    "duration": 26,
    "start_time": "2025-06-05T04:11:36.092Z"
   },
   {
    "duration": 50,
    "start_time": "2025-06-05T04:11:36.120Z"
   },
   {
    "duration": 21,
    "start_time": "2025-06-05T04:11:36.172Z"
   },
   {
    "duration": 4,
    "start_time": "2025-06-05T04:11:36.196Z"
   },
   {
    "duration": 201,
    "start_time": "2025-06-05T04:11:36.202Z"
   },
   {
    "duration": 88,
    "start_time": "2025-06-05T04:11:36.405Z"
   },
   {
    "duration": 40,
    "start_time": "2025-06-05T04:11:36.495Z"
   },
   {
    "duration": 99,
    "start_time": "2025-06-05T04:11:36.536Z"
   },
   {
    "duration": 86,
    "start_time": "2025-06-05T04:11:36.637Z"
   },
   {
    "duration": 6,
    "start_time": "2025-06-05T04:11:36.724Z"
   },
   {
    "duration": 30,
    "start_time": "2025-06-05T04:11:36.732Z"
   },
   {
    "duration": 92,
    "start_time": "2025-06-05T04:11:36.763Z"
   },
   {
    "duration": 75,
    "start_time": "2025-06-05T04:11:36.857Z"
   },
   {
    "duration": 44,
    "start_time": "2025-06-05T04:11:36.934Z"
   },
   {
    "duration": 35,
    "start_time": "2025-06-05T04:11:36.980Z"
   },
   {
    "duration": 192,
    "start_time": "2025-06-05T04:11:37.017Z"
   },
   {
    "duration": 10,
    "start_time": "2025-06-05T04:11:37.211Z"
   },
   {
    "duration": 23,
    "start_time": "2025-06-05T04:11:37.223Z"
   },
   {
    "duration": 24,
    "start_time": "2025-06-05T04:11:37.247Z"
   },
   {
    "duration": 20,
    "start_time": "2025-06-05T04:11:37.272Z"
   },
   {
    "duration": 44,
    "start_time": "2025-06-05T04:11:37.294Z"
   },
   {
    "duration": 193,
    "start_time": "2025-06-05T04:11:37.358Z"
   },
   {
    "duration": 111,
    "start_time": "2025-06-05T04:11:37.552Z"
   },
   {
    "duration": 233,
    "start_time": "2025-06-05T04:11:37.664Z"
   },
   {
    "duration": 5,
    "start_time": "2025-06-05T04:11:37.898Z"
   },
   {
    "duration": 30,
    "start_time": "2025-06-05T04:11:37.905Z"
   },
   {
    "duration": 82,
    "start_time": "2025-06-05T04:11:37.957Z"
   },
   {
    "duration": 80,
    "start_time": "2025-06-05T04:11:38.041Z"
   },
   {
    "duration": 150,
    "start_time": "2025-06-05T04:11:38.123Z"
   },
   {
    "duration": 40,
    "start_time": "2025-06-05T04:11:38.275Z"
   },
   {
    "duration": 2441,
    "start_time": "2025-06-05T04:12:40.813Z"
   },
   {
    "duration": 2570,
    "start_time": "2025-06-05T04:12:43.256Z"
   },
   {
    "duration": 12,
    "start_time": "2025-06-05T04:12:45.828Z"
   },
   {
    "duration": 25,
    "start_time": "2025-06-05T04:12:45.842Z"
   },
   {
    "duration": 26,
    "start_time": "2025-06-05T04:12:45.870Z"
   },
   {
    "duration": 115,
    "start_time": "2025-06-05T04:12:45.898Z"
   },
   {
    "duration": 9,
    "start_time": "2025-06-05T04:12:46.015Z"
   },
   {
    "duration": 55,
    "start_time": "2025-06-05T04:12:46.026Z"
   },
   {
    "duration": 8,
    "start_time": "2025-06-05T04:12:46.083Z"
   },
   {
    "duration": 26,
    "start_time": "2025-06-05T04:12:46.092Z"
   },
   {
    "duration": 8,
    "start_time": "2025-06-05T04:12:46.120Z"
   },
   {
    "duration": 45,
    "start_time": "2025-06-05T04:12:46.129Z"
   },
   {
    "duration": 14,
    "start_time": "2025-06-05T04:12:46.176Z"
   },
   {
    "duration": 16,
    "start_time": "2025-06-05T04:12:46.193Z"
   },
   {
    "duration": 207,
    "start_time": "2025-06-05T04:12:46.211Z"
   },
   {
    "duration": 91,
    "start_time": "2025-06-05T04:12:46.420Z"
   },
   {
    "duration": 52,
    "start_time": "2025-06-05T04:12:46.513Z"
   },
   {
    "duration": 31,
    "start_time": "2025-06-05T04:12:46.567Z"
   },
   {
    "duration": 100,
    "start_time": "2025-06-05T04:12:46.600Z"
   },
   {
    "duration": 7,
    "start_time": "2025-06-05T04:12:46.701Z"
   },
   {
    "duration": 9,
    "start_time": "2025-06-05T04:12:46.710Z"
   },
   {
    "duration": 101,
    "start_time": "2025-06-05T04:12:46.721Z"
   },
   {
    "duration": 83,
    "start_time": "2025-06-05T04:12:46.824Z"
   },
   {
    "duration": 35,
    "start_time": "2025-06-05T04:12:46.909Z"
   },
   {
    "duration": 38,
    "start_time": "2025-06-05T04:12:46.958Z"
   },
   {
    "duration": 166,
    "start_time": "2025-06-05T04:12:46.998Z"
   },
   {
    "duration": 11,
    "start_time": "2025-06-05T04:12:47.166Z"
   },
   {
    "duration": 54,
    "start_time": "2025-06-05T04:12:47.179Z"
   },
   {
    "duration": 22,
    "start_time": "2025-06-05T04:12:47.235Z"
   },
   {
    "duration": 23,
    "start_time": "2025-06-05T04:12:47.259Z"
   },
   {
    "duration": 48,
    "start_time": "2025-06-05T04:12:47.285Z"
   },
   {
    "duration": 227,
    "start_time": "2025-06-05T04:12:47.335Z"
   },
   {
    "duration": 137,
    "start_time": "2025-06-05T04:12:47.564Z"
   },
   {
    "duration": 286,
    "start_time": "2025-06-05T04:12:47.703Z"
   },
   {
    "duration": 6,
    "start_time": "2025-06-05T04:12:47.991Z"
   },
   {
    "duration": 36,
    "start_time": "2025-06-05T04:12:47.998Z"
   },
   {
    "duration": 124,
    "start_time": "2025-06-05T04:12:48.036Z"
   },
   {
    "duration": 103,
    "start_time": "2025-06-05T04:12:48.162Z"
   },
   {
    "duration": 143,
    "start_time": "2025-06-05T04:12:48.267Z"
   },
   {
    "duration": 64,
    "start_time": "2025-06-05T04:12:48.412Z"
   },
   {
    "duration": 96,
    "start_time": "2025-06-05T04:12:48.479Z"
   },
   {
    "duration": 122,
    "start_time": "2025-06-05T04:12:48.576Z"
   },
   {
    "duration": 1585,
    "start_time": "2025-06-05T04:12:48.700Z"
   },
   {
    "duration": 3598,
    "start_time": "2025-06-06T11:46:03.620Z"
   },
   {
    "duration": 2525,
    "start_time": "2025-06-06T11:46:07.220Z"
   },
   {
    "duration": 15,
    "start_time": "2025-06-06T11:46:09.747Z"
   },
   {
    "duration": 34,
    "start_time": "2025-06-06T11:46:09.764Z"
   },
   {
    "duration": 26,
    "start_time": "2025-06-06T11:46:09.800Z"
   },
   {
    "duration": 122,
    "start_time": "2025-06-06T11:46:09.828Z"
   },
   {
    "duration": 9,
    "start_time": "2025-06-06T11:46:09.952Z"
   },
   {
    "duration": 62,
    "start_time": "2025-06-06T11:46:09.962Z"
   },
   {
    "duration": 8,
    "start_time": "2025-06-06T11:46:10.025Z"
   },
   {
    "duration": 20,
    "start_time": "2025-06-06T11:46:10.036Z"
   },
   {
    "duration": 41,
    "start_time": "2025-06-06T11:46:10.058Z"
   },
   {
    "duration": 26,
    "start_time": "2025-06-06T11:46:10.101Z"
   },
   {
    "duration": 26,
    "start_time": "2025-06-06T11:46:10.129Z"
   },
   {
    "duration": 3,
    "start_time": "2025-06-06T11:46:10.157Z"
   },
   {
    "duration": 270,
    "start_time": "2025-06-06T11:46:10.162Z"
   },
   {
    "duration": 87,
    "start_time": "2025-06-06T11:46:10.433Z"
   },
   {
    "duration": 40,
    "start_time": "2025-06-06T11:46:10.521Z"
   },
   {
    "duration": 48,
    "start_time": "2025-06-06T11:46:10.563Z"
   },
   {
    "duration": 88,
    "start_time": "2025-06-06T11:46:10.613Z"
   },
   {
    "duration": 8,
    "start_time": "2025-06-06T11:46:10.703Z"
   },
   {
    "duration": 16,
    "start_time": "2025-06-06T11:46:10.713Z"
   },
   {
    "duration": 105,
    "start_time": "2025-06-06T11:46:10.731Z"
   },
   {
    "duration": 92,
    "start_time": "2025-06-06T11:46:10.838Z"
   },
   {
    "duration": 3892,
    "start_time": "2025-06-06T11:46:10.932Z"
   },
   {
    "duration": 39,
    "start_time": "2025-06-06T11:46:14.826Z"
   },
   {
    "duration": 59,
    "start_time": "2025-06-06T11:46:14.867Z"
   },
   {
    "duration": 134,
    "start_time": "2025-06-06T11:46:14.927Z"
   },
   {
    "duration": 12,
    "start_time": "2025-06-06T11:46:15.064Z"
   },
   {
    "duration": 201,
    "start_time": "2025-06-06T11:46:15.077Z"
   },
   {
    "duration": 58,
    "start_time": "2025-06-06T11:46:15.280Z"
   },
   {
    "duration": 48,
    "start_time": "2025-06-06T11:46:15.339Z"
   },
   {
    "duration": 127,
    "start_time": "2025-06-06T11:46:15.389Z"
   },
   {
    "duration": 213,
    "start_time": "2025-06-06T11:46:15.518Z"
   },
   {
    "duration": 132,
    "start_time": "2025-06-06T11:46:15.732Z"
   },
   {
    "duration": 284,
    "start_time": "2025-06-06T11:46:15.867Z"
   },
   {
    "duration": 5,
    "start_time": "2025-06-06T11:46:16.153Z"
   },
   {
    "duration": 59,
    "start_time": "2025-06-06T11:46:16.160Z"
   },
   {
    "duration": 95,
    "start_time": "2025-06-06T11:46:16.220Z"
   },
   {
    "duration": 101,
    "start_time": "2025-06-06T11:46:16.317Z"
   },
   {
    "duration": 139,
    "start_time": "2025-06-06T11:46:16.419Z"
   },
   {
    "duration": 61,
    "start_time": "2025-06-06T11:46:16.559Z"
   },
   {
    "duration": 93,
    "start_time": "2025-06-06T11:46:16.622Z"
   },
   {
    "duration": 116,
    "start_time": "2025-06-06T11:46:16.716Z"
   },
   {
    "duration": 1439,
    "start_time": "2025-06-06T11:46:16.834Z"
   },
   {
    "duration": 189,
    "start_time": "2025-06-06T11:47:40.357Z"
   },
   {
    "duration": 1615,
    "start_time": "2025-06-06T11:48:42.308Z"
   },
   {
    "duration": 2187,
    "start_time": "2025-06-06T11:48:56.880Z"
   },
   {
    "duration": 2156,
    "start_time": "2025-06-06T11:48:59.070Z"
   },
   {
    "duration": 11,
    "start_time": "2025-06-06T11:49:01.228Z"
   },
   {
    "duration": 17,
    "start_time": "2025-06-06T11:49:01.241Z"
   },
   {
    "duration": 41,
    "start_time": "2025-06-06T11:49:01.260Z"
   },
   {
    "duration": 109,
    "start_time": "2025-06-06T11:49:01.303Z"
   },
   {
    "duration": 8,
    "start_time": "2025-06-06T11:49:01.414Z"
   },
   {
    "duration": 52,
    "start_time": "2025-06-06T11:49:01.423Z"
   },
   {
    "duration": 22,
    "start_time": "2025-06-06T11:49:01.477Z"
   },
   {
    "duration": 35,
    "start_time": "2025-06-06T11:49:01.502Z"
   },
   {
    "duration": 9,
    "start_time": "2025-06-06T11:49:01.539Z"
   },
   {
    "duration": 52,
    "start_time": "2025-06-06T11:49:01.550Z"
   },
   {
    "duration": 21,
    "start_time": "2025-06-06T11:49:01.604Z"
   },
   {
    "duration": 25,
    "start_time": "2025-06-06T11:49:01.627Z"
   },
   {
    "duration": 277,
    "start_time": "2025-06-06T11:49:01.653Z"
   },
   {
    "duration": 81,
    "start_time": "2025-06-06T11:49:01.931Z"
   },
   {
    "duration": 38,
    "start_time": "2025-06-06T11:49:02.013Z"
   },
   {
    "duration": 47,
    "start_time": "2025-06-06T11:49:02.053Z"
   },
   {
    "duration": 73,
    "start_time": "2025-06-06T11:49:02.102Z"
   },
   {
    "duration": 26,
    "start_time": "2025-06-06T11:49:02.176Z"
   },
   {
    "duration": 26,
    "start_time": "2025-06-06T11:49:02.203Z"
   },
   {
    "duration": 91,
    "start_time": "2025-06-06T11:49:02.230Z"
   },
   {
    "duration": 80,
    "start_time": "2025-06-06T11:49:02.322Z"
   },
   {
    "duration": 2980,
    "start_time": "2025-06-06T11:49:02.404Z"
   },
   {
    "duration": 48,
    "start_time": "2025-06-06T11:49:05.386Z"
   },
   {
    "duration": 36,
    "start_time": "2025-06-06T11:49:05.436Z"
   },
   {
    "duration": 122,
    "start_time": "2025-06-06T11:49:05.498Z"
   },
   {
    "duration": 12,
    "start_time": "2025-06-06T11:49:05.625Z"
   },
   {
    "duration": 12,
    "start_time": "2025-06-06T11:49:05.639Z"
   },
   {
    "duration": 63,
    "start_time": "2025-06-06T11:49:05.653Z"
   },
   {
    "duration": 31,
    "start_time": "2025-06-06T11:49:05.717Z"
   },
   {
    "duration": 94,
    "start_time": "2025-06-06T11:49:05.749Z"
   },
   {
    "duration": 210,
    "start_time": "2025-06-06T11:49:05.844Z"
   },
   {
    "duration": 123,
    "start_time": "2025-06-06T11:49:06.056Z"
   },
   {
    "duration": 264,
    "start_time": "2025-06-06T11:49:06.181Z"
   },
   {
    "duration": 5,
    "start_time": "2025-06-06T11:49:06.447Z"
   },
   {
    "duration": 125,
    "start_time": "2025-06-06T11:49:06.453Z"
   },
   {
    "duration": 86,
    "start_time": "2025-06-06T11:49:06.580Z"
   },
   {
    "duration": 76,
    "start_time": "2025-06-06T11:49:06.667Z"
   },
   {
    "duration": 162,
    "start_time": "2025-06-06T11:49:06.744Z"
   },
   {
    "duration": 39,
    "start_time": "2025-06-06T11:49:06.908Z"
   },
   {
    "duration": 99,
    "start_time": "2025-06-06T11:49:06.948Z"
   },
   {
    "duration": 219,
    "start_time": "2025-06-06T11:49:07.049Z"
   },
   {
    "duration": 1341,
    "start_time": "2025-06-06T11:49:07.269Z"
   },
   {
    "duration": 1649,
    "start_time": "2025-06-06T11:57:21.643Z"
   },
   {
    "duration": 2423,
    "start_time": "2025-06-06T11:57:33.075Z"
   },
   {
    "duration": 2136,
    "start_time": "2025-06-06T11:57:35.501Z"
   },
   {
    "duration": 11,
    "start_time": "2025-06-06T11:57:37.639Z"
   },
   {
    "duration": 12,
    "start_time": "2025-06-06T11:57:37.652Z"
   },
   {
    "duration": 41,
    "start_time": "2025-06-06T11:57:37.665Z"
   },
   {
    "duration": 111,
    "start_time": "2025-06-06T11:57:37.708Z"
   },
   {
    "duration": 9,
    "start_time": "2025-06-06T11:57:37.821Z"
   },
   {
    "duration": 67,
    "start_time": "2025-06-06T11:57:37.832Z"
   },
   {
    "duration": 8,
    "start_time": "2025-06-06T11:57:37.901Z"
   },
   {
    "duration": 21,
    "start_time": "2025-06-06T11:57:37.913Z"
   },
   {
    "duration": 9,
    "start_time": "2025-06-06T11:57:37.936Z"
   },
   {
    "duration": 70,
    "start_time": "2025-06-06T11:57:37.947Z"
   },
   {
    "duration": 18,
    "start_time": "2025-06-06T11:57:38.021Z"
   },
   {
    "duration": 5,
    "start_time": "2025-06-06T11:57:38.040Z"
   },
   {
    "duration": 279,
    "start_time": "2025-06-06T11:57:38.046Z"
   },
   {
    "duration": 90,
    "start_time": "2025-06-06T11:57:38.327Z"
   },
   {
    "duration": 44,
    "start_time": "2025-06-06T11:57:38.419Z"
   },
   {
    "duration": 57,
    "start_time": "2025-06-06T11:57:38.465Z"
   },
   {
    "duration": 181,
    "start_time": "2025-06-06T11:57:38.523Z"
   },
   {
    "duration": 6,
    "start_time": "2025-06-06T11:57:38.705Z"
   },
   {
    "duration": 7,
    "start_time": "2025-06-06T11:57:38.713Z"
   },
   {
    "duration": 93,
    "start_time": "2025-06-06T11:57:38.721Z"
   },
   {
    "duration": 68,
    "start_time": "2025-06-06T11:57:38.816Z"
   },
   {
    "duration": 3114,
    "start_time": "2025-06-06T11:57:38.885Z"
   },
   {
    "duration": 44,
    "start_time": "2025-06-06T11:57:42.001Z"
   },
   {
    "duration": 65,
    "start_time": "2025-06-06T11:57:42.047Z"
   },
   {
    "duration": 131,
    "start_time": "2025-06-06T11:57:42.115Z"
   },
   {
    "duration": 12,
    "start_time": "2025-06-06T11:57:42.251Z"
   },
   {
    "duration": 43,
    "start_time": "2025-06-06T11:57:42.265Z"
   },
   {
    "duration": 25,
    "start_time": "2025-06-06T11:57:42.310Z"
   },
   {
    "duration": 23,
    "start_time": "2025-06-06T11:57:42.337Z"
   },
   {
    "duration": 73,
    "start_time": "2025-06-06T11:57:42.362Z"
   },
   {
    "duration": 192,
    "start_time": "2025-06-06T11:57:42.437Z"
   },
   {
    "duration": 128,
    "start_time": "2025-06-06T11:57:42.631Z"
   },
   {
    "duration": 255,
    "start_time": "2025-06-06T11:57:42.760Z"
   },
   {
    "duration": 6,
    "start_time": "2025-06-06T11:57:43.016Z"
   },
   {
    "duration": 70,
    "start_time": "2025-06-06T11:57:43.023Z"
   },
   {
    "duration": 81,
    "start_time": "2025-06-06T11:57:43.094Z"
   },
   {
    "duration": 85,
    "start_time": "2025-06-06T11:57:43.177Z"
   },
   {
    "duration": 157,
    "start_time": "2025-06-06T11:57:43.263Z"
   },
   {
    "duration": 43,
    "start_time": "2025-06-06T11:57:43.422Z"
   },
   {
    "duration": 103,
    "start_time": "2025-06-06T11:57:43.466Z"
   },
   {
    "duration": 108,
    "start_time": "2025-06-06T11:57:43.571Z"
   },
   {
    "duration": 1338,
    "start_time": "2025-06-06T11:57:43.680Z"
   },
   {
    "duration": 94,
    "start_time": "2025-06-06T12:10:31.208Z"
   },
   {
    "duration": 131,
    "start_time": "2025-06-06T12:10:58.204Z"
   },
   {
    "duration": 134,
    "start_time": "2025-06-06T12:11:09.718Z"
   },
   {
    "duration": 228,
    "start_time": "2025-06-06T12:11:30.093Z"
   },
   {
    "duration": 95,
    "start_time": "2025-06-06T12:11:54.054Z"
   },
   {
    "duration": 224,
    "start_time": "2025-06-06T12:12:12.543Z"
   },
   {
    "duration": 5,
    "start_time": "2025-06-06T12:12:19.886Z"
   },
   {
    "duration": 31,
    "start_time": "2025-06-06T12:12:20.443Z"
   },
   {
    "duration": 1411,
    "start_time": "2025-06-06T12:20:21.114Z"
   },
   {
    "duration": 1282,
    "start_time": "2025-06-06T12:20:55.648Z"
   },
   {
    "duration": 29,
    "start_time": "2025-06-06T12:22:22.030Z"
   },
   {
    "duration": 31,
    "start_time": "2025-06-06T12:22:42.210Z"
   },
   {
    "duration": 29,
    "start_time": "2025-06-06T12:22:51.386Z"
   },
   {
    "duration": 1292,
    "start_time": "2025-06-06T12:27:03.175Z"
   },
   {
    "duration": 0,
    "start_time": "2025-06-06T12:27:04.468Z"
   },
   {
    "duration": 0,
    "start_time": "2025-06-06T12:27:04.470Z"
   },
   {
    "duration": 2293,
    "start_time": "2025-06-06T12:27:28.281Z"
   },
   {
    "duration": 2134,
    "start_time": "2025-06-06T12:27:30.577Z"
   },
   {
    "duration": 12,
    "start_time": "2025-06-06T12:27:32.713Z"
   },
   {
    "duration": 102,
    "start_time": "2025-06-06T12:27:32.727Z"
   },
   {
    "duration": 27,
    "start_time": "2025-06-06T12:27:32.831Z"
   },
   {
    "duration": 100,
    "start_time": "2025-06-06T12:27:32.859Z"
   },
   {
    "duration": 8,
    "start_time": "2025-06-06T12:27:32.960Z"
   },
   {
    "duration": 75,
    "start_time": "2025-06-06T12:27:32.970Z"
   },
   {
    "duration": 8,
    "start_time": "2025-06-06T12:27:33.047Z"
   },
   {
    "duration": 29,
    "start_time": "2025-06-06T12:27:33.056Z"
   },
   {
    "duration": 13,
    "start_time": "2025-06-06T12:27:33.087Z"
   },
   {
    "duration": 133,
    "start_time": "2025-06-06T12:27:33.102Z"
   },
   {
    "duration": 15,
    "start_time": "2025-06-06T12:27:33.237Z"
   },
   {
    "duration": 43,
    "start_time": "2025-06-06T12:27:33.255Z"
   },
   {
    "duration": 286,
    "start_time": "2025-06-06T12:27:33.299Z"
   },
   {
    "duration": 78,
    "start_time": "2025-06-06T12:27:33.586Z"
   },
   {
    "duration": 46,
    "start_time": "2025-06-06T12:27:33.666Z"
   },
   {
    "duration": 26,
    "start_time": "2025-06-06T12:27:33.713Z"
   },
   {
    "duration": 93,
    "start_time": "2025-06-06T12:27:33.741Z"
   },
   {
    "duration": 6,
    "start_time": "2025-06-06T12:27:33.835Z"
   },
   {
    "duration": 24,
    "start_time": "2025-06-06T12:27:33.842Z"
   },
   {
    "duration": 71,
    "start_time": "2025-06-06T12:27:33.867Z"
   },
   {
    "duration": 74,
    "start_time": "2025-06-06T12:27:33.939Z"
   },
   {
    "duration": 3084,
    "start_time": "2025-06-06T12:27:34.015Z"
   },
   {
    "duration": 37,
    "start_time": "2025-06-06T12:27:37.101Z"
   },
   {
    "duration": 91,
    "start_time": "2025-06-06T12:27:37.140Z"
   },
   {
    "duration": 176,
    "start_time": "2025-06-06T12:27:37.233Z"
   },
   {
    "duration": 11,
    "start_time": "2025-06-06T12:27:37.410Z"
   },
   {
    "duration": 30,
    "start_time": "2025-06-06T12:27:37.423Z"
   },
   {
    "duration": 24,
    "start_time": "2025-06-06T12:27:37.454Z"
   },
   {
    "duration": 30,
    "start_time": "2025-06-06T12:27:37.480Z"
   },
   {
    "duration": 76,
    "start_time": "2025-06-06T12:27:37.512Z"
   },
   {
    "duration": 175,
    "start_time": "2025-06-06T12:27:37.590Z"
   },
   {
    "duration": 122,
    "start_time": "2025-06-06T12:27:37.767Z"
   },
   {
    "duration": 241,
    "start_time": "2025-06-06T12:27:37.891Z"
   },
   {
    "duration": 6,
    "start_time": "2025-06-06T12:27:38.134Z"
   },
   {
    "duration": 32,
    "start_time": "2025-06-06T12:27:38.141Z"
   },
   {
    "duration": 76,
    "start_time": "2025-06-06T12:27:38.199Z"
   },
   {
    "duration": 86,
    "start_time": "2025-06-06T12:27:38.276Z"
   },
   {
    "duration": 143,
    "start_time": "2025-06-06T12:27:38.363Z"
   },
   {
    "duration": 40,
    "start_time": "2025-06-06T12:27:38.510Z"
   },
   {
    "duration": 90,
    "start_time": "2025-06-06T12:27:38.551Z"
   },
   {
    "duration": 111,
    "start_time": "2025-06-06T12:27:38.642Z"
   },
   {
    "duration": 1348,
    "start_time": "2025-06-06T12:27:38.755Z"
   },
   {
    "duration": 42,
    "start_time": "2025-06-06T12:51:29.262Z"
   },
   {
    "duration": 115,
    "start_time": "2025-06-06T12:52:37.425Z"
   },
   {
    "duration": 13,
    "start_time": "2025-06-06T12:52:44.528Z"
   },
   {
    "duration": 11,
    "start_time": "2025-06-06T12:52:48.407Z"
   },
   {
    "duration": 152,
    "start_time": "2025-06-06T12:53:02.229Z"
   },
   {
    "duration": 143,
    "start_time": "2025-06-06T12:53:12.877Z"
   },
   {
    "duration": 140,
    "start_time": "2025-06-06T12:53:20.880Z"
   },
   {
    "duration": 213,
    "start_time": "2025-06-06T12:53:34.034Z"
   },
   {
    "duration": 137,
    "start_time": "2025-06-06T12:53:43.961Z"
   },
   {
    "duration": 140,
    "start_time": "2025-06-06T12:53:52.210Z"
   },
   {
    "duration": 22,
    "start_time": "2025-06-06T13:38:18.376Z"
   },
   {
    "duration": 13,
    "start_time": "2025-06-06T13:44:43.480Z"
   },
   {
    "duration": 10,
    "start_time": "2025-06-06T13:47:47.777Z"
   },
   {
    "duration": 46,
    "start_time": "2025-06-06T13:49:36.833Z"
   },
   {
    "duration": 101,
    "start_time": "2025-06-06T13:50:55.187Z"
   },
   {
    "duration": 36,
    "start_time": "2025-06-06T13:51:00.508Z"
   },
   {
    "duration": 86,
    "start_time": "2025-06-06T13:58:28.983Z"
   },
   {
    "duration": 88,
    "start_time": "2025-06-06T14:00:35.511Z"
   },
   {
    "duration": 318,
    "start_time": "2025-06-06T14:01:44.461Z"
   },
   {
    "duration": 28,
    "start_time": "2025-06-06T14:02:11.113Z"
   },
   {
    "duration": 87,
    "start_time": "2025-06-06T14:02:47.236Z"
   },
   {
    "duration": 95,
    "start_time": "2025-06-06T14:04:22.646Z"
   },
   {
    "duration": 117,
    "start_time": "2025-06-06T14:04:33.936Z"
   },
   {
    "duration": 91,
    "start_time": "2025-06-06T14:05:00.610Z"
   },
   {
    "duration": 85,
    "start_time": "2025-06-06T14:05:06.515Z"
   },
   {
    "duration": 84,
    "start_time": "2025-06-06T14:05:25.068Z"
   },
   {
    "duration": 84,
    "start_time": "2025-06-06T14:06:40.993Z"
   },
   {
    "duration": 29,
    "start_time": "2025-06-06T14:06:53.525Z"
   },
   {
    "duration": 22,
    "start_time": "2025-06-06T14:08:57.167Z"
   },
   {
    "duration": 2210,
    "start_time": "2025-06-06T14:09:06.536Z"
   },
   {
    "duration": 2068,
    "start_time": "2025-06-06T14:09:08.748Z"
   },
   {
    "duration": 11,
    "start_time": "2025-06-06T14:09:10.818Z"
   },
   {
    "duration": 10,
    "start_time": "2025-06-06T14:09:10.830Z"
   },
   {
    "duration": 21,
    "start_time": "2025-06-06T14:09:10.841Z"
   },
   {
    "duration": 108,
    "start_time": "2025-06-06T14:09:10.864Z"
   },
   {
    "duration": 7,
    "start_time": "2025-06-06T14:09:10.974Z"
   },
   {
    "duration": 42,
    "start_time": "2025-06-06T14:09:10.983Z"
   },
   {
    "duration": 6,
    "start_time": "2025-06-06T14:09:11.027Z"
   },
   {
    "duration": 19,
    "start_time": "2025-06-06T14:09:11.036Z"
   },
   {
    "duration": 8,
    "start_time": "2025-06-06T14:09:11.056Z"
   },
   {
    "duration": 52,
    "start_time": "2025-06-06T14:09:11.066Z"
   },
   {
    "duration": 14,
    "start_time": "2025-06-06T14:09:11.120Z"
   },
   {
    "duration": 4,
    "start_time": "2025-06-06T14:09:11.136Z"
   },
   {
    "duration": 244,
    "start_time": "2025-06-06T14:09:11.141Z"
   },
   {
    "duration": 74,
    "start_time": "2025-06-06T14:09:11.387Z"
   },
   {
    "duration": 50,
    "start_time": "2025-06-06T14:09:11.462Z"
   },
   {
    "duration": 29,
    "start_time": "2025-06-06T14:09:11.513Z"
   },
   {
    "duration": 83,
    "start_time": "2025-06-06T14:09:11.543Z"
   },
   {
    "duration": 6,
    "start_time": "2025-06-06T14:09:11.627Z"
   },
   {
    "duration": 7,
    "start_time": "2025-06-06T14:09:11.635Z"
   },
   {
    "duration": 82,
    "start_time": "2025-06-06T14:09:11.643Z"
   },
   {
    "duration": 74,
    "start_time": "2025-06-06T14:09:11.726Z"
   },
   {
    "duration": 3029,
    "start_time": "2025-06-06T14:09:11.802Z"
   },
   {
    "duration": 37,
    "start_time": "2025-06-06T14:09:14.833Z"
   },
   {
    "duration": 48,
    "start_time": "2025-06-06T14:09:14.871Z"
   },
   {
    "duration": 116,
    "start_time": "2025-06-06T14:09:14.921Z"
   },
   {
    "duration": 12,
    "start_time": "2025-06-06T14:09:15.040Z"
   },
   {
    "duration": 109,
    "start_time": "2025-06-06T14:09:15.054Z"
   },
   {
    "duration": 68,
    "start_time": "2025-06-06T14:09:15.165Z"
   },
   {
    "duration": 149,
    "start_time": "2025-06-06T14:09:15.235Z"
   },
   {
    "duration": 54,
    "start_time": "2025-06-06T14:09:15.385Z"
   },
   {
    "duration": 176,
    "start_time": "2025-06-06T14:09:15.440Z"
   },
   {
    "duration": 118,
    "start_time": "2025-06-06T14:09:15.617Z"
   },
   {
    "duration": 224,
    "start_time": "2025-06-06T14:09:15.736Z"
   },
   {
    "duration": 4,
    "start_time": "2025-06-06T14:09:15.962Z"
   },
   {
    "duration": 47,
    "start_time": "2025-06-06T14:09:15.967Z"
   },
   {
    "duration": 149,
    "start_time": "2025-06-06T14:09:16.016Z"
   },
   {
    "duration": 83,
    "start_time": "2025-06-06T14:09:16.166Z"
   },
   {
    "duration": 76,
    "start_time": "2025-06-06T14:09:16.250Z"
   },
   {
    "duration": 125,
    "start_time": "2025-06-06T14:09:16.328Z"
   },
   {
    "duration": 48,
    "start_time": "2025-06-06T14:09:16.455Z"
   },
   {
    "duration": 73,
    "start_time": "2025-06-06T14:09:16.505Z"
   },
   {
    "duration": 100,
    "start_time": "2025-06-06T14:09:16.580Z"
   },
   {
    "duration": 1268,
    "start_time": "2025-06-06T14:09:16.681Z"
   },
   {
    "duration": 94,
    "start_time": "2025-06-06T14:09:17.950Z"
   },
   {
    "duration": 29,
    "start_time": "2025-06-06T14:09:18.045Z"
   },
   {
    "duration": 39,
    "start_time": "2025-06-06T14:09:18.075Z"
   },
   {
    "duration": 14,
    "start_time": "2025-06-06T14:09:35.858Z"
   },
   {
    "duration": 7,
    "start_time": "2025-06-06T14:09:44.257Z"
   },
   {
    "duration": 48,
    "start_time": "2025-06-06T14:10:38.057Z"
   },
   {
    "duration": 41,
    "start_time": "2025-06-06T14:10:45.447Z"
   },
   {
    "duration": 38,
    "start_time": "2025-06-06T14:11:23.578Z"
   },
   {
    "duration": 2272,
    "start_time": "2025-06-06T14:11:33.109Z"
   },
   {
    "duration": 2158,
    "start_time": "2025-06-06T14:11:35.383Z"
   },
   {
    "duration": 11,
    "start_time": "2025-06-06T14:11:37.543Z"
   },
   {
    "duration": 38,
    "start_time": "2025-06-06T14:11:37.556Z"
   },
   {
    "duration": 46,
    "start_time": "2025-06-06T14:11:37.595Z"
   },
   {
    "duration": 106,
    "start_time": "2025-06-06T14:11:37.642Z"
   },
   {
    "duration": 8,
    "start_time": "2025-06-06T14:11:37.749Z"
   },
   {
    "duration": 107,
    "start_time": "2025-06-06T14:11:37.758Z"
   },
   {
    "duration": 6,
    "start_time": "2025-06-06T14:11:37.866Z"
   },
   {
    "duration": 23,
    "start_time": "2025-06-06T14:11:37.874Z"
   },
   {
    "duration": 6,
    "start_time": "2025-06-06T14:11:37.899Z"
   },
   {
    "duration": 22,
    "start_time": "2025-06-06T14:11:37.907Z"
   },
   {
    "duration": 11,
    "start_time": "2025-06-06T14:11:37.931Z"
   },
   {
    "duration": 3,
    "start_time": "2025-06-06T14:11:37.943Z"
   },
   {
    "duration": 255,
    "start_time": "2025-06-06T14:11:37.948Z"
   },
   {
    "duration": 71,
    "start_time": "2025-06-06T14:11:38.205Z"
   },
   {
    "duration": 53,
    "start_time": "2025-06-06T14:11:38.278Z"
   },
   {
    "duration": 26,
    "start_time": "2025-06-06T14:11:38.333Z"
   },
   {
    "duration": 82,
    "start_time": "2025-06-06T14:11:38.360Z"
   },
   {
    "duration": 5,
    "start_time": "2025-06-06T14:11:38.444Z"
   },
   {
    "duration": 7,
    "start_time": "2025-06-06T14:11:38.451Z"
   },
   {
    "duration": 85,
    "start_time": "2025-06-06T14:11:38.459Z"
   },
   {
    "duration": 81,
    "start_time": "2025-06-06T14:11:38.545Z"
   },
   {
    "duration": 3076,
    "start_time": "2025-06-06T14:11:38.627Z"
   },
   {
    "duration": 40,
    "start_time": "2025-06-06T14:11:41.705Z"
   },
   {
    "duration": 89,
    "start_time": "2025-06-06T14:11:41.746Z"
   },
   {
    "duration": 132,
    "start_time": "2025-06-06T14:11:41.836Z"
   },
   {
    "duration": 11,
    "start_time": "2025-06-06T14:11:41.971Z"
   },
   {
    "duration": 24,
    "start_time": "2025-06-06T14:11:41.984Z"
   },
   {
    "duration": 21,
    "start_time": "2025-06-06T14:11:42.010Z"
   },
   {
    "duration": 53,
    "start_time": "2025-06-06T14:11:42.032Z"
   },
   {
    "duration": 60,
    "start_time": "2025-06-06T14:11:42.086Z"
   },
   {
    "duration": 171,
    "start_time": "2025-06-06T14:11:42.147Z"
   },
   {
    "duration": 112,
    "start_time": "2025-06-06T14:11:42.319Z"
   },
   {
    "duration": 218,
    "start_time": "2025-06-06T14:11:42.433Z"
   },
   {
    "duration": 5,
    "start_time": "2025-06-06T14:11:42.652Z"
   },
   {
    "duration": 79,
    "start_time": "2025-06-06T14:11:42.658Z"
   },
   {
    "duration": 145,
    "start_time": "2025-06-06T14:11:42.739Z"
   },
   {
    "duration": 85,
    "start_time": "2025-06-06T14:11:42.886Z"
   },
   {
    "duration": 76,
    "start_time": "2025-06-06T14:11:42.973Z"
   },
   {
    "duration": 135,
    "start_time": "2025-06-06T14:11:43.051Z"
   },
   {
    "duration": 49,
    "start_time": "2025-06-06T14:11:43.187Z"
   },
   {
    "duration": 85,
    "start_time": "2025-06-06T14:11:43.237Z"
   },
   {
    "duration": 156,
    "start_time": "2025-06-06T14:11:43.324Z"
   },
   {
    "duration": 1321,
    "start_time": "2025-06-06T14:11:43.481Z"
   },
   {
    "duration": 101,
    "start_time": "2025-06-06T14:11:44.803Z"
   },
   {
    "duration": 30,
    "start_time": "2025-06-06T14:11:44.906Z"
   },
   {
    "duration": 62,
    "start_time": "2025-06-06T14:11:44.937Z"
   },
   {
    "duration": 57,
    "start_time": "2025-06-06T14:12:44.005Z"
   },
   {
    "duration": 100,
    "start_time": "2025-06-06T14:13:27.581Z"
   },
   {
    "duration": 10,
    "start_time": "2025-06-06T14:16:16.923Z"
   },
   {
    "duration": 2297,
    "start_time": "2025-06-06T14:16:32.186Z"
   },
   {
    "duration": 2138,
    "start_time": "2025-06-06T14:16:34.486Z"
   },
   {
    "duration": 11,
    "start_time": "2025-06-06T14:16:36.625Z"
   },
   {
    "duration": 29,
    "start_time": "2025-06-06T14:16:36.638Z"
   },
   {
    "duration": 39,
    "start_time": "2025-06-06T14:16:36.668Z"
   },
   {
    "duration": 134,
    "start_time": "2025-06-06T14:16:36.709Z"
   },
   {
    "duration": 9,
    "start_time": "2025-06-06T14:16:36.844Z"
   },
   {
    "duration": 46,
    "start_time": "2025-06-06T14:16:36.855Z"
   },
   {
    "duration": 6,
    "start_time": "2025-06-06T14:16:36.903Z"
   },
   {
    "duration": 42,
    "start_time": "2025-06-06T14:16:36.911Z"
   },
   {
    "duration": 11,
    "start_time": "2025-06-06T14:16:36.954Z"
   },
   {
    "duration": 25,
    "start_time": "2025-06-06T14:16:36.967Z"
   },
   {
    "duration": 12,
    "start_time": "2025-06-06T14:16:36.994Z"
   },
   {
    "duration": 15,
    "start_time": "2025-06-06T14:16:37.007Z"
   },
   {
    "duration": 245,
    "start_time": "2025-06-06T14:16:37.024Z"
   },
   {
    "duration": 77,
    "start_time": "2025-06-06T14:16:37.270Z"
   },
   {
    "duration": 50,
    "start_time": "2025-06-06T14:16:37.349Z"
   },
   {
    "duration": 34,
    "start_time": "2025-06-06T14:16:37.401Z"
   },
   {
    "duration": 76,
    "start_time": "2025-06-06T14:16:37.437Z"
   },
   {
    "duration": 7,
    "start_time": "2025-06-06T14:16:37.514Z"
   },
   {
    "duration": 48,
    "start_time": "2025-06-06T14:16:37.522Z"
   },
   {
    "duration": 81,
    "start_time": "2025-06-06T14:16:37.571Z"
   },
   {
    "duration": 74,
    "start_time": "2025-06-06T14:16:37.654Z"
   },
   {
    "duration": 3005,
    "start_time": "2025-06-06T14:16:37.730Z"
   },
   {
    "duration": 39,
    "start_time": "2025-06-06T14:16:40.737Z"
   },
   {
    "duration": 33,
    "start_time": "2025-06-06T14:16:40.777Z"
   },
   {
    "duration": 124,
    "start_time": "2025-06-06T14:16:40.811Z"
   },
   {
    "duration": 10,
    "start_time": "2025-06-06T14:16:40.938Z"
   },
   {
    "duration": 15,
    "start_time": "2025-06-06T14:16:40.950Z"
   },
   {
    "duration": 33,
    "start_time": "2025-06-06T14:16:40.966Z"
   },
   {
    "duration": 26,
    "start_time": "2025-06-06T14:16:41.000Z"
   },
   {
    "duration": 46,
    "start_time": "2025-06-06T14:16:41.027Z"
   },
   {
    "duration": 181,
    "start_time": "2025-06-06T14:16:41.075Z"
   },
   {
    "duration": 115,
    "start_time": "2025-06-06T14:16:41.258Z"
   },
   {
    "duration": 215,
    "start_time": "2025-06-06T14:16:41.375Z"
   },
   {
    "duration": 5,
    "start_time": "2025-06-06T14:16:41.599Z"
   },
   {
    "duration": 37,
    "start_time": "2025-06-06T14:16:41.605Z"
   },
   {
    "duration": 154,
    "start_time": "2025-06-06T14:16:41.644Z"
   },
   {
    "duration": 80,
    "start_time": "2025-06-06T14:16:41.800Z"
   },
   {
    "duration": 88,
    "start_time": "2025-06-06T14:16:41.882Z"
   },
   {
    "duration": 138,
    "start_time": "2025-06-06T14:16:41.971Z"
   },
   {
    "duration": 40,
    "start_time": "2025-06-06T14:16:42.110Z"
   },
   {
    "duration": 86,
    "start_time": "2025-06-06T14:16:42.151Z"
   },
   {
    "duration": 98,
    "start_time": "2025-06-06T14:16:42.238Z"
   },
   {
    "duration": 1294,
    "start_time": "2025-06-06T14:16:42.338Z"
   },
   {
    "duration": 143,
    "start_time": "2025-06-06T14:16:43.634Z"
   },
   {
    "duration": 26,
    "start_time": "2025-06-06T14:26:16.795Z"
   },
   {
    "duration": 5,
    "start_time": "2025-06-06T14:26:43.332Z"
   },
   {
    "duration": 10,
    "start_time": "2025-06-06T14:31:01.809Z"
   },
   {
    "duration": 11,
    "start_time": "2025-06-06T14:35:10.157Z"
   },
   {
    "duration": 81,
    "start_time": "2025-06-06T14:35:20.390Z"
   },
   {
    "duration": 10,
    "start_time": "2025-06-06T14:35:30.447Z"
   },
   {
    "duration": 9,
    "start_time": "2025-06-06T14:36:26.043Z"
   },
   {
    "duration": 10,
    "start_time": "2025-06-06T14:36:46.467Z"
   },
   {
    "duration": 12,
    "start_time": "2025-06-06T14:36:55.505Z"
   },
   {
    "duration": 11,
    "start_time": "2025-06-06T14:37:02.808Z"
   },
   {
    "duration": 9,
    "start_time": "2025-06-06T14:37:13.039Z"
   },
   {
    "duration": 10,
    "start_time": "2025-06-06T14:37:20.741Z"
   },
   {
    "duration": 10,
    "start_time": "2025-06-06T14:37:25.276Z"
   },
   {
    "duration": 9,
    "start_time": "2025-06-06T14:37:37.156Z"
   },
   {
    "duration": 130,
    "start_time": "2025-06-06T14:40:42.009Z"
   },
   {
    "duration": 148,
    "start_time": "2025-06-06T14:45:12.671Z"
   },
   {
    "duration": 155,
    "start_time": "2025-06-06T14:45:21.104Z"
   },
   {
    "duration": 131,
    "start_time": "2025-06-06T14:45:28.821Z"
   },
   {
    "duration": 605,
    "start_time": "2025-06-06T14:49:37.383Z"
   },
   {
    "duration": 444,
    "start_time": "2025-06-06T14:49:49.111Z"
   },
   {
    "duration": 55,
    "start_time": "2025-06-06T14:50:19.864Z"
   },
   {
    "duration": 490,
    "start_time": "2025-06-06T14:54:20.147Z"
   },
   {
    "duration": 3576,
    "start_time": "2025-06-08T10:01:51.317Z"
   },
   {
    "duration": 2751,
    "start_time": "2025-06-08T10:01:54.896Z"
   },
   {
    "duration": 13,
    "start_time": "2025-06-08T10:01:57.649Z"
   },
   {
    "duration": 68,
    "start_time": "2025-06-08T10:01:57.665Z"
   },
   {
    "duration": 26,
    "start_time": "2025-06-08T10:01:57.735Z"
   },
   {
    "duration": 115,
    "start_time": "2025-06-08T10:01:57.763Z"
   },
   {
    "duration": 9,
    "start_time": "2025-06-08T10:01:57.880Z"
   },
   {
    "duration": 98,
    "start_time": "2025-06-08T10:01:57.891Z"
   },
   {
    "duration": 8,
    "start_time": "2025-06-08T10:01:57.990Z"
   },
   {
    "duration": 25,
    "start_time": "2025-06-08T10:01:58.001Z"
   },
   {
    "duration": 33,
    "start_time": "2025-06-08T10:01:58.028Z"
   },
   {
    "duration": 33,
    "start_time": "2025-06-08T10:01:58.063Z"
   },
   {
    "duration": 130,
    "start_time": "2025-06-08T10:01:58.098Z"
   },
   {
    "duration": 80,
    "start_time": "2025-06-08T10:01:58.230Z"
   },
   {
    "duration": 266,
    "start_time": "2025-06-08T10:01:58.312Z"
   },
   {
    "duration": 94,
    "start_time": "2025-06-08T10:01:58.580Z"
   },
   {
    "duration": 45,
    "start_time": "2025-06-08T10:01:58.676Z"
   },
   {
    "duration": 50,
    "start_time": "2025-06-08T10:01:58.724Z"
   },
   {
    "duration": 105,
    "start_time": "2025-06-08T10:01:58.776Z"
   },
   {
    "duration": 6,
    "start_time": "2025-06-08T10:01:58.883Z"
   },
   {
    "duration": 9,
    "start_time": "2025-06-08T10:01:58.891Z"
   },
   {
    "duration": 98,
    "start_time": "2025-06-08T10:01:58.901Z"
   },
   {
    "duration": 106,
    "start_time": "2025-06-08T10:01:59.001Z"
   },
   {
    "duration": 4004,
    "start_time": "2025-06-08T10:01:59.109Z"
   },
   {
    "duration": 46,
    "start_time": "2025-06-08T10:02:03.116Z"
   },
   {
    "duration": 45,
    "start_time": "2025-06-08T10:02:03.165Z"
   },
   {
    "duration": 155,
    "start_time": "2025-06-08T10:02:03.213Z"
   },
   {
    "duration": 13,
    "start_time": "2025-06-08T10:02:03.372Z"
   },
   {
    "duration": 15,
    "start_time": "2025-06-08T10:02:03.387Z"
   },
   {
    "duration": 26,
    "start_time": "2025-06-08T10:02:03.403Z"
   },
   {
    "duration": 23,
    "start_time": "2025-06-08T10:02:03.460Z"
   },
   {
    "duration": 54,
    "start_time": "2025-06-08T10:02:03.485Z"
   },
   {
    "duration": 241,
    "start_time": "2025-06-08T10:02:03.541Z"
   },
   {
    "duration": 137,
    "start_time": "2025-06-08T10:02:03.784Z"
   },
   {
    "duration": 277,
    "start_time": "2025-06-08T10:02:03.923Z"
   },
   {
    "duration": 7,
    "start_time": "2025-06-08T10:02:04.202Z"
   },
   {
    "duration": 161,
    "start_time": "2025-06-08T10:02:04.211Z"
   },
   {
    "duration": 174,
    "start_time": "2025-06-08T10:02:04.374Z"
   },
   {
    "duration": 110,
    "start_time": "2025-06-08T10:02:04.550Z"
   },
   {
    "duration": 105,
    "start_time": "2025-06-08T10:02:04.662Z"
   },
   {
    "duration": 145,
    "start_time": "2025-06-08T10:02:04.768Z"
   },
   {
    "duration": 68,
    "start_time": "2025-06-08T10:02:04.915Z"
   },
   {
    "duration": 96,
    "start_time": "2025-06-08T10:02:04.985Z"
   },
   {
    "duration": 118,
    "start_time": "2025-06-08T10:02:05.082Z"
   },
   {
    "duration": 1670,
    "start_time": "2025-06-08T10:02:05.202Z"
   },
   {
    "duration": 178,
    "start_time": "2025-06-08T10:02:06.874Z"
   },
   {
    "duration": 11,
    "start_time": "2025-06-08T10:02:07.061Z"
   },
   {
    "duration": 572,
    "start_time": "2025-06-08T10:02:07.074Z"
   },
   {
    "duration": 235,
    "start_time": "2025-06-08T10:02:07.648Z"
   },
   {
    "duration": 9,
    "start_time": "2025-06-08T10:04:39.409Z"
   },
   {
    "duration": 126,
    "start_time": "2025-06-08T10:08:13.573Z"
   },
   {
    "duration": 1478,
    "start_time": "2025-06-08T10:08:57.997Z"
   },
   {
    "duration": 214,
    "start_time": "2025-06-08T10:09:16.992Z"
   },
   {
    "duration": 139,
    "start_time": "2025-06-08T10:09:54.570Z"
   },
   {
    "duration": 10,
    "start_time": "2025-06-08T10:11:17.693Z"
   },
   {
    "duration": 124,
    "start_time": "2025-06-08T10:11:22.809Z"
   },
   {
    "duration": 124,
    "start_time": "2025-06-08T10:11:30.592Z"
   },
   {
    "duration": 11,
    "start_time": "2025-06-08T10:11:54.107Z"
   },
   {
    "duration": 19,
    "start_time": "2025-06-08T10:20:31.545Z"
   },
   {
    "duration": 25,
    "start_time": "2025-06-08T10:21:19.681Z"
   },
   {
    "duration": 15,
    "start_time": "2025-06-08T10:21:53.746Z"
   },
   {
    "duration": 6,
    "start_time": "2025-06-08T10:27:42.801Z"
   },
   {
    "duration": 34,
    "start_time": "2025-06-08T10:34:36.792Z"
   },
   {
    "duration": 152,
    "start_time": "2025-06-08T10:46:30.899Z"
   },
   {
    "duration": 177,
    "start_time": "2025-06-08T10:46:37.026Z"
   },
   {
    "duration": 239,
    "start_time": "2025-06-08T10:46:54.882Z"
   },
   {
    "duration": 158,
    "start_time": "2025-06-08T10:46:55.332Z"
   },
   {
    "duration": 240,
    "start_time": "2025-06-08T10:50:35.412Z"
   },
   {
    "duration": 167,
    "start_time": "2025-06-08T10:50:40.736Z"
   },
   {
    "duration": 264,
    "start_time": "2025-06-08T10:50:50.653Z"
   },
   {
    "duration": 241,
    "start_time": "2025-06-08T10:51:22.982Z"
   },
   {
    "duration": 261,
    "start_time": "2025-06-08T10:51:35.514Z"
   },
   {
    "duration": 151,
    "start_time": "2025-06-08T10:53:56.798Z"
   },
   {
    "duration": 161,
    "start_time": "2025-06-08T10:54:06.916Z"
   },
   {
    "duration": 244,
    "start_time": "2025-06-08T10:54:23.111Z"
   },
   {
    "duration": 171,
    "start_time": "2025-06-08T10:54:32.569Z"
   },
   {
    "duration": 149,
    "start_time": "2025-06-08T10:55:09.531Z"
   },
   {
    "duration": 276,
    "start_time": "2025-06-08T10:55:33.546Z"
   },
   {
    "duration": 203,
    "start_time": "2025-06-08T10:55:35.735Z"
   },
   {
    "duration": 272,
    "start_time": "2025-06-08T10:56:42.409Z"
   },
   {
    "duration": 12,
    "start_time": "2025-06-08T10:58:24.612Z"
   },
   {
    "duration": 300,
    "start_time": "2025-06-08T10:58:39.950Z"
   },
   {
    "duration": 6,
    "start_time": "2025-06-08T10:59:15.192Z"
   },
   {
    "duration": 298,
    "start_time": "2025-06-08T10:59:21.260Z"
   },
   {
    "duration": 89,
    "start_time": "2025-06-08T11:01:22.932Z"
   },
   {
    "duration": 246,
    "start_time": "2025-06-08T11:01:38.700Z"
   },
   {
    "duration": 248,
    "start_time": "2025-06-08T11:02:40.915Z"
   },
   {
    "duration": 2896,
    "start_time": "2025-06-08T11:04:36.346Z"
   },
   {
    "duration": 2735,
    "start_time": "2025-06-08T11:04:39.245Z"
   },
   {
    "duration": 14,
    "start_time": "2025-06-08T11:04:41.986Z"
   },
   {
    "duration": 13,
    "start_time": "2025-06-08T11:04:42.002Z"
   },
   {
    "duration": 26,
    "start_time": "2025-06-08T11:04:42.017Z"
   },
   {
    "duration": 164,
    "start_time": "2025-06-08T11:04:42.045Z"
   },
   {
    "duration": 9,
    "start_time": "2025-06-08T11:04:42.211Z"
   },
   {
    "duration": 73,
    "start_time": "2025-06-08T11:04:42.222Z"
   },
   {
    "duration": 7,
    "start_time": "2025-06-08T11:04:42.297Z"
   },
   {
    "duration": 75,
    "start_time": "2025-06-08T11:04:42.306Z"
   },
   {
    "duration": 10,
    "start_time": "2025-06-08T11:04:42.383Z"
   },
   {
    "duration": 29,
    "start_time": "2025-06-08T11:04:42.395Z"
   },
   {
    "duration": 15,
    "start_time": "2025-06-08T11:04:42.426Z"
   },
   {
    "duration": 10,
    "start_time": "2025-06-08T11:04:42.460Z"
   },
   {
    "duration": 312,
    "start_time": "2025-06-08T11:04:42.476Z"
   },
   {
    "duration": 98,
    "start_time": "2025-06-08T11:04:42.790Z"
   },
   {
    "duration": 45,
    "start_time": "2025-06-08T11:04:42.890Z"
   },
   {
    "duration": 56,
    "start_time": "2025-06-08T11:04:42.937Z"
   },
   {
    "duration": 106,
    "start_time": "2025-06-08T11:04:42.996Z"
   },
   {
    "duration": 6,
    "start_time": "2025-06-08T11:04:43.104Z"
   },
   {
    "duration": 9,
    "start_time": "2025-06-08T11:04:43.112Z"
   },
   {
    "duration": 113,
    "start_time": "2025-06-08T11:04:43.123Z"
   },
   {
    "duration": 102,
    "start_time": "2025-06-08T11:04:43.238Z"
   },
   {
    "duration": 3896,
    "start_time": "2025-06-08T11:04:43.341Z"
   },
   {
    "duration": 59,
    "start_time": "2025-06-08T11:04:47.240Z"
   },
   {
    "duration": 39,
    "start_time": "2025-06-08T11:04:47.301Z"
   },
   {
    "duration": 189,
    "start_time": "2025-06-08T11:04:47.342Z"
   },
   {
    "duration": 33,
    "start_time": "2025-06-08T11:04:47.534Z"
   },
   {
    "duration": 23,
    "start_time": "2025-06-08T11:04:47.570Z"
   },
   {
    "duration": 25,
    "start_time": "2025-06-08T11:04:47.595Z"
   },
   {
    "duration": 49,
    "start_time": "2025-06-08T11:04:47.622Z"
   },
   {
    "duration": 57,
    "start_time": "2025-06-08T11:04:47.676Z"
   },
   {
    "duration": 246,
    "start_time": "2025-06-08T11:04:47.735Z"
   },
   {
    "duration": 143,
    "start_time": "2025-06-08T11:04:47.983Z"
   },
   {
    "duration": 284,
    "start_time": "2025-06-08T11:04:48.127Z"
   },
   {
    "duration": 6,
    "start_time": "2025-06-08T11:04:48.413Z"
   },
   {
    "duration": 61,
    "start_time": "2025-06-08T11:04:48.420Z"
   },
   {
    "duration": 202,
    "start_time": "2025-06-08T11:04:48.488Z"
   },
   {
    "duration": 111,
    "start_time": "2025-06-08T11:04:48.692Z"
   },
   {
    "duration": 107,
    "start_time": "2025-06-08T11:04:48.805Z"
   },
   {
    "duration": 205,
    "start_time": "2025-06-08T11:04:48.917Z"
   },
   {
    "duration": 69,
    "start_time": "2025-06-08T11:04:49.124Z"
   },
   {
    "duration": 98,
    "start_time": "2025-06-08T11:04:49.195Z"
   },
   {
    "duration": 127,
    "start_time": "2025-06-08T11:04:49.295Z"
   },
   {
    "duration": 1786,
    "start_time": "2025-06-08T11:04:49.424Z"
   },
   {
    "duration": 199,
    "start_time": "2025-06-08T11:04:51.212Z"
   },
   {
    "duration": 9,
    "start_time": "2025-06-08T11:04:51.413Z"
   },
   {
    "duration": 554,
    "start_time": "2025-06-08T11:04:51.424Z"
   },
   {
    "duration": 297,
    "start_time": "2025-06-08T11:04:51.981Z"
   },
   {
    "duration": 160,
    "start_time": "2025-06-08T11:04:52.282Z"
   },
   {
    "duration": 40,
    "start_time": "2025-06-08T11:04:52.444Z"
   },
   {
    "duration": 28,
    "start_time": "2025-06-08T11:04:52.486Z"
   },
   {
    "duration": 284,
    "start_time": "2025-06-08T11:05:36.957Z"
   },
   {
    "duration": 292,
    "start_time": "2025-06-08T11:06:15.882Z"
   },
   {
    "duration": 285,
    "start_time": "2025-06-08T11:08:55.293Z"
   },
   {
    "duration": 345,
    "start_time": "2025-06-08T11:09:07.150Z"
   },
   {
    "duration": 304,
    "start_time": "2025-06-08T11:09:14.097Z"
   },
   {
    "duration": 160,
    "start_time": "2025-06-08T11:09:14.403Z"
   },
   {
    "duration": 299,
    "start_time": "2025-06-08T11:12:23.083Z"
   },
   {
    "duration": 2991,
    "start_time": "2025-06-08T11:13:31.824Z"
   },
   {
    "duration": 2831,
    "start_time": "2025-06-08T11:13:34.817Z"
   },
   {
    "duration": 25,
    "start_time": "2025-06-08T11:13:37.650Z"
   },
   {
    "duration": 16,
    "start_time": "2025-06-08T11:13:37.685Z"
   },
   {
    "duration": 26,
    "start_time": "2025-06-08T11:13:37.703Z"
   },
   {
    "duration": 166,
    "start_time": "2025-06-08T11:13:37.731Z"
   },
   {
    "duration": 10,
    "start_time": "2025-06-08T11:13:37.898Z"
   },
   {
    "duration": 67,
    "start_time": "2025-06-08T11:13:37.910Z"
   },
   {
    "duration": 43,
    "start_time": "2025-06-08T11:13:37.979Z"
   },
   {
    "duration": 22,
    "start_time": "2025-06-08T11:13:38.026Z"
   },
   {
    "duration": 9,
    "start_time": "2025-06-08T11:13:38.050Z"
   },
   {
    "duration": 114,
    "start_time": "2025-06-08T11:13:38.060Z"
   },
   {
    "duration": 21,
    "start_time": "2025-06-08T11:13:38.179Z"
   },
   {
    "duration": 4,
    "start_time": "2025-06-08T11:13:38.202Z"
   },
   {
    "duration": 312,
    "start_time": "2025-06-08T11:13:38.207Z"
   },
   {
    "duration": 106,
    "start_time": "2025-06-08T11:13:38.521Z"
   },
   {
    "duration": 70,
    "start_time": "2025-06-08T11:13:38.629Z"
   },
   {
    "duration": 32,
    "start_time": "2025-06-08T11:13:38.701Z"
   },
   {
    "duration": 143,
    "start_time": "2025-06-08T11:13:38.735Z"
   },
   {
    "duration": 16,
    "start_time": "2025-06-08T11:13:38.880Z"
   },
   {
    "duration": 11,
    "start_time": "2025-06-08T11:13:38.898Z"
   },
   {
    "duration": 111,
    "start_time": "2025-06-08T11:13:38.911Z"
   },
   {
    "duration": 119,
    "start_time": "2025-06-08T11:13:39.024Z"
   },
   {
    "duration": 4289,
    "start_time": "2025-06-08T11:13:39.145Z"
   },
   {
    "duration": 66,
    "start_time": "2025-06-08T11:13:43.437Z"
   },
   {
    "duration": 41,
    "start_time": "2025-06-08T11:13:43.505Z"
   },
   {
    "duration": 184,
    "start_time": "2025-06-08T11:13:43.548Z"
   },
   {
    "duration": 13,
    "start_time": "2025-06-08T11:13:43.735Z"
   },
   {
    "duration": 27,
    "start_time": "2025-06-08T11:13:43.763Z"
   },
   {
    "duration": 37,
    "start_time": "2025-06-08T11:13:43.793Z"
   },
   {
    "duration": 44,
    "start_time": "2025-06-08T11:13:43.831Z"
   },
   {
    "duration": 53,
    "start_time": "2025-06-08T11:13:43.880Z"
   },
   {
    "duration": 258,
    "start_time": "2025-06-08T11:13:43.935Z"
   },
   {
    "duration": 161,
    "start_time": "2025-06-08T11:13:44.195Z"
   },
   {
    "duration": 286,
    "start_time": "2025-06-08T11:13:44.359Z"
   },
   {
    "duration": 20,
    "start_time": "2025-06-08T11:13:44.647Z"
   },
   {
    "duration": 50,
    "start_time": "2025-06-08T11:13:44.672Z"
   },
   {
    "duration": 214,
    "start_time": "2025-06-08T11:13:44.725Z"
   },
   {
    "duration": 142,
    "start_time": "2025-06-08T11:13:44.942Z"
   },
   {
    "duration": 120,
    "start_time": "2025-06-08T11:13:45.086Z"
   },
   {
    "duration": 200,
    "start_time": "2025-06-08T11:13:45.207Z"
   },
   {
    "duration": 67,
    "start_time": "2025-06-08T11:13:45.408Z"
   },
   {
    "duration": 113,
    "start_time": "2025-06-08T11:13:45.482Z"
   },
   {
    "duration": 140,
    "start_time": "2025-06-08T11:13:45.597Z"
   },
   {
    "duration": 1893,
    "start_time": "2025-06-08T11:13:45.740Z"
   },
   {
    "duration": 217,
    "start_time": "2025-06-08T11:13:47.635Z"
   },
   {
    "duration": 39,
    "start_time": "2025-06-08T11:13:47.853Z"
   },
   {
    "duration": 503,
    "start_time": "2025-06-08T11:13:47.893Z"
   },
   {
    "duration": 288,
    "start_time": "2025-06-08T11:13:48.398Z"
   },
   {
    "duration": 161,
    "start_time": "2025-06-08T11:13:48.690Z"
   },
   {
    "duration": 19,
    "start_time": "2025-06-08T11:13:48.853Z"
   },
   {
    "duration": 34,
    "start_time": "2025-06-08T11:13:48.876Z"
   },
   {
    "duration": 2864,
    "start_time": "2025-06-08T11:21:29.984Z"
   },
   {
    "duration": 2772,
    "start_time": "2025-06-08T11:21:32.851Z"
   },
   {
    "duration": 14,
    "start_time": "2025-06-08T11:21:35.624Z"
   },
   {
    "duration": 26,
    "start_time": "2025-06-08T11:21:35.641Z"
   },
   {
    "duration": 31,
    "start_time": "2025-06-08T11:21:35.669Z"
   },
   {
    "duration": 156,
    "start_time": "2025-06-08T11:21:35.701Z"
   },
   {
    "duration": 23,
    "start_time": "2025-06-08T11:21:35.859Z"
   },
   {
    "duration": 45,
    "start_time": "2025-06-08T11:21:35.887Z"
   },
   {
    "duration": 8,
    "start_time": "2025-06-08T11:21:35.934Z"
   },
   {
    "duration": 47,
    "start_time": "2025-06-08T11:21:35.945Z"
   },
   {
    "duration": 9,
    "start_time": "2025-06-08T11:21:35.994Z"
   },
   {
    "duration": 68,
    "start_time": "2025-06-08T11:21:36.005Z"
   },
   {
    "duration": 27,
    "start_time": "2025-06-08T11:21:36.074Z"
   },
   {
    "duration": 68,
    "start_time": "2025-06-08T11:21:36.103Z"
   },
   {
    "duration": 317,
    "start_time": "2025-06-08T11:21:36.174Z"
   },
   {
    "duration": 97,
    "start_time": "2025-06-08T11:21:36.493Z"
   },
   {
    "duration": 44,
    "start_time": "2025-06-08T11:21:36.592Z"
   },
   {
    "duration": 57,
    "start_time": "2025-06-08T11:21:36.638Z"
   },
   {
    "duration": 170,
    "start_time": "2025-06-08T11:21:36.697Z"
   },
   {
    "duration": 15,
    "start_time": "2025-06-08T11:21:36.870Z"
   },
   {
    "duration": 9,
    "start_time": "2025-06-08T11:21:36.889Z"
   },
   {
    "duration": 102,
    "start_time": "2025-06-08T11:21:36.900Z"
   },
   {
    "duration": 105,
    "start_time": "2025-06-08T11:21:37.004Z"
   },
   {
    "duration": 4111,
    "start_time": "2025-06-08T11:21:37.110Z"
   },
   {
    "duration": 60,
    "start_time": "2025-06-08T11:21:41.223Z"
   },
   {
    "duration": 40,
    "start_time": "2025-06-08T11:21:41.288Z"
   },
   {
    "duration": 172,
    "start_time": "2025-06-08T11:21:41.330Z"
   },
   {
    "duration": 14,
    "start_time": "2025-06-08T11:21:41.505Z"
   },
   {
    "duration": 13,
    "start_time": "2025-06-08T11:21:41.521Z"
   },
   {
    "duration": 58,
    "start_time": "2025-06-08T11:21:41.536Z"
   },
   {
    "duration": 22,
    "start_time": "2025-06-08T11:21:41.596Z"
   },
   {
    "duration": 80,
    "start_time": "2025-06-08T11:21:41.620Z"
   },
   {
    "duration": 220,
    "start_time": "2025-06-08T11:21:41.702Z"
   },
   {
    "duration": 144,
    "start_time": "2025-06-08T11:21:41.924Z"
   },
   {
    "duration": 309,
    "start_time": "2025-06-08T11:21:42.073Z"
   },
   {
    "duration": 7,
    "start_time": "2025-06-08T11:21:42.387Z"
   },
   {
    "duration": 40,
    "start_time": "2025-06-08T11:21:42.395Z"
   },
   {
    "duration": 198,
    "start_time": "2025-06-08T11:21:42.437Z"
   },
   {
    "duration": 112,
    "start_time": "2025-06-08T11:21:42.637Z"
   },
   {
    "duration": 137,
    "start_time": "2025-06-08T11:21:42.751Z"
   },
   {
    "duration": 148,
    "start_time": "2025-06-08T11:21:42.890Z"
   },
   {
    "duration": 75,
    "start_time": "2025-06-08T11:21:43.039Z"
   },
   {
    "duration": 115,
    "start_time": "2025-06-08T11:21:43.116Z"
   },
   {
    "duration": 149,
    "start_time": "2025-06-08T11:21:43.232Z"
   },
   {
    "duration": 1824,
    "start_time": "2025-06-08T11:21:43.383Z"
   },
   {
    "duration": 215,
    "start_time": "2025-06-08T11:21:45.210Z"
   },
   {
    "duration": 15,
    "start_time": "2025-06-08T11:21:45.427Z"
   },
   {
    "duration": 630,
    "start_time": "2025-06-08T11:21:45.463Z"
   },
   {
    "duration": 375,
    "start_time": "2025-06-08T11:21:46.095Z"
   },
   {
    "duration": 161,
    "start_time": "2025-06-08T11:21:46.474Z"
   },
   {
    "duration": 31892,
    "start_time": "2025-06-08T11:21:46.638Z"
   },
   {
    "duration": 10,
    "start_time": "2025-06-08T11:22:18.531Z"
   },
   {
    "duration": 59,
    "start_time": "2025-06-08T11:22:18.542Z"
   },
   {
    "duration": 460,
    "start_time": "2025-06-08T11:23:06.464Z"
   },
   {
    "duration": 433,
    "start_time": "2025-06-08T11:23:44.745Z"
   },
   {
    "duration": 837,
    "start_time": "2025-06-08T11:24:49.514Z"
   },
   {
    "duration": 429,
    "start_time": "2025-06-08T11:25:25.101Z"
   },
   {
    "duration": 153,
    "start_time": "2025-06-08T11:33:54.729Z"
   },
   {
    "duration": 10,
    "start_time": "2025-06-08T11:34:04.948Z"
   },
   {
    "duration": 16,
    "start_time": "2025-06-08T11:34:16.814Z"
   },
   {
    "duration": 16,
    "start_time": "2025-06-08T11:34:45.601Z"
   },
   {
    "duration": 20,
    "start_time": "2025-06-08T11:35:12.980Z"
   },
   {
    "duration": 401,
    "start_time": "2025-06-08T11:35:46.456Z"
   },
   {
    "duration": 15,
    "start_time": "2025-06-08T11:36:10.896Z"
   },
   {
    "duration": 16,
    "start_time": "2025-06-08T11:36:19.301Z"
   },
   {
    "duration": 145,
    "start_time": "2025-06-08T11:39:04.518Z"
   },
   {
    "duration": 386,
    "start_time": "2025-06-08T11:39:10.066Z"
   },
   {
    "duration": 2692,
    "start_time": "2025-06-08T11:40:20.316Z"
   },
   {
    "duration": 2917,
    "start_time": "2025-06-08T11:40:23.012Z"
   },
   {
    "duration": 14,
    "start_time": "2025-06-08T11:40:25.931Z"
   },
   {
    "duration": 21,
    "start_time": "2025-06-08T11:40:25.947Z"
   },
   {
    "duration": 29,
    "start_time": "2025-06-08T11:40:25.970Z"
   },
   {
    "duration": 181,
    "start_time": "2025-06-08T11:40:26.001Z"
   },
   {
    "duration": 10,
    "start_time": "2025-06-08T11:40:26.184Z"
   },
   {
    "duration": 49,
    "start_time": "2025-06-08T11:40:26.195Z"
   },
   {
    "duration": 22,
    "start_time": "2025-06-08T11:40:26.245Z"
   },
   {
    "duration": 29,
    "start_time": "2025-06-08T11:40:26.269Z"
   },
   {
    "duration": 10,
    "start_time": "2025-06-08T11:40:26.300Z"
   },
   {
    "duration": 49,
    "start_time": "2025-06-08T11:40:26.312Z"
   },
   {
    "duration": 19,
    "start_time": "2025-06-08T11:40:26.363Z"
   },
   {
    "duration": 76,
    "start_time": "2025-06-08T11:40:26.387Z"
   },
   {
    "duration": 287,
    "start_time": "2025-06-08T11:40:26.465Z"
   },
   {
    "duration": 86,
    "start_time": "2025-06-08T11:40:26.762Z"
   },
   {
    "duration": 49,
    "start_time": "2025-06-08T11:40:26.860Z"
   },
   {
    "duration": 50,
    "start_time": "2025-06-08T11:40:26.912Z"
   },
   {
    "duration": 98,
    "start_time": "2025-06-08T11:40:26.964Z"
   },
   {
    "duration": 8,
    "start_time": "2025-06-08T11:40:27.064Z"
   },
   {
    "duration": 31,
    "start_time": "2025-06-08T11:40:27.074Z"
   },
   {
    "duration": 83,
    "start_time": "2025-06-08T11:40:27.107Z"
   },
   {
    "duration": 89,
    "start_time": "2025-06-08T11:40:27.192Z"
   },
   {
    "duration": 3622,
    "start_time": "2025-06-08T11:40:27.283Z"
   },
   {
    "duration": 54,
    "start_time": "2025-06-08T11:40:30.908Z"
   },
   {
    "duration": 63,
    "start_time": "2025-06-08T11:40:30.964Z"
   },
   {
    "duration": 214,
    "start_time": "2025-06-08T11:40:31.029Z"
   },
   {
    "duration": 20,
    "start_time": "2025-06-08T11:40:31.245Z"
   },
   {
    "duration": 21,
    "start_time": "2025-06-08T11:40:31.267Z"
   },
   {
    "duration": 26,
    "start_time": "2025-06-08T11:40:31.290Z"
   },
   {
    "duration": 44,
    "start_time": "2025-06-08T11:40:31.318Z"
   },
   {
    "duration": 50,
    "start_time": "2025-06-08T11:40:31.364Z"
   },
   {
    "duration": 247,
    "start_time": "2025-06-08T11:40:31.416Z"
   },
   {
    "duration": 142,
    "start_time": "2025-06-08T11:40:31.665Z"
   },
   {
    "duration": 271,
    "start_time": "2025-06-08T11:40:31.809Z"
   },
   {
    "duration": 7,
    "start_time": "2025-06-08T11:40:32.082Z"
   },
   {
    "duration": 43,
    "start_time": "2025-06-08T11:40:32.090Z"
   },
   {
    "duration": 206,
    "start_time": "2025-06-08T11:40:32.135Z"
   },
   {
    "duration": 105,
    "start_time": "2025-06-08T11:40:32.343Z"
   },
   {
    "duration": 112,
    "start_time": "2025-06-08T11:40:32.450Z"
   },
   {
    "duration": 150,
    "start_time": "2025-06-08T11:40:32.566Z"
   },
   {
    "duration": 65,
    "start_time": "2025-06-08T11:40:32.718Z"
   },
   {
    "duration": 165,
    "start_time": "2025-06-08T11:40:32.785Z"
   },
   {
    "duration": 125,
    "start_time": "2025-06-08T11:40:32.952Z"
   },
   {
    "duration": 1682,
    "start_time": "2025-06-08T11:40:33.080Z"
   },
   {
    "duration": 177,
    "start_time": "2025-06-08T11:40:34.763Z"
   },
   {
    "duration": 26,
    "start_time": "2025-06-08T11:40:34.942Z"
   },
   {
    "duration": 507,
    "start_time": "2025-06-08T11:40:34.971Z"
   },
   {
    "duration": 324,
    "start_time": "2025-06-08T11:40:35.480Z"
   },
   {
    "duration": 193,
    "start_time": "2025-06-08T11:40:35.806Z"
   },
   {
    "duration": 511,
    "start_time": "2025-06-08T11:40:36.001Z"
   },
   {
    "duration": 16,
    "start_time": "2025-06-08T11:40:36.514Z"
   },
   {
    "duration": 30,
    "start_time": "2025-06-08T11:40:36.532Z"
   },
   {
    "duration": 36,
    "start_time": "2025-06-08T11:40:36.564Z"
   },
   {
    "duration": 7,
    "start_time": "2025-06-08T12:01:44.142Z"
   },
   {
    "duration": 2681,
    "start_time": "2025-06-08T12:03:16.303Z"
   },
   {
    "duration": 2559,
    "start_time": "2025-06-08T12:03:18.987Z"
   },
   {
    "duration": 19,
    "start_time": "2025-06-08T12:03:21.548Z"
   },
   {
    "duration": 14,
    "start_time": "2025-06-08T12:03:21.569Z"
   },
   {
    "duration": 32,
    "start_time": "2025-06-08T12:03:21.585Z"
   },
   {
    "duration": 129,
    "start_time": "2025-06-08T12:03:21.619Z"
   },
   {
    "duration": 18,
    "start_time": "2025-06-08T12:03:21.750Z"
   },
   {
    "duration": 49,
    "start_time": "2025-06-08T12:03:21.770Z"
   },
   {
    "duration": 8,
    "start_time": "2025-06-08T12:03:21.821Z"
   },
   {
    "duration": 46,
    "start_time": "2025-06-08T12:03:21.832Z"
   },
   {
    "duration": 9,
    "start_time": "2025-06-08T12:03:21.880Z"
   },
   {
    "duration": 27,
    "start_time": "2025-06-08T12:03:21.891Z"
   },
   {
    "duration": 42,
    "start_time": "2025-06-08T12:03:21.920Z"
   },
   {
    "duration": 3,
    "start_time": "2025-06-08T12:03:21.964Z"
   },
   {
    "duration": 293,
    "start_time": "2025-06-08T12:03:21.969Z"
   },
   {
    "duration": 98,
    "start_time": "2025-06-08T12:03:22.264Z"
   },
   {
    "duration": 46,
    "start_time": "2025-06-08T12:03:22.363Z"
   },
   {
    "duration": 49,
    "start_time": "2025-06-08T12:03:22.411Z"
   },
   {
    "duration": 146,
    "start_time": "2025-06-08T12:03:22.462Z"
   },
   {
    "duration": 7,
    "start_time": "2025-06-08T12:03:22.610Z"
   },
   {
    "duration": 16,
    "start_time": "2025-06-08T12:03:22.619Z"
   },
   {
    "duration": 93,
    "start_time": "2025-06-08T12:03:22.637Z"
   },
   {
    "duration": 84,
    "start_time": "2025-06-08T12:03:22.732Z"
   },
   {
    "duration": 3699,
    "start_time": "2025-06-08T12:03:22.818Z"
   },
   {
    "duration": 47,
    "start_time": "2025-06-08T12:03:26.520Z"
   },
   {
    "duration": 41,
    "start_time": "2025-06-08T12:03:26.570Z"
   },
   {
    "duration": 172,
    "start_time": "2025-06-08T12:03:26.613Z"
   },
   {
    "duration": 15,
    "start_time": "2025-06-08T12:03:26.790Z"
   },
   {
    "duration": 14,
    "start_time": "2025-06-08T12:03:26.807Z"
   },
   {
    "duration": 127,
    "start_time": "2025-06-08T12:03:26.824Z"
   },
   {
    "duration": 22,
    "start_time": "2025-06-08T12:03:26.953Z"
   },
   {
    "duration": 54,
    "start_time": "2025-06-08T12:03:26.978Z"
   },
   {
    "duration": 236,
    "start_time": "2025-06-08T12:03:27.034Z"
   },
   {
    "duration": 143,
    "start_time": "2025-06-08T12:03:27.273Z"
   },
   {
    "duration": 271,
    "start_time": "2025-06-08T12:03:27.418Z"
   },
   {
    "duration": 6,
    "start_time": "2025-06-08T12:03:27.691Z"
   },
   {
    "duration": 62,
    "start_time": "2025-06-08T12:03:27.699Z"
   },
   {
    "duration": 182,
    "start_time": "2025-06-08T12:03:27.763Z"
   },
   {
    "duration": 116,
    "start_time": "2025-06-08T12:03:27.947Z"
   },
   {
    "duration": 101,
    "start_time": "2025-06-08T12:03:28.065Z"
   },
   {
    "duration": 154,
    "start_time": "2025-06-08T12:03:28.168Z"
   },
   {
    "duration": 64,
    "start_time": "2025-06-08T12:03:28.324Z"
   },
   {
    "duration": 98,
    "start_time": "2025-06-08T12:03:28.390Z"
   },
   {
    "duration": 122,
    "start_time": "2025-06-08T12:03:28.490Z"
   },
   {
    "duration": 1709,
    "start_time": "2025-06-08T12:03:28.615Z"
   },
   {
    "duration": 221,
    "start_time": "2025-06-08T12:03:30.326Z"
   },
   {
    "duration": 13,
    "start_time": "2025-06-08T12:03:30.561Z"
   },
   {
    "duration": 559,
    "start_time": "2025-06-08T12:03:30.576Z"
   },
   {
    "duration": 283,
    "start_time": "2025-06-08T12:03:31.137Z"
   },
   {
    "duration": 220,
    "start_time": "2025-06-08T12:03:31.422Z"
   },
   {
    "duration": 529,
    "start_time": "2025-06-08T12:03:31.643Z"
   },
   {
    "duration": 15,
    "start_time": "2025-06-08T12:03:32.174Z"
   },
   {
    "duration": 86,
    "start_time": "2025-06-08T12:03:32.190Z"
   },
   {
    "duration": 32,
    "start_time": "2025-06-08T12:03:32.277Z"
   },
   {
    "duration": 51,
    "start_time": "2025-06-08T12:03:32.311Z"
   },
   {
    "duration": 134,
    "start_time": "2025-06-08T12:04:39.388Z"
   },
   {
    "duration": 26,
    "start_time": "2025-06-08T12:04:50.426Z"
   },
   {
    "duration": 39,
    "start_time": "2025-06-08T12:05:17.867Z"
   },
   {
    "duration": 13,
    "start_time": "2025-06-08T12:15:20.431Z"
   },
   {
    "duration": 15,
    "start_time": "2025-06-08T12:15:29.714Z"
   },
   {
    "duration": 4,
    "start_time": "2025-06-08T12:16:19.189Z"
   },
   {
    "duration": 70,
    "start_time": "2025-06-08T12:16:29.081Z"
   },
   {
    "duration": 39,
    "start_time": "2025-06-08T12:17:54.003Z"
   },
   {
    "duration": 45,
    "start_time": "2025-06-08T12:18:26.846Z"
   },
   {
    "duration": 60,
    "start_time": "2025-06-08T12:21:46.344Z"
   },
   {
    "duration": 3059,
    "start_time": "2025-06-08T12:29:24.741Z"
   },
   {
    "duration": 2601,
    "start_time": "2025-06-08T12:29:27.802Z"
   },
   {
    "duration": 13,
    "start_time": "2025-06-08T12:29:30.405Z"
   },
   {
    "duration": 18,
    "start_time": "2025-06-08T12:29:30.420Z"
   },
   {
    "duration": 37,
    "start_time": "2025-06-08T12:29:30.439Z"
   },
   {
    "duration": 113,
    "start_time": "2025-06-08T12:29:30.478Z"
   },
   {
    "duration": 9,
    "start_time": "2025-06-08T12:29:30.593Z"
   },
   {
    "duration": 46,
    "start_time": "2025-06-08T12:29:30.604Z"
   },
   {
    "duration": 8,
    "start_time": "2025-06-08T12:29:30.661Z"
   },
   {
    "duration": 30,
    "start_time": "2025-06-08T12:29:30.672Z"
   },
   {
    "duration": 9,
    "start_time": "2025-06-08T12:29:30.704Z"
   },
   {
    "duration": 49,
    "start_time": "2025-06-08T12:29:30.715Z"
   },
   {
    "duration": 27,
    "start_time": "2025-06-08T12:29:30.766Z"
   },
   {
    "duration": 3,
    "start_time": "2025-06-08T12:29:30.795Z"
   },
   {
    "duration": 283,
    "start_time": "2025-06-08T12:29:30.800Z"
   },
   {
    "duration": 92,
    "start_time": "2025-06-08T12:29:31.085Z"
   },
   {
    "duration": 44,
    "start_time": "2025-06-08T12:29:31.178Z"
   },
   {
    "duration": 46,
    "start_time": "2025-06-08T12:29:31.224Z"
   },
   {
    "duration": 94,
    "start_time": "2025-06-08T12:29:31.272Z"
   },
   {
    "duration": 6,
    "start_time": "2025-06-08T12:29:31.368Z"
   },
   {
    "duration": 8,
    "start_time": "2025-06-08T12:29:31.376Z"
   },
   {
    "duration": 98,
    "start_time": "2025-06-08T12:29:31.386Z"
   },
   {
    "duration": 94,
    "start_time": "2025-06-08T12:29:31.486Z"
   },
   {
    "duration": 3531,
    "start_time": "2025-06-08T12:29:31.582Z"
   },
   {
    "duration": 47,
    "start_time": "2025-06-08T12:29:35.115Z"
   },
   {
    "duration": 41,
    "start_time": "2025-06-08T12:29:35.164Z"
   },
   {
    "duration": 163,
    "start_time": "2025-06-08T12:29:35.207Z"
   },
   {
    "duration": 13,
    "start_time": "2025-06-08T12:29:35.374Z"
   },
   {
    "duration": 13,
    "start_time": "2025-06-08T12:29:35.389Z"
   },
   {
    "duration": 33,
    "start_time": "2025-06-08T12:29:35.404Z"
   },
   {
    "duration": 42,
    "start_time": "2025-06-08T12:29:35.439Z"
   },
   {
    "duration": 49,
    "start_time": "2025-06-08T12:29:35.483Z"
   },
   {
    "duration": 234,
    "start_time": "2025-06-08T12:29:35.534Z"
   },
   {
    "duration": 150,
    "start_time": "2025-06-08T12:29:35.771Z"
   },
   {
    "duration": 278,
    "start_time": "2025-06-08T12:29:35.923Z"
   },
   {
    "duration": 7,
    "start_time": "2025-06-08T12:29:36.203Z"
   },
   {
    "duration": 153,
    "start_time": "2025-06-08T12:29:36.213Z"
   },
   {
    "duration": 185,
    "start_time": "2025-06-08T12:29:36.368Z"
   },
   {
    "duration": 111,
    "start_time": "2025-06-08T12:29:36.561Z"
   },
   {
    "duration": 107,
    "start_time": "2025-06-08T12:29:36.674Z"
   },
   {
    "duration": 155,
    "start_time": "2025-06-08T12:29:36.784Z"
   },
   {
    "duration": 66,
    "start_time": "2025-06-08T12:29:36.941Z"
   },
   {
    "duration": 104,
    "start_time": "2025-06-08T12:29:37.009Z"
   },
   {
    "duration": 117,
    "start_time": "2025-06-08T12:29:37.115Z"
   },
   {
    "duration": 1591,
    "start_time": "2025-06-08T12:29:37.233Z"
   },
   {
    "duration": 198,
    "start_time": "2025-06-08T12:29:38.825Z"
   },
   {
    "duration": 12,
    "start_time": "2025-06-08T12:29:39.025Z"
   },
   {
    "duration": 482,
    "start_time": "2025-06-08T12:29:39.060Z"
   },
   {
    "duration": 279,
    "start_time": "2025-06-08T12:29:39.543Z"
   },
   {
    "duration": 160,
    "start_time": "2025-06-08T12:29:39.824Z"
   },
   {
    "duration": 488,
    "start_time": "2025-06-08T12:29:39.985Z"
   },
   {
    "duration": 14,
    "start_time": "2025-06-08T12:29:40.475Z"
   },
   {
    "duration": 97,
    "start_time": "2025-06-08T12:29:40.491Z"
   },
   {
    "duration": 24,
    "start_time": "2025-06-08T12:29:40.591Z"
   },
   {
    "duration": 23,
    "start_time": "2025-06-08T12:29:40.617Z"
   },
   {
    "duration": 32,
    "start_time": "2025-06-08T12:29:40.642Z"
   },
   {
    "duration": 63,
    "start_time": "2025-06-08T12:29:40.675Z"
   },
   {
    "duration": 2675,
    "start_time": "2025-06-08T12:59:06.377Z"
   },
   {
    "duration": 2593,
    "start_time": "2025-06-08T12:59:09.054Z"
   },
   {
    "duration": 14,
    "start_time": "2025-06-08T12:59:11.649Z"
   },
   {
    "duration": 13,
    "start_time": "2025-06-08T12:59:11.664Z"
   },
   {
    "duration": 26,
    "start_time": "2025-06-08T12:59:11.679Z"
   },
   {
    "duration": 130,
    "start_time": "2025-06-08T12:59:11.706Z"
   },
   {
    "duration": 9,
    "start_time": "2025-06-08T12:59:11.838Z"
   },
   {
    "duration": 46,
    "start_time": "2025-06-08T12:59:11.861Z"
   },
   {
    "duration": 9,
    "start_time": "2025-06-08T12:59:11.909Z"
   },
   {
    "duration": 45,
    "start_time": "2025-06-08T12:59:11.920Z"
   },
   {
    "duration": 10,
    "start_time": "2025-06-08T12:59:11.966Z"
   },
   {
    "duration": 36,
    "start_time": "2025-06-08T12:59:11.978Z"
   },
   {
    "duration": 19,
    "start_time": "2025-06-08T12:59:12.016Z"
   },
   {
    "duration": 4,
    "start_time": "2025-06-08T12:59:12.037Z"
   },
   {
    "duration": 299,
    "start_time": "2025-06-08T12:59:12.043Z"
   },
   {
    "duration": 96,
    "start_time": "2025-06-08T12:59:12.343Z"
   },
   {
    "duration": 53,
    "start_time": "2025-06-08T12:59:12.441Z"
   },
   {
    "duration": 54,
    "start_time": "2025-06-08T12:59:12.496Z"
   },
   {
    "duration": 109,
    "start_time": "2025-06-08T12:59:12.562Z"
   },
   {
    "duration": 7,
    "start_time": "2025-06-08T12:59:12.672Z"
   },
   {
    "duration": 9,
    "start_time": "2025-06-08T12:59:12.680Z"
   },
   {
    "duration": 102,
    "start_time": "2025-06-08T12:59:12.691Z"
   },
   {
    "duration": 87,
    "start_time": "2025-06-08T12:59:12.795Z"
   },
   {
    "duration": 3634,
    "start_time": "2025-06-08T12:59:12.883Z"
   },
   {
    "duration": 47,
    "start_time": "2025-06-08T12:59:16.519Z"
   },
   {
    "duration": 40,
    "start_time": "2025-06-08T12:59:16.567Z"
   },
   {
    "duration": 213,
    "start_time": "2025-06-08T12:59:16.609Z"
   },
   {
    "duration": 13,
    "start_time": "2025-06-08T12:59:16.827Z"
   },
   {
    "duration": 31,
    "start_time": "2025-06-08T12:59:16.841Z"
   },
   {
    "duration": 28,
    "start_time": "2025-06-08T12:59:16.873Z"
   },
   {
    "duration": 24,
    "start_time": "2025-06-08T12:59:16.902Z"
   },
   {
    "duration": 74,
    "start_time": "2025-06-08T12:59:16.928Z"
   },
   {
    "duration": 234,
    "start_time": "2025-06-08T12:59:17.004Z"
   },
   {
    "duration": 142,
    "start_time": "2025-06-08T12:59:17.240Z"
   },
   {
    "duration": 257,
    "start_time": "2025-06-08T12:59:17.384Z"
   },
   {
    "duration": 19,
    "start_time": "2025-06-08T12:59:17.643Z"
   },
   {
    "duration": 41,
    "start_time": "2025-06-08T12:59:17.664Z"
   },
   {
    "duration": 188,
    "start_time": "2025-06-08T12:59:17.707Z"
   },
   {
    "duration": 117,
    "start_time": "2025-06-08T12:59:17.897Z"
   },
   {
    "duration": 95,
    "start_time": "2025-06-08T12:59:18.016Z"
   },
   {
    "duration": 164,
    "start_time": "2025-06-08T12:59:18.113Z"
   },
   {
    "duration": 48,
    "start_time": "2025-06-08T12:59:18.279Z"
   },
   {
    "duration": 146,
    "start_time": "2025-06-08T12:59:18.329Z"
   },
   {
    "duration": 118,
    "start_time": "2025-06-08T12:59:18.477Z"
   },
   {
    "duration": 1675,
    "start_time": "2025-06-08T12:59:18.597Z"
   },
   {
    "duration": 204,
    "start_time": "2025-06-08T12:59:20.274Z"
   },
   {
    "duration": 11,
    "start_time": "2025-06-08T12:59:20.480Z"
   },
   {
    "duration": 582,
    "start_time": "2025-06-08T12:59:20.492Z"
   },
   {
    "duration": 294,
    "start_time": "2025-06-08T12:59:21.076Z"
   },
   {
    "duration": 168,
    "start_time": "2025-06-08T12:59:21.372Z"
   },
   {
    "duration": 518,
    "start_time": "2025-06-08T12:59:21.542Z"
   },
   {
    "duration": 15,
    "start_time": "2025-06-08T12:59:22.062Z"
   },
   {
    "duration": 9,
    "start_time": "2025-06-08T12:59:22.079Z"
   },
   {
    "duration": 26,
    "start_time": "2025-06-08T12:59:22.090Z"
   },
   {
    "duration": 60,
    "start_time": "2025-06-08T12:59:22.118Z"
   },
   {
    "duration": 24,
    "start_time": "2025-06-08T12:59:22.180Z"
   },
   {
    "duration": 111,
    "start_time": "2025-06-08T13:11:40.815Z"
   },
   {
    "duration": 15,
    "start_time": "2025-06-08T13:12:46.995Z"
   },
   {
    "duration": 17,
    "start_time": "2025-06-08T13:12:54.795Z"
   },
   {
    "duration": 11,
    "start_time": "2025-06-08T13:13:23.747Z"
   },
   {
    "duration": 21,
    "start_time": "2025-06-08T13:13:33.034Z"
   },
   {
    "duration": 89,
    "start_time": "2025-06-08T13:14:04.892Z"
   },
   {
    "duration": 24,
    "start_time": "2025-06-08T13:17:07.841Z"
   },
   {
    "duration": 23,
    "start_time": "2025-06-08T13:17:20.797Z"
   },
   {
    "duration": 28,
    "start_time": "2025-06-08T13:17:45.477Z"
   },
   {
    "duration": 27,
    "start_time": "2025-06-08T13:22:33.616Z"
   },
   {
    "duration": 174,
    "start_time": "2025-06-08T13:27:34.202Z"
   },
   {
    "duration": 44,
    "start_time": "2025-06-08T13:29:41.752Z"
   },
   {
    "duration": 33,
    "start_time": "2025-06-08T13:29:57.096Z"
   },
   {
    "duration": 38,
    "start_time": "2025-06-08T13:30:04.236Z"
   },
   {
    "duration": 8,
    "start_time": "2025-06-08T13:37:57.663Z"
   },
   {
    "duration": 8,
    "start_time": "2025-06-08T13:38:31.177Z"
   },
   {
    "duration": 8,
    "start_time": "2025-06-08T13:38:43.279Z"
   },
   {
    "duration": 7,
    "start_time": "2025-06-08T13:40:56.889Z"
   },
   {
    "duration": 8,
    "start_time": "2025-06-08T13:41:10.120Z"
   },
   {
    "duration": 2763,
    "start_time": "2025-06-08T13:41:23.797Z"
   },
   {
    "duration": 2540,
    "start_time": "2025-06-08T13:41:26.563Z"
   },
   {
    "duration": 13,
    "start_time": "2025-06-08T13:41:29.105Z"
   },
   {
    "duration": 13,
    "start_time": "2025-06-08T13:41:29.120Z"
   },
   {
    "duration": 47,
    "start_time": "2025-06-08T13:41:29.135Z"
   },
   {
    "duration": 117,
    "start_time": "2025-06-08T13:41:29.184Z"
   },
   {
    "duration": 11,
    "start_time": "2025-06-08T13:41:29.302Z"
   },
   {
    "duration": 58,
    "start_time": "2025-06-08T13:41:29.314Z"
   },
   {
    "duration": 8,
    "start_time": "2025-06-08T13:41:29.373Z"
   },
   {
    "duration": 23,
    "start_time": "2025-06-08T13:41:29.384Z"
   },
   {
    "duration": 10,
    "start_time": "2025-06-08T13:41:29.409Z"
   },
   {
    "duration": 97,
    "start_time": "2025-06-08T13:41:29.421Z"
   },
   {
    "duration": 19,
    "start_time": "2025-06-08T13:41:29.521Z"
   },
   {
    "duration": 5,
    "start_time": "2025-06-08T13:41:29.542Z"
   },
   {
    "duration": 277,
    "start_time": "2025-06-08T13:41:29.549Z"
   },
   {
    "duration": 96,
    "start_time": "2025-06-08T13:41:29.828Z"
   },
   {
    "duration": 60,
    "start_time": "2025-06-08T13:41:29.926Z"
   },
   {
    "duration": 36,
    "start_time": "2025-06-08T13:41:29.988Z"
   },
   {
    "duration": 127,
    "start_time": "2025-06-08T13:41:30.026Z"
   },
   {
    "duration": 11,
    "start_time": "2025-06-08T13:41:30.155Z"
   },
   {
    "duration": 21,
    "start_time": "2025-06-08T13:41:30.168Z"
   },
   {
    "duration": 94,
    "start_time": "2025-06-08T13:41:30.191Z"
   },
   {
    "duration": 91,
    "start_time": "2025-06-08T13:41:30.287Z"
   },
   {
    "duration": 3637,
    "start_time": "2025-06-08T13:41:30.380Z"
   },
   {
    "duration": 47,
    "start_time": "2025-06-08T13:41:34.020Z"
   },
   {
    "duration": 41,
    "start_time": "2025-06-08T13:41:34.069Z"
   },
   {
    "duration": 164,
    "start_time": "2025-06-08T13:41:34.112Z"
   },
   {
    "duration": 15,
    "start_time": "2025-06-08T13:41:34.280Z"
   },
   {
    "duration": 16,
    "start_time": "2025-06-08T13:41:34.297Z"
   },
   {
    "duration": 57,
    "start_time": "2025-06-08T13:41:34.315Z"
   },
   {
    "duration": 40,
    "start_time": "2025-06-08T13:41:34.375Z"
   },
   {
    "duration": 76,
    "start_time": "2025-06-08T13:41:34.417Z"
   },
   {
    "duration": 225,
    "start_time": "2025-06-08T13:41:34.495Z"
   },
   {
    "duration": 161,
    "start_time": "2025-06-08T13:41:34.721Z"
   },
   {
    "duration": 278,
    "start_time": "2025-06-08T13:41:34.884Z"
   },
   {
    "duration": 7,
    "start_time": "2025-06-08T13:41:35.164Z"
   },
   {
    "duration": 42,
    "start_time": "2025-06-08T13:41:35.172Z"
   },
   {
    "duration": 244,
    "start_time": "2025-06-08T13:41:35.216Z"
   },
   {
    "duration": 110,
    "start_time": "2025-06-08T13:41:35.462Z"
   },
   {
    "duration": 117,
    "start_time": "2025-06-08T13:41:35.575Z"
   },
   {
    "duration": 193,
    "start_time": "2025-06-08T13:41:35.694Z"
   },
   {
    "duration": 53,
    "start_time": "2025-06-08T13:41:35.889Z"
   },
   {
    "duration": 126,
    "start_time": "2025-06-08T13:41:35.962Z"
   },
   {
    "duration": 123,
    "start_time": "2025-06-08T13:41:36.090Z"
   },
   {
    "duration": 1702,
    "start_time": "2025-06-08T13:41:36.215Z"
   },
   {
    "duration": 184,
    "start_time": "2025-06-08T13:41:37.919Z"
   },
   {
    "duration": 11,
    "start_time": "2025-06-08T13:41:38.105Z"
   },
   {
    "duration": 526,
    "start_time": "2025-06-08T13:41:38.117Z"
   },
   {
    "duration": 296,
    "start_time": "2025-06-08T13:41:38.645Z"
   },
   {
    "duration": 234,
    "start_time": "2025-06-08T13:41:38.943Z"
   },
   {
    "duration": 537,
    "start_time": "2025-06-08T13:41:39.179Z"
   },
   {
    "duration": 15,
    "start_time": "2025-06-08T13:41:39.718Z"
   },
   {
    "duration": 27,
    "start_time": "2025-06-08T13:41:39.735Z"
   },
   {
    "duration": 32,
    "start_time": "2025-06-08T13:41:39.765Z"
   },
   {
    "duration": 25,
    "start_time": "2025-06-08T13:41:39.798Z"
   },
   {
    "duration": 25,
    "start_time": "2025-06-08T13:41:39.860Z"
   },
   {
    "duration": 26,
    "start_time": "2025-06-08T13:41:39.887Z"
   },
   {
    "duration": 205,
    "start_time": "2025-06-08T13:41:39.915Z"
   },
   {
    "duration": 48,
    "start_time": "2025-06-08T13:41:40.122Z"
   },
   {
    "duration": 403,
    "start_time": "2025-06-08T13:47:55.842Z"
   },
   {
    "duration": 545,
    "start_time": "2025-06-08T13:52:17.874Z"
   },
   {
    "duration": 212,
    "start_time": "2025-06-08T13:54:29.368Z"
   },
   {
    "duration": 258,
    "start_time": "2025-06-08T13:54:57.172Z"
   },
   {
    "duration": 194,
    "start_time": "2025-06-08T13:56:04.513Z"
   },
   {
    "duration": 2709,
    "start_time": "2025-06-08T14:02:18.013Z"
   },
   {
    "duration": 2589,
    "start_time": "2025-06-08T14:02:20.725Z"
   },
   {
    "duration": 13,
    "start_time": "2025-06-08T14:02:23.316Z"
   },
   {
    "duration": 30,
    "start_time": "2025-06-08T14:02:23.331Z"
   },
   {
    "duration": 27,
    "start_time": "2025-06-08T14:02:23.363Z"
   },
   {
    "duration": 118,
    "start_time": "2025-06-08T14:02:23.391Z"
   },
   {
    "duration": 9,
    "start_time": "2025-06-08T14:02:23.511Z"
   },
   {
    "duration": 104,
    "start_time": "2025-06-08T14:02:23.521Z"
   },
   {
    "duration": 8,
    "start_time": "2025-06-08T14:02:23.627Z"
   },
   {
    "duration": 23,
    "start_time": "2025-06-08T14:02:23.636Z"
   },
   {
    "duration": 9,
    "start_time": "2025-06-08T14:02:23.660Z"
   },
   {
    "duration": 30,
    "start_time": "2025-06-08T14:02:23.671Z"
   },
   {
    "duration": 16,
    "start_time": "2025-06-08T14:02:23.703Z"
   },
   {
    "duration": 3,
    "start_time": "2025-06-08T14:02:23.723Z"
   },
   {
    "duration": 303,
    "start_time": "2025-06-08T14:02:23.728Z"
   },
   {
    "duration": 87,
    "start_time": "2025-06-08T14:02:24.033Z"
   },
   {
    "duration": 57,
    "start_time": "2025-06-08T14:02:24.121Z"
   },
   {
    "duration": 31,
    "start_time": "2025-06-08T14:02:24.180Z"
   },
   {
    "duration": 97,
    "start_time": "2025-06-08T14:02:24.213Z"
   },
   {
    "duration": 7,
    "start_time": "2025-06-08T14:02:24.311Z"
   },
   {
    "duration": 10,
    "start_time": "2025-06-08T14:02:24.319Z"
   },
   {
    "duration": 98,
    "start_time": "2025-06-08T14:02:24.331Z"
   },
   {
    "duration": 90,
    "start_time": "2025-06-08T14:02:24.431Z"
   },
   {
    "duration": 3597,
    "start_time": "2025-06-08T14:02:24.524Z"
   },
   {
    "duration": 44,
    "start_time": "2025-06-08T14:02:28.124Z"
   },
   {
    "duration": 39,
    "start_time": "2025-06-08T14:02:28.169Z"
   },
   {
    "duration": 157,
    "start_time": "2025-06-08T14:02:28.210Z"
   },
   {
    "duration": 15,
    "start_time": "2025-06-08T14:02:28.369Z"
   },
   {
    "duration": 15,
    "start_time": "2025-06-08T14:02:28.386Z"
   },
   {
    "duration": 59,
    "start_time": "2025-06-08T14:02:28.403Z"
   },
   {
    "duration": 24,
    "start_time": "2025-06-08T14:02:28.464Z"
   },
   {
    "duration": 62,
    "start_time": "2025-06-08T14:02:28.490Z"
   },
   {
    "duration": 281,
    "start_time": "2025-06-08T14:02:28.554Z"
   },
   {
    "duration": 139,
    "start_time": "2025-06-08T14:02:28.837Z"
   },
   {
    "duration": 273,
    "start_time": "2025-06-08T14:02:28.978Z"
   },
   {
    "duration": 6,
    "start_time": "2025-06-08T14:02:29.261Z"
   },
   {
    "duration": 41,
    "start_time": "2025-06-08T14:02:29.269Z"
   },
   {
    "duration": 225,
    "start_time": "2025-06-08T14:02:29.311Z"
   },
   {
    "duration": 101,
    "start_time": "2025-06-08T14:02:29.538Z"
   },
   {
    "duration": 90,
    "start_time": "2025-06-08T14:02:29.641Z"
   },
   {
    "duration": 159,
    "start_time": "2025-06-08T14:02:29.736Z"
   },
   {
    "duration": 68,
    "start_time": "2025-06-08T14:02:29.896Z"
   },
   {
    "duration": 96,
    "start_time": "2025-06-08T14:02:29.966Z"
   },
   {
    "duration": 122,
    "start_time": "2025-06-08T14:02:30.064Z"
   },
   {
    "duration": 1666,
    "start_time": "2025-06-08T14:02:30.188Z"
   },
   {
    "duration": 175,
    "start_time": "2025-06-08T14:02:31.860Z"
   },
   {
    "duration": 27,
    "start_time": "2025-06-08T14:02:32.037Z"
   },
   {
    "duration": 486,
    "start_time": "2025-06-08T14:02:32.066Z"
   },
   {
    "duration": 282,
    "start_time": "2025-06-08T14:02:32.560Z"
   },
   {
    "duration": 162,
    "start_time": "2025-06-08T14:02:32.844Z"
   },
   {
    "duration": 504,
    "start_time": "2025-06-08T14:02:33.007Z"
   },
   {
    "duration": 16,
    "start_time": "2025-06-08T14:02:33.512Z"
   },
   {
    "duration": 62,
    "start_time": "2025-06-08T14:02:33.530Z"
   },
   {
    "duration": 28,
    "start_time": "2025-06-08T14:02:33.594Z"
   },
   {
    "duration": 26,
    "start_time": "2025-06-08T14:02:33.624Z"
   },
   {
    "duration": 28,
    "start_time": "2025-06-08T14:02:33.652Z"
   },
   {
    "duration": 27,
    "start_time": "2025-06-08T14:02:33.682Z"
   },
   {
    "duration": 203,
    "start_time": "2025-06-08T14:02:33.710Z"
   },
   {
    "duration": 47,
    "start_time": "2025-06-08T14:02:33.915Z"
   },
   {
    "duration": 2967,
    "start_time": "2025-06-08T18:20:11.689Z"
   },
   {
    "duration": 2703,
    "start_time": "2025-06-08T18:20:14.659Z"
   },
   {
    "duration": 11,
    "start_time": "2025-06-08T18:20:17.364Z"
   },
   {
    "duration": 14,
    "start_time": "2025-06-08T18:20:17.377Z"
   },
   {
    "duration": 21,
    "start_time": "2025-06-08T18:20:17.393Z"
   },
   {
    "duration": 92,
    "start_time": "2025-06-08T18:20:17.435Z"
   },
   {
    "duration": 14,
    "start_time": "2025-06-08T18:20:17.528Z"
   },
   {
    "duration": 60,
    "start_time": "2025-06-08T18:20:17.544Z"
   },
   {
    "duration": 32,
    "start_time": "2025-06-08T18:20:17.606Z"
   },
   {
    "duration": 31,
    "start_time": "2025-06-08T18:20:17.640Z"
   },
   {
    "duration": 10,
    "start_time": "2025-06-08T18:20:17.673Z"
   },
   {
    "duration": 26,
    "start_time": "2025-06-08T18:20:17.685Z"
   },
   {
    "duration": 45,
    "start_time": "2025-06-08T18:20:17.736Z"
   },
   {
    "duration": 3,
    "start_time": "2025-06-08T18:20:17.786Z"
   },
   {
    "duration": 243,
    "start_time": "2025-06-08T18:20:17.791Z"
   },
   {
    "duration": 72,
    "start_time": "2025-06-08T18:20:18.036Z"
   },
   {
    "duration": 59,
    "start_time": "2025-06-08T18:20:18.110Z"
   },
   {
    "duration": 28,
    "start_time": "2025-06-08T18:20:18.171Z"
   },
   {
    "duration": 86,
    "start_time": "2025-06-08T18:20:18.201Z"
   },
   {
    "duration": 58,
    "start_time": "2025-06-08T18:20:18.290Z"
   },
   {
    "duration": 10,
    "start_time": "2025-06-08T18:20:18.350Z"
   },
   {
    "duration": 78,
    "start_time": "2025-06-08T18:20:18.361Z"
   },
   {
    "duration": 66,
    "start_time": "2025-06-08T18:20:18.441Z"
   },
   {
    "duration": 3138,
    "start_time": "2025-06-08T18:20:18.509Z"
   },
   {
    "duration": 61,
    "start_time": "2025-06-08T18:20:21.649Z"
   },
   {
    "duration": 86,
    "start_time": "2025-06-08T18:20:21.714Z"
   },
   {
    "duration": 168,
    "start_time": "2025-06-08T18:20:21.802Z"
   },
   {
    "duration": 12,
    "start_time": "2025-06-08T18:20:21.971Z"
   },
   {
    "duration": 84,
    "start_time": "2025-06-08T18:20:21.984Z"
   },
   {
    "duration": 22,
    "start_time": "2025-06-08T18:20:22.069Z"
   },
   {
    "duration": 31,
    "start_time": "2025-06-08T18:20:22.092Z"
   },
   {
    "duration": 47,
    "start_time": "2025-06-08T18:20:22.124Z"
   },
   {
    "duration": 179,
    "start_time": "2025-06-08T18:20:22.173Z"
   },
   {
    "duration": 121,
    "start_time": "2025-06-08T18:20:22.354Z"
   },
   {
    "duration": 225,
    "start_time": "2025-06-08T18:20:22.477Z"
   },
   {
    "duration": 6,
    "start_time": "2025-06-08T18:20:22.704Z"
   },
   {
    "duration": 65,
    "start_time": "2025-06-08T18:20:22.712Z"
   },
   {
    "duration": 182,
    "start_time": "2025-06-08T18:20:22.779Z"
   },
   {
    "duration": 91,
    "start_time": "2025-06-08T18:20:22.964Z"
   },
   {
    "duration": 87,
    "start_time": "2025-06-08T18:20:23.057Z"
   },
   {
    "duration": 132,
    "start_time": "2025-06-08T18:20:23.148Z"
   },
   {
    "duration": 59,
    "start_time": "2025-06-08T18:20:23.282Z"
   },
   {
    "duration": 73,
    "start_time": "2025-06-08T18:20:23.342Z"
   },
   {
    "duration": 128,
    "start_time": "2025-06-08T18:20:23.417Z"
   },
   {
    "duration": 1374,
    "start_time": "2025-06-08T18:20:23.546Z"
   },
   {
    "duration": 156,
    "start_time": "2025-06-08T18:20:24.921Z"
   },
   {
    "duration": 9,
    "start_time": "2025-06-08T18:20:25.078Z"
   },
   {
    "duration": 479,
    "start_time": "2025-06-08T18:20:25.089Z"
   },
   {
    "duration": 231,
    "start_time": "2025-06-08T18:20:25.570Z"
   },
   {
    "duration": 137,
    "start_time": "2025-06-08T18:20:25.803Z"
   },
   {
    "duration": 407,
    "start_time": "2025-06-08T18:20:25.941Z"
   },
   {
    "duration": 13,
    "start_time": "2025-06-08T18:20:26.349Z"
   },
   {
    "duration": 9,
    "start_time": "2025-06-08T18:20:26.363Z"
   },
   {
    "duration": 61,
    "start_time": "2025-06-08T18:20:26.374Z"
   },
   {
    "duration": 22,
    "start_time": "2025-06-08T18:20:26.437Z"
   },
   {
    "duration": 23,
    "start_time": "2025-06-08T18:20:26.460Z"
   },
   {
    "duration": 57,
    "start_time": "2025-06-08T18:20:26.485Z"
   },
   {
    "duration": 176,
    "start_time": "2025-06-08T18:20:26.544Z"
   },
   {
    "duration": 33,
    "start_time": "2025-06-08T18:20:26.722Z"
   },
   {
    "duration": 292,
    "start_time": "2025-06-08T18:21:54.221Z"
   },
   {
    "duration": 453,
    "start_time": "2025-06-08T18:23:52.114Z"
   },
   {
    "duration": 2564,
    "start_time": "2025-06-08T18:30:43.413Z"
   },
   {
    "duration": 33,
    "start_time": "2025-06-08T18:40:07.260Z"
   },
   {
    "duration": 25,
    "start_time": "2025-06-08T18:40:11.775Z"
   },
   {
    "duration": 2520,
    "start_time": "2025-06-08T18:41:24.755Z"
   },
   {
    "duration": 1034,
    "start_time": "2025-06-08T18:41:27.278Z"
   },
   {
    "duration": 10,
    "start_time": "2025-06-08T18:41:28.313Z"
   },
   {
    "duration": 70,
    "start_time": "2025-06-08T18:41:28.337Z"
   },
   {
    "duration": 30,
    "start_time": "2025-06-08T18:41:28.409Z"
   },
   {
    "duration": 103,
    "start_time": "2025-06-08T18:41:28.447Z"
   },
   {
    "duration": 8,
    "start_time": "2025-06-08T18:41:28.552Z"
   },
   {
    "duration": 46,
    "start_time": "2025-06-08T18:41:28.561Z"
   },
   {
    "duration": 7,
    "start_time": "2025-06-08T18:41:28.608Z"
   },
   {
    "duration": 44,
    "start_time": "2025-06-08T18:41:28.617Z"
   },
   {
    "duration": 8,
    "start_time": "2025-06-08T18:41:28.662Z"
   },
   {
    "duration": 24,
    "start_time": "2025-06-08T18:41:28.671Z"
   },
   {
    "duration": 48,
    "start_time": "2025-06-08T18:41:28.696Z"
   },
   {
    "duration": 5,
    "start_time": "2025-06-08T18:41:28.746Z"
   },
   {
    "duration": 235,
    "start_time": "2025-06-08T18:41:28.753Z"
   },
   {
    "duration": 86,
    "start_time": "2025-06-08T18:41:28.990Z"
   },
   {
    "duration": 38,
    "start_time": "2025-06-08T18:41:29.077Z"
   },
   {
    "duration": 41,
    "start_time": "2025-06-08T18:41:29.117Z"
   },
   {
    "duration": 89,
    "start_time": "2025-06-08T18:41:29.159Z"
   },
   {
    "duration": 6,
    "start_time": "2025-06-08T18:41:29.250Z"
   },
   {
    "duration": 40,
    "start_time": "2025-06-08T18:41:29.257Z"
   },
   {
    "duration": 78,
    "start_time": "2025-06-08T18:41:29.299Z"
   },
   {
    "duration": 175,
    "start_time": "2025-06-08T18:41:29.378Z"
   },
   {
    "duration": 3302,
    "start_time": "2025-06-08T18:41:29.555Z"
   },
   {
    "duration": 39,
    "start_time": "2025-06-08T18:41:32.859Z"
   },
   {
    "duration": 53,
    "start_time": "2025-06-08T18:41:32.900Z"
   },
   {
    "duration": 139,
    "start_time": "2025-06-08T18:41:32.955Z"
   },
   {
    "duration": 11,
    "start_time": "2025-06-08T18:41:33.097Z"
   },
   {
    "duration": 11,
    "start_time": "2025-06-08T18:41:33.109Z"
   },
   {
    "duration": 30,
    "start_time": "2025-06-08T18:41:33.135Z"
   },
   {
    "duration": 24,
    "start_time": "2025-06-08T18:41:33.167Z"
   },
   {
    "duration": 127,
    "start_time": "2025-06-08T18:41:33.192Z"
   },
   {
    "duration": 204,
    "start_time": "2025-06-08T18:41:33.321Z"
   },
   {
    "duration": 535,
    "start_time": "2025-06-08T18:41:33.526Z"
   },
   {
    "duration": 155,
    "start_time": "2025-06-08T18:41:34.062Z"
   },
   {
    "duration": 252,
    "start_time": "2025-06-08T18:41:34.219Z"
   },
   {
    "duration": 5,
    "start_time": "2025-06-08T18:41:34.472Z"
   },
   {
    "duration": 45,
    "start_time": "2025-06-08T18:41:34.479Z"
   },
   {
    "duration": 169,
    "start_time": "2025-06-08T18:41:34.536Z"
   },
   {
    "duration": 96,
    "start_time": "2025-06-08T18:41:34.707Z"
   },
   {
    "duration": 80,
    "start_time": "2025-06-08T18:41:34.805Z"
   },
   {
    "duration": 165,
    "start_time": "2025-06-08T18:41:34.886Z"
   },
   {
    "duration": 45,
    "start_time": "2025-06-08T18:41:35.052Z"
   },
   {
    "duration": 2663,
    "start_time": "2025-06-08T18:41:35.098Z"
   },
   {
    "duration": 109,
    "start_time": "2025-06-08T18:41:37.763Z"
   },
   {
    "duration": 146,
    "start_time": "2025-06-08T18:41:37.873Z"
   },
   {
    "duration": 1443,
    "start_time": "2025-06-08T18:41:38.021Z"
   },
   {
    "duration": 183,
    "start_time": "2025-06-08T18:41:39.466Z"
   },
   {
    "duration": 10,
    "start_time": "2025-06-08T18:41:39.650Z"
   },
   {
    "duration": 558,
    "start_time": "2025-06-08T18:41:39.662Z"
   },
   {
    "duration": 22,
    "start_time": "2025-06-08T18:41:40.222Z"
   },
   {
    "duration": 10,
    "start_time": "2025-06-08T18:41:40.246Z"
   },
   {
    "duration": 7,
    "start_time": "2025-06-08T18:41:40.257Z"
   },
   {
    "duration": 253,
    "start_time": "2025-06-08T18:41:40.265Z"
   },
   {
    "duration": 266,
    "start_time": "2025-06-08T18:41:40.520Z"
   },
   {
    "duration": 378,
    "start_time": "2025-06-08T18:41:40.788Z"
   },
   {
    "duration": 13,
    "start_time": "2025-06-08T18:41:41.167Z"
   },
   {
    "duration": 95,
    "start_time": "2025-06-08T18:41:41.181Z"
   },
   {
    "duration": 27,
    "start_time": "2025-06-08T18:41:41.277Z"
   },
   {
    "duration": 23,
    "start_time": "2025-06-08T18:41:41.306Z"
   },
   {
    "duration": 29,
    "start_time": "2025-06-08T18:41:41.330Z"
   },
   {
    "duration": 20,
    "start_time": "2025-06-08T18:41:41.360Z"
   },
   {
    "duration": 198,
    "start_time": "2025-06-08T18:41:41.382Z"
   },
   {
    "duration": 28,
    "start_time": "2025-06-08T18:41:41.582Z"
   },
   {
    "duration": 14,
    "start_time": "2025-06-08T18:44:41.548Z"
   },
   {
    "duration": 14,
    "start_time": "2025-06-08T18:44:49.244Z"
   },
   {
    "duration": 9,
    "start_time": "2025-06-08T18:44:57.392Z"
   },
   {
    "duration": 53,
    "start_time": "2025-06-09T08:33:35.950Z"
   },
   {
    "duration": 3688,
    "start_time": "2025-06-09T08:33:46.750Z"
   },
   {
    "duration": 2568,
    "start_time": "2025-06-09T08:33:50.441Z"
   },
   {
    "duration": 13,
    "start_time": "2025-06-09T08:33:53.011Z"
   },
   {
    "duration": 25,
    "start_time": "2025-06-09T08:33:53.026Z"
   },
   {
    "duration": 28,
    "start_time": "2025-06-09T08:33:53.053Z"
   },
   {
    "duration": 126,
    "start_time": "2025-06-09T08:33:53.083Z"
   },
   {
    "duration": 10,
    "start_time": "2025-06-09T08:33:53.211Z"
   },
   {
    "duration": 127,
    "start_time": "2025-06-09T08:33:53.223Z"
   },
   {
    "duration": 7,
    "start_time": "2025-06-09T08:33:53.352Z"
   },
   {
    "duration": 23,
    "start_time": "2025-06-09T08:33:53.362Z"
   },
   {
    "duration": 23,
    "start_time": "2025-06-09T08:33:53.386Z"
   },
   {
    "duration": 42,
    "start_time": "2025-06-09T08:33:53.410Z"
   },
   {
    "duration": 33,
    "start_time": "2025-06-09T08:33:53.454Z"
   },
   {
    "duration": 8,
    "start_time": "2025-06-09T08:33:53.489Z"
   },
   {
    "duration": 295,
    "start_time": "2025-06-09T08:33:53.498Z"
   },
   {
    "duration": 90,
    "start_time": "2025-06-09T08:33:53.795Z"
   },
   {
    "duration": 56,
    "start_time": "2025-06-09T08:33:53.888Z"
   },
   {
    "duration": 31,
    "start_time": "2025-06-09T08:33:53.945Z"
   },
   {
    "duration": 128,
    "start_time": "2025-06-09T08:33:53.978Z"
   },
   {
    "duration": 6,
    "start_time": "2025-06-09T08:33:54.108Z"
   },
   {
    "duration": 9,
    "start_time": "2025-06-09T08:33:54.115Z"
   },
   {
    "duration": 98,
    "start_time": "2025-06-09T08:33:54.125Z"
   },
   {
    "duration": 95,
    "start_time": "2025-06-09T08:33:54.225Z"
   },
   {
    "duration": 3814,
    "start_time": "2025-06-09T08:33:54.322Z"
   },
   {
    "duration": 44,
    "start_time": "2025-06-09T08:33:58.138Z"
   },
   {
    "duration": 55,
    "start_time": "2025-06-09T08:33:58.183Z"
   },
   {
    "duration": 143,
    "start_time": "2025-06-09T08:33:58.239Z"
   },
   {
    "duration": 25,
    "start_time": "2025-06-09T08:33:58.386Z"
   },
   {
    "duration": 13,
    "start_time": "2025-06-09T08:33:58.413Z"
   },
   {
    "duration": 26,
    "start_time": "2025-06-09T08:33:58.428Z"
   },
   {
    "duration": 56,
    "start_time": "2025-06-09T08:33:58.456Z"
   },
   {
    "duration": 125,
    "start_time": "2025-06-09T08:33:58.514Z"
   },
   {
    "duration": 197,
    "start_time": "2025-06-09T08:33:58.642Z"
   },
   {
    "duration": 446,
    "start_time": "2025-06-09T08:33:58.841Z"
   },
   {
    "duration": 125,
    "start_time": "2025-06-09T08:33:59.289Z"
   },
   {
    "duration": 249,
    "start_time": "2025-06-09T08:33:59.415Z"
   },
   {
    "duration": 6,
    "start_time": "2025-06-09T08:33:59.665Z"
   },
   {
    "duration": 58,
    "start_time": "2025-06-09T08:33:59.672Z"
   },
   {
    "duration": 177,
    "start_time": "2025-06-09T08:33:59.732Z"
   },
   {
    "duration": 110,
    "start_time": "2025-06-09T08:33:59.910Z"
   },
   {
    "duration": 107,
    "start_time": "2025-06-09T08:34:00.022Z"
   },
   {
    "duration": 156,
    "start_time": "2025-06-09T08:34:00.131Z"
   },
   {
    "duration": 63,
    "start_time": "2025-06-09T08:34:00.289Z"
   },
   {
    "duration": 8933,
    "start_time": "2025-06-09T08:34:00.354Z"
   },
   {
    "duration": 96,
    "start_time": "2025-06-09T08:34:09.289Z"
   },
   {
    "duration": 136,
    "start_time": "2025-06-09T08:34:09.387Z"
   },
   {
    "duration": 1562,
    "start_time": "2025-06-09T08:34:09.524Z"
   },
   {
    "duration": 175,
    "start_time": "2025-06-09T08:34:11.088Z"
   },
   {
    "duration": 9,
    "start_time": "2025-06-09T08:34:11.265Z"
   },
   {
    "duration": 572,
    "start_time": "2025-06-09T08:34:11.275Z"
   },
   {
    "duration": 1399,
    "start_time": "2025-06-09T08:34:11.848Z"
   },
   {
    "duration": 0,
    "start_time": "2025-06-09T08:34:13.250Z"
   },
   {
    "duration": 0,
    "start_time": "2025-06-09T08:34:13.251Z"
   },
   {
    "duration": 0,
    "start_time": "2025-06-09T08:34:13.252Z"
   },
   {
    "duration": 0,
    "start_time": "2025-06-09T08:34:13.253Z"
   },
   {
    "duration": 0,
    "start_time": "2025-06-09T08:34:13.255Z"
   },
   {
    "duration": 0,
    "start_time": "2025-06-09T08:34:13.256Z"
   },
   {
    "duration": 0,
    "start_time": "2025-06-09T08:34:13.257Z"
   },
   {
    "duration": 0,
    "start_time": "2025-06-09T08:34:13.258Z"
   },
   {
    "duration": 0,
    "start_time": "2025-06-09T08:34:13.259Z"
   },
   {
    "duration": 0,
    "start_time": "2025-06-09T08:34:13.260Z"
   },
   {
    "duration": 0,
    "start_time": "2025-06-09T08:34:13.261Z"
   },
   {
    "duration": 0,
    "start_time": "2025-06-09T08:34:13.262Z"
   },
   {
    "duration": 5,
    "start_time": "2025-06-09T08:34:40.598Z"
   },
   {
    "duration": 10,
    "start_time": "2025-06-09T08:35:19.244Z"
   },
   {
    "duration": 13,
    "start_time": "2025-06-09T08:35:27.512Z"
   },
   {
    "duration": 13,
    "start_time": "2025-06-09T08:35:29.548Z"
   },
   {
    "duration": 2668,
    "start_time": "2025-06-09T08:35:37.706Z"
   },
   {
    "duration": 2451,
    "start_time": "2025-06-09T08:35:40.376Z"
   },
   {
    "duration": 12,
    "start_time": "2025-06-09T08:35:42.829Z"
   },
   {
    "duration": 14,
    "start_time": "2025-06-09T08:35:42.843Z"
   },
   {
    "duration": 48,
    "start_time": "2025-06-09T08:35:42.859Z"
   },
   {
    "duration": 213,
    "start_time": "2025-06-09T08:35:42.909Z"
   },
   {
    "duration": 10,
    "start_time": "2025-06-09T08:35:43.124Z"
   },
   {
    "duration": 68,
    "start_time": "2025-06-09T08:35:43.136Z"
   },
   {
    "duration": 16,
    "start_time": "2025-06-09T08:35:43.205Z"
   },
   {
    "duration": 106,
    "start_time": "2025-06-09T08:35:43.224Z"
   },
   {
    "duration": 45,
    "start_time": "2025-06-09T08:35:43.332Z"
   },
   {
    "duration": 52,
    "start_time": "2025-06-09T08:35:43.379Z"
   },
   {
    "duration": 43,
    "start_time": "2025-06-09T08:35:43.432Z"
   },
   {
    "duration": 16,
    "start_time": "2025-06-09T08:35:43.477Z"
   },
   {
    "duration": 281,
    "start_time": "2025-06-09T08:35:43.495Z"
   },
   {
    "duration": 96,
    "start_time": "2025-06-09T08:35:43.778Z"
   },
   {
    "duration": 57,
    "start_time": "2025-06-09T08:35:43.876Z"
   },
   {
    "duration": 31,
    "start_time": "2025-06-09T08:35:43.934Z"
   },
   {
    "duration": 107,
    "start_time": "2025-06-09T08:35:43.967Z"
   },
   {
    "duration": 7,
    "start_time": "2025-06-09T08:35:44.075Z"
   },
   {
    "duration": 42,
    "start_time": "2025-06-09T08:35:44.084Z"
   },
   {
    "duration": 94,
    "start_time": "2025-06-09T08:35:44.128Z"
   },
   {
    "duration": 88,
    "start_time": "2025-06-09T08:35:44.224Z"
   },
   {
    "duration": 3521,
    "start_time": "2025-06-09T08:35:44.313Z"
   },
   {
    "duration": 43,
    "start_time": "2025-06-09T08:35:47.836Z"
   },
   {
    "duration": 85,
    "start_time": "2025-06-09T08:35:47.881Z"
   },
   {
    "duration": 147,
    "start_time": "2025-06-09T08:35:47.968Z"
   },
   {
    "duration": 13,
    "start_time": "2025-06-09T08:35:48.119Z"
   },
   {
    "duration": 36,
    "start_time": "2025-06-09T08:35:48.133Z"
   },
   {
    "duration": 33,
    "start_time": "2025-06-09T08:35:48.171Z"
   },
   {
    "duration": 32,
    "start_time": "2025-06-09T08:35:48.206Z"
   },
   {
    "duration": 70,
    "start_time": "2025-06-09T08:35:48.240Z"
   },
   {
    "duration": 202,
    "start_time": "2025-06-09T08:35:48.312Z"
   },
   {
    "duration": 455,
    "start_time": "2025-06-09T08:35:48.515Z"
   },
   {
    "duration": 130,
    "start_time": "2025-06-09T08:35:48.972Z"
   },
   {
    "duration": 270,
    "start_time": "2025-06-09T08:35:49.104Z"
   },
   {
    "duration": 7,
    "start_time": "2025-06-09T08:35:49.376Z"
   },
   {
    "duration": 56,
    "start_time": "2025-06-09T08:35:49.385Z"
   },
   {
    "duration": 179,
    "start_time": "2025-06-09T08:35:49.443Z"
   },
   {
    "duration": 102,
    "start_time": "2025-06-09T08:35:49.624Z"
   },
   {
    "duration": 98,
    "start_time": "2025-06-09T08:35:49.727Z"
   },
   {
    "duration": 147,
    "start_time": "2025-06-09T08:35:49.826Z"
   },
   {
    "duration": 65,
    "start_time": "2025-06-09T08:35:49.975Z"
   },
   {
    "duration": 2768,
    "start_time": "2025-06-09T08:35:50.042Z"
   },
   {
    "duration": 102,
    "start_time": "2025-06-09T08:35:52.812Z"
   },
   {
    "duration": 193,
    "start_time": "2025-06-09T08:35:52.916Z"
   },
   {
    "duration": 1556,
    "start_time": "2025-06-09T08:35:53.111Z"
   },
   {
    "duration": 178,
    "start_time": "2025-06-09T08:35:54.668Z"
   },
   {
    "duration": 10,
    "start_time": "2025-06-09T08:35:54.848Z"
   },
   {
    "duration": 624,
    "start_time": "2025-06-09T08:35:54.859Z"
   },
   {
    "duration": 20,
    "start_time": "2025-06-09T08:35:55.485Z"
   },
   {
    "duration": 265,
    "start_time": "2025-06-09T08:35:55.507Z"
   },
   {
    "duration": 271,
    "start_time": "2025-06-09T08:35:55.773Z"
   },
   {
    "duration": 410,
    "start_time": "2025-06-09T08:35:56.047Z"
   },
   {
    "duration": 14,
    "start_time": "2025-06-09T08:35:56.459Z"
   },
   {
    "duration": 209,
    "start_time": "2025-06-09T08:35:56.475Z"
   },
   {
    "duration": 29,
    "start_time": "2025-06-09T08:35:56.686Z"
   },
   {
    "duration": 9,
    "start_time": "2025-06-09T08:35:56.716Z"
   },
   {
    "duration": 36,
    "start_time": "2025-06-09T08:35:56.727Z"
   },
   {
    "duration": 43,
    "start_time": "2025-06-09T08:35:56.765Z"
   },
   {
    "duration": 25,
    "start_time": "2025-06-09T08:35:56.810Z"
   },
   {
    "duration": 307,
    "start_time": "2025-06-09T08:35:56.837Z"
   },
   {
    "duration": 29,
    "start_time": "2025-06-09T08:35:57.146Z"
   },
   {
    "duration": 143,
    "start_time": "2025-06-09T08:40:08.281Z"
   },
   {
    "duration": 2671,
    "start_time": "2025-06-09T08:40:54.820Z"
   },
   {
    "duration": 1093,
    "start_time": "2025-06-09T08:40:57.493Z"
   },
   {
    "duration": 9,
    "start_time": "2025-06-09T08:40:58.588Z"
   },
   {
    "duration": 27,
    "start_time": "2025-06-09T08:40:58.599Z"
   },
   {
    "duration": 22,
    "start_time": "2025-06-09T08:40:58.628Z"
   },
   {
    "duration": 125,
    "start_time": "2025-06-09T08:40:58.652Z"
   },
   {
    "duration": 9,
    "start_time": "2025-06-09T08:40:58.779Z"
   },
   {
    "duration": 55,
    "start_time": "2025-06-09T08:40:58.790Z"
   },
   {
    "duration": 8,
    "start_time": "2025-06-09T08:40:58.847Z"
   },
   {
    "duration": 28,
    "start_time": "2025-06-09T08:40:58.858Z"
   },
   {
    "duration": 9,
    "start_time": "2025-06-09T08:40:58.905Z"
   },
   {
    "duration": 70,
    "start_time": "2025-06-09T08:40:58.916Z"
   },
   {
    "duration": 15,
    "start_time": "2025-06-09T08:40:58.988Z"
   },
   {
    "duration": 3,
    "start_time": "2025-06-09T08:40:59.005Z"
   },
   {
    "duration": 206,
    "start_time": "2025-06-09T08:40:59.010Z"
   },
   {
    "duration": 104,
    "start_time": "2025-06-09T08:40:59.218Z"
   },
   {
    "duration": 45,
    "start_time": "2025-06-09T08:40:59.324Z"
   },
   {
    "duration": 50,
    "start_time": "2025-06-09T08:40:59.371Z"
   },
   {
    "duration": 108,
    "start_time": "2025-06-09T08:40:59.423Z"
   },
   {
    "duration": 9,
    "start_time": "2025-06-09T08:40:59.533Z"
   },
   {
    "duration": 9,
    "start_time": "2025-06-09T08:40:59.544Z"
   },
   {
    "duration": 115,
    "start_time": "2025-06-09T08:40:59.555Z"
   },
   {
    "duration": 94,
    "start_time": "2025-06-09T08:40:59.672Z"
   },
   {
    "duration": 3459,
    "start_time": "2025-06-09T08:40:59.768Z"
   },
   {
    "duration": 45,
    "start_time": "2025-06-09T08:41:03.229Z"
   },
   {
    "duration": 122,
    "start_time": "2025-06-09T08:41:03.275Z"
   },
   {
    "duration": 138,
    "start_time": "2025-06-09T08:41:03.398Z"
   },
   {
    "duration": 13,
    "start_time": "2025-06-09T08:41:03.540Z"
   },
   {
    "duration": 16,
    "start_time": "2025-06-09T08:41:03.555Z"
   },
   {
    "duration": 55,
    "start_time": "2025-06-09T08:41:03.573Z"
   },
   {
    "duration": 23,
    "start_time": "2025-06-09T08:41:03.630Z"
   },
   {
    "duration": 73,
    "start_time": "2025-06-09T08:41:03.654Z"
   },
   {
    "duration": 206,
    "start_time": "2025-06-09T08:41:03.729Z"
   },
   {
    "duration": 470,
    "start_time": "2025-06-09T08:41:03.937Z"
   },
   {
    "duration": 146,
    "start_time": "2025-06-09T08:41:04.409Z"
   },
   {
    "duration": 259,
    "start_time": "2025-06-09T08:41:04.556Z"
   },
   {
    "duration": 6,
    "start_time": "2025-06-09T08:41:04.817Z"
   },
   {
    "duration": 120,
    "start_time": "2025-06-09T08:41:04.825Z"
   },
   {
    "duration": 253,
    "start_time": "2025-06-09T08:41:04.947Z"
   },
   {
    "duration": 105,
    "start_time": "2025-06-09T08:41:05.202Z"
   },
   {
    "duration": 101,
    "start_time": "2025-06-09T08:41:05.309Z"
   },
   {
    "duration": 159,
    "start_time": "2025-06-09T08:41:05.412Z"
   },
   {
    "duration": 68,
    "start_time": "2025-06-09T08:41:05.573Z"
   },
   {
    "duration": 2874,
    "start_time": "2025-06-09T08:41:05.642Z"
   },
   {
    "duration": 114,
    "start_time": "2025-06-09T08:41:08.518Z"
   },
   {
    "duration": 145,
    "start_time": "2025-06-09T08:41:08.633Z"
   },
   {
    "duration": 1516,
    "start_time": "2025-06-09T08:41:08.780Z"
   },
   {
    "duration": 175,
    "start_time": "2025-06-09T08:41:10.304Z"
   },
   {
    "duration": 32,
    "start_time": "2025-06-09T08:41:10.480Z"
   },
   {
    "duration": 568,
    "start_time": "2025-06-09T08:41:10.513Z"
   },
   {
    "duration": 9,
    "start_time": "2025-06-09T08:41:11.083Z"
   },
   {
    "duration": 262,
    "start_time": "2025-06-09T08:41:11.106Z"
   },
   {
    "duration": 165,
    "start_time": "2025-06-09T08:41:11.370Z"
   },
   {
    "duration": 561,
    "start_time": "2025-06-09T08:41:11.537Z"
   },
   {
    "duration": 16,
    "start_time": "2025-06-09T08:41:12.100Z"
   },
   {
    "duration": 25,
    "start_time": "2025-06-09T08:41:12.118Z"
   },
   {
    "duration": 29,
    "start_time": "2025-06-09T08:41:12.145Z"
   },
   {
    "duration": 9,
    "start_time": "2025-06-09T08:41:12.176Z"
   },
   {
    "duration": 26,
    "start_time": "2025-06-09T08:41:12.187Z"
   },
   {
    "duration": 33,
    "start_time": "2025-06-09T08:41:12.214Z"
   },
   {
    "duration": 25,
    "start_time": "2025-06-09T08:41:12.249Z"
   },
   {
    "duration": 249,
    "start_time": "2025-06-09T08:41:12.276Z"
   },
   {
    "duration": 83,
    "start_time": "2025-06-09T08:41:12.527Z"
   },
   {
    "duration": 24,
    "start_time": "2025-06-09T08:42:48.162Z"
   },
   {
    "duration": 17,
    "start_time": "2025-06-09T08:47:16.365Z"
   }
  ],
  "colab": {
   "provenance": []
  },
  "kernelspec": {
   "display_name": "Python 3",
   "language": "python",
   "name": "python3"
  },
  "language_info": {
   "codemirror_mode": {
    "name": "ipython",
    "version": 3
   },
   "file_extension": ".py",
   "mimetype": "text/x-python",
   "name": "python",
   "nbconvert_exporter": "python",
   "pygments_lexer": "ipython3",
   "version": "3.13.3"
  },
  "toc": {
   "base_numbering": 1,
   "nav_menu": {},
   "number_sections": true,
   "sideBar": true,
   "skip_h1_title": true,
   "title_cell": "Table of Contents",
   "title_sidebar": "Contents",
   "toc_cell": false,
   "toc_position": {},
   "toc_section_display": true,
   "toc_window_display": false
  }
 },
 "nbformat": 4,
 "nbformat_minor": 1
}
