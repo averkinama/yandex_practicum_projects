{
 "cells": [
  {
   "cell_type": "markdown",
   "id": "e06910dd",
   "metadata": {
    "id": "e06910dd"
   },
   "source": [
    "# Проект спринта 7. Анализ данных для команды игры \"Секреты Темнолесья\n"
   ]
  },
  {
   "cell_type": "markdown",
   "id": "4149134c",
   "metadata": {
    "id": "4149134c"
   },
   "source": [
    "### Цели и задачи проекта\n",
    "\n",
    "Познакомиться с данными датасета `/datasets/new_games.csv`,который содержит исторические данные об играх. Необходимо проверить их корректность и провести предобработку, получив необходимый срез данных."
   ]
  },
  {
   "cell_type": "markdown",
   "id": "728986ea",
   "metadata": {
    "id": "728986ea"
   },
   "source": [
    "### Описание данных\n",
    "\n",
    "* `Name` — название игры.\n",
    "- `Platform` — название платформы.\n",
    "- `Year of Release` — год выпуска игры.\n",
    "- `Genre` — жанр игры.\n",
    "- `NA sales` — продажи в Северной Америке (в миллионах проданных копий).\n",
    "- `EU sales` — продажи в Европе (в миллионах проданных копий).\n",
    "- `JP sales` — продажи в Японии (в миллионах проданных копий).\n",
    "- `Other sales` — продажи в других странах (в миллионах проданных копий).\n",
    "- `Critic Score` — оценка критиков (от 0 до 100).\n",
    "- `User Score` — оценка пользователей (от 0 до 10).\n",
    "- `Rating` — рейтинг организации ESRB (англ. Entertainment Software Rating Board). Эта ассоциация определяет рейтинг компьютерных игр и присваивает им подходящую возрастную категорию."
   ]
  },
  {
   "cell_type": "markdown",
   "id": "4fecaf95",
   "metadata": {
    "id": "4fecaf95"
   },
   "source": [
    "### Содержимое проекта\n",
    "\n",
    "1. Загрузка данных и знакомство с ними \n",
    "2. Проверка ошибок данных и их предобработка\n",
    " 1. Названия, или метки, столбцов датафрейма\n",
    " 2. Типы данных\n",
    " 3. Наличие пропусков в данных\n",
    " 4. Явные и неявные дубликаты в данных\n",
    "3. Фильтрация данных\n",
    "4. Категоризация данных\n",
    "5. Итоговый вывод"
   ]
  },
  {
   "cell_type": "markdown",
   "id": "6f7d21d6",
   "metadata": {
    "id": "6f7d21d6"
   },
   "source": [
    "## 1. Загрузка данных и знакомство с ними\n",
    "\n",
    "Загружаем библиотеку Pandas и датасет `/datasets/new_games.csv`.\n"
   ]
  },
  {
   "cell_type": "code",
   "execution_count": 1,
   "id": "58d0e531",
   "metadata": {},
   "outputs": [],
   "source": [
    "# Эта ячейка исправит проблему SSL если она есть\n",
    "import ssl\n",
    "try:\n",
    "    # Пробуем нормальный режим\n",
    "    _create_unverified_https_context = ssl._create_unverified_context\n",
    "except AttributeError:\n",
    "    pass\n",
    "else:\n",
    "    ssl._create_default_https_context = _create_unverified_https_context"
   ]
  },
  {
   "cell_type": "code",
   "execution_count": 2,
   "id": "ebb66dc5",
   "metadata": {
    "id": "ebb66dc5"
   },
   "outputs": [],
   "source": [
    "import pandas as pd"
   ]
  },
  {
   "cell_type": "code",
   "execution_count": 3,
   "id": "ce87c1db",
   "metadata": {
    "id": "ce87c1db"
   },
   "outputs": [],
   "source": [
    "games = pd.read_csv('https://code.s3.yandex.net/datasets/new_games.csv')"
   ]
  },
  {
   "cell_type": "markdown",
   "id": "e0a8705f",
   "metadata": {
    "id": "e0a8705f"
   },
   "source": [
    "Знакомимся с данными: выводим результат метода `info()` и первые строки `.\n",
    "<a id='1'></a>"
   ]
  },
  {
   "cell_type": "code",
   "execution_count": 4,
   "id": "3937acf7",
   "metadata": {
    "id": "3937acf7",
    "scrolled": true
   },
   "outputs": [
    {
     "name": "stdout",
     "output_type": "stream",
     "text": [
      "<class 'pandas.core.frame.DataFrame'>\n",
      "RangeIndex: 16956 entries, 0 to 16955\n",
      "Data columns (total 11 columns):\n",
      " #   Column           Non-Null Count  Dtype  \n",
      "---  ------           --------------  -----  \n",
      " 0   Name             16954 non-null  object \n",
      " 1   Platform         16956 non-null  object \n",
      " 2   Year of Release  16681 non-null  float64\n",
      " 3   Genre            16954 non-null  object \n",
      " 4   NA sales         16956 non-null  float64\n",
      " 5   EU sales         16956 non-null  object \n",
      " 6   JP sales         16956 non-null  object \n",
      " 7   Other sales      16956 non-null  float64\n",
      " 8   Critic Score     8242 non-null   float64\n",
      " 9   User Score       10152 non-null  object \n",
      " 10  Rating           10085 non-null  object \n",
      "dtypes: float64(4), object(7)\n",
      "memory usage: 1.4+ MB\n"
     ]
    }
   ],
   "source": [
    "games.info()"
   ]
  },
  {
   "cell_type": "code",
   "execution_count": 5,
   "id": "d7c8eb4b",
   "metadata": {
    "id": "d7c8eb4b"
   },
   "outputs": [
    {
     "data": {
      "text/html": [
       "<div>\n",
       "<style scoped>\n",
       "    .dataframe tbody tr th:only-of-type {\n",
       "        vertical-align: middle;\n",
       "    }\n",
       "\n",
       "    .dataframe tbody tr th {\n",
       "        vertical-align: top;\n",
       "    }\n",
       "\n",
       "    .dataframe thead th {\n",
       "        text-align: right;\n",
       "    }\n",
       "</style>\n",
       "<table border=\"1\" class=\"dataframe\">\n",
       "  <thead>\n",
       "    <tr style=\"text-align: right;\">\n",
       "      <th></th>\n",
       "      <th>Name</th>\n",
       "      <th>Platform</th>\n",
       "      <th>Year of Release</th>\n",
       "      <th>Genre</th>\n",
       "      <th>NA sales</th>\n",
       "      <th>EU sales</th>\n",
       "      <th>JP sales</th>\n",
       "      <th>Other sales</th>\n",
       "      <th>Critic Score</th>\n",
       "      <th>User Score</th>\n",
       "      <th>Rating</th>\n",
       "    </tr>\n",
       "  </thead>\n",
       "  <tbody>\n",
       "    <tr>\n",
       "      <th>0</th>\n",
       "      <td>Wii Sports</td>\n",
       "      <td>Wii</td>\n",
       "      <td>2006.0</td>\n",
       "      <td>Sports</td>\n",
       "      <td>41.36</td>\n",
       "      <td>28.96</td>\n",
       "      <td>3.77</td>\n",
       "      <td>8.45</td>\n",
       "      <td>76.0</td>\n",
       "      <td>8</td>\n",
       "      <td>E</td>\n",
       "    </tr>\n",
       "    <tr>\n",
       "      <th>1</th>\n",
       "      <td>Super Mario Bros.</td>\n",
       "      <td>NES</td>\n",
       "      <td>1985.0</td>\n",
       "      <td>Platform</td>\n",
       "      <td>29.08</td>\n",
       "      <td>3.58</td>\n",
       "      <td>6.81</td>\n",
       "      <td>0.77</td>\n",
       "      <td>NaN</td>\n",
       "      <td>NaN</td>\n",
       "      <td>NaN</td>\n",
       "    </tr>\n",
       "    <tr>\n",
       "      <th>2</th>\n",
       "      <td>Mario Kart Wii</td>\n",
       "      <td>Wii</td>\n",
       "      <td>2008.0</td>\n",
       "      <td>Racing</td>\n",
       "      <td>15.68</td>\n",
       "      <td>12.76</td>\n",
       "      <td>3.79</td>\n",
       "      <td>3.29</td>\n",
       "      <td>82.0</td>\n",
       "      <td>8.3</td>\n",
       "      <td>E</td>\n",
       "    </tr>\n",
       "    <tr>\n",
       "      <th>3</th>\n",
       "      <td>Wii Sports Resort</td>\n",
       "      <td>Wii</td>\n",
       "      <td>2009.0</td>\n",
       "      <td>Sports</td>\n",
       "      <td>15.61</td>\n",
       "      <td>10.93</td>\n",
       "      <td>3.28</td>\n",
       "      <td>2.95</td>\n",
       "      <td>80.0</td>\n",
       "      <td>8</td>\n",
       "      <td>E</td>\n",
       "    </tr>\n",
       "    <tr>\n",
       "      <th>4</th>\n",
       "      <td>Pokemon Red/Pokemon Blue</td>\n",
       "      <td>GB</td>\n",
       "      <td>1996.0</td>\n",
       "      <td>Role-Playing</td>\n",
       "      <td>11.27</td>\n",
       "      <td>8.89</td>\n",
       "      <td>10.22</td>\n",
       "      <td>1.00</td>\n",
       "      <td>NaN</td>\n",
       "      <td>NaN</td>\n",
       "      <td>NaN</td>\n",
       "    </tr>\n",
       "  </tbody>\n",
       "</table>\n",
       "</div>"
      ],
      "text/plain": [
       "                       Name Platform  Year of Release         Genre  NA sales  \\\n",
       "0                Wii Sports      Wii           2006.0        Sports     41.36   \n",
       "1         Super Mario Bros.      NES           1985.0      Platform     29.08   \n",
       "2            Mario Kart Wii      Wii           2008.0        Racing     15.68   \n",
       "3         Wii Sports Resort      Wii           2009.0        Sports     15.61   \n",
       "4  Pokemon Red/Pokemon Blue       GB           1996.0  Role-Playing     11.27   \n",
       "\n",
       "  EU sales JP sales  Other sales  Critic Score User Score Rating  \n",
       "0    28.96     3.77         8.45          76.0          8      E  \n",
       "1     3.58     6.81         0.77           NaN        NaN    NaN  \n",
       "2    12.76     3.79         3.29          82.0        8.3      E  \n",
       "3    10.93     3.28         2.95          80.0          8      E  \n",
       "4     8.89    10.22         1.00           NaN        NaN    NaN  "
      ]
     },
     "execution_count": 5,
     "metadata": {},
     "output_type": "execute_result"
    }
   ],
   "source": [
    "games.head()"
   ]
  },
  {
   "cell_type": "markdown",
   "id": "26267bc0",
   "metadata": {
    "id": "26267bc0"
   },
   "source": [
    "Выводы о полученных данных:\n",
    " - Всего в датафрейме 16956 строк и 11 столбцов.\n",
    " - Есть пропуски в таких столбцах: `Name`; `Year of Releaese`; `Genre`; `Critic Score`; `User Score`; `Rating`.\n",
    " - Соотвественно, столбцы без пропусков: `Platform`; `NA sales`; `EU sales`; `JP sales`; `Other sales`.\n",
    " - Есть столбцы с типом данных `object`, `float64`, нет столбцов с типом данных `integer` и `bool`. Также можно заметить, что столбцы `NA sales`; `EU sales`; `JP sales`; `Other sales`, описывающие одинаковую информацию в одинаковых единицах измерения имеют разные типы данных (`NA sales`, `Other sales`- `float64`, `EU sales`; `JP sales` - `object`). В будущем это придется исправить. \n",
    " - `User Score` оптимально будет привести к типу данных `float64`.\n",
    " - `Year of Releaese` оптимально будет привести к типу данных `int64`."
   ]
  },
  {
   "cell_type": "markdown",
   "id": "774bf76e",
   "metadata": {
    "id": "774bf76e"
   },
   "source": [
    "---\n",
    "\n",
    "## 2.  Проверка ошибок в данных и их предобработка\n",
    "\n",
    "\n",
    "### 2.1. Названия, или метки, столбцов датафрейма\n",
    "\n",
    "- Ещё раз выводим на экран названия всех столбцов датафрейма через `.info()` и проверяем их стиль написания."
   ]
  },
  {
   "cell_type": "code",
   "execution_count": 6,
   "id": "ebd8fff2",
   "metadata": {
    "scrolled": true
   },
   "outputs": [
    {
     "name": "stdout",
     "output_type": "stream",
     "text": [
      "<class 'pandas.core.frame.DataFrame'>\n",
      "RangeIndex: 16956 entries, 0 to 16955\n",
      "Data columns (total 11 columns):\n",
      " #   Column           Non-Null Count  Dtype  \n",
      "---  ------           --------------  -----  \n",
      " 0   Name             16954 non-null  object \n",
      " 1   Platform         16956 non-null  object \n",
      " 2   Year of Release  16681 non-null  float64\n",
      " 3   Genre            16954 non-null  object \n",
      " 4   NA sales         16956 non-null  float64\n",
      " 5   EU sales         16956 non-null  object \n",
      " 6   JP sales         16956 non-null  object \n",
      " 7   Other sales      16956 non-null  float64\n",
      " 8   Critic Score     8242 non-null   float64\n",
      " 9   User Score       10152 non-null  object \n",
      " 10  Rating           10085 non-null  object \n",
      "dtypes: float64(4), object(7)\n",
      "memory usage: 1.4+ MB\n"
     ]
    }
   ],
   "source": [
    "games.info()"
   ]
  },
  {
   "cell_type": "markdown",
   "id": "ad7fb21b",
   "metadata": {},
   "source": [
    "- Можно заметить, что названия столбцов не приведены к стилю snake case. Заменим все пробелы на _ , приведем названия к нижнему регистру. <a id='2A'></a>"
   ]
  },
  {
   "cell_type": "code",
   "execution_count": 7,
   "id": "b9276a2b",
   "metadata": {
    "id": "b9276a2b"
   },
   "outputs": [],
   "source": [
    "games.columns = games.columns.str.replace(' ', '_')"
   ]
  },
  {
   "cell_type": "code",
   "execution_count": 8,
   "id": "d554563c",
   "metadata": {
    "id": "d554563c",
    "scrolled": true
   },
   "outputs": [
    {
     "data": {
      "text/html": [
       "<div>\n",
       "<style scoped>\n",
       "    .dataframe tbody tr th:only-of-type {\n",
       "        vertical-align: middle;\n",
       "    }\n",
       "\n",
       "    .dataframe tbody tr th {\n",
       "        vertical-align: top;\n",
       "    }\n",
       "\n",
       "    .dataframe thead th {\n",
       "        text-align: right;\n",
       "    }\n",
       "</style>\n",
       "<table border=\"1\" class=\"dataframe\">\n",
       "  <thead>\n",
       "    <tr style=\"text-align: right;\">\n",
       "      <th></th>\n",
       "      <th>name</th>\n",
       "      <th>platform</th>\n",
       "      <th>year_of_release</th>\n",
       "      <th>genre</th>\n",
       "      <th>na_sales</th>\n",
       "      <th>eu_sales</th>\n",
       "      <th>jp_sales</th>\n",
       "      <th>other_sales</th>\n",
       "      <th>critic_score</th>\n",
       "      <th>user_score</th>\n",
       "      <th>rating</th>\n",
       "    </tr>\n",
       "  </thead>\n",
       "  <tbody>\n",
       "    <tr>\n",
       "      <th>0</th>\n",
       "      <td>Wii Sports</td>\n",
       "      <td>Wii</td>\n",
       "      <td>2006.0</td>\n",
       "      <td>Sports</td>\n",
       "      <td>41.36</td>\n",
       "      <td>28.96</td>\n",
       "      <td>3.77</td>\n",
       "      <td>8.45</td>\n",
       "      <td>76.0</td>\n",
       "      <td>8</td>\n",
       "      <td>E</td>\n",
       "    </tr>\n",
       "    <tr>\n",
       "      <th>1</th>\n",
       "      <td>Super Mario Bros.</td>\n",
       "      <td>NES</td>\n",
       "      <td>1985.0</td>\n",
       "      <td>Platform</td>\n",
       "      <td>29.08</td>\n",
       "      <td>3.58</td>\n",
       "      <td>6.81</td>\n",
       "      <td>0.77</td>\n",
       "      <td>NaN</td>\n",
       "      <td>NaN</td>\n",
       "      <td>NaN</td>\n",
       "    </tr>\n",
       "    <tr>\n",
       "      <th>2</th>\n",
       "      <td>Mario Kart Wii</td>\n",
       "      <td>Wii</td>\n",
       "      <td>2008.0</td>\n",
       "      <td>Racing</td>\n",
       "      <td>15.68</td>\n",
       "      <td>12.76</td>\n",
       "      <td>3.79</td>\n",
       "      <td>3.29</td>\n",
       "      <td>82.0</td>\n",
       "      <td>8.3</td>\n",
       "      <td>E</td>\n",
       "    </tr>\n",
       "    <tr>\n",
       "      <th>3</th>\n",
       "      <td>Wii Sports Resort</td>\n",
       "      <td>Wii</td>\n",
       "      <td>2009.0</td>\n",
       "      <td>Sports</td>\n",
       "      <td>15.61</td>\n",
       "      <td>10.93</td>\n",
       "      <td>3.28</td>\n",
       "      <td>2.95</td>\n",
       "      <td>80.0</td>\n",
       "      <td>8</td>\n",
       "      <td>E</td>\n",
       "    </tr>\n",
       "    <tr>\n",
       "      <th>4</th>\n",
       "      <td>Pokemon Red/Pokemon Blue</td>\n",
       "      <td>GB</td>\n",
       "      <td>1996.0</td>\n",
       "      <td>Role-Playing</td>\n",
       "      <td>11.27</td>\n",
       "      <td>8.89</td>\n",
       "      <td>10.22</td>\n",
       "      <td>1.00</td>\n",
       "      <td>NaN</td>\n",
       "      <td>NaN</td>\n",
       "      <td>NaN</td>\n",
       "    </tr>\n",
       "    <tr>\n",
       "      <th>...</th>\n",
       "      <td>...</td>\n",
       "      <td>...</td>\n",
       "      <td>...</td>\n",
       "      <td>...</td>\n",
       "      <td>...</td>\n",
       "      <td>...</td>\n",
       "      <td>...</td>\n",
       "      <td>...</td>\n",
       "      <td>...</td>\n",
       "      <td>...</td>\n",
       "      <td>...</td>\n",
       "    </tr>\n",
       "    <tr>\n",
       "      <th>16951</th>\n",
       "      <td>Samurai Warriors: Sanada Maru</td>\n",
       "      <td>PS3</td>\n",
       "      <td>2016.0</td>\n",
       "      <td>Action</td>\n",
       "      <td>0.00</td>\n",
       "      <td>0.0</td>\n",
       "      <td>0.01</td>\n",
       "      <td>0.00</td>\n",
       "      <td>NaN</td>\n",
       "      <td>NaN</td>\n",
       "      <td>NaN</td>\n",
       "    </tr>\n",
       "    <tr>\n",
       "      <th>16952</th>\n",
       "      <td>LMA Manager 2007</td>\n",
       "      <td>X360</td>\n",
       "      <td>2006.0</td>\n",
       "      <td>Sports</td>\n",
       "      <td>0.00</td>\n",
       "      <td>0.01</td>\n",
       "      <td>0.0</td>\n",
       "      <td>0.00</td>\n",
       "      <td>NaN</td>\n",
       "      <td>NaN</td>\n",
       "      <td>NaN</td>\n",
       "    </tr>\n",
       "    <tr>\n",
       "      <th>16953</th>\n",
       "      <td>Haitaka no Psychedelica</td>\n",
       "      <td>PSV</td>\n",
       "      <td>2016.0</td>\n",
       "      <td>Adventure</td>\n",
       "      <td>0.00</td>\n",
       "      <td>0.0</td>\n",
       "      <td>0.01</td>\n",
       "      <td>0.00</td>\n",
       "      <td>NaN</td>\n",
       "      <td>NaN</td>\n",
       "      <td>NaN</td>\n",
       "    </tr>\n",
       "    <tr>\n",
       "      <th>16954</th>\n",
       "      <td>Spirits &amp; Spells</td>\n",
       "      <td>GBA</td>\n",
       "      <td>2003.0</td>\n",
       "      <td>Platform</td>\n",
       "      <td>0.01</td>\n",
       "      <td>0.0</td>\n",
       "      <td>0.0</td>\n",
       "      <td>0.00</td>\n",
       "      <td>NaN</td>\n",
       "      <td>NaN</td>\n",
       "      <td>NaN</td>\n",
       "    </tr>\n",
       "    <tr>\n",
       "      <th>16955</th>\n",
       "      <td>Winning Post 8 2016</td>\n",
       "      <td>PSV</td>\n",
       "      <td>2016.0</td>\n",
       "      <td>Simulation</td>\n",
       "      <td>0.00</td>\n",
       "      <td>0.0</td>\n",
       "      <td>0.01</td>\n",
       "      <td>0.00</td>\n",
       "      <td>NaN</td>\n",
       "      <td>NaN</td>\n",
       "      <td>NaN</td>\n",
       "    </tr>\n",
       "  </tbody>\n",
       "</table>\n",
       "<p>16956 rows × 11 columns</p>\n",
       "</div>"
      ],
      "text/plain": [
       "                                name platform  year_of_release         genre  \\\n",
       "0                         Wii Sports      Wii           2006.0        Sports   \n",
       "1                  Super Mario Bros.      NES           1985.0      Platform   \n",
       "2                     Mario Kart Wii      Wii           2008.0        Racing   \n",
       "3                  Wii Sports Resort      Wii           2009.0        Sports   \n",
       "4           Pokemon Red/Pokemon Blue       GB           1996.0  Role-Playing   \n",
       "...                              ...      ...              ...           ...   \n",
       "16951  Samurai Warriors: Sanada Maru      PS3           2016.0        Action   \n",
       "16952               LMA Manager 2007     X360           2006.0        Sports   \n",
       "16953        Haitaka no Psychedelica      PSV           2016.0     Adventure   \n",
       "16954               Spirits & Spells      GBA           2003.0      Platform   \n",
       "16955            Winning Post 8 2016      PSV           2016.0    Simulation   \n",
       "\n",
       "       na_sales eu_sales jp_sales  other_sales  critic_score user_score rating  \n",
       "0         41.36    28.96     3.77         8.45          76.0          8      E  \n",
       "1         29.08     3.58     6.81         0.77           NaN        NaN    NaN  \n",
       "2         15.68    12.76     3.79         3.29          82.0        8.3      E  \n",
       "3         15.61    10.93     3.28         2.95          80.0          8      E  \n",
       "4         11.27     8.89    10.22         1.00           NaN        NaN    NaN  \n",
       "...         ...      ...      ...          ...           ...        ...    ...  \n",
       "16951      0.00      0.0     0.01         0.00           NaN        NaN    NaN  \n",
       "16952      0.00     0.01      0.0         0.00           NaN        NaN    NaN  \n",
       "16953      0.00      0.0     0.01         0.00           NaN        NaN    NaN  \n",
       "16954      0.01      0.0      0.0         0.00           NaN        NaN    NaN  \n",
       "16955      0.00      0.0     0.01         0.00           NaN        NaN    NaN  \n",
       "\n",
       "[16956 rows x 11 columns]"
      ]
     },
     "metadata": {},
     "output_type": "display_data"
    }
   ],
   "source": [
    "games.columns = games.columns.str.lower()\n",
    "display(games)"
   ]
  },
  {
   "cell_type": "markdown",
   "id": "63378edf",
   "metadata": {
    "id": "63378edf"
   },
   "source": [
    "- Заменили все пропуски в числовых колонках на `NaN`. Также для удобства преобразовали колонку `year_of_release` в формат `Int64`. <a id='2B'></a>"
   ]
  },
  {
   "cell_type": "code",
   "execution_count": 9,
   "id": "5033ee32",
   "metadata": {
    "id": "5033ee32"
   },
   "outputs": [
    {
     "data": {
      "text/html": [
       "<div>\n",
       "<style scoped>\n",
       "    .dataframe tbody tr th:only-of-type {\n",
       "        vertical-align: middle;\n",
       "    }\n",
       "\n",
       "    .dataframe tbody tr th {\n",
       "        vertical-align: top;\n",
       "    }\n",
       "\n",
       "    .dataframe thead th {\n",
       "        text-align: right;\n",
       "    }\n",
       "</style>\n",
       "<table border=\"1\" class=\"dataframe\">\n",
       "  <thead>\n",
       "    <tr style=\"text-align: right;\">\n",
       "      <th></th>\n",
       "      <th>name</th>\n",
       "      <th>platform</th>\n",
       "      <th>year_of_release</th>\n",
       "      <th>genre</th>\n",
       "      <th>na_sales</th>\n",
       "      <th>eu_sales</th>\n",
       "      <th>jp_sales</th>\n",
       "      <th>other_sales</th>\n",
       "      <th>critic_score</th>\n",
       "      <th>user_score</th>\n",
       "      <th>rating</th>\n",
       "    </tr>\n",
       "  </thead>\n",
       "  <tbody>\n",
       "    <tr>\n",
       "      <th>0</th>\n",
       "      <td>Wii Sports</td>\n",
       "      <td>Wii</td>\n",
       "      <td>2006</td>\n",
       "      <td>Sports</td>\n",
       "      <td>41.36</td>\n",
       "      <td>28.96</td>\n",
       "      <td>3.77</td>\n",
       "      <td>8.45</td>\n",
       "      <td>76.0</td>\n",
       "      <td>8.0</td>\n",
       "      <td>E</td>\n",
       "    </tr>\n",
       "    <tr>\n",
       "      <th>1</th>\n",
       "      <td>Super Mario Bros.</td>\n",
       "      <td>NES</td>\n",
       "      <td>1985</td>\n",
       "      <td>Platform</td>\n",
       "      <td>29.08</td>\n",
       "      <td>3.58</td>\n",
       "      <td>6.81</td>\n",
       "      <td>0.77</td>\n",
       "      <td>NaN</td>\n",
       "      <td>NaN</td>\n",
       "      <td>NaN</td>\n",
       "    </tr>\n",
       "    <tr>\n",
       "      <th>2</th>\n",
       "      <td>Mario Kart Wii</td>\n",
       "      <td>Wii</td>\n",
       "      <td>2008</td>\n",
       "      <td>Racing</td>\n",
       "      <td>15.68</td>\n",
       "      <td>12.76</td>\n",
       "      <td>3.79</td>\n",
       "      <td>3.29</td>\n",
       "      <td>82.0</td>\n",
       "      <td>8.3</td>\n",
       "      <td>E</td>\n",
       "    </tr>\n",
       "    <tr>\n",
       "      <th>3</th>\n",
       "      <td>Wii Sports Resort</td>\n",
       "      <td>Wii</td>\n",
       "      <td>2009</td>\n",
       "      <td>Sports</td>\n",
       "      <td>15.61</td>\n",
       "      <td>10.93</td>\n",
       "      <td>3.28</td>\n",
       "      <td>2.95</td>\n",
       "      <td>80.0</td>\n",
       "      <td>8.0</td>\n",
       "      <td>E</td>\n",
       "    </tr>\n",
       "    <tr>\n",
       "      <th>4</th>\n",
       "      <td>Pokemon Red/Pokemon Blue</td>\n",
       "      <td>GB</td>\n",
       "      <td>1996</td>\n",
       "      <td>Role-Playing</td>\n",
       "      <td>11.27</td>\n",
       "      <td>8.89</td>\n",
       "      <td>10.22</td>\n",
       "      <td>1.00</td>\n",
       "      <td>NaN</td>\n",
       "      <td>NaN</td>\n",
       "      <td>NaN</td>\n",
       "    </tr>\n",
       "    <tr>\n",
       "      <th>...</th>\n",
       "      <td>...</td>\n",
       "      <td>...</td>\n",
       "      <td>...</td>\n",
       "      <td>...</td>\n",
       "      <td>...</td>\n",
       "      <td>...</td>\n",
       "      <td>...</td>\n",
       "      <td>...</td>\n",
       "      <td>...</td>\n",
       "      <td>...</td>\n",
       "      <td>...</td>\n",
       "    </tr>\n",
       "    <tr>\n",
       "      <th>16951</th>\n",
       "      <td>Samurai Warriors: Sanada Maru</td>\n",
       "      <td>PS3</td>\n",
       "      <td>2016</td>\n",
       "      <td>Action</td>\n",
       "      <td>0.00</td>\n",
       "      <td>0.00</td>\n",
       "      <td>0.01</td>\n",
       "      <td>0.00</td>\n",
       "      <td>NaN</td>\n",
       "      <td>NaN</td>\n",
       "      <td>NaN</td>\n",
       "    </tr>\n",
       "    <tr>\n",
       "      <th>16952</th>\n",
       "      <td>LMA Manager 2007</td>\n",
       "      <td>X360</td>\n",
       "      <td>2006</td>\n",
       "      <td>Sports</td>\n",
       "      <td>0.00</td>\n",
       "      <td>0.01</td>\n",
       "      <td>0.00</td>\n",
       "      <td>0.00</td>\n",
       "      <td>NaN</td>\n",
       "      <td>NaN</td>\n",
       "      <td>NaN</td>\n",
       "    </tr>\n",
       "    <tr>\n",
       "      <th>16953</th>\n",
       "      <td>Haitaka no Psychedelica</td>\n",
       "      <td>PSV</td>\n",
       "      <td>2016</td>\n",
       "      <td>Adventure</td>\n",
       "      <td>0.00</td>\n",
       "      <td>0.00</td>\n",
       "      <td>0.01</td>\n",
       "      <td>0.00</td>\n",
       "      <td>NaN</td>\n",
       "      <td>NaN</td>\n",
       "      <td>NaN</td>\n",
       "    </tr>\n",
       "    <tr>\n",
       "      <th>16954</th>\n",
       "      <td>Spirits &amp; Spells</td>\n",
       "      <td>GBA</td>\n",
       "      <td>2003</td>\n",
       "      <td>Platform</td>\n",
       "      <td>0.01</td>\n",
       "      <td>0.00</td>\n",
       "      <td>0.00</td>\n",
       "      <td>0.00</td>\n",
       "      <td>NaN</td>\n",
       "      <td>NaN</td>\n",
       "      <td>NaN</td>\n",
       "    </tr>\n",
       "    <tr>\n",
       "      <th>16955</th>\n",
       "      <td>Winning Post 8 2016</td>\n",
       "      <td>PSV</td>\n",
       "      <td>2016</td>\n",
       "      <td>Simulation</td>\n",
       "      <td>0.00</td>\n",
       "      <td>0.00</td>\n",
       "      <td>0.01</td>\n",
       "      <td>0.00</td>\n",
       "      <td>NaN</td>\n",
       "      <td>NaN</td>\n",
       "      <td>NaN</td>\n",
       "    </tr>\n",
       "  </tbody>\n",
       "</table>\n",
       "<p>16956 rows × 11 columns</p>\n",
       "</div>"
      ],
      "text/plain": [
       "                                name platform  year_of_release         genre  \\\n",
       "0                         Wii Sports      Wii             2006        Sports   \n",
       "1                  Super Mario Bros.      NES             1985      Platform   \n",
       "2                     Mario Kart Wii      Wii             2008        Racing   \n",
       "3                  Wii Sports Resort      Wii             2009        Sports   \n",
       "4           Pokemon Red/Pokemon Blue       GB             1996  Role-Playing   \n",
       "...                              ...      ...              ...           ...   \n",
       "16951  Samurai Warriors: Sanada Maru      PS3             2016        Action   \n",
       "16952               LMA Manager 2007     X360             2006        Sports   \n",
       "16953        Haitaka no Psychedelica      PSV             2016     Adventure   \n",
       "16954               Spirits & Spells      GBA             2003      Platform   \n",
       "16955            Winning Post 8 2016      PSV             2016    Simulation   \n",
       "\n",
       "       na_sales  eu_sales  jp_sales  other_sales  critic_score  user_score  \\\n",
       "0         41.36     28.96      3.77         8.45          76.0         8.0   \n",
       "1         29.08      3.58      6.81         0.77           NaN         NaN   \n",
       "2         15.68     12.76      3.79         3.29          82.0         8.3   \n",
       "3         15.61     10.93      3.28         2.95          80.0         8.0   \n",
       "4         11.27      8.89     10.22         1.00           NaN         NaN   \n",
       "...         ...       ...       ...          ...           ...         ...   \n",
       "16951      0.00      0.00      0.01         0.00           NaN         NaN   \n",
       "16952      0.00      0.01      0.00         0.00           NaN         NaN   \n",
       "16953      0.00      0.00      0.01         0.00           NaN         NaN   \n",
       "16954      0.01      0.00      0.00         0.00           NaN         NaN   \n",
       "16955      0.00      0.00      0.01         0.00           NaN         NaN   \n",
       "\n",
       "      rating  \n",
       "0          E  \n",
       "1        NaN  \n",
       "2          E  \n",
       "3          E  \n",
       "4        NaN  \n",
       "...      ...  \n",
       "16951    NaN  \n",
       "16952    NaN  \n",
       "16953    NaN  \n",
       "16954    NaN  \n",
       "16955    NaN  \n",
       "\n",
       "[16956 rows x 11 columns]"
      ]
     },
     "metadata": {},
     "output_type": "display_data"
    },
    {
     "data": {
      "text/plain": [
       "name                object\n",
       "platform            object\n",
       "year_of_release      Int64\n",
       "genre               object\n",
       "na_sales           float64\n",
       "eu_sales           float64\n",
       "jp_sales           float64\n",
       "other_sales        float64\n",
       "critic_score       float64\n",
       "user_score         float64\n",
       "rating              object\n",
       "dtype: object"
      ]
     },
     "metadata": {},
     "output_type": "display_data"
    }
   ],
   "source": [
    "games['critic_score'] = pd.to_numeric(games['critic_score'], errors = 'coerce')\n",
    "games['user_score'] = pd.to_numeric(games['user_score'], errors = 'coerce')\n",
    "games['year_of_release'] = pd.to_datetime(games['year_of_release'], format= '%Y', errors='coerce')\n",
    "games['year_of_release'] = games['year_of_release'].dt.year.astype('Int64')\n",
    "games['eu_sales'] = pd.to_numeric(games['eu_sales'], errors = 'coerce')\n",
    "games['jp_sales'] = pd.to_numeric(games['jp_sales'], errors = 'coerce')\n",
    "display(games, games.dtypes)\n"
   ]
  },
  {
   "cell_type": "markdown",
   "id": "b39893cb",
   "metadata": {
    "id": "b39893cb"
   },
   "source": [
    "### 2.3. Наличие пропусков в данных"
   ]
  },
  {
   "cell_type": "markdown",
   "id": "5d885bf7",
   "metadata": {},
   "source": [
    "- Смотрим в каких столбцах встречаются пропуски. \n",
    "<a id='2C'></a>"
   ]
  },
  {
   "cell_type": "code",
   "execution_count": 10,
   "id": "0f1c91a8",
   "metadata": {
    "id": "0f1c91a8"
   },
   "outputs": [
    {
     "data": {
      "text/html": [
       "<div>\n",
       "<style scoped>\n",
       "    .dataframe tbody tr th:only-of-type {\n",
       "        vertical-align: middle;\n",
       "    }\n",
       "\n",
       "    .dataframe tbody tr th {\n",
       "        vertical-align: top;\n",
       "    }\n",
       "\n",
       "    .dataframe thead th {\n",
       "        text-align: right;\n",
       "    }\n",
       "</style>\n",
       "<table border=\"1\" class=\"dataframe\">\n",
       "  <thead>\n",
       "    <tr style=\"text-align: right;\">\n",
       "      <th></th>\n",
       "      <th>name</th>\n",
       "      <th>platform</th>\n",
       "      <th>year_of_release</th>\n",
       "      <th>genre</th>\n",
       "      <th>na_sales</th>\n",
       "      <th>eu_sales</th>\n",
       "      <th>jp_sales</th>\n",
       "      <th>other_sales</th>\n",
       "      <th>critic_score</th>\n",
       "      <th>user_score</th>\n",
       "      <th>rating</th>\n",
       "    </tr>\n",
       "  </thead>\n",
       "  <tbody>\n",
       "    <tr>\n",
       "      <th>0</th>\n",
       "      <td>False</td>\n",
       "      <td>False</td>\n",
       "      <td>False</td>\n",
       "      <td>False</td>\n",
       "      <td>False</td>\n",
       "      <td>False</td>\n",
       "      <td>False</td>\n",
       "      <td>False</td>\n",
       "      <td>False</td>\n",
       "      <td>False</td>\n",
       "      <td>False</td>\n",
       "    </tr>\n",
       "    <tr>\n",
       "      <th>1</th>\n",
       "      <td>False</td>\n",
       "      <td>False</td>\n",
       "      <td>False</td>\n",
       "      <td>False</td>\n",
       "      <td>False</td>\n",
       "      <td>False</td>\n",
       "      <td>False</td>\n",
       "      <td>False</td>\n",
       "      <td>True</td>\n",
       "      <td>True</td>\n",
       "      <td>True</td>\n",
       "    </tr>\n",
       "    <tr>\n",
       "      <th>2</th>\n",
       "      <td>False</td>\n",
       "      <td>False</td>\n",
       "      <td>False</td>\n",
       "      <td>False</td>\n",
       "      <td>False</td>\n",
       "      <td>False</td>\n",
       "      <td>False</td>\n",
       "      <td>False</td>\n",
       "      <td>False</td>\n",
       "      <td>False</td>\n",
       "      <td>False</td>\n",
       "    </tr>\n",
       "    <tr>\n",
       "      <th>3</th>\n",
       "      <td>False</td>\n",
       "      <td>False</td>\n",
       "      <td>False</td>\n",
       "      <td>False</td>\n",
       "      <td>False</td>\n",
       "      <td>False</td>\n",
       "      <td>False</td>\n",
       "      <td>False</td>\n",
       "      <td>False</td>\n",
       "      <td>False</td>\n",
       "      <td>False</td>\n",
       "    </tr>\n",
       "    <tr>\n",
       "      <th>4</th>\n",
       "      <td>False</td>\n",
       "      <td>False</td>\n",
       "      <td>False</td>\n",
       "      <td>False</td>\n",
       "      <td>False</td>\n",
       "      <td>False</td>\n",
       "      <td>False</td>\n",
       "      <td>False</td>\n",
       "      <td>True</td>\n",
       "      <td>True</td>\n",
       "      <td>True</td>\n",
       "    </tr>\n",
       "    <tr>\n",
       "      <th>...</th>\n",
       "      <td>...</td>\n",
       "      <td>...</td>\n",
       "      <td>...</td>\n",
       "      <td>...</td>\n",
       "      <td>...</td>\n",
       "      <td>...</td>\n",
       "      <td>...</td>\n",
       "      <td>...</td>\n",
       "      <td>...</td>\n",
       "      <td>...</td>\n",
       "      <td>...</td>\n",
       "    </tr>\n",
       "    <tr>\n",
       "      <th>16951</th>\n",
       "      <td>False</td>\n",
       "      <td>False</td>\n",
       "      <td>False</td>\n",
       "      <td>False</td>\n",
       "      <td>False</td>\n",
       "      <td>False</td>\n",
       "      <td>False</td>\n",
       "      <td>False</td>\n",
       "      <td>True</td>\n",
       "      <td>True</td>\n",
       "      <td>True</td>\n",
       "    </tr>\n",
       "    <tr>\n",
       "      <th>16952</th>\n",
       "      <td>False</td>\n",
       "      <td>False</td>\n",
       "      <td>False</td>\n",
       "      <td>False</td>\n",
       "      <td>False</td>\n",
       "      <td>False</td>\n",
       "      <td>False</td>\n",
       "      <td>False</td>\n",
       "      <td>True</td>\n",
       "      <td>True</td>\n",
       "      <td>True</td>\n",
       "    </tr>\n",
       "    <tr>\n",
       "      <th>16953</th>\n",
       "      <td>False</td>\n",
       "      <td>False</td>\n",
       "      <td>False</td>\n",
       "      <td>False</td>\n",
       "      <td>False</td>\n",
       "      <td>False</td>\n",
       "      <td>False</td>\n",
       "      <td>False</td>\n",
       "      <td>True</td>\n",
       "      <td>True</td>\n",
       "      <td>True</td>\n",
       "    </tr>\n",
       "    <tr>\n",
       "      <th>16954</th>\n",
       "      <td>False</td>\n",
       "      <td>False</td>\n",
       "      <td>False</td>\n",
       "      <td>False</td>\n",
       "      <td>False</td>\n",
       "      <td>False</td>\n",
       "      <td>False</td>\n",
       "      <td>False</td>\n",
       "      <td>True</td>\n",
       "      <td>True</td>\n",
       "      <td>True</td>\n",
       "    </tr>\n",
       "    <tr>\n",
       "      <th>16955</th>\n",
       "      <td>False</td>\n",
       "      <td>False</td>\n",
       "      <td>False</td>\n",
       "      <td>False</td>\n",
       "      <td>False</td>\n",
       "      <td>False</td>\n",
       "      <td>False</td>\n",
       "      <td>False</td>\n",
       "      <td>True</td>\n",
       "      <td>True</td>\n",
       "      <td>True</td>\n",
       "    </tr>\n",
       "  </tbody>\n",
       "</table>\n",
       "<p>16956 rows × 11 columns</p>\n",
       "</div>"
      ],
      "text/plain": [
       "        name  platform  year_of_release  genre  na_sales  eu_sales  jp_sales  \\\n",
       "0      False     False            False  False     False     False     False   \n",
       "1      False     False            False  False     False     False     False   \n",
       "2      False     False            False  False     False     False     False   \n",
       "3      False     False            False  False     False     False     False   \n",
       "4      False     False            False  False     False     False     False   \n",
       "...      ...       ...              ...    ...       ...       ...       ...   \n",
       "16951  False     False            False  False     False     False     False   \n",
       "16952  False     False            False  False     False     False     False   \n",
       "16953  False     False            False  False     False     False     False   \n",
       "16954  False     False            False  False     False     False     False   \n",
       "16955  False     False            False  False     False     False     False   \n",
       "\n",
       "       other_sales  critic_score  user_score  rating  \n",
       "0            False         False       False   False  \n",
       "1            False          True        True    True  \n",
       "2            False         False       False   False  \n",
       "3            False         False       False   False  \n",
       "4            False          True        True    True  \n",
       "...            ...           ...         ...     ...  \n",
       "16951        False          True        True    True  \n",
       "16952        False          True        True    True  \n",
       "16953        False          True        True    True  \n",
       "16954        False          True        True    True  \n",
       "16955        False          True        True    True  \n",
       "\n",
       "[16956 rows x 11 columns]"
      ]
     },
     "execution_count": 10,
     "metadata": {},
     "output_type": "execute_result"
    }
   ],
   "source": [
    "games.isna()"
   ]
  },
  {
   "cell_type": "markdown",
   "id": "8ba6d565",
   "metadata": {
    "id": "86cd1cc1"
   },
   "source": [
    "- Рассчитываем количество пропусков в строках в каждом столбце."
   ]
  },
  {
   "cell_type": "code",
   "execution_count": 11,
   "id": "247a6cf7",
   "metadata": {
    "id": "247a6cf7"
   },
   "outputs": [
    {
     "data": {
      "text/plain": [
       "name                  2\n",
       "platform              0\n",
       "year_of_release     275\n",
       "genre                 2\n",
       "na_sales              0\n",
       "eu_sales              6\n",
       "jp_sales              4\n",
       "other_sales           0\n",
       "critic_score       8714\n",
       "user_score         9268\n",
       "rating             6871\n",
       "dtype: int64"
      ]
     },
     "execution_count": 11,
     "metadata": {},
     "output_type": "execute_result"
    }
   ],
   "source": [
    "games.isna().sum()"
   ]
  },
  {
   "cell_type": "markdown",
   "id": "bce41795",
   "metadata": {},
   "source": [
    "- Рассчитаем долю пропусков от общего количества строк (в процентах)."
   ]
  },
  {
   "cell_type": "code",
   "execution_count": 12,
   "id": "08eadf82",
   "metadata": {},
   "outputs": [
    {
     "data": {
      "text/plain": [
       "name                0.011795\n",
       "platform            0.000000\n",
       "year_of_release     1.621845\n",
       "genre               0.011795\n",
       "na_sales            0.000000\n",
       "eu_sales            0.035386\n",
       "jp_sales            0.023590\n",
       "other_sales         0.000000\n",
       "critic_score       51.391838\n",
       "user_score         54.659118\n",
       "rating             40.522529\n",
       "dtype: float64"
      ]
     },
     "execution_count": 12,
     "metadata": {},
     "output_type": "execute_result"
    }
   ],
   "source": [
    "(games.isna().sum() / len(games))*100"
   ]
  },
  {
   "cell_type": "markdown",
   "id": "cf796f51",
   "metadata": {
    "id": "cf796f51"
   },
   "source": [
    "- Есть пропуски в таких столбцах: `name`; `year_of_release`; `genre`; `critic_score`; `user_score`; `rating`. После преобразоаний типов данных обнаружилось, что в строках `eu_sales ` и `jp_sales` тоже есть пропуски. Это произошло из-за приведения данныхот тип `object` к `float64`.\n",
    "- Строки с пропусками в колонке `name` относятся к типу MCAR и оставляют всего около 0.01%. Скорее всего их придется удалить для более эффективного анализа остальных данных. Тем более такое неболшое количество пропущенных данных вряд ли существенно исказит итоговый результат. \n",
    "- Строки с пропусками в колонке `genre` относятся к типу MCAR и оставляют всего около 0.01%. Чтобы не потерять данные о существующих играх, скорее всего придется заменить пропуски в данных строках.\n",
    "- Строки с пропусками в колонке `year_of_release` относятся к типу MCAR и оставляют около 1,6%. У каждой игры есть год выпуска, но по той или иной причине он пропущен. Причины этого сложно предположить, поэтому отнесем этот пропуск к виду совершенно случайных. \n",
    "- Строки с пропусками в колонке `eu_sales ` и `jp_sales` составили 0.035% и 0.02%. Такие пропуски вполне допустимы, ведь игры могли не продаваться на территории Европы и Японии. Скорее всего эти пропуски придется не учитывать, либо заменить средними значениями по столбцу. В целом, такие пропуски можно даже удалить, так как они составляют менее 1%.\n",
    "- Строки с пропусками в колонках `rating` оставляют около 40%. Скорее всего люди просто не оценивали некоторые игры или разработчики не давали им такой возможности выставить оценку. \n",
    "- Строки с пропусками в колонках `user_score` состаялют 54,6%. Это самая большая доля пропусков в датафрейме, ее нельзя игнорировать, придется заменять. Организация, которая присваивает рейтиг ESRB могла не оценить игры, так как сами разработчики не решили вопрос с подачей заявки на оценку или игра не популярна и организация просто не обратила внимания на эту игру. Причины зависят от того, каким образом игры попадают на оценку в организацию. Такие пропуски точно придется заполнить, чтобы не упустить огромный массив данных для анализа.\n",
    "- Строки с пропусками в колонке `critic_score` составляют около 51%. Скорее всего критики просто не оценивают непопулярные игры, но это тоже стоит проверить, обратив внимание на количество продаж таких игр с пропусками в рейтингах. \n"
   ]
  },
  {
   "cell_type": "code",
   "execution_count": 13,
   "id": "df95be0f",
   "metadata": {
    "scrolled": true
   },
   "outputs": [
    {
     "data": {
      "text/plain": [
       "name               0\n",
       "platform           0\n",
       "year_of_release    0\n",
       "genre              0\n",
       "na_sales           0\n",
       "eu_sales           0\n",
       "jp_sales           0\n",
       "other_sales        0\n",
       "critic_score       0\n",
       "user_score         0\n",
       "rating             0\n",
       "dtype: int64"
      ]
     },
     "metadata": {},
     "output_type": "display_data"
    }
   ],
   "source": [
    "# Удаляем значения из колонки names, так как пропуски составляют <1%\n",
    "games = games.dropna(subset = ['name']) \n",
    "\n",
    "# Удаляем значения из колонок eu_sales и jp_sales, так как пропуски составляют <1%\n",
    "games = games.dropna(subset = ['eu_sales']) \n",
    "games = games.dropna(subset = ['jp_sales']) \n",
    "\n",
    "# Заполняем пропуски значением -1,так как по условию оценки в колонке critic_score начинаются с 0\n",
    "games['critic_score'] = games['critic_score'].fillna(-1) \n",
    "\n",
    "# Заполняем пропуски значением -1,так как по условю оценки в колонке user_score начинаются с 0\n",
    "games['user_score'] = games['user_score'].fillna(-1) \n",
    "\n",
    "# Заполняем пропуски фразой \"без рейтинга\", так как в колонке rating представлены буквы и, соответственно, \n",
    "# колонка имеет тип object\n",
    "# Цифры в таком случае будут выглядеть странно, создавать путаницу \n",
    "games['rating'] = games ['rating'].fillna('без рейтинга')\n",
    "\n",
    "\n",
    "# Заполняем пропуски значением 0,так как в колонке year_of_release начинаются представлены даты. \n",
    "games['year_of_release'] = games['year_of_release'].fillna(0) \n",
    "\n",
    "display(games.isna().sum())"
   ]
  },
  {
   "cell_type": "markdown",
   "id": "a63363fd",
   "metadata": {
    "id": "a63363fd"
   },
   "source": [
    "### 2.4. Явные и неявные дубликаты в данных\n",
    "\n",
    "- Найдем количество уникальных строк и неявные дубликаты. <a id='2D'></a>"
   ]
  },
  {
   "cell_type": "code",
   "execution_count": 14,
   "id": "491c9c39",
   "metadata": {
    "id": "491c9c39"
   },
   "outputs": [
    {
     "data": {
      "text/plain": [
       "name               11556\n",
       "platform              31\n",
       "year_of_release       38\n",
       "genre                 24\n",
       "na_sales             402\n",
       "eu_sales             307\n",
       "jp_sales             244\n",
       "other_sales          155\n",
       "critic_score          83\n",
       "user_score            96\n",
       "rating                 9\n",
       "dtype: int64"
      ]
     },
     "metadata": {},
     "output_type": "display_data"
    },
    {
     "data": {
      "text/plain": [
       "array(['Sports', 'Platform', 'Racing', 'Role-Playing', 'Puzzle', 'Misc',\n",
       "       'Shooter', 'Simulation', 'Action', 'Fighting', 'Adventure',\n",
       "       'Strategy', 'MISC', 'ROLE-PLAYING', 'RACING', 'ACTION', 'SHOOTER',\n",
       "       'FIGHTING', 'SPORTS', 'PLATFORM', 'ADVENTURE', 'SIMULATION',\n",
       "       'PUZZLE', 'STRATEGY'], dtype=object)"
      ]
     },
     "metadata": {},
     "output_type": "display_data"
    },
    {
     "data": {
      "text/plain": [
       "<IntegerArray>\n",
       "[2006, 1985, 2008, 2009, 1996, 1989, 1984, 2005, 1999, 2007, 2010, 2013, 2004,\n",
       " 1990, 1988, 2002, 2001, 2011, 1998, 2015, 2012, 2014, 1992, 1997, 1993, 1994,\n",
       " 1982, 2016, 2003, 1986, 2000,    0, 1995, 1991, 1981, 1987, 1980, 1983]\n",
       "Length: 38, dtype: Int64"
      ]
     },
     "metadata": {},
     "output_type": "display_data"
    },
    {
     "data": {
      "text/plain": [
       "array(['Wii', 'NES', 'GB', 'DS', 'X360', 'PS3', 'PS2', 'SNES', 'GBA',\n",
       "       'PS4', '3DS', 'N64', 'PS', 'XB', 'PC', '2600', 'PSP', 'XOne',\n",
       "       'WiiU', 'GC', 'GEN', 'DC', 'PSV', 'SAT', 'SCD', 'WS', 'NG', 'TG16',\n",
       "       '3DO', 'GG', 'PCFX'], dtype=object)"
      ]
     },
     "metadata": {},
     "output_type": "display_data"
    },
    {
     "data": {
      "text/plain": [
       "array(['E', 'без рейтинга', 'M', 'T', 'E10+', 'K-A', 'AO', 'EC', 'RP'],\n",
       "      dtype=object)"
      ]
     },
     "metadata": {},
     "output_type": "display_data"
    }
   ],
   "source": [
    "nuniqe_name = games.nunique()\n",
    "display(nuniqe_name)\n",
    "\n",
    "display()\n",
    "\n",
    "unique_genre = games['genre'].unique()\n",
    "display(unique_genre)\n",
    "\n",
    "display()\n",
    "\n",
    "unique_year_of_release = games['year_of_release'].unique()\n",
    "display(unique_year_of_release)\n",
    "\n",
    "display()\n",
    "\n",
    "unique_platform = games['platform'].unique()\n",
    "display(unique_platform)\n",
    "\n",
    "display()\n",
    "\n",
    "unique_rating = games['rating'].unique()\n",
    "display(unique_rating)"
   ]
  },
  {
   "cell_type": "markdown",
   "id": "b4611eb1",
   "metadata": {
    "id": "f1627198"
   },
   "source": [
    "Выводы о дубликатах.\n",
    "- В начале мы вывели количество уникальных значений в каждом столбце датафрейма. Как мы помним из первого пункта анализа, всего строк 16956. Можно сделать вывод, что дубликаты есть в каждом столбце. Меньше всего их в столбце name, там более 10 тыс. оригинальных строк. \n",
    "Проанализируем каждый столбец: \n",
    "- `name`: неявные дубликаты сложно проанализировать из-за большого объема уникальынх строк. Далее попробуем определить явные дубликаты.  \n",
    "- `platform`:  явных и неявных дубликатов нет. Платформы могут повторятся. Также мы вывели все уникальные значения для проверки. \n",
    "- `year_of_release`: года могут повторятся. Также мы вывели все уникальные значения для проверки. \n",
    "- `genre`: в этом столбце дубликаты придется исправить. Мы вывели далее все уникальыне значения и можно заметить, что жанры по названию совпадают, но различаются лишь регистром. Это неявные дубликаты. \n",
    "- `na_sales`: значения могут повторятся, так как это чисенные значения количества продаж в регионе.             \n",
    "- `eu_sales`: значения могут повторятся, так как это чисенные значения количества продаж в регионе.           \n",
    "- `jp_sales`: значения могут повторятся, так как это чисенные значения количества продаж в регионе.           \n",
    "- `other_sales`: значения могут повторятся, так как это чисенные значения количества продаж.         \n",
    "- `critic_score`: значения могут повторятся, так как это численные оценки в определенном диапазоне.          \n",
    "- `user_score`: значения могут повторятся, так как это численные оценки в определенном диапазоне.        \n",
    "- `rating`: есть неявные дубликаты: это значения K-A и Е. К-А использоваля до 1998 года и после был замененм на категорию Е. Поэтому дальше мы заменим ее на Е для более удобного анализа.\n",
    " "
   ]
  },
  {
   "cell_type": "markdown",
   "id": "faacba5a",
   "metadata": {},
   "source": [
    "- Избавимся от неявных дубликатов в столбце `genre`. Приведем все значения в строке к нижнему регистру."
   ]
  },
  {
   "cell_type": "code",
   "execution_count": 15,
   "id": "a0cac80c",
   "metadata": {
    "id": "a0cac80c"
   },
   "outputs": [
    {
     "data": {
      "text/plain": [
       "array(['sports', 'platform', 'racing', 'role-playing', 'puzzle', 'misc',\n",
       "       'shooter', 'simulation', 'action', 'fighting', 'adventure',\n",
       "       'strategy'], dtype=object)"
      ]
     },
     "metadata": {},
     "output_type": "display_data"
    },
    {
     "data": {
      "text/plain": [
       "12"
      ]
     },
     "metadata": {},
     "output_type": "display_data"
    }
   ],
   "source": [
    "games['genre'] = games['genre'].str.lower()\n",
    "display(games['genre'].unique(), games['genre'].nunique())"
   ]
  },
  {
   "cell_type": "markdown",
   "id": "12e2c67b",
   "metadata": {},
   "source": [
    " - Избавимся от дубликатов в столбце `rating`.\n"
   ]
  },
  {
   "cell_type": "code",
   "execution_count": 16,
   "id": "7460aafa",
   "metadata": {},
   "outputs": [
    {
     "data": {
      "text/plain": [
       "array(['E', 'без рейтинга', 'M', 'T', 'E10+', 'AO', 'EC', 'RP'],\n",
       "      dtype=object)"
      ]
     },
     "metadata": {},
     "output_type": "display_data"
    }
   ],
   "source": [
    "games['rating'] = games['rating'].str.replace('K-A','E')\n",
    "display(games['rating'].unique())"
   ]
  },
  {
   "cell_type": "markdown",
   "id": "2952ce51",
   "metadata": {},
   "source": [
    "- Можно заметить, что количество уникальных строк уменьшилось в два раза. "
   ]
  },
  {
   "cell_type": "markdown",
   "id": "fc3d3db4",
   "metadata": {
    "id": "fc3d3db4"
   },
   "source": [
    "- Попробуем найти явные дубликаты по всем столбцам датафрейма. "
   ]
  },
  {
   "cell_type": "code",
   "execution_count": 17,
   "id": "fc5c91b5",
   "metadata": {
    "id": "fc5c91b5"
   },
   "outputs": [
    {
     "data": {
      "text/plain": [
       "0        False\n",
       "1        False\n",
       "2        False\n",
       "3        False\n",
       "4        False\n",
       "         ...  \n",
       "16951    False\n",
       "16952    False\n",
       "16953    False\n",
       "16954    False\n",
       "16955    False\n",
       "Length: 16944, dtype: bool"
      ]
     },
     "metadata": {},
     "output_type": "display_data"
    }
   ],
   "source": [
    "display(games.duplicated(subset = None, keep = 'first'))"
   ]
  },
  {
   "cell_type": "markdown",
   "id": "27970b13",
   "metadata": {
    "id": "2f61e076"
   },
   "source": [
    "- Можно заметить, что есть дубликаты. Поэтому далее удалим явные дубликаты из столбца. "
   ]
  },
  {
   "cell_type": "code",
   "execution_count": 18,
   "id": "29e57705",
   "metadata": {
    "id": "29e57705"
   },
   "outputs": [
    {
     "data": {
      "text/plain": [
       "0        False\n",
       "1        False\n",
       "2        False\n",
       "3        False\n",
       "4        False\n",
       "         ...  \n",
       "16951    False\n",
       "16952    False\n",
       "16953    False\n",
       "16954    False\n",
       "16955    False\n",
       "Length: 16703, dtype: bool"
      ]
     },
     "metadata": {},
     "output_type": "display_data"
    }
   ],
   "source": [
    "games1 = games.drop_duplicates(subset = None, keep = 'first')\n",
    "display(games1.duplicated(subset = None, keep = 'first'))"
   ]
  },
  {
   "cell_type": "markdown",
   "id": "25d079d9",
   "metadata": {
    "id": "8548f894"
   },
   "source": [
    "Промежуточный вывод:\n",
    "- Информацию насчет количества уникальных строк в каждом столбце, явных и неявных дубликатов можно посмотреть выше. \n",
    "- После общего анализа дубликатов были преобразованы данные в столбце `genre`. Там имелись невные дубликаты из-за разного регистра. Все данные были приведены к нижнему регистру, что уменьшило количество уникальных значений в два раза: c 24 до 12.\n",
    "- Также мы преобразовали неявные дубликаты в столбце `rating`: значения рейтинга K-A заменены на Е.\n",
    "- Далее мы исследовали столбец `name` и обнаружили там явные дубликаты. Уникальных значений в строке всего 11 556, а через метод `.duplicated()` было обнаружено 16944 строки. Сделав выовд о том, что игра с одни и тем же названием не могла выйти несколько раз, было принято решение удалить все явные дубликаты. В итоге мы снова получили 11556 строк. \n"
   ]
  },
  {
   "cell_type": "code",
   "execution_count": 19,
   "id": "f9d8ee19",
   "metadata": {
    "id": "f9d8ee19"
   },
   "outputs": [
    {
     "data": {
      "text/plain": [
       "241"
      ]
     },
     "metadata": {},
     "output_type": "display_data"
    },
    {
     "data": {
      "text/plain": [
       "1.01"
      ]
     },
     "metadata": {},
     "output_type": "display_data"
    },
    {
     "data": {
      "text/plain": [
       "0        False\n",
       "1        False\n",
       "2        False\n",
       "3        False\n",
       "4        False\n",
       "         ...  \n",
       "16951    False\n",
       "16952    False\n",
       "16953    False\n",
       "16954    False\n",
       "16955    False\n",
       "Length: 16703, dtype: bool"
      ]
     },
     "metadata": {},
     "output_type": "display_data"
    }
   ],
   "source": [
    "# Абсолютное и относительное значение количества пропусков можно посмотреть выше\n",
    "\n",
    "#Так как удяляли дубликаты мы только из столбца name, поэтому и считаем значения только для него\n",
    "g = games.shape[0]\n",
    "g1 = games1.shape[0]\n",
    "count1 = g-g1 # Абсолютное значение дубликатов\n",
    "count2 = g/g1 # Относительное значение дубликатов\n",
    "display(count1, round(count2,2))\n",
    "\n",
    "# Здесь мы производим такое же удаление дубликатов, что делали выше в переменной games1, только уже с \n",
    "# исходным датафреймов, чтобы проводить дальнейший было проще\n",
    "games = games.drop_duplicates(subset = None, keep = 'first') \n",
    "display(games.duplicated(subset = None, keep = 'first'))"
   ]
  },
  {
   "cell_type": "markdown",
   "id": "47613d75",
   "metadata": {
    "id": "47613d75"
   },
   "source": [
    "Общий промежуточный вывод:\n",
    "- Были получены [общие сведения](#1) о датафрейме о количестве строк и столбцоы (16956х11), а также типов данных. \n",
    "- Все столбцы приведены к [стилю snake case](#2A). \n",
    "- Были преобразованы [типы данных в столбцах](#2B) на более оптимальные. \n",
    "- Были посчитаны [все пропуски](#2C) в абсолютных и относительных значениях, выявлены их причины. Были либо заменены значения в пропусках, либо удалены, либо оставлены такими, какие они есть. \n",
    "- Были определены [количество уникальных строк по столбцам](#2D), выявлены неявные дубликаты в столбце `genre`. Уникальные строки после преобразваония уменьшились в два раза (с 24 до 12). Также были выявлены и удалены явные дубликаты, а также посчитаны абсолютные и относительные значения дубликатов. \n",
    "\n",
    "Более подробно о каждом этапе работы можно прочитать выше, везде были составлены отчеты и объяснения про проделанной работе."
   ]
  },
  {
   "cell_type": "markdown",
   "id": "613f0eb0",
   "metadata": {
    "id": "613f0eb0"
   },
   "source": [
    "---\n",
    "\n",
    "## 3. Фильтрация данных\n",
    "Отберем данные за период с 2000 по 2013 год включительно. Сохраним новый срез данных в отдельном датафрейме `df_actual`. <a id='3'></a>"
   ]
  },
  {
   "cell_type": "code",
   "execution_count": 20,
   "id": "2344916d",
   "metadata": {
    "id": "2344916d",
    "scrolled": true
   },
   "outputs": [
    {
     "data": {
      "text/html": [
       "<div>\n",
       "<style scoped>\n",
       "    .dataframe tbody tr th:only-of-type {\n",
       "        vertical-align: middle;\n",
       "    }\n",
       "\n",
       "    .dataframe tbody tr th {\n",
       "        vertical-align: top;\n",
       "    }\n",
       "\n",
       "    .dataframe thead th {\n",
       "        text-align: right;\n",
       "    }\n",
       "</style>\n",
       "<table border=\"1\" class=\"dataframe\">\n",
       "  <thead>\n",
       "    <tr style=\"text-align: right;\">\n",
       "      <th></th>\n",
       "      <th>name</th>\n",
       "      <th>platform</th>\n",
       "      <th>year_of_release</th>\n",
       "      <th>genre</th>\n",
       "      <th>na_sales</th>\n",
       "      <th>eu_sales</th>\n",
       "      <th>jp_sales</th>\n",
       "      <th>other_sales</th>\n",
       "      <th>critic_score</th>\n",
       "      <th>user_score</th>\n",
       "      <th>rating</th>\n",
       "    </tr>\n",
       "  </thead>\n",
       "  <tbody>\n",
       "    <tr>\n",
       "      <th>0</th>\n",
       "      <td>Wii Sports</td>\n",
       "      <td>Wii</td>\n",
       "      <td>2006</td>\n",
       "      <td>sports</td>\n",
       "      <td>41.36</td>\n",
       "      <td>28.96</td>\n",
       "      <td>3.77</td>\n",
       "      <td>8.45</td>\n",
       "      <td>76.0</td>\n",
       "      <td>8.0</td>\n",
       "      <td>E</td>\n",
       "    </tr>\n",
       "    <tr>\n",
       "      <th>2</th>\n",
       "      <td>Mario Kart Wii</td>\n",
       "      <td>Wii</td>\n",
       "      <td>2008</td>\n",
       "      <td>racing</td>\n",
       "      <td>15.68</td>\n",
       "      <td>12.76</td>\n",
       "      <td>3.79</td>\n",
       "      <td>3.29</td>\n",
       "      <td>82.0</td>\n",
       "      <td>8.3</td>\n",
       "      <td>E</td>\n",
       "    </tr>\n",
       "    <tr>\n",
       "      <th>3</th>\n",
       "      <td>Wii Sports Resort</td>\n",
       "      <td>Wii</td>\n",
       "      <td>2009</td>\n",
       "      <td>sports</td>\n",
       "      <td>15.61</td>\n",
       "      <td>10.93</td>\n",
       "      <td>3.28</td>\n",
       "      <td>2.95</td>\n",
       "      <td>80.0</td>\n",
       "      <td>8.0</td>\n",
       "      <td>E</td>\n",
       "    </tr>\n",
       "    <tr>\n",
       "      <th>6</th>\n",
       "      <td>New Super Mario Bros.</td>\n",
       "      <td>DS</td>\n",
       "      <td>2006</td>\n",
       "      <td>platform</td>\n",
       "      <td>11.28</td>\n",
       "      <td>9.14</td>\n",
       "      <td>6.50</td>\n",
       "      <td>2.88</td>\n",
       "      <td>89.0</td>\n",
       "      <td>8.5</td>\n",
       "      <td>E</td>\n",
       "    </tr>\n",
       "    <tr>\n",
       "      <th>7</th>\n",
       "      <td>Wii Play</td>\n",
       "      <td>Wii</td>\n",
       "      <td>2006</td>\n",
       "      <td>misc</td>\n",
       "      <td>13.96</td>\n",
       "      <td>9.18</td>\n",
       "      <td>2.93</td>\n",
       "      <td>2.84</td>\n",
       "      <td>58.0</td>\n",
       "      <td>6.6</td>\n",
       "      <td>E</td>\n",
       "    </tr>\n",
       "    <tr>\n",
       "      <th>...</th>\n",
       "      <td>...</td>\n",
       "      <td>...</td>\n",
       "      <td>...</td>\n",
       "      <td>...</td>\n",
       "      <td>...</td>\n",
       "      <td>...</td>\n",
       "      <td>...</td>\n",
       "      <td>...</td>\n",
       "      <td>...</td>\n",
       "      <td>...</td>\n",
       "      <td>...</td>\n",
       "    </tr>\n",
       "    <tr>\n",
       "      <th>16947</th>\n",
       "      <td>Men in Black II: Alien Escape</td>\n",
       "      <td>GC</td>\n",
       "      <td>2003</td>\n",
       "      <td>shooter</td>\n",
       "      <td>0.01</td>\n",
       "      <td>0.00</td>\n",
       "      <td>0.00</td>\n",
       "      <td>0.00</td>\n",
       "      <td>-1.0</td>\n",
       "      <td>-1.0</td>\n",
       "      <td>T</td>\n",
       "    </tr>\n",
       "    <tr>\n",
       "      <th>16949</th>\n",
       "      <td>Woody Woodpecker in Crazy Castle 5</td>\n",
       "      <td>GBA</td>\n",
       "      <td>2002</td>\n",
       "      <td>platform</td>\n",
       "      <td>0.01</td>\n",
       "      <td>0.00</td>\n",
       "      <td>0.00</td>\n",
       "      <td>0.00</td>\n",
       "      <td>-1.0</td>\n",
       "      <td>-1.0</td>\n",
       "      <td>без рейтинга</td>\n",
       "    </tr>\n",
       "    <tr>\n",
       "      <th>16950</th>\n",
       "      <td>SCORE International Baja 1000: The Official Game</td>\n",
       "      <td>PS2</td>\n",
       "      <td>2008</td>\n",
       "      <td>racing</td>\n",
       "      <td>0.00</td>\n",
       "      <td>0.00</td>\n",
       "      <td>0.00</td>\n",
       "      <td>0.00</td>\n",
       "      <td>-1.0</td>\n",
       "      <td>-1.0</td>\n",
       "      <td>без рейтинга</td>\n",
       "    </tr>\n",
       "    <tr>\n",
       "      <th>16952</th>\n",
       "      <td>LMA Manager 2007</td>\n",
       "      <td>X360</td>\n",
       "      <td>2006</td>\n",
       "      <td>sports</td>\n",
       "      <td>0.00</td>\n",
       "      <td>0.01</td>\n",
       "      <td>0.00</td>\n",
       "      <td>0.00</td>\n",
       "      <td>-1.0</td>\n",
       "      <td>-1.0</td>\n",
       "      <td>без рейтинга</td>\n",
       "    </tr>\n",
       "    <tr>\n",
       "      <th>16954</th>\n",
       "      <td>Spirits &amp; Spells</td>\n",
       "      <td>GBA</td>\n",
       "      <td>2003</td>\n",
       "      <td>platform</td>\n",
       "      <td>0.01</td>\n",
       "      <td>0.00</td>\n",
       "      <td>0.00</td>\n",
       "      <td>0.00</td>\n",
       "      <td>-1.0</td>\n",
       "      <td>-1.0</td>\n",
       "      <td>без рейтинга</td>\n",
       "    </tr>\n",
       "  </tbody>\n",
       "</table>\n",
       "<p>12772 rows × 11 columns</p>\n",
       "</div>"
      ],
      "text/plain": [
       "                                                   name platform  \\\n",
       "0                                            Wii Sports      Wii   \n",
       "2                                        Mario Kart Wii      Wii   \n",
       "3                                     Wii Sports Resort      Wii   \n",
       "6                                 New Super Mario Bros.       DS   \n",
       "7                                              Wii Play      Wii   \n",
       "...                                                 ...      ...   \n",
       "16947                     Men in Black II: Alien Escape       GC   \n",
       "16949                Woody Woodpecker in Crazy Castle 5      GBA   \n",
       "16950  SCORE International Baja 1000: The Official Game      PS2   \n",
       "16952                                  LMA Manager 2007     X360   \n",
       "16954                                  Spirits & Spells      GBA   \n",
       "\n",
       "       year_of_release     genre  na_sales  eu_sales  jp_sales  other_sales  \\\n",
       "0                 2006    sports     41.36     28.96      3.77         8.45   \n",
       "2                 2008    racing     15.68     12.76      3.79         3.29   \n",
       "3                 2009    sports     15.61     10.93      3.28         2.95   \n",
       "6                 2006  platform     11.28      9.14      6.50         2.88   \n",
       "7                 2006      misc     13.96      9.18      2.93         2.84   \n",
       "...                ...       ...       ...       ...       ...          ...   \n",
       "16947             2003   shooter      0.01      0.00      0.00         0.00   \n",
       "16949             2002  platform      0.01      0.00      0.00         0.00   \n",
       "16950             2008    racing      0.00      0.00      0.00         0.00   \n",
       "16952             2006    sports      0.00      0.01      0.00         0.00   \n",
       "16954             2003  platform      0.01      0.00      0.00         0.00   \n",
       "\n",
       "       critic_score  user_score        rating  \n",
       "0              76.0         8.0             E  \n",
       "2              82.0         8.3             E  \n",
       "3              80.0         8.0             E  \n",
       "6              89.0         8.5             E  \n",
       "7              58.0         6.6             E  \n",
       "...             ...         ...           ...  \n",
       "16947          -1.0        -1.0             T  \n",
       "16949          -1.0        -1.0  без рейтинга  \n",
       "16950          -1.0        -1.0  без рейтинга  \n",
       "16952          -1.0        -1.0  без рейтинга  \n",
       "16954          -1.0        -1.0  без рейтинга  \n",
       "\n",
       "[12772 rows x 11 columns]"
      ]
     },
     "metadata": {},
     "output_type": "display_data"
    }
   ],
   "source": [
    "df_actual = games[(games['year_of_release'] >= 2000) & (games['year_of_release'] <= 2013)]\n",
    "df_actual = pd.DataFrame(df_actual)\n",
    "display(df_actual)"
   ]
  },
  {
   "cell_type": "markdown",
   "id": "a6f10b01",
   "metadata": {
    "id": "a6f10b01"
   },
   "source": [
    "---\n",
    "\n",
    "## 4. Категоризация данных\n",
    "    \n",
    "Проведите категоризацию данных:\n",
    "- Разделим все игры по оценкам пользователей и выделим такие категории: высокая оценка (от 8 до 10 включительно), средняя оценка (от 3 до 8, не включая правую границу интервала) и низкая оценка (от 0 до 3, не включая правую границу интервала). <a id='4'></a>"
   ]
  },
  {
   "cell_type": "code",
   "execution_count": 21,
   "id": "20c7cc16",
   "metadata": {
    "id": "3db87229"
   },
   "outputs": [
    {
     "data": {
      "text/html": [
       "<div>\n",
       "<style scoped>\n",
       "    .dataframe tbody tr th:only-of-type {\n",
       "        vertical-align: middle;\n",
       "    }\n",
       "\n",
       "    .dataframe tbody tr th {\n",
       "        vertical-align: top;\n",
       "    }\n",
       "\n",
       "    .dataframe thead th {\n",
       "        text-align: right;\n",
       "    }\n",
       "</style>\n",
       "<table border=\"1\" class=\"dataframe\">\n",
       "  <thead>\n",
       "    <tr style=\"text-align: right;\">\n",
       "      <th></th>\n",
       "      <th>name</th>\n",
       "      <th>platform</th>\n",
       "      <th>year_of_release</th>\n",
       "      <th>genre</th>\n",
       "      <th>na_sales</th>\n",
       "      <th>eu_sales</th>\n",
       "      <th>jp_sales</th>\n",
       "      <th>other_sales</th>\n",
       "      <th>critic_score</th>\n",
       "      <th>user_score</th>\n",
       "      <th>rating</th>\n",
       "      <th>user_score_category</th>\n",
       "    </tr>\n",
       "  </thead>\n",
       "  <tbody>\n",
       "    <tr>\n",
       "      <th>0</th>\n",
       "      <td>Wii Sports</td>\n",
       "      <td>Wii</td>\n",
       "      <td>2006</td>\n",
       "      <td>sports</td>\n",
       "      <td>41.36</td>\n",
       "      <td>28.96</td>\n",
       "      <td>3.77</td>\n",
       "      <td>8.45</td>\n",
       "      <td>76.0</td>\n",
       "      <td>8.0</td>\n",
       "      <td>E</td>\n",
       "      <td>высокая оценка</td>\n",
       "    </tr>\n",
       "    <tr>\n",
       "      <th>2</th>\n",
       "      <td>Mario Kart Wii</td>\n",
       "      <td>Wii</td>\n",
       "      <td>2008</td>\n",
       "      <td>racing</td>\n",
       "      <td>15.68</td>\n",
       "      <td>12.76</td>\n",
       "      <td>3.79</td>\n",
       "      <td>3.29</td>\n",
       "      <td>82.0</td>\n",
       "      <td>8.3</td>\n",
       "      <td>E</td>\n",
       "      <td>высокая оценка</td>\n",
       "    </tr>\n",
       "    <tr>\n",
       "      <th>3</th>\n",
       "      <td>Wii Sports Resort</td>\n",
       "      <td>Wii</td>\n",
       "      <td>2009</td>\n",
       "      <td>sports</td>\n",
       "      <td>15.61</td>\n",
       "      <td>10.93</td>\n",
       "      <td>3.28</td>\n",
       "      <td>2.95</td>\n",
       "      <td>80.0</td>\n",
       "      <td>8.0</td>\n",
       "      <td>E</td>\n",
       "      <td>высокая оценка</td>\n",
       "    </tr>\n",
       "    <tr>\n",
       "      <th>6</th>\n",
       "      <td>New Super Mario Bros.</td>\n",
       "      <td>DS</td>\n",
       "      <td>2006</td>\n",
       "      <td>platform</td>\n",
       "      <td>11.28</td>\n",
       "      <td>9.14</td>\n",
       "      <td>6.50</td>\n",
       "      <td>2.88</td>\n",
       "      <td>89.0</td>\n",
       "      <td>8.5</td>\n",
       "      <td>E</td>\n",
       "      <td>высокая оценка</td>\n",
       "    </tr>\n",
       "    <tr>\n",
       "      <th>7</th>\n",
       "      <td>Wii Play</td>\n",
       "      <td>Wii</td>\n",
       "      <td>2006</td>\n",
       "      <td>misc</td>\n",
       "      <td>13.96</td>\n",
       "      <td>9.18</td>\n",
       "      <td>2.93</td>\n",
       "      <td>2.84</td>\n",
       "      <td>58.0</td>\n",
       "      <td>6.6</td>\n",
       "      <td>E</td>\n",
       "      <td>средняя оценка</td>\n",
       "    </tr>\n",
       "    <tr>\n",
       "      <th>...</th>\n",
       "      <td>...</td>\n",
       "      <td>...</td>\n",
       "      <td>...</td>\n",
       "      <td>...</td>\n",
       "      <td>...</td>\n",
       "      <td>...</td>\n",
       "      <td>...</td>\n",
       "      <td>...</td>\n",
       "      <td>...</td>\n",
       "      <td>...</td>\n",
       "      <td>...</td>\n",
       "      <td>...</td>\n",
       "    </tr>\n",
       "    <tr>\n",
       "      <th>16947</th>\n",
       "      <td>Men in Black II: Alien Escape</td>\n",
       "      <td>GC</td>\n",
       "      <td>2003</td>\n",
       "      <td>shooter</td>\n",
       "      <td>0.01</td>\n",
       "      <td>0.00</td>\n",
       "      <td>0.00</td>\n",
       "      <td>0.00</td>\n",
       "      <td>-1.0</td>\n",
       "      <td>-1.0</td>\n",
       "      <td>T</td>\n",
       "      <td>без оценки</td>\n",
       "    </tr>\n",
       "    <tr>\n",
       "      <th>16949</th>\n",
       "      <td>Woody Woodpecker in Crazy Castle 5</td>\n",
       "      <td>GBA</td>\n",
       "      <td>2002</td>\n",
       "      <td>platform</td>\n",
       "      <td>0.01</td>\n",
       "      <td>0.00</td>\n",
       "      <td>0.00</td>\n",
       "      <td>0.00</td>\n",
       "      <td>-1.0</td>\n",
       "      <td>-1.0</td>\n",
       "      <td>без рейтинга</td>\n",
       "      <td>без оценки</td>\n",
       "    </tr>\n",
       "    <tr>\n",
       "      <th>16950</th>\n",
       "      <td>SCORE International Baja 1000: The Official Game</td>\n",
       "      <td>PS2</td>\n",
       "      <td>2008</td>\n",
       "      <td>racing</td>\n",
       "      <td>0.00</td>\n",
       "      <td>0.00</td>\n",
       "      <td>0.00</td>\n",
       "      <td>0.00</td>\n",
       "      <td>-1.0</td>\n",
       "      <td>-1.0</td>\n",
       "      <td>без рейтинга</td>\n",
       "      <td>без оценки</td>\n",
       "    </tr>\n",
       "    <tr>\n",
       "      <th>16952</th>\n",
       "      <td>LMA Manager 2007</td>\n",
       "      <td>X360</td>\n",
       "      <td>2006</td>\n",
       "      <td>sports</td>\n",
       "      <td>0.00</td>\n",
       "      <td>0.01</td>\n",
       "      <td>0.00</td>\n",
       "      <td>0.00</td>\n",
       "      <td>-1.0</td>\n",
       "      <td>-1.0</td>\n",
       "      <td>без рейтинга</td>\n",
       "      <td>без оценки</td>\n",
       "    </tr>\n",
       "    <tr>\n",
       "      <th>16954</th>\n",
       "      <td>Spirits &amp; Spells</td>\n",
       "      <td>GBA</td>\n",
       "      <td>2003</td>\n",
       "      <td>platform</td>\n",
       "      <td>0.01</td>\n",
       "      <td>0.00</td>\n",
       "      <td>0.00</td>\n",
       "      <td>0.00</td>\n",
       "      <td>-1.0</td>\n",
       "      <td>-1.0</td>\n",
       "      <td>без рейтинга</td>\n",
       "      <td>без оценки</td>\n",
       "    </tr>\n",
       "  </tbody>\n",
       "</table>\n",
       "<p>12772 rows × 12 columns</p>\n",
       "</div>"
      ],
      "text/plain": [
       "                                                   name platform  \\\n",
       "0                                            Wii Sports      Wii   \n",
       "2                                        Mario Kart Wii      Wii   \n",
       "3                                     Wii Sports Resort      Wii   \n",
       "6                                 New Super Mario Bros.       DS   \n",
       "7                                              Wii Play      Wii   \n",
       "...                                                 ...      ...   \n",
       "16947                     Men in Black II: Alien Escape       GC   \n",
       "16949                Woody Woodpecker in Crazy Castle 5      GBA   \n",
       "16950  SCORE International Baja 1000: The Official Game      PS2   \n",
       "16952                                  LMA Manager 2007     X360   \n",
       "16954                                  Spirits & Spells      GBA   \n",
       "\n",
       "       year_of_release     genre  na_sales  eu_sales  jp_sales  other_sales  \\\n",
       "0                 2006    sports     41.36     28.96      3.77         8.45   \n",
       "2                 2008    racing     15.68     12.76      3.79         3.29   \n",
       "3                 2009    sports     15.61     10.93      3.28         2.95   \n",
       "6                 2006  platform     11.28      9.14      6.50         2.88   \n",
       "7                 2006      misc     13.96      9.18      2.93         2.84   \n",
       "...                ...       ...       ...       ...       ...          ...   \n",
       "16947             2003   shooter      0.01      0.00      0.00         0.00   \n",
       "16949             2002  platform      0.01      0.00      0.00         0.00   \n",
       "16950             2008    racing      0.00      0.00      0.00         0.00   \n",
       "16952             2006    sports      0.00      0.01      0.00         0.00   \n",
       "16954             2003  platform      0.01      0.00      0.00         0.00   \n",
       "\n",
       "       critic_score  user_score        rating user_score_category  \n",
       "0              76.0         8.0             E      высокая оценка  \n",
       "2              82.0         8.3             E      высокая оценка  \n",
       "3              80.0         8.0             E      высокая оценка  \n",
       "6              89.0         8.5             E      высокая оценка  \n",
       "7              58.0         6.6             E      средняя оценка  \n",
       "...             ...         ...           ...                 ...  \n",
       "16947          -1.0        -1.0             T          без оценки  \n",
       "16949          -1.0        -1.0  без рейтинга          без оценки  \n",
       "16950          -1.0        -1.0  без рейтинга          без оценки  \n",
       "16952          -1.0        -1.0  без рейтинга          без оценки  \n",
       "16954          -1.0        -1.0  без рейтинга          без оценки  \n",
       "\n",
       "[12772 rows x 12 columns]"
      ]
     },
     "metadata": {},
     "output_type": "display_data"
    }
   ],
   "source": [
    "df_actual['user_score_category'] =pd.cut(df_actual['user_score'], bins = [-1,0,3,8,10], right = False, labels = ['без оценки','низкая оценка','средняя оценка','высокая оценка'])\n",
    "display(df_actual)"
   ]
  },
  {
   "cell_type": "markdown",
   "id": "6daae25a",
   "metadata": {},
   "source": [
    "- Также была добавлена категория `без оценки` для строчек с пропусками (пропуски заменены на значение -1). "
   ]
  },
  {
   "cell_type": "markdown",
   "id": "171657be",
   "metadata": {
    "id": "35438bd6"
   },
   "source": [
    "\n",
    "\n",
    "- Разделим все игры по оценкам критиков и выделим такие категории: высокая оценка (от 80 до 100 включительно), средняя оценка (от 30 до 80, не включая правую границу интервала) и низкая оценка (от 0 до 30, не включая правую границу интервала)."
   ]
  },
  {
   "cell_type": "code",
   "execution_count": 22,
   "id": "e3f7acb0",
   "metadata": {
    "id": "e3f7acb0"
   },
   "outputs": [
    {
     "data": {
      "text/html": [
       "<div>\n",
       "<style scoped>\n",
       "    .dataframe tbody tr th:only-of-type {\n",
       "        vertical-align: middle;\n",
       "    }\n",
       "\n",
       "    .dataframe tbody tr th {\n",
       "        vertical-align: top;\n",
       "    }\n",
       "\n",
       "    .dataframe thead th {\n",
       "        text-align: right;\n",
       "    }\n",
       "</style>\n",
       "<table border=\"1\" class=\"dataframe\">\n",
       "  <thead>\n",
       "    <tr style=\"text-align: right;\">\n",
       "      <th></th>\n",
       "      <th>name</th>\n",
       "      <th>platform</th>\n",
       "      <th>year_of_release</th>\n",
       "      <th>genre</th>\n",
       "      <th>na_sales</th>\n",
       "      <th>eu_sales</th>\n",
       "      <th>jp_sales</th>\n",
       "      <th>other_sales</th>\n",
       "      <th>critic_score</th>\n",
       "      <th>user_score</th>\n",
       "      <th>rating</th>\n",
       "      <th>user_score_category</th>\n",
       "      <th>critic_score_category</th>\n",
       "    </tr>\n",
       "  </thead>\n",
       "  <tbody>\n",
       "    <tr>\n",
       "      <th>0</th>\n",
       "      <td>Wii Sports</td>\n",
       "      <td>Wii</td>\n",
       "      <td>2006</td>\n",
       "      <td>sports</td>\n",
       "      <td>41.36</td>\n",
       "      <td>28.96</td>\n",
       "      <td>3.77</td>\n",
       "      <td>8.45</td>\n",
       "      <td>76.0</td>\n",
       "      <td>8.0</td>\n",
       "      <td>E</td>\n",
       "      <td>высокая оценка</td>\n",
       "      <td>средняя оценка</td>\n",
       "    </tr>\n",
       "    <tr>\n",
       "      <th>2</th>\n",
       "      <td>Mario Kart Wii</td>\n",
       "      <td>Wii</td>\n",
       "      <td>2008</td>\n",
       "      <td>racing</td>\n",
       "      <td>15.68</td>\n",
       "      <td>12.76</td>\n",
       "      <td>3.79</td>\n",
       "      <td>3.29</td>\n",
       "      <td>82.0</td>\n",
       "      <td>8.3</td>\n",
       "      <td>E</td>\n",
       "      <td>высокая оценка</td>\n",
       "      <td>высокая оценка</td>\n",
       "    </tr>\n",
       "    <tr>\n",
       "      <th>3</th>\n",
       "      <td>Wii Sports Resort</td>\n",
       "      <td>Wii</td>\n",
       "      <td>2009</td>\n",
       "      <td>sports</td>\n",
       "      <td>15.61</td>\n",
       "      <td>10.93</td>\n",
       "      <td>3.28</td>\n",
       "      <td>2.95</td>\n",
       "      <td>80.0</td>\n",
       "      <td>8.0</td>\n",
       "      <td>E</td>\n",
       "      <td>высокая оценка</td>\n",
       "      <td>высокая оценка</td>\n",
       "    </tr>\n",
       "    <tr>\n",
       "      <th>6</th>\n",
       "      <td>New Super Mario Bros.</td>\n",
       "      <td>DS</td>\n",
       "      <td>2006</td>\n",
       "      <td>platform</td>\n",
       "      <td>11.28</td>\n",
       "      <td>9.14</td>\n",
       "      <td>6.50</td>\n",
       "      <td>2.88</td>\n",
       "      <td>89.0</td>\n",
       "      <td>8.5</td>\n",
       "      <td>E</td>\n",
       "      <td>высокая оценка</td>\n",
       "      <td>высокая оценка</td>\n",
       "    </tr>\n",
       "    <tr>\n",
       "      <th>7</th>\n",
       "      <td>Wii Play</td>\n",
       "      <td>Wii</td>\n",
       "      <td>2006</td>\n",
       "      <td>misc</td>\n",
       "      <td>13.96</td>\n",
       "      <td>9.18</td>\n",
       "      <td>2.93</td>\n",
       "      <td>2.84</td>\n",
       "      <td>58.0</td>\n",
       "      <td>6.6</td>\n",
       "      <td>E</td>\n",
       "      <td>средняя оценка</td>\n",
       "      <td>средняя оценка</td>\n",
       "    </tr>\n",
       "    <tr>\n",
       "      <th>...</th>\n",
       "      <td>...</td>\n",
       "      <td>...</td>\n",
       "      <td>...</td>\n",
       "      <td>...</td>\n",
       "      <td>...</td>\n",
       "      <td>...</td>\n",
       "      <td>...</td>\n",
       "      <td>...</td>\n",
       "      <td>...</td>\n",
       "      <td>...</td>\n",
       "      <td>...</td>\n",
       "      <td>...</td>\n",
       "      <td>...</td>\n",
       "    </tr>\n",
       "    <tr>\n",
       "      <th>16947</th>\n",
       "      <td>Men in Black II: Alien Escape</td>\n",
       "      <td>GC</td>\n",
       "      <td>2003</td>\n",
       "      <td>shooter</td>\n",
       "      <td>0.01</td>\n",
       "      <td>0.00</td>\n",
       "      <td>0.00</td>\n",
       "      <td>0.00</td>\n",
       "      <td>-1.0</td>\n",
       "      <td>-1.0</td>\n",
       "      <td>T</td>\n",
       "      <td>без оценки</td>\n",
       "      <td>без оценки</td>\n",
       "    </tr>\n",
       "    <tr>\n",
       "      <th>16949</th>\n",
       "      <td>Woody Woodpecker in Crazy Castle 5</td>\n",
       "      <td>GBA</td>\n",
       "      <td>2002</td>\n",
       "      <td>platform</td>\n",
       "      <td>0.01</td>\n",
       "      <td>0.00</td>\n",
       "      <td>0.00</td>\n",
       "      <td>0.00</td>\n",
       "      <td>-1.0</td>\n",
       "      <td>-1.0</td>\n",
       "      <td>без рейтинга</td>\n",
       "      <td>без оценки</td>\n",
       "      <td>без оценки</td>\n",
       "    </tr>\n",
       "    <tr>\n",
       "      <th>16950</th>\n",
       "      <td>SCORE International Baja 1000: The Official Game</td>\n",
       "      <td>PS2</td>\n",
       "      <td>2008</td>\n",
       "      <td>racing</td>\n",
       "      <td>0.00</td>\n",
       "      <td>0.00</td>\n",
       "      <td>0.00</td>\n",
       "      <td>0.00</td>\n",
       "      <td>-1.0</td>\n",
       "      <td>-1.0</td>\n",
       "      <td>без рейтинга</td>\n",
       "      <td>без оценки</td>\n",
       "      <td>без оценки</td>\n",
       "    </tr>\n",
       "    <tr>\n",
       "      <th>16952</th>\n",
       "      <td>LMA Manager 2007</td>\n",
       "      <td>X360</td>\n",
       "      <td>2006</td>\n",
       "      <td>sports</td>\n",
       "      <td>0.00</td>\n",
       "      <td>0.01</td>\n",
       "      <td>0.00</td>\n",
       "      <td>0.00</td>\n",
       "      <td>-1.0</td>\n",
       "      <td>-1.0</td>\n",
       "      <td>без рейтинга</td>\n",
       "      <td>без оценки</td>\n",
       "      <td>без оценки</td>\n",
       "    </tr>\n",
       "    <tr>\n",
       "      <th>16954</th>\n",
       "      <td>Spirits &amp; Spells</td>\n",
       "      <td>GBA</td>\n",
       "      <td>2003</td>\n",
       "      <td>platform</td>\n",
       "      <td>0.01</td>\n",
       "      <td>0.00</td>\n",
       "      <td>0.00</td>\n",
       "      <td>0.00</td>\n",
       "      <td>-1.0</td>\n",
       "      <td>-1.0</td>\n",
       "      <td>без рейтинга</td>\n",
       "      <td>без оценки</td>\n",
       "      <td>без оценки</td>\n",
       "    </tr>\n",
       "  </tbody>\n",
       "</table>\n",
       "<p>12772 rows × 13 columns</p>\n",
       "</div>"
      ],
      "text/plain": [
       "                                                   name platform  \\\n",
       "0                                            Wii Sports      Wii   \n",
       "2                                        Mario Kart Wii      Wii   \n",
       "3                                     Wii Sports Resort      Wii   \n",
       "6                                 New Super Mario Bros.       DS   \n",
       "7                                              Wii Play      Wii   \n",
       "...                                                 ...      ...   \n",
       "16947                     Men in Black II: Alien Escape       GC   \n",
       "16949                Woody Woodpecker in Crazy Castle 5      GBA   \n",
       "16950  SCORE International Baja 1000: The Official Game      PS2   \n",
       "16952                                  LMA Manager 2007     X360   \n",
       "16954                                  Spirits & Spells      GBA   \n",
       "\n",
       "       year_of_release     genre  na_sales  eu_sales  jp_sales  other_sales  \\\n",
       "0                 2006    sports     41.36     28.96      3.77         8.45   \n",
       "2                 2008    racing     15.68     12.76      3.79         3.29   \n",
       "3                 2009    sports     15.61     10.93      3.28         2.95   \n",
       "6                 2006  platform     11.28      9.14      6.50         2.88   \n",
       "7                 2006      misc     13.96      9.18      2.93         2.84   \n",
       "...                ...       ...       ...       ...       ...          ...   \n",
       "16947             2003   shooter      0.01      0.00      0.00         0.00   \n",
       "16949             2002  platform      0.01      0.00      0.00         0.00   \n",
       "16950             2008    racing      0.00      0.00      0.00         0.00   \n",
       "16952             2006    sports      0.00      0.01      0.00         0.00   \n",
       "16954             2003  platform      0.01      0.00      0.00         0.00   \n",
       "\n",
       "       critic_score  user_score        rating user_score_category  \\\n",
       "0              76.0         8.0             E      высокая оценка   \n",
       "2              82.0         8.3             E      высокая оценка   \n",
       "3              80.0         8.0             E      высокая оценка   \n",
       "6              89.0         8.5             E      высокая оценка   \n",
       "7              58.0         6.6             E      средняя оценка   \n",
       "...             ...         ...           ...                 ...   \n",
       "16947          -1.0        -1.0             T          без оценки   \n",
       "16949          -1.0        -1.0  без рейтинга          без оценки   \n",
       "16950          -1.0        -1.0  без рейтинга          без оценки   \n",
       "16952          -1.0        -1.0  без рейтинга          без оценки   \n",
       "16954          -1.0        -1.0  без рейтинга          без оценки   \n",
       "\n",
       "      critic_score_category  \n",
       "0            средняя оценка  \n",
       "2            высокая оценка  \n",
       "3            высокая оценка  \n",
       "6            высокая оценка  \n",
       "7            средняя оценка  \n",
       "...                     ...  \n",
       "16947            без оценки  \n",
       "16949            без оценки  \n",
       "16950            без оценки  \n",
       "16952            без оценки  \n",
       "16954            без оценки  \n",
       "\n",
       "[12772 rows x 13 columns]"
      ]
     },
     "metadata": {},
     "output_type": "display_data"
    }
   ],
   "source": [
    "df_actual['critic_score_category'] =pd.cut(df_actual['critic_score'], bins = [-1,0,30,80,100], right = False, labels = ['без оценки','низкая оценка','средняя оценка','высокая оценка'])\n",
    "display(df_actual)"
   ]
  },
  {
   "cell_type": "markdown",
   "id": "6d706076",
   "metadata": {
    "id": "548fde17"
   },
   "source": [
    "- Также была добавлена категория `без оценки` для строчек с пропусками (пропуски заменены на значение -1)."
   ]
  },
  {
   "cell_type": "markdown",
   "id": "olkTlTlAUDR9",
   "metadata": {
    "id": "olkTlTlAUDR9"
   },
   "source": [
    "- Cгруппируем данные по выделенным категориям и посчитайем количество игр в каждой категории."
   ]
  },
  {
   "cell_type": "code",
   "execution_count": 23,
   "id": "HW0Nsp-4UMSL",
   "metadata": {
    "id": "HW0Nsp-4UMSL"
   },
   "outputs": [
    {
     "name": "stderr",
     "output_type": "stream",
     "text": [
      "/var/folders/xl/_7t_lfxs2cn13d3n1jpw_wgm0000gn/T/ipykernel_2275/1787519838.py:1: FutureWarning: The default of observed=False is deprecated and will be changed to True in a future version of pandas. Pass observed=False to retain current behavior or observed=True to adopt the future default and silence this warning.\n",
      "  display (df_actual.groupby('user_score_category')['name'].count(), df_actual.groupby('critic_score_category')['name'].count())\n"
     ]
    },
    {
     "data": {
      "text/plain": [
       "user_score_category\n",
       "без оценки        6296\n",
       "низкая оценка      116\n",
       "средняя оценка    4078\n",
       "высокая оценка    2282\n",
       "Name: name, dtype: int64"
      ]
     },
     "metadata": {},
     "output_type": "display_data"
    },
    {
     "data": {
      "text/plain": [
       "critic_score_category\n",
       "без оценки        5610\n",
       "низкая оценка       55\n",
       "средняя оценка    5421\n",
       "высокая оценка    1686\n",
       "Name: name, dtype: int64"
      ]
     },
     "metadata": {},
     "output_type": "display_data"
    }
   ],
   "source": [
    "display (df_actual.groupby('user_score_category')['name'].count(), df_actual.groupby('critic_score_category')['name'].count())"
   ]
  },
  {
   "cell_type": "markdown",
   "id": "076f92cd",
   "metadata": {
    "id": "x2ne0HIpUMMD"
   },
   "source": [
    "- Можно заметить, что в обоих категориях больше всего игр `без оценок` (около 4000). Следующие по численности категории: у `user_score_category` это `средняя оценка` (2269); у `critic_score_category` это тоже `средняя оценка` (3280). Больше высоких оценок (1573) ставят пользователи, а не критики (1009). "
   ]
  },
  {
   "cell_type": "markdown",
   "id": "6a98444c",
   "metadata": {
    "id": "6a98444c"
   },
   "source": [
    "- Выделите топ-7 платформ по количеству игр, выпущенных за весь актуальный период."
   ]
  },
  {
   "cell_type": "code",
   "execution_count": 24,
   "id": "003caa2c",
   "metadata": {
    "id": "003caa2c"
   },
   "outputs": [
    {
     "data": {
      "text/plain": [
       "platform\n",
       "PS2     2126\n",
       "DS      2117\n",
       "Wii     1275\n",
       "PSP     1179\n",
       "X360    1118\n",
       "PS3     1087\n",
       "GBA      810\n",
       "Name: name, dtype: int64"
      ]
     },
     "metadata": {},
     "output_type": "display_data"
    }
   ],
   "source": [
    "group_values = df_actual.groupby('platform')['name'].count()\n",
    "group_values = pd.Series(group_values)\n",
    "sorted_values = group_values.sort_values(ascending = False)\n",
    "display(sorted_values.head(7))"
   ]
  },
  {
   "cell_type": "markdown",
   "id": "d1a4df90",
   "metadata": {
    "id": "e8d8a1d0"
   },
   "source": [
    "- Лидерует среди топ-7 платформ `PS2`: для этой платформы было выпущено 1835 игр. "
   ]
  },
  {
   "cell_type": "markdown",
   "id": "c0158881",
   "metadata": {
    "id": "c0158881"
   },
   "source": [
    "---\n",
    "\n",
    "## 5. Итоговый вывод\n",
    "\n",
    "Выведем общую информацию об исходном датафрейме `games` и o новом датафрейме `df_actual`, который был создан как срез данных по исходному датафрейму за 2000 и 2013 года. Здесь можно посмотреть, какие столбцы появились, как изменилось количество строк. Описание двух новых столбцов датафрейма `df_actual` `user_score_category` и `critic_score_category` можно прочитать ниже, в общем выводе."
   ]
  },
  {
   "cell_type": "code",
   "execution_count": 25,
   "id": "78a85271",
   "metadata": {},
   "outputs": [
    {
     "name": "stdout",
     "output_type": "stream",
     "text": [
      "<class 'pandas.core.frame.DataFrame'>\n",
      "Index: 16703 entries, 0 to 16955\n",
      "Data columns (total 11 columns):\n",
      " #   Column           Non-Null Count  Dtype  \n",
      "---  ------           --------------  -----  \n",
      " 0   name             16703 non-null  object \n",
      " 1   platform         16703 non-null  object \n",
      " 2   year_of_release  16703 non-null  Int64  \n",
      " 3   genre            16703 non-null  object \n",
      " 4   na_sales         16703 non-null  float64\n",
      " 5   eu_sales         16703 non-null  float64\n",
      " 6   jp_sales         16703 non-null  float64\n",
      " 7   other_sales      16703 non-null  float64\n",
      " 8   critic_score     16703 non-null  float64\n",
      " 9   user_score       16703 non-null  float64\n",
      " 10  rating           16703 non-null  object \n",
      "dtypes: Int64(1), float64(6), object(4)\n",
      "memory usage: 1.5+ MB\n"
     ]
    }
   ],
   "source": [
    "games.info()"
   ]
  },
  {
   "cell_type": "code",
   "execution_count": 26,
   "id": "b33878df",
   "metadata": {},
   "outputs": [
    {
     "name": "stdout",
     "output_type": "stream",
     "text": [
      "<class 'pandas.core.frame.DataFrame'>\n",
      "Index: 12772 entries, 0 to 16954\n",
      "Data columns (total 13 columns):\n",
      " #   Column                 Non-Null Count  Dtype   \n",
      "---  ------                 --------------  -----   \n",
      " 0   name                   12772 non-null  object  \n",
      " 1   platform               12772 non-null  object  \n",
      " 2   year_of_release        12772 non-null  Int64   \n",
      " 3   genre                  12772 non-null  object  \n",
      " 4   na_sales               12772 non-null  float64 \n",
      " 5   eu_sales               12772 non-null  float64 \n",
      " 6   jp_sales               12772 non-null  float64 \n",
      " 7   other_sales            12772 non-null  float64 \n",
      " 8   critic_score           12772 non-null  float64 \n",
      " 9   user_score             12772 non-null  float64 \n",
      " 10  rating                 12772 non-null  object  \n",
      " 11  user_score_category    12772 non-null  category\n",
      " 12  critic_score_category  12772 non-null  category\n",
      "dtypes: Int64(1), category(2), float64(6), object(4)\n",
      "memory usage: 1.2+ MB\n"
     ]
    }
   ],
   "source": [
    "df_actual.info()"
   ]
  },
  {
   "cell_type": "markdown",
   "id": "ac9f18f3",
   "metadata": {
    "id": "20175f5b"
   },
   "source": [
    "Какие преобразования были сделаны с датафреймом `games`:\n",
    "\n",
    "- Были получены [общие сведения о датафрейме](#1) о количестве строк и столбцоы (16956х11), а также типов данных.Были выявлены пропуски в таких столбцах: `Name`; `Year of Releaese`; `Genre`; `Critic Score`; `User Score`; `Rating`. Соотвественно, столбцы без пропусков: `Platform`; `NA sales`; `EU sales`; `JP sales`; `Other sales`. Были выявлены столбцы с типом данных `object`, `float64`, нет столбцов с типом данных `integer` и `bool`. Также можно было заметить, что столбцы `NA sales`; `EU sales`; `JP sales`; `Other sales`, описывающие одинаковую информацию в одинаковых единицах измерения имеют разные типы данных (`NA sales`, `Other sales` - `float64`, `EU sales`; `JP sales` - `object`). User Score имел тип данных object.`Year of Releaese` имел тип данных `float64`.\n",
    "- Привели названия столбцов к стилю [snake case](#2A).\n",
    "- [Заменили все пропуски](#2B) в числовых колонках на `NaN`. Также для удобства преобразовали колонку `year_of_release` в формат `Int64`. \n",
    "- Изучили в каких столбцах [встречаются пропуски](#2C). Были посчитаны относительные и абсолютные значения пропусков в столбцах, пропуски были заменены индикаторыми либо удалены. Также были определены причины, по которым пропуски могли втсретиться в тех или иных столбцах. \n",
    "- Изучили вопрос, связанный с [явными и неявными дубликатами](#2D). Были определены количество уникальных строк по столбцам, выявлены неявные дубликаты в столбце `genre`. Все строки по этому столбцу были приведены к нижнему регистру. Уникальные строки после преобразваония уменьшились в два раза (с 24 до 12). Были выявлены и удалены явные дубликаты, а также посчитаны абсолютные и относительные значения дубликатов. \n",
    "- Далее провели [фильтрацию данных](#3) и создали новый датафрейм `df_actual` Мы отобрали данные по столбцу `year_of__releaese`. \n",
    "\n",
    "Какие преобразования были сделаны с датафреймом `games`:\n",
    "\n",
    "- Была проведена [категоризация данных](#4). Разделили все игры по оценкам пользователей и выделили такие категории: `высокая оценка` (от 8 до 10 включительно), `средняя оценка` (от 3 до 8, не включая правую границу интервала) и `низкая оценка` (от 0 до 3, не включая правую границу интервала). Столбец с такой категорией получил название `user_score_category`. В данной столбце также появилась категория `без оценки` для значений -1 (индикатор, которым мы заменили пропуск). Разделили все игры по оценкам критиков и выделили такие категории: `высокая оценка` (от 80 до 100 включительно), `средняя оценка` (от 30 до 80, не включая правую границу интервала) и `низкая оценка` (от 0 до 30, не включая правую границу интервала). Столбец с такой категорией получил название `critic_score_category`. В данной столбце также появилась категория `без оценки` для значений -1 (индикатор, которым мы заменили пропуск). Можно заметить, что в обоих категориях больше всего игр `без оценок` (около 4000). Следующие по численности категории: у `user_score_category` это `средняя оценка` (2269); у `critic_score_category` это тоже `средняя оценка` (3280). Больше высоких оценок (1573) ставят пользователи, а не критики (1009).\n",
    "- Далее выделили топ-7 платформ по количеству игр, выпущенных за весь актуальный период (2000-2013). Ими оказались: PS2, DS, Wii, PSP, PS3, GBA, X360."
   ]
  }
 ],
 "metadata": {
  "ExecuteTimeLog": [
   {
    "duration": 407,
    "start_time": "2025-05-05T11:04:17.487Z"
   },
   {
    "duration": 3,
    "start_time": "2025-05-05T11:04:38.444Z"
   },
   {
    "duration": 75,
    "start_time": "2025-05-05T11:05:06.366Z"
   },
   {
    "duration": 60,
    "start_time": "2025-05-05T11:05:21.177Z"
   },
   {
    "duration": 74,
    "start_time": "2025-05-05T11:06:03.709Z"
   },
   {
    "duration": 7,
    "start_time": "2025-05-05T11:06:16.342Z"
   },
   {
    "duration": 195,
    "start_time": "2025-05-05T11:08:53.270Z"
   },
   {
    "duration": 16,
    "start_time": "2025-05-05T11:09:52.674Z"
   },
   {
    "duration": 18,
    "start_time": "2025-05-05T11:10:39.074Z"
   },
   {
    "duration": 20,
    "start_time": "2025-05-05T11:14:49.630Z"
   },
   {
    "duration": 9,
    "start_time": "2025-05-05T11:15:51.799Z"
   },
   {
    "duration": 4,
    "start_time": "2025-05-05T11:16:09.853Z"
   },
   {
    "duration": 10,
    "start_time": "2025-05-05T11:16:30.947Z"
   },
   {
    "duration": 6,
    "start_time": "2025-05-05T11:17:20.865Z"
   },
   {
    "duration": 11,
    "start_time": "2025-05-05T11:17:32.149Z"
   },
   {
    "duration": 97,
    "start_time": "2025-05-05T11:19:32.827Z"
   },
   {
    "duration": 75,
    "start_time": "2025-05-05T11:19:37.496Z"
   },
   {
    "duration": 17,
    "start_time": "2025-05-05T11:20:46.279Z"
   },
   {
    "duration": 17,
    "start_time": "2025-05-05T11:21:28.315Z"
   },
   {
    "duration": 12,
    "start_time": "2025-05-05T11:21:37.213Z"
   },
   {
    "duration": 12,
    "start_time": "2025-05-05T11:21:46.809Z"
   },
   {
    "duration": 17,
    "start_time": "2025-05-05T11:40:25.348Z"
   },
   {
    "duration": 7,
    "start_time": "2025-05-05T11:45:31.517Z"
   },
   {
    "duration": 17,
    "start_time": "2025-05-05T11:45:41.873Z"
   },
   {
    "duration": 74,
    "start_time": "2025-05-05T11:46:56.150Z"
   },
   {
    "duration": 24,
    "start_time": "2025-05-05T11:47:25.030Z"
   },
   {
    "duration": 23,
    "start_time": "2025-05-05T11:47:55.459Z"
   },
   {
    "duration": 22,
    "start_time": "2025-05-05T11:48:15.196Z"
   },
   {
    "duration": 70,
    "start_time": "2025-05-05T11:48:50.207Z"
   },
   {
    "duration": 21,
    "start_time": "2025-05-05T11:49:18.712Z"
   },
   {
    "duration": 70,
    "start_time": "2025-05-05T11:52:33.294Z"
   },
   {
    "duration": 7,
    "start_time": "2025-05-05T11:52:55.991Z"
   },
   {
    "duration": 93,
    "start_time": "2025-05-05T11:53:25.774Z"
   },
   {
    "duration": 78,
    "start_time": "2025-05-05T11:53:34.807Z"
   },
   {
    "duration": 7,
    "start_time": "2025-05-05T11:55:14.107Z"
   },
   {
    "duration": 7,
    "start_time": "2025-05-05T11:56:12.707Z"
   },
   {
    "duration": 7,
    "start_time": "2025-05-05T11:57:08.639Z"
   },
   {
    "duration": 9,
    "start_time": "2025-05-05T11:58:20.554Z"
   },
   {
    "duration": 3,
    "start_time": "2025-05-05T11:59:24.973Z"
   },
   {
    "duration": 53,
    "start_time": "2025-05-05T11:59:26.339Z"
   },
   {
    "duration": 15,
    "start_time": "2025-05-05T11:59:29.371Z"
   },
   {
    "duration": 14,
    "start_time": "2025-05-05T11:59:32.563Z"
   },
   {
    "duration": 21,
    "start_time": "2025-05-05T11:59:36.379Z"
   },
   {
    "duration": 4,
    "start_time": "2025-05-05T11:59:37.791Z"
   },
   {
    "duration": 11,
    "start_time": "2025-05-05T11:59:40.789Z"
   },
   {
    "duration": 15,
    "start_time": "2025-05-05T11:59:42.489Z"
   },
   {
    "duration": 12,
    "start_time": "2025-05-05T11:59:43.708Z"
   },
   {
    "duration": 3,
    "start_time": "2025-05-05T12:00:01.652Z"
   },
   {
    "duration": 7,
    "start_time": "2025-05-05T12:00:40.385Z"
   },
   {
    "duration": 12,
    "start_time": "2025-05-05T12:00:59.679Z"
   },
   {
    "duration": 6,
    "start_time": "2025-05-05T12:02:29.654Z"
   },
   {
    "duration": 16,
    "start_time": "2025-05-05T12:04:08.574Z"
   },
   {
    "duration": 15,
    "start_time": "2025-05-05T13:50:54.507Z"
   },
   {
    "duration": 17,
    "start_time": "2025-05-05T13:51:08.208Z"
   },
   {
    "duration": 13,
    "start_time": "2025-05-05T13:51:18.224Z"
   },
   {
    "duration": 14,
    "start_time": "2025-05-05T13:57:44.519Z"
   },
   {
    "duration": 10,
    "start_time": "2025-05-05T13:58:21.233Z"
   },
   {
    "duration": 11,
    "start_time": "2025-05-05T13:58:23.901Z"
   },
   {
    "duration": 12,
    "start_time": "2025-05-05T14:00:13.952Z"
   },
   {
    "duration": 50,
    "start_time": "2025-05-05T14:10:03.458Z"
   },
   {
    "duration": 416,
    "start_time": "2025-05-05T14:10:12.411Z"
   },
   {
    "duration": 58,
    "start_time": "2025-05-05T14:10:13.762Z"
   },
   {
    "duration": 16,
    "start_time": "2025-05-05T14:10:15.497Z"
   },
   {
    "duration": 18,
    "start_time": "2025-05-05T14:10:16.965Z"
   },
   {
    "duration": 19,
    "start_time": "2025-05-05T14:10:19.893Z"
   },
   {
    "duration": 11,
    "start_time": "2025-05-05T14:10:21.232Z"
   },
   {
    "duration": 14,
    "start_time": "2025-05-05T14:10:25.644Z"
   },
   {
    "duration": 16,
    "start_time": "2025-05-05T14:10:27.310Z"
   },
   {
    "duration": 3,
    "start_time": "2025-05-05T14:10:27.643Z"
   },
   {
    "duration": 12,
    "start_time": "2025-05-05T14:10:28.046Z"
   },
   {
    "duration": 20,
    "start_time": "2025-05-05T14:34:56.946Z"
   },
   {
    "duration": 12,
    "start_time": "2025-05-05T14:34:59.593Z"
   },
   {
    "duration": 12,
    "start_time": "2025-05-05T14:35:05.764Z"
   },
   {
    "duration": 30,
    "start_time": "2025-05-05T15:08:22.714Z"
   },
   {
    "duration": 6,
    "start_time": "2025-05-05T15:08:31.801Z"
   },
   {
    "duration": 6,
    "start_time": "2025-05-05T15:08:55.450Z"
   },
   {
    "duration": 9,
    "start_time": "2025-05-05T15:09:04.398Z"
   },
   {
    "duration": 8,
    "start_time": "2025-05-05T15:09:14.700Z"
   },
   {
    "duration": 7,
    "start_time": "2025-05-05T15:09:25.416Z"
   },
   {
    "duration": 14,
    "start_time": "2025-05-05T15:14:26.930Z"
   },
   {
    "duration": 6,
    "start_time": "2025-05-05T15:14:57.126Z"
   },
   {
    "duration": 1345,
    "start_time": "2025-05-05T15:18:21.161Z"
   },
   {
    "duration": 1276,
    "start_time": "2025-05-05T15:18:57.092Z"
   },
   {
    "duration": 12,
    "start_time": "2025-05-05T15:19:31.893Z"
   },
   {
    "duration": 7,
    "start_time": "2025-05-05T15:19:42.857Z"
   },
   {
    "duration": 9,
    "start_time": "2025-05-05T15:20:14.123Z"
   },
   {
    "duration": 6,
    "start_time": "2025-05-05T15:21:32.256Z"
   },
   {
    "duration": 7,
    "start_time": "2025-05-05T15:22:16.255Z"
   },
   {
    "duration": 6,
    "start_time": "2025-05-05T15:22:18.458Z"
   },
   {
    "duration": 9,
    "start_time": "2025-05-05T15:23:04.591Z"
   },
   {
    "duration": 12,
    "start_time": "2025-05-05T15:23:14.855Z"
   },
   {
    "duration": 12,
    "start_time": "2025-05-05T15:27:27.788Z"
   },
   {
    "duration": 16,
    "start_time": "2025-05-05T15:27:40.370Z"
   },
   {
    "duration": 13,
    "start_time": "2025-05-05T15:28:27.237Z"
   },
   {
    "duration": 10,
    "start_time": "2025-05-05T15:30:55.570Z"
   },
   {
    "duration": 14,
    "start_time": "2025-05-05T15:31:22.083Z"
   },
   {
    "duration": 10,
    "start_time": "2025-05-05T15:31:42.736Z"
   },
   {
    "duration": 15,
    "start_time": "2025-05-05T15:32:27.782Z"
   },
   {
    "duration": 14,
    "start_time": "2025-05-05T15:33:00.050Z"
   },
   {
    "duration": 18,
    "start_time": "2025-05-05T15:33:10.215Z"
   },
   {
    "duration": 16,
    "start_time": "2025-05-05T15:34:13.715Z"
   },
   {
    "duration": 23,
    "start_time": "2025-05-05T15:34:34.000Z"
   },
   {
    "duration": 9,
    "start_time": "2025-05-05T15:34:52.599Z"
   },
   {
    "duration": 17,
    "start_time": "2025-05-05T15:35:04.360Z"
   },
   {
    "duration": 27,
    "start_time": "2025-05-05T15:35:47.814Z"
   },
   {
    "duration": 21,
    "start_time": "2025-05-05T15:36:10.078Z"
   },
   {
    "duration": 17,
    "start_time": "2025-05-05T15:36:55.049Z"
   },
   {
    "duration": 710,
    "start_time": "2025-05-05T15:38:45.129Z"
   },
   {
    "duration": 738,
    "start_time": "2025-05-05T15:40:05.910Z"
   },
   {
    "duration": 659,
    "start_time": "2025-05-05T15:40:25.797Z"
   },
   {
    "duration": 16,
    "start_time": "2025-05-05T15:40:47.680Z"
   },
   {
    "duration": 15,
    "start_time": "2025-05-05T15:41:29.181Z"
   },
   {
    "duration": 15,
    "start_time": "2025-05-05T15:42:36.838Z"
   },
   {
    "duration": 16,
    "start_time": "2025-05-05T15:43:08.423Z"
   },
   {
    "duration": 15,
    "start_time": "2025-05-05T15:43:17.110Z"
   },
   {
    "duration": 48,
    "start_time": "2025-05-05T15:44:01.400Z"
   },
   {
    "duration": 358,
    "start_time": "2025-05-05T15:44:24.376Z"
   },
   {
    "duration": 44,
    "start_time": "2025-05-05T15:44:24.868Z"
   },
   {
    "duration": 16,
    "start_time": "2025-05-05T15:44:25.354Z"
   },
   {
    "duration": 20,
    "start_time": "2025-05-05T15:44:25.570Z"
   },
   {
    "duration": 15,
    "start_time": "2025-05-05T15:44:26.176Z"
   },
   {
    "duration": 4,
    "start_time": "2025-05-05T15:44:26.592Z"
   },
   {
    "duration": 11,
    "start_time": "2025-05-05T15:44:26.855Z"
   },
   {
    "duration": 30,
    "start_time": "2025-05-05T15:44:27.877Z"
   },
   {
    "duration": 62,
    "start_time": "2025-05-05T15:45:26.874Z"
   },
   {
    "duration": 24,
    "start_time": "2025-05-05T15:46:25.690Z"
   },
   {
    "duration": 23,
    "start_time": "2025-05-05T15:48:44.387Z"
   },
   {
    "duration": 38,
    "start_time": "2025-05-05T15:49:06.504Z"
   },
   {
    "duration": 3,
    "start_time": "2025-05-05T15:49:23.304Z"
   },
   {
    "duration": 53,
    "start_time": "2025-05-05T15:49:23.669Z"
   },
   {
    "duration": 15,
    "start_time": "2025-05-05T15:49:24.348Z"
   },
   {
    "duration": 16,
    "start_time": "2025-05-05T15:49:24.688Z"
   },
   {
    "duration": 15,
    "start_time": "2025-05-05T15:49:26.051Z"
   },
   {
    "duration": 3,
    "start_time": "2025-05-05T15:49:26.846Z"
   },
   {
    "duration": 12,
    "start_time": "2025-05-05T15:49:27.296Z"
   },
   {
    "duration": 32,
    "start_time": "2025-05-05T15:49:28.480Z"
   },
   {
    "duration": 17,
    "start_time": "2025-05-05T15:49:30.088Z"
   },
   {
    "duration": 10,
    "start_time": "2025-05-05T15:49:35.002Z"
   },
   {
    "duration": 11,
    "start_time": "2025-05-05T15:49:35.779Z"
   },
   {
    "duration": 17,
    "start_time": "2025-05-05T15:50:17.169Z"
   },
   {
    "duration": 2,
    "start_time": "2025-05-05T15:50:30.201Z"
   },
   {
    "duration": 52,
    "start_time": "2025-05-05T15:50:30.383Z"
   },
   {
    "duration": 14,
    "start_time": "2025-05-05T15:50:30.751Z"
   },
   {
    "duration": 13,
    "start_time": "2025-05-05T15:50:30.951Z"
   },
   {
    "duration": 16,
    "start_time": "2025-05-05T15:50:32.303Z"
   },
   {
    "duration": 4,
    "start_time": "2025-05-05T15:50:33.083Z"
   },
   {
    "duration": 12,
    "start_time": "2025-05-05T15:50:33.836Z"
   },
   {
    "duration": 27,
    "start_time": "2025-05-05T15:50:37.437Z"
   },
   {
    "duration": 26,
    "start_time": "2025-05-05T15:51:36.686Z"
   },
   {
    "duration": 2,
    "start_time": "2025-05-05T15:51:43.818Z"
   },
   {
    "duration": 58,
    "start_time": "2025-05-05T15:51:44.068Z"
   },
   {
    "duration": 15,
    "start_time": "2025-05-05T15:51:44.518Z"
   },
   {
    "duration": 13,
    "start_time": "2025-05-05T15:51:44.733Z"
   },
   {
    "duration": 15,
    "start_time": "2025-05-05T15:51:45.368Z"
   },
   {
    "duration": 3,
    "start_time": "2025-05-05T15:51:46.101Z"
   },
   {
    "duration": 12,
    "start_time": "2025-05-05T15:51:46.365Z"
   },
   {
    "duration": 31,
    "start_time": "2025-05-05T15:51:48.150Z"
   },
   {
    "duration": 17,
    "start_time": "2025-05-05T15:52:07.649Z"
   },
   {
    "duration": 25,
    "start_time": "2025-05-05T15:54:09.814Z"
   },
   {
    "duration": 36,
    "start_time": "2025-05-05T15:55:45.434Z"
   },
   {
    "duration": 22,
    "start_time": "2025-05-05T15:55:58.750Z"
   },
   {
    "duration": 73,
    "start_time": "2025-05-05T15:56:14.033Z"
   },
   {
    "duration": 26,
    "start_time": "2025-05-05T15:57:10.952Z"
   },
   {
    "duration": 22,
    "start_time": "2025-05-05T15:57:41.096Z"
   },
   {
    "duration": 21,
    "start_time": "2025-05-05T15:57:53.942Z"
   },
   {
    "duration": 2,
    "start_time": "2025-05-05T15:58:06.630Z"
   },
   {
    "duration": 44,
    "start_time": "2025-05-05T15:58:06.777Z"
   },
   {
    "duration": 17,
    "start_time": "2025-05-05T15:58:07.095Z"
   },
   {
    "duration": 15,
    "start_time": "2025-05-05T15:58:07.225Z"
   },
   {
    "duration": 15,
    "start_time": "2025-05-05T15:58:07.694Z"
   },
   {
    "duration": 3,
    "start_time": "2025-05-05T15:58:08.015Z"
   },
   {
    "duration": 12,
    "start_time": "2025-05-05T15:58:08.178Z"
   },
   {
    "duration": 22,
    "start_time": "2025-05-05T15:58:08.631Z"
   },
   {
    "duration": 19,
    "start_time": "2025-05-05T15:58:09.848Z"
   },
   {
    "duration": 12,
    "start_time": "2025-05-05T15:58:10.330Z"
   },
   {
    "duration": 16,
    "start_time": "2025-05-05T15:58:26.100Z"
   },
   {
    "duration": 26,
    "start_time": "2025-05-05T15:58:40.263Z"
   },
   {
    "duration": 21,
    "start_time": "2025-05-05T15:58:43.365Z"
   },
   {
    "duration": 33,
    "start_time": "2025-05-05T15:58:58.765Z"
   },
   {
    "duration": 20,
    "start_time": "2025-05-05T15:59:12.697Z"
   },
   {
    "duration": 54,
    "start_time": "2025-05-05T15:59:25.247Z"
   },
   {
    "duration": 23,
    "start_time": "2025-05-05T15:59:35.113Z"
   },
   {
    "duration": 23,
    "start_time": "2025-05-05T15:59:47.961Z"
   },
   {
    "duration": 12,
    "start_time": "2025-05-05T16:00:15.988Z"
   },
   {
    "duration": 21,
    "start_time": "2025-05-05T16:00:26.577Z"
   },
   {
    "duration": 17,
    "start_time": "2025-05-05T16:04:29.575Z"
   },
   {
    "duration": 9,
    "start_time": "2025-05-05T16:04:31.192Z"
   },
   {
    "duration": 11,
    "start_time": "2025-05-05T16:04:32.907Z"
   },
   {
    "duration": 9,
    "start_time": "2025-05-05T16:48:38.738Z"
   },
   {
    "duration": 17,
    "start_time": "2025-05-05T16:48:46.798Z"
   },
   {
    "duration": 15,
    "start_time": "2025-05-05T16:48:59.438Z"
   },
   {
    "duration": 12,
    "start_time": "2025-05-05T16:49:09.251Z"
   },
   {
    "duration": 13,
    "start_time": "2025-05-05T16:51:27.897Z"
   },
   {
    "duration": 12,
    "start_time": "2025-05-05T16:58:18.292Z"
   },
   {
    "duration": 75,
    "start_time": "2025-05-05T17:01:47.277Z"
   },
   {
    "duration": 14,
    "start_time": "2025-05-05T17:02:07.458Z"
   },
   {
    "duration": 12,
    "start_time": "2025-05-05T17:02:34.560Z"
   },
   {
    "duration": 17,
    "start_time": "2025-05-05T17:05:45.323Z"
   },
   {
    "duration": 11,
    "start_time": "2025-05-05T17:14:22.244Z"
   },
   {
    "duration": 20,
    "start_time": "2025-05-05T17:14:37.644Z"
   },
   {
    "duration": 33,
    "start_time": "2025-05-05T17:14:57.526Z"
   },
   {
    "duration": 27,
    "start_time": "2025-05-05T17:15:30.990Z"
   },
   {
    "duration": 15,
    "start_time": "2025-05-05T17:16:42.958Z"
   },
   {
    "duration": 383,
    "start_time": "2025-05-05T17:17:30.971Z"
   },
   {
    "duration": 44,
    "start_time": "2025-05-05T17:17:31.356Z"
   },
   {
    "duration": 17,
    "start_time": "2025-05-05T17:17:31.803Z"
   },
   {
    "duration": 19,
    "start_time": "2025-05-05T17:17:32.105Z"
   },
   {
    "duration": 15,
    "start_time": "2025-05-05T17:17:32.722Z"
   },
   {
    "duration": 3,
    "start_time": "2025-05-05T17:17:33.138Z"
   },
   {
    "duration": 13,
    "start_time": "2025-05-05T17:17:33.353Z"
   },
   {
    "duration": 36,
    "start_time": "2025-05-05T17:17:33.805Z"
   },
   {
    "duration": 18,
    "start_time": "2025-05-05T17:17:34.454Z"
   },
   {
    "duration": 10,
    "start_time": "2025-05-05T17:17:34.871Z"
   },
   {
    "duration": 12,
    "start_time": "2025-05-05T17:17:35.287Z"
   },
   {
    "duration": 17,
    "start_time": "2025-05-05T17:17:36.215Z"
   },
   {
    "duration": 86,
    "start_time": "2025-05-05T17:17:36.336Z"
   },
   {
    "duration": 9,
    "start_time": "2025-05-05T17:17:36.552Z"
   },
   {
    "duration": 15,
    "start_time": "2025-05-05T17:17:59.837Z"
   },
   {
    "duration": 9,
    "start_time": "2025-05-05T17:18:07.888Z"
   },
   {
    "duration": 16,
    "start_time": "2025-05-05T17:18:30.634Z"
   },
   {
    "duration": 12,
    "start_time": "2025-05-05T17:18:39.702Z"
   },
   {
    "duration": 22,
    "start_time": "2025-05-05T17:18:40.309Z"
   },
   {
    "duration": 19,
    "start_time": "2025-05-05T17:18:40.860Z"
   },
   {
    "duration": 9,
    "start_time": "2025-05-05T17:18:41.236Z"
   },
   {
    "duration": 9,
    "start_time": "2025-05-05T17:18:41.652Z"
   },
   {
    "duration": 15,
    "start_time": "2025-05-05T17:18:43.119Z"
   },
   {
    "duration": 16,
    "start_time": "2025-05-05T17:18:43.848Z"
   },
   {
    "duration": 8,
    "start_time": "2025-05-05T17:18:44.437Z"
   },
   {
    "duration": 49,
    "start_time": "2025-05-05T17:19:22.117Z"
   },
   {
    "duration": 407,
    "start_time": "2025-05-05T17:19:34.741Z"
   },
   {
    "duration": 46,
    "start_time": "2025-05-05T17:19:35.150Z"
   },
   {
    "duration": 16,
    "start_time": "2025-05-05T17:19:35.231Z"
   },
   {
    "duration": 20,
    "start_time": "2025-05-05T17:19:35.371Z"
   },
   {
    "duration": 15,
    "start_time": "2025-05-05T17:19:35.856Z"
   },
   {
    "duration": 3,
    "start_time": "2025-05-05T17:19:36.176Z"
   },
   {
    "duration": 13,
    "start_time": "2025-05-05T17:19:36.355Z"
   },
   {
    "duration": 37,
    "start_time": "2025-05-05T17:19:36.674Z"
   },
   {
    "duration": 20,
    "start_time": "2025-05-05T17:19:37.190Z"
   },
   {
    "duration": 9,
    "start_time": "2025-05-05T17:19:37.589Z"
   },
   {
    "duration": 11,
    "start_time": "2025-05-05T17:19:37.973Z"
   },
   {
    "duration": 16,
    "start_time": "2025-05-05T17:19:38.771Z"
   },
   {
    "duration": 15,
    "start_time": "2025-05-05T17:19:38.973Z"
   },
   {
    "duration": 8,
    "start_time": "2025-05-05T17:19:39.174Z"
   },
   {
    "duration": 15,
    "start_time": "2025-05-05T17:20:21.639Z"
   },
   {
    "duration": 10,
    "start_time": "2025-05-05T17:21:18.141Z"
   },
   {
    "duration": 15,
    "start_time": "2025-05-05T17:21:21.650Z"
   },
   {
    "duration": 15,
    "start_time": "2025-05-05T17:21:22.257Z"
   },
   {
    "duration": 8,
    "start_time": "2025-05-05T17:21:23.227Z"
   },
   {
    "duration": 16,
    "start_time": "2025-05-05T17:21:53.768Z"
   },
   {
    "duration": 502,
    "start_time": "2025-05-05T17:29:29.886Z"
   },
   {
    "duration": 1385,
    "start_time": "2025-05-05T17:31:10.951Z"
   },
   {
    "duration": 15,
    "start_time": "2025-05-05T17:38:55.839Z"
   },
   {
    "duration": 54,
    "start_time": "2025-05-06T06:54:14.344Z"
   },
   {
    "duration": 390,
    "start_time": "2025-05-06T06:54:36.321Z"
   },
   {
    "duration": 183,
    "start_time": "2025-05-06T06:54:36.712Z"
   },
   {
    "duration": 17,
    "start_time": "2025-05-06T06:54:36.897Z"
   },
   {
    "duration": 42,
    "start_time": "2025-05-06T06:54:36.915Z"
   },
   {
    "duration": 19,
    "start_time": "2025-05-06T06:54:37.502Z"
   },
   {
    "duration": 3,
    "start_time": "2025-05-06T06:54:37.800Z"
   },
   {
    "duration": 13,
    "start_time": "2025-05-06T06:54:37.951Z"
   },
   {
    "duration": 39,
    "start_time": "2025-05-06T06:54:38.269Z"
   },
   {
    "duration": 21,
    "start_time": "2025-05-06T06:54:38.770Z"
   },
   {
    "duration": 15,
    "start_time": "2025-05-06T06:54:39.152Z"
   },
   {
    "duration": 13,
    "start_time": "2025-05-06T06:54:39.524Z"
   },
   {
    "duration": 24,
    "start_time": "2025-05-06T06:54:40.390Z"
   },
   {
    "duration": 23,
    "start_time": "2025-05-06T06:55:00.289Z"
   },
   {
    "duration": 33,
    "start_time": "2025-05-06T06:58:36.200Z"
   },
   {
    "duration": 8,
    "start_time": "2025-05-06T06:58:49.169Z"
   },
   {
    "duration": 5,
    "start_time": "2025-05-06T06:58:52.365Z"
   },
   {
    "duration": 6,
    "start_time": "2025-05-06T06:59:05.686Z"
   },
   {
    "duration": 22,
    "start_time": "2025-05-06T07:05:29.990Z"
   },
   {
    "duration": 15,
    "start_time": "2025-05-06T07:06:18.412Z"
   },
   {
    "duration": 9,
    "start_time": "2025-05-06T07:07:20.462Z"
   },
   {
    "duration": 5,
    "start_time": "2025-05-06T07:18:01.007Z"
   },
   {
    "duration": 8,
    "start_time": "2025-05-06T07:26:06.103Z"
   },
   {
    "duration": 8,
    "start_time": "2025-05-06T07:26:24.365Z"
   },
   {
    "duration": 7,
    "start_time": "2025-05-06T07:26:28.103Z"
   },
   {
    "duration": 8,
    "start_time": "2025-05-06T07:26:33.418Z"
   },
   {
    "duration": 8,
    "start_time": "2025-05-06T07:26:35.230Z"
   },
   {
    "duration": 21,
    "start_time": "2025-05-06T07:27:21.601Z"
   },
   {
    "duration": 21,
    "start_time": "2025-05-06T07:28:39.499Z"
   },
   {
    "duration": 22,
    "start_time": "2025-05-06T07:29:24.688Z"
   },
   {
    "duration": 22,
    "start_time": "2025-05-06T07:29:37.878Z"
   },
   {
    "duration": 23,
    "start_time": "2025-05-06T07:30:03.811Z"
   },
   {
    "duration": 30,
    "start_time": "2025-05-06T07:30:13.947Z"
   },
   {
    "duration": 26,
    "start_time": "2025-05-06T07:30:38.224Z"
   },
   {
    "duration": 1501,
    "start_time": "2025-05-06T07:31:55.582Z"
   },
   {
    "duration": 1548,
    "start_time": "2025-05-06T07:32:04.093Z"
   },
   {
    "duration": 1445,
    "start_time": "2025-05-06T07:32:17.284Z"
   },
   {
    "duration": 1425,
    "start_time": "2025-05-06T07:32:39.182Z"
   },
   {
    "duration": 28,
    "start_time": "2025-05-06T07:33:02.736Z"
   },
   {
    "duration": 1469,
    "start_time": "2025-05-06T07:33:03.146Z"
   },
   {
    "duration": 1433,
    "start_time": "2025-05-06T07:33:13.280Z"
   },
   {
    "duration": 25,
    "start_time": "2025-05-06T07:34:37.896Z"
   },
   {
    "duration": 42,
    "start_time": "2025-05-06T07:35:07.527Z"
   },
   {
    "duration": 52,
    "start_time": "2025-05-06T09:43:07.705Z"
   },
   {
    "duration": 395,
    "start_time": "2025-05-06T09:43:32.305Z"
   },
   {
    "duration": 48,
    "start_time": "2025-05-06T09:43:32.701Z"
   },
   {
    "duration": 17,
    "start_time": "2025-05-06T09:43:32.773Z"
   },
   {
    "duration": 20,
    "start_time": "2025-05-06T09:43:32.934Z"
   },
   {
    "duration": 16,
    "start_time": "2025-05-06T09:43:33.386Z"
   },
   {
    "duration": 4,
    "start_time": "2025-05-06T09:43:33.686Z"
   },
   {
    "duration": 14,
    "start_time": "2025-05-06T09:43:33.852Z"
   },
   {
    "duration": 36,
    "start_time": "2025-05-06T09:43:34.170Z"
   },
   {
    "duration": 20,
    "start_time": "2025-05-06T09:43:34.635Z"
   },
   {
    "duration": 10,
    "start_time": "2025-05-06T09:43:35.137Z"
   },
   {
    "duration": 13,
    "start_time": "2025-05-06T09:43:35.453Z"
   },
   {
    "duration": 23,
    "start_time": "2025-05-06T09:43:35.790Z"
   },
   {
    "duration": 28,
    "start_time": "2025-05-06T09:43:36.120Z"
   },
   {
    "duration": 11,
    "start_time": "2025-05-06T09:50:44.091Z"
   },
   {
    "duration": 16,
    "start_time": "2025-05-06T09:51:24.815Z"
   },
   {
    "duration": 13,
    "start_time": "2025-05-06T09:51:44.280Z"
   },
   {
    "duration": 41,
    "start_time": "2025-05-06T09:53:31.179Z"
   },
   {
    "duration": 17,
    "start_time": "2025-05-06T09:53:43.895Z"
   },
   {
    "duration": 16,
    "start_time": "2025-05-06T09:56:34.662Z"
   },
   {
    "duration": 16,
    "start_time": "2025-05-06T09:56:37.312Z"
   },
   {
    "duration": 9,
    "start_time": "2025-05-06T09:56:47.662Z"
   },
   {
    "duration": 14,
    "start_time": "2025-05-06T09:56:53.061Z"
   },
   {
    "duration": 15,
    "start_time": "2025-05-06T09:56:54.347Z"
   },
   {
    "duration": 10,
    "start_time": "2025-05-06T09:57:01.613Z"
   },
   {
    "duration": 23,
    "start_time": "2025-05-06T09:57:01.962Z"
   },
   {
    "duration": 27,
    "start_time": "2025-05-06T09:57:02.287Z"
   },
   {
    "duration": 13,
    "start_time": "2025-05-06T09:57:02.723Z"
   },
   {
    "duration": 17,
    "start_time": "2025-05-06T09:57:03.142Z"
   },
   {
    "duration": 75,
    "start_time": "2025-05-06T09:57:48.041Z"
   },
   {
    "duration": 17,
    "start_time": "2025-05-06T09:58:02.282Z"
   },
   {
    "duration": 19,
    "start_time": "2025-05-06T09:58:17.893Z"
   },
   {
    "duration": 8,
    "start_time": "2025-05-06T10:04:57.057Z"
   },
   {
    "duration": 462,
    "start_time": "2025-05-06T11:38:00.737Z"
   },
   {
    "duration": 50,
    "start_time": "2025-05-06T11:38:01.201Z"
   },
   {
    "duration": 18,
    "start_time": "2025-05-06T11:38:01.253Z"
   },
   {
    "duration": 23,
    "start_time": "2025-05-06T11:38:01.330Z"
   },
   {
    "duration": 17,
    "start_time": "2025-05-06T11:38:01.795Z"
   },
   {
    "duration": 4,
    "start_time": "2025-05-06T11:38:02.115Z"
   },
   {
    "duration": 13,
    "start_time": "2025-05-06T11:38:02.280Z"
   },
   {
    "duration": 37,
    "start_time": "2025-05-06T11:38:03.434Z"
   },
   {
    "duration": 18,
    "start_time": "2025-05-06T11:38:04.714Z"
   },
   {
    "duration": 10,
    "start_time": "2025-05-06T11:38:05.131Z"
   },
   {
    "duration": 12,
    "start_time": "2025-05-06T11:38:05.499Z"
   },
   {
    "duration": 24,
    "start_time": "2025-05-06T11:38:06.631Z"
   },
   {
    "duration": 27,
    "start_time": "2025-05-06T11:38:07.702Z"
   },
   {
    "duration": 13,
    "start_time": "2025-05-06T11:38:10.198Z"
   },
   {
    "duration": 9,
    "start_time": "2025-05-06T11:38:13.134Z"
   },
   {
    "duration": 89,
    "start_time": "2025-05-06T11:38:14.149Z"
   },
   {
    "duration": 183,
    "start_time": "2025-05-06T11:38:22.785Z"
   },
   {
    "duration": 9,
    "start_time": "2025-05-06T11:38:25.714Z"
   },
   {
    "duration": 13,
    "start_time": "2025-05-06T11:38:42.297Z"
   },
   {
    "duration": 8,
    "start_time": "2025-05-06T11:59:01.295Z"
   },
   {
    "duration": 22,
    "start_time": "2025-05-06T11:59:26.687Z"
   },
   {
    "duration": 11,
    "start_time": "2025-05-06T11:59:27.386Z"
   },
   {
    "duration": 8,
    "start_time": "2025-05-06T11:59:28.754Z"
   },
   {
    "duration": 11,
    "start_time": "2025-05-06T11:59:30.237Z"
   },
   {
    "duration": 49,
    "start_time": "2025-05-06T11:59:45.957Z"
   },
   {
    "duration": 396,
    "start_time": "2025-05-06T11:59:53.686Z"
   },
   {
    "duration": 47,
    "start_time": "2025-05-06T11:59:54.084Z"
   },
   {
    "duration": 16,
    "start_time": "2025-05-06T11:59:54.147Z"
   },
   {
    "duration": 20,
    "start_time": "2025-05-06T11:59:54.332Z"
   },
   {
    "duration": 15,
    "start_time": "2025-05-06T11:59:54.853Z"
   },
   {
    "duration": 3,
    "start_time": "2025-05-06T11:59:55.168Z"
   },
   {
    "duration": 13,
    "start_time": "2025-05-06T11:59:55.333Z"
   },
   {
    "duration": 36,
    "start_time": "2025-05-06T11:59:55.670Z"
   },
   {
    "duration": 20,
    "start_time": "2025-05-06T11:59:56.218Z"
   },
   {
    "duration": 10,
    "start_time": "2025-05-06T11:59:56.567Z"
   },
   {
    "duration": 12,
    "start_time": "2025-05-06T11:59:56.952Z"
   },
   {
    "duration": 24,
    "start_time": "2025-05-06T11:59:57.369Z"
   },
   {
    "duration": 27,
    "start_time": "2025-05-06T11:59:57.786Z"
   },
   {
    "duration": 13,
    "start_time": "2025-05-06T11:59:58.451Z"
   },
   {
    "duration": 8,
    "start_time": "2025-05-06T11:59:59.003Z"
   },
   {
    "duration": 13,
    "start_time": "2025-05-06T11:59:59.602Z"
   },
   {
    "duration": 90,
    "start_time": "2025-05-06T12:00:00.969Z"
   },
   {
    "duration": 7,
    "start_time": "2025-05-06T12:00:13.687Z"
   },
   {
    "duration": 7,
    "start_time": "2025-05-06T12:00:16.592Z"
   },
   {
    "duration": 4,
    "start_time": "2025-05-06T12:00:56.298Z"
   },
   {
    "duration": 13,
    "start_time": "2025-05-06T12:01:35.012Z"
   },
   {
    "duration": 7,
    "start_time": "2025-05-06T12:01:38.151Z"
   },
   {
    "duration": 50,
    "start_time": "2025-05-06T12:01:46.582Z"
   },
   {
    "duration": 374,
    "start_time": "2025-05-06T12:01:53.715Z"
   },
   {
    "duration": 47,
    "start_time": "2025-05-06T12:01:54.091Z"
   },
   {
    "duration": 22,
    "start_time": "2025-05-06T12:01:54.140Z"
   },
   {
    "duration": 22,
    "start_time": "2025-05-06T12:01:54.292Z"
   },
   {
    "duration": 16,
    "start_time": "2025-05-06T12:01:54.762Z"
   },
   {
    "duration": 3,
    "start_time": "2025-05-06T12:01:55.082Z"
   },
   {
    "duration": 13,
    "start_time": "2025-05-06T12:01:55.230Z"
   },
   {
    "duration": 36,
    "start_time": "2025-05-06T12:01:55.531Z"
   },
   {
    "duration": 19,
    "start_time": "2025-05-06T12:01:55.999Z"
   },
   {
    "duration": 10,
    "start_time": "2025-05-06T12:01:56.312Z"
   },
   {
    "duration": 13,
    "start_time": "2025-05-06T12:01:56.612Z"
   },
   {
    "duration": 25,
    "start_time": "2025-05-06T12:01:56.947Z"
   },
   {
    "duration": 37,
    "start_time": "2025-05-06T12:01:57.263Z"
   },
   {
    "duration": 13,
    "start_time": "2025-05-06T12:01:57.716Z"
   },
   {
    "duration": 9,
    "start_time": "2025-05-06T12:01:58.182Z"
   },
   {
    "duration": 13,
    "start_time": "2025-05-06T12:01:58.498Z"
   },
   {
    "duration": 4,
    "start_time": "2025-05-06T12:01:58.961Z"
   },
   {
    "duration": 8,
    "start_time": "2025-05-06T12:02:06.966Z"
   },
   {
    "duration": 4,
    "start_time": "2025-05-06T12:03:04.817Z"
   },
   {
    "duration": 30,
    "start_time": "2025-05-06T12:03:42.962Z"
   },
   {
    "duration": 4,
    "start_time": "2025-05-06T12:03:48.433Z"
   },
   {
    "duration": 7,
    "start_time": "2025-05-06T12:04:51.110Z"
   },
   {
    "duration": 4,
    "start_time": "2025-05-06T12:04:56.467Z"
   },
   {
    "duration": 3,
    "start_time": "2025-05-06T12:05:11.216Z"
   },
   {
    "duration": 14,
    "start_time": "2025-05-06T12:06:00.428Z"
   },
   {
    "duration": 12,
    "start_time": "2025-05-06T12:35:37.956Z"
   },
   {
    "duration": 10,
    "start_time": "2025-05-06T13:22:12.859Z"
   },
   {
    "duration": 31,
    "start_time": "2025-05-06T13:22:12.871Z"
   },
   {
    "duration": 17,
    "start_time": "2025-05-06T13:22:12.907Z"
   },
   {
    "duration": 14,
    "start_time": "2025-05-06T13:22:13.554Z"
   },
   {
    "duration": 7,
    "start_time": "2025-05-06T13:23:02.768Z"
   },
   {
    "duration": 6,
    "start_time": "2025-05-06T13:25:50.665Z"
   },
   {
    "duration": 17,
    "start_time": "2025-05-06T13:31:29.894Z"
   },
   {
    "duration": 10,
    "start_time": "2025-05-06T13:32:11.643Z"
   },
   {
    "duration": 1799,
    "start_time": "2025-05-06T13:34:10.545Z"
   },
   {
    "duration": 1816,
    "start_time": "2025-05-06T13:34:12.943Z"
   },
   {
    "duration": 2,
    "start_time": "2025-05-06T13:34:17.893Z"
   },
   {
    "duration": 44,
    "start_time": "2025-05-06T13:34:18.058Z"
   },
   {
    "duration": 16,
    "start_time": "2025-05-06T13:34:18.411Z"
   },
   {
    "duration": 13,
    "start_time": "2025-05-06T13:34:18.591Z"
   },
   {
    "duration": 16,
    "start_time": "2025-05-06T13:34:19.058Z"
   },
   {
    "duration": 3,
    "start_time": "2025-05-06T13:34:19.495Z"
   },
   {
    "duration": 12,
    "start_time": "2025-05-06T13:34:19.976Z"
   },
   {
    "duration": 34,
    "start_time": "2025-05-06T13:34:21.928Z"
   },
   {
    "duration": 19,
    "start_time": "2025-05-06T13:34:22.796Z"
   },
   {
    "duration": 10,
    "start_time": "2025-05-06T13:34:23.242Z"
   },
   {
    "duration": 11,
    "start_time": "2025-05-06T13:34:24.628Z"
   },
   {
    "duration": 25,
    "start_time": "2025-05-06T13:35:08.744Z"
   },
   {
    "duration": 30,
    "start_time": "2025-05-06T13:35:20.291Z"
   },
   {
    "duration": 24,
    "start_time": "2025-05-06T13:36:07.559Z"
   },
   {
    "duration": 27,
    "start_time": "2025-05-06T13:36:07.890Z"
   },
   {
    "duration": 13,
    "start_time": "2025-05-06T13:36:08.511Z"
   },
   {
    "duration": 8,
    "start_time": "2025-05-06T13:36:10.025Z"
   },
   {
    "duration": 13,
    "start_time": "2025-05-06T13:36:13.642Z"
   },
   {
    "duration": 14,
    "start_time": "2025-05-06T13:36:14.708Z"
   },
   {
    "duration": 24,
    "start_time": "2025-05-06T13:36:15.459Z"
   },
   {
    "duration": 51,
    "start_time": "2025-05-06T13:38:10.355Z"
   },
   {
    "duration": 432,
    "start_time": "2025-05-06T13:38:21.135Z"
   },
   {
    "duration": 48,
    "start_time": "2025-05-06T13:38:21.569Z"
   },
   {
    "duration": 16,
    "start_time": "2025-05-06T13:38:21.619Z"
   },
   {
    "duration": 21,
    "start_time": "2025-05-06T13:38:21.733Z"
   },
   {
    "duration": 16,
    "start_time": "2025-05-06T13:38:22.221Z"
   },
   {
    "duration": 3,
    "start_time": "2025-05-06T13:38:22.559Z"
   },
   {
    "duration": 12,
    "start_time": "2025-05-06T13:38:22.666Z"
   },
   {
    "duration": 37,
    "start_time": "2025-05-06T13:38:23.004Z"
   },
   {
    "duration": 19,
    "start_time": "2025-05-06T13:38:23.488Z"
   },
   {
    "duration": 11,
    "start_time": "2025-05-06T13:38:23.802Z"
   },
   {
    "duration": 12,
    "start_time": "2025-05-06T13:38:24.154Z"
   },
   {
    "duration": 25,
    "start_time": "2025-05-06T13:38:24.484Z"
   },
   {
    "duration": 30,
    "start_time": "2025-05-06T13:38:24.872Z"
   },
   {
    "duration": 14,
    "start_time": "2025-05-06T13:38:25.671Z"
   },
   {
    "duration": 9,
    "start_time": "2025-05-06T13:38:26.220Z"
   },
   {
    "duration": 13,
    "start_time": "2025-05-06T13:38:26.570Z"
   },
   {
    "duration": 15,
    "start_time": "2025-05-06T13:38:26.954Z"
   },
   {
    "duration": 46,
    "start_time": "2025-05-06T13:38:42.387Z"
   },
   {
    "duration": 11,
    "start_time": "2025-05-06T13:39:21.870Z"
   },
   {
    "duration": 9,
    "start_time": "2025-05-06T13:39:40.088Z"
   },
   {
    "duration": 1485,
    "start_time": "2025-05-06T13:47:37.798Z"
   },
   {
    "duration": 1552,
    "start_time": "2025-05-06T13:47:39.914Z"
   },
   {
    "duration": 1411,
    "start_time": "2025-05-06T13:48:12.032Z"
   },
   {
    "duration": 11,
    "start_time": "2025-05-06T13:49:12.731Z"
   },
   {
    "duration": 8,
    "start_time": "2025-05-06T13:49:13.226Z"
   },
   {
    "duration": 15,
    "start_time": "2025-05-06T13:49:13.580Z"
   },
   {
    "duration": 14,
    "start_time": "2025-05-06T13:49:13.913Z"
   },
   {
    "duration": 1471,
    "start_time": "2025-05-06T13:49:14.486Z"
   },
   {
    "duration": 1380,
    "start_time": "2025-05-06T13:49:58.627Z"
   },
   {
    "duration": 49,
    "start_time": "2025-05-06T13:50:48.100Z"
   },
   {
    "duration": 405,
    "start_time": "2025-05-06T13:50:57.384Z"
   },
   {
    "duration": 47,
    "start_time": "2025-05-06T13:50:57.791Z"
   },
   {
    "duration": 18,
    "start_time": "2025-05-06T13:50:57.839Z"
   },
   {
    "duration": 20,
    "start_time": "2025-05-06T13:50:58.121Z"
   },
   {
    "duration": 15,
    "start_time": "2025-05-06T13:50:58.602Z"
   },
   {
    "duration": 3,
    "start_time": "2025-05-06T13:50:59.080Z"
   },
   {
    "duration": 13,
    "start_time": "2025-05-06T13:50:59.232Z"
   },
   {
    "duration": 35,
    "start_time": "2025-05-06T13:50:59.532Z"
   },
   {
    "duration": 19,
    "start_time": "2025-05-06T13:51:00.069Z"
   },
   {
    "duration": 10,
    "start_time": "2025-05-06T13:51:00.400Z"
   },
   {
    "duration": 12,
    "start_time": "2025-05-06T13:51:00.749Z"
   },
   {
    "duration": 26,
    "start_time": "2025-05-06T13:51:02.450Z"
   },
   {
    "duration": 29,
    "start_time": "2025-05-06T13:51:02.832Z"
   },
   {
    "duration": 13,
    "start_time": "2025-05-06T13:51:03.382Z"
   },
   {
    "duration": 10,
    "start_time": "2025-05-06T13:51:05.033Z"
   },
   {
    "duration": 14,
    "start_time": "2025-05-06T13:51:05.400Z"
   },
   {
    "duration": 14,
    "start_time": "2025-05-06T13:51:05.750Z"
   },
   {
    "duration": 6,
    "start_time": "2025-05-06T13:51:06.317Z"
   },
   {
    "duration": 30,
    "start_time": "2025-05-06T13:53:38.300Z"
   },
   {
    "duration": 8,
    "start_time": "2025-05-06T13:53:48.999Z"
   },
   {
    "duration": 13,
    "start_time": "2025-05-06T13:56:56.392Z"
   },
   {
    "duration": 6,
    "start_time": "2025-05-06T13:58:50.759Z"
   },
   {
    "duration": 14,
    "start_time": "2025-05-06T14:01:32.799Z"
   },
   {
    "duration": 17,
    "start_time": "2025-05-06T14:15:45.670Z"
   },
   {
    "duration": 3,
    "start_time": "2025-05-06T14:16:33.171Z"
   },
   {
    "duration": 47,
    "start_time": "2025-05-06T14:16:33.356Z"
   },
   {
    "duration": 18,
    "start_time": "2025-05-06T14:16:33.704Z"
   },
   {
    "duration": 14,
    "start_time": "2025-05-06T14:16:33.887Z"
   },
   {
    "duration": 16,
    "start_time": "2025-05-06T14:16:34.436Z"
   },
   {
    "duration": 3,
    "start_time": "2025-05-06T14:16:34.806Z"
   },
   {
    "duration": 14,
    "start_time": "2025-05-06T14:16:34.990Z"
   },
   {
    "duration": 40,
    "start_time": "2025-05-06T14:16:35.353Z"
   },
   {
    "duration": 21,
    "start_time": "2025-05-06T14:16:35.887Z"
   },
   {
    "duration": 9,
    "start_time": "2025-05-06T14:16:36.236Z"
   },
   {
    "duration": 12,
    "start_time": "2025-05-06T14:16:36.600Z"
   },
   {
    "duration": 24,
    "start_time": "2025-05-06T14:16:36.990Z"
   },
   {
    "duration": 30,
    "start_time": "2025-05-06T14:16:37.353Z"
   },
   {
    "duration": 14,
    "start_time": "2025-05-06T14:16:37.919Z"
   },
   {
    "duration": 8,
    "start_time": "2025-05-06T14:16:38.486Z"
   },
   {
    "duration": 13,
    "start_time": "2025-05-06T14:16:38.869Z"
   },
   {
    "duration": 14,
    "start_time": "2025-05-06T14:16:39.372Z"
   },
   {
    "duration": 14,
    "start_time": "2025-05-06T14:16:39.952Z"
   },
   {
    "duration": 15,
    "start_time": "2025-05-06T14:16:40.388Z"
   },
   {
    "duration": 56,
    "start_time": "2025-05-06T14:17:39.269Z"
   },
   {
    "duration": 7,
    "start_time": "2025-05-06T14:17:42.719Z"
   },
   {
    "duration": 8,
    "start_time": "2025-05-06T14:17:44.587Z"
   },
   {
    "duration": 8,
    "start_time": "2025-05-06T14:17:47.970Z"
   },
   {
    "duration": 7,
    "start_time": "2025-05-06T14:17:48.670Z"
   },
   {
    "duration": 7,
    "start_time": "2025-05-06T14:17:49.170Z"
   },
   {
    "duration": 7,
    "start_time": "2025-05-06T14:17:49.735Z"
   },
   {
    "duration": 7,
    "start_time": "2025-05-06T14:17:51.119Z"
   },
   {
    "duration": 404,
    "start_time": "2025-05-06T14:17:55.784Z"
   },
   {
    "duration": 46,
    "start_time": "2025-05-06T14:17:56.190Z"
   },
   {
    "duration": 18,
    "start_time": "2025-05-06T14:17:57.202Z"
   },
   {
    "duration": 23,
    "start_time": "2025-05-06T14:17:57.402Z"
   },
   {
    "duration": 17,
    "start_time": "2025-05-06T14:17:57.899Z"
   },
   {
    "duration": 4,
    "start_time": "2025-05-06T14:17:58.251Z"
   },
   {
    "duration": 14,
    "start_time": "2025-05-06T14:17:58.399Z"
   },
   {
    "duration": 36,
    "start_time": "2025-05-06T14:17:58.758Z"
   },
   {
    "duration": 19,
    "start_time": "2025-05-06T14:17:59.687Z"
   },
   {
    "duration": 9,
    "start_time": "2025-05-06T14:18:00.101Z"
   },
   {
    "duration": 12,
    "start_time": "2025-05-06T14:18:00.501Z"
   },
   {
    "duration": 26,
    "start_time": "2025-05-06T14:18:00.885Z"
   },
   {
    "duration": 30,
    "start_time": "2025-05-06T14:18:01.285Z"
   },
   {
    "duration": 14,
    "start_time": "2025-05-06T14:18:01.921Z"
   },
   {
    "duration": 10,
    "start_time": "2025-05-06T14:18:02.557Z"
   },
   {
    "duration": 15,
    "start_time": "2025-05-06T14:18:02.935Z"
   },
   {
    "duration": 15,
    "start_time": "2025-05-06T14:18:03.335Z"
   },
   {
    "duration": 15,
    "start_time": "2025-05-06T14:18:03.921Z"
   },
   {
    "duration": 38,
    "start_time": "2025-05-06T14:18:04.992Z"
   },
   {
    "duration": 15,
    "start_time": "2025-05-06T14:18:50.768Z"
   },
   {
    "duration": 16,
    "start_time": "2025-05-06T14:19:01.952Z"
   },
   {
    "duration": 16,
    "start_time": "2025-05-06T14:20:49.467Z"
   },
   {
    "duration": 23,
    "start_time": "2025-05-06T14:21:23.734Z"
   },
   {
    "duration": 22,
    "start_time": "2025-05-06T14:22:45.116Z"
   },
   {
    "duration": 22,
    "start_time": "2025-05-06T14:22:49.981Z"
   },
   {
    "duration": 3,
    "start_time": "2025-05-06T14:23:15.067Z"
   },
   {
    "duration": 50,
    "start_time": "2025-05-06T14:23:15.283Z"
   },
   {
    "duration": 17,
    "start_time": "2025-05-06T14:23:15.682Z"
   },
   {
    "duration": 14,
    "start_time": "2025-05-06T14:23:15.864Z"
   },
   {
    "duration": 16,
    "start_time": "2025-05-06T14:23:16.448Z"
   },
   {
    "duration": 4,
    "start_time": "2025-05-06T14:23:16.782Z"
   },
   {
    "duration": 13,
    "start_time": "2025-05-06T14:23:16.950Z"
   },
   {
    "duration": 54,
    "start_time": "2025-05-06T14:23:17.264Z"
   },
   {
    "duration": 27,
    "start_time": "2025-05-06T14:23:17.767Z"
   },
   {
    "duration": 15,
    "start_time": "2025-05-06T14:23:18.097Z"
   },
   {
    "duration": 17,
    "start_time": "2025-05-06T14:23:18.431Z"
   },
   {
    "duration": 34,
    "start_time": "2025-05-06T14:23:18.781Z"
   },
   {
    "duration": 27,
    "start_time": "2025-05-06T14:23:19.115Z"
   },
   {
    "duration": 14,
    "start_time": "2025-05-06T14:23:19.666Z"
   },
   {
    "duration": 9,
    "start_time": "2025-05-06T14:23:20.448Z"
   },
   {
    "duration": 14,
    "start_time": "2025-05-06T14:23:22.265Z"
   },
   {
    "duration": 18,
    "start_time": "2025-05-06T14:23:22.665Z"
   },
   {
    "duration": 14,
    "start_time": "2025-05-06T14:23:23.299Z"
   },
   {
    "duration": 15,
    "start_time": "2025-05-06T14:23:23.734Z"
   },
   {
    "duration": 15,
    "start_time": "2025-05-06T14:24:10.183Z"
   },
   {
    "duration": 7,
    "start_time": "2025-05-06T14:32:23.545Z"
   },
   {
    "duration": 9,
    "start_time": "2025-05-06T14:32:56.859Z"
   },
   {
    "duration": 9,
    "start_time": "2025-05-06T14:33:24.576Z"
   },
   {
    "duration": 6,
    "start_time": "2025-05-06T14:33:54.841Z"
   },
   {
    "duration": 17,
    "start_time": "2025-05-06T14:34:06.743Z"
   },
   {
    "duration": 15,
    "start_time": "2025-05-06T14:34:38.610Z"
   },
   {
    "duration": 16,
    "start_time": "2025-05-06T14:35:02.292Z"
   },
   {
    "duration": 26,
    "start_time": "2025-05-06T14:35:30.576Z"
   },
   {
    "duration": 15,
    "start_time": "2025-05-06T14:37:42.491Z"
   },
   {
    "duration": 17,
    "start_time": "2025-05-06T14:38:14.104Z"
   },
   {
    "duration": 10,
    "start_time": "2025-05-06T14:38:21.492Z"
   },
   {
    "duration": 1480,
    "start_time": "2025-05-06T14:38:37.490Z"
   },
   {
    "duration": 1024,
    "start_time": "2025-05-06T14:38:49.724Z"
   },
   {
    "duration": 10,
    "start_time": "2025-05-06T14:39:01.637Z"
   },
   {
    "duration": 16,
    "start_time": "2025-05-06T14:39:35.636Z"
   },
   {
    "duration": 19,
    "start_time": "2025-05-06T14:39:58.957Z"
   },
   {
    "duration": 19,
    "start_time": "2025-05-06T14:40:09.790Z"
   },
   {
    "duration": 97,
    "start_time": "2025-05-06T14:41:22.355Z"
   },
   {
    "duration": 24,
    "start_time": "2025-05-06T14:41:26.072Z"
   },
   {
    "duration": 17,
    "start_time": "2025-05-06T14:42:07.437Z"
   },
   {
    "duration": 17,
    "start_time": "2025-05-06T14:44:04.003Z"
   },
   {
    "duration": 8,
    "start_time": "2025-05-06T14:47:40.485Z"
   },
   {
    "duration": 40,
    "start_time": "2025-05-06T14:48:05.999Z"
   },
   {
    "duration": 8,
    "start_time": "2025-05-06T14:48:17.451Z"
   },
   {
    "duration": 10,
    "start_time": "2025-05-06T14:48:48.767Z"
   },
   {
    "duration": 11,
    "start_time": "2025-05-06T14:48:56.784Z"
   },
   {
    "duration": 7,
    "start_time": "2025-05-06T14:49:04.849Z"
   },
   {
    "duration": 8,
    "start_time": "2025-05-06T14:49:19.501Z"
   },
   {
    "duration": 14,
    "start_time": "2025-05-06T14:49:24.567Z"
   },
   {
    "duration": 7,
    "start_time": "2025-05-06T14:54:30.747Z"
   },
   {
    "duration": 13,
    "start_time": "2025-05-06T14:56:51.595Z"
   },
   {
    "duration": 10,
    "start_time": "2025-05-06T14:57:06.494Z"
   },
   {
    "duration": 9,
    "start_time": "2025-05-06T14:57:09.395Z"
   },
   {
    "duration": 8,
    "start_time": "2025-05-06T14:57:24.545Z"
   },
   {
    "duration": 18,
    "start_time": "2025-05-06T14:57:30.995Z"
   },
   {
    "duration": 18,
    "start_time": "2025-05-06T14:57:31.579Z"
   },
   {
    "duration": 9,
    "start_time": "2025-05-06T14:57:32.193Z"
   },
   {
    "duration": 9,
    "start_time": "2025-05-06T14:57:33.562Z"
   },
   {
    "duration": 50,
    "start_time": "2025-05-06T14:57:44.677Z"
   },
   {
    "duration": 371,
    "start_time": "2025-05-06T14:57:51.127Z"
   },
   {
    "duration": 45,
    "start_time": "2025-05-06T14:57:51.500Z"
   },
   {
    "duration": 17,
    "start_time": "2025-05-06T14:57:51.578Z"
   },
   {
    "duration": 20,
    "start_time": "2025-05-06T14:57:51.725Z"
   },
   {
    "duration": 14,
    "start_time": "2025-05-06T14:57:52.176Z"
   },
   {
    "duration": 3,
    "start_time": "2025-05-06T14:57:52.476Z"
   },
   {
    "duration": 13,
    "start_time": "2025-05-06T14:57:52.609Z"
   },
   {
    "duration": 37,
    "start_time": "2025-05-06T14:57:52.943Z"
   },
   {
    "duration": 19,
    "start_time": "2025-05-06T14:57:54.043Z"
   },
   {
    "duration": 10,
    "start_time": "2025-05-06T14:57:54.494Z"
   },
   {
    "duration": 12,
    "start_time": "2025-05-06T14:57:54.843Z"
   },
   {
    "duration": 24,
    "start_time": "2025-05-06T14:57:55.228Z"
   },
   {
    "duration": 28,
    "start_time": "2025-05-06T14:57:55.577Z"
   },
   {
    "duration": 13,
    "start_time": "2025-05-06T14:57:56.160Z"
   },
   {
    "duration": 8,
    "start_time": "2025-05-06T14:57:56.725Z"
   },
   {
    "duration": 12,
    "start_time": "2025-05-06T14:57:57.093Z"
   },
   {
    "duration": 14,
    "start_time": "2025-05-06T14:57:57.494Z"
   },
   {
    "duration": 17,
    "start_time": "2025-05-06T14:57:58.077Z"
   },
   {
    "duration": 17,
    "start_time": "2025-05-06T14:57:58.477Z"
   },
   {
    "duration": 17,
    "start_time": "2025-05-06T14:57:59.077Z"
   },
   {
    "duration": 8,
    "start_time": "2025-05-06T14:57:59.679Z"
   },
   {
    "duration": 9,
    "start_time": "2025-05-06T14:58:00.292Z"
   },
   {
    "duration": 36,
    "start_time": "2025-05-06T14:58:26.079Z"
   },
   {
    "duration": 14,
    "start_time": "2025-05-06T14:58:32.145Z"
   },
   {
    "duration": 19,
    "start_time": "2025-05-06T14:59:07.656Z"
   },
   {
    "duration": 7,
    "start_time": "2025-05-06T14:59:36.818Z"
   },
   {
    "duration": 5,
    "start_time": "2025-05-06T15:01:37.495Z"
   },
   {
    "duration": 6,
    "start_time": "2025-05-06T15:01:50.075Z"
   },
   {
    "duration": 7,
    "start_time": "2025-05-06T15:02:49.356Z"
   },
   {
    "duration": 9,
    "start_time": "2025-05-06T15:03:27.273Z"
   },
   {
    "duration": 6,
    "start_time": "2025-05-06T15:03:36.609Z"
   },
   {
    "duration": 12,
    "start_time": "2025-05-06T15:06:46.004Z"
   },
   {
    "duration": 16,
    "start_time": "2025-05-06T15:07:48.122Z"
   },
   {
    "duration": 3,
    "start_time": "2025-05-06T15:11:07.332Z"
   },
   {
    "duration": 46,
    "start_time": "2025-05-06T15:11:07.664Z"
   },
   {
    "duration": 15,
    "start_time": "2025-05-06T16:25:16.404Z"
   },
   {
    "duration": 16,
    "start_time": "2025-05-06T16:25:16.585Z"
   },
   {
    "duration": 439,
    "start_time": "2025-05-06T16:25:47.639Z"
   },
   {
    "duration": 45,
    "start_time": "2025-05-06T16:25:48.080Z"
   },
   {
    "duration": 17,
    "start_time": "2025-05-06T16:25:48.669Z"
   },
   {
    "duration": 22,
    "start_time": "2025-05-06T16:25:48.939Z"
   },
   {
    "duration": 16,
    "start_time": "2025-05-06T16:25:49.988Z"
   },
   {
    "duration": 4,
    "start_time": "2025-05-06T16:25:50.636Z"
   },
   {
    "duration": 13,
    "start_time": "2025-05-06T16:25:50.868Z"
   },
   {
    "duration": 36,
    "start_time": "2025-05-06T16:25:51.252Z"
   },
   {
    "duration": 18,
    "start_time": "2025-05-06T16:25:51.871Z"
   },
   {
    "duration": 10,
    "start_time": "2025-05-06T16:25:52.200Z"
   },
   {
    "duration": 12,
    "start_time": "2025-05-06T16:25:52.504Z"
   },
   {
    "duration": 24,
    "start_time": "2025-05-06T16:25:52.817Z"
   },
   {
    "duration": 30,
    "start_time": "2025-05-06T16:25:53.133Z"
   },
   {
    "duration": 14,
    "start_time": "2025-05-06T16:25:53.603Z"
   },
   {
    "duration": 8,
    "start_time": "2025-05-06T16:25:54.098Z"
   },
   {
    "duration": 12,
    "start_time": "2025-05-06T16:25:54.451Z"
   },
   {
    "duration": 14,
    "start_time": "2025-05-06T16:25:54.769Z"
   },
   {
    "duration": 14,
    "start_time": "2025-05-06T16:25:55.283Z"
   },
   {
    "duration": 15,
    "start_time": "2025-05-06T16:25:55.654Z"
   },
   {
    "duration": 16,
    "start_time": "2025-05-06T16:25:56.168Z"
   },
   {
    "duration": 8,
    "start_time": "2025-05-06T16:25:56.686Z"
   },
   {
    "duration": 7,
    "start_time": "2025-05-06T16:25:57.201Z"
   },
   {
    "duration": 13,
    "start_time": "2025-05-06T16:25:57.752Z"
   },
   {
    "duration": 15,
    "start_time": "2025-05-06T16:25:57.935Z"
   },
   {
    "duration": 469,
    "start_time": "2025-05-07T10:37:22.158Z"
   },
   {
    "duration": 195,
    "start_time": "2025-05-07T10:37:22.629Z"
   },
   {
    "duration": 19,
    "start_time": "2025-05-07T10:37:22.826Z"
   },
   {
    "duration": 23,
    "start_time": "2025-05-07T10:37:22.900Z"
   },
   {
    "duration": 16,
    "start_time": "2025-05-07T10:37:24.220Z"
   },
   {
    "duration": 3,
    "start_time": "2025-05-07T10:37:25.253Z"
   },
   {
    "duration": 14,
    "start_time": "2025-05-07T10:37:25.939Z"
   },
   {
    "duration": 23,
    "start_time": "2025-05-07T10:37:33.091Z"
   },
   {
    "duration": 24,
    "start_time": "2025-05-07T10:37:41.522Z"
   },
   {
    "duration": 57,
    "start_time": "2025-05-07T10:37:47.439Z"
   },
   {
    "duration": 20,
    "start_time": "2025-05-07T10:37:51.553Z"
   },
   {
    "duration": 10,
    "start_time": "2025-05-07T10:37:53.352Z"
   },
   {
    "duration": 14,
    "start_time": "2025-05-07T10:37:54.171Z"
   },
   {
    "duration": 27,
    "start_time": "2025-05-07T10:38:00.722Z"
   },
   {
    "duration": 52,
    "start_time": "2025-05-07T10:38:24.558Z"
   },
   {
    "duration": 80,
    "start_time": "2025-05-07T10:38:31.106Z"
   },
   {
    "duration": 15,
    "start_time": "2025-05-07T10:38:43.007Z"
   },
   {
    "duration": 9,
    "start_time": "2025-05-07T10:38:48.937Z"
   },
   {
    "duration": 15,
    "start_time": "2025-05-07T10:38:53.669Z"
   },
   {
    "duration": 18,
    "start_time": "2025-05-07T10:39:02.189Z"
   },
   {
    "duration": 27,
    "start_time": "2025-05-07T10:39:08.974Z"
   },
   {
    "duration": 28,
    "start_time": "2025-05-07T10:39:13.203Z"
   },
   {
    "duration": 30,
    "start_time": "2025-05-07T10:39:18.240Z"
   },
   {
    "duration": 16,
    "start_time": "2025-05-07T10:39:23.256Z"
   },
   {
    "duration": 11,
    "start_time": "2025-05-07T10:39:27.650Z"
   },
   {
    "duration": 8,
    "start_time": "2025-05-07T10:39:32.685Z"
   },
   {
    "duration": 14,
    "start_time": "2025-05-07T10:39:38.334Z"
   },
   {
    "duration": 18,
    "start_time": "2025-05-07T10:39:38.465Z"
   },
   {
    "duration": 12,
    "start_time": "2025-05-07T10:41:16.168Z"
   },
   {
    "duration": 428,
    "start_time": "2025-05-07T10:48:58.974Z"
   },
   {
    "duration": 49,
    "start_time": "2025-05-07T10:48:59.404Z"
   },
   {
    "duration": 21,
    "start_time": "2025-05-07T10:48:59.498Z"
   },
   {
    "duration": 23,
    "start_time": "2025-05-07T10:48:59.648Z"
   },
   {
    "duration": 18,
    "start_time": "2025-05-07T10:49:00.316Z"
   },
   {
    "duration": 4,
    "start_time": "2025-05-07T10:49:00.632Z"
   },
   {
    "duration": 23,
    "start_time": "2025-05-07T10:49:00.982Z"
   },
   {
    "duration": 54,
    "start_time": "2025-05-07T10:49:01.550Z"
   },
   {
    "duration": 19,
    "start_time": "2025-05-07T10:49:02.301Z"
   },
   {
    "duration": 11,
    "start_time": "2025-05-07T10:49:02.851Z"
   },
   {
    "duration": 12,
    "start_time": "2025-05-07T10:49:03.199Z"
   },
   {
    "duration": 27,
    "start_time": "2025-05-07T10:49:03.750Z"
   },
   {
    "duration": 34,
    "start_time": "2025-05-07T10:49:04.284Z"
   },
   {
    "duration": 15,
    "start_time": "2025-05-07T10:49:05.017Z"
   },
   {
    "duration": 10,
    "start_time": "2025-05-07T10:49:05.586Z"
   },
   {
    "duration": 14,
    "start_time": "2025-05-07T10:49:05.969Z"
   },
   {
    "duration": 18,
    "start_time": "2025-05-07T10:49:06.333Z"
   },
   {
    "duration": 24,
    "start_time": "2025-05-07T10:49:07.302Z"
   },
   {
    "duration": 29,
    "start_time": "2025-05-07T10:49:07.853Z"
   },
   {
    "duration": 29,
    "start_time": "2025-05-07T10:49:08.516Z"
   },
   {
    "duration": 11,
    "start_time": "2025-05-07T10:49:09.084Z"
   },
   {
    "duration": 8,
    "start_time": "2025-05-07T10:49:09.833Z"
   },
   {
    "duration": 13,
    "start_time": "2025-05-07T10:49:10.521Z"
   },
   {
    "duration": 16,
    "start_time": "2025-05-07T10:49:10.680Z"
   },
   {
    "duration": 10,
    "start_time": "2025-05-07T10:58:17.278Z"
   },
   {
    "duration": 13,
    "start_time": "2025-05-07T10:58:32.261Z"
   },
   {
    "duration": 13,
    "start_time": "2025-05-07T10:58:50.810Z"
   },
   {
    "duration": 91,
    "start_time": "2025-05-07T11:01:34.308Z"
   },
   {
    "duration": 25,
    "start_time": "2025-05-07T11:01:43.875Z"
   },
   {
    "duration": 23,
    "start_time": "2025-05-07T11:01:47.263Z"
   },
   {
    "duration": 406,
    "start_time": "2025-05-07T11:01:57.222Z"
   },
   {
    "duration": 49,
    "start_time": "2025-05-07T11:01:57.629Z"
   },
   {
    "duration": 20,
    "start_time": "2025-05-07T11:01:57.703Z"
   },
   {
    "duration": 22,
    "start_time": "2025-05-07T11:01:57.888Z"
   },
   {
    "duration": 16,
    "start_time": "2025-05-07T11:01:58.557Z"
   },
   {
    "duration": 4,
    "start_time": "2025-05-07T11:01:58.887Z"
   },
   {
    "duration": 24,
    "start_time": "2025-05-07T11:01:59.223Z"
   },
   {
    "duration": 51,
    "start_time": "2025-05-07T11:01:59.775Z"
   },
   {
    "duration": 19,
    "start_time": "2025-05-07T11:02:00.574Z"
   },
   {
    "duration": 11,
    "start_time": "2025-05-07T11:02:00.972Z"
   },
   {
    "duration": 13,
    "start_time": "2025-05-07T11:02:01.392Z"
   },
   {
    "duration": 27,
    "start_time": "2025-05-07T11:02:03.043Z"
   },
   {
    "duration": 36,
    "start_time": "2025-05-07T11:02:05.306Z"
   },
   {
    "duration": 21,
    "start_time": "2025-05-07T11:02:09.042Z"
   },
   {
    "duration": 16,
    "start_time": "2025-05-07T11:02:09.659Z"
   },
   {
    "duration": 9,
    "start_time": "2025-05-07T11:02:22.241Z"
   },
   {
    "duration": 31,
    "start_time": "2025-05-07T11:02:23.759Z"
   },
   {
    "duration": 20,
    "start_time": "2025-05-07T11:02:35.245Z"
   },
   {
    "duration": 17,
    "start_time": "2025-05-07T11:03:36.165Z"
   },
   {
    "duration": 37,
    "start_time": "2025-05-07T11:21:07.370Z"
   },
   {
    "duration": 432,
    "start_time": "2025-05-07T11:23:10.724Z"
   },
   {
    "duration": 50,
    "start_time": "2025-05-07T11:23:11.159Z"
   },
   {
    "duration": 19,
    "start_time": "2025-05-07T11:23:11.355Z"
   },
   {
    "duration": 23,
    "start_time": "2025-05-07T11:23:11.521Z"
   },
   {
    "duration": 17,
    "start_time": "2025-05-07T11:23:12.208Z"
   },
   {
    "duration": 4,
    "start_time": "2025-05-07T11:23:12.539Z"
   },
   {
    "duration": 25,
    "start_time": "2025-05-07T11:23:12.889Z"
   },
   {
    "duration": 49,
    "start_time": "2025-05-07T11:23:13.405Z"
   },
   {
    "duration": 20,
    "start_time": "2025-05-07T11:23:14.105Z"
   },
   {
    "duration": 11,
    "start_time": "2025-05-07T11:23:14.475Z"
   },
   {
    "duration": 12,
    "start_time": "2025-05-07T11:23:14.860Z"
   },
   {
    "duration": 27,
    "start_time": "2025-05-07T11:23:15.424Z"
   },
   {
    "duration": 38,
    "start_time": "2025-05-07T11:23:15.974Z"
   },
   {
    "duration": 15,
    "start_time": "2025-05-07T11:23:16.724Z"
   },
   {
    "duration": 15,
    "start_time": "2025-05-07T11:23:17.107Z"
   },
   {
    "duration": 18,
    "start_time": "2025-05-07T11:23:18.142Z"
   },
   {
    "duration": 31,
    "start_time": "2025-05-07T11:23:18.908Z"
   },
   {
    "duration": 35,
    "start_time": "2025-05-07T11:23:20.243Z"
   },
   {
    "duration": 26,
    "start_time": "2025-05-07T11:23:23.592Z"
   },
   {
    "duration": 27,
    "start_time": "2025-05-07T11:23:31.158Z"
   },
   {
    "duration": 28,
    "start_time": "2025-05-07T11:23:33.875Z"
   },
   {
    "duration": 11,
    "start_time": "2025-05-07T11:23:59.226Z"
   },
   {
    "duration": 9,
    "start_time": "2025-05-07T11:24:01.241Z"
   },
   {
    "duration": 14,
    "start_time": "2025-05-07T11:24:03.340Z"
   },
   {
    "duration": 17,
    "start_time": "2025-05-07T11:24:03.825Z"
   }
  ],
  "colab": {
   "provenance": []
  },
  "kernelspec": {
   "display_name": "Python 3",
   "language": "python",
   "name": "python3"
  },
  "language_info": {
   "codemirror_mode": {
    "name": "ipython",
    "version": 3
   },
   "file_extension": ".py",
   "mimetype": "text/x-python",
   "name": "python",
   "nbconvert_exporter": "python",
   "pygments_lexer": "ipython3",
   "version": "3.13.3"
  },
  "toc": {
   "base_numbering": 1,
   "nav_menu": {},
   "number_sections": true,
   "sideBar": true,
   "skip_h1_title": true,
   "title_cell": "Table of Contents",
   "title_sidebar": "Contents",
   "toc_cell": false,
   "toc_position": {},
   "toc_section_display": true,
   "toc_window_display": false
  }
 },
 "nbformat": 4,
 "nbformat_minor": 5
}
