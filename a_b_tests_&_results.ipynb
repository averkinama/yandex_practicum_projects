{
 "cells": [
  {
   "cell_type": "markdown",
   "metadata": {
    "id": "u98L9TgH0eMk"
   },
   "source": [
    "# Разработка A/B-тестирования и анализ результатов\n",
    "\n",
    "Вы работаете продуктовым аналитиком в компании, которая разрабатывает развлекательное приложение с функцией «бесконечной» ленты, как, например, в приложениях с короткими видео. В вашем приложении существует две модели монетизации: первая — ежемесячная платная подписка, которая позволяет пользователям смотреть ленту без рекламы, вторая — демонстрация рекламы для пользователей, которые ещё не оформили подписку.\n",
    "\n",
    "Команда разработчиков рекомендательных систем создала новый алгоритм рекомендаций, который, по их мнению, будет показывать более интересный контент для каждого пользователя. Вас, как аналитика, просят помочь рассчитать параметры A/B-теста, который позволит проверить эту гипотезу, и проанализировать его результаты."
   ]
  },
  {
   "cell_type": "markdown",
   "metadata": {
    "id": "LJBRALHs0eMf"
   },
   "source": [
    "## Описание данных\n",
    "\n",
    "Вы будете работать с тремя таблицами:\n",
    "\n",
    "- `sessions_project_history.csv` — таблица с историческими данными по сессиям пользователей на период с 2025-08-11 по 2025-09-23. Путь к файлу: `/datasets/sessions_project_history.csv`.\n",
    "\n",
    "- `sessions_project_test_part.csv` — таблица с данными за первый день проведения A/B-теста, то есть за 2025-10-14. Путь к файлу: `/datasets/sessions_project_test_part.csv`.\n",
    "\n",
    "- `sessions_project_test.csv` — таблица с данными за весь период проведения A/B-теста, то есть с 2025-10-14 по 2025-11-02. Путь к файлу: `/datasets/sessions_project_test.csv`.\n",
    "\n",
    "У этих таблиц почти совпадает структура и содержание колонок, различаются лишь периоды наблюдения.\n",
    "\n",
    "Поля таблиц `sessions_project_history.csv`, `sessions_project_test.csv`, `sessions_project_test_part.csv`:\n",
    "\n",
    "- `user_id` — идентификатор пользователя;\n",
    "\n",
    "- `session_id` — идентификатор сессии в приложении;\n",
    "\n",
    "- `session_date` — дата сессии;\n",
    "\n",
    "- `session_start_ts` — дата и время начала сессии;\n",
    "\n",
    "- `install_date` — дата установки приложения;\n",
    "\n",
    "- `session_number` — порядковый номер сессии для конкретного пользователя;\n",
    "\n",
    "- `registration_flag` — является ли пользователь зарегистрированным;\n",
    "\n",
    "- `page_counter` — количество просмотренных страниц во время сессии;\n",
    "\n",
    "- `region` — регион пользователя;\n",
    "\n",
    "- `device` — тип устройства пользователя;\n",
    "\n",
    "- `test_group` — тестовая группа (в таблице с историческими данными этого столбца нет).\n",
    "\n",
    "\n",
    "## Что нужно сделать\n",
    "Ваши задачи: рассчитать параметры теста, оценить корректность его проведения и проанализировать результаты эксперимента.\n",
    "\n",
    "План работы:\n",
    "\n",
    "1. Работа с историческими данными (загрузка и знакомство с данными, анализ числа регистраций и числа просмотренных страниц, изучение доли пользователей, просмотревших более 4 старниц)\n",
    "\n",
    "2. Подготовка к тесту(формулировка нулевой и альтернативной гипотез, расчет размера выборки и длительности А/В теста)\n",
    "\n",
    "3. Мониторинг А/В теста (проверка распределения и пересечения пользователей, проверка равномерности распределения пользователей по устройствам и регионам)\n",
    "\n",
    "4. Проверка результатов А/В (Получение результатов теста и подсчет основной метрики, проверка корректности результатов, сравнение доли успешных тестов, насколько статистически значимо изменение ключевой метрики)."
   ]
  },
  {
   "cell_type": "markdown",
   "metadata": {
    "id": "UpOucjID0eMl"
   },
   "source": [
    "### 1. Работа с историческими данными (EDA)"
   ]
  },
  {
   "cell_type": "markdown",
   "metadata": {
    "id": "8iJMtL-30eMl"
   },
   "source": [
    "#### 1.1. Загрузка исторических данных\n",
    "На первом этапе поработайте с историческими данными приложения:\n",
    "\n",
    "- Импортируйте библиотеку pandas.\n",
    "\n",
    "- Считайте и сохраните в датафрейм `sessions_history` CSV-файл с историческими данными о сессиях пользователей `sessions_project_history.csv`.\n",
    "\n",
    "Выведите на экран первые пять строк полученного датафрейма."
   ]
  },
  {
   "cell_type": "code",
   "execution_count": 2,
   "metadata": {
    "executionInfo": {
     "elapsed": 7,
     "status": "ok",
     "timestamp": 1756311474798,
     "user": {
      "displayName": "Maria Averkina",
      "userId": "01722641797731955161"
     },
     "user_tz": 420
    },
    "id": "ya73KAiYSVLJ"
   },
   "outputs": [],
   "source": [
    "# Импортируем необходимые библиотеки\n",
    "\n",
    "import pandas as pd\n",
    "import matplotlib.pyplot as plt\n",
    "from statsmodels.stats.power import NormalIndPower\n",
    "from statsmodels.stats.proportion import proportion_effectsize\n",
    "from math import *\n",
    "from statsmodels.stats.proportion import proportions_ztest\n",
    "from scipy.stats import ttest_ind\n"
   ]
  },
  {
   "cell_type": "code",
   "execution_count": 3,
   "metadata": {},
   "outputs": [],
   "source": [
    "# Эта ячейка исправит проблему SSL если она есть\n",
    "import ssl\n",
    "try:\n",
    "    _create_unverified_https_context = ssl._create_unverified_context\n",
    "except AttributeError:\n",
    "    pass\n",
    "else:\n",
    "    ssl._create_default_https_context = _create_unverified_https_context"
   ]
  },
  {
   "cell_type": "code",
   "execution_count": 4,
   "metadata": {
    "colab": {
     "base_uri": "https://localhost:8080/",
     "height": 206
    },
    "executionInfo": {
     "elapsed": 2412,
     "status": "ok",
     "timestamp": 1756311477214,
     "user": {
      "displayName": "Maria Averkina",
      "userId": "01722641797731955161"
     },
     "user_tz": 420
    },
    "id": "6TPR2-1RPboT",
    "outputId": "0caae5f5-b86d-4be3-e4c6-f1c71e2f0cb8"
   },
   "outputs": [
    {
     "data": {
      "text/html": [
       "<div>\n",
       "<style scoped>\n",
       "    .dataframe tbody tr th:only-of-type {\n",
       "        vertical-align: middle;\n",
       "    }\n",
       "\n",
       "    .dataframe tbody tr th {\n",
       "        vertical-align: top;\n",
       "    }\n",
       "\n",
       "    .dataframe thead th {\n",
       "        text-align: right;\n",
       "    }\n",
       "</style>\n",
       "<table border=\"1\" class=\"dataframe\">\n",
       "  <thead>\n",
       "    <tr style=\"text-align: right;\">\n",
       "      <th></th>\n",
       "      <th>user_id</th>\n",
       "      <th>session_id</th>\n",
       "      <th>session_date</th>\n",
       "      <th>session_start_ts</th>\n",
       "      <th>install_date</th>\n",
       "      <th>session_number</th>\n",
       "      <th>registration_flag</th>\n",
       "      <th>page_counter</th>\n",
       "      <th>region</th>\n",
       "      <th>device</th>\n",
       "    </tr>\n",
       "  </thead>\n",
       "  <tbody>\n",
       "    <tr>\n",
       "      <th>0</th>\n",
       "      <td>E302123B7000BFE4</td>\n",
       "      <td>F9AF61A0C2023832</td>\n",
       "      <td>2025-08-15</td>\n",
       "      <td>2025-08-15 17:47:35</td>\n",
       "      <td>2025-08-15</td>\n",
       "      <td>1</td>\n",
       "      <td>0</td>\n",
       "      <td>3</td>\n",
       "      <td>CIS</td>\n",
       "      <td>iPhone</td>\n",
       "    </tr>\n",
       "    <tr>\n",
       "      <th>1</th>\n",
       "      <td>2530F72E221829FB</td>\n",
       "      <td>85003A206CBDAC6F</td>\n",
       "      <td>2025-08-15</td>\n",
       "      <td>2025-08-15 16:42:14</td>\n",
       "      <td>2025-08-15</td>\n",
       "      <td>1</td>\n",
       "      <td>0</td>\n",
       "      <td>4</td>\n",
       "      <td>MENA</td>\n",
       "      <td>Android</td>\n",
       "    </tr>\n",
       "    <tr>\n",
       "      <th>2</th>\n",
       "      <td>876E020A4FC512F5</td>\n",
       "      <td>3677423E49D72DEE</td>\n",
       "      <td>2025-08-15</td>\n",
       "      <td>2025-08-15 12:30:00</td>\n",
       "      <td>2025-08-15</td>\n",
       "      <td>1</td>\n",
       "      <td>0</td>\n",
       "      <td>4</td>\n",
       "      <td>EU</td>\n",
       "      <td>PC</td>\n",
       "    </tr>\n",
       "    <tr>\n",
       "      <th>3</th>\n",
       "      <td>2640B349E1D81584</td>\n",
       "      <td>956B45F5915CA225</td>\n",
       "      <td>2025-08-15</td>\n",
       "      <td>2025-08-15 15:31:31</td>\n",
       "      <td>2025-08-15</td>\n",
       "      <td>1</td>\n",
       "      <td>0</td>\n",
       "      <td>4</td>\n",
       "      <td>CIS</td>\n",
       "      <td>Android</td>\n",
       "    </tr>\n",
       "    <tr>\n",
       "      <th>4</th>\n",
       "      <td>94E1CBFAEF1F5EE9</td>\n",
       "      <td>83BF0DA35F9F1F40</td>\n",
       "      <td>2025-08-15</td>\n",
       "      <td>2025-08-15 21:33:53</td>\n",
       "      <td>2025-08-15</td>\n",
       "      <td>1</td>\n",
       "      <td>0</td>\n",
       "      <td>3</td>\n",
       "      <td>CIS</td>\n",
       "      <td>Android</td>\n",
       "    </tr>\n",
       "  </tbody>\n",
       "</table>\n",
       "</div>"
      ],
      "text/plain": [
       "            user_id        session_id session_date     session_start_ts  \\\n",
       "0  E302123B7000BFE4  F9AF61A0C2023832   2025-08-15  2025-08-15 17:47:35   \n",
       "1  2530F72E221829FB  85003A206CBDAC6F   2025-08-15  2025-08-15 16:42:14   \n",
       "2  876E020A4FC512F5  3677423E49D72DEE   2025-08-15  2025-08-15 12:30:00   \n",
       "3  2640B349E1D81584  956B45F5915CA225   2025-08-15  2025-08-15 15:31:31   \n",
       "4  94E1CBFAEF1F5EE9  83BF0DA35F9F1F40   2025-08-15  2025-08-15 21:33:53   \n",
       "\n",
       "  install_date  session_number  registration_flag  page_counter region  \\\n",
       "0   2025-08-15               1                  0             3    CIS   \n",
       "1   2025-08-15               1                  0             4   MENA   \n",
       "2   2025-08-15               1                  0             4     EU   \n",
       "3   2025-08-15               1                  0             4    CIS   \n",
       "4   2025-08-15               1                  0             3    CIS   \n",
       "\n",
       "    device  \n",
       "0   iPhone  \n",
       "1  Android  \n",
       "2       PC  \n",
       "3  Android  \n",
       "4  Android  "
      ]
     },
     "execution_count": 4,
     "metadata": {},
     "output_type": "execute_result"
    }
   ],
   "source": [
    "sessions_history = pd.read_csv('https://code.s3.yandex.net/datasets/sessions_project_history.csv')\n",
    "\n",
    "sessions_history.head(5)"
   ]
  },
  {
   "cell_type": "markdown",
   "metadata": {
    "id": "qTDoiODz0eMo"
   },
   "source": [
    "#### 1.2. Знакомство с данными\n",
    "- Для каждого уникального пользователя `user_id` рассчитайте количество уникальных сессий `session_id`.\n",
    "\n",
    "- Выведите на экран все данные из таблицы `sessions_history` для одного пользователя с наибольшим количеством сессий. Если таких пользователей несколько, выберите любого из них.\n",
    "\n",
    "- Изучите таблицу для одного пользователя, чтобы лучше понять логику формирования каждого столбца данных.\n",
    "\n"
   ]
  },
  {
   "cell_type": "code",
   "execution_count": 5,
   "metadata": {
    "colab": {
     "base_uri": "https://localhost:8080/",
     "height": 573
    },
    "executionInfo": {
     "elapsed": 421,
     "status": "ok",
     "timestamp": 1756311477637,
     "user": {
      "displayName": "Maria Averkina",
      "userId": "01722641797731955161"
     },
     "user_tz": 420
    },
    "id": "PWZO9vTIPbPN",
    "outputId": "f8068f2b-eabf-46e2-96bc-121787fdbc68"
   },
   "outputs": [
    {
     "data": {
      "text/plain": [
       "user_id\n",
       "10E0DEFC1ABDBBE0    10\n",
       "6A73CB5566BB494D    10\n",
       "8A60431A825D035B     9\n",
       "D11541BAC141FB94     9\n",
       "5BCFE7C4DCC148E9     9\n",
       "                    ..\n",
       "1DF13BB1953B3497     1\n",
       "628502A3CE7E0A3C     1\n",
       "1DEEF40DEFBD0C65     1\n",
       "AC08479B7472C628     1\n",
       "8A0882B6715D9EE5     1\n",
       "Name: session_id, Length: 134039, dtype: int64"
      ]
     },
     "metadata": {},
     "output_type": "display_data"
    },
    {
     "data": {
      "text/html": [
       "<div>\n",
       "<style scoped>\n",
       "    .dataframe tbody tr th:only-of-type {\n",
       "        vertical-align: middle;\n",
       "    }\n",
       "\n",
       "    .dataframe tbody tr th {\n",
       "        vertical-align: top;\n",
       "    }\n",
       "\n",
       "    .dataframe thead th {\n",
       "        text-align: right;\n",
       "    }\n",
       "</style>\n",
       "<table border=\"1\" class=\"dataframe\">\n",
       "  <thead>\n",
       "    <tr style=\"text-align: right;\">\n",
       "      <th></th>\n",
       "      <th>user_id</th>\n",
       "      <th>session_id</th>\n",
       "      <th>session_date</th>\n",
       "      <th>session_start_ts</th>\n",
       "      <th>install_date</th>\n",
       "      <th>session_number</th>\n",
       "      <th>registration_flag</th>\n",
       "      <th>page_counter</th>\n",
       "      <th>region</th>\n",
       "      <th>device</th>\n",
       "    </tr>\n",
       "  </thead>\n",
       "  <tbody>\n",
       "    <tr>\n",
       "      <th>414743</th>\n",
       "      <td>10E0DEFC1ABDBBE0</td>\n",
       "      <td>054F20BA371E4C9D</td>\n",
       "      <td>2025-08-25</td>\n",
       "      <td>2025-08-25 18:36:41</td>\n",
       "      <td>2025-08-14</td>\n",
       "      <td>10</td>\n",
       "      <td>0</td>\n",
       "      <td>3</td>\n",
       "      <td>CIS</td>\n",
       "      <td>Android</td>\n",
       "    </tr>\n",
       "  </tbody>\n",
       "</table>\n",
       "</div>"
      ],
      "text/plain": [
       "                 user_id        session_id session_date     session_start_ts  \\\n",
       "414743  10E0DEFC1ABDBBE0  054F20BA371E4C9D   2025-08-25  2025-08-25 18:36:41   \n",
       "\n",
       "       install_date  session_number  registration_flag  page_counter region  \\\n",
       "414743   2025-08-14              10                  0             3    CIS   \n",
       "\n",
       "         device  \n",
       "414743  Android  "
      ]
     },
     "metadata": {},
     "output_type": "display_data"
    }
   ],
   "source": [
    "# Отобразим для каждого уникального пользователя количество уникальных сессий в порядке убывания\n",
    "display(sessions_history.groupby('user_id')['session_id'].nunique().sort_values(ascending = False)) # Первая строчка - тот самый пользователь с наибольшим количеством сессий\n",
    "\n",
    "# Отобразим строку со всеми столбцами для одного пользователя с наибольшим количеством сессий\n",
    "display(sessions_history[sessions_history['session_number'] == sessions_history['session_number'].max()].head(1))\n"
   ]
  },
  {
   "cell_type": "markdown",
   "metadata": {
    "id": "9MlipO8VSAeE"
   },
   "source": [
    "Можно заметить, что столбец `session_number` отображает именно порядковый номер сессии, поэтому его максимальное значение будет общим количеством сессий для пользователя. Можно сделать вывод, что у пользователя, строчку с данными которого мы вывели выше, существует еще 9 строчек с таким же `user_id`, но с отличающимся значением в столбце `session_number` и такие строки не будут являться дубликатами. В таком случае будут отличаться еще столбцы `page_counter`, `session_id`, `session_date`, `session_start_is`, возможно еще `device`."
   ]
  },
  {
   "cell_type": "code",
   "execution_count": 6,
   "metadata": {
    "colab": {
     "base_uri": "https://localhost:8080/",
     "height": 383
    },
    "executionInfo": {
     "elapsed": 60,
     "status": "ok",
     "timestamp": 1756311477701,
     "user": {
      "displayName": "Maria Averkina",
      "userId": "01722641797731955161"
     },
     "user_tz": 420
    },
    "id": "PA9yPO_vSAeE",
    "outputId": "81b7ce03-7366-4f00-af95-e685a730f7e5"
   },
   "outputs": [
    {
     "data": {
      "text/html": [
       "<div>\n",
       "<style scoped>\n",
       "    .dataframe tbody tr th:only-of-type {\n",
       "        vertical-align: middle;\n",
       "    }\n",
       "\n",
       "    .dataframe tbody tr th {\n",
       "        vertical-align: top;\n",
       "    }\n",
       "\n",
       "    .dataframe thead th {\n",
       "        text-align: right;\n",
       "    }\n",
       "</style>\n",
       "<table border=\"1\" class=\"dataframe\">\n",
       "  <thead>\n",
       "    <tr style=\"text-align: right;\">\n",
       "      <th></th>\n",
       "      <th>user_id</th>\n",
       "      <th>session_id</th>\n",
       "      <th>session_date</th>\n",
       "      <th>session_start_ts</th>\n",
       "      <th>install_date</th>\n",
       "      <th>session_number</th>\n",
       "      <th>registration_flag</th>\n",
       "      <th>page_counter</th>\n",
       "      <th>region</th>\n",
       "      <th>device</th>\n",
       "    </tr>\n",
       "  </thead>\n",
       "  <tbody>\n",
       "    <tr>\n",
       "      <th>115558</th>\n",
       "      <td>10E0DEFC1ABDBBE0</td>\n",
       "      <td>B8F0423BBFFCF5DC</td>\n",
       "      <td>2025-08-14</td>\n",
       "      <td>2025-08-14 13:57:39</td>\n",
       "      <td>2025-08-14</td>\n",
       "      <td>1</td>\n",
       "      <td>0</td>\n",
       "      <td>4</td>\n",
       "      <td>CIS</td>\n",
       "      <td>Android</td>\n",
       "    </tr>\n",
       "    <tr>\n",
       "      <th>191751</th>\n",
       "      <td>10E0DEFC1ABDBBE0</td>\n",
       "      <td>87CA2FA549473837</td>\n",
       "      <td>2025-08-15</td>\n",
       "      <td>2025-08-15 16:42:10</td>\n",
       "      <td>2025-08-14</td>\n",
       "      <td>2</td>\n",
       "      <td>0</td>\n",
       "      <td>3</td>\n",
       "      <td>CIS</td>\n",
       "      <td>Android</td>\n",
       "    </tr>\n",
       "    <tr>\n",
       "      <th>239370</th>\n",
       "      <td>10E0DEFC1ABDBBE0</td>\n",
       "      <td>4ADD8011DCDCE318</td>\n",
       "      <td>2025-08-16</td>\n",
       "      <td>2025-08-16 19:53:21</td>\n",
       "      <td>2025-08-14</td>\n",
       "      <td>3</td>\n",
       "      <td>0</td>\n",
       "      <td>3</td>\n",
       "      <td>CIS</td>\n",
       "      <td>Android</td>\n",
       "    </tr>\n",
       "    <tr>\n",
       "      <th>274629</th>\n",
       "      <td>10E0DEFC1ABDBBE0</td>\n",
       "      <td>DF0FD0E09BF1F3D7</td>\n",
       "      <td>2025-08-17</td>\n",
       "      <td>2025-08-17 15:03:43</td>\n",
       "      <td>2025-08-14</td>\n",
       "      <td>4</td>\n",
       "      <td>0</td>\n",
       "      <td>1</td>\n",
       "      <td>CIS</td>\n",
       "      <td>Android</td>\n",
       "    </tr>\n",
       "    <tr>\n",
       "      <th>302501</th>\n",
       "      <td>10E0DEFC1ABDBBE0</td>\n",
       "      <td>3C221774B4DE6885</td>\n",
       "      <td>2025-08-18</td>\n",
       "      <td>2025-08-18 17:29:14</td>\n",
       "      <td>2025-08-14</td>\n",
       "      <td>5</td>\n",
       "      <td>0</td>\n",
       "      <td>4</td>\n",
       "      <td>CIS</td>\n",
       "      <td>Android</td>\n",
       "    </tr>\n",
       "    <tr>\n",
       "      <th>325557</th>\n",
       "      <td>10E0DEFC1ABDBBE0</td>\n",
       "      <td>031BD7A67048105B</td>\n",
       "      <td>2025-08-19</td>\n",
       "      <td>2025-08-19 13:23:55</td>\n",
       "      <td>2025-08-14</td>\n",
       "      <td>6</td>\n",
       "      <td>0</td>\n",
       "      <td>2</td>\n",
       "      <td>CIS</td>\n",
       "      <td>Android</td>\n",
       "    </tr>\n",
       "    <tr>\n",
       "      <th>345336</th>\n",
       "      <td>10E0DEFC1ABDBBE0</td>\n",
       "      <td>FF4315CF4AD4B100</td>\n",
       "      <td>2025-08-20</td>\n",
       "      <td>2025-08-20 19:31:54</td>\n",
       "      <td>2025-08-14</td>\n",
       "      <td>7</td>\n",
       "      <td>0</td>\n",
       "      <td>2</td>\n",
       "      <td>CIS</td>\n",
       "      <td>Android</td>\n",
       "    </tr>\n",
       "    <tr>\n",
       "      <th>377532</th>\n",
       "      <td>10E0DEFC1ABDBBE0</td>\n",
       "      <td>4045FEA0747203B4</td>\n",
       "      <td>2025-08-22</td>\n",
       "      <td>2025-08-22 17:54:13</td>\n",
       "      <td>2025-08-14</td>\n",
       "      <td>8</td>\n",
       "      <td>0</td>\n",
       "      <td>2</td>\n",
       "      <td>CIS</td>\n",
       "      <td>Android</td>\n",
       "    </tr>\n",
       "    <tr>\n",
       "      <th>403538</th>\n",
       "      <td>10E0DEFC1ABDBBE0</td>\n",
       "      <td>344B086C421C7F37</td>\n",
       "      <td>2025-08-24</td>\n",
       "      <td>2025-08-24 14:46:13</td>\n",
       "      <td>2025-08-14</td>\n",
       "      <td>9</td>\n",
       "      <td>0</td>\n",
       "      <td>2</td>\n",
       "      <td>CIS</td>\n",
       "      <td>Android</td>\n",
       "    </tr>\n",
       "    <tr>\n",
       "      <th>414743</th>\n",
       "      <td>10E0DEFC1ABDBBE0</td>\n",
       "      <td>054F20BA371E4C9D</td>\n",
       "      <td>2025-08-25</td>\n",
       "      <td>2025-08-25 18:36:41</td>\n",
       "      <td>2025-08-14</td>\n",
       "      <td>10</td>\n",
       "      <td>0</td>\n",
       "      <td>3</td>\n",
       "      <td>CIS</td>\n",
       "      <td>Android</td>\n",
       "    </tr>\n",
       "  </tbody>\n",
       "</table>\n",
       "</div>"
      ],
      "text/plain": [
       "                 user_id        session_id session_date     session_start_ts  \\\n",
       "115558  10E0DEFC1ABDBBE0  B8F0423BBFFCF5DC   2025-08-14  2025-08-14 13:57:39   \n",
       "191751  10E0DEFC1ABDBBE0  87CA2FA549473837   2025-08-15  2025-08-15 16:42:10   \n",
       "239370  10E0DEFC1ABDBBE0  4ADD8011DCDCE318   2025-08-16  2025-08-16 19:53:21   \n",
       "274629  10E0DEFC1ABDBBE0  DF0FD0E09BF1F3D7   2025-08-17  2025-08-17 15:03:43   \n",
       "302501  10E0DEFC1ABDBBE0  3C221774B4DE6885   2025-08-18  2025-08-18 17:29:14   \n",
       "325557  10E0DEFC1ABDBBE0  031BD7A67048105B   2025-08-19  2025-08-19 13:23:55   \n",
       "345336  10E0DEFC1ABDBBE0  FF4315CF4AD4B100   2025-08-20  2025-08-20 19:31:54   \n",
       "377532  10E0DEFC1ABDBBE0  4045FEA0747203B4   2025-08-22  2025-08-22 17:54:13   \n",
       "403538  10E0DEFC1ABDBBE0  344B086C421C7F37   2025-08-24  2025-08-24 14:46:13   \n",
       "414743  10E0DEFC1ABDBBE0  054F20BA371E4C9D   2025-08-25  2025-08-25 18:36:41   \n",
       "\n",
       "       install_date  session_number  registration_flag  page_counter region  \\\n",
       "115558   2025-08-14               1                  0             4    CIS   \n",
       "191751   2025-08-14               2                  0             3    CIS   \n",
       "239370   2025-08-14               3                  0             3    CIS   \n",
       "274629   2025-08-14               4                  0             1    CIS   \n",
       "302501   2025-08-14               5                  0             4    CIS   \n",
       "325557   2025-08-14               6                  0             2    CIS   \n",
       "345336   2025-08-14               7                  0             2    CIS   \n",
       "377532   2025-08-14               8                  0             2    CIS   \n",
       "403538   2025-08-14               9                  0             2    CIS   \n",
       "414743   2025-08-14              10                  0             3    CIS   \n",
       "\n",
       "         device  \n",
       "115558  Android  \n",
       "191751  Android  \n",
       "239370  Android  \n",
       "274629  Android  \n",
       "302501  Android  \n",
       "325557  Android  \n",
       "345336  Android  \n",
       "377532  Android  \n",
       "403538  Android  \n",
       "414743  Android  "
      ]
     },
     "execution_count": 6,
     "metadata": {},
     "output_type": "execute_result"
    }
   ],
   "source": [
    "# отобразим для примера все строки датафрейма для пользователя с id = 10E0DEFC1ABDBBE0\n",
    "sessions_history[(sessions_history['session_number']>=1)&(sessions_history['user_id'] == '10E0DEFC1ABDBBE0')]"
   ]
  },
  {
   "cell_type": "markdown",
   "metadata": {
    "id": "CmcGpJTP0eMq"
   },
   "source": [
    "#### 1.3. Анализ числа регистраций\n",
    "Одна из важнейших метрик продукта — число зарегистрированных пользователей. Используя исторические данные, визуализируйте, как менялось число регистраций в приложении за время его существования.\n",
    "\n",
    "- Агрегируйте исторические данные и рассчитайте число уникальных пользователей и число зарегистрированных пользователей для каждого дня наблюдения. Для простоты считайте, что у пользователя в течение дня бывает одна сессия максимум и статус регистрации в течение одного дня не может измениться.\n",
    "\n",
    "- Постройте линейные графики общего числа пользователей и общего числа зарегистрированных пользователей по дням. Отобразите их на одном графике.\n",
    "\n",
    "- Постройте отдельный линейный график доли зарегистрированных пользователей от всех пользователей по дням.\n",
    "\n",
    "- На обоих графиках должны быть заголовок, подписанные оси X и Y, сетка и легенда."
   ]
  },
  {
   "cell_type": "code",
   "execution_count": 7,
   "metadata": {
    "colab": {
     "base_uri": "https://localhost:8080/",
     "height": 784
    },
    "executionInfo": {
     "elapsed": 625,
     "status": "ok",
     "timestamp": 1756311478334,
     "user": {
      "displayName": "Maria Averkina",
      "userId": "01722641797731955161"
     },
     "user_tz": 420
    },
    "id": "TcLSjoD5SAeF",
    "outputId": "b7708c4f-d8ed-4a85-a475-324119b7c0d0"
   },
   "outputs": [
    {
     "data": {
      "image/png": "[encoded data removed]",
      "text/plain": [
       "<Figure size 1500x800 with 1 Axes>"
      ]
     },
     "metadata": {},
     "output_type": "display_data"
    }
   ],
   "source": [
    "# Считаем уникальное общее число пользователей по дням\n",
    "sessions_history_131 = sessions_history.groupby('session_date')['user_id'].nunique()\n",
    "\n",
    "# Фильтруем данные для числа зарегистрированных пользователей\n",
    "sessions_history_1321 = sessions_history[(sessions_history['registration_flag']== 1)]\n",
    "\n",
    "# Считаем уникальное число зарегистрированных пользователей по дням\n",
    "sessions_history_132 = sessions_history_1321.groupby('session_date')['user_id'].nunique()\n",
    "\n",
    "# Строим график, отображающий общее число пользователей по дням\n",
    "plt.figure(figsize=(15, 8))\n",
    "plt.plot(\n",
    "    sessions_history_131.index,\n",
    "    sessions_history_131.values,\n",
    "    label='Общее число пользователей'\n",
    ")\n",
    "\n",
    "# Строим график, отображающий кол-во зарегистрировнных пользователей по дням\n",
    "plt.plot(\n",
    "    sessions_history_132.index,\n",
    "    sessions_history_132.values,\n",
    "    label='Число зарегистрированных пользователей')\n",
    "plt.xlabel(\"День\")\n",
    "plt.xticks(rotation=90)\n",
    "plt.legend()\n",
    "plt.ylabel('Число пользователей')\n",
    "plt.title('Общее чсило пользователей и число зарегистрированных пользователей')\n",
    "plt.grid(True)\n",
    "plt.show()"
   ]
  },
  {
   "cell_type": "code",
   "execution_count": 8,
   "metadata": {
    "colab": {
     "base_uri": "https://localhost:8080/",
     "height": 1000
    },
    "executionInfo": {
     "elapsed": 181,
     "status": "ok",
     "timestamp": 1756311478518,
     "user": {
      "displayName": "Maria Averkina",
      "userId": "01722641797731955161"
     },
     "user_tz": 420
    },
    "id": "RUN-WeHHSAeF",
    "outputId": "7647a257-20de-4c60-da04-d2c949b64093"
   },
   "outputs": [
    {
     "data": {
      "text/html": [
       "<div>\n",
       "<style scoped>\n",
       "    .dataframe tbody tr th:only-of-type {\n",
       "        vertical-align: middle;\n",
       "    }\n",
       "\n",
       "    .dataframe tbody tr th {\n",
       "        vertical-align: top;\n",
       "    }\n",
       "\n",
       "    .dataframe thead th {\n",
       "        text-align: right;\n",
       "    }\n",
       "</style>\n",
       "<table border=\"1\" class=\"dataframe\">\n",
       "  <thead>\n",
       "    <tr style=\"text-align: right;\">\n",
       "      <th></th>\n",
       "      <th>user_id</th>\n",
       "    </tr>\n",
       "    <tr>\n",
       "      <th>session_date</th>\n",
       "      <th></th>\n",
       "    </tr>\n",
       "  </thead>\n",
       "  <tbody>\n",
       "    <tr>\n",
       "      <th>2025-08-11</th>\n",
       "      <td>3919</td>\n",
       "    </tr>\n",
       "    <tr>\n",
       "      <th>2025-08-12</th>\n",
       "      <td>6056</td>\n",
       "    </tr>\n",
       "    <tr>\n",
       "      <th>2025-08-13</th>\n",
       "      <td>8489</td>\n",
       "    </tr>\n",
       "    <tr>\n",
       "      <th>2025-08-14</th>\n",
       "      <td>10321</td>\n",
       "    </tr>\n",
       "    <tr>\n",
       "      <th>2025-08-15</th>\n",
       "      <td>14065</td>\n",
       "    </tr>\n",
       "    <tr>\n",
       "      <th>2025-08-16</th>\n",
       "      <td>12205</td>\n",
       "    </tr>\n",
       "    <tr>\n",
       "      <th>2025-08-17</th>\n",
       "      <td>11200</td>\n",
       "    </tr>\n",
       "    <tr>\n",
       "      <th>2025-08-18</th>\n",
       "      <td>10839</td>\n",
       "    </tr>\n",
       "    <tr>\n",
       "      <th>2025-08-19</th>\n",
       "      <td>12118</td>\n",
       "    </tr>\n",
       "    <tr>\n",
       "      <th>2025-08-20</th>\n",
       "      <td>13514</td>\n",
       "    </tr>\n",
       "    <tr>\n",
       "      <th>2025-08-21</th>\n",
       "      <td>15051</td>\n",
       "    </tr>\n",
       "    <tr>\n",
       "      <th>2025-08-22</th>\n",
       "      <td>17563</td>\n",
       "    </tr>\n",
       "    <tr>\n",
       "      <th>2025-08-23</th>\n",
       "      <td>16082</td>\n",
       "    </tr>\n",
       "    <tr>\n",
       "      <th>2025-08-24</th>\n",
       "      <td>13683</td>\n",
       "    </tr>\n",
       "    <tr>\n",
       "      <th>2025-08-25</th>\n",
       "      <td>13635</td>\n",
       "    </tr>\n",
       "    <tr>\n",
       "      <th>2025-08-26</th>\n",
       "      <td>13289</td>\n",
       "    </tr>\n",
       "    <tr>\n",
       "      <th>2025-08-27</th>\n",
       "      <td>14766</td>\n",
       "    </tr>\n",
       "    <tr>\n",
       "      <th>2025-08-28</th>\n",
       "      <td>15388</td>\n",
       "    </tr>\n",
       "    <tr>\n",
       "      <th>2025-08-29</th>\n",
       "      <td>16873</td>\n",
       "    </tr>\n",
       "    <tr>\n",
       "      <th>2025-08-30</th>\n",
       "      <td>14891</td>\n",
       "    </tr>\n",
       "    <tr>\n",
       "      <th>2025-08-31</th>\n",
       "      <td>13266</td>\n",
       "    </tr>\n",
       "    <tr>\n",
       "      <th>2025-09-01</th>\n",
       "      <td>12685</td>\n",
       "    </tr>\n",
       "    <tr>\n",
       "      <th>2025-09-02</th>\n",
       "      <td>12672</td>\n",
       "    </tr>\n",
       "    <tr>\n",
       "      <th>2025-09-03</th>\n",
       "      <td>12777</td>\n",
       "    </tr>\n",
       "    <tr>\n",
       "      <th>2025-09-04</th>\n",
       "      <td>13683</td>\n",
       "    </tr>\n",
       "    <tr>\n",
       "      <th>2025-09-05</th>\n",
       "      <td>15324</td>\n",
       "    </tr>\n",
       "    <tr>\n",
       "      <th>2025-09-06</th>\n",
       "      <td>13078</td>\n",
       "    </tr>\n",
       "    <tr>\n",
       "      <th>2025-09-07</th>\n",
       "      <td>12367</td>\n",
       "    </tr>\n",
       "    <tr>\n",
       "      <th>2025-09-08</th>\n",
       "      <td>11826</td>\n",
       "    </tr>\n",
       "    <tr>\n",
       "      <th>2025-09-09</th>\n",
       "      <td>11780</td>\n",
       "    </tr>\n",
       "    <tr>\n",
       "      <th>2025-09-10</th>\n",
       "      <td>12526</td>\n",
       "    </tr>\n",
       "    <tr>\n",
       "      <th>2025-09-11</th>\n",
       "      <td>8623</td>\n",
       "    </tr>\n",
       "    <tr>\n",
       "      <th>2025-09-12</th>\n",
       "      <td>6436</td>\n",
       "    </tr>\n",
       "    <tr>\n",
       "      <th>2025-09-13</th>\n",
       "      <td>5183</td>\n",
       "    </tr>\n",
       "    <tr>\n",
       "      <th>2025-09-14</th>\n",
       "      <td>4364</td>\n",
       "    </tr>\n",
       "    <tr>\n",
       "      <th>2025-09-15</th>\n",
       "      <td>3698</td>\n",
       "    </tr>\n",
       "    <tr>\n",
       "      <th>2025-09-16</th>\n",
       "      <td>3032</td>\n",
       "    </tr>\n",
       "    <tr>\n",
       "      <th>2025-09-17</th>\n",
       "      <td>2548</td>\n",
       "    </tr>\n",
       "    <tr>\n",
       "      <th>2025-09-18</th>\n",
       "      <td>1952</td>\n",
       "    </tr>\n",
       "    <tr>\n",
       "      <th>2025-09-19</th>\n",
       "      <td>1418</td>\n",
       "    </tr>\n",
       "    <tr>\n",
       "      <th>2025-09-20</th>\n",
       "      <td>1100</td>\n",
       "    </tr>\n",
       "    <tr>\n",
       "      <th>2025-09-21</th>\n",
       "      <td>776</td>\n",
       "    </tr>\n",
       "    <tr>\n",
       "      <th>2025-09-22</th>\n",
       "      <td>546</td>\n",
       "    </tr>\n",
       "    <tr>\n",
       "      <th>2025-09-23</th>\n",
       "      <td>317</td>\n",
       "    </tr>\n",
       "  </tbody>\n",
       "</table>\n",
       "</div>"
      ],
      "text/plain": [
       "              user_id\n",
       "session_date         \n",
       "2025-08-11       3919\n",
       "2025-08-12       6056\n",
       "2025-08-13       8489\n",
       "2025-08-14      10321\n",
       "2025-08-15      14065\n",
       "2025-08-16      12205\n",
       "2025-08-17      11200\n",
       "2025-08-18      10839\n",
       "2025-08-19      12118\n",
       "2025-08-20      13514\n",
       "2025-08-21      15051\n",
       "2025-08-22      17563\n",
       "2025-08-23      16082\n",
       "2025-08-24      13683\n",
       "2025-08-25      13635\n",
       "2025-08-26      13289\n",
       "2025-08-27      14766\n",
       "2025-08-28      15388\n",
       "2025-08-29      16873\n",
       "2025-08-30      14891\n",
       "2025-08-31      13266\n",
       "2025-09-01      12685\n",
       "2025-09-02      12672\n",
       "2025-09-03      12777\n",
       "2025-09-04      13683\n",
       "2025-09-05      15324\n",
       "2025-09-06      13078\n",
       "2025-09-07      12367\n",
       "2025-09-08      11826\n",
       "2025-09-09      11780\n",
       "2025-09-10      12526\n",
       "2025-09-11       8623\n",
       "2025-09-12       6436\n",
       "2025-09-13       5183\n",
       "2025-09-14       4364\n",
       "2025-09-15       3698\n",
       "2025-09-16       3032\n",
       "2025-09-17       2548\n",
       "2025-09-18       1952\n",
       "2025-09-19       1418\n",
       "2025-09-20       1100\n",
       "2025-09-21        776\n",
       "2025-09-22        546\n",
       "2025-09-23        317"
      ]
     },
     "metadata": {},
     "output_type": "display_data"
    },
    {
     "data": {
      "text/html": [
       "<div>\n",
       "<style scoped>\n",
       "    .dataframe tbody tr th:only-of-type {\n",
       "        vertical-align: middle;\n",
       "    }\n",
       "\n",
       "    .dataframe tbody tr th {\n",
       "        vertical-align: top;\n",
       "    }\n",
       "\n",
       "    .dataframe thead th {\n",
       "        text-align: right;\n",
       "    }\n",
       "</style>\n",
       "<table border=\"1\" class=\"dataframe\">\n",
       "  <thead>\n",
       "    <tr style=\"text-align: right;\">\n",
       "      <th></th>\n",
       "      <th>user_id</th>\n",
       "    </tr>\n",
       "    <tr>\n",
       "      <th>session_date</th>\n",
       "      <th></th>\n",
       "    </tr>\n",
       "  </thead>\n",
       "  <tbody>\n",
       "    <tr>\n",
       "      <th>2025-08-11</th>\n",
       "      <td>169</td>\n",
       "    </tr>\n",
       "    <tr>\n",
       "      <th>2025-08-12</th>\n",
       "      <td>336</td>\n",
       "    </tr>\n",
       "    <tr>\n",
       "      <th>2025-08-13</th>\n",
       "      <td>464</td>\n",
       "    </tr>\n",
       "    <tr>\n",
       "      <th>2025-08-14</th>\n",
       "      <td>625</td>\n",
       "    </tr>\n",
       "    <tr>\n",
       "      <th>2025-08-15</th>\n",
       "      <td>840</td>\n",
       "    </tr>\n",
       "    <tr>\n",
       "      <th>2025-08-16</th>\n",
       "      <td>916</td>\n",
       "    </tr>\n",
       "    <tr>\n",
       "      <th>2025-08-17</th>\n",
       "      <td>833</td>\n",
       "    </tr>\n",
       "    <tr>\n",
       "      <th>2025-08-18</th>\n",
       "      <td>860</td>\n",
       "    </tr>\n",
       "    <tr>\n",
       "      <th>2025-08-19</th>\n",
       "      <td>831</td>\n",
       "    </tr>\n",
       "    <tr>\n",
       "      <th>2025-08-20</th>\n",
       "      <td>1008</td>\n",
       "    </tr>\n",
       "    <tr>\n",
       "      <th>2025-08-21</th>\n",
       "      <td>1063</td>\n",
       "    </tr>\n",
       "    <tr>\n",
       "      <th>2025-08-22</th>\n",
       "      <td>1251</td>\n",
       "    </tr>\n",
       "    <tr>\n",
       "      <th>2025-08-23</th>\n",
       "      <td>1253</td>\n",
       "    </tr>\n",
       "    <tr>\n",
       "      <th>2025-08-24</th>\n",
       "      <td>1181</td>\n",
       "    </tr>\n",
       "    <tr>\n",
       "      <th>2025-08-25</th>\n",
       "      <td>1060</td>\n",
       "    </tr>\n",
       "    <tr>\n",
       "      <th>2025-08-26</th>\n",
       "      <td>1050</td>\n",
       "    </tr>\n",
       "    <tr>\n",
       "      <th>2025-08-27</th>\n",
       "      <td>1076</td>\n",
       "    </tr>\n",
       "    <tr>\n",
       "      <th>2025-08-28</th>\n",
       "      <td>1175</td>\n",
       "    </tr>\n",
       "    <tr>\n",
       "      <th>2025-08-29</th>\n",
       "      <td>1174</td>\n",
       "    </tr>\n",
       "    <tr>\n",
       "      <th>2025-08-30</th>\n",
       "      <td>1165</td>\n",
       "    </tr>\n",
       "    <tr>\n",
       "      <th>2025-08-31</th>\n",
       "      <td>1105</td>\n",
       "    </tr>\n",
       "    <tr>\n",
       "      <th>2025-09-01</th>\n",
       "      <td>1028</td>\n",
       "    </tr>\n",
       "    <tr>\n",
       "      <th>2025-09-02</th>\n",
       "      <td>1039</td>\n",
       "    </tr>\n",
       "    <tr>\n",
       "      <th>2025-09-03</th>\n",
       "      <td>1035</td>\n",
       "    </tr>\n",
       "    <tr>\n",
       "      <th>2025-09-04</th>\n",
       "      <td>1007</td>\n",
       "    </tr>\n",
       "    <tr>\n",
       "      <th>2025-09-05</th>\n",
       "      <td>1030</td>\n",
       "    </tr>\n",
       "    <tr>\n",
       "      <th>2025-09-06</th>\n",
       "      <td>1023</td>\n",
       "    </tr>\n",
       "    <tr>\n",
       "      <th>2025-09-07</th>\n",
       "      <td>1069</td>\n",
       "    </tr>\n",
       "    <tr>\n",
       "      <th>2025-09-08</th>\n",
       "      <td>1009</td>\n",
       "    </tr>\n",
       "    <tr>\n",
       "      <th>2025-09-09</th>\n",
       "      <td>980</td>\n",
       "    </tr>\n",
       "    <tr>\n",
       "      <th>2025-09-10</th>\n",
       "      <td>1015</td>\n",
       "    </tr>\n",
       "    <tr>\n",
       "      <th>2025-09-11</th>\n",
       "      <td>824</td>\n",
       "    </tr>\n",
       "    <tr>\n",
       "      <th>2025-09-12</th>\n",
       "      <td>669</td>\n",
       "    </tr>\n",
       "    <tr>\n",
       "      <th>2025-09-13</th>\n",
       "      <td>537</td>\n",
       "    </tr>\n",
       "    <tr>\n",
       "      <th>2025-09-14</th>\n",
       "      <td>440</td>\n",
       "    </tr>\n",
       "    <tr>\n",
       "      <th>2025-09-15</th>\n",
       "      <td>383</td>\n",
       "    </tr>\n",
       "    <tr>\n",
       "      <th>2025-09-16</th>\n",
       "      <td>286</td>\n",
       "    </tr>\n",
       "    <tr>\n",
       "      <th>2025-09-17</th>\n",
       "      <td>272</td>\n",
       "    </tr>\n",
       "    <tr>\n",
       "      <th>2025-09-18</th>\n",
       "      <td>201</td>\n",
       "    </tr>\n",
       "    <tr>\n",
       "      <th>2025-09-19</th>\n",
       "      <td>132</td>\n",
       "    </tr>\n",
       "    <tr>\n",
       "      <th>2025-09-20</th>\n",
       "      <td>107</td>\n",
       "    </tr>\n",
       "    <tr>\n",
       "      <th>2025-09-21</th>\n",
       "      <td>87</td>\n",
       "    </tr>\n",
       "    <tr>\n",
       "      <th>2025-09-22</th>\n",
       "      <td>68</td>\n",
       "    </tr>\n",
       "    <tr>\n",
       "      <th>2025-09-23</th>\n",
       "      <td>32</td>\n",
       "    </tr>\n",
       "  </tbody>\n",
       "</table>\n",
       "</div>"
      ],
      "text/plain": [
       "              user_id\n",
       "session_date         \n",
       "2025-08-11        169\n",
       "2025-08-12        336\n",
       "2025-08-13        464\n",
       "2025-08-14        625\n",
       "2025-08-15        840\n",
       "2025-08-16        916\n",
       "2025-08-17        833\n",
       "2025-08-18        860\n",
       "2025-08-19        831\n",
       "2025-08-20       1008\n",
       "2025-08-21       1063\n",
       "2025-08-22       1251\n",
       "2025-08-23       1253\n",
       "2025-08-24       1181\n",
       "2025-08-25       1060\n",
       "2025-08-26       1050\n",
       "2025-08-27       1076\n",
       "2025-08-28       1175\n",
       "2025-08-29       1174\n",
       "2025-08-30       1165\n",
       "2025-08-31       1105\n",
       "2025-09-01       1028\n",
       "2025-09-02       1039\n",
       "2025-09-03       1035\n",
       "2025-09-04       1007\n",
       "2025-09-05       1030\n",
       "2025-09-06       1023\n",
       "2025-09-07       1069\n",
       "2025-09-08       1009\n",
       "2025-09-09        980\n",
       "2025-09-10       1015\n",
       "2025-09-11        824\n",
       "2025-09-12        669\n",
       "2025-09-13        537\n",
       "2025-09-14        440\n",
       "2025-09-15        383\n",
       "2025-09-16        286\n",
       "2025-09-17        272\n",
       "2025-09-18        201\n",
       "2025-09-19        132\n",
       "2025-09-20        107\n",
       "2025-09-21         87\n",
       "2025-09-22         68\n",
       "2025-09-23         32"
      ]
     },
     "metadata": {},
     "output_type": "display_data"
    }
   ],
   "source": [
    "# Построим сводные таблицы, чтобы видеть более точные данные по датам\n",
    "piv1 = pd.pivot_table(sessions_history, values = 'user_id' , index='session_date', aggfunc='nunique')\n",
    "piv2 = pd.pivot_table(sessions_history_1321, values = 'user_id' , index='session_date', aggfunc='nunique')\n",
    "\n",
    "display(piv1, piv2)"
   ]
  },
  {
   "cell_type": "markdown",
   "metadata": {
    "id": "dFBQEEOZSAeF"
   },
   "source": [
    "Промежуточный вывод:\n",
    "\n",
    "- Можно заметить, что в датафрейме с историческими данными к концу периода общее число пользователей уменьшилось. На протяжении всего периода общее число пользователей не было стабильно, график имеет пять \"пиковых\" значений, можно наблюдать резкие скачки в количестве пользователей и спады.\n",
    "\n",
    "- Число зарегистрированных пользователей стабильно на протяжении всего периода, не имеет резких скачков и спадов значений. В конце периода наблюдается плавное уменьшение кол-ва зарегистрированных пользователей."
   ]
  },
  {
   "cell_type": "code",
   "execution_count": 9,
   "metadata": {
    "colab": {
     "base_uri": "https://localhost:8080/",
     "height": 1000
    },
    "executionInfo": {
     "elapsed": 609,
     "status": "ok",
     "timestamp": 1756311479128,
     "user": {
      "displayName": "Maria Averkina",
      "userId": "01722641797731955161"
     },
     "user_tz": 420
    },
    "id": "2dL_GwvTSAeF",
    "outputId": "0ba2dbd0-c32d-4884-d1b6-7c1114fc8dd9",
    "scrolled": false
   },
   "outputs": [
    {
     "data": {
      "image/png": "[encoded data removed]",
      "text/plain": [
       "<Figure size 1500x800 with 1 Axes>"
      ]
     },
     "metadata": {},
     "output_type": "display_data"
    },
    {
     "data": {
      "text/plain": [
       "session_date\n",
       "2025-08-11    0.04\n",
       "2025-08-12    0.06\n",
       "2025-08-13    0.05\n",
       "2025-08-14    0.06\n",
       "2025-08-15    0.06\n",
       "2025-08-16    0.08\n",
       "2025-08-17    0.07\n",
       "2025-08-18    0.08\n",
       "2025-08-19    0.07\n",
       "2025-08-20    0.07\n",
       "2025-08-21    0.07\n",
       "2025-08-22    0.07\n",
       "2025-08-23    0.08\n",
       "2025-08-24    0.09\n",
       "2025-08-25    0.08\n",
       "2025-08-26    0.08\n",
       "2025-08-27    0.07\n",
       "2025-08-28    0.08\n",
       "2025-08-29    0.07\n",
       "2025-08-30    0.08\n",
       "2025-08-31    0.08\n",
       "2025-09-01    0.08\n",
       "2025-09-02    0.08\n",
       "2025-09-03    0.08\n",
       "2025-09-04    0.07\n",
       "2025-09-05    0.07\n",
       "2025-09-06    0.08\n",
       "2025-09-07    0.09\n",
       "2025-09-08    0.09\n",
       "2025-09-09    0.08\n",
       "2025-09-10    0.08\n",
       "2025-09-11    0.10\n",
       "2025-09-12    0.10\n",
       "2025-09-13    0.10\n",
       "2025-09-14    0.10\n",
       "2025-09-15    0.10\n",
       "2025-09-16    0.09\n",
       "2025-09-17    0.11\n",
       "2025-09-18    0.10\n",
       "2025-09-19    0.09\n",
       "2025-09-20    0.10\n",
       "2025-09-21    0.11\n",
       "2025-09-22    0.12\n",
       "2025-09-23    0.10\n",
       "Name: user_id, dtype: float64"
      ]
     },
     "metadata": {},
     "output_type": "display_data"
    }
   ],
   "source": [
    "# Считаем долб зарегистрировнных пользователей\n",
    "sessions_history_13 = round(sessions_history_132 / sessions_history_131, 2)\n",
    "\n",
    "# Строим линейнфй график, отображающий долю зарегистрировнных пользователей от их общего кол-ва\n",
    "plt.figure(figsize=(15, 8))\n",
    "plt.plot(\n",
    "    sessions_history_13.index,\n",
    "    sessions_history_13.values,\n",
    "    label='Доля пользователей')\n",
    "plt.xlabel(\"День\")\n",
    "plt.xticks(rotation=90)\n",
    "plt.legend()\n",
    "plt.ylabel('Доля')\n",
    "plt.title('Доля зарегистрированных пользователей от общего числа')\n",
    "plt.grid(True)\n",
    "plt.show()\n",
    "\n",
    "display(sessions_history_13)"
   ]
  },
  {
   "cell_type": "markdown",
   "metadata": {
    "id": "9E1I6p-fSAeF"
   },
   "source": [
    "Промежуточный вывод:\n",
    " - Можно заметить, что относительные значения кол-ва зарегистрированных пользователей не стабильны, график имеет резкие скачки и спады. несмотря на это, доля пользователей растет и график по своей динамике восходящий."
   ]
  },
  {
   "cell_type": "markdown",
   "metadata": {
    "id": "UR7D7RhF0eMr"
   },
   "source": [
    "#### 1.4. Анализ числа просмотренных страниц\n",
    "Другая важная метрика продукта — число просмотренных страниц в приложении. Чем больше страниц просмотрено, тем сильнее пользователь увлечён контентом, а значит, выше шансы, что он зарегистрируется и оплатит подписку.\n",
    "\n",
    "- Найдите количество сессий для каждого значения количества просмотренных страниц. Например: одну страницу просмотрели в 29 160 сессиях, две страницы — в 105 536 сессиях и так далее.\n",
    "\n",
    "- Постройте столбчатую диаграмму, где по оси X будет число просмотренных страниц, по оси Y — количество сессий.\n",
    "\n",
    "- На диаграмме должны быть заголовок, подписанные оси X и Y."
   ]
  },
  {
   "cell_type": "code",
   "execution_count": 10,
   "metadata": {
    "colab": {
     "base_uri": "https://localhost:8080/",
     "height": 718
    },
    "executionInfo": {
     "elapsed": 246,
     "status": "ok",
     "timestamp": 1756311479375,
     "user": {
      "displayName": "Maria Averkina",
      "userId": "01722641797731955161"
     },
     "user_tz": 420
    },
    "id": "wOCjm0iWSAeF",
    "outputId": "c57a2010-2fe1-43fe-8b72-f2b289dce4bc"
   },
   "outputs": [
    {
     "data": {
      "image/png": "[encoded data removed]",
      "text/plain": [
       "<Figure size 1500x800 with 1 Axes>"
      ]
     },
     "metadata": {},
     "output_type": "display_data"
    }
   ],
   "source": [
    "# Сохраняем в переменнуб количество сесси для каждого значения количесвта просмотренных страниц\n",
    "pages_count = sessions_history.groupby('page_counter')['session_id'].count().reset_index()\n",
    "\n",
    "# Строим на основании выше сохраненной переменной столбчатую диаграмму\n",
    "pages_count.plot(kind='bar', x='page_counter', y='session_id', figsize=(15, 8))\n",
    "plt.xlabel('Число просмотренных страниц')\n",
    "plt.xticks(rotation=0)\n",
    "plt.legend()\n",
    "plt.ylabel('Количество сессий')\n",
    "plt.title('Число просомотренных страниц в приложении')\n",
    "plt.grid(True)\n",
    "plt.show()"
   ]
  },
  {
   "cell_type": "code",
   "execution_count": 11,
   "metadata": {
    "colab": {
     "base_uri": "https://localhost:8080/",
     "height": 300
    },
    "executionInfo": {
     "elapsed": 96,
     "status": "ok",
     "timestamp": 1756311479472,
     "user": {
      "displayName": "Maria Averkina",
      "userId": "01722641797731955161"
     },
     "user_tz": 420
    },
    "id": "cuVwxj7KSAeG",
    "outputId": "27431ca4-58eb-4a1a-cca2-d60755ff06a4",
    "scrolled": false
   },
   "outputs": [
    {
     "data": {
      "text/html": [
       "<div>\n",
       "<style scoped>\n",
       "    .dataframe tbody tr th:only-of-type {\n",
       "        vertical-align: middle;\n",
       "    }\n",
       "\n",
       "    .dataframe tbody tr th {\n",
       "        vertical-align: top;\n",
       "    }\n",
       "\n",
       "    .dataframe thead th {\n",
       "        text-align: right;\n",
       "    }\n",
       "</style>\n",
       "<table border=\"1\" class=\"dataframe\">\n",
       "  <thead>\n",
       "    <tr style=\"text-align: right;\">\n",
       "      <th></th>\n",
       "      <th>session_id</th>\n",
       "    </tr>\n",
       "    <tr>\n",
       "      <th>page_counter</th>\n",
       "      <th></th>\n",
       "    </tr>\n",
       "  </thead>\n",
       "  <tbody>\n",
       "    <tr>\n",
       "      <th>1</th>\n",
       "      <td>29160</td>\n",
       "    </tr>\n",
       "    <tr>\n",
       "      <th>2</th>\n",
       "      <td>105536</td>\n",
       "    </tr>\n",
       "    <tr>\n",
       "      <th>3</th>\n",
       "      <td>166690</td>\n",
       "    </tr>\n",
       "    <tr>\n",
       "      <th>4</th>\n",
       "      <td>105569</td>\n",
       "    </tr>\n",
       "    <tr>\n",
       "      <th>5</th>\n",
       "      <td>26288</td>\n",
       "    </tr>\n",
       "    <tr>\n",
       "      <th>6</th>\n",
       "      <td>2589</td>\n",
       "    </tr>\n",
       "    <tr>\n",
       "      <th>7</th>\n",
       "      <td>92</td>\n",
       "    </tr>\n",
       "  </tbody>\n",
       "</table>\n",
       "</div>"
      ],
      "text/plain": [
       "              session_id\n",
       "page_counter            \n",
       "1                  29160\n",
       "2                 105536\n",
       "3                 166690\n",
       "4                 105569\n",
       "5                  26288\n",
       "6                   2589\n",
       "7                     92"
      ]
     },
     "metadata": {},
     "output_type": "display_data"
    }
   ],
   "source": [
    "# Построим сводные таблицы, чтобы видеть более точные данные\n",
    "piv3 = pd.pivot_table(sessions_history, values = 'session_id' , index='page_counter', aggfunc='count')\n",
    "\n",
    "display(piv3)"
   ]
  },
  {
   "cell_type": "markdown",
   "metadata": {
    "id": "GN76rtJ9SAeG"
   },
   "source": [
    "Промежуточный вывод:\n",
    "- Наибольшее число сессий - 166 690 (значение числа просмотренных страниц 3)\n",
    "- Наименьшее число сессий - 92 (знаечние числа просмотренных страниц 7).\n"
   ]
  },
  {
   "cell_type": "markdown",
   "metadata": {
    "id": "xDltSpVP0eMr"
   },
   "source": [
    "#### 1.5. Доля пользователей, просмотревших более четырёх страниц\n",
    "Продуктовая команда продукта считает, что сессии, в рамках которых пользователь просмотрел 4 и более страниц, говорят об удовлетворённости контентом и алгоритмами рекомендаций. Этот показатель является важной прокси-метрикой для продукта.\n",
    "\n",
    "- В датафрейме `sessions_history` создайте дополнительный столбец `good_session`. В него войдёт значение `1`, если за одну сессию было просмотрено 4 и более страниц, и значение `0`, если было просмотрено меньше.\n",
    "\n",
    "- Постройте график со средним значением доли успешных сессий от всех сессий по дням за весь период наблюдения."
   ]
  },
  {
   "cell_type": "code",
   "execution_count": 12,
   "metadata": {
    "colab": {
     "base_uri": "https://localhost:8080/",
     "height": 226
    },
    "executionInfo": {
     "elapsed": 164,
     "status": "ok",
     "timestamp": 1756311479635,
     "user": {
      "displayName": "Maria Averkina",
      "userId": "01722641797731955161"
     },
     "user_tz": 420
    },
    "id": "cb6hPlVzPaSf",
    "outputId": "cbc6439a-ff66-4851-ff84-cf943ed8d6c9"
   },
   "outputs": [
    {
     "data": {
      "text/html": [
       "<div>\n",
       "<style scoped>\n",
       "    .dataframe tbody tr th:only-of-type {\n",
       "        vertical-align: middle;\n",
       "    }\n",
       "\n",
       "    .dataframe tbody tr th {\n",
       "        vertical-align: top;\n",
       "    }\n",
       "\n",
       "    .dataframe thead th {\n",
       "        text-align: right;\n",
       "    }\n",
       "</style>\n",
       "<table border=\"1\" class=\"dataframe\">\n",
       "  <thead>\n",
       "    <tr style=\"text-align: right;\">\n",
       "      <th></th>\n",
       "      <th>user_id</th>\n",
       "      <th>session_id</th>\n",
       "      <th>session_date</th>\n",
       "      <th>session_start_ts</th>\n",
       "      <th>install_date</th>\n",
       "      <th>session_number</th>\n",
       "      <th>registration_flag</th>\n",
       "      <th>page_counter</th>\n",
       "      <th>region</th>\n",
       "      <th>device</th>\n",
       "      <th>good_session</th>\n",
       "    </tr>\n",
       "  </thead>\n",
       "  <tbody>\n",
       "    <tr>\n",
       "      <th>0</th>\n",
       "      <td>E302123B7000BFE4</td>\n",
       "      <td>F9AF61A0C2023832</td>\n",
       "      <td>2025-08-15</td>\n",
       "      <td>2025-08-15 17:47:35</td>\n",
       "      <td>2025-08-15</td>\n",
       "      <td>1</td>\n",
       "      <td>0</td>\n",
       "      <td>3</td>\n",
       "      <td>CIS</td>\n",
       "      <td>iPhone</td>\n",
       "      <td>0</td>\n",
       "    </tr>\n",
       "    <tr>\n",
       "      <th>1</th>\n",
       "      <td>2530F72E221829FB</td>\n",
       "      <td>85003A206CBDAC6F</td>\n",
       "      <td>2025-08-15</td>\n",
       "      <td>2025-08-15 16:42:14</td>\n",
       "      <td>2025-08-15</td>\n",
       "      <td>1</td>\n",
       "      <td>0</td>\n",
       "      <td>4</td>\n",
       "      <td>MENA</td>\n",
       "      <td>Android</td>\n",
       "      <td>1</td>\n",
       "    </tr>\n",
       "    <tr>\n",
       "      <th>2</th>\n",
       "      <td>876E020A4FC512F5</td>\n",
       "      <td>3677423E49D72DEE</td>\n",
       "      <td>2025-08-15</td>\n",
       "      <td>2025-08-15 12:30:00</td>\n",
       "      <td>2025-08-15</td>\n",
       "      <td>1</td>\n",
       "      <td>0</td>\n",
       "      <td>4</td>\n",
       "      <td>EU</td>\n",
       "      <td>PC</td>\n",
       "      <td>1</td>\n",
       "    </tr>\n",
       "    <tr>\n",
       "      <th>3</th>\n",
       "      <td>2640B349E1D81584</td>\n",
       "      <td>956B45F5915CA225</td>\n",
       "      <td>2025-08-15</td>\n",
       "      <td>2025-08-15 15:31:31</td>\n",
       "      <td>2025-08-15</td>\n",
       "      <td>1</td>\n",
       "      <td>0</td>\n",
       "      <td>4</td>\n",
       "      <td>CIS</td>\n",
       "      <td>Android</td>\n",
       "      <td>1</td>\n",
       "    </tr>\n",
       "    <tr>\n",
       "      <th>4</th>\n",
       "      <td>94E1CBFAEF1F5EE9</td>\n",
       "      <td>83BF0DA35F9F1F40</td>\n",
       "      <td>2025-08-15</td>\n",
       "      <td>2025-08-15 21:33:53</td>\n",
       "      <td>2025-08-15</td>\n",
       "      <td>1</td>\n",
       "      <td>0</td>\n",
       "      <td>3</td>\n",
       "      <td>CIS</td>\n",
       "      <td>Android</td>\n",
       "      <td>0</td>\n",
       "    </tr>\n",
       "  </tbody>\n",
       "</table>\n",
       "</div>"
      ],
      "text/plain": [
       "            user_id        session_id session_date     session_start_ts  \\\n",
       "0  E302123B7000BFE4  F9AF61A0C2023832   2025-08-15  2025-08-15 17:47:35   \n",
       "1  2530F72E221829FB  85003A206CBDAC6F   2025-08-15  2025-08-15 16:42:14   \n",
       "2  876E020A4FC512F5  3677423E49D72DEE   2025-08-15  2025-08-15 12:30:00   \n",
       "3  2640B349E1D81584  956B45F5915CA225   2025-08-15  2025-08-15 15:31:31   \n",
       "4  94E1CBFAEF1F5EE9  83BF0DA35F9F1F40   2025-08-15  2025-08-15 21:33:53   \n",
       "\n",
       "  install_date  session_number  registration_flag  page_counter region  \\\n",
       "0   2025-08-15               1                  0             3    CIS   \n",
       "1   2025-08-15               1                  0             4   MENA   \n",
       "2   2025-08-15               1                  0             4     EU   \n",
       "3   2025-08-15               1                  0             4    CIS   \n",
       "4   2025-08-15               1                  0             3    CIS   \n",
       "\n",
       "    device  good_session  \n",
       "0   iPhone             0  \n",
       "1  Android             1  \n",
       "2       PC             1  \n",
       "3  Android             1  \n",
       "4  Android             0  "
      ]
     },
     "metadata": {},
     "output_type": "display_data"
    }
   ],
   "source": [
    "# Создаем столбец good_session, который определяет успешность сессии\n",
    "good_session = []\n",
    "\n",
    "for i in sessions_history['page_counter']:\n",
    "    if i >=4:\n",
    "        good_session.append(1)\n",
    "    else:\n",
    "        good_session.append(0)\n",
    "\n",
    "sessions_history['good_session'] = good_session\n",
    "\n",
    "display(sessions_history.head(5))"
   ]
  },
  {
   "cell_type": "code",
   "execution_count": 13,
   "metadata": {
    "colab": {
     "base_uri": "https://localhost:8080/",
     "height": 1000
    },
    "executionInfo": {
     "elapsed": 517,
     "status": "ok",
     "timestamp": 1756311480154,
     "user": {
      "displayName": "Maria Averkina",
      "userId": "01722641797731955161"
     },
     "user_tz": 420
    },
    "id": "iygaPfixPYMW",
    "outputId": "a879bba3-0372-4749-8803-e1f3c00c6f80"
   },
   "outputs": [
    {
     "data": {
      "image/png": "[encoded data removed]",
      "text/plain": [
       "<Figure size 1500x800 with 1 Axes>"
      ]
     },
     "metadata": {},
     "output_type": "display_data"
    },
    {
     "data": {
      "text/plain": [
       "session_date\n",
       "2025-08-11    0.31\n",
       "2025-08-12    0.30\n",
       "2025-08-13    0.31\n",
       "2025-08-14    0.32\n",
       "2025-08-15    0.30\n",
       "2025-08-16    0.31\n",
       "2025-08-17    0.32\n",
       "2025-08-18    0.31\n",
       "2025-08-19    0.31\n",
       "2025-08-20    0.31\n",
       "2025-08-21    0.30\n",
       "2025-08-22    0.31\n",
       "2025-08-23    0.30\n",
       "2025-08-24    0.31\n",
       "2025-08-25    0.31\n",
       "2025-08-26    0.31\n",
       "2025-08-27    0.31\n",
       "2025-08-28    0.31\n",
       "2025-08-29    0.31\n",
       "2025-08-30    0.31\n",
       "2025-08-31    0.30\n",
       "2025-09-01    0.31\n",
       "2025-09-02    0.32\n",
       "2025-09-03    0.30\n",
       "2025-09-04    0.32\n",
       "2025-09-05    0.30\n",
       "2025-09-06    0.30\n",
       "2025-09-07    0.31\n",
       "2025-09-08    0.31\n",
       "2025-09-09    0.31\n",
       "2025-09-10    0.31\n",
       "2025-09-11    0.30\n",
       "2025-09-12    0.30\n",
       "2025-09-13    0.30\n",
       "2025-09-14    0.31\n",
       "2025-09-15    0.31\n",
       "2025-09-16    0.31\n",
       "2025-09-17    0.32\n",
       "2025-09-18    0.29\n",
       "2025-09-19    0.32\n",
       "2025-09-20    0.30\n",
       "2025-09-21    0.29\n",
       "2025-09-22    0.31\n",
       "2025-09-23    0.29\n",
       "Name: session_id, dtype: float64"
      ]
     },
     "metadata": {},
     "output_type": "display_data"
    }
   ],
   "source": [
    "# Сохраняем переменную с общим количеством сессий по датам\n",
    "all_sessions = sessions_history.groupby('session_date')['session_id'].count()\n",
    "\n",
    "# Фильтруем данные и сохранеям в переменную только успешные сессии\n",
    "lucky_sessions = sessions_history[sessions_history['good_session']==1]\n",
    "\n",
    "# Сохраняем в переменную количество успешных сессий по датам\n",
    "lucky_sessions = lucky_sessions.groupby('session_date')['session_id'].count()\n",
    "\n",
    "# Считаем долю успешных сессий от их общего числа по датам\n",
    "part_sessions = round(lucky_sessions/all_sessions, 2)\n",
    "\n",
    "# Строим линейнфй график, отображающий долю успешных сесиий от их общего числа по датам\n",
    "plt.figure(figsize=(15, 8))\n",
    "plt.plot(\n",
    "    part_sessions.index,\n",
    "    part_sessions.values,\n",
    "    label='Доля сессий')\n",
    "plt.xlabel(\"День\")\n",
    "plt.xticks(rotation=90)\n",
    "plt.legend()\n",
    "plt.ylabel('Доля')\n",
    "plt.title('Доля успешных сессий от всех сессий по дням')\n",
    "plt.grid(True)\n",
    "plt.show()\n",
    "\n",
    "display(part_sessions)"
   ]
  },
  {
   "cell_type": "markdown",
   "metadata": {
    "id": "54MCWgE_SAeG"
   },
   "source": [
    "Промежуточный вывод:\n",
    "- График доли успешных сессий имеет резкие скачки и спады, к концу периода спады становятся более резкими."
   ]
  },
  {
   "cell_type": "markdown",
   "metadata": {
    "id": "21JcG77Y0eMt"
   },
   "source": [
    "### 2. Подготовка к тесту\n",
    "При планировании теста необходимо проделать несколько важных шагов:\n",
    "\n",
    "- Сформулировать нулевую и альтернативную гипотезы\n",
    "\n",
    "- Определиться с целевой метрикой.\n",
    "\n",
    "- Рассчитать необходимый размер выборки.\n",
    "\n",
    "- Исходя из текущих значений трафика рассчитать необходимую длительность проведения теста."
   ]
  },
  {
   "cell_type": "markdown",
   "metadata": {
    "id": "kXdcwkjf859k"
   },
   "source": [
    "#### 2.1 Формулировка нулевой и альтернативной гипотез\n",
    "\n",
    "Перед тем как проводить А/B-тест, необходимо сформулировать нулевую и альтернативную гипотезы. Напомним изначальное условие: команда разработчиков рекомендательных систем создала новый алгоритм, который, по их мнению, будет показывать более интересный контент для каждого пользователя.\n",
    "\n",
    "О какой метрике идёт речь? Как она будет учтена в формулировке гипотез?"
   ]
  },
  {
   "cell_type": "markdown",
   "metadata": {
    "id": "RiKI8eT49h3F"
   },
   "source": [
    "- Целевая метрика: Доля успешнх сессий. Успешная сессия - сессия, в рамках которой пользователь просмотрел 4 и более страниц, так как это свидетельствует об удовлетворённости контентом и алгоритмами рекомендаций.\n",
    "\n",
    "- Нулевая гипотеза (Н0): Целевая метрика (доля успешных сессий) в контрольной группе (группа А) и тестовой группе(группа В) равны, то есть новый алгоритм не сработал и вовлеченность пользовтелей не увеличилась в тестовой группе.\n",
    "\n",
    "- Альтернативная гипотеза (Н1): Целевая метрика (доля успешынх сессий) в тествой группе имеет большее значение, чем в контрольной, то есть новый алгоритм сработал и вовлеченность пользователей увеличилась."
   ]
  },
  {
   "cell_type": "markdown",
   "metadata": {
    "id": "uzaeln270eMt"
   },
   "source": [
    "#### 2.2. Расчёт размера выборки\n",
    "В рамках курса вы уже рассчитывали размеры выборки и  использовали для этого онлайн-калькулятор. В этом задании предлагаем воспользоваться готовым кодом и рассчитать необходимое для вашего эксперимента количество пользователей.\n",
    "\n",
    "Для этого установите в коде ниже следующие параметры:\n",
    "\n",
    "- Уровень значимости — 0.05.\n",
    "\n",
    "- Вероятность ошибки второго рода — 0.2.\n",
    "\n",
    "- Мощность теста.\n",
    "\n",
    "- Минимальный детектируемый эффект, или MDE, — 3%. Обратите внимание, что здесь нужно указать десятичную дробь, а не процент.\n",
    "\n",
    "При расчёте размера выборки используйте метод `solve_power()` из класса `power.NormalIndPower` модуля `statsmodels.stats`.\n",
    "\n",
    "Запустите ячейку и изучите полученное значение."
   ]
  },
  {
   "cell_type": "code",
   "execution_count": 14,
   "metadata": {
    "colab": {
     "base_uri": "https://localhost:8080/"
    },
    "executionInfo": {
     "elapsed": 5,
     "status": "ok",
     "timestamp": 1756311480161,
     "user": {
      "displayName": "Maria Averkina",
      "userId": "01722641797731955161"
     },
     "user_tz": 420
    },
    "id": "zSxJyPGPNdaI",
    "outputId": "14a20d37-4890-42eb-98cb-340b687ff093"
   },
   "outputs": [
    {
     "name": "stdout",
     "output_type": "stream",
     "text": [
      "Необходимый размер выборки для каждой группы: 41040\n"
     ]
    }
   ],
   "source": [
    "\n",
    "# Задаём параметры\n",
    "alpha = 0.05  # Уровень значимости\n",
    "beta = 0.2 # Ошибка второго рода, часто 1 - мощность\n",
    "power = 0.8  # Мощность теста\n",
    "p = 0.3 # Базовый уровень доли\n",
    "mde = 0.03* p  # Минимальный детектируемый эффект\n",
    "effect_size = proportion_effectsize(p, p + mde)\n",
    "\n",
    "# Инициализируем класс NormalIndPower\n",
    "power_analysis = NormalIndPower()\n",
    "\n",
    "# Рассчитываем размер выборки\n",
    "sample_size = power_analysis.solve_power(\n",
    "    effect_size = effect_size,\n",
    "    power = power,\n",
    "    alpha = alpha,\n",
    "    ratio = 1 # Равномерное распределение выборок\n",
    ")\n",
    "\n",
    "print(f\"Необходимый размер выборки для каждой группы: {int(sample_size)}\")"
   ]
  },
  {
   "cell_type": "markdown",
   "metadata": {
    "id": "qLEv4RoV0eMu"
   },
   "source": [
    "#### 2.3. Расчёт длительности A/B-теста\n",
    "\n",
    "Используйте данные о количестве пользователей в каждой выборке и среднем количестве пользователей приложения. Рассчитайте длительность теста, разделив одно на другое.\n",
    "\n",
    "- Рассчитайте среднее количество уникальных пользователей приложения в день.\n",
    "\n",
    "- Определите длительность теста исходя из рассчитанного значения размера выборок и среднего дневного трафика приложения. Количество дней округлите в большую сторону."
   ]
  },
  {
   "cell_type": "code",
   "execution_count": 15,
   "metadata": {
    "colab": {
     "base_uri": "https://localhost:8080/"
    },
    "executionInfo": {
     "elapsed": 168,
     "status": "ok",
     "timestamp": 1756311480331,
     "user": {
      "displayName": "Maria Averkina",
      "userId": "01722641797731955161"
     },
     "user_tz": 420
    },
    "id": "KZDRbryDOGHa",
    "outputId": "07f5ea1c-5969-4559-ceea-fb7ed1a70715"
   },
   "outputs": [
    {
     "name": "stdout",
     "output_type": "stream",
     "text": [
      "Рассчитанная длительность A/B-теста при текущем уровене трафика в 9907.36 пользователей в день составит 9 дней\n"
     ]
    }
   ],
   "source": [
    "\n",
    "# Среднее количество пользователей приложения в день по историческим данным\n",
    "avg_daily_users = round(sessions_history.groupby('session_date')['user_id'].nunique().mean(), 2)\n",
    "\n",
    "# Рассчитываем длительность теста в днях как отношение размера выборки к среднему числу пользователей\n",
    "test_duration = ceil(sample_size*2/avg_daily_users)\n",
    "\n",
    "print(f\"Рассчитанная длительность A/B-теста при текущем уровене трафика в {avg_daily_users} пользователей в день составит {test_duration} дней\")"
   ]
  },
  {
   "cell_type": "markdown",
   "metadata": {
    "id": "ZuvtAdha0eMv"
   },
   "source": [
    "### 3. Мониторинг А/В-теста"
   ]
  },
  {
   "cell_type": "markdown",
   "metadata": {
    "id": "jq5sE3Ya0eMv"
   },
   "source": [
    "#### 3.1. Проверка распределения пользователей  \n",
    "\n",
    "A/B-тест успешно запущен, и уже доступны данные за первые три дня. На этом этапе нужно убедиться, что всё идёт хорошо: пользователи разделены правильным образом, а интересующие вас метрики корректно считаются.\n",
    "\n",
    "- Считайте и сохраните в датафрейм `sessions_test_part` CSV-файл с историческими данными о сессиях пользователей `sessions_project_test_part.csv`.\n",
    "\n",
    "- Рассчитайте количество уникальных пользователей в каждой из экспериментальных групп для одного дня наблюдения.\n",
    "\n",
    "- Рассчитайте и выведите на экран процентную разницу в количестве пользователей в группах A и B. Постройте любую удобную визуализацию, на которой будет видно возможное различие двух групп.\n",
    "\n",
    "Для расчёта процентной разницы воспользуйтесь формулой:\n",
    "$$P = 100 \\cdot  \\frac{|A − B|}{A}$$\n",
    "\n",
    "<a id='1'></a>"
   ]
  },
  {
   "cell_type": "code",
   "execution_count": 16,
   "metadata": {
    "colab": {
     "base_uri": "https://localhost:8080/"
    },
    "executionInfo": {
     "elapsed": 353,
     "status": "ok",
     "timestamp": 1756311480687,
     "user": {
      "displayName": "Maria Averkina",
      "userId": "01722641797731955161"
     },
     "user_tz": 420
    },
    "id": "G1bqIzDJOUiz",
    "outputId": "dd28857c-9343-4d1a-afb8-25cf1b8463ca"
   },
   "outputs": [
    {
     "name": "stdout",
     "output_type": "stream",
     "text": [
      "Количество уникальных пользователей в группе А составило: 1477, в группе В: 1466. Процентная разница между двумя группами = 0.74%\n"
     ]
    }
   ],
   "source": [
    "# Сохраним датафрейм с данными о сессиях пользователей за первый день проведения теста\n",
    "sessions_test_part = pd.read_csv('https://code.s3.yandex.net/datasets/sessions_project_test_part.csv')\n",
    "\n",
    "# Рассчитаем кол-во уникальных пользователей для групп А и В\n",
    "a = sessions_test_part[sessions_test_part['test_group']=='A']['user_id'].nunique()\n",
    "b = sessions_test_part[sessions_test_part['test_group']=='B']['user_id'].nunique()\n",
    "\n",
    "# Рассчитаем процентную разницу между группами\n",
    "perc = round(100*((abs(a-b))/a), 2)\n",
    "\n",
    "\n",
    "print(f\"Количество уникальных пользователей в группе А составило: {a}, в группе В: {b}. Процентная разница между двумя группами = {perc}%\")"
   ]
  },
  {
   "cell_type": "markdown",
   "metadata": {
    "id": "uwiRB46hSAeH"
   },
   "source": [
    "Промежуточный вывод:\n",
    "- Можно заметить, что процентная разница составила менее 1%. Можно сделать вывод, что такая разница не окажет существенного влияния на проведение теста.\n",
    "- В таком случае сложно выбрать какую-либо визуализацию, так точно отражающую маленькую разницу между группами. поэтому сделаем сводную таблицу с относительными значениями кол-ва уникальных пользователей по группам."
   ]
  },
  {
   "cell_type": "code",
   "execution_count": 17,
   "metadata": {
    "colab": {
     "base_uri": "https://localhost:8080/",
     "height": 143
    },
    "executionInfo": {
     "elapsed": 15,
     "status": "ok",
     "timestamp": 1756311480700,
     "user": {
      "displayName": "Maria Averkina",
      "userId": "01722641797731955161"
     },
     "user_tz": 420
    },
    "id": "YBQ6Fy8lSAeH",
    "outputId": "711556ce-f2b1-442a-845e-7f0d0af815e8"
   },
   "outputs": [
    {
     "data": {
      "text/html": [
       "<div>\n",
       "<style scoped>\n",
       "    .dataframe tbody tr th:only-of-type {\n",
       "        vertical-align: middle;\n",
       "    }\n",
       "\n",
       "    .dataframe tbody tr th {\n",
       "        vertical-align: top;\n",
       "    }\n",
       "\n",
       "    .dataframe thead th {\n",
       "        text-align: right;\n",
       "    }\n",
       "</style>\n",
       "<table border=\"1\" class=\"dataframe\">\n",
       "  <thead>\n",
       "    <tr style=\"text-align: right;\">\n",
       "      <th></th>\n",
       "      <th>user_id</th>\n",
       "    </tr>\n",
       "    <tr>\n",
       "      <th>test_group</th>\n",
       "      <th></th>\n",
       "    </tr>\n",
       "  </thead>\n",
       "  <tbody>\n",
       "    <tr>\n",
       "      <th>A</th>\n",
       "      <td>0.501869</td>\n",
       "    </tr>\n",
       "    <tr>\n",
       "      <th>B</th>\n",
       "      <td>0.498131</td>\n",
       "    </tr>\n",
       "  </tbody>\n",
       "</table>\n",
       "</div>"
      ],
      "text/plain": [
       "             user_id\n",
       "test_group          \n",
       "A           0.501869\n",
       "B           0.498131"
      ]
     },
     "metadata": {},
     "output_type": "display_data"
    }
   ],
   "source": [
    "# Считаем кол-во уникальных пользователей по группам и сохранем эти значения в одну переменную\n",
    "ab = sessions_test_part.groupby('test_group')['user_id'].nunique()\n",
    "\n",
    "# Считаем общее кол-во уникальных пользователей\n",
    "all_ab = sessions_test_part['user_id'].nunique()\n",
    "\n",
    "# Считаем относительные значения кол-во уникальных пользователей по группам и сохранем эти значения в одну переменную\n",
    "ab_perc = (ab/all_ab).reset_index()\n",
    "\n",
    "# На основании ab_perc состалвяем сводную таблицу\n",
    "piv5 = pd.pivot_table(ab_perc, values = 'user_id' , index='test_group')\n",
    "\n",
    "display(piv5)"
   ]
  },
  {
   "cell_type": "markdown",
   "metadata": {
    "id": "sgpNY5bv0eM0"
   },
   "source": [
    "#### 3.2. Проверка пересечений пользователей\n",
    "Помимо проверки равенства количества пользователей в группах, полезно убедиться в том, что группы независимы. Для этого нужно убедиться, что никто из пользователей случайно не попал в обе группы одновременно.\n",
    "\n",
    "- Рассчитайте количество пользователей, которые встречаются одновременно в группах A и B, или убедитесь, что таких нет.\n",
    "\n",
    "<a id='2'></a>"
   ]
  },
  {
   "cell_type": "code",
   "execution_count": 18,
   "metadata": {
    "colab": {
     "base_uri": "https://localhost:8080/"
    },
    "executionInfo": {
     "elapsed": 12,
     "status": "ok",
     "timestamp": 1756311480719,
     "user": {
      "displayName": "Maria Averkina",
      "userId": "01722641797731955161"
     },
     "user_tz": 420
    },
    "id": "E72ozN9FOX1u",
    "outputId": "e6b7f3ad-5e8d-4cdb-c7fb-d762a18a9f8f"
   },
   "outputs": [
    {
     "name": "stdout",
     "output_type": "stream",
     "text": [
      "Количество пользователей, попавших одновременно в группы A и B: 0\n"
     ]
    }
   ],
   "source": [
    "# Посчитаем, в скольких уникальных тестовых группах участвовал каждый пользователь\n",
    "user_group_counts = sessions_test_part.groupby('user_id')['test_group'].nunique().reset_index()\n",
    "\n",
    "# Оставляем только пользователей, которые были более чем в одной группе\n",
    "users_in_both = user_group_counts[user_group_counts['test_group'] > 1]\n",
    "\n",
    "print(f'Количество пользователей, попавших одновременно в группы A и B: {len(users_in_both)}')"
   ]
  },
  {
   "cell_type": "markdown",
   "metadata": {
    "id": "6RvkNLrg0eM1"
   },
   "source": [
    "#### 3.3. Равномерность разделения пользователей по устройствам\n",
    "Полезно также убедиться в том, что пользователи равномерно распределены по всем доступным категориальным переменным — типам устройств и регионам.\n",
    "\n",
    "Постройте две диаграммы:\n",
    "\n",
    "- доля каждого типа устройства для пользователей из группы A,\n",
    "\n",
    "- доля каждого типа устройства для пользователей из группы B.\n",
    "\n",
    "Постарайтесь добавить на диаграммы все необходимые подписи, пояснения и заголовки, которые позволят сделать вывод о том, совпадает ли распределение устройств в группах A и B.\n",
    "\n",
    "<a id='3'></a>"
   ]
  },
  {
   "cell_type": "code",
   "execution_count": 19,
   "metadata": {
    "colab": {
     "base_uri": "https://localhost:8080/",
     "height": 1000
    },
    "executionInfo": {
     "elapsed": 502,
     "status": "ok",
     "timestamp": 1756311481227,
     "user": {
      "displayName": "Maria Averkina",
      "userId": "01722641797731955161"
     },
     "user_tz": 420
    },
    "id": "x_IP6PUNPWHC",
    "outputId": "b8dcad6c-f49d-4dc4-b501-959d7cce2348",
    "scrolled": false
   },
   "outputs": [
    {
     "data": {
      "image/png": "[encoded data removed]",
      "text/plain": [
       "<Figure size 1200x600 with 1 Axes>"
      ]
     },
     "metadata": {},
     "output_type": "display_data"
    },
    {
     "data": {
      "image/png": "[encoded data removed]",
      "text/plain": [
       "<Figure size 1200x600 with 1 Axes>"
      ]
     },
     "metadata": {},
     "output_type": "display_data"
    },
    {
     "data": {
      "text/plain": [
       "device\n",
       "Android    0.50\n",
       "Mac        0.51\n",
       "PC         0.49\n",
       "iPhone     0.52\n",
       "Name: user_id, dtype: float64"
      ]
     },
     "metadata": {},
     "output_type": "display_data"
    },
    {
     "data": {
      "text/plain": [
       "device\n",
       "Android    0.50\n",
       "Mac        0.49\n",
       "PC         0.51\n",
       "iPhone     0.48\n",
       "Name: user_id, dtype: float64"
      ]
     },
     "metadata": {},
     "output_type": "display_data"
    }
   ],
   "source": [
    "# Считаем кол-во пользователей по устройствам для двух групп\n",
    "dev_a = sessions_test_part[sessions_test_part['test_group']== 'A'].groupby('device')['user_id'].nunique()\n",
    "dev_b = sessions_test_part[sessions_test_part['test_group']== 'B'].groupby('device')['user_id'].nunique()\n",
    "\n",
    "# Считаем общее кол-во пользователей по устройствам\n",
    "dev_all = sessions_test_part.groupby('device')['user_id'].nunique()\n",
    "\n",
    "# Считаем доли каждого типа устройства для пользователей каждой группы\n",
    "dev_part_a = round(dev_a/dev_all, 2)\n",
    "dev_part_b = round(dev_b/dev_all, 2)\n",
    "\n",
    "# Строим столбчатую диаграмму для группы А\n",
    "dev_part_a.plot(kind='bar', x='device', y='user_id', figsize=(12, 6), label = 'Устройство')\n",
    "plt.xlabel('Устройство')\n",
    "plt.xticks(rotation=0)\n",
    "plt.legend()\n",
    "plt.ylabel('Доля')\n",
    "plt.title('Доля каждого типа устройств для пользователей из группы А')\n",
    "plt.grid(True)\n",
    "plt.show()\n",
    "\n",
    "# Строим столбчатую диаграмму для группы В\n",
    "dev_part_b.plot(kind='bar', x='device', y='user_id', figsize=(12, 6), label = 'Устройство')\n",
    "plt.xlabel('Устройство')\n",
    "plt.xticks(rotation=0)\n",
    "plt.legend()\n",
    "plt.ylabel('Доля')\n",
    "plt.title('Доля каждого типа устройств для пользователей из группы B')\n",
    "plt.grid(True)\n",
    "plt.show()\n",
    "\n",
    "# Выводим данные для уточнения результатов\n",
    "display(dev_part_a)\n",
    "display(dev_part_b)"
   ]
  },
  {
   "cell_type": "markdown",
   "metadata": {
    "id": "_Fgfq8GJSAeM"
   },
   "source": [
    "Промежуточный вывод:\n",
    "- В группе А наибольшая доля у устройства iPhone, меньшая у РС.\n",
    "- В группе В наибольшая доля у устройства PC, наименьшая у iPhone.\n",
    "- В целом доли устройств между группами имеют небольшие различия, которые не окажут существенного влияния на проведение теста."
   ]
  },
  {
   "cell_type": "markdown",
   "metadata": {
    "id": "gAgmP6vo0eM1"
   },
   "source": [
    "#### 3.4. Равномерность распределения пользователей по регионам\n",
    "Теперь убедитесь, что пользователи равномерно распределены по регионам.\n",
    "\n",
    "Постройте две диаграммы:\n",
    "\n",
    "- доля каждого региона для пользователей из группы A,\n",
    "\n",
    "- доля каждого региона для пользователей из группы B.\n",
    "\n",
    "Постарайтесь добавить на диаграммы все необходимые подписи, пояснения и заголовки, которые позволят сделать вывод о том, совпадает ли распределение регионов в группах A и B. Постарайтесь использовать другой тип диаграммы, не тот, что в прошлом задании.\n"
   ]
  },
  {
   "cell_type": "code",
   "execution_count": 20,
   "metadata": {
    "colab": {
     "base_uri": "https://localhost:8080/",
     "height": 1000
    },
    "executionInfo": {
     "elapsed": 341,
     "status": "ok",
     "timestamp": 1756311481570,
     "user": {
      "displayName": "Maria Averkina",
      "userId": "01722641797731955161"
     },
     "user_tz": 420
    },
    "id": "3hAq-FG4OdYM",
    "outputId": "c967d2a2-93b1-4f66-a8bf-ea2a32031902"
   },
   "outputs": [
    {
     "data": {
      "image/png": "[encoded data removed]",
      "text/plain": [
       "<Figure size 1200x600 with 1 Axes>"
      ]
     },
     "metadata": {},
     "output_type": "display_data"
    },
    {
     "data": {
      "image/png": "[encoded data removed]",
      "text/plain": [
       "<Figure size 1200x600 with 1 Axes>"
      ]
     },
     "metadata": {},
     "output_type": "display_data"
    },
    {
     "data": {
      "text/plain": [
       "region\n",
       "CIS     0.50\n",
       "EU      0.51\n",
       "MENA    0.50\n",
       "Name: user_id, dtype: float64"
      ]
     },
     "metadata": {},
     "output_type": "display_data"
    },
    {
     "data": {
      "text/plain": [
       "region\n",
       "CIS     0.50\n",
       "EU      0.49\n",
       "MENA    0.50\n",
       "Name: user_id, dtype: float64"
      ]
     },
     "metadata": {},
     "output_type": "display_data"
    }
   ],
   "source": [
    "# Считаем кол-во пользователей по регионам для двух групп\n",
    "reg_a = sessions_test_part[sessions_test_part['test_group']== 'A'].groupby('region')['user_id'].nunique()\n",
    "reg_b = sessions_test_part[sessions_test_part['test_group']== 'B'].groupby('region')['user_id'].nunique()\n",
    "\n",
    "# Считаем общее кол-во пользователей по регионам\n",
    "reg_all = sessions_test_part.groupby('region')['user_id'].nunique()\n",
    "\n",
    "# Считаем доли каждого региона для пользователей каждой группы\n",
    "reg_part_a = round(reg_a/reg_all, 2)\n",
    "reg_part_b = round(reg_b/reg_all, 2)\n",
    "\n",
    "# Строим столбчатую диаграмму для группы А\n",
    "reg_part_a.plot(kind='bar', x='region', y='user_id', figsize=(12, 6), label = 'Регион')\n",
    "plt.xlabel('Регион')\n",
    "plt.xticks(rotation=0)\n",
    "plt.legend()\n",
    "plt.ylabel('Доля')\n",
    "plt.title('Доля каждого региона для пользователей из группы А')\n",
    "plt.grid(True)\n",
    "plt.show()\n",
    "\n",
    "# Строим столбчатую диаграмму для группы В\n",
    "reg_part_b.plot(kind='bar', x='region', y='user_id', figsize=(12, 6), label = 'Регион')\n",
    "plt.xlabel('Регион')\n",
    "plt.xticks(rotation=0)\n",
    "plt.legend()\n",
    "plt.ylabel('Доля')\n",
    "plt.title('Доля каждого региона для пользователей из группы B')\n",
    "plt.grid(True)\n",
    "plt.show()\n",
    "\n",
    "# Выводим данные для уточнения результатов\n",
    "display(reg_part_a)\n",
    "display(reg_part_b)"
   ]
  },
  {
   "cell_type": "markdown",
   "metadata": {
    "id": "DDn4GvReSAeN"
   },
   "source": [
    "Промежуточный вывод:\n",
    "- В группе А наибольшая доля у региона EU, меньшая у CIS и MENA.\n",
    "- В группе В наибольшая доля у региона MENA и CIS, наименьшая у EU.\n",
    "- В целом доли регионов между группами имеют небольшие различия, которые не окажут существенного влияния на проведение теста."
   ]
  },
  {
   "cell_type": "markdown",
   "metadata": {
    "id": "X2WSZ-sDrSUi"
   },
   "source": [
    "#### 3.5. Вывод после проверки A/B-теста\n",
    "\n",
    "На основе проведённого анализа A/B-теста сформулируйте и запишите свои выводы. В выводе обязательно укажите:\n",
    "\n",
    "- Было ли обнаружено различие в количестве пользователей в двух группах.\n",
    "\n",
    "- Являются ли выборки независимыми. Было ли обнаружено пересечение пользователей из тестовой и контрольной групп.\n",
    "\n",
    "- Сохраняется ли равномерное распределение пользователей тестовой и контрольной групп по категориальным переменным: устройствам и регионам.\n",
    "\n",
    "Сделайте заключение: корректно ли проходит A/B-тест, или наблюдаются какие-либо нарушения."
   ]
  },
  {
   "cell_type": "markdown",
   "metadata": {
    "id": "dDELHlAcOi8d"
   },
   "source": [
    "Итоговый вывод:\n",
    "- Различия в количестве пользователей в двух группах [было обнаружено](#1), но совсем не значительное, оно составило менее 1 %. Такое различие не окажет влияния на проведение теста, оно находится в пределах допустимых значений.\n",
    "- Выборки являются независимыми, пересечения пользователей по группам [выявлено не было](#2).\n",
    "- Равномерность сохраняется [по обеим категориям](#3) (устройства и регионы). Можно наблюдать небольшие различия в долях, но все они небольшие (0.1-0.3) и влияния на проведения теста не окажут, так как находятся в пределах нормы.\n",
    "\n",
    "Заключение: А/В тест проходит корректно."
   ]
  },
  {
   "cell_type": "markdown",
   "metadata": {
    "id": "nudRr_BQ0eM2"
   },
   "source": [
    "### 4. Проверка результатов A/B-теста\n",
    "\n",
    "A/B-тест завершён, и у вас есть результаты за все дни проведения эксперимента. Необходимо убедиться в корректности теста и верно интерпретировать результаты."
   ]
  },
  {
   "cell_type": "markdown",
   "metadata": {
    "id": "JVve-YBB0eM2"
   },
   "source": [
    "#### 4.1. Получение результатов теста и подсчёт основной метрики\n",
    "\n",
    "- Считайте и сохраните в датафрейм `sessions_test` CSV-файл с историческими данными о сессиях пользователей `sessions_project_test.csv`.\n",
    "\n",
    "- В датафрейме `sessions_test` создайте дополнительный столбец `good_session`. В него войдёт значение `1`, если за одну сессию было просмотрено 4 и более страниц, и значение `0`, если просмотрено меньше."
   ]
  },
  {
   "cell_type": "code",
   "execution_count": 21,
   "metadata": {
    "colab": {
     "base_uri": "https://localhost:8080/",
     "height": 226
    },
    "executionInfo": {
     "elapsed": 985,
     "status": "ok",
     "timestamp": 1756311482554,
     "user": {
      "displayName": "Maria Averkina",
      "userId": "01722641797731955161"
     },
     "user_tz": 420
    },
    "id": "EqRlwMtKPTir",
    "outputId": "6745c29c-724e-483a-c545-2835daf36cf1"
   },
   "outputs": [
    {
     "data": {
      "text/html": [
       "<div>\n",
       "<style scoped>\n",
       "    .dataframe tbody tr th:only-of-type {\n",
       "        vertical-align: middle;\n",
       "    }\n",
       "\n",
       "    .dataframe tbody tr th {\n",
       "        vertical-align: top;\n",
       "    }\n",
       "\n",
       "    .dataframe thead th {\n",
       "        text-align: right;\n",
       "    }\n",
       "</style>\n",
       "<table border=\"1\" class=\"dataframe\">\n",
       "  <thead>\n",
       "    <tr style=\"text-align: right;\">\n",
       "      <th></th>\n",
       "      <th>user_id</th>\n",
       "      <th>session_id</th>\n",
       "      <th>session_date</th>\n",
       "      <th>session_start_ts</th>\n",
       "      <th>install_date</th>\n",
       "      <th>session_number</th>\n",
       "      <th>registration_flag</th>\n",
       "      <th>page_counter</th>\n",
       "      <th>region</th>\n",
       "      <th>device</th>\n",
       "      <th>test_group</th>\n",
       "      <th>good_session</th>\n",
       "    </tr>\n",
       "  </thead>\n",
       "  <tbody>\n",
       "    <tr>\n",
       "      <th>0</th>\n",
       "      <td>6DAE3B3654DA738E</td>\n",
       "      <td>C69249E26E58F6E2</td>\n",
       "      <td>2025-10-26</td>\n",
       "      <td>2025-10-26 18:15:05</td>\n",
       "      <td>2025-10-16</td>\n",
       "      <td>3</td>\n",
       "      <td>0</td>\n",
       "      <td>3</td>\n",
       "      <td>MENA</td>\n",
       "      <td>Android</td>\n",
       "      <td>A</td>\n",
       "      <td>0</td>\n",
       "    </tr>\n",
       "    <tr>\n",
       "      <th>1</th>\n",
       "      <td>0A3FE5D1DD59110A</td>\n",
       "      <td>66D66D7C9F5181B7</td>\n",
       "      <td>2025-10-21</td>\n",
       "      <td>2025-10-21 17:04:53</td>\n",
       "      <td>2025-10-15</td>\n",
       "      <td>2</td>\n",
       "      <td>1</td>\n",
       "      <td>2</td>\n",
       "      <td>CIS</td>\n",
       "      <td>Android</td>\n",
       "      <td>B</td>\n",
       "      <td>0</td>\n",
       "    </tr>\n",
       "    <tr>\n",
       "      <th>2</th>\n",
       "      <td>2041F1D7AA740B88</td>\n",
       "      <td>50DE51D42215E74C</td>\n",
       "      <td>2025-10-23</td>\n",
       "      <td>2025-10-23 17:39:29</td>\n",
       "      <td>2025-10-19</td>\n",
       "      <td>3</td>\n",
       "      <td>0</td>\n",
       "      <td>2</td>\n",
       "      <td>MENA</td>\n",
       "      <td>Android</td>\n",
       "      <td>A</td>\n",
       "      <td>0</td>\n",
       "    </tr>\n",
       "    <tr>\n",
       "      <th>3</th>\n",
       "      <td>43D7585009168086</td>\n",
       "      <td>5763C0C353C22263</td>\n",
       "      <td>2025-10-24</td>\n",
       "      <td>2025-10-24 15:01:57</td>\n",
       "      <td>2025-10-18</td>\n",
       "      <td>4</td>\n",
       "      <td>0</td>\n",
       "      <td>1</td>\n",
       "      <td>CIS</td>\n",
       "      <td>iPhone</td>\n",
       "      <td>B</td>\n",
       "      <td>0</td>\n",
       "    </tr>\n",
       "    <tr>\n",
       "      <th>4</th>\n",
       "      <td>15AD68B14D62D88C</td>\n",
       "      <td>B1AD09F93C1053BC</td>\n",
       "      <td>2025-10-17</td>\n",
       "      <td>2025-10-17 17:34:39</td>\n",
       "      <td>2025-10-17</td>\n",
       "      <td>1</td>\n",
       "      <td>0</td>\n",
       "      <td>2</td>\n",
       "      <td>MENA</td>\n",
       "      <td>Android</td>\n",
       "      <td>B</td>\n",
       "      <td>0</td>\n",
       "    </tr>\n",
       "  </tbody>\n",
       "</table>\n",
       "</div>"
      ],
      "text/plain": [
       "            user_id        session_id session_date     session_start_ts  \\\n",
       "0  6DAE3B3654DA738E  C69249E26E58F6E2   2025-10-26  2025-10-26 18:15:05   \n",
       "1  0A3FE5D1DD59110A  66D66D7C9F5181B7   2025-10-21  2025-10-21 17:04:53   \n",
       "2  2041F1D7AA740B88  50DE51D42215E74C   2025-10-23  2025-10-23 17:39:29   \n",
       "3  43D7585009168086  5763C0C353C22263   2025-10-24  2025-10-24 15:01:57   \n",
       "4  15AD68B14D62D88C  B1AD09F93C1053BC   2025-10-17  2025-10-17 17:34:39   \n",
       "\n",
       "  install_date  session_number  registration_flag  page_counter region  \\\n",
       "0   2025-10-16               3                  0             3   MENA   \n",
       "1   2025-10-15               2                  1             2    CIS   \n",
       "2   2025-10-19               3                  0             2   MENA   \n",
       "3   2025-10-18               4                  0             1    CIS   \n",
       "4   2025-10-17               1                  0             2   MENA   \n",
       "\n",
       "    device test_group  good_session  \n",
       "0  Android          A             0  \n",
       "1  Android          B             0  \n",
       "2  Android          A             0  \n",
       "3   iPhone          B             0  \n",
       "4  Android          B             0  "
      ]
     },
     "metadata": {},
     "output_type": "display_data"
    }
   ],
   "source": [
    "# Сохраняем датафрейм sessions_test\n",
    "sessions_test = pd.read_csv('https://code.s3.yandex.net/datasets/sessions_project_test.csv')\n",
    "\n",
    "# Создаем столбец good_session, который определяет успешность сессии\n",
    "good_session = []\n",
    "\n",
    "for i in sessions_test['page_counter']:\n",
    "    if i >=4:\n",
    "        good_session.append(1)\n",
    "    else:\n",
    "        good_session.append(0)\n",
    "\n",
    "sessions_test['good_session'] = good_session\n",
    "\n",
    "display(sessions_test.head(5))\n"
   ]
  },
  {
   "cell_type": "markdown",
   "metadata": {
    "id": "aeYhrMYy0eM2"
   },
   "source": [
    "#### 4.2. Проверка корректности результатов теста\n",
    "\n",
    "Прежде чем приступать к анализу ключевых продуктовых метрик, необходимо убедиться, что тест проведён корректно и вы будете сравнивать две сопоставимые группы.\n",
    "\n",
    "- Рассчитайте количество уникальных сессий для каждого дня и обеих тестовых групп, используя группировку.\n",
    "\n",
    "- Проверьте, что количество уникальных дневных сессий в двух выборках не различается или различия не статистически значимыми. Используйте статистический тест, который позволит сделать вывод о равенстве средних двух выборок.\n",
    "\n",
    "- В качестве ответа выведите на экран полученное значение p-value и интерпретируйте его."
   ]
  },
  {
   "cell_type": "code",
   "execution_count": 22,
   "metadata": {
    "colab": {
     "base_uri": "https://localhost:8080/",
     "height": 1000
    },
    "executionInfo": {
     "elapsed": 54,
     "status": "ok",
     "timestamp": 1756311482607,
     "user": {
      "displayName": "Maria Averkina",
      "userId": "01722641797731955161"
     },
     "user_tz": 420
    },
    "id": "5NUlcltkTTSU",
    "outputId": "78f75c1b-3c27-4b19-ff53-5e31d444e73a"
   },
   "outputs": [
    {
     "data": {
      "text/html": [
       "<div>\n",
       "<style scoped>\n",
       "    .dataframe tbody tr th:only-of-type {\n",
       "        vertical-align: middle;\n",
       "    }\n",
       "\n",
       "    .dataframe tbody tr th {\n",
       "        vertical-align: top;\n",
       "    }\n",
       "\n",
       "    .dataframe thead th {\n",
       "        text-align: right;\n",
       "    }\n",
       "</style>\n",
       "<table border=\"1\" class=\"dataframe\">\n",
       "  <thead>\n",
       "    <tr style=\"text-align: right;\">\n",
       "      <th></th>\n",
       "      <th>session_date</th>\n",
       "      <th>test_group</th>\n",
       "      <th>session_id</th>\n",
       "    </tr>\n",
       "  </thead>\n",
       "  <tbody>\n",
       "    <tr>\n",
       "      <th>0</th>\n",
       "      <td>2025-10-14</td>\n",
       "      <td>A</td>\n",
       "      <td>1502</td>\n",
       "    </tr>\n",
       "    <tr>\n",
       "      <th>1</th>\n",
       "      <td>2025-10-14</td>\n",
       "      <td>B</td>\n",
       "      <td>1628</td>\n",
       "    </tr>\n",
       "    <tr>\n",
       "      <th>2</th>\n",
       "      <td>2025-10-15</td>\n",
       "      <td>A</td>\n",
       "      <td>2235</td>\n",
       "    </tr>\n",
       "    <tr>\n",
       "      <th>3</th>\n",
       "      <td>2025-10-15</td>\n",
       "      <td>B</td>\n",
       "      <td>2283</td>\n",
       "    </tr>\n",
       "    <tr>\n",
       "      <th>4</th>\n",
       "      <td>2025-10-16</td>\n",
       "      <td>A</td>\n",
       "      <td>3280</td>\n",
       "    </tr>\n",
       "    <tr>\n",
       "      <th>5</th>\n",
       "      <td>2025-10-16</td>\n",
       "      <td>B</td>\n",
       "      <td>3241</td>\n",
       "    </tr>\n",
       "    <tr>\n",
       "      <th>6</th>\n",
       "      <td>2025-10-17</td>\n",
       "      <td>A</td>\n",
       "      <td>4089</td>\n",
       "    </tr>\n",
       "    <tr>\n",
       "      <th>7</th>\n",
       "      <td>2025-10-17</td>\n",
       "      <td>B</td>\n",
       "      <td>4054</td>\n",
       "    </tr>\n",
       "    <tr>\n",
       "      <th>8</th>\n",
       "      <td>2025-10-18</td>\n",
       "      <td>A</td>\n",
       "      <td>5013</td>\n",
       "    </tr>\n",
       "    <tr>\n",
       "      <th>9</th>\n",
       "      <td>2025-10-18</td>\n",
       "      <td>B</td>\n",
       "      <td>5059</td>\n",
       "    </tr>\n",
       "    <tr>\n",
       "      <th>10</th>\n",
       "      <td>2025-10-19</td>\n",
       "      <td>A</td>\n",
       "      <td>6535</td>\n",
       "    </tr>\n",
       "    <tr>\n",
       "      <th>11</th>\n",
       "      <td>2025-10-19</td>\n",
       "      <td>B</td>\n",
       "      <td>6779</td>\n",
       "    </tr>\n",
       "    <tr>\n",
       "      <th>12</th>\n",
       "      <td>2025-10-20</td>\n",
       "      <td>A</td>\n",
       "      <td>5837</td>\n",
       "    </tr>\n",
       "    <tr>\n",
       "      <th>13</th>\n",
       "      <td>2025-10-20</td>\n",
       "      <td>B</td>\n",
       "      <td>6089</td>\n",
       "    </tr>\n",
       "    <tr>\n",
       "      <th>14</th>\n",
       "      <td>2025-10-21</td>\n",
       "      <td>A</td>\n",
       "      <td>3927</td>\n",
       "    </tr>\n",
       "    <tr>\n",
       "      <th>15</th>\n",
       "      <td>2025-10-21</td>\n",
       "      <td>B</td>\n",
       "      <td>3981</td>\n",
       "    </tr>\n",
       "    <tr>\n",
       "      <th>16</th>\n",
       "      <td>2025-10-22</td>\n",
       "      <td>A</td>\n",
       "      <td>3083</td>\n",
       "    </tr>\n",
       "    <tr>\n",
       "      <th>17</th>\n",
       "      <td>2025-10-22</td>\n",
       "      <td>B</td>\n",
       "      <td>3111</td>\n",
       "    </tr>\n",
       "    <tr>\n",
       "      <th>18</th>\n",
       "      <td>2025-10-23</td>\n",
       "      <td>A</td>\n",
       "      <td>2470</td>\n",
       "    </tr>\n",
       "    <tr>\n",
       "      <th>19</th>\n",
       "      <td>2025-10-23</td>\n",
       "      <td>B</td>\n",
       "      <td>2548</td>\n",
       "    </tr>\n",
       "    <tr>\n",
       "      <th>20</th>\n",
       "      <td>2025-10-24</td>\n",
       "      <td>A</td>\n",
       "      <td>2090</td>\n",
       "    </tr>\n",
       "    <tr>\n",
       "      <th>21</th>\n",
       "      <td>2025-10-24</td>\n",
       "      <td>B</td>\n",
       "      <td>2068</td>\n",
       "    </tr>\n",
       "    <tr>\n",
       "      <th>22</th>\n",
       "      <td>2025-10-25</td>\n",
       "      <td>A</td>\n",
       "      <td>1897</td>\n",
       "    </tr>\n",
       "    <tr>\n",
       "      <th>23</th>\n",
       "      <td>2025-10-25</td>\n",
       "      <td>B</td>\n",
       "      <td>1814</td>\n",
       "    </tr>\n",
       "    <tr>\n",
       "      <th>24</th>\n",
       "      <td>2025-10-26</td>\n",
       "      <td>A</td>\n",
       "      <td>1669</td>\n",
       "    </tr>\n",
       "    <tr>\n",
       "      <th>25</th>\n",
       "      <td>2025-10-26</td>\n",
       "      <td>B</td>\n",
       "      <td>1692</td>\n",
       "    </tr>\n",
       "    <tr>\n",
       "      <th>26</th>\n",
       "      <td>2025-10-27</td>\n",
       "      <td>A</td>\n",
       "      <td>1454</td>\n",
       "    </tr>\n",
       "    <tr>\n",
       "      <th>27</th>\n",
       "      <td>2025-10-27</td>\n",
       "      <td>B</td>\n",
       "      <td>1517</td>\n",
       "    </tr>\n",
       "    <tr>\n",
       "      <th>28</th>\n",
       "      <td>2025-10-28</td>\n",
       "      <td>A</td>\n",
       "      <td>1279</td>\n",
       "    </tr>\n",
       "    <tr>\n",
       "      <th>29</th>\n",
       "      <td>2025-10-28</td>\n",
       "      <td>B</td>\n",
       "      <td>1289</td>\n",
       "    </tr>\n",
       "    <tr>\n",
       "      <th>30</th>\n",
       "      <td>2025-10-29</td>\n",
       "      <td>A</td>\n",
       "      <td>1068</td>\n",
       "    </tr>\n",
       "    <tr>\n",
       "      <th>31</th>\n",
       "      <td>2025-10-29</td>\n",
       "      <td>B</td>\n",
       "      <td>1131</td>\n",
       "    </tr>\n",
       "    <tr>\n",
       "      <th>32</th>\n",
       "      <td>2025-10-30</td>\n",
       "      <td>A</td>\n",
       "      <td>887</td>\n",
       "    </tr>\n",
       "    <tr>\n",
       "      <th>33</th>\n",
       "      <td>2025-10-30</td>\n",
       "      <td>B</td>\n",
       "      <td>876</td>\n",
       "    </tr>\n",
       "    <tr>\n",
       "      <th>34</th>\n",
       "      <td>2025-10-31</td>\n",
       "      <td>A</td>\n",
       "      <td>644</td>\n",
       "    </tr>\n",
       "    <tr>\n",
       "      <th>35</th>\n",
       "      <td>2025-10-31</td>\n",
       "      <td>B</td>\n",
       "      <td>669</td>\n",
       "    </tr>\n",
       "    <tr>\n",
       "      <th>36</th>\n",
       "      <td>2025-11-01</td>\n",
       "      <td>A</td>\n",
       "      <td>434</td>\n",
       "    </tr>\n",
       "    <tr>\n",
       "      <th>37</th>\n",
       "      <td>2025-11-01</td>\n",
       "      <td>B</td>\n",
       "      <td>465</td>\n",
       "    </tr>\n",
       "    <tr>\n",
       "      <th>38</th>\n",
       "      <td>2025-11-02</td>\n",
       "      <td>A</td>\n",
       "      <td>158</td>\n",
       "    </tr>\n",
       "    <tr>\n",
       "      <th>39</th>\n",
       "      <td>2025-11-02</td>\n",
       "      <td>B</td>\n",
       "      <td>160</td>\n",
       "    </tr>\n",
       "  </tbody>\n",
       "</table>\n",
       "</div>"
      ],
      "text/plain": [
       "   session_date test_group  session_id\n",
       "0    2025-10-14          A        1502\n",
       "1    2025-10-14          B        1628\n",
       "2    2025-10-15          A        2235\n",
       "3    2025-10-15          B        2283\n",
       "4    2025-10-16          A        3280\n",
       "5    2025-10-16          B        3241\n",
       "6    2025-10-17          A        4089\n",
       "7    2025-10-17          B        4054\n",
       "8    2025-10-18          A        5013\n",
       "9    2025-10-18          B        5059\n",
       "10   2025-10-19          A        6535\n",
       "11   2025-10-19          B        6779\n",
       "12   2025-10-20          A        5837\n",
       "13   2025-10-20          B        6089\n",
       "14   2025-10-21          A        3927\n",
       "15   2025-10-21          B        3981\n",
       "16   2025-10-22          A        3083\n",
       "17   2025-10-22          B        3111\n",
       "18   2025-10-23          A        2470\n",
       "19   2025-10-23          B        2548\n",
       "20   2025-10-24          A        2090\n",
       "21   2025-10-24          B        2068\n",
       "22   2025-10-25          A        1897\n",
       "23   2025-10-25          B        1814\n",
       "24   2025-10-26          A        1669\n",
       "25   2025-10-26          B        1692\n",
       "26   2025-10-27          A        1454\n",
       "27   2025-10-27          B        1517\n",
       "28   2025-10-28          A        1279\n",
       "29   2025-10-28          B        1289\n",
       "30   2025-10-29          A        1068\n",
       "31   2025-10-29          B        1131\n",
       "32   2025-10-30          A         887\n",
       "33   2025-10-30          B         876\n",
       "34   2025-10-31          A         644\n",
       "35   2025-10-31          B         669\n",
       "36   2025-11-01          A         434\n",
       "37   2025-11-01          B         465\n",
       "38   2025-11-02          A         158\n",
       "39   2025-11-02          B         160"
      ]
     },
     "metadata": {},
     "output_type": "display_data"
    },
    {
     "name": "stdout",
     "output_type": "stream",
     "text": [
      "pvalue=0.530890347570442\n",
      "Нулевая гипотеза находит подтверждение!\n",
      "Количество уникальных дневных сессий в двух выборках не различается или различия не значимы\n"
     ]
    }
   ],
   "source": [
    "# H0: выборочные средние значения основной метрики равны (или различия статистически не значимы)\n",
    "\n",
    "# H1: выборочное среднее значение основной метрики в группе А больше, чем в группе В\n",
    "\n",
    "\n",
    "# Считаем кол-во уникальных сессий для каждого дня и обеих групп\n",
    "sessions_unique = sessions_test.groupby(['session_date', 'test_group'])['session_id'].nunique().reset_index()\n",
    "\n",
    "display(sessions_unique)\n",
    "\n",
    "\n",
    "# Считаем метрики для обеих групп\n",
    "metric_a = sessions_unique[sessions_unique['test_group'] == 'A']['session_id']\n",
    "metric_b = sessions_unique[sessions_unique['test_group'] == 'B']['session_id']\n",
    "\n",
    "# Устанавливаем уровень значимости\n",
    "alpha = 0.05\n",
    "\n",
    "# проводим статистический тест\n",
    "stat_ttest, p_value_ttest = ttest_ind(\n",
    "\tmetric_a,\n",
    "\tmetric_b,\n",
    "\talternative= 'greater'\n",
    ")\n",
    "\n",
    "# Выводим значение p-value\n",
    "print(f'pvalue={p_value_ttest}')\n",
    "\n",
    "# Проверяем нулевую гипотезу\n",
    "if p_value_ttest>alpha:\n",
    "    print('Нулевая гипотеза находит подтверждение!')\n",
    "else:\n",
    "    print('Нулевая гипотеза не находит подтверждения!')\n",
    "\n",
    "text_interpretation = 'не различается или различия не значимы'\n",
    "\n",
    "print(f'Количество уникальных дневных сессий в двух выборках {text_interpretation}')"
   ]
  },
  {
   "cell_type": "markdown",
   "metadata": {
    "id": "7kwRxzg70eM3"
   },
   "source": [
    "#### 4.3. Сравнение доли успешных сессий\n",
    "\n",
    "Когда вы убедились, что количество сессий в обеих выборках не различалось, можно переходить к анализу ключевой метрики — доли успешных сессий.\n",
    "\n",
    "Используйте созданный на первом шаге задания столбец `good_session` и рассчитайте долю успешных сессий для выборок A и B, а также разницу в этом показателе. Полученный вывод отобразите на экране."
   ]
  },
  {
   "cell_type": "code",
   "execution_count": 23,
   "metadata": {
    "colab": {
     "base_uri": "https://localhost:8080/"
    },
    "executionInfo": {
     "elapsed": 39,
     "status": "ok",
     "timestamp": 1756311482654,
     "user": {
      "displayName": "Maria Averkina",
      "userId": "01722641797731955161"
     },
     "user_tz": 420
    },
    "id": "Uku-V1CpPRCz",
    "outputId": "d7a205f7-d3ef-4a96-801b-b5d87f20c6a3"
   },
   "outputs": [
    {
     "name": "stdout",
     "output_type": "stream",
     "text": [
      "Доли успешных сессий в группе А: 0.49548522573871306 и в группе В: 0.5045147742612869. В группе В доля больше, чем в группе А.\n",
      "Разница между долями успешных сессий в группе А и В: 0.009029548522573816.\n"
     ]
    }
   ],
   "source": [
    "sessions_test_part_aa = sessions_test[sessions_test['test_group']== 'A']['good_session'].count()\n",
    "sessions_test_part_bb = sessions_test[sessions_test['test_group']== 'B']['good_session'].count()\n",
    "\n",
    "\n",
    "sessions_test_part_allall =sessions_test['good_session'].count()\n",
    "\n",
    "stpa = sessions_test_part_aa/sessions_test_part_allall\n",
    "stpb = sessions_test_part_bb/sessions_test_part_allall\n",
    "\n",
    "print(f'Доли успешных сессий в группе А: {stpa} и в группе В: {stpb}. В группе В доля больше, чем в группе А.')\n",
    "\n",
    "stp = stpb-stpa\n",
    "\n",
    "print(f'Разница между долями успешных сессий в группе А и В: {stp}.')"
   ]
  },
  {
   "cell_type": "markdown",
   "metadata": {
    "id": "9fMFuja10eM4"
   },
   "source": [
    "#### 4.4. Насколько статистически значимо изменение ключевой метрики\n",
    "\n",
    "На предыдущем шаге вы убедились, что количество успешных сессий в тестовой выборке примерно на 1.1% выше, чем в контрольной, но делать выводы только на основе этого значения будет некорректно. Для принятия решения всегда необходимо отвечать на вопрос: является ли это изменение статистически значимым.\n",
    "\n",
    "- Используя статистический тест, рассчитайте, является ли изменение в метрике доли успешных сессий статистически значимым.\n",
    "\n",
    "- Выведите на экран полученное значение p-value и свои выводы о статистической значимости. Напомним, что уровень значимости в эксперименте был выбран на уровне 0.05."
   ]
  },
  {
   "cell_type": "code",
   "execution_count": 24,
   "metadata": {
    "colab": {
     "base_uri": "https://localhost:8080/"
    },
    "executionInfo": {
     "elapsed": 79,
     "status": "ok",
     "timestamp": 1756311482752,
     "user": {
      "displayName": "Maria Averkina",
      "userId": "01722641797731955161"
     },
     "user_tz": 420
    },
    "id": "gFvhRGwlPLS0",
    "outputId": "707ab013-cf42-4a6d-e55c-0586f11039e5"
   },
   "outputs": [
    {
     "name": "stdout",
     "output_type": "stream",
     "text": [
      "Предпосылка о достаточном количестве данных выполняется!\n",
      "pvalue=0.00015747399880361237\n",
      "Нулевая гипотеза не находит подтверждения!\n",
      "В группе В количество успешных сессий больше, чем в группе А\n"
     ]
    }
   ],
   "source": [
    "\n",
    "n_a = sessions_test[ # посчитайте размер группы A\n",
    "    sessions_test.test_group== 'A'\n",
    "].shape[0]\n",
    "\n",
    "n_b = sessions_test[ # посчитайте размер группы B\n",
    "    sessions_test.test_group=='B'\n",
    "].shape[0]\n",
    "\n",
    "m_a = sessions_test[ # посчитайте кол-во успехов в группе A\n",
    "    (sessions_test.test_group=='A')&(sessions_test.good_session==1)\n",
    "].shape[0]\n",
    "\n",
    "m_b = sessions_test[ # посчитайте количество успехов в группе B\n",
    "     (sessions_test.test_group=='B')&(sessions_test.good_session==1)\n",
    "].shape[0]\n",
    "\n",
    "p_a, p_b = m_a/n_a, m_b/n_b # посчитайте доли успехов для каждой группы: A и B\n",
    "\n",
    "if  (p_a*n_a > 10)and((1-p_a)*n_a > 10)and(p_b*n_b > 10)and((1-p_b)*n_b > 10): # проверьте предпосылку о достаточном количестве данных\n",
    "    print('Предпосылка о достаточном количестве данных выполняется!')\n",
    "else:\n",
    "    print('Предпосылка о достаточном количестве данных НЕ выполняется!')\n",
    "\n",
    "alpha =  0.05 ## установите уровень значимости\n",
    "\n",
    "\n",
    "stat_ztest, p_value_ztest = proportions_ztest( # проведите Z-тест пропорций\n",
    "\t [m_a, m_b],\n",
    "    [n_a, n_b],\n",
    "    alternative='smaller'\n",
    ")\n",
    "\n",
    "print(f'pvalue={p_value_ztest}') # выведите полученное p-value\n",
    "\n",
    "if p_value_ztest > alpha:\n",
    "    print('Нулевая гипотеза находит подтверждение!')\n",
    "else:\n",
    "    print('Нулевая гипотеза не находит подтверждения!')\n",
    "print('В группе В количество успешных сессий больше, чем в группе А')"
   ]
  },
  {
   "cell_type": "markdown",
   "metadata": {
    "id": "GnJrkY9Q63zS"
   },
   "source": [
    "#### 4.5. Вывод по результатам A/B-эксперимента\n",
    "\n",
    "На основе проведённого анализа результатов теста сформулируйте и запишите свои выводы для команды разработки приложения. В выводе обязательно укажите:\n",
    "\n",
    "Характеристики проведённого эксперимента, количество задействованных пользователей и длительность эксперимента.\n",
    "\n",
    "- Размер выборки для каждой группы: 41040, то есть всего было задейстовано 82080 пользователей.\n",
    "- Даты проведения эксперимента: 2025-10-14 по 2025-11-02.\n",
    "- Рассчитанная длительность A/B-теста при текущем уровене трафика в 9907.36 пользователей в день составит 9 дней.\n",
    "\n",
    "- Целевая метрика: Доля успешнх сессий. Успешная сессия - сессия, в рамках которой пользователь просмотрел 4 и более страниц, так как это свидетельствует об удовлетворённости контентом и алгоритмами рекомендаций.\n",
    "\n",
    "- Нулевая гипотеза (Н0): Целевая метрика (доля успешных сессий) в контрольной группе (группа А) и тестовой группе(группа В) равны, то есть новый алгоритм не сработал и вовлеченность пользовтелей не увеличилась в тестовой группе.\n",
    "\n",
    "- Альтернативная гипотеза (Н1): Целевая метрика (доля успешынх сессий) в тествой группе имеет большее значение, чем в контрольной, то есть новый алгоритм сработал и вовлеченность пользователей увеличилась.\n",
    "\n",
    "\n",
    "Повлияло ли внедрение нового алгоритма рекомендаций на рост ключевой метрики и как.\n",
    "\n",
    "- Да, мы выяснили в последнем пункте, что количетсво успешных сессий в тестовой группе больше, чем в контрольной, что свидетельствует об успешном внедрении нового алгоритма.\n",
    "\n",
    "Каким получилось значение p-value для оценки статистической значимости выявленного эффекта.\n",
    "\n",
    "- pvalue=0.0001574739988036123\n",
    "\n",
    "Стоит ли внедрять нововведение в приложение.\n",
    "\n",
    "- Да, стоит, так как эксперимент показал, что нововведение положительно алияет на развитие продуктаЮ вовлеченность пользователей растет."
   ]
  }
 ],
 "metadata": {
  "ExecuteTimeLog": [
   {
    "duration": 114,
    "start_time": "2025-07-28T07:36:28.152Z"
   },
   {
    "duration": 1681,
    "start_time": "2025-07-28T07:36:40.085Z"
   },
   {
    "duration": 1213,
    "start_time": "2025-07-28T07:36:50.885Z"
   },
   {
    "duration": 90,
    "start_time": "2025-07-28T07:44:48.667Z"
   },
   {
    "duration": 650,
    "start_time": "2025-07-28T07:46:18.237Z"
   },
   {
    "duration": 642,
    "start_time": "2025-07-28T07:46:45.660Z"
   },
   {
    "duration": 8,
    "start_time": "2025-07-28T07:48:14.192Z"
   },
   {
    "duration": 555,
    "start_time": "2025-07-28T07:48:22.576Z"
   },
   {
    "duration": 558,
    "start_time": "2025-07-28T07:48:38.999Z"
   },
   {
    "duration": 9502,
    "start_time": "2025-07-28T07:49:28.579Z"
   },
   {
    "duration": 9316,
    "start_time": "2025-07-28T07:50:08.711Z"
   },
   {
    "duration": 559,
    "start_time": "2025-07-28T07:50:46.327Z"
   },
   {
    "duration": 558,
    "start_time": "2025-07-28T07:51:01.597Z"
   },
   {
    "duration": 539,
    "start_time": "2025-07-28T07:51:53.144Z"
   },
   {
    "duration": 553,
    "start_time": "2025-07-28T07:52:56.160Z"
   },
   {
    "duration": 542,
    "start_time": "2025-07-28T07:53:13.963Z"
   },
   {
    "duration": 573,
    "start_time": "2025-07-28T07:54:22.394Z"
   },
   {
    "duration": 579,
    "start_time": "2025-07-28T07:54:33.823Z"
   },
   {
    "duration": 550,
    "start_time": "2025-07-28T07:54:59.622Z"
   },
   {
    "duration": 1064,
    "start_time": "2025-07-28T07:55:10.638Z"
   },
   {
    "duration": 1089,
    "start_time": "2025-07-28T07:55:23.322Z"
   },
   {
    "duration": 1067,
    "start_time": "2025-07-28T07:55:37.224Z"
   },
   {
    "duration": 1026,
    "start_time": "2025-07-28T07:55:58.808Z"
   },
   {
    "duration": 1030,
    "start_time": "2025-07-28T07:56:12.582Z"
   },
   {
    "duration": 116,
    "start_time": "2025-07-28T07:59:56.371Z"
   },
   {
    "duration": 1102,
    "start_time": "2025-07-28T08:00:00.355Z"
   },
   {
    "duration": 1083,
    "start_time": "2025-07-28T08:00:22.464Z"
   },
   {
    "duration": 1064,
    "start_time": "2025-07-28T08:00:27.720Z"
   },
   {
    "duration": 1095,
    "start_time": "2025-07-28T08:07:49.820Z"
   },
   {
    "duration": 1049,
    "start_time": "2025-07-28T08:08:12.919Z"
   },
   {
    "duration": 1101,
    "start_time": "2025-07-28T08:08:27.736Z"
   },
   {
    "duration": 1090,
    "start_time": "2025-07-28T08:09:15.404Z"
   },
   {
    "duration": 1128,
    "start_time": "2025-07-28T08:09:28.018Z"
   },
   {
    "duration": 1111,
    "start_time": "2025-07-28T08:09:45.672Z"
   },
   {
    "duration": 1144,
    "start_time": "2025-07-28T08:11:25.549Z"
   },
   {
    "duration": 1108,
    "start_time": "2025-07-28T08:11:41.782Z"
   },
   {
    "duration": 1154,
    "start_time": "2025-07-28T08:11:50.463Z"
   },
   {
    "duration": 1261,
    "start_time": "2025-07-28T08:14:33.861Z"
   },
   {
    "duration": 1448,
    "start_time": "2025-07-28T08:30:50.607Z"
   },
   {
    "duration": 1330,
    "start_time": "2025-07-28T08:30:52.057Z"
   },
   {
    "duration": 44,
    "start_time": "2025-07-28T08:30:53.389Z"
   },
   {
    "duration": 587,
    "start_time": "2025-07-28T08:30:53.436Z"
   },
   {
    "duration": 0,
    "start_time": "2025-07-28T08:30:54.024Z"
   },
   {
    "duration": 102,
    "start_time": "2025-07-28T08:32:31.403Z"
   },
   {
    "duration": 37,
    "start_time": "2025-07-28T08:32:41.922Z"
   },
   {
    "duration": 37,
    "start_time": "2025-07-28T08:33:02.410Z"
   },
   {
    "duration": 2738,
    "start_time": "2025-07-28T08:34:58.718Z"
   },
   {
    "duration": 2805,
    "start_time": "2025-07-28T08:35:54.751Z"
   },
   {
    "duration": 1152,
    "start_time": "2025-07-28T08:36:13.850Z"
   },
   {
    "duration": 1168,
    "start_time": "2025-07-28T08:36:51.169Z"
   },
   {
    "duration": 589,
    "start_time": "2025-07-28T08:37:18.350Z"
   },
   {
    "duration": 580,
    "start_time": "2025-07-28T08:37:26.366Z"
   },
   {
    "duration": 35,
    "start_time": "2025-07-28T08:44:37.195Z"
   },
   {
    "duration": 1393,
    "start_time": "2025-07-28T08:45:12.311Z"
   },
   {
    "duration": 588,
    "start_time": "2025-07-28T08:45:13.705Z"
   },
   {
    "duration": 36,
    "start_time": "2025-07-28T08:45:14.294Z"
   },
   {
    "duration": 565,
    "start_time": "2025-07-28T08:45:14.331Z"
   },
   {
    "duration": 0,
    "start_time": "2025-07-28T08:45:14.898Z"
   },
   {
    "duration": 12,
    "start_time": "2025-07-28T08:55:00.072Z"
   },
   {
    "duration": 1530,
    "start_time": "2025-07-28T08:55:20.391Z"
   },
   {
    "duration": 213,
    "start_time": "2025-07-28T08:55:34.938Z"
   },
   {
    "duration": 198,
    "start_time": "2025-07-28T08:56:11.390Z"
   },
   {
    "duration": 210,
    "start_time": "2025-07-28T08:56:42.299Z"
   },
   {
    "duration": 216,
    "start_time": "2025-07-28T08:57:12.490Z"
   },
   {
    "duration": 74,
    "start_time": "2025-07-28T08:59:55.952Z"
   },
   {
    "duration": 1498,
    "start_time": "2025-07-28T09:36:29.358Z"
   },
   {
    "duration": 628,
    "start_time": "2025-07-28T09:36:30.861Z"
   },
   {
    "duration": 36,
    "start_time": "2025-07-28T09:36:31.490Z"
   },
   {
    "duration": 101,
    "start_time": "2025-07-28T09:36:31.528Z"
   },
   {
    "duration": 576,
    "start_time": "2025-07-28T09:36:31.631Z"
   },
   {
    "duration": 0,
    "start_time": "2025-07-28T09:36:32.209Z"
   },
   {
    "duration": 85,
    "start_time": "2025-07-28T09:41:02.696Z"
   },
   {
    "duration": 108,
    "start_time": "2025-07-28T09:41:11.406Z"
   },
   {
    "duration": 772,
    "start_time": "2025-07-28T09:41:46.925Z"
   },
   {
    "duration": 309,
    "start_time": "2025-07-28T09:44:34.425Z"
   },
   {
    "duration": 281,
    "start_time": "2025-07-28T09:45:11.357Z"
   },
   {
    "duration": 287,
    "start_time": "2025-07-28T09:48:49.206Z"
   },
   {
    "duration": 267,
    "start_time": "2025-07-28T09:56:37.916Z"
   },
   {
    "duration": 250,
    "start_time": "2025-07-28T09:57:40.451Z"
   },
   {
    "duration": 250,
    "start_time": "2025-07-28T09:58:43.433Z"
   },
   {
    "duration": 274,
    "start_time": "2025-07-28T09:59:16.797Z"
   },
   {
    "duration": 361,
    "start_time": "2025-07-28T09:59:39.767Z"
   },
   {
    "duration": 105,
    "start_time": "2025-07-28T09:59:57.649Z"
   },
   {
    "duration": 420,
    "start_time": "2025-07-28T10:00:27.264Z"
   },
   {
    "duration": 102,
    "start_time": "2025-07-28T10:02:00.212Z"
   },
   {
    "duration": 361,
    "start_time": "2025-07-28T10:02:12.308Z"
   },
   {
    "duration": 381,
    "start_time": "2025-07-28T10:02:49.809Z"
   },
   {
    "duration": 12,
    "start_time": "2025-07-28T10:06:49.991Z"
   },
   {
    "duration": 40,
    "start_time": "2025-07-28T10:07:11.712Z"
   },
   {
    "duration": 375,
    "start_time": "2025-07-28T10:07:33.867Z"
   },
   {
    "duration": 390,
    "start_time": "2025-07-28T10:07:45.627Z"
   },
   {
    "duration": 370,
    "start_time": "2025-07-28T10:07:54.104Z"
   },
   {
    "duration": 391,
    "start_time": "2025-07-28T10:08:33.919Z"
   },
   {
    "duration": 396,
    "start_time": "2025-07-28T10:08:46.157Z"
   },
   {
    "duration": 7,
    "start_time": "2025-07-28T10:10:26.271Z"
   },
   {
    "duration": 7,
    "start_time": "2025-07-28T10:10:41.873Z"
   },
   {
    "duration": 12,
    "start_time": "2025-07-28T10:11:50.637Z"
   },
   {
    "duration": 255,
    "start_time": "2025-07-28T10:11:58.429Z"
   },
   {
    "duration": 305,
    "start_time": "2025-07-28T10:12:13.938Z"
   },
   {
    "duration": 292,
    "start_time": "2025-07-28T10:12:43.832Z"
   },
   {
    "duration": 384,
    "start_time": "2025-07-28T10:13:59.434Z"
   },
   {
    "duration": 314,
    "start_time": "2025-07-28T10:14:00.557Z"
   },
   {
    "duration": 377,
    "start_time": "2025-07-28T10:15:26.150Z"
   },
   {
    "duration": 296,
    "start_time": "2025-07-28T10:15:33.083Z"
   },
   {
    "duration": 738,
    "start_time": "2025-07-28T10:17:07.092Z"
   },
   {
    "duration": 815,
    "start_time": "2025-07-28T10:17:36.404Z"
   },
   {
    "duration": 159,
    "start_time": "2025-07-28T10:17:37.221Z"
   },
   {
    "duration": 735,
    "start_time": "2025-07-28T10:18:40.871Z"
   },
   {
    "duration": 139,
    "start_time": "2025-07-28T10:19:11.301Z"
   },
   {
    "duration": 719,
    "start_time": "2025-07-28T10:19:36.318Z"
   },
   {
    "duration": 136,
    "start_time": "2025-07-28T10:19:37.119Z"
   },
   {
    "duration": 148,
    "start_time": "2025-07-28T10:19:50.755Z"
   },
   {
    "duration": 534,
    "start_time": "2025-07-28T10:20:03.204Z"
   },
   {
    "duration": 614,
    "start_time": "2025-07-28T10:20:14.371Z"
   },
   {
    "duration": 532,
    "start_time": "2025-07-28T10:26:30.364Z"
   },
   {
    "duration": 1462,
    "start_time": "2025-07-28T11:11:36.345Z"
   },
   {
    "duration": 667,
    "start_time": "2025-07-28T11:11:37.809Z"
   },
   {
    "duration": 37,
    "start_time": "2025-07-28T11:11:38.477Z"
   },
   {
    "duration": 980,
    "start_time": "2025-07-28T11:11:38.516Z"
   },
   {
    "duration": 527,
    "start_time": "2025-07-28T11:11:39.498Z"
   },
   {
    "duration": 617,
    "start_time": "2025-07-28T11:11:40.027Z"
   },
   {
    "duration": 0,
    "start_time": "2025-07-28T11:11:40.645Z"
   },
   {
    "duration": 33,
    "start_time": "2025-07-28T11:13:27.120Z"
   },
   {
    "duration": 189,
    "start_time": "2025-07-28T11:16:33.360Z"
   },
   {
    "duration": 187,
    "start_time": "2025-07-28T11:16:56.561Z"
   },
   {
    "duration": 188,
    "start_time": "2025-07-28T11:17:05.344Z"
   },
   {
    "duration": 189,
    "start_time": "2025-07-28T11:17:15.512Z"
   },
   {
    "duration": 188,
    "start_time": "2025-07-28T11:17:21.433Z"
   },
   {
    "duration": 190,
    "start_time": "2025-07-28T11:17:26.747Z"
   },
   {
    "duration": 268,
    "start_time": "2025-07-28T11:17:38.963Z"
   },
   {
    "duration": 198,
    "start_time": "2025-07-28T11:17:45.748Z"
   },
   {
    "duration": 188,
    "start_time": "2025-07-28T11:17:56.132Z"
   },
   {
    "duration": 203,
    "start_time": "2025-07-28T11:18:16.765Z"
   },
   {
    "duration": 194,
    "start_time": "2025-07-28T11:18:24.845Z"
   },
   {
    "duration": 184,
    "start_time": "2025-07-28T11:18:32.330Z"
   },
   {
    "duration": 198,
    "start_time": "2025-07-28T11:18:46.614Z"
   },
   {
    "duration": 211,
    "start_time": "2025-07-28T11:19:00.433Z"
   },
   {
    "duration": 299,
    "start_time": "2025-07-28T11:19:12.528Z"
   },
   {
    "duration": 197,
    "start_time": "2025-07-28T11:19:22.921Z"
   },
   {
    "duration": 187,
    "start_time": "2025-07-28T11:19:31.712Z"
   },
   {
    "duration": 277,
    "start_time": "2025-07-28T11:19:51.893Z"
   },
   {
    "duration": 204,
    "start_time": "2025-07-28T11:19:58.727Z"
   },
   {
    "duration": 218,
    "start_time": "2025-07-28T11:20:40.938Z"
   },
   {
    "duration": 744,
    "start_time": "2025-07-28T11:21:52.351Z"
   },
   {
    "duration": 745,
    "start_time": "2025-07-28T11:22:23.842Z"
   },
   {
    "duration": 754,
    "start_time": "2025-07-28T11:22:39.178Z"
   },
   {
    "duration": 736,
    "start_time": "2025-07-28T11:23:23.393Z"
   },
   {
    "duration": 812,
    "start_time": "2025-07-28T11:23:38.860Z"
   },
   {
    "duration": 725,
    "start_time": "2025-07-28T11:24:10.292Z"
   },
   {
    "duration": 149,
    "start_time": "2025-07-28T11:25:45.393Z"
   },
   {
    "duration": 732,
    "start_time": "2025-07-28T11:26:51.210Z"
   },
   {
    "duration": 511,
    "start_time": "2025-07-28T11:27:35.490Z"
   },
   {
    "duration": 568,
    "start_time": "2025-07-28T11:29:19.422Z"
   },
   {
    "duration": 763,
    "start_time": "2025-07-28T11:29:29.752Z"
   },
   {
    "duration": 958,
    "start_time": "2025-07-28T11:30:07.239Z"
   },
   {
    "duration": 1015,
    "start_time": "2025-07-28T11:31:05.588Z"
   },
   {
    "duration": 934,
    "start_time": "2025-07-28T11:31:18.318Z"
   },
   {
    "duration": 710,
    "start_time": "2025-07-28T11:32:46.103Z"
   },
   {
    "duration": 227,
    "start_time": "2025-07-28T11:32:50.154Z"
   },
   {
    "duration": 514,
    "start_time": "2025-07-28T11:33:10.854Z"
   },
   {
    "duration": 55,
    "start_time": "2025-07-28T11:34:59.717Z"
   },
   {
    "duration": 209,
    "start_time": "2025-07-28T11:35:16.370Z"
   },
   {
    "duration": 211,
    "start_time": "2025-07-28T11:36:28.853Z"
   },
   {
    "duration": 57,
    "start_time": "2025-07-28T11:36:31.184Z"
   },
   {
    "duration": 61,
    "start_time": "2025-07-28T11:37:52.833Z"
   },
   {
    "duration": 1452,
    "start_time": "2025-07-28T12:01:19.612Z"
   },
   {
    "duration": 626,
    "start_time": "2025-07-28T12:01:21.066Z"
   },
   {
    "duration": 37,
    "start_time": "2025-07-28T12:01:21.693Z"
   },
   {
    "duration": 997,
    "start_time": "2025-07-28T12:01:21.732Z"
   },
   {
    "duration": 246,
    "start_time": "2025-07-28T12:01:22.731Z"
   },
   {
    "duration": 514,
    "start_time": "2025-07-28T12:01:22.979Z"
   },
   {
    "duration": 230,
    "start_time": "2025-07-28T12:01:23.494Z"
   },
   {
    "duration": 65,
    "start_time": "2025-07-28T12:01:23.725Z"
   },
   {
    "duration": 590,
    "start_time": "2025-07-28T12:01:23.791Z"
   },
   {
    "duration": 0,
    "start_time": "2025-07-28T12:01:24.383Z"
   },
   {
    "duration": 173,
    "start_time": "2025-07-28T12:05:30.628Z"
   },
   {
    "duration": 178,
    "start_time": "2025-07-28T12:05:46.297Z"
   },
   {
    "duration": 196,
    "start_time": "2025-07-28T12:06:00.060Z"
   },
   {
    "duration": 17,
    "start_time": "2025-07-28T12:12:36.712Z"
   },
   {
    "duration": 694,
    "start_time": "2025-07-28T12:13:26.470Z"
   },
   {
    "duration": 1416,
    "start_time": "2025-07-28T12:14:52.589Z"
   },
   {
    "duration": 695,
    "start_time": "2025-07-28T12:16:10.154Z"
   },
   {
    "duration": 883,
    "start_time": "2025-07-28T12:16:53.918Z"
   },
   {
    "duration": 1098,
    "start_time": "2025-07-28T12:17:21.585Z"
   },
   {
    "duration": 1643,
    "start_time": "2025-07-28T12:18:19.505Z"
   },
   {
    "duration": 125,
    "start_time": "2025-07-28T12:18:55.180Z"
   },
   {
    "duration": 138,
    "start_time": "2025-07-28T12:19:20.572Z"
   },
   {
    "duration": 135,
    "start_time": "2025-07-28T12:20:01.803Z"
   },
   {
    "duration": 630,
    "start_time": "2025-07-28T12:20:11.069Z"
   },
   {
    "duration": 719,
    "start_time": "2025-07-28T12:20:32.576Z"
   },
   {
    "duration": 635,
    "start_time": "2025-07-28T12:21:08.201Z"
   },
   {
    "duration": 634,
    "start_time": "2025-07-28T12:21:24.932Z"
   },
   {
    "duration": 603,
    "start_time": "2025-07-28T12:31:23.132Z"
   },
   {
    "duration": 108,
    "start_time": "2025-07-28T12:33:46.510Z"
   },
   {
    "duration": 622,
    "start_time": "2025-07-28T12:34:37.678Z"
   },
   {
    "duration": 1532,
    "start_time": "2025-07-29T07:42:00.630Z"
   },
   {
    "duration": 586,
    "start_time": "2025-07-29T07:42:02.164Z"
   },
   {
    "duration": 54,
    "start_time": "2025-07-29T07:42:02.752Z"
   },
   {
    "duration": 1347,
    "start_time": "2025-07-29T07:42:02.808Z"
   },
   {
    "duration": 237,
    "start_time": "2025-07-29T07:42:04.157Z"
   },
   {
    "duration": 569,
    "start_time": "2025-07-29T07:42:04.399Z"
   },
   {
    "duration": 288,
    "start_time": "2025-07-29T07:42:04.970Z"
   },
   {
    "duration": 66,
    "start_time": "2025-07-29T07:42:05.260Z"
   },
   {
    "duration": 179,
    "start_time": "2025-07-29T07:42:05.328Z"
   },
   {
    "duration": 664,
    "start_time": "2025-07-29T07:42:05.509Z"
   },
   {
    "duration": 549,
    "start_time": "2025-07-29T07:42:06.175Z"
   },
   {
    "duration": 0,
    "start_time": "2025-07-29T07:42:06.725Z"
   },
   {
    "duration": 14,
    "start_time": "2025-07-29T08:07:54.492Z"
   },
   {
    "duration": 161,
    "start_time": "2025-07-29T08:12:06.155Z"
   },
   {
    "duration": 174,
    "start_time": "2025-07-29T08:13:45.819Z"
   },
   {
    "duration": 58,
    "start_time": "2025-07-29T08:22:36.758Z"
   },
   {
    "duration": 30,
    "start_time": "2025-07-29T08:23:15.161Z"
   },
   {
    "duration": 25,
    "start_time": "2025-07-29T08:25:30.701Z"
   },
   {
    "duration": 26,
    "start_time": "2025-07-29T08:26:01.372Z"
   },
   {
    "duration": 26,
    "start_time": "2025-07-29T08:26:13.989Z"
   },
   {
    "duration": 113,
    "start_time": "2025-07-29T08:28:44.766Z"
   },
   {
    "duration": 1305,
    "start_time": "2025-07-29T08:28:49.653Z"
   },
   {
    "duration": 28,
    "start_time": "2025-07-29T08:29:34.502Z"
   },
   {
    "duration": 27,
    "start_time": "2025-07-29T08:29:39.270Z"
   },
   {
    "duration": 32,
    "start_time": "2025-07-29T08:31:02.599Z"
   },
   {
    "duration": 26,
    "start_time": "2025-07-29T08:31:16.002Z"
   },
   {
    "duration": 26,
    "start_time": "2025-07-29T08:31:35.333Z"
   },
   {
    "duration": 27,
    "start_time": "2025-07-29T08:32:06.819Z"
   },
   {
    "duration": 26,
    "start_time": "2025-07-29T08:32:16.125Z"
   },
   {
    "duration": 26,
    "start_time": "2025-07-29T08:32:23.404Z"
   },
   {
    "duration": 37,
    "start_time": "2025-07-29T08:34:14.382Z"
   },
   {
    "duration": 27,
    "start_time": "2025-07-29T08:34:32.767Z"
   },
   {
    "duration": 26,
    "start_time": "2025-07-29T08:34:58.882Z"
   },
   {
    "duration": 26,
    "start_time": "2025-07-29T08:35:11.216Z"
   },
   {
    "duration": 125,
    "start_time": "2025-07-29T08:45:03.145Z"
   },
   {
    "duration": 113,
    "start_time": "2025-07-29T08:45:36.795Z"
   },
   {
    "duration": 83,
    "start_time": "2025-07-29T08:46:10.526Z"
   },
   {
    "duration": 12,
    "start_time": "2025-07-29T08:46:19.147Z"
   },
   {
    "duration": 142,
    "start_time": "2025-07-29T08:46:26.627Z"
   },
   {
    "duration": 105,
    "start_time": "2025-07-29T08:46:44.088Z"
   },
   {
    "duration": 132,
    "start_time": "2025-07-29T08:47:29.250Z"
   },
   {
    "duration": 200,
    "start_time": "2025-07-29T08:47:51.077Z"
   },
   {
    "duration": 152,
    "start_time": "2025-07-29T08:47:58.491Z"
   },
   {
    "duration": 165,
    "start_time": "2025-07-29T08:48:09.971Z"
   },
   {
    "duration": 140,
    "start_time": "2025-07-29T08:48:20.541Z"
   },
   {
    "duration": 309,
    "start_time": "2025-07-29T08:50:42.077Z"
   },
   {
    "duration": 321,
    "start_time": "2025-07-29T08:51:00.510Z"
   },
   {
    "duration": 253,
    "start_time": "2025-07-29T08:51:06.891Z"
   },
   {
    "duration": 6,
    "start_time": "2025-07-29T08:52:20.985Z"
   },
   {
    "duration": 25,
    "start_time": "2025-07-29T08:53:42.719Z"
   },
   {
    "duration": 6,
    "start_time": "2025-07-29T08:53:56.341Z"
   },
   {
    "duration": 8,
    "start_time": "2025-07-29T08:54:12.222Z"
   },
   {
    "duration": 8,
    "start_time": "2025-07-29T08:54:20.486Z"
   },
   {
    "duration": 8,
    "start_time": "2025-07-29T08:54:29.351Z"
   },
   {
    "duration": 75,
    "start_time": "2025-07-29T09:03:11.849Z"
   },
   {
    "duration": 18,
    "start_time": "2025-07-29T09:04:17.957Z"
   },
   {
    "duration": 17,
    "start_time": "2025-07-29T09:04:25.643Z"
   },
   {
    "duration": 14,
    "start_time": "2025-07-29T09:04:33.741Z"
   },
   {
    "duration": 15,
    "start_time": "2025-07-29T09:06:31.340Z"
   },
   {
    "duration": 19,
    "start_time": "2025-07-29T09:09:02.456Z"
   },
   {
    "duration": 1462,
    "start_time": "2025-07-29T10:04:23.285Z"
   },
   {
    "duration": 573,
    "start_time": "2025-07-29T10:04:24.750Z"
   },
   {
    "duration": 37,
    "start_time": "2025-07-29T10:04:25.325Z"
   },
   {
    "duration": 991,
    "start_time": "2025-07-29T10:04:25.364Z"
   },
   {
    "duration": 214,
    "start_time": "2025-07-29T10:04:26.357Z"
   },
   {
    "duration": 534,
    "start_time": "2025-07-29T10:04:26.573Z"
   },
   {
    "duration": 233,
    "start_time": "2025-07-29T10:04:27.109Z"
   },
   {
    "duration": 64,
    "start_time": "2025-07-29T10:04:27.344Z"
   },
   {
    "duration": 181,
    "start_time": "2025-07-29T10:04:27.409Z"
   },
   {
    "duration": 685,
    "start_time": "2025-07-29T10:04:27.592Z"
   },
   {
    "duration": 451,
    "start_time": "2025-07-29T10:04:28.278Z"
   },
   {
    "duration": 164,
    "start_time": "2025-07-29T10:04:28.731Z"
   },
   {
    "duration": 27,
    "start_time": "2025-07-29T10:04:28.898Z"
   },
   {
    "duration": 117,
    "start_time": "2025-07-29T10:04:28.926Z"
   },
   {
    "duration": 20,
    "start_time": "2025-07-29T10:04:29.044Z"
   },
   {
    "duration": 93,
    "start_time": "2025-07-29T10:05:02.657Z"
   },
   {
    "duration": 10,
    "start_time": "2025-07-29T10:05:09.815Z"
   },
   {
    "duration": 4,
    "start_time": "2025-07-29T10:05:18.447Z"
   },
   {
    "duration": 4,
    "start_time": "2025-07-29T10:06:03.894Z"
   },
   {
    "duration": 4,
    "start_time": "2025-07-29T10:06:57.193Z"
   },
   {
    "duration": 4,
    "start_time": "2025-07-29T10:07:13.411Z"
   },
   {
    "duration": 6,
    "start_time": "2025-07-29T10:07:44.295Z"
   },
   {
    "duration": 4,
    "start_time": "2025-07-29T10:08:00.056Z"
   },
   {
    "duration": 7,
    "start_time": "2025-07-29T10:08:12.219Z"
   },
   {
    "duration": 9,
    "start_time": "2025-07-29T10:09:13.922Z"
   },
   {
    "duration": 17,
    "start_time": "2025-07-29T10:09:57.426Z"
   },
   {
    "duration": 89,
    "start_time": "2025-07-29T10:16:09.251Z"
   },
   {
    "duration": 15,
    "start_time": "2025-07-29T10:16:17.371Z"
   },
   {
    "duration": 14,
    "start_time": "2025-07-29T10:16:49.551Z"
   },
   {
    "duration": 13,
    "start_time": "2025-07-29T10:17:10.107Z"
   },
   {
    "duration": 7,
    "start_time": "2025-07-29T10:17:16.790Z"
   },
   {
    "duration": 7,
    "start_time": "2025-07-29T10:17:24.883Z"
   },
   {
    "duration": 6,
    "start_time": "2025-07-29T10:17:46.346Z"
   },
   {
    "duration": 1321,
    "start_time": "2025-07-29T10:19:36.849Z"
   },
   {
    "duration": 14,
    "start_time": "2025-07-29T10:19:56.233Z"
   },
   {
    "duration": 15,
    "start_time": "2025-07-29T10:20:06.116Z"
   },
   {
    "duration": 17,
    "start_time": "2025-07-29T10:20:19.768Z"
   },
   {
    "duration": 19,
    "start_time": "2025-07-29T10:20:33.634Z"
   },
   {
    "duration": 14,
    "start_time": "2025-07-29T10:20:47.169Z"
   },
   {
    "duration": 13,
    "start_time": "2025-07-29T10:21:43.003Z"
   },
   {
    "duration": 9,
    "start_time": "2025-07-29T10:22:32.437Z"
   },
   {
    "duration": 16,
    "start_time": "2025-07-29T10:22:59.329Z"
   },
   {
    "duration": 13,
    "start_time": "2025-07-29T10:23:14.586Z"
   },
   {
    "duration": 19,
    "start_time": "2025-07-29T10:23:45.547Z"
   },
   {
    "duration": 19,
    "start_time": "2025-07-29T10:23:50.336Z"
   },
   {
    "duration": 29,
    "start_time": "2025-07-29T10:24:44.812Z"
   },
   {
    "duration": 1439,
    "start_time": "2025-07-29T10:24:59.186Z"
   },
   {
    "duration": 23,
    "start_time": "2025-07-29T10:25:24.711Z"
   },
   {
    "duration": 1493,
    "start_time": "2025-07-29T10:25:33.000Z"
   },
   {
    "duration": 18,
    "start_time": "2025-07-29T10:25:46.798Z"
   },
   {
    "duration": 1258,
    "start_time": "2025-07-29T10:25:50.702Z"
   },
   {
    "duration": 14,
    "start_time": "2025-07-29T10:26:05.988Z"
   },
   {
    "duration": 17,
    "start_time": "2025-07-29T10:27:30.062Z"
   },
   {
    "duration": 14,
    "start_time": "2025-07-29T10:28:06.581Z"
   },
   {
    "duration": 13,
    "start_time": "2025-07-29T10:28:32.013Z"
   },
   {
    "duration": 29,
    "start_time": "2025-07-29T10:31:35.945Z"
   },
   {
    "duration": 15,
    "start_time": "2025-07-29T10:31:48.546Z"
   },
   {
    "duration": 22,
    "start_time": "2025-07-29T10:33:47.346Z"
   },
   {
    "duration": 24,
    "start_time": "2025-07-29T10:34:41.029Z"
   },
   {
    "duration": 38,
    "start_time": "2025-07-29T10:35:36.927Z"
   },
   {
    "duration": 22,
    "start_time": "2025-07-29T10:36:23.426Z"
   },
   {
    "duration": 25,
    "start_time": "2025-07-29T10:36:39.322Z"
   },
   {
    "duration": 25,
    "start_time": "2025-07-29T10:37:22.824Z"
   },
   {
    "duration": 11,
    "start_time": "2025-07-29T10:41:33.225Z"
   },
   {
    "duration": 8,
    "start_time": "2025-07-29T10:41:40.223Z"
   },
   {
    "duration": 10,
    "start_time": "2025-07-29T10:53:18.531Z"
   },
   {
    "duration": 28,
    "start_time": "2025-07-29T10:57:58.758Z"
   },
   {
    "duration": 171,
    "start_time": "2025-07-29T10:58:17.143Z"
   },
   {
    "duration": 160,
    "start_time": "2025-07-29T10:58:50.343Z"
   },
   {
    "duration": 159,
    "start_time": "2025-07-29T10:59:19.342Z"
   },
   {
    "duration": 218,
    "start_time": "2025-07-29T10:59:33.576Z"
   },
   {
    "duration": 319,
    "start_time": "2025-07-29T10:59:59.423Z"
   },
   {
    "duration": 293,
    "start_time": "2025-07-29T11:00:31.328Z"
   },
   {
    "duration": 307,
    "start_time": "2025-07-29T11:01:18.543Z"
   },
   {
    "duration": 317,
    "start_time": "2025-07-29T11:01:39.559Z"
   },
   {
    "duration": 301,
    "start_time": "2025-07-29T11:01:48.689Z"
   },
   {
    "duration": 398,
    "start_time": "2025-07-29T11:01:57.277Z"
   },
   {
    "duration": 297,
    "start_time": "2025-07-29T11:02:33.994Z"
   },
   {
    "duration": 319,
    "start_time": "2025-07-29T11:02:45.461Z"
   },
   {
    "duration": 294,
    "start_time": "2025-07-29T11:02:57.410Z"
   },
   {
    "duration": 292,
    "start_time": "2025-07-29T11:03:17.264Z"
   },
   {
    "duration": 1349,
    "start_time": "2025-07-29T11:50:20.641Z"
   },
   {
    "duration": 567,
    "start_time": "2025-07-29T11:50:21.991Z"
   },
   {
    "duration": 48,
    "start_time": "2025-07-29T11:50:22.560Z"
   },
   {
    "duration": 965,
    "start_time": "2025-07-29T11:50:22.610Z"
   },
   {
    "duration": 205,
    "start_time": "2025-07-29T11:50:23.577Z"
   },
   {
    "duration": 527,
    "start_time": "2025-07-29T11:50:23.784Z"
   },
   {
    "duration": 224,
    "start_time": "2025-07-29T11:50:24.313Z"
   },
   {
    "duration": 62,
    "start_time": "2025-07-29T11:50:24.539Z"
   },
   {
    "duration": 208,
    "start_time": "2025-07-29T11:50:24.603Z"
   },
   {
    "duration": 659,
    "start_time": "2025-07-29T11:50:24.813Z"
   },
   {
    "duration": 476,
    "start_time": "2025-07-29T11:50:25.473Z"
   },
   {
    "duration": 165,
    "start_time": "2025-07-29T11:50:25.952Z"
   },
   {
    "duration": 26,
    "start_time": "2025-07-29T11:50:26.119Z"
   },
   {
    "duration": 15,
    "start_time": "2025-07-29T11:50:26.148Z"
   },
   {
    "duration": 107,
    "start_time": "2025-07-29T11:50:26.164Z"
   },
   {
    "duration": 295,
    "start_time": "2025-07-29T11:50:26.273Z"
   },
   {
    "duration": 339,
    "start_time": "2025-07-29T11:57:51.743Z"
   },
   {
    "duration": 39,
    "start_time": "2025-07-29T12:06:13.108Z"
   },
   {
    "duration": 15,
    "start_time": "2025-07-29T12:06:14.354Z"
   },
   {
    "duration": 11,
    "start_time": "2025-07-29T12:06:14.654Z"
   },
   {
    "duration": 283,
    "start_time": "2025-07-29T12:06:14.937Z"
   },
   {
    "duration": 303,
    "start_time": "2025-07-29T12:06:15.335Z"
   },
   {
    "duration": 28,
    "start_time": "2025-07-29T12:06:55.356Z"
   },
   {
    "duration": 14,
    "start_time": "2025-07-29T12:06:55.820Z"
   },
   {
    "duration": 8,
    "start_time": "2025-07-29T12:06:56.138Z"
   },
   {
    "duration": 300,
    "start_time": "2025-07-29T12:06:56.434Z"
   },
   {
    "duration": 287,
    "start_time": "2025-07-29T12:06:56.883Z"
   },
   {
    "duration": 1638,
    "start_time": "2025-07-30T06:54:31.398Z"
   },
   {
    "duration": 612,
    "start_time": "2025-07-30T06:54:33.038Z"
   },
   {
    "duration": 37,
    "start_time": "2025-07-30T06:54:33.651Z"
   },
   {
    "duration": 1321,
    "start_time": "2025-07-30T06:54:33.690Z"
   },
   {
    "duration": 261,
    "start_time": "2025-07-30T06:54:35.013Z"
   },
   {
    "duration": 544,
    "start_time": "2025-07-30T06:54:35.276Z"
   },
   {
    "duration": 315,
    "start_time": "2025-07-30T06:54:35.822Z"
   },
   {
    "duration": 53,
    "start_time": "2025-07-30T06:54:36.139Z"
   },
   {
    "duration": 193,
    "start_time": "2025-07-30T06:54:36.194Z"
   },
   {
    "duration": 639,
    "start_time": "2025-07-30T06:54:36.388Z"
   },
   {
    "duration": 446,
    "start_time": "2025-07-30T06:54:37.028Z"
   },
   {
    "duration": 164,
    "start_time": "2025-07-30T06:54:37.476Z"
   },
   {
    "duration": 27,
    "start_time": "2025-07-30T06:54:37.642Z"
   },
   {
    "duration": 192,
    "start_time": "2025-07-30T06:54:37.671Z"
   },
   {
    "duration": 10,
    "start_time": "2025-07-30T06:54:37.865Z"
   },
   {
    "duration": 317,
    "start_time": "2025-07-30T06:54:37.876Z"
   },
   {
    "duration": 366,
    "start_time": "2025-07-30T06:54:38.194Z"
   },
   {
    "duration": 1471,
    "start_time": "2025-07-30T07:19:43.652Z"
   },
   {
    "duration": 644,
    "start_time": "2025-07-30T07:19:45.125Z"
   },
   {
    "duration": 37,
    "start_time": "2025-07-30T07:19:45.770Z"
   },
   {
    "duration": 1094,
    "start_time": "2025-07-30T07:19:45.809Z"
   },
   {
    "duration": 242,
    "start_time": "2025-07-30T07:19:46.905Z"
   },
   {
    "duration": 560,
    "start_time": "2025-07-30T07:19:47.148Z"
   },
   {
    "duration": 257,
    "start_time": "2025-07-30T07:19:47.710Z"
   },
   {
    "duration": 67,
    "start_time": "2025-07-30T07:19:47.968Z"
   },
   {
    "duration": 210,
    "start_time": "2025-07-30T07:19:48.037Z"
   },
   {
    "duration": 695,
    "start_time": "2025-07-30T07:19:48.250Z"
   },
   {
    "duration": 428,
    "start_time": "2025-07-30T07:19:48.947Z"
   },
   {
    "duration": 179,
    "start_time": "2025-07-30T07:19:49.378Z"
   },
   {
    "duration": 27,
    "start_time": "2025-07-30T07:19:49.559Z"
   },
   {
    "duration": 23,
    "start_time": "2025-07-30T07:19:49.588Z"
   },
   {
    "duration": 24,
    "start_time": "2025-07-30T07:19:49.613Z"
   },
   {
    "duration": 332,
    "start_time": "2025-07-30T07:19:49.639Z"
   },
   {
    "duration": 388,
    "start_time": "2025-07-30T07:19:49.973Z"
   },
   {
    "duration": 98,
    "start_time": "2025-07-30T07:21:25.270Z"
   },
   {
    "duration": 255,
    "start_time": "2025-07-30T07:21:35.322Z"
   },
   {
    "duration": 268,
    "start_time": "2025-07-30T07:21:45.936Z"
   },
   {
    "duration": 300,
    "start_time": "2025-07-30T07:23:52.216Z"
   },
   {
    "duration": 1540,
    "start_time": "2025-07-30T08:39:32.840Z"
   },
   {
    "duration": 750,
    "start_time": "2025-07-30T08:39:34.382Z"
   },
   {
    "duration": 41,
    "start_time": "2025-07-30T08:39:35.133Z"
   },
   {
    "duration": 1511,
    "start_time": "2025-07-30T08:39:35.176Z"
   },
   {
    "duration": 299,
    "start_time": "2025-07-30T08:39:36.689Z"
   },
   {
    "duration": 677,
    "start_time": "2025-07-30T08:39:36.989Z"
   },
   {
    "duration": 383,
    "start_time": "2025-07-30T08:39:37.668Z"
   },
   {
    "duration": 82,
    "start_time": "2025-07-30T08:39:38.052Z"
   },
   {
    "duration": 223,
    "start_time": "2025-07-30T08:39:38.136Z"
   },
   {
    "duration": 806,
    "start_time": "2025-07-30T08:39:38.362Z"
   },
   {
    "duration": 537,
    "start_time": "2025-07-30T08:39:39.170Z"
   },
   {
    "duration": 222,
    "start_time": "2025-07-30T08:39:39.711Z"
   },
   {
    "duration": 29,
    "start_time": "2025-07-30T08:39:39.935Z"
   },
   {
    "duration": 19,
    "start_time": "2025-07-30T08:39:39.966Z"
   },
   {
    "duration": 20,
    "start_time": "2025-07-30T08:39:39.986Z"
   },
   {
    "duration": 403,
    "start_time": "2025-07-30T08:39:40.009Z"
   },
   {
    "duration": 459,
    "start_time": "2025-07-30T08:39:40.415Z"
   },
   {
    "duration": 331,
    "start_time": "2025-07-30T08:39:40.876Z"
   },
   {
    "duration": 49,
    "start_time": "2025-07-30T08:50:31.476Z"
   },
   {
    "duration": 128,
    "start_time": "2025-07-30T09:01:38.620Z"
   },
   {
    "duration": 54,
    "start_time": "2025-07-30T09:01:54.652Z"
   },
   {
    "duration": 86,
    "start_time": "2025-07-30T09:04:31.517Z"
   },
   {
    "duration": 55,
    "start_time": "2025-07-30T09:05:11.867Z"
   },
   {
    "duration": 57,
    "start_time": "2025-07-30T09:14:02.206Z"
   },
   {
    "duration": 52,
    "start_time": "2025-07-30T10:33:40.796Z"
   },
   {
    "duration": 1611,
    "start_time": "2025-07-30T10:33:52.147Z"
   },
   {
    "duration": 687,
    "start_time": "2025-07-30T10:33:53.761Z"
   },
   {
    "duration": 43,
    "start_time": "2025-07-30T10:33:54.450Z"
   },
   {
    "duration": 1367,
    "start_time": "2025-07-30T10:33:54.495Z"
   },
   {
    "duration": 269,
    "start_time": "2025-07-30T10:33:55.864Z"
   },
   {
    "duration": 640,
    "start_time": "2025-07-30T10:33:56.135Z"
   },
   {
    "duration": 337,
    "start_time": "2025-07-30T10:33:56.777Z"
   },
   {
    "duration": 66,
    "start_time": "2025-07-30T10:33:57.116Z"
   },
   {
    "duration": 207,
    "start_time": "2025-07-30T10:33:57.184Z"
   },
   {
    "duration": 716,
    "start_time": "2025-07-30T10:33:57.394Z"
   },
   {
    "duration": 497,
    "start_time": "2025-07-30T10:33:58.112Z"
   },
   {
    "duration": 195,
    "start_time": "2025-07-30T10:33:58.611Z"
   },
   {
    "duration": 28,
    "start_time": "2025-07-30T10:33:58.808Z"
   },
   {
    "duration": 22,
    "start_time": "2025-07-30T10:33:58.838Z"
   },
   {
    "duration": 9,
    "start_time": "2025-07-30T10:33:58.862Z"
   },
   {
    "duration": 369,
    "start_time": "2025-07-30T10:33:58.873Z"
   },
   {
    "duration": 408,
    "start_time": "2025-07-30T10:33:59.250Z"
   },
   {
    "duration": 329,
    "start_time": "2025-07-30T10:33:59.660Z"
   },
   {
    "duration": 72,
    "start_time": "2025-07-30T10:33:59.991Z"
   },
   {
    "duration": 46,
    "start_time": "2025-07-30T10:34:00.065Z"
   },
   {
    "duration": 37,
    "start_time": "2025-07-30T10:34:18.180Z"
   },
   {
    "duration": 37,
    "start_time": "2025-07-30T10:34:44.134Z"
   },
   {
    "duration": 36,
    "start_time": "2025-07-30T10:37:56.695Z"
   },
   {
    "duration": 35,
    "start_time": "2025-07-30T10:38:02.048Z"
   },
   {
    "duration": 53,
    "start_time": "2025-07-30T10:38:45.064Z"
   },
   {
    "duration": 36,
    "start_time": "2025-07-30T10:39:52.844Z"
   },
   {
    "duration": 36,
    "start_time": "2025-07-30T10:40:03.496Z"
   },
   {
    "duration": 34,
    "start_time": "2025-07-30T10:47:29.638Z"
   },
   {
    "duration": 1664,
    "start_time": "2025-07-30T10:52:11.457Z"
   },
   {
    "duration": 667,
    "start_time": "2025-07-30T10:52:13.123Z"
   },
   {
    "duration": 42,
    "start_time": "2025-07-30T10:52:13.792Z"
   },
   {
    "duration": 1126,
    "start_time": "2025-07-30T10:52:13.836Z"
   },
   {
    "duration": 264,
    "start_time": "2025-07-30T10:52:14.964Z"
   },
   {
    "duration": 590,
    "start_time": "2025-07-30T10:52:15.230Z"
   },
   {
    "duration": 259,
    "start_time": "2025-07-30T10:52:15.822Z"
   },
   {
    "duration": 74,
    "start_time": "2025-07-30T10:52:16.082Z"
   },
   {
    "duration": 205,
    "start_time": "2025-07-30T10:52:16.157Z"
   },
   {
    "duration": 777,
    "start_time": "2025-07-30T10:52:16.363Z"
   },
   {
    "duration": 478,
    "start_time": "2025-07-30T10:52:17.142Z"
   },
   {
    "duration": 183,
    "start_time": "2025-07-30T10:52:17.622Z"
   },
   {
    "duration": 27,
    "start_time": "2025-07-30T10:52:17.807Z"
   },
   {
    "duration": 45,
    "start_time": "2025-07-30T10:52:17.837Z"
   },
   {
    "duration": 9,
    "start_time": "2025-07-30T10:52:17.884Z"
   },
   {
    "duration": 343,
    "start_time": "2025-07-30T10:52:17.895Z"
   },
   {
    "duration": 411,
    "start_time": "2025-07-30T10:52:18.239Z"
   },
   {
    "duration": 314,
    "start_time": "2025-07-30T10:52:18.652Z"
   },
   {
    "duration": 55,
    "start_time": "2025-07-30T10:52:18.968Z"
   },
   {
    "duration": 49,
    "start_time": "2025-07-30T10:52:19.025Z"
   },
   {
    "duration": 134,
    "start_time": "2025-07-30T10:52:19.076Z"
   },
   {
    "duration": 24,
    "start_time": "2025-07-30T10:52:43.771Z"
   },
   {
    "duration": 28,
    "start_time": "2025-07-30T10:57:16.801Z"
   },
   {
    "duration": 36,
    "start_time": "2025-07-30T10:57:58.587Z"
   },
   {
    "duration": 22,
    "start_time": "2025-07-30T10:58:14.801Z"
   },
   {
    "duration": 27,
    "start_time": "2025-07-30T10:59:29.951Z"
   },
   {
    "duration": 14,
    "start_time": "2025-07-30T11:00:02.201Z"
   },
   {
    "duration": 17,
    "start_time": "2025-07-30T11:00:21.649Z"
   },
   {
    "duration": 1641,
    "start_time": "2025-07-30T11:02:09.743Z"
   },
   {
    "duration": 724,
    "start_time": "2025-07-30T11:02:11.386Z"
   },
   {
    "duration": 62,
    "start_time": "2025-07-30T11:02:12.112Z"
   },
   {
    "duration": 1110,
    "start_time": "2025-07-30T11:02:12.176Z"
   },
   {
    "duration": 239,
    "start_time": "2025-07-30T11:02:13.288Z"
   },
   {
    "duration": 583,
    "start_time": "2025-07-30T11:02:13.529Z"
   },
   {
    "duration": 252,
    "start_time": "2025-07-30T11:02:14.114Z"
   },
   {
    "duration": 58,
    "start_time": "2025-07-30T11:02:14.367Z"
   },
   {
    "duration": 212,
    "start_time": "2025-07-30T11:02:14.427Z"
   },
   {
    "duration": 758,
    "start_time": "2025-07-30T11:02:14.641Z"
   },
   {
    "duration": 479,
    "start_time": "2025-07-30T11:02:15.401Z"
   },
   {
    "duration": 195,
    "start_time": "2025-07-30T11:02:15.882Z"
   },
   {
    "duration": 28,
    "start_time": "2025-07-30T11:02:16.079Z"
   },
   {
    "duration": 15,
    "start_time": "2025-07-30T11:02:16.110Z"
   },
   {
    "duration": 23,
    "start_time": "2025-07-30T11:02:16.126Z"
   },
   {
    "duration": 372,
    "start_time": "2025-07-30T11:02:16.151Z"
   },
   {
    "duration": 425,
    "start_time": "2025-07-30T11:02:16.525Z"
   },
   {
    "duration": 320,
    "start_time": "2025-07-30T11:02:16.952Z"
   },
   {
    "duration": 60,
    "start_time": "2025-07-30T11:02:17.275Z"
   },
   {
    "duration": 36,
    "start_time": "2025-07-30T11:02:17.351Z"
   },
   {
    "duration": 1032,
    "start_time": "2025-07-30T11:02:35.647Z"
   },
   {
    "duration": 1568,
    "start_time": "2025-07-30T11:02:57.465Z"
   },
   {
    "duration": 648,
    "start_time": "2025-07-30T11:02:59.035Z"
   },
   {
    "duration": 41,
    "start_time": "2025-07-30T11:02:59.686Z"
   },
   {
    "duration": 1161,
    "start_time": "2025-07-30T11:02:59.749Z"
   },
   {
    "duration": 248,
    "start_time": "2025-07-30T11:03:00.911Z"
   },
   {
    "duration": 614,
    "start_time": "2025-07-30T11:03:01.161Z"
   },
   {
    "duration": 275,
    "start_time": "2025-07-30T11:03:01.777Z"
   },
   {
    "duration": 59,
    "start_time": "2025-07-30T11:03:02.054Z"
   },
   {
    "duration": 219,
    "start_time": "2025-07-30T11:03:02.115Z"
   },
   {
    "duration": 751,
    "start_time": "2025-07-30T11:03:02.336Z"
   },
   {
    "duration": 430,
    "start_time": "2025-07-30T11:03:03.089Z"
   },
   {
    "duration": 193,
    "start_time": "2025-07-30T11:03:03.521Z"
   },
   {
    "duration": 28,
    "start_time": "2025-07-30T11:03:03.718Z"
   },
   {
    "duration": 21,
    "start_time": "2025-07-30T11:03:03.748Z"
   },
   {
    "duration": 11,
    "start_time": "2025-07-30T11:03:03.771Z"
   },
   {
    "duration": 486,
    "start_time": "2025-07-30T11:03:03.784Z"
   },
   {
    "duration": 410,
    "start_time": "2025-07-30T11:03:04.272Z"
   },
   {
    "duration": 334,
    "start_time": "2025-07-30T11:03:04.684Z"
   },
   {
    "duration": 72,
    "start_time": "2025-07-30T11:03:05.020Z"
   },
   {
    "duration": 55,
    "start_time": "2025-07-30T11:03:05.094Z"
   },
   {
    "duration": 1566,
    "start_time": "2025-07-30T11:03:18.768Z"
   },
   {
    "duration": 730,
    "start_time": "2025-07-30T11:03:20.336Z"
   },
   {
    "duration": 42,
    "start_time": "2025-07-30T11:03:21.067Z"
   },
   {
    "duration": 1195,
    "start_time": "2025-07-30T11:03:21.111Z"
   },
   {
    "duration": 248,
    "start_time": "2025-07-30T11:03:22.309Z"
   },
   {
    "duration": 605,
    "start_time": "2025-07-30T11:03:22.559Z"
   },
   {
    "duration": 257,
    "start_time": "2025-07-30T11:03:23.166Z"
   },
   {
    "duration": 68,
    "start_time": "2025-07-30T11:03:23.425Z"
   },
   {
    "duration": 208,
    "start_time": "2025-07-30T11:03:23.495Z"
   },
   {
    "duration": 745,
    "start_time": "2025-07-30T11:03:23.705Z"
   },
   {
    "duration": 466,
    "start_time": "2025-07-30T11:03:24.452Z"
   },
   {
    "duration": 200,
    "start_time": "2025-07-30T11:03:24.920Z"
   },
   {
    "duration": 30,
    "start_time": "2025-07-30T11:03:25.122Z"
   },
   {
    "duration": 18,
    "start_time": "2025-07-30T11:03:25.156Z"
   },
   {
    "duration": 34,
    "start_time": "2025-07-30T11:03:25.175Z"
   },
   {
    "duration": 392,
    "start_time": "2025-07-30T11:03:25.211Z"
   },
   {
    "duration": 415,
    "start_time": "2025-07-30T11:03:25.605Z"
   },
   {
    "duration": 319,
    "start_time": "2025-07-30T11:03:26.021Z"
   },
   {
    "duration": 59,
    "start_time": "2025-07-30T11:03:26.343Z"
   },
   {
    "duration": 56,
    "start_time": "2025-07-30T11:03:26.404Z"
   },
   {
    "duration": 1009,
    "start_time": "2025-07-30T11:04:06.032Z"
   },
   {
    "duration": 12,
    "start_time": "2025-07-30T11:05:11.292Z"
   },
   {
    "duration": 12,
    "start_time": "2025-07-30T11:05:29.230Z"
   },
   {
    "duration": 12,
    "start_time": "2025-07-30T11:05:41.099Z"
   },
   {
    "duration": 13,
    "start_time": "2025-07-30T11:06:30.966Z"
   },
   {
    "duration": 1526,
    "start_time": "2025-07-30T11:06:38.855Z"
   },
   {
    "duration": 634,
    "start_time": "2025-07-30T11:06:40.383Z"
   },
   {
    "duration": 50,
    "start_time": "2025-07-30T11:06:41.019Z"
   },
   {
    "duration": 1115,
    "start_time": "2025-07-30T11:06:41.071Z"
   },
   {
    "duration": 234,
    "start_time": "2025-07-30T11:06:42.188Z"
   },
   {
    "duration": 581,
    "start_time": "2025-07-30T11:06:42.424Z"
   },
   {
    "duration": 253,
    "start_time": "2025-07-30T11:06:43.007Z"
   },
   {
    "duration": 58,
    "start_time": "2025-07-30T11:06:43.262Z"
   },
   {
    "duration": 214,
    "start_time": "2025-07-30T11:06:43.322Z"
   },
   {
    "duration": 749,
    "start_time": "2025-07-30T11:06:43.539Z"
   },
   {
    "duration": 467,
    "start_time": "2025-07-30T11:06:44.290Z"
   },
   {
    "duration": 202,
    "start_time": "2025-07-30T11:06:44.759Z"
   },
   {
    "duration": 28,
    "start_time": "2025-07-30T11:06:44.963Z"
   },
   {
    "duration": 17,
    "start_time": "2025-07-30T11:06:44.992Z"
   },
   {
    "duration": 9,
    "start_time": "2025-07-30T11:06:45.011Z"
   },
   {
    "duration": 405,
    "start_time": "2025-07-30T11:06:45.022Z"
   },
   {
    "duration": 452,
    "start_time": "2025-07-30T11:06:45.429Z"
   },
   {
    "duration": 323,
    "start_time": "2025-07-30T11:06:45.882Z"
   },
   {
    "duration": 66,
    "start_time": "2025-07-30T11:06:46.207Z"
   },
   {
    "duration": 37,
    "start_time": "2025-07-30T11:06:46.275Z"
   },
   {
    "duration": 114,
    "start_time": "2025-07-30T11:06:46.314Z"
   },
   {
    "duration": 60,
    "start_time": "2025-07-30T11:07:42.879Z"
   },
   {
    "duration": 1527,
    "start_time": "2025-07-30T11:11:09.393Z"
   },
   {
    "duration": 666,
    "start_time": "2025-07-30T11:11:10.922Z"
   },
   {
    "duration": 41,
    "start_time": "2025-07-30T11:11:11.590Z"
   },
   {
    "duration": 1217,
    "start_time": "2025-07-30T11:11:11.633Z"
   },
   {
    "duration": 252,
    "start_time": "2025-07-30T11:11:12.852Z"
   },
   {
    "duration": 595,
    "start_time": "2025-07-30T11:11:13.105Z"
   },
   {
    "duration": 259,
    "start_time": "2025-07-30T11:11:13.701Z"
   },
   {
    "duration": 58,
    "start_time": "2025-07-30T11:11:13.962Z"
   },
   {
    "duration": 209,
    "start_time": "2025-07-30T11:11:14.022Z"
   },
   {
    "duration": 755,
    "start_time": "2025-07-30T11:11:14.233Z"
   },
   {
    "duration": 476,
    "start_time": "2025-07-30T11:11:14.991Z"
   },
   {
    "duration": 193,
    "start_time": "2025-07-30T11:11:15.469Z"
   },
   {
    "duration": 29,
    "start_time": "2025-07-30T11:11:15.664Z"
   },
   {
    "duration": 16,
    "start_time": "2025-07-30T11:11:15.694Z"
   },
   {
    "duration": 10,
    "start_time": "2025-07-30T11:11:15.712Z"
   },
   {
    "duration": 360,
    "start_time": "2025-07-30T11:11:15.724Z"
   },
   {
    "duration": 417,
    "start_time": "2025-07-30T11:11:16.086Z"
   },
   {
    "duration": 337,
    "start_time": "2025-07-30T11:11:16.509Z"
   },
   {
    "duration": 58,
    "start_time": "2025-07-30T11:11:16.850Z"
   },
   {
    "duration": 73,
    "start_time": "2025-07-30T11:11:16.910Z"
   },
   {
    "duration": 57,
    "start_time": "2025-07-30T11:11:16.985Z"
   },
   {
    "duration": 1574,
    "start_time": "2025-07-30T11:16:02.759Z"
   },
   {
    "duration": 673,
    "start_time": "2025-07-30T11:16:04.335Z"
   },
   {
    "duration": 45,
    "start_time": "2025-07-30T11:16:05.009Z"
   },
   {
    "duration": 1194,
    "start_time": "2025-07-30T11:16:05.056Z"
   },
   {
    "duration": 269,
    "start_time": "2025-07-30T11:16:06.252Z"
   },
   {
    "duration": 632,
    "start_time": "2025-07-30T11:16:06.523Z"
   },
   {
    "duration": 256,
    "start_time": "2025-07-30T11:16:07.157Z"
   },
   {
    "duration": 73,
    "start_time": "2025-07-30T11:16:07.415Z"
   },
   {
    "duration": 208,
    "start_time": "2025-07-30T11:16:07.490Z"
   },
   {
    "duration": 785,
    "start_time": "2025-07-30T11:16:07.701Z"
   },
   {
    "duration": 471,
    "start_time": "2025-07-30T11:16:08.488Z"
   },
   {
    "duration": 202,
    "start_time": "2025-07-30T11:16:08.961Z"
   },
   {
    "duration": 28,
    "start_time": "2025-07-30T11:16:09.164Z"
   },
   {
    "duration": 34,
    "start_time": "2025-07-30T11:16:09.194Z"
   },
   {
    "duration": 120,
    "start_time": "2025-07-30T11:16:09.230Z"
   },
   {
    "duration": 366,
    "start_time": "2025-07-30T11:16:09.352Z"
   },
   {
    "duration": 432,
    "start_time": "2025-07-30T11:16:09.720Z"
   },
   {
    "duration": 334,
    "start_time": "2025-07-30T11:16:10.154Z"
   },
   {
    "duration": 68,
    "start_time": "2025-07-30T11:16:10.489Z"
   },
   {
    "duration": 102,
    "start_time": "2025-07-30T11:16:10.559Z"
   },
   {
    "duration": 61,
    "start_time": "2025-07-30T11:16:10.663Z"
   }
  ],
  "colab": {
   "provenance": []
  },
  "kernelspec": {
   "display_name": "Python 3",
   "language": "python",
   "name": "python3"
  },
  "language_info": {
   "codemirror_mode": {
    "name": "ipython",
    "version": 3
   },
   "file_extension": ".py",
   "mimetype": "text/x-python",
   "name": "python",
   "nbconvert_exporter": "python",
   "pygments_lexer": "ipython3",
   "version": "3.13.3"
  },
  "toc": {
   "base_numbering": 1,
   "nav_menu": {},
   "number_sections": true,
   "sideBar": true,
   "skip_h1_title": true,
   "title_cell": "Table of Contents",
   "title_sidebar": "Contents",
   "toc_cell": false,
   "toc_position": {},
   "toc_section_display": true,
   "toc_window_display": false
  }
 },
 "nbformat": 4,
 "nbformat_minor": 0
}
