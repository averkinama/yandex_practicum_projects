{
 "cells": [
  {
   "cell_type": "markdown",
   "metadata": {
    "deletable": false,
    "editable": false,
    "id": "t00fl5UqGwCy",
    "tags": [
     "1e3c4ba5-e41c-441c-b80d-91af102cc6cd"
    ]
   },
   "source": [
    "\n",
    "# Кейс спринта\n",
    "\n",
    "\n",
    "Заказчик проекта — «Карта ДТП». Это некоммерческий проект, посвящённый проблеме дорожно-транспортных происшествий в России. Цель проекта — повысить безопасность на дорогах.\n",
    "\n",
    "«Карта ДТП» помогает выявлять реальные причины ДТП, оценивать уровень развития инфраструктуры, а также разрабатывать качественные решения и программы по повышению безопасности на улицах и дорогах. Заказчик хочет собирать данные более высокого качества и ожидает от вас рекомендаций: на какие проблемы или особенности обратить внимание.\n",
    "\n",
    "## Что нужно сделать\n",
    "\n",
    "Вам необходимо проверить, встречаются ли в данных дубликаты и пропуски. Это поможет заказчикам собирать более качественные данные.\n",
    "\n",
    "Вам также понадобится ответить на следующие вопросы:\n",
    "\n",
    "- как менялось число ДТП по временным промежуткам;\n",
    "\n",
    "- различается ли число ДТП для групп водителей с разным стажем.\n",
    "\n",
    "\n",
    "## Описание данных\n",
    "\n",
    "Данные `Kirovskaya_oblast.csv`, `Moscowskaya_oblast.csv` содержат информацию ДТП:\n",
    "\n",
    "* `geometry.coordinates` — координаты ДТП;\n",
    "\n",
    "* `id` — идентификатор ДТП;\n",
    "\n",
    "*  `properties.tags` — тег происшествия;\n",
    "\n",
    "*  `properties.light` — освещённость;\n",
    "\n",
    "*  `properties.point.lat` — широта;\n",
    "\n",
    "*  `properties.point.long` — долгота;\n",
    "\n",
    "*  `properties.nearby` — ближайшие объекты;\n",
    "\n",
    "*  `properties.region` — регион;\n",
    "\n",
    "*  `properties.scheme` — схема ДТП;\n",
    "\n",
    "*  `properties.address` — ближайший адрес;\n",
    "\n",
    "*  `properties.weather` — погода;\n",
    "\n",
    "*  `properties.category` — категория ДТП;\n",
    "\n",
    "*  `properties.datetime` — дата и время ДТП;\n",
    "\n",
    "*  `properties.injured_count` — число пострадавших;\n",
    "\n",
    "*  `properties.parent_region` — область;\n",
    "\n",
    "*  `properties.road_conditions` — состояние покрытия;\n",
    "\n",
    "*  `properties.participants_count` — число участников;\n",
    "\n",
    "*  `properties.participant_categories` — категории участников.\n",
    "\n",
    "`Moscowskaya_oblast_participiants.csv`, `Kirovskaya_oblast_participiants.csv` — сведения об участниках ДТП:\n",
    "\n",
    "* `role` — роль;\n",
    "\n",
    "* `gender` — пол;\n",
    "\n",
    "* `violations` — какие правила дорожного движения были нарушены конкретным участником;\n",
    "\n",
    "* `health_status` — состояние здоровья после  ДТП;\n",
    "\n",
    "* `years_of_driving_experience` — число лет опыта;\n",
    "\n",
    "* `id` — идентификатор ДТП.\n",
    "\n",
    "\n",
    "`Kirovskaya_oblast_vehicles.csv`, `Moscowskaya_oblast_vehicles.csv` — сведения о транспортных средствах:\n",
    "\n",
    "* `year` — год выпуска;\n",
    "\n",
    "* `brand` — марка транспортного средства;\n",
    "\n",
    "* `color` — цвет;\n",
    "\n",
    "* `model` — модель;\n",
    "\n",
    "* `category` — категория;\n",
    "\n",
    "* `id` — идентификатор ДТП."
   ]
  },
  {
   "cell_type": "markdown",
   "metadata": {
    "id": "D6zhNgF-GEQu"
   },
   "source": [
    "## Цели и задачи проекта\n",
    "\n",
    "Цель: Провести предобработку данных для заказчика, на уровне, необходимом для решения аналитических вопросов проекта, и разрабоать рекомендации по работе с проблемами, которые смогут повлиять на дальнейшую работу заказчика с данными.\n",
    "\n",
    "Задачи:\n",
    "1. Выгрузить данные датасетов и описать их, выявить проблемы, понятные и видимые на данном этапе.\n",
    "2. Заменить названия (метки) столбуов на оптимальные для дальнейшей работы.\n",
    "3. Проверить пропуски в данных, дать рекомендации по восстановлению утерянных данных и возможном заполнении пропусков для более эффективного анализа.\n",
    "4. Проверить явные и неявные дубликаты, описать найденные проблемы, преобразовать неявные дубликаты и избавиться от явных.\n",
    "5. Проверить типы данных и при необходимости оптимизировать их. Возможно к заполнению некоторых пропусков придется вернуться на данном этапе.\n",
    "6. Изучить число ДТП по дням недели и месяцам, выявить, когда ДТП случаются чаще и реже и предположить причины.\n",
    "7. Изучить возможные категории водителей, их стаж и число ДТП. Попробовать найти взаимосвязь между категорией водителя - стажом - числом ДТП, обозначить причины результатов.\n",
    "8. Изучить число аварий по Кировской (Киров входит в численность) и Московской области (Москва исключена), обозначить, где их больше в относительном выражении (в пересчёте на 100 тысяч жителей) и почему."
   ]
  },
  {
   "cell_type": "markdown",
   "metadata": {
    "id": "BTllBf46GEQv"
   },
   "source": [
    "## Содержание проекта\n",
    "\n",
    "5 Проверка ошибок в данных и их предобработка\n",
    "- 5.1 Выгрузка данных и знакомство с ними\n",
    "- 5.2 Замена названий (меток) столбцов на оптимальные для работы\n",
    "- 5.3 Проверка пропусков в данных\n",
    "- 5.4 Наличие явных и неявных дубликатов в данных\n",
    "- 5.5 Проверка корректности типов данных\n",
    "\n",
    "6  Исследовательский анализ\n",
    "- 6.1  Какое число ДТП случилось в каждый день недели? Какое число ДТП случилось в каждый месяц?\n",
    "- 6.2  Категории водителей по стажу. Встречаются ли категории, которые разительно отличаются по числу ДТП?\n",
    "- 6.3  Как менялось число аварий в Кировской (Киров входит в численность) и Московской области (Москва исключена)? Где аварий больше в относительном выражении — в пересчёте на 100 тысяч жителей?\n",
    "\n",
    "Итоговые выводы\n"
   ]
  },
  {
   "cell_type": "markdown",
   "metadata": {
    "id": "igXM2EUwJQeu"
   },
   "source": [
    "## Проверка ошибок в данных и их предобработка\n",
    "\n"
   ]
  },
  {
   "cell_type": "markdown",
   "metadata": {
    "id": "CDv9TrLVGEQv"
   },
   "source": [
    "### Выгрузка данных и знакомство с ними"
   ]
  },
  {
   "cell_type": "code",
   "execution_count": 80,
   "metadata": {
    "id": "AbAX7VOIGEQv"
   },
   "outputs": [],
   "source": [
    "# Импортируем необходимые библиотеки\n",
    "import pandas as pd"
   ]
  },
  {
   "cell_type": "code",
   "execution_count": 81,
   "metadata": {},
   "outputs": [],
   "source": [
    "# Эта ячейка исправит проблему SSL если она есть\n",
    "import ssl\n",
    "try:\n",
    "    # Пробуем нормальный режим\n",
    "    _create_unverified_https_context = ssl._create_unverified_context\n",
    "except AttributeError:\n",
    "    pass\n",
    "else:\n",
    "    ssl._create_default_https_context = _create_unverified_https_context"
   ]
  },
  {
   "cell_type": "code",
   "execution_count": 82,
   "metadata": {
    "id": "RwLRqJVIGEQw"
   },
   "outputs": [],
   "source": [
    "# Загружаем датасеты с информацией о ДТП в Кировской и Московской областях\n",
    "kirovskaya_oblast = pd.read_csv('https://code.s3.yandex.net/datasets/Kirovskaya_oblast.csv')\n",
    "moscowskaya_oblast = pd.read_csv('https://code.s3.yandex.net/datasets/Moscowskaya_oblast.csv')\n",
    "\n",
    "# Загружаем датасеты с информацией об участниках ДТП в Кировской и Московской областях\n",
    "kirovskaya_oblast_participiants = pd.read_csv('https://code.s3.yandex.net/datasets/Kirovskaya_oblast_participiants.csv')\n",
    "moscowskaya_oblast_participiants = pd.read_csv('https://code.s3.yandex.net/datasets/Moscowskaya_oblast_participiants.csv')\n",
    "\n",
    "# Загружаем датасеты с информацией о транспортных средствах в Кировской и Московской областях\n",
    "kirovskaya_oblast_vehicles = pd.read_csv('https://code.s3.yandex.net/datasets/Kirovskaya_oblast_vehicles.csv')\n",
    "moscowskaya_oblast_vehicles = pd.read_csv('https://code.s3.yandex.net/datasets/Moscowskaya_oblast_vehicles.csv')"
   ]
  },
  {
   "cell_type": "markdown",
   "metadata": {
    "id": "0DTcy9yNGEQw"
   },
   "source": [
    "Выгрузим первые строчки каждого датасета, информацию о них, познакомимся с ними. После каждого выгруженного датасета кратко опишем проблемы оформления и особенности, в конце суммируем их и найдем решения."
   ]
  },
  {
   "cell_type": "code",
   "execution_count": 83,
   "metadata": {
    "colab": {
     "base_uri": "https://localhost:8080/",
     "height": 285
    },
    "executionInfo": {
     "elapsed": 243,
     "status": "ok",
     "timestamp": 1756309868834,
     "user": {
      "displayName": "Maria Averkina",
      "userId": "01722641797731955161"
     },
     "user_tz": 420
    },
    "id": "5YdoRl4OGEQw",
    "outputId": "d6df8c3d-3d2c-4b1d-e48a-37d5336c9cee",
    "scrolled": true
   },
   "outputs": [
    {
     "data": {
      "text/html": [
       "<div>\n",
       "<style scoped>\n",
       "    .dataframe tbody tr th:only-of-type {\n",
       "        vertical-align: middle;\n",
       "    }\n",
       "\n",
       "    .dataframe tbody tr th {\n",
       "        vertical-align: top;\n",
       "    }\n",
       "\n",
       "    .dataframe thead th {\n",
       "        text-align: right;\n",
       "    }\n",
       "</style>\n",
       "<table border=\"1\" class=\"dataframe\">\n",
       "  <thead>\n",
       "    <tr style=\"text-align: right;\">\n",
       "      <th></th>\n",
       "      <th>geometry.coordinates</th>\n",
       "      <th>id</th>\n",
       "      <th>properties.tags</th>\n",
       "      <th>properties.light</th>\n",
       "      <th>properties.point.lat</th>\n",
       "      <th>properties.point.long</th>\n",
       "      <th>properties.nearby</th>\n",
       "      <th>properties.region</th>\n",
       "      <th>properties.scheme</th>\n",
       "      <th>properties.address</th>\n",
       "      <th>properties.weather</th>\n",
       "      <th>properties.category</th>\n",
       "      <th>properties.datetime</th>\n",
       "      <th>properties.injured_count</th>\n",
       "      <th>properties.parent_region</th>\n",
       "      <th>properties.road_conditions</th>\n",
       "      <th>properties.participants_count</th>\n",
       "      <th>properties.participant_categories</th>\n",
       "    </tr>\n",
       "  </thead>\n",
       "  <tbody>\n",
       "    <tr>\n",
       "      <th>0</th>\n",
       "      <td>[47.875603, 57.24379]</td>\n",
       "      <td>1983180</td>\n",
       "      <td>Дорожно-транспортные происшествия</td>\n",
       "      <td>Светлое время суток</td>\n",
       "      <td>57.243790</td>\n",
       "      <td>47.875603</td>\n",
       "      <td>[]</td>\n",
       "      <td>Яранский район</td>\n",
       "      <td>600.0</td>\n",
       "      <td>Р-176 Вятка Чебоксары - Йошкар-Ола - Киров - С...</td>\n",
       "      <td>['Дождь']</td>\n",
       "      <td>Опрокидывание</td>\n",
       "      <td>2017-07-01 18:00:00</td>\n",
       "      <td>1</td>\n",
       "      <td>Кировская область</td>\n",
       "      <td>['Мокрое']</td>\n",
       "      <td>3</td>\n",
       "      <td>['Все участники']</td>\n",
       "    </tr>\n",
       "    <tr>\n",
       "      <th>1</th>\n",
       "      <td>[47.87903, 57.304807]</td>\n",
       "      <td>2889433</td>\n",
       "      <td>Дорожно-транспортные происшествия</td>\n",
       "      <td>Светлое время суток</td>\n",
       "      <td>57.304807</td>\n",
       "      <td>47.879030</td>\n",
       "      <td>['Административные здания', 'Нерегулируемый пе...</td>\n",
       "      <td>Яранский район</td>\n",
       "      <td>710.0</td>\n",
       "      <td>г Яранск, ул Кирова, 10</td>\n",
       "      <td>['Ясно']</td>\n",
       "      <td>Наезд на пешехода</td>\n",
       "      <td>2023-09-12 17:10:00</td>\n",
       "      <td>1</td>\n",
       "      <td>Кировская область</td>\n",
       "      <td>['Сухое', 'Отсутствие, плохая различимость гор...</td>\n",
       "      <td>2</td>\n",
       "      <td>['Все участники', 'Пешеходы']</td>\n",
       "    </tr>\n",
       "    <tr>\n",
       "      <th>2</th>\n",
       "      <td>[47.840781, 57.297156]</td>\n",
       "      <td>2591208</td>\n",
       "      <td>Дорожно-транспортные происшествия</td>\n",
       "      <td>Сумерки</td>\n",
       "      <td>57.297156</td>\n",
       "      <td>47.840781</td>\n",
       "      <td>['Жилые дома индивидуальной застройки', 'Нерег...</td>\n",
       "      <td>Яранский район</td>\n",
       "      <td>NaN</td>\n",
       "      <td>г Яранск, ул Чапаева, 80</td>\n",
       "      <td>['Пасмурно']</td>\n",
       "      <td>Съезд с дороги</td>\n",
       "      <td>2021-07-02 21:25:00</td>\n",
       "      <td>1</td>\n",
       "      <td>Кировская область</td>\n",
       "      <td>['Мокрое']</td>\n",
       "      <td>1</td>\n",
       "      <td>['Все участники']</td>\n",
       "    </tr>\n",
       "  </tbody>\n",
       "</table>\n",
       "</div>"
      ],
      "text/plain": [
       "     geometry.coordinates       id                    properties.tags  \\\n",
       "0   [47.875603, 57.24379]  1983180  Дорожно-транспортные происшествия   \n",
       "1   [47.87903, 57.304807]  2889433  Дорожно-транспортные происшествия   \n",
       "2  [47.840781, 57.297156]  2591208  Дорожно-транспортные происшествия   \n",
       "\n",
       "      properties.light  properties.point.lat  properties.point.long  \\\n",
       "0  Светлое время суток             57.243790              47.875603   \n",
       "1  Светлое время суток             57.304807              47.879030   \n",
       "2              Сумерки             57.297156              47.840781   \n",
       "\n",
       "                                   properties.nearby properties.region  \\\n",
       "0                                                 []    Яранский район   \n",
       "1  ['Административные здания', 'Нерегулируемый пе...    Яранский район   \n",
       "2  ['Жилые дома индивидуальной застройки', 'Нерег...    Яранский район   \n",
       "\n",
       "   properties.scheme                                 properties.address  \\\n",
       "0              600.0  Р-176 Вятка Чебоксары - Йошкар-Ола - Киров - С...   \n",
       "1              710.0                            г Яранск, ул Кирова, 10   \n",
       "2                NaN                           г Яранск, ул Чапаева, 80   \n",
       "\n",
       "  properties.weather properties.category  properties.datetime  \\\n",
       "0          ['Дождь']       Опрокидывание  2017-07-01 18:00:00   \n",
       "1           ['Ясно']   Наезд на пешехода  2023-09-12 17:10:00   \n",
       "2       ['Пасмурно']      Съезд с дороги  2021-07-02 21:25:00   \n",
       "\n",
       "   properties.injured_count properties.parent_region  \\\n",
       "0                         1        Кировская область   \n",
       "1                         1        Кировская область   \n",
       "2                         1        Кировская область   \n",
       "\n",
       "                          properties.road_conditions  \\\n",
       "0                                         ['Мокрое']   \n",
       "1  ['Сухое', 'Отсутствие, плохая различимость гор...   \n",
       "2                                         ['Мокрое']   \n",
       "\n",
       "   properties.participants_count properties.participant_categories  \n",
       "0                              3                 ['Все участники']  \n",
       "1                              2     ['Все участники', 'Пешеходы']  \n",
       "2                              1                 ['Все участники']  "
      ]
     },
     "execution_count": 83,
     "metadata": {},
     "output_type": "execute_result"
    }
   ],
   "source": [
    "kirovskaya_oblast.head(3)"
   ]
  },
  {
   "cell_type": "code",
   "execution_count": 84,
   "metadata": {
    "colab": {
     "base_uri": "https://localhost:8080/"
    },
    "executionInfo": {
     "elapsed": 41,
     "status": "ok",
     "timestamp": 1756309868876,
     "user": {
      "displayName": "Maria Averkina",
      "userId": "01722641797731955161"
     },
     "user_tz": 420
    },
    "id": "CkskEM9nGEQw",
    "outputId": "4267008d-4aeb-4376-808f-dc9d2cef15f7"
   },
   "outputs": [
    {
     "name": "stdout",
     "output_type": "stream",
     "text": [
      "<class 'pandas.core.frame.DataFrame'>\n",
      "RangeIndex: 14517 entries, 0 to 14516\n",
      "Data columns (total 18 columns):\n",
      " #   Column                             Non-Null Count  Dtype  \n",
      "---  ------                             --------------  -----  \n",
      " 0   geometry.coordinates               14517 non-null  object \n",
      " 1   id                                 14517 non-null  int64  \n",
      " 2   properties.tags                    14517 non-null  object \n",
      " 3   properties.light                   14517 non-null  object \n",
      " 4   properties.point.lat               14485 non-null  float64\n",
      " 5   properties.point.long              14485 non-null  float64\n",
      " 6   properties.nearby                  14517 non-null  object \n",
      " 7   properties.region                  14517 non-null  object \n",
      " 8   properties.scheme                  13380 non-null  float64\n",
      " 9   properties.address                 13843 non-null  object \n",
      " 10  properties.weather                 14517 non-null  object \n",
      " 11  properties.category                14517 non-null  object \n",
      " 12  properties.datetime                14517 non-null  object \n",
      " 13  properties.injured_count           14517 non-null  int64  \n",
      " 14  properties.parent_region           14517 non-null  object \n",
      " 15  properties.road_conditions         14517 non-null  object \n",
      " 16  properties.participants_count      14517 non-null  int64  \n",
      " 17  properties.participant_categories  14517 non-null  object \n",
      "dtypes: float64(3), int64(3), object(12)\n",
      "memory usage: 2.0+ MB\n"
     ]
    }
   ],
   "source": [
    "kirovskaya_oblast.info()"
   ]
  },
  {
   "cell_type": "code",
   "execution_count": 85,
   "metadata": {
    "colab": {
     "base_uri": "https://localhost:8080/",
     "height": 285
    },
    "executionInfo": {
     "elapsed": 705,
     "status": "ok",
     "timestamp": 1756309869581,
     "user": {
      "displayName": "Maria Averkina",
      "userId": "01722641797731955161"
     },
     "user_tz": 420
    },
    "id": "ILumZV1UGEQw",
    "outputId": "d5d0245e-1e79-4e62-a0ae-2ba527760cf3"
   },
   "outputs": [
    {
     "data": {
      "text/html": [
       "<div>\n",
       "<style scoped>\n",
       "    .dataframe tbody tr th:only-of-type {\n",
       "        vertical-align: middle;\n",
       "    }\n",
       "\n",
       "    .dataframe tbody tr th {\n",
       "        vertical-align: top;\n",
       "    }\n",
       "\n",
       "    .dataframe thead th {\n",
       "        text-align: right;\n",
       "    }\n",
       "</style>\n",
       "<table border=\"1\" class=\"dataframe\">\n",
       "  <thead>\n",
       "    <tr style=\"text-align: right;\">\n",
       "      <th></th>\n",
       "      <th>geometry.coordinates</th>\n",
       "      <th>id</th>\n",
       "      <th>properties.tags</th>\n",
       "      <th>properties.light</th>\n",
       "      <th>properties.point.lat</th>\n",
       "      <th>properties.point.long</th>\n",
       "      <th>properties.nearby</th>\n",
       "      <th>properties.region</th>\n",
       "      <th>properties.scheme</th>\n",
       "      <th>properties.address</th>\n",
       "      <th>properties.weather</th>\n",
       "      <th>properties.category</th>\n",
       "      <th>properties.datetime</th>\n",
       "      <th>properties.injured_count</th>\n",
       "      <th>properties.parent_region</th>\n",
       "      <th>properties.road_conditions</th>\n",
       "      <th>properties.participants_count</th>\n",
       "      <th>properties.participant_categories</th>\n",
       "    </tr>\n",
       "  </thead>\n",
       "  <tbody>\n",
       "    <tr>\n",
       "      <th>0</th>\n",
       "      <td>[37.5253, 55.9992]</td>\n",
       "      <td>2163589</td>\n",
       "      <td>['Дорожно-транспортные происшествия']</td>\n",
       "      <td>Светлое время суток</td>\n",
       "      <td>55.999200</td>\n",
       "      <td>37.525300</td>\n",
       "      <td>['Мост, эстакада, путепровод', 'Крупный торгов...</td>\n",
       "      <td>Мытищинский</td>\n",
       "      <td>NaN</td>\n",
       "      <td>ХЛЕБНИКОВО-РОГАЧЕВО, 0 км</td>\n",
       "      <td>['Ясно']</td>\n",
       "      <td>Столкновение</td>\n",
       "      <td>2019-01-31 09:05:00</td>\n",
       "      <td>1</td>\n",
       "      <td>Московская область</td>\n",
       "      <td>['Мокрое', 'Отсутствие, плохая различимость го...</td>\n",
       "      <td>3</td>\n",
       "      <td>['Все участники']</td>\n",
       "    </tr>\n",
       "    <tr>\n",
       "      <th>1</th>\n",
       "      <td>[37.058966, 55.788688]</td>\n",
       "      <td>2155398</td>\n",
       "      <td>['Дорожно-транспортные происшествия', 'ДТП и п...</td>\n",
       "      <td>В темное время суток, освещение включено</td>\n",
       "      <td>55.788688</td>\n",
       "      <td>37.058966</td>\n",
       "      <td>[]</td>\n",
       "      <td>Истринский</td>\n",
       "      <td>70.0</td>\n",
       "      <td>М-9 Балтия Москва - Волоколамск - граница с Ла...</td>\n",
       "      <td>['Ясно']</td>\n",
       "      <td>Столкновение</td>\n",
       "      <td>2018-09-22 05:00:00</td>\n",
       "      <td>2</td>\n",
       "      <td>Московская область</td>\n",
       "      <td>['Сухое']</td>\n",
       "      <td>4</td>\n",
       "      <td>['Все участники', 'Дети']</td>\n",
       "    </tr>\n",
       "    <tr>\n",
       "      <th>2</th>\n",
       "      <td>[37.4419, 56.0081]</td>\n",
       "      <td>2163319</td>\n",
       "      <td>['Дорожно-транспортные происшествия']</td>\n",
       "      <td>В темное время суток, освещение включено</td>\n",
       "      <td>56.008100</td>\n",
       "      <td>37.441900</td>\n",
       "      <td>['Многоквартирные жилые дома', 'Остановка обще...</td>\n",
       "      <td>Лобня</td>\n",
       "      <td>820.0</td>\n",
       "      <td>г Лобня, ул Ленина, 43</td>\n",
       "      <td>['Пасмурно']</td>\n",
       "      <td>Наезд на пешехода</td>\n",
       "      <td>2019-01-24 19:30:00</td>\n",
       "      <td>1</td>\n",
       "      <td>Московская область</td>\n",
       "      <td>['Обработанное противогололедными материалами']</td>\n",
       "      <td>2</td>\n",
       "      <td>['Все участники', 'Пешеходы']</td>\n",
       "    </tr>\n",
       "  </tbody>\n",
       "</table>\n",
       "</div>"
      ],
      "text/plain": [
       "     geometry.coordinates       id  \\\n",
       "0      [37.5253, 55.9992]  2163589   \n",
       "1  [37.058966, 55.788688]  2155398   \n",
       "2      [37.4419, 56.0081]  2163319   \n",
       "\n",
       "                                     properties.tags  \\\n",
       "0              ['Дорожно-транспортные происшествия']   \n",
       "1  ['Дорожно-транспортные происшествия', 'ДТП и п...   \n",
       "2              ['Дорожно-транспортные происшествия']   \n",
       "\n",
       "                           properties.light  properties.point.lat  \\\n",
       "0                       Светлое время суток             55.999200   \n",
       "1  В темное время суток, освещение включено             55.788688   \n",
       "2  В темное время суток, освещение включено             56.008100   \n",
       "\n",
       "   properties.point.long                                  properties.nearby  \\\n",
       "0              37.525300  ['Мост, эстакада, путепровод', 'Крупный торгов...   \n",
       "1              37.058966                                                 []   \n",
       "2              37.441900  ['Многоквартирные жилые дома', 'Остановка обще...   \n",
       "\n",
       "  properties.region  properties.scheme  \\\n",
       "0       Мытищинский                NaN   \n",
       "1        Истринский               70.0   \n",
       "2             Лобня              820.0   \n",
       "\n",
       "                                  properties.address properties.weather  \\\n",
       "0                          ХЛЕБНИКОВО-РОГАЧЕВО, 0 км           ['Ясно']   \n",
       "1  М-9 Балтия Москва - Волоколамск - граница с Ла...           ['Ясно']   \n",
       "2                             г Лобня, ул Ленина, 43       ['Пасмурно']   \n",
       "\n",
       "  properties.category  properties.datetime  properties.injured_count  \\\n",
       "0        Столкновение  2019-01-31 09:05:00                         1   \n",
       "1        Столкновение  2018-09-22 05:00:00                         2   \n",
       "2   Наезд на пешехода  2019-01-24 19:30:00                         1   \n",
       "\n",
       "  properties.parent_region                         properties.road_conditions  \\\n",
       "0       Московская область  ['Мокрое', 'Отсутствие, плохая различимость го...   \n",
       "1       Московская область                                          ['Сухое']   \n",
       "2       Московская область    ['Обработанное противогололедными материалами']   \n",
       "\n",
       "   properties.participants_count properties.participant_categories  \n",
       "0                              3                 ['Все участники']  \n",
       "1                              4         ['Все участники', 'Дети']  \n",
       "2                              2     ['Все участники', 'Пешеходы']  "
      ]
     },
     "execution_count": 85,
     "metadata": {},
     "output_type": "execute_result"
    }
   ],
   "source": [
    "moscowskaya_oblast.head(3)"
   ]
  },
  {
   "cell_type": "code",
   "execution_count": 86,
   "metadata": {
    "colab": {
     "base_uri": "https://localhost:8080/"
    },
    "executionInfo": {
     "elapsed": 54,
     "status": "ok",
     "timestamp": 1756309869637,
     "user": {
      "displayName": "Maria Averkina",
      "userId": "01722641797731955161"
     },
     "user_tz": 420
    },
    "id": "DOs_mTwQGEQw",
    "outputId": "8476020d-426c-451d-eee3-28f47aff10af"
   },
   "outputs": [
    {
     "name": "stdout",
     "output_type": "stream",
     "text": [
      "<class 'pandas.core.frame.DataFrame'>\n",
      "RangeIndex: 45618 entries, 0 to 45617\n",
      "Data columns (total 18 columns):\n",
      " #   Column                             Non-Null Count  Dtype  \n",
      "---  ------                             --------------  -----  \n",
      " 0   geometry.coordinates               45618 non-null  object \n",
      " 1   id                                 45618 non-null  int64  \n",
      " 2   properties.tags                    45618 non-null  object \n",
      " 3   properties.light                   45618 non-null  object \n",
      " 4   properties.point.lat               45615 non-null  float64\n",
      " 5   properties.point.long              45615 non-null  float64\n",
      " 6   properties.nearby                  45618 non-null  object \n",
      " 7   properties.region                  45618 non-null  object \n",
      " 8   properties.scheme                  44235 non-null  float64\n",
      " 9   properties.address                 43862 non-null  object \n",
      " 10  properties.weather                 45618 non-null  object \n",
      " 11  properties.category                45618 non-null  object \n",
      " 12  properties.datetime                45618 non-null  object \n",
      " 13  properties.injured_count           45618 non-null  int64  \n",
      " 14  properties.parent_region           45618 non-null  object \n",
      " 15  properties.road_conditions         45618 non-null  object \n",
      " 16  properties.participants_count      45618 non-null  int64  \n",
      " 17  properties.participant_categories  45618 non-null  object \n",
      "dtypes: float64(3), int64(3), object(12)\n",
      "memory usage: 6.3+ MB\n"
     ]
    }
   ],
   "source": [
    "moscowskaya_oblast.info()"
   ]
  },
  {
   "cell_type": "markdown",
   "metadata": {
    "id": "C3ll32mzGEQw"
   },
   "source": [
    "Проблемы с датасетами:\n",
    "- Всего 14517 строк и 18 столбцов (`kirovskaya_oblast`).\n",
    "- Всего 45618 строк и 18 столбцов (`moscowskaya_oblast`).\n",
    "- Названия столбцов оформлены не в едином стиле. Далее приведем их к единому стилю snake case.\n",
    "- Пропуски точно содержатся в столбцах `properties.point.lat`, `properties.point.long`, `properties.scheme`, `properties.address`.\n",
    "- Некоторые столбцы (такие как `properties.nearby`, `properties.weather `, `properties.road_conditions`, `properties.participant_categories` и `geometry.coordinates`) имеют такое оформление, что информация, которую они содержат, находится в квдартаных скобка [...]. То есть являются списками. Все они, вроде бы не содержат пропусков, но на самом деле они могут быть. Например, это заметно по столбцу `properties.nearby`, пропуск обозначен как пустые квадратные скобки, что делает ячейку по сути не пустой, но не информативной.\n",
    "- Возможно будет оптимальнее изменить тип данных в столбце `properties.scheme` с `float64` на `int64`, так как судя по строчкам, там содержатся целые числа. Дополнительно изучим этот столбец перед сменой типа данных.\n",
    "- Возможно будет оптимальнее изменить тип данных в столбце `properties.datetime` с `object` на `datetime`, так как столбец по своей сути отображает дату и время ДТП."
   ]
  },
  {
   "cell_type": "code",
   "execution_count": 87,
   "metadata": {
    "colab": {
     "base_uri": "https://localhost:8080/",
     "height": 178
    },
    "executionInfo": {
     "elapsed": 136,
     "status": "ok",
     "timestamp": 1756309869774,
     "user": {
      "displayName": "Maria Averkina",
      "userId": "01722641797731955161"
     },
     "user_tz": 420
    },
    "id": "7_-FX-wSGEQx",
    "outputId": "4532a636-1d0d-4028-d4b2-357f0f418493"
   },
   "outputs": [
    {
     "data": {
      "text/html": [
       "<div>\n",
       "<style scoped>\n",
       "    .dataframe tbody tr th:only-of-type {\n",
       "        vertical-align: middle;\n",
       "    }\n",
       "\n",
       "    .dataframe tbody tr th {\n",
       "        vertical-align: top;\n",
       "    }\n",
       "\n",
       "    .dataframe thead th {\n",
       "        text-align: right;\n",
       "    }\n",
       "</style>\n",
       "<table border=\"1\" class=\"dataframe\">\n",
       "  <thead>\n",
       "    <tr style=\"text-align: right;\">\n",
       "      <th></th>\n",
       "      <th>role</th>\n",
       "      <th>gender</th>\n",
       "      <th>violations</th>\n",
       "      <th>health_status</th>\n",
       "      <th>years_of_driving_experience</th>\n",
       "      <th>id</th>\n",
       "    </tr>\n",
       "  </thead>\n",
       "  <tbody>\n",
       "    <tr>\n",
       "      <th>0</th>\n",
       "      <td>Водитель</td>\n",
       "      <td>Мужской</td>\n",
       "      <td>['Несоответствие скорости конкретным условиям ...</td>\n",
       "      <td>Раненый, находящийся (находившийся) на амбулат...</td>\n",
       "      <td>26.0</td>\n",
       "      <td>1983180</td>\n",
       "    </tr>\n",
       "    <tr>\n",
       "      <th>1</th>\n",
       "      <td>Водитель</td>\n",
       "      <td>Мужской</td>\n",
       "      <td>[]</td>\n",
       "      <td>Не пострадал</td>\n",
       "      <td>34.0</td>\n",
       "      <td>2889433</td>\n",
       "    </tr>\n",
       "    <tr>\n",
       "      <th>2</th>\n",
       "      <td>Пассажир</td>\n",
       "      <td>Мужской</td>\n",
       "      <td>[]</td>\n",
       "      <td>Раненый, находящийся (находившийся)  на амбула...</td>\n",
       "      <td>NaN</td>\n",
       "      <td>2591208</td>\n",
       "    </tr>\n",
       "  </tbody>\n",
       "</table>\n",
       "</div>"
      ],
      "text/plain": [
       "       role   gender                                         violations  \\\n",
       "0  Водитель  Мужской  ['Несоответствие скорости конкретным условиям ...   \n",
       "1  Водитель  Мужской                                                 []   \n",
       "2  Пассажир  Мужской                                                 []   \n",
       "\n",
       "                                       health_status  \\\n",
       "0  Раненый, находящийся (находившийся) на амбулат...   \n",
       "1                                       Не пострадал   \n",
       "2  Раненый, находящийся (находившийся)  на амбула...   \n",
       "\n",
       "   years_of_driving_experience       id  \n",
       "0                         26.0  1983180  \n",
       "1                         34.0  2889433  \n",
       "2                          NaN  2591208  "
      ]
     },
     "execution_count": 87,
     "metadata": {},
     "output_type": "execute_result"
    }
   ],
   "source": [
    "kirovskaya_oblast_participiants.head(3)"
   ]
  },
  {
   "cell_type": "code",
   "execution_count": 88,
   "metadata": {
    "colab": {
     "base_uri": "https://localhost:8080/"
    },
    "executionInfo": {
     "elapsed": 70,
     "status": "ok",
     "timestamp": 1756309869845,
     "user": {
      "displayName": "Maria Averkina",
      "userId": "01722641797731955161"
     },
     "user_tz": 420
    },
    "id": "bO_jIlQsGEQx",
    "outputId": "6092dc48-b8d7-4f42-ca1b-35ad381bf11b"
   },
   "outputs": [
    {
     "name": "stdout",
     "output_type": "stream",
     "text": [
      "<class 'pandas.core.frame.DataFrame'>\n",
      "RangeIndex: 31235 entries, 0 to 31234\n",
      "Data columns (total 6 columns):\n",
      " #   Column                       Non-Null Count  Dtype  \n",
      "---  ------                       --------------  -----  \n",
      " 0   role                         31235 non-null  object \n",
      " 1   gender                       30387 non-null  object \n",
      " 2   violations                   31235 non-null  object \n",
      " 3   health_status                31135 non-null  object \n",
      " 4   years_of_driving_experience  16909 non-null  float64\n",
      " 5   id                           31235 non-null  int64  \n",
      "dtypes: float64(1), int64(1), object(4)\n",
      "memory usage: 1.4+ MB\n"
     ]
    }
   ],
   "source": [
    "kirovskaya_oblast_participiants.info()"
   ]
  },
  {
   "cell_type": "code",
   "execution_count": 89,
   "metadata": {
    "colab": {
     "base_uri": "https://localhost:8080/",
     "height": 143
    },
    "executionInfo": {
     "elapsed": 340,
     "status": "ok",
     "timestamp": 1756309870184,
     "user": {
      "displayName": "Maria Averkina",
      "userId": "01722641797731955161"
     },
     "user_tz": 420
    },
    "id": "HtkA_inHGEQx",
    "outputId": "fb146015-713b-4fcc-af51-e689eb2d5b4b"
   },
   "outputs": [
    {
     "data": {
      "text/html": [
       "<div>\n",
       "<style scoped>\n",
       "    .dataframe tbody tr th:only-of-type {\n",
       "        vertical-align: middle;\n",
       "    }\n",
       "\n",
       "    .dataframe tbody tr th {\n",
       "        vertical-align: top;\n",
       "    }\n",
       "\n",
       "    .dataframe thead th {\n",
       "        text-align: right;\n",
       "    }\n",
       "</style>\n",
       "<table border=\"1\" class=\"dataframe\">\n",
       "  <thead>\n",
       "    <tr style=\"text-align: right;\">\n",
       "      <th></th>\n",
       "      <th>role</th>\n",
       "      <th>gender</th>\n",
       "      <th>violations</th>\n",
       "      <th>health_status</th>\n",
       "      <th>years_of_driving_experience</th>\n",
       "      <th>id</th>\n",
       "    </tr>\n",
       "  </thead>\n",
       "  <tbody>\n",
       "    <tr>\n",
       "      <th>0</th>\n",
       "      <td>Водитель</td>\n",
       "      <td>Мужской</td>\n",
       "      <td>[]</td>\n",
       "      <td>Не пострадал</td>\n",
       "      <td>13.0</td>\n",
       "      <td>2163589</td>\n",
       "    </tr>\n",
       "    <tr>\n",
       "      <th>1</th>\n",
       "      <td>Водитель</td>\n",
       "      <td>Мужской</td>\n",
       "      <td>[]</td>\n",
       "      <td>Не пострадал</td>\n",
       "      <td>13.0</td>\n",
       "      <td>2163589</td>\n",
       "    </tr>\n",
       "    <tr>\n",
       "      <th>2</th>\n",
       "      <td>Водитель</td>\n",
       "      <td>Мужской</td>\n",
       "      <td>['Неправильный выбор дистанции']</td>\n",
       "      <td>Не пострадал</td>\n",
       "      <td>5.0</td>\n",
       "      <td>2155398</td>\n",
       "    </tr>\n",
       "  </tbody>\n",
       "</table>\n",
       "</div>"
      ],
      "text/plain": [
       "       role   gender                        violations health_status  \\\n",
       "0  Водитель  Мужской                                []  Не пострадал   \n",
       "1  Водитель  Мужской                                []  Не пострадал   \n",
       "2  Водитель  Мужской  ['Неправильный выбор дистанции']  Не пострадал   \n",
       "\n",
       "   years_of_driving_experience       id  \n",
       "0                         13.0  2163589  \n",
       "1                         13.0  2163589  \n",
       "2                          5.0  2155398  "
      ]
     },
     "execution_count": 89,
     "metadata": {},
     "output_type": "execute_result"
    }
   ],
   "source": [
    "moscowskaya_oblast_participiants.head(3)"
   ]
  },
  {
   "cell_type": "code",
   "execution_count": 90,
   "metadata": {
    "colab": {
     "base_uri": "https://localhost:8080/"
    },
    "executionInfo": {
     "elapsed": 17,
     "status": "ok",
     "timestamp": 1756309870201,
     "user": {
      "displayName": "Maria Averkina",
      "userId": "01722641797731955161"
     },
     "user_tz": 420
    },
    "id": "hyGmsSiYGEQx",
    "outputId": "d4bb0447-40f4-42f1-d1ab-684a323db99b"
   },
   "outputs": [
    {
     "name": "stdout",
     "output_type": "stream",
     "text": [
      "<class 'pandas.core.frame.DataFrame'>\n",
      "RangeIndex: 95177 entries, 0 to 95176\n",
      "Data columns (total 6 columns):\n",
      " #   Column                       Non-Null Count  Dtype  \n",
      "---  ------                       --------------  -----  \n",
      " 0   role                         95177 non-null  object \n",
      " 1   gender                       93307 non-null  object \n",
      " 2   violations                   95177 non-null  object \n",
      " 3   health_status                95070 non-null  object \n",
      " 4   years_of_driving_experience  59679 non-null  float64\n",
      " 5   id                           95177 non-null  int64  \n",
      "dtypes: float64(1), int64(1), object(4)\n",
      "memory usage: 4.4+ MB\n"
     ]
    }
   ],
   "source": [
    "moscowskaya_oblast_participiants.info()"
   ]
  },
  {
   "cell_type": "markdown",
   "metadata": {
    "id": "uruP4wqBGEQx"
   },
   "source": [
    "Проблемы с датасетами:\n",
    "- Всего 31235 строк и 6 столбцов (`kirovskaya_oblast_participiants`).\n",
    "- Всего 95177 строк и 6 столбцов (`moscowskaya_oblast_participiants`)\n",
    "- Пропуски точно содержатся в столбцах `gender`,`health_status`,`years_of_driving_experience`.\n",
    "- Столбец `violations` имеет странное оформление, информация, которую он содержит, находится в квдартаных скобка [...]. Столбец, вроде бы не содержит пропусков, но на самом деле они могут быть. Пропуск обозначен как пустые квадратные скобки, что делает ячейку по сути не пустой, но не информативной.\n",
    "- Возможно будет оптимальнее изменить тип данных в столбце `years_of_driving_experience` с `float64` на `int64`, так как судя по строчкам, там содержатся целые числа. Дополнительно изучим этот столбец перед сменой типа данных."
   ]
  },
  {
   "cell_type": "code",
   "execution_count": 91,
   "metadata": {
    "colab": {
     "base_uri": "https://localhost:8080/",
     "height": 143
    },
    "executionInfo": {
     "elapsed": 33,
     "status": "ok",
     "timestamp": 1756309870236,
     "user": {
      "displayName": "Maria Averkina",
      "userId": "01722641797731955161"
     },
     "user_tz": 420
    },
    "id": "_39yT3xhGEQx",
    "outputId": "6f10f09a-73a2-44ea-9eab-452414c21d63"
   },
   "outputs": [
    {
     "data": {
      "text/html": [
       "<div>\n",
       "<style scoped>\n",
       "    .dataframe tbody tr th:only-of-type {\n",
       "        vertical-align: middle;\n",
       "    }\n",
       "\n",
       "    .dataframe tbody tr th {\n",
       "        vertical-align: top;\n",
       "    }\n",
       "\n",
       "    .dataframe thead th {\n",
       "        text-align: right;\n",
       "    }\n",
       "</style>\n",
       "<table border=\"1\" class=\"dataframe\">\n",
       "  <thead>\n",
       "    <tr style=\"text-align: right;\">\n",
       "      <th></th>\n",
       "      <th>year</th>\n",
       "      <th>brand</th>\n",
       "      <th>color</th>\n",
       "      <th>model</th>\n",
       "      <th>category</th>\n",
       "      <th>id</th>\n",
       "    </tr>\n",
       "  </thead>\n",
       "  <tbody>\n",
       "    <tr>\n",
       "      <th>0</th>\n",
       "      <td>2011.0</td>\n",
       "      <td>ВАЗ</td>\n",
       "      <td>Серый</td>\n",
       "      <td>Kalina</td>\n",
       "      <td>А-класс (особо малый) до 3,5 м</td>\n",
       "      <td>1983180</td>\n",
       "    </tr>\n",
       "    <tr>\n",
       "      <th>1</th>\n",
       "      <td>2005.0</td>\n",
       "      <td>CHEVROLET</td>\n",
       "      <td>Зеленый</td>\n",
       "      <td>Niva</td>\n",
       "      <td>С-класс (малый средний, компактный) до 4,3 м</td>\n",
       "      <td>2889433</td>\n",
       "    </tr>\n",
       "    <tr>\n",
       "      <th>2</th>\n",
       "      <td>2017.0</td>\n",
       "      <td>RENAULT</td>\n",
       "      <td>Синий</td>\n",
       "      <td>Logan</td>\n",
       "      <td>С-класс (малый средний, компактный) до 4,3 м</td>\n",
       "      <td>2591208</td>\n",
       "    </tr>\n",
       "  </tbody>\n",
       "</table>\n",
       "</div>"
      ],
      "text/plain": [
       "     year      brand    color   model  \\\n",
       "0  2011.0        ВАЗ    Серый  Kalina   \n",
       "1  2005.0  CHEVROLET  Зеленый    Niva   \n",
       "2  2017.0    RENAULT    Синий   Logan   \n",
       "\n",
       "                                       category       id  \n",
       "0                А-класс (особо малый) до 3,5 м  1983180  \n",
       "1  С-класс (малый средний, компактный) до 4,3 м  2889433  \n",
       "2  С-класс (малый средний, компактный) до 4,3 м  2591208  "
      ]
     },
     "execution_count": 91,
     "metadata": {},
     "output_type": "execute_result"
    }
   ],
   "source": [
    "kirovskaya_oblast_vehicles.head(3)"
   ]
  },
  {
   "cell_type": "code",
   "execution_count": 92,
   "metadata": {
    "colab": {
     "base_uri": "https://localhost:8080/"
    },
    "executionInfo": {
     "elapsed": 52,
     "status": "ok",
     "timestamp": 1756309870288,
     "user": {
      "displayName": "Maria Averkina",
      "userId": "01722641797731955161"
     },
     "user_tz": 420
    },
    "id": "dLiY8uxXGEQx",
    "outputId": "f0f76507-6d1f-466f-82f0-fdc8c0d6af7e",
    "scrolled": true
   },
   "outputs": [
    {
     "name": "stdout",
     "output_type": "stream",
     "text": [
      "<class 'pandas.core.frame.DataFrame'>\n",
      "RangeIndex: 20093 entries, 0 to 20092\n",
      "Data columns (total 6 columns):\n",
      " #   Column    Non-Null Count  Dtype  \n",
      "---  ------    --------------  -----  \n",
      " 0   year      19299 non-null  float64\n",
      " 1   brand     19318 non-null  object \n",
      " 2   color     19643 non-null  object \n",
      " 3   model     19318 non-null  object \n",
      " 4   category  20093 non-null  object \n",
      " 5   id        20093 non-null  int64  \n",
      "dtypes: float64(1), int64(1), object(4)\n",
      "memory usage: 942.0+ KB\n"
     ]
    }
   ],
   "source": [
    "kirovskaya_oblast_vehicles.info()"
   ]
  },
  {
   "cell_type": "code",
   "execution_count": 93,
   "metadata": {
    "colab": {
     "base_uri": "https://localhost:8080/",
     "height": 143
    },
    "executionInfo": {
     "elapsed": 110,
     "status": "ok",
     "timestamp": 1756309870360,
     "user": {
      "displayName": "Maria Averkina",
      "userId": "01722641797731955161"
     },
     "user_tz": 420
    },
    "id": "oYuabqXDGEQx",
    "outputId": "bec8b28d-458d-4d39-ee0e-56b61f92423e"
   },
   "outputs": [
    {
     "data": {
      "text/html": [
       "<div>\n",
       "<style scoped>\n",
       "    .dataframe tbody tr th:only-of-type {\n",
       "        vertical-align: middle;\n",
       "    }\n",
       "\n",
       "    .dataframe tbody tr th {\n",
       "        vertical-align: top;\n",
       "    }\n",
       "\n",
       "    .dataframe thead th {\n",
       "        text-align: right;\n",
       "    }\n",
       "</style>\n",
       "<table border=\"1\" class=\"dataframe\">\n",
       "  <thead>\n",
       "    <tr style=\"text-align: right;\">\n",
       "      <th></th>\n",
       "      <th>year</th>\n",
       "      <th>brand</th>\n",
       "      <th>color</th>\n",
       "      <th>model</th>\n",
       "      <th>category</th>\n",
       "      <th>id</th>\n",
       "    </tr>\n",
       "  </thead>\n",
       "  <tbody>\n",
       "    <tr>\n",
       "      <th>0</th>\n",
       "      <td>2012.0</td>\n",
       "      <td>ГАЗ</td>\n",
       "      <td>Белый</td>\n",
       "      <td>Прочие модели ГАЗ</td>\n",
       "      <td>Фургоны</td>\n",
       "      <td>2163589</td>\n",
       "    </tr>\n",
       "    <tr>\n",
       "      <th>1</th>\n",
       "      <td>2008.0</td>\n",
       "      <td>OPEL</td>\n",
       "      <td>Черный</td>\n",
       "      <td>Astra</td>\n",
       "      <td>С-класс (малый средний, компактный) до 4,3 м</td>\n",
       "      <td>2155398</td>\n",
       "    </tr>\n",
       "    <tr>\n",
       "      <th>2</th>\n",
       "      <td>2017.0</td>\n",
       "      <td>MAZDA</td>\n",
       "      <td>Черный</td>\n",
       "      <td>CX-5</td>\n",
       "      <td>В-класс (малый) до 3,9 м</td>\n",
       "      <td>2163319</td>\n",
       "    </tr>\n",
       "  </tbody>\n",
       "</table>\n",
       "</div>"
      ],
      "text/plain": [
       "     year  brand   color              model  \\\n",
       "0  2012.0    ГАЗ   Белый  Прочие модели ГАЗ   \n",
       "1  2008.0   OPEL  Черный              Astra   \n",
       "2  2017.0  MAZDA  Черный               CX-5   \n",
       "\n",
       "                                       category       id  \n",
       "0                                       Фургоны  2163589  \n",
       "1  С-класс (малый средний, компактный) до 4,3 м  2155398  \n",
       "2                      В-класс (малый) до 3,9 м  2163319  "
      ]
     },
     "execution_count": 93,
     "metadata": {},
     "output_type": "execute_result"
    }
   ],
   "source": [
    "moscowskaya_oblast_vehicles.head(3)"
   ]
  },
  {
   "cell_type": "code",
   "execution_count": 94,
   "metadata": {
    "colab": {
     "base_uri": "https://localhost:8080/"
    },
    "executionInfo": {
     "elapsed": 37,
     "status": "ok",
     "timestamp": 1756309870396,
     "user": {
      "displayName": "Maria Averkina",
      "userId": "01722641797731955161"
     },
     "user_tz": 420
    },
    "id": "8ubt4hFzGEQx",
    "outputId": "d5aed6ac-f4e1-4099-fdad-ddddf2df4e91"
   },
   "outputs": [
    {
     "name": "stdout",
     "output_type": "stream",
     "text": [
      "<class 'pandas.core.frame.DataFrame'>\n",
      "RangeIndex: 65606 entries, 0 to 65605\n",
      "Data columns (total 6 columns):\n",
      " #   Column    Non-Null Count  Dtype  \n",
      "---  ------    --------------  -----  \n",
      " 0   year      63860 non-null  float64\n",
      " 1   brand     64185 non-null  object \n",
      " 2   color     64765 non-null  object \n",
      " 3   model     64185 non-null  object \n",
      " 4   category  65606 non-null  object \n",
      " 5   id        65606 non-null  int64  \n",
      "dtypes: float64(1), int64(1), object(4)\n",
      "memory usage: 3.0+ MB\n"
     ]
    }
   ],
   "source": [
    "moscowskaya_oblast_vehicles.info()"
   ]
  },
  {
   "cell_type": "markdown",
   "metadata": {
    "id": "I2dVCZrZGEQx"
   },
   "source": [
    "Проблемы с датасетами:\n",
    "- Всего 20093 строк и 6 столбцов (`kirovskaya_oblast_vehicles`).\n",
    "- Всего 65606 строк и 6 столбцов (`moscowskaya_oblast_vehicles`).\n",
    "- Пропуски точно содержатся в столбцах `year`, `brand`, `color`, `model`.\n",
    "- Возможно будет оптимальнее изменить тип данных в столбце `year` с `float64` на `datetime` или `int64`, так как по своей стуи этот столбец может содержать только целые числа.\n",
    "- Столбец `brand` содержит названия марки транспортного средства в верхнем регистре, это надо будет исправить."
   ]
  },
  {
   "cell_type": "markdown",
   "metadata": {
    "id": "IeZjY9f9MPgb"
   },
   "source": [
    "### Замена названий (меток) столбцов на оптимальные для работы"
   ]
  },
  {
   "cell_type": "code",
   "execution_count": 95,
   "metadata": {
    "colab": {
     "base_uri": "https://localhost:8080/",
     "height": 471
    },
    "executionInfo": {
     "elapsed": 105,
     "status": "ok",
     "timestamp": 1756309870501,
     "user": {
      "displayName": "Maria Averkina",
      "userId": "01722641797731955161"
     },
     "user_tz": 420
    },
    "id": "ne5hioC-GEQy",
    "outputId": "a7b99b46-0c83-4b5c-fa44-9b703cb6c106"
   },
   "outputs": [
    {
     "data": {
      "text/html": [
       "<div>\n",
       "<style scoped>\n",
       "    .dataframe tbody tr th:only-of-type {\n",
       "        vertical-align: middle;\n",
       "    }\n",
       "\n",
       "    .dataframe tbody tr th {\n",
       "        vertical-align: top;\n",
       "    }\n",
       "\n",
       "    .dataframe thead th {\n",
       "        text-align: right;\n",
       "    }\n",
       "</style>\n",
       "<table border=\"1\" class=\"dataframe\">\n",
       "  <thead>\n",
       "    <tr style=\"text-align: right;\">\n",
       "      <th></th>\n",
       "      <th>coordinates</th>\n",
       "      <th>id</th>\n",
       "      <th>tags</th>\n",
       "      <th>light</th>\n",
       "      <th>point_lat</th>\n",
       "      <th>point_long</th>\n",
       "      <th>nearby</th>\n",
       "      <th>region</th>\n",
       "      <th>scheme</th>\n",
       "      <th>address</th>\n",
       "      <th>weather</th>\n",
       "      <th>category</th>\n",
       "      <th>datetime</th>\n",
       "      <th>injured_count</th>\n",
       "      <th>parent_region</th>\n",
       "      <th>road_conditions</th>\n",
       "      <th>participants_count</th>\n",
       "      <th>participant_categories</th>\n",
       "    </tr>\n",
       "  </thead>\n",
       "  <tbody>\n",
       "    <tr>\n",
       "      <th>0</th>\n",
       "      <td>[47.875603, 57.24379]</td>\n",
       "      <td>1983180</td>\n",
       "      <td>Дорожно-транспортные происшествия</td>\n",
       "      <td>Светлое время суток</td>\n",
       "      <td>57.24379</td>\n",
       "      <td>47.875603</td>\n",
       "      <td>[]</td>\n",
       "      <td>Яранский район</td>\n",
       "      <td>600.0</td>\n",
       "      <td>Р-176 Вятка Чебоксары - Йошкар-Ола - Киров - С...</td>\n",
       "      <td>['Дождь']</td>\n",
       "      <td>Опрокидывание</td>\n",
       "      <td>2017-07-01 18:00:00</td>\n",
       "      <td>1</td>\n",
       "      <td>Кировская область</td>\n",
       "      <td>['Мокрое']</td>\n",
       "      <td>3</td>\n",
       "      <td>['Все участники']</td>\n",
       "    </tr>\n",
       "  </tbody>\n",
       "</table>\n",
       "</div>"
      ],
      "text/plain": [
       "             coordinates       id                               tags  \\\n",
       "0  [47.875603, 57.24379]  1983180  Дорожно-транспортные происшествия   \n",
       "\n",
       "                 light  point_lat  point_long nearby          region  scheme  \\\n",
       "0  Светлое время суток   57.24379   47.875603     []  Яранский район   600.0   \n",
       "\n",
       "                                             address    weather  \\\n",
       "0  Р-176 Вятка Чебоксары - Йошкар-Ола - Киров - С...  ['Дождь']   \n",
       "\n",
       "        category             datetime  injured_count      parent_region  \\\n",
       "0  Опрокидывание  2017-07-01 18:00:00              1  Кировская область   \n",
       "\n",
       "  road_conditions  participants_count participant_categories  \n",
       "0      ['Мокрое']                   3      ['Все участники']  "
      ]
     },
     "metadata": {},
     "output_type": "display_data"
    },
    {
     "data": {
      "text/html": [
       "<div>\n",
       "<style scoped>\n",
       "    .dataframe tbody tr th:only-of-type {\n",
       "        vertical-align: middle;\n",
       "    }\n",
       "\n",
       "    .dataframe tbody tr th {\n",
       "        vertical-align: top;\n",
       "    }\n",
       "\n",
       "    .dataframe thead th {\n",
       "        text-align: right;\n",
       "    }\n",
       "</style>\n",
       "<table border=\"1\" class=\"dataframe\">\n",
       "  <thead>\n",
       "    <tr style=\"text-align: right;\">\n",
       "      <th></th>\n",
       "      <th>coordinates</th>\n",
       "      <th>id</th>\n",
       "      <th>tags</th>\n",
       "      <th>light</th>\n",
       "      <th>point_lat</th>\n",
       "      <th>point_long</th>\n",
       "      <th>nearby</th>\n",
       "      <th>region</th>\n",
       "      <th>scheme</th>\n",
       "      <th>address</th>\n",
       "      <th>weather</th>\n",
       "      <th>category</th>\n",
       "      <th>datetime</th>\n",
       "      <th>injured_count</th>\n",
       "      <th>parent_region</th>\n",
       "      <th>road_conditions</th>\n",
       "      <th>participants_count</th>\n",
       "      <th>participant_categories</th>\n",
       "    </tr>\n",
       "  </thead>\n",
       "  <tbody>\n",
       "    <tr>\n",
       "      <th>0</th>\n",
       "      <td>[37.5253, 55.9992]</td>\n",
       "      <td>2163589</td>\n",
       "      <td>['Дорожно-транспортные происшествия']</td>\n",
       "      <td>Светлое время суток</td>\n",
       "      <td>55.9992</td>\n",
       "      <td>37.5253</td>\n",
       "      <td>['Мост, эстакада, путепровод', 'Крупный торгов...</td>\n",
       "      <td>Мытищинский</td>\n",
       "      <td>NaN</td>\n",
       "      <td>ХЛЕБНИКОВО-РОГАЧЕВО, 0 км</td>\n",
       "      <td>['Ясно']</td>\n",
       "      <td>Столкновение</td>\n",
       "      <td>2019-01-31 09:05:00</td>\n",
       "      <td>1</td>\n",
       "      <td>Московская область</td>\n",
       "      <td>['Мокрое', 'Отсутствие, плохая различимость го...</td>\n",
       "      <td>3</td>\n",
       "      <td>['Все участники']</td>\n",
       "    </tr>\n",
       "  </tbody>\n",
       "</table>\n",
       "</div>"
      ],
      "text/plain": [
       "          coordinates       id                                   tags  \\\n",
       "0  [37.5253, 55.9992]  2163589  ['Дорожно-транспортные происшествия']   \n",
       "\n",
       "                 light  point_lat  point_long  \\\n",
       "0  Светлое время суток    55.9992     37.5253   \n",
       "\n",
       "                                              nearby       region  scheme  \\\n",
       "0  ['Мост, эстакада, путепровод', 'Крупный торгов...  Мытищинский     NaN   \n",
       "\n",
       "                     address   weather      category             datetime  \\\n",
       "0  ХЛЕБНИКОВО-РОГАЧЕВО, 0 км  ['Ясно']  Столкновение  2019-01-31 09:05:00   \n",
       "\n",
       "   injured_count       parent_region  \\\n",
       "0              1  Московская область   \n",
       "\n",
       "                                     road_conditions  participants_count  \\\n",
       "0  ['Мокрое', 'Отсутствие, плохая различимость го...                   3   \n",
       "\n",
       "  participant_categories  \n",
       "0      ['Все участники']  "
      ]
     },
     "metadata": {},
     "output_type": "display_data"
    },
    {
     "data": {
      "text/html": [
       "<div>\n",
       "<style scoped>\n",
       "    .dataframe tbody tr th:only-of-type {\n",
       "        vertical-align: middle;\n",
       "    }\n",
       "\n",
       "    .dataframe tbody tr th {\n",
       "        vertical-align: top;\n",
       "    }\n",
       "\n",
       "    .dataframe thead th {\n",
       "        text-align: right;\n",
       "    }\n",
       "</style>\n",
       "<table border=\"1\" class=\"dataframe\">\n",
       "  <thead>\n",
       "    <tr style=\"text-align: right;\">\n",
       "      <th></th>\n",
       "      <th>coordinates</th>\n",
       "      <th>id</th>\n",
       "      <th>tags</th>\n",
       "      <th>light</th>\n",
       "      <th>point_lat</th>\n",
       "      <th>point_long</th>\n",
       "      <th>nearby</th>\n",
       "      <th>region</th>\n",
       "      <th>scheme</th>\n",
       "      <th>address</th>\n",
       "      <th>weather</th>\n",
       "      <th>category</th>\n",
       "      <th>datetime</th>\n",
       "      <th>injured_count</th>\n",
       "      <th>parent_region</th>\n",
       "      <th>road_conditions</th>\n",
       "      <th>participants_count</th>\n",
       "      <th>participant_categories</th>\n",
       "    </tr>\n",
       "  </thead>\n",
       "  <tbody>\n",
       "    <tr>\n",
       "      <th>0</th>\n",
       "      <td>[37.5253, 55.9992]</td>\n",
       "      <td>2163589</td>\n",
       "      <td>['Дорожно-транспортные происшествия']</td>\n",
       "      <td>Светлое время суток</td>\n",
       "      <td>55.9992</td>\n",
       "      <td>37.5253</td>\n",
       "      <td>['Мост, эстакада, путепровод', 'Крупный торгов...</td>\n",
       "      <td>Мытищинский</td>\n",
       "      <td>NaN</td>\n",
       "      <td>ХЛЕБНИКОВО-РОГАЧЕВО, 0 км</td>\n",
       "      <td>['Ясно']</td>\n",
       "      <td>Столкновение</td>\n",
       "      <td>2019-01-31 09:05:00</td>\n",
       "      <td>1</td>\n",
       "      <td>Московская область</td>\n",
       "      <td>['Мокрое', 'Отсутствие, плохая различимость го...</td>\n",
       "      <td>3</td>\n",
       "      <td>['Все участники']</td>\n",
       "    </tr>\n",
       "  </tbody>\n",
       "</table>\n",
       "</div>"
      ],
      "text/plain": [
       "          coordinates       id                                   tags  \\\n",
       "0  [37.5253, 55.9992]  2163589  ['Дорожно-транспортные происшествия']   \n",
       "\n",
       "                 light  point_lat  point_long  \\\n",
       "0  Светлое время суток    55.9992     37.5253   \n",
       "\n",
       "                                              nearby       region  scheme  \\\n",
       "0  ['Мост, эстакада, путепровод', 'Крупный торгов...  Мытищинский     NaN   \n",
       "\n",
       "                     address   weather      category             datetime  \\\n",
       "0  ХЛЕБНИКОВО-РОГАЧЕВО, 0 км  ['Ясно']  Столкновение  2019-01-31 09:05:00   \n",
       "\n",
       "   injured_count       parent_region  \\\n",
       "0              1  Московская область   \n",
       "\n",
       "                                     road_conditions  participants_count  \\\n",
       "0  ['Мокрое', 'Отсутствие, плохая различимость го...                   3   \n",
       "\n",
       "  participant_categories  \n",
       "0      ['Все участники']  "
      ]
     },
     "metadata": {},
     "output_type": "display_data"
    }
   ],
   "source": [
    "# Сохраняем в список желаемые названия столбцов\n",
    "columns = ['coordinates', 'id', 'tags', 'light',\n",
    "       'point_lat', 'point_long', 'nearby',\n",
    "       'region', 'scheme', 'address',\n",
    "       'weather', 'category', 'datetime',\n",
    "       'injured_count', 'parent_region',\n",
    "       'road_conditions', 'participants_count',\n",
    "       'participant_categories']\n",
    "\n",
    "\n",
    "# Передаём список атрибуту columns датафрейма\n",
    "kirovskaya_oblast.columns = columns\n",
    "moscowskaya_oblast.columns = columns\n",
    "\n",
    "# Выводим названия столбцов датафрейма\n",
    "display(kirovskaya_oblast.head(1))\n",
    "display(moscowskaya_oblast.head(1))\n",
    "\n",
    "display(moscowskaya_oblast.head(1))"
   ]
  },
  {
   "cell_type": "markdown",
   "metadata": {
    "id": "WO_WoGOFMLwN"
   },
   "source": [
    "### Проверка пропусков в данных"
   ]
  },
  {
   "cell_type": "markdown",
   "metadata": {
    "id": "OATLNwIsGEQy"
   },
   "source": [
    "Посчитаем абсолютные значения пропусков в датасете по Кировской области `kirovskaya_oblast` (не забываем про особенные столбцы `nearby`, `weather `, `road_conditions`, `participant_categories` и `geometry_coordinates`)."
   ]
  },
  {
   "cell_type": "code",
   "execution_count": 96,
   "metadata": {
    "colab": {
     "base_uri": "https://localhost:8080/",
     "height": 649
    },
    "executionInfo": {
     "elapsed": 56,
     "status": "ok",
     "timestamp": 1756309870557,
     "user": {
      "displayName": "Maria Averkina",
      "userId": "01722641797731955161"
     },
     "user_tz": 420
    },
    "id": "WzmpeEBTGEQz",
    "outputId": "70122680-93f3-4c56-8137-570262e1edb7"
   },
   "outputs": [
    {
     "data": {
      "text/plain": [
       "scheme                    1137\n",
       "address                    674\n",
       "point_lat                   32\n",
       "point_long                  32\n",
       "category                     0\n",
       "participants_count           0\n",
       "road_conditions              0\n",
       "parent_region                0\n",
       "injured_count                0\n",
       "datetime                     0\n",
       "coordinates                  0\n",
       "weather                      0\n",
       "id                           0\n",
       "region                       0\n",
       "nearby                       0\n",
       "light                        0\n",
       "tags                         0\n",
       "participant_categories       0\n",
       "dtype: int64"
      ]
     },
     "execution_count": 96,
     "metadata": {},
     "output_type": "execute_result"
    }
   ],
   "source": [
    "kirovskaya_oblast.isna().sum().sort_values(ascending = False)"
   ]
  },
  {
   "cell_type": "markdown",
   "metadata": {
    "id": "zP0bGv3EGEQz"
   },
   "source": [
    "Пропуски есть в столбцах:\n",
    "- `point_lat` (32), `point_long` (32), `scheme`(1137), `address`(674).\n",
    "\n",
    "Далее посмотрим относительные значения пропусков в процентах."
   ]
  },
  {
   "cell_type": "code",
   "execution_count": 97,
   "metadata": {
    "colab": {
     "base_uri": "https://localhost:8080/",
     "height": 649
    },
    "executionInfo": {
     "elapsed": 3,
     "status": "ok",
     "timestamp": 1756309870558,
     "user": {
      "displayName": "Maria Averkina",
      "userId": "01722641797731955161"
     },
     "user_tz": 420
    },
    "id": "tL9gvXOBGEQz",
    "outputId": "f9c90ea9-870d-407e-fd80-dc56d22c5caa"
   },
   "outputs": [
    {
     "data": {
      "text/plain": [
       "coordinates               0.0\n",
       "id                        0.0\n",
       "tags                      0.0\n",
       "light                     0.0\n",
       "point_lat                 0.2\n",
       "point_long                0.2\n",
       "nearby                    0.0\n",
       "region                    0.0\n",
       "scheme                    7.8\n",
       "address                   4.6\n",
       "weather                   0.0\n",
       "category                  0.0\n",
       "datetime                  0.0\n",
       "injured_count             0.0\n",
       "parent_region             0.0\n",
       "road_conditions           0.0\n",
       "participants_count        0.0\n",
       "participant_categories    0.0\n",
       "dtype: float64"
      ]
     },
     "execution_count": 97,
     "metadata": {},
     "output_type": "execute_result"
    }
   ],
   "source": [
    "round(kirovskaya_oblast.isna().sum()/len(kirovskaya_oblast), 3)*100"
   ]
  },
  {
   "cell_type": "markdown",
   "metadata": {
    "id": "UXtjzZInGEQz"
   },
   "source": [
    "Пропсуки в процентах составили: <a id='1'></a>\n",
    "- `point_lat` (0.2%), `point_long` (0.2%), `scheme`(7.8%), `address`(4.6%).\n",
    "\n",
    "Чтобы проанализировать природу возникновения пропусков, напомним, за что отвечают эти столбцы в датафрейме с информацией о ДТП в Кировской областе:\n",
    "\n",
    "- `point_lat` — широта.\n",
    "\n",
    "- `point_long` — долгота.\n",
    "\n",
    "- `scheme` — схема ДТП.\n",
    "\n",
    "- `address` — ближайший адрес.\n",
    "\n",
    "ВАЖНО! Пропуски также есть в столбце `coordinates`, которые объединяет и информацию из столбцов `point_lat` и `point_long`, пропуски, соответсвенно, тоже.\n",
    "\n",
    "Причины пропусков:\n",
    "- Отсутствие широты, долготы ДТП может быть связано с техническими проблемами систем навигации или особенностями законодательства на момент ДТП в вопросе указания точных координат.\n",
    "\n",
    "- Отсутвие схем ДТП может быть связано с незначительностью проишествия, т.е. если авария произошла с минимальными повреждения и никто не пострадал. На составление схемы ДТП может повлиять также согласие сторон или технические особенности.\n",
    "\n",
    "- Отсуствие ближайшего адреса может быть связано с особенностями местностями и отсуствием каких-либо населенных пунктов или построек рядом с местом ДТП."
   ]
  },
  {
   "cell_type": "code",
   "execution_count": 98,
   "metadata": {
    "colab": {
     "base_uri": "https://localhost:8080/",
     "height": 389
    },
    "executionInfo": {
     "elapsed": 176,
     "status": "ok",
     "timestamp": 1756309870733,
     "user": {
      "displayName": "Maria Averkina",
      "userId": "01722641797731955161"
     },
     "user_tz": 420
    },
    "id": "tIG0uK3AGEQ0",
    "outputId": "91d43fd2-659d-496f-8d32-b14f287fd138"
   },
   "outputs": [
    {
     "data": {
      "text/html": [
       "<div>\n",
       "<style scoped>\n",
       "    .dataframe tbody tr th:only-of-type {\n",
       "        vertical-align: middle;\n",
       "    }\n",
       "\n",
       "    .dataframe tbody tr th {\n",
       "        vertical-align: top;\n",
       "    }\n",
       "\n",
       "    .dataframe thead th {\n",
       "        text-align: right;\n",
       "    }\n",
       "</style>\n",
       "<table border=\"1\" class=\"dataframe\">\n",
       "  <thead>\n",
       "    <tr style=\"text-align: right;\">\n",
       "      <th></th>\n",
       "      <th>coordinates</th>\n",
       "      <th>id</th>\n",
       "      <th>tags</th>\n",
       "      <th>light</th>\n",
       "      <th>point_lat</th>\n",
       "      <th>point_long</th>\n",
       "      <th>nearby</th>\n",
       "      <th>region</th>\n",
       "      <th>scheme</th>\n",
       "      <th>address</th>\n",
       "      <th>weather</th>\n",
       "      <th>category</th>\n",
       "      <th>datetime</th>\n",
       "      <th>injured_count</th>\n",
       "      <th>parent_region</th>\n",
       "      <th>road_conditions</th>\n",
       "      <th>participants_count</th>\n",
       "      <th>participant_categories</th>\n",
       "    </tr>\n",
       "  </thead>\n",
       "  <tbody>\n",
       "    <tr>\n",
       "      <th>0</th>\n",
       "      <td>[47.875603, 57.24379]</td>\n",
       "      <td>1983180</td>\n",
       "      <td>Дорожно-транспортные происшествия</td>\n",
       "      <td>Светлое время суток</td>\n",
       "      <td>57.243790</td>\n",
       "      <td>47.875603</td>\n",
       "      <td>[]</td>\n",
       "      <td>Яранский район</td>\n",
       "      <td>600.0</td>\n",
       "      <td>Р-176 Вятка Чебоксары - Йошкар-Ола - Киров - С...</td>\n",
       "      <td>['Дождь']</td>\n",
       "      <td>Опрокидывание</td>\n",
       "      <td>2017-07-01 18:00:00</td>\n",
       "      <td>1</td>\n",
       "      <td>Кировская область</td>\n",
       "      <td>['Мокрое']</td>\n",
       "      <td>3</td>\n",
       "      <td>['Все участники']</td>\n",
       "    </tr>\n",
       "    <tr>\n",
       "      <th>1</th>\n",
       "      <td>[47.87903, 57.304807]</td>\n",
       "      <td>2889433</td>\n",
       "      <td>Дорожно-транспортные происшествия</td>\n",
       "      <td>Светлое время суток</td>\n",
       "      <td>57.304807</td>\n",
       "      <td>47.879030</td>\n",
       "      <td>['Административные здания', 'Нерегулируемый пе...</td>\n",
       "      <td>Яранский район</td>\n",
       "      <td>710.0</td>\n",
       "      <td>г Яранск, ул Кирова, 10</td>\n",
       "      <td>['Ясно']</td>\n",
       "      <td>Наезд на пешехода</td>\n",
       "      <td>2023-09-12 17:10:00</td>\n",
       "      <td>1</td>\n",
       "      <td>Кировская область</td>\n",
       "      <td>['Сухое', 'Отсутствие, плохая различимость гор...</td>\n",
       "      <td>2</td>\n",
       "      <td>['Все участники', 'Пешеходы']</td>\n",
       "    </tr>\n",
       "    <tr>\n",
       "      <th>2</th>\n",
       "      <td>[47.840781, 57.297156]</td>\n",
       "      <td>2591208</td>\n",
       "      <td>Дорожно-транспортные происшествия</td>\n",
       "      <td>Сумерки</td>\n",
       "      <td>57.297156</td>\n",
       "      <td>47.840781</td>\n",
       "      <td>['Жилые дома индивидуальной застройки', 'Нерег...</td>\n",
       "      <td>Яранский район</td>\n",
       "      <td>NaN</td>\n",
       "      <td>г Яранск, ул Чапаева, 80</td>\n",
       "      <td>['Пасмурно']</td>\n",
       "      <td>Съезд с дороги</td>\n",
       "      <td>2021-07-02 21:25:00</td>\n",
       "      <td>1</td>\n",
       "      <td>Кировская область</td>\n",
       "      <td>['Мокрое']</td>\n",
       "      <td>1</td>\n",
       "      <td>['Все участники']</td>\n",
       "    </tr>\n",
       "  </tbody>\n",
       "</table>\n",
       "</div>"
      ],
      "text/plain": [
       "              coordinates       id                               tags  \\\n",
       "0   [47.875603, 57.24379]  1983180  Дорожно-транспортные происшествия   \n",
       "1   [47.87903, 57.304807]  2889433  Дорожно-транспортные происшествия   \n",
       "2  [47.840781, 57.297156]  2591208  Дорожно-транспортные происшествия   \n",
       "\n",
       "                 light  point_lat  point_long  \\\n",
       "0  Светлое время суток  57.243790   47.875603   \n",
       "1  Светлое время суток  57.304807   47.879030   \n",
       "2              Сумерки  57.297156   47.840781   \n",
       "\n",
       "                                              nearby          region  scheme  \\\n",
       "0                                                 []  Яранский район   600.0   \n",
       "1  ['Административные здания', 'Нерегулируемый пе...  Яранский район   710.0   \n",
       "2  ['Жилые дома индивидуальной застройки', 'Нерег...  Яранский район     NaN   \n",
       "\n",
       "                                             address       weather  \\\n",
       "0  Р-176 Вятка Чебоксары - Йошкар-Ола - Киров - С...     ['Дождь']   \n",
       "1                            г Яранск, ул Кирова, 10      ['Ясно']   \n",
       "2                           г Яранск, ул Чапаева, 80  ['Пасмурно']   \n",
       "\n",
       "            category             datetime  injured_count      parent_region  \\\n",
       "0      Опрокидывание  2017-07-01 18:00:00              1  Кировская область   \n",
       "1  Наезд на пешехода  2023-09-12 17:10:00              1  Кировская область   \n",
       "2     Съезд с дороги  2021-07-02 21:25:00              1  Кировская область   \n",
       "\n",
       "                                     road_conditions  participants_count  \\\n",
       "0                                         ['Мокрое']                   3   \n",
       "1  ['Сухое', 'Отсутствие, плохая различимость гор...                   2   \n",
       "2                                         ['Мокрое']                   1   \n",
       "\n",
       "          participant_categories  \n",
       "0              ['Все участники']  \n",
       "1  ['Все участники', 'Пешеходы']  \n",
       "2              ['Все участники']  "
      ]
     },
     "execution_count": 98,
     "metadata": {},
     "output_type": "execute_result"
    }
   ],
   "source": [
    "kirovskaya_oblast.head(3)"
   ]
  },
  {
   "cell_type": "markdown",
   "metadata": {
    "id": "Xz9vQkNAGEQ0"
   },
   "source": [
    "Давайте узнаем, возможно получится восстановить пропущенные данные на основе информации из других столбцов. Посмотрим еще раз на пропуски в `address`."
   ]
  },
  {
   "cell_type": "code",
   "execution_count": 99,
   "metadata": {
    "colab": {
     "base_uri": "https://localhost:8080/",
     "height": 930
    },
    "executionInfo": {
     "elapsed": 45,
     "status": "ok",
     "timestamp": 1756309870778,
     "user": {
      "displayName": "Maria Averkina",
      "userId": "01722641797731955161"
     },
     "user_tz": 420
    },
    "id": "8mtTGD2PGEQ0",
    "outputId": "972be708-4347-4fa3-8140-543da6930be5",
    "scrolled": true
   },
   "outputs": [
    {
     "data": {
      "text/html": [
       "<div>\n",
       "<style scoped>\n",
       "    .dataframe tbody tr th:only-of-type {\n",
       "        vertical-align: middle;\n",
       "    }\n",
       "\n",
       "    .dataframe tbody tr th {\n",
       "        vertical-align: top;\n",
       "    }\n",
       "\n",
       "    .dataframe thead th {\n",
       "        text-align: right;\n",
       "    }\n",
       "</style>\n",
       "<table border=\"1\" class=\"dataframe\">\n",
       "  <thead>\n",
       "    <tr style=\"text-align: right;\">\n",
       "      <th></th>\n",
       "      <th>coordinates</th>\n",
       "      <th>id</th>\n",
       "      <th>tags</th>\n",
       "      <th>light</th>\n",
       "      <th>point_lat</th>\n",
       "      <th>point_long</th>\n",
       "      <th>nearby</th>\n",
       "      <th>region</th>\n",
       "      <th>scheme</th>\n",
       "      <th>address</th>\n",
       "      <th>weather</th>\n",
       "      <th>category</th>\n",
       "      <th>datetime</th>\n",
       "      <th>injured_count</th>\n",
       "      <th>parent_region</th>\n",
       "      <th>road_conditions</th>\n",
       "      <th>participants_count</th>\n",
       "      <th>participant_categories</th>\n",
       "    </tr>\n",
       "  </thead>\n",
       "  <tbody>\n",
       "    <tr>\n",
       "      <th>18</th>\n",
       "      <td>[47.703667, 57.398549]</td>\n",
       "      <td>1981028</td>\n",
       "      <td>Дорожно-транспортные происшествия</td>\n",
       "      <td>В темное время суток, освещение отсутствует</td>\n",
       "      <td>57.398549</td>\n",
       "      <td>47.703667</td>\n",
       "      <td>[]</td>\n",
       "      <td>Яранский район</td>\n",
       "      <td>820.0</td>\n",
       "      <td>NaN</td>\n",
       "      <td>['Пасмурно']</td>\n",
       "      <td>Наезд на пешехода</td>\n",
       "      <td>2018-05-01 22:10:00</td>\n",
       "      <td>1</td>\n",
       "      <td>Кировская область</td>\n",
       "      <td>['Сухое']</td>\n",
       "      <td>2</td>\n",
       "      <td>['Все участники', 'Пешеходы']</td>\n",
       "    </tr>\n",
       "    <tr>\n",
       "      <th>59</th>\n",
       "      <td>[47.969474, 57.105731]</td>\n",
       "      <td>2875566</td>\n",
       "      <td>Дорожно-транспортные происшествия</td>\n",
       "      <td>Светлое время суток</td>\n",
       "      <td>57.105731</td>\n",
       "      <td>47.969474</td>\n",
       "      <td>[]</td>\n",
       "      <td>Яранский район</td>\n",
       "      <td>950.0</td>\n",
       "      <td>NaN</td>\n",
       "      <td>['Ясно']</td>\n",
       "      <td>Опрокидывание</td>\n",
       "      <td>2023-08-13 16:20:00</td>\n",
       "      <td>1</td>\n",
       "      <td>Кировская область</td>\n",
       "      <td>['Сухое']</td>\n",
       "      <td>1</td>\n",
       "      <td>['Все участники']</td>\n",
       "    </tr>\n",
       "    <tr>\n",
       "      <th>63</th>\n",
       "      <td>[47.891099, 57.309193]</td>\n",
       "      <td>2875597</td>\n",
       "      <td>Дорожно-транспортные происшествия</td>\n",
       "      <td>Светлое время суток</td>\n",
       "      <td>57.309193</td>\n",
       "      <td>47.891099</td>\n",
       "      <td>['Многоквартирные жилые дома', 'Внутридворовая...</td>\n",
       "      <td>Яранский район</td>\n",
       "      <td>410.0</td>\n",
       "      <td>NaN</td>\n",
       "      <td>['Ясно']</td>\n",
       "      <td>Столкновение</td>\n",
       "      <td>2023-08-01 12:35:00</td>\n",
       "      <td>1</td>\n",
       "      <td>Кировская область</td>\n",
       "      <td>['Сухое']</td>\n",
       "      <td>2</td>\n",
       "      <td>['Все участники', 'Мотоциклисты']</td>\n",
       "    </tr>\n",
       "    <tr>\n",
       "      <th>95</th>\n",
       "      <td>[47.906871, 57.020891]</td>\n",
       "      <td>2861063</td>\n",
       "      <td>Дорожно-транспортные происшествия</td>\n",
       "      <td>Светлое время суток</td>\n",
       "      <td>57.020891</td>\n",
       "      <td>47.906871</td>\n",
       "      <td>[]</td>\n",
       "      <td>Яранский район</td>\n",
       "      <td>600.0</td>\n",
       "      <td>NaN</td>\n",
       "      <td>['Пасмурно']</td>\n",
       "      <td>Съезд с дороги</td>\n",
       "      <td>2023-07-22 03:50:00</td>\n",
       "      <td>3</td>\n",
       "      <td>Кировская область</td>\n",
       "      <td>['Мокрое']</td>\n",
       "      <td>3</td>\n",
       "      <td>['Все участники']</td>\n",
       "    </tr>\n",
       "    <tr>\n",
       "      <th>130</th>\n",
       "      <td>[47.828239, 57.298419]</td>\n",
       "      <td>1984517</td>\n",
       "      <td>Дорожно-транспортные происшествия</td>\n",
       "      <td>Светлое время суток</td>\n",
       "      <td>57.298419</td>\n",
       "      <td>47.828239</td>\n",
       "      <td>['АЗС', 'Автостоянка (отделенная от проезжей ч...</td>\n",
       "      <td>Яранский район</td>\n",
       "      <td>830.0</td>\n",
       "      <td>NaN</td>\n",
       "      <td>['Ясно']</td>\n",
       "      <td>Наезд на пешехода</td>\n",
       "      <td>2020-06-25 08:50:00</td>\n",
       "      <td>1</td>\n",
       "      <td>Кировская область</td>\n",
       "      <td>['Сухое']</td>\n",
       "      <td>2</td>\n",
       "      <td>['Все участники', 'Пешеходы']</td>\n",
       "    </tr>\n",
       "    <tr>\n",
       "      <th>...</th>\n",
       "      <td>...</td>\n",
       "      <td>...</td>\n",
       "      <td>...</td>\n",
       "      <td>...</td>\n",
       "      <td>...</td>\n",
       "      <td>...</td>\n",
       "      <td>...</td>\n",
       "      <td>...</td>\n",
       "      <td>...</td>\n",
       "      <td>...</td>\n",
       "      <td>...</td>\n",
       "      <td>...</td>\n",
       "      <td>...</td>\n",
       "      <td>...</td>\n",
       "      <td>...</td>\n",
       "      <td>...</td>\n",
       "      <td>...</td>\n",
       "      <td>...</td>\n",
       "    </tr>\n",
       "    <tr>\n",
       "      <th>14489</th>\n",
       "      <td>[51.079023, 56.227214]</td>\n",
       "      <td>1983961</td>\n",
       "      <td>Дорожно-транспортные происшествия</td>\n",
       "      <td>Светлое время суток</td>\n",
       "      <td>56.227214</td>\n",
       "      <td>51.079023</td>\n",
       "      <td>['Многоквартирные жилые дома', 'Внутридворовая...</td>\n",
       "      <td>Вятско-Полянский район</td>\n",
       "      <td>880.0</td>\n",
       "      <td>NaN</td>\n",
       "      <td>['Ясно']</td>\n",
       "      <td>Наезд на пешехода</td>\n",
       "      <td>2020-04-18 10:30:00</td>\n",
       "      <td>1</td>\n",
       "      <td>Кировская область</td>\n",
       "      <td>['Сухое']</td>\n",
       "      <td>2</td>\n",
       "      <td>['Все участники', 'Пешеходы']</td>\n",
       "    </tr>\n",
       "    <tr>\n",
       "      <th>14497</th>\n",
       "      <td>[51.293557, 56.251791]</td>\n",
       "      <td>1986098</td>\n",
       "      <td>Дорожно-транспортные происшествия</td>\n",
       "      <td>В темное время суток, освещение не включено</td>\n",
       "      <td>56.251791</td>\n",
       "      <td>51.293557</td>\n",
       "      <td>['Многоквартирные жилые дома', 'Внутридворовая...</td>\n",
       "      <td>Вятско-Полянский район</td>\n",
       "      <td>NaN</td>\n",
       "      <td>NaN</td>\n",
       "      <td>['Пасмурно']</td>\n",
       "      <td>Наезд на велосипедиста</td>\n",
       "      <td>2020-08-19 18:11:00</td>\n",
       "      <td>1</td>\n",
       "      <td>Кировская область</td>\n",
       "      <td>['Сухое']</td>\n",
       "      <td>2</td>\n",
       "      <td>['Все участники', 'Велосипедисты', 'Дети']</td>\n",
       "    </tr>\n",
       "    <tr>\n",
       "      <th>14502</th>\n",
       "      <td>[51.072639, 56.221047]</td>\n",
       "      <td>1986546</td>\n",
       "      <td>Дорожно-транспортные происшествия</td>\n",
       "      <td>Светлое время суток</td>\n",
       "      <td>56.221047</td>\n",
       "      <td>51.072639</td>\n",
       "      <td>['Многоквартирные жилые дома', 'Внутридворовая...</td>\n",
       "      <td>Вятско-Полянский район</td>\n",
       "      <td>880.0</td>\n",
       "      <td>NaN</td>\n",
       "      <td>['Ясно']</td>\n",
       "      <td>Наезд на пешехода</td>\n",
       "      <td>2019-09-03 11:20:00</td>\n",
       "      <td>1</td>\n",
       "      <td>Кировская область</td>\n",
       "      <td>['Сухое']</td>\n",
       "      <td>2</td>\n",
       "      <td>['Все участники', 'Пешеходы']</td>\n",
       "    </tr>\n",
       "    <tr>\n",
       "      <th>14511</th>\n",
       "      <td>[51.1186, 56.2417]</td>\n",
       "      <td>1980230</td>\n",
       "      <td>Дорожно-транспортные происшествия</td>\n",
       "      <td>В темное время суток, освещение отсутствует</td>\n",
       "      <td>56.241700</td>\n",
       "      <td>51.118600</td>\n",
       "      <td>[]</td>\n",
       "      <td>Вятско-Полянский район</td>\n",
       "      <td>NaN</td>\n",
       "      <td>NaN</td>\n",
       "      <td>['Ясно']</td>\n",
       "      <td>Наезд на препятствие</td>\n",
       "      <td>2018-07-02 19:25:00</td>\n",
       "      <td>1</td>\n",
       "      <td>Кировская область</td>\n",
       "      <td>['Сухое', 'Дефекты покрытия']</td>\n",
       "      <td>1</td>\n",
       "      <td>['Все участники', 'Мотоциклисты']</td>\n",
       "    </tr>\n",
       "    <tr>\n",
       "      <th>14513</th>\n",
       "      <td>[50.8911, 56.1978]</td>\n",
       "      <td>1985930</td>\n",
       "      <td>Дорожно-транспортные происшествия</td>\n",
       "      <td>Сумерки</td>\n",
       "      <td>56.197800</td>\n",
       "      <td>50.891100</td>\n",
       "      <td>[]</td>\n",
       "      <td>Вятско-Полянский район</td>\n",
       "      <td>330.0</td>\n",
       "      <td>NaN</td>\n",
       "      <td>['Ясно']</td>\n",
       "      <td>Столкновение</td>\n",
       "      <td>2019-05-30 18:35:00</td>\n",
       "      <td>1</td>\n",
       "      <td>Кировская область</td>\n",
       "      <td>['Сухое']</td>\n",
       "      <td>2</td>\n",
       "      <td>['Все участники', 'Дети']</td>\n",
       "    </tr>\n",
       "  </tbody>\n",
       "</table>\n",
       "<p>674 rows × 18 columns</p>\n",
       "</div>"
      ],
      "text/plain": [
       "                  coordinates       id                               tags  \\\n",
       "18     [47.703667, 57.398549]  1981028  Дорожно-транспортные происшествия   \n",
       "59     [47.969474, 57.105731]  2875566  Дорожно-транспортные происшествия   \n",
       "63     [47.891099, 57.309193]  2875597  Дорожно-транспортные происшествия   \n",
       "95     [47.906871, 57.020891]  2861063  Дорожно-транспортные происшествия   \n",
       "130    [47.828239, 57.298419]  1984517  Дорожно-транспортные происшествия   \n",
       "...                       ...      ...                                ...   \n",
       "14489  [51.079023, 56.227214]  1983961  Дорожно-транспортные происшествия   \n",
       "14497  [51.293557, 56.251791]  1986098  Дорожно-транспортные происшествия   \n",
       "14502  [51.072639, 56.221047]  1986546  Дорожно-транспортные происшествия   \n",
       "14511      [51.1186, 56.2417]  1980230  Дорожно-транспортные происшествия   \n",
       "14513      [50.8911, 56.1978]  1985930  Дорожно-транспортные происшествия   \n",
       "\n",
       "                                             light  point_lat  point_long  \\\n",
       "18     В темное время суток, освещение отсутствует  57.398549   47.703667   \n",
       "59                             Светлое время суток  57.105731   47.969474   \n",
       "63                             Светлое время суток  57.309193   47.891099   \n",
       "95                             Светлое время суток  57.020891   47.906871   \n",
       "130                            Светлое время суток  57.298419   47.828239   \n",
       "...                                            ...        ...         ...   \n",
       "14489                          Светлое время суток  56.227214   51.079023   \n",
       "14497  В темное время суток, освещение не включено  56.251791   51.293557   \n",
       "14502                          Светлое время суток  56.221047   51.072639   \n",
       "14511  В темное время суток, освещение отсутствует  56.241700   51.118600   \n",
       "14513                                      Сумерки  56.197800   50.891100   \n",
       "\n",
       "                                                  nearby  \\\n",
       "18                                                    []   \n",
       "59                                                    []   \n",
       "63     ['Многоквартирные жилые дома', 'Внутридворовая...   \n",
       "95                                                    []   \n",
       "130    ['АЗС', 'Автостоянка (отделенная от проезжей ч...   \n",
       "...                                                  ...   \n",
       "14489  ['Многоквартирные жилые дома', 'Внутридворовая...   \n",
       "14497  ['Многоквартирные жилые дома', 'Внутридворовая...   \n",
       "14502  ['Многоквартирные жилые дома', 'Внутридворовая...   \n",
       "14511                                                 []   \n",
       "14513                                                 []   \n",
       "\n",
       "                       region  scheme address       weather  \\\n",
       "18             Яранский район   820.0     NaN  ['Пасмурно']   \n",
       "59             Яранский район   950.0     NaN      ['Ясно']   \n",
       "63             Яранский район   410.0     NaN      ['Ясно']   \n",
       "95             Яранский район   600.0     NaN  ['Пасмурно']   \n",
       "130            Яранский район   830.0     NaN      ['Ясно']   \n",
       "...                       ...     ...     ...           ...   \n",
       "14489  Вятско-Полянский район   880.0     NaN      ['Ясно']   \n",
       "14497  Вятско-Полянский район     NaN     NaN  ['Пасмурно']   \n",
       "14502  Вятско-Полянский район   880.0     NaN      ['Ясно']   \n",
       "14511  Вятско-Полянский район     NaN     NaN      ['Ясно']   \n",
       "14513  Вятско-Полянский район   330.0     NaN      ['Ясно']   \n",
       "\n",
       "                     category             datetime  injured_count  \\\n",
       "18          Наезд на пешехода  2018-05-01 22:10:00              1   \n",
       "59              Опрокидывание  2023-08-13 16:20:00              1   \n",
       "63               Столкновение  2023-08-01 12:35:00              1   \n",
       "95             Съезд с дороги  2023-07-22 03:50:00              3   \n",
       "130         Наезд на пешехода  2020-06-25 08:50:00              1   \n",
       "...                       ...                  ...            ...   \n",
       "14489       Наезд на пешехода  2020-04-18 10:30:00              1   \n",
       "14497  Наезд на велосипедиста  2020-08-19 18:11:00              1   \n",
       "14502       Наезд на пешехода  2019-09-03 11:20:00              1   \n",
       "14511    Наезд на препятствие  2018-07-02 19:25:00              1   \n",
       "14513            Столкновение  2019-05-30 18:35:00              1   \n",
       "\n",
       "           parent_region                road_conditions  participants_count  \\\n",
       "18     Кировская область                      ['Сухое']                   2   \n",
       "59     Кировская область                      ['Сухое']                   1   \n",
       "63     Кировская область                      ['Сухое']                   2   \n",
       "95     Кировская область                     ['Мокрое']                   3   \n",
       "130    Кировская область                      ['Сухое']                   2   \n",
       "...                  ...                            ...                 ...   \n",
       "14489  Кировская область                      ['Сухое']                   2   \n",
       "14497  Кировская область                      ['Сухое']                   2   \n",
       "14502  Кировская область                      ['Сухое']                   2   \n",
       "14511  Кировская область  ['Сухое', 'Дефекты покрытия']                   1   \n",
       "14513  Кировская область                      ['Сухое']                   2   \n",
       "\n",
       "                           participant_categories  \n",
       "18                  ['Все участники', 'Пешеходы']  \n",
       "59                              ['Все участники']  \n",
       "63              ['Все участники', 'Мотоциклисты']  \n",
       "95                              ['Все участники']  \n",
       "130                 ['Все участники', 'Пешеходы']  \n",
       "...                                           ...  \n",
       "14489               ['Все участники', 'Пешеходы']  \n",
       "14497  ['Все участники', 'Велосипедисты', 'Дети']  \n",
       "14502               ['Все участники', 'Пешеходы']  \n",
       "14511           ['Все участники', 'Мотоциклисты']  \n",
       "14513                   ['Все участники', 'Дети']  \n",
       "\n",
       "[674 rows x 18 columns]"
      ]
     },
     "execution_count": 99,
     "metadata": {},
     "output_type": "execute_result"
    }
   ],
   "source": [
    "kirovskaya_oblast[kirovskaya_oblast['address'].isna()]"
   ]
  },
  {
   "cell_type": "markdown",
   "metadata": {
    "id": "0ADXMUOkGEQ0"
   },
   "source": [
    "Можно заметить, что в некоторых строках с пустым адресом заполнены столбцы со зданиями, которые находятся рядом с местом ДТП и столбцы с координатами. Поэтому чисто теоретически можно восстановить адрес с помощью этих столбцов."
   ]
  },
  {
   "cell_type": "code",
   "execution_count": 100,
   "metadata": {
    "colab": {
     "base_uri": "https://localhost:8080/",
     "height": 1000
    },
    "executionInfo": {
     "elapsed": 81,
     "status": "ok",
     "timestamp": 1756309870860,
     "user": {
      "displayName": "Maria Averkina",
      "userId": "01722641797731955161"
     },
     "user_tz": 420
    },
    "id": "UO3MQ3oeGEQ0",
    "outputId": "ec2c185c-74a1-477a-d941-8640257addbf"
   },
   "outputs": [
    {
     "data": {
      "text/html": [
       "<div>\n",
       "<style scoped>\n",
       "    .dataframe tbody tr th:only-of-type {\n",
       "        vertical-align: middle;\n",
       "    }\n",
       "\n",
       "    .dataframe tbody tr th {\n",
       "        vertical-align: top;\n",
       "    }\n",
       "\n",
       "    .dataframe thead th {\n",
       "        text-align: right;\n",
       "    }\n",
       "</style>\n",
       "<table border=\"1\" class=\"dataframe\">\n",
       "  <thead>\n",
       "    <tr style=\"text-align: right;\">\n",
       "      <th></th>\n",
       "      <th>coordinates</th>\n",
       "      <th>id</th>\n",
       "      <th>tags</th>\n",
       "      <th>light</th>\n",
       "      <th>point_lat</th>\n",
       "      <th>point_long</th>\n",
       "      <th>nearby</th>\n",
       "      <th>region</th>\n",
       "      <th>scheme</th>\n",
       "      <th>address</th>\n",
       "      <th>weather</th>\n",
       "      <th>category</th>\n",
       "      <th>datetime</th>\n",
       "      <th>injured_count</th>\n",
       "      <th>parent_region</th>\n",
       "      <th>road_conditions</th>\n",
       "      <th>participants_count</th>\n",
       "      <th>participant_categories</th>\n",
       "    </tr>\n",
       "  </thead>\n",
       "  <tbody>\n",
       "    <tr>\n",
       "      <th>391</th>\n",
       "      <td>[None, None]</td>\n",
       "      <td>1985738</td>\n",
       "      <td>Дорожно-транспортные происшествия</td>\n",
       "      <td>Сумерки</td>\n",
       "      <td>NaN</td>\n",
       "      <td>NaN</td>\n",
       "      <td>[]</td>\n",
       "      <td>Шабалинский район</td>\n",
       "      <td>NaN</td>\n",
       "      <td>пгт Ленинское, ул Гагарина, 89</td>\n",
       "      <td>['Ясно']</td>\n",
       "      <td>Отбрасывание предмета</td>\n",
       "      <td>2015-05-25 22:00:00</td>\n",
       "      <td>1</td>\n",
       "      <td>Кировская область</td>\n",
       "      <td>['Сухое']</td>\n",
       "      <td>2</td>\n",
       "      <td>['Все участники', 'Пешеходы', 'Дети']</td>\n",
       "    </tr>\n",
       "    <tr>\n",
       "      <th>1029</th>\n",
       "      <td>[None, None]</td>\n",
       "      <td>1986653</td>\n",
       "      <td>Дорожно-транспортные происшествия</td>\n",
       "      <td>Светлое время суток</td>\n",
       "      <td>NaN</td>\n",
       "      <td>NaN</td>\n",
       "      <td>[]</td>\n",
       "      <td>Свечинский район</td>\n",
       "      <td>610.0</td>\n",
       "      <td>Котельнич - Свеча - Ленинское - гр. Костромско...</td>\n",
       "      <td>['Пасмурно']</td>\n",
       "      <td>Съезд с дороги</td>\n",
       "      <td>2015-04-24 07:00:00</td>\n",
       "      <td>1</td>\n",
       "      <td>Кировская область</td>\n",
       "      <td>['Мокрое']</td>\n",
       "      <td>2</td>\n",
       "      <td>['Все участники']</td>\n",
       "    </tr>\n",
       "    <tr>\n",
       "      <th>2198</th>\n",
       "      <td>[None, None]</td>\n",
       "      <td>1986337</td>\n",
       "      <td>Дорожно-транспортные происшествия</td>\n",
       "      <td>В темное время суток, освещение отсутствует</td>\n",
       "      <td>NaN</td>\n",
       "      <td>NaN</td>\n",
       "      <td>['Жилые дома индивидуальной застройки']</td>\n",
       "      <td>Нолинский район</td>\n",
       "      <td>850.0</td>\n",
       "      <td>с Кырчаны, ул Ленина, 10</td>\n",
       "      <td>['Пасмурно']</td>\n",
       "      <td>Наезд на пешехода</td>\n",
       "      <td>2016-09-05 20:10:00</td>\n",
       "      <td>1</td>\n",
       "      <td>Кировская область</td>\n",
       "      <td>['Сухое']</td>\n",
       "      <td>2</td>\n",
       "      <td>['Все участники', 'Пешеходы']</td>\n",
       "    </tr>\n",
       "    <tr>\n",
       "      <th>2227</th>\n",
       "      <td>[None, None]</td>\n",
       "      <td>1985083</td>\n",
       "      <td>Дорожно-транспортные происшествия</td>\n",
       "      <td>В темное время суток, освещение отсутствует</td>\n",
       "      <td>NaN</td>\n",
       "      <td>NaN</td>\n",
       "      <td>[]</td>\n",
       "      <td>Нолинский район</td>\n",
       "      <td>90.0</td>\n",
       "      <td>Киров - Малмыж - Вятские Поляны, 110 км</td>\n",
       "      <td>['Пасмурно']</td>\n",
       "      <td>Столкновение</td>\n",
       "      <td>2016-06-12 20:50:00</td>\n",
       "      <td>2</td>\n",
       "      <td>Кировская область</td>\n",
       "      <td>['Мокрое', 'Дефекты покрытия']</td>\n",
       "      <td>5</td>\n",
       "      <td>['Все участники']</td>\n",
       "    </tr>\n",
       "    <tr>\n",
       "      <th>2269</th>\n",
       "      <td>[None, None]</td>\n",
       "      <td>1985078</td>\n",
       "      <td>Дорожно-транспортные происшествия</td>\n",
       "      <td>Светлое время суток</td>\n",
       "      <td>NaN</td>\n",
       "      <td>NaN</td>\n",
       "      <td>['Жилые дома индивидуальной застройки']</td>\n",
       "      <td>Нолинский район</td>\n",
       "      <td>200.0</td>\n",
       "      <td>д Среднее, ул Свободы, 72</td>\n",
       "      <td>['Ясно']</td>\n",
       "      <td>Наезд на велосипедиста</td>\n",
       "      <td>2016-06-23 13:50:00</td>\n",
       "      <td>1</td>\n",
       "      <td>Кировская область</td>\n",
       "      <td>['Сухое']</td>\n",
       "      <td>3</td>\n",
       "      <td>['Все участники', 'Велосипедисты', 'Дети']</td>\n",
       "    </tr>\n",
       "    <tr>\n",
       "      <th>2274</th>\n",
       "      <td>[None, None]</td>\n",
       "      <td>1986660</td>\n",
       "      <td>Дорожно-транспортные происшествия</td>\n",
       "      <td>Светлое время суток</td>\n",
       "      <td>NaN</td>\n",
       "      <td>NaN</td>\n",
       "      <td>[]</td>\n",
       "      <td>Нолинский район</td>\n",
       "      <td>610.0</td>\n",
       "      <td>Кырчаны - Нема - Кильмезь, 1 км</td>\n",
       "      <td>['Ясно']</td>\n",
       "      <td>Опрокидывание</td>\n",
       "      <td>2015-04-02 09:45:00</td>\n",
       "      <td>2</td>\n",
       "      <td>Кировская область</td>\n",
       "      <td>['Сухое', 'Отсутствие, плохая различимость гор...</td>\n",
       "      <td>2</td>\n",
       "      <td>['Все участники']</td>\n",
       "    </tr>\n",
       "    <tr>\n",
       "      <th>2293</th>\n",
       "      <td>[None, None]</td>\n",
       "      <td>1985081</td>\n",
       "      <td>Дорожно-транспортные происшествия</td>\n",
       "      <td>Светлое время суток</td>\n",
       "      <td>NaN</td>\n",
       "      <td>NaN</td>\n",
       "      <td>['Выезд с прилегающей территории', 'Одиночный ...</td>\n",
       "      <td>Нолинский район</td>\n",
       "      <td>330.0</td>\n",
       "      <td>д Перевоз, ул Советская, 89б</td>\n",
       "      <td>['Ясно']</td>\n",
       "      <td>Столкновение</td>\n",
       "      <td>2016-06-14 09:50:00</td>\n",
       "      <td>1</td>\n",
       "      <td>Кировская область</td>\n",
       "      <td>['Сухое']</td>\n",
       "      <td>2</td>\n",
       "      <td>['Все участники']</td>\n",
       "    </tr>\n",
       "    <tr>\n",
       "      <th>2306</th>\n",
       "      <td>[None, None]</td>\n",
       "      <td>1984230</td>\n",
       "      <td>Дорожно-транспортные происшествия</td>\n",
       "      <td>В темное время суток, освещение отсутствует</td>\n",
       "      <td>NaN</td>\n",
       "      <td>NaN</td>\n",
       "      <td>[]</td>\n",
       "      <td>Нолинский район</td>\n",
       "      <td>200.0</td>\n",
       "      <td>Киров - Малмыж - Вятские Поляны, 120 км</td>\n",
       "      <td>['Пасмурно']</td>\n",
       "      <td>Столкновение</td>\n",
       "      <td>2015-12-26 16:05:00</td>\n",
       "      <td>1</td>\n",
       "      <td>Кировская область</td>\n",
       "      <td>['Сухое']</td>\n",
       "      <td>3</td>\n",
       "      <td>['Все участники']</td>\n",
       "    </tr>\n",
       "    <tr>\n",
       "      <th>2309</th>\n",
       "      <td>[None, None]</td>\n",
       "      <td>1987238</td>\n",
       "      <td>Дорожно-транспортные происшествия</td>\n",
       "      <td>Сумерки</td>\n",
       "      <td>NaN</td>\n",
       "      <td>NaN</td>\n",
       "      <td>['Производственное предприятие']</td>\n",
       "      <td>Нолинский район</td>\n",
       "      <td>840.0</td>\n",
       "      <td>г Нолинск, ул Пригородная, 33</td>\n",
       "      <td>['Пасмурно']</td>\n",
       "      <td>Наезд на пешехода</td>\n",
       "      <td>2015-03-19 18:57:00</td>\n",
       "      <td>1</td>\n",
       "      <td>Кировская область</td>\n",
       "      <td>['Сухое', 'Отсутствие, плохая различимость гор...</td>\n",
       "      <td>2</td>\n",
       "      <td>['Все участники', 'Пешеходы']</td>\n",
       "    </tr>\n",
       "    <tr>\n",
       "      <th>2688</th>\n",
       "      <td>[None, None]</td>\n",
       "      <td>1985539</td>\n",
       "      <td>Дорожно-транспортные происшествия</td>\n",
       "      <td>В темное время суток, освещение отсутствует</td>\n",
       "      <td>NaN</td>\n",
       "      <td>NaN</td>\n",
       "      <td>[]</td>\n",
       "      <td>Малмыжский район</td>\n",
       "      <td>820.0</td>\n",
       "      <td>Киров - Малмыж - Вятские Поляны, 273 км</td>\n",
       "      <td>['Ясно']</td>\n",
       "      <td>Наезд на пешехода</td>\n",
       "      <td>2015-11-07 17:39:00</td>\n",
       "      <td>1</td>\n",
       "      <td>Кировская область</td>\n",
       "      <td>['Сухое']</td>\n",
       "      <td>2</td>\n",
       "      <td>['Все участники', 'Пешеходы']</td>\n",
       "    </tr>\n",
       "    <tr>\n",
       "      <th>2814</th>\n",
       "      <td>[None, None]</td>\n",
       "      <td>1983205</td>\n",
       "      <td>Дорожно-транспортные происшествия</td>\n",
       "      <td>Светлое время суток</td>\n",
       "      <td>NaN</td>\n",
       "      <td>NaN</td>\n",
       "      <td>[]</td>\n",
       "      <td>Лебяжский район</td>\n",
       "      <td>610.0</td>\n",
       "      <td>с Вотское, ул Молодежная, 13</td>\n",
       "      <td>['Ясно']</td>\n",
       "      <td>Опрокидывание</td>\n",
       "      <td>2017-07-17 09:30:00</td>\n",
       "      <td>1</td>\n",
       "      <td>Кировская область</td>\n",
       "      <td>['Сухое']</td>\n",
       "      <td>1</td>\n",
       "      <td>['Все участники']</td>\n",
       "    </tr>\n",
       "    <tr>\n",
       "      <th>2845</th>\n",
       "      <td>[None, None]</td>\n",
       "      <td>1986923</td>\n",
       "      <td>Дорожно-транспортные происшествия</td>\n",
       "      <td>Светлое время суток</td>\n",
       "      <td>NaN</td>\n",
       "      <td>NaN</td>\n",
       "      <td>['Жилые дома индивидуальной застройки']</td>\n",
       "      <td>Лебяжский район</td>\n",
       "      <td>NaN</td>\n",
       "      <td>с Вотское, ул Южная, 18</td>\n",
       "      <td>['Ясно']</td>\n",
       "      <td>Наезд на пешехода</td>\n",
       "      <td>2016-05-04 12:30:00</td>\n",
       "      <td>1</td>\n",
       "      <td>Кировская область</td>\n",
       "      <td>['Сухое']</td>\n",
       "      <td>2</td>\n",
       "      <td>['Все участники', 'Пешеходы']</td>\n",
       "    </tr>\n",
       "    <tr>\n",
       "      <th>2869</th>\n",
       "      <td>[None, None]</td>\n",
       "      <td>1987657</td>\n",
       "      <td>Дорожно-транспортные происшествия</td>\n",
       "      <td>В темное время суток, освещение отсутствует</td>\n",
       "      <td>NaN</td>\n",
       "      <td>NaN</td>\n",
       "      <td>[]</td>\n",
       "      <td>Куменский район</td>\n",
       "      <td>600.0</td>\n",
       "      <td>Плотники - Вожгалы - Богородское - Уни, 42 км</td>\n",
       "      <td>['Ясно']</td>\n",
       "      <td>Опрокидывание</td>\n",
       "      <td>2016-11-16 01:15:00</td>\n",
       "      <td>2</td>\n",
       "      <td>Кировская область</td>\n",
       "      <td>['Обработанное противогололедными материалами']</td>\n",
       "      <td>2</td>\n",
       "      <td>['Все участники']</td>\n",
       "    </tr>\n",
       "    <tr>\n",
       "      <th>11655</th>\n",
       "      <td>[None, None]</td>\n",
       "      <td>1982318</td>\n",
       "      <td>Дорожно-транспортные происшествия</td>\n",
       "      <td>Светлое время суток</td>\n",
       "      <td>NaN</td>\n",
       "      <td>NaN</td>\n",
       "      <td>[]</td>\n",
       "      <td>Юрьянский район</td>\n",
       "      <td>60.0</td>\n",
       "      <td>Р-176 Вятка Чебоксары - Йошкар-Ола - Киров - С...</td>\n",
       "      <td>['Ясно']</td>\n",
       "      <td>Столкновение</td>\n",
       "      <td>2015-09-01 11:00:00</td>\n",
       "      <td>1</td>\n",
       "      <td>Кировская область</td>\n",
       "      <td>['Сухое']</td>\n",
       "      <td>3</td>\n",
       "      <td>['Все участники', 'Мотоциклисты']</td>\n",
       "    </tr>\n",
       "    <tr>\n",
       "      <th>11656</th>\n",
       "      <td>[None, None]</td>\n",
       "      <td>1984292</td>\n",
       "      <td>Дорожно-транспортные происшествия</td>\n",
       "      <td>В темное время суток, освещение отсутствует</td>\n",
       "      <td>NaN</td>\n",
       "      <td>NaN</td>\n",
       "      <td>[]</td>\n",
       "      <td>Юрьянский район</td>\n",
       "      <td>820.0</td>\n",
       "      <td>Р-176 Подъезд к городу Киров от а/д Р-176, 4 км</td>\n",
       "      <td>['Пасмурно']</td>\n",
       "      <td>Наезд на пешехода</td>\n",
       "      <td>2015-12-15 17:00:00</td>\n",
       "      <td>1</td>\n",
       "      <td>Кировская область</td>\n",
       "      <td>['Обработанное противогололедными материалами']</td>\n",
       "      <td>2</td>\n",
       "      <td>['Все участники', 'Пешеходы']</td>\n",
       "    </tr>\n",
       "    <tr>\n",
       "      <th>11694</th>\n",
       "      <td>[None, None]</td>\n",
       "      <td>1984446</td>\n",
       "      <td>Дорожно-транспортные происшествия</td>\n",
       "      <td>Светлое время суток</td>\n",
       "      <td>NaN</td>\n",
       "      <td>NaN</td>\n",
       "      <td>['Нерегулируемый перекрёсток неравнозначных ул...</td>\n",
       "      <td>Юрьянский район</td>\n",
       "      <td>300.0</td>\n",
       "      <td>Р-176 Вятка Чебоксары - Йошкар-Ола - Киров - С...</td>\n",
       "      <td>['Пасмурно']</td>\n",
       "      <td>Столкновение</td>\n",
       "      <td>2017-11-11 06:27:00</td>\n",
       "      <td>3</td>\n",
       "      <td>Кировская область</td>\n",
       "      <td>['Сухое']</td>\n",
       "      <td>5</td>\n",
       "      <td>['Все участники']</td>\n",
       "    </tr>\n",
       "    <tr>\n",
       "      <th>11818</th>\n",
       "      <td>[None, None]</td>\n",
       "      <td>1984284</td>\n",
       "      <td>Дорожно-транспортные происшествия</td>\n",
       "      <td>В темное время суток, освещение включено</td>\n",
       "      <td>NaN</td>\n",
       "      <td>NaN</td>\n",
       "      <td>[]</td>\n",
       "      <td>Юрьянский район</td>\n",
       "      <td>NaN</td>\n",
       "      <td>пгт Юрья, ул Ленина, 7</td>\n",
       "      <td>['Пасмурно']</td>\n",
       "      <td>Наезд на пешехода</td>\n",
       "      <td>2015-12-19 02:50:00</td>\n",
       "      <td>1</td>\n",
       "      <td>Кировская область</td>\n",
       "      <td>['Со снежным накатом']</td>\n",
       "      <td>2</td>\n",
       "      <td>['Все участники', 'Пешеходы']</td>\n",
       "    </tr>\n",
       "    <tr>\n",
       "      <th>12195</th>\n",
       "      <td>[None, None]</td>\n",
       "      <td>1981657</td>\n",
       "      <td>Дорожно-транспортные происшествия</td>\n",
       "      <td>Светлое время суток</td>\n",
       "      <td>NaN</td>\n",
       "      <td>NaN</td>\n",
       "      <td>[]</td>\n",
       "      <td>Котельничский район</td>\n",
       "      <td>950.0</td>\n",
       "      <td>NaN</td>\n",
       "      <td>['Пасмурно']</td>\n",
       "      <td>Опрокидывание</td>\n",
       "      <td>2017-12-02 16:00:00</td>\n",
       "      <td>1</td>\n",
       "      <td>Кировская область</td>\n",
       "      <td>['Заснеженное']</td>\n",
       "      <td>1</td>\n",
       "      <td>['Все участники']</td>\n",
       "    </tr>\n",
       "    <tr>\n",
       "      <th>12237</th>\n",
       "      <td>[None, None]</td>\n",
       "      <td>1987913</td>\n",
       "      <td>Дорожно-транспортные происшествия</td>\n",
       "      <td>Светлое время суток</td>\n",
       "      <td>NaN</td>\n",
       "      <td>NaN</td>\n",
       "      <td>[]</td>\n",
       "      <td>Котельничский район</td>\n",
       "      <td>600.0</td>\n",
       "      <td>Котельнич - Свеча - Ленинское - гр. Костромско...</td>\n",
       "      <td>['Пасмурно']</td>\n",
       "      <td>Опрокидывание</td>\n",
       "      <td>2015-10-09 17:00:00</td>\n",
       "      <td>1</td>\n",
       "      <td>Кировская область</td>\n",
       "      <td>['Мокрое']</td>\n",
       "      <td>1</td>\n",
       "      <td>['Все участники']</td>\n",
       "    </tr>\n",
       "    <tr>\n",
       "      <th>12273</th>\n",
       "      <td>[None, None]</td>\n",
       "      <td>1981347</td>\n",
       "      <td>Дорожно-транспортные происшествия</td>\n",
       "      <td>Светлое время суток</td>\n",
       "      <td>NaN</td>\n",
       "      <td>NaN</td>\n",
       "      <td>['Жилые дома индивидуальной застройки']</td>\n",
       "      <td>Котельничский район</td>\n",
       "      <td>950.0</td>\n",
       "      <td>д Караул, ул Монтажников, 3</td>\n",
       "      <td>['Пасмурно']</td>\n",
       "      <td>Опрокидывание</td>\n",
       "      <td>2016-02-14 16:30:00</td>\n",
       "      <td>1</td>\n",
       "      <td>Кировская область</td>\n",
       "      <td>['Заснеженное']</td>\n",
       "      <td>1</td>\n",
       "      <td>['Все участники']</td>\n",
       "    </tr>\n",
       "    <tr>\n",
       "      <th>12652</th>\n",
       "      <td>[None, None]</td>\n",
       "      <td>1982296</td>\n",
       "      <td>Дорожно-транспортные происшествия</td>\n",
       "      <td>Сумерки</td>\n",
       "      <td>NaN</td>\n",
       "      <td>NaN</td>\n",
       "      <td>['Многоквартирные жилые дома', 'Спортивные и р...</td>\n",
       "      <td>Слободской район</td>\n",
       "      <td>870.0</td>\n",
       "      <td>г Слободской, ул Советская, 100</td>\n",
       "      <td>['Ясно']</td>\n",
       "      <td>Наезд на пешехода</td>\n",
       "      <td>2015-09-29 04:30:00</td>\n",
       "      <td>1</td>\n",
       "      <td>Кировская область</td>\n",
       "      <td>['Сухое']</td>\n",
       "      <td>2</td>\n",
       "      <td>['Все участники', 'Пешеходы']</td>\n",
       "    </tr>\n",
       "    <tr>\n",
       "      <th>12975</th>\n",
       "      <td>[None, None]</td>\n",
       "      <td>1981474</td>\n",
       "      <td>Дорожно-транспортные происшествия</td>\n",
       "      <td>В темное время суток, освещение отсутствует</td>\n",
       "      <td>NaN</td>\n",
       "      <td>NaN</td>\n",
       "      <td>[]</td>\n",
       "      <td>Слободской район</td>\n",
       "      <td>600.0</td>\n",
       "      <td>Кострома - Шарья - Киров - Пермь Р-243, 46 км</td>\n",
       "      <td>['Дождь']</td>\n",
       "      <td>Наезд на препятствие</td>\n",
       "      <td>2017-08-27 02:20:00</td>\n",
       "      <td>1</td>\n",
       "      <td>Кировская область</td>\n",
       "      <td>['Мокрое']</td>\n",
       "      <td>1</td>\n",
       "      <td>['Все участники']</td>\n",
       "    </tr>\n",
       "    <tr>\n",
       "      <th>13012</th>\n",
       "      <td>[None, None]</td>\n",
       "      <td>1983251</td>\n",
       "      <td>Дорожно-транспортные происшествия</td>\n",
       "      <td>Светлое время суток</td>\n",
       "      <td>NaN</td>\n",
       "      <td>NaN</td>\n",
       "      <td>[]</td>\n",
       "      <td>Слободской район</td>\n",
       "      <td>600.0</td>\n",
       "      <td>Заборье - Митино - Карюгино, 2 км</td>\n",
       "      <td>['Пасмурно']</td>\n",
       "      <td>Наезд на препятствие</td>\n",
       "      <td>2017-07-07 05:20:00</td>\n",
       "      <td>1</td>\n",
       "      <td>Кировская область</td>\n",
       "      <td>['Сухое']</td>\n",
       "      <td>2</td>\n",
       "      <td>['Все участники']</td>\n",
       "    </tr>\n",
       "    <tr>\n",
       "      <th>13135</th>\n",
       "      <td>[None, None]</td>\n",
       "      <td>1985796</td>\n",
       "      <td>Дорожно-транспортные происшествия</td>\n",
       "      <td>Сумерки</td>\n",
       "      <td>NaN</td>\n",
       "      <td>NaN</td>\n",
       "      <td>[]</td>\n",
       "      <td>Кирово-Чепецки район</td>\n",
       "      <td>NaN</td>\n",
       "      <td>NaN</td>\n",
       "      <td>['Ясно']</td>\n",
       "      <td>Опрокидывание</td>\n",
       "      <td>2015-05-04 19:25:00</td>\n",
       "      <td>1</td>\n",
       "      <td>Кировская область</td>\n",
       "      <td>['Сухое']</td>\n",
       "      <td>2</td>\n",
       "      <td>['Все участники']</td>\n",
       "    </tr>\n",
       "    <tr>\n",
       "      <th>13513</th>\n",
       "      <td>[None, None]</td>\n",
       "      <td>1986661</td>\n",
       "      <td>Дорожно-транспортные происшествия</td>\n",
       "      <td>Светлое время суток</td>\n",
       "      <td>NaN</td>\n",
       "      <td>NaN</td>\n",
       "      <td>[]</td>\n",
       "      <td>Кирово-Чепецки район</td>\n",
       "      <td>NaN</td>\n",
       "      <td>NaN</td>\n",
       "      <td>['Ясно']</td>\n",
       "      <td>Столкновение</td>\n",
       "      <td>2015-04-29 06:00:00</td>\n",
       "      <td>1</td>\n",
       "      <td>Кировская область</td>\n",
       "      <td>['Сухое']</td>\n",
       "      <td>3</td>\n",
       "      <td>['Все участники']</td>\n",
       "    </tr>\n",
       "    <tr>\n",
       "      <th>13531</th>\n",
       "      <td>[None, None]</td>\n",
       "      <td>1987345</td>\n",
       "      <td>Дорожно-транспортные происшествия</td>\n",
       "      <td>Светлое время суток</td>\n",
       "      <td>NaN</td>\n",
       "      <td>NaN</td>\n",
       "      <td>[]</td>\n",
       "      <td>Кирово-Чепецки район</td>\n",
       "      <td>610.0</td>\n",
       "      <td>Киров - Кирово-Чепецк - Зуевка - Фаленки - Дем...</td>\n",
       "      <td>['Пасмурно']</td>\n",
       "      <td>Съезд с дороги</td>\n",
       "      <td>2016-01-08 09:00:00</td>\n",
       "      <td>1</td>\n",
       "      <td>Кировская область</td>\n",
       "      <td>['Обработанное противогололедными материалами']</td>\n",
       "      <td>1</td>\n",
       "      <td>['Все участники']</td>\n",
       "    </tr>\n",
       "    <tr>\n",
       "      <th>13618</th>\n",
       "      <td>[None, None]</td>\n",
       "      <td>1985496</td>\n",
       "      <td>Дорожно-транспортные происшествия</td>\n",
       "      <td>В темное время суток, освещение отсутствует</td>\n",
       "      <td>NaN</td>\n",
       "      <td>NaN</td>\n",
       "      <td>['Остановка общественного транспорта', 'Нерегу...</td>\n",
       "      <td>Кирово-Чепецки район</td>\n",
       "      <td>820.0</td>\n",
       "      <td>Киров - Стрижи - Оричи, 30 км</td>\n",
       "      <td>['Пасмурно']</td>\n",
       "      <td>Наезд на пешехода</td>\n",
       "      <td>2015-11-16 17:00:00</td>\n",
       "      <td>1</td>\n",
       "      <td>Кировская область</td>\n",
       "      <td>['Сухое', 'Отсутствие, плохая различимость гор...</td>\n",
       "      <td>2</td>\n",
       "      <td>['Все участники', 'Пешеходы']</td>\n",
       "    </tr>\n",
       "    <tr>\n",
       "      <th>13912</th>\n",
       "      <td>[None, None]</td>\n",
       "      <td>1987861</td>\n",
       "      <td>Дорожно-транспортные происшествия</td>\n",
       "      <td>Светлое время суток</td>\n",
       "      <td>NaN</td>\n",
       "      <td>NaN</td>\n",
       "      <td>[]</td>\n",
       "      <td>Кирово-Чепецки район</td>\n",
       "      <td>NaN</td>\n",
       "      <td>Киров - Кирово-Чепецк - Зуевка - Фаленки - Дем...</td>\n",
       "      <td>['Пасмурно']</td>\n",
       "      <td>Иной вид ДТП</td>\n",
       "      <td>2015-10-15 09:05:00</td>\n",
       "      <td>1</td>\n",
       "      <td>Кировская область</td>\n",
       "      <td>['Свежеуложенная поверхностная обработка']</td>\n",
       "      <td>2</td>\n",
       "      <td>['Все участники']</td>\n",
       "    </tr>\n",
       "    <tr>\n",
       "      <th>13914</th>\n",
       "      <td>[None, None]</td>\n",
       "      <td>1987864</td>\n",
       "      <td>Дорожно-транспортные происшествия</td>\n",
       "      <td>В темное время суток, освещение включено</td>\n",
       "      <td>NaN</td>\n",
       "      <td>NaN</td>\n",
       "      <td>['Многоквартирные жилые дома', 'Нерегулируемый...</td>\n",
       "      <td>Кирово-Чепецки район</td>\n",
       "      <td>820.0</td>\n",
       "      <td>г Кирово-Чепецк, ул Алексея Некрасова, 35</td>\n",
       "      <td>['Пасмурно', 'Снегопад']</td>\n",
       "      <td>Наезд на пешехода</td>\n",
       "      <td>2015-10-09 17:52:00</td>\n",
       "      <td>1</td>\n",
       "      <td>Кировская область</td>\n",
       "      <td>['Заснеженное']</td>\n",
       "      <td>2</td>\n",
       "      <td>['Все участники', 'Пешеходы']</td>\n",
       "    </tr>\n",
       "    <tr>\n",
       "      <th>13970</th>\n",
       "      <td>[None, None]</td>\n",
       "      <td>1987344</td>\n",
       "      <td>Дорожно-транспортные происшествия</td>\n",
       "      <td>Светлое время суток</td>\n",
       "      <td>NaN</td>\n",
       "      <td>NaN</td>\n",
       "      <td>[]</td>\n",
       "      <td>Кирово-Чепецки район</td>\n",
       "      <td>930.0</td>\n",
       "      <td>NaN</td>\n",
       "      <td>['Снегопад']</td>\n",
       "      <td>Наезд на препятствие</td>\n",
       "      <td>2016-01-09 14:00:00</td>\n",
       "      <td>1</td>\n",
       "      <td>Кировская область</td>\n",
       "      <td>['Заснеженное']</td>\n",
       "      <td>1</td>\n",
       "      <td>['Все участники']</td>\n",
       "    </tr>\n",
       "    <tr>\n",
       "      <th>13972</th>\n",
       "      <td>[None, None]</td>\n",
       "      <td>1982271</td>\n",
       "      <td>Дорожно-транспортные происшествия</td>\n",
       "      <td>В темное время суток, освещение отсутствует</td>\n",
       "      <td>NaN</td>\n",
       "      <td>NaN</td>\n",
       "      <td>['Жилые дома индивидуальной застройки', 'Остан...</td>\n",
       "      <td>Кирово-Чепецки район</td>\n",
       "      <td>NaN</td>\n",
       "      <td>Киров - Кирово-Чепецк - Зуевка - Фаленки - Дем...</td>\n",
       "      <td>['Пасмурно']</td>\n",
       "      <td>Наезд на пешехода</td>\n",
       "      <td>2015-09-23 00:40:00</td>\n",
       "      <td>1</td>\n",
       "      <td>Кировская область</td>\n",
       "      <td>['Сухое', 'Отсутствие освещения']</td>\n",
       "      <td>2</td>\n",
       "      <td>['Все участники', 'Пешеходы']</td>\n",
       "    </tr>\n",
       "    <tr>\n",
       "      <th>14085</th>\n",
       "      <td>[None, None]</td>\n",
       "      <td>1986665</td>\n",
       "      <td>Дорожно-транспортные происшествия</td>\n",
       "      <td>В темное время суток, освещение отсутствует</td>\n",
       "      <td>NaN</td>\n",
       "      <td>NaN</td>\n",
       "      <td>[]</td>\n",
       "      <td>Кирово-Чепецки район</td>\n",
       "      <td>610.0</td>\n",
       "      <td>Киров - Кирово-Чепецк - Зуевка - Фаленки - Дем...</td>\n",
       "      <td>['Ясно']</td>\n",
       "      <td>Наезд на препятствие</td>\n",
       "      <td>2015-04-15 19:20:00</td>\n",
       "      <td>2</td>\n",
       "      <td>Кировская область</td>\n",
       "      <td>['Сухое', 'Отсутствие, плохая различимость гор...</td>\n",
       "      <td>3</td>\n",
       "      <td>['Все участники']</td>\n",
       "    </tr>\n",
       "  </tbody>\n",
       "</table>\n",
       "</div>"
      ],
      "text/plain": [
       "        coordinates       id                               tags  \\\n",
       "391    [None, None]  1985738  Дорожно-транспортные происшествия   \n",
       "1029   [None, None]  1986653  Дорожно-транспортные происшествия   \n",
       "2198   [None, None]  1986337  Дорожно-транспортные происшествия   \n",
       "2227   [None, None]  1985083  Дорожно-транспортные происшествия   \n",
       "2269   [None, None]  1985078  Дорожно-транспортные происшествия   \n",
       "2274   [None, None]  1986660  Дорожно-транспортные происшествия   \n",
       "2293   [None, None]  1985081  Дорожно-транспортные происшествия   \n",
       "2306   [None, None]  1984230  Дорожно-транспортные происшествия   \n",
       "2309   [None, None]  1987238  Дорожно-транспортные происшествия   \n",
       "2688   [None, None]  1985539  Дорожно-транспортные происшествия   \n",
       "2814   [None, None]  1983205  Дорожно-транспортные происшествия   \n",
       "2845   [None, None]  1986923  Дорожно-транспортные происшествия   \n",
       "2869   [None, None]  1987657  Дорожно-транспортные происшествия   \n",
       "11655  [None, None]  1982318  Дорожно-транспортные происшествия   \n",
       "11656  [None, None]  1984292  Дорожно-транспортные происшествия   \n",
       "11694  [None, None]  1984446  Дорожно-транспортные происшествия   \n",
       "11818  [None, None]  1984284  Дорожно-транспортные происшествия   \n",
       "12195  [None, None]  1981657  Дорожно-транспортные происшествия   \n",
       "12237  [None, None]  1987913  Дорожно-транспортные происшествия   \n",
       "12273  [None, None]  1981347  Дорожно-транспортные происшествия   \n",
       "12652  [None, None]  1982296  Дорожно-транспортные происшествия   \n",
       "12975  [None, None]  1981474  Дорожно-транспортные происшествия   \n",
       "13012  [None, None]  1983251  Дорожно-транспортные происшествия   \n",
       "13135  [None, None]  1985796  Дорожно-транспортные происшествия   \n",
       "13513  [None, None]  1986661  Дорожно-транспортные происшествия   \n",
       "13531  [None, None]  1987345  Дорожно-транспортные происшествия   \n",
       "13618  [None, None]  1985496  Дорожно-транспортные происшествия   \n",
       "13912  [None, None]  1987861  Дорожно-транспортные происшествия   \n",
       "13914  [None, None]  1987864  Дорожно-транспортные происшествия   \n",
       "13970  [None, None]  1987344  Дорожно-транспортные происшествия   \n",
       "13972  [None, None]  1982271  Дорожно-транспортные происшествия   \n",
       "14085  [None, None]  1986665  Дорожно-транспортные происшествия   \n",
       "\n",
       "                                             light  point_lat  point_long  \\\n",
       "391                                        Сумерки        NaN         NaN   \n",
       "1029                           Светлое время суток        NaN         NaN   \n",
       "2198   В темное время суток, освещение отсутствует        NaN         NaN   \n",
       "2227   В темное время суток, освещение отсутствует        NaN         NaN   \n",
       "2269                           Светлое время суток        NaN         NaN   \n",
       "2274                           Светлое время суток        NaN         NaN   \n",
       "2293                           Светлое время суток        NaN         NaN   \n",
       "2306   В темное время суток, освещение отсутствует        NaN         NaN   \n",
       "2309                                       Сумерки        NaN         NaN   \n",
       "2688   В темное время суток, освещение отсутствует        NaN         NaN   \n",
       "2814                           Светлое время суток        NaN         NaN   \n",
       "2845                           Светлое время суток        NaN         NaN   \n",
       "2869   В темное время суток, освещение отсутствует        NaN         NaN   \n",
       "11655                          Светлое время суток        NaN         NaN   \n",
       "11656  В темное время суток, освещение отсутствует        NaN         NaN   \n",
       "11694                          Светлое время суток        NaN         NaN   \n",
       "11818     В темное время суток, освещение включено        NaN         NaN   \n",
       "12195                          Светлое время суток        NaN         NaN   \n",
       "12237                          Светлое время суток        NaN         NaN   \n",
       "12273                          Светлое время суток        NaN         NaN   \n",
       "12652                                      Сумерки        NaN         NaN   \n",
       "12975  В темное время суток, освещение отсутствует        NaN         NaN   \n",
       "13012                          Светлое время суток        NaN         NaN   \n",
       "13135                                      Сумерки        NaN         NaN   \n",
       "13513                          Светлое время суток        NaN         NaN   \n",
       "13531                          Светлое время суток        NaN         NaN   \n",
       "13618  В темное время суток, освещение отсутствует        NaN         NaN   \n",
       "13912                          Светлое время суток        NaN         NaN   \n",
       "13914     В темное время суток, освещение включено        NaN         NaN   \n",
       "13970                          Светлое время суток        NaN         NaN   \n",
       "13972  В темное время суток, освещение отсутствует        NaN         NaN   \n",
       "14085  В темное время суток, освещение отсутствует        NaN         NaN   \n",
       "\n",
       "                                                  nearby  \\\n",
       "391                                                   []   \n",
       "1029                                                  []   \n",
       "2198             ['Жилые дома индивидуальной застройки']   \n",
       "2227                                                  []   \n",
       "2269             ['Жилые дома индивидуальной застройки']   \n",
       "2274                                                  []   \n",
       "2293   ['Выезд с прилегающей территории', 'Одиночный ...   \n",
       "2306                                                  []   \n",
       "2309                    ['Производственное предприятие']   \n",
       "2688                                                  []   \n",
       "2814                                                  []   \n",
       "2845             ['Жилые дома индивидуальной застройки']   \n",
       "2869                                                  []   \n",
       "11655                                                 []   \n",
       "11656                                                 []   \n",
       "11694  ['Нерегулируемый перекрёсток неравнозначных ул...   \n",
       "11818                                                 []   \n",
       "12195                                                 []   \n",
       "12237                                                 []   \n",
       "12273            ['Жилые дома индивидуальной застройки']   \n",
       "12652  ['Многоквартирные жилые дома', 'Спортивные и р...   \n",
       "12975                                                 []   \n",
       "13012                                                 []   \n",
       "13135                                                 []   \n",
       "13513                                                 []   \n",
       "13531                                                 []   \n",
       "13618  ['Остановка общественного транспорта', 'Нерегу...   \n",
       "13912                                                 []   \n",
       "13914  ['Многоквартирные жилые дома', 'Нерегулируемый...   \n",
       "13970                                                 []   \n",
       "13972  ['Жилые дома индивидуальной застройки', 'Остан...   \n",
       "14085                                                 []   \n",
       "\n",
       "                     region  scheme  \\\n",
       "391       Шабалинский район     NaN   \n",
       "1029       Свечинский район   610.0   \n",
       "2198        Нолинский район   850.0   \n",
       "2227        Нолинский район    90.0   \n",
       "2269        Нолинский район   200.0   \n",
       "2274        Нолинский район   610.0   \n",
       "2293        Нолинский район   330.0   \n",
       "2306        Нолинский район   200.0   \n",
       "2309        Нолинский район   840.0   \n",
       "2688       Малмыжский район   820.0   \n",
       "2814        Лебяжский район   610.0   \n",
       "2845        Лебяжский район     NaN   \n",
       "2869        Куменский район   600.0   \n",
       "11655       Юрьянский район    60.0   \n",
       "11656       Юрьянский район   820.0   \n",
       "11694       Юрьянский район   300.0   \n",
       "11818       Юрьянский район     NaN   \n",
       "12195   Котельничский район   950.0   \n",
       "12237   Котельничский район   600.0   \n",
       "12273   Котельничский район   950.0   \n",
       "12652      Слободской район   870.0   \n",
       "12975      Слободской район   600.0   \n",
       "13012      Слободской район   600.0   \n",
       "13135  Кирово-Чепецки район     NaN   \n",
       "13513  Кирово-Чепецки район     NaN   \n",
       "13531  Кирово-Чепецки район   610.0   \n",
       "13618  Кирово-Чепецки район   820.0   \n",
       "13912  Кирово-Чепецки район     NaN   \n",
       "13914  Кирово-Чепецки район   820.0   \n",
       "13970  Кирово-Чепецки район   930.0   \n",
       "13972  Кирово-Чепецки район     NaN   \n",
       "14085  Кирово-Чепецки район   610.0   \n",
       "\n",
       "                                                 address  \\\n",
       "391                       пгт Ленинское, ул Гагарина, 89   \n",
       "1029   Котельнич - Свеча - Ленинское - гр. Костромско...   \n",
       "2198                            с Кырчаны, ул Ленина, 10   \n",
       "2227             Киров - Малмыж - Вятские Поляны, 110 км   \n",
       "2269                           д Среднее, ул Свободы, 72   \n",
       "2274                     Кырчаны - Нема - Кильмезь, 1 км   \n",
       "2293                        д Перевоз, ул Советская, 89б   \n",
       "2306             Киров - Малмыж - Вятские Поляны, 120 км   \n",
       "2309                       г Нолинск, ул Пригородная, 33   \n",
       "2688             Киров - Малмыж - Вятские Поляны, 273 км   \n",
       "2814                        с Вотское, ул Молодежная, 13   \n",
       "2845                             с Вотское, ул Южная, 18   \n",
       "2869       Плотники - Вожгалы - Богородское - Уни, 42 км   \n",
       "11655  Р-176 Вятка Чебоксары - Йошкар-Ола - Киров - С...   \n",
       "11656    Р-176 Подъезд к городу Киров от а/д Р-176, 4 км   \n",
       "11694  Р-176 Вятка Чебоксары - Йошкар-Ола - Киров - С...   \n",
       "11818                             пгт Юрья, ул Ленина, 7   \n",
       "12195                                                NaN   \n",
       "12237  Котельнич - Свеча - Ленинское - гр. Костромско...   \n",
       "12273                        д Караул, ул Монтажников, 3   \n",
       "12652                    г Слободской, ул Советская, 100   \n",
       "12975      Кострома - Шарья - Киров - Пермь Р-243, 46 км   \n",
       "13012                  Заборье - Митино - Карюгино, 2 км   \n",
       "13135                                                NaN   \n",
       "13513                                                NaN   \n",
       "13531  Киров - Кирово-Чепецк - Зуевка - Фаленки - Дем...   \n",
       "13618                      Киров - Стрижи - Оричи, 30 км   \n",
       "13912  Киров - Кирово-Чепецк - Зуевка - Фаленки - Дем...   \n",
       "13914          г Кирово-Чепецк, ул Алексея Некрасова, 35   \n",
       "13970                                                NaN   \n",
       "13972  Киров - Кирово-Чепецк - Зуевка - Фаленки - Дем...   \n",
       "14085  Киров - Кирово-Чепецк - Зуевка - Фаленки - Дем...   \n",
       "\n",
       "                        weather                category             datetime  \\\n",
       "391                    ['Ясно']   Отбрасывание предмета  2015-05-25 22:00:00   \n",
       "1029               ['Пасмурно']          Съезд с дороги  2015-04-24 07:00:00   \n",
       "2198               ['Пасмурно']       Наезд на пешехода  2016-09-05 20:10:00   \n",
       "2227               ['Пасмурно']            Столкновение  2016-06-12 20:50:00   \n",
       "2269                   ['Ясно']  Наезд на велосипедиста  2016-06-23 13:50:00   \n",
       "2274                   ['Ясно']           Опрокидывание  2015-04-02 09:45:00   \n",
       "2293                   ['Ясно']            Столкновение  2016-06-14 09:50:00   \n",
       "2306               ['Пасмурно']            Столкновение  2015-12-26 16:05:00   \n",
       "2309               ['Пасмурно']       Наезд на пешехода  2015-03-19 18:57:00   \n",
       "2688                   ['Ясно']       Наезд на пешехода  2015-11-07 17:39:00   \n",
       "2814                   ['Ясно']           Опрокидывание  2017-07-17 09:30:00   \n",
       "2845                   ['Ясно']       Наезд на пешехода  2016-05-04 12:30:00   \n",
       "2869                   ['Ясно']           Опрокидывание  2016-11-16 01:15:00   \n",
       "11655                  ['Ясно']            Столкновение  2015-09-01 11:00:00   \n",
       "11656              ['Пасмурно']       Наезд на пешехода  2015-12-15 17:00:00   \n",
       "11694              ['Пасмурно']            Столкновение  2017-11-11 06:27:00   \n",
       "11818              ['Пасмурно']       Наезд на пешехода  2015-12-19 02:50:00   \n",
       "12195              ['Пасмурно']           Опрокидывание  2017-12-02 16:00:00   \n",
       "12237              ['Пасмурно']           Опрокидывание  2015-10-09 17:00:00   \n",
       "12273              ['Пасмурно']           Опрокидывание  2016-02-14 16:30:00   \n",
       "12652                  ['Ясно']       Наезд на пешехода  2015-09-29 04:30:00   \n",
       "12975                 ['Дождь']    Наезд на препятствие  2017-08-27 02:20:00   \n",
       "13012              ['Пасмурно']    Наезд на препятствие  2017-07-07 05:20:00   \n",
       "13135                  ['Ясно']           Опрокидывание  2015-05-04 19:25:00   \n",
       "13513                  ['Ясно']            Столкновение  2015-04-29 06:00:00   \n",
       "13531              ['Пасмурно']          Съезд с дороги  2016-01-08 09:00:00   \n",
       "13618              ['Пасмурно']       Наезд на пешехода  2015-11-16 17:00:00   \n",
       "13912              ['Пасмурно']            Иной вид ДТП  2015-10-15 09:05:00   \n",
       "13914  ['Пасмурно', 'Снегопад']       Наезд на пешехода  2015-10-09 17:52:00   \n",
       "13970              ['Снегопад']    Наезд на препятствие  2016-01-09 14:00:00   \n",
       "13972              ['Пасмурно']       Наезд на пешехода  2015-09-23 00:40:00   \n",
       "14085                  ['Ясно']    Наезд на препятствие  2015-04-15 19:20:00   \n",
       "\n",
       "       injured_count      parent_region  \\\n",
       "391                1  Кировская область   \n",
       "1029               1  Кировская область   \n",
       "2198               1  Кировская область   \n",
       "2227               2  Кировская область   \n",
       "2269               1  Кировская область   \n",
       "2274               2  Кировская область   \n",
       "2293               1  Кировская область   \n",
       "2306               1  Кировская область   \n",
       "2309               1  Кировская область   \n",
       "2688               1  Кировская область   \n",
       "2814               1  Кировская область   \n",
       "2845               1  Кировская область   \n",
       "2869               2  Кировская область   \n",
       "11655              1  Кировская область   \n",
       "11656              1  Кировская область   \n",
       "11694              3  Кировская область   \n",
       "11818              1  Кировская область   \n",
       "12195              1  Кировская область   \n",
       "12237              1  Кировская область   \n",
       "12273              1  Кировская область   \n",
       "12652              1  Кировская область   \n",
       "12975              1  Кировская область   \n",
       "13012              1  Кировская область   \n",
       "13135              1  Кировская область   \n",
       "13513              1  Кировская область   \n",
       "13531              1  Кировская область   \n",
       "13618              1  Кировская область   \n",
       "13912              1  Кировская область   \n",
       "13914              1  Кировская область   \n",
       "13970              1  Кировская область   \n",
       "13972              1  Кировская область   \n",
       "14085              2  Кировская область   \n",
       "\n",
       "                                         road_conditions  participants_count  \\\n",
       "391                                            ['Сухое']                   2   \n",
       "1029                                          ['Мокрое']                   2   \n",
       "2198                                           ['Сухое']                   2   \n",
       "2227                      ['Мокрое', 'Дефекты покрытия']                   5   \n",
       "2269                                           ['Сухое']                   3   \n",
       "2274   ['Сухое', 'Отсутствие, плохая различимость гор...                   2   \n",
       "2293                                           ['Сухое']                   2   \n",
       "2306                                           ['Сухое']                   3   \n",
       "2309   ['Сухое', 'Отсутствие, плохая различимость гор...                   2   \n",
       "2688                                           ['Сухое']                   2   \n",
       "2814                                           ['Сухое']                   1   \n",
       "2845                                           ['Сухое']                   2   \n",
       "2869     ['Обработанное противогололедными материалами']                   2   \n",
       "11655                                          ['Сухое']                   3   \n",
       "11656    ['Обработанное противогололедными материалами']                   2   \n",
       "11694                                          ['Сухое']                   5   \n",
       "11818                             ['Со снежным накатом']                   2   \n",
       "12195                                    ['Заснеженное']                   1   \n",
       "12237                                         ['Мокрое']                   1   \n",
       "12273                                    ['Заснеженное']                   1   \n",
       "12652                                          ['Сухое']                   2   \n",
       "12975                                         ['Мокрое']                   1   \n",
       "13012                                          ['Сухое']                   2   \n",
       "13135                                          ['Сухое']                   2   \n",
       "13513                                          ['Сухое']                   3   \n",
       "13531    ['Обработанное противогололедными материалами']                   1   \n",
       "13618  ['Сухое', 'Отсутствие, плохая различимость гор...                   2   \n",
       "13912         ['Свежеуложенная поверхностная обработка']                   2   \n",
       "13914                                    ['Заснеженное']                   2   \n",
       "13970                                    ['Заснеженное']                   1   \n",
       "13972                  ['Сухое', 'Отсутствие освещения']                   2   \n",
       "14085  ['Сухое', 'Отсутствие, плохая различимость гор...                   3   \n",
       "\n",
       "                           participant_categories  \n",
       "391         ['Все участники', 'Пешеходы', 'Дети']  \n",
       "1029                            ['Все участники']  \n",
       "2198                ['Все участники', 'Пешеходы']  \n",
       "2227                            ['Все участники']  \n",
       "2269   ['Все участники', 'Велосипедисты', 'Дети']  \n",
       "2274                            ['Все участники']  \n",
       "2293                            ['Все участники']  \n",
       "2306                            ['Все участники']  \n",
       "2309                ['Все участники', 'Пешеходы']  \n",
       "2688                ['Все участники', 'Пешеходы']  \n",
       "2814                            ['Все участники']  \n",
       "2845                ['Все участники', 'Пешеходы']  \n",
       "2869                            ['Все участники']  \n",
       "11655           ['Все участники', 'Мотоциклисты']  \n",
       "11656               ['Все участники', 'Пешеходы']  \n",
       "11694                           ['Все участники']  \n",
       "11818               ['Все участники', 'Пешеходы']  \n",
       "12195                           ['Все участники']  \n",
       "12237                           ['Все участники']  \n",
       "12273                           ['Все участники']  \n",
       "12652               ['Все участники', 'Пешеходы']  \n",
       "12975                           ['Все участники']  \n",
       "13012                           ['Все участники']  \n",
       "13135                           ['Все участники']  \n",
       "13513                           ['Все участники']  \n",
       "13531                           ['Все участники']  \n",
       "13618               ['Все участники', 'Пешеходы']  \n",
       "13912                           ['Все участники']  \n",
       "13914               ['Все участники', 'Пешеходы']  \n",
       "13970                           ['Все участники']  \n",
       "13972               ['Все участники', 'Пешеходы']  \n",
       "14085                           ['Все участники']  "
      ]
     },
     "execution_count": 100,
     "metadata": {},
     "output_type": "execute_result"
    }
   ],
   "source": [
    "kirovskaya_oblast[kirovskaya_oblast['point_lat'].isna()]"
   ]
  },
  {
   "cell_type": "markdown",
   "metadata": {
    "id": "cKxZVYMnGEQ1"
   },
   "source": [
    "Аналогично со столбцами с координатами: можно восстановить координаты ДТП по адресам, которые в некоторых строках также не являются пропусками."
   ]
  },
  {
   "cell_type": "markdown",
   "metadata": {
    "id": "SuTnnu7kGEQ1"
   },
   "source": [
    "Что делать с пропусками, если нет возможности восстановить потерянные данные? <a id='2'></a>\n",
    "- Пропсуки в `point_lat`и `point_long` можно удалить, так как они составили менее 1%.\n",
    "\n",
    "- Пропсуки в `scheme` можно оставить как есть, так как столбец содержит численный формат данных и заглушки в виде -1, 0, 1 и т.п. могут исказить возможные расчеты и работу с данными.\n",
    "\n",
    "- Пропуски в `address` можно заменить на \"без адреса\", так как в любом случае столбец содержит строки и данная заглушка не исказит данные.\n",
    "\n",
    "В дальнейшем можно обязать заполнять некоторые поля, чтобы пропуски больше не встречались.\n",
    "\n",
    "Поработаем также с пропусками в датасетах `kirovskaya_oblast_participiants` и `kirovskaya_oblast_vehicles`."
   ]
  },
  {
   "cell_type": "code",
   "execution_count": 101,
   "metadata": {
    "colab": {
     "base_uri": "https://localhost:8080/",
     "height": 272
    },
    "executionInfo": {
     "elapsed": 2,
     "status": "ok",
     "timestamp": 1756309870863,
     "user": {
      "displayName": "Maria Averkina",
      "userId": "01722641797731955161"
     },
     "user_tz": 420
    },
    "id": "RnR64aS5GEQ1",
    "outputId": "3fb5fbfd-c8d5-47e6-8b70-c1cad0b35156"
   },
   "outputs": [
    {
     "data": {
      "text/plain": [
       "years_of_driving_experience    14326\n",
       "gender                           848\n",
       "health_status                    100\n",
       "role                               0\n",
       "violations                         0\n",
       "id                                 0\n",
       "dtype: int64"
      ]
     },
     "execution_count": 101,
     "metadata": {},
     "output_type": "execute_result"
    }
   ],
   "source": [
    "kirovskaya_oblast_participiants.isna().sum().sort_values(ascending = False)"
   ]
  },
  {
   "cell_type": "markdown",
   "metadata": {
    "id": "sHGuJIQGGEQ-"
   },
   "source": [
    "Промежуточные итоги:\n",
    "\n",
    "Можно заметить, что пропуски есть только в 3 столбцах, опишем сразу их возможные значения:\n",
    "1. `years_of_driving_experience` - 14326. Возможные причины, что данная строка описывает участника, не имеющего водительских прав (пассажиры автомобиля или пешеходы, например). Или возможно водитель не имеет страховки, куда обычно вписывают водительский стаж.\n",
    "2. `gender`- 848. Эти пропуски скорее всего носят технический характер, так как все участники ДТП имеют пол и его должны были бы внести в датасет.\n",
    "3. `health_status` - 100. Если посе ДТП некоторые участники покинули место проишествия или не обращались за медицинской помощью, то это могло послужить причиной пропусков в данном столбце."
   ]
  },
  {
   "cell_type": "code",
   "execution_count": 102,
   "metadata": {
    "colab": {
     "base_uri": "https://localhost:8080/",
     "height": 272
    },
    "executionInfo": {
     "elapsed": 1,
     "status": "ok",
     "timestamp": 1756309870865,
     "user": {
      "displayName": "Maria Averkina",
      "userId": "01722641797731955161"
     },
     "user_tz": 420
    },
    "id": "Q8Cv9xtBGEQ-",
    "outputId": "a01a5c44-92ea-4bed-9356-fdefed3a38d6",
    "scrolled": true
   },
   "outputs": [
    {
     "data": {
      "text/plain": [
       "role                            0.0\n",
       "gender                          2.7\n",
       "violations                      0.0\n",
       "health_status                   0.3\n",
       "years_of_driving_experience    45.9\n",
       "id                              0.0\n",
       "dtype: float64"
      ]
     },
     "execution_count": 102,
     "metadata": {},
     "output_type": "execute_result"
    }
   ],
   "source": [
    "round(kirovskaya_oblast_participiants.isna().sum()/len(kirovskaya_oblast_participiants), 3)*100"
   ]
  },
  {
   "cell_type": "markdown",
   "metadata": {
    "id": "Q3tpMSdBGEQ_"
   },
   "source": [
    "Промежуточные итоги:\n",
    "\n",
    "Опишем относительные значения пропусков по столбцам и напишем, что делать:\n",
    "1. `years_of_driving_experience` - 45.9%. Слишком большой процент пропусков от общего кол-ва строк, удалить точно не получится. Можно поставить заглушки на место пропусков, например -1, так как по логике водительский стаж не может быть отрицательным. Можно оставить пропуски как есть, чтобы не искажать анализ.\n",
    "2. `gender`- 2.7%. Эти пропуски следует оставить как есть, так как в относительном выражении их кол-во превышает 1% и удалить их невозможно.\n",
    "3. `health_status` - 0.3%. Несмотря на то, что данные пропуски составиили менее 1%, следует их оставить как есть, чтобы не потерять возможно ценные для анализа данные."
   ]
  },
  {
   "cell_type": "code",
   "execution_count": 103,
   "metadata": {
    "colab": {
     "base_uri": "https://localhost:8080/",
     "height": 272
    },
    "executionInfo": {
     "elapsed": 11,
     "status": "ok",
     "timestamp": 1756309870888,
     "user": {
      "displayName": "Maria Averkina",
      "userId": "01722641797731955161"
     },
     "user_tz": 420
    },
    "id": "vTpBMMxqGEQ_",
    "outputId": "4f5c61c1-02e7-4b7e-f280-3b39376e504a"
   },
   "outputs": [
    {
     "data": {
      "text/plain": [
       "year        794\n",
       "brand       775\n",
       "model       775\n",
       "color       450\n",
       "category      0\n",
       "id            0\n",
       "dtype: int64"
      ]
     },
     "execution_count": 103,
     "metadata": {},
     "output_type": "execute_result"
    }
   ],
   "source": [
    "kirovskaya_oblast_vehicles.isna().sum().sort_values(ascending = False)"
   ]
  },
  {
   "cell_type": "markdown",
   "metadata": {
    "id": "w_yDl357GEQ_"
   },
   "source": [
    "Промежуточные итоги:\n",
    "\n",
    "Можно заметить, что пропуски есть только в 4 столбцах, опишем сразу их возможные значения:\n",
    "1. `year` - 784. Скорее всего техническая ошибка, так как узнать год выпуска автомобиля при необходимости не сложно. Либо в данном ДТП не участвовал автомобиль(например, ДТП произошла при участии велосипедиста и пешехода).\n",
    "2. `brand`- 765. Скорее всего техническая ошибка. Либо в данном ДТП не участвовал автомобиль(например, ДТП произошла при участии велосипедиста и пешехода).\n",
    "3. `model` - 765. Скорее всего техническая ошибка. Либо в данном ДТП не участвовал автомобиль(например, ДТП произошла при участии велосипедиста и пешехода). Можно восстановить бренд автомобиля по названию модели, если эта строка не пропущена, и наоборот.\n",
    "4. `color` - 443. Скорее всего техническая ошибка. Либо в данном ДТП не участвовал автомобиль(например, ДТП произошла при участии велосипедиста и пешехода)."
   ]
  },
  {
   "cell_type": "code",
   "execution_count": 104,
   "metadata": {
    "colab": {
     "base_uri": "https://localhost:8080/",
     "height": 272
    },
    "executionInfo": {
     "elapsed": 52,
     "status": "ok",
     "timestamp": 1756309870942,
     "user": {
      "displayName": "Maria Averkina",
      "userId": "01722641797731955161"
     },
     "user_tz": 420
    },
    "id": "4WVit6YhGEQ_",
    "outputId": "975100e2-a145-46a4-e67c-afddbe4228cb"
   },
   "outputs": [
    {
     "data": {
      "text/plain": [
       "year        4.0\n",
       "brand       3.9\n",
       "color       2.2\n",
       "model       3.9\n",
       "category    0.0\n",
       "id          0.0\n",
       "dtype: float64"
      ]
     },
     "execution_count": 104,
     "metadata": {},
     "output_type": "execute_result"
    }
   ],
   "source": [
    "round(kirovskaya_oblast_vehicles.isna().sum()/len(kirovskaya_oblast_vehicles), 3)*100"
   ]
  },
  {
   "cell_type": "markdown",
   "metadata": {
    "id": "fP42KUKVGEQ_"
   },
   "source": [
    "Промежуточные итоги:\n",
    "\n",
    "Опишем относительные значения пропусков по столбцам и напишем, что делать:\n",
    "1. `year` - 3.9%. Можно оставить как есть, чтобы не искажать данные, но можно поставить заглушку в виде -1 или 0, так как, очевидно, год не может быть стаким значением.  \n",
    "2. `brand`- 3.8% Можно оставить как есть или прописать вместо пропусков \"без бренда\".\n",
    "3. `model` - 3.8%. Можно оставить как есть или прописать вместо пропусков \"без модели\".\n",
    "4. `color` - 2.2%. Можно оставить как есть или прописать вместо пропусков \"без цвета\".\n",
    "\n",
    "Далее проделаем всю ту же работу с датасетами по Московской области, будем избегать развернутых комментариев, чтобы сэкономить время.\n",
    "\n",
    "Посчитаем абсолютные значения пропусков в датасете по Московской области `moscowskaya_oblast` (не забываем про особенные столбцы `nearby`, `weather `, `road_conditions`, `participant_categories` и `geometry_coordinates`)."
   ]
  },
  {
   "cell_type": "code",
   "execution_count": 105,
   "metadata": {
    "colab": {
     "base_uri": "https://localhost:8080/",
     "height": 649
    },
    "executionInfo": {
     "elapsed": 3,
     "status": "ok",
     "timestamp": 1756309870943,
     "user": {
      "displayName": "Maria Averkina",
      "userId": "01722641797731955161"
     },
     "user_tz": 420
    },
    "id": "euvM-zSJGEQ_",
    "outputId": "52d8fa45-26b6-4ce0-fbd4-d9a2284a56f1"
   },
   "outputs": [
    {
     "data": {
      "text/plain": [
       "address                   1756\n",
       "scheme                    1383\n",
       "point_lat                    3\n",
       "point_long                   3\n",
       "category                     0\n",
       "participants_count           0\n",
       "road_conditions              0\n",
       "parent_region                0\n",
       "injured_count                0\n",
       "datetime                     0\n",
       "coordinates                  0\n",
       "weather                      0\n",
       "id                           0\n",
       "region                       0\n",
       "nearby                       0\n",
       "light                        0\n",
       "tags                         0\n",
       "participant_categories       0\n",
       "dtype: int64"
      ]
     },
     "execution_count": 105,
     "metadata": {},
     "output_type": "execute_result"
    }
   ],
   "source": [
    "moscowskaya_oblast.isna().sum().sort_values(ascending = False)"
   ]
  },
  {
   "cell_type": "markdown",
   "metadata": {
    "id": "-CDgftmuGERA"
   },
   "source": [
    "Пропуски есть в столбцах:\n",
    "- `point_lat` (3), `point_long` (3), `scheme`(1383), `address`(1756).\n",
    "\n",
    "Далее посмотрим относительные значения пропусков в процентах."
   ]
  },
  {
   "cell_type": "code",
   "execution_count": 106,
   "metadata": {
    "colab": {
     "base_uri": "https://localhost:8080/",
     "height": 649
    },
    "executionInfo": {
     "elapsed": 71,
     "status": "ok",
     "timestamp": 1756309871014,
     "user": {
      "displayName": "Maria Averkina",
      "userId": "01722641797731955161"
     },
     "user_tz": 420
    },
    "id": "hfUnEjDeGERA",
    "outputId": "633c6bd3-4b99-4a44-e79a-0aa90072d78d"
   },
   "outputs": [
    {
     "data": {
      "text/plain": [
       "coordinates               0.000\n",
       "id                        0.000\n",
       "tags                      0.000\n",
       "light                     0.000\n",
       "point_lat                 0.007\n",
       "point_long                0.007\n",
       "nearby                    0.000\n",
       "region                    0.000\n",
       "scheme                    3.032\n",
       "address                   3.849\n",
       "weather                   0.000\n",
       "category                  0.000\n",
       "datetime                  0.000\n",
       "injured_count             0.000\n",
       "parent_region             0.000\n",
       "road_conditions           0.000\n",
       "participants_count        0.000\n",
       "participant_categories    0.000\n",
       "dtype: float64"
      ]
     },
     "execution_count": 106,
     "metadata": {},
     "output_type": "execute_result"
    }
   ],
   "source": [
    "round(moscowskaya_oblast.isna().sum()/len(moscowskaya_oblast), 5)*100"
   ]
  },
  {
   "cell_type": "markdown",
   "metadata": {
    "id": "a67C4Vq_GERA"
   },
   "source": [
    "Давайте узнаем, возможно получится восстановить пропущенные данные на основе информации из других столбцов. Посмотрим еще раз на пропуски в `address`."
   ]
  },
  {
   "cell_type": "markdown",
   "metadata": {
    "id": "wHNdN7SBGERA"
   },
   "source": [
    "Пропсуки в процентах составили:\n",
    "-`point_lat` (0.007%), `point_long` (0.007%), `scheme`(3.032%), `address`(3.849%).\n",
    "\n",
    "[Далее описание пропусков повторяет то, что было указано в блоке про Кировскую область.](#1)"
   ]
  },
  {
   "cell_type": "code",
   "execution_count": 107,
   "metadata": {
    "colab": {
     "base_uri": "https://localhost:8080/",
     "height": 912
    },
    "executionInfo": {
     "elapsed": 30,
     "status": "ok",
     "timestamp": 1756309871043,
     "user": {
      "displayName": "Maria Averkina",
      "userId": "01722641797731955161"
     },
     "user_tz": 420
    },
    "id": "d0XZvMexGERA",
    "outputId": "9ba11ffc-bba7-4b1b-a553-beaca9575d42"
   },
   "outputs": [
    {
     "data": {
      "text/html": [
       "<div>\n",
       "<style scoped>\n",
       "    .dataframe tbody tr th:only-of-type {\n",
       "        vertical-align: middle;\n",
       "    }\n",
       "\n",
       "    .dataframe tbody tr th {\n",
       "        vertical-align: top;\n",
       "    }\n",
       "\n",
       "    .dataframe thead th {\n",
       "        text-align: right;\n",
       "    }\n",
       "</style>\n",
       "<table border=\"1\" class=\"dataframe\">\n",
       "  <thead>\n",
       "    <tr style=\"text-align: right;\">\n",
       "      <th></th>\n",
       "      <th>coordinates</th>\n",
       "      <th>id</th>\n",
       "      <th>tags</th>\n",
       "      <th>light</th>\n",
       "      <th>point_lat</th>\n",
       "      <th>point_long</th>\n",
       "      <th>nearby</th>\n",
       "      <th>region</th>\n",
       "      <th>scheme</th>\n",
       "      <th>address</th>\n",
       "      <th>weather</th>\n",
       "      <th>category</th>\n",
       "      <th>datetime</th>\n",
       "      <th>injured_count</th>\n",
       "      <th>parent_region</th>\n",
       "      <th>road_conditions</th>\n",
       "      <th>participants_count</th>\n",
       "      <th>participant_categories</th>\n",
       "    </tr>\n",
       "  </thead>\n",
       "  <tbody>\n",
       "    <tr>\n",
       "      <th>43</th>\n",
       "      <td>[38.0241, 56.1149]</td>\n",
       "      <td>2148422</td>\n",
       "      <td>['Дорожно-транспортные происшествия']</td>\n",
       "      <td>Светлое время суток</td>\n",
       "      <td>56.114900</td>\n",
       "      <td>38.024100</td>\n",
       "      <td>['Жилые дома индивидуальной застройки']</td>\n",
       "      <td>Сергиево-Посадский</td>\n",
       "      <td>930.0</td>\n",
       "      <td>NaN</td>\n",
       "      <td>['Ясно']</td>\n",
       "      <td>Наезд на препятствие</td>\n",
       "      <td>2016-06-24 09:30:00</td>\n",
       "      <td>1</td>\n",
       "      <td>Московская область</td>\n",
       "      <td>['Сухое']</td>\n",
       "      <td>2</td>\n",
       "      <td>['Все участники', 'Пешеходы']</td>\n",
       "    </tr>\n",
       "    <tr>\n",
       "      <th>129</th>\n",
       "      <td>[39.098217, 55.52959]</td>\n",
       "      <td>2555064</td>\n",
       "      <td>['Дорожно-транспортные происшествия']</td>\n",
       "      <td>В темное время суток, освещение отсутствует</td>\n",
       "      <td>55.529590</td>\n",
       "      <td>39.098217</td>\n",
       "      <td>['Жилые дома индивидуальной застройки']</td>\n",
       "      <td>Орехово-Зуево</td>\n",
       "      <td>910.0</td>\n",
       "      <td>NaN</td>\n",
       "      <td>['Ясно']</td>\n",
       "      <td>Наезд на стоящее ТС</td>\n",
       "      <td>2021-03-23 04:00:00</td>\n",
       "      <td>1</td>\n",
       "      <td>Московская область</td>\n",
       "      <td>['Мокрое', 'Отсутствие освещения']</td>\n",
       "      <td>2</td>\n",
       "      <td>['Все участники']</td>\n",
       "    </tr>\n",
       "    <tr>\n",
       "      <th>149</th>\n",
       "      <td>[37.774612, 55.391446]</td>\n",
       "      <td>2137771</td>\n",
       "      <td>['Дорожно-транспортные происшествия']</td>\n",
       "      <td>Светлое время суток</td>\n",
       "      <td>55.391446</td>\n",
       "      <td>37.774612</td>\n",
       "      <td>['АЗС', 'Автостоянка (отделенная от проезжей ч...</td>\n",
       "      <td>Домодедово</td>\n",
       "      <td>820.0</td>\n",
       "      <td>NaN</td>\n",
       "      <td>['Ясно']</td>\n",
       "      <td>Наезд на пешехода</td>\n",
       "      <td>2019-09-24 17:50:00</td>\n",
       "      <td>1</td>\n",
       "      <td>Московская область</td>\n",
       "      <td>['Сухое']</td>\n",
       "      <td>2</td>\n",
       "      <td>['Все участники', 'Пешеходы']</td>\n",
       "    </tr>\n",
       "    <tr>\n",
       "      <th>175</th>\n",
       "      <td>[37.901389, 55.418333]</td>\n",
       "      <td>2154311</td>\n",
       "      <td>['Дорожно-транспортные происшествия']</td>\n",
       "      <td>Светлое время суток</td>\n",
       "      <td>55.418333</td>\n",
       "      <td>37.901389</td>\n",
       "      <td>['Автостоянка (отделенная от проезжей части)',...</td>\n",
       "      <td>Домодедово</td>\n",
       "      <td>820.0</td>\n",
       "      <td>NaN</td>\n",
       "      <td>['Пасмурно']</td>\n",
       "      <td>Наезд на пешехода</td>\n",
       "      <td>2015-09-04 15:30:00</td>\n",
       "      <td>1</td>\n",
       "      <td>Московская область</td>\n",
       "      <td>['Сухое']</td>\n",
       "      <td>2</td>\n",
       "      <td>['Все участники', 'Пешеходы']</td>\n",
       "    </tr>\n",
       "    <tr>\n",
       "      <th>176</th>\n",
       "      <td>[37.7064, 55.4678]</td>\n",
       "      <td>2132399</td>\n",
       "      <td>['Дорожно-транспортные происшествия']</td>\n",
       "      <td>Светлое время суток</td>\n",
       "      <td>55.467800</td>\n",
       "      <td>37.706400</td>\n",
       "      <td>['Крупный торговый объект (являющийся объектом...</td>\n",
       "      <td>Домодедово</td>\n",
       "      <td>830.0</td>\n",
       "      <td>NaN</td>\n",
       "      <td>['Дождь']</td>\n",
       "      <td>Наезд на пешехода</td>\n",
       "      <td>2016-08-15 08:00:00</td>\n",
       "      <td>1</td>\n",
       "      <td>Московская область</td>\n",
       "      <td>['Мокрое']</td>\n",
       "      <td>2</td>\n",
       "      <td>['Все участники', 'Пешеходы']</td>\n",
       "    </tr>\n",
       "    <tr>\n",
       "      <th>...</th>\n",
       "      <td>...</td>\n",
       "      <td>...</td>\n",
       "      <td>...</td>\n",
       "      <td>...</td>\n",
       "      <td>...</td>\n",
       "      <td>...</td>\n",
       "      <td>...</td>\n",
       "      <td>...</td>\n",
       "      <td>...</td>\n",
       "      <td>...</td>\n",
       "      <td>...</td>\n",
       "      <td>...</td>\n",
       "      <td>...</td>\n",
       "      <td>...</td>\n",
       "      <td>...</td>\n",
       "      <td>...</td>\n",
       "      <td>...</td>\n",
       "      <td>...</td>\n",
       "    </tr>\n",
       "    <tr>\n",
       "      <th>45339</th>\n",
       "      <td>[38.330032, 55.727899]</td>\n",
       "      <td>2537710</td>\n",
       "      <td>['Дорожно-транспортные происшествия']</td>\n",
       "      <td>Светлое время суток</td>\n",
       "      <td>55.727899</td>\n",
       "      <td>38.330032</td>\n",
       "      <td>['Многоквартирные жилые дома']</td>\n",
       "      <td>Ногинский</td>\n",
       "      <td>930.0</td>\n",
       "      <td>NaN</td>\n",
       "      <td>['Ясно']</td>\n",
       "      <td>Наезд на препятствие</td>\n",
       "      <td>2021-01-18 11:40:00</td>\n",
       "      <td>1</td>\n",
       "      <td>Московская область</td>\n",
       "      <td>['Недостатки зимнего содержания', 'Со снежным ...</td>\n",
       "      <td>3</td>\n",
       "      <td>['Все участники']</td>\n",
       "    </tr>\n",
       "    <tr>\n",
       "      <th>45371</th>\n",
       "      <td>[38.5531, 54.8475]</td>\n",
       "      <td>2148891</td>\n",
       "      <td>['Дорожно-транспортные происшествия']</td>\n",
       "      <td>Светлое время суток</td>\n",
       "      <td>54.847500</td>\n",
       "      <td>38.553100</td>\n",
       "      <td>['Жилые дома индивидуальной застройки', 'Нерег...</td>\n",
       "      <td>Озёрский</td>\n",
       "      <td>400.0</td>\n",
       "      <td>NaN</td>\n",
       "      <td>['Ясно']</td>\n",
       "      <td>Наезд на велосипедиста</td>\n",
       "      <td>2018-05-21 17:45:00</td>\n",
       "      <td>1</td>\n",
       "      <td>Московская область</td>\n",
       "      <td>['Сухое']</td>\n",
       "      <td>2</td>\n",
       "      <td>['Все участники', 'Велосипедисты']</td>\n",
       "    </tr>\n",
       "    <tr>\n",
       "      <th>45409</th>\n",
       "      <td>[37.190051, 55.682206]</td>\n",
       "      <td>2702762</td>\n",
       "      <td>['Дорожно-транспортные происшествия']</td>\n",
       "      <td>Светлое время суток</td>\n",
       "      <td>55.682206</td>\n",
       "      <td>37.190051</td>\n",
       "      <td>['Нерегулируемый пешеходный переход', 'Медицин...</td>\n",
       "      <td>Власиха</td>\n",
       "      <td>880.0</td>\n",
       "      <td>NaN</td>\n",
       "      <td>['Ясно']</td>\n",
       "      <td>Наезд на пешехода</td>\n",
       "      <td>2022-06-09 14:15:00</td>\n",
       "      <td>1</td>\n",
       "      <td>Московская область</td>\n",
       "      <td>['Сухое', 'Отсутствие, плохая различимость гор...</td>\n",
       "      <td>2</td>\n",
       "      <td>['Все участники', 'Пешеходы']</td>\n",
       "    </tr>\n",
       "    <tr>\n",
       "      <th>45495</th>\n",
       "      <td>[36.53068, 55.34451]</td>\n",
       "      <td>2148456</td>\n",
       "      <td>['Дорожно-транспортные происшествия']</td>\n",
       "      <td>Светлое время суток</td>\n",
       "      <td>55.344510</td>\n",
       "      <td>36.530680</td>\n",
       "      <td>[]</td>\n",
       "      <td>Наро-Фоминский</td>\n",
       "      <td>610.0</td>\n",
       "      <td>NaN</td>\n",
       "      <td>['Ясно']</td>\n",
       "      <td>Наезд на препятствие</td>\n",
       "      <td>2017-04-30 10:15:00</td>\n",
       "      <td>1</td>\n",
       "      <td>Московская область</td>\n",
       "      <td>['Сухое']</td>\n",
       "      <td>1</td>\n",
       "      <td>['Все участники']</td>\n",
       "    </tr>\n",
       "    <tr>\n",
       "      <th>45583</th>\n",
       "      <td>[39.9303, 55.7525]</td>\n",
       "      <td>2140885</td>\n",
       "      <td>['Дорожно-транспортные происшествия', 'ДТП и п...</td>\n",
       "      <td>Светлое время суток</td>\n",
       "      <td>55.752500</td>\n",
       "      <td>39.930300</td>\n",
       "      <td>['Административные здания', 'Внутридворовая те...</td>\n",
       "      <td>Орехово-Зуевский</td>\n",
       "      <td>840.0</td>\n",
       "      <td>NaN</td>\n",
       "      <td>['Ясно']</td>\n",
       "      <td>Наезд на пешехода</td>\n",
       "      <td>2017-03-14 07:45:00</td>\n",
       "      <td>1</td>\n",
       "      <td>Московская область</td>\n",
       "      <td>['Сухое']</td>\n",
       "      <td>2</td>\n",
       "      <td>['Все участники', 'Пешеходы', 'Дети']</td>\n",
       "    </tr>\n",
       "  </tbody>\n",
       "</table>\n",
       "<p>1756 rows × 18 columns</p>\n",
       "</div>"
      ],
      "text/plain": [
       "                  coordinates       id  \\\n",
       "43         [38.0241, 56.1149]  2148422   \n",
       "129     [39.098217, 55.52959]  2555064   \n",
       "149    [37.774612, 55.391446]  2137771   \n",
       "175    [37.901389, 55.418333]  2154311   \n",
       "176        [37.7064, 55.4678]  2132399   \n",
       "...                       ...      ...   \n",
       "45339  [38.330032, 55.727899]  2537710   \n",
       "45371      [38.5531, 54.8475]  2148891   \n",
       "45409  [37.190051, 55.682206]  2702762   \n",
       "45495    [36.53068, 55.34451]  2148456   \n",
       "45583      [39.9303, 55.7525]  2140885   \n",
       "\n",
       "                                                    tags  \\\n",
       "43                 ['Дорожно-транспортные происшествия']   \n",
       "129                ['Дорожно-транспортные происшествия']   \n",
       "149                ['Дорожно-транспортные происшествия']   \n",
       "175                ['Дорожно-транспортные происшествия']   \n",
       "176                ['Дорожно-транспортные происшествия']   \n",
       "...                                                  ...   \n",
       "45339              ['Дорожно-транспортные происшествия']   \n",
       "45371              ['Дорожно-транспортные происшествия']   \n",
       "45409              ['Дорожно-транспортные происшествия']   \n",
       "45495              ['Дорожно-транспортные происшествия']   \n",
       "45583  ['Дорожно-транспортные происшествия', 'ДТП и п...   \n",
       "\n",
       "                                             light  point_lat  point_long  \\\n",
       "43                             Светлое время суток  56.114900   38.024100   \n",
       "129    В темное время суток, освещение отсутствует  55.529590   39.098217   \n",
       "149                            Светлое время суток  55.391446   37.774612   \n",
       "175                            Светлое время суток  55.418333   37.901389   \n",
       "176                            Светлое время суток  55.467800   37.706400   \n",
       "...                                            ...        ...         ...   \n",
       "45339                          Светлое время суток  55.727899   38.330032   \n",
       "45371                          Светлое время суток  54.847500   38.553100   \n",
       "45409                          Светлое время суток  55.682206   37.190051   \n",
       "45495                          Светлое время суток  55.344510   36.530680   \n",
       "45583                          Светлое время суток  55.752500   39.930300   \n",
       "\n",
       "                                                  nearby              region  \\\n",
       "43               ['Жилые дома индивидуальной застройки']  Сергиево-Посадский   \n",
       "129              ['Жилые дома индивидуальной застройки']       Орехово-Зуево   \n",
       "149    ['АЗС', 'Автостоянка (отделенная от проезжей ч...          Домодедово   \n",
       "175    ['Автостоянка (отделенная от проезжей части)',...          Домодедово   \n",
       "176    ['Крупный торговый объект (являющийся объектом...          Домодедово   \n",
       "...                                                  ...                 ...   \n",
       "45339                     ['Многоквартирные жилые дома']           Ногинский   \n",
       "45371  ['Жилые дома индивидуальной застройки', 'Нерег...            Озёрский   \n",
       "45409  ['Нерегулируемый пешеходный переход', 'Медицин...             Власиха   \n",
       "45495                                                 []      Наро-Фоминский   \n",
       "45583  ['Административные здания', 'Внутридворовая те...    Орехово-Зуевский   \n",
       "\n",
       "       scheme address       weather                category  \\\n",
       "43      930.0     NaN      ['Ясно']    Наезд на препятствие   \n",
       "129     910.0     NaN      ['Ясно']     Наезд на стоящее ТС   \n",
       "149     820.0     NaN      ['Ясно']       Наезд на пешехода   \n",
       "175     820.0     NaN  ['Пасмурно']       Наезд на пешехода   \n",
       "176     830.0     NaN     ['Дождь']       Наезд на пешехода   \n",
       "...       ...     ...           ...                     ...   \n",
       "45339   930.0     NaN      ['Ясно']    Наезд на препятствие   \n",
       "45371   400.0     NaN      ['Ясно']  Наезд на велосипедиста   \n",
       "45409   880.0     NaN      ['Ясно']       Наезд на пешехода   \n",
       "45495   610.0     NaN      ['Ясно']    Наезд на препятствие   \n",
       "45583   840.0     NaN      ['Ясно']       Наезд на пешехода   \n",
       "\n",
       "                  datetime  injured_count       parent_region  \\\n",
       "43     2016-06-24 09:30:00              1  Московская область   \n",
       "129    2021-03-23 04:00:00              1  Московская область   \n",
       "149    2019-09-24 17:50:00              1  Московская область   \n",
       "175    2015-09-04 15:30:00              1  Московская область   \n",
       "176    2016-08-15 08:00:00              1  Московская область   \n",
       "...                    ...            ...                 ...   \n",
       "45339  2021-01-18 11:40:00              1  Московская область   \n",
       "45371  2018-05-21 17:45:00              1  Московская область   \n",
       "45409  2022-06-09 14:15:00              1  Московская область   \n",
       "45495  2017-04-30 10:15:00              1  Московская область   \n",
       "45583  2017-03-14 07:45:00              1  Московская область   \n",
       "\n",
       "                                         road_conditions  participants_count  \\\n",
       "43                                             ['Сухое']                   2   \n",
       "129                   ['Мокрое', 'Отсутствие освещения']                   2   \n",
       "149                                            ['Сухое']                   2   \n",
       "175                                            ['Сухое']                   2   \n",
       "176                                           ['Мокрое']                   2   \n",
       "...                                                  ...                 ...   \n",
       "45339  ['Недостатки зимнего содержания', 'Со снежным ...                   3   \n",
       "45371                                          ['Сухое']                   2   \n",
       "45409  ['Сухое', 'Отсутствие, плохая различимость гор...                   2   \n",
       "45495                                          ['Сухое']                   1   \n",
       "45583                                          ['Сухое']                   2   \n",
       "\n",
       "                      participant_categories  \n",
       "43             ['Все участники', 'Пешеходы']  \n",
       "129                        ['Все участники']  \n",
       "149            ['Все участники', 'Пешеходы']  \n",
       "175            ['Все участники', 'Пешеходы']  \n",
       "176            ['Все участники', 'Пешеходы']  \n",
       "...                                      ...  \n",
       "45339                      ['Все участники']  \n",
       "45371     ['Все участники', 'Велосипедисты']  \n",
       "45409          ['Все участники', 'Пешеходы']  \n",
       "45495                      ['Все участники']  \n",
       "45583  ['Все участники', 'Пешеходы', 'Дети']  \n",
       "\n",
       "[1756 rows x 18 columns]"
      ]
     },
     "execution_count": 107,
     "metadata": {},
     "output_type": "execute_result"
    }
   ],
   "source": [
    "moscowskaya_oblast[moscowskaya_oblast['address'].isna()]"
   ]
  },
  {
   "cell_type": "markdown",
   "metadata": {
    "id": "y_agQeS1GERA"
   },
   "source": [
    "Можно заметить, что в некоторых строках с пустым адресом заполнены столбцы со зданиями, которые находятся рядом с местом ДТП и столбцы с координатами. Поэтому чисто теоретически можно восстановить адрес с помощью этих столбцов."
   ]
  },
  {
   "cell_type": "code",
   "execution_count": 108,
   "metadata": {
    "colab": {
     "base_uri": "https://localhost:8080/",
     "height": 320
    },
    "executionInfo": {
     "elapsed": 50,
     "status": "ok",
     "timestamp": 1756309871092,
     "user": {
      "displayName": "Maria Averkina",
      "userId": "01722641797731955161"
     },
     "user_tz": 420
    },
    "id": "4gBz7NVRGERA",
    "outputId": "f496ee66-2717-4f97-f085-bfd83a6cd06f"
   },
   "outputs": [
    {
     "data": {
      "text/html": [
       "<div>\n",
       "<style scoped>\n",
       "    .dataframe tbody tr th:only-of-type {\n",
       "        vertical-align: middle;\n",
       "    }\n",
       "\n",
       "    .dataframe tbody tr th {\n",
       "        vertical-align: top;\n",
       "    }\n",
       "\n",
       "    .dataframe thead th {\n",
       "        text-align: right;\n",
       "    }\n",
       "</style>\n",
       "<table border=\"1\" class=\"dataframe\">\n",
       "  <thead>\n",
       "    <tr style=\"text-align: right;\">\n",
       "      <th></th>\n",
       "      <th>coordinates</th>\n",
       "      <th>id</th>\n",
       "      <th>tags</th>\n",
       "      <th>light</th>\n",
       "      <th>point_lat</th>\n",
       "      <th>point_long</th>\n",
       "      <th>nearby</th>\n",
       "      <th>region</th>\n",
       "      <th>scheme</th>\n",
       "      <th>address</th>\n",
       "      <th>weather</th>\n",
       "      <th>category</th>\n",
       "      <th>datetime</th>\n",
       "      <th>injured_count</th>\n",
       "      <th>parent_region</th>\n",
       "      <th>road_conditions</th>\n",
       "      <th>participants_count</th>\n",
       "      <th>participant_categories</th>\n",
       "    </tr>\n",
       "  </thead>\n",
       "  <tbody>\n",
       "    <tr>\n",
       "      <th>15057</th>\n",
       "      <td>[None, None]</td>\n",
       "      <td>2159232</td>\n",
       "      <td>['Дорожно-транспортные происшествия']</td>\n",
       "      <td>Сумерки</td>\n",
       "      <td>NaN</td>\n",
       "      <td>NaN</td>\n",
       "      <td>[]</td>\n",
       "      <td>Жуковский</td>\n",
       "      <td>610.0</td>\n",
       "      <td>г Жуковский, ул Амет-хан Султана, 21</td>\n",
       "      <td>['Пасмурно']</td>\n",
       "      <td>Наезд на препятствие</td>\n",
       "      <td>2015-07-15 21:30:00</td>\n",
       "      <td>1</td>\n",
       "      <td>Московская область</td>\n",
       "      <td>['Сухое']</td>\n",
       "      <td>1</td>\n",
       "      <td>['Все участники']</td>\n",
       "    </tr>\n",
       "    <tr>\n",
       "      <th>17511</th>\n",
       "      <td>[None, None]</td>\n",
       "      <td>2139758</td>\n",
       "      <td>['Дорожно-транспортные происшествия']</td>\n",
       "      <td>Светлое время суток</td>\n",
       "      <td>NaN</td>\n",
       "      <td>NaN</td>\n",
       "      <td>[]</td>\n",
       "      <td>Орехово-Зуевский</td>\n",
       "      <td>200.0</td>\n",
       "      <td>АВСЮНИНО-СТЕПАНОВКА-ЦАПЛИНО, 1 км</td>\n",
       "      <td>['Ясно']</td>\n",
       "      <td>Наезд на велосипедиста</td>\n",
       "      <td>2016-10-01 16:30:00</td>\n",
       "      <td>1</td>\n",
       "      <td>Московская область</td>\n",
       "      <td>['Сухое']</td>\n",
       "      <td>2</td>\n",
       "      <td>['Все участники', 'Велосипедисты', 'Мотоциклис...</td>\n",
       "    </tr>\n",
       "    <tr>\n",
       "      <th>29943</th>\n",
       "      <td>[None, None]</td>\n",
       "      <td>2131478</td>\n",
       "      <td>['Дорожно-транспортные происшествия']</td>\n",
       "      <td>В темное время суток, освещение включено</td>\n",
       "      <td>NaN</td>\n",
       "      <td>NaN</td>\n",
       "      <td>['Крупный торговый объект (являющийся объектом...</td>\n",
       "      <td>Красногорский</td>\n",
       "      <td>730.0</td>\n",
       "      <td>г Красногорск, ш Волоколамское</td>\n",
       "      <td>['Дождь']</td>\n",
       "      <td>Наезд на пешехода</td>\n",
       "      <td>2015-05-29 22:00:00</td>\n",
       "      <td>1</td>\n",
       "      <td>Московская область</td>\n",
       "      <td>['Мокрое']</td>\n",
       "      <td>2</td>\n",
       "      <td>['Все участники', 'Пешеходы']</td>\n",
       "    </tr>\n",
       "  </tbody>\n",
       "</table>\n",
       "</div>"
      ],
      "text/plain": [
       "        coordinates       id                                   tags  \\\n",
       "15057  [None, None]  2159232  ['Дорожно-транспортные происшествия']   \n",
       "17511  [None, None]  2139758  ['Дорожно-транспортные происшествия']   \n",
       "29943  [None, None]  2131478  ['Дорожно-транспортные происшествия']   \n",
       "\n",
       "                                          light  point_lat  point_long  \\\n",
       "15057                                   Сумерки        NaN         NaN   \n",
       "17511                       Светлое время суток        NaN         NaN   \n",
       "29943  В темное время суток, освещение включено        NaN         NaN   \n",
       "\n",
       "                                                  nearby            region  \\\n",
       "15057                                                 []         Жуковский   \n",
       "17511                                                 []  Орехово-Зуевский   \n",
       "29943  ['Крупный торговый объект (являющийся объектом...     Красногорский   \n",
       "\n",
       "       scheme                               address       weather  \\\n",
       "15057   610.0  г Жуковский, ул Амет-хан Султана, 21  ['Пасмурно']   \n",
       "17511   200.0     АВСЮНИНО-СТЕПАНОВКА-ЦАПЛИНО, 1 км      ['Ясно']   \n",
       "29943   730.0        г Красногорск, ш Волоколамское     ['Дождь']   \n",
       "\n",
       "                     category             datetime  injured_count  \\\n",
       "15057    Наезд на препятствие  2015-07-15 21:30:00              1   \n",
       "17511  Наезд на велосипедиста  2016-10-01 16:30:00              1   \n",
       "29943       Наезд на пешехода  2015-05-29 22:00:00              1   \n",
       "\n",
       "            parent_region road_conditions  participants_count  \\\n",
       "15057  Московская область       ['Сухое']                   1   \n",
       "17511  Московская область       ['Сухое']                   2   \n",
       "29943  Московская область      ['Мокрое']                   2   \n",
       "\n",
       "                                  participant_categories  \n",
       "15057                                  ['Все участники']  \n",
       "17511  ['Все участники', 'Велосипедисты', 'Мотоциклис...  \n",
       "29943                      ['Все участники', 'Пешеходы']  "
      ]
     },
     "execution_count": 108,
     "metadata": {},
     "output_type": "execute_result"
    }
   ],
   "source": [
    "moscowskaya_oblast[moscowskaya_oblast['point_lat'].isna()]"
   ]
  },
  {
   "cell_type": "markdown",
   "metadata": {
    "id": "aOwFsJGJGERA"
   },
   "source": [
    "Аналогично со столбцами с координатами: можно восстановить координаты ДТП по адресам, которые в некоторых строках также не являются пропусками."
   ]
  },
  {
   "cell_type": "markdown",
   "metadata": {
    "id": "M6bV2O7WGERB"
   },
   "source": [
    "Что делать с пропусками, если нет возможности восстановить потерянные данные: [См. рекомендации по работе с похожим пропусками в датасетах по Кировской области.](#2)\n",
    "\n",
    "Поработаем также с пропусками в датасетах `moscowskaya_oblast_participiants` и `moscowskaya_oblast_vehicles`."
   ]
  },
  {
   "cell_type": "code",
   "execution_count": 109,
   "metadata": {
    "colab": {
     "base_uri": "https://localhost:8080/",
     "height": 272
    },
    "executionInfo": {
     "elapsed": 57,
     "status": "ok",
     "timestamp": 1756309871150,
     "user": {
      "displayName": "Maria Averkina",
      "userId": "01722641797731955161"
     },
     "user_tz": 420
    },
    "id": "fDzp80uCGERB",
    "outputId": "df462b9d-2960-4dfd-bb9e-336aca979706"
   },
   "outputs": [
    {
     "data": {
      "text/plain": [
       "years_of_driving_experience    35498\n",
       "gender                          1870\n",
       "health_status                    107\n",
       "role                               0\n",
       "violations                         0\n",
       "id                                 0\n",
       "dtype: int64"
      ]
     },
     "execution_count": 109,
     "metadata": {},
     "output_type": "execute_result"
    }
   ],
   "source": [
    "moscowskaya_oblast_participiants.isna().sum().sort_values(ascending = False)"
   ]
  },
  {
   "cell_type": "markdown",
   "metadata": {
    "id": "Ue075hsDGERB"
   },
   "source": [
    "Промежуточные итоги:\n",
    "\n",
    "Можно заметить, что пропуски есть только в 3 столбцах, опишем сразу их возможные значения:\n",
    "1. `years_of_driving_experience` - 35498. Возможные причины, что данная строка описывает участника, не имеющего водительских прав (пассажиры автомобиля или пешеходы, например). Или возможно водитель не имеет страховки, куда обычно вписывают водительский стаж.\n",
    "2. `gender`- 1870. Эти пропуски скорее всего носят технический характер, так как все участники ДТП имеют пол и его должны были бы внести в датасет.\n",
    "3. `health_status` - 107. Если посе ДТП некоторые участники покинули место проишествия или не обращались за медицинской помощью, то это могло послужить причиной пропусков в данном столбце."
   ]
  },
  {
   "cell_type": "code",
   "execution_count": 110,
   "metadata": {
    "colab": {
     "base_uri": "https://localhost:8080/",
     "height": 272
    },
    "executionInfo": {
     "elapsed": 4,
     "status": "ok",
     "timestamp": 1756309871151,
     "user": {
      "displayName": "Maria Averkina",
      "userId": "01722641797731955161"
     },
     "user_tz": 420
    },
    "id": "jb3QQgUsGERB",
    "outputId": "8e8bcd08-10fb-4536-b3b2-d21e861f37ea"
   },
   "outputs": [
    {
     "data": {
      "text/plain": [
       "role                            0.0\n",
       "gender                          2.0\n",
       "violations                      0.0\n",
       "health_status                   0.1\n",
       "years_of_driving_experience    37.3\n",
       "id                              0.0\n",
       "dtype: float64"
      ]
     },
     "execution_count": 110,
     "metadata": {},
     "output_type": "execute_result"
    }
   ],
   "source": [
    "round(moscowskaya_oblast_participiants.isna().sum()/len(moscowskaya_oblast_participiants), 3)*100"
   ]
  },
  {
   "cell_type": "markdown",
   "metadata": {
    "id": "T1j1tr2OGERB"
   },
   "source": [
    "Промежуточные итоги:\n",
    "\n",
    "Опишем относительные значения пропусков по столбцам и напишем, что делать:\n",
    "1. `years_of_driving_experience` - 37.3%. Слишком большой процент пропусков от общего кол-ва строк, удалить точно не получится. Можно поставить заглушки на место пропусков, например -1, так как по логике водительский стаж не может быть отрицательным. Можно оставить пропуски как есть, чтобы не искажать анализ.\n",
    "2. `gender`- 2.0%. Эти пропуски следует оставить как есть, так как в относительном выражении их кол-во превышает 1% и удалить их невозможно.\n",
    "3. `health_status` - 0.1%. Несмотря на то, что данные пропуски составиили менее 1%, следует их оставить как есть, чтобы не потерять возможно ценные для анализа данные."
   ]
  },
  {
   "cell_type": "code",
   "execution_count": 111,
   "metadata": {
    "colab": {
     "base_uri": "https://localhost:8080/",
     "height": 272
    },
    "executionInfo": {
     "elapsed": 26,
     "status": "ok",
     "timestamp": 1756309871176,
     "user": {
      "displayName": "Maria Averkina",
      "userId": "01722641797731955161"
     },
     "user_tz": 420
    },
    "id": "g0lUk8rLGERB",
    "outputId": "c70be437-a88e-4750-cd6b-69f168145822"
   },
   "outputs": [
    {
     "data": {
      "text/plain": [
       "year        1746\n",
       "brand       1421\n",
       "model       1421\n",
       "color        841\n",
       "category       0\n",
       "id             0\n",
       "dtype: int64"
      ]
     },
     "execution_count": 111,
     "metadata": {},
     "output_type": "execute_result"
    }
   ],
   "source": [
    "moscowskaya_oblast_vehicles.isna().sum().sort_values(ascending = False)"
   ]
  },
  {
   "cell_type": "markdown",
   "metadata": {
    "id": "SrkHd-gMGERB"
   },
   "source": [
    "Промежуточные итоги:\n",
    "\n",
    "Можно заметить, что пропуски есть только в 4 столбцах, опишем сразу их возможные значения:\n",
    "1. `year` - 1746. Скорее всего техническая ошибка, так как узнать год выпуска автомобиля при необходимости не сложно. Либо в данном ДТП не участвовал автомобиль(например, ДТП произошла при участии велосипедиста и пешехода).\n",
    "2. `brand`- 1421. Скорее всего техническая ошибка. Либо в данном ДТП не участвовал автомобиль(например, ДТП произошла при участии велосипедиста и пешехода).\n",
    "3. `model` - 1421. Скорее всего техническая ошибка. Либо в данном ДТП не участвовал автомобиль(например, ДТП произошла при участии велосипедиста и пешехода). Можно восстановить бренд автомобиля по названию модели, если эта строка не пропущена, и наоборот.\n",
    "4. `color` - 841. Скорее всего техническая ошибка. Либо в данном ДТП не участвовал автомобиль(например, ДТП произошла при участии велосипедиста и пешехода)."
   ]
  },
  {
   "cell_type": "code",
   "execution_count": 112,
   "metadata": {
    "colab": {
     "base_uri": "https://localhost:8080/",
     "height": 272
    },
    "executionInfo": {
     "elapsed": 67,
     "status": "ok",
     "timestamp": 1756309871243,
     "user": {
      "displayName": "Maria Averkina",
      "userId": "01722641797731955161"
     },
     "user_tz": 420
    },
    "id": "8mzKJUv_GERB",
    "outputId": "85c554b2-4469-4727-d092-c6e273e97797"
   },
   "outputs": [
    {
     "data": {
      "text/plain": [
       "year        2.7\n",
       "brand       2.2\n",
       "color       1.3\n",
       "model       2.2\n",
       "category    0.0\n",
       "id          0.0\n",
       "dtype: float64"
      ]
     },
     "execution_count": 112,
     "metadata": {},
     "output_type": "execute_result"
    }
   ],
   "source": [
    "round(moscowskaya_oblast_vehicles.isna().sum()/len(moscowskaya_oblast_vehicles), 3)*100"
   ]
  },
  {
   "cell_type": "markdown",
   "metadata": {
    "id": "kYUYJwk3GERC"
   },
   "source": [
    "Промежуточные итоги:\n",
    "\n",
    "Опишем относительные значения пропусков по столбцам и напишем, что делать:\n",
    "1. `year` - 2.7%. Можно оставить как есть, чтобы не искажать данные, но можно поставить заглушку в виде -1 или 0, так как, очевидно, год не может быть стаким значением.  \n",
    "2. `brand`- 2.2% Можно оставить как есть или прописать вместо пропусков \"без бренда\".\n",
    "3. `model` - 2.2%. Можно оставить как есть или прописать вместо пропусков \"без модели\".\n",
    "4. `color` - 1.3%. Можно оставить как есть или прописать вместо пропусков \"без цвета\"."
   ]
  },
  {
   "cell_type": "markdown",
   "metadata": {
    "id": "WyyheWeRGERC"
   },
   "source": [
    "Итоговый вывод:\n",
    "- Были проанализированы все датасеты и их пропуски и предложены варианты работы с этими пропусками. Чтобы не искажать информацию в рамках данного проекта было принято решение оставить пропуски как есть и не применять заглушек. Для полноценной работы с данными датасетами, конечно, эту проблему также стоит решить.\n",
    "- Также считаю отметить важным, что некоторые столбцы (такие как `nearby`, `weather `, `road_conditions`, `participant_categories` и `coordinates`) имеют такое оформление, что информация, которую они содержат, находится в квдартаных скобка [...]. То есть являются списками. Все они, вроде бы не содержат пропусков, но на самом деле они могут быть. Например, это заметно по столбцу `nearby`, пропуск обозначен как пустые квадратные скобки, что делает ячейку по сути не пустой, но не информативной. В рамках дпнного проекта вряд ли это помешает анализу, но если бы мы далее работали с этими датасетами, то данную проблему пришлось бы решить."
   ]
  },
  {
   "cell_type": "markdown",
   "metadata": {
    "id": "8J3L9kYZ8XZx"
   },
   "source": [
    "### Наличие явных и неявных дубликатов в данных\n",
    "\n"
   ]
  },
  {
   "cell_type": "markdown",
   "metadata": {
    "id": "RjocsMlpGERC"
   },
   "source": [
    "Для начала разберемся с неявными дубликатами. Будем работать также на примере таблиц, связанных с Кировской областью. Начнем с таблицы `kirovskaya_oblast`"
   ]
  },
  {
   "cell_type": "code",
   "execution_count": 113,
   "metadata": {
    "colab": {
     "base_uri": "https://localhost:8080/",
     "height": 1000
    },
    "executionInfo": {
     "elapsed": 303,
     "status": "ok",
     "timestamp": 1756309871545,
     "user": {
      "displayName": "Maria Averkina",
      "userId": "01722641797731955161"
     },
     "user_tz": 420
    },
    "id": "9EY-DqtNGERC",
    "outputId": "359243bd-ffb4-4e9a-a498-fee1778ba962",
    "scrolled": true
   },
   "outputs": [
    {
     "data": {
      "text/plain": [
       "id                        14517\n",
       "datetime                  14398\n",
       "coordinates               14279\n",
       "point_long                12451\n",
       "point_lat                 12307\n",
       "address                    7638\n",
       "nearby                     2644\n",
       "road_conditions             827\n",
       "scheme                       59\n",
       "region                       40\n",
       "participant_categories       23\n",
       "weather                      18\n",
       "category                     16\n",
       "participants_count           14\n",
       "injured_count                12\n",
       "light                         5\n",
       "tags                          1\n",
       "parent_region                 1\n",
       "dtype: int64"
      ]
     },
     "metadata": {},
     "output_type": "display_data"
    },
    {
     "data": {
      "text/plain": [
       "array([1983180, 2889433, 2591208, ..., 1985949, 1986807, 1987515],\n",
       "      shape=(14517,))"
      ]
     },
     "metadata": {},
     "output_type": "display_data"
    },
    {
     "data": {
      "text/plain": [
       "array(['Дорожно-транспортные происшествия'], dtype=object)"
      ]
     },
     "metadata": {},
     "output_type": "display_data"
    },
    {
     "data": {
      "text/plain": [
       "array(['[]',\n",
       "       \"['Административные здания', 'Нерегулируемый перекрёсток неравнозначных улиц (дорог)', 'Нерегулируемый пешеходный переход']\",\n",
       "       \"['Жилые дома индивидуальной застройки', 'Нерегулируемый перекрёсток равнозначных улиц (дорог)']\",\n",
       "       ...,\n",
       "       \"['Многоквартирные жилые дома', 'Нерегулируемый перекрёсток неравнозначных улиц (дорог)', 'Нерегулируемый перекрёсток', 'Лечебные учреждения']\",\n",
       "       \"['Многоквартирные жилые дома', 'Иной объект', 'Нерегулируемый пешеходный переход', 'Спортивные и развлекательные объекты']\",\n",
       "       \"['Многоквартирные жилые дома', 'Жилые дома индивидуальной застройки', 'Крупный торговый объект (являющийся объектом массового тяготения пешеходов и (или) транспорта)', 'Нерегулируемый перекрёсток неравнозначных улиц (дорог)', 'Нерегулируемый перекрёсток']\"],\n",
       "      shape=(2644,), dtype=object)"
      ]
     },
     "metadata": {},
     "output_type": "display_data"
    },
    {
     "data": {
      "text/plain": [
       "array(['Яранский район', 'Шабалинский район', 'Фаленский район',\n",
       "       'Уржумский район', 'Унинский район', 'Тужинский район',\n",
       "       'Сунский район', 'Советский район', 'Свечинский район',\n",
       "       'Санчурский район', 'Подосиновский район', 'Пижанский район',\n",
       "       'Орловский район', 'Оричевский район', 'Опаринскийрайон',\n",
       "       'Омутнинский район', 'Нолинский район', 'Немский район',\n",
       "       'Нагорский район', 'Мурашинский район', 'Малмыжский район',\n",
       "       'Лузский район', 'Лебяжский район', 'Куменский район',\n",
       "       'Кильмезский район', 'Кикнурский район', 'Зуевский район',\n",
       "       'Даровской район', 'Верхошижемский район', 'Верхнекамский район',\n",
       "       'Богородский район', 'Белохолуницкий район', 'Афанасьевский район',\n",
       "       'Арбажский район', 'Киров', 'Юрьянский район',\n",
       "       'Котельничский район', 'Слободской район', 'Кирово-Чепецки район',\n",
       "       'Вятско-Полянский район'], dtype=object)"
      ]
     },
     "metadata": {},
     "output_type": "display_data"
    },
    {
     "data": {
      "text/plain": [
       "array(['Р-176 Вятка Чебоксары - Йошкар-Ола - Киров - Сыктывкар (основное направление), 166 км',\n",
       "       'г Яранск, ул Кирова, 10', 'г Яранск, ул Чапаева, 80', ...,\n",
       "       'г Вятские Поляны, ул Тойменка, 31',\n",
       "       'г Сосновка, ул Солнечная, 11',\n",
       "       'г Вятские Поляны, ул Набережная, 6'], shape=(7639,), dtype=object)"
      ]
     },
     "metadata": {},
     "output_type": "display_data"
    },
    {
     "data": {
      "text/plain": [
       "array([\"['Дождь']\", \"['Ясно']\", \"['Пасмурно']\", \"['Снегопад']\",\n",
       "       \"['Снегопад', 'Метель']\", \"['Пасмурно', 'Дождь']\", \"['Туман']\",\n",
       "       \"['Пасмурно', 'Температура ниже -30С']\",\n",
       "       \"['Пасмурно', 'Снегопад']\", \"['Ясно', 'Температура выше +30С']\",\n",
       "       \"['Пасмурно', 'Туман']\", \"['Метель']\", \"['Пасмурно', 'Метель']\",\n",
       "       \"['Ясно', 'Температура ниже -30С']\",\n",
       "       \"['Пасмурно', 'Ураганный ветер']\", \"['Ясно', 'Туман']\",\n",
       "       \"['Дождь', 'Туман']\", \"['Дождь', 'Снегопад']\"], dtype=object)"
      ]
     },
     "metadata": {},
     "output_type": "display_data"
    },
    {
     "data": {
      "text/plain": [
       "array(['Опрокидывание', 'Наезд на пешехода', 'Съезд с дороги',\n",
       "       'Столкновение', 'Наезд на препятствие', 'Наезд на велосипедиста',\n",
       "       'Наезд на животное', 'Наезд на стоящее ТС', 'Падение пассажира',\n",
       "       'Наезд на лицо, не являющееся участником дорожного движения, осуществляющее производство работ',\n",
       "       'Наезд на лицо, не являющееся участником дорожного движения, осуществляющее несение службы',\n",
       "       'Иной вид ДТП', 'Отбрасывание предмета',\n",
       "       'Наезд на лицо, не являющееся участником дорожного движения, осуществляющее какую-либо другую деятельность',\n",
       "       'Наезд на внезапно возникшее препятствие', 'Падение груза'],\n",
       "      dtype=object)"
      ]
     },
     "metadata": {},
     "output_type": "display_data"
    },
    {
     "data": {
      "text/plain": [
       "array(['Кировская область'], dtype=object)"
      ]
     },
     "metadata": {},
     "output_type": "display_data"
    },
    {
     "data": {
      "text/plain": [
       "array([\"['Мокрое']\",\n",
       "       \"['Сухое', 'Отсутствие, плохая различимость горизонтальной разметки проезжей части', 'Неправильное применение, плохая видимость дорожных знаков']\",\n",
       "       \"['Сухое']\",\n",
       "       \"['Сухое', 'Отсутствие, плохая различимость горизонтальной разметки проезжей части']\",\n",
       "       \"['Заснеженное']\",\n",
       "       \"['Сухое', 'Отсутствие, плохая различимость горизонтальной разметки проезжей части', 'Отсутствие освещения']\",\n",
       "       \"['Мокрое', 'Отсутствие, плохая различимость горизонтальной разметки проезжей части']\",\n",
       "       \"['Обработанное противогололедными материалами']\",\n",
       "       \"['Мокрое', 'Отсутствие, плохая различимость горизонтальной разметки проезжей части', 'Неровное покрытие']\",\n",
       "       \"['Отсутствие, плохая различимость горизонтальной разметки проезжей части', 'Обработанное противогололедными материалами']\",\n",
       "       \"['Сухое', 'Отсутствие, плохая различимость горизонтальной разметки проезжей части', 'Отсутствие пешеходных ограждений в необходимых местах']\",\n",
       "       \"['Отсутствие, плохая различимость горизонтальной разметки проезжей части', 'Со снежным накатом']\",\n",
       "       \"['Недостатки зимнего содержания', 'Со снежным накатом']\",\n",
       "       \"['Со снежным накатом']\", \"['Неисправное освещение', 'Мокрое']\",\n",
       "       \"['Неисправное освещение', 'Обработанное противогололедными материалами']\",\n",
       "       \"['Сухое', 'Отсутствие, плохая различимость горизонтальной разметки проезжей части', 'Отсутствие освещения', 'Отсутствие тротуаров (пешеходных дорожек)']\",\n",
       "       \"['Сухое', 'Отсутствие, плохая различимость горизонтальной разметки проезжей части', 'Отсутствие дорожных знаков в необходимых местах']\",\n",
       "       \"['Сухое', 'Неудовлетворительное состояние обочин', 'Отсутствие тротуаров (пешеходных дорожек)']\",\n",
       "       \"['Недостатки зимнего содержания', 'Заснеженное']\",\n",
       "       \"['Мокрое', 'Отсутствие, плохая различимость горизонтальной разметки проезжей части', 'Отсутствие освещения', 'Отсутствие тротуаров (пешеходных дорожек)']\",\n",
       "       \"['Отсутствие, плохая различимость горизонтальной разметки проезжей части', 'Заснеженное']\",\n",
       "       \"['Мокрое', 'Отсутствие, плохая различимость горизонтальной разметки проезжей части', 'Отсутствие тротуаров (пешеходных дорожек)']\",\n",
       "       \"['Несоответствие дорожных ограждений предъявляемым требованиям', 'Сухое', 'Дефекты покрытия', 'Отсутствие освещения', 'Отсутствие дорожных ограждений в необходимых местах']\",\n",
       "       \"['Сухое', 'Неудовлетворительное состояние обочин']\",\n",
       "       \"['Неисправное освещение', 'Сухое']\",\n",
       "       \"['Сухое', 'Отсутствие тротуаров (пешеходных дорожек)']\",\n",
       "       \"['Сухое', 'Отсутствие, плохая различимость горизонтальной разметки проезжей части', 'Неудовлетворительное состояние обочин', 'Ограничение видимости']\",\n",
       "       \"['Отсутствие элементов обустройства остановочного пункта общественного пассажирского транспорта', 'Сухое']\",\n",
       "       \"['Сухое', 'Отсутствие, плохая различимость горизонтальной разметки проезжей части', 'Отсутствие тротуаров (пешеходных дорожек)']\",\n",
       "       \"['Сухое', 'Отсутствие, плохая различимость горизонтальной разметки проезжей части', 'Отсутствие дорожных ограждений в необходимых местах']\",\n",
       "       \"['Отсутствие элементов обустройства остановочного пункта общественного пассажирского транспорта', 'Сухое', 'Отсутствие, плохая различимость горизонтальной разметки проезжей части', 'Неправильное применение, плохая видимость дорожных знаков']\",\n",
       "       \"['Обработанное противогололедными материалами', 'Недостатки зимнего содержания']\",\n",
       "       \"['Обработанное противогололедными материалами', 'Отсутствие тротуаров (пешеходных дорожек)']\",\n",
       "       \"['Сухое', 'Отсутствие, плохая различимость горизонтальной разметки проезжей части', 'Дефекты покрытия']\",\n",
       "       \"['Недостатки зимнего содержания', 'Гололедица']\",\n",
       "       \"['Заснеженное', 'Отсутствие освещения', 'Отсутствие тротуаров (пешеходных дорожек)']\",\n",
       "       \"['Мокрое', 'Отсутствие освещения', 'Отсутствие тротуаров (пешеходных дорожек)']\",\n",
       "       \"['Сухое', 'Неправильное применение, плохая видимость дорожных знаков']\",\n",
       "       \"['Обработанное противогололедными материалами', 'Дефекты покрытия']\",\n",
       "       \"['Отсутствие элементов обустройства остановочного пункта общественного пассажирского транспорта', 'Сухое', 'Отсутствие дорожных знаков в необходимых местах']\",\n",
       "       \"['Свежеуложенная поверхностная обработка']\", \"['Не установлено']\",\n",
       "       \"['Мокрое', 'Неровное покрытие']\",\n",
       "       \"['Сухое', 'Недостаточное освещение']\",\n",
       "       \"['Низкие сцепные качества покрытия', 'Гололедица']\",\n",
       "       \"['Обработанное противогололедными материалами', 'Низкие сцепные качества покрытия']\",\n",
       "       \"['Мокрое', 'Отсутствие освещения']\",\n",
       "       \"['Сухое', 'Отсутствие освещения']\",\n",
       "       \"['Сухое', 'Отсутствие, плохая различимость горизонтальной разметки проезжей части', 'Неудовлетворительное состояние обочин']\",\n",
       "       \"['Сухое', 'Отсутствие дорожных знаков в необходимых местах']\",\n",
       "       \"['Низкие сцепные качества покрытия', 'Заснеженное']\",\n",
       "       \"['Мокрое', 'Отсутствие, плохая различимость горизонтальной разметки проезжей части', 'Недостатки зимнего содержания']\",\n",
       "       \"['Неисправное освещение', 'Сухое', 'Отсутствие, плохая различимость горизонтальной разметки проезжей части', 'Отсутствие тротуаров (пешеходных дорожек)']\",\n",
       "       \"['Отсутствие, плохая различимость горизонтальной разметки проезжей части', 'Недостатки зимнего содержания', 'Заснеженное']\",\n",
       "       \"['Отсутствие элементов обустройства остановочного пункта общественного пассажирского транспорта', 'Сухое', 'Отсутствие, плохая различимость горизонтальной разметки проезжей части']\",\n",
       "       \"['Сухое', 'Отсутствие дорожных ограждений в необходимых местах']\",\n",
       "       \"['Неисправное освещение', 'Отсутствие элементов обустройства остановочного пункта общественного пассажирского транспорта', 'Обработанное противогололедными материалами']\",\n",
       "       \"['Отсутствие, плохая различимость горизонтальной разметки проезжей части', 'Обработанное противогололедными материалами', 'Недостатки зимнего содержания']\",\n",
       "       \"['Со снежным накатом', 'Низкие сцепные качества покрытия', 'Отсутствие освещения']\",\n",
       "       \"['Сухое', 'Отсутствие, плохая различимость горизонтальной разметки проезжей части', 'Неровное покрытие']\",\n",
       "       \"['Неисправное освещение', 'Иные недостатки', 'Сухое', 'Отсутствие, плохая различимость горизонтальной разметки проезжей части']\",\n",
       "       \"['Сухое', 'Дефекты покрытия']\",\n",
       "       \"['Неисправное освещение', 'Сухое', 'Отсутствие, плохая различимость горизонтальной разметки проезжей части']\",\n",
       "       \"['Мокрое', 'Недостаточное освещение']\",\n",
       "       \"['Сухое', 'Недостатки зимнего содержания']\",\n",
       "       \"['Заснеженное', 'Отсутствие тротуаров (пешеходных дорожек)']\",\n",
       "       \"['Со снежным накатом', 'Отсутствие освещения', 'Отсутствие тротуаров (пешеходных дорожек)']\",\n",
       "       \"['Несоответствие дорожных ограждений предъявляемым требованиям', 'Сухое']\",\n",
       "       \"['Недостатки зимнего содержания', 'Заснеженное', 'Отсутствие тротуаров (пешеходных дорожек)']\",\n",
       "       \"['Мокрое', 'Отсутствие тротуаров (пешеходных дорожек)']\",\n",
       "       \"['Мокрое', 'Отсутствие, плохая различимость горизонтальной разметки проезжей части', 'Отсутствие освещения']\",\n",
       "       \"['Обработанное противогололедными материалами', 'Отсутствие освещения']\",\n",
       "       \"['Несоответствие дорожных ограждений предъявляемым требованиям', 'Мокрое']\",\n",
       "       \"['Залитое (покрытое) водой', 'Отсутствие, плохая различимость горизонтальной разметки проезжей части']\",\n",
       "       \"['Гололедица']\",\n",
       "       \"['Иные недостатки', 'Сухое', 'Отсутствие, плохая различимость горизонтальной разметки проезжей части']\",\n",
       "       \"['Отсутствие дорожных знаков в необходимых местах', 'Заснеженное']\",\n",
       "       \"['Мокрое', 'Отсутствие, плохая различимость горизонтальной разметки проезжей части', 'Дефекты покрытия', 'Ограничение видимости']\",\n",
       "       \"['Мокрое', 'Дефекты покрытия']\",\n",
       "       \"['Несоответствие дорожных ограждений предъявляемым требованиям', 'Мокрое', 'Отсутствие, плохая различимость горизонтальной разметки проезжей части']\",\n",
       "       \"['Мокрое', 'Неправильное применение, плохая видимость дорожных знаков']\",\n",
       "       \"['Со снежным накатом', 'Отсутствие тротуаров (пешеходных дорожек)']\",\n",
       "       \"['Недостатки зимнего содержания', 'Со снежным накатом', 'Отсутствие тротуаров (пешеходных дорожек)']\",\n",
       "       \"['Сухое', 'Отсутствие освещения', 'Отсутствие тротуаров (пешеходных дорожек)']\",\n",
       "       \"['Сухое', 'Отсутствие, плохая различимость горизонтальной разметки проезжей части', 'Неправильное применение, плохая видимость дорожных знаков', 'Отсутствие тротуаров (пешеходных дорожек)']\",\n",
       "       \"['Сухое', 'Дефекты покрытия', 'Отсутствие тротуаров (пешеходных дорожек)']\",\n",
       "       \"['Недостатки зимнего содержания', 'Со снежным накатом', 'Неправильное применение, плохая видимость дорожных знаков']\",\n",
       "       \"['Недостатки зимнего содержания', 'Заснеженное', 'Отсутствие освещения']\",\n",
       "       \"['Недостатки зимнего содержания', 'Со снежным накатом', 'Отсутствие освещения', 'Отсутствие тротуаров (пешеходных дорожек)']\",\n",
       "       \"['Мокрое', 'Отсутствие, плохая различимость горизонтальной разметки проезжей части', 'Дефекты покрытия']\",\n",
       "       \"['Неисправное освещение', 'Недостатки зимнего содержания', 'Со снежным накатом', 'Отсутствие тротуаров (пешеходных дорожек)']\",\n",
       "       \"['Отсутствие элементов обустройства остановочного пункта общественного пассажирского транспорта', 'Сухое', 'Отсутствие, плохая различимость горизонтальной разметки проезжей части', 'Отсутствие тротуаров (пешеходных дорожек)']\",\n",
       "       \"['Со снежным накатом', 'Отсутствие дорожных знаков в необходимых местах']\",\n",
       "       \"['Пыльное']\",\n",
       "       \"['Сухое', 'Недостатки зимнего содержания', 'Отсутствие дорожных знаков в необходимых местах']\",\n",
       "       \"['Неисправное освещение', 'Мокрое', 'Недостатки зимнего содержания']\",\n",
       "       \"['Сухое', 'Дефекты покрытия', 'Отсутствие освещения', 'Отсутствие тротуаров (пешеходных дорожек)']\",\n",
       "       \"['Загрязненное']\", \"['Мокрое', 'Недостатки зимнего содержания']\",\n",
       "       \"['Неисправное освещение', 'Недостатки зимнего содержания', 'Со снежным накатом']\",\n",
       "       \"['Сухое', 'Неровное покрытие']\",\n",
       "       \"['Сухое', 'Низкие сцепные качества покрытия', 'Неудовлетворительное состояние обочин']\",\n",
       "       \"['Иные недостатки', 'Сухое']\",\n",
       "       \"['Отсутствие, плохая различимость горизонтальной разметки проезжей части', 'Обработанное противогололедными материалами', 'Отсутствие дорожных знаков в необходимых местах']\",\n",
       "       \"['Несоответствие железнодорожного переезда предъявляемым требованиям', 'Обработанное противогололедными материалами']\",\n",
       "       \"['Сухое', 'Отсутствие, плохая различимость горизонтальной разметки проезжей части', 'Отсутствие дорожных знаков в необходимых местах', 'Отсутствие тротуаров (пешеходных дорожек)']\",\n",
       "       \"['Заснеженное', 'Отсутствие освещения']\",\n",
       "       \"['Сухое', 'Отсутствие, плохая различимость горизонтальной разметки проезжей части', 'Недостатки зимнего содержания', 'Отсутствие дорожных знаков в необходимых местах']\",\n",
       "       \"['Сухое', 'Отсутствие, плохая различимость горизонтальной разметки проезжей части', 'Отсутствие дорожных знаков в необходимых местах', 'Ограничение видимости']\",\n",
       "       \"['Сухое', 'Недостаточное освещение', 'Отсутствие тротуаров (пешеходных дорожек)']\",\n",
       "       \"['Отсутствие элементов обустройства остановочного пункта общественного пассажирского транспорта', 'Сухое', 'Отсутствие дорожных знаков в необходимых местах', 'Неправильное применение, плохая видимость дорожных знаков']\",\n",
       "       \"['Неисправное освещение', 'Заснеженное', 'Отсутствие тротуаров (пешеходных дорожек)']\",\n",
       "       \"['Мокрое', 'Отсутствие, плохая различимость горизонтальной разметки проезжей части', 'Отсутствие дорожных знаков в необходимых местах', 'Отсутствие освещения', 'Отсутствие тротуаров (пешеходных дорожек)']\",\n",
       "       \"['Отсутствие элементов обустройства остановочного пункта общественного пассажирского транспорта', 'Мокрое', 'Отсутствие, плохая различимость горизонтальной разметки проезжей части']\",\n",
       "       \"['Низкие сцепные качества покрытия', 'Гололедица', 'Отсутствие тротуаров (пешеходных дорожек)']\",\n",
       "       \"['Мокрое', 'Отсутствие, плохая различимость горизонтальной разметки проезжей части', 'Недостаточное освещение', 'Отсутствие дорожных знаков в необходимых местах', 'Отсутствие тротуаров (пешеходных дорожек)']\",\n",
       "       \"['Отсутствие, плохая различимость горизонтальной разметки проезжей части', 'Свежеуложенная поверхностная обработка']\",\n",
       "       \"['Неисправное освещение', 'Сухое', 'Отсутствие тротуаров (пешеходных дорожек)']\",\n",
       "       \"['Сухое', 'Отсутствие, плохая различимость горизонтальной разметки проезжей части', 'Дефекты покрытия', 'Неправильное применение, плохая видимость дорожных знаков']\",\n",
       "       \"['Недостатки зимнего содержания', 'Со снежным накатом', 'Отсутствие освещения']\",\n",
       "       \"['Мокрое', 'Отсутствие, плохая различимость горизонтальной разметки проезжей части', 'Неправильное применение, плохая видимость дорожных знаков']\",\n",
       "       \"['Иные недостатки', 'Сухое', 'Отсутствие, плохая различимость горизонтальной разметки проезжей части', 'Отсутствие временных ТСОД в местах проведения работ']\",\n",
       "       \"['Недостатки зимнего содержания', 'Со снежным накатом', 'Низкие сцепные качества покрытия']\",\n",
       "       \"['Мокрое', 'Дефекты покрытия', 'Неудовлетворительное состояние обочин']\",\n",
       "       \"['Мокрое', 'Отсутствие, плохая различимость горизонтальной разметки проезжей части', 'Отсутствие дорожных знаков в необходимых местах', 'Отсутствие тротуаров (пешеходных дорожек)']\",\n",
       "       \"['Сухое', 'Отсутствие пешеходных ограждений в необходимых местах']\",\n",
       "       \"['Иные недостатки', 'Сухое', 'Отсутствие освещения']\",\n",
       "       \"['Неисправное освещение', 'Мокрое', 'Отсутствие, плохая различимость горизонтальной разметки проезжей части', 'Отсутствие тротуаров (пешеходных дорожек)']\",\n",
       "       \"['Со снежным накатом', 'Отсутствие дорожных знаков в необходимых местах', 'Отсутствие тротуаров (пешеходных дорожек)']\",\n",
       "       \"['Иные недостатки', 'Сухое', 'Неправильное применение, плохая видимость дорожных знаков']\",\n",
       "       \"['Сухое', 'Отсутствие дорожных знаков в необходимых местах', 'Отсутствие тротуаров (пешеходных дорожек)']\",\n",
       "       \"['Обработанное противогололедными материалами', 'Недостатки зимнего содержания', 'Отсутствие тротуаров (пешеходных дорожек)']\",\n",
       "       \"['Обработанное противогололедными материалами', 'Отсутствие пешеходных ограждений в необходимых местах']\",\n",
       "       \"['Обработанное противогололедными материалами', 'Отсутствие освещения', 'Отсутствие тротуаров (пешеходных дорожек)']\",\n",
       "       \"['Мокрое', 'Отсутствие, плохая различимость горизонтальной разметки проезжей части', 'Отсутствие дорожных знаков в необходимых местах', 'Неудовлетворительное состояние обочин']\",\n",
       "       \"['Иные недостатки', 'Сухое', 'Отсутствие, плохая различимость горизонтальной разметки проезжей части', 'Отсутствие дорожных знаков в необходимых местах']\",\n",
       "       \"['Иные недостатки', 'Сухое', 'Отсутствие, плохая различимость горизонтальной разметки проезжей части', 'Дефекты покрытия']\",\n",
       "       \"['Отсутствие дорожных знаков в необходимых местах', 'Заснеженное', 'Отсутствие освещения', 'Отсутствие тротуаров (пешеходных дорожек)']\",\n",
       "       \"['Сухое', 'Отсутствие дорожных знаков в необходимых местах', 'Отсутствие освещения', 'Отсутствие пешеходных ограждений в необходимых местах']\",\n",
       "       \"['Отсутствие элементов обустройства остановочного пункта общественного пассажирского транспорта', 'Мокрое', 'Отсутствие, плохая различимость горизонтальной разметки проезжей части', 'Отсутствие тротуаров (пешеходных дорожек)']\",\n",
       "       \"['Недостатки зимнего содержания', 'Со снежным накатом', 'Неудовлетворительное состояние обочин', 'Отсутствие тротуаров (пешеходных дорожек)']\",\n",
       "       \"['Отсутствие, плохая различимость горизонтальной разметки проезжей части', 'Со снежным накатом', 'Неудовлетворительное состояние обочин', 'Отсутствие тротуаров (пешеходных дорожек)']\",\n",
       "       \"['Сухое', 'Отсутствие, плохая различимость горизонтальной разметки проезжей части', 'Дефекты покрытия', 'Отсутствие освещения', 'Отсутствие тротуаров (пешеходных дорожек)']\",\n",
       "       \"['Мокрое', 'Дефекты покрытия', 'Отсутствие пешеходных ограждений в необходимых местах']\",\n",
       "       \"['Отсутствие, плохая различимость горизонтальной разметки проезжей части', 'Недостатки зимнего содержания', 'Со снежным накатом', 'Неудовлетворительное состояние обочин']\",\n",
       "       \"['Отсутствие, плохая различимость горизонтальной разметки проезжей части', 'Недостатки зимнего содержания', 'Со снежным накатом']\",\n",
       "       \"['Отсутствие элементов обустройства остановочного пункта общественного пассажирского транспорта', 'Сухое', 'Отсутствие, плохая различимость горизонтальной разметки проезжей части', 'Отсутствие дорожных знаков в необходимых местах']\",\n",
       "       \"['Недостатки зимнего содержания', 'Со снежным накатом', 'Отсутствие дорожных знаков в необходимых местах']\",\n",
       "       \"['Мокрое', 'Отсутствие дорожных знаков в необходимых местах']\",\n",
       "       \"['Неисправное освещение', 'Отсутствие элементов обустройства остановочного пункта общественного пассажирского транспорта', 'Сухое', 'Отсутствие, плохая различимость горизонтальной разметки проезжей части']\",\n",
       "       \"['Мокрое', 'Отсутствие, плохая различимость горизонтальной разметки проезжей части', 'Отсутствие дорожных знаков в необходимых местах', 'Неправильное применение, плохая видимость дорожных знаков', 'Отсутствие пешеходных ограждений в необходимых местах']\",\n",
       "       \"['Обработанное противогололедными материалами', 'Отсутствие дорожных знаков в необходимых местах', 'Отсутствие тротуаров (пешеходных дорожек)']\",\n",
       "       \"['Сухое', 'Отсутствие, плохая различимость горизонтальной разметки проезжей части', 'Отсутствие дорожных ограждений в необходимых местах', 'Отсутствие пешеходных ограждений в необходимых местах']\",\n",
       "       \"['Отсутствие элементов обустройства остановочного пункта общественного пассажирского транспорта', 'Сухое', 'Отсутствие дорожных знаков в необходимых местах', 'Отсутствие тротуаров (пешеходных дорожек)']\",\n",
       "       \"['Со снежным накатом', 'Низкие сцепные качества покрытия']\",\n",
       "       \"['Сухое', 'Отсутствие, плохая различимость горизонтальной разметки проезжей части', 'Дефекты покрытия', 'Отсутствие направляющих устройств и световозвращающих элементов на них']\",\n",
       "       \"['Недостатки зимнего содержания', 'Со снежным накатом', 'Низкие сцепные качества покрытия', 'Отсутствие пешеходных ограждений в необходимых местах']\",\n",
       "       \"['Мокрое', 'Отсутствие дорожных знаков в необходимых местах', 'Отсутствие тротуаров (пешеходных дорожек)']\",\n",
       "       \"['Со снежным накатом', 'Отсутствие освещения']\",\n",
       "       \"['Обработанное противогололедными материалами', 'Неудовлетворительное состояние обочин']\",\n",
       "       \"['Мокрое', 'Отсутствие, плохая различимость горизонтальной разметки проезжей части', 'Отсутствие дорожных знаков в необходимых местах', 'Неудовлетворительное состояние обочин', 'Отсутствие тротуаров (пешеходных дорожек)']\",\n",
       "       \"['Сухое', 'Отсутствие, плохая различимость горизонтальной разметки проезжей части', 'Ограничение видимости']\",\n",
       "       \"['Недостатки зимнего содержания', 'Отсутствие дорожных знаков в необходимых местах', 'Заснеженное']\",\n",
       "       \"['Недостатки зимнего содержания', 'Недостаточное освещение', 'Заснеженное']\",\n",
       "       \"['Несоответствие люков смотровых колодцев и ливневой канализации предъявляемым требованиям', 'Сухое', 'Отсутствие, плохая различимость горизонтальной разметки проезжей части']\",\n",
       "       \"['Отсутствие элементов обустройства остановочного пункта общественного пассажирского транспорта', 'Мокрое', 'Отсутствие освещения', 'Отсутствие тротуаров (пешеходных дорожек)']\",\n",
       "       \"['Отсутствие элементов обустройства остановочного пункта общественного пассажирского транспорта', 'Сухое', 'Отсутствие, плохая различимость горизонтальной разметки проезжей части', 'Неудовлетворительное состояние обочин']\",\n",
       "       \"['Обработанное противогололедными материалами', 'Недостаточное освещение', 'Отсутствие тротуаров (пешеходных дорожек)']\",\n",
       "       \"['Отсутствие элементов обустройства остановочного пункта общественного пассажирского транспорта', 'Мокрое', 'Отсутствие, плохая различимость горизонтальной разметки проезжей части', 'Неправильное применение, плохая видимость дорожных знаков']\",\n",
       "       \"['Неисправное освещение', 'Недостатки зимнего содержания', 'Заснеженное']\",\n",
       "       \"['Иные недостатки', 'Сухое', 'Отсутствие, плохая различимость горизонтальной разметки проезжей части', 'Отсутствие дорожных знаков в необходимых местах', 'Неудовлетворительное состояние обочин']\",\n",
       "       \"['Отсутствие, плохая различимость горизонтальной разметки проезжей части', 'Недостатки зимнего содержания', 'Гололедица']\",\n",
       "       \"['Отсутствие, плохая различимость горизонтальной разметки проезжей части', 'Заснеженное', 'Отсутствие освещения', 'Отсутствие тротуаров (пешеходных дорожек)']\",\n",
       "       \"['Сухое', 'Отсутствие, плохая различимость горизонтальной разметки проезжей части', 'Отсутствие дорожных знаков в необходимых местах', 'Неправильное применение, плохая видимость дорожных знаков']\",\n",
       "       \"['Сухое', 'Отсутствие, плохая различимость горизонтальной разметки проезжей части', 'Неудовлетворительное состояние обочин', 'Отсутствие тротуаров (пешеходных дорожек)']\",\n",
       "       \"['Обработанное противогололедными материалами', 'Недостатки зимнего содержания', 'Отсутствие тротуаров (пешеходных дорожек)', 'Отсутствие временных ТСОД в местах проведения работ']\",\n",
       "       \"['Недостатки зимнего содержания', 'Со снежным накатом', 'Отсутствие пешеходных ограждений в необходимых местах']\",\n",
       "       \"['Мокрое', 'Отсутствие, плохая различимость горизонтальной разметки проезжей части', 'Неудовлетворительное состояние обочин']\",\n",
       "       \"['Недостаточное освещение', 'Со снежным накатом']\",\n",
       "       \"['Отсутствие элементов обустройства остановочного пункта общественного пассажирского транспорта', 'Мокрое', 'Отсутствие, плохая различимость горизонтальной разметки проезжей части', 'Неудовлетворительное состояние обочин', 'Отсутствие тротуаров (пешеходных дорожек)']\",\n",
       "       \"['Сухое', 'Отсутствие, плохая различимость горизонтальной разметки проезжей части', 'Дефекты покрытия', 'Отсутствие тротуаров (пешеходных дорожек)']\",\n",
       "       \"['Сухое', 'Недостаточное освещение', 'Отсутствие освещения']\",\n",
       "       \"['Сухое', 'Отсутствие, плохая различимость горизонтальной разметки проезжей части', 'Недостаточное освещение', 'Отсутствие тротуаров (пешеходных дорожек)']\",\n",
       "       \"['Неисправное освещение', 'Со снежным накатом']\",\n",
       "       \"['Отсутствие, плохая различимость горизонтальной разметки проезжей части', 'Обработанное противогололедными материалами', 'Отсутствие освещения', 'Отсутствие пешеходных ограждений в необходимых местах']\",\n",
       "       \"['Иные недостатки', 'Мокрое']\",\n",
       "       \"['Неисправное освещение', 'Сухое', 'Отсутствие, плохая различимость горизонтальной разметки проезжей части', 'Неправильное применение, плохая видимость дорожных знаков']\",\n",
       "       \"['Сухое', 'Отсутствие, плохая различимость горизонтальной разметки проезжей части', 'Недостаточное освещение', 'Неправильное применение, плохая видимость дорожных знаков']\",\n",
       "       \"['Неисправное освещение', 'Мокрое', 'Отсутствие, плохая различимость горизонтальной разметки проезжей части']\",\n",
       "       \"['Неисправное освещение', 'Сухое', 'Отсутствие, плохая различимость горизонтальной разметки проезжей части', 'Дефекты покрытия']\",\n",
       "       \"['Сухое', 'Дефекты покрытия', 'Ограничение видимости']\",\n",
       "       \"['Отсутствие элементов обустройства остановочного пункта общественного пассажирского транспорта', 'Мокрое', 'Отсутствие, плохая различимость горизонтальной разметки проезжей части', 'Отсутствие освещения', 'Отсутствие тротуаров (пешеходных дорожек)']\",\n",
       "       \"['Неисправное освещение', 'Сухое', 'Отсутствие, плохая различимость горизонтальной разметки проезжей части', 'Отсутствие дорожных знаков в необходимых местах', 'Отсутствие направляющих устройств и световозвращающих элементов на них']\",\n",
       "       \"['Неисправное освещение', 'Свежеуложенная поверхностная обработка']\",\n",
       "       \"['Отсутствие, плохая различимость горизонтальной разметки проезжей части', 'Обработанное противогололедными материалами', 'Неправильное применение, плохая видимость дорожных знаков']\",\n",
       "       \"['Неисправное освещение', 'Иные недостатки', 'Обработанное противогололедными материалами']\",\n",
       "       \"['Обработанное противогололедными материалами', 'Отсутствие дорожных знаков в необходимых местах']\",\n",
       "       \"['Мокрое', 'Отсутствие, плохая различимость горизонтальной разметки проезжей части', 'Отсутствие дорожных знаков в необходимых местах']\",\n",
       "       \"['Недостатки зимнего содержания', 'Свежеуложенная поверхностная обработка']\",\n",
       "       \"['Сухое', 'Ограничение видимости']\",\n",
       "       \"['Недостатки зимнего содержания', 'Со снежным накатом', 'Неудовлетворительное состояние обочин']\",\n",
       "       \"['Недостатки зимнего содержания', 'Низкие сцепные качества покрытия', 'Заснеженное']\",\n",
       "       \"['Сухое', 'Отсутствие, плохая различимость горизонтальной разметки проезжей части', 'Дефекты покрытия', 'Неудовлетворительное состояние обочин']\",\n",
       "       \"['Сухое', 'Отсутствие, плохая различимость горизонтальной разметки проезжей части', 'Отсутствие дорожных знаков в необходимых местах', 'Неудовлетворительное состояние обочин']\",\n",
       "       \"['Недостатки зимнего содержания', 'Со снежным накатом', 'Низкие сцепные качества покрытия', 'Неудовлетворительное состояние обочин']\",\n",
       "       \"['Дефекты покрытия', 'Загрязненное']\",\n",
       "       \"['Несоответствие дорожных ограждений предъявляемым требованиям', 'Мокрое', 'Отсутствие, плохая различимость горизонтальной разметки проезжей части', 'Дефекты покрытия']\",\n",
       "       \"['Сухое', 'Дефекты покрытия', 'Неудовлетворительное состояние обочин']\",\n",
       "       \"['Сухое', 'Отсутствие, плохая различимость горизонтальной разметки проезжей части', 'Недостаточное освещение']\",\n",
       "       \"['Дефекты покрытия', 'Заснеженное']\",\n",
       "       \"['Сухое', 'Отсутствие, плохая различимость горизонтальной разметки проезжей части', 'Недостатки зимнего содержания', 'Неправильное применение, плохая видимость дорожных знаков', 'Отсутствие тротуаров (пешеходных дорожек)']\",\n",
       "       \"['Обработанное противогололедными материалами', 'Отсутствие дорожных знаков в необходимых местах', 'Отсутствие освещения']\",\n",
       "       \"['Со снежным накатом', 'Неправильное применение, плохая видимость дорожных знаков']\",\n",
       "       \"['Несоответствие дорожных ограждений предъявляемым требованиям', 'Заснеженное']\",\n",
       "       \"['Отсутствие, плохая различимость горизонтальной разметки проезжей части', 'Обработанное противогололедными материалами', 'Недостатки зимнего содержания', 'Отсутствие тротуаров (пешеходных дорожек)']\",\n",
       "       \"['Сухое', 'Отсутствие, плохая различимость горизонтальной разметки проезжей части', 'Низкие сцепные качества покрытия']\",\n",
       "       \"['Неисправное освещение', 'Сухое', 'Отсутствие, плохая различимость горизонтальной разметки проезжей части', 'Дефекты покрытия', 'Отсутствие тротуаров (пешеходных дорожек)']\",\n",
       "       \"['Несоответствие дорожных ограждений предъявляемым требованиям', 'Отсутствие, плохая различимость горизонтальной разметки проезжей части', 'Недостатки зимнего содержания', 'Заснеженное']\",\n",
       "       \"['Мокрое', 'Отсутствие, плохая различимость горизонтальной разметки проезжей части', 'Недостаточное освещение', 'Отсутствие тротуаров (пешеходных дорожек)']\",\n",
       "       \"['Обработанное противогололедными материалами', 'Недостатки зимнего содержания', 'Дефекты покрытия']\",\n",
       "       \"['Сухое', 'Дефекты покрытия', 'Отсутствие освещения']\",\n",
       "       \"['Сухое', 'Отсутствие, плохая различимость горизонтальной разметки проезжей части', 'Отсутствие дорожных знаков в необходимых местах', 'Отсутствие освещения']\",\n",
       "       \"['Сухое', 'Отсутствие освещения', 'Неровное покрытие']\",\n",
       "       \"['Отсутствие элементов обустройства остановочного пункта общественного пассажирского транспорта', 'Сухое', 'Отсутствие дорожных знаков в необходимых местах', 'Отсутствие освещения', 'Отсутствие тротуаров (пешеходных дорожек)']\",\n",
       "       \"['Отсутствие, плохая различимость горизонтальной разметки проезжей части', 'Обработанное противогололедными материалами', 'Неудовлетворительное состояние обочин']\",\n",
       "       \"['Несоответствие дорожных ограждений предъявляемым требованиям', 'Сухое', 'Отсутствие, плохая различимость горизонтальной разметки проезжей части', 'Отсутствие направляющих устройств и световозвращающих элементов на них', 'Неправильное применение, плохая видимость дорожных знаков']\",\n",
       "       \"['Обработанное противогололедными материалами', 'Недостатки зимнего содержания', 'Неудовлетворительное состояние обочин']\",\n",
       "       \"['Недостатки зимнего содержания', 'Со снежным накатом', 'Отсутствие дорожных знаков в необходимых местах', 'Отсутствие тротуаров (пешеходных дорожек)']\",\n",
       "       \"['Мокрое', 'Отсутствие, плохая различимость горизонтальной разметки проезжей части', 'Дефекты покрытия', 'Неудовлетворительное состояние обочин', 'Отсутствие тротуаров (пешеходных дорожек)']\",\n",
       "       \"['Мокрое', 'Отсутствие, плохая различимость горизонтальной разметки проезжей части', 'Отсутствие дорожных знаков в необходимых местах', 'Отсутствие пешеходных ограждений в необходимых местах']\",\n",
       "       \"['Отсутствие элементов обустройства остановочного пункта общественного пассажирского транспорта', 'Недостатки зимнего содержания', 'Со снежным накатом']\",\n",
       "       \"['Обработанное противогололедными материалами', 'Недостатки зимнего содержания', 'Отсутствие дорожных знаков в необходимых местах']\",\n",
       "       \"['Сухое', 'Отсутствие, плохая различимость горизонтальной разметки проезжей части', 'Недостаточное освещение', 'Отсутствие дорожных знаков в необходимых местах', 'Отсутствие тротуаров (пешеходных дорожек)']\",\n",
       "       \"['Мокрое', 'Отсутствие пешеходных ограждений в необходимых местах']\",\n",
       "       \"['Неисправное освещение', 'Отсутствие, плохая различимость горизонтальной разметки проезжей части', 'Гололедица']\",\n",
       "       \"['Отсутствие, плохая различимость горизонтальной разметки проезжей части', 'Обработанное противогололедными материалами', 'Недостатки зимнего содержания', 'Неправильное применение, плохая видимость дорожных знаков']\",\n",
       "       \"['Со снежным накатом', 'Отсутствие временных ТСОД в местах проведения работ']\",\n",
       "       \"['Мокрое', 'Отсутствие, плохая различимость горизонтальной разметки проезжей части', 'Отсутствие пешеходных ограждений в необходимых местах']\",\n",
       "       \"['Неисправное освещение', 'Мокрое', 'Отсутствие, плохая различимость горизонтальной разметки проезжей части', 'Отсутствие пешеходных ограждений в необходимых местах']\",\n",
       "       \"['Сухое', 'Недостатки зимнего содержания', 'Отсутствие тротуаров (пешеходных дорожек)']\",\n",
       "       \"['Отсутствие элементов обустройства остановочного пункта общественного пассажирского транспорта', 'Отсутствие, плохая различимость горизонтальной разметки проезжей части', 'Недостатки зимнего содержания', 'Заснеженное', 'Неправильное применение, плохая видимость дорожных знаков']\",\n",
       "       \"['Неисправность светофора', 'Сухое']\",\n",
       "       \"['Отсутствие, плохая различимость горизонтальной разметки проезжей части', 'Отсутствие дорожных знаков в необходимых местах', 'Заснеженное']\",\n",
       "       \"['Мокрое', 'Отсутствие, плохая различимость горизонтальной разметки проезжей части', 'Отсутствие дорожных ограждений в необходимых местах']\",\n",
       "       \"['Сухое', 'Отсутствие, плохая различимость горизонтальной разметки проезжей части', 'Недостатки зимнего содержания', 'Отсутствие дорожных знаков в необходимых местах', 'Неправильное применение, плохая видимость дорожных знаков']\",\n",
       "       \"['Отсутствие элементов обустройства остановочного пункта общественного пассажирского транспорта', 'Мокрое', 'Отсутствие дорожных знаков в необходимых местах', 'Отсутствие пешеходных ограждений в необходимых местах']\",\n",
       "       \"['Несоответствие дорожных ограждений предъявляемым требованиям', 'Иные недостатки', 'Сухое', 'Отсутствие, плохая различимость горизонтальной разметки проезжей части', 'Отсутствие пешеходных ограждений в необходимых местах']\",\n",
       "       \"['Неисправность светофора', 'Плохая видимость светофора', 'Сухое', 'Отсутствие, плохая различимость горизонтальной разметки проезжей части']\",\n",
       "       \"['Обработанное противогололедными материалами', 'Отсутствие дорожных ограждений в необходимых местах']\",\n",
       "       \"['Иные недостатки', 'Сухое', 'Отсутствие, плохая различимость горизонтальной разметки проезжей части', 'Отсутствие дорожных знаков в необходимых местах', 'Отсутствие пешеходных ограждений в необходимых местах']\",\n",
       "       \"['Сухое', 'Отсутствие, плохая различимость горизонтальной разметки проезжей части', 'Отсутствие дорожных знаков в необходимых местах', 'Отсутствие пешеходных ограждений в необходимых местах']\",\n",
       "       \"['Сухое', 'Отсутствие, плохая различимость горизонтальной разметки проезжей части', 'Отсутствие дорожных знаков в необходимых местах', 'Неудовлетворительное состояние обочин', 'Отсутствие тротуаров (пешеходных дорожек)']\",\n",
       "       \"['Отсутствие элементов обустройства остановочного пункта общественного пассажирского транспорта', 'Сухое', 'Отсутствие, плохая различимость горизонтальной разметки проезжей части', 'Отсутствие дорожных знаков в необходимых местах', 'Отсутствие пешеходных ограждений в необходимых местах']\",\n",
       "       \"['Отсутствие элементов обустройства остановочного пункта общественного пассажирского транспорта', 'Иные недостатки', 'Мокрое', 'Неправильное применение, плохая видимость дорожных знаков']\",\n",
       "       \"['Неисправность светофора', 'Сухое', 'Отсутствие, плохая различимость горизонтальной разметки проезжей части']\",\n",
       "       \"['Отсутствие элементов обустройства остановочного пункта общественного пассажирского транспорта', 'Отсутствие, плохая различимость горизонтальной разметки проезжей части', 'Заснеженное', 'Неправильное применение, плохая видимость дорожных знаков']\",\n",
       "       \"['Отсутствие, плохая различимость горизонтальной разметки проезжей части', 'Обработанное противогололедными материалами', 'Отсутствие дорожных знаков в необходимых местах', 'Отсутствие пешеходных ограждений в необходимых местах']\",\n",
       "       \"['Отсутствие элементов обустройства остановочного пункта общественного пассажирского транспорта', 'Недостатки зимнего содержания', 'Заснеженное']\",\n",
       "       \"['Отсутствие элементов обустройства остановочного пункта общественного пассажирского транспорта', 'Неисправность светофора', 'Мокрое', 'Отсутствие дорожных знаков в необходимых местах']\",\n",
       "       \"['Сухое', 'Отсутствие, плохая различимость горизонтальной разметки проезжей части', 'Отсутствие дорожных знаков в необходимых местах', 'Неправильное применение, плохая видимость дорожных знаков', 'Отсутствие пешеходных ограждений в необходимых местах']\",\n",
       "       \"['Иные недостатки', 'Сухое', 'Отсутствие пешеходных ограждений в необходимых местах']\",\n",
       "       \"['Недостатки зимнего содержания', 'Недостаточное освещение', 'Заснеженное', 'Отсутствие тротуаров (пешеходных дорожек)']\",\n",
       "       \"['Отсутствие элементов обустройства остановочного пункта общественного пассажирского транспорта', 'Отсутствие, плохая различимость горизонтальной разметки проезжей части', 'Обработанное противогололедными материалами']\",\n",
       "       \"['Иные недостатки', 'Отсутствие, плохая различимость горизонтальной разметки проезжей части', 'Обработанное противогололедными материалами']\",\n",
       "       \"['Сухое', 'Отсутствие дорожных знаков в необходимых местах', 'Неправильное применение, плохая видимость дорожных знаков', 'Отсутствие пешеходных ограждений в необходимых местах']\",\n",
       "       \"['Отсутствие элементов обустройства остановочного пункта общественного пассажирского транспорта', 'Мокрое', 'Отсутствие, плохая различимость горизонтальной разметки проезжей части', 'Отсутствие дорожных знаков в необходимых местах']\",\n",
       "       \"['Заснеженное', 'Неправильное применение, плохая видимость дорожных знаков']\",\n",
       "       \"['Отсутствие, плохая различимость горизонтальной разметки проезжей части', 'Отсутствие дорожных знаков в необходимых местах', 'Заснеженное', 'Отсутствие пешеходных ограждений в необходимых местах']\",\n",
       "       \"['Отсутствие элементов обустройства остановочного пункта общественного пассажирского транспорта', 'Отсутствие, плохая различимость горизонтальной разметки проезжей части', 'Отсутствие дорожных знаков в необходимых местах', 'Заснеженное']\",\n",
       "       \"['Отсутствие элементов обустройства остановочного пункта общественного пассажирского транспорта', 'Мокрое']\",\n",
       "       \"['Обработанное противогололедными материалами', 'Неправильное применение, плохая видимость дорожных знаков']\",\n",
       "       \"['Сухое', 'Отсутствие дорожных знаков в необходимых местах', 'Отсутствие пешеходных ограждений в необходимых местах']\",\n",
       "       \"['Сухое', 'Отсутствие, плохая различимость горизонтальной разметки проезжей части', 'Недостатки зимнего содержания']\",\n",
       "       \"['Мокрое', 'Отсутствие дорожных знаков в необходимых местах', 'Неправильное применение, плохая видимость дорожных знаков', 'Отсутствие пешеходных ограждений в необходимых местах']\",\n",
       "       \"['Мокрое', 'Отсутствие дорожных знаков в необходимых местах', 'Неправильное применение, плохая видимость дорожных знаков']\",\n",
       "       \"['Мокрое', 'Отсутствие дорожных знаков в необходимых местах', 'Отсутствие пешеходных ограждений в необходимых местах']\",\n",
       "       \"['Отсутствие элементов обустройства остановочного пункта общественного пассажирского транспорта', 'Мокрое', 'Отсутствие, плохая различимость горизонтальной разметки проезжей части', 'Отсутствие, плохая различимость вертикальной разметки', 'Отсутствие пешеходных ограждений в необходимых местах']\",\n",
       "       \"['Мокрое', 'Отсутствие, плохая различимость горизонтальной разметки проезжей части', 'Отсутствие дорожных знаков в необходимых местах', 'Неправильное применение, плохая видимость дорожных знаков']\",\n",
       "       \"['Мокрое', 'Отсутствие, плохая различимость горизонтальной разметки проезжей части', 'Недостатки зимнего содержания', 'Отсутствие дорожных знаков в необходимых местах']\",\n",
       "       \"['Сухое', 'Отсутствие, плохая различимость горизонтальной разметки проезжей части', 'Дефекты покрытия', 'Отсутствие дорожных знаков в необходимых местах']\",\n",
       "       \"['Мокрое', 'Отсутствие, плохая различимость горизонтальной разметки проезжей части', 'Неправильное применение, плохая видимость дорожных знаков', 'Отсутствие пешеходных ограждений в необходимых местах']\",\n",
       "       \"['Сухое', 'Отсутствие, плохая различимость горизонтальной разметки проезжей части', 'Неправильное применение, плохая видимость дорожных знаков', 'Отсутствие пешеходных ограждений в необходимых местах']\",\n",
       "       \"['Отсутствие, плохая различимость горизонтальной разметки проезжей части', 'Гололедица']\",\n",
       "       \"['Отсутствие элементов обустройства остановочного пункта общественного пассажирского транспорта', 'Мокрое', 'Отсутствие, плохая различимость горизонтальной разметки проезжей части', 'Недостатки зимнего содержания', 'Неправильное применение, плохая видимость дорожных знаков']\",\n",
       "       \"['Отсутствие, плохая различимость горизонтальной разметки проезжей части', 'Недостатки зимнего содержания', 'Отсутствие дорожных знаков в необходимых местах', 'Заснеженное']\",\n",
       "       \"['Мокрое', 'Отсутствие, плохая различимость горизонтальной разметки проезжей части', 'Отсутствие дорожных знаков в необходимых местах', 'Отсутствие тротуаров (пешеходных дорожек)', 'Отсутствие пешеходных ограждений в необходимых местах']\",\n",
       "       \"['Отсутствие элементов обустройства остановочного пункта общественного пассажирского транспорта', 'Отсутствие, плохая различимость горизонтальной разметки проезжей части', 'Недостатки зимнего содержания', 'Заснеженное', 'Отсутствие пешеходных ограждений в необходимых местах']\",\n",
       "       \"['Отсутствие, плохая различимость горизонтальной разметки проезжей части', 'Обработанное противогололедными материалами', 'Недостатки зимнего содержания', 'Дефекты покрытия']\",\n",
       "       \"['Неисправность светофора', 'Сухое', 'Отсутствие дорожных знаков в необходимых местах', 'Отсутствие пешеходных ограждений в необходимых местах']\",\n",
       "       \"['Отсутствие элементов обустройства остановочного пункта общественного пассажирского транспорта', 'Иные недостатки', 'Мокрое', 'Отсутствие, плохая различимость горизонтальной разметки проезжей части']\",\n",
       "       \"['Отсутствие элементов обустройства остановочного пункта общественного пассажирского транспорта', 'Сухое', 'Отсутствие дорожных знаков в необходимых местах', 'Отсутствие пешеходных ограждений в необходимых местах']\",\n",
       "       \"['Сухое', 'Отсутствие, плохая различимость горизонтальной разметки проезжей части', 'Неудовлетворительное состояние обочин', 'Неровное покрытие']\",\n",
       "       \"['Сухое', 'Отсутствие, плохая различимость горизонтальной разметки проезжей части', 'Отсутствие тротуаров (пешеходных дорожек)', 'Отсутствие дорожных ограждений в необходимых местах']\",\n",
       "       \"['Иные недостатки', 'Сухое', 'Отсутствие дорожных знаков в необходимых местах']\",\n",
       "       \"['Иные недостатки', 'Сухое', 'Отсутствие дорожных знаков в необходимых местах', 'Отсутствие дорожных ограждений в необходимых местах']\",\n",
       "       \"['Мокрое', 'Отсутствие, плохая различимость вертикальной разметки']\",\n",
       "       \"['Мокрое', 'Дефекты покрытия', 'Отсутствие дорожных знаков в необходимых местах', 'Неровное покрытие']\",\n",
       "       \"['Иные недостатки', 'Сухое', 'Отсутствие дорожных знаков в необходимых местах', 'Отсутствие пешеходных ограждений в необходимых местах']\",\n",
       "       \"['Несоответствие дорожных ограждений предъявляемым требованиям', 'Сухое', 'Отсутствие дорожных знаков в необходимых местах']\",\n",
       "       \"['Иные недостатки', 'Отсутствие, плохая различимость горизонтальной разметки проезжей части', 'Обработанное противогололедными материалами', 'Неправильное применение, плохая видимость дорожных знаков', 'Отсутствие дорожных ограждений в необходимых местах']\",\n",
       "       \"['Отсутствие, плохая различимость горизонтальной разметки проезжей части', 'Обработанное противогололедными материалами', 'Недостаточное освещение']\",\n",
       "       \"['Отсутствие, плохая различимость горизонтальной разметки проезжей части', 'Обработанное противогололедными материалами', 'Отсутствие тротуаров (пешеходных дорожек)']\",\n",
       "       \"['Иные недостатки', 'Отсутствие дорожных знаков в необходимых местах', 'Заснеженное']\",\n",
       "       \"['Мокрое', 'Отсутствие, плохая различимость горизонтальной разметки проезжей части', 'Недостаточное освещение']\",\n",
       "       \"['Иные недостатки', 'Отсутствие, плохая различимость горизонтальной разметки проезжей части', 'Отсутствие дорожных знаков в необходимых местах', 'Заснеженное']\",\n",
       "       \"['Иные недостатки', 'Мокрое', 'Отсутствие, плохая различимость горизонтальной разметки проезжей части', 'Отсутствие дорожных знаков в необходимых местах']\",\n",
       "       \"['Отсутствие элементов обустройства остановочного пункта общественного пассажирского транспорта', 'Сухое', 'Отсутствие дорожных ограждений в необходимых местах']\",\n",
       "       \"['Сухое', 'Отсутствие, плохая различимость горизонтальной разметки проезжей части', 'Неправильное применение, плохая видимость дорожных знаков', 'Отсутствие дорожных ограждений в необходимых местах']\",\n",
       "       \"['Иные недостатки', 'Сухое', 'Отсутствие дорожных знаков в необходимых местах', 'Неправильное применение, плохая видимость дорожных знаков']\",\n",
       "       \"['Отсутствие элементов обустройства остановочного пункта общественного пассажирского транспорта', 'Иные недостатки', 'Сухое', 'Отсутствие дорожных знаков в необходимых местах']\",\n",
       "       \"['Сухое', 'Недостаточное освещение', 'Отсутствие дорожных знаков в необходимых местах']\",\n",
       "       \"['Сухое', 'Отсутствие, плохая различимость горизонтальной разметки проезжей части', 'Недостаточное освещение', 'Отсутствие дорожных знаков в необходимых местах']\",\n",
       "       \"['Сухое', 'Отсутствие, плохая различимость горизонтальной разметки проезжей части', 'Отсутствие, плохая различимость вертикальной разметки']\",\n",
       "       \"['Иные недостатки', 'Сухое', 'Недостаточное освещение']\",\n",
       "       \"['Сухое', 'Отсутствие дорожных знаков в необходимых местах', 'Неправильное применение, плохая видимость дорожных знаков']\",\n",
       "       \"['Несоответствие люков смотровых колодцев и ливневой канализации предъявляемым требованиям', 'Иные недостатки', 'Сухое', 'Отсутствие дорожных знаков в необходимых местах', 'Отсутствие дорожных ограждений в необходимых местах']\",\n",
       "       \"['Мокрое', 'Отсутствие, плохая различимость горизонтальной разметки проезжей части', 'Неудовлетворительное состояние обочин', 'Отсутствие освещения', 'Отсутствие тротуаров (пешеходных дорожек)']\",\n",
       "       \"['Отсутствие элементов обустройства остановочного пункта общественного пассажирского транспорта', 'Мокрое', 'Отсутствие, плохая различимость горизонтальной разметки проезжей части', 'Отсутствие дорожных знаков в необходимых местах', 'Отсутствие пешеходных ограждений в необходимых местах']\",\n",
       "       \"['Заснеженное', 'Отсутствие временных ТСОД в местах проведения работ']\",\n",
       "       \"['Несоответствие дорожных ограждений предъявляемым требованиям', 'Отсутствие, плохая различимость горизонтальной разметки проезжей части', 'Обработанное противогололедными материалами', 'Недостатки зимнего содержания']\",\n",
       "       \"['Отсутствие, плохая различимость горизонтальной разметки проезжей части', 'Обработанное противогололедными материалами', 'Отсутствие дорожных ограждений в необходимых местах']\",\n",
       "       \"['Недостатки зимнего содержания', 'Заснеженное', 'Отсутствие пешеходных ограждений в необходимых местах']\",\n",
       "       \"['Обработанное противогололедными материалами', 'Отсутствие дорожных знаков в необходимых местах', 'Отсутствие пешеходных ограждений в необходимых местах']\",\n",
       "       \"['Несоответствие дорожных ограждений предъявляемым требованиям', 'Отсутствие элементов обустройства остановочного пункта общественного пассажирского транспорта', 'Мокрое', 'Отсутствие, плохая различимость горизонтальной разметки проезжей части', 'Отсутствие дорожных знаков в необходимых местах']\",\n",
       "       \"['Иные недостатки', 'Сухое', 'Отсутствие, плохая различимость горизонтальной разметки проезжей части', 'Неудовлетворительное состояние обочин', 'Отсутствие пешеходных ограждений в необходимых местах']\",\n",
       "       \"['Отсутствие элементов обустройства остановочного пункта общественного пассажирского транспорта', 'Иные недостатки', 'Сухое']\",\n",
       "       \"['Иные недостатки', 'Мокрое', 'Отсутствие, плохая различимость горизонтальной разметки проезжей части', 'Отсутствие дорожных знаков в необходимых местах', 'Отсутствие пешеходных ограждений в необходимых местах']\",\n",
       "       \"['Иные недостатки', 'Загрязненное']\",\n",
       "       \"['Мокрое', 'Отсутствие дорожных знаков в необходимых местах', 'Отсутствие дорожных ограждений в необходимых местах']\",\n",
       "       \"['Плохая видимость светофора', 'Мокрое', 'Отсутствие, плохая различимость горизонтальной разметки проезжей части', 'Неправильное применение, плохая видимость дорожных знаков']\",\n",
       "       \"['Иные недостатки', 'Отсутствие, плохая различимость горизонтальной разметки проезжей части', 'Заснеженное', 'Неправильное применение, плохая видимость дорожных знаков']\",\n",
       "       \"['Иные недостатки', 'Отсутствие, плохая различимость горизонтальной разметки проезжей части', 'Обработанное противогололедными материалами', 'Отсутствие пешеходных ограждений в необходимых местах']\",\n",
       "       \"['Иные недостатки', 'Мокрое', 'Отсутствие дорожных знаков в необходимых местах']\",\n",
       "       \"['Сухое', 'Отсутствие, плохая различимость горизонтальной разметки проезжей части', 'Отсутствие дорожных знаков в необходимых местах', 'Неправильное применение, плохая видимость дорожных знаков', 'Отсутствие освещения']\",\n",
       "       \"['Мокрое', 'Отсутствие, плохая различимость горизонтальной разметки проезжей части', 'Неудовлетворительное состояние обочин', 'Отсутствие тротуаров (пешеходных дорожек)']\",\n",
       "       \"['Отсутствие, плохая различимость горизонтальной разметки проезжей части', 'Обработанное противогололедными материалами', 'Отсутствие дорожных знаков в необходимых местах', 'Неправильное применение, плохая видимость дорожных знаков', 'Отсутствие пешеходных ограждений в необходимых местах']\",\n",
       "       \"['Отсутствие элементов обустройства остановочного пункта общественного пассажирского транспорта', 'Обработанное противогололедными материалами', 'Отсутствие дорожных знаков в необходимых местах']\",\n",
       "       \"['Мокрое', 'Отсутствие, плохая различимость горизонтальной разметки проезжей части', 'Недостаточное освещение', 'Отсутствие дорожных знаков в необходимых местах', 'Неровное покрытие']\",\n",
       "       \"['Иные недостатки', 'Мокрое', 'Отсутствие, плохая различимость горизонтальной разметки проезжей части', 'Недостаточное освещение', 'Отсутствие дорожных знаков в необходимых местах']\",\n",
       "       \"['Иные недостатки', 'Отсутствие, плохая различимость горизонтальной разметки проезжей части', 'Обработанное противогололедными материалами', 'Отсутствие дорожных знаков в необходимых местах', 'Отсутствие пешеходных ограждений в необходимых местах']\",\n",
       "       \"['Иные недостатки', 'Отсутствие, плохая различимость горизонтальной разметки проезжей части', 'Обработанное противогололедными материалами', 'Недостатки зимнего содержания']\",\n",
       "       \"['Иные недостатки', 'Отсутствие, плохая различимость горизонтальной разметки проезжей части', 'Пыльное', 'Отсутствие тротуаров (пешеходных дорожек)']\",\n",
       "       \"['Отсутствие элементов обустройства остановочного пункта общественного пассажирского транспорта', 'Отсутствие, плохая различимость горизонтальной разметки проезжей части', 'Обработанное противогололедными материалами', 'Отсутствие дорожных знаков в необходимых местах']\",\n",
       "       \"['Плохая видимость светофора', 'Отсутствие, плохая различимость горизонтальной разметки проезжей части', 'Обработанное противогололедными материалами', 'Отсутствие пешеходных ограждений в необходимых местах']\",\n",
       "       \"['Иные недостатки', 'Заснеженное']\",\n",
       "       \"['Неисправность светофора', 'Отсутствие, плохая различимость горизонтальной разметки проезжей части', 'Обработанное противогололедными материалами']\",\n",
       "       \"['Отсутствие элементов обустройства остановочного пункта общественного пассажирского транспорта', 'Неисправность светофора', 'Отсутствие, плохая различимость горизонтальной разметки проезжей части', 'Обработанное противогололедными материалами', 'Отсутствие дорожных знаков в необходимых местах']\",\n",
       "       \"['Иные недостатки', 'Заснеженное', 'Неправильное применение, плохая видимость дорожных знаков']\",\n",
       "       \"['Отсутствие, плохая различимость горизонтальной разметки проезжей части', 'Обработанное противогололедными материалами', 'Отсутствие пешеходных ограждений в необходимых местах']\",\n",
       "       \"['Отсутствие, плохая различимость горизонтальной разметки проезжей части', 'Обработанное противогололедными материалами', 'Недостатки зимнего содержания', 'Отсутствие дорожных знаков в необходимых местах', 'Отсутствие пешеходных ограждений в необходимых местах']\",\n",
       "       \"['Отсутствие, плохая различимость горизонтальной разметки проезжей части', 'Заснеженное', 'Отсутствие дорожных ограждений в необходимых местах']\",\n",
       "       \"['Отсутствие, плохая различимость горизонтальной разметки проезжей части', 'Недостатки зимнего содержания', 'Заснеженное', 'Отсутствие дорожных ограждений в необходимых местах']\",\n",
       "       \"['Иные недостатки', 'Мокрое', 'Отсутствие, плохая различимость горизонтальной разметки проезжей части', 'Недостатки зимнего содержания']\",\n",
       "       \"['Сухое', 'Отсутствие временных ТСОД в местах проведения работ']\",\n",
       "       \"['Отсутствие, плохая различимость горизонтальной разметки проезжей части', 'Обработанное противогололедными материалами', 'Недостатки зимнего содержания', 'Отсутствие дорожных знаков в необходимых местах']\",\n",
       "       \"['Мокрое', 'Отсутствие, плохая различимость горизонтальной разметки проезжей части', 'Неудовлетворительное состояние обочин', 'Отсутствие тротуаров (пешеходных дорожек)', 'Неровное покрытие']\",\n",
       "       \"['Отсутствие элементов обустройства остановочного пункта общественного пассажирского транспорта', 'Сухое', 'Неправильное применение, плохая видимость дорожных знаков']\",\n",
       "       \"['Несоответствие дорожных ограждений предъявляемым требованиям', 'Сухое', 'Отсутствие, плохая различимость горизонтальной разметки проезжей части', 'Недостаточное освещение']\",\n",
       "       \"['Неисправность светофора', 'Сухое', 'Неправильное применение, плохая видимость дорожных знаков']\",\n",
       "       \"['Сухое', 'Отсутствие, плохая различимость горизонтальной разметки проезжей части', 'Неправильное применение, плохая видимость дорожных знаков', 'Отсутствие тротуаров (пешеходных дорожек)', 'Неровное покрытие']\",\n",
       "       \"['Отсутствие, плохая различимость горизонтальной разметки проезжей части', 'Обработанное противогололедными материалами', 'Недостаточное освещение', 'Отсутствие тротуаров (пешеходных дорожек)']\",\n",
       "       \"['Плохая видимость световозвращателей, размещенных на дорожных ограждениях', 'Отсутствие, плохая различимость горизонтальной разметки проезжей части', 'Обработанное противогололедными материалами']\",\n",
       "       \"['Плохая видимость световозвращателей, размещенных на дорожных ограждениях', 'Отсутствие, плохая различимость горизонтальной разметки проезжей части', 'Обработанное противогололедными материалами', 'Недостатки зимнего содержания', 'Отсутствие дорожных знаков в необходимых местах']\",\n",
       "       \"['Плохая видимость световозвращателей, размещенных на дорожных ограждениях', 'Обработанное противогололедными материалами']\",\n",
       "       \"['Иные недостатки', 'Отсутствие, плохая различимость горизонтальной разметки проезжей части', 'Отсутствие дорожных знаков в необходимых местах', 'Заснеженное', 'Неправильное применение, плохая видимость дорожных знаков']\",\n",
       "       \"['Иные недостатки', 'Отсутствие, плохая различимость горизонтальной разметки проезжей части', 'Обработанное противогололедными материалами', 'Недостатки зимнего содержания', 'Недостаточное освещение']\",\n",
       "       \"['Иные недостатки', 'Обработанное противогололедными материалами', 'Недостатки зимнего содержания', 'Отсутствие тротуаров (пешеходных дорожек)']\",\n",
       "       \"['Отсутствие элементов обустройства остановочного пункта общественного пассажирского транспорта', 'Обработанное противогололедными материалами', 'Недостатки зимнего содержания', 'Отсутствие дорожных знаков в необходимых местах']\",\n",
       "       \"['Иные недостатки', 'Отсутствие, плохая различимость горизонтальной разметки проезжей части', 'Обработанное противогололедными материалами', 'Недостатки зимнего содержания', 'Отсутствие дорожных знаков в необходимых местах']\",\n",
       "       \"['Иные недостатки', 'Отсутствие, плохая различимость горизонтальной разметки проезжей части', 'Обработанное противогололедными материалами', 'Отсутствие дорожных знаков в необходимых местах']\",\n",
       "       \"['Иные недостатки', 'Отсутствие, плохая различимость горизонтальной разметки проезжей части', 'Обработанное противогололедными материалами', 'Отсутствие дорожных знаков в необходимых местах', 'Неправильное применение, плохая видимость дорожных знаков']\",\n",
       "       \"['Иные недостатки', 'Обработанное противогололедными материалами']\",\n",
       "       \"['Сухое', 'Отсутствие, плохая различимость горизонтальной разметки проезжей части', 'Отсутствие дорожных знаков в необходимых местах', 'Отсутствие дорожных ограждений в необходимых местах', 'Отсутствие пешеходных ограждений в необходимых местах']\",\n",
       "       \"['Отсутствие элементов обустройства остановочного пункта общественного пассажирского транспорта', 'Отсутствие, плохая различимость горизонтальной разметки проезжей части', 'Отсутствие дорожных знаков в необходимых местах', 'Заснеженное', 'Отсутствие пешеходных ограждений в необходимых местах']\",\n",
       "       \"['Отсутствие элементов обустройства остановочного пункта общественного пассажирского транспорта', 'Мокрое', 'Отсутствие, плохая различимость горизонтальной разметки проезжей части', 'Отсутствие пешеходных ограждений в необходимых местах']\",\n",
       "       \"['Сухое', 'Отсутствие, плохая различимость горизонтальной разметки проезжей части', 'Недостаточное освещение', 'Отсутствие дорожных знаков в необходимых местах', 'Отсутствие дорожных ограждений в необходимых местах']\",\n",
       "       \"['Неисправность светофора', 'Иные недостатки', 'Сухое', 'Отсутствие, плохая различимость горизонтальной разметки проезжей части', 'Отсутствие дорожных знаков в необходимых местах']\",\n",
       "       \"['Сухое', 'Отсутствие, плохая различимость горизонтальной разметки проезжей части', 'Отсутствие дорожных знаков в необходимых местах', 'Отсутствие дорожных ограждений в необходимых местах']\",\n",
       "       \"['Сухое', 'Отсутствие, плохая различимость горизонтальной разметки проезжей части', 'Дефекты покрытия', 'Неудовлетворительное состояние обочин', 'Отсутствие тротуаров (пешеходных дорожек)']\",\n",
       "       \"['Сухое', 'Отсутствие, плохая различимость горизонтальной разметки проезжей части', 'Дефекты покрытия', 'Отсутствие дорожных знаков в необходимых местах', 'Отсутствие пешеходных ограждений в необходимых местах']\",\n",
       "       \"['Иные недостатки', 'Сухое', 'Отсутствие, плохая различимость горизонтальной разметки проезжей части', 'Неправильное применение, плохая видимость дорожных знаков', 'Отсутствие пешеходных ограждений в необходимых местах']\",\n",
       "       \"['Сухое', 'Отсутствие, плохая различимость горизонтальной разметки проезжей части', 'Отсутствие временных ТСОД в местах проведения работ']\",\n",
       "       \"['Несоответствие дорожных ограждений предъявляемым требованиям', 'Отсутствие элементов обустройства остановочного пункта общественного пассажирского транспорта', 'Плохая видимость световозвращателей, размещенных на дорожных ограждениях', 'Мокрое', 'Отсутствие, плохая различимость горизонтальной разметки проезжей части']\",\n",
       "       \"['Отсутствие элементов обустройства остановочного пункта общественного пассажирского транспорта', 'Сухое', 'Отсутствие, плохая различимость горизонтальной разметки проезжей части', 'Неудовлетворительное состояние обочин', 'Отсутствие тротуаров (пешеходных дорожек)']\",\n",
       "       \"['Мокрое', 'Дефекты покрытия', 'Отсутствие освещения']\",\n",
       "       \"['Иные недостатки', 'Сухое', 'Отсутствие, плохая различимость горизонтальной разметки проезжей части', 'Неправильное применение, плохая видимость дорожных знаков', 'Отсутствие тротуаров (пешеходных дорожек)']\",\n",
       "       \"['Иные недостатки', 'Мокрое', 'Отсутствие, плохая различимость горизонтальной разметки проезжей части', 'Неправильное применение, плохая видимость дорожных знаков', 'Отсутствие пешеходных ограждений в необходимых местах']\",\n",
       "       \"['Отсутствие элементов обустройства остановочного пункта общественного пассажирского транспорта', 'Мокрое', 'Отсутствие, плохая различимость горизонтальной разметки проезжей части', 'Отсутствие, плохая различимость вертикальной разметки']\",\n",
       "       \"['Иные недостатки', 'Сухое', 'Отсутствие дорожных знаков в необходимых местах', 'Отсутствие, плохая различимость вертикальной разметки']\",\n",
       "       \"['Иные недостатки', 'Отсутствие, плохая различимость горизонтальной разметки проезжей части', 'Недостатки зимнего содержания', 'Заснеженное']\",\n",
       "       \"['Отсутствие, плохая различимость горизонтальной разметки проезжей части', 'Обработанное противогололедными материалами', 'Недостатки зимнего содержания', 'Недостаточное освещение']\",\n",
       "       \"['Отсутствие элементов обустройства остановочного пункта общественного пассажирского транспорта', 'Отсутствие, плохая различимость горизонтальной разметки проезжей части', 'Обработанное противогололедными материалами', 'Недостатки зимнего содержания']\",\n",
       "       \"['Отсутствие элементов обустройства остановочного пункта общественного пассажирского транспорта', 'Отсутствие, плохая различимость горизонтальной разметки проезжей части', 'Обработанное противогололедными материалами', 'Недостатки зимнего содержания', 'Отсутствие дорожных знаков в необходимых местах']\",\n",
       "       \"['Обработанное противогололедными материалами', 'Недостаточное освещение']\",\n",
       "       \"['Отсутствие, плохая различимость горизонтальной разметки проезжей части', 'Обработанное противогололедными материалами', 'Недостаточное освещение', 'Отсутствие дорожных знаков в необходимых местах']\",\n",
       "       \"['Иные недостатки', 'Отсутствие, плохая различимость горизонтальной разметки проезжей части', 'Обработанное противогололедными материалами', 'Недостаточное освещение', 'Отсутствие дорожных знаков в необходимых местах']\",\n",
       "       \"['Недостаточное освещение', 'Заснеженное']\",\n",
       "       \"['Отсутствие, плохая различимость горизонтальной разметки проезжей части', 'Загрязненное']\",\n",
       "       \"['Отсутствие дорожных знаков в необходимых местах', 'Заснеженное', 'Отсутствие пешеходных ограждений в необходимых местах']\",\n",
       "       \"['Мокрое', 'Отсутствие, плохая различимость горизонтальной разметки проезжей части', 'Отсутствие дорожных знаков в необходимых местах', 'Отсутствие освещения', 'Отсутствие дорожных ограждений в необходимых местах']\",\n",
       "       \"['Отсутствие, плохая различимость горизонтальной разметки проезжей части', 'Заснеженное', 'Отсутствие тротуаров (пешеходных дорожек)']\",\n",
       "       \"['Отсутствие элементов обустройства остановочного пункта общественного пассажирского транспорта', 'Отсутствие дорожных знаков в необходимых местах', 'Заснеженное']\",\n",
       "       \"['Неисправность светофора', 'Сухое', 'Отсутствие, плохая различимость горизонтальной разметки проезжей части', 'Отсутствие пешеходных ограждений в необходимых местах']\",\n",
       "       \"['Мокрое', 'Отсутствие, плохая различимость горизонтальной разметки проезжей части', 'Недостаточное освещение', 'Отсутствие пешеходных ограждений в необходимых местах']\",\n",
       "       \"['Отсутствие, плохая различимость горизонтальной разметки проезжей части', 'Обработанное противогололедными материалами', 'Недостатки зимнего содержания', 'Недостаточное освещение', 'Неправильное применение, плохая видимость дорожных знаков']\",\n",
       "       \"['Отсутствие элементов обустройства остановочного пункта общественного пассажирского транспорта', 'Обработанное противогололедными материалами']\",\n",
       "       \"['Отсутствие, плохая различимость горизонтальной разметки проезжей части', 'Недостатки зимнего содержания', 'Дефекты покрытия', 'Заснеженное']\",\n",
       "       \"['Отсутствие, плохая различимость горизонтальной разметки проезжей части', 'Заснеженное', 'Неправильное применение, плохая видимость дорожных знаков', 'Отсутствие пешеходных ограждений в необходимых местах']\",\n",
       "       \"['Отсутствие элементов обустройства остановочного пункта общественного пассажирского транспорта', 'Отсутствие, плохая различимость горизонтальной разметки проезжей части', 'Обработанное противогололедными материалами', 'Недостатки зимнего содержания', 'Неправильное применение, плохая видимость дорожных знаков']\",\n",
       "       \"['Отсутствие, плохая различимость горизонтальной разметки проезжей части', 'Отсутствие дорожных знаков в необходимых местах', 'Заснеженное', 'Неправильное применение, плохая видимость дорожных знаков', 'Отсутствие пешеходных ограждений в необходимых местах']\",\n",
       "       \"['Отсутствие элементов обустройства остановочного пункта общественного пассажирского транспорта', 'Отсутствие, плохая различимость горизонтальной разметки проезжей части', 'Обработанное противогололедными материалами', 'Неправильное применение, плохая видимость дорожных знаков']\",\n",
       "       \"['Отсутствие элементов обустройства остановочного пункта общественного пассажирского транспорта', 'Заснеженное']\",\n",
       "       \"['Отсутствие, плохая различимость горизонтальной разметки проезжей части', 'Обработанное противогололедными материалами', 'Отсутствие дорожных знаков в необходимых местах', 'Неправильное применение, плохая видимость дорожных знаков']\",\n",
       "       \"['Иные недостатки', 'Сухое', 'Отсутствие, плохая различимость горизонтальной разметки проезжей части', 'Отсутствие дорожных знаков в необходимых местах', 'Отсутствие дорожных ограждений в необходимых местах']\",\n",
       "       \"['Иные недостатки', 'Мокрое', 'Отсутствие, плохая различимость горизонтальной разметки проезжей части', 'Отсутствие дорожных знаков в необходимых местах', 'Отсутствие дорожных ограждений в необходимых местах']\",\n",
       "       \"['Плохая видимость светофора', 'Сухое', 'Отсутствие, плохая различимость горизонтальной разметки проезжей части', 'Неудовлетворительное состояние обочин']\",\n",
       "       \"['Отсутствие элементов обустройства остановочного пункта общественного пассажирского транспорта', 'Сухое', 'Дефекты покрытия', 'Неправильное применение, плохая видимость дорожных знаков']\",\n",
       "       \"['Отсутствие элементов обустройства остановочного пункта общественного пассажирского транспорта', 'Сухое', 'Отсутствие дорожных знаков в необходимых местах', 'Отсутствие дорожных ограждений в необходимых местах']\",\n",
       "       \"['Отсутствие элементов обустройства остановочного пункта общественного пассажирского транспорта', 'Неисправность светофора', 'Сухое']\",\n",
       "       \"['Несоответствие дорожных ограждений предъявляемым требованиям', 'Сухое', 'Отсутствие, плохая различимость горизонтальной разметки проезжей части', 'Отсутствие тротуаров (пешеходных дорожек)']\",\n",
       "       \"['Отсутствие элементов обустройства остановочного пункта общественного пассажирского транспорта', 'Сухое', 'Отсутствие, плохая различимость горизонтальной разметки проезжей части', 'Отсутствие пешеходных ограждений в необходимых местах']\",\n",
       "       \"['Мокрое', 'Отсутствие, плохая различимость горизонтальной разметки проезжей части', 'Дефекты покрытия', 'Отсутствие тротуаров (пешеходных дорожек)']\",\n",
       "       \"['Иные недостатки', 'Мокрое', 'Отсутствие, плохая различимость горизонтальной разметки проезжей части']\",\n",
       "       \"['Отсутствие, плохая различимость горизонтальной разметки проезжей части', 'Обработанное противогололедными материалами', 'Отсутствие освещения']\",\n",
       "       \"['Отсутствие, плохая различимость горизонтальной разметки проезжей части', 'Обработанное противогололедными материалами', 'Неудовлетворительное состояние обочин', 'Отсутствие дорожных ограждений в необходимых местах']\",\n",
       "       \"['Отсутствие элементов обустройства остановочного пункта общественного пассажирского транспорта', 'Сухое', 'Неправильное применение, плохая видимость дорожных знаков', 'Отсутствие тротуаров (пешеходных дорожек)']\",\n",
       "       \"['Иные недостатки', 'Мокрое', 'Отсутствие, плохая различимость горизонтальной разметки проезжей части', 'Неправильное применение, плохая видимость дорожных знаков']\",\n",
       "       \"['Иные недостатки', 'Сухое', 'Отсутствие, плохая различимость горизонтальной разметки проезжей части', 'Отсутствие пешеходных ограждений в необходимых местах']\",\n",
       "       \"['Иные недостатки', 'Отсутствие, плохая различимость горизонтальной разметки проезжей части', 'Загрязненное']\",\n",
       "       \"['Иные недостатки', 'Сухое', 'Отсутствие, плохая различимость горизонтальной разметки проезжей части', 'Неправильное применение, плохая видимость дорожных знаков']\",\n",
       "       \"['Иные недостатки', 'Мокрое', 'Отсутствие пешеходных ограждений в необходимых местах']\",\n",
       "       \"['Мокрое', 'Отсутствие, плохая различимость горизонтальной разметки проезжей части', 'Дефекты покрытия', 'Отсутствие дорожных знаков в необходимых местах']\",\n",
       "       \"['Мокрое', 'Отсутствие, плохая различимость горизонтальной разметки проезжей части', 'Недостаточное освещение', 'Отсутствие дорожных знаков в необходимых местах', 'Отсутствие пешеходных ограждений в необходимых местах']\",\n",
       "       \"['Заснеженное', 'Неправильное применение, плохая видимость дорожных знаков', 'Отсутствие тротуаров (пешеходных дорожек)']\",\n",
       "       \"['Недостаточное освещение', 'Отсутствие дорожных знаков в необходимых местах', 'Заснеженное']\",\n",
       "       \"['Иные недостатки', 'Обработанное противогололедными материалами', 'Отсутствие дорожных знаков в необходимых местах', 'Отсутствие дорожных ограждений в необходимых местах']\",\n",
       "       \"['Заснеженное', 'Отсутствие пешеходных ограждений в необходимых местах']\",\n",
       "       \"['Иные недостатки', 'Сухое', 'Отсутствие, плохая различимость горизонтальной разметки проезжей части', 'Недостаточное освещение']\",\n",
       "       \"['Иные недостатки', 'Мокрое', 'Отсутствие, плохая различимость горизонтальной разметки проезжей части', 'Неудовлетворительное состояние обочин']\",\n",
       "       \"['Отсутствие элементов обустройства остановочного пункта общественного пассажирского транспорта', 'Мокрое', 'Отсутствие, плохая различимость горизонтальной разметки проезжей части', 'Недостаточное освещение']\",\n",
       "       \"['Мокрое', 'Отсутствие, плохая различимость горизонтальной разметки проезжей части', 'Неудовлетворительное состояние обочин', 'Отсутствие пешеходных ограждений в необходимых местах']\",\n",
       "       \"['Иные недостатки', 'Мокрое', 'Отсутствие, плохая различимость горизонтальной разметки проезжей части', 'Отсутствие пешеходных ограждений в необходимых местах']\",\n",
       "       \"['Сухое', 'Отсутствие, плохая различимость вертикальной разметки']\",\n",
       "       \"['Отсутствие элементов обустройства остановочного пункта общественного пассажирского транспорта', 'Сухое', 'Отсутствие, плохая различимость горизонтальной разметки проезжей части', 'Отсутствие дорожных знаков в необходимых местах', 'Отсутствие тротуаров (пешеходных дорожек)']\",\n",
       "       \"['Отсутствие элементов обустройства остановочного пункта общественного пассажирского транспорта', 'Иные недостатки', 'Мокрое']\",\n",
       "       \"['Мокрое', 'Отсутствие, плохая различимость горизонтальной разметки проезжей части', 'Недостаточное освещение', 'Неудовлетворительное состояние обочин']\",\n",
       "       \"['Плохая видимость светофора', 'Мокрое', 'Отсутствие, плохая различимость горизонтальной разметки проезжей части', 'Отсутствие пешеходных ограждений в необходимых местах']\",\n",
       "       \"['Отсутствие элементов обустройства остановочного пункта общественного пассажирского транспорта', 'Иные недостатки', 'Отсутствие, плохая различимость горизонтальной разметки проезжей части', 'Обработанное противогололедными материалами']\",\n",
       "       \"['Отсутствие, плохая различимость горизонтальной разметки проезжей части', 'Обработанное противогололедными материалами', 'Дефекты покрытия', 'Ограничение видимости']\",\n",
       "       \"['Мокрое', 'Отсутствие, плохая различимость горизонтальной разметки проезжей части', 'Неудовлетворительное состояние обочин', 'Отсутствие освещения']\",\n",
       "       \"['Иные недостатки', 'Мокрое', 'Отсутствие, плохая различимость горизонтальной разметки проезжей части', 'Недостаточное освещение']\",\n",
       "       \"['Сухое', 'Отсутствие, плохая различимость горизонтальной разметки проезжей части', 'Недостаточное освещение', 'Неудовлетворительное состояние обочин']\",\n",
       "       \"['Иные недостатки', 'Сухое', 'Дефекты покрытия', 'Неровное покрытие']\",\n",
       "       \"['Сухое', 'Отсутствие дорожных знаков в необходимых местах', 'Неправильное применение, плохая видимость дорожных знаков', 'Неровное покрытие', 'Отсутствие дорожных ограждений в необходимых местах']\",\n",
       "       \"['Сухое', 'Неровное покрытие', 'Отсутствие пешеходных ограждений в необходимых местах']\",\n",
       "       \"['Иные недостатки', 'Сухое', 'Отсутствие, плохая различимость горизонтальной разметки проезжей части', 'Отсутствие тротуаров (пешеходных дорожек)']\",\n",
       "       \"['Сухое', 'Дефекты покрытия', 'Неровное покрытие']\",\n",
       "       \"['Неисправность светофора', 'Сухое', 'Неровное покрытие']\",\n",
       "       \"['Сухое', 'Отсутствие, плохая различимость горизонтальной разметки проезжей части', 'Неудовлетворительное состояние обочин', 'Неправильное применение, плохая видимость дорожных знаков']\",\n",
       "       \"['Обработанное противогололедными материалами', 'Отсутствие дорожных знаков в необходимых местах', 'Ограничение видимости']\",\n",
       "       \"['Отсутствие элементов обустройства остановочного пункта общественного пассажирского транспорта', 'Сухое', 'Неровное покрытие']\",\n",
       "       \"['Отсутствие, плохая различимость горизонтальной разметки проезжей части', 'Недостатки зимнего содержания', 'Отсутствие дорожных знаков в необходимых местах', 'Гололедица']\",\n",
       "       \"['Мокрое', 'Отсутствие временных ТСОД в местах проведения работ']\",\n",
       "       \"['Неисправность светофора', 'Мокрое', 'Дефекты покрытия', 'Отсутствие дорожных знаков в необходимых местах', 'Отсутствие пешеходных ограждений в необходимых местах']\",\n",
       "       \"['Сухое', 'Отсутствие, плохая различимость горизонтальной разметки проезжей части', 'Отсутствие дорожных знаков в необходимых местах', 'Неправильное применение, плохая видимость дорожных знаков', 'Отсутствие дорожных ограждений в необходимых местах']\",\n",
       "       \"['Отсутствие элементов обустройства остановочного пункта общественного пассажирского транспорта', 'Отсутствие, плохая различимость горизонтальной разметки проезжей части', 'Со снежным накатом']\",\n",
       "       \"['Мокрое', 'Отсутствие, плохая различимость горизонтальной разметки проезжей части', 'Дефекты покрытия', 'Неправильное применение, плохая видимость дорожных знаков']\",\n",
       "       \"['Обработанное противогололедными материалами', 'Недостатки зимнего содержания', 'Отсутствие дорожных знаков в необходимых местах', 'Неправильное применение, плохая видимость дорожных знаков']\",\n",
       "       \"['Мокрое', 'Отсутствие, плохая различимость горизонтальной разметки проезжей части', 'Недостатки зимнего содержания', 'Неправильное применение, плохая видимость дорожных знаков']\",\n",
       "       \"['Отсутствие, плохая различимость горизонтальной разметки проезжей части', 'Дефекты покрытия', 'Заснеженное']\",\n",
       "       \"['Мокрое', 'Отсутствие, плохая различимость горизонтальной разметки проезжей части', 'Дефекты покрытия', 'Отсутствие тротуаров (пешеходных дорожек)', 'Неровное покрытие']\",\n",
       "       \"['Сухое', 'Отсутствие дорожных знаков в необходимых местах', 'Неровное покрытие', 'Отсутствие пешеходных ограждений в необходимых местах']\",\n",
       "       \"['Иные недостатки', 'Сухое', 'Отсутствие, плохая различимость горизонтальной разметки проезжей части', 'Неровное покрытие']\",\n",
       "       \"['Сухое', 'Отсутствие, плохая различимость горизонтальной разметки проезжей части', 'Недостаточное освещение', 'Неправильное применение, плохая видимость дорожных знаков', 'Отсутствие тротуаров (пешеходных дорожек)']\",\n",
       "       \"['Сухое', 'Отсутствие, плохая различимость горизонтальной разметки проезжей части', 'Отсутствие дорожных знаков в необходимых местах', 'Неудовлетворительное состояние обочин', 'Отсутствие пешеходных ограждений в необходимых местах']\",\n",
       "       \"['Отсутствие элементов обустройства остановочного пункта общественного пассажирского транспорта', 'Сухое', 'Отсутствие, плохая различимость горизонтальной разметки проезжей части', 'Дефекты покрытия']\",\n",
       "       \"['Несоответствие люков смотровых колодцев и ливневой канализации предъявляемым требованиям', 'Сухое', 'Отсутствие, плохая различимость горизонтальной разметки проезжей части', 'Дефекты покрытия']\",\n",
       "       \"['Сухое', 'Отсутствие, плохая различимость горизонтальной разметки проезжей части', 'Дефекты покрытия', 'Отсутствие дорожных знаков в необходимых местах', 'Неудовлетворительное состояние обочин']\",\n",
       "       \"['Отсутствие, плохая различимость горизонтальной разметки проезжей части', 'Обработанное противогололедными материалами', 'Недостатки зимнего содержания', 'Недостаточное освещение', 'Отсутствие дорожных знаков в необходимых местах']\",\n",
       "       \"['Заснеженное', 'Неудовлетворительное состояние обочин']\",\n",
       "       \"['Мокрое', 'Недостаточное освещение', 'Отсутствие тротуаров (пешеходных дорожек)']\",\n",
       "       \"['Неисправное освещение', 'Иные недостатки', 'Мокрое', 'Отсутствие дорожных знаков в необходимых местах']\",\n",
       "       \"['Иные недостатки', 'Мокрое', 'Отсутствие дорожных знаков в необходимых местах', 'Неправильное применение, плохая видимость дорожных знаков']\",\n",
       "       \"['Сухое', 'Недостаточное освещение', 'Дефекты покрытия']\",\n",
       "       \"['Мокрое', 'Неудовлетворительное состояние обочин']\",\n",
       "       \"['Сухое', 'Отсутствие дорожных знаков в необходимых местах', 'Неудовлетворительное состояние обочин']\",\n",
       "       \"['Мокрое', 'Отсутствие, плохая различимость горизонтальной разметки проезжей части', 'Неправильное применение, плохая видимость дорожных знаков', 'Отсутствие тротуаров (пешеходных дорожек)']\",\n",
       "       \"['Отсутствие, плохая различимость горизонтальной разметки проезжей части', 'Обработанное противогололедными материалами', 'Недостатки зимнего содержания', 'Отсутствие дорожных ограждений в необходимых местах']\",\n",
       "       \"['Иные недостатки', 'Мокрое', 'Отсутствие, плохая различимость горизонтальной разметки проезжей части', 'Отсутствие дорожных знаков в необходимых местах', 'Неправильное применение, плохая видимость дорожных знаков']\",\n",
       "       \"['Отсутствие, плохая различимость горизонтальной разметки проезжей части', 'Обработанное противогололедными материалами', 'Недостатки зимнего содержания', 'Неправильное применение, плохая видимость дорожных знаков', 'Отсутствие тротуаров (пешеходных дорожек)']\",\n",
       "       \"['Отсутствие элементов обустройства остановочного пункта общественного пассажирского транспорта', 'Обработанное противогололедными материалами', 'Отсутствие дорожных знаков в необходимых местах', 'Неровное покрытие']\",\n",
       "       \"['Мокрое', 'Отсутствие, плохая различимость горизонтальной разметки проезжей части', 'Отсутствие временных ТСОД в местах проведения работ']\",\n",
       "       \"['Мокрое', 'Недостаточное освещение', 'Неудовлетворительное состояние обочин']\",\n",
       "       \"['Мокрое', 'Отсутствие, плохая различимость горизонтальной разметки проезжей части', 'Неудовлетворительное состояние обочин', 'Неровное покрытие']\",\n",
       "       \"['Мокрое', 'Недостаточное освещение', 'Отсутствие дорожных знаков в необходимых местах', 'Неправильное применение, плохая видимость дорожных знаков']\",\n",
       "       \"['Обработанное противогололедными материалами', 'Недостатки зимнего содержания', 'Недостаточное освещение']\",\n",
       "       \"['Иные недостатки', 'Обработанное противогололедными материалами', 'Отсутствие дорожных знаков в необходимых местах']\",\n",
       "       \"['Отсутствие, плохая различимость горизонтальной разметки проезжей части', 'Обработанное противогололедными материалами', 'Отсутствие освещения', 'Отсутствие тротуаров (пешеходных дорожек)']\",\n",
       "       \"['Мокрое', 'Отсутствие, плохая различимость горизонтальной разметки проезжей части', 'Дефекты покрытия', 'Неудовлетворительное состояние обочин']\",\n",
       "       \"['Отсутствие элементов обустройства остановочного пункта общественного пассажирского транспорта', 'Иные недостатки', 'Отсутствие, плохая различимость горизонтальной разметки проезжей части', 'Обработанное противогололедными материалами', 'Отсутствие дорожных знаков в необходимых местах']\",\n",
       "       \"['Отсутствие элементов обустройства остановочного пункта общественного пассажирского транспорта', 'Мокрое', 'Отсутствие дорожных знаков в необходимых местах', 'Неровное покрытие']\",\n",
       "       \"['Сухое', 'Отсутствие, плохая различимость горизонтальной разметки проезжей части', 'Дефекты покрытия', 'Неровное покрытие']\",\n",
       "       \"['Сухое', 'Отсутствие, плохая различимость горизонтальной разметки проезжей части', 'Дефекты покрытия', 'Отсутствие дорожных знаков в необходимых местах', 'Неровное покрытие']\",\n",
       "       \"['Сухое', 'Дефекты покрытия', 'Неправильное применение, плохая видимость дорожных знаков']\",\n",
       "       \"['Иные недостатки', 'Мокрое', 'Отсутствие дорожных знаков в необходимых местах', 'Отсутствие дорожных ограждений в необходимых местах']\",\n",
       "       \"['Отсутствие элементов обустройства остановочного пункта общественного пассажирского транспорта', 'Сухое', 'Недостаточное освещение']\",\n",
       "       \"['Несоответствие люков смотровых колодцев и ливневой канализации предъявляемым требованиям', 'Сухое']\",\n",
       "       \"['Сухое', 'Недостаточное освещение', 'Отсутствие дорожных знаков в необходимых местах', 'Отсутствие дорожных ограждений в необходимых местах']\",\n",
       "       \"['Несоответствие люков смотровых колодцев и ливневой канализации предъявляемым требованиям', 'Сухое', 'Неправильное применение, плохая видимость дорожных знаков']\",\n",
       "       \"['Плохая видимость светофора', 'Сухое', 'Отсутствие дорожных знаков в необходимых местах', 'Неправильное применение, плохая видимость дорожных знаков']\",\n",
       "       \"['Сухое', 'Нарушения в размещении наружной рекламы']\",\n",
       "       \"['Отсутствие элементов обустройства остановочного пункта общественного пассажирского транспорта', 'Отсутствие, плохая различимость горизонтальной разметки проезжей части', 'Заснеженное']\",\n",
       "       \"['Отсутствие элементов обустройства остановочного пункта общественного пассажирского транспорта', 'Мокрое', 'Неправильное применение, плохая видимость дорожных знаков', 'Отсутствие пешеходных ограждений в необходимых местах']\",\n",
       "       \"['Мокрое', 'Отсутствие дорожных знаков в необходимых местах', 'Отсутствие временных ТСОД в местах проведения работ']\",\n",
       "       \"['Мокрое', 'Отсутствие, плохая различимость горизонтальной разметки проезжей части', 'Неправильное применение, плохая видимость дорожных знаков', 'Отсутствие, плохая различимость вертикальной разметки', 'Отсутствие дорожных ограждений в необходимых местах']\",\n",
       "       \"['Отсутствие, плохая различимость горизонтальной разметки проезжей части', 'Заснеженное', 'Неправильное применение, плохая видимость дорожных знаков']\",\n",
       "       \"['Несоответствие люков смотровых колодцев и ливневой канализации предъявляемым требованиям', 'Иные недостатки', 'Сухое', 'Отсутствие, плохая различимость горизонтальной разметки проезжей части', 'Отсутствие дорожных знаков в необходимых местах']\",\n",
       "       \"['Обработанное противогололедными материалами', 'Недостатки зимнего содержания', 'Отсутствие дорожных ограждений в необходимых местах']\",\n",
       "       \"['Несоответствие дорожных ограждений предъявляемым требованиям', 'Отсутствие элементов обустройства остановочного пункта общественного пассажирского транспорта', 'Иные недостатки', 'Обработанное противогололедными материалами', 'Отсутствие дорожных знаков в необходимых местах']\",\n",
       "       \"['Отсутствие дорожных знаков в необходимых местах', 'Заснеженное', 'Неправильное применение, плохая видимость дорожных знаков']\",\n",
       "       \"['Иные недостатки', 'Сухое', 'Недостатки зимнего содержания', 'Отсутствие дорожных знаков в необходимых местах']\",\n",
       "       \"['Плохая видимость светофора', 'Сухое', 'Неправильное применение, плохая видимость дорожных знаков', 'Отсутствие пешеходных ограждений в необходимых местах']\",\n",
       "       \"['Неисправность светофора', 'Заснеженное', 'Отсутствие пешеходных ограждений в необходимых местах']\",\n",
       "       \"['Мокрое', 'Отсутствие, плохая различимость горизонтальной разметки проезжей части', 'Отсутствие дорожных знаков в необходимых местах', 'Неправильное применение, плохая видимость дорожных знаков', 'Отсутствие тротуаров (пешеходных дорожек)']\",\n",
       "       \"['Иные недостатки', 'Обработанное противогололедными материалами', 'Отсутствие дорожных знаков в необходимых местах', 'Отсутствие пешеходных ограждений в необходимых местах']\",\n",
       "       \"['Неисправность светофора', 'Иные недостатки', 'Сухое', 'Отсутствие, плохая различимость горизонтальной разметки проезжей части']\",\n",
       "       \"['Сужение проезжей части, наличие препятствий, затрудняющих движение транспортных средств', 'Несоответствие люков смотровых колодцев и ливневой канализации предъявляемым требованиям', 'Иные недостатки', 'Сухое', 'Дефекты покрытия']\",\n",
       "       \"['Неисправность светофора', 'Мокрое', 'Отсутствие, плохая различимость горизонтальной разметки проезжей части', 'Отсутствие дорожных знаков в необходимых местах']\",\n",
       "       \"['Неисправное освещение', 'Мокрое', 'Отсутствие, плохая различимость горизонтальной разметки проезжей части', 'Отсутствие дорожных знаков в необходимых местах', 'Отсутствие пешеходных ограждений в необходимых местах']\",\n",
       "       \"['Отсутствие элементов обустройства остановочного пункта общественного пассажирского транспорта', 'Обработанное противогололедными материалами', 'Недостатки зимнего содержания']\",\n",
       "       \"['Сухое', 'Дефекты покрытия', 'Неудовлетворительное состояние обочин', 'Неровное покрытие']\",\n",
       "       \"['Обработанное противогололедными материалами', 'Недостатки зимнего содержания', 'Отсутствие дорожных знаков в необходимых местах', 'Отсутствие тротуаров (пешеходных дорожек)']\",\n",
       "       \"['Несоответствие дорожных ограждений предъявляемым требованиям', 'Отсутствие, плохая различимость горизонтальной разметки проезжей части', 'Обработанное противогололедными материалами', 'Неправильное применение, плохая видимость дорожных знаков']\",\n",
       "       \"['Иные недостатки', 'Отсутствие, плохая различимость горизонтальной разметки проезжей части', 'Обработанное противогололедными материалами', 'Отсутствие дорожных знаков в необходимых местах', 'Отсутствие дорожных ограждений в необходимых местах']\",\n",
       "       \"['Несоответствие дорожных ограждений предъявляемым требованиям', 'Отсутствие, плохая различимость горизонтальной разметки проезжей части', 'Обработанное противогололедными материалами']\",\n",
       "       \"['Отсутствие, плохая различимость горизонтальной разметки проезжей части', 'Обработанное противогололедными материалами', 'Отсутствие дорожных знаков в необходимых местах', 'Отсутствие дорожных ограждений в необходимых местах']\",\n",
       "       \"['Недостаточное освещение', 'Заснеженное', 'Отсутствие тротуаров (пешеходных дорожек)']\",\n",
       "       \"['Неисправность светофора', 'Отсутствие, плохая различимость горизонтальной разметки проезжей части', 'Обработанное противогололедными материалами', 'Отсутствие дорожных знаков в необходимых местах']\",\n",
       "       \"['Иные недостатки', 'Отсутствие, плохая различимость горизонтальной разметки проезжей части', 'Отсутствие дорожных знаков в необходимых местах', 'Гололедица']\",\n",
       "       \"['Отсутствие, плохая различимость горизонтальной разметки проезжей части', 'Недостаточное освещение', 'Заснеженное']\",\n",
       "       \"['Иные недостатки', 'Сухое', 'Недостаточное освещение', 'Отсутствие пешеходных ограждений в необходимых местах']\",\n",
       "       \"['Иные недостатки', 'Сухое', 'Отсутствие тротуаров (пешеходных дорожек)']\",\n",
       "       \"['Отсутствие элементов обустройства остановочного пункта общественного пассажирского транспорта', 'Сухое', 'Отсутствие, плохая различимость горизонтальной разметки проезжей части', 'Неровное покрытие']\",\n",
       "       \"['Мокрое', 'Отсутствие, плохая различимость горизонтальной разметки проезжей части', 'Дефекты покрытия', 'Неровное покрытие']\",\n",
       "       \"['Неисправное освещение', 'Мокрое', 'Отсутствие, плохая различимость горизонтальной разметки проезжей части', 'Отсутствие дорожных ограждений в необходимых местах']\",\n",
       "       \"['Мокрое', 'Отсутствие, плохая различимость горизонтальной разметки проезжей части', 'Дефекты покрытия', 'Неудовлетворительное состояние обочин', 'Неровное покрытие']\",\n",
       "       \"['Сухое', 'Отсутствие, плохая различимость вертикальной разметки', 'Отсутствие дорожных ограждений в необходимых местах']\",\n",
       "       \"['Сухое', 'Дефекты покрытия', 'Отсутствие дорожных знаков в необходимых местах', 'Неудовлетворительное состояние обочин']\",\n",
       "       \"['Сухое', 'Дефекты покрытия', 'Неудовлетворительное состояние обочин', 'Неправильное применение, плохая видимость дорожных знаков']\",\n",
       "       \"['Иные недостатки', 'Сухое', 'Отсутствие, плохая различимость горизонтальной разметки проезжей части', 'Отсутствие дорожных знаков в необходимых местах', 'Отсутствие временных ТСОД в местах проведения работ']\",\n",
       "       \"['Недостатки зимнего содержания', 'Отсутствие дорожных знаков в необходимых местах', 'Заснеженное', 'Отсутствие тротуаров (пешеходных дорожек)']\",\n",
       "       \"['Неисправность светофора', 'Сухое', 'Отсутствие, плохая различимость горизонтальной разметки проезжей части', 'Неправильное применение, плохая видимость дорожных знаков', 'Отсутствие пешеходных ограждений в необходимых местах']\",\n",
       "       \"['Несоответствие дорожных ограждений предъявляемым требованиям', 'Сухое', 'Отсутствие, плохая различимость горизонтальной разметки проезжей части']\",\n",
       "       \"['Отсутствие элементов обустройства остановочного пункта общественного пассажирского транспорта', 'Сухое', 'Отсутствие, плохая различимость горизонтальной разметки проезжей части', 'Недостаточное освещение']\",\n",
       "       \"['Мокрое', 'Нарушения в размещении наружной рекламы']\",\n",
       "       \"['Мокрое', 'Недостатки зимнего содержания', 'Дефекты покрытия', 'Неправильное применение, плохая видимость дорожных знаков']\",\n",
       "       \"['Отсутствие, плохая различимость горизонтальной разметки проезжей части', 'Недостатки зимнего содержания', 'Заснеженное', 'Неправильное применение, плохая видимость дорожных знаков']\",\n",
       "       \"['Отсутствие элементов обустройства остановочного пункта общественного пассажирского транспорта', 'Мокрое', 'Отсутствие, плохая различимость горизонтальной разметки проезжей части', 'Недостатки зимнего содержания', 'Отсутствие дорожных знаков в необходимых местах']\",\n",
       "       \"['Иные недостатки', 'Сухое', 'Неудовлетворительное состояние обочин', 'Отсутствие тротуаров (пешеходных дорожек)']\",\n",
       "       \"['Сухое', 'Отсутствие, плохая различимость горизонтальной разметки проезжей части', 'Неудовлетворительное состояние обочин', 'Неправильное применение, плохая видимость дорожных знаков', 'Отсутствие тротуаров (пешеходных дорожек)']\",\n",
       "       \"['Неисправность светофора', 'Иные недостатки', 'Сухое', 'Отсутствие, плохая различимость горизонтальной разметки проезжей части', 'Неудовлетворительное состояние обочин']\",\n",
       "       \"['Отсутствие элементов обустройства остановочного пункта общественного пассажирского транспорта', 'Мокрое', 'Отсутствие, плохая различимость горизонтальной разметки проезжей части', 'Недостаточное освещение', 'Неправильное применение, плохая видимость дорожных знаков']\",\n",
       "       \"['Неисправное освещение', 'Отсутствие, плохая различимость горизонтальной разметки проезжей части', 'Обработанное противогололедными материалами', 'Отсутствие дорожных знаков в необходимых местах', 'Отсутствие дорожных ограждений в необходимых местах']\",\n",
       "       \"['Заснеженное', 'Отсутствие дорожных ограждений в необходимых местах']\",\n",
       "       \"['Плохая видимость световозвращателей, размещенных на дорожных ограждениях', 'Сухое', 'Отсутствие, плохая различимость горизонтальной разметки проезжей части']\",\n",
       "       \"['Сухое', 'Отсутствие, плохая различимость горизонтальной разметки проезжей части', 'Отсутствие дорожных знаков в необходимых местах', 'Неудовлетворительное состояние обочин', 'Неправильное применение, плохая видимость дорожных знаков']\",\n",
       "       \"['Отсутствие элементов обустройства остановочного пункта общественного пассажирского транспорта', 'Иные недостатки', 'Мокрое', 'Отсутствие, плохая различимость горизонтальной разметки проезжей части', 'Отсутствие дорожных знаков в необходимых местах']\",\n",
       "       \"['Иные недостатки', 'Мокрое', 'Отсутствие, плохая различимость горизонтальной разметки проезжей части', 'Недостатки зимнего содержания', 'Отсутствие дорожных знаков в необходимых местах']\",\n",
       "       \"['Иные недостатки', 'Сухое', 'Отсутствие, плохая различимость горизонтальной разметки проезжей части', 'Неудовлетворительное состояние обочин']\",\n",
       "       \"['Отсутствие элементов обустройства остановочного пункта общественного пассажирского транспорта', 'Мокрое', 'Отсутствие тротуаров (пешеходных дорожек)']\",\n",
       "       \"['Отсутствие элементов обустройства остановочного пункта общественного пассажирского транспорта', 'Неисправность светофора', 'Обработанное противогололедными материалами', 'Отсутствие дорожных знаков в необходимых местах', 'Отсутствие пешеходных ограждений в необходимых местах']\",\n",
       "       \"['Отсутствие, плохая различимость горизонтальной разметки проезжей части', 'Обработанное противогололедными материалами', 'Нарушения в размещении наружной рекламы']\",\n",
       "       \"['Недостатки зимнего содержания', 'Отсутствие дорожных знаков в необходимых местах', 'Заснеженное', 'Отсутствие пешеходных ограждений в необходимых местах']\",\n",
       "       \"['Мокрое', 'Недостатки зимнего содержания', 'Отсутствие дорожных знаков в необходимых местах']\",\n",
       "       \"['Сухое', 'Неудовлетворительное состояние обочин', 'Неправильное применение, плохая видимость дорожных знаков']\",\n",
       "       \"['Отсутствие элементов обустройства остановочного пункта общественного пассажирского транспорта', 'Обработанное противогололедными материалами', 'Отсутствие тротуаров (пешеходных дорожек)', 'Отсутствие дорожных ограждений в необходимых местах']\",\n",
       "       \"['Мокрое', 'Отсутствие, плохая различимость горизонтальной разметки проезжей части', 'Дефекты покрытия', 'Отсутствие дорожных знаков в необходимых местах', 'Отсутствие пешеходных ограждений в необходимых местах']\",\n",
       "       \"['Отсутствие, плохая различимость горизонтальной разметки проезжей части', 'Обработанное противогололедными материалами', 'Дефекты покрытия', 'Нарушения в размещении наружной рекламы']\",\n",
       "       \"['Сухое', 'Отсутствие, плохая различимость горизонтальной разметки проезжей части', 'Отсутствие тротуаров (пешеходных дорожек)', 'Отсутствие, плохая различимость вертикальной разметки', 'Отсутствие дорожных ограждений в необходимых местах']\",\n",
       "       \"['Неисправность светофора', 'Обработанное противогололедными материалами', 'Недостатки зимнего содержания']\",\n",
       "       \"['Недостатки зимнего содержания', 'Заснеженное', 'Отсутствие освещения', 'Отсутствие тротуаров (пешеходных дорожек)']\",\n",
       "       \"['Отсутствие элементов обустройства остановочного пункта общественного пассажирского транспорта', 'Отсутствие дорожных знаков в необходимых местах', 'Заснеженное', 'Неправильное применение, плохая видимость дорожных знаков', 'Отсутствие пешеходных ограждений в необходимых местах']\",\n",
       "       \"['Мокрое', 'Дефекты покрытия', 'Отсутствие дорожных знаков в необходимых местах', 'Отсутствие тротуаров (пешеходных дорожек)']\",\n",
       "       \"['Сухое', 'Дефекты покрытия', 'Неудовлетворительное состояние обочин', 'Отсутствие тротуаров (пешеходных дорожек)']\",\n",
       "       \"['Сухое', 'Отсутствие дорожных знаков в необходимых местах', 'Отсутствие, плохая различимость вертикальной разметки', 'Отсутствие пешеходных ограждений в необходимых местах']\",\n",
       "       \"['Отсутствие элементов обустройства остановочного пункта общественного пассажирского транспорта', 'Мокрое', 'Дефекты покрытия', 'Неправильное применение, плохая видимость дорожных знаков', 'Отсутствие пешеходных ограждений в необходимых местах']\",\n",
       "       \"['Мокрое', 'Отсутствие, плохая различимость вертикальной разметки', 'Отсутствие дорожных ограждений в необходимых местах']\",\n",
       "       \"['Сухое', 'Неправильное применение, плохая видимость дорожных знаков', 'Отсутствие тротуаров (пешеходных дорожек)']\",\n",
       "       \"['Мокрое', 'Дефекты покрытия', 'Неудовлетворительное состояние обочин', 'Отсутствие тротуаров (пешеходных дорожек)']\",\n",
       "       \"['Несоответствие дорожных ограждений предъявляемым требованиям', 'Отсутствие элементов обустройства остановочного пункта общественного пассажирского транспорта', 'Сухое', 'Отсутствие дорожных знаков в необходимых местах']\",\n",
       "       \"['Сухое', 'Отсутствие, плохая различимость горизонтальной разметки проезжей части', 'Недостаточное освещение', 'Неправильное применение, плохая видимость дорожных знаков', 'Отсутствие пешеходных ограждений в необходимых местах']\",\n",
       "       \"['Отсутствие элементов обустройства остановочного пункта общественного пассажирского транспорта', 'Мокрое', 'Отсутствие, плохая различимость горизонтальной разметки проезжей части', 'Дефекты покрытия']\",\n",
       "       \"['Неисправность светофора', 'Обработанное противогололедными материалами', 'Отсутствие пешеходных ограждений в необходимых местах']\",\n",
       "       \"['Мокрое', 'Отсутствие, плохая различимость горизонтальной разметки проезжей части', 'Недостатки зимнего содержания', 'Отсутствие тротуаров (пешеходных дорожек)']\",\n",
       "       \"['Отсутствие элементов обустройства остановочного пункта общественного пассажирского транспорта', 'Отсутствие, плохая различимость горизонтальной разметки проезжей части', 'Заснеженное', 'Отсутствие тротуаров (пешеходных дорожек)']\",\n",
       "       \"['Неисправность светофора', 'Сухое', 'Отсутствие, плохая различимость горизонтальной разметки проезжей части', 'Отсутствие дорожных знаков в необходимых местах', 'Отсутствие пешеходных ограждений в необходимых местах']\",\n",
       "       \"['Иные недостатки', 'Отсутствие, плохая различимость горизонтальной разметки проезжей части', 'Недостатки зимнего содержания', 'Отсутствие дорожных знаков в необходимых местах', 'Заснеженное']\",\n",
       "       \"['Сухое', 'Неправильное применение, плохая видимость дорожных знаков', 'Отсутствие пешеходных ограждений в необходимых местах']\",\n",
       "       \"['Обработанное противогололедными материалами', 'Отсутствие дорожных знаков в необходимых местах', 'Неправильное применение, плохая видимость дорожных знаков']\",\n",
       "       \"['Плохая видимость светофора', 'Мокрое']\",\n",
       "       \"['Неисправность светофора', 'Мокрое', 'Отсутствие пешеходных ограждений в необходимых местах']\",\n",
       "       \"['Отсутствие элементов обустройства остановочного пункта общественного пассажирского транспорта', 'Мокрое', 'Отсутствие дорожных знаков в необходимых местах', 'Неправильное применение, плохая видимость дорожных знаков']\",\n",
       "       \"['Сухое', 'Недостаточное освещение', 'Неправильное применение, плохая видимость дорожных знаков']\",\n",
       "       \"['Сухое', 'Отсутствие, плохая различимость горизонтальной разметки проезжей части', 'Отсутствие освещения', 'Отсутствие тротуаров (пешеходных дорожек)', 'Отсутствие пешеходных ограждений в необходимых местах']\",\n",
       "       \"['Мокрое', 'Отсутствие дорожных ограждений в необходимых местах']\",\n",
       "       \"['Отсутствие элементов обустройства остановочного пункта общественного пассажирского транспорта', 'Сухое', 'Отсутствие пешеходных ограждений в необходимых местах']\",\n",
       "       \"['Отсутствие элементов обустройства остановочного пункта общественного пассажирского транспорта', 'Обработанное противогололедными материалами', 'Неправильное применение, плохая видимость дорожных знаков']\",\n",
       "       \"['Сухое', 'Отсутствие, плохая различимость горизонтальной разметки проезжей части', 'Отсутствие дорожных знаков в необходимых местах', 'Неправильное применение, плохая видимость дорожных знаков', 'Отсутствие тротуаров (пешеходных дорожек)']\",\n",
       "       \"['Иные недостатки', 'Отсутствие, плохая различимость горизонтальной разметки проезжей части', 'Обработанное противогололедными материалами', 'Неправильное применение, плохая видимость дорожных знаков']\",\n",
       "       \"['Обработанное противогололедными материалами', 'Недостатки зимнего содержания', 'Неправильное применение, плохая видимость дорожных знаков']\",\n",
       "       \"['Иные недостатки', 'Отсутствие, плохая различимость горизонтальной разметки проезжей части', 'Обработанное противогололедными материалами', 'Отсутствие освещения']\",\n",
       "       \"['Сухое', 'Отсутствие дорожных знаков в необходимых местах', 'Отсутствие дорожных ограждений в необходимых местах', 'Отсутствие пешеходных ограждений в необходимых местах']\",\n",
       "       \"['Отсутствие элементов обустройства остановочного пункта общественного пассажирского транспорта', 'Мокрое', 'Отсутствие дорожных знаков в необходимых местах']\",\n",
       "       \"['Мокрое', 'Неправильное применение, плохая видимость дорожных знаков', 'Отсутствие пешеходных ограждений в необходимых местах']\",\n",
       "       \"['Отсутствие элементов обустройства остановочного пункта общественного пассажирского транспорта', 'Мокрое', 'Неправильное применение, плохая видимость дорожных знаков']\",\n",
       "       \"['Сухое', 'Отсутствие, плохая различимость горизонтальной разметки проезжей части', 'Недостаточное освещение', 'Дефекты покрытия', 'Неправильное применение, плохая видимость дорожных знаков']\",\n",
       "       \"['Иные недостатки', 'Сухое', 'Отсутствие временных ТСОД в местах проведения работ']\",\n",
       "       \"['Отсутствие элементов обустройства остановочного пункта общественного пассажирского транспорта', 'Неисправность светофора', 'Сухое', 'Отсутствие дорожных знаков в необходимых местах']\",\n",
       "       \"['Сухое', 'Отсутствие, плохая различимость горизонтальной разметки проезжей части', 'Неправильное применение, плохая видимость дорожных знаков', 'Отсутствие дорожных ограждений в необходимых местах', 'Отсутствие пешеходных ограждений в необходимых местах']\",\n",
       "       \"['Отсутствие дорожных знаков в необходимых местах', 'Заснеженное', 'Неправильное применение, плохая видимость дорожных знаков', 'Отсутствие пешеходных ограждений в необходимых местах']\",\n",
       "       \"['Неисправность светофора', 'Сухое', 'Отсутствие, плохая различимость горизонтальной разметки проезжей части', 'Неправильное применение, плохая видимость дорожных знаков']\",\n",
       "       \"['Иные недостатки', 'Заснеженное', 'Отсутствие тротуаров (пешеходных дорожек)']\",\n",
       "       \"['Отсутствие элементов обустройства остановочного пункта общественного пассажирского транспорта', 'Мокрое', 'Отсутствие, плохая различимость горизонтальной разметки проезжей части', 'Отсутствие дорожных знаков в необходимых местах', 'Отсутствие тротуаров (пешеходных дорожек)']\",\n",
       "       \"['Заснеженное', 'Неровное покрытие']\",\n",
       "       \"['Обработанное противогололедными материалами', 'Ограничение видимости']\",\n",
       "       \"['Сухое', 'Дефекты покрытия', 'Неудовлетворительное состояние обочин', 'Отсутствие освещения', 'Отсутствие тротуаров (пешеходных дорожек)']\",\n",
       "       \"['Неисправность светофора', 'Мокрое', 'Отсутствие, плохая различимость горизонтальной разметки проезжей части']\",\n",
       "       \"['Неисправность светофора', 'Недостатки зимнего содержания', 'Заснеженное']\",\n",
       "       \"['Недостатки зимнего содержания', 'Низкие сцепные качества покрытия', 'Гололедица']\",\n",
       "       \"['Сухое', 'Отсутствие дорожных знаков в необходимых местах', 'Отсутствие дорожных ограждений в необходимых местах']\",\n",
       "       \"['Неисправность светофора', 'Сухое', 'Отсутствие дорожных знаков в необходимых местах']\",\n",
       "       \"['Несоответствие дорожных ограждений предъявляемым требованиям', 'Сухое', 'Отсутствие, плохая различимость горизонтальной разметки проезжей части', 'Отсутствие освещения']\",\n",
       "       \"['Отсутствие элементов обустройства остановочного пункта общественного пассажирского транспорта', 'Неисправность светофора', 'Сухое', 'Дефекты покрытия', 'Неправильное применение, плохая видимость дорожных знаков']\",\n",
       "       \"['Сухое', 'Отсутствие, плохая различимость горизонтальной разметки проезжей части', 'Нарушения в размещении наружной рекламы']\",\n",
       "       \"['Неисправность светофора', 'Мокрое', 'Отсутствие, плохая различимость горизонтальной разметки проезжей части', 'Отсутствие дорожных знаков в необходимых местах', 'Отсутствие пешеходных ограждений в необходимых местах']\",\n",
       "       \"['Неисправность светофора', 'Мокрое']\",\n",
       "       \"['Обработанное противогололедными материалами', 'Недостатки зимнего содержания', 'Низкие сцепные качества покрытия', 'Ограничение видимости']\",\n",
       "       \"['Обработанное противогололедными материалами', 'Отсутствие дорожных знаков в необходимых местах', 'Неправильное применение, плохая видимость дорожных знаков', 'Отсутствие пешеходных ограждений в необходимых местах']\",\n",
       "       \"['Отсутствие элементов обустройства остановочного пункта общественного пассажирского транспорта', 'Отсутствие, плохая различимость горизонтальной разметки проезжей части', 'Недостатки зимнего содержания', 'Отсутствие дорожных знаков в необходимых местах', 'Заснеженное']\",\n",
       "       \"['Отсутствие, плохая различимость горизонтальной разметки проезжей части', 'Отсутствие дорожных знаков в необходимых местах', 'Заснеженное', 'Неправильное применение, плохая видимость дорожных знаков']\",\n",
       "       \"['Отсутствие, плохая различимость горизонтальной разметки проезжей части', 'Недостатки зимнего содержания', 'Заснеженное', 'Отсутствие тротуаров (пешеходных дорожек)']\",\n",
       "       \"['Недостатки зимнего содержания', 'Дефекты покрытия', 'Отсутствие дорожных знаков в необходимых местах', 'Заснеженное']\",\n",
       "       \"['Мокрое', 'Отсутствие, плохая различимость горизонтальной разметки проезжей части', 'Отсутствие тротуаров (пешеходных дорожек)', 'Отсутствие, плохая различимость вертикальной разметки', 'Отсутствие дорожных ограждений в необходимых местах']\",\n",
       "       \"['Мокрое', 'Отсутствие, плохая различимость горизонтальной разметки проезжей части', 'Отсутствие дорожных знаков в необходимых местах', 'Отсутствие освещения']\",\n",
       "       \"['Отсутствие элементов обустройства остановочного пункта общественного пассажирского транспорта', 'Плохая видимость световозвращателей, размещенных на дорожных ограждениях', 'Сухое', 'Отсутствие, плохая различимость горизонтальной разметки проезжей части', 'Дефекты покрытия']\",\n",
       "       \"['Отсутствие элементов обустройства остановочного пункта общественного пассажирского транспорта', 'Заснеженное', 'Отсутствие тротуаров (пешеходных дорожек)']\",\n",
       "       \"['Отсутствие элементов обустройства остановочного пункта общественного пассажирского транспорта', 'Мокрое', 'Отсутствие, плохая различимость горизонтальной разметки проезжей части', 'Недостатки зимнего содержания']\",\n",
       "       \"['Отсутствие, плохая различимость горизонтальной разметки проезжей части', 'Отсутствие дорожных знаков в необходимых местах', 'Гололедица']\",\n",
       "       \"['Несоответствие дорожных ограждений предъявляемым требованиям', 'Сухое', 'Отсутствие, плохая различимость горизонтальной разметки проезжей части', 'Дефекты покрытия']\",\n",
       "       \"['Иные недостатки', 'Заснеженное', 'Отсутствие пешеходных ограждений в необходимых местах']\",\n",
       "       \"['Отсутствие, плохая различимость горизонтальной разметки проезжей части', 'Обработанное противогололедными материалами', 'Неправильное применение, плохая видимость дорожных знаков', 'Отсутствие пешеходных ограждений в необходимых местах']\",\n",
       "       \"['Отсутствие, плохая различимость горизонтальной разметки проезжей части', 'Обработанное противогололедными материалами', 'Неправильное применение, плохая видимость дорожных знаков', 'Отсутствие дорожных ограждений в необходимых местах']\",\n",
       "       \"['Недостатки зимнего содержания', 'Заснеженное', 'Неправильное применение, плохая видимость дорожных знаков']\",\n",
       "       \"['Сухое', 'Отсутствие, плохая различимость горизонтальной разметки проезжей части', 'Отсутствие дорожных знаков в необходимых местах', 'Отсутствие, плохая различимость вертикальной разметки']\",\n",
       "       \"['Сухое', 'Отсутствие, плохая различимость горизонтальной разметки проезжей части', 'Дефекты покрытия', 'Отсутствие дорожных знаков в необходимых местах', 'Отсутствие дорожных ограждений в необходимых местах']\",\n",
       "       \"['Отсутствие элементов обустройства остановочного пункта общественного пассажирского транспорта', 'Сухое', 'Неправильное применение, плохая видимость дорожных знаков', 'Отсутствие пешеходных ограждений в необходимых местах']\",\n",
       "       \"['Мокрое', 'Отсутствие, плохая различимость горизонтальной разметки проезжей части', 'Отсутствие дорожных знаков в необходимых местах', 'Отсутствие дорожных ограждений в необходимых местах']\",\n",
       "       \"['Неисправное освещение', 'Отсутствие элементов обустройства остановочного пункта общественного пассажирского транспорта', 'Сухое', 'Неправильное применение, плохая видимость дорожных знаков']\",\n",
       "       \"['Отсутствие элементов обустройства остановочного пункта общественного пассажирского транспорта', 'Неисправность светофора', 'Мокрое', 'Отсутствие, плохая различимость горизонтальной разметки проезжей части', 'Неправильное применение, плохая видимость дорожных знаков']\",\n",
       "       \"['Мокрое', 'Отсутствие, плохая различимость горизонтальной разметки проезжей части', 'Нарушения в размещении наружной рекламы']\",\n",
       "       \"['Отсутствие элементов обустройства остановочного пункта общественного пассажирского транспорта', 'Обработанное противогололедными материалами', 'Недостатки зимнего содержания', 'Неправильное применение, плохая видимость дорожных знаков']\",\n",
       "       \"['Сухое', 'Отсутствие дорожных знаков в необходимых местах', 'Отсутствие, плохая различимость вертикальной разметки', 'Отсутствие дорожных ограждений в необходимых местах']\",\n",
       "       \"['Отсутствие элементов обустройства остановочного пункта общественного пассажирского транспорта', 'Сухое', 'Отсутствие дорожных знаков в необходимых местах', 'Неправильное применение, плохая видимость дорожных знаков', 'Отсутствие пешеходных ограждений в необходимых местах']\",\n",
       "       \"['Отсутствие элементов обустройства остановочного пункта общественного пассажирского транспорта', 'Сухое', 'Отсутствие, плохая различимость горизонтальной разметки проезжей части', 'Недостатки зимнего содержания']\",\n",
       "       \"['Неисправность светофора', 'Недостатки зимнего содержания', 'Отсутствие дорожных знаков в необходимых местах', 'Заснеженное']\",\n",
       "       \"['Отсутствие элементов обустройства остановочного пункта общественного пассажирского транспорта', 'Сухое', 'Отсутствие, плохая различимость горизонтальной разметки проезжей части', 'Недостатки зимнего содержания', 'Отсутствие дорожных знаков в необходимых местах']\",\n",
       "       \"['Мокрое', 'Недостаточное освещение', 'Отсутствие дорожных знаков в необходимых местах']\",\n",
       "       \"['Неисправность светофора', 'Мокрое', 'Отсутствие дорожных знаков в необходимых местах', 'Неправильное применение, плохая видимость дорожных знаков', 'Отсутствие пешеходных ограждений в необходимых местах']\",\n",
       "       \"['Мокрое', 'Недостаточное освещение', 'Неровное покрытие']\",\n",
       "       \"['Плохая видимость светофора', 'Мокрое', 'Отсутствие дорожных знаков в необходимых местах']\",\n",
       "       \"['Отсутствие элементов обустройства остановочного пункта общественного пассажирского транспорта', 'Сухое', 'Отсутствие, плохая различимость горизонтальной разметки проезжей части', 'Дефекты покрытия', 'Отсутствие дорожных знаков в необходимых местах']\",\n",
       "       \"['Мокрое', 'Отсутствие, плохая различимость горизонтальной разметки проезжей части', 'Неправильное применение, плохая видимость дорожных знаков', 'Отсутствие дорожных ограждений в необходимых местах']\",\n",
       "       \"['Сужение проезжей части, наличие препятствий, затрудняющих движение транспортных средств', 'Недостатки зимнего содержания', 'Заснеженное']\",\n",
       "       \"['Отсутствие, плохая различимость горизонтальной разметки проезжей части', 'Заснеженное', 'Отсутствие пешеходных ограждений в необходимых местах']\",\n",
       "       \"['Обработанное противогололедными материалами', 'Недостатки зимнего содержания', 'Отсутствие дорожных знаков в необходимых местах', 'Отсутствие пешеходных ограждений в необходимых местах']\",\n",
       "       \"['Отсутствие, плохая различимость горизонтальной разметки проезжей части', 'Обработанное противогололедными материалами', 'Недостатки зимнего содержания', 'Отсутствие пешеходных ограждений в необходимых местах']\",\n",
       "       \"['Отсутствие элементов обустройства остановочного пункта общественного пассажирского транспорта', 'Отсутствие, плохая различимость горизонтальной разметки проезжей части', 'Обработанное противогололедными материалами', 'Отсутствие дорожных знаков в необходимых местах', 'Отсутствие дорожных ограждений в необходимых местах']\",\n",
       "       \"['Недостатки зимнего содержания', 'Дефекты покрытия', 'Заснеженное', 'Отсутствие тротуаров (пешеходных дорожек)']\",\n",
       "       \"['Отсутствие, плохая различимость горизонтальной разметки проезжей части', 'Обработанное противогололедными материалами', 'Отсутствие дорожных знаков в необходимых местах', 'Ограничение видимости']\",\n",
       "       \"['Сухое', 'Отсутствие, плохая различимость вертикальной разметки', 'Отсутствие пешеходных ограждений в необходимых местах']\",\n",
       "       \"['Отсутствие элементов обустройства остановочного пункта общественного пассажирского транспорта', 'Мокрое', 'Отсутствие, плохая различимость горизонтальной разметки проезжей части', 'Дефекты покрытия', 'Отсутствие дорожных знаков в необходимых местах']\",\n",
       "       \"['Сужение проезжей части, наличие препятствий, затрудняющих движение транспортных средств', 'Мокрое', 'Отсутствие, плохая различимость горизонтальной разметки проезжей части', 'Неправильное применение, плохая видимость дорожных знаков']\",\n",
       "       \"['Обработанное противогололедными материалами', 'Недостатки зимнего содержания', 'Ограничение видимости']\",\n",
       "       \"['Обработанное противогололедными материалами', 'Низкие сцепные качества покрытия', 'Ограничение видимости']\",\n",
       "       \"['Обработанное противогололедными материалами', 'Недостатки зимнего содержания', 'Ограничение видимости', 'Отсутствие пешеходных ограждений в необходимых местах']\",\n",
       "       \"['Мокрое', 'Недостаточное освещение', 'Неправильное применение, плохая видимость дорожных знаков']\",\n",
       "       \"['Несоответствие дорожных ограждений предъявляемым требованиям', 'Обработанное противогололедными материалами']\",\n",
       "       \"['Отсутствие элементов обустройства остановочного пункта общественного пассажирского транспорта', 'Мокрое', 'Отсутствие дорожных знаков в необходимых местах', 'Неправильное применение, плохая видимость дорожных знаков', 'Отсутствие пешеходных ограждений в необходимых местах']\",\n",
       "       \"['Отсутствие элементов обустройства остановочного пункта общественного пассажирского транспорта', 'Недостатки зимнего содержания', 'Заснеженное', 'Неправильное применение, плохая видимость дорожных знаков']\",\n",
       "       \"['Мокрое', 'Отсутствие дорожных знаков в необходимых местах', 'Отсутствие, плохая различимость вертикальной разметки']\",\n",
       "       \"['Отсутствие, плохая различимость горизонтальной разметки проезжей части', 'Недостатки зимнего содержания', 'Заснеженное', 'Отсутствие пешеходных ограждений в необходимых местах']\",\n",
       "       \"['Сухое', 'Неправильное применение, плохая видимость дорожных знаков', 'Отсутствие временных ТСОД в местах проведения работ', 'Отсутствие пешеходных ограждений в необходимых местах']\",\n",
       "       \"['Отсутствие, плохая различимость горизонтальной разметки проезжей части', 'Заснеженное', 'Отсутствие, плохая различимость вертикальной разметки', 'Отсутствие дорожных ограждений в необходимых местах']\",\n",
       "       \"['Отсутствие, плохая различимость горизонтальной разметки проезжей части', 'Заснеженное', 'Неправильное применение, плохая видимость дорожных знаков', 'Отсутствие тротуаров (пешеходных дорожек)']\",\n",
       "       \"['Отсутствие, плохая различимость горизонтальной разметки проезжей части', 'Дефекты покрытия', 'Заснеженное', 'Отсутствие тротуаров (пешеходных дорожек)']\",\n",
       "       \"['Сухое', 'Отсутствие, плохая различимость горизонтальной разметки проезжей части', 'Отсутствие дорожных знаков в необходимых местах', 'Отсутствие тротуаров (пешеходных дорожек)', 'Отсутствие пешеходных ограждений в необходимых местах']\",\n",
       "       \"['Несоответствие дорожных ограждений предъявляемым требованиям', 'Гололедица']\",\n",
       "       \"['Сухое', 'Неправильное применение, плохая видимость дорожных знаков', 'Отсутствие тротуаров (пешеходных дорожек)', 'Отсутствие пешеходных ограждений в необходимых местах']\",\n",
       "       \"['Отсутствие элементов обустройства остановочного пункта общественного пассажирского транспорта', 'Отсутствие, плохая различимость горизонтальной разметки проезжей части', 'Недостатки зимнего содержания', 'Заснеженное']\",\n",
       "       \"['Отсутствие, плохая различимость горизонтальной разметки проезжей части', 'Дефекты покрытия', 'Отсутствие дорожных знаков в необходимых местах', 'Заснеженное']\",\n",
       "       \"['Сухое', 'Отсутствие дорожных знаков в необходимых местах', 'Неудовлетворительное состояние обочин', 'Отсутствие дорожных ограждений в необходимых местах']\",\n",
       "       \"['Обработанное противогололедными материалами', 'Неудовлетворительное состояние обочин', 'Отсутствие, плохая различимость вертикальной разметки']\",\n",
       "       \"['Несоответствие железнодорожного переезда предъявляемым требованиям', 'Мокрое']\",\n",
       "       \"['Мокрое', 'Отсутствие, плохая различимость горизонтальной разметки проезжей части', 'Недостатки зимнего содержания', 'Отсутствие пешеходных ограждений в необходимых местах']\",\n",
       "       \"['Отсутствие элементов обустройства остановочного пункта общественного пассажирского транспорта', 'Сухое', 'Отсутствие, плохая различимость горизонтальной разметки проезжей части', 'Отсутствие дорожных знаков в необходимых местах', 'Неудовлетворительное состояние обочин']\",\n",
       "       \"['Отсутствие элементов обустройства остановочного пункта общественного пассажирского транспорта', 'Отсутствие, плохая различимость горизонтальной разметки проезжей части', 'Обработанное противогололедными материалами', 'Отсутствие тротуаров (пешеходных дорожек)']\",\n",
       "       \"['Неисправность светофора', 'Плохая видимость световозвращателей, размещенных на дорожных ограждениях', 'Сухое', 'Отсутствие, плохая различимость горизонтальной разметки проезжей части']\",\n",
       "       \"['Несоответствие железнодорожного переезда предъявляемым требованиям', 'Сухое']\",\n",
       "       \"['Сужение проезжей части, наличие препятствий, затрудняющих движение транспортных средств', 'Отсутствие, плохая различимость горизонтальной разметки проезжей части', 'Недостатки зимнего содержания', 'Со снежным накатом']\",\n",
       "       \"['Плохая видимость световозвращателей, размещенных на дорожных ограждениях', 'Мокрое', 'Отсутствие, плохая различимость горизонтальной разметки проезжей части', 'Отсутствие пешеходных ограждений в необходимых местах']\",\n",
       "       \"['Несоответствие дорожных ограждений предъявляемым требованиям', 'Отсутствие, плохая различимость горизонтальной разметки проезжей части', 'Недостатки зимнего содержания', 'Заснеженное', 'Отсутствие тротуаров (пешеходных дорожек)']\",\n",
       "       \"['Сухое', 'Отсутствие дорожных знаков в необходимых местах', 'Неровное покрытие']\",\n",
       "       \"['Отсутствие элементов обустройства остановочного пункта общественного пассажирского транспорта', 'Мокрое', 'Отсутствие, плохая различимость горизонтальной разметки проезжей части', 'Недостатки зимнего содержания', 'Ограничение видимости']\",\n",
       "       \"['Мокрое', 'Отсутствие дорожных знаков в необходимых местах', 'Нарушения в размещении наружной рекламы']\",\n",
       "       \"['Мокрое', 'Отсутствие, плохая различимость горизонтальной разметки проезжей части', 'Дефекты покрытия', 'Неправильное применение, плохая видимость дорожных знаков', 'Отсутствие пешеходных ограждений в необходимых местах']\",\n",
       "       \"['Отсутствие, плохая различимость горизонтальной разметки проезжей части', 'Со снежным накатом', 'Отсутствие дорожных знаков в необходимых местах', 'Отсутствие тротуаров (пешеходных дорожек)']\",\n",
       "       \"['Отсутствие, плохая различимость горизонтальной разметки проезжей части', 'Недостатки зимнего содержания', 'Со снежным накатом', 'Отсутствие дорожных знаков в необходимых местах']\",\n",
       "       \"['Отсутствие элементов обустройства остановочного пункта общественного пассажирского транспорта', 'Сухое', 'Отсутствие, плохая различимость горизонтальной разметки проезжей части', 'Отсутствие временных ТСОД в местах проведения работ']\",\n",
       "       \"['Отсутствие, плохая различимость горизонтальной разметки проезжей части', 'Недостатки зимнего содержания', 'Отсутствие дорожных знаков в необходимых местах', 'Заснеженное', 'Отсутствие пешеходных ограждений в необходимых местах']\",\n",
       "       \"['Неисправное освещение', 'Сухое', 'Отсутствие, плохая различимость горизонтальной разметки проезжей части', 'Отсутствие дорожных знаков в необходимых местах', 'Неправильное применение, плохая видимость дорожных знаков']\",\n",
       "       \"['Мокрое', 'Отсутствие, плохая различимость горизонтальной разметки проезжей части', 'Недостаточное освещение', 'Дефекты покрытия']\",\n",
       "       \"['Отсутствие элементов обустройства остановочного пункта общественного пассажирского транспорта', 'Недостатки зимнего содержания', 'Отсутствие дорожных знаков в необходимых местах', 'Заснеженное']\",\n",
       "       \"['Несоответствие дорожных ограждений предъявляемым требованиям', 'Сухое', 'Отсутствие, плохая различимость горизонтальной разметки проезжей части', 'Дефекты покрытия', 'Неудовлетворительное состояние обочин']\",\n",
       "       \"['Отсутствие, плохая различимость горизонтальной разметки проезжей части', 'Недостатки зимнего содержания', 'Заснеженное', 'Отсутствие, плохая различимость вертикальной разметки']\",\n",
       "       \"['Мокрое', 'Отсутствие, плохая различимость горизонтальной разметки проезжей части', 'Недостатки зимнего содержания', 'Дефекты покрытия']\",\n",
       "       \"['Отсутствие элементов обустройства остановочного пункта общественного пассажирского транспорта', 'Сухое', 'Отсутствие, плохая различимость горизонтальной разметки проезжей части', 'Неправильное применение, плохая видимость дорожных знаков', 'Отсутствие тротуаров (пешеходных дорожек)']\",\n",
       "       \"['Обработанное противогололедными материалами', 'Недостатки зимнего содержания', 'Низкие сцепные качества покрытия']\",\n",
       "       \"['Со снежным накатом', 'Неровное покрытие']\",\n",
       "       \"['Сухое', 'Дефекты покрытия', 'Отсутствие дорожных знаков в необходимых местах', 'Неправильное применение, плохая видимость дорожных знаков', 'Отсутствие пешеходных ограждений в необходимых местах']\",\n",
       "       \"['Неисправность светофора', 'Обработанное противогололедными материалами', 'Отсутствие дорожных знаков в необходимых местах']\",\n",
       "       \"['Недостатки зимнего содержания', 'Со снежным накатом', 'Неправильное применение, плохая видимость дорожных знаков', 'Отсутствие тротуаров (пешеходных дорожек)']\",\n",
       "       \"['Отсутствие элементов обустройства остановочного пункта общественного пассажирского транспорта', 'Неисправность светофора', 'Сухое', 'Отсутствие, плохая различимость горизонтальной разметки проезжей части', 'Отсутствие дорожных знаков в необходимых местах']\",\n",
       "       \"['Неисправность светофора', 'Мокрое', 'Отсутствие, плохая различимость горизонтальной разметки проезжей части', 'Отсутствие дорожных знаков в необходимых местах', 'Неправильное применение, плохая видимость дорожных знаков']\",\n",
       "       \"['Мокрое', 'Отсутствие, плохая различимость горизонтальной разметки проезжей части', 'Недостаточное освещение', 'Неправильное применение, плохая видимость дорожных знаков']\",\n",
       "       \"['Плохая видимость светофора', 'Обработанное противогололедными материалами']\",\n",
       "       \"['Обработанное противогололедными материалами', 'Недостатки зимнего содержания', 'Отсутствие пешеходных ограждений в необходимых местах']\",\n",
       "       \"['Сухое', 'Отсутствие, плохая различимость горизонтальной разметки проезжей части', 'Неудовлетворительное состояние обочин', 'Отсутствие временных ТСОД в местах проведения работ']\",\n",
       "       \"['Отсутствие элементов обустройства остановочного пункта общественного пассажирского транспорта', 'Сухое', 'Отсутствие, плохая различимость горизонтальной разметки проезжей части', 'Дефекты покрытия', 'Неправильное применение, плохая видимость дорожных знаков']\",\n",
       "       \"['Отсутствие элементов обустройства остановочного пункта общественного пассажирского транспорта', 'Недостаточное освещение', 'Отсутствие дорожных знаков в необходимых местах', 'Заснеженное', 'Неправильное применение, плохая видимость дорожных знаков']\",\n",
       "       \"['Мокрое', 'Неправильное применение, плохая видимость дорожных знаков', 'Отсутствие тротуаров (пешеходных дорожек)']\",\n",
       "       \"['Отсутствие элементов обустройства остановочного пункта общественного пассажирского транспорта', 'Недостатки зимнего содержания', 'Отсутствие дорожных знаков в необходимых местах', 'Заснеженное', 'Отсутствие пешеходных ограждений в необходимых местах']\",\n",
       "       \"['Дефекты покрытия', 'Отсутствие дорожных знаков в необходимых местах', 'Заснеженное']\",\n",
       "       \"['Неисправность светофора', 'Отсутствие, плохая различимость горизонтальной разметки проезжей части', 'Недостатки зимнего содержания', 'Заснеженное']\",\n",
       "       \"['Мокрое', 'Отсутствие, плохая различимость горизонтальной разметки проезжей части', 'Недостатки зимнего содержания', 'Отсутствие дорожных ограждений в необходимых местах']\",\n",
       "       \"['Мокрое', 'Отсутствие, плохая различимость горизонтальной разметки проезжей части', 'Недостатки зимнего содержания', 'Недостаточное освещение', 'Отсутствие дорожных знаков в необходимых местах']\",\n",
       "       \"['Отсутствие, плохая различимость горизонтальной разметки проезжей части', 'Обработанное противогололедными материалами', 'Ограничение видимости']\",\n",
       "       \"['Неисправное освещение', 'Неисправность светофора', 'Сухое', 'Неправильное применение, плохая видимость дорожных знаков', 'Отсутствие пешеходных ограждений в необходимых местах']\",\n",
       "       \"['Сухое', 'Отсутствие, плохая различимость горизонтальной разметки проезжей части', 'Дефекты покрытия', 'Отсутствие пешеходных ограждений в необходимых местах']\",\n",
       "       \"['Мокрое', 'Отсутствие, плохая различимость горизонтальной разметки проезжей части', 'Низкие сцепные качества покрытия']\",\n",
       "       \"['Отсутствие, плохая различимость горизонтальной разметки проезжей части', 'Недостаточное освещение', 'Заснеженное', 'Отсутствие тротуаров (пешеходных дорожек)']\",\n",
       "       \"['Мокрое', 'Отсутствие, плохая различимость горизонтальной разметки проезжей части', 'Отсутствие дорожных знаков в необходимых местах', 'Отсутствие дорожных ограждений в необходимых местах', 'Отсутствие пешеходных ограждений в необходимых местах']\",\n",
       "       \"['Мокрое', 'Отсутствие, плохая различимость горизонтальной разметки проезжей части', 'Недостаточное освещение', 'Отсутствие дорожных знаков в необходимых местах']\",\n",
       "       \"['Плохая видимость световозвращателей, размещенных на дорожных ограждениях', 'Сухое', 'Отсутствие, плохая различимость горизонтальной разметки проезжей части', 'Отсутствие дорожных знаков в необходимых местах', 'Отсутствие пешеходных ограждений в необходимых местах']\",\n",
       "       \"['Иные недостатки', 'Гололедица', 'Отсутствие тротуаров (пешеходных дорожек)']\",\n",
       "       \"['Мокрое', 'Дефекты покрытия', 'Отсутствие тротуаров (пешеходных дорожек)']\",\n",
       "       \"['Отсутствие элементов обустройства остановочного пункта общественного пассажирского транспорта', 'Сухое', 'Отсутствие, плохая различимость горизонтальной разметки проезжей части', 'Дефекты покрытия', 'Ограничение видимости']\",\n",
       "       \"['Отсутствие элементов обустройства остановочного пункта общественного пассажирского транспорта', 'Обработанное противогололедными материалами', 'Отсутствие тротуаров (пешеходных дорожек)']\",\n",
       "       \"['Отсутствие элементов обустройства остановочного пункта общественного пассажирского транспорта', 'Мокрое', 'Отсутствие освещения']\",\n",
       "       \"['Сухое', 'Недостатки зимнего содержания', 'Недостаточное освещение']\",\n",
       "       \"['Сухое', 'Отсутствие, плохая различимость горизонтальной разметки проезжей части', 'Недостатки зимнего содержания', 'Неровное покрытие']\",\n",
       "       \"['Неисправное освещение', 'Сухое', 'Отсутствие, плохая различимость горизонтальной разметки проезжей части', 'Недостатки зимнего содержания']\",\n",
       "       \"['Неисправное освещение', 'Сужение проезжей части, наличие препятствий, затрудняющих движение транспортных средств', 'Сухое']\",\n",
       "       \"['Недостатки зимнего содержания', 'Гололедица', 'Отсутствие тротуаров (пешеходных дорожек)']\",\n",
       "       \"['Неисправное освещение', 'Отсутствие, плохая различимость горизонтальной разметки проезжей части', 'Обработанное противогололедными материалами', 'Недостатки зимнего содержания']\",\n",
       "       \"['Неисправное освещение', 'Сухое', 'Дефекты покрытия', 'Отсутствие дорожных знаков в необходимых местах']\",\n",
       "       \"['Со снежным накатом', 'Неудовлетворительное состояние обочин']\",\n",
       "       \"['Сухое', 'Отсутствие, плохая различимость горизонтальной разметки проезжей части', 'Недостатки зимнего содержания', 'Неудовлетворительное состояние обочин']\",\n",
       "       \"['Сухое', 'Отсутствие, плохая различимость горизонтальной разметки проезжей части', 'Неудовлетворительное состояние обочин', 'Отсутствие освещения']\",\n",
       "       \"['Обработанное противогололедными материалами', 'Недостатки зимнего содержания', 'Отсутствие освещения']\",\n",
       "       \"['Несоответствие дорожных ограждений предъявляемым требованиям', 'Сухое', 'Отсутствие, плохая различимость горизонтальной разметки проезжей части', 'Ограничение видимости']\",\n",
       "       \"['Отсутствие элементов обустройства остановочного пункта общественного пассажирского транспорта', 'Недостатки зимнего содержания', 'Недостаточное освещение', 'Гололедица', 'Отсутствие тротуаров (пешеходных дорожек)']\",\n",
       "       \"['Неисправное освещение', 'Отсутствие, плохая различимость горизонтальной разметки проезжей части', 'Обработанное противогололедными материалами']\",\n",
       "       \"['Мокрое', 'Отсутствие, плохая различимость горизонтальной разметки проезжей части', 'Ограничение видимости']\",\n",
       "       \"['Несоответствие дорожных ограждений предъявляемым требованиям', 'Сухое', 'Нарушения в размещении наружной рекламы']\",\n",
       "       \"['Мокрое', 'Отсутствие, плохая различимость горизонтальной разметки проезжей части', 'Отсутствие дорожных знаков в необходимых местах', 'Ограничение видимости']\",\n",
       "       \"['Недостатки зимнего содержания', 'Отсутствие дорожных знаков в необходимых местах', 'Заснеженное', 'Отсутствие дорожных ограждений в необходимых местах']\",\n",
       "       \"['Иные недостатки', 'Обработанное противогололедными материалами', 'Отсутствие пешеходных ограждений в необходимых местах']\",\n",
       "       \"['Мокрое', 'Отсутствие дорожных знаков в необходимых местах', 'Отсутствие освещения']\",\n",
       "       \"['Иные недостатки', 'Сухое', 'Отсутствие, плохая различимость горизонтальной разметки проезжей части', 'Отсутствие дорожных знаков в необходимых местах', 'Неправильное применение, плохая видимость дорожных знаков']\",\n",
       "       \"['Сухое', 'Отсутствие дорожных знаков в необходимых местах', 'Отсутствие освещения', 'Отсутствие тротуаров (пешеходных дорожек)']\",\n",
       "       \"['Недостатки зимнего содержания', 'Отсутствие дорожных знаков в необходимых местах', 'Заснеженное', 'Неправильное применение, плохая видимость дорожных знаков']\",\n",
       "       \"['Отсутствие, плохая различимость горизонтальной разметки проезжей части', 'Отсутствие дорожных знаков в необходимых местах', 'Заснеженное', 'Отсутствие освещения', 'Отсутствие тротуаров (пешеходных дорожек)']\",\n",
       "       \"['Отсутствие элементов обустройства остановочного пункта общественного пассажирского транспорта', 'Недостатки зимнего содержания', 'Отсутствие дорожных знаков в необходимых местах', 'Заснеженное', 'Отсутствие тротуаров (пешеходных дорожек)']\",\n",
       "       \"['Отсутствие элементов обустройства остановочного пункта общественного пассажирского транспорта', 'Сухое', 'Отсутствие освещения']\",\n",
       "       \"['Неисправное освещение', 'Заснеженное', 'Отсутствие дорожных ограждений в необходимых местах']\",\n",
       "       \"['Отсутствие дорожных знаков в необходимых местах', 'Заснеженное', 'Отсутствие дорожных ограждений в необходимых местах']\",\n",
       "       \"['Мокрое', 'Неправильное применение, плохая видимость дорожных знаков', 'Отсутствие освещения']\",\n",
       "       \"['Сухое', 'Отсутствие, плохая различимость горизонтальной разметки проезжей части', 'Отсутствие дорожных знаков в необходимых местах', 'Отсутствие тротуаров (пешеходных дорожек)', 'Ограничение видимости']\",\n",
       "       \"['Сухое', 'Отсутствие освещения', 'Отсутствие, плохая различимость вертикальной разметки']\",\n",
       "       \"['Неисправное освещение', 'Мокрое', 'Отсутствие, плохая различимость горизонтальной разметки проезжей части', 'Отсутствие дорожных знаков в необходимых местах']\",\n",
       "       \"['Отсутствие, плохая различимость горизонтальной разметки проезжей части', 'Обработанное противогололедными материалами', 'Недостатки зимнего содержания', 'Неудовлетворительное состояние обочин']\",\n",
       "       \"['Обработанное противогололедными материалами', 'Недостатки зимнего содержания', 'Низкие сцепные качества покрытия', 'Неправильное применение, плохая видимость дорожных знаков']\",\n",
       "       \"['Заснеженное', 'Неудовлетворительное состояние обочин', 'Неровное покрытие']\",\n",
       "       \"['Недостатки зимнего содержания', 'Отсутствие дорожных знаков в необходимых местах', 'Заснеженное', 'Неправильное применение, плохая видимость дорожных знаков', 'Отсутствие дорожных ограждений в необходимых местах']\",\n",
       "       \"['Отсутствие, плохая различимость горизонтальной разметки проезжей части', 'Недостатки зимнего содержания', 'Гололедица', 'Неправильное применение, плохая видимость дорожных знаков']\",\n",
       "       \"['Отсутствие элементов обустройства остановочного пункта общественного пассажирского транспорта', 'Мокрое', 'Неправильное применение, плохая видимость дорожных знаков', 'Отсутствие дорожных ограждений в необходимых местах']\",\n",
       "       \"['Отсутствие элементов обустройства остановочного пункта общественного пассажирского транспорта', 'Заснеженное', 'Неправильное применение, плохая видимость дорожных знаков']\",\n",
       "       \"['Сухое', 'Отсутствие направляющих устройств и световозвращающих элементов на них']\",\n",
       "       \"['Гололедица', 'Неправильное применение, плохая видимость дорожных знаков']\",\n",
       "       \"['Сухое', 'Отсутствие тротуаров (пешеходных дорожек)', 'Отсутствие временных ТСОД в местах проведения работ']\",\n",
       "       \"['Неисправное освещение', 'Отсутствие, плохая различимость горизонтальной разметки проезжей части', 'Недостатки зимнего содержания', 'Заснеженное', 'Отсутствие пешеходных ограждений в необходимых местах']\",\n",
       "       \"['Недостатки зимнего содержания', 'Со снежным накатом', 'Отсутствие дорожных знаков в необходимых местах', 'Неправильное применение, плохая видимость дорожных знаков']\",\n",
       "       \"['Отсутствие элементов обустройства остановочного пункта общественного пассажирского транспорта', 'Мокрое', 'Отсутствие, плохая различимость горизонтальной разметки проезжей части', 'Недостаточное освещение', 'Отсутствие тротуаров (пешеходных дорожек)']\",\n",
       "       \"['Отсутствие элементов обустройства остановочного пункта общественного пассажирского транспорта', 'Иные недостатки', 'Сухое', 'Отсутствие, плохая различимость горизонтальной разметки проезжей части', 'Отсутствие пешеходных ограждений в необходимых местах']\",\n",
       "       \"['Сухое', 'Отсутствие, плохая различимость горизонтальной разметки проезжей части', 'Дефекты покрытия', 'Отсутствие дорожных знаков в необходимых местах', 'Отсутствие тротуаров (пешеходных дорожек)']\",\n",
       "       \"['Неисправное освещение', 'Сухое', 'Отсутствие, плохая различимость горизонтальной разметки проезжей части', 'Неправильное применение, плохая видимость дорожных знаков', 'Отсутствие пешеходных ограждений в необходимых местах']\",\n",
       "       \"['Отсутствие элементов обустройства остановочного пункта общественного пассажирского транспорта', 'Сухое', 'Отсутствие тротуаров (пешеходных дорожек)']\",\n",
       "       \"['Неисправное освещение', 'Иные недостатки', 'Сухое', 'Отсутствие, плохая различимость горизонтальной разметки проезжей части', 'Отсутствие дорожных ограждений в необходимых местах']\",\n",
       "       \"['Неисправное освещение', 'Иные недостатки', 'Мокрое', 'Отсутствие, плохая различимость горизонтальной разметки проезжей части', 'Отсутствие пешеходных ограждений в необходимых местах']\",\n",
       "       \"['Мокрое', 'Отсутствие, плохая различимость горизонтальной разметки проезжей части', 'Недостатки зимнего содержания', 'Неправильное применение, плохая видимость дорожных знаков', 'Отсутствие дорожных ограждений в необходимых местах']\",\n",
       "       \"['Гололедица', 'Отсутствие тротуаров (пешеходных дорожек)']\",\n",
       "       \"['Отсутствие элементов обустройства остановочного пункта общественного пассажирского транспорта', 'Мокрое', 'Отсутствие, плохая различимость горизонтальной разметки проезжей части', 'Дефекты покрытия', 'Неудовлетворительное состояние обочин']\",\n",
       "       \"['Иные недостатки', 'Сухое', 'Отсутствие, плохая различимость горизонтальной разметки проезжей части', 'Отсутствие дорожных ограждений в необходимых местах']\",\n",
       "       \"['Сухое', 'Отсутствие, плохая различимость горизонтальной разметки проезжей части', 'Неправильное применение, плохая видимость дорожных знаков', 'Отсутствие тротуаров (пешеходных дорожек)', 'Ограничение видимости']\",\n",
       "       \"['Сухое', 'Отсутствие, плохая различимость горизонтальной разметки проезжей части', 'Неправильное применение, плохая видимость дорожных знаков', 'Отсутствие освещения', 'Отсутствие тротуаров (пешеходных дорожек)']\",\n",
       "       \"['Отсутствие, плохая различимость горизонтальной разметки проезжей части', 'Недостатки зимнего содержания', 'Отсутствие дорожных знаков в необходимых местах', 'Заснеженное', 'Неправильное применение, плохая видимость дорожных знаков']\",\n",
       "       \"['Несоответствие люков смотровых колодцев и ливневой канализации предъявляемым требованиям', 'Мокрое', 'Отсутствие, плохая различимость горизонтальной разметки проезжей части', 'Дефекты покрытия']\",\n",
       "       \"['Сухое', 'Отсутствие, плохая различимость горизонтальной разметки проезжей части', 'Отсутствие освещения', 'Отсутствие пешеходных ограждений в необходимых местах']\",\n",
       "       \"['Неисправность светофора', 'Отсутствие, плохая различимость горизонтальной разметки проезжей части', 'Недостатки зимнего содержания', 'Гололедица', 'Отсутствие освещения']\",\n",
       "       \"['Сухое', 'Отсутствие, плохая различимость горизонтальной разметки проезжей части', 'Отсутствие тротуаров (пешеходных дорожек)', 'Неровное покрытие']\",\n",
       "       \"['Отсутствие элементов обустройства остановочного пункта общественного пассажирского транспорта', 'Сухое', 'Отсутствие, плохая различимость горизонтальной разметки проезжей части', 'Неправильное применение, плохая видимость дорожных знаков', 'Неровное покрытие']\",\n",
       "       \"['Мокрое', 'Отсутствие, плохая различимость горизонтальной разметки проезжей части', 'Дефекты покрытия', 'Неудовлетворительное состояние обочин', 'Неправильное применение, плохая видимость дорожных знаков']\",\n",
       "       \"['Отсутствие элементов обустройства остановочного пункта общественного пассажирского транспорта', 'Сухое', 'Дефекты покрытия', 'Отсутствие тротуаров (пешеходных дорожек)']\",\n",
       "       \"['Сухое', 'Отсутствие, плохая различимость горизонтальной разметки проезжей части', 'Дефекты покрытия', 'Отсутствие дорожных знаков в необходимых местах', 'Ограничение видимости']\",\n",
       "       \"['Отсутствие, плохая различимость горизонтальной разметки проезжей части', 'Недостатки зимнего содержания', 'Со снежным накатом', 'Отсутствие освещения']\",\n",
       "       \"['Недостатки зимнего содержания', 'Дефекты покрытия', 'Заснеженное']\"],\n",
       "      dtype=object)"
      ]
     },
     "metadata": {},
     "output_type": "display_data"
    },
    {
     "data": {
      "text/plain": [
       "array([\"['Все участники']\", \"['Все участники', 'Пешеходы']\",\n",
       "       \"['Все участники', 'Мотоциклисты']\",\n",
       "       \"['Все участники', 'Велосипедисты']\", \"['Все участники', 'Дети']\",\n",
       "       \"['Все участники', 'Пешеходы', 'Дети']\",\n",
       "       \"['Все участники', 'Пешеходы', 'Общ. транспорт', 'Дети']\",\n",
       "       \"['Все участники', 'Мотоциклисты', 'Дети']\",\n",
       "       \"['Все участники', 'Велосипедисты', 'Дети']\",\n",
       "       \"['Все участники', 'Велосипедисты', 'Мотоциклисты']\",\n",
       "       \"['Все участники', 'Пешеходы', 'Мотоциклисты']\",\n",
       "       \"['Все участники', 'Велосипедисты', 'Мотоциклисты', 'Дети']\",\n",
       "       \"['Мотоциклисты', 'Все участники']\",\n",
       "       \"['Все участники', 'Общ. транспорт']\",\n",
       "       \"['Все участники', 'Пешеходы', 'Велосипедисты']\",\n",
       "       \"['Все участники', 'Пешеходы', 'Мотоциклисты', 'Дети']\",\n",
       "       \"['Все участники', 'Общ. транспорт', 'Дети']\",\n",
       "       \"['Все участники', 'Пешеходы', 'Общ. транспорт']\",\n",
       "       \"['Пешеходы', 'Все участники']\",\n",
       "       \"['Все участники', 'Пешеходы', 'Велосипедисты', 'Дети']\",\n",
       "       \"['Общ. транспорт', 'Все участники']\",\n",
       "       \"['Общ. транспорт', 'Дети', 'Все участники']\",\n",
       "       \"['Пешеходы', 'Дети', 'Все участники']\"], dtype=object)"
      ]
     },
     "metadata": {},
     "output_type": "display_data"
    }
   ],
   "source": [
    "display(kirovskaya_oblast.nunique().sort_values(ascending = False))\n",
    "\n",
    "display()\n",
    "\n",
    "display(kirovskaya_oblast['id'].unique())\n",
    "\n",
    "display()\n",
    "\n",
    "display(kirovskaya_oblast['tags'].unique())\n",
    "\n",
    "display()\n",
    "\n",
    "display(kirovskaya_oblast['nearby'].unique())\n",
    "\n",
    "display()\n",
    "\n",
    "display(kirovskaya_oblast['region'].unique())\n",
    "\n",
    "display()\n",
    "\n",
    "display(kirovskaya_oblast['address'].unique())\n",
    "\n",
    "display()\n",
    "\n",
    "display(kirovskaya_oblast['weather'].unique())\n",
    "\n",
    "display()\n",
    "\n",
    "display(kirovskaya_oblast['category'].unique())\n",
    "\n",
    "display()\n",
    "\n",
    "display(kirovskaya_oblast['parent_region'].unique())\n",
    "\n",
    "display()\n",
    "\n",
    "display(kirovskaya_oblast['road_conditions'].unique())\n",
    "\n",
    "display()\n",
    "\n",
    "display(kirovskaya_oblast['participant_categories'].unique())"
   ]
  },
  {
   "cell_type": "markdown",
   "metadata": {
    "id": "4vp742O_GERC"
   },
   "source": [
    "Промежуточный итог:\n",
    "- Можно заметить, что в столбце `participant_categories` есть значение, по своей сути одинаковые, только порядок информации разный, например:\n",
    "1. \"['Все участники', 'Пешеходы', 'Дети']\" и \"['Пешеходы', 'Дети', 'Все участники']\";\n",
    "2. \"['Пешеходы', 'Все участники']\" и \"['Все участники', 'Пешеходы']\";\n",
    "3. \"['Общ. транспорт', 'Все участники']\" и \"['Все участники', 'Общ. транспорт']\";\n",
    "4. \"['Мотоциклисты', 'Все участники']\" и \"['Все участники', 'Мотоциклисты']\";\n",
    "5. \"['Общ. транспорт', 'Дети', 'Все участники']\" и \"['Все участники', 'Общ. транспорт', 'Дети']\".\n",
    "Подобные дубликаты можно заменить один на другой, чтобы была только одна вариация последовательности категории участников ДТП.\n",
    "- В остальных столбцах неявных дубликатов обнаружено не было. Важно также отметить, что в столбце `id` кол-во уникальных значений соответвует общему числу строк в таблице. Это свидетельствует о том, что явных и неявных дубликатов по данному столбцу нет."
   ]
  },
  {
   "cell_type": "code",
   "execution_count": 114,
   "metadata": {
    "colab": {
     "base_uri": "https://localhost:8080/",
     "height": 338
    },
    "executionInfo": {
     "elapsed": 3,
     "status": "ok",
     "timestamp": 1756309871549,
     "user": {
      "displayName": "Maria Averkina",
      "userId": "01722641797731955161"
     },
     "user_tz": 420
    },
    "id": "Xxc8KA78GERC",
    "outputId": "279d74b8-b52a-486a-a4fa-ac2f76adb1ab",
    "scrolled": true
   },
   "outputs": [
    {
     "data": {
      "text/plain": [
       "array([\"['Все участники']\", \"['Все участники', 'Пешеходы']\",\n",
       "       \"['Все участники', 'Мотоциклисты']\",\n",
       "       \"['Все участники', 'Велосипедисты']\", \"['Все участники', 'Дети']\",\n",
       "       \"['Все участники', 'Пешеходы', 'Дети']\",\n",
       "       \"['Все участники', 'Пешеходы', 'Общ. транспорт', 'Дети']\",\n",
       "       \"['Все участники', 'Мотоциклисты', 'Дети']\",\n",
       "       \"['Все участники', 'Велосипедисты', 'Дети']\",\n",
       "       \"['Все участники', 'Велосипедисты', 'Мотоциклисты']\",\n",
       "       \"['Все участники', 'Пешеходы', 'Мотоциклисты']\",\n",
       "       \"['Все участники', 'Велосипедисты', 'Мотоциклисты', 'Дети']\",\n",
       "       \"['Все участники', 'Общ. транспорт']\",\n",
       "       \"['Все участники', 'Пешеходы', 'Велосипедисты']\",\n",
       "       \"['Все участники', 'Пешеходы', 'Мотоциклисты', 'Дети']\",\n",
       "       \"['Все участники', 'Общ. транспорт', 'Дети']\",\n",
       "       \"['Все участники', 'Пешеходы', 'Общ. транспорт']\",\n",
       "       \"['Все участники', 'Пешеходы', 'Велосипедисты', 'Дети']\"],\n",
       "      dtype=object)"
      ]
     },
     "metadata": {},
     "output_type": "display_data"
    },
    {
     "name": "stdout",
     "output_type": "stream",
     "text": [
      "Число уникальных значений по столбцу с категориями участников = 18\n"
     ]
    }
   ],
   "source": [
    "kirovskaya_oblast['participant_categories'] = kirovskaya_oblast['participant_categories'].replace(\n",
    "    {\"['Пешеходы', 'Дети', 'Все участники']\" : \"['Все участники', 'Пешеходы', 'Дети']\",\n",
    "     \"['Пешеходы', 'Все участники']\" : \"['Все участники', 'Пешеходы']\",\n",
    "     \"['Общ. транспорт', 'Все участники']\" : \"['Все участники', 'Общ. транспорт']\",\n",
    "     \"['Мотоциклисты', 'Все участники']\" : \"['Все участники', 'Мотоциклисты']\",\n",
    "     \"['Общ. транспорт', 'Дети', 'Все участники']\" : \"['Все участники', 'Общ. транспорт', 'Дети']\"\n",
    "    })\n",
    "\n",
    "display(kirovskaya_oblast['participant_categories'].unique())\n",
    "print(f\"Число уникальных значений по столбцу с категориями участников = {kirovskaya_oblast['participant_categories'].nunique()}\")"
   ]
  },
  {
   "cell_type": "markdown",
   "metadata": {
    "id": "gQOcckocGERD"
   },
   "source": [
    "Мы исправиили данную ошибку в данных. Можно заметить, что число уникальных значений уменьщилось с 23 до 18 (ровно на 5, сколько пунктов мы описали выше). Далее поработаем с таблицей `kirovskaya_oblast_participants` на наличие неявных дубликатов."
   ]
  },
  {
   "cell_type": "code",
   "execution_count": 115,
   "metadata": {
    "colab": {
     "base_uri": "https://localhost:8080/",
     "height": 772
    },
    "executionInfo": {
     "elapsed": 2,
     "status": "ok",
     "timestamp": 1756309871552,
     "user": {
      "displayName": "Maria Averkina",
      "userId": "01722641797731955161"
     },
     "user_tz": 420
    },
    "id": "2l1R2IL0GERD",
    "outputId": "f4b7a3a9-e7f6-4189-8c50-495fb027d87c"
   },
   "outputs": [
    {
     "data": {
      "text/plain": [
       "id                             13340\n",
       "violations                      1435\n",
       "years_of_driving_experience       63\n",
       "health_status                      7\n",
       "role                               5\n",
       "gender                             2\n",
       "dtype: int64"
      ]
     },
     "metadata": {},
     "output_type": "display_data"
    },
    {
     "data": {
      "text/plain": [
       "array([1983180, 2889433, 2591208, ..., 1986801, 1982172, 2766750],\n",
       "      shape=(13340,))"
      ]
     },
     "metadata": {},
     "output_type": "display_data"
    },
    {
     "data": {
      "text/plain": [
       "array(['Водитель', 'Пассажир', 'Велосипедист', 'Пешеход',\n",
       "       'Пешеход, перед ДТП находившийся в (на) ТС в качестве водителя или пешеход, перед ДТП находившийся в (на) ТС в качестве пассажира'],\n",
       "      dtype=object)"
      ]
     },
     "metadata": {},
     "output_type": "display_data"
    },
    {
     "data": {
      "text/plain": [
       "array(['Мужской', 'Женский', nan], dtype=object)"
      ]
     },
     "metadata": {},
     "output_type": "display_data"
    },
    {
     "data": {
      "text/plain": [
       "array([\"['Несоответствие скорости конкретным условиям движения', 'Управление ТС в состоянии алкогольного опьянения']\",\n",
       "       '[]',\n",
       "       \"['Несоответствие скорости конкретным условиям движения', 'Управление ТС в состоянии алкогольного опьянения', 'Эксплуатация незарегистрированного ТС', 'Несоблюдение требований ОСАГО']\",\n",
       "       ...,\n",
       "       \"['Иные нарушения', 'Нахождение на проезжей части без цели её перехода', 'Пешеход в состоянии алкогольного опьянения']\",\n",
       "       \"['Игра на проезжей части', 'Иные нарушения', 'Нахождение на проезжей части без цели её перехода']\",\n",
       "       \"['Неподчинение сигналам регулирования', 'Неожиданный выход из-за ТС']\"],\n",
       "      shape=(1435,), dtype=object)"
      ]
     },
     "metadata": {},
     "output_type": "display_data"
    },
    {
     "data": {
      "text/plain": [
       "array(['Раненый, находящийся (находившийся) на амбулаторном лечении, либо в условиях дневного стационара',\n",
       "       'Не пострадал',\n",
       "       'Раненый, находящийся (находившийся)  на амбулаторном лечении, либо которому по характеру полученных травм обозначена необходимость амбулаторного лечения (вне зависимости от его фактического прохождения)',\n",
       "       'Раненый, находящийся (находившийся) на стационарном лечении',\n",
       "       'Получил телесные повреждения с показанием к лечению в медицинских организациях (кроме разовой медицинской помощи)',\n",
       "       nan,\n",
       "       'Получил травмы с оказанием разовой медицинской помощи, к категории раненый не относится',\n",
       "       'Получил телесные повреждения с показанием к лечению в медицинских организациях, фактически лечение не проходил, к категории раненый не относится'],\n",
       "      dtype=object)"
      ]
     },
     "metadata": {},
     "output_type": "display_data"
    }
   ],
   "source": [
    "display(kirovskaya_oblast_participiants.nunique().sort_values(ascending = False))\n",
    "\n",
    "display()\n",
    "\n",
    "display(kirovskaya_oblast_participiants['id'].unique())\n",
    "\n",
    "display()\n",
    "\n",
    "display(kirovskaya_oblast_participiants['role'].unique())\n",
    "\n",
    "display()\n",
    "\n",
    "display(kirovskaya_oblast_participiants['gender'].unique())\n",
    "\n",
    "display()\n",
    "\n",
    "display(kirovskaya_oblast_participiants['violations'].unique())\n",
    "\n",
    "display()\n",
    "\n",
    "display(kirovskaya_oblast_participiants['health_status'].unique())\n"
   ]
  },
  {
   "cell_type": "markdown",
   "metadata": {
    "id": "LMQtsF36GERD"
   },
   "source": [
    "Промежуточные итоги:\n",
    "- Неявных дубликатов выявлено не было ни в одном из столбцов.\n",
    "- Важно отметить, что строк в этой таблице 31235, а по столбцу `id` уникальных значений 13340, то есть присутсвуют дубликаты, которые мы проверим и возможно удалим дальше.\n",
    "\n",
    "Проверим последнюю таблицу по Кировской области `kirovskaya_oblast_vehicles`.\n"
   ]
  },
  {
   "cell_type": "code",
   "execution_count": 116,
   "metadata": {
    "colab": {
     "base_uri": "https://localhost:8080/",
     "height": 1000
    },
    "executionInfo": {
     "elapsed": 2,
     "status": "ok",
     "timestamp": 1756309871555,
     "user": {
      "displayName": "Maria Averkina",
      "userId": "01722641797731955161"
     },
     "user_tz": 420
    },
    "id": "1PumRXLUGERD",
    "outputId": "f1081b63-a46c-47b0-c325-b8e9fc64ccaa",
    "scrolled": true
   },
   "outputs": [
    {
     "data": {
      "text/plain": [
       "id          13247\n",
       "model         847\n",
       "brand         158\n",
       "category       69\n",
       "year           63\n",
       "color          13\n",
       "dtype: int64"
      ]
     },
     "metadata": {},
     "output_type": "display_data"
    },
    {
     "data": {
      "text/plain": [
       "array([1983180, 2889433, 2591208, ..., 2998217, 2998225, 2998229],\n",
       "      shape=(13247,))"
      ]
     },
     "metadata": {},
     "output_type": "display_data"
    },
    {
     "data": {
      "text/plain": [
       "array(['ВАЗ', 'CHEVROLET', 'RENAULT', 'MERCEDES', 'FORD', 'VOLKSWAGEN',\n",
       "       'ГАЗ', 'CHERY', nan, 'TOYOTA', 'HYUNDAI', 'ЛАЗ', 'KIA',\n",
       "       'MITSUBISHI', 'FREIGHTLINER', 'SCANIA', 'УАЗ', 'КАМАЗ',\n",
       "       'Прочие марки ТС', 'SUZUKI', 'DAEWOO', 'VOLVO', 'Datsun',\n",
       "       'SSANGYONG', 'BMW', 'OPEL', 'SUBARU', 'МАЗ-МАН', 'FAW', 'SKODA',\n",
       "       'Прочие марки мотоциклов', 'ИЖ', 'LEXUS', 'МОСКВИЧ', 'IVECO',\n",
       "       'ЗИД', 'NISSAN', 'МАЗ', 'AUDI', 'MAN', 'DAF', 'HONDA', 'ЗАЗ',\n",
       "       'ISUZU', 'CITROEN', 'PEUGEOT', 'MAZDA', 'HIGER', 'FIAT', 'ПАЗ',\n",
       "       'Прочие марки легковых ТС', 'YAMAHA', 'УРАЛ', 'BETA', 'ЗИЛ',\n",
       "       'MINSK', 'JIANGLING', 'LIFAN', 'SITRAK', 'GEELY', 'SHACMAN',\n",
       "       'INFINITI', 'БОГДАН', 'JAWA-CZ', 'LAND ROVER', 'DNEPR', 'ВОСХОД',\n",
       "       'DACIA', 'HUMMER', 'Прочие марки грузовых ТС',\n",
       "       'Прочие марки строительной техники', 'ROVER', 'KAWASAKI',\n",
       "       'YANGTZE', 'GREAT WALL', 'HAFEI', 'BAJAJ', 'SAAB', 'PORSCHE', 'BM',\n",
       "       'HAIMA', 'IRISBUS', 'DONINVEST', 'DODGE', 'ЛИАЗ', 'SETRA',\n",
       "       'ТАГАЗ (TAGAZ)', 'DAIHATSU', 'CCM', 'JEEP', 'IKCO', 'VICTORY',\n",
       "       'НефАЗ', 'HAVAL', 'HARLEY-DAVIDSON', 'ЛУИДОР', 'RAVON', 'DUCATI',\n",
       "       'CHANGAN', 'ALFA ROMEO', 'JAGUAR', 'КАВЗ', 'HINDUSTAN', 'JAC',\n",
       "       'ВИС', 'FOTON', 'BYD', 'CHANG FENG', 'JAWA', 'HOLDEN', 'SEAT',\n",
       "       'KANGDA', 'BRILLIANCE', 'CADILLAC', 'GMC', 'APRILIA', 'MUDAN',\n",
       "       'BAW', 'TRIUMPH', 'LDV', 'YUTONG', 'PETERBILT', 'NEOPLAN',\n",
       "       'Прочие марки автобусов', 'RONART', 'SHEN LONG', 'CHRYSLER', 'AC',\n",
       "       'Прочие марки легких коммерческих ТС', 'KENWORTH', 'DONG FENG',\n",
       "       'ZOTYE', 'MTT', 'ABM', 'DE LOREAN', 'ACURA', 'ГОЛАЗ', 'STERLING',\n",
       "       'CAGIVA', 'HOWO', 'MINI', 'ALPINA',\n",
       "       'Прочие марки седельных тягачей', 'VECTOR', 'KTM', 'ALFER',\n",
       "       'MOTOTRANS', 'WARTBURG', 'TVR', 'GEO', 'SHERCO', 'LINCOLN',\n",
       "       'OMODA', 'KING LONG', 'TOFAS', 'FORSAGE', 'ZONDA', 'LIXIANG',\n",
       "       'SCEO'], dtype=object)"
      ]
     },
     "metadata": {},
     "output_type": "display_data"
    },
    {
     "data": {
      "text/plain": [
       "array(['Серый', 'Зеленый', 'Синий', 'Белый', nan, 'Красный', 'Черный',\n",
       "       'Коричневый', 'Оранжевый', 'Фиолетовый', 'Иные цвета', 'Желтый',\n",
       "       'Не заполнено', 'Многоцветный'], dtype=object)"
      ]
     },
     "metadata": {},
     "output_type": "display_data"
    },
    {
     "data": {
      "text/plain": [
       "array(['Kalina', 'Niva', 'Logan', 'ВАЗ 2115 и модификации',\n",
       "       'Прочие модели Mercedes', 'Mondeo', 'Granta (Гранта)', 'Caravelle',\n",
       "       ' Жигули  ВАЗ-2108, 09 и модификации                       ',\n",
       "       'Прочие модели ГАЗ', 'ВАЗ 2114 и модификации',\n",
       "       'Прочие модели Chery', nan, 'ВАЗ 2110, 21101, 21102, 21103, 21108',\n",
       "       'Avensis', 'Прочие модели Hyundai', 'ВАЗ 2112 и модификации',\n",
       "       'Passat', 'Golf', 'Priora', 'Lanos',\n",
       "       'ВАЗ 2111, 21110 (универсал), 21113, 21114',\n",
       "       ' Жигули  ВАЗ-2107 модификации', 'CLK', 'Focus', '699', 'Ceed',\n",
       "       'Lancer', 'Largus (Ларгус)', 'Century Class S/T', 'R', '3909',\n",
       "       '5321', 'Прочие марки и модели ТС', 'SX4', 'Nexia', 'FH',\n",
       "       'Прочие модели КАМАЗ', 'on-DO', 'Elantra (Lantra, Avante)',\n",
       "       'Kyron', 'Rio', 'X6', 'Actros', 'Astra', 'Tiggo',\n",
       "       'УАЗ 3151, 31512, 31514, 31519 и модификации', 'Tercel',\n",
       "       'Tiggo 7 Pro Max', 'Grand Vitara', ' Ока  ВАЗ-1111 и модификации',\n",
       "       'Impreza', ' Жигули  ВАЗ-2106 модификации', 'Прочие модели BMW',\n",
       "       'Прочие модели МАЗ-МАН', 'Solaris', 'Bora',\n",
       "       'Прочие модели Chevrolet', 'XRay', 'Rapid',\n",
       "       'Прочие марки мотоциклов', 'Sportage', 'Octavia', 'Планета',\n",
       "       'Прочие модели Lexus', 'Creta', '3741', 'Прочие модели МОСКВИЧ',\n",
       "       'Vectra', 'Yaris', 'Jetta', 'Picanto', 'ВАЗ 2131 и модификации',\n",
       "       'Kuga', 'Outlander', ' Нива  ВАЗ-2121 и модификации', 'Galloper',\n",
       "       'Megane', '3302, 33027 и модификации',\n",
       "       ' Жигули  ВАЗ-2101, 02, 03 и модификации', 'Premium',\n",
       "       'Прочие модели Iveco', 'Прочие модели Ford',\n",
       "       '2705  Газель , 27057 и модификации', 'Touareg', 'Sorento', 'Polo',\n",
       "       'Восход', 'Almera', 'Actyon', 'Hiace', 'Transit', 'Corolla',\n",
       "       'Lacetti', 'Cerato', '5440', 'Sprinter', 'А6', '80', '19,41',\n",
       "       'RAV 4', 'XF95 Series', 'ВАЗ 2113 и модификации', 'CBR',\n",
       "       'Pathfinder', 'ЗАЗ 1102', 'Primera', 'Прочие модели Isuzu',\n",
       "       'Прочие модели Man', 'Blazer', 'Jumper', 'Tiguan', 'B-класс',\n",
       "       '6303', 'Pajero', '4528', 'Sandero', '206', 'Demio',\n",
       "       'Прочие модели Higer', 'TGA', '5410', 'Ducato', '4234', '5411',\n",
       "       'Юпитер', '2206', 'Teana', 'XF105 series', 'GX',\n",
       "       'Прочие модели Volvo', ' Жигули  ВАЗ-2105 модификации', '4208',\n",
       "       'Symbol', 'Прочие модели DAF', 'ЗАЗ Sens',\n",
       "       'Прочие марки легковых ТС', '6511', 'XV', 'Civic',\n",
       "       'Прочие модели Урал', '5320', 'Alp', 'Terrano', 'Getz', 'Agila',\n",
       "       'Прочие модели УАЗ', 'Прочие модели ЗИЛ', 'X-Trail', 'Cube',\n",
       "       'Vesta (Веста)', 'Qashgai', '4310', 'Crafter',\n",
       "       'Прочие модели Scania', '64226', 'Прочие модели Honda',\n",
       "       'Прочие модели KIA', 'Tiida', 'ВАЗ 2123 и модификации', 'Fusion',\n",
       "       'Q7', 'УАЗ 3163', 'Land Cruiser', 'ГАЗ 3102, 3102-101, 3102-311',\n",
       "       'Прочие модели Minsk', 'Duster', 'X3', 'Прочие модели Toyota',\n",
       "       'Caddy', 'Прочие модели Skoda', 'А3', 'Kluger',\n",
       "       'Прочие модели Jiangling', 'Прочие модели Lifan', 'CR-V', 'C7H',\n",
       "       'X60', 'Прочие модели Freightliner', 'Ipsum', 'Musso', '5322',\n",
       "       '12', '626', 'Прочие модели Geely', 'Highlander',\n",
       "       '3221  Газель , 32217, 32213, 32212, 322172, 322132, 322133 и модификации',\n",
       "       'M 67', 'Shuma', 'Sharan', 'Transporter', 'ix35',\n",
       "       'Прочие модели Mitsubishi', 'ВАЗ 2120 и модификации',\n",
       "       '2715 и модификации', '33023, 330232, 330273 и модификации',\n",
       "       'Прочие модели SHACMAN', 'Прочие модели Renault', '4514',\n",
       "       '2217, 22171, 22177  Соболь  и модификации', 'Vito', 'X5',\n",
       "       'Carisma', 'Patriot (Патриот)', 'QX-серия', 'Accent', 'А092.02',\n",
       "       'E-класс', '452',\n",
       "       'ГАЗ 3110, 3110-101, 3110-111, 3110-311, 3110-331, 3110-341, 3110-411, 3110-441, 3110-600',\n",
       "       'Vitara', 'Colt', 'Прочие модели Peugeot', 'Aveo',\n",
       "       ' Жигули  ВАЗ-2104 модификации', '113', 'Прочие модели IVECO',\n",
       "       'Прочие модели VOLKSWAGEN', 'Multivan', '3962', 'P', 'YZF',\n",
       "       'Liana', 'Axor', 'Optima', 'Corsa', '3er', 'ИЖ 2126', 'Cresta',\n",
       "       '4741', '22069', 'Sonata', 'Swift', 'Legacy', 'Прочие модели ВАЗ',\n",
       "       'C-класс', 'Frontera', 'Прочие модели ИЖ', 'Прочие модели Jawa-CZ',\n",
       "       'Orlando', 'Koleos', 'УАЗ 33094', 'Range Rover',\n",
       "       'Прочие модели Mazda', 'Прочие модели МАЗ', 'C3', 'Matrix',\n",
       "       'УАЗ 469', 'Note', '46', 'MT 11', 'Mazda 3',\n",
       "       'прочие модели Hyundai', 'Emgrand', 'А4', 'Прочие модели Восход',\n",
       "       'Rexton', 'УАЗ 3159', '307', 'Валдай', '190', '4230', '8',\n",
       "       'Mazda 6', 'Прочие модели Nissan', 'Boxer', 'Escape', 'Yeti',\n",
       "       'GSX', 'ГАЗ 20, 21', 'MT 10', 'Tucson', 'Spectra',\n",
       "       'Прочие модели Volkswagen', 'Прочие модели Suzuki', 'Santa FE',\n",
       "       '100', 'Matiz', 'H2 SUT', 'Прочие марки грузовых ТС', 'ГАЗ 3111',\n",
       "       'Brava', 'HR-V', 'Прочие модели Daewoo',\n",
       "       'Прочие марки строительной техники', 'Прочие модели Opel',\n",
       "       'Kangoo', '25', 'Celica', 'А2', 'Camry', 'GL', 'Scenic', 'Rezzo',\n",
       "       'CX-5', 'FM', 'Legnum', 'Echo', 'Laguna', 'ГАЗ 31029, 310290',\n",
       "       '4410', 'FZ', '3204', 'Atos', 'Discovery', '27527 и модификации',\n",
       "       'CX-9', 'Evanda', 'XF95 series', '6520', 'GPZ 500', 'P124', 'S40',\n",
       "       'ГАЗ 24, 24-01, 24-02, 24-03, 24-04, 24-07, 24-10, 24-11, 24-12, 24-13, 24-17, 24-25 и модификации',\n",
       "       'Space Star', '5516', 'Omega', 'RX', '4320', 'Прочие модели ПАЗ',\n",
       "       'FX-серия', 'Forester', 'Прочие модели ЗАЗ',\n",
       "       'Прочие модели Yangtze', 'M 72', '6312', 'Berlingo',\n",
       "       'Прочие модели Great Wall', 'Прочи модели Hafei', '5511', 'CB',\n",
       "       'Expert', 'Прочие модели Yamaha', 'Audi 100', 'Hilux', '5er',\n",
       "       'Прочие модели Bajaj', 'УАЗ 3153', '9000', '5336', '63030',\n",
       "       'Prius', 'Сова', 'Liteace', 'Zafira', 'Accord', 'Auris',\n",
       "       'ВАЗ 2130 и модификации', '944', 'Albea', 'Cobalt',\n",
       "       'Прочие модели BM', '32053', 'Прочие модели HAIMA',\n",
       "       'Прочие модели Irisbus', 'Прочие модели PEUGEOT', 'MK', 'Kondor',\n",
       "       'Vento', '308', 'i20', '3255', 'Прочие модели ЗиД', '408',\n",
       "       'Caravan', 'A7', 'Pick UP', 'Stragea', 'Прочие модели CITROEN',\n",
       "       '2752  Соболь  и модификации', '5256 (пригородный)', 'XJR',\n",
       "       'Sigma', 'Прочие модели Daf', 'Прочие модели SETRA', '306', '5557',\n",
       "       'Juke', 'Hover', 'Fabia', 'Прочие модели ТАГАЗ (TAGAZ)', '2360',\n",
       "       '45', 'Carina', 'Atego', 'Next', 'TGL', 'Cruze', 'Clio', 'МВ',\n",
       "       'Explorer', '5510', 'Bleubird', 'Antara', 'ГАЗ 3105, 31052',\n",
       "       'Vortex Tingo', 'Terios', 'FIT', 'Datsun', 'XJ', 'Doblo', 'FLD',\n",
       "       'Прочие модели CCM', 'CR', '4311', 'Прочие модели Frightliner',\n",
       "       'Прочие марки Nissan', 'Cherokee', 'ИЖ 21261',\n",
       "       'Прочие модели Ikco', 'Soul', 'Fuga', 'Trafic', 'V50', 'Magnum',\n",
       "       'L-series', 'Vegas', '3303', 'Gentra', 'Spark', '400х серия', 'Q5',\n",
       "       '5256', '5292', 'CX-7', 'Roomster', '5299-10-32',\n",
       "       '5299-30-31 низкопольный', 'Q3', '5299-10-33',\n",
       "       'Прочие модели ЛИАЗ', 'F7', 'Vita', 'Прочие городские', '406',\n",
       "       'Amarok', 'Epica', 'Carens', 'ML', 'LX', 'M6', '203', 'ES', 'X1',\n",
       "       'Mark II', 'ASX', '52999', 'Vector NEXT', '5293', 'Fluence',\n",
       "       'Alto', 'LS', 'XL 1200', 'Kaptur', '6430',\n",
       "       'Прочие модели SsangYong', 'Venza', 'CL-класс',\n",
       "       'Прочие модели Porsche', 'Maxima', 'Touran',\n",
       "       '2250 (автобусы) и модификации', 'Panamera', 'Very (A13)', 'K5',\n",
       "       'Cayenne', 'Прочие модели Ducati', 'Прочие модели CHANGAN',\n",
       "       'Прочие модели Fiat', 'Jolion', 'Captiva', '156', 'SP',\n",
       "       '32214 Скорая и модификации', 'FZS', 'Expedition', 'X50', 'Vitz',\n",
       "       '207', 'Q-серия', 'Eclipse', '103', 'Fiesta', 'XC90', 'i30',\n",
       "       'Genesis', 'Прочие модели Jaguar', 'Panda', 'Skyline', 'Patrol',\n",
       "       'C-MAX', '300х серия', '4370', 'VF', 'Прочие модели Kawasaki',\n",
       "       'Прочие модели Citroen', 'Viva', 'Carnival', 'Crown',\n",
       "       'Range Rover Sport', 'Solano', 'Carsavelle', 'Прочие модели КАВЗ',\n",
       "       'Tundra Pick-Up', 'I35', 'Caldina', 'Прочие модели HINDUSTAN',\n",
       "       'Arkana', 'Partner', 'Racer', 'Jimny', 'VMX 1200', 'Escort',\n",
       "       'Прочие модели Jac', 'ZR-7', '4223', 'Bestune T77',\n",
       "       'Прочие модели ВИС', 'EcoSport', 'Прочие пригородные', 'IS',\n",
       "       'Прочие модели Foton', '2717 и модификации', 'Grand Cherokee',\n",
       "       'Tahoe', 'mi-DO', 'M11 (A3)', '4333', 'Mokka', 'S-класс',\n",
       "       'Tiburon', '5299-30-32 низкопольный', 'Прочие модели Byd',\n",
       "       'Element', 'Estima', 'C4', 'VTX', 'Verna', '4er', 'Micra (March)',\n",
       "       '52994 низкопольный', 'SV', '32051', 'H-1 Starex', 'Нива 2329',\n",
       "       'Stepwgn', 'Прочие модели Chang Feng', 'Raum', 'CS35', 'Нива 2328',\n",
       "       '350', 'Прочие модели HOLDEN', 'Meriva', 'Toledo', 'А8', '107',\n",
       "       'Прочие модели Kangda', 'Freelander', 'Прочие модели Brilliance',\n",
       "       'Прочие модели ЛАЗ', 'Mohave', 'Galant', '5299-30-33 низкопольный',\n",
       "       'XR', 'Прочие модели Cadillac', 'Envoy', 'AF1 125', '5299-17-32',\n",
       "       '323', 'Jazz', 'Sunny', 'Transit 460', 'Porter', '5299-20-32',\n",
       "       'Baleno', '3203', 'Прочие модели DAEWOO', 'A-класс', 'Capa', 'V40',\n",
       "       'Galaxy', 'RVR', '5299', '4230 (-03,-06)', 'Tribute', 'Chaser',\n",
       "       'VTR', 'Espero', 'Insignia', 'Navara', '1er', 'Venga', 'A6',\n",
       "       'Прочие модели Daihatsu', 'MD 6102', '5299-20-33', 'G-класс',\n",
       "       'Москвич 400, 401, 402, 403, 407, 408, 412', 'GT-R', '19',\n",
       "       'Tundra', 'Murano', 'Escalade', 'Familia', 'Felicia',\n",
       "       'Прочие модели BAW', 'XC70', 'ZZR', 'Superb', 'Caliber', 'ix55',\n",
       "       'Tiger', 'Master', 'Funcargo', 'Sierra', 'TDM', 'Serena',\n",
       "       '4238  Аврора ', 'Maxus', 'Punto', 'Kadett', 'Premacy', 'Grandeur',\n",
       "       'Auman', 'VT', 'Corona', 'TL', '850', 'RS6',\n",
       "       'Прочие модели Alfa Romeo', 'ZX', 'Прочие модели Rover',\n",
       "       'Diamante', '8er', 'Transit Van', '256', 'Прочие модели Yotong',\n",
       "       '6460', 'S-MAX', 'Прочие модели Infiniti', 'M 66', 'Retona',\n",
       "       'Прочие модели Kia', 'NEW Beetle', '1007', 'Прочие модели Mudan',\n",
       "       '2347', 'Outback', 'Прочие модели Peterbilt',\n",
       "       'Прочие модели Land Rover', 'Прочие модели LDV',\n",
       "       'Прочие модели Neoplan', 'Москвич 2141', 'NTV 650', 'Town Ace',\n",
       "       '4325', 'Прочие марки автобусов', 'C5', 'ST', 'Pony', '45065',\n",
       "       'Pointer', 'Прочие модели Audi', '6422', '32054', 'Daily',\n",
       "       'ИЖ 2125', 'Прочие модели Subaru', 'Прочие модели Ronart',\n",
       "       'Stralis', '5434', 'Прочие модели Shen Long', 'Frontier', 'Delica',\n",
       "       '407', 'Prelude', 'PT Cruiser', 'Sephia',\n",
       "       'Бортовой 4х2 (1528; 1424; 1422; 1117)', 'Avenir',\n",
       "       'Прочие модели AC', 'Прочие марки легких коммерческих ТС', 'RF',\n",
       "       'Harrier', 'MPV', 'А5', 'Breez', 'HD',\n",
       "       '32053-20 (грузопассажирский)', 'Ignis', 'Wingle', 'XF', '75',\n",
       "       'Feroza', 'Прочие модели KENWORTH', 'Прочие модели Dong Feng',\n",
       "       '250', 'F 2300', '45085', 'Прочие модели ZOTYE',\n",
       "       'Прочие модели MTT', 'Tracker', '4334', 'Mazda 2', 'Will Vi',\n",
       "       'Прочие модели ABM', '3009 (грузовые) и модификации', 'Avgo',\n",
       "       'Ranger', 'Прочие модели грузовых Toyota',\n",
       "       'Прочие модели De Lorean', '53360', 'Прочие модели грузовых Mazda',\n",
       "       'ACE', 'MDX', 'Wagon R+', '6228', 'ER-6', 'Прочие модели Sterling',\n",
       "       'Pulsar', 'W8', 'Bassara', 'QQ', '309', 'M', 'Прочие модели Howo',\n",
       "       'Magentis', 'Chariot', 'Cooper', 'Ultra', '4355', 'Kalos',\n",
       "       'Прочие модели Alpina', '4308', 'NSX', 'Maverick',\n",
       "       'Прочие марки седельных тягачей', 'Hornet', 'Прочие модели Vector',\n",
       "       'VZ', 'XC60', 'Adventure', 'Прочие модели HAVAL', 'Picnic',\n",
       "       'Прочие модели Alfer', 'Прочие модели Mototrans',\n",
       "       'Прочие модели Wartburg', 'Прочие модели TVR', 'Прочие модели Geo',\n",
       "       '6317', 'Прочие модели Sherco', '630368', 'P94', '2345', 'R 1200',\n",
       "       'Arosa', 'Terracan', 'ВС-22.01', 'Navigator', '405', 'Z 1000',\n",
       "       'ZR 400', 'CS55', 'GSF', 'KLE', 'CTS', 'S5', 'FJ', 'Presage', 'DR',\n",
       "       'Tager', 'KLV 1000', 'Bravo', '301', '7er', 'XLH 883', 'NF', '33',\n",
       "       'A1', 'GN', 'Sirion', 'Airtek', 'Xsara', 'Прочие модели King Long',\n",
       "       'NV', 'B9 Tribeca', 'H3', 'Platz', 'Z 1100', 'Defender', '2224',\n",
       "       'Mazda 5', 'Liberty', 'K 1200', '106', 'Boulevard',\n",
       "       'Прочие модели FAW', 'H-1', 'Capri', 'X4', 'Brio', 'RDX', 'Vario',\n",
       "       'Vista', 'Прочие модели грузовых Nissan', 'GPX 600 R', 'Shadow',\n",
       "       'Domani', 'Прочие модели Forsage', 'MAX',\n",
       "       'Фургон 4х2 (1931; 1831; 1520; 1217 Frigo)', 'LE2000', 'Jeep',\n",
       "       'Korando', 'Прочие модели ЛУИДОР (автобусы)', 'X-Terra',\n",
       "       'Прочие модели Aprilia', 'K-серия', 'Прочие модели Zonda',\n",
       "       'Xedos 6', 'Nadia', '5432', 'Прочие модели Dnepr',\n",
       "       'Прочие модели BAJAJ', 'LT', 'Mx-3', 'Прочие модели LIXIANG',\n",
       "       'i40', 'V70', 'FZR', 'Прочие модели SCEO',\n",
       "       'Прочие модели MITSUBISHI', 'Bandit', 'Ascona', 'Fenix 1065',\n",
       "       '3206', 'Mobillo', 'S60', 'Jumply', 'Прочие модели Chrysler',\n",
       "       'C-Crosser', '5460', 'GTS', '64016', 'CF-series', 'Sienna',\n",
       "       'Прочие модели FIAT', 'F2000'], dtype=object)"
      ]
     },
     "metadata": {},
     "output_type": "display_data"
    },
    {
     "data": {
      "text/plain": [
       "array(['А-класс (особо малый) до 3,5 м',\n",
       "       'С-класс (малый средний, компактный) до 4,3 м', 'Фургоны',\n",
       "       'В-класс (малый) до 3,9 м', 'Прочие легковые автомобили',\n",
       "       'D-класс (средний) до 4,6 м', 'Автобусы (без типа)',\n",
       "       'Седельные тягачи', 'Квадроциклы',\n",
       "       'Прочие самоходные машины и механизмы', 'Квадрициклы',\n",
       "       'Мопеды с двигателем внутреннего сгорания менее 50 см. куб.',\n",
       "       'Иные ТС', 'Прочие грузовые автомобили',\n",
       "       'Бортовые грузовые автомобили', 'Мотоциклы', 'Велосипеды',\n",
       "       'Мотовелосипеды',\n",
       "       'Транспортные средства для перевозки денежной выручки и ценных грузов',\n",
       "       'Одноэтажные длиной от 5 до 8 м', 'Иные мототранспортные средства',\n",
       "       'Бортовые', 'Одноэтажные длиной от 8 до 12 м', 'Цистерны',\n",
       "       'Автолесовозы', 'Прочие одноярусные',\n",
       "       'Минивэны и универсалы повышенной вместимости',\n",
       "       'Прочая спецтехника', 'Самоходные мотоблоки', 'Рефрижераторы',\n",
       "       'Снегоходы', 'Тракторы', 'Прочие',\n",
       "       'Мопеды с электродвигателем менее 4 кВт',\n",
       "       'Транспортные средства оперативно-служебные для перевозки лиц, находящихся под стражей',\n",
       "       'Самосвалы',\n",
       "       'Мопеды с двигателем внутреннего сгорания более 50 см. куб.',\n",
       "       'Автокраны и транспортные средства, оснащенные кранами-манипуляторами',\n",
       "       'Оснащённые специализированным оборудованием  автотранспортные средства для коммунального хозяйства и  содержания дорог',\n",
       "       'Экскаваторы', 'Легковые автомобили (без типа)',\n",
       "       'Грузовые автомобили (без типа)', 'Автоэвакуаторы',\n",
       "       'Автомобили скорой медицинской помощи',\n",
       "       'Иные дорожно-строительные и дорожно-эксплуатационные машины и механизмы',\n",
       "       'Одноэтажные длиной не более 5 м', 'Мотороллеры',\n",
       "       'Е-класс (высший средний, бизнес-класс) до 4,9 м', 'Шасси',\n",
       "       'Самоходные машины и механизмы сельскохозяйственного назначения',\n",
       "       'Трициклы',\n",
       "       'Транспортные средства для перевозки пищевых жидкостей',\n",
       "       'Фронтальные погрузчики', 'Бульдозеры', 'Школьные автобусы',\n",
       "       'Мототранспорт (без типа)', 'Троллейбусы',\n",
       "       'S-класс (высший, представительский класс) более 4,9 м',\n",
       "       'Оснащённые специализированным оборудованием автотранспортные средства аварийно-спасательных служб и полиции',\n",
       "       'Одноэтажные, сочлененные длиной более 12 м',\n",
       "       'Автобетоносмесители', 'Пожарные автомобили', 'Гужевой транспорт',\n",
       "       'Спортивные (гоночные)', 'Спецтехника (без типа)',\n",
       "       'Медицинские комплексы на шасси транспортных средств',\n",
       "       'Персональное электрическое средство передвижения малой мощности',\n",
       "       'Автогрейдеры', 'Подвижной состав ж/д'], dtype=object)"
      ]
     },
     "metadata": {},
     "output_type": "display_data"
    }
   ],
   "source": [
    "display(kirovskaya_oblast_vehicles.nunique().sort_values(ascending = False))\n",
    "\n",
    "display()\n",
    "\n",
    "display(kirovskaya_oblast_vehicles['id'].unique())\n",
    "\n",
    "display()\n",
    "\n",
    "display(kirovskaya_oblast_vehicles['brand'].unique())\n",
    "\n",
    "display()\n",
    "\n",
    "display(kirovskaya_oblast_vehicles['color'].unique())\n",
    "\n",
    "display()\n",
    "\n",
    "display(kirovskaya_oblast_vehicles['model'].unique())\n",
    "\n",
    "display()\n",
    "\n",
    "display(kirovskaya_oblast_vehicles['category'].unique())"
   ]
  },
  {
   "cell_type": "markdown",
   "metadata": {
    "id": "xeHjxDs0GERD"
   },
   "source": [
    "Промежуточные итоги:\n",
    "- Неявных дубликатов обнаружено не было ни в одном столбце.\n",
    "- Также важно отметить, что всего строк в данной таблице 20093, а  а по столбцу `id` уникальных значений 13247, то есть присутсвуют дубликаты, которые мы проверим и возможно удалим дальше.\n",
    "\n",
    "Далее поработаем с явными дубликатами."
   ]
  },
  {
   "cell_type": "code",
   "execution_count": 117,
   "metadata": {
    "colab": {
     "base_uri": "https://localhost:8080/"
    },
    "executionInfo": {
     "elapsed": 11,
     "status": "ok",
     "timestamp": 1756309871567,
     "user": {
      "displayName": "Maria Averkina",
      "userId": "01722641797731955161"
     },
     "user_tz": 420
    },
    "id": "PiyY4CBdGERD",
    "outputId": "22547089-291c-45cf-95aa-cd18f0582fc5"
   },
   "outputs": [
    {
     "data": {
      "text/plain": [
       "np.int64(0)"
      ]
     },
     "execution_count": 117,
     "metadata": {},
     "output_type": "execute_result"
    }
   ],
   "source": [
    "# На всякий случай проверим явные дубликаты в таблице kirovskaya_oblast по связке время-долгота-широта\n",
    "kirovskaya_oblast.duplicated(subset=['datetime', 'point_long', 'point_lat'], keep = 'first').sum()"
   ]
  },
  {
   "cell_type": "markdown",
   "metadata": {
    "id": "YaHfFfJIGERD"
   },
   "source": [
    "Дубликатов, как было упомянуто ранее, в основной таблице с информацией о ДТП в Кировской области обнаружено не было. Это очень хорошо для дальнейшего анализа. Проверим остальные таблицы."
   ]
  },
  {
   "cell_type": "code",
   "execution_count": 118,
   "metadata": {
    "colab": {
     "base_uri": "https://localhost:8080/",
     "height": 53
    },
    "executionInfo": {
     "elapsed": 1,
     "status": "ok",
     "timestamp": 1756309871569,
     "user": {
      "displayName": "Maria Averkina",
      "userId": "01722641797731955161"
     },
     "user_tz": 420
    },
    "id": "hO3jVhmhGERE",
    "outputId": "b2e1ad77-5ae7-4812-e562-b65a93ab89c9",
    "scrolled": true
   },
   "outputs": [
    {
     "data": {
      "text/plain": [
       "np.int64(17895)"
      ]
     },
     "metadata": {},
     "output_type": "display_data"
    },
    {
     "data": {
      "text/plain": [
       "np.int64(9727)"
      ]
     },
     "metadata": {},
     "output_type": "display_data"
    }
   ],
   "source": [
    "display(kirovskaya_oblast_participiants.duplicated(subset='id', keep = 'first').sum())\n",
    "display(kirovskaya_oblast_participiants.duplicated(keep = 'first').sum())"
   ]
  },
  {
   "cell_type": "code",
   "execution_count": 119,
   "metadata": {
    "colab": {
     "base_uri": "https://localhost:8080/",
     "height": 53
    },
    "executionInfo": {
     "elapsed": 15,
     "status": "ok",
     "timestamp": 1756309871585,
     "user": {
      "displayName": "Maria Averkina",
      "userId": "01722641797731955161"
     },
     "user_tz": 420
    },
    "id": "C2q-TUutGERE",
    "outputId": "f53d62a5-1579-4cb5-baf8-94fcd682af9a"
   },
   "outputs": [
    {
     "data": {
      "text/plain": [
       "np.int64(6846)"
      ]
     },
     "metadata": {},
     "output_type": "display_data"
    },
    {
     "data": {
      "text/plain": [
       "np.int64(18)"
      ]
     },
     "metadata": {},
     "output_type": "display_data"
    }
   ],
   "source": [
    "display(kirovskaya_oblast_vehicles.duplicated(subset='id', keep = 'first').sum())\n",
    "display(kirovskaya_oblast_vehicles.duplicated(keep = 'first').sum())"
   ]
  },
  {
   "cell_type": "markdown",
   "metadata": {
    "id": "dVw-VFMGGERE"
   },
   "source": [
    "Промежуточные итоги:\n",
    "- Мы проверили количество явных дубликатов по столбцу `id` и всем столбцам в таблицах `kirovskaya_oblast_participiants` и `kirovskaya_oblast_vehicles`. Так как в некоторых ДТП есть несколько участников и несколько транспортных средств, то в порядке нормы, что некоторые `id` повторяются и в таких больших количествах. Но не нормально, что есть полные дубликаты по строке, где несколько раз повторяются одни и те же строки полностью. В таблице `kirovskaya_oblast_participiants` таких дубликатов 9727, что достаточно много в абсолютном значении. В таблице `kirovskaya_oblast_vehicles` таких дубликатов в абсолютном значении немного, всего 18. Давайте рассмотрим относительные значения количества дубликатов. После этого от них будет необходимо избавиться, чтобы результаты дальнейшего анализа были более точные."
   ]
  },
  {
   "cell_type": "code",
   "execution_count": 120,
   "metadata": {
    "colab": {
     "base_uri": "https://localhost:8080/"
    },
    "executionInfo": {
     "elapsed": 41,
     "status": "ok",
     "timestamp": 1756309871627,
     "user": {
      "displayName": "Maria Averkina",
      "userId": "01722641797731955161"
     },
     "user_tz": 420
    },
    "id": "nWmC-MOYGERE",
    "outputId": "fde9cd5d-3780-4c4b-9dbe-da3c884340f3"
   },
   "outputs": [
    {
     "name": "stdout",
     "output_type": "stream",
     "text": [
      "Относительное количество дубликатов в таблице kirovskaya_oblast_participiants составило 31.141347846966543 %\n",
      "Относительное количество дубликатов в таблице kirovskaya_oblast_vehicles составило 0.08958343701786692 %\n"
     ]
    }
   ],
   "source": [
    "dupl_sum_1 = kirovskaya_oblast_participiants.duplicated(keep = 'first').sum()\n",
    "\n",
    "total_1 = kirovskaya_oblast_participiants.shape[0]\n",
    "\n",
    "part_1 = dupl_sum_1/total_1*100\n",
    "\n",
    "dupl_sum_2 = kirovskaya_oblast_vehicles.duplicated(keep = 'first').sum()\n",
    "\n",
    "total_2 = kirovskaya_oblast_vehicles.shape[0]\n",
    "\n",
    "part_2 = dupl_sum_2/total_2*100\n",
    "\n",
    "print(f\"Относительное количество дубликатов в таблице kirovskaya_oblast_participiants составило {part_1} %\")\n",
    "print(f\"Относительное количество дубликатов в таблице kirovskaya_oblast_vehicles составило {part_2} %\")"
   ]
  },
  {
   "cell_type": "markdown",
   "metadata": {
    "id": "l9EX9qBSGERE"
   },
   "source": [
    "Промежуточные итоги:\n",
    "- В таблице `kirovskaya_oblast_participiants` в относительном количестве дубликаты составили примерно 31%.\n",
    "- В таблице `kirovskaya_oblast_vehicles` в относительном количестве дубликаты составили примерно менее 1%. Как и было упомянто раннее в таблице с информацией об участниках ДТП дубликатов значительно больше, чем в той, что содержит информацию о транспортных средствах ДТП. Несмотря на то, что явные дубликаты таблицы `kirovskaya_oblast_participiants` составили менее половины от общего числа, это все еще значительная доля.\n",
    "\n",
    "Важно! Общее количество строк в данных таблицах рассчитывалось без вычета обнаруженых явных дубликатов. Считались абсолютно все строки, в том числе и эти самые дубликаты.\n",
    "\n",
    "Далее удалим полные дубликаты из соответсвующих таблиц."
   ]
  },
  {
   "cell_type": "code",
   "execution_count": 121,
   "metadata": {
    "colab": {
     "base_uri": "https://localhost:8080/",
     "height": 53
    },
    "executionInfo": {
     "elapsed": 73,
     "status": "ok",
     "timestamp": 1756309871701,
     "user": {
      "displayName": "Maria Averkina",
      "userId": "01722641797731955161"
     },
     "user_tz": 420
    },
    "id": "uY2Q1af6GERE",
    "outputId": "576fc090-b200-4522-9de6-00a5ccfa1fae"
   },
   "outputs": [
    {
     "data": {
      "text/plain": [
       "np.int64(0)"
      ]
     },
     "metadata": {},
     "output_type": "display_data"
    },
    {
     "data": {
      "text/plain": [
       "np.int64(0)"
      ]
     },
     "metadata": {},
     "output_type": "display_data"
    }
   ],
   "source": [
    "kirovskaya_oblast_participiants = kirovskaya_oblast_participiants.drop_duplicates(keep = 'first')\n",
    "kirovskaya_oblast_vehicles = kirovskaya_oblast_vehicles.drop_duplicates(keep = 'first')\n",
    "\n",
    "display(kirovskaya_oblast_participiants.duplicated(keep = 'first').sum())\n",
    "display(kirovskaya_oblast_vehicles.duplicated(keep = 'first').sum())"
   ]
  },
  {
   "cell_type": "markdown",
   "metadata": {
    "id": "GHX4wLHLGERE"
   },
   "source": [
    "Далее проделаем все то же, но с датасетами по Московской области. Будем избегать схожих развернутых выводов, чтобы сэкономить время. Для начала разберемся с неявными дубликатами. Будем работать также на примере таблиц, связанных с Кировской областью. Начнем с таблицы `moscowskaya_oblast`."
   ]
  },
  {
   "cell_type": "code",
   "execution_count": 122,
   "metadata": {
    "colab": {
     "base_uri": "https://localhost:8080/",
     "height": 1000
    },
    "executionInfo": {
     "elapsed": 401,
     "status": "ok",
     "timestamp": 1756309872100,
     "user": {
      "displayName": "Maria Averkina",
      "userId": "01722641797731955161"
     },
     "user_tz": 420
    },
    "id": "Z8sCx6FiGERF",
    "outputId": "6f127277-703e-4e1e-e3be-6de93dba44dc"
   },
   "outputs": [
    {
     "data": {
      "text/plain": [
       "id                        45618\n",
       "coordinates               44923\n",
       "datetime                  44074\n",
       "point_long                38211\n",
       "point_lat                 36409\n",
       "address                   23059\n",
       "nearby                     4850\n",
       "road_conditions             934\n",
       "region                       65\n",
       "scheme                       60\n",
       "participant_categories       25\n",
       "participants_count           20\n",
       "injured_count                19\n",
       "weather                      17\n",
       "category                     16\n",
       "light                         5\n",
       "tags                          4\n",
       "parent_region                 1\n",
       "dtype: int64"
      ]
     },
     "metadata": {},
     "output_type": "display_data"
    },
    {
     "data": {
      "text/plain": [
       "array([2163589, 2155398, 2163319, ..., 2156704, 2143503, 2130572],\n",
       "      shape=(45618,))"
      ]
     },
     "metadata": {},
     "output_type": "display_data"
    },
    {
     "data": {
      "text/plain": [
       "array([\"['Дорожно-транспортные происшествия']\",\n",
       "       \"['Дорожно-транспортные происшествия', 'ДТП и пострадавшие дети в возрасте до 16 лет']\",\n",
       "       \"['Дорожно-транспортные происшествия', 'ДТП и пострадавшие пешеходы, из-за наезда на пешеходов, на пешеходных переходах, по вине пешеходов']\",\n",
       "       \"['Дорожно-транспортные происшествия', 'ДТП и пострадавшие пешеходы, из-за наезда на пешеходов, на пешеходных переходах, по вине пешеходов', 'ДТП и пострадавшие дети в возрасте до 16 лет']\"],\n",
       "      dtype=object)"
      ]
     },
     "metadata": {},
     "output_type": "display_data"
    },
    {
     "data": {
      "text/plain": [
       "array([\"['Мост, эстакада, путепровод', 'Крупный торговый объект (являющийся объектом массового тяготения пешеходов и (или) транспорта)']\",\n",
       "       '[]',\n",
       "       \"['Многоквартирные жилые дома', 'Остановка общественного транспорта', 'Регулируемый перекрёсток', 'Регулируемый пешеходный переход', 'Тротуар, пешеходная дорожка']\",\n",
       "       ...,\n",
       "       \"['Многоквартирные жилые дома', 'Крупный торговый объект (являющийся объектом массового тяготения пешеходов и (или) транспорта)', 'Нерегулируемый перекрёсток', 'Объект строительства']\",\n",
       "       \"['Выезд с прилегающей территории', 'Мост', 'Крупный торговый объект (являющийся объектом массового тяготения пешеходов и (или) транспорта)', 'Автостоянка (отделенная от проезжей части)', 'Эстакада, путепровод']\",\n",
       "       \"['Иной объект', 'Регулируемый перекресток', 'Школа либо иная детская (в т.ч. дошкольная) организация', 'Регулируемый пешеходный переход']\"],\n",
       "      shape=(4850,), dtype=object)"
      ]
     },
     "metadata": {},
     "output_type": "display_data"
    },
    {
     "data": {
      "text/plain": [
       "array(['Мытищинский', 'Истринский', 'Лобня', 'Воскресенский', 'Раменский',\n",
       "       'Рузский', 'Пушкинский', 'Подольский', 'Ленинский', 'Электросталь',\n",
       "       'Наро-Фоминский', 'Павлово-Посадский', 'Королёв', 'Щелковский',\n",
       "       'Дубна', 'Долгопрудный', 'Дзержинский', 'Бронницы',\n",
       "       'Красногорский', 'Ступинский', 'Ногинский', 'Каширский',\n",
       "       'Серпуховский', 'Одинцовский', 'Солнечногорский',\n",
       "       'Сергиево-Посадский', 'Чеховский', 'Протвино', 'Люберецкий',\n",
       "       'Лотошинский', 'Коломенский', 'Можайский', 'Балашиха',\n",
       "       'Дмитровский', 'Клинский', 'Орехово-Зуево', 'Железнодорожный',\n",
       "       'Луховицкий', 'Талдомский', 'Домодедово', 'Орехово-Зуевский',\n",
       "       'Волоколамский', 'Лосино-Петровский', 'Звенигород', 'Жуковский',\n",
       "       'Коломна', 'Реутов', 'Красноармейск', 'Шатурский', 'Химки',\n",
       "       'Серпухов', 'Лыткарино', 'Фрязино', 'Котельники', 'Климовск',\n",
       "       'Ивантеевка', 'Егорьевский', 'Власиха', 'Зарайский', 'Озёрский',\n",
       "       'Серебряно-Прудский', 'Рошаль', 'Шаховской', 'Пущино', 'Подольск'],\n",
       "      dtype=object)"
      ]
     },
     "metadata": {},
     "output_type": "display_data"
    },
    {
     "data": {
      "text/plain": [
       "array(['ХЛЕБНИКОВО-РОГАЧЕВО, 0 км',\n",
       "       'М-9 Балтия Москва - Волоколамск - граница с Латвийской Республикой, 38 км',\n",
       "       'г Лобня, ул Ленина, 43', ..., 'г Ногинск, ул Декабристов, 79А',\n",
       "       'г Фрязино, МИХАЙЛОВКА-ЛУКЬЯНОВО, 0 км', 'МБК-ВОЛЧЕНКИ, 3 км'],\n",
       "      shape=(23060,), dtype=object)"
      ]
     },
     "metadata": {},
     "output_type": "display_data"
    },
    {
     "data": {
      "text/plain": [
       "array([\"['Ясно']\", \"['Пасмурно']\", \"['Снегопад']\", \"['Дождь']\",\n",
       "       \"['Пасмурно', 'Снегопад']\", \"['Пасмурно', 'Дождь']\", \"['Метель']\",\n",
       "       \"['Пасмурно', 'Туман']\", \"['Дождь', 'Туман']\", \"['Туман']\",\n",
       "       \"['Снегопад', 'Метель']\", \"['Ясно', 'Туман']\",\n",
       "       \"['Дождь', 'Снегопад']\", \"['Ясно', 'Температура выше +30С']\",\n",
       "       \"['Ясно', 'Температура ниже -30С']\",\n",
       "       \"['Пасмурно', 'Ураганный ветер']\", \"['Дождь', 'Ураганный ветер']\"],\n",
       "      dtype=object)"
      ]
     },
     "metadata": {},
     "output_type": "display_data"
    },
    {
     "data": {
      "text/plain": [
       "array(['Столкновение', 'Наезд на пешехода', 'Наезд на препятствие',\n",
       "       'Опрокидывание', 'Наезд на стоящее ТС', 'Наезд на велосипедиста',\n",
       "       'Съезд с дороги', 'Наезд на животное',\n",
       "       'Наезд на лицо, не являющееся участником дорожного движения, осуществляющее производство работ',\n",
       "       'Падение пассажира', 'Иной вид ДТП',\n",
       "       'Наезд на внезапно возникшее препятствие', 'Падение груза',\n",
       "       'Наезд на лицо, не являющееся участником дорожного движения, осуществляющее несение службы',\n",
       "       'Отбрасывание предмета',\n",
       "       'Наезд на лицо, не являющееся участником дорожного движения, осуществляющее какую-либо другую деятельность'],\n",
       "      dtype=object)"
      ]
     },
     "metadata": {},
     "output_type": "display_data"
    },
    {
     "data": {
      "text/plain": [
       "array(['Московская область'], dtype=object)"
      ]
     },
     "metadata": {},
     "output_type": "display_data"
    },
    {
     "data": {
      "text/plain": [
       "array([\"['Мокрое', 'Отсутствие, плохая различимость горизонтальной разметки проезжей части', 'Недостатки зимнего содержания']\",\n",
       "       \"['Сухое']\", \"['Обработанное противогололедными материалами']\",\n",
       "       \"['Обработанное противогололедными материалами', 'Недостатки зимнего содержания']\",\n",
       "       \"['Сухое', 'Неправильное применение, плохая видимость дорожных знаков']\",\n",
       "       \"['Мокрое', 'Отсутствие, плохая различимость горизонтальной разметки проезжей части']\",\n",
       "       \"['Мокрое']\",\n",
       "       \"['Сухое', 'Отсутствие, плохая различимость горизонтальной разметки проезжей части']\",\n",
       "       \"['Заснеженное']\",\n",
       "       \"['Заснеженное', 'Неудовлетворительное состояние обочин']\",\n",
       "       \"['Сужение проезжей части, наличие препятствий, затрудняющих движение транспортных средств', 'Сухое', 'Отсутствие, плохая различимость горизонтальной разметки проезжей части']\",\n",
       "       \"['Пыльное']\",\n",
       "       \"['Обработанное противогололедными материалами', 'Недостатки зимнего содержания', 'Отсутствие дорожных знаков в необходимых местах']\",\n",
       "       \"['Сухое', 'Отсутствие, плохая различимость горизонтальной разметки проезжей части', 'Неправильное применение, плохая видимость дорожных знаков']\",\n",
       "       \"['Сухое', 'Дефекты покрытия']\",\n",
       "       \"['Иные недостатки', 'Сухое', 'Неудовлетворительное состояние обочин']\",\n",
       "       \"['Мокрое', 'Отсутствие дорожных ограждений в необходимых местах']\",\n",
       "       \"['Мокрое', 'Недостатки зимнего содержания']\",\n",
       "       \"['Неисправное освещение', 'Сухое', 'Отсутствие, плохая различимость горизонтальной разметки проезжей части']\",\n",
       "       \"['Сухое', 'Отсутствие дорожных знаков в необходимых местах']\",\n",
       "       \"['Сухое', 'Неудовлетворительное состояние обочин']\",\n",
       "       \"['Со снежным накатом']\",\n",
       "       \"['Мокрое', 'Отсутствие, плохая различимость горизонтальной разметки проезжей части', 'Отсутствие дорожных знаков в необходимых местах']\",\n",
       "       \"['Мокрое', 'Отсутствие, плохая различимость горизонтальной разметки проезжей части', 'Неправильное применение, плохая видимость дорожных знаков']\",\n",
       "       \"['Сухое', 'Отсутствие, плохая различимость горизонтальной разметки проезжей части', 'Дефекты покрытия']\",\n",
       "       \"['Недостатки зимнего содержания', 'Заснеженное']\",\n",
       "       \"['Сужение проезжей части, наличие препятствий, затрудняющих движение транспортных средств', 'Мокрое']\",\n",
       "       \"['Сухое', 'Отсутствие освещения']\",\n",
       "       \"['Мокрое', 'Недостатки зимнего содержания', 'Отсутствие дорожных знаков в необходимых местах']\",\n",
       "       \"['Мокрое', 'Отсутствие, плохая различимость горизонтальной разметки проезжей части', 'Отсутствие дорожных ограждений в необходимых местах']\",\n",
       "       \"['Сухое', 'Отсутствие, плохая различимость горизонтальной разметки проезжей части', 'Отсутствие дорожных знаков в необходимых местах']\",\n",
       "       \"['Сухое', 'Отсутствие, плохая различимость горизонтальной разметки проезжей части', 'Отсутствие дорожных знаков в необходимых местах', 'Неправильное применение, плохая видимость дорожных знаков', 'Отсутствие пешеходных ограждений в необходимых местах']\",\n",
       "       \"['Сухое', 'Отсутствие, плохая различимость горизонтальной разметки проезжей части', 'Неудовлетворительное состояние обочин', 'Неправильное применение, плохая видимость дорожных знаков']\",\n",
       "       \"['Обработанное противогололедными материалами', 'Недостатки зимнего содержания', 'Отсутствие дорожных ограждений в необходимых местах']\",\n",
       "       \"['Сухое', 'Отсутствие пешеходных ограждений в необходимых местах']\",\n",
       "       \"['Сухое', 'Отсутствие, плохая различимость горизонтальной разметки проезжей части', 'Отсутствие тротуаров (пешеходных дорожек)']\",\n",
       "       \"['Иные недостатки', 'Сухое']\",\n",
       "       \"['Обработанное противогололедными материалами', 'Отсутствие дорожных знаков в необходимых местах', 'Неправильное применение, плохая видимость дорожных знаков']\",\n",
       "       \"['Мокрое', 'Отсутствие освещения']\",\n",
       "       \"['Обработанное противогололедными материалами', 'Недостатки зимнего содержания', 'Неправильное применение, плохая видимость дорожных знаков']\",\n",
       "       \"['Несоответствие железнодорожного переезда предъявляемым требованиям', 'Сухое']\",\n",
       "       \"['Сухое', 'Отсутствие тротуаров (пешеходных дорожек)']\",\n",
       "       \"['Сужение проезжей части, наличие препятствий, затрудняющих движение транспортных средств', 'Мокрое', 'Недостатки зимнего содержания', 'Неправильное применение, плохая видимость дорожных знаков']\",\n",
       "       \"['Отсутствие, плохая различимость горизонтальной разметки проезжей части', 'Обработанное противогололедными материалами']\",\n",
       "       \"['Мокрое', 'Отсутствие дорожных знаков в необходимых местах']\",\n",
       "       \"['Иные недостатки', 'Сухое', 'Отсутствие тротуаров (пешеходных дорожек)']\",\n",
       "       \"['Мокрое', 'Отсутствие, плохая различимость горизонтальной разметки проезжей части', 'Неудовлетворительное состояние обочин']\",\n",
       "       \"['Сухое', 'Отсутствие, плохая различимость горизонтальной разметки проезжей части', 'Неудовлетворительное состояние обочин']\",\n",
       "       \"['Мокрое', 'Отсутствие, плохая различимость горизонтальной разметки проезжей части', 'Недостатки зимнего содержания', 'Отсутствие дорожных знаков в необходимых местах']\",\n",
       "       \"['Недостатки зимнего содержания', 'Со снежным накатом']\",\n",
       "       \"['Сужение проезжей части, наличие препятствий, затрудняющих движение транспортных средств', 'Обработанное противогололедными материалами', 'Отсутствие дорожных знаков в необходимых местах']\",\n",
       "       \"['Мокрое', 'Отсутствие, плохая различимость горизонтальной разметки проезжей части', 'Недостаточное освещение']\",\n",
       "       \"['Неисправное освещение', 'Неисправность светофора', 'Мокрое', 'Отсутствие, плохая различимость горизонтальной разметки проезжей части']\",\n",
       "       \"['Мокрое', 'Неправильное применение, плохая видимость дорожных знаков']\",\n",
       "       \"['Сухое', 'Дефекты покрытия', 'Неудовлетворительное состояние обочин']\",\n",
       "       \"['Неисправность светофора', 'Сухое', 'Неудовлетворительное состояние обочин']\",\n",
       "       \"['Иные недостатки', 'Сухое', 'Отсутствие дорожных знаков в необходимых местах']\",\n",
       "       \"['Мокрое', 'Дефекты покрытия']\",\n",
       "       \"['Сухое', 'Отсутствие, плохая различимость горизонтальной разметки проезжей части', 'Неровное покрытие']\",\n",
       "       \"['Неисправное освещение', 'Обработанное противогололедными материалами']\",\n",
       "       \"['Мокрое', 'Отсутствие пешеходных ограждений в необходимых местах']\",\n",
       "       \"['Сухое', 'Отсутствие дорожных ограждений в необходимых местах']\",\n",
       "       \"['Мокрое', 'Неровное покрытие']\",\n",
       "       \"['Мокрое', 'Неудовлетворительное состояние обочин']\",\n",
       "       \"['Отсутствие дорожных знаков в необходимых местах', 'Заснеженное']\",\n",
       "       \"['Обработанное противогололедными материалами', 'Отсутствие тротуаров (пешеходных дорожек)']\",\n",
       "       \"['Неисправное освещение', 'Сухое']\",\n",
       "       \"['Иные недостатки', 'Обработанное противогололедными материалами']\",\n",
       "       \"['Сухое', 'Отсутствие дорожных знаков в необходимых местах', 'Неправильное применение, плохая видимость дорожных знаков']\",\n",
       "       \"['Мокрое', 'Отсутствие, плохая различимость вертикальной разметки']\",\n",
       "       \"['Сухое', 'Отсутствие освещения', 'Отсутствие тротуаров (пешеходных дорожек)']\",\n",
       "       \"['Недостатки зимнего содержания', 'Гололедица']\",\n",
       "       \"['Отсутствие, плохая различимость горизонтальной разметки проезжей части', 'Пыльное']\",\n",
       "       \"['Неисправность светофора', 'Сухое']\",\n",
       "       \"['Неисправное освещение', 'Мокрое']\",\n",
       "       \"['Неисправное освещение', 'Иные недостатки', 'Сухое', 'Отсутствие пешеходных ограждений в необходимых местах']\",\n",
       "       \"['Отсутствие элементов обустройства остановочного пункта общественного пассажирского транспорта', 'Иные недостатки', 'Отсутствие, плохая различимость горизонтальной разметки проезжей части', 'Обработанное противогололедными материалами', 'Отсутствие тротуаров (пешеходных дорожек)']\",\n",
       "       \"['Неисправное освещение', 'Неисправность светофора', 'Мокрое']\",\n",
       "       \"['Мокрое', 'Отсутствие освещения', 'Отсутствие тротуаров (пешеходных дорожек)']\",\n",
       "       \"['Сухое', 'Недостатки зимнего содержания']\",\n",
       "       \"['Мокрое', 'Дефекты покрытия', 'Отсутствие дорожных знаков в необходимых местах']\",\n",
       "       \"['Несоответствие дорожных ограждений предъявляемым требованиям', 'Сухое', 'Отсутствие дорожных знаков в необходимых местах', 'Неправильное применение, плохая видимость дорожных знаков']\",\n",
       "       \"['Несоответствие дорожных ограждений предъявляемым требованиям', 'Обработанное противогололедными материалами', 'Отсутствие дорожных знаков в необходимых местах']\",\n",
       "       \"['Сухое', 'Отсутствие дорожных знаков в необходимых местах', 'Отсутствие пешеходных ограждений в необходимых местах']\",\n",
       "       \"['Сухое', 'Отсутствие, плохая различимость горизонтальной разметки проезжей части', 'Отсутствие дорожных знаков в необходимых местах', 'Неправильное применение, плохая видимость дорожных знаков']\",\n",
       "       \"['Сухое', 'Отсутствие, плохая различимость вертикальной разметки']\",\n",
       "       \"['Неисправное освещение', 'Иные недостатки', 'Сухое', 'Отсутствие дорожных знаков в необходимых местах']\",\n",
       "       \"['Иные недостатки', 'Сухое', 'Отсутствие, плохая различимость горизонтальной разметки проезжей части']\",\n",
       "       \"['Мокрое', 'Недостаточное освещение', 'Отсутствие освещения']\",\n",
       "       \"['Сухое', 'Неправильное применение, плохая видимость дорожных знаков', 'Отсутствие, плохая различимость вертикальной разметки']\",\n",
       "       \"['Сухое', 'Неровное покрытие']\",\n",
       "       \"['Сухое', 'Отсутствие, плохая различимость горизонтальной разметки проезжей части', 'Неправильное применение, плохая видимость дорожных знаков', 'Отсутствие тротуаров (пешеходных дорожек)', 'Отсутствие дорожных ограждений в необходимых местах']\",\n",
       "       \"['Мокрое', 'Отсутствие тротуаров (пешеходных дорожек)']\",\n",
       "       \"['Мокрое', 'Отсутствие, плохая различимость горизонтальной разметки проезжей части', 'Дефекты покрытия', 'Отсутствие освещения']\",\n",
       "       \"['Мокрое', 'Отсутствие дорожных знаков в необходимых местах', 'Неправильное применение, плохая видимость дорожных знаков']\",\n",
       "       \"['Сухое', 'Отсутствие дорожных знаков в необходимых местах', 'Неудовлетворительное состояние обочин']\",\n",
       "       \"['Сухое', 'Недостаточное освещение', 'Отсутствие тротуаров (пешеходных дорожек)']\",\n",
       "       \"['Мокрое', 'Отсутствие временных ТСОД в местах проведения работ']\",\n",
       "       \"['Неисправное освещение', 'Мокрое', 'Отсутствие тротуаров (пешеходных дорожек)', 'Отсутствие дорожных ограждений в необходимых местах']\",\n",
       "       \"['Мокрое', 'Недостаточное освещение']\",\n",
       "       \"['Несоответствие дорожных ограждений предъявляемым требованиям', 'Мокрое']\",\n",
       "       \"['Сухое', 'Неудовлетворительное состояние обочин', 'Отсутствие освещения', 'Отсутствие тротуаров (пешеходных дорожек)']\",\n",
       "       \"['Иные недостатки', 'Мокрое']\",\n",
       "       \"['Неисправное освещение', 'Мокрое', 'Отсутствие, плохая различимость горизонтальной разметки проезжей части']\",\n",
       "       \"['Мокрое', 'Недостаточное освещение', 'Неправильное применение, плохая видимость дорожных знаков']\",\n",
       "       \"['Мокрое', 'Отсутствие, плохая различимость горизонтальной разметки проезжей части', 'Отсутствие тротуаров (пешеходных дорожек)']\",\n",
       "       \"['Сухое', 'Неудовлетворительное состояние обочин', 'Неправильное применение, плохая видимость дорожных знаков']\",\n",
       "       \"['Иные недостатки', 'Сухое', 'Дефекты покрытия']\",\n",
       "       \"['Иные недостатки', 'Сухое', 'Отсутствие временных ТСОД в местах проведения работ']\",\n",
       "       \"['Иные недостатки', 'Сухое', 'Отсутствие, плохая различимость горизонтальной разметки проезжей части', 'Неправильное применение, плохая видимость дорожных знаков']\",\n",
       "       \"['Неисправность светофора', 'Иные недостатки', 'Мокрое', 'Отсутствие дорожных знаков в необходимых местах']\",\n",
       "       \"['Сухое', 'Недостатки зимнего содержания', 'Неправильное применение, плохая видимость дорожных знаков']\",\n",
       "       \"['Неисправное освещение', 'Неисправность светофора', 'Сухое']\",\n",
       "       \"['Сужение проезжей части, наличие препятствий, затрудняющих движение транспортных средств', 'Мокрое', 'Отсутствие тротуаров (пешеходных дорожек)']\",\n",
       "       \"['Сухое', 'Неправильное применение, плохая видимость дорожных знаков', 'Отсутствие освещения']\",\n",
       "       \"['Сужение проезжей части, наличие препятствий, затрудняющих движение транспортных средств', 'Сухое']\",\n",
       "       \"['Иные недостатки', 'Мокрое', 'Отсутствие, плохая различимость горизонтальной разметки проезжей части', 'Отсутствие дорожных знаков в необходимых местах', 'Неудовлетворительное состояние обочин']\",\n",
       "       \"['Мокрое', 'Отсутствие, плохая различимость горизонтальной разметки проезжей части', 'Недостатки зимнего содержания', 'Неправильное применение, плохая видимость дорожных знаков']\",\n",
       "       \"['Иные недостатки', 'Сухое', 'Неправильное применение, плохая видимость дорожных знаков']\",\n",
       "       \"['Сухое', 'Отсутствие, плохая различимость горизонтальной разметки проезжей части', 'Недостаточное освещение']\",\n",
       "       \"['Сужение проезжей части, наличие препятствий, затрудняющих движение транспортных средств', 'Обработанное противогололедными материалами', 'Недостатки зимнего содержания', 'Отсутствие дорожных знаков в необходимых местах']\",\n",
       "       \"['Сужение проезжей части, наличие препятствий, затрудняющих движение транспортных средств', 'Недостатки зимнего содержания', 'Заснеженное']\",\n",
       "       \"['Иные недостатки', 'Сухое', 'Отсутствие дорожных знаков в необходимых местах', 'Неудовлетворительное состояние обочин']\",\n",
       "       \"['Сухое', 'Недостаточное освещение']\",\n",
       "       \"['Неисправное освещение', 'Сухое', 'Отсутствие, плохая различимость горизонтальной разметки проезжей части', 'Отсутствие дорожных знаков в необходимых местах']\",\n",
       "       \"['Неисправное освещение', 'Заснеженное']\",\n",
       "       \"['Сухое', 'Отсутствие, плохая различимость горизонтальной разметки проезжей части', 'Отсутствие направляющих устройств и световозвращающих элементов на них', 'Неправильное применение, плохая видимость дорожных знаков']\",\n",
       "       \"['Сужение проезжей части, наличие препятствий, затрудняющих движение транспортных средств', 'Обработанное противогололедными материалами']\",\n",
       "       \"['Мокрое', 'Отсутствие направляющих устройств и световозвращающих элементов на них']\",\n",
       "       \"['Неисправное освещение', 'Сужение проезжей части, наличие препятствий, затрудняющих движение транспортных средств', 'Сухое']\",\n",
       "       \"['Сухое', 'Отсутствие, плохая различимость горизонтальной разметки проезжей части', 'Дефекты покрытия', 'Отсутствие дорожных знаков в необходимых местах']\",\n",
       "       \"['Сухое', 'Отсутствие, плохая различимость горизонтальной разметки проезжей части', 'Дефекты покрытия', 'Неудовлетворительное состояние обочин']\",\n",
       "       \"['Иные недостатки', 'Сухое', 'Отсутствие, плохая различимость горизонтальной разметки проезжей части', 'Дефекты покрытия', 'Неправильное применение, плохая видимость дорожных знаков']\",\n",
       "       \"['Иные недостатки', 'Мокрое', 'Отсутствие, плохая различимость горизонтальной разметки проезжей части']\",\n",
       "       \"['Сухое', 'Отсутствие, плохая различимость горизонтальной разметки проезжей части', 'Отсутствие пешеходных ограждений в необходимых местах']\",\n",
       "       \"['Сухое', 'Неправильное применение, плохая видимость дорожных знаков', 'Отсутствие пешеходных ограждений в необходимых местах']\",\n",
       "       \"['Обработанное противогололедными материалами', 'Отсутствие пешеходных ограждений в необходимых местах']\",\n",
       "       \"['Сухое', 'Отсутствие дорожных знаков в необходимых местах', 'Отсутствие освещения']\",\n",
       "       \"['Сухое', 'Отсутствие, плохая различимость горизонтальной разметки проезжей части', 'Отсутствие дорожных знаков в необходимых местах', 'Неправильное применение, плохая видимость дорожных знаков', 'Отсутствие дорожных ограждений в необходимых местах']\",\n",
       "       \"['Неисправность светофора', 'Мокрое', 'Неправильное применение, плохая видимость дорожных знаков', 'Отсутствие пешеходных ограждений в необходимых местах']\",\n",
       "       \"['Сужение проезжей части, наличие препятствий, затрудняющих движение транспортных средств', 'Мокрое', 'Отсутствие дорожных знаков в необходимых местах', 'Отсутствие пешеходных ограждений в необходимых местах']\",\n",
       "       \"['Несоответствие дорожных ограждений предъявляемым требованиям', 'Сухое', 'Отсутствие дорожных знаков в необходимых местах']\",\n",
       "       \"['Недостатки зимнего содержания', 'Отсутствие дорожных знаков в необходимых местах', 'Заснеженное']\",\n",
       "       \"['Сухое', 'Отсутствие, плохая различимость горизонтальной разметки проезжей части', 'Отсутствие дорожных ограждений в необходимых местах']\",\n",
       "       \"['Отсутствие, плохая различимость горизонтальной разметки проезжей части', 'Обработанное противогололедными материалами', 'Недостатки зимнего содержания', 'Неудовлетворительное состояние обочин']\",\n",
       "       \"['Сухое', 'Отсутствие, плохая различимость горизонтальной разметки проезжей части', 'Отсутствие освещения', 'Отсутствие тротуаров (пешеходных дорожек)']\",\n",
       "       \"['Сухое', 'Отсутствие, плохая различимость горизонтальной разметки проезжей части', 'Неудовлетворительное состояние обочин', 'Отсутствие освещения']\",\n",
       "       \"['Сухое', 'Дефекты покрытия', 'Неудовлетворительное состояние обочин', 'Отсутствие освещения']\",\n",
       "       \"['Сухое', 'Дефекты покрытия', 'Отсутствие дорожных знаков в необходимых местах']\",\n",
       "       \"['Низкие сцепные качества покрытия', 'Заснеженное']\",\n",
       "       \"['Отсутствие, плохая различимость горизонтальной разметки проезжей части', 'Отсутствие дорожных знаков в необходимых местах', 'Пыльное']\",\n",
       "       \"['Отсутствие дорожных знаков в необходимых местах', 'Пыльное']\",\n",
       "       \"['Сухое', 'Отсутствие дорожных знаков в необходимых местах', 'Неправильное применение, плохая видимость дорожных знаков', 'Отсутствие пешеходных ограждений в необходимых местах']\",\n",
       "       \"['Неисправное освещение', 'Сухое', 'Отсутствие дорожных знаков в необходимых местах']\",\n",
       "       \"['Сужение проезжей части, наличие препятствий, затрудняющих движение транспортных средств', 'Обработанное противогололедными материалами', 'Недостатки зимнего содержания']\",\n",
       "       \"['Заснеженное', 'Неправильное применение, плохая видимость дорожных знаков']\",\n",
       "       \"['Сухое', 'Отсутствие, плохая различимость горизонтальной разметки проезжей части', 'Отсутствие временных ТСОД в местах проведения работ']\",\n",
       "       \"['Мокрое', 'Отсутствие, плохая различимость горизонтальной разметки проезжей части', 'Неудовлетворительное состояние обочин', 'Отсутствие освещения']\",\n",
       "       \"['Заснеженное', 'Отсутствие тротуаров (пешеходных дорожек)']\",\n",
       "       \"['Со снежным накатом', 'Неправильное применение, плохая видимость дорожных знаков']\",\n",
       "       \"['Заснеженное', 'Отсутствие пешеходных ограждений в необходимых местах']\",\n",
       "       \"['Обработанное противогололедными материалами', 'Отсутствие дорожных знаков в необходимых местах']\",\n",
       "       \"['Сужение проезжей части, наличие препятствий, затрудняющих движение транспортных средств', 'Мокрое', 'Неправильное применение, плохая видимость дорожных знаков']\",\n",
       "       \"['Сухое', 'Отсутствие временных ТСОД в местах проведения работ']\",\n",
       "       \"['Обработанное противогололедными материалами', 'Отсутствие тротуаров (пешеходных дорожек)', 'Отсутствие пешеходных ограждений в необходимых местах']\",\n",
       "       \"['Сухое', 'Нарушения в размещении наружной рекламы']\",\n",
       "       \"['Мокрое', 'Отсутствие, плохая различимость горизонтальной разметки проезжей части', 'Неудовлетворительное состояние обочин', 'Неправильное применение, плохая видимость дорожных знаков']\",\n",
       "       \"['Сухое', 'Отсутствие, плохая различимость горизонтальной разметки проезжей части', 'Отсутствие дорожных знаков в необходимых местах', 'Неудовлетворительное состояние обочин']\",\n",
       "       \"['Неисправное освещение', 'Сухое', 'Неправильное применение, плохая видимость дорожных знаков']\",\n",
       "       \"['Сухое', 'Отсутствие дорожных знаков в необходимых местах', 'Неправильное применение, плохая видимость дорожных знаков', 'Отсутствие тротуаров (пешеходных дорожек)']\",\n",
       "       \"['Сужение проезжей части, наличие препятствий, затрудняющих движение транспортных средств', 'Мокрое', 'Отсутствие дорожных знаков в необходимых местах']\",\n",
       "       \"['Обработанное противогололедными материалами', 'Неудовлетворительное состояние обочин']\",\n",
       "       \"['Обработанное противогололедными материалами', 'Неровное покрытие']\",\n",
       "       \"['Свежеуложенная поверхностная обработка']\",\n",
       "       \"['Обработанное противогололедными материалами', 'Недостатки зимнего содержания', 'Отсутствие дорожных знаков в необходимых местах', 'Неправильное применение, плохая видимость дорожных знаков']\",\n",
       "       \"['Недостатки зимнего содержания', 'Недостаточное освещение', 'Заснеженное']\",\n",
       "       \"['Отсутствие, плохая различимость горизонтальной разметки проезжей части', 'Обработанное противогололедными материалами', 'Неправильное применение, плохая видимость дорожных знаков']\",\n",
       "       \"['Неудовлетворительное состояние разделительной полосы', 'Сухое']\",\n",
       "       \"['Сухое', 'Отсутствие, плохая различимость горизонтальной разметки проезжей части', 'Неправильное применение, плохая видимость дорожных знаков', 'Отсутствие пешеходных ограждений в необходимых местах']\",\n",
       "       \"['Отсутствие, плохая различимость горизонтальной разметки проезжей части', 'Обработанное противогололедными материалами', 'Недостатки зимнего содержания']\",\n",
       "       \"['Мокрое', 'Отсутствие, плохая различимость горизонтальной разметки проезжей части', 'Отсутствие пешеходных ограждений в необходимых местах']\",\n",
       "       \"['Отсутствие элементов обустройства остановочного пункта общественного пассажирского транспорта', 'Сухое', 'Отсутствие, плохая различимость горизонтальной разметки проезжей части']\",\n",
       "       \"['Мокрое', 'Отсутствие дорожных знаков в необходимых местах', 'Отсутствие пешеходных ограждений в необходимых местах']\",\n",
       "       \"['Сухое', 'Отсутствие, плохая различимость горизонтальной разметки проезжей части', 'Отсутствие дорожных знаков в необходимых местах', 'Отсутствие, плохая различимость вертикальной разметки']\",\n",
       "       \"['Мокрое', 'Отсутствие, плохая различимость горизонтальной разметки проезжей части', 'Отсутствие дорожных знаков в необходимых местах', 'Неправильное применение, плохая видимость дорожных знаков']\",\n",
       "       \"['Недостатки зимнего содержания', 'Заснеженное', 'Неправильное применение, плохая видимость дорожных знаков']\",\n",
       "       \"['Неисправность светофора', 'Сухое', 'Отсутствие, плохая различимость горизонтальной разметки проезжей части']\",\n",
       "       \"['Загрязненное']\",\n",
       "       \"['Мокрое', 'Недостаточное освещение', 'Отсутствие дорожных знаков в необходимых местах']\",\n",
       "       \"['Отсутствие, плохая различимость горизонтальной разметки проезжей части', 'Со снежным накатом']\",\n",
       "       \"['Сухое', 'Отсутствие дорожных знаков в необходимых местах', 'Неправильное применение, плохая видимость дорожных знаков', 'Отсутствие, плохая различимость вертикальной разметки']\",\n",
       "       \"['Мокрое', 'Отсутствие тротуаров (пешеходных дорожек)', 'Отсутствие, плохая различимость вертикальной разметки']\",\n",
       "       \"['Неисправное освещение', 'Обработанное противогололедными материалами', 'Неправильное применение, плохая видимость дорожных знаков']\",\n",
       "       \"['Мокрое', 'Недостатки зимнего содержания', 'Отсутствие пешеходных ограждений в необходимых местах']\",\n",
       "       \"['Недостатки зимнего содержания', 'Свежеуложенная поверхностная обработка']\",\n",
       "       \"['Сужение проезжей части, наличие препятствий, затрудняющих движение транспортных средств', 'Отсутствие, плохая различимость горизонтальной разметки проезжей части', 'Обработанное противогололедными материалами', 'Недостатки зимнего содержания', 'Отсутствие дорожных знаков в необходимых местах']\",\n",
       "       \"['Иные недостатки', 'Недостатки зимнего содержания', 'Заснеженное', 'Отсутствие тротуаров (пешеходных дорожек)']\",\n",
       "       \"['Обработанное противогололедными материалами', 'Недостатки зимнего содержания', 'Отсутствие пешеходных ограждений в необходимых местах']\",\n",
       "       \"['Обработанное противогололедными материалами', 'Отсутствие освещения']\",\n",
       "       \"['Обработанное противогололедными материалами', 'Неудовлетворительное состояние обочин', 'Отсутствие освещения']\",\n",
       "       \"['Мокрое', 'Недостатки зимнего содержания', 'Отсутствие освещения']\",\n",
       "       \"['Обработанное противогололедными материалами', 'Недостатки зимнего содержания', 'Отсутствие дорожных знаков в необходимых местах', 'Отсутствие пешеходных ограждений в необходимых местах']\",\n",
       "       \"['Иные недостатки', 'Заснеженное']\",\n",
       "       \"['Обработанное противогололедными материалами', 'Недостатки зимнего содержания', 'Отсутствие дорожных знаков в необходимых местах', 'Неправильное применение, плохая видимость дорожных знаков', 'Отсутствие пешеходных ограждений в необходимых местах']\",\n",
       "       \"['Обработанное противогололедными материалами', 'Отсутствие временных ТСОД в местах проведения работ']\",\n",
       "       \"['Отсутствие, плохая различимость горизонтальной разметки проезжей части', 'Заснеженное']\",\n",
       "       \"['Иные недостатки', 'Обработанное противогололедными материалами', 'Недостатки зимнего содержания']\",\n",
       "       \"['Недостатки зимнего содержания', 'Со снежным накатом', 'Отсутствие тротуаров (пешеходных дорожек)']\",\n",
       "       \"['Недостатки зимнего содержания', 'Загрязненное']\",\n",
       "       \"['Мокрое', 'Отсутствие, плохая различимость горизонтальной разметки проезжей части', 'Отсутствие тротуаров (пешеходных дорожек)', 'Отсутствие дорожных ограждений в необходимых местах']\",\n",
       "       \"['Несоответствие железнодорожного переезда предъявляемым требованиям', 'Сухое', 'Отсутствие, плохая различимость горизонтальной разметки проезжей части', 'Неправильное применение, плохая видимость дорожных знаков']\",\n",
       "       \"['Мокрое', 'Отсутствие дорожных знаков в необходимых местах', 'Отсутствие освещения']\",\n",
       "       \"['Обработанное противогололедными материалами', 'Отсутствие дорожных ограждений в необходимых местах']\",\n",
       "       \"['Отсутствие, плохая различимость горизонтальной разметки проезжей части', 'Свежеуложенная поверхностная обработка']\",\n",
       "       \"['Сухое', 'Отсутствие, плохая различимость горизонтальной разметки проезжей части', 'Дефекты покрытия', 'Неудовлетворительное состояние обочин', 'Ограничение видимости']\",\n",
       "       \"['Обработанное противогололедными материалами', 'Неправильное применение, плохая видимость дорожных знаков']\",\n",
       "       \"['Сухое', 'Отсутствие, плохая различимость горизонтальной разметки проезжей части', 'Отсутствие дорожных знаков в необходимых местах', 'Отсутствие тротуаров (пешеходных дорожек)']\",\n",
       "       \"['Недостатки зимнего содержания', 'Заснеженное', 'Отсутствие тротуаров (пешеходных дорожек)']\",\n",
       "       \"['Отсутствие дорожных знаков в необходимых местах', 'Заснеженное', 'Отсутствие освещения']\",\n",
       "       \"['Неудовлетворительное состояние разделительной полосы', 'Сухое', 'Отсутствие дорожных знаков в необходимых местах', 'Неправильное применение, плохая видимость дорожных знаков']\",\n",
       "       \"['Мокрое', 'Неудовлетворительное состояние обочин', 'Отсутствие тротуаров (пешеходных дорожек)']\",\n",
       "       \"['Сухое', 'Отсутствие, плохая различимость горизонтальной разметки проезжей части', 'Отсутствие освещения']\",\n",
       "       \"['Неисправность светофора', 'Обработанное противогололедными материалами']\",\n",
       "       \"['Неисправность светофора', 'Мокрое']\",\n",
       "       \"['Сухое', 'Отсутствие, плохая различимость горизонтальной разметки проезжей части', 'Неудовлетворительное состояние обочин', 'Отсутствие дорожных ограждений в необходимых местах']\",\n",
       "       \"['Обработанное противогололедными материалами', 'Недостатки зимнего содержания', 'Неудовлетворительное состояние обочин']\",\n",
       "       \"['Плохая видимость световозвращателей, размещенных на дорожных ограждениях', 'Сухое', 'Отсутствие дорожных знаков в необходимых местах']\",\n",
       "       \"['Несоответствие дорожных ограждений предъявляемым требованиям', 'Сухое', 'Отсутствие, плохая различимость горизонтальной разметки проезжей части']\",\n",
       "       \"['Неисправное освещение', 'Мокрое', 'Дефекты покрытия']\",\n",
       "       \"['Неисправное освещение', 'Отсутствие, плохая различимость горизонтальной разметки проезжей части', 'Отсутствие дорожных знаков в необходимых местах', 'Заснеженное']\",\n",
       "       \"['Недостатки зимнего содержания', 'Отсутствие дорожных знаков в необходимых местах', 'Заснеженное', 'Неправильное применение, плохая видимость дорожных знаков']\",\n",
       "       \"['Несоответствие люков смотровых колодцев и ливневой канализации предъявляемым требованиям', 'Обработанное противогололедными материалами', 'Недостатки зимнего содержания']\",\n",
       "       \"['Иные недостатки', 'Сухое', 'Недостатки зимнего содержания']\",\n",
       "       \"['Неисправное освещение', 'Недостатки зимнего содержания', 'Заснеженное']\",\n",
       "       \"['Недостатки зимнего содержания', 'Заснеженное', 'Отсутствие освещения']\",\n",
       "       \"['Отсутствие дорожных знаков в необходимых местах', 'Заснеженное', 'Неудовлетворительное состояние обочин']\",\n",
       "       \"['Неисправное освещение', 'Сухое', 'Недостатки зимнего содержания', 'Отсутствие дорожных знаков в необходимых местах']\",\n",
       "       \"['Неисправное освещение', 'Несоответствие дорожных ограждений предъявляемым требованиям', 'Мокрое', 'Отсутствие, плохая различимость горизонтальной разметки проезжей части', 'Отсутствие дорожных знаков в необходимых местах']\",\n",
       "       \"['Неисправное освещение', 'Мокрое', 'Недостатки зимнего содержания', 'Дефекты покрытия']\",\n",
       "       \"['Обработанное противогололедными материалами', 'Неправильное применение, плохая видимость дорожных знаков', 'Отсутствие пешеходных ограждений в необходимых местах']\",\n",
       "       \"['Обработанное противогололедными материалами', 'Отсутствие дорожных знаков в необходимых местах', 'Неудовлетворительное состояние обочин']\",\n",
       "       \"['Обработанное противогололедными материалами', 'Недостатки зимнего содержания', 'Отсутствие освещения']\",\n",
       "       \"['Сужение проезжей части, наличие препятствий, затрудняющих движение транспортных средств', 'Сухое', 'Недостатки зимнего содержания']\",\n",
       "       \"['Мокрое', 'Отсутствие, плохая различимость горизонтальной разметки проезжей части', 'Отсутствие дорожных знаков в необходимых местах', 'Неудовлетворительное состояние обочин']\",\n",
       "       \"['Несоответствие дорожных ограждений предъявляемым требованиям', 'Сухое', 'Отсутствие, плохая различимость горизонтальной разметки проезжей части', 'Отсутствие освещения']\",\n",
       "       \"['Отсутствие элементов обустройства остановочного пункта общественного пассажирского транспорта', 'Сухое', 'Отсутствие дорожных знаков в необходимых местах']\",\n",
       "       \"['Несоответствие дорожных ограждений предъявляемым требованиям', 'Пыльное']\",\n",
       "       \"['Сухое', 'Дефекты покрытия', 'Неправильное применение, плохая видимость дорожных знаков']\",\n",
       "       \"['Обработанное противогололедными материалами', 'Недостатки зимнего содержания', 'Неправильное применение, плохая видимость дорожных знаков', 'Отсутствие освещения']\",\n",
       "       \"['Неисправное освещение', 'Сухое', 'Отсутствие, плохая различимость горизонтальной разметки проезжей части', 'Дефекты покрытия']\",\n",
       "       \"['Сухое', 'Отсутствие, плохая различимость горизонтальной разметки проезжей части', 'Отсутствие дорожных знаков в необходимых местах', 'Отсутствие пешеходных ограждений в необходимых местах']\",\n",
       "       \"['Сухое', 'Недостаточное освещение', 'Отсутствие дорожных знаков в необходимых местах']\",\n",
       "       \"['Сухое', 'Отсутствие, плохая различимость горизонтальной разметки проезжей части', 'Неправильное применение, плохая видимость дорожных знаков', 'Отсутствие тротуаров (пешеходных дорожек)']\",\n",
       "       \"['Сухое', 'Недостатки зимнего содержания', 'Отсутствие дорожных знаков в необходимых местах']\",\n",
       "       \"['Отсутствие, плохая различимость горизонтальной разметки проезжей части', 'Недостатки зимнего содержания', 'Гололедица']\",\n",
       "       \"['Недостатки зимнего содержания', 'Заснеженное', 'Отсутствие временных ТСОД в местах проведения работ']\",\n",
       "       \"['Неисправное освещение', 'Недостатки зимнего содержания', 'Со снежным накатом']\",\n",
       "       \"['Отсутствие, плохая различимость горизонтальной разметки проезжей части', 'Обработанное противогололедными материалами', 'Отсутствие пешеходных ограждений в необходимых местах']\",\n",
       "       \"['Недостатки зимнего содержания', 'Заснеженное', 'Отсутствие пешеходных ограждений в необходимых местах']\",\n",
       "       \"['Несоответствие железнодорожного переезда предъявляемым требованиям', 'Заснеженное']\",\n",
       "       \"['Иные недостатки', 'Недостатки зимнего содержания', 'Загрязненное']\",\n",
       "       \"['Гололедица']\",\n",
       "       \"['Мокрое', 'Недостатки зимнего содержания', 'Неправильное применение, плохая видимость дорожных знаков']\",\n",
       "       \"['Несоответствие дорожных ограждений предъявляемым требованиям', 'Сухое']\",\n",
       "       \"['Иные недостатки', 'Сухое', 'Отсутствие, плохая различимость горизонтальной разметки проезжей части', 'Отсутствие тротуаров (пешеходных дорожек)']\",\n",
       "       \"['Отсутствие, плохая различимость горизонтальной разметки проезжей части', 'Обработанное противогололедными материалами', 'Неудовлетворительное состояние обочин']\",\n",
       "       \"['Несоответствие железнодорожного переезда предъявляемым требованиям', 'Сухое', 'Отсутствие, плохая различимость горизонтальной разметки проезжей части', 'Отсутствие направляющих устройств и световозвращающих элементов на них', 'Неправильное применение, плохая видимость дорожных знаков']\",\n",
       "       \"['Сухое', 'Отсутствие, плохая различимость горизонтальной разметки проезжей части', 'Недостатки зимнего содержания']\",\n",
       "       \"['Иные недостатки', 'Сухое', 'Отсутствие, плохая различимость горизонтальной разметки проезжей части', 'Отсутствие дорожных знаков в необходимых местах']\",\n",
       "       \"['Иные недостатки', 'Сухое', 'Отсутствие пешеходных ограждений в необходимых местах']\",\n",
       "       \"['Мокрое', 'Неправильное применение, плохая видимость дорожных знаков', 'Отсутствие дорожных ограждений в необходимых местах']\",\n",
       "       \"['Отсутствие, плохая различимость горизонтальной разметки проезжей части', 'Обработанное противогололедными материалами', 'Отсутствие освещения']\",\n",
       "       \"['Сухое', 'Отсутствие, плохая различимость горизонтальной разметки проезжей части', 'Неудовлетворительное состояние обочин', 'Отсутствие освещения', 'Отсутствие тротуаров (пешеходных дорожек)']\",\n",
       "       \"['Несоответствие дорожных ограждений предъявляемым требованиям', 'Плохая видимость световозвращателей, размещенных на дорожных ограждениях', 'Иные недостатки', 'Сухое']\",\n",
       "       \"['Плохая видимость светофора', 'Сухое']\",\n",
       "       \"['Несоответствие дорожных ограждений предъявляемым требованиям', 'Мокрое', 'Отсутствие дорожных ограждений в необходимых местах']\",\n",
       "       \"['Сухое', 'Неудовлетворительное состояние обочин', 'Отсутствие освещения']\",\n",
       "       \"['Сухое', 'Неправильное применение, плохая видимость дорожных знаков', 'Отсутствие временных ТСОД в местах проведения работ']\",\n",
       "       \"['Сухое', 'Неудовлетворительное состояние обочин', 'Отсутствие дорожных ограждений в необходимых местах']\",\n",
       "       \"['Сухое', 'Отсутствие, плохая различимость горизонтальной разметки проезжей части', 'Отсутствие дорожных знаков в необходимых местах', 'Отсутствие освещения', 'Отсутствие тротуаров (пешеходных дорожек)']\",\n",
       "       \"['Иные недостатки', 'Сухое', 'Отсутствие дорожных знаков в необходимых местах', 'Неправильное применение, плохая видимость дорожных знаков']\",\n",
       "       \"['Сухое', 'Неудовлетворительное состояние обочин', 'Отсутствие тротуаров (пешеходных дорожек)']\",\n",
       "       \"['Неисправное освещение', 'Мокрое', 'Отсутствие дорожных знаков в необходимых местах']\",\n",
       "       \"['Мокрое', 'Отсутствие дорожных знаков в необходимых местах', 'Отсутствие дорожных ограждений в необходимых местах']\",\n",
       "       \"['Заснеженное', 'Отсутствие освещения']\",\n",
       "       \"['Неисправное освещение', 'Иные недостатки', 'Сухое']\",\n",
       "       \"['Сухое', 'Отсутствие, плохая различимость горизонтальной разметки проезжей части', 'Недостатки зимнего содержания', 'Отсутствие дорожных знаков в необходимых местах']\",\n",
       "       \"['Неисправное освещение', 'Обработанное противогололедными материалами', 'Недостатки зимнего содержания']\",\n",
       "       \"['Мокрое', 'Недостатки зимнего содержания', 'Отсутствие дорожных знаков в необходимых местах', 'Отсутствие пешеходных ограждений в необходимых местах']\",\n",
       "       \"['Мокрое', 'Недостатки зимнего содержания', 'Отсутствие тротуаров (пешеходных дорожек)']\",\n",
       "       \"['Иные недостатки', 'Мокрое', 'Недостатки зимнего содержания', 'Отсутствие освещения', 'Отсутствие тротуаров (пешеходных дорожек)']\",\n",
       "       \"['Мокрое', 'Отсутствие, плохая различимость горизонтальной разметки проезжей части', 'Недостатки зимнего содержания', 'Отсутствие дорожных знаков в необходимых местах', 'Неправильное применение, плохая видимость дорожных знаков']\",\n",
       "       \"['Неисправность светофора', 'Мокрое', 'Недостатки зимнего содержания']\",\n",
       "       \"['Отсутствие элементов обустройства остановочного пункта общественного пассажирского транспорта', 'Сухое']\",\n",
       "       \"['Плохая видимость светофора', 'Сухое', 'Отсутствие, плохая различимость горизонтальной разметки проезжей части']\",\n",
       "       \"['Отсутствие элементов обустройства остановочного пункта общественного пассажирского транспорта', 'Иные недостатки', 'Сухое']\",\n",
       "       \"['Несоответствие дорожных ограждений предъявляемым требованиям', 'Сухое', 'Отсутствие, плохая различимость горизонтальной разметки проезжей части', 'Неправильное применение, плохая видимость дорожных знаков']\",\n",
       "       \"['Несоответствие дорожных ограждений предъявляемым требованиям', 'Сухое', 'Отсутствие, плохая различимость горизонтальной разметки проезжей части', 'Неудовлетворительное состояние обочин']\",\n",
       "       \"['Иные недостатки', 'Мокрое', 'Отсутствие дорожных знаков в необходимых местах']\",\n",
       "       \"['Неудовлетворительное состояние обочин', 'Пыльное']\",\n",
       "       \"['Неисправность светофора', 'Отсутствие, плохая различимость горизонтальной разметки проезжей части', 'Обработанное противогололедными материалами']\",\n",
       "       \"['Несоответствие железнодорожного переезда предъявляемым требованиям', 'Сухое', 'Отсутствие, плохая различимость горизонтальной разметки проезжей части', 'Отсутствие дорожных знаков в необходимых местах']\",\n",
       "       \"['Обработанное противогололедными материалами', 'Дефекты покрытия', 'Неудовлетворительное состояние обочин']\",\n",
       "       \"['Сухое', 'Недостатки зимнего содержания', 'Отсутствие дорожных ограждений в необходимых местах']\",\n",
       "       \"['Неисправность светофора', 'Обработанное противогололедными материалами', 'Недостатки зимнего содержания', 'Отсутствие дорожных знаков в необходимых местах']\",\n",
       "       \"['Отсутствие, плохая различимость горизонтальной разметки проезжей части', 'Отсутствие дорожных знаков в необходимых местах', 'Заснеженное']\",\n",
       "       \"['Мокрое', 'Недостатки зимнего содержания', 'Отсутствие дорожных ограждений в необходимых местах']\",\n",
       "       \"['Отсутствие, плохая различимость горизонтальной разметки проезжей части', 'Обработанное противогололедными материалами', 'Отсутствие дорожных знаков в необходимых местах']\",\n",
       "       \"['Сухое', 'Отсутствие, плохая различимость горизонтальной разметки проезжей части', 'Недостатки зимнего содержания', 'Отсутствие дорожных знаков в необходимых местах', 'Отсутствие пешеходных ограждений в необходимых местах']\",\n",
       "       \"['Неисправное освещение', 'Отсутствие, плохая различимость горизонтальной разметки проезжей части', 'Обработанное противогололедными материалами']\",\n",
       "       \"['Неисправное освещение', 'Сухое', 'Отсутствие пешеходных ограждений в необходимых местах']\",\n",
       "       \"['Неисправность светофора', 'Обработанное противогололедными материалами', 'Недостатки зимнего содержания', 'Неправильное применение, плохая видимость дорожных знаков']\",\n",
       "       \"['Мокрое', 'Недостатки зимнего содержания', 'Отсутствие временных ТСОД в местах проведения работ']\",\n",
       "       \"['Неисправное освещение', 'Мокрое', 'Отсутствие дорожных знаков в необходимых местах', 'Неправильное применение, плохая видимость дорожных знаков']\",\n",
       "       \"['Мокрое', 'Отсутствие, плохая различимость горизонтальной разметки проезжей части', 'Отсутствие дорожных знаков в необходимых местах', 'Отсутствие освещения']\",\n",
       "       \"['Сухое', 'Отсутствие дорожных знаков в необходимых местах', 'Отсутствие тротуаров (пешеходных дорожек)']\",\n",
       "       \"['Мокрое', 'Неудовлетворительное состояние обочин', 'Неровное покрытие']\",\n",
       "       \"['Иные недостатки', 'Мокрое', 'Отсутствие, плохая различимость горизонтальной разметки проезжей части', 'Отсутствие дорожных знаков в необходимых местах']\",\n",
       "       \"['Мокрое', 'Отсутствие, плохая различимость горизонтальной разметки проезжей части', 'Неудовлетворительное состояние обочин', 'Отсутствие тротуаров (пешеходных дорожек)']\",\n",
       "       \"['Сухое', 'Дефекты покрытия', 'Отсутствие дорожных знаков в необходимых местах', 'Отсутствие освещения']\",\n",
       "       \"['Мокрое', 'Отсутствие, плохая различимость горизонтальной разметки проезжей части', 'Отсутствие дорожных знаков в необходимых местах', 'Отсутствие дорожных ограждений в необходимых местах']\",\n",
       "       \"['Мокрое', 'Недостатки зимнего содержания', 'Отсутствие дорожных знаков в необходимых местах', 'Неправильное применение, плохая видимость дорожных знаков']\",\n",
       "       \"['Сухое', 'Недостатки зимнего содержания', 'Неровное покрытие']\",\n",
       "       \"['Иные недостатки', 'Обработанное противогололедными материалами', 'Недостатки зимнего содержания', 'Отсутствие временных ТСОД в местах проведения работ']\",\n",
       "       \"['Заснеженное', 'Отсутствие освещения', 'Отсутствие тротуаров (пешеходных дорожек)']\",\n",
       "       \"['Сухое', 'Недостатки зимнего содержания', 'Отсутствие освещения', 'Отсутствие тротуаров (пешеходных дорожек)']\",\n",
       "       \"['Недостатки зимнего содержания', 'Заснеженное', 'Неудовлетворительное состояние обочин']\",\n",
       "       \"['Сухое', 'Отсутствие дорожных знаков в необходимых местах', 'Неудовлетворительное состояние обочин', 'Отсутствие освещения', 'Отсутствие тротуаров (пешеходных дорожек)']\",\n",
       "       \"['Сухое', 'Отсутствие, плохая различимость горизонтальной разметки проезжей части', 'Дефекты покрытия', 'Неправильное применение, плохая видимость дорожных знаков']\",\n",
       "       \"['Сухое', 'Отсутствие, плохая различимость горизонтальной разметки проезжей части', 'Отсутствие дорожных знаков в необходимых местах', 'Неудовлетворительное состояние обочин', 'Отсутствие тротуаров (пешеходных дорожек)']\",\n",
       "       \"['Сухое', 'Отсутствие дорожных знаков в необходимых местах', 'Отсутствие направляющих устройств и световозвращающих элементов на них', 'Отсутствие освещения']\",\n",
       "       \"['Мокрое', 'Отсутствие дорожных знаков в необходимых местах', 'Отсутствие тротуаров (пешеходных дорожек)']\",\n",
       "       \"['Сухое', 'Отсутствие, плохая различимость горизонтальной разметки проезжей части', 'Отсутствие дорожных знаков в необходимых местах', 'Отсутствие дорожных ограждений в необходимых местах']\",\n",
       "       \"['Сухое', 'Отсутствие дорожных знаков в необходимых местах', 'Отсутствие, плохая различимость вертикальной разметки']\",\n",
       "       \"['Обработанное противогололедными материалами', 'Недостатки зимнего содержания', 'Отсутствие дорожных знаков в необходимых местах', 'Отсутствие освещения']\",\n",
       "       \"['Мокрое', 'Дефекты покрытия', 'Отсутствие дорожных знаков в необходимых местах', 'Неудовлетворительное состояние обочин']\",\n",
       "       \"['Сухое', 'Отсутствие, плохая различимость горизонтальной разметки проезжей части', 'Неудовлетворительное состояние обочин', 'Отсутствие тротуаров (пешеходных дорожек)']\",\n",
       "       \"['Сухое', 'Отсутствие, плохая различимость горизонтальной разметки проезжей части', 'Отсутствие, плохая различимость вертикальной разметки']\",\n",
       "       \"['Иные недостатки', 'Мокрое', 'Отсутствие освещения']\",\n",
       "       \"['Отсутствие элементов обустройства остановочного пункта общественного пассажирского транспорта', 'Мокрое', 'Отсутствие освещения']\",\n",
       "       \"['Неисправное освещение', 'Несоответствие дорожных ограждений предъявляемым требованиям', 'Сухое']\",\n",
       "       \"['Сухое', 'Отсутствие тротуаров (пешеходных дорожек)', 'Отсутствие дорожных ограждений в необходимых местах']\",\n",
       "       \"['Дефекты покрытия', 'Пыльное']\",\n",
       "       \"['Неудовлетворительное состояние разделительной полосы', 'Мокрое', 'Неудовлетворительное состояние обочин']\",\n",
       "       \"['Мокрое', 'Отсутствие, плохая различимость горизонтальной разметки проезжей части', 'Дефекты покрытия', 'Неправильное применение, плохая видимость дорожных знаков', 'Отсутствие дорожных ограждений в необходимых местах']\",\n",
       "       \"['Сухое', 'Неправильное применение, плохая видимость дорожных знаков', 'Отсутствие дорожных ограждений в необходимых местах']\",\n",
       "       \"['Отсутствие, плохая различимость горизонтальной разметки проезжей части', 'Неудовлетворительное состояние обочин', 'Пыльное']\",\n",
       "       \"['Неисправность светофора', 'Мокрое', 'Отсутствие, плохая различимость горизонтальной разметки проезжей части', 'Отсутствие дорожных знаков в необходимых местах', 'Неудовлетворительное состояние обочин']\",\n",
       "       \"['Сужение проезжей части, наличие препятствий, затрудняющих движение транспортных средств', 'Мокрое', 'Отсутствие, плохая различимость горизонтальной разметки проезжей части']\",\n",
       "       \"['Сухое', 'Отсутствие, плохая различимость горизонтальной разметки проезжей части', 'Отсутствие дорожных знаков в необходимых местах', 'Неправильное применение, плохая видимость дорожных знаков', 'Ограничение видимости']\",\n",
       "       \"['Мокрое', 'Нарушения в размещении наружной рекламы']\",\n",
       "       \"['Неисправное освещение', 'Иные недостатки', 'Сухое', 'Отсутствие дорожных знаков в необходимых местах', 'Отсутствие дорожных ограждений в необходимых местах']\",\n",
       "       \"['Сужение проезжей части, наличие препятствий, затрудняющих движение транспортных средств', 'Сухое', 'Дефекты покрытия']\",\n",
       "       \"['Иные недостатки', 'Сухое', 'Отсутствие временных ТСОД в местах проведения работ', 'Отсутствие пешеходных ограждений в необходимых местах']\",\n",
       "       \"['Мокрое', 'Дефекты покрытия', 'Неправильное применение, плохая видимость дорожных знаков', 'Неровное покрытие', 'Отсутствие пешеходных ограждений в необходимых местах']\",\n",
       "       \"['Сухое', 'Отсутствие, плохая различимость горизонтальной разметки проезжей части', 'Отсутствие дорожных знаков в необходимых местах', 'Неудовлетворительное состояние обочин', 'Отсутствие освещения']\",\n",
       "       \"['Мокрое', 'Отсутствие дорожных знаков в необходимых местах', 'Отсутствие освещения', 'Отсутствие тротуаров (пешеходных дорожек)']\",\n",
       "       \"['Несоответствие дорожных ограждений предъявляемым требованиям', 'Мокрое', 'Отсутствие, плохая различимость горизонтальной разметки проезжей части']\",\n",
       "       \"['Сухое', 'Недостаточное освещение', 'Дефекты покрытия']\",\n",
       "       \"['Сухое', 'Отсутствие дорожных знаков в необходимых местах', 'Нарушения в размещении наружной рекламы', 'Отсутствие пешеходных ограждений в необходимых местах']\",\n",
       "       \"['Сужение проезжей части, наличие препятствий, затрудняющих движение транспортных средств', 'Заснеженное']\",\n",
       "       \"['Иные недостатки', 'Сухое', 'Недостаточное освещение']\",\n",
       "       \"['Иные недостатки', 'Сухое', 'Отсутствие, плохая различимость горизонтальной разметки проезжей части', 'Неправильное применение, плохая видимость дорожных знаков', 'Отсутствие освещения']\",\n",
       "       \"['Мокрое', 'Отсутствие, плохая различимость горизонтальной разметки проезжей части', 'Отсутствие освещения']\",\n",
       "       \"['Несоответствие дорожных ограждений предъявляемым требованиям', 'Сухое', 'Отсутствие, плохая различимость горизонтальной разметки проезжей части', 'Отсутствие дорожных знаков в необходимых местах']\",\n",
       "       \"['Сухое', 'Отсутствие дорожных знаков в необходимых местах', 'Отсутствие освещения', 'Отсутствие тротуаров (пешеходных дорожек)']\",\n",
       "       \"['Неисправность светофора', 'Сухое', 'Неправильное применение, плохая видимость дорожных знаков']\",\n",
       "       \"['Сухое', 'Недостаточное освещение', 'Отсутствие, плохая различимость вертикальной разметки']\",\n",
       "       \"['Сухое', 'Отсутствие дорожных знаков в необходимых местах', 'Неправильное применение, плохая видимость дорожных знаков', 'Отсутствие освещения', 'Отсутствие тротуаров (пешеходных дорожек)']\",\n",
       "       \"['Мокрое', 'Отсутствие, плохая различимость горизонтальной разметки проезжей части', 'Неудовлетворительное состояние обочин', 'Неправильное применение, плохая видимость дорожных знаков', 'Отсутствие тротуаров (пешеходных дорожек)']\",\n",
       "       \"['Мокрое', 'Неправильное применение, плохая видимость дорожных знаков', 'Отсутствие пешеходных ограждений в необходимых местах']\",\n",
       "       \"['Неудовлетворительное состояние разделительной полосы', 'Недостатки зимнего содержания', 'Со снежным накатом']\",\n",
       "       \"['Обработанное противогололедными материалами', 'Недостатки зимнего содержания', 'Дефекты покрытия']\",\n",
       "       \"['Плохая видимость светофора', 'Иные недостатки', 'Сухое', 'Отсутствие дорожных знаков в необходимых местах', 'Отсутствие пешеходных ограждений в необходимых местах']\",\n",
       "       \"['Сухое', 'Отсутствие, плохая различимость горизонтальной разметки проезжей части', 'Недостатки зимнего содержания', 'Отсутствие дорожных знаков в необходимых местах', 'Неправильное применение, плохая видимость дорожных знаков']\",\n",
       "       \"['Иные недостатки', 'Сухое', 'Отсутствие, плохая различимость горизонтальной разметки проезжей части', 'Отсутствие временных ТСОД в местах проведения работ']\",\n",
       "       \"['Мокрое', 'Отсутствие, плохая различимость горизонтальной разметки проезжей части', 'Недостатки зимнего содержания', 'Отсутствие дорожных знаков в необходимых местах', 'Отсутствие пешеходных ограждений в необходимых местах']\",\n",
       "       \"['Сухое', 'Недостатки зимнего содержания', 'Неудовлетворительное состояние обочин']\",\n",
       "       \"['Сухое', 'Недостатки зимнего содержания', 'Неправильное применение, плохая видимость дорожных знаков', 'Отсутствие дорожных ограждений в необходимых местах']\",\n",
       "       \"['Мокрое', 'Отсутствие, плохая различимость горизонтальной разметки проезжей части', 'Дефекты покрытия', 'Отсутствие дорожных знаков в необходимых местах']\",\n",
       "       \"['Неисправность светофора', 'Заснеженное']\",\n",
       "       \"['Отсутствие, плохая различимость горизонтальной разметки проезжей части', 'Обработанное противогололедными материалами', 'Неровное покрытие']\",\n",
       "       \"['Мокрое', 'Отсутствие, плохая различимость горизонтальной разметки проезжей части', 'Недостатки зимнего содержания', 'Отсутствие освещения']\",\n",
       "       \"['Иные недостатки', 'Обработанное противогололедными материалами', 'Отсутствие дорожных знаков в необходимых местах']\",\n",
       "       \"['Неисправность светофора', 'Сухое', 'Отсутствие, плохая различимость горизонтальной разметки проезжей части', 'Неправильное применение, плохая видимость дорожных знаков']\",\n",
       "       \"['Неисправное освещение', 'Сухое', 'Неровное покрытие']\",\n",
       "       \"['Отсутствие, плохая различимость горизонтальной разметки проезжей части', 'Недостатки зимнего содержания', 'Дефекты покрытия', 'Гололедица']\",\n",
       "       \"['Обработанное противогололедными материалами', 'Недостатки зимнего содержания', 'Дефекты покрытия', 'Отсутствие дорожных знаков в необходимых местах']\",\n",
       "       \"['Отсутствие элементов обустройства остановочного пункта общественного пассажирского транспорта', 'Иные недостатки', 'Сухое', 'Отсутствие, плохая различимость горизонтальной разметки проезжей части', 'Отсутствие пешеходных ограждений в необходимых местах']\",\n",
       "       \"['Сухое', 'Отсутствие, плохая различимость горизонтальной разметки проезжей части', 'Недостатки зимнего содержания', 'Неправильное применение, плохая видимость дорожных знаков']\",\n",
       "       \"['Мокрое', 'Неудовлетворительное состояние обочин', 'Отсутствие дорожных ограждений в необходимых местах']\",\n",
       "       \"['Несоответствие дорожных ограждений предъявляемым требованиям', 'Сухое', 'Неудовлетворительное состояние обочин']\",\n",
       "       \"['Сухое', 'Отсутствие, плохая различимость горизонтальной разметки проезжей части', 'Отсутствие дорожных знаков в необходимых местах', 'Неправильное применение, плохая видимость дорожных знаков', 'Отсутствие тротуаров (пешеходных дорожек)']\",\n",
       "       \"['Сухое', 'Отсутствие, плохая различимость горизонтальной разметки проезжей части', 'Дефекты покрытия', 'Отсутствие дорожных знаков в необходимых местах', 'Неудовлетворительное состояние обочин']\",\n",
       "       \"['Сухое', 'Неправильное применение, плохая видимость дорожных знаков', 'Отсутствие тротуаров (пешеходных дорожек)']\",\n",
       "       \"['Мокрое', 'Отсутствие, плохая различимость горизонтальной разметки проезжей части', 'Неправильное применение, плохая видимость дорожных знаков', 'Отсутствие пешеходных ограждений в необходимых местах']\",\n",
       "       \"['Сухое', 'Отсутствие, плохая различимость горизонтальной разметки проезжей части', 'Недостаточное освещение', 'Отсутствие дорожных знаков в необходимых местах']\",\n",
       "       \"['Обработанное противогололедными материалами', 'Недостатки зимнего содержания', 'Отсутствие тротуаров (пешеходных дорожек)']\",\n",
       "       \"['Мокрое', 'Отсутствие, плохая различимость горизонтальной разметки проезжей части', 'Отсутствие освещения', 'Отсутствие тротуаров (пешеходных дорожек)']\",\n",
       "       \"['Несоответствие дорожных ограждений предъявляемым требованиям', 'Сухое', 'Отсутствие дорожных знаков в необходимых местах', 'Неудовлетворительное состояние обочин']\",\n",
       "       \"['Сухое', 'Неудовлетворительное состояние обочин', 'Отсутствие направляющих устройств и световозвращающих элементов на них']\",\n",
       "       \"['Сужение проезжей части, наличие препятствий, затрудняющих движение транспортных средств', 'Недостатки зимнего содержания', 'Гололедица', 'Неудовлетворительное состояние обочин']\",\n",
       "       \"['Обработанное противогололедными материалами', 'Отсутствие направляющих устройств и световозвращающих элементов на них']\",\n",
       "       \"['Недостатки зимнего содержания', 'Отсутствие дорожных знаков в необходимых местах', 'Свежеуложенная поверхностная обработка']\",\n",
       "       \"['Иные недостатки', 'Мокрое', 'Отсутствие пешеходных ограждений в необходимых местах']\",\n",
       "       \"['Мокрое', 'Недостаточное освещение', 'Отсутствие тротуаров (пешеходных дорожек)']\",\n",
       "       \"['Несоответствие люков смотровых колодцев и ливневой канализации предъявляемым требованиям', 'Мокрое', 'Отсутствие временных ТСОД в местах проведения работ']\",\n",
       "       \"['Недостатки зимнего содержания', 'Отсутствие дорожных знаков в необходимых местах', 'Гололедица', 'Неудовлетворительное состояние обочин']\",\n",
       "       \"['Мокрое', 'Отсутствие дорожных знаков в необходимых местах', 'Неправильное применение, плохая видимость дорожных знаков', 'Отсутствие пешеходных ограждений в необходимых местах']\",\n",
       "       \"['Иные недостатки', 'Мокрое', 'Отсутствие дорожных знаков в необходимых местах', 'Неправильное применение, плохая видимость дорожных знаков', 'Отсутствие пешеходных ограждений в необходимых местах']\",\n",
       "       \"['Недостатки зимнего содержания', 'Отсутствие дорожных знаков в необходимых местах', 'Заснеженное', 'Неудовлетворительное состояние обочин']\",\n",
       "       \"['Отсутствие, плохая различимость горизонтальной разметки проезжей части', 'Заснеженное', 'Неудовлетворительное состояние обочин']\",\n",
       "       \"['Обработанное противогололедными материалами', 'Недостатки зимнего содержания', 'Отсутствие дорожных знаков в необходимых местах', 'Неправильное применение, плохая видимость дорожных знаков', 'Отсутствие дорожных ограждений в необходимых местах']\",\n",
       "       \"['Сужение проезжей части, наличие препятствий, затрудняющих движение транспортных средств', 'Сухое', 'Отсутствие временных ТСОД в местах проведения работ']\",\n",
       "       \"['Мокрое', 'Дефекты покрытия', 'Неудовлетворительное состояние обочин']\",\n",
       "       \"['Неисправное освещение', 'Иные недостатки', 'Мокрое']\",\n",
       "       \"['Сужение проезжей части, наличие препятствий, затрудняющих движение транспортных средств', 'Обработанное противогололедными материалами', 'Отсутствие дорожных знаков в необходимых местах', 'Неудовлетворительное состояние обочин']\",\n",
       "       \"['Неисправное освещение', 'Мокрое', 'Недостатки зимнего содержания']\",\n",
       "       \"['Неисправное освещение', 'Обработанное противогололедными материалами', 'Неудовлетворительное состояние обочин']\",\n",
       "       \"['Мокрое', 'Отсутствие, плохая различимость горизонтальной разметки проезжей части', 'Неровное покрытие']\",\n",
       "       \"['Иные недостатки', 'Мокрое', 'Отсутствие временных ТСОД в местах проведения работ']\",\n",
       "       \"['Неисправность светофора', 'Иные недостатки', 'Сухое']\",\n",
       "       \"['Отсутствие элементов обустройства остановочного пункта общественного пассажирского транспорта', 'Мокрое']\",\n",
       "       \"['Мокрое', 'Неправильное применение, плохая видимость дорожных знаков', 'Отсутствие освещения', 'Отсутствие тротуаров (пешеходных дорожек)']\",\n",
       "       \"['Сухое', 'Отсутствие дорожных знаков в необходимых местах', 'Отсутствие временных ТСОД в местах проведения работ']\",\n",
       "       \"['Неисправное освещение', 'Сухое', 'Дефекты покрытия']\",\n",
       "       \"['Недостатки зимнего содержания', 'Заснеженное', 'Неровное покрытие']\",\n",
       "       \"['Неисправность светофора', 'Сухое', 'Отсутствие, плохая различимость горизонтальной разметки проезжей части', 'Отсутствие тротуаров (пешеходных дорожек)']\",\n",
       "       \"['Иные недостатки', 'Сухое', 'Неудовлетворительное состояние обочин', 'Отсутствие освещения']\",\n",
       "       \"['Мокрое', 'Отсутствие, плохая различимость горизонтальной разметки проезжей части', 'Дефекты покрытия']\",\n",
       "       \"['Сухое', 'Отсутствие, плохая различимость горизонтальной разметки проезжей части', 'Недостаточное освещение', 'Неудовлетворительное состояние обочин']\",\n",
       "       \"['Неисправное освещение', 'Мокрое', 'Неудовлетворительное состояние обочин']\",\n",
       "       \"['Неисправность светофора', 'Иные недостатки', 'Отсутствие, плохая различимость горизонтальной разметки проезжей части', 'Обработанное противогололедными материалами', 'Отсутствие дорожных знаков в необходимых местах']\",\n",
       "       \"['Неисправное освещение', 'Мокрое', 'Неправильное применение, плохая видимость дорожных знаков']\",\n",
       "       \"['Сухое', 'Отсутствие дорожных знаков в необходимых местах', 'Неудовлетворительное состояние обочин', 'Неправильное применение, плохая видимость дорожных знаков']\",\n",
       "       \"['Мокрое', 'Отсутствие дорожных знаков в необходимых местах', 'Неудовлетворительное состояние обочин', 'Неправильное применение, плохая видимость дорожных знаков']\",\n",
       "       \"['Неисправное освещение', 'Сухое', 'Отсутствие, плохая различимость горизонтальной разметки проезжей части', 'Неудовлетворительное состояние обочин', 'Неровное покрытие']\",\n",
       "       \"['Сухое', 'Ограничение видимости']\",\n",
       "       \"['Отсутствие, плохая различимость горизонтальной разметки проезжей части', 'Обработанное противогололедными материалами', 'Недостатки зимнего содержания', 'Отсутствие дорожных знаков в необходимых местах']\",\n",
       "       \"['Отсутствие, плохая различимость горизонтальной разметки проезжей части', 'Недостатки зимнего содержания', 'Со снежным накатом', 'Отсутствие освещения']\",\n",
       "       \"['Иные недостатки', 'Сухое', 'Отсутствие освещения']\",\n",
       "       \"['Сухое', 'Отсутствие, плохая различимость горизонтальной разметки проезжей части', 'Дефекты покрытия', 'Отсутствие тротуаров (пешеходных дорожек)']\",\n",
       "       \"['Неисправное освещение', 'Сухое', 'Отсутствие, плохая различимость горизонтальной разметки проезжей части', 'Отсутствие дорожных знаков в необходимых местах', 'Отсутствие дорожных ограждений в необходимых местах']\",\n",
       "       \"['Несоответствие дорожных ограждений предъявляемым требованиям', 'Иные недостатки', 'Сухое']\",\n",
       "       \"['Сухое', 'Отсутствие дорожных знаков в необходимых местах', 'Неровное покрытие']\",\n",
       "       \"['Несоответствие дорожных ограждений предъявляемым требованиям', 'Неудовлетворительное состояние разделительной полосы', 'Мокрое', 'Отсутствие, плохая различимость горизонтальной разметки проезжей части']\",\n",
       "       \"['Сухое', 'Отсутствие, плохая различимость горизонтальной разметки проезжей части', 'Отсутствие дорожных знаков в необходимых местах', 'Нарушения в размещении наружной рекламы']\",\n",
       "       \"['Несоответствие дорожных ограждений предъявляемым требованиям', 'Сухое', 'Неправильное применение, плохая видимость дорожных знаков']\",\n",
       "       \"['Иные недостатки', 'Сухое', 'Отсутствие, плохая различимость горизонтальной разметки проезжей части', 'Отсутствие дорожных знаков в необходимых местах', 'Неровное покрытие']\",\n",
       "       \"['Сухое', 'Отсутствие, плохая различимость горизонтальной разметки проезжей части', 'Дефекты покрытия', 'Отсутствие дорожных знаков в необходимых местах', 'Отсутствие тротуаров (пешеходных дорожек)']\",\n",
       "       \"['Мокрое', 'Отсутствие, плохая различимость горизонтальной разметки проезжей части', 'Недостатки зимнего содержания', 'Дефекты покрытия', 'Отсутствие дорожных знаков в необходимых местах']\",\n",
       "       \"['Плохая видимость светофора', 'Сухое', 'Неправильное применение, плохая видимость дорожных знаков']\",\n",
       "       \"['Неисправность светофора', 'Сухое', 'Отсутствие дорожных ограждений в необходимых местах']\",\n",
       "       \"['Сухое', 'Нарушения в размещении наружной рекламы', 'Неправильное применение, плохая видимость дорожных знаков']\",\n",
       "       \"['Отсутствие, плохая различимость горизонтальной разметки проезжей части', 'Обработанное противогололедными материалами', 'Недостатки зимнего содержания', 'Неудовлетворительное состояние обочин', 'Отсутствие тротуаров (пешеходных дорожек)']\",\n",
       "       \"['Иные недостатки', 'Сухое', 'Отсутствие, плохая различимость горизонтальной разметки проезжей части', 'Отсутствие пешеходных ограждений в необходимых местах']\",\n",
       "       \"['Сужение проезжей части, наличие препятствий, затрудняющих движение транспортных средств', 'Сухое', 'Неудовлетворительное состояние обочин']\",\n",
       "       \"['Несоответствие дорожных ограждений предъявляемым требованиям', 'Сухое', 'Отсутствие дорожных ограждений в необходимых местах']\",\n",
       "       \"['Неисправность светофора', 'Иные недостатки', 'Обработанное противогололедными материалами', 'Отсутствие дорожных знаков в необходимых местах']\",\n",
       "       \"['Иные недостатки', 'Мокрое', 'Неудовлетворительное состояние обочин', 'Отсутствие тротуаров (пешеходных дорожек)']\",\n",
       "       \"['Мокрое', 'Отсутствие, плохая различимость горизонтальной разметки проезжей части', 'Отсутствие временных ТСОД в местах проведения работ']\",\n",
       "       \"['Иные недостатки', 'Сухое', 'Отсутствие дорожных знаков в необходимых местах', 'Неправильное применение, плохая видимость дорожных знаков', 'Отсутствие освещения']\",\n",
       "       \"['Мокрое', 'Отсутствие, плохая различимость горизонтальной разметки проезжей части', 'Дефекты покрытия', 'Неудовлетворительное состояние обочин']\",\n",
       "       \"['Сухое', 'Неправильное применение, плохая видимость дорожных знаков', 'Ограничение видимости']\",\n",
       "       \"['Мокрое', 'Отсутствие, плохая различимость горизонтальной разметки проезжей части', 'Отсутствие дорожных знаков в необходимых местах', 'Неправильное применение, плохая видимость дорожных знаков', 'Отсутствие дорожных ограждений в необходимых местах']\",\n",
       "       \"['Неисправное освещение', 'Обработанное противогололедными материалами', 'Недостатки зимнего содержания', 'Неправильное применение, плохая видимость дорожных знаков']\",\n",
       "       \"['Обработанное противогололедными материалами', 'Недостатки зимнего содержания', 'Отсутствие дорожных знаков в необходимых местах', 'Отсутствие тротуаров (пешеходных дорожек)']\",\n",
       "       \"['Обработанное противогололедными материалами', 'Недостатки зимнего содержания', 'Отсутствие освещения', 'Отсутствие тротуаров (пешеходных дорожек)']\",\n",
       "       \"['Несоответствие дорожных ограждений предъявляемым требованиям', 'Обработанное противогололедными материалами', 'Недостатки зимнего содержания']\",\n",
       "       \"['Обработанное противогололедными материалами', 'Недостатки зимнего содержания', 'Неровное покрытие']\",\n",
       "       \"['Иные недостатки', 'Недостатки зимнего содержания', 'Со снежным накатом', 'Отсутствие дорожных знаков в необходимых местах', 'Неправильное применение, плохая видимость дорожных знаков']\",\n",
       "       \"['Обработанное противогололедными материалами', 'Недостатки зимнего содержания', 'Отсутствие дорожных знаков в необходимых местах', 'Неудовлетворительное состояние обочин', 'Отсутствие тротуаров (пешеходных дорожек)']\",\n",
       "       \"['Недостатки зимнего содержания', 'Отсутствие дорожных знаков в необходимых местах', 'Заснеженное', 'Отсутствие освещения']\",\n",
       "       \"['Сухое', 'Отсутствие, плохая различимость горизонтальной разметки проезжей части', 'Недостатки зимнего содержания', 'Отсутствие освещения']\",\n",
       "       \"['Заснеженное', 'Отсутствие дорожных ограждений в необходимых местах']\",\n",
       "       \"['Недостатки зимнего содержания', 'Заснеженное', 'Отсутствие освещения', 'Отсутствие тротуаров (пешеходных дорожек)']\",\n",
       "       \"['Обработанное противогололедными материалами', 'Отсутствие дорожных знаков в необходимых местах', 'Отсутствие тротуаров (пешеходных дорожек)']\",\n",
       "       \"['Недостатки зимнего содержания', 'Заснеженное', 'Отсутствие тротуаров (пешеходных дорожек)', 'Отсутствие пешеходных ограждений в необходимых местах']\",\n",
       "       \"['Мокрое', 'Отсутствие, плохая различимость горизонтальной разметки проезжей части', 'Дефекты покрытия', 'Неправильное применение, плохая видимость дорожных знаков']\",\n",
       "       \"['Мокрое', 'Неправильное применение, плохая видимость дорожных знаков', 'Отсутствие, плохая различимость вертикальной разметки']\",\n",
       "       \"['Неисправность светофора', 'Мокрое', 'Отсутствие пешеходных ограждений в необходимых местах']\",\n",
       "       \"['Несоответствие дорожных ограждений предъявляемым требованиям', 'Мокрое', 'Отсутствие, плохая различимость горизонтальной разметки проезжей части', 'Неудовлетворительное состояние обочин']\",\n",
       "       \"['Плохая видимость световозвращателей, размещенных на дорожных ограждениях', 'Сухое', 'Отсутствие, плохая различимость горизонтальной разметки проезжей части']\",\n",
       "       \"['Несоответствие люков смотровых колодцев и ливневой канализации предъявляемым требованиям', 'Мокрое']\",\n",
       "       \"['Иные недостатки', 'Сухое', 'Отсутствие дорожных знаков в необходимых местах', 'Отсутствие тротуаров (пешеходных дорожек)']\",\n",
       "       \"['Неудовлетворительное состояние обочин', 'Загрязненное']\",\n",
       "       \"['Мокрое', 'Отсутствие дорожных знаков в необходимых местах', 'Неудовлетворительное состояние обочин']\",\n",
       "       \"['Сухое', 'Дефекты покрытия', 'Отсутствие дорожных ограждений в необходимых местах']\",\n",
       "       \"['Несоответствие люков смотровых колодцев и ливневой канализации предъявляемым требованиям', 'Сухое', 'Неправильное применение, плохая видимость дорожных знаков']\",\n",
       "       \"['Мокрое', 'Отсутствие, плохая различимость горизонтальной разметки проезжей части', 'Отсутствие дорожных знаков в необходимых местах', 'Отсутствие направляющих устройств и световозвращающих элементов на них', 'Неправильное применение, плохая видимость дорожных знаков']\",\n",
       "       \"['Сухое', 'Недостаточное освещение', 'Отсутствие пешеходных ограждений в необходимых местах']\",\n",
       "       \"['Несоответствие дорожных ограждений предъявляемым требованиям', 'Мокрое', 'Недостатки зимнего содержания']\",\n",
       "       \"['Сужение проезжей части, наличие препятствий, затрудняющих движение транспортных средств', 'Недостатки зимнего содержания', 'Со снежным накатом']\",\n",
       "       \"['Отсутствие элементов обустройства остановочного пункта общественного пассажирского транспорта', 'Мокрое', 'Отсутствие освещения', 'Отсутствие тротуаров (пешеходных дорожек)']\",\n",
       "       \"['Сужение проезжей части, наличие препятствий, затрудняющих движение транспортных средств', 'Недостатки зимнего содержания', 'Заснеженное', 'Неправильное применение, плохая видимость дорожных знаков']\",\n",
       "       \"['Сухое', 'Недостатки зимнего содержания', 'Дефекты покрытия']\",\n",
       "       \"['Неправильное применение, плохая видимость дорожных знаков', 'Пыльное']\",\n",
       "       \"['Мокрое', 'Дефекты покрытия', 'Неровное покрытие']\",\n",
       "       \"['Плохая видимость световозвращателей, размещенных на дорожных ограждениях', 'Сухое', 'Неудовлетворительное состояние обочин']\",\n",
       "       \"['Сухое', 'Отсутствие направляющих устройств и световозвращающих элементов на них']\",\n",
       "       \"['Недостатки зимнего содержания', 'Со снежным накатом', 'Неудовлетворительное состояние обочин']\",\n",
       "       \"['Неисправность светофора', 'Мокрое', 'Отсутствие, плохая различимость горизонтальной разметки проезжей части', 'Недостатки зимнего содержания']\",\n",
       "       \"['Мокрое', 'Недостатки зимнего содержания', 'Отсутствие освещения', 'Отсутствие тротуаров (пешеходных дорожек)']\",\n",
       "       \"['Неисправность светофора', 'Обработанное противогололедными материалами', 'Недостатки зимнего содержания']\",\n",
       "       \"['Иные недостатки', 'Сухое', 'Отсутствие, плохая различимость горизонтальной разметки проезжей части', 'Неудовлетворительное состояние обочин']\",\n",
       "       \"['Мокрое', 'Отсутствие дорожных знаков в необходимых местах', 'Отсутствие временных ТСОД в местах проведения работ']\",\n",
       "       \"['Иные недостатки', 'Мокрое', 'Отсутствие, плохая различимость горизонтальной разметки проезжей части', 'Дефекты покрытия', 'Отсутствие тротуаров (пешеходных дорожек)']\",\n",
       "       \"['Сухое', 'Отсутствие, плохая различимость горизонтальной разметки проезжей части', 'Дефекты покрытия', 'Неправильное применение, плохая видимость дорожных знаков', 'Отсутствие освещения']\",\n",
       "       \"['Сухое', 'Отсутствие, плохая различимость горизонтальной разметки проезжей части', 'Недостатки зимнего содержания', 'Дефекты покрытия', 'Отсутствие дорожных знаков в необходимых местах']\",\n",
       "       \"['Иные недостатки', 'Мокрое', 'Отсутствие, плохая различимость горизонтальной разметки проезжей части', 'Дефекты покрытия']\",\n",
       "       \"['Мокрое', 'Отсутствие, плохая различимость горизонтальной разметки проезжей части', 'Недостатки зимнего содержания', 'Дефекты покрытия']\",\n",
       "       \"['Несоответствие дорожных ограждений предъявляемым требованиям', 'Сухое', 'Отсутствие тротуаров (пешеходных дорожек)']\",\n",
       "       \"['Сухое', 'Отсутствие дорожных знаков в необходимых местах', 'Отсутствие дорожных ограждений в необходимых местах']\",\n",
       "       \"['Обработанное противогололедными материалами', 'Отсутствие дорожных знаков в необходимых местах', 'Отсутствие освещения']\",\n",
       "       \"['Иные недостатки', 'Сухое', 'Неудовлетворительное состояние обочин', 'Отсутствие тротуаров (пешеходных дорожек)']\",\n",
       "       \"['Иные недостатки', 'Мокрое', 'Отсутствие, плохая различимость горизонтальной разметки проезжей части', 'Отсутствие освещения', 'Отсутствие тротуаров (пешеходных дорожек)']\",\n",
       "       \"['Мокрое', 'Отсутствие, плохая различимость горизонтальной разметки проезжей части', 'Недостатки зимнего содержания', 'Отсутствие пешеходных ограждений в необходимых местах']\",\n",
       "       \"['Сухое', 'Дефекты покрытия', 'Отсутствие дорожных знаков в необходимых местах', 'Неудовлетворительное состояние обочин']\",\n",
       "       \"['Мокрое', 'Неудовлетворительное состояние обочин', 'Отсутствие освещения']\",\n",
       "       \"['Обработанное противогололедными материалами', 'Недостатки зимнего содержания', 'Отсутствие временных ТСОД в местах проведения работ']\",\n",
       "       \"['Иные недостатки', 'Мокрое', 'Отсутствие тротуаров (пешеходных дорожек)']\",\n",
       "       \"['Неисправное освещение', 'Неисправность светофора', 'Неудовлетворительное состояние обочин', 'Загрязненное']\",\n",
       "       \"['Мокрое', 'Недостаточное освещение', 'Отсутствие пешеходных ограждений в необходимых местах']\",\n",
       "       \"['Сухое', 'Отсутствие, плохая различимость горизонтальной разметки проезжей части', 'Нарушения в размещении наружной рекламы']\",\n",
       "       \"['Неисправное освещение', 'Сухое', 'Отсутствие дорожных знаков в необходимых местах', 'Отсутствие дорожных ограждений в необходимых местах']\",\n",
       "       \"['Сухое', 'Отсутствие, плохая различимость горизонтальной разметки проезжей части', 'Нарушения в размещении наружной рекламы', 'Неудовлетворительное состояние обочин']\",\n",
       "       \"['Сухое', 'Отсутствие, плохая различимость горизонтальной разметки проезжей части', 'Неправильное применение, плохая видимость дорожных знаков', 'Отсутствие освещения']\",\n",
       "       \"['Сухое', 'Отсутствие, плохая различимость горизонтальной разметки проезжей части', 'Дефекты покрытия', 'Отсутствие освещения']\",\n",
       "       \"['Сухое', 'Отсутствие, плохая различимость горизонтальной разметки проезжей части', 'Нарушения в размещении наружной рекламы', 'Неправильное применение, плохая видимость дорожных знаков', 'Отсутствие пешеходных ограждений в необходимых местах']\",\n",
       "       \"['Сухое', 'Отсутствие дорожных знаков в необходимых местах', 'Нарушения в размещении наружной рекламы']\",\n",
       "       \"['Сужение проезжей части, наличие препятствий, затрудняющих движение транспортных средств', 'Отсутствие, плохая различимость горизонтальной разметки проезжей части', 'Обработанное противогололедными материалами', 'Отсутствие дорожных знаков в необходимых местах', 'Неправильное применение, плохая видимость дорожных знаков']\",\n",
       "       \"['Обработанное противогололедными материалами', 'Неудовлетворительное состояние обочин', 'Отсутствие освещения', 'Отсутствие тротуаров (пешеходных дорожек)']\",\n",
       "       \"['Сужение проезжей части, наличие препятствий, затрудняющих движение транспортных средств', 'Недостатки зимнего содержания', 'Заснеженное', 'Неудовлетворительное состояние обочин']\",\n",
       "       \"['Недостатки зимнего содержания', 'Пыльное']\",\n",
       "       \"['Отсутствие, плохая различимость горизонтальной разметки проезжей части', 'Обработанное противогололедными материалами', 'Неудовлетворительное состояние обочин', 'Отсутствие дорожных ограждений в необходимых местах']\",\n",
       "       \"['Недостатки зимнего содержания', 'Заснеженное', 'Отсутствие дорожных ограждений в необходимых местах']\",\n",
       "       \"['Сужение проезжей части, наличие препятствий, затрудняющих движение транспортных средств', 'Отсутствие, плохая различимость горизонтальной разметки проезжей части', 'Обработанное противогололедными материалами']\",\n",
       "       \"['Сужение проезжей части, наличие препятствий, затрудняющих движение транспортных средств', 'Свежеуложенная поверхностная обработка']\",\n",
       "       \"['Сухое', 'Отсутствие дорожных знаков в необходимых местах', 'Неправильное применение, плохая видимость дорожных знаков', 'Отсутствие освещения']\",\n",
       "       \"['Сухое', 'Отсутствие дорожных знаков в необходимых местах', 'Отсутствие направляющих устройств и световозвращающих элементов на них']\",\n",
       "       \"['Неисправность светофора', 'Мокрое', 'Отсутствие дорожных знаков в необходимых местах']\",\n",
       "       \"['Сухое', 'Отсутствие, плохая различимость горизонтальной разметки проезжей части', 'Отсутствие, плохая различимость вертикальной разметки', 'Отсутствие дорожных ограждений в необходимых местах']\",\n",
       "       \"['Мокрое', 'Отсутствие, плохая различимость горизонтальной разметки проезжей части', 'Отсутствие дорожных ограждений в необходимых местах', 'Отсутствие пешеходных ограждений в необходимых местах']\",\n",
       "       \"['Неисправность светофора', 'Мокрое', 'Отсутствие, плохая различимость горизонтальной разметки проезжей части']\",\n",
       "       \"['Отсутствие, плохая различимость горизонтальной разметки проезжей части', 'Загрязненное']\",\n",
       "       \"['Мокрое', 'Неудовлетворительное состояние обочин', 'Неправильное применение, плохая видимость дорожных знаков', 'Отсутствие дорожных ограждений в необходимых местах']\",\n",
       "       \"['Неисправное освещение', 'Мокрое', 'Отсутствие тротуаров (пешеходных дорожек)']\",\n",
       "       \"['Недостатки зимнего содержания', 'Отсутствие дорожных знаков в необходимых местах', 'Заснеженное', 'Отсутствие дорожных ограждений в необходимых местах']\",\n",
       "       \"['Отсутствие элементов обустройства остановочного пункта общественного пассажирского транспорта', 'Мокрое', 'Отсутствие, плохая различимость горизонтальной разметки проезжей части']\",\n",
       "       \"['Неисправность светофора', 'Сухое', 'Отсутствие, плохая различимость горизонтальной разметки проезжей части', 'Отсутствие пешеходных ограждений в необходимых местах']\",\n",
       "       \"['Неисправное освещение', 'Сухое', 'Отсутствие, плохая различимость горизонтальной разметки проезжей части', 'Неправильное применение, плохая видимость дорожных знаков']\",\n",
       "       \"['Отсутствие, плохая различимость горизонтальной разметки проезжей части', 'Обработанное противогололедными материалами', 'Отсутствие дорожных знаков в необходимых местах', 'Неправильное применение, плохая видимость дорожных знаков']\",\n",
       "       \"['Неисправное освещение', 'Сухое', 'Отсутствие дорожных знаков в необходимых местах', 'Неправильное применение, плохая видимость дорожных знаков']\",\n",
       "       \"['Свежеуложенная поверхностная обработка', 'Отсутствие дорожных ограждений в необходимых местах']\",\n",
       "       \"['Неисправное освещение', 'Мокрое', 'Дефекты покрытия', 'Неправильное применение, плохая видимость дорожных знаков']\",\n",
       "       \"['Дефекты покрытия', 'Заснеженное']\",\n",
       "       \"['Обработанное противогололедными материалами', 'Неудовлетворительное состояние обочин', 'Отсутствие дорожных ограждений в необходимых местах']\",\n",
       "       \"['Сужение проезжей части, наличие препятствий, затрудняющих движение транспортных средств', 'Сухое', 'Неправильное применение, плохая видимость дорожных знаков']\",\n",
       "       \"['Несоответствие люков смотровых колодцев и ливневой канализации предъявляемым требованиям', 'Сухое']\",\n",
       "       \"['Обработанное противогололедными материалами', 'Отсутствие, плохая различимость вертикальной разметки']\",\n",
       "       \"['Отсутствие, плохая различимость горизонтальной разметки проезжей части', 'Недостатки зимнего содержания', 'Заснеженное']\",\n",
       "       \"['Сухое', 'Отсутствие, плохая различимость горизонтальной разметки проезжей части', 'Отсутствие направляющих устройств и световозвращающих элементов на них']\",\n",
       "       \"['Сужение проезжей части, наличие препятствий, затрудняющих движение транспортных средств', 'Мокрое', 'Отсутствие, плохая различимость горизонтальной разметки проезжей части', 'Недостатки зимнего содержания']\",\n",
       "       \"['Мокрое', 'Недостатки зимнего содержания', 'Отсутствие дорожных знаков в необходимых местах', 'Неправильное применение, плохая видимость дорожных знаков', 'Отсутствие дорожных ограждений в необходимых местах']\",\n",
       "       \"['Сужение проезжей части, наличие препятствий, затрудняющих движение транспортных средств', 'Отсутствие, плохая различимость горизонтальной разметки проезжей части', 'Обработанное противогололедными материалами', 'Недостатки зимнего содержания']\",\n",
       "       \"['Неудовлетворительное состояние разделительной полосы', 'Сухое', 'Отсутствие, плохая различимость горизонтальной разметки проезжей части']\",\n",
       "       \"['Сухое', 'Отсутствие, плохая различимость горизонтальной разметки проезжей части', 'Отсутствие дорожных знаков в необходимых местах', 'Отсутствие временных ТСОД в местах проведения работ']\",\n",
       "       \"['Отсутствие, плохая различимость горизонтальной разметки проезжей части', 'Неправильное применение, плохая видимость дорожных знаков', 'Пыльное']\",\n",
       "       \"['Пыльное', 'Отсутствие тротуаров (пешеходных дорожек)']\",\n",
       "       \"['Сухое', 'Неудовлетворительное состояние обочин', 'Отсутствие направляющих устройств и световозвращающих элементов на них', 'Ограничение видимости']\",\n",
       "       \"['Мокрое', 'Нарушения в размещении наружной рекламы', 'Неудовлетворительное состояние обочин']\",\n",
       "       \"['Отсутствие, плохая различимость горизонтальной разметки проезжей части', 'Недостатки зимнего содержания', 'Заснеженное', 'Неправильное применение, плохая видимость дорожных знаков']\",\n",
       "       \"['Мокрое', 'Отсутствие, плохая различимость горизонтальной разметки проезжей части', 'Неудовлетворительное состояние обочин', 'Неровное покрытие']\",\n",
       "       \"['Обработанное противогололедными материалами', 'Отсутствие освещения', 'Отсутствие тротуаров (пешеходных дорожек)']\",\n",
       "       \"['Мокрое', 'Отсутствие, плохая различимость горизонтальной разметки проезжей части', 'Нарушения в размещении наружной рекламы', 'Неправильное применение, плохая видимость дорожных знаков']\",\n",
       "       \"['Мокрое', 'Низкие сцепные качества покрытия']\",\n",
       "       \"['Сужение проезжей части, наличие препятствий, затрудняющих движение транспортных средств', 'Мокрое', 'Отсутствие, плохая различимость горизонтальной разметки проезжей части', 'Отсутствие дорожных знаков в необходимых местах']\",\n",
       "       \"['Несоответствие дорожных ограждений предъявляемым требованиям', 'Сухое', 'Отсутствие, плохая различимость горизонтальной разметки проезжей части', 'Неправильное применение, плохая видимость дорожных знаков', 'Отсутствие пешеходных ограждений в необходимых местах']\",\n",
       "       \"['Обработанное противогололедными материалами', 'Неправильное применение, плохая видимость дорожных знаков', 'Отсутствие освещения', 'Отсутствие тротуаров (пешеходных дорожек)', 'Отсутствие, плохая различимость вертикальной разметки']\",\n",
       "       \"['Сужение проезжей части, наличие препятствий, затрудняющих движение транспортных средств', 'Отсутствие, плохая различимость горизонтальной разметки проезжей части', 'Обработанное противогололедными материалами', 'Недостатки зимнего содержания', 'Неправильное применение, плохая видимость дорожных знаков']\",\n",
       "       \"['Неисправность светофора', 'Мокрое', 'Отсутствие, плохая различимость горизонтальной разметки проезжей части', 'Отсутствие дорожных знаков в необходимых местах']\",\n",
       "       \"['Отсутствие элементов обустройства остановочного пункта общественного пассажирского транспорта', 'Сухое', 'Отсутствие освещения']\",\n",
       "       \"['Обработанное противогололедными материалами', 'Недостаточное освещение']\",\n",
       "       \"['Со снежным накатом', 'Отсутствие дорожных знаков в необходимых местах']\",\n",
       "       \"['Сужение проезжей части, наличие препятствий, затрудняющих движение транспортных средств', 'Недостатки зимнего содержания', 'Заснеженное', 'Отсутствие тротуаров (пешеходных дорожек)']\",\n",
       "       \"['Сухое', 'Отсутствие, плохая различимость горизонтальной разметки проезжей части', 'Дефекты покрытия', 'Неправильное применение, плохая видимость дорожных знаков', 'Отсутствие пешеходных ограждений в необходимых местах']\",\n",
       "       \"['Мокрое', 'Отсутствие, плохая различимость горизонтальной разметки проезжей части', 'Недостатки зимнего содержания', 'Отсутствие тротуаров (пешеходных дорожек)']\",\n",
       "       \"['Недостатки зимнего содержания', 'Гололедица', 'Неудовлетворительное состояние обочин']\",\n",
       "       \"['Сухое', 'Недостатки зимнего содержания', 'Отсутствие освещения']\",\n",
       "       \"['Отсутствие, плохая различимость горизонтальной разметки проезжей части', 'Заснеженное', 'Отсутствие пешеходных ограждений в необходимых местах']\",\n",
       "       \"['Сужение проезжей части, наличие препятствий, затрудняющих движение транспортных средств', 'Несоответствие железнодорожного переезда предъявляемым требованиям', 'Мокрое', 'Дефекты покрытия']\",\n",
       "       \"['Сужение проезжей части, наличие препятствий, затрудняющих движение транспортных средств', 'Мокрое', 'Отсутствие, плохая различимость горизонтальной разметки проезжей части', 'Нарушения в размещении наружной рекламы']\",\n",
       "       \"['Несоответствие дорожных ограждений предъявляемым требованиям', 'Обработанное противогололедными материалами', 'Неправильное применение, плохая видимость дорожных знаков']\",\n",
       "       \"['Сухое', 'Неудовлетворительное состояние обочин', 'Отсутствие временных ТСОД в местах проведения работ']\",\n",
       "       \"['Мокрое', 'Дефекты покрытия', 'Неправильное применение, плохая видимость дорожных знаков']\",\n",
       "       \"['Мокрое', 'Отсутствие, плохая различимость горизонтальной разметки проезжей части', 'Отсутствие тротуаров (пешеходных дорожек)', 'Отсутствие пешеходных ограждений в необходимых местах']\",\n",
       "       \"['Сухое', 'Отсутствие, плохая различимость горизонтальной разметки проезжей части', 'Отсутствие дорожных знаков в необходимых местах', 'Неудовлетворительное состояние обочин', 'Ограничение видимости']\",\n",
       "       \"['Сухое', 'Отсутствие, плохая различимость вертикальной разметки', 'Отсутствие пешеходных ограждений в необходимых местах']\",\n",
       "       \"['Сухое', 'Отсутствие тротуаров (пешеходных дорожек)', 'Ограничение видимости']\",\n",
       "       \"['Залитое (покрытое) водой']\",\n",
       "       \"['Мокрое', 'Недостатки зимнего содержания', 'Неудовлетворительное состояние обочин']\",\n",
       "       \"['Несоответствие люков смотровых колодцев и ливневой канализации предъявляемым требованиям', 'Сухое', 'Дефекты покрытия', 'Неудовлетворительное состояние обочин']\",\n",
       "       \"['Неисправность светофора', 'Мокрое', 'Отсутствие дорожных знаков в необходимых местах', 'Неудовлетворительное состояние обочин', 'Неправильное применение, плохая видимость дорожных знаков']\",\n",
       "       \"['Сужение проезжей части, наличие препятствий, затрудняющих движение транспортных средств', 'Сухое', 'Недостатки зимнего содержания', 'Отсутствие дорожных знаков в необходимых местах']\",\n",
       "       \"['Сужение проезжей части, наличие препятствий, затрудняющих движение транспортных средств', 'Мокрое', 'Дефекты покрытия']\",\n",
       "       \"['Обработанное противогололедными материалами', 'Недостатки зимнего содержания', 'Отсутствие освещения', 'Неровное покрытие']\",\n",
       "       \"['Неисправное освещение', 'Сухое', 'Отсутствие, плохая различимость горизонтальной разметки проезжей части', 'Отсутствие, плохая различимость вертикальной разметки']\",\n",
       "       \"['Отсутствие, плохая различимость горизонтальной разметки проезжей части', 'Обработанное противогололедными материалами', 'Недостатки зимнего содержания', 'Отсутствие тротуаров (пешеходных дорожек)']\",\n",
       "       \"['Иные недостатки', 'Сухое', 'Неудовлетворительное состояние обочин', 'Неправильное применение, плохая видимость дорожных знаков']\",\n",
       "       \"['Отсутствие, плохая различимость горизонтальной разметки проезжей части', 'Отсутствие дорожных знаков в необходимых местах', 'Пыльное', 'Отсутствие временных ТСОД в местах проведения работ']\",\n",
       "       \"['Несоответствие дорожных ограждений предъявляемым требованиям', 'Мокрое', 'Неправильное применение, плохая видимость дорожных знаков']\",\n",
       "       \"['Неисправность светофора', 'Отсутствие, плохая различимость горизонтальной разметки проезжей части', 'Обработанное противогололедными материалами', 'Отсутствие дорожных знаков в необходимых местах']\",\n",
       "       \"['Сухое', 'Отсутствие, плохая различимость горизонтальной разметки проезжей части', 'Неправильное применение, плохая видимость дорожных знаков', 'Отсутствие дорожных ограждений в необходимых местах']\",\n",
       "       \"['Обработанное противогололедными материалами', 'Недостатки зимнего содержания', 'Неправильное применение, плохая видимость дорожных знаков', 'Отсутствие тротуаров (пешеходных дорожек)']\",\n",
       "       \"['Отсутствие, плохая различимость горизонтальной разметки проезжей части', 'Пыльное', 'Отсутствие, плохая различимость вертикальной разметки']\",\n",
       "       \"['Сужение проезжей части, наличие препятствий, затрудняющих движение транспортных средств', 'Обработанное противогололедными материалами', 'Недостатки зимнего содержания', 'Неправильное применение, плохая видимость дорожных знаков']\",\n",
       "       \"['Сужение проезжей части, наличие препятствий, затрудняющих движение транспортных средств', 'Мокрое', 'Отсутствие, плохая различимость горизонтальной разметки проезжей части', 'Отсутствие дорожных знаков в необходимых местах', 'Неправильное применение, плохая видимость дорожных знаков']\",\n",
       "       \"['Сужение проезжей части, наличие препятствий, затрудняющих движение транспортных средств', 'Мокрое', 'Отсутствие, плохая различимость горизонтальной разметки проезжей части', 'Неправильное применение, плохая видимость дорожных знаков']\",\n",
       "       \"['Пыльное', 'Отсутствие дорожных ограждений в необходимых местах']\",\n",
       "       \"['Гололедица', 'Неправильное применение, плохая видимость дорожных знаков']\",\n",
       "       \"['Иные недостатки', 'Сухое', 'Дефекты покрытия', 'Отсутствие дорожных знаков в необходимых местах']\",\n",
       "       \"['Мокрое', 'Отсутствие дорожных знаков в необходимых местах', 'Неудовлетворительное состояние обочин', 'Отсутствие освещения', 'Отсутствие тротуаров (пешеходных дорожек)']\",\n",
       "       \"['Иные недостатки', 'Мокрое', 'Неправильное применение, плохая видимость дорожных знаков']\",\n",
       "       \"['Несоответствие дорожных ограждений предъявляемым требованиям', 'Иные недостатки', 'Сухое', 'Отсутствие, плохая различимость горизонтальной разметки проезжей части']\",\n",
       "       \"['Сухое', 'Отсутствие, плохая различимость горизонтальной разметки проезжей части', 'Дефекты покрытия', 'Отсутствие дорожных ограждений в необходимых местах']\",\n",
       "       \"['Обработанное противогололедными материалами', 'Дефекты покрытия']\",\n",
       "       \"['Обработанное противогололедными материалами', 'Неправильное применение, плохая видимость дорожных знаков', 'Отсутствие освещения']\",\n",
       "       \"['Сужение проезжей части, наличие препятствий, затрудняющих движение транспортных средств', 'Заснеженное', 'Неудовлетворительное состояние обочин']\",\n",
       "       \"['Сужение проезжей части, наличие препятствий, затрудняющих движение транспортных средств', 'Обработанное противогололедными материалами', 'Отсутствие дорожных знаков в необходимых местах', 'Отсутствие тротуаров (пешеходных дорожек)']\",\n",
       "       \"['Неисправное освещение', 'Обработанное противогололедными материалами', 'Отсутствие, плохая различимость вертикальной разметки']\",\n",
       "       \"['Отсутствие, плохая различимость горизонтальной разметки проезжей части', 'Недостатки зимнего содержания', 'Недостаточное освещение', 'Заснеженное']\",\n",
       "       \"['Недостатки зимнего содержания', 'Со снежным накатом', 'Отсутствие дорожных знаков в необходимых местах']\",\n",
       "       \"['Сужение проезжей части, наличие препятствий, затрудняющих движение транспортных средств', 'Сухое', 'Отсутствие, плохая различимость горизонтальной разметки проезжей части', 'Отсутствие дорожных знаков в необходимых местах', 'Отсутствие освещения']\",\n",
       "       \"['Неудовлетворительное состояние разделительной полосы', 'Обработанное противогололедными материалами']\",\n",
       "       \"['Неисправное освещение', 'Сухое', 'Отсутствие, плохая различимость горизонтальной разметки проезжей части', 'Отсутствие дорожных ограждений в необходимых местах']\",\n",
       "       \"['Отсутствие, плохая различимость горизонтальной разметки проезжей части', 'Дефекты покрытия', 'Заснеженное']\",\n",
       "       \"['Мокрое', 'Неудовлетворительное состояние обочин', 'Отсутствие, плохая различимость вертикальной разметки']\",\n",
       "       \"['Мокрое', 'Отсутствие, плохая различимость горизонтальной разметки проезжей части', 'Неудовлетворительное состояние обочин', 'Отсутствие освещения', 'Отсутствие тротуаров (пешеходных дорожек)']\",\n",
       "       \"['Мокрое', 'Недостатки зимнего содержания', 'Недостаточное освещение']\",\n",
       "       \"['Сухое', 'Дефекты покрытия', 'Отсутствие тротуаров (пешеходных дорожек)']\",\n",
       "       \"['Неудовлетворительное состояние разделительной полосы', 'Мокрое', 'Отсутствие, плохая различимость горизонтальной разметки проезжей части']\",\n",
       "       \"['Недостатки зимнего содержания', 'Низкие сцепные качества покрытия', 'Гололедица']\",\n",
       "       \"['Мокрое', 'Неудовлетворительное состояние обочин', 'Неправильное применение, плохая видимость дорожных знаков']\",\n",
       "       \"['Сужение проезжей части, наличие препятствий, затрудняющих движение транспортных средств', 'Со снежным накатом']\",\n",
       "       \"['Сухое', 'Отсутствие, плохая различимость горизонтальной разметки проезжей части', 'Недостатки зимнего содержания', 'Неправильное применение, плохая видимость дорожных знаков', 'Отсутствие пешеходных ограждений в необходимых местах']\",\n",
       "       \"['Сужение проезжей части, наличие препятствий, затрудняющих движение транспортных средств', 'Отсутствие, плохая различимость горизонтальной разметки проезжей части', 'Со снежным накатом']\",\n",
       "       \"['Сужение проезжей части, наличие препятствий, затрудняющих движение транспортных средств', 'Отсутствие, плохая различимость горизонтальной разметки проезжей части', 'Обработанное противогололедными материалами', 'Неудовлетворительное состояние обочин', 'Неправильное применение, плохая видимость дорожных знаков']\",\n",
       "       \"['Плохая видимость светофора', 'Мокрое', 'Отсутствие, плохая различимость горизонтальной разметки проезжей части', 'Недостатки зимнего содержания']\",\n",
       "       \"['Отсутствие, плохая различимость горизонтальной разметки проезжей части', 'Обработанное противогололедными материалами', 'Недостатки зимнего содержания', 'Неправильное применение, плохая видимость дорожных знаков']\",\n",
       "       \"['Плохая видимость световозвращателей, размещенных на дорожных ограждениях', 'Обработанное противогололедными материалами']\",\n",
       "       \"['Мокрое', 'Неправильное применение, плохая видимость дорожных знаков', 'Отсутствие тротуаров (пешеходных дорожек)']\",\n",
       "       \"['Неудовлетворительное состояние разделительной полосы', 'Мокрое']\",\n",
       "       \"['Мокрое', 'Отсутствие, плохая различимость горизонтальной разметки проезжей части', 'Отсутствие дорожных знаков в необходимых местах', 'Ограничение видимости']\",\n",
       "       \"['Мокрое', 'Отсутствие, плохая различимость горизонтальной разметки проезжей части', 'Отсутствие, плохая различимость вертикальной разметки']\",\n",
       "       \"['Недостатки зимнего содержания', 'Неправильное применение, плохая видимость дорожных знаков', 'Загрязненное']\",\n",
       "       \"['Отсутствие, плохая различимость горизонтальной разметки проезжей части', 'Недостатки зимнего содержания', 'Гололедица', 'Отсутствие освещения']\",\n",
       "       \"['Сухое', 'Отсутствие, плохая различимость горизонтальной разметки проезжей части', 'Дефекты покрытия', 'Неудовлетворительное состояние обочин', 'Отсутствие временных ТСОД в местах проведения работ']\",\n",
       "       \"['Неисправность светофора', 'Сухое', 'Отсутствие, плохая различимость горизонтальной разметки проезжей части', 'Отсутствие дорожных знаков в необходимых местах', 'Нарушения в размещении наружной рекламы']\",\n",
       "       \"['Сухое', 'Отсутствие, плохая различимость горизонтальной разметки проезжей части', 'Отсутствие дорожных знаков в необходимых местах', 'Отсутствие освещения', 'Отсутствие пешеходных ограждений в необходимых местах']\",\n",
       "       \"['Отсутствие дорожных знаков в необходимых местах', 'Заснеженное', 'Неправильное применение, плохая видимость дорожных знаков']\",\n",
       "       \"['Сужение проезжей части, наличие препятствий, затрудняющих движение транспортных средств', 'Со снежным накатом', 'Отсутствие дорожных знаков в необходимых местах', 'Неправильное применение, плохая видимость дорожных знаков']\",\n",
       "       \"['Мокрое', 'Недостатки зимнего содержания', 'Отсутствие дорожных знаков в необходимых местах', 'Отсутствие освещения']\",\n",
       "       \"['Сужение проезжей части, наличие препятствий, затрудняющих движение транспортных средств', 'Обработанное противогололедными материалами', 'Нарушения в размещении наружной рекламы', 'Неправильное применение, плохая видимость дорожных знаков']\",\n",
       "       \"['Сужение проезжей части, наличие препятствий, затрудняющих движение транспортных средств', 'Обработанное противогололедными материалами', 'Неправильное применение, плохая видимость дорожных знаков']\",\n",
       "       \"['Мокрое', 'Отсутствие, плохая различимость горизонтальной разметки проезжей части', 'Недостатки зимнего содержания', 'Неудовлетворительное состояние обочин']\",\n",
       "       \"['Сужение проезжей части, наличие препятствий, затрудняющих движение транспортных средств', 'Отсутствие, плохая различимость горизонтальной разметки проезжей части', 'Обработанное противогололедными материалами', 'Неправильное применение, плохая видимость дорожных знаков']\",\n",
       "       \"['Сужение проезжей части, наличие препятствий, затрудняющих движение транспортных средств', 'Обработанное противогололедными материалами', 'Отсутствие освещения']\",\n",
       "       \"['Сужение проезжей части, наличие препятствий, затрудняющих движение транспортных средств', 'Обработанное противогололедными материалами', 'Неудовлетворительное состояние обочин']\",\n",
       "       \"['Сужение проезжей части, наличие препятствий, затрудняющих движение транспортных средств', 'Мокрое', 'Неудовлетворительное состояние обочин']\",\n",
       "       \"['Обработанное противогололедными материалами', 'Нарушения в размещении наружной рекламы']\",\n",
       "       \"['Неисправность светофора', 'Мокрое', 'Отсутствие дорожных ограждений в необходимых местах']\",\n",
       "       \"['Сухое', 'Отсутствие дорожных знаков в необходимых местах', 'Неправильное применение, плохая видимость дорожных знаков', 'Отсутствие дорожных ограждений в необходимых местах']\",\n",
       "       \"['Неисправное освещение', 'Несоответствие дорожных ограждений предъявляемым требованиям', 'Сухое', 'Отсутствие дорожных знаков в необходимых местах', 'Отсутствие дорожных ограждений в необходимых местах']\",\n",
       "       \"['Сухое', 'Отсутствие, плохая различимость горизонтальной разметки проезжей части', 'Нарушения в размещении наружной рекламы', 'Неправильное применение, плохая видимость дорожных знаков']\",\n",
       "       \"['Несоответствие дорожных ограждений предъявляемым требованиям', 'Неисправность светофора', 'Сухое']\",\n",
       "       \"['Обработанное противогололедными материалами', 'Отсутствие дорожных знаков в необходимых местах', 'Отсутствие дорожных ограждений в необходимых местах']\",\n",
       "       \"['Мокрое', 'Дефекты покрытия', 'Неудовлетворительное состояние обочин', 'Неправильное применение, плохая видимость дорожных знаков']\",\n",
       "       \"['Отсутствие, плохая различимость горизонтальной разметки проезжей части', 'Заснеженное', 'Неправильное применение, плохая видимость дорожных знаков']\",\n",
       "       \"['Со снежным накатом', 'Неудовлетворительное состояние обочин']\",\n",
       "       \"['Неудовлетворительное состояние разделительной полосы', 'Обработанное противогололедными материалами', 'Недостаточное освещение']\",\n",
       "       \"['Отсутствие, плохая различимость горизонтальной разметки проезжей части', 'Обработанное противогололедными материалами', 'Недостатки зимнего содержания', 'Отсутствие дорожных знаков в необходимых местах', 'Отсутствие пешеходных ограждений в необходимых местах']\",\n",
       "       \"['Отсутствие, плохая различимость горизонтальной разметки проезжей части', 'Обработанное противогололедными материалами', 'Отсутствие освещения', 'Отсутствие тротуаров (пешеходных дорожек)']\",\n",
       "       \"['Мокрое', 'Неправильное применение, плохая видимость дорожных знаков', 'Отсутствие освещения']\",\n",
       "       \"['Неисправное освещение', 'Сухое', 'Отсутствие, плохая различимость горизонтальной разметки проезжей части', 'Неудовлетворительное состояние обочин', 'Отсутствие тротуаров (пешеходных дорожек)']\",\n",
       "       \"['Отсутствие дорожных знаков в необходимых местах', 'Неправильное применение, плохая видимость дорожных знаков', 'Пыльное']\",\n",
       "       \"['Несоответствие дорожных ограждений предъявляемым требованиям', 'Сухое', 'Дефекты покрытия']\",\n",
       "       \"['Неправильное применение, плохая видимость дорожных знаков', 'Свежеуложенная поверхностная обработка']\",\n",
       "       \"['Сужение проезжей части, наличие препятствий, затрудняющих движение транспортных средств', 'Иные недостатки', 'Сухое', 'Отсутствие временных ТСОД в местах проведения работ']\",\n",
       "       \"['Иные недостатки', 'Сухое', 'Отсутствие освещения', 'Отсутствие тротуаров (пешеходных дорожек)']\",\n",
       "       \"['Отсутствие, плохая различимость горизонтальной разметки проезжей части', 'Гололедица']\",\n",
       "       \"['Отсутствие освещения', 'Пыльное', 'Отсутствие тротуаров (пешеходных дорожек)']\",\n",
       "       \"['Сухое', 'Дефекты покрытия', 'Неудовлетворительное состояние обочин', 'Неправильное применение, плохая видимость дорожных знаков']\",\n",
       "       \"['Отсутствие элементов обустройства остановочного пункта общественного пассажирского транспорта', 'Мокрое', 'Отсутствие дорожных знаков в необходимых местах', 'Неудовлетворительное состояние обочин', 'Отсутствие освещения']\",\n",
       "       \"['Плохая видимость световозвращателей, размещенных на дорожных ограждениях', 'Сухое', 'Недостатки зимнего содержания']\",\n",
       "       \"['Сухое', 'Отсутствие, плохая различимость горизонтальной разметки проезжей части', 'Отсутствие дорожных знаков в необходимых местах', 'Отсутствие тротуаров (пешеходных дорожек)', 'Отсутствие дорожных ограждений в необходимых местах']\",\n",
       "       \"['Сухое', 'Отсутствие, плохая различимость горизонтальной разметки проезжей части', 'Отсутствие дорожных знаков в необходимых местах', 'Отсутствие освещения']\",\n",
       "       \"['Сухое', 'Дефекты покрытия', 'Отсутствие, плохая различимость вертикальной разметки']\",\n",
       "       \"['Сужение проезжей части, наличие препятствий, затрудняющих движение транспортных средств', 'Мокрое', 'Недостатки зимнего содержания', 'Отсутствие дорожных знаков в необходимых местах']\",\n",
       "       \"['Отсутствие, плохая различимость горизонтальной разметки проезжей части', 'Обработанное противогололедными материалами', 'Недостатки зимнего содержания', 'Отсутствие освещения']\",\n",
       "       \"['Сужение проезжей части, наличие препятствий, затрудняющих движение транспортных средств', 'Отсутствие, плохая различимость горизонтальной разметки проезжей части', 'Заснеженное']\",\n",
       "       \"['Сухое', 'Неудовлетворительное состояние обочин', 'Неправильное применение, плохая видимость дорожных знаков', 'Отсутствие дорожных ограждений в необходимых местах']\",\n",
       "       \"['Сухое', 'Отсутствие, плохая различимость вертикальной разметки', 'Отсутствие дорожных ограждений в необходимых местах']\",\n",
       "       \"['Мокрое', 'Отсутствие, плохая различимость горизонтальной разметки проезжей части', 'Отсутствие дорожных знаков в необходимых местах', 'Отсутствие пешеходных ограждений в необходимых местах']\",\n",
       "       \"['Мокрое', 'Отсутствие, плохая различимость горизонтальной разметки проезжей части', 'Нарушения в размещении наружной рекламы', 'Неудовлетворительное состояние обочин']\",\n",
       "       \"['Мокрое', 'Неудовлетворительное состояние обочин', 'Отсутствие освещения', 'Отсутствие тротуаров (пешеходных дорожек)']\",\n",
       "       \"['Отсутствие, плохая различимость горизонтальной разметки проезжей части', 'Неудовлетворительное состояние обочин', 'Свежеуложенная поверхностная обработка', 'Неровное покрытие']\",\n",
       "       \"['Неисправное освещение', 'Несоответствие дорожных ограждений предъявляемым требованиям', 'Мокрое']\",\n",
       "       \"['Отсутствие дорожных знаков в необходимых местах', 'Гололедица']\",\n",
       "       \"['Неисправность светофора', 'Сухое', 'Отсутствие, плохая различимость горизонтальной разметки проезжей части', 'Отсутствие дорожных знаков в необходимых местах']\",\n",
       "       \"['Дефекты покрытия', 'Отсутствие дорожных знаков в необходимых местах', 'Неправильное применение, плохая видимость дорожных знаков', 'Свежеуложенная поверхностная обработка', 'Неровное покрытие']\",\n",
       "       \"['Неисправность светофора', 'Обработанное противогололедными материалами', 'Неправильное применение, плохая видимость дорожных знаков']\",\n",
       "       \"['Сухое', 'Отсутствие, плохая различимость горизонтальной разметки проезжей части', 'Неправильное применение, плохая видимость дорожных знаков', 'Ограничение видимости']\",\n",
       "       \"['Неисправность светофора', 'Мокрое', 'Недостатки зимнего содержания', 'Отсутствие пешеходных ограждений в необходимых местах']\",\n",
       "       \"['Сухое', 'Недостатки зимнего содержания', 'Отсутствие пешеходных ограждений в необходимых местах']\",\n",
       "       \"['Неисправность светофора', 'Мокрое', 'Отсутствие, плохая различимость горизонтальной разметки проезжей части', 'Отсутствие пешеходных ограждений в необходимых местах']\",\n",
       "       \"['Сухое', 'Отсутствие, плохая различимость горизонтальной разметки проезжей части', 'Отсутствие дорожных знаков в необходимых местах', 'Низкие сцепные качества покрытия']\",\n",
       "       \"['Отсутствие, плохая различимость горизонтальной разметки проезжей части', 'Загрязненное', 'Отсутствие дорожных ограждений в необходимых местах']\",\n",
       "       \"['Мокрое', 'Отсутствие, плохая различимость горизонтальной разметки проезжей части', 'Недостатки зимнего содержания', 'Неровное покрытие']\",\n",
       "       \"['Сужение проезжей части, наличие препятствий, затрудняющих движение транспортных средств', 'Недостатки зимнего содержания', 'Со снежным накатом', 'Отсутствие дорожных знаков в необходимых местах']\",\n",
       "       \"['Отсутствие элементов обустройства остановочного пункта общественного пассажирского транспорта', 'Обработанное противогололедными материалами', 'Недостатки зимнего содержания', 'Отсутствие дорожных знаков в необходимых местах']\",\n",
       "       \"['Сухое', 'Отсутствие, плохая различимость горизонтальной разметки проезжей части', 'Отсутствие дорожных знаков в необходимых местах', 'Неудовлетворительное состояние обочин', 'Отсутствие пешеходных ограждений в необходимых местах']\",\n",
       "       \"['Сухое', 'Отсутствие дорожных знаков в необходимых местах', 'Ограничение видимости']\",\n",
       "       \"['Обработанное противогололедными материалами', 'Отсутствие дорожных знаков в необходимых местах', 'Отсутствие пешеходных ограждений в необходимых местах']\",\n",
       "       \"['Сухое', 'Отсутствие, плохая различимость горизонтальной разметки проезжей части', 'Неправильное применение, плохая видимость дорожных знаков', 'Отсутствие временных ТСОД в местах проведения работ']\",\n",
       "       \"['Неисправное освещение', 'Отсутствие элементов обустройства остановочного пункта общественного пассажирского транспорта', 'Сухое']\",\n",
       "       \"['Обработанное противогололедными материалами', 'Недостаточное освещение', 'Неправильное применение, плохая видимость дорожных знаков']\",\n",
       "       \"['Неисправное освещение', 'Сужение проезжей части, наличие препятствий, затрудняющих движение транспортных средств', 'Обработанное противогололедными материалами', 'Недостатки зимнего содержания']\",\n",
       "       \"['Сужение проезжей части, наличие препятствий, затрудняющих движение транспортных средств', 'Загрязненное']\",\n",
       "       \"['Сужение проезжей части, наличие препятствий, затрудняющих движение транспортных средств', 'Мокрое', 'Недостатки зимнего содержания']\",\n",
       "       \"['Сужение проезжей части, наличие препятствий, затрудняющих движение транспортных средств', 'Недостатки зимнего содержания', 'Со снежным накатом', 'Неправильное применение, плохая видимость дорожных знаков']\",\n",
       "       \"['Неисправное освещение', 'Мокрое', 'Отсутствие, плохая различимость горизонтальной разметки проезжей части', 'Недостатки зимнего содержания']\",\n",
       "       \"['Плохая видимость световозвращателей, размещенных на дорожных ограждениях', 'Мокрое', 'Недостатки зимнего содержания']\",\n",
       "       \"['Мокрое', 'Отсутствие, плохая различимость горизонтальной разметки проезжей части', 'Нарушения в размещении наружной рекламы']\",\n",
       "       \"['Несоответствие дорожных ограждений предъявляемым требованиям', 'Обработанное противогололедными материалами', 'Недостатки зимнего содержания', 'Отсутствие дорожных знаков в необходимых местах']\",\n",
       "       \"['Сухое', 'Отсутствие, плохая различимость горизонтальной разметки проезжей части', 'Неудовлетворительное состояние обочин', 'Отсутствие временных ТСОД в местах проведения работ']\",\n",
       "       \"['Плохая видимость световозвращателей, размещенных на дорожных ограждениях', 'Обработанное противогололедными материалами', 'Отсутствие дорожных знаков в необходимых местах', 'Неправильное применение, плохая видимость дорожных знаков']\",\n",
       "       \"['Сухое', 'Дефекты покрытия', 'Неровное покрытие']\",\n",
       "       \"['Сухое', 'Недостаточное освещение', 'Неудовлетворительное состояние обочин']\",\n",
       "       \"['Пыльное', 'Отсутствие временных ТСОД в местах проведения работ']\",\n",
       "       \"['Сухое', 'Отсутствие, плохая различимость горизонтальной разметки проезжей части', 'Неудовлетворительное состояние обочин', 'Отсутствие тротуаров (пешеходных дорожек)', 'Отсутствие дорожных ограждений в необходимых местах']\",\n",
       "       \"['Сужение проезжей части, наличие препятствий, затрудняющих движение транспортных средств', 'Недостатки зимнего содержания', 'Свежеуложенная поверхностная обработка']\",\n",
       "       \"['Иные недостатки', 'Сухое', 'Отсутствие, плохая различимость вертикальной разметки']\",\n",
       "       \"['Неисправность светофора', 'Сухое', 'Отсутствие дорожных знаков в необходимых местах']\",\n",
       "       \"['Сухое', 'Отсутствие, плохая различимость горизонтальной разметки проезжей части', 'Дефекты покрытия', 'Отсутствие дорожных знаков в необходимых местах', 'Отсутствие временных ТСОД в местах проведения работ']\",\n",
       "       \"['Отсутствие элементов обустройства остановочного пункта общественного пассажирского транспорта', 'Сухое', 'Отсутствие, плохая различимость горизонтальной разметки проезжей части', 'Отсутствие дорожных знаков в необходимых местах']\",\n",
       "       \"['Сужение проезжей части, наличие препятствий, затрудняющих движение транспортных средств', 'Иные недостатки', 'Сухое']\",\n",
       "       \"['Сухое', 'Отсутствие дорожных ограждений в необходимых местах', 'Отсутствие временных ТСОД в местах проведения работ']\",\n",
       "       \"['Неисправное освещение', 'Сухое', 'Неудовлетворительное состояние обочин', 'Отсутствие временных ТСОД в местах проведения работ']\",\n",
       "       \"['Обработанное противогололедными материалами', 'Дефекты покрытия', 'Неправильное применение, плохая видимость дорожных знаков']\",\n",
       "       \"['Несоответствие дорожных ограждений предъявляемым требованиям', 'Недостатки зимнего содержания', 'Со снежным накатом']\",\n",
       "       \"['Несоответствие дорожных ограждений предъявляемым требованиям', 'Отсутствие, плохая различимость горизонтальной разметки проезжей части', 'Обработанное противогололедными материалами']\",\n",
       "       \"['Неисправное освещение', 'Сухое', 'Неправильное применение, плохая видимость дорожных знаков', 'Отсутствие дорожных ограждений в необходимых местах']\",\n",
       "       \"['Плохая видимость световозвращателей, размещенных на дорожных ограждениях', 'Сухое']\",\n",
       "       \"['Сужение проезжей части, наличие препятствий, затрудняющих движение транспортных средств', 'Заснеженное', 'Неправильное применение, плохая видимость дорожных знаков', 'Ограничение видимости']\",\n",
       "       \"['Несоответствие дорожных ограждений предъявляемым требованиям', 'Мокрое', 'Отсутствие, плохая различимость горизонтальной разметки проезжей части', 'Неправильное применение, плохая видимость дорожных знаков']\",\n",
       "       \"['Сухое', 'Отсутствие, плохая различимость горизонтальной разметки проезжей части', 'Отсутствие дорожных знаков в необходимых местах', 'Отсутствие направляющих устройств и световозвращающих элементов на них']\",\n",
       "       \"['Сухое', 'Недостатки зимнего содержания', 'Дефекты покрытия', 'Неудовлетворительное состояние обочин', 'Отсутствие освещения']\",\n",
       "       \"['Мокрое', 'Отсутствие дорожных знаков в необходимых местах', 'Неудовлетворительное состояние обочин', 'Отсутствие освещения']\",\n",
       "       \"['Сужение проезжей части, наличие препятствий, затрудняющих движение транспортных средств', 'Сухое', 'Отсутствие, плохая различимость горизонтальной разметки проезжей части', 'Неудовлетворительное состояние обочин', 'Неправильное применение, плохая видимость дорожных знаков']\",\n",
       "       \"['Иные недостатки', 'Сухое', 'Отсутствие дорожных ограждений в необходимых местах', 'Отсутствие временных ТСОД в местах проведения работ']\",\n",
       "       \"['Сужение проезжей части, наличие препятствий, затрудняющих движение транспортных средств', 'Мокрое', 'Отсутствие, плохая различимость горизонтальной разметки проезжей части', 'Недостатки зимнего содержания', 'Отсутствие дорожных знаков в необходимых местах']\",\n",
       "       \"['Несоответствие дорожных ограждений предъявляемым требованиям', 'Обработанное противогололедными материалами', 'Неудовлетворительное состояние обочин']\",\n",
       "       \"['Неисправное освещение', 'Неисправность светофора', 'Сухое', 'Отсутствие, плохая различимость горизонтальной разметки проезжей части']\",\n",
       "       \"['Сухое', 'Неудовлетворительное состояние обочин', 'Ограничение видимости']\",\n",
       "       \"['Неисправное освещение', 'Пыльное']\",\n",
       "       \"['Сухое', 'Отсутствие, плохая различимость горизонтальной разметки проезжей части', 'Отсутствие дорожных знаков в необходимых местах', 'Неудовлетворительное состояние обочин', 'Отсутствие направляющих устройств и световозвращающих элементов на них']\",\n",
       "       \"['Отсутствие, плохая различимость горизонтальной разметки проезжей части', 'Обработанное противогололедными материалами', 'Дефекты покрытия', 'Отсутствие направляющих устройств и световозвращающих элементов на них', 'Неправильное применение, плохая видимость дорожных знаков']\",\n",
       "       \"['Иные недостатки', 'Сухое', 'Неправильное применение, плохая видимость дорожных знаков', 'Отсутствие освещения']\",\n",
       "       \"['Сухое', 'Отсутствие, плохая различимость горизонтальной разметки проезжей части', 'Отсутствие, плохая различимость вертикальной разметки', 'Отсутствие временных ТСОД в местах проведения работ']\",\n",
       "       \"['Неисправное освещение', 'Мокрое', 'Отсутствие, плохая различимость горизонтальной разметки проезжей части', 'Отсутствие пешеходных ограждений в необходимых местах']\",\n",
       "       \"['Мокрое', 'Дефекты покрытия', 'Отсутствие дорожных знаков в необходимых местах', 'Отсутствие пешеходных ограждений в необходимых местах']\",\n",
       "       \"['Мокрое', 'Отсутствие дорожных знаков в необходимых местах', 'Неправильное применение, плохая видимость дорожных знаков', 'Отсутствие тротуаров (пешеходных дорожек)']\",\n",
       "       \"['Иные недостатки', 'Мокрое', 'Отсутствие дорожных знаков в необходимых местах', 'Неудовлетворительное состояние обочин']\",\n",
       "       \"['Несоответствие дорожных ограждений предъявляемым требованиям', 'Неправильное применение, плохая видимость дорожных знаков', 'Пыльное']\",\n",
       "       \"['Сухое', 'Отсутствие дорожных знаков в необходимых местах', 'Отсутствие направляющих устройств и световозвращающих элементов на них', 'Отсутствие освещения', 'Отсутствие тротуаров (пешеходных дорожек)']\",\n",
       "       \"['Мокрое', 'Отсутствие дорожных знаков в необходимых местах', 'Неудовлетворительное состояние обочин', 'Отсутствие направляющих устройств и световозвращающих элементов на них']\",\n",
       "       \"['Сухое', 'Неудовлетворительное состояние обочин', 'Отсутствие тротуаров (пешеходных дорожек)', 'Отсутствие дорожных ограждений в необходимых местах']\",\n",
       "       \"['Мокрое', 'Неправильное применение, плохая видимость дорожных знаков', 'Ограничение видимости']\",\n",
       "       \"['Несоответствие дорожных ограждений предъявляемым требованиям', 'Сухое', 'Дефекты покрытия', 'Отсутствие дорожных знаков в необходимых местах', 'Неудовлетворительное состояние обочин']\",\n",
       "       \"['Несоответствие дорожных ограждений предъявляемым требованиям', 'Сужение проезжей части, наличие препятствий, затрудняющих движение транспортных средств', 'Недостатки зимнего содержания', 'Заснеженное']\",\n",
       "       \"['Неисправное освещение', 'Сухое', 'Дефекты покрытия', 'Неправильное применение, плохая видимость дорожных знаков']\",\n",
       "       \"['Сухое', 'Отсутствие, плохая различимость горизонтальной разметки проезжей части', 'Отсутствие дорожных знаков в необходимых местах', 'Отсутствие тротуаров (пешеходных дорожек)', 'Ограничение видимости']\",\n",
       "       \"['Отсутствие, плохая различимость горизонтальной разметки проезжей части', 'Обработанное противогололедными материалами', 'Отсутствие дорожных знаков в необходимых местах', 'Отсутствие дорожных ограждений в необходимых местах']\",\n",
       "       \"['Неудовлетворительное состояние разделительной полосы', 'Мокрое', 'Отсутствие дорожных знаков в необходимых местах', 'Неправильное применение, плохая видимость дорожных знаков']\",\n",
       "       \"['Отсутствие, плохая различимость горизонтальной разметки проезжей части', 'Обработанное противогололедными материалами', 'Недостатки зимнего содержания', 'Отсутствие дорожных знаков в необходимых местах', 'Неудовлетворительное состояние обочин']\",\n",
       "       \"['Неисправное освещение', 'Плохая видимость светофора', 'Сухое', 'Отсутствие, плохая различимость горизонтальной разметки проезжей части']\",\n",
       "       \"['Сужение проезжей части, наличие препятствий, затрудняющих движение транспортных средств', 'Заснеженное', 'Отсутствие освещения']\",\n",
       "       \"['Отсутствие дорожных знаков в необходимых местах', 'Заснеженное', 'Отсутствие тротуаров (пешеходных дорожек)']\",\n",
       "       \"['Несоответствие дорожных ограждений предъявляемым требованиям', 'Мокрое', 'Отсутствие дорожных знаков в необходимых местах']\",\n",
       "       \"['Отсутствие дорожных знаков в необходимых местах', 'Пыльное', 'Отсутствие тротуаров (пешеходных дорожек)']\",\n",
       "       \"['Неисправное освещение', 'Сухое', 'Отсутствие, плохая различимость горизонтальной разметки проезжей части', 'Отсутствие пешеходных ограждений в необходимых местах']\",\n",
       "       \"['Обработанное противогололедными материалами', 'Недостаточное освещение', 'Неудовлетворительное состояние обочин']\",\n",
       "       \"['Обработанное противогололедными материалами', 'Дефекты покрытия', 'Отсутствие дорожных знаков в необходимых местах']\",\n",
       "       \"['Неудовлетворительное состояние разделительной полосы', 'Сухое', 'Неудовлетворительное состояние обочин']\",\n",
       "       \"['Сухое', 'Отсутствие, плохая различимость горизонтальной разметки проезжей части', 'Отсутствие дорожных знаков в необходимых местах', 'Неудовлетворительное состояние обочин', 'Неправильное применение, плохая видимость дорожных знаков']\",\n",
       "       \"['Сухое', 'Нарушения в размещении наружной рекламы', 'Отсутствие, плохая различимость вертикальной разметки', 'Отсутствие пешеходных ограждений в необходимых местах']\",\n",
       "       \"['Несоответствие дорожных ограждений предъявляемым требованиям', 'Сухое', 'Отсутствие, плохая различимость горизонтальной разметки проезжей части', 'Отсутствие дорожных знаков в необходимых местах', 'Отсутствие пешеходных ограждений в необходимых местах']\",\n",
       "       \"['Обработанное противогололедными материалами', 'Недостатки зимнего содержания', 'Дефекты покрытия', 'Неудовлетворительное состояние обочин']\",\n",
       "       \"['Несоответствие дорожных ограждений предъявляемым требованиям', 'Отсутствие, плохая различимость горизонтальной разметки проезжей части', 'Обработанное противогололедными материалами', 'Неправильное применение, плохая видимость дорожных знаков']\",\n",
       "       \"['Неисправное освещение', 'Сужение проезжей части, наличие препятствий, затрудняющих движение транспортных средств', 'Недостатки зимнего содержания', 'Заснеженное', 'Отсутствие тротуаров (пешеходных дорожек)']\",\n",
       "       \"['Низкие сцепные качества покрытия', 'Заснеженное', 'Отсутствие освещения']\",\n",
       "       \"['Неудовлетворительное состояние обочин', 'Пыльное', 'Отсутствие дорожных ограждений в необходимых местах']\",\n",
       "       \"['Отсутствие, плохая различимость горизонтальной разметки проезжей части', 'Со снежным накатом', 'Неправильное применение, плохая видимость дорожных знаков']\",\n",
       "       \"['Сухое', 'Отсутствие, плохая различимость горизонтальной разметки проезжей части', 'Отсутствие тротуаров (пешеходных дорожек)', 'Неровное покрытие']\",\n",
       "       \"['Мокрое', 'Отсутствие тротуаров (пешеходных дорожек)', 'Отсутствие пешеходных ограждений в необходимых местах']\",\n",
       "       \"['Мокрое', 'Нарушения в размещении наружной рекламы', 'Неправильное применение, плохая видимость дорожных знаков']\",\n",
       "       \"['Сужение проезжей части, наличие препятствий, затрудняющих движение транспортных средств', 'Отсутствие, плохая различимость горизонтальной разметки проезжей части', 'Обработанное противогололедными материалами', 'Отсутствие дорожных знаков в необходимых местах']\",\n",
       "       \"['Сухое', 'Отсутствие, плохая различимость горизонтальной разметки проезжей части', 'Отсутствие дорожных знаков в необходимых местах', 'Ограничение видимости']\",\n",
       "       \"['Несоответствие железнодорожного переезда предъявляемым требованиям', 'Сухое', 'Отсутствие, плохая различимость горизонтальной разметки проезжей части']\",\n",
       "       \"['Сужение проезжей части, наличие препятствий, затрудняющих движение транспортных средств', 'Отсутствие, плохая различимость горизонтальной разметки проезжей части', 'Обработанное противогололедными материалами', 'Недостатки зимнего содержания', 'Нарушения в размещении наружной рекламы']\",\n",
       "       \"['Сухое', 'Низкие сцепные качества покрытия', 'Отсутствие направляющих устройств и световозвращающих элементов на них']\",\n",
       "       \"['Гололедица', 'Неудовлетворительное состояние обочин']\",\n",
       "       \"['Дефекты покрытия', 'Низкие сцепные качества покрытия', 'Гололедица']\",\n",
       "       \"['Несоответствие железнодорожного переезда предъявляемым требованиям', 'Сухое', 'Недостатки зимнего содержания', 'Отсутствие направляющих устройств и световозвращающих элементов на них']\",\n",
       "       \"['Несоответствие люков смотровых колодцев и ливневой канализации предъявляемым требованиям', 'Сухое', 'Неудовлетворительное состояние обочин']\",\n",
       "       \"['Сужение проезжей части, наличие препятствий, затрудняющих движение транспортных средств', 'Сухое', 'Отсутствие, плохая различимость горизонтальной разметки проезжей части', 'Недостатки зимнего содержания', 'Неправильное применение, плохая видимость дорожных знаков']\",\n",
       "       \"['Сухое', 'Отсутствие, плохая различимость горизонтальной разметки проезжей части', 'Недостаточное освещение', 'Отсутствие тротуаров (пешеходных дорожек)']\",\n",
       "       \"['Сухое', 'Отсутствие, плохая различимость горизонтальной разметки проезжей части', 'Отсутствие дорожных знаков в необходимых местах', 'Неудовлетворительное состояние обочин', 'Неровное покрытие']\",\n",
       "       \"['Сужение проезжей части, наличие препятствий, затрудняющих движение транспортных средств', 'Сухое', 'Отсутствие направляющих устройств и световозвращающих элементов на них', 'Неправильное применение, плохая видимость дорожных знаков']\",\n",
       "       \"['Плохая видимость световозвращателей, размещенных на дорожных ограждениях', 'Мокрое', 'Отсутствие, плохая различимость горизонтальной разметки проезжей части', 'Отсутствие дорожных знаков в необходимых местах']\",\n",
       "       \"['Плохая видимость световозвращателей, размещенных на дорожных ограждениях', 'Мокрое', 'Отсутствие, плохая различимость горизонтальной разметки проезжей части']\",\n",
       "       \"['Несоответствие дорожных ограждений предъявляемым требованиям', 'Заснеженное']\",\n",
       "       \"['Обработанное противогололедными материалами', 'Недостатки зимнего содержания', 'Неправильное применение, плохая видимость дорожных знаков', 'Отсутствие освещения', 'Отсутствие тротуаров (пешеходных дорожек)']\",\n",
       "       \"['Сужение проезжей части, наличие препятствий, затрудняющих движение транспортных средств', 'Мокрое', 'Отсутствие дорожных знаков в необходимых местах', 'Нарушения в размещении наружной рекламы']\",\n",
       "       \"['Неисправность светофора', 'Мокрое', 'Недостатки зимнего содержания', 'Отсутствие дорожных знаков в необходимых местах']\",\n",
       "       \"['Сухое', 'Отсутствие освещения', 'Отсутствие, плохая различимость вертикальной разметки']\",\n",
       "       \"['Неисправность светофора', 'Сухое', 'Отсутствие, плохая различимость горизонтальной разметки проезжей части', 'Отсутствие дорожных знаков в необходимых местах', 'Отсутствие пешеходных ограждений в необходимых местах']\",\n",
       "       \"['Неисправное освещение', 'Мокрое', 'Отсутствие, плохая различимость горизонтальной разметки проезжей части', 'Отсутствие дорожных знаков в необходимых местах']\",\n",
       "       \"['Отсутствие, плохая различимость горизонтальной разметки проезжей части', 'Неудовлетворительное состояние обочин', 'Загрязненное']\",\n",
       "       \"['Мокрое', 'Недостаточное освещение', 'Отсутствие дорожных знаков в необходимых местах', 'Неудовлетворительное состояние обочин']\",\n",
       "       \"['Мокрое', 'Неправильное применение, плохая видимость дорожных знаков', 'Отсутствие тротуаров (пешеходных дорожек)', 'Отсутствие дорожных ограждений в необходимых местах']\",\n",
       "       \"['Неисправность светофора', 'Сухое', 'Отсутствие, плохая различимость горизонтальной разметки проезжей части', 'Неудовлетворительное состояние обочин']\",\n",
       "       \"['Мокрое', 'Отсутствие тротуаров (пешеходных дорожек)', 'Отсутствие временных ТСОД в местах проведения работ']\",\n",
       "       \"['Неисправность светофора', 'Сухое', 'Неудовлетворительное состояние обочин', 'Неправильное применение, плохая видимость дорожных знаков']\",\n",
       "       \"['Несоответствие железнодорожного переезда предъявляемым требованиям', 'Мокрое']\",\n",
       "       \"['Несоответствие дорожных ограждений предъявляемым требованиям', 'Мокрое', 'Неудовлетворительное состояние обочин', 'Неправильное применение, плохая видимость дорожных знаков']\",\n",
       "       \"['Отсутствие, плохая различимость горизонтальной разметки проезжей части', 'Обработанное противогололедными материалами', 'Недостатки зимнего содержания', 'Отсутствие освещения', 'Отсутствие тротуаров (пешеходных дорожек)']\",\n",
       "       \"['Сужение проезжей части, наличие препятствий, затрудняющих движение транспортных средств', 'Сухое', 'Отсутствие дорожных знаков в необходимых местах']\",\n",
       "       \"['Сухое', 'Недостатки зимнего содержания', 'Нарушения в размещении наружной рекламы']\",\n",
       "       \"['Обработанное противогололедными материалами', 'Недостатки зимнего содержания', 'Неправильное применение, плохая видимость дорожных знаков', 'Отсутствие дорожных ограждений в необходимых местах']\",\n",
       "       \"['Обработанное противогололедными материалами', 'Недостатки зимнего содержания', 'Отсутствие дорожных знаков в необходимых местах', 'Отсутствие, плохая различимость вертикальной разметки']\",\n",
       "       \"['Обработанное противогололедными материалами', 'Недостатки зимнего содержания', 'Отсутствие дорожных знаков в необходимых местах', 'Отсутствие дорожных ограждений в необходимых местах']\",\n",
       "       \"['Отсутствие дорожных знаков в необходимых местах', 'Заснеженное', 'Отсутствие направляющих устройств и световозвращающих элементов на них']\",\n",
       "       \"['Сужение проезжей части, наличие препятствий, затрудняющих движение транспортных средств', 'Заснеженное', 'Отсутствие тротуаров (пешеходных дорожек)']\",\n",
       "       \"['Сухое', 'Отсутствие дорожных знаков в необходимых местах', 'Неудовлетворительное состояние обочин', 'Отсутствие направляющих устройств и световозвращающих элементов на них']\",\n",
       "       \"['Неисправное освещение', 'Сухое', 'Отсутствие, плохая различимость горизонтальной разметки проезжей части', 'Неудовлетворительное состояние обочин']\",\n",
       "       \"['Неудовлетворительное состояние разделительной полосы', 'Сухое', 'Отсутствие, плохая различимость горизонтальной разметки проезжей части', 'Отсутствие, плохая различимость вертикальной разметки']\",\n",
       "       \"['Отсутствие, плохая различимость горизонтальной разметки проезжей части', 'Обработанное противогололедными материалами', 'Дефекты покрытия']\",\n",
       "       \"['Отсутствие элементов обустройства остановочного пункта общественного пассажирского транспорта', 'Обработанное противогололедными материалами']\",\n",
       "       \"['Неисправность светофора', 'Сухое', 'Отсутствие дорожных знаков в необходимых местах', 'Отсутствие дорожных ограждений в необходимых местах']\",\n",
       "       \"['Несоответствие железнодорожного переезда предъявляемым требованиям', 'Отклонение верха головки рельса трамвайных (железнодорожных) путей, расположенных в пределах проезжей части, относительно покрытия, более чем на 2,0 см', 'Обработанное противогололедными материалами', 'Дефекты покрытия', 'Неровное покрытие']\",\n",
       "       \"['Недостаточное освещение', 'Пыльное']\",\n",
       "       \"['Мокрое', 'Отсутствие направляющих устройств и световозвращающих элементов на них', 'Неправильное применение, плохая видимость дорожных знаков', 'Отсутствие освещения']\",\n",
       "       \"['Не установлено']\",\n",
       "       \"['Неисправное освещение', 'Сухое', 'Неудовлетворительное состояние обочин']\",\n",
       "       \"['Сухое', 'Отсутствие, плохая различимость горизонтальной разметки проезжей части', 'Дефекты покрытия', 'Неудовлетворительное состояние обочин', 'Неправильное применение, плохая видимость дорожных знаков']\",\n",
       "       \"['Неудовлетворительное состояние разделительной полосы', 'Обработанное противогололедными материалами', 'Недостатки зимнего содержания']\",\n",
       "       \"['Мокрое', 'Отсутствие, плохая различимость горизонтальной разметки проезжей части', 'Неправильное применение, плохая видимость дорожных знаков', 'Отсутствие тротуаров (пешеходных дорожек)']\",\n",
       "       \"['Сухое', 'Отсутствие, плохая различимость горизонтальной разметки проезжей части', 'Дефекты покрытия', 'Отсутствие пешеходных ограждений в необходимых местах']\",\n",
       "       \"['Сухое', 'Нарушения в размещении наружной рекламы', 'Отсутствие тротуаров (пешеходных дорожек)']\",\n",
       "       \"['Отсутствие освещения', 'Загрязненное']\",\n",
       "       \"['Недостатки зимнего содержания', 'Свежеуложенная поверхностная обработка', 'Отсутствие пешеходных ограждений в необходимых местах']\",\n",
       "       \"['Сужение проезжей части, наличие препятствий, затрудняющих движение транспортных средств', 'Пыльное']\",\n",
       "       \"['Мокрое', 'Дефекты покрытия', 'Отсутствие пешеходных ограждений в необходимых местах']\",\n",
       "       \"['Плохая видимость световозвращателей, размещенных на дорожных ограждениях', 'Отсутствие, плохая различимость горизонтальной разметки проезжей части', 'Обработанное противогололедными материалами', 'Недостатки зимнего содержания']\",\n",
       "       \"['Несоответствие люков смотровых колодцев и ливневой канализации предъявляемым требованиям', 'Сухое', 'Отсутствие, плохая различимость горизонтальной разметки проезжей части']\",\n",
       "       \"['Мокрое', 'Недостатки зимнего содержания', 'Низкие сцепные качества покрытия']\",\n",
       "       \"['Сухое', 'Отсутствие дорожных знаков в необходимых местах', 'Неудовлетворительное состояние обочин', 'Ограничение видимости']\",\n",
       "       \"['Сухое', 'Отсутствие, плохая различимость горизонтальной разметки проезжей части', 'Отсутствие дорожных знаков в необходимых местах', 'Отсутствие освещения', 'Отсутствие временных ТСОД в местах проведения работ']\",\n",
       "       \"['Неисправность светофора', 'Сухое', 'Отсутствие дорожных знаков в необходимых местах', 'Отсутствие освещения']\",\n",
       "       \"['Неудовлетворительное состояние разделительной полосы', 'Недостатки зимнего содержания', 'Заснеженное']\",\n",
       "       \"['Недостатки зимнего содержания', 'Со снежным накатом', 'Неправильное применение, плохая видимость дорожных знаков']\",\n",
       "       \"['Плохая видимость световозвращателей, размещенных на дорожных ограждениях', 'Мокрое', 'Отсутствие, плохая различимость горизонтальной разметки проезжей части', 'Отсутствие освещения']\",\n",
       "       \"['Иные недостатки', 'Отсутствие, плохая различимость горизонтальной разметки проезжей части', 'Обработанное противогололедными материалами', 'Недостатки зимнего содержания']\",\n",
       "       \"['Мокрое', 'Дефекты покрытия', 'Неудовлетворительное состояние обочин', 'Отсутствие освещения']\",\n",
       "       \"['Плохая видимость световозвращателей, размещенных на дорожных ограждениях', 'Иные недостатки', 'Сухое']\",\n",
       "       \"['Иные недостатки', 'Мокрое', 'Отсутствие, плохая различимость горизонтальной разметки проезжей части', 'Отсутствие направляющих устройств и световозвращающих элементов на них']\",\n",
       "       \"['Сухое', 'Отсутствие, плохая различимость горизонтальной разметки проезжей части', 'Отсутствие дорожных знаков в необходимых местах', 'Неровное покрытие']\",\n",
       "       \"['Плохая видимость световозвращателей, размещенных на дорожных ограждениях', 'Мокрое']\",\n",
       "       \"['Обработанное противогололедными материалами', 'Неудовлетворительное состояние обочин', 'Неправильное применение, плохая видимость дорожных знаков']\",\n",
       "       \"['Отсутствие дорожных знаков в необходимых местах', 'Заснеженное', 'Отсутствие пешеходных ограждений в необходимых местах']\",\n",
       "       \"['Сухое', 'Отсутствие, плохая различимость горизонтальной разметки проезжей части', 'Отсутствие дорожных знаков в необходимых местах', 'Нарушения в размещении наружной рекламы', 'Отсутствие пешеходных ограждений в необходимых местах']\",\n",
       "       \"['Со снежным накатом', 'Низкие сцепные качества покрытия']\",\n",
       "       \"['Сужение проезжей части, наличие препятствий, затрудняющих движение транспортных средств', 'Обработанное противогололедными материалами', 'Отсутствие освещения', 'Отсутствие тротуаров (пешеходных дорожек)']\",\n",
       "       \"['Неисправность светофора', 'Сухое', 'Дефекты покрытия']\",\n",
       "       \"['Отсутствие, плохая различимость горизонтальной разметки проезжей части', 'Обработанное противогололедными материалами', 'Недостатки зимнего содержания', 'Неправильное применение, плохая видимость дорожных знаков', 'Отсутствие освещения']\",\n",
       "       \"['Иные недостатки', 'Мокрое', 'Недостатки зимнего содержания']\",\n",
       "       \"['Сухое', 'Отсутствие, плохая различимость горизонтальной разметки проезжей части', 'Дефекты покрытия', 'Отсутствие дорожных знаков в необходимых местах', 'Отсутствие пешеходных ограждений в необходимых местах']\",\n",
       "       \"['Отсутствие, плохая различимость горизонтальной разметки проезжей части', 'Недостатки зимнего содержания', 'Заснеженное', 'Отсутствие освещения', 'Отсутствие тротуаров (пешеходных дорожек)']\",\n",
       "       \"['Залитое (покрытое) водой', 'Отсутствие, плохая различимость горизонтальной разметки проезжей части', 'Неудовлетворительное состояние обочин']\",\n",
       "       \"['Сухое', 'Нарушения в размещении наружной рекламы', 'Отсутствие пешеходных ограждений в необходимых местах']\",\n",
       "       \"['Неисправное освещение', 'Мокрое', 'Отсутствие временных ТСОД в местах проведения работ']\",\n",
       "       \"['Неисправное освещение', 'Мокрое', 'Отсутствие, плохая различимость горизонтальной разметки проезжей части', 'Дефекты покрытия']\",\n",
       "       \"['Сухое', 'Отсутствие дорожных знаков в необходимых местах', 'Неудовлетворительное состояние обочин', 'Отсутствие освещения']\",\n",
       "       \"['Мокрое', 'Отсутствие, плохая различимость горизонтальной разметки проезжей части', 'Неправильное применение, плохая видимость дорожных знаков', 'Отсутствие тротуаров (пешеходных дорожек)', 'Отсутствие пешеходных ограждений в необходимых местах']\",\n",
       "       \"['Сухое', 'Отсутствие, плохая различимость горизонтальной разметки проезжей части', 'Ограничение видимости']\",\n",
       "       \"['Сужение проезжей части, наличие препятствий, затрудняющих движение транспортных средств', 'Отсутствие, плохая различимость горизонтальной разметки проезжей части', 'Загрязненное']\",\n",
       "       \"['Сухое', 'Неудовлетворительное состояние обочин', 'Неровное покрытие']\",\n",
       "       \"['Мокрое', 'Отсутствие, плохая различимость горизонтальной разметки проезжей части', 'Отсутствие дорожных знаков в необходимых местах', 'Отсутствие дорожных ограждений в необходимых местах', 'Отсутствие пешеходных ограждений в необходимых местах']\",\n",
       "       \"['Мокрое', 'Отсутствие, плохая различимость горизонтальной разметки проезжей части', 'Отсутствие дорожных знаков в необходимых местах', 'Отсутствие тротуаров (пешеходных дорожек)']\",\n",
       "       \"['Сужение проезжей части, наличие препятствий, затрудняющих движение транспортных средств', 'Мокрое', 'Отсутствие, плохая различимость горизонтальной разметки проезжей части', 'Недостатки зимнего содержания', 'Неправильное применение, плохая видимость дорожных знаков']\",\n",
       "       \"['Недостатки зимнего содержания', 'Неудовлетворительное состояние обочин', 'Загрязненное']\",\n",
       "       \"['Отсутствие элементов обустройства остановочного пункта общественного пассажирского транспорта', 'Недостатки зимнего содержания', 'Заснеженное']\",\n",
       "       \"['Недостатки зимнего содержания', 'Отсутствие дорожных знаков в необходимых местах', 'Заснеженное', 'Отсутствие освещения', 'Отсутствие тротуаров (пешеходных дорожек)']\",\n",
       "       \"['Отсутствие элементов обустройства остановочного пункта общественного пассажирского транспорта', 'Сухое', 'Отсутствие, плохая различимость горизонтальной разметки проезжей части', 'Отсутствие дорожных знаков в необходимых местах', 'Отсутствие тротуаров (пешеходных дорожек)']\",\n",
       "       \"['Мокрое', 'Недостатки зимнего содержания', 'Дефекты покрытия']\",\n",
       "       \"['Мокрое', 'Отсутствие, плохая различимость горизонтальной разметки проезжей части', 'Дефекты покрытия', 'Неудовлетворительное состояние обочин', 'Неправильное применение, плохая видимость дорожных знаков']\",\n",
       "       \"['Недостатки зимнего содержания', 'Отсутствие дорожных знаков в необходимых местах', 'Неправильное применение, плохая видимость дорожных знаков', 'Отсутствие тротуаров (пешеходных дорожек)', 'Загрязненное']\",\n",
       "       \"['Иные недостатки', 'Обработанное противогололедными материалами', 'Недостатки зимнего содержания', 'Отсутствие дорожных ограждений в необходимых местах']\",\n",
       "       \"['Мокрое', 'Недостатки зимнего содержания', 'Отсутствие, плохая различимость вертикальной разметки']\",\n",
       "       \"['Сухое', 'Отсутствие дорожных знаков в необходимых местах', 'Нарушения в размещении наружной рекламы', 'Неудовлетворительное состояние обочин']\",\n",
       "       \"['Сухое', 'Отсутствие дорожных знаков в необходимых местах', 'Неудовлетворительное состояние обочин', 'Отсутствие тротуаров (пешеходных дорожек)']\",\n",
       "       \"['Иные недостатки', 'Мокрое', 'Отсутствие, плохая различимость горизонтальной разметки проезжей части', 'Отсутствие освещения']\",\n",
       "       \"['Сухое', 'Отсутствие, плохая различимость горизонтальной разметки проезжей части', 'Неправильное применение, плохая видимость дорожных знаков', 'Отсутствие освещения', 'Отсутствие тротуаров (пешеходных дорожек)']\",\n",
       "       \"['Неисправное освещение', 'Сухое', 'Отсутствие освещения']\",\n",
       "       \"['Сужение проезжей части, наличие препятствий, затрудняющих движение транспортных средств', 'Иные недостатки', 'Сухое', 'Отсутствие, плохая различимость горизонтальной разметки проезжей части']\",\n",
       "       \"['Иные недостатки', 'Недостатки зимнего содержания', 'Заснеженное', 'Неправильное применение, плохая видимость дорожных знаков']\",\n",
       "       \"['Несоответствие дорожных ограждений предъявляемым требованиям', 'Обработанное противогололедными материалами']\",\n",
       "       \"['Иные недостатки', 'Мокрое', 'Неудовлетворительное состояние обочин']\",\n",
       "       \"['Иные недостатки', 'Обработанное противогололедными материалами', 'Недостатки зимнего содержания', 'Отсутствие тротуаров (пешеходных дорожек)']\",\n",
       "       \"['Иные недостатки', 'Сухое', 'Неудовлетворительное состояние обочин', 'Отсутствие дорожных ограждений в необходимых местах']\",\n",
       "       \"['Несоответствие дорожных ограждений предъявляемым требованиям', 'Мокрое', 'Отсутствие, плохая различимость горизонтальной разметки проезжей части', 'Отсутствие дорожных знаков в необходимых местах', 'Отсутствие пешеходных ограждений в необходимых местах']\",\n",
       "       \"['Неисправное освещение', 'Мокрое', 'Отсутствие, плохая различимость вертикальной разметки']\",\n",
       "       \"['Отсутствие дорожных знаков в необходимых местах', 'Гололедица', 'Отсутствие тротуаров (пешеходных дорожек)']\",\n",
       "       \"['Сужение проезжей части, наличие препятствий, затрудняющих движение транспортных средств', 'Плохая видимость световозвращателей, размещенных на дорожных ограждениях', 'Обработанное противогололедными материалами', 'Недостатки зимнего содержания']\",\n",
       "       \"['Неисправное освещение', 'Мокрое', 'Отсутствие пешеходных ограждений в необходимых местах']\",\n",
       "       \"['Несоответствие дорожных ограждений предъявляемым требованиям', 'Мокрое', 'Отсутствие освещения']\",\n",
       "       \"['Неисправное освещение', 'Отсутствие, плохая различимость горизонтальной разметки проезжей части', 'Пыльное']\",\n",
       "       \"['Иные недостатки', 'Сухое', 'Отсутствие, плохая различимость горизонтальной разметки проезжей части', 'Неправильное применение, плохая видимость дорожных знаков', 'Отсутствие тротуаров (пешеходных дорожек)']\",\n",
       "       \"['Сухое', 'Ограничение видимости', 'Отсутствие пешеходных ограждений в необходимых местах']\",\n",
       "       \"['Сухое', 'Отсутствие, плохая различимость горизонтальной разметки проезжей части', 'Дефекты покрытия', 'Отсутствие временных ТСОД в местах проведения работ']\",\n",
       "       \"['Отсутствие элементов обустройства остановочного пункта общественного пассажирского транспорта', 'Обработанное противогололедными материалами', 'Недостатки зимнего содержания']\",\n",
       "       \"['Несоответствие дорожных ограждений предъявляемым требованиям', 'Сухое', 'Неудовлетворительное состояние обочин', 'Отсутствие освещения', 'Отсутствие тротуаров (пешеходных дорожек)']\",\n",
       "       \"['Заснеженное', 'Отсутствие временных ТСОД в местах проведения работ']\"],\n",
       "      dtype=object)"
      ]
     },
     "metadata": {},
     "output_type": "display_data"
    },
    {
     "data": {
      "text/plain": [
       "array([\"['Все участники']\", \"['Все участники', 'Дети']\",\n",
       "       \"['Все участники', 'Пешеходы']\",\n",
       "       \"['Все участники', 'Пешеходы', 'Дети']\",\n",
       "       \"['Все участники', 'Мотоциклисты']\",\n",
       "       \"['Все участники', 'Велосипедисты', 'Мотоциклисты']\",\n",
       "       \"['Все участники', 'Велосипедисты', 'Дети']\",\n",
       "       \"['Все участники', 'Велосипедисты']\",\n",
       "       \"['Все участники', 'Общ. транспорт']\",\n",
       "       \"['Все участники', 'Мотоциклисты', 'Дети']\",\n",
       "       \"['Все участники', 'Пешеходы', 'Мотоциклисты', 'Дети']\",\n",
       "       \"['Все участники', 'Пешеходы', 'Мотоциклисты']\",\n",
       "       \"['Все участники', 'Пешеходы', 'Велосипедисты']\",\n",
       "       \"['Все участники', 'Велосипедисты', 'Мотоциклисты', 'Дети']\",\n",
       "       \"['Велосипедисты', 'Все участники']\",\n",
       "       \"['Все участники', 'Пешеходы', 'Велосипедисты', 'Дети']\",\n",
       "       \"['Дети', 'Пешеходы', 'Все участники']\",\n",
       "       \"['Дети', 'Велосипедисты', 'Все участники']\",\n",
       "       \"['Пешеходы', 'Все участники']\",\n",
       "       \"['Мотоциклисты', 'Все участники']\",\n",
       "       \"['Все участники', 'Пешеходы', 'Общ. транспорт']\",\n",
       "       \"['Все участники', 'Общ. транспорт', 'Дети']\",\n",
       "       \"['Все участники', 'Велосипедисты', 'Общ. транспорт']\",\n",
       "       \"['Все участники', 'Мотоциклисты', 'Общ. транспорт']\",\n",
       "       \"['Велосипедисты', 'Дети', 'Все участники']\"], dtype=object)"
      ]
     },
     "metadata": {},
     "output_type": "display_data"
    }
   ],
   "source": [
    "display(moscowskaya_oblast.nunique().sort_values(ascending = False))\n",
    "\n",
    "display()\n",
    "\n",
    "display(moscowskaya_oblast['id'].unique())\n",
    "\n",
    "display()\n",
    "\n",
    "display(moscowskaya_oblast['tags'].unique())\n",
    "\n",
    "display()\n",
    "\n",
    "display(moscowskaya_oblast['nearby'].unique())\n",
    "\n",
    "display()\n",
    "\n",
    "display(moscowskaya_oblast['region'].unique())\n",
    "\n",
    "display()\n",
    "\n",
    "display(moscowskaya_oblast['address'].unique())\n",
    "\n",
    "display()\n",
    "\n",
    "display(moscowskaya_oblast['weather'].unique())\n",
    "\n",
    "display()\n",
    "\n",
    "display(moscowskaya_oblast['category'].unique())\n",
    "\n",
    "display()\n",
    "\n",
    "display(moscowskaya_oblast['parent_region'].unique())\n",
    "\n",
    "display()\n",
    "\n",
    "display(moscowskaya_oblast['road_conditions'].unique())\n",
    "\n",
    "display()\n",
    "\n",
    "display(moscowskaya_oblast['participant_categories'].unique())"
   ]
  },
  {
   "cell_type": "markdown",
   "metadata": {
    "id": "cGRC4FJ5GERF"
   },
   "source": [
    "Промежуточный итог:\n",
    "- Можно заметить, что в столбце `participant_categories` есть значение, по своей сути одинаковые, только порядок информации разный, например:\n",
    "1. \"['Дети', 'Пешеходы', 'Все участники']\" и \"['Все участники', 'Пешеходы', 'Дети']\";\n",
    "2. \"['Пешеходы', 'Все участники']\" и \"['Все участники', 'Пешеходы']\";\n",
    "3. \"['Велосипедисты', 'Дети', 'Все участники']\" и \"['Все участники', 'Велосипедисты', 'Дети']\";\n",
    "4. \"['Мотоциклисты', 'Все участники']\" и \"['Все участники', 'Мотоциклисты']\";\n",
    "5. \"['Дети', 'Велосипедисты', 'Все участники']\" и \"['Все участники', 'Велосипедисты', 'Дети']\";\n",
    "6. \"['Велосипедисты', 'Все участники']\" и \"['Все участники', 'Велосипедисты']\".\n",
    "Подобные дубликаты можно заменить один на другой, чтобы была только одна вариация последовательности категории участников ДТП.\n",
    "- В остальных столбцах неявных дубликатов обнаружено не было. Важно также отметить, что в столбце `id` кол-во уникальных значений соответвует общему числу строк в таблице. Это свидетельствует о том, что явных и неявных дубликатов по данному столбцу нет."
   ]
  },
  {
   "cell_type": "code",
   "execution_count": 123,
   "metadata": {
    "colab": {
     "base_uri": "https://localhost:8080/",
     "height": 374
    },
    "executionInfo": {
     "elapsed": 2,
     "status": "ok",
     "timestamp": 1756309872103,
     "user": {
      "displayName": "Maria Averkina",
      "userId": "01722641797731955161"
     },
     "user_tz": 420
    },
    "id": "ANE81VutGERF",
    "outputId": "4dcf4d68-0b2d-4eb7-b09a-df4a6c846666"
   },
   "outputs": [
    {
     "data": {
      "text/plain": [
       "array([\"['Все участники']\", \"['Все участники', 'Дети']\",\n",
       "       \"['Все участники', 'Пешеходы']\",\n",
       "       \"['Все участники', 'Пешеходы', 'Дети']\",\n",
       "       \"['Все участники', 'Мотоциклисты']\",\n",
       "       \"['Все участники', 'Велосипедисты', 'Мотоциклисты']\",\n",
       "       \"['Все участники', 'Велосипедисты', 'Дети']\",\n",
       "       \"['Все участники', 'Велосипедисты']\",\n",
       "       \"['Все участники', 'Общ. транспорт']\",\n",
       "       \"['Все участники', 'Мотоциклисты', 'Дети']\",\n",
       "       \"['Все участники', 'Пешеходы', 'Мотоциклисты', 'Дети']\",\n",
       "       \"['Все участники', 'Пешеходы', 'Мотоциклисты']\",\n",
       "       \"['Все участники', 'Пешеходы', 'Велосипедисты']\",\n",
       "       \"['Все участники', 'Велосипедисты', 'Мотоциклисты', 'Дети']\",\n",
       "       \"['Все участники', 'Пешеходы', 'Велосипедисты', 'Дети']\",\n",
       "       \"['Все участники', 'Пешеходы', 'Общ. транспорт']\",\n",
       "       \"['Все участники', 'Общ. транспорт', 'Дети']\",\n",
       "       \"['Все участники', 'Велосипедисты', 'Общ. транспорт']\",\n",
       "       \"['Все участники', 'Мотоциклисты', 'Общ. транспорт']\"],\n",
       "      dtype=object)"
      ]
     },
     "metadata": {},
     "output_type": "display_data"
    },
    {
     "name": "stdout",
     "output_type": "stream",
     "text": [
      "Число уникальных значений по столбцу с категориями участников = 19\n"
     ]
    }
   ],
   "source": [
    "moscowskaya_oblast['participant_categories'] = moscowskaya_oblast['participant_categories'].replace(\n",
    "    {\"['Дети', 'Пешеходы', 'Все участники']\" : \"['Все участники', 'Пешеходы', 'Дети']\",\n",
    "     \"['Пешеходы', 'Все участники']\" : \"['Все участники', 'Пешеходы']\",\n",
    "     \"['Велосипедисты', 'Дети', 'Все участники']\" : \"['Все участники', 'Велосипедисты', 'Дети']\",\n",
    "     \"['Мотоциклисты', 'Все участники']\" : \"['Все участники', 'Мотоциклисты']\",\n",
    "     \"['Дети', 'Велосипедисты', 'Все участники']\" : \"['Все участники', 'Велосипедисты', 'Дети']\",\n",
    "     \"['Велосипедисты', 'Все участники']\" : \"['Все участники', 'Велосипедисты']\"\n",
    "    })\n",
    "\n",
    "display(moscowskaya_oblast['participant_categories'].unique())\n",
    "print(f\"Число уникальных значений по столбцу с категориями участников = {moscowskaya_oblast['participant_categories'].nunique()}\")"
   ]
  },
  {
   "cell_type": "markdown",
   "metadata": {
    "id": "3jO9dHwwGERF"
   },
   "source": [
    "Мы исправиили данную ошибку в данных. Можно заметить, что число уникальных значений уменьщилось с 25 до 19 (ровно на 6, сколько пунктов мы описали выше). Далее поработаем с таблицей `moscowskaya_oblast_participants` на наличие неявных дубликатов."
   ]
  },
  {
   "cell_type": "code",
   "execution_count": 124,
   "metadata": {
    "colab": {
     "base_uri": "https://localhost:8080/",
     "height": 754
    },
    "executionInfo": {
     "elapsed": 2,
     "status": "ok",
     "timestamp": 1756309872107,
     "user": {
      "displayName": "Maria Averkina",
      "userId": "01722641797731955161"
     },
     "user_tz": 420
    },
    "id": "MSTqLQU4GERF",
    "outputId": "59e38bc0-4cbb-4a84-d899-4426fbcd2847"
   },
   "outputs": [
    {
     "data": {
      "text/plain": [
       "id                             38833\n",
       "violations                      1763\n",
       "years_of_driving_experience       68\n",
       "health_status                      7\n",
       "role                               5\n",
       "gender                             2\n",
       "dtype: int64"
      ]
     },
     "metadata": {},
     "output_type": "display_data"
    },
    {
     "data": {
      "text/plain": [
       "array([2163589, 2155398, 2163319, ..., 2131593, 2144409, 2152113],\n",
       "      shape=(38833,))"
      ]
     },
     "metadata": {},
     "output_type": "display_data"
    },
    {
     "data": {
      "text/plain": [
       "array(['Водитель', 'Пассажир', 'Велосипедист', 'Пешеход',\n",
       "       'Пешеход, перед ДТП находившийся в (на) ТС в качестве водителя или пешеход, перед ДТП находившийся в (на) ТС в качестве пассажира'],\n",
       "      dtype=object)"
      ]
     },
     "metadata": {},
     "output_type": "display_data"
    },
    {
     "data": {
      "text/plain": [
       "array(['Мужской', 'Женский', nan], dtype=object)"
      ]
     },
     "metadata": {},
     "output_type": "display_data"
    },
    {
     "data": {
      "text/plain": [
       "array(['[]', \"['Неправильный выбор дистанции']\",\n",
       "       \"['Несоблюдение очередности проезда перекрестков']\", ...,\n",
       "       \"['Движение вдоль проезжей части попутного направления вне населенного пункта при удовлетворительном состоянии обочины', 'Пешеход в состоянии алкогольного опьянения', 'Отсутствие световозвращающих элементов']\",\n",
       "       \"['Переход через проезжую часть вне пешеходного перехода в зоне его видимости либо при наличии в непосредственной близости подземного (надземного) пешеходного перехода', 'Неожиданный выход из-за стоящего ТС', 'Отсутствие световозвращающих элементов']\",\n",
       "       \"['Игра на проезжей части', 'Нахождение на проезжей части без цели её перехода']\"],\n",
       "      shape=(1763,), dtype=object)"
      ]
     },
     "metadata": {},
     "output_type": "display_data"
    },
    {
     "data": {
      "text/plain": [
       "array(['Не пострадал',\n",
       "       'Раненый, находящийся (находившийся) на стационарном лечении',\n",
       "       'Раненый, находящийся (находившийся) на амбулаторном лечении, либо в условиях дневного стационара',\n",
       "       'Раненый, находящийся (находившийся)  на амбулаторном лечении, либо которому по характеру полученных травм обозначена необходимость амбулаторного лечения (вне зависимости от его фактического прохождения)',\n",
       "       'Получил телесные повреждения с показанием к лечению в медицинских организациях (кроме разовой медицинской помощи)',\n",
       "       'Получил травмы с оказанием разовой медицинской помощи, к категории раненый не относится',\n",
       "       nan,\n",
       "       'Получил телесные повреждения с показанием к лечению в медицинских организациях, фактически лечение не проходил, к категории раненый не относится'],\n",
       "      dtype=object)"
      ]
     },
     "metadata": {},
     "output_type": "display_data"
    }
   ],
   "source": [
    "display(moscowskaya_oblast_participiants.nunique().sort_values(ascending = False))\n",
    "\n",
    "display()\n",
    "\n",
    "display(moscowskaya_oblast_participiants['id'].unique())\n",
    "\n",
    "display()\n",
    "\n",
    "display(moscowskaya_oblast_participiants['role'].unique())\n",
    "\n",
    "display()\n",
    "\n",
    "display(moscowskaya_oblast_participiants['gender'].unique())\n",
    "\n",
    "display()\n",
    "\n",
    "display(moscowskaya_oblast_participiants['violations'].unique())\n",
    "\n",
    "display()\n",
    "\n",
    "display(moscowskaya_oblast_participiants['health_status'].unique())"
   ]
  },
  {
   "cell_type": "markdown",
   "metadata": {
    "id": "Zhq-IbBNGERF"
   },
   "source": [
    "Промежуточные итоги:\n",
    "- Неявных дубликатов выявлено не было ни в одном из столбцов.\n",
    "- Важно отметить, что строк в этой таблице 95177, а по столбцу `id` уникальных значений 38833, то есть присутсвуют дубликаты, которые мы проверим и возможно удалим дальше.\n",
    "\n",
    "Проверим последнюю таблицу по Кировской области `moscowskaya_oblast_vehicles`."
   ]
  },
  {
   "cell_type": "code",
   "execution_count": 125,
   "metadata": {
    "colab": {
     "base_uri": "https://localhost:8080/",
     "height": 1000
    },
    "executionInfo": {
     "elapsed": 56,
     "status": "ok",
     "timestamp": 1756309872164,
     "user": {
      "displayName": "Maria Averkina",
      "userId": "01722641797731955161"
     },
     "user_tz": 420
    },
    "id": "97jCx_RwGERF",
    "outputId": "5446b669-44f5-4fc0-8291-9d94979bb1df"
   },
   "outputs": [
    {
     "data": {
      "text/plain": [
       "id          38614\n",
       "model        1563\n",
       "brand         298\n",
       "category       82\n",
       "year           59\n",
       "color          13\n",
       "dtype: int64"
      ]
     },
     "metadata": {},
     "output_type": "display_data"
    },
    {
     "data": {
      "text/plain": [
       "array([2163589, 2155398, 2163319, ..., 2159136, 2147166, 2142734],\n",
       "      shape=(38614,))"
      ]
     },
     "metadata": {},
     "output_type": "display_data"
    },
    {
     "data": {
      "text/plain": [
       "array(['ГАЗ', 'OPEL', 'MAZDA', 'RENAULT', 'MITSUBISHI', 'DAEWOO',\n",
       "       'TOYOTA', 'CHEVROLET', 'ВАЗ', 'HYUNDAI', 'МАЗ-МАН',\n",
       "       'Прочие марки ТС', 'ЛИАЗ', 'HONDA', 'Datsun', 'FORD', 'YAMAHA',\n",
       "       'NISSAN', 'KIA', 'INFINITI', 'МАЗ', 'VOLVO', 'AUDI', 'ВИС',\n",
       "       'FOTON', 'GEELY', 'ТАГАЗ (TAGAZ)', 'IVECO', 'BMW', 'SAAB', 'SKODA',\n",
       "       'VOLKSWAGEN', 'MAN', 'STERLING', 'SCANIA', 'MERCEDES', 'TIANMA',\n",
       "       'FIAT', 'HAIMA', 'SUZUKI', 'PEUGEOT', 'ПАЗ', 'BEDFORD', nan,\n",
       "       'Прочие марки мотоциклов', 'FAW', 'КАМАЗ', 'CHERY', 'GREAT WALL',\n",
       "       'MINI', 'LEXUS', 'УАЗ', 'LAND ROVER', 'JEEP', 'HAVAL', 'CITROEN',\n",
       "       'ЛУИДОР', 'ISUZU', 'НефАЗ', 'SSANGYONG', 'CADILLAC', 'DAF',\n",
       "       'SUBARU', 'KAWASAKI', 'ALPINA', 'CHRYSLER',\n",
       "       'Прочие марки легковых ТС', 'OMODA', 'МОСКВИЧ', 'DUCATI',\n",
       "       'CHANG-JIANG', 'DODGE', 'SEAZ', 'JAC', 'RAVON', 'PORSCHE',\n",
       "       'CHANGAN', 'HARLEY-DAVIDSON', 'GOLDEN DRAGON', 'ALFA ROMEO', 'ABM',\n",
       "       'DONG FENG', 'FANTIC', 'EXEED', 'FREIGHTLINER', 'MOTOLEVO',\n",
       "       'SHACMAN', 'BSA', 'PUMA', 'ZUNDAPP', 'BENELLI', 'AC', 'YUTONG',\n",
       "       'TRIUMPH', 'HIGER', 'Прочие марки грузовых ТС', 'JAGUAR', 'ИЖ',\n",
       "       'APRILIA', 'KINLON MOTORS', 'ГОЛАЗ', 'LIFAN', 'KRAMIT',\n",
       "       'Прочие марки легких коммерческих ТС', 'Прочие марки автобусов',\n",
       "       'MERCURY', 'ЗИЛ', 'MM', 'REGAL RAPTOR', 'XIN KAI', 'ACURA', 'SEAT',\n",
       "       'CHANG FENG', 'УРАЛ', 'DONGHAI', 'HAFEI', 'VAUXHALL', 'GAS GAS',\n",
       "       'HINDUSTAN', 'HOWO', 'SMART', 'TATA', 'ЗАЗ', 'KTM', 'IRISBUS',\n",
       "       'VENTURI', 'SHAANXI', 'LOTUS', 'ROVER', 'JIANGLING', 'PLYMOUTH',\n",
       "       'КАВЗ', 'Прочие марки строительной техники', 'HOLDEN', 'SYM',\n",
       "       'VICTORY', 'PAGANI', 'HYOSUNG', 'SETRA', 'БОГДАН', 'KYMCO',\n",
       "       'XINGFU', 'ALFER', 'JAWA', 'MINSK', 'VOR', 'DAIHATSU',\n",
       "       'MOTO MORINI', 'GEO', 'GMC', 'GILERA', 'SHUANGHUAN', 'KANUNI',\n",
       "       'JAWA-CZ', 'MOTOTRANS', 'CZ', 'SITRAK', 'SANGLAS', 'BAJAJ',\n",
       "       'DACIA', 'KEEWAY', 'MASERATI', 'BENTLEY', 'MOTO GUZZI', 'MOTOBI',\n",
       "       'TESLA', 'PUCH', 'ROXON', 'PONTIAC', 'MIDUAL', 'HUMMER', 'VESPA',\n",
       "       'Прочие марки седельных тягачей', 'JINBEI', 'SATURN', 'MG',\n",
       "       'INNOCENTI', 'FUQI', 'CCM', 'MTT', 'TVR', 'KANGDA', 'DERWAYS',\n",
       "       'VW-PORSCHE', 'BAW', 'JIANSHE-YAMAHA', 'BRILLIANCE', 'PROTON',\n",
       "       'OSSA', 'BYD', 'VECTOR', 'HIGHLAND', 'SVM', 'RELIANT', 'SAMSUNG',\n",
       "       'VAN VEEN', 'ZOTYE', 'FSO', 'GAC', 'HONLING', 'ENFIELD', 'LINCOLN',\n",
       "       'YUEJIN', 'BM', 'CAGIVA', 'YANGTZE', 'TATRA', 'ВОСХОД', 'ZX',\n",
       "       'TERBERG', 'KREIDLER', 'ЛАЗ', 'WESTFIELD',\n",
       "       'Прочие марки автокранов', 'PGO', 'DONINVEST', 'NEOPLAN',\n",
       "       'ZWEIRAD-UNION', 'КРАЗ', 'LTI', 'INDIAN', 'MALAGUTI', 'ALPINE',\n",
       "       'BETA', 'PETERBILT', 'JINCHENG', 'RAJDOOT', 'ЗИД', 'VOXAN', 'IKCO',\n",
       "       'KING LONG', 'JIANGHUAI', 'SOLO', 'FORSAGE', 'SIAMOTO',\n",
       "       'MOTORHISPANIA', 'БАЗ', 'DKW', 'HOREX', 'MBS', 'WIESMANN', 'FOSTI',\n",
       "       'SRECTRE', 'MUDAN', 'MARCOS', 'SIMSON', 'MZ', 'DNEPR', 'ZONDA',\n",
       "       'HUABEI', 'MAICO', 'TRABANT', 'ARO', 'SACHS', 'BMC', 'LDV',\n",
       "       'HONGQI', 'KENWORTH', 'G&G', 'LAVERDA', 'VERTEMATI', 'SHEN LONG',\n",
       "       'BLONELL', 'CPI', 'СимАЗ', 'REIEJU', 'DAELIM', 'MAGNI', 'MITSUOKA',\n",
       "       'AERMACCHI', 'LANCIA', 'BEIJING', 'BOVA', 'TITAN', 'DADI',\n",
       "       'BORILE', 'MEGA', 'DE TOMASO', 'BERTONE', 'MINELLI', 'ASIA',\n",
       "       'BEIFAN', 'SHUCHI', 'SCEO', 'SCION', 'HUSQVARNA', 'TROLL', 'MCC',\n",
       "       'DEFIANT', 'BUICK', 'ITALJET', 'MBK', 'KOENIGSEGG', 'LIEBHERR',\n",
       "       'MUZ', 'FERRARI', 'CATERHAM', 'NOBLE', 'DAIMLER'], dtype=object)"
      ]
     },
     "metadata": {},
     "output_type": "display_data"
    },
    {
     "data": {
      "text/plain": [
       "array(['Белый', 'Черный', 'Синий', 'Коричневый', 'Серый', 'Зеленый',\n",
       "       'Иные цвета', 'Желтый', 'Красный', 'Многоцветный', 'Фиолетовый',\n",
       "       'Не заполнено', 'Оранжевый', nan], dtype=object)"
      ]
     },
     "metadata": {},
     "output_type": "display_data"
    },
    {
     "data": {
      "text/plain": [
       "array(['Прочие модели ГАЗ', 'Astra', 'CX-5', ..., '64170', '4211', '4326'],\n",
       "      shape=(1564,), dtype=object)"
      ]
     },
     "metadata": {},
     "output_type": "display_data"
    },
    {
     "data": {
      "text/plain": [
       "array(['Фургоны', 'С-класс (малый средний, компактный) до 4,3 м',\n",
       "       'В-класс (малый) до 3,9 м',\n",
       "       'Е-класс (высший средний, бизнес-класс) до 4,9 м',\n",
       "       'А-класс (особо малый) до 3,5 м',\n",
       "       'Минивэны и универсалы повышенной вместимости',\n",
       "       'Прочие легковые автомобили', 'Рефрижераторы', 'Велосипеды',\n",
       "       'Одноэтажные длиной от 8 до 12 м', 'D-класс (средний) до 4,6 м',\n",
       "       'Мотоциклы',\n",
       "       'Оснащённые специализированным оборудованием  автотранспортные средства для коммунального хозяйства и  содержания дорог',\n",
       "       'Седельные тягачи', 'Бортовые грузовые автомобили', 'Квадроциклы',\n",
       "       'Мопеды с двигателем внутреннего сгорания более 50 см. куб.',\n",
       "       'Мопеды с двигателем внутреннего сгорания менее 50 см. куб.',\n",
       "       'Одноэтажные длиной от 5 до 8 м',\n",
       "       'Транспортные средства оперативно-служебные для перевозки лиц, находящихся под стражей',\n",
       "       'Легковые автомобили (без типа)', 'Иные ТС', 'Квадрициклы',\n",
       "       'Прочие одноярусные', 'Прочие грузовые автомобили', 'Самосвалы',\n",
       "       'Прочая спецтехника', 'Иные мототранспортные средства',\n",
       "       'S-класс (высший, представительский класс) более 4,9 м',\n",
       "       'Автомобили скорой медицинской помощи', 'Автоэвакуаторы',\n",
       "       'Фронтальные погрузчики', 'Тракторы', 'Мотороллеры',\n",
       "       'Автобетоносмесители', 'Бортовые', 'Прочие', 'Мотовелосипеды',\n",
       "       'Персональное электрическое средство передвижения малой мощности',\n",
       "       'Снегоходы', 'Подвижной состав ж/д', 'Троллейбусы', 'Автолесовозы',\n",
       "       'Экскаваторы', 'Одноэтажные длиной не более 5 м', 'Шасси',\n",
       "       'Спецтехника (без типа)',\n",
       "       'Одноэтажные, сочлененные длиной более 12 м', 'Автогрейдеры',\n",
       "       'Цистерны',\n",
       "       'Автокраны и транспортные средства, оснащенные кранами-манипуляторами',\n",
       "       'Мопеды с электродвигателем менее 4 кВт', 'Тягачи',\n",
       "       'Оснащённые специализированным оборудованием автотранспортные средства аварийно-спасательных служб и полиции',\n",
       "       'Транспортные средства, оснащенные подъемниками с рабочими платформами',\n",
       "       'Грузовые автомобили (без типа)',\n",
       "       'Специализированная снегоуборочная техника',\n",
       "       'Самоходные машины и механизмы сельскохозяйственного назначения',\n",
       "       'Самоходные мотоблоки', 'Мототранспорт (без типа)',\n",
       "       'Транспортные средства для перевозки сжиженных углеводородных газов на давление до 1,8 Мпа',\n",
       "       'Медицинские комплексы на шасси транспортных средств',\n",
       "       'Автобетононасосы', 'Автобусы (без типа)', 'Автоцементовозы',\n",
       "       'Транспортные средства для перевозки нефтепродуктов',\n",
       "       'Транспортные средства для перевозки денежной выручки и ценных грузов',\n",
       "       'Прочие одноэтажные',\n",
       "       'Транспортные средства для перевозки пищевых жидкостей',\n",
       "       'Пожарные автомобили', 'Двухярусные',\n",
       "       'Специализированная техника военного назначения',\n",
       "       'Прочие самоходные машины и механизмы', 'Мотоколяски', 'Трамваи',\n",
       "       'Боевая техника', 'Прочие Типы ТС (без типа)',\n",
       "       'Транспортные средства для обслуживания нефтяных и  газовых скважин',\n",
       "       'Трициклы',\n",
       "       'Иные дорожно-строительные и дорожно-эксплуатационные машины и механизмы',\n",
       "       'Специализированная техника аварийно-спасательного назначения',\n",
       "       'Спортивные (гоночные)'], dtype=object)"
      ]
     },
     "metadata": {},
     "output_type": "display_data"
    }
   ],
   "source": [
    "display(moscowskaya_oblast_vehicles.nunique().sort_values(ascending = False))\n",
    "\n",
    "display()\n",
    "\n",
    "display(moscowskaya_oblast_vehicles['id'].unique())\n",
    "\n",
    "display()\n",
    "\n",
    "display(moscowskaya_oblast_vehicles['brand'].unique())\n",
    "\n",
    "display()\n",
    "\n",
    "display(moscowskaya_oblast_vehicles['color'].unique())\n",
    "\n",
    "display()\n",
    "\n",
    "display(moscowskaya_oblast_vehicles['model'].unique())\n",
    "\n",
    "display()\n",
    "\n",
    "display(moscowskaya_oblast_vehicles['category'].unique())"
   ]
  },
  {
   "cell_type": "markdown",
   "metadata": {
    "id": "a07w5JQCGERF"
   },
   "source": [
    "Промежуточные итоги:\n",
    "- Неявных дубликатов обнаружено не было ни в одном столбце.\n",
    "- Также важно отметить, что всего строк в данной таблице 65606, а  а по столбцу `id` уникальных значений 38614, то есть присутсвуют дубликаты, которые мы проверим и возможно удалим дальше.\n",
    "\n",
    "Далее поработаем с явными дубликатами."
   ]
  },
  {
   "cell_type": "code",
   "execution_count": 126,
   "metadata": {
    "colab": {
     "base_uri": "https://localhost:8080/"
    },
    "executionInfo": {
     "elapsed": 20,
     "status": "ok",
     "timestamp": 1756309872183,
     "user": {
      "displayName": "Maria Averkina",
      "userId": "01722641797731955161"
     },
     "user_tz": 420
    },
    "id": "t_XtSIzKGERF",
    "outputId": "52b6b4bd-076e-444f-f478-fc1571fc9c46"
   },
   "outputs": [
    {
     "data": {
      "text/plain": [
       "np.int64(0)"
      ]
     },
     "execution_count": 126,
     "metadata": {},
     "output_type": "execute_result"
    }
   ],
   "source": [
    "# На всякий случай проверим явные дубликаты в таблице kirovskaya_oblast по связке время-долгота-широта\n",
    "moscowskaya_oblast.duplicated(subset=['datetime', 'point_long', 'point_lat'], keep = 'first').sum()"
   ]
  },
  {
   "cell_type": "markdown",
   "metadata": {
    "id": "ZVy4P2FxGERG"
   },
   "source": [
    "Дубликатов, как было упомянуто ранее, в основной таблице с информацией о ДТП в Кировской области обнаружено не было. Это очень хорошо для дальнейшего анализа. Проверим остальные таблицы."
   ]
  },
  {
   "cell_type": "code",
   "execution_count": 127,
   "metadata": {
    "colab": {
     "base_uri": "https://localhost:8080/",
     "height": 53
    },
    "executionInfo": {
     "elapsed": 134,
     "status": "ok",
     "timestamp": 1756309872317,
     "user": {
      "displayName": "Maria Averkina",
      "userId": "01722641797731955161"
     },
     "user_tz": 420
    },
    "id": "f_xZUuPJGERG",
    "outputId": "4ec1a6c4-3159-4c35-ae2a-37e76a678d59"
   },
   "outputs": [
    {
     "data": {
      "text/plain": [
       "np.int64(35428)"
      ]
     },
     "metadata": {},
     "output_type": "display_data"
    },
    {
     "data": {
      "text/plain": [
       "np.int64(706)"
      ]
     },
     "metadata": {},
     "output_type": "display_data"
    }
   ],
   "source": [
    "display(moscowskaya_oblast_participiants.duplicated(keep = 'first').sum())\n",
    "\n",
    "display()\n",
    "\n",
    "display(moscowskaya_oblast_vehicles.duplicated(keep = 'first').sum())"
   ]
  },
  {
   "cell_type": "markdown",
   "metadata": {
    "id": "kOZUvna7GERG"
   },
   "source": [
    "Есть полные дубликаты по строкам, где несколько раз повторяются одни и те же строки полностью. В таблице `moscowskaya_oblast_participiants` таких дубликатов 9727, что достаточно много в абсолютном значении. В таблице `moscowskaya_oblast_vehicles` таких дубликатов в абсолютном значении немного, всего 706b. Давайте рассмотрим относительные значения количества дубликатов. После этого от них будет необходимо избавиться, чтобы результаты дальнейшего анализа были более точные."
   ]
  },
  {
   "cell_type": "code",
   "execution_count": 128,
   "metadata": {
    "colab": {
     "base_uri": "https://localhost:8080/"
    },
    "executionInfo": {
     "elapsed": 98,
     "status": "ok",
     "timestamp": 1756309872414,
     "user": {
      "displayName": "Maria Averkina",
      "userId": "01722641797731955161"
     },
     "user_tz": 420
    },
    "id": "2oKXNkV3GERG",
    "outputId": "5904926a-7bfc-4a20-bd3c-7f8afad4641e"
   },
   "outputs": [
    {
     "name": "stdout",
     "output_type": "stream",
     "text": [
      "Относительное количество дубликатов в таблице moscowskaya_oblast_participiants составило 37.22327873330742 %\n",
      "Относительное количество дубликатов в таблице moscowskaya_oblast_vehicles составило 1.0761210864859923 %\n"
     ]
    }
   ],
   "source": [
    "dupl_sum_3 = moscowskaya_oblast_participiants.duplicated(keep = 'first').sum()\n",
    "\n",
    "total_3 = moscowskaya_oblast_participiants.shape[0]\n",
    "\n",
    "part_3 = dupl_sum_3/total_3*100\n",
    "\n",
    "dupl_sum_4 = moscowskaya_oblast_vehicles.duplicated(keep = 'first').sum()\n",
    "\n",
    "total_4 = moscowskaya_oblast_vehicles.shape[0]\n",
    "\n",
    "part_4 = dupl_sum_4/total_4*100\n",
    "\n",
    "print(f\"Относительное количество дубликатов в таблице moscowskaya_oblast_participiants составило {part_3} %\")\n",
    "print(f\"Относительное количество дубликатов в таблице moscowskaya_oblast_vehicles составило {part_4} %\")"
   ]
  },
  {
   "cell_type": "markdown",
   "metadata": {
    "id": "4P2jS9hAGERG"
   },
   "source": [
    "Промежуточные итоги:\n",
    "\n",
    "В таблице `moscowskaya_oblast_participiants` в относительном количестве дубликаты составили примерно 37%.\n",
    "В таблице `moscowskaya_oblast_vehicles` в относительном количестве дубликаты составили примерно 1%. Как и было упомянто раннее в таблице с информацией об участниках ДТП дубликатов значительно больше, чем в той, что содержит информацию о транспортных средствах ДТП. Несмотря на то, что явные дубликаты таблицы `moscowskaya_oblast_participiants` составили менее половины от общего числа, это все еще значительная доля.\n",
    "Важно! Общее количество строк в данных таблицах рассчитывалось без вычета обнаруженых явных дубликатов. Считались абсолютно все строки, в том числе и эти самые дубликаты.\n",
    "\n",
    "Далее удалим полные дубликаты из соответсвующих таблиц."
   ]
  },
  {
   "cell_type": "code",
   "execution_count": 129,
   "metadata": {
    "colab": {
     "base_uri": "https://localhost:8080/",
     "height": 53
    },
    "executionInfo": {
     "elapsed": 160,
     "status": "ok",
     "timestamp": 1756309872573,
     "user": {
      "displayName": "Maria Averkina",
      "userId": "01722641797731955161"
     },
     "user_tz": 420
    },
    "id": "v-MHwduYGERG",
    "outputId": "ecd1c133-d622-4dc9-aaa0-569982b04aad"
   },
   "outputs": [
    {
     "data": {
      "text/plain": [
       "np.int64(0)"
      ]
     },
     "metadata": {},
     "output_type": "display_data"
    },
    {
     "data": {
      "text/plain": [
       "np.int64(0)"
      ]
     },
     "metadata": {},
     "output_type": "display_data"
    }
   ],
   "source": [
    "moscowskaya_oblast_participiants = moscowskaya_oblast_participiants.drop_duplicates(keep = 'first')\n",
    "moscowskaya_oblast_vehicles = moscowskaya_oblast_vehicles.drop_duplicates(keep = 'first')\n",
    "\n",
    "display(moscowskaya_oblast_participiants.duplicated(keep = 'first').sum())\n",
    "display(moscowskaya_oblast_vehicles.duplicated(keep = 'first').sum())"
   ]
  },
  {
   "cell_type": "markdown",
   "metadata": {
    "id": "H7Oy3jRuGERG"
   },
   "source": [
    "Итоговый вывод по поиску неявных и явных дубликатов по всем датасетам:\n",
    "\n",
    "- Стоит отметить, что некоторые неявные дебликаты достаточно сложно проверять из-за большой вариативности уникальных значений, которые сами по себе также достаточно объемны. Например, это столбец `road_conditions` в основных датасетах по Кировской и Московской области. Проверять их вручную неэффективно. В целом, главное, чтобы не встречались граматические или синтаксические ошибки в заполненных данных, если некоторые данные повторяются, но например в другом порядке не меняя сути, то, возможно это не настолько сильно повредит дальнейшему анализу, по крайней мере в рамках данного проекта.\n",
    "- Были удалены явные дубликаты из таблиц с информацией об участниках и транспортных средствах ДТП (`participiants` и `vehicles`).\n",
    "- Отсутсвие явных дубликатов в основных таблицах о Московской и Кировской областях можно считать положительным аспектом для дальнейшего анализа."
   ]
  },
  {
   "cell_type": "markdown",
   "metadata": {
    "id": "FQyJB_QL-GQB"
   },
   "source": [
    "### Проверка корректности типов данных"
   ]
  },
  {
   "cell_type": "markdown",
   "metadata": {
    "id": "5sFiAJDAGERG"
   },
   "source": [
    "Начнем работаь также сначала с датасетами по Кировской области - `kirovskaya_oblast`. Выведем информацию о каждом датасете по этой области и проверим корректность типов данных."
   ]
  },
  {
   "cell_type": "code",
   "execution_count": 130,
   "metadata": {
    "colab": {
     "base_uri": "https://localhost:8080/",
     "height": 649
    },
    "executionInfo": {
     "elapsed": 6,
     "status": "ok",
     "timestamp": 1756309872574,
     "user": {
      "displayName": "Maria Averkina",
      "userId": "01722641797731955161"
     },
     "user_tz": 420
    },
    "id": "btWPqCSVGERG",
    "outputId": "cdff480b-bd04-4445-9cd8-4a5952fd05bc"
   },
   "outputs": [
    {
     "data": {
      "text/plain": [
       "coordinates                object\n",
       "id                          int64\n",
       "tags                       object\n",
       "light                      object\n",
       "point_lat                 float64\n",
       "point_long                float64\n",
       "nearby                     object\n",
       "region                     object\n",
       "scheme                    float64\n",
       "address                    object\n",
       "weather                    object\n",
       "category                   object\n",
       "datetime                   object\n",
       "injured_count               int64\n",
       "parent_region              object\n",
       "road_conditions            object\n",
       "participants_count          int64\n",
       "participant_categories     object\n",
       "dtype: object"
      ]
     },
     "execution_count": 130,
     "metadata": {},
     "output_type": "execute_result"
    }
   ],
   "source": [
    "kirovskaya_oblast.dtypes"
   ]
  },
  {
   "cell_type": "markdown",
   "metadata": {
    "id": "R22XYsLvGERG"
   },
   "source": [
    "Промежуточные итоги:\n",
    "- Тип данных `object` имеют следующие столбцы: `coordinates`, `tags`, `light`, `nearby`, `region`, `address`, `weather`, `category`, `datetime`, `parent_region`, `road_conditions`, `participant_categories`. Столбцы `coordinates`, `nearby`, `weather`, `road_conditions`, `participant_categories` являются списками, с таким типом даннх не очень удобно работать. В рамках данного проекта это не составит проблемы, но в дальнейшем это может помешать эффективному анализу. Столбец `datetime` стоит привести к типу данных дата и время, так как время также указано в значениях данного столбца. Столбец `coordinates` дублирует информацию столбцов `point_lat`, `point_long` и при необходимости от него можно будет избавиться. В рамках данного проекта мы этого делать не будем, чтобы не исказить данные.\n",
    "- Тип данных `int64` имеют следующие столбцы: `id`, `injured_count`, `participants_count`. В данном случае необходимо уменьшить битовый разряд, чтобы сэкономить память.\n",
    "- Тип данных `float64` имеют следующие столбцы: `point_lat`, `point_long`, `scheme`. Столбец `scheme` логичнее привести к типу данных `integer`.\n",
    "\n",
    "Также столбцы, в которых есть пропуски и у которых необходимо изменить тип данных, мы обработаем и вставим в них заглушки."
   ]
  },
  {
   "cell_type": "code",
   "execution_count": 131,
   "metadata": {
    "colab": {
     "base_uri": "https://localhost:8080/",
     "height": 649
    },
    "executionInfo": {
     "elapsed": 36,
     "status": "ok",
     "timestamp": 1756309872609,
     "user": {
      "displayName": "Maria Averkina",
      "userId": "01722641797731955161"
     },
     "user_tz": 420
    },
    "id": "SPH95Hi3GERH",
    "outputId": "e94ebfd0-cb95-427c-cf49-e845855ed78f",
    "scrolled": true
   },
   "outputs": [
    {
     "data": {
      "text/plain": [
       "coordinates                       object\n",
       "id                                 int32\n",
       "tags                              object\n",
       "light                             object\n",
       "point_lat                        float64\n",
       "point_long                       float64\n",
       "nearby                            object\n",
       "region                            object\n",
       "scheme                             int16\n",
       "address                           object\n",
       "weather                           object\n",
       "category                          object\n",
       "datetime                  datetime64[ns]\n",
       "injured_count                       int8\n",
       "parent_region                     object\n",
       "road_conditions                   object\n",
       "participants_count                  int8\n",
       "participant_categories            object\n",
       "dtype: object"
      ]
     },
     "execution_count": 131,
     "metadata": {},
     "output_type": "execute_result"
    }
   ],
   "source": [
    "# Ставим заглушку, чтобы провести преобразование данных\n",
    "kirovskaya_oblast['scheme'] = kirovskaya_oblast['scheme'].fillna(-1)\n",
    "\n",
    "kirovskaya_oblast['datetime'] = kirovskaya_oblast['datetime'].astype('datetime64[ns]')\n",
    "\n",
    "# С помощью цикла меняет тип данных у ряда столбцов\n",
    "for column in ['scheme', 'id', 'injured_count', 'participants_count']:\n",
    "    if column in kirovskaya_oblast.columns:\n",
    "        kirovskaya_oblast[column] = pd.to_numeric(kirovskaya_oblast[column], downcast='integer')\n",
    "kirovskaya_oblast.dtypes"
   ]
  },
  {
   "cell_type": "code",
   "execution_count": 132,
   "metadata": {
    "colab": {
     "base_uri": "https://localhost:8080/",
     "height": 521
    },
    "executionInfo": {
     "elapsed": 137,
     "status": "ok",
     "timestamp": 1756309872745,
     "user": {
      "displayName": "Maria Averkina",
      "userId": "01722641797731955161"
     },
     "user_tz": 420
    },
    "id": "wifZeVPtGERH",
    "outputId": "c7468874-8569-42e2-d136-6c35a48c404d",
    "scrolled": false
   },
   "outputs": [
    {
     "data": {
      "text/html": [
       "<div>\n",
       "<style scoped>\n",
       "    .dataframe tbody tr th:only-of-type {\n",
       "        vertical-align: middle;\n",
       "    }\n",
       "\n",
       "    .dataframe tbody tr th {\n",
       "        vertical-align: top;\n",
       "    }\n",
       "\n",
       "    .dataframe thead th {\n",
       "        text-align: right;\n",
       "    }\n",
       "</style>\n",
       "<table border=\"1\" class=\"dataframe\">\n",
       "  <thead>\n",
       "    <tr style=\"text-align: right;\">\n",
       "      <th></th>\n",
       "      <th>coordinates</th>\n",
       "      <th>id</th>\n",
       "      <th>tags</th>\n",
       "      <th>light</th>\n",
       "      <th>point_lat</th>\n",
       "      <th>point_long</th>\n",
       "      <th>nearby</th>\n",
       "      <th>region</th>\n",
       "      <th>scheme</th>\n",
       "      <th>address</th>\n",
       "      <th>weather</th>\n",
       "      <th>category</th>\n",
       "      <th>datetime</th>\n",
       "      <th>injured_count</th>\n",
       "      <th>parent_region</th>\n",
       "      <th>road_conditions</th>\n",
       "      <th>participants_count</th>\n",
       "      <th>participant_categories</th>\n",
       "    </tr>\n",
       "  </thead>\n",
       "  <tbody>\n",
       "    <tr>\n",
       "      <th>0</th>\n",
       "      <td>[47.875603, 57.24379]</td>\n",
       "      <td>1983180</td>\n",
       "      <td>Дорожно-транспортные происшествия</td>\n",
       "      <td>Светлое время суток</td>\n",
       "      <td>57.243790</td>\n",
       "      <td>47.875603</td>\n",
       "      <td>[]</td>\n",
       "      <td>Яранский район</td>\n",
       "      <td>600</td>\n",
       "      <td>Р-176 Вятка Чебоксары - Йошкар-Ола - Киров - С...</td>\n",
       "      <td>['Дождь']</td>\n",
       "      <td>Опрокидывание</td>\n",
       "      <td>2017-07-01 18:00:00</td>\n",
       "      <td>1</td>\n",
       "      <td>Кировская область</td>\n",
       "      <td>['Мокрое']</td>\n",
       "      <td>3</td>\n",
       "      <td>['Все участники']</td>\n",
       "    </tr>\n",
       "    <tr>\n",
       "      <th>1</th>\n",
       "      <td>[47.87903, 57.304807]</td>\n",
       "      <td>2889433</td>\n",
       "      <td>Дорожно-транспортные происшествия</td>\n",
       "      <td>Светлое время суток</td>\n",
       "      <td>57.304807</td>\n",
       "      <td>47.879030</td>\n",
       "      <td>['Административные здания', 'Нерегулируемый пе...</td>\n",
       "      <td>Яранский район</td>\n",
       "      <td>710</td>\n",
       "      <td>г Яранск, ул Кирова, 10</td>\n",
       "      <td>['Ясно']</td>\n",
       "      <td>Наезд на пешехода</td>\n",
       "      <td>2023-09-12 17:10:00</td>\n",
       "      <td>1</td>\n",
       "      <td>Кировская область</td>\n",
       "      <td>['Сухое', 'Отсутствие, плохая различимость гор...</td>\n",
       "      <td>2</td>\n",
       "      <td>['Все участники', 'Пешеходы']</td>\n",
       "    </tr>\n",
       "    <tr>\n",
       "      <th>2</th>\n",
       "      <td>[47.840781, 57.297156]</td>\n",
       "      <td>2591208</td>\n",
       "      <td>Дорожно-транспортные происшествия</td>\n",
       "      <td>Сумерки</td>\n",
       "      <td>57.297156</td>\n",
       "      <td>47.840781</td>\n",
       "      <td>['Жилые дома индивидуальной застройки', 'Нерег...</td>\n",
       "      <td>Яранский район</td>\n",
       "      <td>-1</td>\n",
       "      <td>г Яранск, ул Чапаева, 80</td>\n",
       "      <td>['Пасмурно']</td>\n",
       "      <td>Съезд с дороги</td>\n",
       "      <td>2021-07-02 21:25:00</td>\n",
       "      <td>1</td>\n",
       "      <td>Кировская область</td>\n",
       "      <td>['Мокрое']</td>\n",
       "      <td>1</td>\n",
       "      <td>['Все участники']</td>\n",
       "    </tr>\n",
       "    <tr>\n",
       "      <th>3</th>\n",
       "      <td>[47.834365, 57.244775]</td>\n",
       "      <td>2577639</td>\n",
       "      <td>Дорожно-транспортные происшествия</td>\n",
       "      <td>Светлое время суток</td>\n",
       "      <td>57.244775</td>\n",
       "      <td>47.834365</td>\n",
       "      <td>['Жилые дома индивидуальной застройки']</td>\n",
       "      <td>Яранский район</td>\n",
       "      <td>200</td>\n",
       "      <td>м Знаменка, ул Кирова, 15</td>\n",
       "      <td>['Пасмурно']</td>\n",
       "      <td>Столкновение</td>\n",
       "      <td>2021-05-31 18:55:00</td>\n",
       "      <td>1</td>\n",
       "      <td>Кировская область</td>\n",
       "      <td>['Сухое']</td>\n",
       "      <td>2</td>\n",
       "      <td>['Все участники', 'Мотоциклисты']</td>\n",
       "    </tr>\n",
       "    <tr>\n",
       "      <th>4</th>\n",
       "      <td>[47.968197, 57.357738]</td>\n",
       "      <td>1981026</td>\n",
       "      <td>Дорожно-транспортные происшествия</td>\n",
       "      <td>Светлое время суток</td>\n",
       "      <td>57.357738</td>\n",
       "      <td>47.968197</td>\n",
       "      <td>['Нерегулируемый перекрёсток неравнозначных ул...</td>\n",
       "      <td>Яранский район</td>\n",
       "      <td>-1</td>\n",
       "      <td>с/п Никольское, Киров-Советск- Яранск - подъез...</td>\n",
       "      <td>['Ясно']</td>\n",
       "      <td>Опрокидывание</td>\n",
       "      <td>2018-05-16 16:25:00</td>\n",
       "      <td>2</td>\n",
       "      <td>Кировская область</td>\n",
       "      <td>['Сухое', 'Отсутствие, плохая различимость гор...</td>\n",
       "      <td>2</td>\n",
       "      <td>['Все участники']</td>\n",
       "    </tr>\n",
       "  </tbody>\n",
       "</table>\n",
       "</div>"
      ],
      "text/plain": [
       "              coordinates       id                               tags  \\\n",
       "0   [47.875603, 57.24379]  1983180  Дорожно-транспортные происшествия   \n",
       "1   [47.87903, 57.304807]  2889433  Дорожно-транспортные происшествия   \n",
       "2  [47.840781, 57.297156]  2591208  Дорожно-транспортные происшествия   \n",
       "3  [47.834365, 57.244775]  2577639  Дорожно-транспортные происшествия   \n",
       "4  [47.968197, 57.357738]  1981026  Дорожно-транспортные происшествия   \n",
       "\n",
       "                 light  point_lat  point_long  \\\n",
       "0  Светлое время суток  57.243790   47.875603   \n",
       "1  Светлое время суток  57.304807   47.879030   \n",
       "2              Сумерки  57.297156   47.840781   \n",
       "3  Светлое время суток  57.244775   47.834365   \n",
       "4  Светлое время суток  57.357738   47.968197   \n",
       "\n",
       "                                              nearby          region  scheme  \\\n",
       "0                                                 []  Яранский район     600   \n",
       "1  ['Административные здания', 'Нерегулируемый пе...  Яранский район     710   \n",
       "2  ['Жилые дома индивидуальной застройки', 'Нерег...  Яранский район      -1   \n",
       "3            ['Жилые дома индивидуальной застройки']  Яранский район     200   \n",
       "4  ['Нерегулируемый перекрёсток неравнозначных ул...  Яранский район      -1   \n",
       "\n",
       "                                             address       weather  \\\n",
       "0  Р-176 Вятка Чебоксары - Йошкар-Ола - Киров - С...     ['Дождь']   \n",
       "1                            г Яранск, ул Кирова, 10      ['Ясно']   \n",
       "2                           г Яранск, ул Чапаева, 80  ['Пасмурно']   \n",
       "3                          м Знаменка, ул Кирова, 15  ['Пасмурно']   \n",
       "4  с/п Никольское, Киров-Советск- Яранск - подъез...      ['Ясно']   \n",
       "\n",
       "            category            datetime  injured_count      parent_region  \\\n",
       "0      Опрокидывание 2017-07-01 18:00:00              1  Кировская область   \n",
       "1  Наезд на пешехода 2023-09-12 17:10:00              1  Кировская область   \n",
       "2     Съезд с дороги 2021-07-02 21:25:00              1  Кировская область   \n",
       "3       Столкновение 2021-05-31 18:55:00              1  Кировская область   \n",
       "4      Опрокидывание 2018-05-16 16:25:00              2  Кировская область   \n",
       "\n",
       "                                     road_conditions  participants_count  \\\n",
       "0                                         ['Мокрое']                   3   \n",
       "1  ['Сухое', 'Отсутствие, плохая различимость гор...                   2   \n",
       "2                                         ['Мокрое']                   1   \n",
       "3                                          ['Сухое']                   2   \n",
       "4  ['Сухое', 'Отсутствие, плохая различимость гор...                   2   \n",
       "\n",
       "              participant_categories  \n",
       "0                  ['Все участники']  \n",
       "1      ['Все участники', 'Пешеходы']  \n",
       "2                  ['Все участники']  \n",
       "3  ['Все участники', 'Мотоциклисты']  \n",
       "4                  ['Все участники']  "
      ]
     },
     "execution_count": 132,
     "metadata": {},
     "output_type": "execute_result"
    }
   ],
   "source": [
    "kirovskaya_oblast.head()"
   ]
  },
  {
   "cell_type": "markdown",
   "metadata": {
    "id": "AztPM9A_GERH"
   },
   "source": [
    "Далее проделаем всю ту же работу с датасетами `kirovskaya_oblast_participiants` и `kirovskaya_oblast_vehicles`."
   ]
  },
  {
   "cell_type": "code",
   "execution_count": 133,
   "metadata": {
    "colab": {
     "base_uri": "https://localhost:8080/",
     "height": 272
    },
    "executionInfo": {
     "elapsed": 7,
     "status": "ok",
     "timestamp": 1756309872753,
     "user": {
      "displayName": "Maria Averkina",
      "userId": "01722641797731955161"
     },
     "user_tz": 420
    },
    "id": "V4VjxMtxGERH",
    "outputId": "7d726994-3911-4a26-ddd4-482de95a3441",
    "scrolled": false
   },
   "outputs": [
    {
     "data": {
      "text/plain": [
       "role                            object\n",
       "gender                          object\n",
       "violations                      object\n",
       "health_status                   object\n",
       "years_of_driving_experience    float64\n",
       "id                               int64\n",
       "dtype: object"
      ]
     },
     "execution_count": 133,
     "metadata": {},
     "output_type": "execute_result"
    }
   ],
   "source": [
    "kirovskaya_oblast_participiants.dtypes"
   ]
  },
  {
   "cell_type": "markdown",
   "metadata": {
    "id": "P_3yabjfGERH"
   },
   "source": [
    "Промежуточные итоги:\n",
    "- Тип данных `object` имеют следующие столбцы: `role`, `gender`, `violations`, `health_status`.\n",
    "- Тип данных `int64` имеет столбец `id`. В данном случае необходимо уменьшить битовый разряд, чтобы сэкономить память.\n",
    "- Тип данных `float64` имеет столбец `years_of_driving_experience`, его логичнее привести к типу данных `integer`.\n",
    "\n",
    "Также столбцы, в которых есть пропуски и у которых необходимо изменить тип данных, мы обработаем и вставим в них заглушки."
   ]
  },
  {
   "cell_type": "code",
   "execution_count": 134,
   "metadata": {
    "colab": {
     "base_uri": "https://localhost:8080/",
     "height": 272
    },
    "executionInfo": {
     "elapsed": 51,
     "status": "ok",
     "timestamp": 1756309872806,
     "user": {
      "displayName": "Maria Averkina",
      "userId": "01722641797731955161"
     },
     "user_tz": 420
    },
    "id": "-Bp_FndsGERH",
    "outputId": "e0c21def-9f75-4d09-fccd-acb43fc32bb4"
   },
   "outputs": [
    {
     "data": {
      "text/plain": [
       "role                           object\n",
       "gender                         object\n",
       "violations                     object\n",
       "health_status                  object\n",
       "years_of_driving_experience      int8\n",
       "id                              int32\n",
       "dtype: object"
      ]
     },
     "execution_count": 134,
     "metadata": {},
     "output_type": "execute_result"
    }
   ],
   "source": [
    "kirovskaya_oblast_participiants['years_of_driving_experience'] = kirovskaya_oblast_participiants['years_of_driving_experience'].fillna(-1)\n",
    "\n",
    "kirovskaya_oblast_participiants['years_of_driving_experience'] = pd.to_numeric(kirovskaya_oblast_participiants['years_of_driving_experience'], downcast = 'integer')\n",
    "\n",
    "kirovskaya_oblast_participiants['id'] = pd.to_numeric(kirovskaya_oblast_participiants['id'], downcast = 'integer')\n",
    "\n",
    "kirovskaya_oblast_participiants.dtypes"
   ]
  },
  {
   "cell_type": "code",
   "execution_count": 135,
   "metadata": {
    "colab": {
     "base_uri": "https://localhost:8080/",
     "height": 258
    },
    "executionInfo": {
     "elapsed": 41,
     "status": "ok",
     "timestamp": 1756309872846,
     "user": {
      "displayName": "Maria Averkina",
      "userId": "01722641797731955161"
     },
     "user_tz": 420
    },
    "id": "al-B0ySZGERH",
    "outputId": "5580a06d-c8d9-4a4a-a7f7-b2f40770e5c3"
   },
   "outputs": [
    {
     "data": {
      "text/html": [
       "<div>\n",
       "<style scoped>\n",
       "    .dataframe tbody tr th:only-of-type {\n",
       "        vertical-align: middle;\n",
       "    }\n",
       "\n",
       "    .dataframe tbody tr th {\n",
       "        vertical-align: top;\n",
       "    }\n",
       "\n",
       "    .dataframe thead th {\n",
       "        text-align: right;\n",
       "    }\n",
       "</style>\n",
       "<table border=\"1\" class=\"dataframe\">\n",
       "  <thead>\n",
       "    <tr style=\"text-align: right;\">\n",
       "      <th></th>\n",
       "      <th>role</th>\n",
       "      <th>gender</th>\n",
       "      <th>violations</th>\n",
       "      <th>health_status</th>\n",
       "      <th>years_of_driving_experience</th>\n",
       "      <th>id</th>\n",
       "    </tr>\n",
       "  </thead>\n",
       "  <tbody>\n",
       "    <tr>\n",
       "      <th>0</th>\n",
       "      <td>Водитель</td>\n",
       "      <td>Мужской</td>\n",
       "      <td>['Несоответствие скорости конкретным условиям ...</td>\n",
       "      <td>Раненый, находящийся (находившийся) на амбулат...</td>\n",
       "      <td>26</td>\n",
       "      <td>1983180</td>\n",
       "    </tr>\n",
       "    <tr>\n",
       "      <th>1</th>\n",
       "      <td>Водитель</td>\n",
       "      <td>Мужской</td>\n",
       "      <td>[]</td>\n",
       "      <td>Не пострадал</td>\n",
       "      <td>34</td>\n",
       "      <td>2889433</td>\n",
       "    </tr>\n",
       "    <tr>\n",
       "      <th>2</th>\n",
       "      <td>Пассажир</td>\n",
       "      <td>Мужской</td>\n",
       "      <td>[]</td>\n",
       "      <td>Раненый, находящийся (находившийся)  на амбула...</td>\n",
       "      <td>-1</td>\n",
       "      <td>2591208</td>\n",
       "    </tr>\n",
       "    <tr>\n",
       "      <th>4</th>\n",
       "      <td>Водитель</td>\n",
       "      <td>Мужской</td>\n",
       "      <td>[]</td>\n",
       "      <td>Не пострадал</td>\n",
       "      <td>27</td>\n",
       "      <td>2577639</td>\n",
       "    </tr>\n",
       "    <tr>\n",
       "      <th>5</th>\n",
       "      <td>Пассажир</td>\n",
       "      <td>Женский</td>\n",
       "      <td>[]</td>\n",
       "      <td>Раненый, находящийся (находившийся) на стацион...</td>\n",
       "      <td>-1</td>\n",
       "      <td>1981026</td>\n",
       "    </tr>\n",
       "  </tbody>\n",
       "</table>\n",
       "</div>"
      ],
      "text/plain": [
       "       role   gender                                         violations  \\\n",
       "0  Водитель  Мужской  ['Несоответствие скорости конкретным условиям ...   \n",
       "1  Водитель  Мужской                                                 []   \n",
       "2  Пассажир  Мужской                                                 []   \n",
       "4  Водитель  Мужской                                                 []   \n",
       "5  Пассажир  Женский                                                 []   \n",
       "\n",
       "                                       health_status  \\\n",
       "0  Раненый, находящийся (находившийся) на амбулат...   \n",
       "1                                       Не пострадал   \n",
       "2  Раненый, находящийся (находившийся)  на амбула...   \n",
       "4                                       Не пострадал   \n",
       "5  Раненый, находящийся (находившийся) на стацион...   \n",
       "\n",
       "   years_of_driving_experience       id  \n",
       "0                           26  1983180  \n",
       "1                           34  2889433  \n",
       "2                           -1  2591208  \n",
       "4                           27  2577639  \n",
       "5                           -1  1981026  "
      ]
     },
     "execution_count": 135,
     "metadata": {},
     "output_type": "execute_result"
    }
   ],
   "source": [
    "kirovskaya_oblast_participiants.head()"
   ]
  },
  {
   "cell_type": "code",
   "execution_count": 136,
   "metadata": {
    "colab": {
     "base_uri": "https://localhost:8080/",
     "height": 272
    },
    "executionInfo": {
     "elapsed": 17,
     "status": "ok",
     "timestamp": 1756309872866,
     "user": {
      "displayName": "Maria Averkina",
      "userId": "01722641797731955161"
     },
     "user_tz": 420
    },
    "id": "hBRqRubAGERH",
    "outputId": "795115bd-d58c-4970-f047-2b875f0d3e3f"
   },
   "outputs": [
    {
     "data": {
      "text/plain": [
       "year        float64\n",
       "brand        object\n",
       "color        object\n",
       "model        object\n",
       "category     object\n",
       "id            int64\n",
       "dtype: object"
      ]
     },
     "execution_count": 136,
     "metadata": {},
     "output_type": "execute_result"
    }
   ],
   "source": [
    "kirovskaya_oblast_vehicles.dtypes"
   ]
  },
  {
   "cell_type": "markdown",
   "metadata": {
    "id": "THxG-CG-GERH"
   },
   "source": [
    "Промежуточные итоги:\n",
    "- Тип данных `object` имеют следующие столбцы: `brand`, `color`, `model`, `category`.\n",
    "- Тип данных `int64` имеет столбец `id`. В данном случае необходимо уменьшить битовый разряд, чтобы сэкономить память.\n",
    "- Тип данных `float64` имеет столбец `year`, его приведем к типу данных `integer`.\n",
    "\n",
    "Также столбцы, в которых есть пропуски и у которых необходимо изменить тип данных, мы обработаем и вставим в них заглушки."
   ]
  },
  {
   "cell_type": "code",
   "execution_count": 137,
   "metadata": {
    "colab": {
     "base_uri": "https://localhost:8080/",
     "height": 272
    },
    "executionInfo": {
     "elapsed": 8,
     "status": "ok",
     "timestamp": 1756309872875,
     "user": {
      "displayName": "Maria Averkina",
      "userId": "01722641797731955161"
     },
     "user_tz": 420
    },
    "id": "z8tXyJqhGERI",
    "outputId": "cd5086a9-7232-4a2f-9a53-df7bf361fb11"
   },
   "outputs": [
    {
     "data": {
      "text/plain": [
       "year         int16\n",
       "brand       object\n",
       "color       object\n",
       "model       object\n",
       "category    object\n",
       "id           int32\n",
       "dtype: object"
      ]
     },
     "execution_count": 137,
     "metadata": {},
     "output_type": "execute_result"
    }
   ],
   "source": [
    "kirovskaya_oblast_vehicles['year'] = kirovskaya_oblast_vehicles['year'].fillna(-1)\n",
    "\n",
    "kirovskaya_oblast_vehicles['year'] = pd.to_numeric(kirovskaya_oblast_vehicles['year'], downcast = 'integer')\n",
    "\n",
    "kirovskaya_oblast_vehicles['id'] = pd.to_numeric(kirovskaya_oblast_vehicles['id'], downcast = 'integer')\n",
    "\n",
    "kirovskaya_oblast_vehicles.dtypes"
   ]
  },
  {
   "cell_type": "code",
   "execution_count": 138,
   "metadata": {
    "colab": {
     "base_uri": "https://localhost:8080/",
     "height": 206
    },
    "executionInfo": {
     "elapsed": 89,
     "status": "ok",
     "timestamp": 1756309872964,
     "user": {
      "displayName": "Maria Averkina",
      "userId": "01722641797731955161"
     },
     "user_tz": 420
    },
    "id": "_lhzg5VdGERI",
    "outputId": "e1161662-8a62-4340-89f1-823d03bcf8b6"
   },
   "outputs": [
    {
     "data": {
      "text/html": [
       "<div>\n",
       "<style scoped>\n",
       "    .dataframe tbody tr th:only-of-type {\n",
       "        vertical-align: middle;\n",
       "    }\n",
       "\n",
       "    .dataframe tbody tr th {\n",
       "        vertical-align: top;\n",
       "    }\n",
       "\n",
       "    .dataframe thead th {\n",
       "        text-align: right;\n",
       "    }\n",
       "</style>\n",
       "<table border=\"1\" class=\"dataframe\">\n",
       "  <thead>\n",
       "    <tr style=\"text-align: right;\">\n",
       "      <th></th>\n",
       "      <th>year</th>\n",
       "      <th>brand</th>\n",
       "      <th>color</th>\n",
       "      <th>model</th>\n",
       "      <th>category</th>\n",
       "      <th>id</th>\n",
       "    </tr>\n",
       "  </thead>\n",
       "  <tbody>\n",
       "    <tr>\n",
       "      <th>0</th>\n",
       "      <td>2011</td>\n",
       "      <td>ВАЗ</td>\n",
       "      <td>Серый</td>\n",
       "      <td>Kalina</td>\n",
       "      <td>А-класс (особо малый) до 3,5 м</td>\n",
       "      <td>1983180</td>\n",
       "    </tr>\n",
       "    <tr>\n",
       "      <th>1</th>\n",
       "      <td>2005</td>\n",
       "      <td>CHEVROLET</td>\n",
       "      <td>Зеленый</td>\n",
       "      <td>Niva</td>\n",
       "      <td>С-класс (малый средний, компактный) до 4,3 м</td>\n",
       "      <td>2889433</td>\n",
       "    </tr>\n",
       "    <tr>\n",
       "      <th>2</th>\n",
       "      <td>2017</td>\n",
       "      <td>RENAULT</td>\n",
       "      <td>Синий</td>\n",
       "      <td>Logan</td>\n",
       "      <td>С-класс (малый средний, компактный) до 4,3 м</td>\n",
       "      <td>2591208</td>\n",
       "    </tr>\n",
       "    <tr>\n",
       "      <th>3</th>\n",
       "      <td>2006</td>\n",
       "      <td>ВАЗ</td>\n",
       "      <td>Зеленый</td>\n",
       "      <td>ВАЗ 2115 и модификации</td>\n",
       "      <td>С-класс (малый средний, компактный) до 4,3 м</td>\n",
       "      <td>2577639</td>\n",
       "    </tr>\n",
       "    <tr>\n",
       "      <th>4</th>\n",
       "      <td>1986</td>\n",
       "      <td>MERCEDES</td>\n",
       "      <td>Зеленый</td>\n",
       "      <td>Прочие модели Mercedes</td>\n",
       "      <td>Фургоны</td>\n",
       "      <td>1981026</td>\n",
       "    </tr>\n",
       "  </tbody>\n",
       "</table>\n",
       "</div>"
      ],
      "text/plain": [
       "   year      brand    color                   model  \\\n",
       "0  2011        ВАЗ    Серый                  Kalina   \n",
       "1  2005  CHEVROLET  Зеленый                    Niva   \n",
       "2  2017    RENAULT    Синий                   Logan   \n",
       "3  2006        ВАЗ  Зеленый  ВАЗ 2115 и модификации   \n",
       "4  1986   MERCEDES  Зеленый  Прочие модели Mercedes   \n",
       "\n",
       "                                       category       id  \n",
       "0                А-класс (особо малый) до 3,5 м  1983180  \n",
       "1  С-класс (малый средний, компактный) до 4,3 м  2889433  \n",
       "2  С-класс (малый средний, компактный) до 4,3 м  2591208  \n",
       "3  С-класс (малый средний, компактный) до 4,3 м  2577639  \n",
       "4                                       Фургоны  1981026  "
      ]
     },
     "execution_count": 138,
     "metadata": {},
     "output_type": "execute_result"
    }
   ],
   "source": [
    "kirovskaya_oblast_vehicles.head()"
   ]
  },
  {
   "cell_type": "markdown",
   "metadata": {
    "id": "x78hDMYJGERI"
   },
   "source": [
    "Далее проделаем всю ту же работу с датасетами о Московской области и сформулируем итоговый вывод. Будем избегать развернутых комментариев, если не будет обнаружено новых нюансов по данным датасетам."
   ]
  },
  {
   "cell_type": "code",
   "execution_count": 139,
   "metadata": {
    "colab": {
     "base_uri": "https://localhost:8080/",
     "height": 649
    },
    "executionInfo": {
     "elapsed": 3,
     "status": "ok",
     "timestamp": 1756309872965,
     "user": {
      "displayName": "Maria Averkina",
      "userId": "01722641797731955161"
     },
     "user_tz": 420
    },
    "id": "4k0o5sOyGERI",
    "outputId": "fd504ee2-6505-465a-aa21-817b6292d497"
   },
   "outputs": [
    {
     "data": {
      "text/plain": [
       "coordinates                object\n",
       "id                          int64\n",
       "tags                       object\n",
       "light                      object\n",
       "point_lat                 float64\n",
       "point_long                float64\n",
       "nearby                     object\n",
       "region                     object\n",
       "scheme                    float64\n",
       "address                    object\n",
       "weather                    object\n",
       "category                   object\n",
       "datetime                   object\n",
       "injured_count               int64\n",
       "parent_region              object\n",
       "road_conditions            object\n",
       "participants_count          int64\n",
       "participant_categories     object\n",
       "dtype: object"
      ]
     },
     "execution_count": 139,
     "metadata": {},
     "output_type": "execute_result"
    }
   ],
   "source": [
    "moscowskaya_oblast.dtypes"
   ]
  },
  {
   "cell_type": "code",
   "execution_count": 140,
   "metadata": {
    "colab": {
     "base_uri": "https://localhost:8080/",
     "height": 649
    },
    "executionInfo": {
     "elapsed": 43,
     "status": "ok",
     "timestamp": 1756309873007,
     "user": {
      "displayName": "Maria Averkina",
      "userId": "01722641797731955161"
     },
     "user_tz": 420
    },
    "id": "byRAGvQ7GERI",
    "outputId": "1533c7f6-9e59-4b24-d9e2-8f91a63653c6"
   },
   "outputs": [
    {
     "data": {
      "text/plain": [
       "coordinates                       object\n",
       "id                                 int32\n",
       "tags                              object\n",
       "light                             object\n",
       "point_lat                        float64\n",
       "point_long                       float64\n",
       "nearby                            object\n",
       "region                            object\n",
       "scheme                             int16\n",
       "address                           object\n",
       "weather                           object\n",
       "category                          object\n",
       "datetime                  datetime64[ns]\n",
       "injured_count                       int8\n",
       "parent_region                     object\n",
       "road_conditions                   object\n",
       "participants_count                  int8\n",
       "participant_categories            object\n",
       "dtype: object"
      ]
     },
     "execution_count": 140,
     "metadata": {},
     "output_type": "execute_result"
    }
   ],
   "source": [
    "# Ставим заглушку, чтобы провести преобразование данных\n",
    "moscowskaya_oblast['scheme'] = moscowskaya_oblast['scheme'].fillna(-1)\n",
    "\n",
    "moscowskaya_oblast['datetime'] = moscowskaya_oblast['datetime'].astype('datetime64[ns]')\n",
    "\n",
    "# С помощью цикла меняет тип данных у ряда столбцов\n",
    "for column in ['scheme', 'id', 'injured_count', 'participants_count']:\n",
    "    if column in moscowskaya_oblast.columns:\n",
    "        moscowskaya_oblast[column] = pd.to_numeric(moscowskaya_oblast[column], downcast='integer')\n",
    "moscowskaya_oblast.dtypes"
   ]
  },
  {
   "cell_type": "code",
   "execution_count": 141,
   "metadata": {
    "colab": {
     "base_uri": "https://localhost:8080/",
     "height": 539
    },
    "executionInfo": {
     "elapsed": 441,
     "status": "ok",
     "timestamp": 1756309873448,
     "user": {
      "displayName": "Maria Averkina",
      "userId": "01722641797731955161"
     },
     "user_tz": 420
    },
    "id": "DmOSyvYsGERI",
    "outputId": "3debe66e-446a-49fe-eade-4b7030459bd2"
   },
   "outputs": [
    {
     "data": {
      "text/html": [
       "<div>\n",
       "<style scoped>\n",
       "    .dataframe tbody tr th:only-of-type {\n",
       "        vertical-align: middle;\n",
       "    }\n",
       "\n",
       "    .dataframe tbody tr th {\n",
       "        vertical-align: top;\n",
       "    }\n",
       "\n",
       "    .dataframe thead th {\n",
       "        text-align: right;\n",
       "    }\n",
       "</style>\n",
       "<table border=\"1\" class=\"dataframe\">\n",
       "  <thead>\n",
       "    <tr style=\"text-align: right;\">\n",
       "      <th></th>\n",
       "      <th>coordinates</th>\n",
       "      <th>id</th>\n",
       "      <th>tags</th>\n",
       "      <th>light</th>\n",
       "      <th>point_lat</th>\n",
       "      <th>point_long</th>\n",
       "      <th>nearby</th>\n",
       "      <th>region</th>\n",
       "      <th>scheme</th>\n",
       "      <th>address</th>\n",
       "      <th>weather</th>\n",
       "      <th>category</th>\n",
       "      <th>datetime</th>\n",
       "      <th>injured_count</th>\n",
       "      <th>parent_region</th>\n",
       "      <th>road_conditions</th>\n",
       "      <th>participants_count</th>\n",
       "      <th>participant_categories</th>\n",
       "    </tr>\n",
       "  </thead>\n",
       "  <tbody>\n",
       "    <tr>\n",
       "      <th>0</th>\n",
       "      <td>[37.5253, 55.9992]</td>\n",
       "      <td>2163589</td>\n",
       "      <td>['Дорожно-транспортные происшествия']</td>\n",
       "      <td>Светлое время суток</td>\n",
       "      <td>55.999200</td>\n",
       "      <td>37.525300</td>\n",
       "      <td>['Мост, эстакада, путепровод', 'Крупный торгов...</td>\n",
       "      <td>Мытищинский</td>\n",
       "      <td>-1</td>\n",
       "      <td>ХЛЕБНИКОВО-РОГАЧЕВО, 0 км</td>\n",
       "      <td>['Ясно']</td>\n",
       "      <td>Столкновение</td>\n",
       "      <td>2019-01-31 09:05:00</td>\n",
       "      <td>1</td>\n",
       "      <td>Московская область</td>\n",
       "      <td>['Мокрое', 'Отсутствие, плохая различимость го...</td>\n",
       "      <td>3</td>\n",
       "      <td>['Все участники']</td>\n",
       "    </tr>\n",
       "    <tr>\n",
       "      <th>1</th>\n",
       "      <td>[37.058966, 55.788688]</td>\n",
       "      <td>2155398</td>\n",
       "      <td>['Дорожно-транспортные происшествия', 'ДТП и п...</td>\n",
       "      <td>В темное время суток, освещение включено</td>\n",
       "      <td>55.788688</td>\n",
       "      <td>37.058966</td>\n",
       "      <td>[]</td>\n",
       "      <td>Истринский</td>\n",
       "      <td>70</td>\n",
       "      <td>М-9 Балтия Москва - Волоколамск - граница с Ла...</td>\n",
       "      <td>['Ясно']</td>\n",
       "      <td>Столкновение</td>\n",
       "      <td>2018-09-22 05:00:00</td>\n",
       "      <td>2</td>\n",
       "      <td>Московская область</td>\n",
       "      <td>['Сухое']</td>\n",
       "      <td>4</td>\n",
       "      <td>['Все участники', 'Дети']</td>\n",
       "    </tr>\n",
       "    <tr>\n",
       "      <th>2</th>\n",
       "      <td>[37.4419, 56.0081]</td>\n",
       "      <td>2163319</td>\n",
       "      <td>['Дорожно-транспортные происшествия']</td>\n",
       "      <td>В темное время суток, освещение включено</td>\n",
       "      <td>56.008100</td>\n",
       "      <td>37.441900</td>\n",
       "      <td>['Многоквартирные жилые дома', 'Остановка обще...</td>\n",
       "      <td>Лобня</td>\n",
       "      <td>820</td>\n",
       "      <td>г Лобня, ул Ленина, 43</td>\n",
       "      <td>['Пасмурно']</td>\n",
       "      <td>Наезд на пешехода</td>\n",
       "      <td>2019-01-24 19:30:00</td>\n",
       "      <td>1</td>\n",
       "      <td>Московская область</td>\n",
       "      <td>['Обработанное противогололедными материалами']</td>\n",
       "      <td>2</td>\n",
       "      <td>['Все участники', 'Пешеходы']</td>\n",
       "    </tr>\n",
       "    <tr>\n",
       "      <th>3</th>\n",
       "      <td>[38.6614, 55.4358]</td>\n",
       "      <td>2143938</td>\n",
       "      <td>['Дорожно-транспортные происшествия']</td>\n",
       "      <td>Светлое время суток</td>\n",
       "      <td>55.435800</td>\n",
       "      <td>38.661400</td>\n",
       "      <td>['Регулируемый перекресток']</td>\n",
       "      <td>Воскресенский</td>\n",
       "      <td>300</td>\n",
       "      <td>ЖУКОВСКИЙ-РАМЕНСКОЕ-СТ.БРОННИЦЫ-ЧЕЧЕВИЛОВО-МБК...</td>\n",
       "      <td>['Ясно']</td>\n",
       "      <td>Столкновение</td>\n",
       "      <td>2018-01-25 16:00:00</td>\n",
       "      <td>2</td>\n",
       "      <td>Московская область</td>\n",
       "      <td>['Обработанное противогололедными материалами'...</td>\n",
       "      <td>3</td>\n",
       "      <td>['Все участники']</td>\n",
       "    </tr>\n",
       "    <tr>\n",
       "      <th>4</th>\n",
       "      <td>[38.29207, 55.50502]</td>\n",
       "      <td>2163390</td>\n",
       "      <td>['Дорожно-транспортные происшествия']</td>\n",
       "      <td>В темное время суток, освещение отсутствует</td>\n",
       "      <td>55.505020</td>\n",
       "      <td>38.292070</td>\n",
       "      <td>['Нерегулируемый перекрёсток неравнозначных ул...</td>\n",
       "      <td>Раменский</td>\n",
       "      <td>500</td>\n",
       "      <td>ММК-РАМЕНСКОЕ, 4 км</td>\n",
       "      <td>['Ясно']</td>\n",
       "      <td>Столкновение</td>\n",
       "      <td>2019-01-14 17:40:00</td>\n",
       "      <td>1</td>\n",
       "      <td>Московская область</td>\n",
       "      <td>['Обработанное противогололедными материалами']</td>\n",
       "      <td>2</td>\n",
       "      <td>['Все участники']</td>\n",
       "    </tr>\n",
       "  </tbody>\n",
       "</table>\n",
       "</div>"
      ],
      "text/plain": [
       "              coordinates       id  \\\n",
       "0      [37.5253, 55.9992]  2163589   \n",
       "1  [37.058966, 55.788688]  2155398   \n",
       "2      [37.4419, 56.0081]  2163319   \n",
       "3      [38.6614, 55.4358]  2143938   \n",
       "4    [38.29207, 55.50502]  2163390   \n",
       "\n",
       "                                                tags  \\\n",
       "0              ['Дорожно-транспортные происшествия']   \n",
       "1  ['Дорожно-транспортные происшествия', 'ДТП и п...   \n",
       "2              ['Дорожно-транспортные происшествия']   \n",
       "3              ['Дорожно-транспортные происшествия']   \n",
       "4              ['Дорожно-транспортные происшествия']   \n",
       "\n",
       "                                         light  point_lat  point_long  \\\n",
       "0                          Светлое время суток  55.999200   37.525300   \n",
       "1     В темное время суток, освещение включено  55.788688   37.058966   \n",
       "2     В темное время суток, освещение включено  56.008100   37.441900   \n",
       "3                          Светлое время суток  55.435800   38.661400   \n",
       "4  В темное время суток, освещение отсутствует  55.505020   38.292070   \n",
       "\n",
       "                                              nearby         region  scheme  \\\n",
       "0  ['Мост, эстакада, путепровод', 'Крупный торгов...    Мытищинский      -1   \n",
       "1                                                 []     Истринский      70   \n",
       "2  ['Многоквартирные жилые дома', 'Остановка обще...          Лобня     820   \n",
       "3                       ['Регулируемый перекресток']  Воскресенский     300   \n",
       "4  ['Нерегулируемый перекрёсток неравнозначных ул...      Раменский     500   \n",
       "\n",
       "                                             address       weather  \\\n",
       "0                          ХЛЕБНИКОВО-РОГАЧЕВО, 0 км      ['Ясно']   \n",
       "1  М-9 Балтия Москва - Волоколамск - граница с Ла...      ['Ясно']   \n",
       "2                             г Лобня, ул Ленина, 43  ['Пасмурно']   \n",
       "3  ЖУКОВСКИЙ-РАМЕНСКОЕ-СТ.БРОННИЦЫ-ЧЕЧЕВИЛОВО-МБК...      ['Ясно']   \n",
       "4                                ММК-РАМЕНСКОЕ, 4 км      ['Ясно']   \n",
       "\n",
       "            category            datetime  injured_count       parent_region  \\\n",
       "0       Столкновение 2019-01-31 09:05:00              1  Московская область   \n",
       "1       Столкновение 2018-09-22 05:00:00              2  Московская область   \n",
       "2  Наезд на пешехода 2019-01-24 19:30:00              1  Московская область   \n",
       "3       Столкновение 2018-01-25 16:00:00              2  Московская область   \n",
       "4       Столкновение 2019-01-14 17:40:00              1  Московская область   \n",
       "\n",
       "                                     road_conditions  participants_count  \\\n",
       "0  ['Мокрое', 'Отсутствие, плохая различимость го...                   3   \n",
       "1                                          ['Сухое']                   4   \n",
       "2    ['Обработанное противогололедными материалами']                   2   \n",
       "3  ['Обработанное противогололедными материалами'...                   3   \n",
       "4    ['Обработанное противогололедными материалами']                   2   \n",
       "\n",
       "          participant_categories  \n",
       "0              ['Все участники']  \n",
       "1      ['Все участники', 'Дети']  \n",
       "2  ['Все участники', 'Пешеходы']  \n",
       "3              ['Все участники']  \n",
       "4              ['Все участники']  "
      ]
     },
     "execution_count": 141,
     "metadata": {},
     "output_type": "execute_result"
    }
   ],
   "source": [
    "moscowskaya_oblast.head()"
   ]
  },
  {
   "cell_type": "code",
   "execution_count": 142,
   "metadata": {
    "colab": {
     "base_uri": "https://localhost:8080/",
     "height": 272
    },
    "executionInfo": {
     "elapsed": 4,
     "status": "ok",
     "timestamp": 1756309873448,
     "user": {
      "displayName": "Maria Averkina",
      "userId": "01722641797731955161"
     },
     "user_tz": 420
    },
    "id": "jHsJJoXFGERI",
    "outputId": "bd08cc97-8eaa-4ccf-8305-84bb1d91e079"
   },
   "outputs": [
    {
     "data": {
      "text/plain": [
       "role                            object\n",
       "gender                          object\n",
       "violations                      object\n",
       "health_status                   object\n",
       "years_of_driving_experience    float64\n",
       "id                               int64\n",
       "dtype: object"
      ]
     },
     "execution_count": 142,
     "metadata": {},
     "output_type": "execute_result"
    }
   ],
   "source": [
    "moscowskaya_oblast_participiants.dtypes"
   ]
  },
  {
   "cell_type": "code",
   "execution_count": 143,
   "metadata": {
    "colab": {
     "base_uri": "https://localhost:8080/",
     "height": 272
    },
    "executionInfo": {
     "elapsed": 3,
     "status": "ok",
     "timestamp": 1756309873448,
     "user": {
      "displayName": "Maria Averkina",
      "userId": "01722641797731955161"
     },
     "user_tz": 420
    },
    "id": "tjsO3tcGGERI",
    "outputId": "6e5f7502-6fa0-4e5e-bd80-49a2611e4d8f"
   },
   "outputs": [
    {
     "data": {
      "text/plain": [
       "role                           object\n",
       "gender                         object\n",
       "violations                     object\n",
       "health_status                  object\n",
       "years_of_driving_experience      int8\n",
       "id                              int32\n",
       "dtype: object"
      ]
     },
     "execution_count": 143,
     "metadata": {},
     "output_type": "execute_result"
    }
   ],
   "source": [
    "moscowskaya_oblast_participiants['years_of_driving_experience'] = moscowskaya_oblast_participiants['years_of_driving_experience'].fillna(-1)\n",
    "\n",
    "moscowskaya_oblast_participiants['years_of_driving_experience'] = pd.to_numeric(moscowskaya_oblast_participiants['years_of_driving_experience'], downcast = 'integer')\n",
    "\n",
    "moscowskaya_oblast_participiants['id'] = pd.to_numeric(moscowskaya_oblast_participiants['id'], downcast = 'integer')\n",
    "\n",
    "moscowskaya_oblast_participiants.dtypes"
   ]
  },
  {
   "cell_type": "code",
   "execution_count": 144,
   "metadata": {
    "colab": {
     "base_uri": "https://localhost:8080/",
     "height": 224
    },
    "executionInfo": {
     "elapsed": 145,
     "status": "ok",
     "timestamp": 1756309873592,
     "user": {
      "displayName": "Maria Averkina",
      "userId": "01722641797731955161"
     },
     "user_tz": 420
    },
    "id": "zdekr0QUGERJ",
    "outputId": "8c71a1b8-1c02-4912-fe1f-b1f791db41f6"
   },
   "outputs": [
    {
     "data": {
      "text/html": [
       "<div>\n",
       "<style scoped>\n",
       "    .dataframe tbody tr th:only-of-type {\n",
       "        vertical-align: middle;\n",
       "    }\n",
       "\n",
       "    .dataframe tbody tr th {\n",
       "        vertical-align: top;\n",
       "    }\n",
       "\n",
       "    .dataframe thead th {\n",
       "        text-align: right;\n",
       "    }\n",
       "</style>\n",
       "<table border=\"1\" class=\"dataframe\">\n",
       "  <thead>\n",
       "    <tr style=\"text-align: right;\">\n",
       "      <th></th>\n",
       "      <th>role</th>\n",
       "      <th>gender</th>\n",
       "      <th>violations</th>\n",
       "      <th>health_status</th>\n",
       "      <th>years_of_driving_experience</th>\n",
       "      <th>id</th>\n",
       "    </tr>\n",
       "  </thead>\n",
       "  <tbody>\n",
       "    <tr>\n",
       "      <th>0</th>\n",
       "      <td>Водитель</td>\n",
       "      <td>Мужской</td>\n",
       "      <td>[]</td>\n",
       "      <td>Не пострадал</td>\n",
       "      <td>13</td>\n",
       "      <td>2163589</td>\n",
       "    </tr>\n",
       "    <tr>\n",
       "      <th>2</th>\n",
       "      <td>Водитель</td>\n",
       "      <td>Мужской</td>\n",
       "      <td>['Неправильный выбор дистанции']</td>\n",
       "      <td>Не пострадал</td>\n",
       "      <td>5</td>\n",
       "      <td>2155398</td>\n",
       "    </tr>\n",
       "    <tr>\n",
       "      <th>4</th>\n",
       "      <td>Водитель</td>\n",
       "      <td>Женский</td>\n",
       "      <td>[]</td>\n",
       "      <td>Не пострадал</td>\n",
       "      <td>11</td>\n",
       "      <td>2163319</td>\n",
       "    </tr>\n",
       "    <tr>\n",
       "      <th>5</th>\n",
       "      <td>Водитель</td>\n",
       "      <td>Мужской</td>\n",
       "      <td>['Несоблюдение очередности проезда перекрестков']</td>\n",
       "      <td>Не пострадал</td>\n",
       "      <td>23</td>\n",
       "      <td>2143938</td>\n",
       "    </tr>\n",
       "    <tr>\n",
       "      <th>7</th>\n",
       "      <td>Водитель</td>\n",
       "      <td>Мужской</td>\n",
       "      <td>[]</td>\n",
       "      <td>Не пострадал</td>\n",
       "      <td>19</td>\n",
       "      <td>2163390</td>\n",
       "    </tr>\n",
       "  </tbody>\n",
       "</table>\n",
       "</div>"
      ],
      "text/plain": [
       "       role   gender                                         violations  \\\n",
       "0  Водитель  Мужской                                                 []   \n",
       "2  Водитель  Мужской                   ['Неправильный выбор дистанции']   \n",
       "4  Водитель  Женский                                                 []   \n",
       "5  Водитель  Мужской  ['Несоблюдение очередности проезда перекрестков']   \n",
       "7  Водитель  Мужской                                                 []   \n",
       "\n",
       "  health_status  years_of_driving_experience       id  \n",
       "0  Не пострадал                           13  2163589  \n",
       "2  Не пострадал                            5  2155398  \n",
       "4  Не пострадал                           11  2163319  \n",
       "5  Не пострадал                           23  2143938  \n",
       "7  Не пострадал                           19  2163390  "
      ]
     },
     "execution_count": 144,
     "metadata": {},
     "output_type": "execute_result"
    }
   ],
   "source": [
    "moscowskaya_oblast_participiants.head()"
   ]
  },
  {
   "cell_type": "code",
   "execution_count": 145,
   "metadata": {
    "colab": {
     "base_uri": "https://localhost:8080/",
     "height": 272
    },
    "executionInfo": {
     "elapsed": 2,
     "status": "ok",
     "timestamp": 1756309873594,
     "user": {
      "displayName": "Maria Averkina",
      "userId": "01722641797731955161"
     },
     "user_tz": 420
    },
    "id": "ZyhDX5heGERJ",
    "outputId": "cf5bfce4-9401-4733-c68a-fafd147a5dfa"
   },
   "outputs": [
    {
     "data": {
      "text/plain": [
       "year        float64\n",
       "brand        object\n",
       "color        object\n",
       "model        object\n",
       "category     object\n",
       "id            int64\n",
       "dtype: object"
      ]
     },
     "execution_count": 145,
     "metadata": {},
     "output_type": "execute_result"
    }
   ],
   "source": [
    "moscowskaya_oblast_vehicles.dtypes"
   ]
  },
  {
   "cell_type": "code",
   "execution_count": 146,
   "metadata": {
    "colab": {
     "base_uri": "https://localhost:8080/",
     "height": 272
    },
    "executionInfo": {
     "elapsed": 1,
     "status": "ok",
     "timestamp": 1756309873596,
     "user": {
      "displayName": "Maria Averkina",
      "userId": "01722641797731955161"
     },
     "user_tz": 420
    },
    "id": "VxqZTz_vGERJ",
    "outputId": "774aaf63-47a8-4179-f552-c344db833ac4"
   },
   "outputs": [
    {
     "data": {
      "text/plain": [
       "year         int16\n",
       "brand       object\n",
       "color       object\n",
       "model       object\n",
       "category    object\n",
       "id           int32\n",
       "dtype: object"
      ]
     },
     "execution_count": 146,
     "metadata": {},
     "output_type": "execute_result"
    }
   ],
   "source": [
    "moscowskaya_oblast_vehicles['year'] = moscowskaya_oblast_vehicles['year'].fillna(-1)\n",
    "\n",
    "moscowskaya_oblast_vehicles['year'] = pd.to_numeric(moscowskaya_oblast_vehicles['year'], downcast = 'integer')\n",
    "\n",
    "moscowskaya_oblast_vehicles['id'] = pd.to_numeric(moscowskaya_oblast_vehicles['id'], downcast = 'integer')\n",
    "\n",
    "moscowskaya_oblast_vehicles.dtypes"
   ]
  },
  {
   "cell_type": "code",
   "execution_count": 147,
   "metadata": {
    "colab": {
     "base_uri": "https://localhost:8080/",
     "height": 206
    },
    "executionInfo": {
     "elapsed": 136,
     "status": "ok",
     "timestamp": 1756309873733,
     "user": {
      "displayName": "Maria Averkina",
      "userId": "01722641797731955161"
     },
     "user_tz": 420
    },
    "id": "V6TVJaHqGERJ",
    "outputId": "61c4907f-3bac-4431-ed2d-2fe750ab5d8a"
   },
   "outputs": [
    {
     "data": {
      "text/html": [
       "<div>\n",
       "<style scoped>\n",
       "    .dataframe tbody tr th:only-of-type {\n",
       "        vertical-align: middle;\n",
       "    }\n",
       "\n",
       "    .dataframe tbody tr th {\n",
       "        vertical-align: top;\n",
       "    }\n",
       "\n",
       "    .dataframe thead th {\n",
       "        text-align: right;\n",
       "    }\n",
       "</style>\n",
       "<table border=\"1\" class=\"dataframe\">\n",
       "  <thead>\n",
       "    <tr style=\"text-align: right;\">\n",
       "      <th></th>\n",
       "      <th>year</th>\n",
       "      <th>brand</th>\n",
       "      <th>color</th>\n",
       "      <th>model</th>\n",
       "      <th>category</th>\n",
       "      <th>id</th>\n",
       "    </tr>\n",
       "  </thead>\n",
       "  <tbody>\n",
       "    <tr>\n",
       "      <th>0</th>\n",
       "      <td>2012</td>\n",
       "      <td>ГАЗ</td>\n",
       "      <td>Белый</td>\n",
       "      <td>Прочие модели ГАЗ</td>\n",
       "      <td>Фургоны</td>\n",
       "      <td>2163589</td>\n",
       "    </tr>\n",
       "    <tr>\n",
       "      <th>1</th>\n",
       "      <td>2008</td>\n",
       "      <td>OPEL</td>\n",
       "      <td>Черный</td>\n",
       "      <td>Astra</td>\n",
       "      <td>С-класс (малый средний, компактный) до 4,3 м</td>\n",
       "      <td>2155398</td>\n",
       "    </tr>\n",
       "    <tr>\n",
       "      <th>2</th>\n",
       "      <td>2017</td>\n",
       "      <td>MAZDA</td>\n",
       "      <td>Черный</td>\n",
       "      <td>CX-5</td>\n",
       "      <td>В-класс (малый) до 3,9 м</td>\n",
       "      <td>2163319</td>\n",
       "    </tr>\n",
       "    <tr>\n",
       "      <th>3</th>\n",
       "      <td>2013</td>\n",
       "      <td>ГАЗ</td>\n",
       "      <td>Белый</td>\n",
       "      <td>2705  Газель , 27057 и модификации</td>\n",
       "      <td>Фургоны</td>\n",
       "      <td>2143938</td>\n",
       "    </tr>\n",
       "    <tr>\n",
       "      <th>4</th>\n",
       "      <td>2011</td>\n",
       "      <td>RENAULT</td>\n",
       "      <td>Синий</td>\n",
       "      <td>Прочие модели Renault</td>\n",
       "      <td>В-класс (малый) до 3,9 м</td>\n",
       "      <td>2163390</td>\n",
       "    </tr>\n",
       "  </tbody>\n",
       "</table>\n",
       "</div>"
      ],
      "text/plain": [
       "   year    brand   color                               model  \\\n",
       "0  2012      ГАЗ   Белый                   Прочие модели ГАЗ   \n",
       "1  2008     OPEL  Черный                               Astra   \n",
       "2  2017    MAZDA  Черный                                CX-5   \n",
       "3  2013      ГАЗ   Белый  2705  Газель , 27057 и модификации   \n",
       "4  2011  RENAULT   Синий               Прочие модели Renault   \n",
       "\n",
       "                                       category       id  \n",
       "0                                       Фургоны  2163589  \n",
       "1  С-класс (малый средний, компактный) до 4,3 м  2155398  \n",
       "2                      В-класс (малый) до 3,9 м  2163319  \n",
       "3                                       Фургоны  2143938  \n",
       "4                      В-класс (малый) до 3,9 м  2163390  "
      ]
     },
     "execution_count": 147,
     "metadata": {},
     "output_type": "execute_result"
    }
   ],
   "source": [
    "moscowskaya_oblast_vehicles.head()"
   ]
  },
  {
   "cell_type": "markdown",
   "metadata": {
    "id": "6cCs2knrGERJ"
   },
   "source": [
    "Итоговый вывод:\n",
    "- В датасетах по Московской области(`moscowskaya_oblast`, `moscowskaya_oblast_participiants`, `moscowskaya_oblast_vehicles`) была проведена вся та же работа и мы избежали излишних комментариев. При необходимости см. \"Промежуточные итоги\" после кажого этапа работы с датасетами по Кировской области.\n",
    "- В датасетах `kirovskaya_oblast` и `moscowskaya_oblast` рекомендуем удалить столбец  `coordinates`, так как он дублирует информацию столбцов `point_lat`, `point_long`. В рамках данного проекта мы этого делать не будем, чтобы не исказить данные.  \n",
    "- В датасетах `kirovskaya_oblast_vehicles` и `moscowskaya_oblast_vehicles` столбец `year` был приведен к типу данных `integer` для более удобного анализа, несмотря на то, что по своей сути столбец отражает дату."
   ]
  },
  {
   "cell_type": "markdown",
   "metadata": {
    "id": "XbvXOlrAAjqB"
   },
   "source": [
    "## Исследовательский анализ\n",
    "\n"
   ]
  },
  {
   "cell_type": "markdown",
   "metadata": {
    "id": "jhehiImVAnQJ"
   },
   "source": [
    "### Какое число ДТП случилось в каждый день недели? Какое число ДТП случилось в каждый месяц?"
   ]
  },
  {
   "cell_type": "markdown",
   "metadata": {
    "id": "6r-NEwamGERJ"
   },
   "source": [
    "Для начала ответим на эти вопросы для Кировской области, а затем для Московской."
   ]
  },
  {
   "cell_type": "code",
   "execution_count": 148,
   "metadata": {
    "colab": {
     "base_uri": "https://localhost:8080/",
     "height": 810
    },
    "executionInfo": {
     "elapsed": 4,
     "status": "ok",
     "timestamp": 1756309873734,
     "user": {
      "displayName": "Maria Averkina",
      "userId": "01722641797731955161"
     },
     "user_tz": 420
    },
    "id": "FKETMaExGERJ",
    "outputId": "7bef937f-7dac-4f16-a597-b7d290424d36"
   },
   "outputs": [
    {
     "data": {
      "text/plain": [
       "month\n",
       "8     1654\n",
       "7     1635\n",
       "6     1421\n",
       "9     1370\n",
       "10    1333\n",
       "11    1200\n",
       "5     1189\n",
       "12    1164\n",
       "1     1069\n",
       "4      875\n",
       "2      808\n",
       "3      799\n",
       "Name: id, dtype: int64"
      ]
     },
     "metadata": {},
     "output_type": "display_data"
    },
    {
     "data": {
      "text/plain": [
       "day\n",
       "Friday       2344\n",
       "Saturday     2246\n",
       "Sunday       2054\n",
       "Monday       2010\n",
       "Tuesday      1988\n",
       "Wednesday    1939\n",
       "Thursday     1936\n",
       "Name: id, dtype: int64"
      ]
     },
     "metadata": {},
     "output_type": "display_data"
    }
   ],
   "source": [
    "kirovskaya_oblast['month'] = kirovskaya_oblast['datetime'].dt.month\n",
    "\n",
    "kirovskaya_oblast['day'] = kirovskaya_oblast['datetime'].dt.day_name()\n",
    "\n",
    "k_months = kirovskaya_oblast.groupby('month')['id'].count().sort_values(ascending = False)\n",
    "\n",
    "k_day = kirovskaya_oblast.groupby('day')['id'].count().sort_values(ascending = False)\n",
    "\n",
    "display(k_months, k_day)"
   ]
  },
  {
   "cell_type": "markdown",
   "metadata": {
    "id": "di1U5vznGERJ"
   },
   "source": [
    "Промежуточные итоги:\n",
    "- Топ-3 месяца по количеству ДТП:\n",
    "1. Август - 1654\n",
    "2. Июль - 1635\n",
    "3. Июнь - 1421\n",
    "\n",
    "- Меньше всего аварий происходило:\n",
    "1. Март - 799\n",
    "2. Февраль - 808\n",
    "3. Апрель - 875\n",
    "\n",
    "Интересное наблюдение, что больше аварий происходит летом, а не зимой (февраль вообще один из месяцев с минимальным количеством ДТП), ведь именно зимой дороги могут обледенеть, занести снегом, что создает риск аварийных ситуаций на дорогах.\n",
    "\n",
    "- Топ-3 дня недели по количеству ДТП:\n",
    "1. Пятница - 2344\n",
    "2. Суббота - 2246\n",
    "3. Воскресенье - 2054\n",
    "\n",
    "- Меньше всего аварий происходило:\n",
    "1. Четверг - 1936\n",
    "2. Среда - 1939\n",
    "3. Вторник - 1988\n",
    "\n",
    "Вполне закономерно, что пятница как день недели лидирует по количеству аварий, многие после работы могут уезжать на дачи, места отдыха на выходные, часто все спешат домой. Из-за увеличения числа машин на дорогах растет и количе6ство аварий."
   ]
  },
  {
   "cell_type": "code",
   "execution_count": 149,
   "metadata": {
    "colab": {
     "base_uri": "https://localhost:8080/",
     "height": 810
    },
    "executionInfo": {
     "elapsed": 65,
     "status": "ok",
     "timestamp": 1756309873798,
     "user": {
      "displayName": "Maria Averkina",
      "userId": "01722641797731955161"
     },
     "user_tz": 420
    },
    "id": "eJJW5cplGERJ",
    "outputId": "7bd1fe3c-cdac-4e41-ed2d-c55eb5f2c437"
   },
   "outputs": [
    {
     "data": {
      "text/plain": [
       "month\n",
       "8     4787\n",
       "9     4571\n",
       "7     4401\n",
       "6     4354\n",
       "10    4113\n",
       "5     3992\n",
       "12    3732\n",
       "11    3618\n",
       "1     3254\n",
       "4     3172\n",
       "3     2880\n",
       "2     2744\n",
       "Name: id, dtype: int64"
      ]
     },
     "metadata": {},
     "output_type": "display_data"
    },
    {
     "data": {
      "text/plain": [
       "day\n",
       "Saturday     7285\n",
       "Friday       7024\n",
       "Monday       6390\n",
       "Thursday     6343\n",
       "Sunday       6318\n",
       "Tuesday      6156\n",
       "Wednesday    6102\n",
       "Name: id, dtype: int64"
      ]
     },
     "metadata": {},
     "output_type": "display_data"
    }
   ],
   "source": [
    "moscowskaya_oblast['month'] = moscowskaya_oblast['datetime'].dt.month\n",
    "\n",
    "moscowskaya_oblast['day'] = moscowskaya_oblast['datetime'].dt.day_name()\n",
    "\n",
    "m_months = moscowskaya_oblast.groupby('month')['id'].count().sort_values(ascending = False)\n",
    "\n",
    "m_day = moscowskaya_oblast.groupby('day')['id'].count().sort_values(ascending = False)\n",
    "\n",
    "display(m_months, m_day)"
   ]
  },
  {
   "cell_type": "markdown",
   "metadata": {
    "id": "3LB4IJcLGERK"
   },
   "source": [
    "Промежуточные итоги:\n",
    "- Топ-3 месяца по количеству ДТП:\n",
    "1. Август - 4787\n",
    "2. Сентябрь - 4571\n",
    "3. Июль - 4401\n",
    "\n",
    "- Меньше всего аварий происходило:\n",
    "1. Февраль - 2744\n",
    "2. Март - 2880\n",
    "3. Апрель - 3172\n",
    "\n",
    "Интересное наблюдение, что больше аварий происходит в теплое время года (лето и начало осени), а не зимой (февраль вообще один из месяцев с минимальным количеством ДТП), ведь именно зимой дороги могут обледенеть, занести снегом, что создает риск аварийных ситуаций на дорогах.\n",
    "\n",
    "- Топ-3 дня недели по количеству ДТП:\n",
    "1. Суббота - 7285\n",
    "2. Пятница - 7024\n",
    "3. Понедельник - 6390\n",
    "\n",
    "- Меньше всего аварий происходило:\n",
    "1. Среда - 6102\n",
    "2. Вторник - 6156\n",
    "3. Воскресенье - 6318\n",
    "\n",
    "Вполне закономерно, что пятница как день недели в топе по количеству аварий, многие после работы могут уезжать на дачи, места отдыха на выходные, часто все спешат домой. Из-за увеличения числа машин на дорогах растет и количе6ство аварий."
   ]
  },
  {
   "cell_type": "markdown",
   "metadata": {
    "id": "xcu4WsEoCGog"
   },
   "source": [
    "### Категории водителей по стажу. Встречаются ли категории, которые разительно отличаются по числу ДТП?"
   ]
  },
  {
   "cell_type": "markdown",
   "metadata": {
    "id": "9QYtOhlpGERK"
   },
   "source": [
    "Для начала ответим на поставленные вопросы по Кировской области, а затем по Московской."
   ]
  },
  {
   "cell_type": "code",
   "execution_count": 150,
   "metadata": {
    "colab": {
     "base_uri": "https://localhost:8080/",
     "height": 366
    },
    "executionInfo": {
     "elapsed": 2,
     "status": "ok",
     "timestamp": 1756309873800,
     "user": {
      "displayName": "Maria Averkina",
      "userId": "01722641797731955161"
     },
     "user_tz": 420
    },
    "id": "Ni1KGTdYGERK",
    "outputId": "f69d0f19-d933-4f96-df47-b78316a10bd5"
   },
   "outputs": [
    {
     "data": {
      "text/plain": [
       "category_of_experience\n",
       "1-10 лет                   4478\n",
       "11-20 лет                  3312\n",
       "без водительского стажа    1881\n",
       "21-30 лет                  1807\n",
       "31-40 лет                  1062\n",
       "41-50 лет                   411\n",
       "51-60 лет                    68\n",
       "61-70 лет                     6\n",
       "Name: id, dtype: int64"
      ]
     },
     "metadata": {},
     "output_type": "display_data"
    }
   ],
   "source": [
    "# Отбираем из датасета только водителей\n",
    "kirovskaya_oblast_drivers = kirovskaya_oblast_participiants[kirovskaya_oblast_participiants['role'] == 'Водитель']\n",
    "\n",
    "# Считаем кол-во ДТП\n",
    "kirovskaya_oblast_drivers = kirovskaya_oblast_drivers.groupby('years_of_driving_experience')['id'].count().reset_index()\n",
    "\n",
    "\n",
    "# Пишем функцию для определения категории опыта\n",
    "def get_experience_category(years):\n",
    "    if years == -1:\n",
    "        return 'без водительского стажа'\n",
    "    elif 0 < years <= 10:\n",
    "        return '1-10 лет'\n",
    "    elif 10 < years <= 20:\n",
    "        return '11-20 лет'\n",
    "    elif 20 < years <= 30:\n",
    "        return '21-30 лет'\n",
    "    elif 30 < years <= 40:\n",
    "        return '31-40 лет'\n",
    "    elif 40 < years <= 50:\n",
    "        return '41-50 лет'\n",
    "    elif 50 < years <= 60:\n",
    "        return '51-60 лет'\n",
    "    elif 60 < years <= 70:\n",
    "        return '61-70 лет'\n",
    "    else:\n",
    "        return 'более 70 лет'\n",
    "\n",
    "# Применяем функцию к столбцу\n",
    "kirovskaya_oblast_drivers['category_of_experience'] = kirovskaya_oblast_drivers['years_of_driving_experience'].apply(get_experience_category)\n",
    "\n",
    "kirovskaya_oblast_drivers = kirovskaya_oblast_drivers.groupby('category_of_experience')['id'].sum().sort_values(ascending = False)\n",
    "\n",
    "display(kirovskaya_oblast_drivers)"
   ]
  },
  {
   "cell_type": "markdown",
   "metadata": {
    "id": "atThPQREGERK"
   },
   "source": [
    "Промежуточные итоги:\n",
    "- Наибольшее количество аварий наблюдается в группе со стажем 1-10 лет (4478).\n",
    "- Наименьшее количество аварий наблюдается в группе со стажем 61-70 лет (6).\n",
    "- Не забываем, что у нас имеется категория \"без водительского стажа\", в которой число ДТП = 1881.\n",
    "- Также стоит отметить, что такие результаты могут быть обусловлены тем, что водителей с небольшим стажем 1-10 лет в целом больше, так как это молодые люди или люди средних лет, чем тех, кто водит автомобиль 61-70 лет, так как это скорее всего пожилые люди."
   ]
  },
  {
   "cell_type": "code",
   "execution_count": 151,
   "metadata": {
    "colab": {
     "base_uri": "https://localhost:8080/",
     "height": 366
    },
    "executionInfo": {
     "elapsed": 11,
     "status": "ok",
     "timestamp": 1756309873811,
     "user": {
      "displayName": "Maria Averkina",
      "userId": "01722641797731955161"
     },
     "user_tz": 420
    },
    "id": "nmBE53eeGERK",
    "outputId": "88add415-be04-4d72-afba-976638c09e32"
   },
   "outputs": [
    {
     "data": {
      "text/plain": [
       "category_of_experience\n",
       "1-10 лет                   13950\n",
       "11-20 лет                  11265\n",
       "21-30 лет                   5947\n",
       "без водительского стажа     2805\n",
       "31-40 лет                   2795\n",
       "41-50 лет                    952\n",
       "51-60 лет                    214\n",
       "61-70 лет                     28\n",
       "Name: id, dtype: int64"
      ]
     },
     "metadata": {},
     "output_type": "display_data"
    }
   ],
   "source": [
    "# Отбираем из датасета только водителей\n",
    "moscowskaya_oblast_drivers = moscowskaya_oblast_participiants[moscowskaya_oblast_participiants['role'] == 'Водитель']\n",
    "\n",
    "# Считаем кол-во ДТП\n",
    "moscowskaya_oblast_drivers = moscowskaya_oblast_drivers.groupby('years_of_driving_experience')['id'].count().reset_index()\n",
    "\n",
    "# Применяем функцию к столбцу (функция была написана в предыдущем блоке кода)\n",
    "moscowskaya_oblast_drivers['category_of_experience'] = moscowskaya_oblast_drivers['years_of_driving_experience'].apply(get_experience_category)\n",
    "\n",
    "moscowskaya_oblast_drivers = moscowskaya_oblast_drivers.groupby('category_of_experience')['id'].sum().sort_values(ascending = False)\n",
    "\n",
    "display(moscowskaya_oblast_drivers)"
   ]
  },
  {
   "cell_type": "markdown",
   "metadata": {
    "id": "p6AA72WeGERK"
   },
   "source": [
    "Промежуточные итоги:\n",
    "- Наибольшее количество аварий наблюдается в группе со стажем 1-10 лет (13950).\n",
    "- Наименьшее количество аварий наблюдается в группе со стажем 61-70 лет (28).\n",
    "- Не забываем, что у нас имеется категория \"без водительского стажа\", в которой число ДТП = 2805.\n",
    "- Также стоит отметить, что такие результаты могут быть обусловлены тем, что водителей с небольшим стажем 1-10 лет в целом больше, так как это молодые люди или люди средних лет, чем тех, кто водит автомобиль 61-70 лет, так как это скорее всего пожилые люди."
   ]
  },
  {
   "cell_type": "markdown",
   "metadata": {
    "id": "muKT0SVzGKtA"
   },
   "source": [
    "### Как менялось число аварий в Кировской (Киров входит в численность) и Московской области (Москва исключена)? Где аварий больше в относительном выражении — в пересчёте на 100 тысяч жителей?"
   ]
  },
  {
   "cell_type": "markdown",
   "metadata": {
    "id": "aSwFMrC5GERK"
   },
   "source": [
    "Как менялась численность населения в Кировской области. Нам нужны 2015-2024 года."
   ]
  },
  {
   "cell_type": "markdown",
   "metadata": {
    "id": "A8Tvqq_rGERK"
   },
   "source": [
    "![image.png](data:image/png;base64,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)"
   ]
  },
  {
   "cell_type": "code",
   "execution_count": 152,
   "metadata": {
    "colab": {
     "base_uri": "https://localhost:8080/",
     "height": 772
    },
    "executionInfo": {
     "elapsed": 41,
     "status": "ok",
     "timestamp": 1756309873853,
     "user": {
      "displayName": "Maria Averkina",
      "userId": "01722641797731955161"
     },
     "user_tz": 420
    },
    "id": "dpisHmATGERK",
    "outputId": "14e253ab-ff63-4646-b36a-2f5030327460"
   },
   "outputs": [
    {
     "data": {
      "text/html": [
       "<div>\n",
       "<style scoped>\n",
       "    .dataframe tbody tr th:only-of-type {\n",
       "        vertical-align: middle;\n",
       "    }\n",
       "\n",
       "    .dataframe tbody tr th {\n",
       "        vertical-align: top;\n",
       "    }\n",
       "\n",
       "    .dataframe thead th {\n",
       "        text-align: right;\n",
       "    }\n",
       "</style>\n",
       "<table border=\"1\" class=\"dataframe\">\n",
       "  <thead>\n",
       "    <tr style=\"text-align: right;\">\n",
       "      <th></th>\n",
       "      <th>count</th>\n",
       "    </tr>\n",
       "    <tr>\n",
       "      <th>year</th>\n",
       "      <th></th>\n",
       "    </tr>\n",
       "  </thead>\n",
       "  <tbody>\n",
       "    <tr>\n",
       "      <th>2015</th>\n",
       "      <td>1532</td>\n",
       "    </tr>\n",
       "    <tr>\n",
       "      <th>2016</th>\n",
       "      <td>1468</td>\n",
       "    </tr>\n",
       "    <tr>\n",
       "      <th>2017</th>\n",
       "      <td>1452</td>\n",
       "    </tr>\n",
       "    <tr>\n",
       "      <th>2018</th>\n",
       "      <td>1612</td>\n",
       "    </tr>\n",
       "    <tr>\n",
       "      <th>2019</th>\n",
       "      <td>1568</td>\n",
       "    </tr>\n",
       "    <tr>\n",
       "      <th>2020</th>\n",
       "      <td>1498</td>\n",
       "    </tr>\n",
       "    <tr>\n",
       "      <th>2021</th>\n",
       "      <td>1524</td>\n",
       "    </tr>\n",
       "    <tr>\n",
       "      <th>2022</th>\n",
       "      <td>1386</td>\n",
       "    </tr>\n",
       "    <tr>\n",
       "      <th>2023</th>\n",
       "      <td>1486</td>\n",
       "    </tr>\n",
       "    <tr>\n",
       "      <th>2024</th>\n",
       "      <td>991</td>\n",
       "    </tr>\n",
       "  </tbody>\n",
       "</table>\n",
       "</div>"
      ],
      "text/plain": [
       "      count\n",
       "year       \n",
       "2015   1532\n",
       "2016   1468\n",
       "2017   1452\n",
       "2018   1612\n",
       "2019   1568\n",
       "2020   1498\n",
       "2021   1524\n",
       "2022   1386\n",
       "2023   1486\n",
       "2024    991"
      ]
     },
     "metadata": {},
     "output_type": "display_data"
    },
    {
     "data": {
      "text/html": [
       "<div>\n",
       "<style scoped>\n",
       "    .dataframe tbody tr th:only-of-type {\n",
       "        vertical-align: middle;\n",
       "    }\n",
       "\n",
       "    .dataframe tbody tr th {\n",
       "        vertical-align: top;\n",
       "    }\n",
       "\n",
       "    .dataframe thead th {\n",
       "        text-align: right;\n",
       "    }\n",
       "</style>\n",
       "<table border=\"1\" class=\"dataframe\">\n",
       "  <thead>\n",
       "    <tr style=\"text-align: right;\">\n",
       "      <th></th>\n",
       "      <th>count</th>\n",
       "      <th>population</th>\n",
       "      <th>on_100k</th>\n",
       "    </tr>\n",
       "    <tr>\n",
       "      <th>year</th>\n",
       "      <th></th>\n",
       "      <th></th>\n",
       "      <th></th>\n",
       "    </tr>\n",
       "  </thead>\n",
       "  <tbody>\n",
       "    <tr>\n",
       "      <th>2015</th>\n",
       "      <td>1532</td>\n",
       "      <td>13</td>\n",
       "      <td>117.85</td>\n",
       "    </tr>\n",
       "    <tr>\n",
       "      <th>2016</th>\n",
       "      <td>1468</td>\n",
       "      <td>13</td>\n",
       "      <td>112.92</td>\n",
       "    </tr>\n",
       "    <tr>\n",
       "      <th>2017</th>\n",
       "      <td>1452</td>\n",
       "      <td>13</td>\n",
       "      <td>111.69</td>\n",
       "    </tr>\n",
       "    <tr>\n",
       "      <th>2018</th>\n",
       "      <td>1612</td>\n",
       "      <td>13</td>\n",
       "      <td>124.00</td>\n",
       "    </tr>\n",
       "    <tr>\n",
       "      <th>2019</th>\n",
       "      <td>1568</td>\n",
       "      <td>13</td>\n",
       "      <td>120.62</td>\n",
       "    </tr>\n",
       "    <tr>\n",
       "      <th>2020</th>\n",
       "      <td>1498</td>\n",
       "      <td>13</td>\n",
       "      <td>115.23</td>\n",
       "    </tr>\n",
       "    <tr>\n",
       "      <th>2021</th>\n",
       "      <td>1524</td>\n",
       "      <td>12</td>\n",
       "      <td>127.00</td>\n",
       "    </tr>\n",
       "    <tr>\n",
       "      <th>2022</th>\n",
       "      <td>1386</td>\n",
       "      <td>11</td>\n",
       "      <td>126.00</td>\n",
       "    </tr>\n",
       "    <tr>\n",
       "      <th>2023</th>\n",
       "      <td>1486</td>\n",
       "      <td>11</td>\n",
       "      <td>135.09</td>\n",
       "    </tr>\n",
       "    <tr>\n",
       "      <th>2024</th>\n",
       "      <td>991</td>\n",
       "      <td>11</td>\n",
       "      <td>90.09</td>\n",
       "    </tr>\n",
       "  </tbody>\n",
       "</table>\n",
       "</div>"
      ],
      "text/plain": [
       "      count  population  on_100k\n",
       "year                            \n",
       "2015   1532          13   117.85\n",
       "2016   1468          13   112.92\n",
       "2017   1452          13   111.69\n",
       "2018   1612          13   124.00\n",
       "2019   1568          13   120.62\n",
       "2020   1498          13   115.23\n",
       "2021   1524          12   127.00\n",
       "2022   1386          11   126.00\n",
       "2023   1486          11   135.09\n",
       "2024    991          11    90.09"
      ]
     },
     "metadata": {},
     "output_type": "display_data"
    }
   ],
   "source": [
    "# Выделяем из общей даты год\n",
    "kirovskaya_oblast['year'] = kirovskaya_oblast['datetime'].dt.year\n",
    "\n",
    "#Считаем количество ДТП по годам и сохраняем результат в отдельный датафрейм\n",
    "kirovskaya_oblast_dtp_years = kirovskaya_oblast['year'].value_counts().sort_index().to_frame()\n",
    "\n",
    "display(kirovskaya_oblast_dtp_years)\n",
    "\n",
    "\n",
    "# Созраняем столбец с кол-вом населения погадам в сотнях тысяч\n",
    "kirovskaya_oblast_dtp_years['population'] = [13, 13, 13, 13, 13, 13, 12, 11, 11, 11]\n",
    "\n",
    "# Рассчитываем кол-во ДТП на 100 тыс. населения\n",
    "kirovskaya_oblast_dtp_years['on_100k'] = round(kirovskaya_oblast_dtp_years['count']/kirovskaya_oblast_dtp_years['population'], 2)\n",
    "\n",
    "display(kirovskaya_oblast_dtp_years)"
   ]
  },
  {
   "cell_type": "markdown",
   "metadata": {
    "id": "AvB_8zM2GERK"
   },
   "source": [
    "Промежуточные итоги:\n",
    "\n",
    "- Можно заметить, что по пошествию лет снижается кол-во ДТП. Это может быть связано с изменением ПДД, введением новых законов, большей осведомленностью граждан о том, что создает риски аварий на дорогах. Также стоит учитывать тот факт, что с уменьшением кол-ва ДТП уменьшалось и кол-во населения Кировской области.\n",
    "\n",
    "Далее проделаем всю ту же работу, но уже по Московской области.\n",
    "\n",
    "Как менялось население в Московской области по годам."
   ]
  },
  {
   "cell_type": "markdown",
   "metadata": {
    "id": "brBQxqOMGERK"
   },
   "source": [
    "![image.png](data:image/png;base64,iVBORw0KGgoAAAANSUhEUgAAA74AAAIVCAIAAAB5sLTPAAAgAElEQVR4AeydX28c15nm9yqfIB+gu28IDghBkOARfEF4L9oEBoQcgIouxoKBJSFgJAgOFQNr2WNBSmCQysxICsbSeiDZASzZWJOrJCC1EKSZdUTACnlhQfTEI0Ex6MQONVknjYUnjEaeDsBBLc6f9/ypOlVdh6e6WcV6DMGs6q5TdepXz3ve55w6Vf1fIvwHAiAAAiAAAiAAAiAAAiCQg8B/ybENNgEBEAABEAABEAABEAABEIhgnSECEAABEAABEAABEAABEMhFANY5FyZsBAIgAAIgAAIgAAIgAAKwztAACIAACIAACIAACIAACOQiAOucCxM2AgEQAAEQAAEQAAEQAAFYZ2gABEAABEAABEAABEAABHIRgHXOhQkbgQAIgAAIgAAIgAAIgACsMzQAAiAAAiAAAiAAAiAAArkIwDrnwoSNQAAEQAAEQAAEQAAEQADWGRoAARAAARAAARAAARAAgVwEYJ1zYcJGIAACIAACIAACIAACIADrDA2AAAiAAAiAAAiAAAiAQC4CsM65MGEjEAABEAABEAABEAABEIB1hgZAAARAAARAAARAAARAIBcBWOdcmLARCIAACIAACIAACIAACMA6QwMgAAIgAAIgAAIgAAIgkIsArHMuTNgIBEAABEAABEAABEAABAqzzlfnF/EPBEAABEAABEAABECgngRq4qqLtM4fP4rwDwRAAARAAARAAARAoG4Ers4vwjr7Ebg6v1g3leB8QQAEQAAEQAAEQAAEPn4UwTr7+eYoYsggHRAAARAAARAAARAAgRoSgHWGdcbkExAAARAAARAAARAAgVwEYJ1hnXMJpYbdSpwyCIAACIAACIAACMQIwDrDOsM6gwAIgAAIgAAIgAAI5CIA6wzrnEsosS4XVkEABEAABEAABECghgRgnWGdYZ1BoJ4EVqebrUazdeBSx2r6b8w2+OfTN+qJBWcNAiAAAiCQRQDWGdY5Sx+WpcDbrEFgRxGAdUbsgwAIgAAIeBOAdYZ19hYN/DQI7AgCsM6IfRAAARAAAW8CsM6wzt6i2RG2CWcNArms89xfs0kdjb+cX6IR96VLU4kZHXJX4nNrBghN/xBfmf/XE0LMbRwHmp2jQ3+8On9ATyZx1D9ZW1UkUWchAGfNrQ/jdZa1nfq71TwSylPJ2OGM8+UnLk+Kn7h5IVhDREB4Je2CJlVRlv6vyJt7Nq+aA6N11smT6vzdX3KdNKkOVsXEV+z/6tBoRUEABKpLANYZ1jlP/sM2ILDzCCjHRnZHOFSyXMLlxF2UYYmkDTI+0S7zr1dlVqC96a9sA6eMuLGBrA99ZVSPjsUPnTRwUay2tAdt3dhRVN1ob8ahxbeKjF1QOD/LRPZURc9KOo+lTllZUrMm9K2DrWHoHd/KnXB6rj0TmRhGdimts46flMFZ1M21c37dpWZUXwgLIAACFSQA6wzr3DP5YQMQ2JEEUv2NsJLC5cRclFzVNkjtRPo52oA8nGW5OEYyrGz/tExDnpYnI0NGTtEYZOV1szYWTt2qLe1ceWXaoRj77FXz+OFIA8kzysp8PSopq6TG2snvCvh2hZV/FU92yj3T2dHpkP21zW6cPO3ZfZksjOLsrLOOnRTVhKmCXywiT5dVX2hxXtUdbEPNQQAE8EPc3r4ZP8SNsAGBnUOAjJo17GqPClsuyt7e9L7aErFtDLNrWa40A6e3N60k2Tv9rbLa/HAxA8d2btbWUfyR4S/J3qXWfCDW2dAS1S3ZLVFu+BE7ZVnhJFj5CeFKbqBPmY6l9yw/EWbXxChraO3NIi83lrLhR6cDwTob15e6XlkdLWwDAtUggFFnb/d8dX4RzQEIgMBOIWAOGbYazam/u2S9nM5wUWLLqb+7YUw4JpOkDWjMGViWi2cFo4jtuuJzEsj7mp+bUw5iNTc244O4Rs11NtIfGtVIvZTObeQZGYfjrlHbRItAj0p+rNw89ViMIf+kwdUnkg7HPZDMzlGfTnqtuJlOvy5i57I4O2VB4y/n5+QMeGHcqeb2SWGuc6rSLM3oq4ztQaCcBGCdYZ3RToEACBgEyBoKN6y8pvRGf71qODDTjRl7MH1Abaxzii9MN6mmv1cPYlrwyYDqsWENuRzWeVU8HTh9I6L60Jh3VpdAn0U5bQFqBQIgkE0A1hnWGe04CICAQcBybzQFwnU7nnlrGsjUY678Ez0InWmdE37LqMajpBvTh+P7N8Y+yawro7/kLK78nNEBSK25NUxrVCx5RnweBRstdnjc7Epa0yRYrrLgk3VWM6FF/cVRHNUwKql3RYPQ1unQnh0VZjsxMcoMah3O7g/wnSQvJQ1d8wqQTrQw6JJlZ2h8CwIgUEICsM6wzna+QYMOAjUnYLk3clHcOkvfY9kgMmE0v5ksVPqUXLM4LZN/pb2luDHl1PNYZ7WxcrR23ehYaTW3vKbRSlgmUnxOVtLhRHNZZ3rlnKqSpGdXWPcc+BnFDxr3u8l6Em1jkJiMtfGVp3WWw8xUVRp1tlWkrgWscwltEKoEAr4EYJ1hnY2kWHPPhNMHAT1aKd0bjR0ar3a2bZZyRdazhmyglLwds93kqBJ+VO9fz4uVfi7uxuJls10pi2vagzUvmWy64UT1oY3TjB+OGgoyhdb5ml0LS0U9KumsoTH3Q5tp43AxPtbZmZ0KXiSNvHl1aA80vB134VoV4tC6rIJJJyIORxvQDpVIYJ19PQq2B4ESEoB1hnWmjGglPHwIAnUlQNZQuByytjQ86TaUZJWEB5WDr/pDyzDFnLe2ZcLAaatnuzF+Oayycv/KvbmHS6mIsJ5WTVjI60qyDWLDxlTWKkV8DC/Lam5toxuT3pUkwqKDQV7ZqImxgd0JMa4Fr4y6RvqkrFolTsfac/KIyvjqa2RbZ2MD82LRblV9dC/Fqo+mVNdYAwEQqCYBWGdYZ7TaIAACIAACIAACIAACuQjAOsM65xJKCe+YoEogAAIgAAIgAAIgMGACsM6wzrDOIAACIAACIAACIAACuQjAOsM65xLKgLt0OBwIgAAIgAAIgAAIlJAArDOsM6wzCIAACIAACIAACIBALgKwzrDOuYRSwm4fqgQCIAACIAACIAACAyYA6wzrDOsMAiAAAiAAAiAAAiCQiwCsM6xzLqEMuEuHw4EACIAACIAACIBACQnAOm/FOl+dX8Q/EAABEAABEAABEACBGhLw9o7VLPBfiqr21fnFzuMI/7ZMAAC3jE4UBEAADCQQWBwKBMBAAoHFoUAADCQQWByjzt6OGkEbrrnAPdS8OBQYKAAABMBAAoHFoUAADCQQWBwKDAfo7R2rWQCjzmUZKUfQhgdt4B5qXhwKDBQAAAJgIIHA4lAgAAYSCCyOUWfvjgCCNlxzgXuoeXEoMFAAAAiAgQQCi0OBABhIILA4FBgO0Ns7VrMARp0x6lwWAuFBG7iHmhdH2ggUAAACYCCBwOJQIAAGEggsjlFn747Azgjam+d+8o1nf/KNZ29c/tXDk2wh9m/p5mP6/NhHDwp9LHLHAeSO/OdLiuHJnwuPDoBZfRVDgWyzB/M3COCNy78CQCe6FEX96qNvPbt00wxS9omM6G/Nd0SSiAEPyRzVDWElMwpSyfnmuZ8oUIqM+WFaQbWx1wIAeuFKblxZgO4QZuo699A8TYpWFsVKq/ShaiGdrUSuD3c8wI7OyBpXsQC9vWM1C2DU2YoopiE7ViluWWyrLMJCGtbZNCW0bAHkTkU2cCxidawCIOnKkl/ncWQC5L6EoDGYtCwsNRQoVcdiU+VRCVa6ZNM6GyFsKvNx1LHZpl2anp9XNu/yHlpCTiKhqkZPnL7rQxd/ahB6QjM3AECTxhaWKwvQISHe+lnpmGlPqRQhbIVYLoDcN1MSYRnZaB6LawOr6YS9aw3rbHkX07iYLZcVtDAuVtCmAoz5Y5Nt7CsT9ZaXK5s20gB2Lh/TvTU5Ak39OgA0dBJPGyLpfuvYDTM3xIhZq8WlDaNW1mUt+ecWDRbdDOk3nr3xLUuBzg/lxvGuS3oTkYGiuiEMgBmXNcdXsRBmTZ+QnzGSFdvGGmWofe83BscJkBEzesJsGx22xbWB3ia0mgVgna0MZ9o7HfD2iKk0Mar7u6UkoXdOxaubNsxzMQHG0knGV+Yetry84wDGWsOIjRmQ6mJstwzNLFhZgDFQD0+K4Xl7WMWUHztrlipo0KW4tGHyrNByTE5slXXSrM6b80N+jjH+VovqBaGyCowP2ztZOT8EQAcBaujiMUu5UojK+rbuIWzHYC6AVnQX2PeophP2rjWss9XQW9EoA5V34Gi0TwQtawTJxIhPwv9f3bRhnrsFkDVn1K81lzFsb+eAFIB20ybnPUu3BwUa0Oy0odha1jkO00oVdc+7cedHbBPQGNvkhyn81YXIvVDdNjAlHpOsANBKuKQ0t4SsbBJXESuix1DrHsLeAJli1dhBoZPWvE1oNQtUwjp33n6h1Wi2Dr0rn+yR8fbhbKPJPhf/XvvQjknz2++vUojKXalSeoFv44hVV0ymNJR2BeKh3uPbfqaNFICfzR8ieo0X5h/aFX747pSG05x6+zO7/ill4wC5Y6YnL/Ueag/Q1qEB3wTIWzeamibvoVfHOkuFJJTjDkypjZ99X0e0Ee+rrymh2gt8G3fa4BP7aFw5afjMuDaX7SigdkNLN+OTwkNY0tDNl6iGKZ4EXqo/xe/sz+gTXXN5CfRXKfFYeefXL4CPI7lnitydCXALIWzmBQpVIzWnSdcdwmZjqNXL9MyUaY1elTOE/QCacHQzyLKw0QKYLaQB1gcgG1Ngz1nqjgess799r4B1VloxUmlEicFSmFKS41vZxvVQZzJWnW2i80M7tnPlWrNI4XlX7dwJsGM6GNnG6VSqihjuuZWFtynLmgAZJd2vZbGtJq7VG6DLCFIONgHab9hYumkMo5YeoDpHy9ulByaLl6TqKOTV3qx4p+60O21U3TprVkbi7Dx2oFCBqULeiG4d1PJbbW70VylyqrZ17hfAx0b2obDdiQCV0jxC2BCeDlXSp9ph8it3CMcaQ5I39806s/BUW0brrM43J8Ae5qTz2LEBsfUCKHvgrPuhbqcXB9DfhVayRMmtsxIfCzbKo6zTKcahaaw0tipLye3JI5LILFNLzasUdyJWnckj7f6mtWeK87wf9sc69wIosjJlU0ksthqnbeOljQVeA2AimKvk/NRV6wPAmCDtVQOgqoNcMNOzueyrtLTtC1MgnRHvd5lpw1YObSYDk4QkREg2Wts7s9r2twmliXFWQ2+xV5ewXbFUQWPSxaUNs5IBy9SgiT6tYZ2pvRJYaDMycHREU7QWQCouvIv+KkVOztYv+WEK/+Rod69PClOgarKKBsgIk1CZvIn8TgNIsekXwqr3ayiWNKn6G07puiXkagxdvrnQQVNV4aCFrQI0D0rRSk2o3KdczdMGugAaacVsIYtrAytphP0rXWLrbLZQvAU0rLOdg/UwAA9LW2HaZyfjmQ6h9pyQmjukUxpKQ5S9koQZIWK5uLRB1aCzUyPH6jRV66+6EzIOeSaIR6wbr8675rkYABPojECtM0DCqwBaYjYA2o+Q21MOSguQzk4NLFG7/ziiESn1CTk/HphUkLDEo5hUrfejboMklOayzjFi1mpxacOMha0um8aXY9QNl0WM7d9FiXJq3B/bn7cadKco/bnnpEuuxFTdfgHkF5QugTDlO9E6UyR6h7BKtTrR6DxI3JSYLem6Q9hsDAX8+DwNtf8yhXAAQKOVo/StYJo5mtGQG4jmNA/ARDgbGdl69kNR9V/AT6J4m/C+Ob/Zn9E9SqUhFaLU6bfD0opJpsW45qQgqBQ1fylDU2qyqZa1lXf95cVbAb03sTpQgBSWyjpTtJNxsU+Kki77VsH8mZoMnQKQUVIDe2KqLt0eqjNAsjvk/Gy5WtmCNW1SfjbM8t73kEL6/iqdpjLKDp+ntBSbZ58IcDNYyBipHMylpd+ypKRrJgb2IcsucnofS7T0AGvphqzECU69/Rk1UPpME58kApmwz74tw1NHtKB96N1OMthT4jGRaxnG5IfutO1s5bI/LKgN7BfAjhpEeGH+bTEpn5q+nQQwIIQpNkW/whiV1xGtxGxJ1y0hqzEU77xPezq/hNY5qA2kSCeBOQCSL+JJPBdAnkSUnzHaw0LbQG/vWM0C5R51lmEmA9KwzpFrzh8lCduLaM0ZoyysBZebkYPhGTcWq/Z0SZ2/UxpKvUF2hnB+W1DaMOrw2fyhNIBWs8WKkDk2jI6yILSxeFiBtlRjEnyBIjwGkMdq/Pfb0ke5jMqro+deqApAnYBVgjEmI6UDpNkFHEhpFfjw3SnZH4uHoYo4pTFKD7HAVHqLfc5PnGyf2kn6e4Xj1llM0nCoscARF2doe364+pqMJuKj3Iaah6A+oUaM2kbZVL72Yez+uIhxCY0YUoOZ+sabpEuuiHXuD0BznC/W60uJx0oC3HoI68g1s4OQWULMlnRzOD/e3aWfVpVRrJ8ULJl1Dm0DCY4a29I2RsU+WWce+zkAqsSR+EVV1kAVB7CaTti71iW2ztozOa0zhaLyH+TeqIGj51JJheYNSm0WVSl+uJhxSct5KQ1lyZxfFkAaHhCnr5s805Hw00l8payzzNaEVwQ5AKa/isRgS9DUXBrVRO4cgPIcjbNWWhKtv4agPRyLOP25+XiDCC6Kep0/0q2z1n+vwCwubaS1GFv63HGyFH2CKm1AXS/5LYeT9MeqDsmvwho0d9pWh8u/UHTvl/gYagkAKPcm2j25H0ofOxOgZwjHdUWBbBGTL2uiSyOlGyyhcoawJ0AVKTF18c+JmBaz6YtKBNDbhFazQEWtc0xGtEoNGcWw2fe15vYpey39H2XZnWNc6Ix41JkxRjaC2jXl3hJPhKjZVAyj8naUe5TdIfg8pAHQss7KLBoAyRqSp6QLsdP6Hsm0oe53q+6uXFBaInEaBloJjynZZkWZpkRpg6pknIgViV6fW5FFe6ZOr82QtWMSjoRJbaCDbfKrnen8koP07FpsEaCERikmZm52JsDAEFY3MyW0dPJpc67yx05VrHOeNpCyhm1Okq2BmdZL1AZW0wl717qa1pm0pdNqIsgpPbCHoOWsXGr1jBxM9oVClDk//gu0l3+VluSYRtk2aZOuaFeU6tL2E/+86BEXc/9mjBmfkxFh4/F23mWVJ8imb9aj9fpmuhXSAKhfo5sNUKtxhwJMhKSIiB6BqcPHwmKXjdnBoJDMoVgjZHT1HB8WHcIOApyDtiCvfSiXX/tQzbmKjRewVTsHO+ZyMOfHmzXHlPHMU95yQXFBY/8vMcCH8p1Odo9FjDu89iF/9mDnAQwNYdKkbuvc0qUfft9iVi1vCG8NoLtUsjXQsV8qgN4mtJoFdqx1NhtlOUKg73QkQ9qRCM09DGC56LRhnpGMsVgGNU8qNqaS5puNebqq15EMafPQg1uuCsDYeJVrEtvgoJkaKBigOwFYp2YGZg4sZVGaCc1cLhige9DUAkhxyoJRAnR5u1jgU+8l1gOx95zpmM2zLnC5xAB7WOcCIYTsqmCAniGcrHkiqA2NyZEFlUeMr7ZDe6LyZQCYBi3+eVkBVtMJe9e6mtZZ3XST3VnKqWIolEb7ZMKgVT1EnScnDTx6Cw5aq/5J60y9f9mdiG2geOp5GrpZJJ7yJ45k8+ra0qpD31vGqgAk40LECGDM32jgg8JYMMBk3iXlOAMzDYsRtjGV9l1RvpegYICuZor8sXS98WxqSIV4Ovxxxle+p1zs9lUBqG++6fHUUqixYICeIRwTJ80gkg1d7NsM6RYrKq+9bS9AXlVKvsZInzwF+3LEeHqdZv82xsvpvD14wZozcoCanWZ6C2r9rbuTagNSlfGtJcQy5uDtB6jSAJk5exq0nizugK/KWhduoOmkOgCp32INEDosTv8aOOeeCwZoN/TiiJmBSTnDxGLqipy3YaYHKjAnNPPDggG6rDMNMxstm3zuKo6CgtShq4yvzNMZ/HJVANbXOqvpy2aQqtxKEWolDhXCjm/LNeTceRwVrEDvNlDPxVdmxghDRwtZtsYQ1rns1pnpyXZ4MQ2ZSTquQorhWBFDo/E8NICvCg5ay8K6uwqUQXkaVs2fs3GUDaWRhk34RtkBgEo7RKUA2o2gyi7WVRu0CAsG6Eob2nNwRcUD09Ze/NuUHabpYfCfFwzQaZ3thxBibw0yT5mi24hZUlfGV+YeBr9cFYBaxuWIXHWlCgaYEnFZuVXdEBYpI5YaKPNyb+1QpjqR7VrYfoCEKM2cmPDTttkueqLv4e0dq1mgEhM2Bu0htkV5BQctpcltOZdtOSgABmIHQAAMJBBYHAoEwEACgcWhwHCA1XTC3rWGdS6LL0fQhgdt4B5qXhwKDBQAAAJgIIHA4lAgAAYSCCyOCRveHhxBG665wD3UvDgUGCgAAATAQAKBxaFAAAwkEFgcCgwH6O0dq1kAo84YdS4LgfCgDdxDzYsjbQQKAAABMJBAYHEoEAADCQQWx6izd0cAQRuuucA91Lw4FBgoAAAEwEACgcWhQAAMJBBYHAoMB+jtHatZAKPOZRlzRdCGB23gHmpeHAoMFAAAAmAggcDiUCAABhIILI5RZ++OAII2XHOBe6h5cSgwUAAACICBBAKLQ4EAGEggsDgUGA7Q2ztWswBGnTHqXBYC4UEbuIeaF0faCBQAAAJgIIHA4lAgAAYSCCyOUWfvjgCCNlxzgXuoeXEoMFAAAAiAgQQCi0OBABhIILA4FBgO0Ns7VrMARp3LMuaKoA0P2sA91Lw4FBgoAAAEwEACgcWhQAAMJBBYHKPO3h0BBG245gL3UPPiUGCgAAAQAAMJBBaHAgEwkEBgcSgwHKC3d6xmAYw6Y9S5LATCgzZwDzUvjrQRKAAABMBAAoHFoUAADCQQWByjzt4dgavzi/gHAiAAAiAAAiAAAiBQTwLe3rGaBYocda4mgbLUuj7dtT4RB8BAsAAIgIEEAotDgQAYSCCwOBQIgDkJwDrnBNX3zRC0gYgBEAADCQQWhwIBMJBAYHEoEAADCQQWr48CYZ0DpVJY8fporjBk9o4A0ObhvQaA3sjsAgBo8/BeA0BvZHYBALR5eK8BoDcyu0B9AMI621d++9bqo7k+MQbAQLAACICBBAKLQ4EAGEggsDgUCIA5CcA65wTV980QtIGIARAAAwkEFocCATCQQGBxKBAAAwkEFq+PAmGdA6VSWPH6aK4wZPaOANDm4b0GgN7I7AIAaPPwXgNAb2R2AQC0eXivAaA3MrtAfQDCOttXfvvW6qO5PjEGwECwAAiAgQQCi0OBABhIILA4FAiAOQnAOucE1ffNELSBiAEQAAMJBBaHAgEwkEBgcSgQAAMJBBavjwJhnQOlUljx+miuMGT2jgDQ5uG9BoDeyOwCAGjz8F4DQG9kdgEAtHl4rwGgNzK7QH0AwjrbV3771uqjuT4xBsBAsAAIgIEEAotDgQAYSCCwOBQIgDkJwDrnBNX3zRC0gYgBEAADCQQWhwIBMJBAYHEoEAADCQQWr48CYZ0DpVJY8fporjBk9o4A0ObhvQaA3sjsAgBo8/BeA0BvZHYBALR5eK8BoDcyu0B9AMI621d++9bqo7k+MQbAQLAACICBBAKLQ4EAGEggsDgUCIA5CZTBOnfvnRlrnFnNrnFn5a3pid2NZquxZ+zIGyudTWPzJ2sLZ46297QazeGnDh6/fKdjfKcW8xylu3Z99kibHWXo6QPTl3yOstlZfkPX4crqhjpwzgXvoP2Pr//whw357z9yHmQnbwaAgVcXAAcNMPB4O664twJ3HIHAE/IGiCRiE/cGaBfHWn0Abrd13ty49+aBoWYr2zp37862m632kbcW7qwsXDo+PtIaOjy/Ltxzd/XC+HCjufv5M/O37yzNnTm0qzk8eW3dEnGuo3TvvbF/qNna9cLs3Acrt6/NPr8n/1E2bk4PN0b2T19aXP5gfuaF3Y3m2NnVrlWHXiu5Nffr93744jdn7X9n/+cnyf0/uNhutmbuJr9Qn6yeHWmx3ojxb/Ia63jcO2N9qDdQPRyfrkJn5aLokDRG9k2cnL9vdis2O8uXjk+wbk9rV/vohXi3R3dmHF0mdR58YdAA785qLAbARnP2nl2xKOLymJx3dumizQcX2j3037lz8cj4PhYmzd3tIxeXvzQP0F27dnri6WEBcOaDmPI9enRFAex+On/qYFptzZoby5vrc4eHhfbEp70VyDrMU08xAQ8/dfD03ANTVcae+WIWQK1k1mE+de3Bhtkt76xcfukAP8ru9pHZhcyjZAB88sm7a3+98G/mnuN1VOudhcOJ6FNxp7aihawxhbRT+3J+0lKsOtzUnCUtOobxd+PG8aFmbLNBKNAHYNT9dHHmMFdgssExzkUs9midnAMiFQRon3d2EvFVYHrzHmU14F6XSbcqe8aOnFmS2V+eVaYCfRqKAYdwZivXmZtUgWktmO2kBBCQ69keeEMxzpOII88W1AbaCqz82nZa5+6jlQvMZXJZpOeGKHpwYbTVMJxHd+n0UHP4LB+n3rh+tNF8ZmZF+9T1a1NDzaMLX8lrk/coXy0eabZGXzd29Gh+cqR15DpLyT2O8snF0ebwqSWqw+Y6E/3EVdvF9NBKRtCmlPz6w6svffMHL/4Zs9FvfxTb6MnqTJuBzbLOPAFMvHTu7Hn978pddr7rt/Qn4ttTL+xrNIcnfyrsn0dXgedaq0PSaJ+7J1HxWwHNsSOXFpfvLF6e3j9kdXvEt6JTtLJw6Wi72RqavpVmkQYN8ItbJje2fPLQU83W0OHFmEXmgrQEbFwrcY5Z1pkXHx6fZv3G5etvHWm3GiNTc4/kPu6/OUb9RgIorxGTrVePrhiAvBEfGj9++Tqr7fT4cGNkaiHbkG2uL7w81mi2zJTQQ4HcajdGDsxcW1Kd1Zm7FIAGXyZm1iCkAeSIrI53qzqmFH8AACAASURBVH2eer1fLh7Z05JdYqnPsbSjRFGUAfDfFr/zcO/eX/79L7626+ZaW51ptkYPn7bUdcvdlmSNKYir7zy1jdUrRsizA/3t8fFmywhMV72iKOJNYsO2zoNRoAdAXsmhg3oEpNGevffEfUaZrVN6+FQQoPv8I2cS8VBgJsDMBtznMkW8VRGjWjR2ppvZLAX6NBSDD+HMVm7j3nvxLDw93nKMyoXl+kgi4gN/bGiS51k1NFlcG5iiwKp+vI3WmcVnY2T/iRsrzGhmWOfOrRPj+07cMCzTg4ujZApZv2304n2Tf3fpVLNFJi/3Udgg4jMXHlg7un2y1eBOKPso9998pjEye88YUtq4cTyWYMz9Opcz8q5r+68/ev/lb86+fP7ju//j7IvfnD3/f/5gbtVdfv2ZofaYomR+p5dXZhvNQ8qE6c+TS09WZkZb7TNkKTy6CnwAY+LqmoLDyramxdXk19EwTN3bJ4cbI+fkqO0XVycsJy06MAeufJGsH/tkGwBaFWHMHUn60fxkc6zddlvn7srs6MhYezRd/92VUyN2j+7J0qmR1tD3eB+P9/cm3lmjivA6jJxeFh7S4zIVBvDe+eHGyOnbyqmIHumbVlxRbdnfjU/mT7C7RqybZyjB3IQv2wrk8fWMdrGba1cmZKjGS2YD7CxONlsGwOj+G880msdv8saGL+teShRxKzB68b4Ss32wTAX+6fd//+2He59eW/xtSmna16P555utmRVazfqbNaYQZZ5abK/r70+Z/bHYt3KVjwi022NWyzY4BeYEuHFzutUYnaXOeRR9dnVCp4PYmWW2Tj7hUwWAsXOPoigliXgoMBNgVgPudZk2Fo6xoSiVRFiz2Rw+dYc3c5kK9GgoOJ6Bh7B9UexWzv6Od1zthMg3CM313Tunh+zBRzE0KfAW2gbGT6jS69tpnS8cFree+Y2JDOtsA+5+sXL24LAaIGGm9rmryjuwbbl1Ji++mvcozDrvv/KZebAus878/nvmUXjzYQyKs118dnU8b/6TR8wMWrNWbPk3//Q3fzb74l/90++i6P/973948ZuzMz/+v3obNsw2Orv8KbstmzHqvP7+IdfsAr0fWuKOdnR2mfyQT1eBX9yTakA+ivhQtzBJnRuvjD/9irAp4lhszzThgS3HrixVyPl38ADNavDmxrr7wb7l4wGT768vn3FZZzbu8szMylpW1/GTt8b3xIxU9/bLcm+OHhrrjQyLi+5zmVhlCwGYiBTed02LbnHje8+hy58szWRZ57gC713a3x43O8w8E8diUFyeTIBCjfp+URR1rk2RNeTSjd3lYHEt73eZV18s9wC4+dtH33364d5vf/7xn5Jl9SesQxubEaG/tJYyxxQyT83ajTSX77sHtmlT3m2YnF+3qzdQBeYCuHr5ubFxs6u2cWs6VVpZrZNH+Ah3Xn6AdC3F39QkYl9iu1BsrRfA1Abc5zI5riDrNA7xViVbgR4NBT+zQYewhTPeyllfitGBSZqnSt+F5/r7P9q/qzm7bHbonyydkCFTdBtI1d4Bf7fROit6/PKkJVe1VSRdFxug+vNXbtIt4PX3DjSaYxeMqb7cxCSH8XodhXWRW+03jOExPrwnnFzmUfieX7eHiQyDaJ5BxnKPoDVKdj9++y9mX/yL9/9Zji1eY/Oez/8LbcEMGb+tzOuQYZ2XX281Dl+9fe00n2qcnEQrd9i9y7r4cpyYfebXVVh779BQc+zUB3wWQ3f99vfG3HfwN7vrd85NjKjb5fJ6qflwjnmodMbi7+AB6uN3V2dGk5NJmNsQk/KZoYwZO36bjA/k91KmPgxf2uRjjdzSsSFe6mnIrXi/8XmWxf0uk5d1zlBg985p9rDBO3zG8ObG/XemhjLm/X+5eErOfWcOO23UOaFAm0i3c//aK209m8j+NrlmAIw21648P9xon77N25Puo6VTbTXlhl8Xs9dHXeK0evZW4JNffH5g78PR7zz6bbJa8hPWoR2ZXVi5OMmmHvaexq12FBtTyDw1VYiFM+u5tVOH0sWmbGaImCbEhhi0sx+0AnMANM+t23kw93JKg8O3S2+d8odPpQASnYwQ9lJgBkAxIpCnAe9xmVbPDcXHgPio1vPz61GUqUA6W/E3R0OxjSGc3crxLv2YfVdcTKAqMtdLXux+i7gz3Ic20L4m1V2rlHX+YvXmnZXb185Z0z3FRB/xiJ54TLA9Nfmcv3UWd2NpTiR/THBs8vB+aU2yjrLObhbHrH//rPO//uNf/eDFP/uHf/zNf7pUx585a4tBlx7Wee3Kc+wRKzGJVjwW6bppy8/OuFkmc61PV2H9p8efUo8l/fnxBZqnq06Atwvslv1Tr96id6fwRxjb+8dHxEzopSuvsoc49TxUVZgWerd6YsvCANKBo4j3rA7YtywiNgtw5PhNPuc+aZ3Z/DzpV3jzFNOP3nd8SczcFXfT2G55/jA2UqO8fLc+l6kYgFG0cffchLrczQMXcr1tJsM6JxWoT5cR4MeaePOBe6az3lYumQDZR5vrC9P75BMXzdZTLy3SE0jd5e8NN0aOLxhT19feOZAxsSQPwM0/fsTc84Ef/p7u4dgVFHe65LMBcrJ4M2uCNSvOIz02ppB5avqY/Hat8ZyG/sZY+urW9Ah1nmPWeeAK7AVQVZsHAtPGgQuZ0khpnfKGT+UAMkBZbaC3AlMA5mzAc1wmJrn4xEIe+OyB7Mw2UIlBP/ie3VBsWwhHWa1cxGedDcW68cXneo5LTn0Ws/760gbqq1LlpUpZZwVajAcfW5TTnzcezJ3kT8HL56m5KYx7kRwGZXPjvnxZgRzsWXuHrDOblZl2lLyNrKq+cyFP0EZ/uHv+/IvfPP/2R//u3Ice5mRfZ1vn7urZ9m49fZmdIJtE21BUxRH4hD9jyJk9duXVVVj/6dFdtkEfGp9dpoc4xUHWV28t31maO28+oCCaVGsKxP03xhrNsLnOBQJUV4CPYsafX1Rj/3wz1r4bo856DI99m0OZdKzO0mn2qhk56ZwnOWO3fCvOjYnf7zLlHXXuATDq3j03PmI7vz1H5z7raWtZtd2juQ4FEo5oY+3O0vKdxSuvsrf0EBb1rWPBBsh987Hd9CCgfD/P+OsrsmHhTzI19hxiDyPyxwR3HZ6aTKtn7hkvm79dWBvd+/C7zhdurC8c2bdLPaPDnP3a5Qn+OId5RzV2Zs4xhc31hYxTk3vgs0izh5z17RFexrLO26HAKMoESGg21pY/WFm+fvXEweFGet8jvXXKGT4VBNgjhP0UmA4wXwOe4zJ1l06bNzrEBSbrnK1AEkPuhiJXFu6hQD+AsopZrZx4yCc25NyHXM9ftcFuC5vx0p82UF2Y6i5U0zpHEZtsELtVrS4Cv2c9rp+dEl94GBTaEw/LtNla+ij5b+3Rjl1/ewftv/8z880/+Jsf/6urPJvjfXrIePdCD+vs2se9M8ON5unb2ueITic9diaL+HQV+DMclqfhT0IMvex+UYaYbMPfasJb3tgDoPz5FXoANH4C2wVQDjuJZ1ZEpfi8NPOsLevMOn7m+xPzKnP92tFdzVb7e0s0MJ894uJzmXi1wwGyF+2NGq905GO6fD7AW9bTCPFLF0VRmnV2KtBRno8HP2NO3EpulATI35xjjemKJ5BOKHl+uXLhyNgu9Tr5Df4IMn+BY3L/vQFSma8//uEvzRdufD7/y71Pf27MOqMN2V9+Tyb2GIb5vbFsjCn0PrUoivgstYn3smY5M7DmGyos6zxwBdK5egAUk0SdD3dmtU75wqdyAHslEQJs/U1VYBZAzwY84zIVMeqszie7odimEM5u5eSAtBmlfcj1bBxh7hh7r+6pJeNGGxuD60sbqK5IRReqYJ1X32rviSVFbmr5qxg6t155akQ+ES+vwd3ZIXpSyrgqvQxK59aJp+mmpCi2uTozIp9FyD5KygMl8XtMRmUciz2C9j9/92P2OODL5z9Oe70VP0F9o1zeyOZ3ovXcROvAm1FkD2XxBweNjcV9osT4PXvvbGywM+WxSD5gEM/6DFdat2dzhb13hR2R3zqIHSVzGsw2AGQ0RatnvV8lYm29yd9YPrOqZqckt3EPuzIDurF8nr25L3a3MXOen3ePLhigfDrWfOqO3czI9baZFOvsVqClYrkiulUppjYFoLNvzKeSxzVPR+Q6j50gfef3nCV/25p84cZX1yYf7v3Oo9/TnuyojNhjW1nP+1Ix9pfGFHKdGp9oZMS7uSO5zA2QW8z8dvk2zbaPoigLoH0i8WaNvs1snXKFT8UA9k4ihCafAjMBejfgaZcpKmquszi5zIaiRxtIeMTfLAXmAyj3l93K8e6ZnRr6kOs3Vs6yF4keuPCJHjmzT5fWimsDaY+V/FsF68wfsLUm+vCbCPL9XPxCircvsysgZuo4xhh6WWfh1YzpCnxOJFn27KPwuy06oRb/XmfxFiHxSo00nXXXV1eW7xj/rs+ON1tHfrSyfGd1PRkO3N7pOrO96g6JPAZrs+TrGsyj5u8qZLat0b1LY7tiV4qP5Q+dX6XK2JZ060HbB4DE6Cz1rzSir9asC3Fn5fKxVuO5WfZi5k83uo9W7W8XZ55rNY69tXxn5d6j5HVikr7JXns8duKGOe7AjuZwpeK9jfyZ1fyXSdQ8M23kAdgH6+xWYOfmS/uGjFBl9efacN+RSAXYw1+yZ8/t+x6825PqNTMBanXQknjb2rc///jXj17cK60z7xzG7pjxaWNT5pRruYesMYUep8b34HKHVDn6u7FmNil3VpZ/dLTR3D9zfWX5ztrGQBVINdJ/XQA7t6afHtbpgG+cBjC7dcoRPtUCmC+EfRSYCVBkk5QG3OcyRSlv2GjwBzky20DPhiL3nCvSoEuBPgDlftytnPyy81P1zh86bFR0rn9060S71Wi/cjPxGFKf20B1RtVbqIJ1tn/UQD7Qpu8hyhfXn3gv+8cRelpn/lxXc3j81av0q4Tm7Mnso3QWDrMZdeynPejXBPVLZ/OpIiPvircIqVdq5Ntfz7nO7IXB+kcZxe8dNFujxjtG+DCAPaIvjp2/q8Dv6Fk/NMMnbIgZ1bzVsx5RMh/hEhMhjB+G5C8tNn7sJsZh0ADF4fkYhj0XPFYvtmpN2Ih/n61M/lIwc/KZWZzjNV5L3K/3OudVoHh5hfkGJdGNjHWQzFOQy+5R5zQF8hsX5nOZgpJzHnwWwORPHfEJG/KHkLgzoM4zvWow/jCAcS4ZCjS2Mhf/9Lu/HXs4+vTDvXsf7v3h79hIFb85qxu3KDLixSzJljPHFLJPjRXnd3hGzfe4xQ/gWrcnbESDUqCrKlEUJQHymwbmY83iCW/nD1Rltk5Rz1auUgDzhrCXAjMBZjbgPpcp2vp7nX0aCiaxQYcwl3VaKyc0z+4j2R14Ryxwv576Ni0xqm0+QcF+bYByvQgQs80xDtD/NtA4WKUWq2Gd2YS/O/Rrn+x3OBfjP+b8Rs+f5M02KPKide6Id0K5fpKX/Vhl+lH0b94OP3Xw+JVcbxWwlJIRtH/4l//1V2+lvFLD2oe9kh1OskPS2vXCxQX23pLZiZGWNalR3Px1B61HV2HtvQP8t9zOzbGnduTPy8nfYZEP84rfMRIPaRndFfEt/Rwaf8OGOUXYPtnMVq9PAFkN2M302C/pxCsWZJ35z2g1xo9bvy13/tzZ94TCuvfOjzWawxOvz992/Byjx2XKThv5AW7wBxl3vXD6yvUVn26k2zqnpg3R3BsP8Nm/Q2lcgmyAm2tXDg6zxwTPz99mv6R1fNzsT4rfSN9z6ILxy4gZPyGUEcJGhaIo+vVvXtjL7bL5/x+K+RriBwKHxl+5wuPFepuQvZfYDyXGxxSyT413lZ9XP06U2HPqBzHrHA1IgXZ9egMUvzwXb3DsvURRlNU6sdc7Zg6I5Os2x4+5TQDzh7CXArMAZjbg4ig5L1N39Rz7KVn+C5HxIM1WYP6Ggl+nwYewnGTlzrMsxOeebzVib5ePS6rXMFlmrue/xdgan47/cqH4XWH2+Eq71Si+DUyeQ8U+KYN1rhiyPlU3d9DmPn4v65zskKxZL8zinY3YbGN1cJ+ugu72jOybeOmtZXonN9uZ3k9rV/vozHX+PmDzKJeOT7AX3PJvP4jPWFAbZjs/czOP5TwA9S9oZO14y6POfNTEmCqtZp2q66JfC+NCpPH27tEVpcCNB/OnDu4bYlXd3T4yu/DA+B3QVEhO65ypQPXGG/by4+OX79iPttCBcgDsLL9xtL2HQR56+sD0pRX1FCbbBz8Ke0yQnYv4CSfadeJvfoCbf/rjHz//xZeL735+5r//8sB/ZTb6v82rt85ogCJe3GcmD6+Dyz2mkH5qfMpW6khV4uzkB3Hnxybi04uJBqdAP4Bmg5M4Lw0wq3VyhU+VASYwWB9sUYFOgOkNePwomZdJb8x0vkRvkOTVzlZgvoZCnP92hHBmK8efn46/+ta6VnwlT6qyBx8p1/Phf5VWjAU9u7o/bWDyJKr1CaxzWa5X/qAtS41LVg8ADLwgALhtADf/9HXmLwwGVqwqxbeuQADk13jrAKsikT7Xc+sAocCaKRDWuc+xmHv3Ww/a3IfY2RsCYOD1BUAADCQQWBwKBMBAAoHFoUAAzEkA1jknqL5vhqANRAyAABhIILA4FAiAgQQCi0OBABhIILB4fRQI6xwolcKK10dzhSGzdwSANg/vNQD0RmYXAECbh/caAHojswsAoM3Dew0AvZHZBeoDENbZvvLbt1YfzfWJMQAGggVAAAwkEFgcCgTAQAKBxaFAAMxJANY5J6i+b4agDUQMgAAYSCCwOBQIgIEEAotDgQAYSCCweH0UCOscKJXCitdHc4Uhs3cEgDYP7zUA9EZmFwBAm4f3GgB6I7MLAKDNw3sNAL2R2QXqAxDW2b7y27dWH831iTEABoIFQAAMJBBYHAoEwEACgcWhQADMSQDWOSeovm+GoA1EDIAAGEggsDgUCICBBAKLQ4EAGEggsHh9FAjrHCiVworXR3OFIbN3BIA2D+81APRGZhcAQJuH9xoAeiOzCwCgzcN7DQC9kdkF6gMQ1tm+8tu3Vh/N9YkxAAaCBUAADCQQWBwKBMBAAoHFoUAAzEkA1jknqL5vhqANRAyAABhIILA4FAiAgQQCi0OBABhIILB4fRQI6xwolcKK10dzhSGzdwSANg/vNQD0RmYXAECbh/caAHojswsAoM3Dew0AvZHZBeoDsEjrfHV+Ef9AAARAAARAAARAAARqSMD20jt2rUjr3Hkc4d+WCVydX9xyWRTsPI4AMFAGAAiAgQQCi0OBABhIILA4FBgOcMeaZfvEYJ3LYvcRtOFBG7iHmheHAgMFAIAAGEggsDgUCICBBAKLY8KGbbBzrCFowzUXuIeaF4cCAwUAgAAYSCCwOBQIgIEEAotDgeEAc7jFnbAJRp0x6lwWAuFBG7iHmhdH2ggUAAACYCCBwOJQIAAGEggsjlFn724BgjZcc4F7qHlxKDBQAAAIgIEEAotDgQAYSCCwOBQYDtDbO1azAEadyzLmiqAND9rAPdS8OBQYKAAABMBAAoHFoUAADCQQWByjzt4dgcoG7cOTz/7kG8/+5BvHPnpgviHkVx9969mlm+YntPxg/oba+OY5XvbZG5d/FWrBdzxAYiWI/eQb5x52Hkf0IQDmUSBp9VlJDwB5Q09YskK4c/kYCU/EO/s/Ux0U2HmcByBv31irKDF+a74jsiwApgFkmYK3ctqOACClUc2EfeJWoAPgz5dYsub/Tv5c5lwosFQAvb1jNQtg1JkFrQpCGc+ygXNZZ/GVmaTZJ3V3fjkAMu+i0q3VbgJgHgVy4RFAJlpajjoAmAeglbO5k1a2BgBzATRUx9Woox4AEwCZ7TO6uLzFA8C0ASZHFnYANFXHPLSRdqHAPAocCMBqOmHvWsM6x4NWROy3jt34hmPUmfu/Y3rUmTWICFo7aFMAxjlr9wyAOQCykRWjw8Ygq1UAzAFQ6+1xxCVqdIwBMA9AZlY0NCjQUFSscRO3OG5865i+O8Q2BkCr+2ra6FwALcmJO5bo/UqkJQLobUKrWQDWOaa5hydFX9Zu5kQryezLuYexAIZ1toftUwBmuJOMr1KbWrPZlcuVnvGiB/DYvUs+mmIpMH3MHp03fre3F0BDMExv9o0mKNAC4lQgnJ8hoXi7ZCeRny+Jbq3IF9phWxHN+2/o/TqdXwrAWOa18CKEzRDeVoDVdMLetYZ1tls91SbazZw5ZhALYFhn2zpTgokBZKvGZFM1WgDnF3d+ToBCpWI0i2MEQBWquQASVTFYpSyL2Anyrpl3FdhYCHPONE2ICZKWcefNnUQsb8eomtDMZQDMB9Ds9JrLSCIpbWBcgSY0c7lQgN4mtJoFymqdP5s/1Gw1mlNvf6ZzHvOvH8422Of83/dXqUPfefsF+lB9G98mraw7aGM310SrJ0a2qmGdiwdoQjavSy6ADJqemsYtoDJ/LIaNWWsqc3suFDzq7AdQqNRE1Gq8MP9QnsLqazFZ0uqhdzumtEjPfG+WcWGQDYB8tUYAk3i9FUhsXXLdOQqMfvZ93RK+9qHdeD5O+9bFJDHBgAMUOmSdN2OYv6zObyshnIbIJCnDnAev+NwNMG5cyD3HnnJjYOuiQLsl1Bk8N0Bu+DhAO2XUBaCVYowALxHAajph71qX0zqrADMTZPTw3Sntm4X5kO7E0pO1DQWnmVHkBrKsW3Mx62w2glWwzoUDVDtMJuZcAMm4UAZivpDavjK2eup8cyow6jxWRTQics+ur7iAvayzZVbqBdCNlzKHjwKtDgmpcYco0NEMGvbO8a0fQFNyj3nvVw3e1wKgVItKJQZbtwLNrMEawJoDlD0Zo3lsqvGFXAD5+Iuabc+K6BeY1EKB3iEcU+BgAHqb0GoWKJ91NseVrVFn6T9kg0WbUetPWZCP85HJJt9DQSs3lmXFt+6gta0zj1JzvoE5BFi2oCUyvIdABBiWrQMknrM/Y/uhAPbpe8StswnNXOaXL75xvg8LG3XeGkAqZWus5dQnZV/BM68CLetsQjOX87FyEi4zwKIUGMslksOOAihD3taYuufm/DaPAhOz7U1o5nLlFehEJPKL1Qf2tM51B5giSNFCuhVoR2tiG7MbXAcFWikmVxbeFoDVdMLetS6XdaYEqTqmhvOTulGfkHRoXFm7ATLKqmmTu9U30E2fnQhI0fSbYWkngzKPOvcHYAK1dS1yAbRj2H7kqEyt3pYBUkHhhhMdFVNCVgsoZ0BattilwJvnjKmlsZvpOx9gAQrk7UPCvgjUOwKgtCaqlaNmUHTeUr4VzWmeEE6gM6GZy6bUPZcL6bxRJHonkRRE1PslnuqupsovaXOu7Eav5gCp16HztTmU41agDTCxjZmja6DAmD5J51njL9sC0NuEVrNAKa3z91dpTrMyyvFRk46at6dShWymKcvqz+mT769K8TVbDR3AiYAU+zHD0k4AFbDOfQMo+yeURXhWzgeQ8aQZGtbjMuWa5yfboy0AjBliq3dhdtWSKSQfQCs3sCLlvFnZH4A6hLeuQBbFKagttubF8lsu0vn5KzCWWe27TAmAdA9qqyHMjGA5X4+4ZQVmAow6stGb/Rmh87TOlZmw0S+Adholni2O0R2YtvOLvVNyB7aBPRRoAYzlkRIBrKYT9q516ayzvMGddB7xTygZNNU4H89zMQfD1Ka2VOMQfEG6Z7fm7AkbVgYtuXXuI0DV3yDIGa2eAyBzz/IlG/rZ/JI9IvPw3aktA5Qphx4BbDRFVrDEQ9sYfcI0P5fsvDGHR28pUc8I1gIghXCgAtMsctrnVq6yrqO+x2VsU5R13poC43mX+rd8mCAB0PJ/udtAI4R1z22nKDATILfOUn7mcKlQhRtgzPkxzdQZoBEpeuRLzsnMC5DP1t2xSaSHAhVAyr/0LE3qoEBSgQMA6G1Cq1mgXNZZJ6S4UVadfhowVuqxrXNcfExtlDaa8tabbV/cQatrovSatlCmvKurXSRA9dS5MHyaZ5Z1TsOV/HzHANSalJ006YH0KRM6ZQHZV1Ag9X7TAcq4lomWMMrOCQAygNSsyVaOiIkGk4hp4Zn+DwB7AjQ7Tia6LOusW2PdApj7MZZ3RBuYqUDjZNUdY337Fwr0UKDi3CBLU6okUk0n7F3r6lhnIzeo2WZ8gfLuY22vjVtphnXWUzjMtq82Qbt1gHrmrk0+617bDkwb2QBjfRVygZZ7dn5YH+scBFDGLBQYI2C0geSPjfse7Ftml+mrmlvnbAUqSg6ApvMz04f4HElEZGGSWSZA3anTGRkAPQCK3EoGOvNxhZ59NrVBcZ03bxNazQJVss4ds+F7Yf5n4l11Ovwc86G5yCie9ZZm28eClk0kUC9aUmLKscBuiJhv28hRJM1TFnK3V+885uSoYhRv7K1AuQGK9KC9y2sfymXuCwGQvb85cbuDVKfNihoXNDp77LoAYE6AUCCLxMwQJtWx8fhV8bZ7Po5An2s1IoSdbSCBigPsbZ2RRKxsmwLQ5ZvRBqqX9BkjfSkAdYpPzLkqiQKr6YS9a10x62zohsyKTgb0ibbIsr2jcFWWRaYNe3DabBy3YXkw1nlrAM1SbFlOozQn7G4DsVitthdgDutMWdlQbOwUtne19AANjUGBvDMsVedWlGmOE20jAHoCNGKzjOlDVG97Q9hAJELVUqAxv9l0ikZQ0/hOYj+D26bEAJPpo4w6vDq/6G1Cq1mgOtaZnnqRfpdWjRviSW1RyNGNclGWhm1q5vyI2BYAxvoeCZtInLe17et7q5cJkERFr7KyJceTQRlbOjNLlRkgFMiuVC4FymaNBEnjBfZtqBhPUwbbuFwOBaYA1I1beQO51ACpSTQebitF4jAFX2aAFLMxfZbOxlTTCXvXujrWWd0TN+dRWcMtWS0ayc54yYZVdvtjuO9BGwKQcrYxz7Jc/8oYawAAIABJREFUEdt5HG03QCk/A1GrYT7DSgyNzt72q26gaaOHAjMBEj0DLxRovinI/UCCITYaWTDaT+PbUkixhCHsQpSVaMyAGvxyiQE65CdiuW73fjOtiKMNNBTo+NZ4zW5ZQtjbhFazQJWss3XHh80E6lhtEyVXQ2qWmGgYhuWbeFk9omAVsfbf520G0OoFASS8vL2joaw+M/Hiv/0AY48ZxSYO2cN+Xqc2mI3LDhAK5OFmpt5EO2YmV0fXwiyb1k4ORmzOo5RAgT0A8mrLbRLwty13KJjlBWgFrzGAVbJcXF6AMtVaPZByhnA1nbB3rctqncvkyVTD1NeFgoMWAOtHIFCfUCAABhIILA4FAmAggcDiUGA4QG8TWs0CsM7bP1QgxIqgDQ/awD3UvDgUGCgAAATAQAKBxaFAAAwkEFgcjwl6dwQQtOGaC9xDzYtDgYECAEAADCQQWBwKBMBAAoHFocBwgN7esZoFMOqMUeeyEAgP2sA91Lw40kagAAAQAAMJBBaHAgEwkEBgcYw6e3cEELThmgvcQ82LQ4GBAgBAAAwkEFgcCgTAQAKBxaHAcIDe3rGaBTDqXJYxVwRteNAG7qHmxaHAQAEAIAAGEggsDgUCYCCBwOIYdfbuCCBowzUXuIeaF4cCAwUAgAAYSCCwOBQIgIEEAotDgeEAvb1jNQtg1BmjzmUhEB60gXuoeXGkjUABACAABhIILA4FAmAggcDiGHX27gggaMM1F7iHmheHAgMFAIAAGEggsDgUCICBBAKLQ4HhAL29YzULYNS5LGOuCNrwoA3cQ82LQ4GBAgBAAAwkEFgcCgTAQAKBxTHq7N0RQNCGay5wDzUvDgUGCgAAATCQQGBxKBAAAwkEFocCwwF6e8dqFihy1Pnq/CL+gQAIgAAIgAAIgAAI1JBANZ2wd62LtM7eB0cBg0B97nQYJ13kIgAG0gRAAAwkEFgcCgTAQAKBxaFAAMxJANY5J6i+b4agDUQMgAAYSCCwOBQIgIEEAotDgQAYSCCweH0UCOscKJXCitdHc4Uhs3cEgDYP7zUA9EZmFwBAm4f3GgB6I7MLAKDNw3sNAL2R2QXqAxDW2b7y27dWH831iTEABoIFQAAMJBBYHAoEwEACgcWhQADMSQDWOSeovm+GoA1EDIAAGEggsDgUCICBBAKLQ4EAGEggsHh9FAjrHCiVworXR3OFIbN3BIA2D+81APRGZhcAQJuH9xoAeiOzCwCgzcN7DQC9kdkF6gMQ1tm+8tu3Vh/N9YkxAAaCBUAADCQQWBwKBMBAAoHFoUAAzEkA1jknqL5vhqANRAyAABhIILA4FAiAgQQCi0OBABhIILB4fRQI6xwolcKK10dzhSGzdwSANg/vNQD0RmYXAECbh/caAHojswsAoM3Dew0AvZHZBeoDENbZvvLbt1YfzfWJMQAGggVAAAwkEFgcCgTAQAKBxaFAAMxJANY5J6i+b4agDUQMgAAYSCCwOBQIgIEEAotDgQAYSCCweH0UCOscKJXCitdHc4Uhs3cEgDYP7zUA9EZmFwBAm4f3GgB6I7MLAKDNw3sNAL2R2QXqAxDW2b7y27dWH831iTEABoIFQAAMJBBYHAoEwEACgcWhQADMSQDWOSeovm+GoA1EDIAAGEggsDgUCICBBAKLQ4EAGEggsHh9FLh91vk/vv7DHzbkv/8IvF47obi35gDQvuwAaPPwXgNAb2R2AQC0eXivAaA3MruAN0C7ONYAMFAD9QE4eOv86/d++OI3Z+1/Z//nJ/qKddeuzx5p7240W409Y0feWOls6u9iS91P508d3DcktjyztE5b3jvTYsWT/86s0h4KOArfVXft2umJp4cbzdau9tGZD9Zp//zvZmf5jaPtPa1Gc/ipg8evrG5Y39oruTXXC+CTtYUz4qCsShfudOzjWGudlbemJ1JQr55jYK1/U3NfUvHOyuWXDjw10mo0d7ePzC48yDq1rKNoRK2hpw+cuvZggy5iFEWdn07ZFWg1mrP3qAqxv9sBcPUsI2D9m7xGwDNPTVW+e3e2nX5SYrM0nfNvq63ASAtp+KmDp+dMIWkls/C5HFMy+3aKKzBRUMFVCxlH4ZdpnIewo8HxOcqgFXh3NqY9WlUxkqmNzsqFI2O7mq3GyL6Jl67ey4pg4ri5Pnd4WCtcfJytc/1t+drAngA3HsydPMQbcEfrFPkA7Ny5eGScpyrWYF5cVg0poeV/N25ODzcm56kF4Z89WZs7KVra3u15hgKffPLu2l8v/JvRulpHjq3o0Ms8aE+AtFtnK8fygk7fi/fDFJgawpl1oC/l3wED7G1UcobPg4vtZmvmbuxsrNUeWfjS8QlmVFyXOzsKrINEGQDtDSu/NnjrrJB9/eHVl775gxf/jNnotz+SH3fvnRlrNHc/f2b+9p2VhUtH283W0PQtd0xxuex6YXbug5WFS8fHR1pDhxdFo7N+69zZ89a/Uy/sazSHJ38qvi/mKFEU3X9T1Xbx8vT+IX2IKIp4Oziyf/rS4vIH8zMv7G40x86udtX5xxb8NecC+GR1pt1q7Dk0c21p+c7i5SNjjebw9A03P96ctdpH3lpgqAXAedX96FybajQPTFsYKb9+uXhkT6shTu2OOPGxmbvuU8s8CkckL/fS3JlDu5qt9nnNiLUso1OnrDrcsnsnmuLgAUZfzk82WxMvWUq7clfQ7nFqot4bqxcnmPlWXkefjl5K13nVFRg9mp8caQ2NH798fYXFyMHhRnPswgN+6t3VC+PD1BQIbQxPXqOLzz1cY+QA0zkFV5oCs44i98ODVDU4hykKvI4SbSFthIXwF7dirdzZk4eeaupmMKt1+urWNJG/fW32+T2tRvvcPXcEkxI31xdeHms0W7Z1ztZ5udvAbIBWW7o09/qBoWarfYZaJx+A69emhprD49OspV2+/taRdqsxMjX3iMDSX75Zy7LOmw8usI2FPpMphkrS34w28N8Wv/Nw795f/v0vvqaNU/9aJ56ZRLIB0gGcrVzn+tFdTYr9629Njw832rP3nlAZ51+nArNDmPbjrAN9qf8OGGAvo5IvfMT1yrTOmVlY2KGxI5cWmWcQNka1tJYYElGgycmlDICJbav9wXZZ568/ev/lb86+fP7ju//j7IvfnD3/f/7AOX5xdaJpJMgo2rh+tNE8cOWLJOWNhWOtxsTVNepGd1dmR5vDp+64mv8nKzOjRqtX1FG+WjzSbE28s0aV6y6//kxj5PSyqMInF1l9lqg+m+tzk6zClPypEP311Jwb4Pp7B+xGWVJyHfTBhVGrme4unR5qDp+lcfnl11uN5+ddBaP7bzzTaJpNP4+90Yv36VrQOUVRlHmUziKznhqg2PPxm9Lqr88932q8vmLsLWtx4ACjaGW20TyUTIGslj1OLYq668tvsK4CHynMsM6ZOq+2ArvL37Pz5SZXy/dWujLwn5lhi/I/biyOLnzFVjduHG80n9FeeXPtykSrQT1nKiH+Zh2le+f0UNM6iogC0Yz4HIUdaxsUaJ0qb3+U/8jUBgvhkdO3lVN5xDuB7znDnR1j45P5E6wnw+RqWedsnZe9DbTwRZEFkLWlVisXrb1zQCUjD4DdlVMjrdHXDSk/WTo10hriOtc1YJdgrN222uSI3fozkkjEW4PRi/d1MWspU4F/+v3ff/vh3qfXFn/raKeN3fgkEaMYW7QA8g9SWjkR6ZPUR42iiFu00TdEvzm2W7aapsDsEM6qg+Mg2SHcf4Axo5IrfBjzofbYaJZ1zszCDy6OWkHdvX1yuDFyTtzdzY6CJMJMBSY3r/An22Odf/NPf/Nnsy/+1T/9Lor+3//+hxe/OTvz4//LIN5/85nGc1eVFc3iunFr2rre0qUN6SkZqjSXwujsMuWJoo7CM6sxh4FVgdllcd+EHWVk9p7RSjm2V3X0zLspAFmEjBtO1Nh9YrFz68T4vhPmgDQPIbrpw22rAyZzhawPELsV8NnVccN264NlH4WP2ureRRTxoW5CurkyE7/EesfJJa+gLQBgFK2/fyh1wDj71KKI36obHn/11vL7U6k7YRkjS+cORVVIgfzUzKtvXlN+w8G2CN2lU82WuHF079L+9rj57cbNadtzqH1lHuX+j/bvas4uG0EaPVk6QarzOAo/3OAVqM6S2RbW9dXdgExtsIbCbirTAUaRuLvS2HPo8idL8ZDM1HnZ20ATXxxg5+ar+4ZiYwefvkW3xX0AfvLW+J7WjDUC0L39si1Xbhwn319fPmN/zmZE7L/yma4obzdSe9o9FLj520ffffrh3m9//vGf9B7jSz5JxC4bU2CU0cpx2cRuh669s185NnvHWQrMDuGsOsSPwda3FaDLqPSyEGxAYXR2+VPW9aXcnTixzCzcufHK+NOv0HAVK8vCVt4IzY6CxIF6AnSUqOpH22Cdux+//RezL/7F+/8sB2evsXnP5/+FPNmZ1e6nizOH2bSw5ORXjZnPxLW10r190jFQ2r3LRqONKOXOr4ij3Ds/TAqjevHs/vz761HUWThsN4JRFDF/GWtDqaCP5lIB8vZo5i6bxj3J5m7mmANKx+9+sXL24LC+aSts6ztLcycPsJFRa9I5B3hSDafzXfBTs4ajaM/m38RR1q48P9xon77NZ/51Hy2dauvbzdGj+eebwzPXVy70FAM/Ro9Wz6hHUQDZwPzhq7evneazxOwpjJuZpxZF996cEtPQeW8hNRfyYadYm6h1Xm0FMlswNfeosyyn2VkAmUWI9aJ5cDWS3blu5/61V9rWXCnjYmcexdiOFtlIT8toLujz7KPwrQavQKpcFHVXZ0atuW1Z2uBDxbFoZcYl1otQe/9y8dTJeT4VdTVunbN0Xqk2MAFQnb1a4LdAn2ETinwBql2IBTHmqkcf2F27IT5NiMnenOv8ZOXUntbQ4atiHvDGJ1cnR6wpbbEd91bgk198fmDvw9HvPPptrCitbjmJuACmtnKJHlcURVyBNG5C1ZF/MxQY2zKKIjuEU+uQLJgnC/cNYNKo9LYQbMIbnyopr5rrlBKfxbOwucFmd/3OuYlMjekoMAvScm8F0pZV/ztw6/yv//hXP3jxz/7hH3/zn0l0/KGr9v7xETHtZunKq/vZ9DJj8qsuwzJi/F65q0e+zu7kGvM6oqiwo7DDxYYlIpZaeHbn/jI22YDrO5ax1Bnl1VwGQN6daI/vH2of5ZNHr/J7rFkTrNnRea3Yrdg/f+WmeniFW2GaYydnIYvGnd2V+95wY+T4gvEwC7+Vad/JVScmFpxHiaJoc31heh893tR66qVFNdm6u3Safa7mbbM5WMasm9j+87R6okhhANeuPMceABVTGOWEUXMKY/qpmXXvYZ0zdV5pBfJnQJ8ZH989dJA9rrB8/SKbcTsytcBFyG8Ujl0wHx9mo6oiuDQ/HvJsFsHEmw/03A79vXjSNPUoxoZ8Uc6bpDlX9HXPo4gNty2Eo4jjOhAfnkxrnUSitcZB7Rs+dOKJvwnrnBXC1WkDXQDj5y4mfYoZd1sHyPYqpj6ruYUbN44PjRy/yWciMaWZ1jmKoq9Wzx4U07qEzlfNB6ljlcyjwM0/fsTc84Ef/p5uw1o72VoS6QUw3srxSSxD04v6HQBizlUzxTrrKroUqL9lCWXu8LCeNml8Fa+D8ZVa3D6ASaPSK3z4PPj2m3yKixBk5mOC7BzTsjA/f86HaeypV2/p66LQiAUzCmJf8dU8AF3lqvfZYK3zH+6eP//iN8+//dG/O0lx32ncc2T3Dt4YU9PLzDLcV8XDjGc4ewCPzxayx5CKOgof/Is1c9o680iIjZBx4QZZ52yAzGa1GsbUlEg8ZZI+wZoh/WL15p2V29fOmQ+vdO+ea++xnvzb+IAZlyPX+TRk/nSXaWp3HZ6apNvc5mXSy66jMN98bLdt0IfHX18RU53Xf3r0qT3mjOpo7UcHGs1nTDul95/TOhcIsLt6tr1bPzbEJlewKYyNY4us/pmnZlY7u0HP1Hm1FShbanO+Y2eRPbsm5oCKNlo+IMU7b+2pyedi1nlj7Q57HPbKq/YjXAbfHkcxtow2O7e/N9ZoWrLn3/c+ithNrrRRoAJV5fkopv04daY22MMesVsZW7XOWTqvThvoAKjg8oUna1eYIaPmaOsAo87S6bY5BKAGDvlx4tb5yerZ8WGzpR1q7j7y/pqzl9h7vgGd0+ZvF9ZG9z78ruuFG1tLIr0AJls58UykeMp/mT0muHvy8BS7DaWGb6i29t9M65wawmwfyTrYe2ZruUI4iooH6DAq2eGj71Sweue0zs4sTBTWV28t31maO8/fzaAelaZv2d9YFJhf0XJOgLR5hf8O0Dr/+z8z3/yDv/nxv6bx4qY29gwEu2svJzhaxTJH42hLMT4aG0Mq7CismUsb1xETgosdde4JkLd6o6IbSgj4fNwpc4SYvkn85Q+vSOeX+DLaXJ0ZaTXUPI0v6c1WYi7HBp+Hqt7LliyuPjGOwm/9WE5FPOt5IuWVKqKBSJvM3Tto+w2Qze0bbjRP3+6Kx1tznVqPBj1T55VWoDC1drc2YnNg6AmViL0Uib+Wa2TfBJswwIf5Y91R0hW/7+HoVvU+itjD5vrcMfYOnFNLxs0U2rn6m3YUscF2KZA/KRV/QjpLGyLRFjHqnBnCvYbNFFZaKBVAqlQUbaww/zoydeVTsqxbBbh+jb1Wov29JTmqx4daze53zDrzhxHJr/MKrbNHI8Yuf6prZy71Bkhbf/3xD39pvnDj8/lf7n3680+iaEtJxKlAOhT762zl2Av7+FtoxUtUN9htxgDr3CuEnXUwK5nfOkdRVChAp1HJCh82rVx15PJbZ3W2RhZWn6kFPmedhsnUp8koUF8ZC/kVaBSq5OKgrPN//u7H7HHAl89/nPFuHJ4aY+O4aSO1eeY6i7tC8Vxb2FGyZhMWPtc5D0DXhGPeXvRsj6R2mXFRL0ozn51i3/MHB2NXR2meHzrtkS+1lVigo/CBsdh8VvFGDnXJYnXgM7Ads135fnsEbT8AbkaRXUPRUZn7MsepEZQeDXqmziutQDEhx35cQTw9ad84IlARn+uc1nHiM+MdU4ZyHUVmhQMXPiFvpA4aWxA9+ZQu4jYokFVP5F3riWT2dFTGkxhbn6obG/PL1nnRc537EcLpAOWV/2KevYiz/cpN811yWwC4ubF8nr291JpZxH2qmq5mLbA2kKcqNVohKuR4bljW1Mv5RVHEX1cnX7jx1bXJh3u/8+j38oGc2K3RXknErUBdrRTrbG5Ac53ZuEPmfzEF0rY5QrhHS8v31COE6Wjib2EA3UYlI3y4q7Z/T4DEs6Vcb59XlMyzziiIleKrXgBdO6jMZ4OxzuJNauKVGhloeENsP1IqHq1zeDJHC8IeDbbeZcZsh3zfhXHUwo6S8gy7fBAw5eny+PxsVbFMzeUDyL2F/eC8ePbC1R6tvtXeExulE2TYW2nY4AcfPVXVE8Zl6Dx7dx17qNm+OZDatmYdpUfeZe/xiBlr0TeQL+fWVRNLgwbI056tTAUw+9Ssmvdo0DN1Xm0FOnp6mlvn1itPjajXFHJid2cpnDs3X9o3JCbGKJZp2sg8Civ96NaJdsIbsS98jsKrMWgFynNnD2/Eop7NHmLv77PzqHiFDhtsTnlBRPwemjyA8SdmXPT1Mrbh7TDv/Za9DcwEyDoln7DXrg8dvHg/Pi3YE+Dm+k32SuyxEzfs1/99tbZ8Z8X8d/lYq/HcLHv986cb/bbOUSTetvbtzz/+9aMX90rr7JVEegFUqki0cg8uj++2b5ByO5g2NKN2xKdExpx9egjrYmkj39YWuSdsUKmCALqNCn/ThW2HeFAfmnvUXV+1ZLN8fXa82Tryo5XlO6vryb5HVhaO7l0aY9ncHAMSGuC5PjMKCIPxN7MNNLar/uIgrLN4EZh6pUYGNHHfR//wgXhPZFO+zNUumPm+W74pHwK0sy//vLCjZL45lT/na7ySM+C9zrkBit6/cYOPvyfSPQeDe7Ihc0hD/D4Fn2maQBTxG4XSavORPMN2i2mpMSsjrlbmUcSzuua7e/mEDXmrSDwopt/dmyUGdrCMoO0LQDFUYM4J4y/HFa8mzT41wUb8P5FUzC+ZBcp6f3mlFRjxyXzqPcTMxbJXLMl3u3LLK+fW87nj7OkfauL565PMp+LEW/2dL4DPPIqQrlkHA7/PUVixQStQVJUPhMfmvbBvMrXh8VpiA0iUMC49dM5ncOruZdnawGyAoj00A9xA4QNQiNOavmXsyVp0TNiw3y1ttsNWSb6SocDkxvyTP/3ub8cejj79cO/eh3t/+Dvmn3ySiNhpmgKNQyZaOd7ponBmR2U/qpqYJGDsgRZjnTf5QujeP6eSb+R7WwCmGRUPC5E91zk7C7M+tmFUYo+xZkYBXRT91x+gLlutpUFY5z/8y//6q7ecr9RIsBKPx9LPy/E3bFi/kGIW6K6eY781yB/PT/4YXhTxeZP24KgsXthRuvfOs5/rm3h9/nbyZ3jYnA3262jsR3p6/uBZZt71AMiFLh8r+YC/YcOcEWXiowixXhChPIRC9MYie3Qg9kta4unDPYcuXGc/jsV+CGqLR1m7cnCYPSZ4Xvx4pP2LhvSg2In39C8jGt0q+2S2DWBr1wsXF9hzlrPsdwE1wMxTM+qeSCrGd3wxU+fVVqDIl/LXBMUbNhRA+jFOdvWT4SO0Yb19Jb2h4FnZeRT+e3ut8Wnr9yDPnj8nfxLS5yjZ1rlPIcwEwn6Xh78xLSGcrNbpy8VJJlf2Kh76NcFev+XG9p8wLpvZOi97G5gOUPxK4r7nT8a1cVP8Pld+gPzXQBvjx+M//fjeqvzpJ+PCxaxz9BV7X2djz6FT7/F2WPzeqvpFQ6OgWMxtXH79mxf2crts/v+Hvxd78UkirESqAnX9HK2c/JFU1ng607cubC3FFdgjhI2yjjoY34rFbQHIZjA6jUp+C5FtnfPkevOBbP0Ya68o2DrARMmqfTAI6+zHZJO/55W9lpj9nPrMB/YdLntfGw/mTx1kb4BmLx4+s6Tea8a3yrwBVNRRNjfuXzs9kVbbnD9Az6ubO2htBMm1zsrll/jDVc3d7SOztx0/xKjLqAc1OMBF8fZQ+bWuPL8Q1+3HuvkjXPzH8KzX8epdG0s5jzL09IHpSyvWa3HUg2LsHdXHL69kPcJVBoBr5o1dA6Dj1IhPngY9S+cVVyB7ifuRMSakkX0TL9EvvQs4DODUU+yHyl1vKI9p406WNlKOwqcWuKYM6jvCPkfZHgVeS38vQbY21JO+SfIkzsTfuHFhG2TrXH/LQviKwy7qg5QIIB+oo/mj+t1wDfPNJPkA8nsX1h7kbl2TE+LWmd12oodlRUK8/iDw5XQC9+af/vjHz3/x5eK7n5/577888F+Zjf5v8/z9ePx7rySSoUC6ts5WjjVrE7sZDet3A6iM+29MgTlCmPbjrAN9Kf/mV2BxAHsZlTeOtveINjA9fHpZZzZfhR7KzJHrSWN5osAmmB+gXa56a+WzztVjWEyN66O5Yngl9gKACSR+HwCgH6/E1gCYQOL3AQD68UpsvXWAm3/6OuMXBhMH2qkfAGDgld06wMADD7w4rPPAkaccsD6aSwEQ+jEABhIEQAAMJBBYHAoEwEACgcWhQADMSQDWOSeovm+GoA1EDIAAGEggsDgUCICBBAKLQ4EAGEggsHh9FAjrHCiVworXR3OFIbN3BIA2D+81APRGZhcAQJuH9xoAeiOzCwCgzcN7DQC9kdkF6gMQ1tm+8tu3Vh/N9YkxAAaCBUAADCQQWBwKBMBAAoHFoUAAzEkA1jknqL5vhqANRAyAABhIILA4FAiAgQQCi0OBABhIILB4fRQI6xwolcKK10dzhSGzdwSANg/vNQD0RmYXAECbh/caAHojswsAoM3Dew0AvZHZBeoDENbZvvLbt1YfzfWJMQAGggVAAAwkEFgcCgTAQAKBxaFAAMxJANY5J6i+b4agDUQMgAAYSCCwOBQIgIEEAotDgQAYSCCweH0UCOscKJXCitdHc4Uhs3cEgDYP7zUA9EZmFwBAm4f3GgB6I7MLAKDNw3sNAL2R2QXqAxDW2b7y27dWH831iTEABoIFQAAMJBBYHAoEwEACgcWhQADMSQDWOSeovm+GoA1EDIAAGEggsDgUCICBBAKLQ4EAGEggsHh9FAjrHCiVworXR3OFIbN3BIA2D+81APRGZhcAQJuH9xoAeiOzCwCgzcN7DQC9kdkF6gOwSOt8dX4R/0AABEAABEAABEAABGpIwPbSO3atSOvceRzh35YJXJ1f3HJZFOw8jgAwUAYACICBBAKLQ4EAGEggsDgUGA5wx5pl+8Rgncti9xG04UEbuIeaF4cCAwUAgAAYSCCwOBQIgIEEAotjwoZtsHOsIWjDNRe4h5oXhwIDBQCAABhIILA4FAiAgQQCi0OB4QBzuMWdsAlGnTHqXBYC4UEbuIeaF0faCBQAAAJgIIHA4lAgAAYSCCyOUWfvbgGCNlxzgXuoeXEoMFAAAAiAgQQCi0OBABhIILA4FBgO0Ns7VrMARp0fnnz2J9949iffOPbRA/Mxx1999K1nl27GP+FbPvuTb813hMJunhOf3Lj8q9Cx28oGLQAGXnoABMBAAoHFocC+AHwwf+Mb5x5aXoSlFSSRJG23Ah0Af77EkjX/d/Lncj/Iwp3HJQJYTSfsXWtYZ6Y5FYSymZMNnGmd2WbSMfNvdRG2WnfrrGmIzgYAmp2uHstQYDKVen0CgF64khsDYJKJ1ycOgMz2PfsT2zqzzZBErL6EbBvzATQzL/PQRtpFFk7YGIcCBwLQ24RWswCsczxoheC+dezGN8xRZxao2kmzbdQoNYLWDloAdOWGjEwMBWbAyfMVAOahlLENAGbAyfNVDGDn8rGffOPZG986ZltnJJHUQYRcAK20+zhig81qUB9Z2MrCbgUOBmA1nbBcp2sYAAAgAElEQVR3rWGdY0H78KToy9rNXMdetSSIoLWCFgDz5FpzGyjQpLGFZQDcAjSzCACaNLawbAP8+ZIYWLG83eMISSR9TCEXQCvtwjpb/ZASAfQ2odUsAOtsa07J0fbKYi4RTXFmRWg56sA6W9aZEg8AKi31WIACSTM9QKVtBoBpZHJ+DoA5QaVt5gYYt858QiolDlaElpFE8gFkqZZmV5rLjwGwRACr6YS9a11W6/zZ/KFmq9Gcevszu7X6cLbBPuf/vr8a68X+7Pv0VbP12od2QZWV5Z7VBm7NxUYI+IHYlrEHFNjn5bTOhQM0yctLIK4OAGql9VCgyVCrFwB7Alx9TUW9vXDo3Y7o1sZn2ycG+RDCncc2Riiw2WpoCFKEmSHcefsFlWLM3OQO4YR1jvTjXMoCisRUtiRitlTJZEo5lCXiF+YfqtzKFx6+O6VyNA9PHd2dx1EK3twAuWPmWdiY6FzCLNw3gLwdkzo08JYIoLcJrWaBclpn1cSbzVNkxqQMTh23ZqMmWzdDWCp61Z49rTMbQ1WxyicSlXquszrNwgA64MuOjTto432P2gM0c4atXgAU4ZkRwkrPyriYMQ6APQFGHdPuqO6HNI4AmANgrOPBGdIAjRtg3DpXpA10NfUtnUxtUxhzz8lWThd87AhwL4BswoZ+4ogxL+dc574BlDZGQTbY5lLgYABW0wl717p81tmKTNP5yfQp5UKbydiTq3J70tbsz+wOMX3O8m520NrOj3llfXMt1sct9YBBUQCT3VwZxvnG/GoPkIyLS67uVg8K5B2MeAjzQRc1diW+BUAejJltIKVz2SDYqwCYH6CQHLlAOXbjBmhb56q0gdRNpfF4Spr2iYtvqVmTSZlWRStnayzqZOkzD8DENuacwBJl4b4BZGaGds57bp7WeUAAvU1oNQuUyzpTsKmxJcP52YHXUV1YHsMyvNUgtB3DIt1S6Mqd70jr3DeAMmIJmvLN8hZkr9vlVUkbyTsbxShQXhelT6tHl2jRxLdmYnhcd4AyhAUZ2RTszN5vn0I4s4WEAtncv0xE5JXJUFI2Ee2DG2AlrXM8uGzLm0isEhrHQtJV3V0ra6TgzQ8wAdlsIctjnfsGMHnjCNZ5G113Ka3z91fthskxJBBr6eJhSZ0zQ1sUxu+KWdReeVc8HF2BCRuy8SocILWYcqaBNUcw0aI5nF/NAeq8K4UKgFwkZtiay9woy4A1Qlh02OTnxixVKJDNN80GSLZGdgVpNf+wPUKYj7ko60xNIh9NcCvQts6VAWh1Ux+r0QSunPgAFn3LBwUSCjTvVeo2kPZPGZk9lZQL4GDmG1D1zOGhoGWKtUCAas7V7M8c9qZEALfRzg7y0KWzznJcMxGiCTNNodhkrX88aKldU/lVbvD9VdV1owFUt+bs2+U8clgfVz4mqKdYxSZvCNe4pf8X8muCD9+d6gtA6klr66wfEAHAngpUWlW3U8w0DIA9AerUZeUhGWgAmAugbAPVRGe/SWs1bwMphJV1piaRd+3cCoxbZ/noatmTiO0dqacq7pgl8jLFo0uB1p3hBEDL/+UFyN2zBJg6hXJL+VecdSFZuD8AuXWW8ksOK5QI4CD96zYeq1zWWWsuEaLK8ko3TC1Xg1tnCmA5lqyThJCa3JiFt9pPD+ucP/zKc6vIrHOhAGM9E5u2O2j1pTRr5Vze+QApbZBZIYBZNysBUPbTlFlh4iGS1odQIGvZSFQpbaCxAXWA5Qh02pgfFGgqkHKKgEY6bIrn53aoAsnd6keDEmmFVNcX61x5BRYJUA8fqBnPxh25EilwG+3sIA9dHevsaPrFGB43xCqnGmMqrOFjKda8MVRj67x1gGbQimXKHAxviYLWo6l1mnjzw0SS6GwdIOHSc53NYQMA7BnCpEB5UdRsK/E5APYGaFocQ8k167xtPYTjT2hR92MHW2cab5bdAx5riVbR1FVshMXu6FIbqDu9O74NLBYgtYEsSZnoStcGDtK/buOxqmSdjRafvU7yZ+L9kdqOUHCyUF8VL+Bk3TJKt6qx0wusLMu7bCaGetmc6Z96LbNbcqy4mgZt6ttvueBbRYk2TthKaul8ADogEGqyzgDI8RKWmAJVv05r1Wz7oED1atg0gDKUSL3CKar4AsCeAAlsunFBCGeGsBCbNkOvfSiX+d3LnadAfabG0Kb9yCDPCzIkecuWZp35HlIVCIDMkPQGqJq7VOtckhDeRjs7yENXzDqbw4oyUHUycGiLhWUP62yW2s7lwVjnrQDsYZ23E5p5OmUGSHd7leczrTMAxn/biF9W05oIRMnsWxZ0QoclVmASHRTIxJM3iSTbQPk4jZr0UgopFqTAFN/smO5oAUz0bK0QjhtrAOSiMhWYDdBIdmUMXtUGDtK/buOxqmOd6ck/2QmmVTFlmTQnGzJaVU7FaNfsgoYcjW2SDWX/Pymo1aOzSI4604n7A6S8S4OmhHdHpo1+ANT9NwEfAFnckSBzh3B5E4ZKG0W2J0WGMFkc+n1WUmBs6guJv//NnRNUidtABVDmlLgR3CZiMYyFAJSnZs7T0GdHuUCMWFEI58kpNIYlswYdxZWj9eEGLchSA9RYytsSXp1f3EY7O8hDV8c6qxECczazHnKWYtKTMeiRrFjjEkvY8W+1OisZtPp0knk3BKBz5F7DHzQrfZrG9Sqk1dN7LhZgD/gAqO9CpoYw5WlhtfWVMjSwvR+WWoFEz8Sb/BVlALT4mEnEAbBcYwedx1EBCnScpnimiE42mQtoSEWP4hs5WrpqFqRku41vyxbL5Qao0gSs8yBNsvtYVbLOscg0YlJIynTPFOfJtEpNww4MWvNkXc4vCCBxE6klAV9F9bYtFNDq9RWg/YgSADYcw1qZIZwi6e11e+bRS69AE694hHrbotXkppbLDtBqA8s1XCoYhgNUtyNiXYgG3a9gBzI5GL5Z1MHcQ7KVo8FmZsfLloIL6XuYp28zNDxJAEAOGdbZbWcH+WlZrbNpYuqxHN7qiZartv8HwMBLD4AAGEggsDgUCICBBAKLQ4HhAAfpX7fxWLDOZRl3QdCGB23gHmpeHAoMFAAAAmAggcDiUCAABhIILI65zt5uHkEbrrnAPdS8OBQYKAAABMBAAoHFoUAADCQQWBwKDAfo7R2rWQCjzhh1LguB8KAN3EPNiyNtBAoAAAEwkEBgcSgQAAMJBBbHqLN3RwBBG665wD3UvDgUGCgAAATAQAKBxaFAAAwkEFgcCgwH6O0dq1kAo85lGXNF0IYHbeAeal4cCgwUAAACYCCBwOJQIAAGEggsjlFn744AgjZcc4F7qHlxKDBQAAAIgIEEAotDgQAYSCCwOBQYDtDbO1azAEadMepcFgLhQRu4h5oXR9oIFAAAAmAggcDiUCAABhIILI5RZ++OAII2XHOBe6h5cSgwUAAACICBBAKLQ4EAGEggsDgUGA7Q2ztWswBGncsy5oqgDQ/awD3UvDgUGCgAAATAQAKBxaFAAAwkEFgco87eHQEEbbjmAvdQ8+JQYKAAABAAAwkEFocCATCQQGBxKDAcoLd3rGYBjDpj1LksBMKDNnAPNS+OtBEoAAAEwEACgcWhQAAMJBBYHKPO3h2Bq/OL+AcCIAACIAACIAACIFBPAt7esZoFihx1riaBstS6Pt21PhEHwECwAAiAgQQCi0OBABhIILA4FAiAOQnAOucE1ffNELSBiAEQAAMJBBaHAgEwkEBgcSgQAAMJBBavjwJhnQOlUljx+miuMGT2jgDQ5uG9BoDeyOwCAGjz8F4DQG9kdgEAtHl4rwGgNzK7QH0AwjrbV3771uqjuT4xBsBAsAAIgIEEAotDgQAYSCCwOBQIgDkJwDrnBNX3zRC0gYgBEAADCQQWhwIBMJBAYHEoEAADCQQWr48CYZ0DpVJY8fporjBk9o4A0ObhvQaA3sjsAgBo8/BeA0BvZHYBALR5eK8BoDcyu0B9AMI621d++9bqo7k+MQbAQLAACICBBAKLQ4EAGEggsDgUCIA5CcA65wTV980QtIGIARAAAwkEFocCATCQQGBxKBAAAwkEFq+PAmGdA6VSWPH6aK4wZPaOANDm4b0GgN7I7AIAaPPwXgNAb2R2AQC0eXivAaA3MrtAfQDCOttXfvvW6qO5PjEGwECwAAiAgQQCi0OBABhIILA4FAiAOQnAOucE1ffNELSBiAEQAAMJBBaHAgEwkEBgcSgQAAMJBBavjwJhnQOlUljx+miuMGT2jgDQ5uG9BoDeyOwCAGjz8F4DQG9kdgEAtHl4rwGgNzK7QH0AwjrbV3771uqjuT4xBsBAsAAIgIEEAotDgQAYSCCwOBQIgDkJwDrnBNX3zRC0gYgBEAADCQQWhwIBMJBAYHEoEAADCQQWr48CB2Gdn3zy7tpfL/zbZs6L0l27PnukvbvRbDX2jB15Y6WTUbCzcvmlA0+NtBrN4acOnp57sCGOce9MixVP/juzGkWduUnXV83W5LWOs4qdlbemJ9Lq0127dnri6eFGs7WrfXTmg3Xag/dRMjTnB/DJ2sKZo+097Bx3tY9euOM+KVnPrQCkU+R/u3dn283Ze9ZnxsrdWcdVYNeFimx2lt+QtR16+sCpaw82jMvd+elUojgVNA4iFksFUFSJKefgvqFmqzGyb+Lk/H0pT/6lPvHhpw4ev7Jqfpc4N/HB5vrc4eG4SvXlZvu5HLvcGw/mTh4SYkjijR2mdABXzzF01r+puS8jvxDuqUBF4dH85IjYv/ooinwuU2UAfjk/aVFVkBOnb5Bgi04F6m02bk4PNybnrRZHtzC720dmF6iJ1oWMpbIBzG5/up8uzhxOiW7jpGKLGzeODzVtztkhXGWAUWb70/10/pRoHpu720cuLrPQ7vVfQoGZuZ7vjeGdSpoE55G2RYFZaYJq6cyzhSkwirLqUJAC6VR2yN9BWOd/W/zOw717f/n3v/i6N7TuvTNjjebu58/M376zsnDpaLvZGpq+5bYVLNW1hsaPX76+svzB/MzB4UZz7MIDdoz1W+fOnrf+nXphX6M5PPnTThRt3HvP+urs+XPT461Gc+zsajdZQS7ZVvvIWwusPsfHR1pDh+fXyd7df1PVdvHy9P4heYjI9yhRFGUErQfAJ6sz7VZjz6GZa0vLdxYvHxlrNIenb7j5RVsEqCFtrF6cYP2WVDsbfXErdiHOnjz0VLM1dHiR51eea+XlXpo7c2hXs9U+ry8DaxZHp05Zl/KW6p3oevClUgFkIrw2NdQcHp9myrl9bZaBal+8L5XDT3xk//SlRSbdF3anyU+f4+b6wstjjVgHr7t6YXyY4kUAHJ68RoQsMSzNvX5gqNlqn9F49c5LCbBzbarRPDBtXf2r95iWfUK4hwKJwReLJ9qtRszTRH6XqWwKTAW4sXrFonru7N8eH2+2Gu1z9xxNICFyKpC+JMG3LOv85eKRPa2G0Pkd0UKOzdxNPUbZAGa1P6LxPDg79wGL7uf3tBrt2XtPDBzORV7Kkll2CFcaYHb78+AiS+4ifV9/a3p8uDEytZDtnl0KzMz1srPXGDnAEiK1tKVSYGaakBpy59miFJidqopToDMgqvvhIKxzFP3p93//7Yd7n15b/C15zhRiX1ydaBq5P4o2rh9tNA9c+SK5fXf5e8NWa7X54MJoq/G9FUfD/GRlZjTdNDyan7QPahyM79MYR+kunR5qDp9d5Zt8tXik2Zp4Z4227y6//kxj5PSyowYR86mpR2E7yEgb+QGuv3egMTI194hqFG0sHGs1Jq6SmVKfR1EUBrC7vvwGc7p8UDDdOpsHZMsckcoxncVJC2B0/41nGs3jN6XVX597vtV4fSW+j5T1cgHsrpwasSX3ycXRZuvUHS4Otjx8aomEsrnO7oS4LxM7241P5k8wi8xom6POPDqemTEkzxviowtfsVJMDE1TDNHaOwdSooltXy6AUbT8eqvx/LxLugkF9Aouo4CtQDaSunH/2ivjrAeYsM6el6m6ANffn7LbDQMYX0xToN6OXYKxdtuyzjycTQXykZFR1YHUpcVSyQBmtD8bN6dbjdFZ3dP47OpEs8WHZuInpdd5mLfbY6Z1zg7hSgPMbn/unR9ujJy+rTobPJmOvsmHvjQyvdRbgWJbO9dv3DjeaD6jvfLm2pWJVkMO3Oidq6VBKzA7TbCEmZZnC1NglFmHQhWoMO+EhcFY5yja/O2j7z79cO+3P//4TxnY7r/5TOO5q8qKZmwZbdyabra0+cjatHv75HBjdHZZRam5sYilST2QbH4ZdW6dGN93why1fcAM0MxdthUPS/vWG/t2WHxr7Sf7KHzTzKDNCZAZ/XFt5a0qxFfCAPLbZMPjr95afn8qa9TZPirveBhWj984Ni8iHycjpJsrM7ZTtHcWXysVQK6N07fJG8fqynQ+MnvP6Ec6tKTKiNvrew5d/mQpBoSPil28r7ZkTe3SKZnCOzdf3TcUs56fvtUm9ZqFxHKpAEYRNy5shlWv/3IEl9pFXIFRxCXX2vXCW/c/mDU9TRRFfpepR99j8CGcG6Cwfe+nd1LSFSjB8vHFyffXl8+Y1plPWovdM/zs6rgaelBXhRbKpcCs9mf18nNj46bP482p2a2lc1J/ebdhcn59xZJZdgizHnVVAfZof9iJW7l+dabZaqTFe08FSszxXH/v0v72uNlCcsdpjIWpyyMWBqzA7DQRRVF6ni1MgZl1KDqEY7irvDoo6xxF0ZNffH5g78PR7zz6bRowfp3OrKoZPFmzM9kUxqm5R53lS8cn2Lze1MlS3buzo+mTFnjilNM80qqlPu9+sXL24LC6rcn6zbG5Cty4PJ9IQnmO0iNo8wDk7cvMXTZZfJJNv7bmf6uzkAthAO+9OSVmUfNTm02d62wetbs6M2pPv9lcu/L8cKN9+ja/T9d9tHSqreZysHH655vDM9dXLvAJhVli4EcpFUDW5E3Or/NZYmxs3pq131k4bDoMXntmKVozzhH2LxdPyXnSLLuY6TmRfqR1TstAYohLTGoyr4xYLhXASBiXd5bmTh5IALTqnie4ZIGkAqOoc/20nGEvIkLfMva8TD2t84BDOC9A3urqqUQWW7mSrkC+ATOFYhqbkD3NdeZ7PqnurfBtuc5NDZvHK5cCc7c/3c6DuZfHsucbsIl/4n6gLbPMEK44QPPS8mWz/eneOb2rOTz5Dn+4ZXPj/jtTQylzJlnRHgqUR8rO9VG3c//aK209qTJRv4GHcGaaYNXLmWdDFZieqljnrdgQdlCv5EcDtM5RtPnHj5h7PvDD3zsHgKPVs2w+6P7xkbEjlxaX7yxdeXU/m51pTH5VjPkDHM+Mj+8e4rPNlq9fZLPNHJOl1tkNmomra8YIn9qJuFUxFFOG/tpYEr3eZqvx56/cpOTKdB8b1YtcXWd+Q6TnUXqnjZ4A+WNV7fH9Q+2jfP73VX6X3z2HuxiActAul3Xm9+8OXPnMoMofPFqY3qceBXvqpUU1j7y7dJp9ruZts6nk9hQIe09lAshd1+j+8T3DE6/zWft8cgvN8OYZMTYRhQsszVLQicatM0c6duET+p4559Ps0Trn4I2Yepg+LaRMAKOIeyyaJivnwZuPGchzzhdcYmO3AhU829PIhxF9LlMVAXbvsBlo5p0fxcO1EFeguPk2NHL8Jp8jZFtnPiVs5PgCWekoElOGrO6feZRSAczX/vAGn031OXDhQco9piiKvro1PULPnNgyywzhagM0ryxbTrQ/G3fPTcgpfxxgnkeleYZNaSezcj1TJj/WxJsZ1yl70po8oR42xiMLZ6cJi1/6EFWgArPr0BcFWidW2ZWBWmfmlH67sDa69+F3nS/cECIwbuhH0f03xpyzM7mS+MCe8sSdxemR1lBsrvMnbAZF2nNyvBOcb8j5i9Wb7GGvc0fazKDzycTd2ycTY4cu65zzKHnSRg+ArFFmM/D01JTNBxfa7km0hQBkLztgz3LlsM58Jnr8ic/N9YVju217NDz++oqY6rz+06NP7TEnSkZrPzrQaD5jOkUz7soEkJvjZmvSuP/QuX6ceRQ215k38TF3uyXrLLORfAyL+8v21ORzLuv8ZO3KYfYgjjEP3oTHlssEMOrePdfeYz1StvEB6xUcuW4985ozuNjpORVoMrA9zRYuUwUB8mchsoecTURJ48KeVdKXybbO/AGPEav3u+vw1KR958TcfakA5mp/NtaWP1hZvn71BH9IXc+pNc+KvxRCP54bk5kwlGkhLB4rNIYPKgTQZBAl2p/u3XPjI61dL7DnLJfFY4J7js59lt79kLtzdN7kN1m5fmPtDntu/sqrW39U2jydLBvjkYWz04R5wPQ8G6rAXnXojwKtc6vmyqCtcxRFX3/8w1+aL9z4fP6Xe5/+nI2cces8as5MEnftHY9fCOcX88TsuaKRc8bkAdFnSnluTziY9EE49wV9snRqpNU4trgh5iH1HnWWXeH0iYTyODnTRhZAHrSxJy3W3z/UaE6ZAz/ieEUAZHvKaZ3l4JZ4SI7ICt9j5pvuCptdcyLllSoR95dpk7nLBFC0R+p5R37C/Ab60Hl6PaLPcCYBc6UN9von/n5G+f67tStJ67yxcpY/wH7l06zMVCaAdMbm383VmZHY3cO8wcUmgYvhVVuB5u6jmKcRb7H0uUzVA8gey25NvNezcVKcbAXyWebaFIomMTaR9MuVC0fG9JSbDT4XP+U1oGUHmNH+cBQN1xOQ7Nlc9WB0FCVkFvE3uKWH8A4AmGx/RD/WeFcVe+/hZKvRfqvXk062ApUwxVPvac/o683EfY/Q8ZeCsnB2mjAqnSfPblGBOerQHwVap1fBlW2wzlEU8betyRdufHVt8uHe7zz6Pbubx7J+vOVlryBN3qARd9NiD+TxmzLGCKi4mRsb3lMXiaeN5J7V92kLzKDzcdZcc51zHyV/2kgF6JpHyK0tPXhnnFIBAPne8lln0YexHoyLIj5sbz0pEkURf6WJumTqloKoOXef7tkIuQdN/z975/tax3Xn/++j/AX5A+69T4SKMMbGNX4gvA9uBEU4Bal+YmNYC0NljCtvYOPkG2MlBMntYius7U2JnULsmI30dRMkL8ZuN7EgqvQgRkrrtXGD0iaV2016WbJRXac3oDJfzu/zOWfmzByduffO1XyCiWbmnjM/XvP+/Dhnzplhe4pXYG4A6aWZnfG0ZUguzXsQrbhvSWFD/C6mCYLWxecz5AVh9RduqfeuaOW1xcIp0Lj7bOKg7h8yGxd/nwycmqldOl20Ume/IenFUiC9ojSAdLRAjHMwyah1qEDWwaaeufNn4uTZlzRhVZcuURNLGh9SdAU6/Q/rpKDvHdevmVp9LCLTP4hadMIMMGHxC/nbXQCjKIr1P3FXQeerpaoRKlCSccd6WSwSnXHBjbc8orA7TOgnnamLalMK9DgHfkJx906eq5cJy1rduNCZ1Fm8be0Hn338+0fHd4rUmd5FI7wl3Se6HSa+tLqeipFRR3Hvu6A3ig72TTPUlcv1HUYLlZ0k6duOMXX2/g1tslemo9Dz8dQce98fBEh9bg8MWqtv7atU4171EAyQyT1b6kxGsRsnlpY609awfjdF2Eh6A1ShAFLsUF1aREx4dcNBx2gKStsMG43bL+zqg33bdyd1zTfvkRdv9+y/eD9+dgG7h/z/hQJIm8FQt0zepNue/5fduCI6j8JSoNgR+2umzklv2Ei8Td0GMK4JB5FYa1CBX60uLizp/y4dq1WenZxdWFr8hIyruf+zfdvgU8Skljw7UJEAOv1P4/bYnl5j7BAzeev53voqRLT4s6OV6r6JG0uLC6vrUeQ24W4GSG5pov+JC+sx8dTSH3s0DeM+LRQf6xu3ntvdQx8Rqz2xwEe+8BDzX5sV6A4T+vmZcTY/BbrPocUK1C+xy5Y7lTpHUfTtl/8y8LB/z8OdOx/ufO1L2kHCHqqqbzqw1wBX+XtqIVr6rFZ/EEZeLFrrP69eDEkbYTCx0HZBOo+hW9d+FIv0lUNghh97DzkbUZ3hvc6ZjkKP5mm0sQBZ5642npW+5JINLxGXJP+GAmQ7Mk1a7l5fIHPVa8boGjLBiLy0GwxtpwM2+HhWNoFGG85B38gbLwZysGIBpB2i+rNs8upcOVCbDstTfW9p73UWLGHiItoSKoTTUZXqqTHTqv5UVOwo9m+hAFquIAIA6QVkNy76tpYYBQIOVuoced6mLgNI+1CN8V0ASMyKpUBYxhjrTB9taV0PbFyvkcpoeygUQKf/oQ/H9Nnn1hw47bLgoiEzmsklmXBXA+Sf3Ir1P+wjDPo7YZkPjBvxAvHFKzAp1pNOiqo+N519cy32SxHkOO1WoDtMaFduxdn8FOg8h9YrULvIrlpsf+r8+z8c2knTZf3/r5HxGvR9C9NH1NfR6Bs2wBdSdLbsO3/ic0T0DRt6Js0+qZCYHNOXnhqvzNT3LpaNj/3Ar0Y1l6fI5/roWxTE1wTlt9zIHrIexcdonQD1Qf3v0zdsJM8MCwPIAVkmLcDpf8mrTPfGvBNtY/XK/l4yTXCKfTwSfqxRTKA5eU19GVFrVukHIMuZvV57ADIfzb8mOEvfsKFl0o1ZonP6JpkM37gSl2qHDf65O4LI3A/7UuPuA6fMb2feivnAUPEAsmZAdfuB8+RlO3GfQvQwrihJgYIs+WvkNGST320qlgJTASY0aHUk1rKtQFDESJ3J1Ez6cdMLN8RUsGR3VDgTdvof5jzBLDfnpSlMpswcJkzntnYrwBT/sz4/Xq/Wth0av8I+Bky/qKp1lChgcClegYmtaHYTtXmW5Iu/IEaD3bfdhN1hQp2bHWfzU6DzHFplwurSunSp/alztPHtX/7y2W++mHv7szP//NvhfyBp9D/O0FcbUYYb9FXN5LXEtW31oxPvu6awkDdAszkofbuHnmMf6ZU3gj5x00dGyl/IArHAxAF5oGTUWLg4Wt9OX5Q2MAYhIdwAACAASURBVHpm7r4+xZ98imx8KPFsPY6S2WjTAMIvzt9JyJPYJQYA5Ixsk4bwyBotA0cvyEIbjcXzR+vkzdy1nj3DY28sNfQBmnIOHHlH9YlLS/FP2djOigeQvGCbKYdc2rWVdf3S1IWTS7uy6Rczkf2M7CIfw4Ov8aYPTNj7mIz/GzME5K0oHECFiLqCG6twkqOHcbkUKK/fzGnoD+oc0m9TlwEk18u/7iQZpC3EJy6ylpk6k0dLZBor/exo4qv3ZfXCAXT6n/UHM6f37ybvgiTR5/KieGmpvJz4BVtmSSbM6ncpwAz+RwEkn2WYnH2gR9Z4eAkDNpyx3riJC0ULIs4wITDExlkFMFCBkfMcWqNAcWXd+rcDqbOJauPbb1xfGDSLb9X17GHDJIAAKREEaArDcx0BegIziyNAk4jnOgL0BGYWR4AmEc91BOgJzCy+eYDmnoq+XoDUueiI2nR+5dFci4AiwECwCBABBhIIrI4KRICBBAKrowIRYEYCmDpnBNXyYmi0gYgRIAIMJBBYHRWIAAMJBFZHBSLAQAKB1cujQEydA6WSW/XyaC43ZHBHCBDy8F5DgN7IYAUECHl4ryFAb2SwAgKEPLzXEKA3MlihPAAxdYZ3vnNr5dFcixgjwECwCBABBhIIrI4KRICBBAKrowIRYEYCmDpnBNXyYmi0gYgRIAIMJBBYHRWIAAMJBFZHBSLAQAKB1cujQEydA6WSW/XyaC43ZHBHCBDy8F5DgN7IYAUECHl4ryFAb2SwAgKEPLzXEKA3MlihPAAxdYZ3vnNr5dFcixgjwECwCBABBhIIrI4KRICBBAKrowIRYEYCmDpnBNXyYmi0gYgRIAIMJBBYHRWIAAMJBFZHBSLAQAKB1cujQEydA6WSW/XyaC43ZHBHCBDy8F5DgN7IYAUECHl4ryFAb2SwAgKEPLzXEKA3MlihPAAxdYZ3vnNr5dFcixgjwECwCBABBhIIrI4KRICBBAKrowIRYEYCmDpnBNXyYmi0gYgRIAIMJBBYHRWIAAMJBFZHBSLAQAKB1cujQEydA6WSW/XyaC43ZHBHCBDy8F5DgN7IYAUECHl4ryFAb2SwAgKEPLzXEKA3MlihPADzTJ2vzszhPySABJAAEkACSAAJIIESEoC59JZdyzN1bjyO8N+mCVydmdt0XazYeBwhwEAZIEAEGEggsDoqEAEGEgisjgoMB7hlk2V4YZg6FyXdR6MNN9rAPZS8OiowUAAIEAEGEgisjgpEgIEEAqvjgA2YYGdYQ6MN11zgHkpeHRUYKAAEiAADCQRWRwUiwEACgdVRgeEAM2SLW6EI9jpjr3NRCIQbbeAeSl4dw0agABAgAgwkEFgdFYgAAwkEVsdeZ+9mARptuOYC91Dy6qjAQAEgQAQYSCCwOioQAQYSCKyOCgwH6J07dmcF7HUuSp8rGm240QbuoeTVUYGBAkCACDCQQGB1VCACDCQQWB17nb0bAl1rtA9PPfPuU8+8+9Sxjx7obwj53Ufff2b+lr7lV/OkGP136lc84b51jm25eel3oSn41gdIkHKA359pMBNFgI3HmRWIAHV7VMsIMND5IMCWAHwwc/Opcw9BLoImrMxWZx6vwBiAGIULD9A7d+zOCtjrTIxWpsLczXEHp6XO1GJFMViFFC576izICG9oA6QJIs+Y6a+qCgLMokAEGB8zItb2UHJixVCBibiEkaoC0KEhQEXGZhW7JQYgSfueeRemzqQY+kDQluCoswHUAweJyFrYxSBiBZEYBbYFYHdmwt5njamzabRMcN8/dvMprdeZdI7q/Qe/mle91Gi00GhjATaIp1NNEVJGdvMjQATonazoGUwmE0YFxqUsDCMC1OW0iWUDYOPSsXefeubm949ZUQN9YLylZwIIosbjCARlDCIgiMQrsD0AvZPQ7qyAqbNhtA9PsbYsSPWIEOUYAxKBiKGKRBCNFhhtLMAIE5fMiQsC9M1dspgwKtBBFQE64GT5CQIUHSsgt3uMCnSQzASwPZlfsqN2nH/HfyoQwO7MhL3PGlNnqDnZJgapM2zgciconhZh6gxSZ+FEIED2VF00PwhzsczaIQKm5O+/0NWDxc3xBlagRYDJIS2TCSNABJhMQHgtf7dD9xmvQDN11sdcgWX0gdkAklArRlfqy7wzC4OIKWNTgTo0fTlXgN5JaHdWKF7q/OFkpVqT/176EKrh05mD8tdDMw+hp3v49oisePBtPhFNuMuVl2TFaq3yyorYHm+0Ri8pXRVG+5g/DeFTA4kEi2S0rQLYePNQ7H3JBpDcKVLSmGdJ7kJZAAolCw0LbSNAQeZx5DJhKGxq6SNvfpow1jmm7YEKjBo6Q18fWGoThuFDCyU00MSbsJm4lBogs3GIMU2BMQBpwkeDCIy5ZQkiehRm3o+BzazA1gPszkzY+6yLlTrrgTMmCdb9PnNeWvb8wSsqsWN1VfYskhW5T7LA68ZrzkydeSQW79P4lZYuF8loWwXwsW6xnLNf5kc6oaWzo22PQo51bhlAmR2q4IEANTMkfFwmDLNqYcg+qXPpFWjj9fOBpQaozFZoj7tBj9S51ACjRmwU5tlzfBQ2UmcyYEOOk2QdMXICUimicIwI3UGkIwC9k9DurFCo1FkoQzRGha+f/IC010X2xn4VdsjzY7HKlCQSIN4sg/tRXS+0cLzRxqTO5BzEP+IECzjWuVUAZWcVJSZuhEfbI3awuMikC+T1WgZQKEdIkcRdt9eDCkSAXHWqPSyQsqcZaSNeSg8Qekhh0dnbHqUHqPSmN/NYbIoPIjBxKTtAIyjD1SwArTIli8KCGEyHnFEYKrBNALszE/Y+6yKlzqJTWaQUMsel/t1w/bKPimbSUFVR4zHPgeiuzHxI/uroMICJS9QdExRaBVB0B4o+fkjbMkgWY3S/Roe4qMHNxiCN4qTOLQPIG11i/6zjSugcAZLRU1BUhgnbq6IRS8SGANMBcrzChFUvAAIU4/fSFKhJThiy24Rh4tIlqbN5aXlFYTOIyE5oyjDehCFAq4weYrZ+EBE9VqJjMUvrtyMAvZPQ7qxQpNQZNuu1aEpTZ27SvCNZ/UqDAe/MU4HB0UelnhxlT53peFwx1plYrOgxNbJA6xJgiNKcr1WyFbPcRDDIF6DRFLE8Grs03a8ZEyvZYPFCDtgw7leuAEVz7m0+Xt8dd43GG12VqiNhuCve7pcbQNFyVo/LZQjJlDqz9xuUFqCKu+q5BwKUDTa/IGI4wMTGG0xcSq5A2TbmEVx4huzd9rQDSz7sLfCAjdYEEWXCfP/CJWZue7QJYHdmwt5nXeTUWXgolhAnpc5VYntJqbM2HVClrSJ4MBvOlvkZY531bwcWp71rpuMtACj6JMQoycSwYWZ+ACB83Wk5AHLVvbICu1sQYK2SxYSl8LQZWkKEmzDhsilQxF2dnuhtzdZtT/0naQ/zmb7gPfflMGGWsoicT3XiJAE0U2f0gdZ8JHf3gQ2QDnc2P0lL7svWV6AwYdniFS7R0QPYEYDeSWh3Vihs6izSPjkkNKfUWeTN8iUbCXHXTENV5m20KYtqtC0BKMJGhqG6CJC9kIR5Oq5e2sUCeguSU2cEqAE02sZSh44eF9NOHTwLGndzNGERd4U7FQCd3QcOYsZPWx+g9P+CpMxgCAoMIpk6sITq+AzLSlU2PxBgOkCRujBoQofVmiN17ogP7M5M2Pusi5k6q5hBZUHdVh6psxCffL3GVvV6rQLITFF4wC0cd/MFyPfGu1hKkTrnC1AmLnJBRA6SwWzJuJsvQIFLDWnj+y9a3PUI9kb6bq7mC1AIT3T1ie5Sth0VmJ75iahBuw/kUBmePSPAdIByjpYatEYfIhXNhL2T0O6sUMDUOc7lPYaTFaiX5KaYeZhaXN7MU2fyFFIOvTVdsHCacdvJAxHyBFOOoXQVdkeF/MY6twqgdv5m3EWARreofCEM8Wsi3Bouj6wS9ZKwgQBdAGNMT+SCInVGgE6AAldy6owAnQC5YzfyP+ES0YTJNxacAIUCVW89BhEiKs80RgX3lz7ky/LJW0FMuDszYe+zLlrqrJSh+ptZ4DT76oShUlO0PJquKiJQbtXqdc6bz3GFu8x5Dzmlzq0A6PZ6OXPYNN7iAkxJnRFg+gsiLFXYmuw8xuIqUDlA3ucne7BMNxvTSmkf2CIDpAosoup00ygwQBsdD1WoQNKHki2N0e+1mDMjB720z07BaUCPcXVmzjsJ7c4KxUqdZYIbZ07Q9kQmzUuKVfYcTWTSQlUyd1GdLoXQmS7BXLxeiwCK3XKeJl5oPPpFtXO5yAABB6hV8FNHSRYYoLB9Yb+oQCIbISQvH8gKI0BvgMQ2i5jt6Q6kwCYse6+MICJfb1+IiNwNAHnrlwdl4RJ1GXRwGVNn74ZADpoTkcB6rm1lwHKeuKYbkd7JKQhs+Lz2LRVZSyzEJegdM+ACA1QxA9wa9eitY9B0H1FsgBoioXM4XFIr0KEEutAAZetXGK/sqtE10NnlQgNUHc/KQ8a+gKiDDAsOULZVima58pYVGqDweyCIaBFcXkUHF7oNoEiNOhQy7DuFqXMHUmfREaJ5dh4mNX3o5mdZnb4HlRbrVfS4y6emdj5lYfoLN1r98oF7UhOZVU8VKZARIDdL0fNHGRYweBQeoFCaEGTRGBYdoODGtK0MvEhhw44lXltabMJiYCU1YQTo7QN5+02LR4XRXpcEETWekMAvWOdL43HUVT5QDr4SkaUAasTUuQOps1eM2XqFw4126zHxuiIE6IXLLowAbSZeWxCgFy67MAK0mXhtQYBeuOzCCNBm4rUFU2dMndvdkkOj9TJRuzACtJl4bUGAXrjswgjQZuK1BQF64bILI0CbidcWBOiFyy6MqTOmzpg6t5uAbYdeW9DreeGyCyNAm4nXFgTohcsujABtJl5bEKAXLrswArSZeG3B1BlT53Ynjmi0XiZqF0aANhOvLQjQC5ddGAHaTLy2IEAvXHZhBGgz8dqCAL1w2YUxdcbUGVPndhOw7dBrC3o9L1x2YQRoM/HaggC9cNmFEaDNxGsLAvTCZRdGgDYTry2YOmPq3O7EEY3Wy0TtwgjQZuK1BQF64bILI0CbidcWBOiFyy6MAG0mXlsQoBcuuzCmzpg6Y+rcbgK2HXptQa/nhcsujABtJl5bEKAXLrswArSZeG1BgF647MII0GbitQVTZ0yd2504otF6mahdGAHaTLy2IEAvXHZhBGgz8dqCAL1w2YURoM3EawsC9MJlF8bUGVNnTJ3bTcC2Q68t6PW8cNmFEaDNxGsLAvTCZRdGgDYTry0I0AuXXRgB2ky8tmDqjKlzuxNHNFovE7ULI0CbidcWBOiFyy6MAG0mXlsQoBcuuzACtJl4bUGAXrjswpg6Y+qMqXO7Cdh26LUFvZ4XLrswArSZeG1BgF647MII0GbitQUBeuGyCyNAm4nXFkydN5M6X52Zw39IAAkgASSABJAAEkACJSTgnTt2Z4X/k9dpl6e1kRcxYz8I0ADiu4oAfYkZ5RGgAcR3FQH6EjPKI0ADiO8qAvQlZpRHgAYQ39XyAMTU2VcbrSpfHs21iCACDASLABFgIIHA6qhABBhIILA6KhABZiSAqXNGUC0vhkYbiBgBIsBAAoHVUYEIMJBAYHVUIAIMJBBYvTwKxNQ5UCq5VS+P5nJDBneEACEP7zUE6I0MVkCAkIf3GgL0RgYrIEDIw3sNAXojgxXKAxBTZ3jnO7dWHs21iDECDASLABFgIIHA6qhABBhIILA6KhABZiSAqXNGUC0vhkYbiBgBIsBAAoHVUYEIMJBAYHVUIAIMJBBYvTwKxNQ5UCq5VS+P5nJDBneEACEP7zUE6I0MVkCAkIf3GgL0RgYrIEDIw3sNAXojgxXKAxBTZ3jnO7dWHs21iDECDASLABFgIIHA6qhABBhIILA6KhABZiSAqXNGUC0vhkYbiBgBIsBAAoHVUYEIMJBAYHVUIAIMJBBYvTwKxNQ5UCq5VS+P5nJDBneEACEP7zUE6I0MVkCAkIf3GgL0RgYrIEDIw3sNAXojgxXKAxBTZ3jnO7dWHs21iDECDASLABFgIIHA6qhABBhIILA6KhABZiSAqXNGUC0vhkYbiBgBIsBAAoHVUYEIMJBAYHVUIAIMJBBYvTwKxNQ5UCq5VS+P5nJDBneEACEP7zUE6I0MVkCAkIf3GgL0RgYrIEDIw3sNAXojgxXKAxBTZ3jnO7dWHs21iDECDASLABFgIIHA6qhABBhIILA6KhABZiTQudT5b998/fU6//e3jGe7lYuh0QbeXW+AqEBIHAFCHt5r3gC9j7DFK3gDRBOGikCAkIf3GgL0RgYreAOE1btorf2p8++vvXb86Un47+y/31PMmqs3Jkfr2yvVWmXHwOj5pcaG+s1caixdem54V1+tUu3dtX98+sG6WSCKokczh/tGpr+AvzxZnT7FKta21Y9eWGjAn/W1lbNk/+Df4eui/EZj8Y0TQzvIrzH78ThK5NDck3tvr/7f2f91cNDP98nq7Jmj9aRT0ktGUbRpgJHHbWosXeQ3tG/30KmZ++IuLZ8BVBXkMyv8NNXpba+PTs7G3l9xRQ6Aogj7m6bAvABuNBbPHx3c0xuv5PUH06cOstvUs2f49PUH68n3t/nJzOn9u3uYRZyZX4staeq8MX04Hq9SL+TSZQAzauPupNIVsOLJZX75zdXr40P0Nm2rH514fw1QIWIYSfEwooIDYGdM2KlAJarq9vroxUXDQ4qLAn831qaP9Fr6SQLY/QqUF7/x4EK9VpF+iWxvzB6x7AsUkJXpgpIrCFXpPtDHUTgUCM+mDT4w/e6vP5g5fWhgG7FKwASeahQ5TTgdYE4mDM8qH4DpJy+O2rw7Wa9Kl8W3ZgVIiqelMed5zhATjFqiQHFhXfu3/amzRPXNh1efe/rHx79D0ug3P+Kbm8tnBirV7QfOzNxZWJp942i9WusZuy1yLVmXLpBcodYzeOLSjaXF92cm9vdWqgMXHsAyn8+drNcqVZg6Mz/Yt2/sjbnFhblLY/t6qr2H3xPZMNxB9MXM4Wpt6LlzZ6fUvyt32Rmxsx0Y1fdzXYRer6NErtT5f+d+9HDnzt/+62++Mc7NXn2yMlGvVXYcnLg+Ty5tdKBS7R27Gc+PNio2BTDyuE3rN0/0VGvbDk1Ov7905/rkgR21Sv3ccpOc+tpthZThPX1od0Xeiy/mRnfUKuA2DUzcpTXtC3cCjCseRVGcAvMCSJMMcfJCyUdmeNYLjjI//epwT7VWP7MSf20PLtYFwNk3Tgz21XqOzJlijdH5+vI1E+/YYK1SHTibcJzMcVfi7BzA7Nr4/LZuuWT51MFdVcXw/uvS4ViugN/EYWJN789MHNpeqW5SgR0wYbcCqai487xxeWywt9I3MuvOnjfWZp8fqFRrRuqcDLDLFShlzt2dkTqvTFRr/UfGgbpuC+ev6tKl5FCV4gO9HEWxfGDK3ae5II8LMnzHu3enCacAzM+EjVsqVoN8YMrJi2Osr1wcIv13IHX2ABhFzjRm/dZYr0i65qfPHNxWrdWnRJBouQLFRXbb306lzt989M7zT08+P/Xx3X87e/zpyan//JqS+/zqULX3sMw+o2j9xtFKdfjK5zbX5uLLvZX65PIT8dPGgwv9tcrLSzz/2Fi/f/2FQd5hDFPnlXM91d7T8zJRWZ89Vqv0X7wv9gT+Lk1WqgenH4FtfOXBxX4QSJp3TvVW+s7x3iyvo6R4vW///K8/eLhzz+rcn2I7HOXJrV0brvSNaGdLL23oapxHDwDocZto38zQ1VV53vcItPhs/snSRL/KIO+f30vaPIo8zdf7L96Xu5KXTRc8M794BeYFsLkw3lPdOyHEGEVRc36cqG6BqI4cBVxatPrWcILO+R2UAJtLk/1iP+S6HTqHfEhLCRqX8XsXAfTVhnalzcVX9yq/8dXcaLU29NaqKEB/7RtfpL5h/eaJSnWvCucbq1eGahW73SIqOwG224TdClye6q30jd+RzpNy6H/d6HgQFxZF6/dmTg7S5yfA40WRE6Cqz5a6SoHy5InF9Q3U+2Hq/GjmQLU2sSRLORbSPK1eFfpAH0dB9uJUoH4YttxaH2geD9z9NWJKh0VXAvFj1LjiQ5WxJ2jCxo8QYK4mbByJdL7EpjE+QQTuE548+a25tnie5LL00ZmeOnsCdKQxjTnSOah8YES964lbtMOtxQqEl99Va51Jnf/wy598Z/L4D3/5ZRT9z3/89PjTkxM//2+C7f7reyvPXpVxzEVy/fZYtaalv2bZxvURMoji0OX770+avc7kAdC+K5+qKvS5ia5L9dPaOweN1p78rXHzhcE9LzCFsY3k/GXT0Oco6V5v40+P/mnPw50/+Ozjb+UJWAuk8TCo2YBVQNsQANDjNkX0sd0p1UxhzV+j44qeFm149E8u8nBOKxoPHD69OljtPStGc2gXQxa9wkaCAnMDeP9n+7ZVJxf1LP/J/EmedjRuvbi758AMaM98crlerU3cNa4piuhtgrjISfaIR8Munes7Y5FJj1X6r3S5iwCSsSg+2pDXShswqklDIytsV5P2cC+7Ectv7KsP6i3q9VtjJN6bXf5i7ykA22vCTgVGxOMBT0v6UOGABHFVosuqsuPgpXvzEzB1dgPUdiFyo+5RID950mG8d2JplUhOGB35ieQiUDngarWVNE+rFTV9oIejoHtJUaB2pCiKWu0DwdEM/9O4fXJP74F3gAtc/dmAip6gMlgxTBj8FhkAo5xNGB4sB4Bgh+bJRxG102rv4Iu3F98ZAXA8ATrSGBaR9VSKxhSmbZ9QRa/FS4Hg6rttpQOpc/PjN783efx77/ya9freu07GPU/9Fxk9xtxT85O5iSNkZGfMsBvJlySmI9OP5FBjc7he48Y4Hz/KSurPIp8snd5R6zlylQ26Xb939XCf9oRCHoIuLL5aqxy5euf6OB3QbB5Fld1ori2cG9L343OUTJnfk998NrzzYf+PHv1JHRYs0bElE3fJKOTDZOxm6gCyzQH0uU1RtHrtYE914PT7NN9ort15eSD20XDzLulM1XqjrZw7iiKSOpvPiyWB7EabqMBcAcoT4wuO7nb+dGWvOdyIDFE712Om1M07p2oVkXm7dK6dAfWG1nAmrUAmBYrynQborQ1+4s2ViX4wAIx0vsq2LivUnD9drRlBnfzSbNy//kJdjiYSKPS/6Qpsrwnr50aWNQU2F8a3VXsPv0VH2G+s339rpCd5JE/0xdxpPkWBZNh6Qy47wK5UIH3cT0dScacnkZJcpG9yduliuKeV+7R8oPxFLdDHsHGOghZJV6DYU5tNOMPddz77FacdWSYsfyE2agYR/cecTFjsMh+AYm9JJ7/8+gibiEUBxvfuiX24ALrSmI3VKwd6K/XxOzRHaj6aP11X49nEztXfvBSo9tidS21Pnf/4ix/++Ph3fvqLP/zdBkZHstf3Dfax0cPzV17cR8aAymE3Wo3GeyOV6t7Bwe09+8kg2sUbF8kg2tjhenbqHEXRVytn96tJHkOvryRM0lq98iyZxDA4dnl2QQzVBSMiyDlRWZO97XrxNpjUmPUoZCdZvN7GXz4i2fPwa3+WT1o1JizNqg/u66kfpeO/r9JnrPFjWwMAetwmdnZr753YJWdofffErBqDIc+ePn7Sx3VE9Cln34lZrYuPjmoAkVvWzwiQlHcokOap+QMkjyPJ/KqKGAmgnzZZZuPJYh9WEvWa44XiH5LE6pwdqbl0uq/Wo/f9m2dA1rMokJTrPEBvbbDLpQ8fh83HTaIRIpDE9L/K2TxDrz+Qw7xEefU3C8DOmHCcAtfvnhuSVlkdvrCSMCNCXR9pyZmp8xnVihMFYwBG3alAMoy7zkaIGakzbb6KGQiLbLB4wjj4zJ7W9oGCqPzrcBS0TBYFkoJtNuEMd5+N3B26Bvqh5XXLBduE5U9R5AKYownnCDDjyYscw5U6OwGmpTEba7Nju+V06l3PzcXPRHeHKnoxWRWoXXmXLrY3df767tTU8aen3vzor7G4qM+FI0Tvnx+IHQPKs1X98V9jbqyv1iPHOssj2CnFk5Wzg71qLh2ZJrh99J3VmKDYXDlb3w7mb63Pn+6rVY7N6XFmbeX24sL89BSd1KhNBct6FHqqGTW38afZ1f6dD/8p7oUb5EprFTXmIYrYVMW4nCwAoMdtIuN63zu6DbY9egYnF7+St4cukP4wvcuZbqRza/TbtO3IyGHY6aXvJRNAtwJbBHCjQfraEyJr9GT1Csmq9VHd6rKa8+P2c2Hf1Jn2E6R0OWdNnQsC0FMbBCidCwHnHNMEyByAYWd+66sLZNLtlRedszkztz06YMKWApt3zw32iUlaLPPbcXT60xgXqLRIlggcrdc5I0A2ZaXLFEhyEWWVRuq8Nju6e5t09XSo7qUhOmFGH6NF2WX1tLE+UKfvdBSsYDF9YKr/aX5CHvz26Dz1C5fLMSYsf2MPVawgwn/P1YTz84Hq7NPuPlVRYuqcAtCdxmyszR7bLma0s2mCvYOvLukZDj/PvBSoLruLl9qYOv/11yRv/vFPfv7HJF40aBnT9ehsDPv1F8wfac/3yT7JUwk5S08exEqdySh45RNJuTUykGjg0ieyjmth+UxvpTp+Jy7K0GFYtdEbRHW+R8nk9eh5ffPxa7/VX7jx2cxvd+757B5/iY8x14cOchrR+27ZtQUA9LhNbBYRaHvQmRA9z+tvTWGdiHxuFkD/xdKFUfr2IvaawnXyMF2L3KBsOsBUBdLUOWeAG2vTx8ibGU7Pa/3n8sTXl0j7qm/kyidxeorYPQ3sdeadMSn9OVkyv0IB9NEGeR5KJm7yaZoSP2mEZOh1luXpc4+9F7RXacqfsrY9aIW2mrCtQJaC6JnKxhoZLFe/nDbPxEid6VjMdIBdqMAn86f79AnrRuqs33a+TD0qmELDBTrb0QAAIABJREFUfsjmaZN9INtLqqOgxQrpA1Pu/voSacX1HLm6GvsoldMlf2JNWPyeBlCUCzXhXH2gOKn0k6cqik+dswMUhyN/ZRrDGjZqMnQUsZnoJ/UQHUVRXgrUT6Kbl9uVOv/9y5+T6YDPT33seMEafaxgdALR4ad2tkR748xpVdl64+hRjIfXMZOxxF3diCLYkcCSUfNF0az4xpKYbeN5lCyJizijKIrou674Cze+un744c4fPfpz/FBganIx01lCAXrcJjOcgMmUxCPS4QT6FBztSsEiHeusT2jQf00JG1kUGDeWOgggdzfDF+7FZcafz5C379VfuBUzgkVcWdpYZ1GOJdkxNzoir0NJbG+o6qkKLCBA/eyd2oj4+J/JZWjL2Yfq8kOxlrx8rbt+AqkAYeE2mXCsAuNYxUz4gydM16zUOctg8S5U4Ad0lrl8hK0vqGAEtUQnDpohibg38uDI3G6GKrcPzOIo6O0pog903v2160fJq9Cev504QkCJkOWXpgnz390A1U7Idx4OJPvDNgPMfvJJqXNWgIlpDH1wBGYMR1FEX1amR+S8FKjfiC5fbk/qzN7hwl6p4QBG72IftI04L092EZPlxIrATil8klraDQlzNXaS5A10y28MbDPelUbnGPVMrUSRz1EokhSjNbGxd1394LOPf//o+E6eOrOj64qPotW39sX3kW8eoMdtomEjLXWmb/GzXy5BXhEAH0EkZbGMjRNgNgXmC/DRbfJO8YTMuHmPvKqzZ//F++6+lphGHfVrr1qvxbKerjAsdKhlXEptKso91rlYAH21wb4IIF9LIi89Jl+kb5ykLx1r3Hpudw8cmsXdTsI74J0KlMeUC6034SQFxjnVGBTyTNWCmTrH1FIAebVuVOCDRyuLC0vav7mJZ2uVY5cXF5aWHzXZSwmMdxlRTxvzfC9TqErwgSTzzugoKGynAjthwlGUfPeb918f7qn2uucPKOnRj3rYJswLxAPM14RbAJCdffzJa5fO51MZvc6ZAbrSmNisCaTO+SkQXFG3r7QjdWbvcJGv1HAgY09ktPc60zc4Vo/OGkNjyS7oYyD9vc7ktZG1/vPWq0mtlMJ6KSwbsBH3HJa1ZfUnm9pRaNjQ3w8drV0fkQ+FPY5CiTi9Xiyzb7/8l4GH/Xse7tz5cOdrX5IuENYu10bN0tERxshssa/NA/S4Tex9sa9q7ze2Ton24vO3SIpzI39p2q3dFDZFxkhltAoOgJkVmB9Adra6PrVT5R+j0XWl/wqW097rLAtbOme/kFFMsAUiaxgLXQTQVxusq8kY30Uu3/laYvp4RJ9WyL4EFPuaebIzB0ADtVhtpQk7FMhega9PFGEDNoyOAHGW2l8zdXYDZBW7VYHaZcu3P4ltlvO03JoomSlUJflAH0dBDuhQYAd8IEWQdPdZrNRivQYsdpH2FseYMC2cBDBHE24NQHL2SSevY7B7nT0AutMY8ukM9b5OEnnJpwP4uNMcFahfzhZYbkfq/PV//b8fXo59pYYFkL2IgH9NkL1hQx9wBsqzKaXig1j0DRuxmYqdUnxFXr9S2XHw9LU5Mr2PfT4n4VtuVKC1bYcusjdskI/6yKPw1yawrxJa+/E5itvrgcuOfv+HQztpuqz//7U/s0L69Kn36Rs24KhufVebB+hzm1avka6FwbFz9EUo/Ltl2odO6Aj12NyOzXHccfDCjSU+hz35WtwAPRSYE0D6ibXa4Jj5PT/6HUr29abdB06Zv96K+fRP1Fw5R76pSd8kI74mqH1KQN5RW+fkp7XpA9YrkGUVuOCIuwUDKOa/ZtYGfZge+0qv5vIU+eLm0Kszd+SHReUnmVj2Kb/NyT47Kn+F9NwKhGXbYcJOBUbr8+P0E5XjV9inWNM+lCjO30qdIydAUq1bFSgumf01xzoL5/nCFfJ+p8ujdfJ+J92t6dVFYfrhW/YyKBlEaLmE/NLPUbgV2H4TpleWcPe/uj3WV6t89+Bp7Ru99LuMSd9jZC/SjjVhcpwEgOLlRXmYcIsAuk5e05CZOnsCdKYxq1f295JpglPsE87sg7UsxOSpQO1qtsJiO1JnP04b9FXN5LXEtW31oxPvu2Y3kTdAs2lkfbuHnru6HDMp1B6wQU+HfJZ9eBf91iA5yg36ftOEE20sXBytbyfD3XYMjJ6ZA7MZNhqL4uPvMfvxOYojcTHOa+Pbv/zls998Mff2Z2f++bfD/0DS6H+cUf3yjaVLz7FL214fnbwTl43JHW4eoM9tUgDJbbq8qL9jm73M2xg5Lc+PAqTfUkp+o7YonB2gqJHwNweA9IGXevOXeg0iGShJx2Dooyflsj1qhZ3i+oOZ0/vJm86pAufjxwXGp84k1wGfcki4aHfcTa4U90urAQoo06eGM2rDNdSHfI5xfCjJ4SgT7t21/8Slhbi5noJBdgW23oSdCqQnrERVJY5i9kGs9xTXxv/aqTP7nmUyQPpSji5UoHHhZupM5k1Jq2RuzSWNyOlp6c5tH+jvKLIr0Lg8czUHE2a7jPc/9IGt8orSAZovWddOy2XCGYIIjfV5mrB2anGLHgAT7j7cq5E6bwZgtjSmZ8/w2BtL/B27HVQgvPwCrhUvdS4gpLac0ua93sa33zi+MNiWky/CQTYPsAhnX4BzQICBN2HzANGEKfrNAwy8c1ulOgIMvJMIEAFmJICpc0ZQLS+GRhuIGAEiwEACgdVRgQgwkEBgdVQgAgwkEFi9PArE1DlQKrlVL4/mckMGd4QAIQ/vNQTojQxWQICQh/caAvRGBisgQMjDew0BeiODFcoDEFNneOc7t1YezbWIMQIMBIsAEWAggcDqqEAEGEggsDoqEAFmJICpc0ZQLS+GRhuIGAEiwEACgdVRgQgwkEBgdVQgAgwkEFi9PArE1DlQKrlVL4/mckMGd4QAIQ/vNQTojQxWQICQh/caAvRGBisgQMjDew0BeiODFcoDEFNneOc7t1YezbWIMQIMBIsAEWAggcDqqEAEGEggsDoqEAFmJICpc0ZQLS+GRhuIGAEiwEACgdVRgQgwkEBgdVQgAgwkEFi9PArE1DlQKrlVL4/mckMGd4QAIQ/vNQTojQxWQICQh/caAvRGBisgQMjDew0BeiODFcoDEFNneOc7t1YezbWIMQIMBIsAEWAggcDqqEAEGEggsDoqEAFmJICpc0ZQLS+GRhuIGAEiwEACgdVRgQgwkEBgdVQgAgwkEFi9PArE1DlQKrlVL4/mckMGd4QAIQ/vNQTojQxWQICQh/caAvRGBisgQMjDew0BeiODFcoDEFNneOc7t1YezbWIMQIMBIsAEWAggcDqqEAEGEggsDoqEAFmJJBn6nx1Zg7/IQEkgASQABJAAkgACZSQQMbUs9uL5Zk6Nx5H+G/TBK7OzG26LlZsPI4QYKAMECACDCQQWB0ViAADCQRWRwWGA+z2nDjj+WPqXJR0H4023GgD91Dy6qjAQAEgQAQYSCCwOioQAQYSCKxenhEvmDpj6lwUAuFGG7iHklfHuBsoAASIAAMJBFZHBSLAQAKB1TF1zthprYqh0YZrLnAPJa+OCgwUAAJEgIEEAqujAhFgIIHA6qjAcIAqKdzSS9jrXJQ+VzTacKMN3EPJq6MCAwWAABFgIIHA6qhABBhIILA69jp7txfQaMM1F7iHkldHBQYKAAEiwEACgdVRgQgwkEBgdVRgOEDv3LE7K2Cv88NTz7z71DPvPnXsowf0DSG3ztFVuvHUr7Q+6d999H1W8pl3vz/TYAoThW9e+p1WclNvGulSo30wc5PQe+ZdwOpxdOucogRZvfvUM/O3GCKJ9NzDQIvt5jdsZFYg19XDU88ovaECG4+zApRafQpNGPiorAAb0mA1e0cFWgoUPIljFL4OAI+IFM2Io4x6086wS4NIZoCNS8dUdJZWjArMDDDSTbhFaUx3ZsLeZ42pM3FzMu0jRig8GhOZ+IkU41Kj8UNsZ1osr9fTY4D0+MyXSctsPKahQkQRAJkm2U+VPnWWcgJwDKWR6MuiMtQbKQa3wDgt74t7oavjbipAmjfLPEYz58dlN2EmqlSAwB8akjNWNyW/bm/9CoBAWlB1onuF2rUKNKhA6tYyACRsRTEBk4kNFajIJCvwV/Oqk4uKUMHMD6B3EtqdFTB11q1RXyaWSfIYmtUZCSJYzU9z7symmL8CFFpu9/1joqVBNpLeAi2TBpwl5MAL3BKZHyCjK5DAoY7vqWM3zUS53AqEmV8SQEOBoNuPJoXY9mC5SBJASkxr4oLHSqhAmbgQI5UtNN7WVQmKdIbHVK8zMW0EmAWgg5LjJ5ZbZ/v/VggiiQqkffbQhFWnVX4AuzMT9j5rTJ3NUKEncDKrkwv8V6Iz4R/z05x+6G5ZNlJnskqM08hUjFXA3GSbzcfZfLaC17OuXYNDGJIYbOvN3mLtx8Zlb9nqAEE3FdAtApSJi6UcTYEAINiOABMBAl8nG8NAfpg6g15nIDPQMDaTQq0kKjBdgaYUQQjID6B3EtqdFTB1duiJ/ET7So3MD6Yv+WkOSNmKYcX81YwB/LRNYqSYaGzoyzKWhF/dVsz8pAKdQaLcCgTB1bSaOICkDNFnK3pcwmXciT1k8YGaAvkDEK2fHhWYlLiQbE8DJZI/020iwAwAaeBQY521x5gwIptOAErX+esWDCJSgVxjxNjZ9KQWAezOTNj7rIuXOn84WanW5L+XPoS6/3TmoPz10MzDODP44BVa/ZUVIwjx7bS6ttuksEGDKx/3bCaCoOevcF6v8eYhBbBiUUrgoHHmkEfe/FTbyFDzuzP5gSBvxgC+3SLGhztTo5WjyWlh0H0ldmvcuyyruXm9Vilw5SUp3WqtovSZRYHajbD1Zm/ZFMbCAwTC9jRhDSAbiCUackRaZQEoIAgvKhj6KJCwolasPfktC0DoGWiQYk4yASBlpSUoqpjpNsujQJ1hqg+EAEmkUGZLYCq2Wx8gDB9aKDn4diOx+0AHSJcVQP2nXH2gdxLanRWKlTo/fHtEJs1ygSqDOn3d6ph0rLxQ7UGZJelkAtkkyJ6VO9PyM5o3Kyu1EkHdUPXlTaUs7Lg5JS6xBiYzXQcHEVYfyz1YqbOIuJWq3CEcM6ou3yBGecpYS9rBarZHoVJnpR/TN4UpUKGzWzVZFCjvTlyeVyQFtgpgqAkrgDQAax2BuYYNzYeoI3ptbBlAeT7SwGvO1NnwgbI6XyAYZRu4FAqM4m5NcupMmGhPNrSZM3zatKRXGgXqvTY8vvMIHucDLYCGHdFO6CIOm4zTSS04jVFmK1MjtpCYOhsALSNtEcDuzIS9z7pQqbMQh8h6haWxRE2kfexXkYsoRRrBVeyE2BvPuXkuCHdrG21MzDDTO6LCIhutyHoNSi4ONCKCxonYCU2IoTvwTJ3FY0rp+3Se+rIssImFPNoerVIglJwUJMtdMilQAbE8YJH6/FoFUJgwIyZcQWLcjTFhBpCITX+Azhp7NlLVCDRTRnUjrDJFVqA8bSFF0oRLTp0TAcr9ANWVAiBXnRZxpDYsEyZAQN7M+gXZg3Lt/6IJVwaAIhhx1YFglAWgpC0W9LBSBoDQ4QhDZrE4A0AbUWsAeieh3VmhSKmzyNuEQ5cZBs3hDMN7HHHp8BRZxGzZWailzryk7KLmu2KpoaE5GjP0/gCqV+P5Gli1FQklroKNc3secddIKbTudkrDycHuU1Gps7BS2WO6RVPnVilQiFNpkm+J6zCIV6BSka03e4tTaWpXsFgOCmwVQGHswoRFQy42bCQCpHmzaPHq114CgPymixvE+quEp83kA80mrg5NX9bBei4XWYEN8ThOQBMJHLlGCJDQ0MYSxEEAEaRQvc5CIeoy+ZbQKMxtVpgw9EJZABK7ViM02AhAGalLoUBNcuZtygpQf9kLEGF+ALszE/Y+6yKlzpaLEQGSGq1uwLQkNEWWi4y8+alIH1WaYm/hiQv1DkBzJDxIawTnQ4pxu6WeUUkwP81Bb6LZCTgTr+160ubmIFLnV1ZED5+ZOh98uyHuiGfqbMzKKvCADeMWiOsNVKB1y0Q70E6dkxUodmLrzd6yKcHkkLhYx20NQF3VZuKSBJDECfmkyDjPsgAUfu9tPmNEpEfZfCAwW9o+kUOwygBQ2Kx6XK5CjA5QixSGzLRVkLUUKnXWTpI5w5xMWEUf1RHjCRCYMJGcGvUHnoFYl2B4dcdql/hAwwEaPjBZgWY3s0hpclWgdxLanRWKnDoLfbB2alLqzMfdrrzEm7PKRIWF2Fv4ns3EhVqj9jQNzmnTftXbvt1gtPAxt3JYOgeSOvNQaqH+4BWeRgs36ps6i3ca8Lm94jEl9XFmb9ZmHV8LvF5eChRZr7g0ETwYVS3uahpTOjTacqQMAFhgBbYAoOhu0ea/ZgFIyiikfFn0QNtIxZ0SPsS8g7HbC65ArrpXVhoiC4xJnd0KpNkzxyjz5lzjbizYgI35KVAKTz7YrNaECJUCaXpnKg3ECyqt7kmd8wIoorBOT82WzgpQx6t6r0qiQOGURBRWfVv6cw8dkfR4SoGaCauNuQLszkzY+6wLmzoLi5UD8qx8TghIpXHUwwoTVQmivYXv3EydhTT9PHVR467gI/27m4OWHFioJRCxT8XcjAH+DIuaOueoQI2tHGgUFzYkZ7+FgiqwJQCFAt1DdQHwdJhlAMiNmlquI3X2t1+CtwQAecNDjDeQOrQfXabrzYa89QGK6CMCugBodR/YcLJs2foApU8TJFWGY/Q6y5I+C/kB9E5Cu7NCMVNnFXRpdksVYOVzwvZUGkd9li0se8vWT50FnJr2Ngw3B83MLNQyGIjdKuZbNHXOV4GKrehvlu2ZYnk9eaODF1oFkJ2Y0OEWjrv5AuR7493MpUid8wWoTFiYhu5OVaep+NUu79ySX+KyyROISU/zBShwibaHHDu+dTuw8gUo9MOjs5zjy7YXSIHdmQl7n3UBU+c4wVlvyWg8FmNzlSkyDQkTVW0yews/hOwwIM81jMfiMa5EaFf7ifSYkoe/8AG6ViC7I8vxaa9ILPS82ZwySE9M56BdnW/qTB9/g8dnGQmQgEEB6g9/M9a1iuUHMHcFcrZxeTNPnbeWAlsFULMmfggZdxGgBsfyeCLcqnG68rk58Z8k7iJAF0DL26gXnpJAgwCNbyxYCpTvv1LxGk2YxAUerBUWFixsgDyIiOCueq+obgukQO8ktDsrFC11Tgi6jyNrfJ6YdK9S5ETNGc/axK70oUJcl5r3bPeWvDI/YVpG3kwuJysHn9S5g8SMQ+cEsCUKVPDV+Mh2C8zAZa8WGKAdSPS4WxSSxQWYkjojQOP7WbbebERZyti1WruluAqU0Ud9EwBNmIiBB+UMaQz12EVUnR5Krs7MdWcm7H3WxUqdZbecGqehmvtQNOKZo1USFmPVYS4ojmK021rr1HR5xS7n4/UEFm2chnZdGTnAYvrZiry8WOjYGeYCUGhDe4N9ngrUx2lo90UdopMbiwxQ3Bfe3BU63IKtX3GleStQ15jwEmKaYCdVp7uXAitQhBXRO4gKJDdOCMknCnNhI0BvgMSEi9jeMEzYOwntzgpFSp2FHVpPFUWAtPtOhCPTbp7wcaAZJzbKx5RisoJWscPxI9+wYTLkNLJxKG3q3CoFxmBnN8gKOZ0UYQ4KbBVAFTOAsIGNdxIdcyPFBqjxEbdpC6bO4tKATojbDw4idvRRM301tnoTpe3LBVegbBaqu4MmHP8cUoQMg4+Qd9EsV+ZR2Ovs3RAIN1rRDJXf3ZALwutpzVxiezF5c+yIXu7XdLstoPLCAcomqXJMsqmgWWA6h7Kmzq1SoPB39n3ZYqlzqwDyFESEE6rqLWnCLQYoMjwhyKIxDPeBrQUouDFDLpTx5tV4ay1AObSXmjAC9E5jkkOzTF47u4CpcwdS587e8o4fPTxsdPwSOnsCCDCQPwJEgIEEAqujAhFgIIHA6qjAcIDeuWN3VijSgI22P94KVEm+1dFoA3kiQAQYSCCwOioQAQYSCKyOCkSAgQQCq2Ovs3dDAI02XHOBeyh5dVRgoAAQIAIMJBBYHRWIAAMJBFZHBYYD9M4du7MC9jqL8X+d7vNGow032sA9lLw6KjBQAAgQAQYSCKyOCkSAgQQCq2Ovs3dDAI02XHOBeyh5dVRgoAAQIAIMJBBYHRWIAAMJBFZHBYYD9M4du7MC9jpjr3NRCIQbbeAeSl4dw0agABAgAgwkEFgdFYgAAwkEVsdeZ++GABptuOYC91Dy6qjAQAEgQAQYSCCwOioQAQYSCKyOCgwH6J07dmcF7HUuSp8rGm240QbuoeTVUYGBAkCACDCQQGB1VCACDCQQWB17nb0bAmi04ZoL3EPJq6MCAwWAABFgIIHA6qhABBhIILA6KjAcoHfu2J0VsNcZe52LQiDcaAP3UPLqGDYCBYAAEWAggcDqqEAEGEggsDr2Ons3BNBowzUXuIeSV0cFBgoAASLAQAKB1VGBCDCQQGB1VGA4QO/csTsr5NnrfHVmDv8hASSABJAAEkACSAAJlJBAd2bC3medZ+rsfXCsoBEoz5MO7aLzXESAgTQRIAIMJBBYHRWIAAMJBFZHBSLAjAQwdc4IquXF0GgDESNABBhIILA6KhABBhIIrI4KRICBBAKrl0eBmDoHSiW36uXRXG7I4I4QIOThvYYAvZHBCggQ8vBeQ4DeyGAFBAh5eK8hQG9ksEJ5AGLqDO9859bKo7kWMUaAgWARIAIMJBBYHRWIAAMJBFZHBSLAjAQwdc4IquXF0GgDESNABBhIILA6KhABBhIIrI4KRICBBAKrl0eBmDoHSiW36uXRXG7I4I4QIOThvYYAvZHBCggQ8vBeQ4DeyGAFBAh5eK8hQG9ksEJ5AGLqDO9859bKo7kWMUaAgWARIAIMJBBYHRWIAAMJBFZHBSLAjAQwdc4IquXF0GgDESNABBhIILA6KhABBhIIrI4KRICBBAKrl0eBmDoHSiW36uXRXG7I4I4QIOThvYYAvZHBCggQ8vBeQ4DeyGAFBAh5eK8hQG9ksEJ5AGLqDO9859bKo7kWMUaAgWARIAIMJBBYHRWIAAMJBFZHBSLAjAQwdc4IquXF0GgDESNABBhIILA6KhABBhIIrI4KRICBBAKrl0eBmDoHSiW36uXRXG7I4I4QIOThvYYAvZHBCggQ8vBeQ4DeyGAFBAh5eK8hQG9ksEJ5AGLqDO9859bKo7kWMUaAgWARIAIMJBBYHRWIAAMJBFZHBSLAjAQwdc4IquXF0GgDESNABBhIILA6KhABBhIIrI4KRICBBAKrl0eBnUud//bN11+v839/C7xfW6G6t+YQILztCBDy8F7zBuh9hC1ewRsgmjBUBAKEPLzXEKA3MlgBAUIe3mveAL2PUJQK7U+df3/tteNPT8J/Z//9HgHSmD5cq1Rj/h2+3ogF1vxk5vT+3T3VWmXHwOiZ+bUNrdST1dkzR+s7apVq7679Jy4tgD003huxDjS5rNWOWdxYmz7Sa57JRmPx/NHBPb1kbzsGRs8vNfRzoL/Kc7iysh6zW7Eps+aSAX4xcziOXqU6Mv2FOEzs39hLi5qr18eH6KVtqx+deH8NVm2u3pgcrW+Pv3BYtLFwcXSQ3qbq9vroxcXYk3k0c7jPPE+v21Q4gE4FRk9Wp08N7+ojat9WP3oB6hPyi6LG0qXnWOHeXfvHpx9oQlIaq/XsGT59/cG6rsDI4zY5AD659/bq/539X7Bn8xzJur8CXSasjrB+a6y3cngG2LAPQNdRUgCKk9h4cKFeq5xZEesxfx0AYel2mfBGY/GNE0PEB8ZorPnJ3MQRapV9u4dOzdzXNAXPlq6lKbB7faDLOxETHqFGatmdYtRcPjPgFkYURS4FEvu+PMYCmX0vfHTeEQWSkx9KCQTNu5P1qhlhFRNHXJCcHQqUZSLDUXhnFB0BKE7fOHm6ef3B9KmDNIWIce9+JiwPc/NEj5YSLJ+JybhIWJe+TnlIkkrllMaIs+nav+1PnSWqbz68+tzTPz7+HZJGv/kR2by+fO3c2Snwb2ywVqkOnF1pympq4cHFerW27dDk9PtLs2+cGOyr9RyZ48G1uXJhsLdS3X7gzMydhfnpMwe3VXsPX1fJH5FL/8hpcKzb6md1DLG0sTb7/EClWgOpM804K337xt6YW1xYmn3jaL1a6zkyIzJ4agns1/dnJg5tT7wQepDMRitOKbIArq9cAVd07uy/nBis1ir1c8tx/PiOYi8tiu6/PiAAzl0a29dT7T38nkxdaLTgeMWFj92ODb5r10d6qr2DY5dnF5YWb1werdcqfSPTj+RV0IXP507Wa3aK73WbigXQrUCWh3Hl2HghHNKoqPUMnrh0Y2nx/ZmJ/b2V6sCFB6wM1RjQea0+Ja3F4zZFUeQA+L9zP3q4c+dv//U338BTM9d8FegwYW3XVEI1kDp7AXQdxQ1QngQjqYUT+Yu24AColdIXW2rC7JwHRol3EhqTPpCJaj9xnneuTx7YUavUJ5ef6OemLTsU2OU+0OWd+KUNT1yfJ3ZHHfjEXehJN9aXXx8mfTcyz9CwqUWXAiP9HO5cnxzqq1XqF++zZqqXzp0mrE4GLIUqkObEtfooce8iCssIyI+0vnKRXJSROlMm3K3duDw22FvpG5mN7VWJosihQO1yLEfhmVF0AqA8fevko+jJykS9VtlxkChwYX76VaK0+hnh3r1MWB6G1tJD7dptkHGdnTp3+tDuigr3rU5j5Jl12UKnUudvPnrn+acnn5/6+O6/nT3+9OTUf34dB+7RzGGY8mqF1meP1SpDV1dFT1hzabK/2nt6gbi29RtHK9W9E0vKzVFdHp39iu1gbfpArfLqkrY31+L6vZmTJBEnjTM9dW4ujPfAozTnx3vEOUT3LpLzmRfnsLFG+tSHriYl6J5xNxPAtXdGYvJU7VqTLi36am60Wht6a1WUbS7blFuyAAAgAElEQVS+urfSN77Irubzq0PwvlDgw1c+F8Xl3+bS6b5a/6vanXgyf7qv1vOy2LKxfv/6C4O081W3Z7oDv9tUKIApClw5R3QitRFRMfdfvC+5qYXm4su9IK3ZeHChv1ZhABtzh8Ftiu6f31upnrjFGjHZbxM9nBPgt3/+1x883Llnde5PwuDUKTqWnAp0mbDaJ3ECA/U6TJ09ADqP4gYoToL4lr6Ben9KhuQEKPal/rbYhB9c7Af+qnnnVG+l7xx9trZ+a6xW6Z9ULepPrw5Va1rbWJ1lFLkU2N0+0Omd1m+eIEFE5sobq1eGahXZOxNFzUdLF0g+TTvtXKmzU4H0HFQ+FEU0cNRYIIs8dE5uWdsVSH2R9jiIRcCz8tlMc23x/MFt/Fko6HVenuqt9I3fka01GnH6X+ddArr+3ApUJWMdhfqZLrkyClKg7QDF+cWd/Nq1YRITtW6m1beGK1UWZ71MWByFJiH1+oAVakWBKIqeLE30awl6a9MY7bjdttiZ1PkPv/zJdyaP//CXX0bR//zHT48/PTnx8/+2yDFXddhswvJy67fHQGCIooiYcQ91YbS3EiYizfnTMjZsLE2Yda2jyw3sGfSOg5fuzRu17v9s37bq5KKeSjyZPyn2fP/1vZW+yWXtV+qLzTEJ8jheRpsJIAuH7yTl6uLxetylxZwqicS9E3fJ+ZJLe/aqTKvlJcQs3Ls8uKM2ARopzTvPqzSocZ2MnNl26PL99ydNe/a6TZ5er9UAUxR4d7JS3XflUwWMlDd6ZdiPVOdakq2qkCUqTv1XypNrzOM20b2mKHDjT4/+ac/DnT/47ONv4Ukkr7kV6DRhvlPa73L4nbXFM0oz5CdPgHqLV3cUboD8HEg/zd6JpVXS9HVlSH5xt9UKbNx8YXDPC7wRRa+E6IFrbOXSswODepoScy/41UdOBXa3D3R6p+U39tUH9SBCkxWVJq5MVGuVvn0nby6lCCOGrQpV1NOO3xEdLAK6+Jtd57RGigmLvbK/OSiwcfvk4O6TN7XHjbTBxsJEFEXUrfUOvnh78Z0RoT1+EuQnEEQoz1j7ciqQ7y7JUeiX7M4oaMl2A2SnF3/yjVsv7u45MAPi9yeX69UaxetjwhwCfQx1eGZtyQq1ihJtYPdPLoomTUvTGHXYLlzqQOrc/PjN700e/947v2bu4t51Mu556r9MeDQJkA+mzV9pc5xpSP7UvHOqVqFSs8wyimjqzCPfo5kD1d6JG0sX6FC/uBGicp9R9MXcaT4QkNg2jMFaMbZImmi1MeJKGrNHYLCPoujTq4NVI49Ue8hutNkA0mFe8sGfOo62lHxppEvAyOQowAMkEad7PrMiB1qlANQOSBZZp6kY3dG4Mc6H55IgAdsVXrfJJ3VuB0AzMEAFPlk6vaPWc+QqG2C6fu/q4T59oIWGjGF5JAetwsHiG6tXDvRW6uN36IPO5qP503U5bMn7NqUr8MlvPhve+bD/R4/+pJ1h4mKaAkmPWqIJ070SX89GQBGLVlkL6RrJCtB9FBdAegr0qT3tFOQ8Ey+3YAoE57nRXFs4N5SgsWbjwfTzA4mPy90KBIehK93lA43zh95J/dhs3L/+Ql09xY6iaOXCETZtI00YTgUyYa/Rgbykd9aYMJNd5/Rc001YXFJuPlDskIzn/nzp7P5efXzg8usjbBYHjeag17m5ME5GUb5F52ZsrN9/a6QnaWRmugKTHYV2eikZRccAZjp5dh3sYaYYraeuLcWEaUEytIYNlbRDrdhT8y55dE8TGLaphWmMOGa3/m176vzHX/zwx8e/89Nf/OHvTmT0MVbPKfVI2yxNbv9B/VmGaOMS+6RPOgYu0LmHrCJ9kMQ7jZrz43RyGxtCxEYBak8ozCPJ9bTUmY+NY6MaqD81xoTQPsKk5Dur18sGkD5I1YcEyKuIXTAvjTh0o70byV6BlbNkNN6+wT42jHL+yov7yBgsNcQ29hB8IxvYxx9H6gUte/a9TYUC6FYgue6vVs7uV/Mzhl5fgdP7OBo6UXLv4OD2HjosdfHGRTIsVR8UuLE2O7abPzWu1nY9NyeG2nvfpiwAN/7yEcmeh1/7s+iW0O+hvpyuQKcJk2FXN0/09J24RQdZmalzZoC0fzrRUZATTgRIfiQj/nn7My1Dyp46t8WE5b2gGQNR2q4Xb4NJzKQENWryPH34woP4ns90BcojUZjTR8iDeDqyq7t8ILmMWO9EtEeHHAy9HssoTRgundPUpH/f4I7eoVdn7iwszdLhDWrSTnad07uQxYRJwdwVKOcHf/eFW3Hjle3UmRj43XNDfCwHVWDCNPpUBaY4CqbP1IyiQwAznTy7BDb02RzzmW7CpPZXt8f6RE5shVq2+yhaI0OStEGwvJusFWmMOGT3/m1v6vz13amp409PvfnRX1OI0dZVcpcz6cIbNzsp+eMh2rRlIuPTsOg0wfrI4Wd56rz23tFdO+AQop8NV6p79VQ77vzM/BKU2WjceXmgUh0QY+OoCo3HT+Gpc1aAdHSdu8sZnL1xabT/Xu/kI4WpiZIrYrYKhpLfPz8gxmCB/Rorjfnxuj7RQf/Zsmff25QpbLQJoJjhkaDA6MnK2cFeMf+DNd62j76zaicvPO/Rhy015sbkYPGNtdlj28VEVT4ddvDVJfoA1fs2ZQIYRRt/ml3t3/nwn9wv3EhXYIoJk2ES0prok19dkJkBphzFBTBS/TREqGkZUsbUuW0KFMa1tnKbzDGaMiYx05/XVxffX1q8cfUknXsqfJeoSf+mKFAv290+MErwTuurC/OLC3NXXoSTtNSFpwjDqUBat1o7rA2ra9w4oSbMZNY5O51MJtwKBX6+cmth6c71c/GzwKPITp2bd88N9vFZ/otsmuCOo9Of2i6Q1SUPnUSnQBTpPtDtKMRtSs0oOgMw28mTc3uyeoU0SkHeQrZnMOFIPTqjV2mFWnbtbHaW1uVM2pIkmc49jeHH6+4/bUyd//prkjf/+Cc//2MqMt76AaN8jEqupjwtSt7qQt/nxV/3s3pFpM7GnsgqTWoH1ay4mCIsZYzvM95Ymz5GXqBxel6+g4L6xHyba9kBkvlhtaFrLn7wCo3UmWYqyb3OZJCfMaeNDK5ImmbED7V2/ei2aq3+8rzV9UULJNmzfqLO25QeNtoIkJx1sgLJZD7oBMl0uurApU/0qyXLLHGB7ixafLXG5nuxeKBnPGyy7EnyshOaOvvcpnSA4uy++fi13+ov3Phs5rc793ymPeSJsijQYcJ0VKI+d8rodc4O0N3r7AJI5rPqr+VJyZAyzTFqswLF/WJ/2ZO30RvayFRZgAInRq3NzWA/uhUod0DCczf7wBTvRK+TTtKye1jShOHQOX8fq5jXy2jSOR49U2SqnYfOad10E26hAukZ0FnglWNzhsjM1JkOjNHeRkUe/pAh4/XL9hQalwLTHAUjKvtTUyNiWwFmPfkoWl8iXS19I1c+iWla8GtMNmGiW/39OfGhls4Glm8C4DttQRojbkm3/21X6vz3L39OpgM+P/VxyuutCFAad+OTVMnbOYBMllILdKiuSo6NCEG9ldm6UpXZkplf8t+5rIcv3NNlnfcgIR+AfGZu3IMz85r4unlpzrHOtBGidwGKtkfiLdtYX5wir7dLeOJJTyLWnn1uU4rXay/AGM5KgRSgMRgpZi4R2QftsjIGBLPJN5PLEX04AKba8MmyVMnetykFILwk+ro6/sKNr64ffrjzR4/+rEpkUqDDhIkY1GgWsEy6QDwAOidFuACygA0OLU4pSecpADuuQKeXW3vnoP0cL02B4o53tQ/M4p3YhbIOAvMjA2mps0PnzISNWSXq+Z6PzukZdlSBXAykYW9ekdXrTKf96POb2QAtbwWmOAqhzywZRfsBZj35mVHy7sgXbmmv2hAXBv4mmDDtQxG+Czq0SfUtCzagxehgbuWULXDqXbjSntSZvYaJvVIjHRId2wRnjNmVYlIN+qIc2tHbuP3Crj7YlL872cNfEEE9nZFwUEtOeDeTPLaZX5IfHt0mLySOk3XC1FRz2KXcu9PreQGMy9rlYeIXzEtLeMMGm+NIEw748hA2A9JwhfxQG2u3yCuxB07edLb5zdTZ+zYVCqBTgT4RkSkTRGuZ8MkF/aZSKyAe0PM2ZRxvoA7FXlf3g88+/v2j4zth6pxNgQ4T/mp1cWFJ/3fpWK3y7CR5Nfgn636ps+MozrZH89GKfgKLC3MTz9Yqxy4vLiwtP9IbyYpIoRS4/MbANqMXmTbeSHdm4/bYnl6j+3n1rX2V6sisfGwmL8ulQFqoq31gondq3Hpud4/RexofJtJSZ5cCI4YdfLJqU21sdrvarcCVy/UdRjc8czvsHYhSQ0GpMwsusL0qXF+Ko+AnkCmjoGXbCjDDyTfvkVdi9+y/eN+YW+Jhwuur0Jcu/uxopbpv4sbS4sKqejhAGnj8DVrqtrG3acFYT3ODzaUx+o67frkdqTN7CY58pUYqM9JsNR40x9RxviyT+jgVG9gEPhFI2BQu7TE3fWlxVb71OeZgdJOZX/I3luuPQvSqZKa5NlEv4L3OfgBp31LCCzL189OXrUtzvteZzQDTPjHjAEhfiKOGgOsHhctm6sznema/TQ6v1wGATgXSty+DUWt0wIYRhBgfOnhJ1xh5A2it/zx5ASodbwAGndMBGzWmfJ/bRI7lAAhvlVz79st/GXjYv+fhzp0Pd772pXxEkFWBThOWB6ELMQM24BtPkwG6juIGCE8hLUNyAmy/AmmE0/wPmANH21f6fKD4GUgMgEuBXe4DXd6J9H1Uh7U3SLLC9tvrU4XhUiB7xKqPTdKV7OMoyM1ymHBLFEhbBWA2Pxm8q722X5hQ7IANMHyZxUcRo0W9DAqERQ1HwX7MllGQsu0G6D55BlN9ZE0v7WXCekX2Zk+za5L2WMPeRlYpvzQGnkTXr7Ujdf76v/7fDy+nvVJDkaQfwhAvL1ObraXmyjny9T765gHrO0b8Ezgnr8V9CEpMIiS/LsxdGh0g386R39myDiQ2mPkl/d5ebXDM/BjPlbusLdeYPUI+/Ea+5pX0MSqxa7fR+gGkTxWN0bHacWIXzUuLoubyFMFC531bnyJjTRHxETv6ho0EgPSTUZXBE8ZHIs9es2ZTW6kzj8p9+zLeJofX6wRApwK/Im+Rq+w4ePraHJnCRb52mfiOF/a9LvHZLfqGDZlJb6xe2d9LpglO0en5/JuaYj5N9ttEReEACEXz+z8c2knTZf3/r6nxGpkV6DRhcEwzInoBdDgKN0BwCqkZkivudkCB7O7rE1U1jTFRsU+x8klacPC9fukOBXa3D3R7JxYm+LfcLB+oAKULw6lzlpHz762yN2yoTNpH5x0JIuydJOxjsY7PUpqpcxSt0ynj2w6NX2EfSY39WKOA7FCgKML/mo6CbM6aUXQEoH7+8OTZh053HzhlJhi36KfHvExYPwqd/mGmzsmti9zSGHAO3b/SjtTZkxJJ49KGHfNdrj+YOb1/N/kO6o6B0TPzagYueU1SY/H8yC7ymbreXfvHpx+oRxOkspzCRX49cWnJfk5pn7WRX9JmX9wQIvVoqSMff6cjqORL6e3LiNtiXBotQr7zNz60h3xGcVv96MT7cLjFBn3TcNKv4hi05yZu0KoxVJp/5MK0Z6/blDnzEyeX9Dc3gBkVSPHeoO83TTgl8grt0QHy2te+3UPPXV3Wtaw0VuvZMzz2xhKYhZntNrHDZge48e1f/vLZb76Ye/uzM//82+F/IGn0P87wL3XyW2mOz064sshlwlodGFToD8qE0wG6juIGqM4hPUPKDlDtNXYpTwUere8gBkhMGGpMMSGiurzonBqRoMDu9oHp3klpjIaJhdgwkS4MGnCSQ1XUXL0xOVonHyYkJnwNvqdSnUPMTTTk0xEFNhYuspOnUXiOvaveODE7dQZMqtvro5OzRoyGu0hQICzE3rJlBhePjKIjAOU1AC9He/Th0GQeSWVw9zJheZS41Jlq2OQmaigPSazgitXrJcqRv7kB1HdayOUCps6F5NT6kyqP5lrEEgEGgt08wI1vv8n8hcHAkyxy9c0DLPJVtfHcEGAgbASIAAMJBFYvjwIxdQ6USm7Vy6O53JDBHSFAyMN7DQF6I4MVECDk4b2GAL2RwQoIEPLwXkOA3shghfIAxNQZ3vnOrZVHcy1ijAADwSJABBhIILA6KhABBhIIrI4KRIAZCWDqnBFUy4uh0QYiRoAIMJBAYHVUIAIMJBBYHRWIAAMJBFYvjwIxdQ6USm7Vy6O53JDBHSFAyMN7DQF6I4MVECDk4b2GAL2RwQoIEPLwXkOA3shghfIAxNQZ3vnOrZVHcy1ijAADwSJABBhIILA6KhABBhIIrI4KRIAZCWDqnBFUy4uh0QYiRoAIMJBAYHVUIAIMJBBYHRWIAAMJBFYvjwIxdQ6USm7Vy6O53JDBHSFAyMN7DQF6I4MVECDk4b2GAL2RwQoIEPLwXkOA3shghfIAxNQZ3vnOrZVHcy1ijAADwSJABBhIILA6KhABBhIIrI4KRIAZCWDqnBFUy4uh0QYiRoAIMJBAYHVUIAIMJBBYHRWIAAMJBFYvjwIxdQ6USm7Vy6O53JDBHSFAyMN7DQF6I4MVECDk4b2GAL2RwQoIEPLwXkOA3shghfIAxNQZ3vnOrZVHcy1ijAADwSJABBhIILA6KhABBhIIrI4KRIAZCWDqnBFUy4uh0QYiRoAIMJBAYHVUIAIMJBBYHRWIAAMJBFYvjwLzTJ2vzszhPySABJAAEkACSAAJIIESEghMvrulep6pc+NxhP82TeDqzNym62LFxuMIAQbKAAEiwEACgdVRgQgwkEBgdVRgOMBuyX0DzxNT56Kk+2i04UYbuIeSV0cFBgoAASLAQAKB1VGBCDCQQGB1HLDhnZGj0YZrLnAPJa+OCgwUAAJEgIEEAqujAhFgIIHA6qjAcIDeuWN3VsBeZ+x1LgqBcKMN3EPJq2PYCBQAAkSAgQQCq6MCEWAggcDq2Ovs3RBAow3XXOAeSl4dFRgoAASIAAMJBFZHBSLAQAKB1VGB4QC9c8furIC9zg9PPfPuU8+8+9Sxjx7QaY63ztFVuvHUr1iPbOPSMbWRFCb/bl76XSQKk+VwzQXuoUPVswCkcH730fc5une/P9NgZ4sAG48zA/zVvNDeu0KZqMDIBthQoKBhogLTZ3JnUaNZJi/P07WJiwlEuDUVViCih6do+EAfCLGwGGrC5GWI8c7f4gJOKJMu75Qw3bUKTLmuOM4tqYK9zt4Nga7VHDFCkIiIHLpBA638SRMfzaTPPdRMGkboTRnwVgdIOPOM2QBLVhEgd2Qk6MYqkKaDQo1AtFSoCFBEAgJK0CDLINyiAjU/JogBfwWklajGx9GDmZtKqGAPsbvNtHHr+UACUEYKTokQVhJlG8vuA3V5AAVqQfZdzZZJeVRgmi3rVNu0jKlzOVNn02jjHB+1WBWPI0xctLZHMkCQxECvV/awoUPTl4mzkwqUC9xd/mpeJS4IELZ+5TONxmPSymXtDSPQgtWyA9TDqq5AfRmoERMXmLXooECPMo0OsvEW8echx26anQWoQNX60mES1RFTfebd7x+7iakzVJ1utkVZxtS5nKmzqT8zX3nMEmXVS02kXHavZ3o63bwVQEydVWwwZJYFIEkBtYyQqU6EZFSgljrr8mOpM+OmpKj6+RCgIUU++kU83DB/1RmCtkeits09wLtj/ro1ep3BNQLbFA05sJFCsLdsCmnXAtSVYPhD0RSBEQQbb0Bmm1JLK/aAqTOmzjyKgHyF9QLK5+kqBosHxAEK7lqvZ3g60wkKgKRY3DK2PTIB1LMW4vJIIBGqK3vcTQRI+6tYfhzb9kCAurWy5USYbEy5MGH44CjA7+nxe8v5QKI6a8BGnMcruwnrOkxQIKbOOVmZbnG5L2Pq3LnU+cPJSrUm/730oW5UUePTmYPy10MzD+PE9MErtPorK1AWKy/JitVaRf2aYKj0Ua96Js4PFFe4aF6vVQAbbx6S92XkzU/lfYljQnDRsAGaGaQkm+gGurW2DkAdUa1i6ZMrk+pQE3Y2gCRyyMcdlG1hU+fNKzAFILVoXubg23ymKUvpgKJ404KITaR63Zs6JzkuZoD6r5MfQH/48O0R6UgrVd1mo8ZjveJm/GGhe51bpUCgT7cJk7auPaaZ3SDb49lb4K2EsUz6XnOhNW2PJKnQo7siMsBl+0N+UWIPgmeCP8TUeVOSyKicvIph6tyZ1Bn6ep6oqRgJHSKJClZ2ovagkmOYcMsEmheINVSWmojnuVKylvUSwRXJ66nLl5dZreUA0Ai0IPnLBpCgE518Rla9RQDCAMP5y2wGRpFNANTSQULyV9rcylIA5FmCbH4oVdNXlJipM7dZashknlZ3ps4iq9AyYM3pxfwq9RZJUHpdnp3EVJS7zWbOBZ6kFeAD8zVhqlhim7LFKzJd22DtLTLo+Czknzq7pBI1XBHZDVOg0CILps555a8d3A+mzh1JnYWxiaxXeH8WD0TywX4VJq1FUFGAZS1iJ43HkXCmvN8FrtqhIiFv1uZsAWkWyOu1GiC8EbzdkgVgtyQumwcIRaVaa1yfPMZwBUJhZwEoI41Y0FtxW0KBKQBJAiHuDjVwzfBtgIISb2+QNrA54oVAE23jAgHUzvyxTH9FQiwyFZZkcBVxMxRw4t2j8I20MJSfSoDobm2Y8f6wqL3OkIPJUHCIo5SiQABf7CfRB6r7aAovtrelKxUoIGwCpmgPCCmSbjJMnUFeIRB110ZMnTuROgPfRF2PnnCIXFkYmIgrPEUWHpP39umPIEVJ7uZUWhMXKmicAMMMpBO08j8m7uJ4vVYBhC7ysYy1LBE0Ym0sQAudDk1fDvAXOfS4bB6gQCQ19lhsofqEWY5UYHaA5tBSEI9LABCM1HKlzpbSRBvDSPXAanEAAv0Ln8ZdnGo80GYD/1U2IXjmRxVoZoGq+2DyA9kCid9tFnMmLhEABKctHab3QheZsCDMWjUaNEtLwFSTQoZVa3MJUw4Awa10KtAVkYX3S/CH/OqEv2UPRkRk12DqJyMMWZIpqAL1cy7fMqbOnUidLZ0J90QzDD2NpiX1UCF6pEbe/FQYrQoMSb3OlteLnQWozirBpAvq9UjcygmghRQ4TYCFxInYhkeXDNiQfpkt+AA0EgU96lgARfpiN94SARKZiSe/AGaxhgy1BqBsbKjMT6aMxlhnElDV0CAiTjHcWVvWYcb2AiqrN26razXvxMU6lrA7cu1iWSQcskEruqjhJYjuvbhfxa4o0mzmXNjUGV61pw80gOsm7P5Jhwb7DgxTZadnhwx7i3UhhmXFrrZVgSkR2U1MtQNfepvPXxJK1mFqO8HUeVOSiNVJ6zZi6lyE1Fl4LtZyTTLUKgsGKy/xBq6dphDzE5FDTnSLezxEA6r8YBtfkIlgkndL2u4p9BZ4vbwAWkhFb4EZa90Aie/j0wTBrPMtAlDz8qrRwmRmARSp82YBylHj9KBbHyBNnXljmKuaomPMzVhLs2euNJE3S1BJ2yFST+NloagFJgxEJZwY7UoQ+a5IOGTqzB5lgIoyz9amR6sCYLf6wHGnOXdJn5+XD1RMtJxbRgrxq/B+2kwbQ4E0e+a+Lk5XtsHaW4qvwJSILHDRCxF9EAomV90rK1KcQskGTLEfTJ03JYnWZcmxe8bUueOps3B5cghUVkO10xRie9J0xaQZGWASDDW7TAvq9fIECIOrIMwnICJAsydPiS2xOafnfwgwFaAIn8QqdXRs+1YFqF+11vhnTYjsqbMoab1kg+xfmLYc4ZYVZjekzpv2gVq8UEMO+O1Q1i1jk97eyB449JIFDSJOBWaNyHEweV1q+EKfKamzjosud4MCAcDYXHOLbcTUubOps3J5qm8pq6GKxC5mwAaP0ML3sew5a6hIlHgRvV7OAGW+Ihoe+stPECDI/IS6ahX+PIS8p4+/109pUs//EGAqQD0C6ejY9i0JUL9kLcGVmZyZcCT0Ooti2jQstWeVN8vdZs4CC5+4bN4HxpmwgsYCgSizhYMIuOQYqWSLyAKU7g/5reG5spAops6JOYbVbChsSUydO5g6x7k8c2oasWpuk8rpM1O30xR7ix59SdwlAwnkwAwfmZKRqUkv7/TZT+NxlN/T3twBMrBqty99yJeps0OA6v3icXHClTojQNIY00w4AaAexXXjZdu3ngL1643Lmx/Lwd/qCbh4U5jWDhFJSea8mX8HKs0fBgF3RP0i+MAMCgT+UI65SoMG7qkOoZBBBJxtTN6cLSLHw+Q5txo8qXpkiCvIoq4sZcAl6MAdy/kpcDNHd5xYt/yEqXOnUmeVn6n+ZpaDijAg2qYioqiePCZWO1G2t9jRt/NCz8loWwHQgsPvhRz0YhXwbDbk4hc6DjA+TlAUPPbIHBEB6liECTsAagopovGy08tJgcCa4rMWQs/kwOmZGtNf+6X2nLxbVUZj3qaNOQHcvA9MVmCpggi43YlSSYvIiTBTUmdw9DaLMCcFdvIS2kzMOBymzp1JnaWVmnkzCRXQeQm7tUrCYnqEFt/TkiYts3Dj9ndkNRejbTFA3qHFjyKDNIXcEWj6QTsMUAhSG6ehOVD4cFPcJq2DsAAMCw1Q8TFTRl0DnV3OBSC4BJlkxNkaNEORL/J2iHCDajyurUbQ3w+Oq2hrtVq/MReAwri0T0GpMxdYGCVhszyIiNVYExa75f0FIohsye4D7aa7FLh5mEBsAnsRwnEuCgRXp7SnUd26GzF17kTqLExIPb7hL2kW7kmasXx5c0xEgfbMNBq755i6nRR3DkYbe5mEVSsAin0Wxgt0FqCIrNZTSCuVkfIuQqjQvXyxAUrbLE/qLFyZdHdiwUr1pOpEY8x2lbzu5AeyD0LsTQrS6oaQzNu0UGwFisaJzk08MNHtqIPLOQAE/roIG0sAABzFSURBVDxNgbbMRFRN84eaokTYKoI/zBugdpkA7JbdjqlzB1Jn0Y6XYUAuaFmaMDPi7oWVQlclrN10atDxmb92XsrhRttagDp5NQGu89zk3e8oQKiuhOCqh5MixAmJji0UHyA9z9KkzsDipDMkC1qOqwtP5M36ezN0KZLlyQ8y7bYzdl14BYrgQqluSRMGPiGLVPQyKiLrsgTSjXk9othDEXiGKxAALEe6rF8yps4dSJ31G1DCZTTawJuOABFgIIHA6qhABBhIILA6KhABBhIIrI6pM6bO7e53Qa8XbrSBeyh5dVRgoAAQIAIMJBBYHRWIAAMJBFbH1BlTZ0yd200g3GgD91Dy6hh3AwWAABFgIIHA6qhABBhIILA6ps6YOrc7cUSvF260gXsoeXVUYKAAECACDCQQWB0ViAADCQRWx9QZU2dMndtNINxoA/dQ8uoYdwMFgAARYCCBwOqoQAQYSCCwOqbOmDq3O3FErxdutIF7KHl1VGCgABAgAgwkEFgdFYgAAwkEVsfUGVNnTJ3bTSDcaAP3UPLqGHcDBYAAEWAggcDqqEAEGEggsDqmzpg6tztxRK8XbrSBeyh5dVRgoAAQIAIMJBBYHRWIAAMJBFbH1BlTZ0yd200g3GgD91Dy6hh3AwWAABFgIIHA6qhABBhIILA6ps6YOrc7cUSvF260gXsoeXVUYKAAECACDCQQWB0ViAADCQRWx9QZU2dMndtNINxoA/dQ8uoYdwMFgAARYCCBwOqoQAQYSCCwOqbOmDq3O3FErxdutIF7KHl1VGCgABAgAgwkEFgdFYgAAwkEVsfUeTOp89WZOfyHBJAAEkACSAAJIAEkUEIC3rljd1b4P3mddnlaG3kRM/aDAA0gvqsI0JeYUR4BGkB8VxGgLzGjPAI0gPiuIkBfYkZ5BGgA8V0tD0BMnX210ary5dFciwgiwECwCBABBhIIrI4KRICBBAKrowIRYEYCmDpnBNXyYmi0gYgRIAIMJBBYHRWIAAMJBFZHBSLAQAKB1cujQEydA6WSW/XyaC43ZHBHCBDy8F5DgN7IYAUECHl4ryFAb2SwAgKEPLzXEKA3MlihPAAxdYZ3vnNr5dFcixgjwECwCBABBhIIrI4KRICBBAKrowIRYEYCmDpnBNXyYmi0gYgRIAIMJBBYHRWIAAMJBFZHBSLAQAKB1cujQEydA6WSW/XyaC43ZHBHCBDy8F5DgN7IYAUECHl4ryFAb2SwAgKEPLzXEKA3MlihPAAxdYZ3vnNr5dFcixgjwECwCBABBhIIrI4KRICBBAKrowIRYEYCmDpnBNXyYmi0gYgRIAIMJBBYHRWIAAMJBFZHBSLAQAKB1cujQEydA6WSW/XyaC43ZHBHCBDy8F5DgN7IYAUECHl4ryFAb2SwAgKEPLzXEKA3MlihPAAxdYZ3vnNr5dFcixgjwECwCBABBhIIrI4KRICBBAKrowIRYEYCmDpnBNXyYmi0gYgRIAIMJBBYHRWIAAMJBFZHBSLAQAKB1cujQEydA6WSW/XyaC43ZHBHCBDy8F5DgN7IYAUECHl4ryFAb2SwAgKEPLzXEKA3MlihPAA7lzr/7Zuvv17n//4G8ZdyzVtzCBDqBAFCHt5rCNAbGayAACEP7zUE6I0MVkCAkIf3mjdA7yNs8QrlAdj+1Pn31147/vQk/Hf23+8RRTWmD9cq1Zh/h6834hS3crbPLKyVbK5eHx/a01up1rbVj068vwb28GR19szILlK9d9f+8ekH6+BXuNJYujw2tJ2c2I6B0fNLjQ3t543G4vmj9R3kNHr2DJ++/mBd+7Xx3oh1OZPLWm19MbPmkgF+MXM4jl6lOjL9hX4ouewESBCxS+vdtf/EpQV4CxpLl54bpgC310cnZ50AI1XYQXv91lhv5fCMOIyvGKJOAIxcl+YGqJRD8F5ZcSvw4midKrBv99CpmfuwLNHn/t091VrF/tVH5zkApMpqfjJzmp1PdXt99OJivPaYCJ0KpIgGqQnHmJ5U8caDC/Va5cyK3BCz4FSgA2C7TZieem4AFQjDuMgP6w9mTh8a2EY8hsMq+S4aCxdHB6nG7Hu6co5oD/xjDqcTJpwvQCUbh5drLp8ZcMnv7iSEI1mJWLDRWHzjxBANItvqRy8YnjZqrt6Y5OZvByB1i8lSJ0zY5QOzmU8aQHqNLgWSU0j2gT6eNjNAyB3XBIHyAGx/6iwYR998ePW5p398/DskjX7zI7J5ffnaubNT4N/YYK1SHTi70pTV1ALNFIeeA+Wv3OVpxf3XByrV7QfOzNxZmLs0tq+n2nv4PZGVbaxNH+mt9A1PXJ9ffH9m4tD2SnVg4m7cIaKoeXeyXq3VRy/PLizNvnFisK/Wc2RmjefHNCDxo8xPnzm4rVqrT6lzXT5Tq/SPnAZXdBum8Opq/DVnAVxfuQKOde7sv5wYrNYq9XPLsRfnANhcuTDYKwCyS+s9fF2c+xdzoztqlb59Y2/MLXK8iQCjRzOH+2o9gycu3VgitPf3VqoDFx6oC2dLa9dHSABWqbOnGDzChjx0MEDHpbkBRlQ5DKBQYLzIo2j95omeam3bocnp95fuXJ88sAPcUMqtd3CM6PPO9cmhvlqlfvE+06ePzn3ibjLAKIoeXKxXxe2+cXlssLfSNzKblD07FMhPnmlsafaNo2S3yvTkOdC4W3Wmzo7bFEUugFHUbhPOEaAkxK9RNy7u1piopFUm+UAd0eKNy6P1WqVvZPoRP0Dj+kilOjwGPM/VZeKGO2HCOQLM4uU21pdfHyaOy9Fy+/y2EdTOnjq4i4h5jgYkJuCBUeVLNU8bsV9ZIBNWMHYbtp3Vnc4hiPgCdBpXuvlkAQiN1Fagrk/TB/p42k35QAUfl0oFsFOp8zcfvfP805PPT31899/OHn96cuo/v44T3qOZw1Xdj8AyS5OV6kHpwcFvX82NVmtDb62Kjc3FV/dW+sYXaQa5fvNEpbpXxYmN1StDtQp3ZKIG//vgQj8MOfPjPdXes6yHqzF3GBwlun9+b6V64hZ3bGvTB2qVV5eMPSatenq9TADX3hnRg5x56GSA6zeOEkRLKuOm7uno7FdkH/QyVeyMmH/vFxkbOExz8eXeSn1y+YnYukGRvqztOopIel0dqNcBalFB/HWLwTt1DgfoujQ3wOjexf5q7+l5gXdjjTxvGboqmibiksnfxuwR8tOqfJpB6tbGblKRNZdO99XqZ1Rrje65dnqB7NlH5+RIuShweaq30jd+R95uaon9r1tNJXaJyQpsLoz3QAU2qemxS5OAmkuT/X0D9X5H7uK6TZETYBR1wITzAigRxRnXGvF4h2UXQBQxHxirQIqo/1XNYJ/Mn+6r9QgTXny1VjkwEydddQp8qS0mnBfAVC/XfLR0gXS70F5kR+psYqDBSLrEB8Sc9Yeld071VvrO8YeTn18dghGQOpbhK5+bO2XrbTdhp3GlmU9WgG4Fuk34XnZPSxB6Aoy/C2XeWh6AnUmd//DLn3xn8vgPf/llFP3Pf/z0+NOTEz//b0tvzJvr/h0WWXvnYKUqnnnBn2jSAEcpEA/VO3GXlFt+Y1998OJ9VWX91lhC0ta4fXJw90mWprDy1NOx/US0z0wlQFFEO2DEcTeWJoBPVMeLXfLSXCaAn14dqtYOv5MY1BwAaW+BjiiKmvOnqzXac0+fwxo9H59eHZQtCv3y1m+PVWs6Iv1HvvxkZaJOznPxTMJdiERoTxaDr9fLAaDz0pwAo/uv7630TS7LbJinuUI5gBGlfUpm2RFTHYu1VOfjd0QGDup56ZzWzEWB5MKfvSrbrFG0MpHcJ+dQ4P2f7dtWnVzUEEVP5k8aBkV6vPZOLK2ShkdS7uK8TW6AUSdMOC+ALuNq3D65p/cA9AyrPxuId6f3Lg/uqE2AHoDmneelqdLWRRJ8XZFp/jwvE84JYKqXo8Lu23fy5pJLfjoBukxbgKpXonHzhcE9L4jeFlKCOAcR18gysCZrd3BDu03YaVxp5pMZoFOBbhP28bQEpRdAyB7XygWwA6lz8+M3vzd5/Hvv/JpF/HvXybjnqf8ylUfT0Jgn+7Ic6e04cvXO9XE6SgyMqiQdD8L78PI08zOiBfmp2bh//YW6PpxDHsBaaH6+dHZ/rxr/sLF65UBvpT5+hz6Pbj6aP12Xj+FIT+qBau/EjaULR8gYQXsktLH77EabDSB1/fLZvXEwuuoCaCZAPHWmCYqVzEVRRFJnve9EHI+M8xuZfiQH84HbRAuRJ5LsQTyJeWrAhtgD/ZsqBi+vlw9A56VZ8RsAJB3JxpVSgDBB4QRWrx3sqQ6cfp893V278/KAHALBiK3REZlk0KpjKGQGneeiwObC+LZq7+G36KD/jfX7b430JA24iiKHAsHtZyukA0l0t5PWFBl2RXvcqSCTsrfU23R4JhFgJ0w4V4CZjIvSXZ89Vqv0w9ZyzD2gm9iDI9Z4Zq2Lt+anTw27Fdg2E84JYKqXW7lwhI3jd8rPYNhcmeiv9Rj9DrLMRnNt4dxQnxz1x/fc/GRuoo1BxAOg07jSIuCmADJWmgKdPpA+ssvsab2CiLxpuKATyB5E9FrduNz21PmPv/jhj49/56e/+MPfnbjoU5gevbPNLL565VkywUWO8iRjQMUIPGJO5jPEmN4vUow+bht6/UFCz504Ku1gJoW/+8ItfeDmxtrs2G45C2TXc3NiGHTUnB8n23ccJCOq+YBg+Gxd7Jv9zaq5bADp825tSAA8Fl1zAVy7NkxGJNPJm6wq7SxhfXv0IV3fiVkxdDyKotW3hitxqTOdJrJ3cHB7z34yVHfxxkV2m+TgVzKQt+/ELToOhDlBba/ipNPFQEq2GaD70pwAaUQ0RvJQgWnPbcW1079r753YJadhfffELB9mSgND/77BHb1Dr87cWViaPU9G24sxlGoPGXWeF8D1u+eG5NlWhy8kzoB0KVCdPVviQ5/5mCvaOTcgRnW7chfnbUoB2CkTzgtgJuOieNmMjqFriU+o9NvBhpbykTO0ySemPfD5HjFD0ttrwnkAzO7lXPLTuUVRRN3C8JVPjc1klTYtSDza9eJtMROdTqKt7xvsYyOh56+8uK8HTqcxdtRmE3YaV/YI6AGQXa+mQLcJe3varAAN7rgqCJQHYHtT56/vTk0df3rqzY/+Kkgn/KUjulxdzlFz5Wx9OxjluU5G4FWOza1HzTunrF69mAfH66sLJKm98iKZ5wF2ZZ/V5yu3yDSsc2CKzMba7LHtMGz0Dr66xIY6r713dNcOfUBwtPqz4Up1r56P6sfJpLmsAGkfkrPL2QkwiuggCnBp9ZHDz4rH4nRqiN4q2HZk5HBs6kymEJF7IVsUUWNuTA6UJPtR8wuTUud0MVCObQbIQ13SpbkA0pGmRi9pcuq89t7RbbCJ2DM4uUgaGzQwwDE5jRsneqq9cEBwVp3nArB599xgH5/UuMimCe44Ov1pXMvUZcK6ZUTRRoP0tWtzeUmqJ9rJnIPBU+zAeZtSAHbEhHMDmM24yIO3T66SibwxUzAFRO1vY36cTJsWw+ubd8/VdygTJiPs3x/vqdZGb4CZbO004VwBgr6PBC+XOfOjfaVJXc5rK7cXF+anp/TpsLS7B474v39+oFING+ucFkSyA3QaV5TZfDIDpDqECnSbsJ+n9eh/0SwCF3UCmYKIXqFrl9uYOv/11yRv/vFPfv7HVFpU8bFzVpxVl8/0Vqpk6CdJwjL0Osud0U7TxKRWFiMLdIoMTdAjFg/UdMMoIpOWqr0nkyZA0/RoUE1eBDtO11x2gGRySS1jH5J+EhIg2bj+YPoUff0cf+UZ7SOUCcoXSxdG6Zut2CCBdToS2nqHIPOtfE6bOBJ5TN93bpmOfZQxmIxBjx+wkVUMbQboujR2pYkAqbvP2OtMp9nplKInS+SZ7/O313nqLKel0qPSB+g9U/FvanPrPAeALDnQkzA2A7J+WRv9LHQQ9xcokBXYWJs+Rt6Bc3pePJAgNqjPHnaFXudtYnHXAyAbaN5CE84L4BMy9VmXTYJxRetLpKnTc+TqqpzZGXdf2La160fJS4RenhfdonFFN1Ym+moV8MCwjSacF0DW1svk5Vzy0wHxJ4F0Cq++3Vhmz/do24OmzsYoGjKIiM05MeqR1TabsNO4Yk4vwXyyAiTd9qYC3SZMf83oaen5pgOMuyzcJgmUB2C7Uue/f/lzMh3w+amPv5GUExdo5pf08FrV2ogifRZRFNFZR2SulcdYZ7Y75o+szE8dS1simR8ZSE37ts05HPT1ETK/hKfHpk0kzWdK0ZwPQPpYMHbOmXYZZLRoIkBYjq7RweJJSQMb62xPB2SPvPmsSrFTEsWrk8tknBwfMGMuSIBRFGUUQ2rYyBug69LElYK/CqDHCDx6lH3GE14xkYgq0BjTH/N0RTsLp85zUCB9fG/IgM7jSVBjqgLXl86S19sNX7in+q1ZwDY1Q7VkOw3nbcoAsM0mnBfA25mMiyciz99WD4U0sYDFjfXFKfKKz5ixbQYi9l4FfYBpO004L4D6qDwJIm7n7ocesmoUsREgYHKw9qu2SFu/NEzQ3gqdZARmCWt1+GKbTdhpXPSUDG2oS9PPPVvqHK9Atwl7eFp2QikA9bPG5TgC5QHYntSZvQiMvVIjjjfcRkdQJcRaWZImXjBIUyuir/WJidbszRhknnjj1nO7e8i4Du0/6hPVi5/lLyuX6zuM3mh5FLqQmDpTd2D8mnQUejin5rwAxvkLeUVywQmwcfuFXX2wN+7uZI94RQl5+wHsC6HZTNwtY5cM2iSC21eriwtL+r9Lx2qVZydnF5YWP1E3J5MYOgLQcWlRlAIw/g0bMW9adKbO0epb+8zv3WgJuofO8wJImUCrZO/Ii9OGU4HkjB7dPlmvVeov3BKvEGbibT5a0WWzuDA38Wytcuzy4sLS8iOVYbPCcRNYhQLJGH0XQPLmhDabcF4A042reZ+8kDguFebgtD8ba7eeJwNmTt40B0PTZjB8xwtVoP7co60mnBfA6P+3d/++cRRRAMf/FZ+byJJlIUsGpUA0lhuLJsgNURoaksoRDR0uEKGJXRiakMrIBYEGu6KgQ3aXNCSV/4MUEe5SWDKamf0xb293dkZv9k7KfKVI8eZmbnOffbv7fDvz5jb6KheX+d2agct3/C8FLPDLZzvmWuqnmC2gu9fIbLvvAzaHKsNNpO/9e+6nbpe2sfx9tTm54u+AEYDDERg8hYdqGfVcad0HCgI2zPwwKFAO4CJSZ1cIrCmpMahev2C+1pWZWf2K97ebd+I/GjZFQ1c/PbYVZIN1ne2Xdv5cDVd2vm8AmS2+I2Yr2mG+rqapHbDRlhkyowbNgI1qnJ+bKOYN57DlPGdVaWTvk1Q/BmIuDdD+Zj9YSbfZcRjQXhPbAYtuklZ9ibf5nPcbhRvX2/ltpNqRfVbbFDGtSjjXh6n5z9gfep8pRwWD7b5owNvgRwsCJtR1dnWRRVVdM2DDDRlyX8n7z+VNJe96PH1CnOcCtI/LxdB2N2CjjhxxwMMR6ILKjxzR2d8I33qDh8l+IToEuIRTOCOgLzQ3GspNtGoXOZKN5Za7PIoBzU0DNwjBfx8/Al2zhZ7C+QCjr3Lh8Kup7AOfztC1uvi6mM/tzYG7neOd/iaSBBi8BkafPqOAoQgMXwMTrrT2QAVuIvWB5O+QQDmAi0id//v396+fj5XUaA+HLRQ6VL6nbeaWAVvdePCzt45as/TG+5dHOyszV3mgXk2wWQzP3ZVF7Qt/6KS3D7mOUb2WW72Xm6uTvTUzl+7I1jforDVYTxT79tRW2Hho/j/+PUbsJjjeIA1w4Brd2Z0dN2YW8BsArJa7M//5erm79tcAt/Tx5v2fzi+rqWDtnK3uftzk/Wo1QVdhYyAf6kudY4MhPM5vIsDgRwsCmoVOzKqKZgmxeV5JeHVqvh3c3T+0JUqq9fnqlYDcTaWqM+MqbLSJYEqc5wK8ttPINh4cnLjFI4NLddosoT8C7Wqgq7v7Yq3Qp0eHzXKhHtLIrTd4mCIA1z9f5CmcC9DzMT+Kk+vdX/vrqysf35cLnR4+Pepb69QuD7my+7i7JN6prZzifqmeffTl8ZmZ5fb9/JTrRZ/C2QBjr3Ij4VcdCLP6z2fzq6i6GotiQrY3C7N6tV6w1lbYmPwmkgQYOrli74BjgOEIrBZcHLgGplxpw9fAzgnFZq8AqXMvS+gf85H1VJEb2rFZ137brue0ufPwxzMx0+Xm+vUfB/furq3MVje2H/3wt3zU2Ezhmq1t7T3+5Z96BlLfnjp7ed2OJjBz/y+OH21vmjG7d+5+sf/sUkyg6ezlMrSXbID2OXhneHHfxzL/1vloEvDtxfFXW+umAuDW3sFvb/yPXU0iNJVcZ/Olmrt7M3VJ3ZzC9U/ufeMW6e226d7dq9cTgmEpgKGPZmJjGLCNHBOBJ4MV3ORhMoDPL8RAzPdX50/cWWAi8PTVtf/wtxOBwTjPBXj95sV3e6aWuY2NJ392Ikce+YEItHMG+obCy6fD7r3Gbr2miEQgAlMAF3IK5wCUyjJ1ts/fe6cZ9KwwZZ9d9DVuxuC2kWyvtOdXctDMEk7hbID29Bm7yo2HX117rm/Ykplz0t5EzK3q3NZEbw7gjS2KP3Qja5rZH5ZyCodOrs71p//0GQEcj8Db4Cnc8o5faXMBysNS0FY5gIv41rmgwFF81HJiToEU6gpgSCfiNQAjkEJNAAzpRLwGYARSqAmAIZ2I1wCMQAo1KQeQ1DkUB4t8rZyYm0gVQCUsgAAqBZTdiUAAlQLK7kQggJECpM6RUJM346RVEgMIoFJA2Z0IBFApoOxOBAKoFFB2LycCSZ2VoZKtezkxl41MvhGA0iN5C8BkMtkBQOmRvAVgMpnsAKD0SN4CMJlMdigHkNRZHvnlbZUTcxMZA6iEBRBApYCyOxEIoFJA2Z0IBDBSgNQ5EmryZpy0SmIAAVQKKLsTgQAqBZTdiUAAlQLK7uVEIKmzMlSydS8n5rKRyTcCUHokbwGYTCY7ACg9krcATCaTHQCUHslbACaTyQ7lAJI6yyO/vK1yYm4iYwCVsAACqBRQdicCAVQKKLsTgQBGCpA6R0JN3oyTVkkMIIBKAWV3IhBApYCyOxEIoFJA2b2cCCR1VoZKtu7lxFw2MvlGAEqP5C0Ak8lkBwClR/IWgMlksgOA0iN5C8BkMtmhHEBSZ3nkl7dVTsxNZAygEhZAAJUCyu5EIIBKAWV3IhDASAFS50ioyZtx0iqJAQRQKaDsTgQCqBRQdicCAVQKKLuXE4GkzspQyda9nJjLRibfCEDpkbwFYDKZ7ACg9EjeAjCZTHYAUHokbwGYTCY7lAOYM3X+9cUZfxBAAAEEEEAAAQQKFJC59Ae7lS11/mCF+GAIIIAAAggggAACCFgBUmcCAQEEEEAAAQQQQACBKAFS5ygmGiGAAAIIIIAAAgggQOpMDCCAAAIIIIAAAgggECVA6hzFRCMEEEAAAQQQQAABBEidiQEEEEAAAQQQQAABBKIESJ2jmGiEAAIIIIAAAggggACpMzGAAAIIIIAAAggggECUAKlzFBONEEAAAQQQQAABBBAgdSYGEEAAAQQQQAABBBCIEiB1jmKiEQIIIIAAAggggAACpM7EAAIIIIAAAggggAACUQKkzlFMNEIAAQQQQAABBBBAgNSZGEAAAQQQQAABBBBAIEqA1DmKiUYIIIAAAggggAACCJA6EwMIIIAAAggggAACCEQJkDpHMdEIAQQQQAABBBBAAAFSZ2IAAQQQQAABBBBAAIEoAVLnKCYaIYAAAggggAACCCBA6kwMIIAAAggggAACCCAQJfA/HUY3cgkRlY4AAAAASUVORK5CYII=)"
   ]
  },
  {
   "cell_type": "code",
   "execution_count": 153,
   "metadata": {
    "colab": {
     "base_uri": "https://localhost:8080/",
     "height": 394
    },
    "executionInfo": {
     "elapsed": 21,
     "status": "ok",
     "timestamp": 1756309873875,
     "user": {
      "displayName": "Maria Averkina",
      "userId": "01722641797731955161"
     },
     "user_tz": 420
    },
    "id": "THcquuciGERL",
    "outputId": "d515f260-0259-4988-bce1-2af7315f9de5"
   },
   "outputs": [
    {
     "data": {
      "text/html": [
       "<div>\n",
       "<style scoped>\n",
       "    .dataframe tbody tr th:only-of-type {\n",
       "        vertical-align: middle;\n",
       "    }\n",
       "\n",
       "    .dataframe tbody tr th {\n",
       "        vertical-align: top;\n",
       "    }\n",
       "\n",
       "    .dataframe thead th {\n",
       "        text-align: right;\n",
       "    }\n",
       "</style>\n",
       "<table border=\"1\" class=\"dataframe\">\n",
       "  <thead>\n",
       "    <tr style=\"text-align: right;\">\n",
       "      <th></th>\n",
       "      <th>count</th>\n",
       "      <th>population</th>\n",
       "      <th>on_100k</th>\n",
       "    </tr>\n",
       "    <tr>\n",
       "      <th>year</th>\n",
       "      <th></th>\n",
       "      <th></th>\n",
       "      <th></th>\n",
       "    </tr>\n",
       "  </thead>\n",
       "  <tbody>\n",
       "    <tr>\n",
       "      <th>2015</th>\n",
       "      <td>6643</td>\n",
       "      <td>72</td>\n",
       "      <td>92.26</td>\n",
       "    </tr>\n",
       "    <tr>\n",
       "      <th>2016</th>\n",
       "      <td>5794</td>\n",
       "      <td>73</td>\n",
       "      <td>79.37</td>\n",
       "    </tr>\n",
       "    <tr>\n",
       "      <th>2017</th>\n",
       "      <td>5747</td>\n",
       "      <td>74</td>\n",
       "      <td>77.66</td>\n",
       "    </tr>\n",
       "    <tr>\n",
       "      <th>2018</th>\n",
       "      <td>5102</td>\n",
       "      <td>75</td>\n",
       "      <td>68.03</td>\n",
       "    </tr>\n",
       "    <tr>\n",
       "      <th>2019</th>\n",
       "      <td>5111</td>\n",
       "      <td>76</td>\n",
       "      <td>67.25</td>\n",
       "    </tr>\n",
       "    <tr>\n",
       "      <th>2020</th>\n",
       "      <td>4216</td>\n",
       "      <td>77</td>\n",
       "      <td>54.75</td>\n",
       "    </tr>\n",
       "    <tr>\n",
       "      <th>2021</th>\n",
       "      <td>3898</td>\n",
       "      <td>85</td>\n",
       "      <td>45.86</td>\n",
       "    </tr>\n",
       "    <tr>\n",
       "      <th>2022</th>\n",
       "      <td>3353</td>\n",
       "      <td>85</td>\n",
       "      <td>39.45</td>\n",
       "    </tr>\n",
       "    <tr>\n",
       "      <th>2023</th>\n",
       "      <td>3372</td>\n",
       "      <td>86</td>\n",
       "      <td>39.21</td>\n",
       "    </tr>\n",
       "    <tr>\n",
       "      <th>2024</th>\n",
       "      <td>2382</td>\n",
       "      <td>87</td>\n",
       "      <td>27.38</td>\n",
       "    </tr>\n",
       "  </tbody>\n",
       "</table>\n",
       "</div>"
      ],
      "text/plain": [
       "      count  population  on_100k\n",
       "year                            \n",
       "2015   6643          72    92.26\n",
       "2016   5794          73    79.37\n",
       "2017   5747          74    77.66\n",
       "2018   5102          75    68.03\n",
       "2019   5111          76    67.25\n",
       "2020   4216          77    54.75\n",
       "2021   3898          85    45.86\n",
       "2022   3353          85    39.45\n",
       "2023   3372          86    39.21\n",
       "2024   2382          87    27.38"
      ]
     },
     "metadata": {},
     "output_type": "display_data"
    }
   ],
   "source": [
    "# Выделяем из общей даты год\n",
    "moscowskaya_oblast['year'] = moscowskaya_oblast['datetime'].dt.year\n",
    "\n",
    "#Считаем количество ДТП по годам и сохраняем результат в отдельный датафрейм\n",
    "moscowskaya_oblast_dtp_years = moscowskaya_oblast['year'].value_counts().sort_index().to_frame()\n",
    "\n",
    "\n",
    "# Созраняем столбец с кол-вом населения погадам в сотнях тысяч\n",
    "moscowskaya_oblast_dtp_years['population'] = [72, 73, 74, 75, 76, 77, 85, 85, 86, 87]\n",
    "\n",
    "# Рассчитываем кол-во ДТП на 100 тыс. населения\n",
    "moscowskaya_oblast_dtp_years['on_100k'] = round(moscowskaya_oblast_dtp_years['count']/moscowskaya_oblast_dtp_years['population'], 2)\n",
    "\n",
    "display(moscowskaya_oblast_dtp_years)"
   ]
  },
  {
   "cell_type": "markdown",
   "metadata": {
    "id": "RFdkXeHGGERL"
   },
   "source": [
    "Промежуточные итоги:\n",
    "\n",
    "- Можно заметить, что по пошествию лет снижается кол-во ДТП. Это может быть связано с изменением ПДД, введением новых законов, большей осведомленностью граждан о том, что создает риски аварий на дорогах. Ситуция с кол-вом населения тут противоположная Кировской области: население с каждым годом увеличивалось, а количесвто ДТП уменьшалось."
   ]
  },
  {
   "cell_type": "markdown",
   "metadata": {
    "id": "mk1hihKDgKC3"
   },
   "source": [
    "# Итоговые выводы\n"
   ]
  },
  {
   "cell_type": "markdown",
   "metadata": {
    "id": "PEpg0EDbGERL"
   },
   "source": [
    "- Все пункты предобработки были проведены в соотвествие с планом и к каждому пункту были даны рекомендации по перспективному улучшению хранения данных. С ними можно более подробно познакомиться в Промежуточных итогах каждого пункта.\n",
    "\n",
    "- Рекомендуем более подробно изучить зависимость кол-ва ДТП от месяца и дня недели, если это необходимо. Стоит найти больше доказательств, которые подтвержадли бы или опровергали реальнуб зависимость кол-ва ДТП от месяца или дня недели.\n",
    "\n",
    "- Рекомендуем сделать обязательным к заполнению столбец с водительским стажем, чтобы данные были более полные и зависимость стажа и кол-ва ДТП прослеживалась корректнее.\n",
    "\n",
    "- Можно отметить, что в относительном выражении (на 100 тыс. населения) в Кировской области по всем годам кол-во ДТП больше, чем в Московской области. Тем не менее в обеих областях наблюдается снижение кол-ва ДТП, что является положительным аспектом. Главное не забывать про то, что в Кировской области мы наблюдаем снижение кол-ва населения, в Московской - увеличение."
   ]
  }
 ],
 "metadata": {
  "ExecuteTimeLog": [
   {
    "duration": 54,
    "start_time": "2025-08-01T10:31:02.415Z"
   },
   {
    "duration": 406,
    "start_time": "2025-08-01T10:31:06.133Z"
   },
   {
    "duration": 144,
    "start_time": "2025-08-01T10:31:06.577Z"
   },
   {
    "duration": 9,
    "start_time": "2025-08-01T10:32:52.696Z"
   },
   {
    "duration": 1991,
    "start_time": "2025-08-01T10:35:44.696Z"
   },
   {
    "duration": 1362,
    "start_time": "2025-08-01T10:35:56.279Z"
   },
   {
    "duration": 27,
    "start_time": "2025-08-01T10:38:41.175Z"
   },
   {
    "duration": 17,
    "start_time": "2025-08-01T10:39:07.341Z"
   },
   {
    "duration": 19,
    "start_time": "2025-08-01T10:40:00.610Z"
   },
   {
    "duration": 10,
    "start_time": "2025-08-01T10:40:52.291Z"
   },
   {
    "duration": 9,
    "start_time": "2025-08-01T10:40:54.158Z"
   },
   {
    "duration": 10,
    "start_time": "2025-08-01T10:40:54.439Z"
   },
   {
    "duration": 10,
    "start_time": "2025-08-01T10:40:54.672Z"
   },
   {
    "duration": 10,
    "start_time": "2025-08-01T10:40:57.556Z"
   },
   {
    "duration": 22,
    "start_time": "2025-08-01T10:43:26.423Z"
   },
   {
    "duration": 17,
    "start_time": "2025-08-01T10:43:44.207Z"
   },
   {
    "duration": 21,
    "start_time": "2025-08-01T10:47:35.386Z"
   },
   {
    "duration": 40,
    "start_time": "2025-08-01T11:04:46.249Z"
   },
   {
    "duration": 21,
    "start_time": "2025-08-01T11:05:04.612Z"
   },
   {
    "duration": 37,
    "start_time": "2025-08-01T11:05:05.327Z"
   },
   {
    "duration": 16,
    "start_time": "2025-08-01T11:10:20.824Z"
   },
   {
    "duration": 38,
    "start_time": "2025-08-01T11:10:21.506Z"
   },
   {
    "duration": 18,
    "start_time": "2025-08-01T11:10:53.274Z"
   },
   {
    "duration": 17,
    "start_time": "2025-08-01T11:15:34.620Z"
   },
   {
    "duration": 37,
    "start_time": "2025-08-01T11:15:35.069Z"
   },
   {
    "duration": 10,
    "start_time": "2025-08-01T11:15:43.687Z"
   },
   {
    "duration": 16,
    "start_time": "2025-08-01T11:15:44.302Z"
   },
   {
    "duration": 32,
    "start_time": "2025-08-01T11:18:16.935Z"
   },
   {
    "duration": 10,
    "start_time": "2025-08-01T11:18:30.238Z"
   },
   {
    "duration": 28,
    "start_time": "2025-08-01T11:18:30.803Z"
   },
   {
    "duration": 14,
    "start_time": "2025-08-01T11:21:27.448Z"
   },
   {
    "duration": 23,
    "start_time": "2025-08-01T11:25:58.481Z"
   },
   {
    "duration": 18,
    "start_time": "2025-08-01T11:26:40.002Z"
   },
   {
    "duration": 19,
    "start_time": "2025-08-01T11:26:44.531Z"
   },
   {
    "duration": 10,
    "start_time": "2025-08-01T11:26:44.867Z"
   },
   {
    "duration": 37,
    "start_time": "2025-08-01T11:26:45.315Z"
   },
   {
    "duration": 18,
    "start_time": "2025-08-01T11:26:46.195Z"
   },
   {
    "duration": 14,
    "start_time": "2025-08-01T11:26:46.380Z"
   },
   {
    "duration": 10,
    "start_time": "2025-08-01T11:26:46.743Z"
   },
   {
    "duration": 22,
    "start_time": "2025-08-01T11:26:46.962Z"
   },
   {
    "duration": 3,
    "start_time": "2025-08-01T11:29:29.613Z"
   },
   {
    "duration": 1352,
    "start_time": "2025-08-01T11:29:29.860Z"
   },
   {
    "duration": 17,
    "start_time": "2025-08-01T11:29:31.214Z"
   },
   {
    "duration": 29,
    "start_time": "2025-08-01T11:29:31.233Z"
   },
   {
    "duration": 34,
    "start_time": "2025-08-01T11:29:31.264Z"
   },
   {
    "duration": 68,
    "start_time": "2025-08-01T11:29:31.300Z"
   },
   {
    "duration": 12,
    "start_time": "2025-08-01T11:29:31.662Z"
   },
   {
    "duration": 17,
    "start_time": "2025-08-01T11:29:32.363Z"
   },
   {
    "duration": 10,
    "start_time": "2025-08-01T11:29:32.881Z"
   },
   {
    "duration": 29,
    "start_time": "2025-08-01T11:29:33.196Z"
   },
   {
    "duration": 11,
    "start_time": "2025-08-01T11:29:33.729Z"
   },
   {
    "duration": 16,
    "start_time": "2025-08-01T11:29:33.976Z"
   },
   {
    "duration": 11,
    "start_time": "2025-08-01T11:29:34.527Z"
   },
   {
    "duration": 23,
    "start_time": "2025-08-01T11:29:35.026Z"
   },
   {
    "duration": 34,
    "start_time": "2025-08-01T11:40:30.358Z"
   },
   {
    "duration": 80,
    "start_time": "2025-08-01T11:42:04.762Z"
   },
   {
    "duration": 88,
    "start_time": "2025-08-01T11:42:37.136Z"
   },
   {
    "duration": 87,
    "start_time": "2025-08-01T11:43:58.204Z"
   },
   {
    "duration": 83,
    "start_time": "2025-08-01T11:44:03.839Z"
   },
   {
    "duration": 91,
    "start_time": "2025-08-01T11:44:11.721Z"
   },
   {
    "duration": 451,
    "start_time": "2025-08-01T11:44:21.095Z"
   },
   {
    "duration": 1382,
    "start_time": "2025-08-01T11:44:21.548Z"
   },
   {
    "duration": 24,
    "start_time": "2025-08-01T11:44:22.932Z"
   },
   {
    "duration": 41,
    "start_time": "2025-08-01T11:44:22.958Z"
   },
   {
    "duration": 19,
    "start_time": "2025-08-01T11:44:23.001Z"
   },
   {
    "duration": 56,
    "start_time": "2025-08-01T11:44:23.022Z"
   },
   {
    "duration": 11,
    "start_time": "2025-08-01T11:44:23.079Z"
   },
   {
    "duration": 34,
    "start_time": "2025-08-01T11:44:23.092Z"
   },
   {
    "duration": 10,
    "start_time": "2025-08-01T11:44:23.128Z"
   },
   {
    "duration": 35,
    "start_time": "2025-08-01T11:44:23.140Z"
   },
   {
    "duration": 9,
    "start_time": "2025-08-01T11:44:23.177Z"
   },
   {
    "duration": 15,
    "start_time": "2025-08-01T11:44:23.202Z"
   },
   {
    "duration": 25,
    "start_time": "2025-08-01T11:44:23.219Z"
   },
   {
    "duration": 35,
    "start_time": "2025-08-01T11:44:23.246Z"
   },
   {
    "duration": 86,
    "start_time": "2025-08-01T11:44:23.283Z"
   },
   {
    "duration": 31,
    "start_time": "2025-08-01T11:45:02.648Z"
   },
   {
    "duration": 402,
    "start_time": "2025-08-01T12:36:38.742Z"
   },
   {
    "duration": 1398,
    "start_time": "2025-08-01T12:36:39.146Z"
   },
   {
    "duration": 25,
    "start_time": "2025-08-01T12:36:40.546Z"
   },
   {
    "duration": 28,
    "start_time": "2025-08-01T12:36:40.573Z"
   },
   {
    "duration": 17,
    "start_time": "2025-08-01T12:36:40.603Z"
   },
   {
    "duration": 122,
    "start_time": "2025-08-01T12:36:40.622Z"
   },
   {
    "duration": 10,
    "start_time": "2025-08-01T12:36:40.745Z"
   },
   {
    "duration": 18,
    "start_time": "2025-08-01T12:36:40.757Z"
   },
   {
    "duration": 24,
    "start_time": "2025-08-01T12:36:40.777Z"
   },
   {
    "duration": 32,
    "start_time": "2025-08-01T12:36:40.804Z"
   },
   {
    "duration": 10,
    "start_time": "2025-08-01T12:36:40.838Z"
   },
   {
    "duration": 137,
    "start_time": "2025-08-01T12:36:40.850Z"
   },
   {
    "duration": 14,
    "start_time": "2025-08-01T12:36:40.989Z"
   },
   {
    "duration": 25,
    "start_time": "2025-08-01T12:36:41.005Z"
   },
   {
    "duration": 29,
    "start_time": "2025-08-01T12:36:41.032Z"
   },
   {
    "duration": 19,
    "start_time": "2025-08-01T12:42:52.468Z"
   },
   {
    "duration": 18,
    "start_time": "2025-08-01T12:49:36.386Z"
   },
   {
    "duration": 19,
    "start_time": "2025-08-01T12:49:47.613Z"
   },
   {
    "duration": 16,
    "start_time": "2025-08-01T12:51:40.079Z"
   },
   {
    "duration": 18,
    "start_time": "2025-08-01T12:52:09.328Z"
   },
   {
    "duration": 433,
    "start_time": "2025-08-01T13:28:24.163Z"
   },
   {
    "duration": 1402,
    "start_time": "2025-08-01T13:28:24.598Z"
   },
   {
    "duration": 24,
    "start_time": "2025-08-01T13:28:26.001Z"
   },
   {
    "duration": 31,
    "start_time": "2025-08-01T13:28:26.027Z"
   },
   {
    "duration": 17,
    "start_time": "2025-08-01T13:28:26.059Z"
   },
   {
    "duration": 58,
    "start_time": "2025-08-01T13:28:26.078Z"
   },
   {
    "duration": 11,
    "start_time": "2025-08-01T13:28:26.138Z"
   },
   {
    "duration": 47,
    "start_time": "2025-08-01T13:28:26.151Z"
   },
   {
    "duration": 14,
    "start_time": "2025-08-01T13:28:26.200Z"
   },
   {
    "duration": 32,
    "start_time": "2025-08-01T13:28:26.218Z"
   },
   {
    "duration": 10,
    "start_time": "2025-08-01T13:28:26.251Z"
   },
   {
    "duration": 46,
    "start_time": "2025-08-01T13:28:26.263Z"
   },
   {
    "duration": 9,
    "start_time": "2025-08-01T13:28:26.311Z"
   },
   {
    "duration": 54,
    "start_time": "2025-08-01T13:28:26.322Z"
   },
   {
    "duration": 106,
    "start_time": "2025-08-01T13:28:26.378Z"
   },
   {
    "duration": 15,
    "start_time": "2025-08-01T13:28:26.486Z"
   },
   {
    "duration": 27,
    "start_time": "2025-08-01T13:28:26.503Z"
   },
   {
    "duration": 10,
    "start_time": "2025-08-01T13:31:24.298Z"
   },
   {
    "duration": 69,
    "start_time": "2025-08-01T13:31:50.064Z"
   },
   {
    "duration": 8,
    "start_time": "2025-08-01T13:32:40.479Z"
   },
   {
    "duration": 438,
    "start_time": "2025-08-01T13:52:43.984Z"
   },
   {
    "duration": 1364,
    "start_time": "2025-08-01T13:52:44.424Z"
   },
   {
    "duration": 29,
    "start_time": "2025-08-01T13:52:45.790Z"
   },
   {
    "duration": 21,
    "start_time": "2025-08-01T13:52:45.822Z"
   },
   {
    "duration": 18,
    "start_time": "2025-08-01T13:52:45.845Z"
   },
   {
    "duration": 100,
    "start_time": "2025-08-01T13:52:45.865Z"
   },
   {
    "duration": 9,
    "start_time": "2025-08-01T13:52:45.967Z"
   },
   {
    "duration": 42,
    "start_time": "2025-08-01T13:52:45.978Z"
   },
   {
    "duration": 10,
    "start_time": "2025-08-01T13:52:46.022Z"
   },
   {
    "duration": 42,
    "start_time": "2025-08-01T13:52:46.035Z"
   },
   {
    "duration": 36,
    "start_time": "2025-08-01T13:52:46.079Z"
   },
   {
    "duration": 48,
    "start_time": "2025-08-01T13:52:46.117Z"
   },
   {
    "duration": 30,
    "start_time": "2025-08-01T13:52:46.167Z"
   },
   {
    "duration": 26,
    "start_time": "2025-08-01T13:52:46.199Z"
   },
   {
    "duration": 31,
    "start_time": "2025-08-01T13:52:46.227Z"
   },
   {
    "duration": 20,
    "start_time": "2025-08-01T13:52:46.260Z"
   },
   {
    "duration": 26,
    "start_time": "2025-08-01T13:52:46.282Z"
   },
   {
    "duration": 24,
    "start_time": "2025-08-01T13:52:46.310Z"
   },
   {
    "duration": 70,
    "start_time": "2025-08-01T13:53:08.390Z"
   },
   {
    "duration": 8,
    "start_time": "2025-08-01T13:53:28.500Z"
   },
   {
    "duration": 8,
    "start_time": "2025-08-01T13:53:56.983Z"
   },
   {
    "duration": 9,
    "start_time": "2025-08-01T13:55:26.816Z"
   },
   {
    "duration": 3,
    "start_time": "2025-08-01T13:55:33.255Z"
   },
   {
    "duration": 94,
    "start_time": "2025-08-14T13:24:01.922Z"
   },
   {
    "duration": 128,
    "start_time": "2025-08-14T13:24:21.697Z"
   },
   {
    "duration": 42,
    "start_time": "2025-08-14T13:24:30.814Z"
   },
   {
    "duration": 395,
    "start_time": "2025-08-14T13:24:36.100Z"
   },
   {
    "duration": 2137,
    "start_time": "2025-08-14T13:24:36.497Z"
   },
   {
    "duration": 20,
    "start_time": "2025-08-14T13:24:38.635Z"
   },
   {
    "duration": 17,
    "start_time": "2025-08-14T13:24:38.657Z"
   },
   {
    "duration": 15,
    "start_time": "2025-08-14T13:24:38.675Z"
   },
   {
    "duration": 59,
    "start_time": "2025-08-14T13:24:38.691Z"
   },
   {
    "duration": 9,
    "start_time": "2025-08-14T13:24:38.751Z"
   },
   {
    "duration": 137,
    "start_time": "2025-08-14T13:24:38.761Z"
   },
   {
    "duration": 22,
    "start_time": "2025-08-14T13:24:38.899Z"
   },
   {
    "duration": 38,
    "start_time": "2025-08-14T13:24:38.923Z"
   },
   {
    "duration": 19,
    "start_time": "2025-08-14T13:24:38.962Z"
   },
   {
    "duration": 13,
    "start_time": "2025-08-14T13:24:38.983Z"
   },
   {
    "duration": 8,
    "start_time": "2025-08-14T13:24:38.998Z"
   },
   {
    "duration": 22,
    "start_time": "2025-08-14T13:24:39.008Z"
   },
   {
    "duration": 25,
    "start_time": "2025-08-14T13:24:39.031Z"
   },
   {
    "duration": 37,
    "start_time": "2025-08-14T13:24:39.058Z"
   },
   {
    "duration": 14,
    "start_time": "2025-08-14T13:24:39.097Z"
   },
   {
    "duration": 81,
    "start_time": "2025-08-14T13:24:39.112Z"
   },
   {
    "duration": 15,
    "start_time": "2025-08-14T13:25:34.481Z"
   },
   {
    "duration": 10,
    "start_time": "2025-08-14T13:26:58.694Z"
   },
   {
    "duration": 4,
    "start_time": "2025-08-14T13:27:20.948Z"
   },
   {
    "duration": 16,
    "start_time": "2025-08-14T13:28:19.645Z"
   },
   {
    "duration": 431,
    "start_time": "2025-08-14T13:28:33.975Z"
   },
   {
    "duration": 1222,
    "start_time": "2025-08-14T13:28:34.408Z"
   },
   {
    "duration": 21,
    "start_time": "2025-08-14T13:28:35.632Z"
   },
   {
    "duration": 22,
    "start_time": "2025-08-14T13:28:35.655Z"
   },
   {
    "duration": 14,
    "start_time": "2025-08-14T13:28:35.689Z"
   },
   {
    "duration": 90,
    "start_time": "2025-08-14T13:28:35.704Z"
   },
   {
    "duration": 8,
    "start_time": "2025-08-14T13:28:35.796Z"
   },
   {
    "duration": 14,
    "start_time": "2025-08-14T13:28:35.806Z"
   },
   {
    "duration": 25,
    "start_time": "2025-08-14T13:28:35.822Z"
   },
   {
    "duration": 39,
    "start_time": "2025-08-14T13:28:35.849Z"
   },
   {
    "duration": 25,
    "start_time": "2025-08-14T13:28:35.889Z"
   },
   {
    "duration": 51,
    "start_time": "2025-08-14T13:28:35.916Z"
   },
   {
    "duration": 9,
    "start_time": "2025-08-14T13:28:35.969Z"
   },
   {
    "duration": 35,
    "start_time": "2025-08-14T13:28:35.980Z"
   },
   {
    "duration": 191,
    "start_time": "2025-08-14T13:28:36.017Z"
   },
   {
    "duration": 18,
    "start_time": "2025-08-14T13:28:36.210Z"
   },
   {
    "duration": 70,
    "start_time": "2025-08-14T13:28:36.230Z"
   },
   {
    "duration": 147,
    "start_time": "2025-08-14T13:28:36.302Z"
   },
   {
    "duration": 98,
    "start_time": "2025-08-14T13:28:36.451Z"
   },
   {
    "duration": 14,
    "start_time": "2025-08-14T13:30:36.833Z"
   },
   {
    "duration": 5,
    "start_time": "2025-08-14T13:30:47.727Z"
   },
   {
    "duration": 21,
    "start_time": "2025-08-14T13:32:10.513Z"
   },
   {
    "duration": 82,
    "start_time": "2025-08-14T13:34:11.940Z"
   },
   {
    "duration": 31,
    "start_time": "2025-08-14T13:34:17.462Z"
   },
   {
    "duration": 5,
    "start_time": "2025-08-14T13:34:54.262Z"
   },
   {
    "duration": 10,
    "start_time": "2025-08-14T13:35:41.574Z"
   },
   {
    "duration": 9,
    "start_time": "2025-08-14T13:35:55.485Z"
   },
   {
    "duration": 25,
    "start_time": "2025-08-14T13:37:25.867Z"
   },
   {
    "duration": 32,
    "start_time": "2025-08-14T13:37:37.955Z"
   },
   {
    "duration": 44,
    "start_time": "2025-08-14T13:40:57.742Z"
   },
   {
    "duration": 430,
    "start_time": "2025-08-14T13:41:11.219Z"
   },
   {
    "duration": 2107,
    "start_time": "2025-08-14T13:41:11.651Z"
   },
   {
    "duration": 21,
    "start_time": "2025-08-14T13:41:13.759Z"
   },
   {
    "duration": 20,
    "start_time": "2025-08-14T13:41:13.782Z"
   },
   {
    "duration": 14,
    "start_time": "2025-08-14T13:41:13.803Z"
   },
   {
    "duration": 38,
    "start_time": "2025-08-14T13:41:13.818Z"
   },
   {
    "duration": 8,
    "start_time": "2025-08-14T13:41:13.858Z"
   },
   {
    "duration": 103,
    "start_time": "2025-08-14T13:41:13.867Z"
   },
   {
    "duration": 107,
    "start_time": "2025-08-14T13:41:13.971Z"
   },
   {
    "duration": 115,
    "start_time": "2025-08-14T13:41:14.080Z"
   },
   {
    "duration": 8,
    "start_time": "2025-08-14T13:41:14.196Z"
   },
   {
    "duration": 25,
    "start_time": "2025-08-14T13:41:14.206Z"
   },
   {
    "duration": 8,
    "start_time": "2025-08-14T13:41:14.232Z"
   },
   {
    "duration": 21,
    "start_time": "2025-08-14T13:41:14.241Z"
   },
   {
    "duration": 33,
    "start_time": "2025-08-14T13:41:14.264Z"
   },
   {
    "duration": 13,
    "start_time": "2025-08-14T13:41:14.298Z"
   },
   {
    "duration": 15,
    "start_time": "2025-08-14T13:41:14.313Z"
   },
   {
    "duration": 105,
    "start_time": "2025-08-14T13:41:14.329Z"
   },
   {
    "duration": 97,
    "start_time": "2025-08-14T13:41:14.435Z"
   },
   {
    "duration": 11,
    "start_time": "2025-08-14T13:41:47.373Z"
   },
   {
    "duration": 14,
    "start_time": "2025-08-14T13:45:02.319Z"
   },
   {
    "duration": 12,
    "start_time": "2025-08-14T13:45:23.595Z"
   },
   {
    "duration": 6,
    "start_time": "2025-08-14T13:45:57.365Z"
   },
   {
    "duration": 10,
    "start_time": "2025-08-14T13:48:25.229Z"
   },
   {
    "duration": 10,
    "start_time": "2025-08-14T13:48:53.817Z"
   },
   {
    "duration": 1281,
    "start_time": "2025-08-14T13:52:53.397Z"
   },
   {
    "duration": 27,
    "start_time": "2025-08-14T13:53:11.115Z"
   },
   {
    "duration": 25,
    "start_time": "2025-08-14T14:01:09.315Z"
   },
   {
    "duration": 350,
    "start_time": "2025-08-14T14:04:44.033Z"
   },
   {
    "duration": 1195,
    "start_time": "2025-08-14T14:04:44.385Z"
   },
   {
    "duration": 20,
    "start_time": "2025-08-14T14:04:45.582Z"
   },
   {
    "duration": 18,
    "start_time": "2025-08-14T14:04:45.604Z"
   },
   {
    "duration": 14,
    "start_time": "2025-08-14T14:04:45.623Z"
   },
   {
    "duration": 54,
    "start_time": "2025-08-14T14:04:45.638Z"
   },
   {
    "duration": 8,
    "start_time": "2025-08-14T14:04:45.694Z"
   },
   {
    "duration": 91,
    "start_time": "2025-08-14T14:04:45.703Z"
   },
   {
    "duration": 8,
    "start_time": "2025-08-14T14:04:45.795Z"
   },
   {
    "duration": 28,
    "start_time": "2025-08-14T14:04:45.805Z"
   },
   {
    "duration": 8,
    "start_time": "2025-08-14T14:04:45.834Z"
   },
   {
    "duration": 27,
    "start_time": "2025-08-14T14:04:45.843Z"
   },
   {
    "duration": 8,
    "start_time": "2025-08-14T14:04:45.872Z"
   },
   {
    "duration": 19,
    "start_time": "2025-08-14T14:04:45.889Z"
   },
   {
    "duration": 25,
    "start_time": "2025-08-14T14:04:45.910Z"
   },
   {
    "duration": 12,
    "start_time": "2025-08-14T14:04:45.937Z"
   },
   {
    "duration": 17,
    "start_time": "2025-08-14T14:04:45.951Z"
   },
   {
    "duration": 14,
    "start_time": "2025-08-14T14:04:45.990Z"
   },
   {
    "duration": 37,
    "start_time": "2025-08-14T14:04:46.005Z"
   },
   {
    "duration": 43,
    "start_time": "2025-08-14T14:04:46.044Z"
   },
   {
    "duration": 450,
    "start_time": "2025-08-21T12:59:05.712Z"
   },
   {
    "duration": 4729,
    "start_time": "2025-08-21T12:59:06.164Z"
   },
   {
    "duration": 29,
    "start_time": "2025-08-21T12:59:10.894Z"
   },
   {
    "duration": 20,
    "start_time": "2025-08-21T12:59:10.925Z"
   },
   {
    "duration": 32,
    "start_time": "2025-08-21T12:59:10.947Z"
   },
   {
    "duration": 62,
    "start_time": "2025-08-21T12:59:10.980Z"
   },
   {
    "duration": 10,
    "start_time": "2025-08-21T12:59:11.044Z"
   },
   {
    "duration": 18,
    "start_time": "2025-08-21T12:59:11.055Z"
   },
   {
    "duration": 9,
    "start_time": "2025-08-21T12:59:11.075Z"
   },
   {
    "duration": 137,
    "start_time": "2025-08-21T12:59:11.086Z"
   },
   {
    "duration": 13,
    "start_time": "2025-08-21T12:59:11.224Z"
   },
   {
    "duration": 24,
    "start_time": "2025-08-21T12:59:11.239Z"
   },
   {
    "duration": 17,
    "start_time": "2025-08-21T12:59:11.265Z"
   },
   {
    "duration": 27,
    "start_time": "2025-08-21T12:59:11.283Z"
   },
   {
    "duration": 43,
    "start_time": "2025-08-21T12:59:11.311Z"
   },
   {
    "duration": 19,
    "start_time": "2025-08-21T12:59:11.355Z"
   },
   {
    "duration": 36,
    "start_time": "2025-08-21T12:59:11.377Z"
   },
   {
    "duration": 48,
    "start_time": "2025-08-21T12:59:11.415Z"
   },
   {
    "duration": 133,
    "start_time": "2025-08-21T12:59:11.465Z"
   },
   {
    "duration": 28,
    "start_time": "2025-08-21T12:59:11.600Z"
   },
   {
    "duration": 65,
    "start_time": "2025-08-21T13:06:51.219Z"
   },
   {
    "duration": 67,
    "start_time": "2025-08-21T13:07:05.134Z"
   },
   {
    "duration": 49,
    "start_time": "2025-08-21T13:07:18.287Z"
   },
   {
    "duration": 63,
    "start_time": "2025-08-21T13:09:22.550Z"
   },
   {
    "duration": 1409,
    "start_time": "2025-08-21T13:11:54.415Z"
   },
   {
    "duration": 1408,
    "start_time": "2025-08-21T13:14:40.346Z"
   },
   {
    "duration": 89,
    "start_time": "2025-08-21T13:15:05.363Z"
   },
   {
    "duration": 11,
    "start_time": "2025-08-21T13:31:51.938Z"
   },
   {
    "duration": 14,
    "start_time": "2025-08-21T13:32:10.271Z"
   },
   {
    "duration": 13,
    "start_time": "2025-08-21T13:32:26.236Z"
   },
   {
    "duration": 81,
    "start_time": "2025-08-21T13:34:36.195Z"
   },
   {
    "duration": 15,
    "start_time": "2025-08-21T13:35:30.864Z"
   },
   {
    "duration": 87,
    "start_time": "2025-08-21T13:36:43.915Z"
   },
   {
    "duration": 13,
    "start_time": "2025-08-21T13:36:45.396Z"
   },
   {
    "duration": 9,
    "start_time": "2025-08-21T13:39:31.910Z"
   },
   {
    "duration": 50,
    "start_time": "2025-08-21T13:40:50.993Z"
   },
   {
    "duration": 391,
    "start_time": "2025-08-21T13:58:18.669Z"
   },
   {
    "duration": 1266,
    "start_time": "2025-08-21T13:58:19.062Z"
   },
   {
    "duration": 23,
    "start_time": "2025-08-21T13:58:20.329Z"
   },
   {
    "duration": 20,
    "start_time": "2025-08-21T13:58:20.354Z"
   },
   {
    "duration": 16,
    "start_time": "2025-08-21T13:58:20.376Z"
   },
   {
    "duration": 67,
    "start_time": "2025-08-21T13:58:20.394Z"
   },
   {
    "duration": 10,
    "start_time": "2025-08-21T13:58:20.462Z"
   },
   {
    "duration": 35,
    "start_time": "2025-08-21T13:58:20.473Z"
   },
   {
    "duration": 12,
    "start_time": "2025-08-21T13:58:20.510Z"
   },
   {
    "duration": 133,
    "start_time": "2025-08-21T13:58:20.525Z"
   },
   {
    "duration": 107,
    "start_time": "2025-08-21T13:58:20.660Z"
   },
   {
    "duration": 13,
    "start_time": "2025-08-21T13:58:20.769Z"
   },
   {
    "duration": 10,
    "start_time": "2025-08-21T13:58:20.784Z"
   },
   {
    "duration": 22,
    "start_time": "2025-08-21T13:58:20.795Z"
   },
   {
    "duration": 41,
    "start_time": "2025-08-21T13:58:20.819Z"
   },
   {
    "duration": 14,
    "start_time": "2025-08-21T13:58:20.862Z"
   },
   {
    "duration": 18,
    "start_time": "2025-08-21T13:58:20.878Z"
   },
   {
    "duration": 58,
    "start_time": "2025-08-21T13:58:20.898Z"
   },
   {
    "duration": 43,
    "start_time": "2025-08-21T13:58:20.957Z"
   },
   {
    "duration": 29,
    "start_time": "2025-08-21T13:58:21.002Z"
   },
   {
    "duration": 139,
    "start_time": "2025-08-21T13:58:21.033Z"
   },
   {
    "duration": 15,
    "start_time": "2025-08-21T13:58:21.174Z"
   },
   {
    "duration": 110,
    "start_time": "2025-08-21T13:58:21.190Z"
   },
   {
    "duration": 36,
    "start_time": "2025-08-21T14:02:33.737Z"
   },
   {
    "duration": 461,
    "start_time": "2025-08-21T14:33:49.910Z"
   },
   {
    "duration": 1341,
    "start_time": "2025-08-21T14:33:50.372Z"
   },
   {
    "duration": 32,
    "start_time": "2025-08-21T14:33:51.715Z"
   },
   {
    "duration": 30,
    "start_time": "2025-08-21T14:33:51.749Z"
   },
   {
    "duration": 27,
    "start_time": "2025-08-21T14:33:51.781Z"
   },
   {
    "duration": 69,
    "start_time": "2025-08-21T14:33:51.810Z"
   },
   {
    "duration": 10,
    "start_time": "2025-08-21T14:33:51.881Z"
   },
   {
    "duration": 19,
    "start_time": "2025-08-21T14:33:51.893Z"
   },
   {
    "duration": 23,
    "start_time": "2025-08-21T14:33:51.914Z"
   },
   {
    "duration": 35,
    "start_time": "2025-08-21T14:33:51.941Z"
   },
   {
    "duration": 155,
    "start_time": "2025-08-21T14:33:51.978Z"
   },
   {
    "duration": 36,
    "start_time": "2025-08-21T14:33:52.135Z"
   },
   {
    "duration": 9,
    "start_time": "2025-08-21T14:33:52.173Z"
   },
   {
    "duration": 33,
    "start_time": "2025-08-21T14:33:52.184Z"
   },
   {
    "duration": 42,
    "start_time": "2025-08-21T14:33:52.219Z"
   },
   {
    "duration": 19,
    "start_time": "2025-08-21T14:33:52.263Z"
   },
   {
    "duration": 122,
    "start_time": "2025-08-21T14:33:52.284Z"
   },
   {
    "duration": 84,
    "start_time": "2025-08-21T14:33:52.408Z"
   },
   {
    "duration": 30,
    "start_time": "2025-08-21T14:33:52.495Z"
   },
   {
    "duration": 39,
    "start_time": "2025-08-21T14:33:52.528Z"
   },
   {
    "duration": 108,
    "start_time": "2025-08-21T14:33:52.570Z"
   },
   {
    "duration": 13,
    "start_time": "2025-08-21T14:33:52.680Z"
   },
   {
    "duration": 87,
    "start_time": "2025-08-21T14:33:52.694Z"
   },
   {
    "duration": 58,
    "start_time": "2025-08-21T14:33:52.783Z"
   },
   {
    "duration": 12,
    "start_time": "2025-08-21T14:43:48.547Z"
   },
   {
    "duration": 11,
    "start_time": "2025-08-21T14:44:02.465Z"
   },
   {
    "duration": 11,
    "start_time": "2025-08-21T14:45:30.844Z"
   },
   {
    "duration": 74,
    "start_time": "2025-08-21T14:46:03.449Z"
   },
   {
    "duration": 11,
    "start_time": "2025-08-21T14:46:12.380Z"
   },
   {
    "duration": 6,
    "start_time": "2025-08-21T14:46:29.728Z"
   },
   {
    "duration": 8,
    "start_time": "2025-08-21T14:46:38.934Z"
   },
   {
    "duration": 9,
    "start_time": "2025-08-21T14:46:45.694Z"
   },
   {
    "duration": 6,
    "start_time": "2025-08-21T14:47:18.074Z"
   },
   {
    "duration": 25,
    "start_time": "2025-08-21T14:50:56.632Z"
   },
   {
    "duration": 17,
    "start_time": "2025-08-21T14:51:05.564Z"
   },
   {
    "duration": 399,
    "start_time": "2025-08-21T14:51:26.858Z"
   },
   {
    "duration": 1346,
    "start_time": "2025-08-21T14:51:27.259Z"
   },
   {
    "duration": 28,
    "start_time": "2025-08-21T14:51:28.607Z"
   },
   {
    "duration": 23,
    "start_time": "2025-08-21T14:51:28.637Z"
   },
   {
    "duration": 53,
    "start_time": "2025-08-21T14:51:28.662Z"
   },
   {
    "duration": 124,
    "start_time": "2025-08-21T14:51:28.717Z"
   },
   {
    "duration": 102,
    "start_time": "2025-08-21T14:51:28.843Z"
   },
   {
    "duration": 42,
    "start_time": "2025-08-21T14:51:28.946Z"
   },
   {
    "duration": 31,
    "start_time": "2025-08-21T14:51:28.989Z"
   },
   {
    "duration": 38,
    "start_time": "2025-08-21T14:51:29.021Z"
   },
   {
    "duration": 76,
    "start_time": "2025-08-21T14:51:29.061Z"
   },
   {
    "duration": 58,
    "start_time": "2025-08-21T14:51:29.139Z"
   },
   {
    "duration": 9,
    "start_time": "2025-08-21T14:51:29.200Z"
   },
   {
    "duration": 47,
    "start_time": "2025-08-21T14:51:29.212Z"
   },
   {
    "duration": 30,
    "start_time": "2025-08-21T14:51:29.261Z"
   },
   {
    "duration": 23,
    "start_time": "2025-08-21T14:51:29.293Z"
   },
   {
    "duration": 26,
    "start_time": "2025-08-21T14:51:29.334Z"
   },
   {
    "duration": 32,
    "start_time": "2025-08-21T14:51:29.363Z"
   },
   {
    "duration": 55,
    "start_time": "2025-08-21T14:51:29.397Z"
   },
   {
    "duration": 31,
    "start_time": "2025-08-21T14:51:29.453Z"
   },
   {
    "duration": 201,
    "start_time": "2025-08-21T14:51:29.486Z"
   },
   {
    "duration": 48,
    "start_time": "2025-08-21T14:51:29.689Z"
   },
   {
    "duration": 157,
    "start_time": "2025-08-21T14:51:29.739Z"
   },
   {
    "duration": 48,
    "start_time": "2025-08-21T14:51:29.898Z"
   },
   {
    "duration": 12,
    "start_time": "2025-08-21T14:51:29.947Z"
   },
   {
    "duration": 7,
    "start_time": "2025-08-21T14:51:29.960Z"
   },
   {
    "duration": 7,
    "start_time": "2025-08-21T14:51:29.968Z"
   },
   {
    "duration": 24,
    "start_time": "2025-08-21T14:54:12.925Z"
   },
   {
    "duration": 15,
    "start_time": "2025-08-21T14:54:46.014Z"
   },
   {
    "duration": 17,
    "start_time": "2025-08-21T14:55:02.711Z"
   },
   {
    "duration": 87,
    "start_time": "2025-08-21T15:03:05.306Z"
   },
   {
    "duration": 23,
    "start_time": "2025-08-21T15:03:15.723Z"
   },
   {
    "duration": 28,
    "start_time": "2025-08-21T15:03:59.188Z"
   },
   {
    "duration": 40,
    "start_time": "2025-08-21T15:04:43.643Z"
   },
   {
    "duration": 28,
    "start_time": "2025-08-21T15:05:04.808Z"
   },
   {
    "duration": 42,
    "start_time": "2025-08-21T15:05:44.822Z"
   },
   {
    "duration": 49,
    "start_time": "2025-08-21T15:08:37.967Z"
   },
   {
    "duration": 36,
    "start_time": "2025-08-21T15:10:41.038Z"
   },
   {
    "duration": 424,
    "start_time": "2025-08-21T15:10:47.157Z"
   },
   {
    "duration": 1471,
    "start_time": "2025-08-21T15:10:47.583Z"
   },
   {
    "duration": 25,
    "start_time": "2025-08-21T15:10:49.056Z"
   },
   {
    "duration": 21,
    "start_time": "2025-08-21T15:10:49.083Z"
   },
   {
    "duration": 38,
    "start_time": "2025-08-21T15:10:49.107Z"
   },
   {
    "duration": 50,
    "start_time": "2025-08-21T15:10:49.146Z"
   },
   {
    "duration": 10,
    "start_time": "2025-08-21T15:10:49.198Z"
   },
   {
    "duration": 45,
    "start_time": "2025-08-21T15:10:49.210Z"
   },
   {
    "duration": 17,
    "start_time": "2025-08-21T15:10:49.257Z"
   },
   {
    "duration": 29,
    "start_time": "2025-08-21T15:10:49.276Z"
   },
   {
    "duration": 30,
    "start_time": "2025-08-21T15:10:49.307Z"
   },
   {
    "duration": 17,
    "start_time": "2025-08-21T15:10:49.340Z"
   },
   {
    "duration": 17,
    "start_time": "2025-08-21T15:10:49.358Z"
   },
   {
    "duration": 61,
    "start_time": "2025-08-21T15:10:49.379Z"
   },
   {
    "duration": 31,
    "start_time": "2025-08-21T15:10:49.442Z"
   },
   {
    "duration": 25,
    "start_time": "2025-08-21T15:10:49.476Z"
   },
   {
    "duration": 47,
    "start_time": "2025-08-21T15:10:49.504Z"
   },
   {
    "duration": 25,
    "start_time": "2025-08-21T15:10:49.553Z"
   },
   {
    "duration": 139,
    "start_time": "2025-08-21T15:10:49.581Z"
   },
   {
    "duration": 47,
    "start_time": "2025-08-21T15:10:49.722Z"
   },
   {
    "duration": 172,
    "start_time": "2025-08-21T15:10:49.771Z"
   },
   {
    "duration": 19,
    "start_time": "2025-08-21T15:10:49.945Z"
   },
   {
    "duration": 194,
    "start_time": "2025-08-21T15:10:49.966Z"
   },
   {
    "duration": 73,
    "start_time": "2025-08-21T15:10:50.162Z"
   },
   {
    "duration": 18,
    "start_time": "2025-08-21T15:10:50.237Z"
   },
   {
    "duration": 103,
    "start_time": "2025-08-21T15:10:50.257Z"
   },
   {
    "duration": 23,
    "start_time": "2025-08-21T15:10:50.362Z"
   },
   {
    "duration": 133,
    "start_time": "2025-08-21T15:10:50.386Z"
   },
   {
    "duration": 30,
    "start_time": "2025-08-21T15:11:02.224Z"
   },
   {
    "duration": 40,
    "start_time": "2025-08-21T15:12:43.931Z"
   },
   {
    "duration": 87,
    "start_time": "2025-08-22T10:10:29.063Z"
   },
   {
    "duration": 511,
    "start_time": "2025-08-22T10:10:33.652Z"
   },
   {
    "duration": 2500,
    "start_time": "2025-08-22T10:10:34.166Z"
   },
   {
    "duration": 32,
    "start_time": "2025-08-22T10:10:36.668Z"
   },
   {
    "duration": 74,
    "start_time": "2025-08-22T10:10:36.702Z"
   },
   {
    "duration": 39,
    "start_time": "2025-08-22T10:10:36.780Z"
   },
   {
    "duration": 58,
    "start_time": "2025-08-22T10:10:36.821Z"
   },
   {
    "duration": 20,
    "start_time": "2025-08-22T10:10:36.881Z"
   },
   {
    "duration": 97,
    "start_time": "2025-08-22T10:10:36.903Z"
   },
   {
    "duration": 13,
    "start_time": "2025-08-22T10:10:37.002Z"
   },
   {
    "duration": 47,
    "start_time": "2025-08-22T10:10:37.018Z"
   },
   {
    "duration": 14,
    "start_time": "2025-08-22T10:10:37.067Z"
   },
   {
    "duration": 67,
    "start_time": "2025-08-22T10:10:37.084Z"
   },
   {
    "duration": 14,
    "start_time": "2025-08-22T10:10:37.153Z"
   },
   {
    "duration": 117,
    "start_time": "2025-08-22T10:10:37.170Z"
   },
   {
    "duration": 81,
    "start_time": "2025-08-22T10:10:37.289Z"
   },
   {
    "duration": 25,
    "start_time": "2025-08-22T10:10:37.373Z"
   },
   {
    "duration": 28,
    "start_time": "2025-08-22T10:10:37.400Z"
   },
   {
    "duration": 59,
    "start_time": "2025-08-22T10:10:37.430Z"
   },
   {
    "duration": 51,
    "start_time": "2025-08-22T10:10:37.491Z"
   },
   {
    "duration": 90,
    "start_time": "2025-08-22T10:10:37.544Z"
   },
   {
    "duration": 180,
    "start_time": "2025-08-22T10:10:37.636Z"
   },
   {
    "duration": 16,
    "start_time": "2025-08-22T10:10:37.817Z"
   },
   {
    "duration": 93,
    "start_time": "2025-08-22T10:10:37.835Z"
   },
   {
    "duration": 80,
    "start_time": "2025-08-22T10:10:37.931Z"
   },
   {
    "duration": 11,
    "start_time": "2025-08-22T10:10:38.013Z"
   },
   {
    "duration": 64,
    "start_time": "2025-08-22T10:10:38.026Z"
   },
   {
    "duration": 18,
    "start_time": "2025-08-22T10:10:38.092Z"
   },
   {
    "duration": 61,
    "start_time": "2025-08-22T10:10:38.113Z"
   },
   {
    "duration": 96,
    "start_time": "2025-08-22T10:10:38.176Z"
   },
   {
    "duration": 63,
    "start_time": "2025-08-22T10:10:58.285Z"
   },
   {
    "duration": 5,
    "start_time": "2025-08-22T10:20:17.745Z"
   },
   {
    "duration": 26,
    "start_time": "2025-08-22T10:20:43.547Z"
   },
   {
    "duration": 32,
    "start_time": "2025-08-22T10:21:44.048Z"
   },
   {
    "duration": 15,
    "start_time": "2025-08-22T10:21:46.130Z"
   },
   {
    "duration": 17,
    "start_time": "2025-08-22T10:22:11.615Z"
   },
   {
    "duration": 16,
    "start_time": "2025-08-22T10:22:14.064Z"
   },
   {
    "duration": 1305,
    "start_time": "2025-08-22T10:22:15.532Z"
   },
   {
    "duration": 29,
    "start_time": "2025-08-22T10:22:22.147Z"
   },
   {
    "duration": 30,
    "start_time": "2025-08-22T10:22:27.630Z"
   },
   {
    "duration": 29,
    "start_time": "2025-08-22T10:22:40.918Z"
   },
   {
    "duration": 95,
    "start_time": "2025-08-22T10:23:34.532Z"
   },
   {
    "duration": 1353,
    "start_time": "2025-08-22T10:23:45.446Z"
   },
   {
    "duration": 13,
    "start_time": "2025-08-22T10:23:54.914Z"
   },
   {
    "duration": 12,
    "start_time": "2025-08-22T10:24:14.848Z"
   },
   {
    "duration": 18,
    "start_time": "2025-08-22T10:24:15.764Z"
   },
   {
    "duration": 24,
    "start_time": "2025-08-22T10:24:16.378Z"
   },
   {
    "duration": 16,
    "start_time": "2025-08-22T10:24:24.396Z"
   },
   {
    "duration": 25,
    "start_time": "2025-08-22T10:24:25.045Z"
   },
   {
    "duration": 387,
    "start_time": "2025-08-22T10:24:32.092Z"
   },
   {
    "duration": 1257,
    "start_time": "2025-08-22T10:24:32.480Z"
   },
   {
    "duration": 26,
    "start_time": "2025-08-22T10:24:33.739Z"
   },
   {
    "duration": 21,
    "start_time": "2025-08-22T10:24:33.767Z"
   },
   {
    "duration": 22,
    "start_time": "2025-08-22T10:24:33.790Z"
   },
   {
    "duration": 51,
    "start_time": "2025-08-22T10:24:33.813Z"
   },
   {
    "duration": 10,
    "start_time": "2025-08-22T10:24:33.866Z"
   },
   {
    "duration": 36,
    "start_time": "2025-08-22T10:24:33.878Z"
   },
   {
    "duration": 11,
    "start_time": "2025-08-22T10:24:33.916Z"
   },
   {
    "duration": 32,
    "start_time": "2025-08-22T10:24:33.930Z"
   },
   {
    "duration": 10,
    "start_time": "2025-08-22T10:24:33.964Z"
   },
   {
    "duration": 28,
    "start_time": "2025-08-22T10:24:33.976Z"
   },
   {
    "duration": 9,
    "start_time": "2025-08-22T10:24:34.006Z"
   },
   {
    "duration": 40,
    "start_time": "2025-08-22T10:24:34.017Z"
   },
   {
    "duration": 28,
    "start_time": "2025-08-22T10:24:34.059Z"
   },
   {
    "duration": 29,
    "start_time": "2025-08-22T10:24:34.089Z"
   },
   {
    "duration": 39,
    "start_time": "2025-08-22T10:24:34.120Z"
   },
   {
    "duration": 17,
    "start_time": "2025-08-22T10:24:34.160Z"
   },
   {
    "duration": 16,
    "start_time": "2025-08-22T10:24:34.179Z"
   },
   {
    "duration": 108,
    "start_time": "2025-08-22T10:24:34.197Z"
   },
   {
    "duration": 28,
    "start_time": "2025-08-22T10:24:34.307Z"
   },
   {
    "duration": 136,
    "start_time": "2025-08-22T10:24:34.336Z"
   },
   {
    "duration": 14,
    "start_time": "2025-08-22T10:24:34.474Z"
   },
   {
    "duration": 72,
    "start_time": "2025-08-22T10:24:34.489Z"
   },
   {
    "duration": 34,
    "start_time": "2025-08-22T10:24:34.563Z"
   },
   {
    "duration": 11,
    "start_time": "2025-08-22T10:24:34.598Z"
   },
   {
    "duration": 100,
    "start_time": "2025-08-22T10:24:34.610Z"
   },
   {
    "duration": 15,
    "start_time": "2025-08-22T10:24:34.713Z"
   },
   {
    "duration": 26,
    "start_time": "2025-08-22T10:24:34.730Z"
   },
   {
    "duration": 79,
    "start_time": "2025-08-22T10:24:34.758Z"
   },
   {
    "duration": 21,
    "start_time": "2025-08-22T10:31:28.171Z"
   },
   {
    "duration": 81,
    "start_time": "2025-08-22T10:31:35.761Z"
   },
   {
    "duration": 446,
    "start_time": "2025-08-22T10:31:42.520Z"
   },
   {
    "duration": 1292,
    "start_time": "2025-08-22T10:31:42.968Z"
   },
   {
    "duration": 24,
    "start_time": "2025-08-22T10:31:44.262Z"
   },
   {
    "duration": 41,
    "start_time": "2025-08-22T10:31:44.288Z"
   },
   {
    "duration": 16,
    "start_time": "2025-08-22T10:31:44.332Z"
   },
   {
    "duration": 43,
    "start_time": "2025-08-22T10:31:44.354Z"
   },
   {
    "duration": 10,
    "start_time": "2025-08-22T10:31:44.399Z"
   },
   {
    "duration": 26,
    "start_time": "2025-08-22T10:31:44.411Z"
   },
   {
    "duration": 19,
    "start_time": "2025-08-22T10:31:44.439Z"
   },
   {
    "duration": 49,
    "start_time": "2025-08-22T10:31:44.460Z"
   },
   {
    "duration": 10,
    "start_time": "2025-08-22T10:31:44.511Z"
   },
   {
    "duration": 21,
    "start_time": "2025-08-22T10:31:44.523Z"
   },
   {
    "duration": 10,
    "start_time": "2025-08-22T10:31:44.545Z"
   },
   {
    "duration": 22,
    "start_time": "2025-08-22T10:31:44.559Z"
   },
   {
    "duration": 29,
    "start_time": "2025-08-22T10:31:44.583Z"
   },
   {
    "duration": 53,
    "start_time": "2025-08-22T10:31:44.614Z"
   },
   {
    "duration": 15,
    "start_time": "2025-08-22T10:31:44.669Z"
   },
   {
    "duration": 47,
    "start_time": "2025-08-22T10:31:44.686Z"
   },
   {
    "duration": 19,
    "start_time": "2025-08-22T10:31:44.734Z"
   },
   {
    "duration": 29,
    "start_time": "2025-08-22T10:31:44.755Z"
   },
   {
    "duration": 30,
    "start_time": "2025-08-22T10:31:44.785Z"
   },
   {
    "duration": 89,
    "start_time": "2025-08-22T10:31:44.817Z"
   },
   {
    "duration": 0,
    "start_time": "2025-08-22T10:31:44.908Z"
   },
   {
    "duration": 0,
    "start_time": "2025-08-22T10:31:44.910Z"
   },
   {
    "duration": 0,
    "start_time": "2025-08-22T10:31:44.911Z"
   },
   {
    "duration": 0,
    "start_time": "2025-08-22T10:31:44.912Z"
   },
   {
    "duration": 0,
    "start_time": "2025-08-22T10:31:44.913Z"
   },
   {
    "duration": 0,
    "start_time": "2025-08-22T10:31:44.914Z"
   },
   {
    "duration": 0,
    "start_time": "2025-08-22T10:31:44.916Z"
   },
   {
    "duration": 0,
    "start_time": "2025-08-22T10:31:44.917Z"
   },
   {
    "duration": 0,
    "start_time": "2025-08-22T10:31:44.918Z"
   },
   {
    "duration": 14,
    "start_time": "2025-08-22T10:32:02.339Z"
   },
   {
    "duration": 14,
    "start_time": "2025-08-22T10:32:57.404Z"
   },
   {
    "duration": 83,
    "start_time": "2025-08-22T10:34:45.185Z"
   },
   {
    "duration": 13,
    "start_time": "2025-08-22T10:34:50.157Z"
   },
   {
    "duration": 16,
    "start_time": "2025-08-22T10:35:33.855Z"
   },
   {
    "duration": 13,
    "start_time": "2025-08-22T10:36:34.269Z"
   },
   {
    "duration": 411,
    "start_time": "2025-08-22T11:10:12.958Z"
   },
   {
    "duration": 1282,
    "start_time": "2025-08-22T11:10:13.371Z"
   },
   {
    "duration": 33,
    "start_time": "2025-08-22T11:10:14.655Z"
   },
   {
    "duration": 23,
    "start_time": "2025-08-22T11:10:14.691Z"
   },
   {
    "duration": 41,
    "start_time": "2025-08-22T11:10:14.716Z"
   },
   {
    "duration": 55,
    "start_time": "2025-08-22T11:10:14.760Z"
   },
   {
    "duration": 10,
    "start_time": "2025-08-22T11:10:14.817Z"
   },
   {
    "duration": 33,
    "start_time": "2025-08-22T11:10:14.828Z"
   },
   {
    "duration": 12,
    "start_time": "2025-08-22T11:10:14.863Z"
   },
   {
    "duration": 46,
    "start_time": "2025-08-22T11:10:14.879Z"
   },
   {
    "duration": 28,
    "start_time": "2025-08-22T11:10:14.927Z"
   },
   {
    "duration": 24,
    "start_time": "2025-08-22T11:10:14.957Z"
   },
   {
    "duration": 10,
    "start_time": "2025-08-22T11:10:14.983Z"
   },
   {
    "duration": 29,
    "start_time": "2025-08-22T11:10:14.994Z"
   },
   {
    "duration": 100,
    "start_time": "2025-08-22T11:10:15.024Z"
   },
   {
    "duration": 123,
    "start_time": "2025-08-22T11:10:15.126Z"
   },
   {
    "duration": 32,
    "start_time": "2025-08-22T11:10:15.251Z"
   },
   {
    "duration": 27,
    "start_time": "2025-08-22T11:10:15.285Z"
   },
   {
    "duration": 41,
    "start_time": "2025-08-22T11:10:15.314Z"
   },
   {
    "duration": 44,
    "start_time": "2025-08-22T11:10:15.356Z"
   },
   {
    "duration": 88,
    "start_time": "2025-08-22T11:10:15.402Z"
   },
   {
    "duration": 23,
    "start_time": "2025-08-22T11:10:15.492Z"
   },
   {
    "duration": 13,
    "start_time": "2025-08-22T11:10:15.517Z"
   },
   {
    "duration": 82,
    "start_time": "2025-08-22T11:10:15.532Z"
   },
   {
    "duration": 48,
    "start_time": "2025-08-22T11:10:15.616Z"
   },
   {
    "duration": 146,
    "start_time": "2025-08-22T11:10:15.666Z"
   },
   {
    "duration": 17,
    "start_time": "2025-08-22T11:10:15.814Z"
   },
   {
    "duration": 95,
    "start_time": "2025-08-22T11:10:15.834Z"
   },
   {
    "duration": 35,
    "start_time": "2025-08-22T11:10:15.931Z"
   },
   {
    "duration": 12,
    "start_time": "2025-08-22T11:10:15.967Z"
   },
   {
    "duration": 22,
    "start_time": "2025-08-22T11:10:15.980Z"
   },
   {
    "duration": 14,
    "start_time": "2025-08-22T11:10:16.004Z"
   },
   {
    "duration": 61,
    "start_time": "2025-08-22T11:10:16.020Z"
   },
   {
    "duration": 50,
    "start_time": "2025-08-22T11:10:16.083Z"
   },
   {
    "duration": 14,
    "start_time": "2025-08-22T11:16:05.007Z"
   },
   {
    "duration": 18,
    "start_time": "2025-08-22T11:16:11.010Z"
   },
   {
    "duration": 14,
    "start_time": "2025-08-22T11:24:41.770Z"
   },
   {
    "duration": 11,
    "start_time": "2025-08-22T11:24:42.884Z"
   },
   {
    "duration": 17,
    "start_time": "2025-08-22T11:24:44.387Z"
   },
   {
    "duration": 11,
    "start_time": "2025-08-22T11:35:18.868Z"
   },
   {
    "duration": 33,
    "start_time": "2025-08-22T11:45:45.589Z"
   },
   {
    "duration": 403,
    "start_time": "2025-08-22T11:46:44.916Z"
   },
   {
    "duration": 1306,
    "start_time": "2025-08-22T11:46:45.321Z"
   },
   {
    "duration": 25,
    "start_time": "2025-08-22T11:46:46.629Z"
   },
   {
    "duration": 20,
    "start_time": "2025-08-22T11:46:46.656Z"
   },
   {
    "duration": 18,
    "start_time": "2025-08-22T11:46:46.678Z"
   },
   {
    "duration": 76,
    "start_time": "2025-08-22T11:46:46.698Z"
   },
   {
    "duration": 57,
    "start_time": "2025-08-22T11:46:46.776Z"
   },
   {
    "duration": 23,
    "start_time": "2025-08-22T11:46:46.835Z"
   },
   {
    "duration": 10,
    "start_time": "2025-08-22T11:46:46.859Z"
   },
   {
    "duration": 34,
    "start_time": "2025-08-22T11:46:46.872Z"
   },
   {
    "duration": 9,
    "start_time": "2025-08-22T11:46:46.908Z"
   },
   {
    "duration": 36,
    "start_time": "2025-08-22T11:46:46.919Z"
   },
   {
    "duration": 10,
    "start_time": "2025-08-22T11:46:46.956Z"
   },
   {
    "duration": 29,
    "start_time": "2025-08-22T11:46:46.967Z"
   },
   {
    "duration": 118,
    "start_time": "2025-08-22T11:46:46.997Z"
   },
   {
    "duration": 28,
    "start_time": "2025-08-22T11:46:47.117Z"
   },
   {
    "duration": 16,
    "start_time": "2025-08-22T11:46:47.147Z"
   },
   {
    "duration": 34,
    "start_time": "2025-08-22T11:46:47.165Z"
   },
   {
    "duration": 63,
    "start_time": "2025-08-22T11:46:47.201Z"
   },
   {
    "duration": 43,
    "start_time": "2025-08-22T11:46:47.266Z"
   },
   {
    "duration": 28,
    "start_time": "2025-08-22T11:46:47.311Z"
   },
   {
    "duration": 24,
    "start_time": "2025-08-22T11:46:47.341Z"
   },
   {
    "duration": 31,
    "start_time": "2025-08-22T11:46:47.367Z"
   },
   {
    "duration": 23,
    "start_time": "2025-08-22T11:46:47.400Z"
   },
   {
    "duration": 19,
    "start_time": "2025-08-22T11:46:47.425Z"
   },
   {
    "duration": 57,
    "start_time": "2025-08-22T11:46:47.446Z"
   },
   {
    "duration": 124,
    "start_time": "2025-08-22T11:46:47.504Z"
   },
   {
    "duration": 26,
    "start_time": "2025-08-22T11:46:47.631Z"
   },
   {
    "duration": 49,
    "start_time": "2025-08-22T11:46:47.659Z"
   },
   {
    "duration": 57,
    "start_time": "2025-08-22T11:46:47.710Z"
   },
   {
    "duration": 11,
    "start_time": "2025-08-22T11:46:47.769Z"
   },
   {
    "duration": 96,
    "start_time": "2025-08-22T11:46:47.781Z"
   },
   {
    "duration": 50,
    "start_time": "2025-08-22T11:46:47.879Z"
   },
   {
    "duration": 39,
    "start_time": "2025-08-22T11:46:47.931Z"
   },
   {
    "duration": 97,
    "start_time": "2025-08-22T11:46:47.971Z"
   },
   {
    "duration": 35,
    "start_time": "2025-08-22T11:47:22.756Z"
   },
   {
    "duration": 34,
    "start_time": "2025-08-22T11:47:33.916Z"
   },
   {
    "duration": 17,
    "start_time": "2025-08-22T11:53:43.089Z"
   },
   {
    "duration": 385,
    "start_time": "2025-08-22T11:53:47.005Z"
   },
   {
    "duration": 1302,
    "start_time": "2025-08-22T11:53:47.392Z"
   },
   {
    "duration": 23,
    "start_time": "2025-08-22T11:53:48.696Z"
   },
   {
    "duration": 57,
    "start_time": "2025-08-22T11:53:48.722Z"
   },
   {
    "duration": 100,
    "start_time": "2025-08-22T11:53:48.781Z"
   },
   {
    "duration": 64,
    "start_time": "2025-08-22T11:53:48.883Z"
   },
   {
    "duration": 9,
    "start_time": "2025-08-22T11:53:48.949Z"
   },
   {
    "duration": 37,
    "start_time": "2025-08-22T11:53:48.959Z"
   },
   {
    "duration": 37,
    "start_time": "2025-08-22T11:53:48.998Z"
   },
   {
    "duration": 28,
    "start_time": "2025-08-22T11:53:49.038Z"
   },
   {
    "duration": 87,
    "start_time": "2025-08-22T11:53:49.068Z"
   },
   {
    "duration": 19,
    "start_time": "2025-08-22T11:53:49.157Z"
   },
   {
    "duration": 22,
    "start_time": "2025-08-22T11:53:49.177Z"
   },
   {
    "duration": 22,
    "start_time": "2025-08-22T11:53:49.201Z"
   },
   {
    "duration": 100,
    "start_time": "2025-08-22T11:53:49.224Z"
   },
   {
    "duration": 28,
    "start_time": "2025-08-22T11:53:49.326Z"
   },
   {
    "duration": 15,
    "start_time": "2025-08-22T11:53:49.356Z"
   },
   {
    "duration": 16,
    "start_time": "2025-08-22T11:53:49.372Z"
   },
   {
    "duration": 15,
    "start_time": "2025-08-22T11:53:49.390Z"
   },
   {
    "duration": 57,
    "start_time": "2025-08-22T11:53:49.407Z"
   },
   {
    "duration": 29,
    "start_time": "2025-08-22T11:53:49.466Z"
   },
   {
    "duration": 14,
    "start_time": "2025-08-22T11:53:49.497Z"
   },
   {
    "duration": 41,
    "start_time": "2025-08-22T11:53:49.513Z"
   },
   {
    "duration": 12,
    "start_time": "2025-08-22T11:53:49.556Z"
   },
   {
    "duration": 68,
    "start_time": "2025-08-22T11:53:49.569Z"
   },
   {
    "duration": 57,
    "start_time": "2025-08-22T11:53:49.639Z"
   },
   {
    "duration": 32,
    "start_time": "2025-08-22T11:53:49.698Z"
   },
   {
    "duration": 99,
    "start_time": "2025-08-22T11:53:49.734Z"
   },
   {
    "duration": 19,
    "start_time": "2025-08-22T11:53:49.856Z"
   },
   {
    "duration": 86,
    "start_time": "2025-08-22T11:53:49.878Z"
   },
   {
    "duration": 40,
    "start_time": "2025-08-22T11:53:49.966Z"
   },
   {
    "duration": 46,
    "start_time": "2025-08-22T11:53:50.008Z"
   },
   {
    "duration": 29,
    "start_time": "2025-08-22T11:53:50.056Z"
   },
   {
    "duration": 16,
    "start_time": "2025-08-22T11:53:50.087Z"
   },
   {
    "duration": 51,
    "start_time": "2025-08-22T11:53:50.105Z"
   },
   {
    "duration": 52,
    "start_time": "2025-08-22T11:53:50.157Z"
   },
   {
    "duration": 75,
    "start_time": "2025-08-22T11:56:30.672Z"
   },
   {
    "duration": 33,
    "start_time": "2025-08-22T11:56:38.165Z"
   },
   {
    "duration": 17,
    "start_time": "2025-08-22T11:58:02.070Z"
   },
   {
    "duration": 14,
    "start_time": "2025-08-22T12:00:07.986Z"
   },
   {
    "duration": 11,
    "start_time": "2025-08-22T12:00:08.384Z"
   },
   {
    "duration": 10,
    "start_time": "2025-08-22T12:00:08.751Z"
   },
   {
    "duration": 11,
    "start_time": "2025-08-22T12:00:09.086Z"
   },
   {
    "duration": 34,
    "start_time": "2025-08-22T12:00:09.436Z"
   },
   {
    "duration": 32,
    "start_time": "2025-08-22T12:00:10.752Z"
   },
   {
    "duration": 30,
    "start_time": "2025-08-22T12:00:12.569Z"
   },
   {
    "duration": 16,
    "start_time": "2025-08-22T12:00:14.086Z"
   },
   {
    "duration": 398,
    "start_time": "2025-08-22T12:15:53.001Z"
   },
   {
    "duration": 1275,
    "start_time": "2025-08-22T12:15:53.401Z"
   },
   {
    "duration": 25,
    "start_time": "2025-08-22T12:15:54.677Z"
   },
   {
    "duration": 22,
    "start_time": "2025-08-22T12:15:54.705Z"
   },
   {
    "duration": 38,
    "start_time": "2025-08-22T12:15:54.729Z"
   },
   {
    "duration": 39,
    "start_time": "2025-08-22T12:15:54.770Z"
   },
   {
    "duration": 10,
    "start_time": "2025-08-22T12:15:54.811Z"
   },
   {
    "duration": 43,
    "start_time": "2025-08-22T12:15:54.823Z"
   },
   {
    "duration": 10,
    "start_time": "2025-08-22T12:15:54.868Z"
   },
   {
    "duration": 28,
    "start_time": "2025-08-22T12:15:54.882Z"
   },
   {
    "duration": 10,
    "start_time": "2025-08-22T12:15:54.912Z"
   },
   {
    "duration": 44,
    "start_time": "2025-08-22T12:15:54.924Z"
   },
   {
    "duration": 10,
    "start_time": "2025-08-22T12:15:54.970Z"
   },
   {
    "duration": 21,
    "start_time": "2025-08-22T12:15:54.981Z"
   },
   {
    "duration": 60,
    "start_time": "2025-08-22T12:15:55.004Z"
   },
   {
    "duration": 27,
    "start_time": "2025-08-22T12:15:55.066Z"
   },
   {
    "duration": 15,
    "start_time": "2025-08-22T12:15:55.094Z"
   },
   {
    "duration": 16,
    "start_time": "2025-08-22T12:15:55.111Z"
   },
   {
    "duration": 16,
    "start_time": "2025-08-22T12:15:55.155Z"
   },
   {
    "duration": 48,
    "start_time": "2025-08-22T12:15:55.173Z"
   },
   {
    "duration": 33,
    "start_time": "2025-08-22T12:15:55.223Z"
   },
   {
    "duration": 32,
    "start_time": "2025-08-22T12:15:55.258Z"
   },
   {
    "duration": 14,
    "start_time": "2025-08-22T12:15:55.292Z"
   },
   {
    "duration": 11,
    "start_time": "2025-08-22T12:15:55.308Z"
   },
   {
    "duration": 43,
    "start_time": "2025-08-22T12:15:55.321Z"
   },
   {
    "duration": 41,
    "start_time": "2025-08-22T12:15:55.366Z"
   },
   {
    "duration": 33,
    "start_time": "2025-08-22T12:15:55.410Z"
   },
   {
    "duration": 31,
    "start_time": "2025-08-22T12:15:55.455Z"
   },
   {
    "duration": 17,
    "start_time": "2025-08-22T12:15:55.488Z"
   },
   {
    "duration": 52,
    "start_time": "2025-08-22T12:15:55.507Z"
   },
   {
    "duration": 26,
    "start_time": "2025-08-22T12:15:55.561Z"
   },
   {
    "duration": 18,
    "start_time": "2025-08-22T12:15:55.589Z"
   },
   {
    "duration": 45,
    "start_time": "2025-08-22T12:15:55.609Z"
   },
   {
    "duration": 122,
    "start_time": "2025-08-22T12:15:55.656Z"
   },
   {
    "duration": 19,
    "start_time": "2025-08-22T12:15:55.780Z"
   },
   {
    "duration": 93,
    "start_time": "2025-08-22T12:15:55.802Z"
   },
   {
    "duration": 63,
    "start_time": "2025-08-22T12:15:55.897Z"
   },
   {
    "duration": 13,
    "start_time": "2025-08-22T12:15:55.962Z"
   },
   {
    "duration": 22,
    "start_time": "2025-08-22T12:15:55.977Z"
   },
   {
    "duration": 53,
    "start_time": "2025-08-22T12:15:56.002Z"
   },
   {
    "duration": 30,
    "start_time": "2025-08-22T12:15:56.057Z"
   },
   {
    "duration": 120,
    "start_time": "2025-08-22T12:15:56.089Z"
   },
   {
    "duration": 346,
    "start_time": "2025-08-23T14:23:28.330Z"
   },
   {
    "duration": 1608,
    "start_time": "2025-08-23T14:23:28.678Z"
   },
   {
    "duration": 20,
    "start_time": "2025-08-23T14:23:30.288Z"
   },
   {
    "duration": 26,
    "start_time": "2025-08-23T14:23:30.309Z"
   },
   {
    "duration": 32,
    "start_time": "2025-08-23T14:23:30.338Z"
   },
   {
    "duration": 43,
    "start_time": "2025-08-23T14:23:30.371Z"
   },
   {
    "duration": 77,
    "start_time": "2025-08-23T14:23:30.416Z"
   },
   {
    "duration": 35,
    "start_time": "2025-08-23T14:23:30.495Z"
   },
   {
    "duration": 38,
    "start_time": "2025-08-23T14:23:30.532Z"
   },
   {
    "duration": 48,
    "start_time": "2025-08-23T14:23:30.572Z"
   },
   {
    "duration": 8,
    "start_time": "2025-08-23T14:23:30.622Z"
   },
   {
    "duration": 32,
    "start_time": "2025-08-23T14:23:30.631Z"
   },
   {
    "duration": 8,
    "start_time": "2025-08-23T14:23:30.665Z"
   },
   {
    "duration": 21,
    "start_time": "2025-08-23T14:23:30.676Z"
   },
   {
    "duration": 93,
    "start_time": "2025-08-23T14:23:30.698Z"
   },
   {
    "duration": 32,
    "start_time": "2025-08-23T14:23:30.793Z"
   },
   {
    "duration": 44,
    "start_time": "2025-08-23T14:23:30.827Z"
   },
   {
    "duration": 39,
    "start_time": "2025-08-23T14:23:30.873Z"
   },
   {
    "duration": 18,
    "start_time": "2025-08-23T14:23:30.913Z"
   },
   {
    "duration": 30,
    "start_time": "2025-08-23T14:23:30.933Z"
   },
   {
    "duration": 29,
    "start_time": "2025-08-23T14:23:30.964Z"
   },
   {
    "duration": 14,
    "start_time": "2025-08-23T14:23:30.995Z"
   },
   {
    "duration": 27,
    "start_time": "2025-08-23T14:23:31.011Z"
   },
   {
    "duration": 18,
    "start_time": "2025-08-23T14:23:31.040Z"
   },
   {
    "duration": 17,
    "start_time": "2025-08-23T14:23:31.060Z"
   },
   {
    "duration": 32,
    "start_time": "2025-08-23T14:23:31.078Z"
   },
   {
    "duration": 30,
    "start_time": "2025-08-23T14:23:31.112Z"
   },
   {
    "duration": 47,
    "start_time": "2025-08-23T14:23:31.143Z"
   },
   {
    "duration": 15,
    "start_time": "2025-08-23T14:23:31.192Z"
   },
   {
    "duration": 21,
    "start_time": "2025-08-23T14:23:31.209Z"
   },
   {
    "duration": 77,
    "start_time": "2025-08-23T14:23:31.232Z"
   },
   {
    "duration": 89,
    "start_time": "2025-08-23T14:23:31.311Z"
   },
   {
    "duration": 16,
    "start_time": "2025-08-23T14:23:31.402Z"
   },
   {
    "duration": 198,
    "start_time": "2025-08-23T14:23:31.420Z"
   },
   {
    "duration": 12,
    "start_time": "2025-08-23T14:23:31.619Z"
   },
   {
    "duration": 60,
    "start_time": "2025-08-23T14:23:31.633Z"
   },
   {
    "duration": 29,
    "start_time": "2025-08-23T14:23:31.694Z"
   },
   {
    "duration": 10,
    "start_time": "2025-08-23T14:23:31.724Z"
   },
   {
    "duration": 51,
    "start_time": "2025-08-23T14:23:31.736Z"
   },
   {
    "duration": 14,
    "start_time": "2025-08-23T14:23:31.788Z"
   },
   {
    "duration": 23,
    "start_time": "2025-08-23T14:23:31.805Z"
   },
   {
    "duration": 65,
    "start_time": "2025-08-23T14:23:31.830Z"
   },
   {
    "duration": 207,
    "start_time": "2025-08-23T14:29:52.173Z"
   },
   {
    "duration": 20,
    "start_time": "2025-08-23T14:40:22.421Z"
   },
   {
    "duration": 19,
    "start_time": "2025-08-23T14:43:40.435Z"
   },
   {
    "duration": 19,
    "start_time": "2025-08-23T14:43:50.604Z"
   },
   {
    "duration": 22,
    "start_time": "2025-08-23T14:44:12.165Z"
   },
   {
    "duration": 59,
    "start_time": "2025-08-23T14:45:58.336Z"
   },
   {
    "duration": 95,
    "start_time": "2025-08-23T14:46:11.710Z"
   },
   {
    "duration": 60,
    "start_time": "2025-08-23T15:04:33.359Z"
   },
   {
    "duration": 18,
    "start_time": "2025-08-23T15:09:04.035Z"
   },
   {
    "duration": 72,
    "start_time": "2025-08-23T15:09:59.015Z"
   },
   {
    "duration": 21,
    "start_time": "2025-08-23T15:12:01.100Z"
   },
   {
    "duration": 71,
    "start_time": "2025-08-23T15:12:19.350Z"
   },
   {
    "duration": 132,
    "start_time": "2025-08-23T15:14:15.638Z"
   },
   {
    "duration": 385,
    "start_time": "2025-08-23T15:14:20.681Z"
   },
   {
    "duration": 1136,
    "start_time": "2025-08-23T15:14:21.068Z"
   },
   {
    "duration": 21,
    "start_time": "2025-08-23T15:14:22.206Z"
   },
   {
    "duration": 23,
    "start_time": "2025-08-23T15:14:22.228Z"
   },
   {
    "duration": 25,
    "start_time": "2025-08-23T15:14:22.253Z"
   },
   {
    "duration": 34,
    "start_time": "2025-08-23T15:14:22.279Z"
   },
   {
    "duration": 8,
    "start_time": "2025-08-23T15:14:22.315Z"
   },
   {
    "duration": 15,
    "start_time": "2025-08-23T15:14:22.324Z"
   },
   {
    "duration": 9,
    "start_time": "2025-08-23T15:14:22.340Z"
   },
   {
    "duration": 26,
    "start_time": "2025-08-23T15:14:22.376Z"
   },
   {
    "duration": 9,
    "start_time": "2025-08-23T15:14:22.403Z"
   },
   {
    "duration": 11,
    "start_time": "2025-08-23T15:14:22.413Z"
   },
   {
    "duration": 7,
    "start_time": "2025-08-23T15:14:22.426Z"
   },
   {
    "duration": 49,
    "start_time": "2025-08-23T15:14:22.434Z"
   },
   {
    "duration": 23,
    "start_time": "2025-08-23T15:14:22.484Z"
   },
   {
    "duration": 22,
    "start_time": "2025-08-23T15:14:22.509Z"
   },
   {
    "duration": 54,
    "start_time": "2025-08-23T15:14:22.533Z"
   },
   {
    "duration": 14,
    "start_time": "2025-08-23T15:14:22.589Z"
   },
   {
    "duration": 13,
    "start_time": "2025-08-23T15:14:22.605Z"
   },
   {
    "duration": 25,
    "start_time": "2025-08-23T15:14:22.620Z"
   },
   {
    "duration": 45,
    "start_time": "2025-08-23T15:14:22.646Z"
   },
   {
    "duration": 40,
    "start_time": "2025-08-23T15:14:22.693Z"
   },
   {
    "duration": 19,
    "start_time": "2025-08-23T15:14:22.734Z"
   },
   {
    "duration": 8,
    "start_time": "2025-08-23T15:14:22.755Z"
   },
   {
    "duration": 10,
    "start_time": "2025-08-23T15:14:22.764Z"
   },
   {
    "duration": 28,
    "start_time": "2025-08-23T15:14:22.775Z"
   },
   {
    "duration": 27,
    "start_time": "2025-08-23T15:14:22.804Z"
   },
   {
    "duration": 25,
    "start_time": "2025-08-23T15:14:22.834Z"
   },
   {
    "duration": 28,
    "start_time": "2025-08-23T15:14:22.860Z"
   },
   {
    "duration": 81,
    "start_time": "2025-08-23T15:14:22.890Z"
   },
   {
    "duration": 20,
    "start_time": "2025-08-23T15:14:22.972Z"
   },
   {
    "duration": 16,
    "start_time": "2025-08-23T15:14:22.993Z"
   },
   {
    "duration": 18,
    "start_time": "2025-08-23T15:14:23.011Z"
   },
   {
    "duration": 112,
    "start_time": "2025-08-23T15:14:23.030Z"
   },
   {
    "duration": 12,
    "start_time": "2025-08-23T15:14:23.143Z"
   },
   {
    "duration": 58,
    "start_time": "2025-08-23T15:14:23.157Z"
   },
   {
    "duration": 28,
    "start_time": "2025-08-23T15:14:23.216Z"
   },
   {
    "duration": 35,
    "start_time": "2025-08-23T15:14:23.245Z"
   },
   {
    "duration": 20,
    "start_time": "2025-08-23T15:14:23.282Z"
   },
   {
    "duration": 15,
    "start_time": "2025-08-23T15:14:23.303Z"
   },
   {
    "duration": 23,
    "start_time": "2025-08-23T15:14:23.319Z"
   },
   {
    "duration": 71,
    "start_time": "2025-08-23T15:14:23.343Z"
   },
   {
    "duration": 197,
    "start_time": "2025-08-23T15:14:23.415Z"
   },
   {
    "duration": 23,
    "start_time": "2025-08-23T15:14:23.613Z"
   },
   {
    "duration": 140,
    "start_time": "2025-08-23T15:14:23.637Z"
   },
   {
    "duration": 61,
    "start_time": "2025-08-23T15:14:23.778Z"
   },
   {
    "duration": 37,
    "start_time": "2025-08-23T15:14:23.840Z"
   },
   {
    "duration": 72,
    "start_time": "2025-08-23T15:14:23.878Z"
   },
   {
    "duration": 79,
    "start_time": "2025-08-23T15:14:23.951Z"
   },
   {
    "duration": 131,
    "start_time": "2025-08-23T15:14:24.031Z"
   },
   {
    "duration": 14,
    "start_time": "2025-08-23T15:20:22.407Z"
   },
   {
    "duration": 33,
    "start_time": "2025-08-23T15:20:22.625Z"
   },
   {
    "duration": 9,
    "start_time": "2025-08-23T15:20:22.973Z"
   },
   {
    "duration": 16,
    "start_time": "2025-08-23T15:20:23.139Z"
   },
   {
    "duration": 10,
    "start_time": "2025-08-23T15:20:23.450Z"
   },
   {
    "duration": 21,
    "start_time": "2025-08-23T15:20:23.608Z"
   },
   {
    "duration": 406,
    "start_time": "2025-08-23T15:24:07.570Z"
   },
   {
    "duration": 1122,
    "start_time": "2025-08-23T15:24:07.978Z"
   },
   {
    "duration": 20,
    "start_time": "2025-08-23T15:24:09.102Z"
   },
   {
    "duration": 17,
    "start_time": "2025-08-23T15:24:09.123Z"
   },
   {
    "duration": 13,
    "start_time": "2025-08-23T15:24:09.142Z"
   },
   {
    "duration": 50,
    "start_time": "2025-08-23T15:24:09.157Z"
   },
   {
    "duration": 8,
    "start_time": "2025-08-23T15:24:09.209Z"
   },
   {
    "duration": 15,
    "start_time": "2025-08-23T15:24:09.218Z"
   },
   {
    "duration": 8,
    "start_time": "2025-08-23T15:24:09.235Z"
   },
   {
    "duration": 46,
    "start_time": "2025-08-23T15:24:09.244Z"
   },
   {
    "duration": 8,
    "start_time": "2025-08-23T15:24:09.291Z"
   },
   {
    "duration": 13,
    "start_time": "2025-08-23T15:24:09.300Z"
   },
   {
    "duration": 8,
    "start_time": "2025-08-23T15:24:09.314Z"
   },
   {
    "duration": 18,
    "start_time": "2025-08-23T15:24:09.325Z"
   },
   {
    "duration": 48,
    "start_time": "2025-08-23T15:24:09.344Z"
   },
   {
    "duration": 22,
    "start_time": "2025-08-23T15:24:09.393Z"
   },
   {
    "duration": 12,
    "start_time": "2025-08-23T15:24:09.417Z"
   },
   {
    "duration": 14,
    "start_time": "2025-08-23T15:24:09.430Z"
   },
   {
    "duration": 42,
    "start_time": "2025-08-23T15:24:09.445Z"
   },
   {
    "duration": 48,
    "start_time": "2025-08-23T15:24:09.489Z"
   },
   {
    "duration": 23,
    "start_time": "2025-08-23T15:24:09.539Z"
   },
   {
    "duration": 15,
    "start_time": "2025-08-23T15:24:09.563Z"
   },
   {
    "duration": 11,
    "start_time": "2025-08-23T15:24:09.579Z"
   },
   {
    "duration": 71,
    "start_time": "2025-08-23T15:24:09.591Z"
   },
   {
    "duration": 10,
    "start_time": "2025-08-23T15:24:09.664Z"
   },
   {
    "duration": 28,
    "start_time": "2025-08-23T15:24:09.676Z"
   },
   {
    "duration": 29,
    "start_time": "2025-08-23T15:24:09.705Z"
   },
   {
    "duration": 42,
    "start_time": "2025-08-23T15:24:09.735Z"
   },
   {
    "duration": 15,
    "start_time": "2025-08-23T15:24:09.778Z"
   },
   {
    "duration": 22,
    "start_time": "2025-08-23T15:24:09.794Z"
   },
   {
    "duration": 20,
    "start_time": "2025-08-23T15:24:09.817Z"
   },
   {
    "duration": 38,
    "start_time": "2025-08-23T15:24:09.839Z"
   },
   {
    "duration": 42,
    "start_time": "2025-08-23T15:24:09.879Z"
   },
   {
    "duration": 119,
    "start_time": "2025-08-23T15:24:09.923Z"
   },
   {
    "duration": 17,
    "start_time": "2025-08-23T15:24:10.044Z"
   },
   {
    "duration": 54,
    "start_time": "2025-08-23T15:24:10.063Z"
   },
   {
    "duration": 60,
    "start_time": "2025-08-23T15:24:10.118Z"
   },
   {
    "duration": 11,
    "start_time": "2025-08-23T15:24:10.180Z"
   },
   {
    "duration": 20,
    "start_time": "2025-08-23T15:24:10.193Z"
   },
   {
    "duration": 14,
    "start_time": "2025-08-23T15:24:10.214Z"
   },
   {
    "duration": 59,
    "start_time": "2025-08-23T15:24:10.232Z"
   },
   {
    "duration": 44,
    "start_time": "2025-08-23T15:24:10.293Z"
   },
   {
    "duration": 199,
    "start_time": "2025-08-23T15:24:10.338Z"
   },
   {
    "duration": 51,
    "start_time": "2025-08-23T15:24:10.538Z"
   },
   {
    "duration": 115,
    "start_time": "2025-08-23T15:24:10.591Z"
   },
   {
    "duration": 77,
    "start_time": "2025-08-23T15:24:10.708Z"
   },
   {
    "duration": 17,
    "start_time": "2025-08-23T15:24:10.787Z"
   },
   {
    "duration": 92,
    "start_time": "2025-08-23T15:24:10.806Z"
   },
   {
    "duration": 77,
    "start_time": "2025-08-23T15:24:10.900Z"
   },
   {
    "duration": 134,
    "start_time": "2025-08-23T15:24:10.979Z"
   },
   {
    "duration": 121,
    "start_time": "2025-08-23T15:26:11.091Z"
   },
   {
    "duration": 363,
    "start_time": "2025-08-23T15:26:17.609Z"
   },
   {
    "duration": 1169,
    "start_time": "2025-08-23T15:26:17.973Z"
   },
   {
    "duration": 22,
    "start_time": "2025-08-23T15:26:19.144Z"
   },
   {
    "duration": 20,
    "start_time": "2025-08-23T15:26:19.175Z"
   },
   {
    "duration": 14,
    "start_time": "2025-08-23T15:26:19.197Z"
   },
   {
    "duration": 37,
    "start_time": "2025-08-23T15:26:19.213Z"
   },
   {
    "duration": 30,
    "start_time": "2025-08-23T15:26:19.252Z"
   },
   {
    "duration": 22,
    "start_time": "2025-08-23T15:26:19.284Z"
   },
   {
    "duration": 9,
    "start_time": "2025-08-23T15:26:19.307Z"
   },
   {
    "duration": 23,
    "start_time": "2025-08-23T15:26:19.318Z"
   },
   {
    "duration": 8,
    "start_time": "2025-08-23T15:26:19.343Z"
   },
   {
    "duration": 29,
    "start_time": "2025-08-23T15:26:19.352Z"
   },
   {
    "duration": 8,
    "start_time": "2025-08-23T15:26:19.383Z"
   },
   {
    "duration": 21,
    "start_time": "2025-08-23T15:26:19.392Z"
   },
   {
    "duration": 23,
    "start_time": "2025-08-23T15:26:19.415Z"
   },
   {
    "duration": 48,
    "start_time": "2025-08-23T15:26:19.440Z"
   },
   {
    "duration": 45,
    "start_time": "2025-08-23T15:26:19.490Z"
   },
   {
    "duration": 14,
    "start_time": "2025-08-23T15:26:19.537Z"
   },
   {
    "duration": 13,
    "start_time": "2025-08-23T15:26:19.553Z"
   },
   {
    "duration": 40,
    "start_time": "2025-08-23T15:26:19.567Z"
   },
   {
    "duration": 25,
    "start_time": "2025-08-23T15:26:19.609Z"
   },
   {
    "duration": 48,
    "start_time": "2025-08-23T15:26:19.635Z"
   },
   {
    "duration": 19,
    "start_time": "2025-08-23T15:26:19.685Z"
   },
   {
    "duration": 9,
    "start_time": "2025-08-23T15:26:19.705Z"
   },
   {
    "duration": 9,
    "start_time": "2025-08-23T15:26:19.715Z"
   },
   {
    "duration": 30,
    "start_time": "2025-08-23T15:26:19.725Z"
   },
   {
    "duration": 46,
    "start_time": "2025-08-23T15:26:19.756Z"
   },
   {
    "duration": 26,
    "start_time": "2025-08-23T15:26:19.805Z"
   },
   {
    "duration": 15,
    "start_time": "2025-08-23T15:26:19.832Z"
   },
   {
    "duration": 46,
    "start_time": "2025-08-23T15:26:19.848Z"
   },
   {
    "duration": 63,
    "start_time": "2025-08-23T15:26:19.895Z"
   },
   {
    "duration": 19,
    "start_time": "2025-08-23T15:26:19.960Z"
   },
   {
    "duration": 33,
    "start_time": "2025-08-23T15:26:19.980Z"
   },
   {
    "duration": 139,
    "start_time": "2025-08-23T15:26:20.014Z"
   },
   {
    "duration": 12,
    "start_time": "2025-08-23T15:26:20.155Z"
   },
   {
    "duration": 49,
    "start_time": "2025-08-23T15:26:20.168Z"
   },
   {
    "duration": 29,
    "start_time": "2025-08-23T15:26:20.219Z"
   },
   {
    "duration": 35,
    "start_time": "2025-08-23T15:26:20.249Z"
   },
   {
    "duration": 33,
    "start_time": "2025-08-23T15:26:20.285Z"
   },
   {
    "duration": 14,
    "start_time": "2025-08-23T15:26:20.320Z"
   },
   {
    "duration": 23,
    "start_time": "2025-08-23T15:26:20.335Z"
   },
   {
    "duration": 56,
    "start_time": "2025-08-23T15:26:20.360Z"
   },
   {
    "duration": 204,
    "start_time": "2025-08-23T15:26:20.417Z"
   },
   {
    "duration": 23,
    "start_time": "2025-08-23T15:26:20.623Z"
   },
   {
    "duration": 112,
    "start_time": "2025-08-23T15:26:20.677Z"
   },
   {
    "duration": 90,
    "start_time": "2025-08-23T15:26:20.790Z"
   },
   {
    "duration": 17,
    "start_time": "2025-08-23T15:26:20.881Z"
   },
   {
    "duration": 86,
    "start_time": "2025-08-23T15:26:20.899Z"
   },
   {
    "duration": 68,
    "start_time": "2025-08-23T15:26:20.987Z"
   },
   {
    "duration": 151,
    "start_time": "2025-08-23T15:26:21.057Z"
   },
   {
    "duration": 17,
    "start_time": "2025-08-23T15:43:07.268Z"
   },
   {
    "duration": 13,
    "start_time": "2025-08-23T15:43:07.657Z"
   },
   {
    "duration": 13,
    "start_time": "2025-08-23T15:43:08.143Z"
   },
   {
    "duration": 18,
    "start_time": "2025-08-23T15:43:35.849Z"
   },
   {
    "duration": 9,
    "start_time": "2025-08-23T15:43:53.585Z"
   },
   {
    "duration": 10,
    "start_time": "2025-08-23T15:44:09.517Z"
   },
   {
    "duration": 373,
    "start_time": "2025-08-23T15:50:22.498Z"
   },
   {
    "duration": 1098,
    "start_time": "2025-08-23T15:50:22.872Z"
   },
   {
    "duration": 20,
    "start_time": "2025-08-23T15:50:23.972Z"
   },
   {
    "duration": 23,
    "start_time": "2025-08-23T15:50:23.994Z"
   },
   {
    "duration": 20,
    "start_time": "2025-08-23T15:50:24.019Z"
   },
   {
    "duration": 40,
    "start_time": "2025-08-23T15:50:24.041Z"
   },
   {
    "duration": 8,
    "start_time": "2025-08-23T15:50:24.082Z"
   },
   {
    "duration": 14,
    "start_time": "2025-08-23T15:50:24.091Z"
   },
   {
    "duration": 8,
    "start_time": "2025-08-23T15:50:24.106Z"
   },
   {
    "duration": 23,
    "start_time": "2025-08-23T15:50:24.116Z"
   },
   {
    "duration": 8,
    "start_time": "2025-08-23T15:50:24.141Z"
   },
   {
    "duration": 12,
    "start_time": "2025-08-23T15:50:24.176Z"
   },
   {
    "duration": 8,
    "start_time": "2025-08-23T15:50:24.190Z"
   },
   {
    "duration": 21,
    "start_time": "2025-08-23T15:50:24.199Z"
   },
   {
    "duration": 23,
    "start_time": "2025-08-23T15:50:24.221Z"
   },
   {
    "duration": 49,
    "start_time": "2025-08-23T15:50:24.245Z"
   },
   {
    "duration": 12,
    "start_time": "2025-08-23T15:50:24.295Z"
   },
   {
    "duration": 14,
    "start_time": "2025-08-23T15:50:24.309Z"
   },
   {
    "duration": 15,
    "start_time": "2025-08-23T15:50:24.324Z"
   },
   {
    "duration": 45,
    "start_time": "2025-08-23T15:50:24.341Z"
   },
   {
    "duration": 24,
    "start_time": "2025-08-23T15:50:24.387Z"
   },
   {
    "duration": 10,
    "start_time": "2025-08-23T15:50:24.412Z"
   },
   {
    "duration": 10,
    "start_time": "2025-08-23T15:50:24.423Z"
   },
   {
    "duration": 7,
    "start_time": "2025-08-23T15:50:24.435Z"
   },
   {
    "duration": 40,
    "start_time": "2025-08-23T15:50:24.444Z"
   },
   {
    "duration": 30,
    "start_time": "2025-08-23T15:50:24.485Z"
   },
   {
    "duration": 29,
    "start_time": "2025-08-23T15:50:24.516Z"
   },
   {
    "duration": 41,
    "start_time": "2025-08-23T15:50:24.548Z"
   },
   {
    "duration": 14,
    "start_time": "2025-08-23T15:50:24.591Z"
   },
   {
    "duration": 27,
    "start_time": "2025-08-23T15:50:24.607Z"
   },
   {
    "duration": 26,
    "start_time": "2025-08-23T15:50:24.636Z"
   },
   {
    "duration": 27,
    "start_time": "2025-08-23T15:50:24.664Z"
   },
   {
    "duration": 37,
    "start_time": "2025-08-23T15:50:24.692Z"
   },
   {
    "duration": 194,
    "start_time": "2025-08-23T15:50:24.731Z"
   },
   {
    "duration": 11,
    "start_time": "2025-08-23T15:50:24.927Z"
   },
   {
    "duration": 59,
    "start_time": "2025-08-23T15:50:24.939Z"
   },
   {
    "duration": 28,
    "start_time": "2025-08-23T15:50:24.999Z"
   },
   {
    "duration": 9,
    "start_time": "2025-08-23T15:50:25.029Z"
   },
   {
    "duration": 50,
    "start_time": "2025-08-23T15:50:25.039Z"
   },
   {
    "duration": 13,
    "start_time": "2025-08-23T15:50:25.090Z"
   },
   {
    "duration": 78,
    "start_time": "2025-08-23T15:50:25.104Z"
   },
   {
    "duration": 43,
    "start_time": "2025-08-23T15:50:25.183Z"
   },
   {
    "duration": 197,
    "start_time": "2025-08-23T15:50:25.227Z"
   },
   {
    "duration": 50,
    "start_time": "2025-08-23T15:50:25.426Z"
   },
   {
    "duration": 110,
    "start_time": "2025-08-23T15:50:25.478Z"
   },
   {
    "duration": 66,
    "start_time": "2025-08-23T15:50:25.590Z"
   },
   {
    "duration": 33,
    "start_time": "2025-08-23T15:50:25.657Z"
   },
   {
    "duration": 88,
    "start_time": "2025-08-23T15:50:25.692Z"
   },
   {
    "duration": 69,
    "start_time": "2025-08-23T15:50:25.781Z"
   },
   {
    "duration": 148,
    "start_time": "2025-08-23T15:50:25.851Z"
   },
   {
    "duration": 17,
    "start_time": "2025-08-23T15:50:26.000Z"
   },
   {
    "duration": 47,
    "start_time": "2025-08-23T15:50:26.018Z"
   },
   {
    "duration": 12,
    "start_time": "2025-08-23T15:50:26.066Z"
   },
   {
    "duration": 13,
    "start_time": "2025-08-23T15:50:26.079Z"
   },
   {
    "duration": 12,
    "start_time": "2025-08-23T15:50:26.093Z"
   },
   {
    "duration": 9,
    "start_time": "2025-08-23T15:50:26.106Z"
   },
   {
    "duration": 5,
    "start_time": "2025-08-23T15:51:29.925Z"
   },
   {
    "duration": 5,
    "start_time": "2025-08-23T15:51:46.171Z"
   },
   {
    "duration": 5,
    "start_time": "2025-08-23T15:53:09.119Z"
   },
   {
    "duration": 61,
    "start_time": "2025-08-23T16:10:08.641Z"
   },
   {
    "duration": 406,
    "start_time": "2025-08-23T16:10:30.076Z"
   },
   {
    "duration": 1203,
    "start_time": "2025-08-23T16:10:30.484Z"
   },
   {
    "duration": 22,
    "start_time": "2025-08-23T16:10:31.689Z"
   },
   {
    "duration": 53,
    "start_time": "2025-08-23T16:10:31.713Z"
   },
   {
    "duration": 41,
    "start_time": "2025-08-23T16:10:31.768Z"
   },
   {
    "duration": 76,
    "start_time": "2025-08-23T16:10:31.811Z"
   },
   {
    "duration": 9,
    "start_time": "2025-08-23T16:10:31.889Z"
   },
   {
    "duration": 28,
    "start_time": "2025-08-23T16:10:31.900Z"
   },
   {
    "duration": 36,
    "start_time": "2025-08-23T16:10:31.931Z"
   },
   {
    "duration": 31,
    "start_time": "2025-08-23T16:10:31.971Z"
   },
   {
    "duration": 22,
    "start_time": "2025-08-23T16:10:32.005Z"
   },
   {
    "duration": 46,
    "start_time": "2025-08-23T16:10:32.029Z"
   },
   {
    "duration": 16,
    "start_time": "2025-08-23T16:10:32.077Z"
   },
   {
    "duration": 21,
    "start_time": "2025-08-23T16:10:32.095Z"
   },
   {
    "duration": 25,
    "start_time": "2025-08-23T16:10:32.117Z"
   },
   {
    "duration": 40,
    "start_time": "2025-08-23T16:10:32.143Z"
   },
   {
    "duration": 13,
    "start_time": "2025-08-23T16:10:32.185Z"
   },
   {
    "duration": 15,
    "start_time": "2025-08-23T16:10:32.199Z"
   },
   {
    "duration": 15,
    "start_time": "2025-08-23T16:10:32.215Z"
   },
   {
    "duration": 56,
    "start_time": "2025-08-23T16:10:32.231Z"
   },
   {
    "duration": 28,
    "start_time": "2025-08-23T16:10:32.288Z"
   },
   {
    "duration": 28,
    "start_time": "2025-08-23T16:10:32.318Z"
   },
   {
    "duration": 19,
    "start_time": "2025-08-23T16:10:32.347Z"
   },
   {
    "duration": 15,
    "start_time": "2025-08-23T16:10:32.367Z"
   },
   {
    "duration": 20,
    "start_time": "2025-08-23T16:10:32.384Z"
   },
   {
    "duration": 48,
    "start_time": "2025-08-23T16:10:32.406Z"
   },
   {
    "duration": 40,
    "start_time": "2025-08-23T16:10:32.456Z"
   },
   {
    "duration": 30,
    "start_time": "2025-08-23T16:10:32.501Z"
   },
   {
    "duration": 18,
    "start_time": "2025-08-23T16:10:32.533Z"
   },
   {
    "duration": 74,
    "start_time": "2025-08-23T16:10:32.553Z"
   },
   {
    "duration": 36,
    "start_time": "2025-08-23T16:10:32.630Z"
   },
   {
    "duration": 26,
    "start_time": "2025-08-23T16:10:32.668Z"
   },
   {
    "duration": 23,
    "start_time": "2025-08-23T16:10:32.696Z"
   },
   {
    "duration": 137,
    "start_time": "2025-08-23T16:10:32.721Z"
   },
   {
    "duration": 25,
    "start_time": "2025-08-23T16:10:32.860Z"
   },
   {
    "duration": 122,
    "start_time": "2025-08-23T16:10:32.886Z"
   },
   {
    "duration": 31,
    "start_time": "2025-08-23T16:10:33.010Z"
   },
   {
    "duration": 35,
    "start_time": "2025-08-23T16:10:33.042Z"
   },
   {
    "duration": 21,
    "start_time": "2025-08-23T16:10:33.079Z"
   },
   {
    "duration": 12,
    "start_time": "2025-08-23T16:10:33.102Z"
   },
   {
    "duration": 23,
    "start_time": "2025-08-23T16:10:33.116Z"
   },
   {
    "duration": 72,
    "start_time": "2025-08-23T16:10:33.140Z"
   },
   {
    "duration": 213,
    "start_time": "2025-08-23T16:10:33.214Z"
   },
   {
    "duration": 54,
    "start_time": "2025-08-23T16:10:33.428Z"
   },
   {
    "duration": 118,
    "start_time": "2025-08-23T16:10:33.484Z"
   },
   {
    "duration": 86,
    "start_time": "2025-08-23T16:10:33.603Z"
   },
   {
    "duration": 19,
    "start_time": "2025-08-23T16:10:33.691Z"
   },
   {
    "duration": 128,
    "start_time": "2025-08-23T16:10:33.713Z"
   },
   {
    "duration": 81,
    "start_time": "2025-08-23T16:10:33.842Z"
   },
   {
    "duration": 152,
    "start_time": "2025-08-23T16:10:33.924Z"
   },
   {
    "duration": 17,
    "start_time": "2025-08-23T16:10:34.078Z"
   },
   {
    "duration": 109,
    "start_time": "2025-08-23T16:10:34.096Z"
   },
   {
    "duration": 5,
    "start_time": "2025-08-23T16:10:34.206Z"
   },
   {
    "duration": 63,
    "start_time": "2025-08-23T16:10:34.212Z"
   },
   {
    "duration": 0,
    "start_time": "2025-08-23T16:10:34.276Z"
   },
   {
    "duration": 0,
    "start_time": "2025-08-23T16:10:34.278Z"
   },
   {
    "duration": 0,
    "start_time": "2025-08-23T16:10:34.278Z"
   },
   {
    "duration": 0,
    "start_time": "2025-08-23T16:10:34.280Z"
   },
   {
    "duration": 0,
    "start_time": "2025-08-23T16:10:34.280Z"
   },
   {
    "duration": 21,
    "start_time": "2025-08-23T16:10:50.808Z"
   },
   {
    "duration": 4,
    "start_time": "2025-08-23T16:12:07.789Z"
   },
   {
    "duration": 432,
    "start_time": "2025-08-23T16:12:34.854Z"
   },
   {
    "duration": 1321,
    "start_time": "2025-08-23T16:12:35.288Z"
   },
   {
    "duration": 23,
    "start_time": "2025-08-23T16:12:36.610Z"
   },
   {
    "duration": 19,
    "start_time": "2025-08-23T16:12:36.635Z"
   },
   {
    "duration": 32,
    "start_time": "2025-08-23T16:12:36.656Z"
   },
   {
    "duration": 38,
    "start_time": "2025-08-23T16:12:36.689Z"
   },
   {
    "duration": 10,
    "start_time": "2025-08-23T16:12:36.728Z"
   },
   {
    "duration": 37,
    "start_time": "2025-08-23T16:12:36.740Z"
   },
   {
    "duration": 11,
    "start_time": "2025-08-23T16:12:36.778Z"
   },
   {
    "duration": 29,
    "start_time": "2025-08-23T16:12:36.791Z"
   },
   {
    "duration": 10,
    "start_time": "2025-08-23T16:12:36.822Z"
   },
   {
    "duration": 48,
    "start_time": "2025-08-23T16:12:36.834Z"
   },
   {
    "duration": 9,
    "start_time": "2025-08-23T16:12:36.884Z"
   },
   {
    "duration": 36,
    "start_time": "2025-08-23T16:12:36.895Z"
   },
   {
    "duration": 64,
    "start_time": "2025-08-23T16:12:36.933Z"
   },
   {
    "duration": 26,
    "start_time": "2025-08-23T16:12:36.999Z"
   },
   {
    "duration": 15,
    "start_time": "2025-08-23T16:12:37.026Z"
   },
   {
    "duration": 16,
    "start_time": "2025-08-23T16:12:37.042Z"
   },
   {
    "duration": 26,
    "start_time": "2025-08-23T16:12:37.059Z"
   },
   {
    "duration": 28,
    "start_time": "2025-08-23T16:12:37.086Z"
   },
   {
    "duration": 28,
    "start_time": "2025-08-23T16:12:37.115Z"
   },
   {
    "duration": 12,
    "start_time": "2025-08-23T16:12:37.144Z"
   },
   {
    "duration": 29,
    "start_time": "2025-08-23T16:12:37.158Z"
   },
   {
    "duration": 56,
    "start_time": "2025-08-23T16:12:37.188Z"
   },
   {
    "duration": 26,
    "start_time": "2025-08-23T16:12:37.246Z"
   },
   {
    "duration": 34,
    "start_time": "2025-08-23T16:12:37.273Z"
   },
   {
    "duration": 71,
    "start_time": "2025-08-23T16:12:37.309Z"
   },
   {
    "duration": 30,
    "start_time": "2025-08-23T16:12:37.383Z"
   },
   {
    "duration": 15,
    "start_time": "2025-08-23T16:12:37.415Z"
   },
   {
    "duration": 65,
    "start_time": "2025-08-23T16:12:37.431Z"
   },
   {
    "duration": 21,
    "start_time": "2025-08-23T16:12:37.498Z"
   },
   {
    "duration": 65,
    "start_time": "2025-08-23T16:12:37.521Z"
   },
   {
    "duration": 73,
    "start_time": "2025-08-23T16:12:37.587Z"
   },
   {
    "duration": 108,
    "start_time": "2025-08-23T16:12:37.662Z"
   },
   {
    "duration": 12,
    "start_time": "2025-08-23T16:12:37.772Z"
   },
   {
    "duration": 47,
    "start_time": "2025-08-23T16:12:37.786Z"
   },
   {
    "duration": 46,
    "start_time": "2025-08-23T16:12:37.834Z"
   },
   {
    "duration": 15,
    "start_time": "2025-08-23T16:12:37.882Z"
   },
   {
    "duration": 80,
    "start_time": "2025-08-23T16:12:37.899Z"
   },
   {
    "duration": 23,
    "start_time": "2025-08-23T16:12:37.981Z"
   },
   {
    "duration": 94,
    "start_time": "2025-08-23T16:12:38.006Z"
   },
   {
    "duration": 99,
    "start_time": "2025-08-23T16:12:38.102Z"
   },
   {
    "duration": 216,
    "start_time": "2025-08-23T16:12:38.203Z"
   },
   {
    "duration": 57,
    "start_time": "2025-08-23T16:12:38.420Z"
   },
   {
    "duration": 121,
    "start_time": "2025-08-23T16:12:38.478Z"
   },
   {
    "duration": 86,
    "start_time": "2025-08-23T16:12:38.601Z"
   },
   {
    "duration": 18,
    "start_time": "2025-08-23T16:12:38.689Z"
   },
   {
    "duration": 94,
    "start_time": "2025-08-23T16:12:38.709Z"
   },
   {
    "duration": 81,
    "start_time": "2025-08-23T16:12:38.805Z"
   },
   {
    "duration": 149,
    "start_time": "2025-08-23T16:12:38.888Z"
   },
   {
    "duration": 18,
    "start_time": "2025-08-23T16:12:39.039Z"
   },
   {
    "duration": 33,
    "start_time": "2025-08-23T16:12:39.058Z"
   },
   {
    "duration": 6,
    "start_time": "2025-08-23T16:12:39.092Z"
   },
   {
    "duration": 4,
    "start_time": "2025-08-23T16:12:39.100Z"
   },
   {
    "duration": 15,
    "start_time": "2025-08-23T16:12:39.105Z"
   },
   {
    "duration": 9,
    "start_time": "2025-08-23T16:12:39.121Z"
   },
   {
    "duration": 6,
    "start_time": "2025-08-23T16:12:39.131Z"
   },
   {
    "duration": 47,
    "start_time": "2025-08-23T16:12:39.138Z"
   },
   {
    "duration": 9,
    "start_time": "2025-08-23T16:12:39.187Z"
   },
   {
    "duration": 22,
    "start_time": "2025-08-23T16:13:06.752Z"
   },
   {
    "duration": 4,
    "start_time": "2025-08-23T16:16:25.984Z"
   },
   {
    "duration": 18,
    "start_time": "2025-08-23T16:16:30.519Z"
   },
   {
    "duration": 20,
    "start_time": "2025-08-23T16:18:05.149Z"
   },
   {
    "duration": 63,
    "start_time": "2025-08-23T16:19:16.613Z"
   },
   {
    "duration": 7,
    "start_time": "2025-08-23T16:19:41.298Z"
   },
   {
    "duration": 5,
    "start_time": "2025-08-23T16:19:51.766Z"
   },
   {
    "duration": 5,
    "start_time": "2025-08-23T16:20:07.073Z"
   },
   {
    "duration": 4,
    "start_time": "2025-08-23T16:20:16.188Z"
   },
   {
    "duration": 139,
    "start_time": "2025-08-23T16:28:04.255Z"
   },
   {
    "duration": 105,
    "start_time": "2025-08-23T16:28:30.405Z"
   },
   {
    "duration": 12,
    "start_time": "2025-08-23T16:28:57.773Z"
   },
   {
    "duration": 17,
    "start_time": "2025-08-23T16:29:12.245Z"
   },
   {
    "duration": 11,
    "start_time": "2025-08-23T16:32:10.673Z"
   },
   {
    "duration": 10,
    "start_time": "2025-08-23T16:32:41.069Z"
   },
   {
    "duration": 404,
    "start_time": "2025-08-23T16:32:57.868Z"
   },
   {
    "duration": 1133,
    "start_time": "2025-08-23T16:32:58.274Z"
   },
   {
    "duration": 20,
    "start_time": "2025-08-23T16:32:59.409Z"
   },
   {
    "duration": 17,
    "start_time": "2025-08-23T16:32:59.430Z"
   },
   {
    "duration": 14,
    "start_time": "2025-08-23T16:32:59.448Z"
   },
   {
    "duration": 33,
    "start_time": "2025-08-23T16:32:59.476Z"
   },
   {
    "duration": 8,
    "start_time": "2025-08-23T16:32:59.511Z"
   },
   {
    "duration": 17,
    "start_time": "2025-08-23T16:32:59.520Z"
   },
   {
    "duration": 8,
    "start_time": "2025-08-23T16:32:59.538Z"
   },
   {
    "duration": 50,
    "start_time": "2025-08-23T16:32:59.548Z"
   },
   {
    "duration": 8,
    "start_time": "2025-08-23T16:32:59.599Z"
   },
   {
    "duration": 37,
    "start_time": "2025-08-23T16:32:59.609Z"
   },
   {
    "duration": 11,
    "start_time": "2025-08-23T16:32:59.647Z"
   },
   {
    "duration": 28,
    "start_time": "2025-08-23T16:32:59.659Z"
   },
   {
    "duration": 25,
    "start_time": "2025-08-23T16:32:59.688Z"
   },
   {
    "duration": 24,
    "start_time": "2025-08-23T16:32:59.714Z"
   },
   {
    "duration": 38,
    "start_time": "2025-08-23T16:32:59.739Z"
   },
   {
    "duration": 74,
    "start_time": "2025-08-23T16:32:59.778Z"
   },
   {
    "duration": 15,
    "start_time": "2025-08-23T16:32:59.853Z"
   },
   {
    "duration": 41,
    "start_time": "2025-08-23T16:32:59.870Z"
   },
   {
    "duration": 24,
    "start_time": "2025-08-23T16:32:59.912Z"
   },
   {
    "duration": 14,
    "start_time": "2025-08-23T16:32:59.938Z"
   },
   {
    "duration": 20,
    "start_time": "2025-08-23T16:32:59.953Z"
   },
   {
    "duration": 92,
    "start_time": "2025-08-23T16:32:59.974Z"
   },
   {
    "duration": 91,
    "start_time": "2025-08-23T16:33:00.068Z"
   },
   {
    "duration": 33,
    "start_time": "2025-08-23T16:33:00.160Z"
   },
   {
    "duration": 28,
    "start_time": "2025-08-23T16:33:00.194Z"
   },
   {
    "duration": 101,
    "start_time": "2025-08-23T16:33:00.225Z"
   },
   {
    "duration": 31,
    "start_time": "2025-08-23T16:33:00.328Z"
   },
   {
    "duration": 43,
    "start_time": "2025-08-23T16:33:00.361Z"
   },
   {
    "duration": 32,
    "start_time": "2025-08-23T16:33:00.406Z"
   },
   {
    "duration": 34,
    "start_time": "2025-08-23T16:33:00.439Z"
   },
   {
    "duration": 22,
    "start_time": "2025-08-23T16:33:00.474Z"
   },
   {
    "duration": 124,
    "start_time": "2025-08-23T16:33:00.497Z"
   },
   {
    "duration": 12,
    "start_time": "2025-08-23T16:33:00.623Z"
   },
   {
    "duration": 62,
    "start_time": "2025-08-23T16:33:00.638Z"
   },
   {
    "duration": 30,
    "start_time": "2025-08-23T16:33:00.702Z"
   },
   {
    "duration": 11,
    "start_time": "2025-08-23T16:33:00.734Z"
   },
   {
    "duration": 50,
    "start_time": "2025-08-23T16:33:00.746Z"
   },
   {
    "duration": 14,
    "start_time": "2025-08-23T16:33:00.798Z"
   },
   {
    "duration": 38,
    "start_time": "2025-08-23T16:33:00.813Z"
   },
   {
    "duration": 61,
    "start_time": "2025-08-23T16:33:00.852Z"
   },
   {
    "duration": 198,
    "start_time": "2025-08-23T16:33:00.914Z"
   },
   {
    "duration": 24,
    "start_time": "2025-08-23T16:33:01.114Z"
   },
   {
    "duration": 138,
    "start_time": "2025-08-23T16:33:01.139Z"
   },
   {
    "duration": 64,
    "start_time": "2025-08-23T16:33:01.279Z"
   },
   {
    "duration": 44,
    "start_time": "2025-08-23T16:33:01.345Z"
   },
   {
    "duration": 74,
    "start_time": "2025-08-23T16:33:01.391Z"
   },
   {
    "duration": 82,
    "start_time": "2025-08-23T16:33:01.467Z"
   },
   {
    "duration": 144,
    "start_time": "2025-08-23T16:33:01.551Z"
   },
   {
    "duration": 4,
    "start_time": "2025-08-23T16:33:01.697Z"
   },
   {
    "duration": 28,
    "start_time": "2025-08-23T16:33:01.703Z"
   },
   {
    "duration": 45,
    "start_time": "2025-08-23T16:33:01.732Z"
   },
   {
    "duration": 110,
    "start_time": "2025-08-23T16:33:01.779Z"
   },
   {
    "duration": 13,
    "start_time": "2025-08-23T16:33:01.890Z"
   },
   {
    "duration": 25,
    "start_time": "2025-08-23T16:33:01.905Z"
   },
   {
    "duration": 48,
    "start_time": "2025-08-23T16:33:01.931Z"
   },
   {
    "duration": 9,
    "start_time": "2025-08-23T16:33:01.981Z"
   },
   {
    "duration": 17,
    "start_time": "2025-08-23T16:33:01.993Z"
   },
   {
    "duration": 6,
    "start_time": "2025-08-23T16:36:42.638Z"
   },
   {
    "duration": 6,
    "start_time": "2025-08-23T16:36:58.709Z"
   },
   {
    "duration": 9,
    "start_time": "2025-08-23T16:37:41.382Z"
   },
   {
    "duration": 9,
    "start_time": "2025-08-23T16:38:04.539Z"
   },
   {
    "duration": 6,
    "start_time": "2025-08-23T16:39:58.568Z"
   },
   {
    "duration": 9,
    "start_time": "2025-08-23T16:40:07.691Z"
   },
   {
    "duration": 8,
    "start_time": "2025-08-23T16:40:19.406Z"
   },
   {
    "duration": 7,
    "start_time": "2025-08-23T16:40:25.491Z"
   },
   {
    "duration": 65,
    "start_time": "2025-08-23T16:40:39.336Z"
   },
   {
    "duration": 10,
    "start_time": "2025-08-23T16:41:09.640Z"
   },
   {
    "duration": 52,
    "start_time": "2025-08-23T16:41:43.262Z"
   },
   {
    "duration": 6,
    "start_time": "2025-08-23T16:41:53.740Z"
   },
   {
    "duration": 406,
    "start_time": "2025-08-23T16:41:59.466Z"
   },
   {
    "duration": 1144,
    "start_time": "2025-08-23T16:41:59.874Z"
   },
   {
    "duration": 20,
    "start_time": "2025-08-23T16:42:01.020Z"
   },
   {
    "duration": 114,
    "start_time": "2025-08-23T16:42:01.043Z"
   },
   {
    "duration": 43,
    "start_time": "2025-08-23T16:42:01.159Z"
   },
   {
    "duration": 106,
    "start_time": "2025-08-23T16:42:01.204Z"
   },
   {
    "duration": 31,
    "start_time": "2025-08-23T16:42:01.312Z"
   },
   {
    "duration": 120,
    "start_time": "2025-08-23T16:42:01.344Z"
   },
   {
    "duration": 96,
    "start_time": "2025-08-23T16:42:01.465Z"
   },
   {
    "duration": 62,
    "start_time": "2025-08-23T16:42:01.563Z"
   },
   {
    "duration": 25,
    "start_time": "2025-08-23T16:42:01.626Z"
   },
   {
    "duration": 87,
    "start_time": "2025-08-23T16:42:01.653Z"
   },
   {
    "duration": 27,
    "start_time": "2025-08-23T16:42:01.742Z"
   },
   {
    "duration": 123,
    "start_time": "2025-08-23T16:42:01.771Z"
   },
   {
    "duration": 36,
    "start_time": "2025-08-23T16:42:01.896Z"
   },
   {
    "duration": 55,
    "start_time": "2025-08-23T16:42:01.933Z"
   },
   {
    "duration": 41,
    "start_time": "2025-08-23T16:42:01.990Z"
   },
   {
    "duration": 50,
    "start_time": "2025-08-23T16:42:02.033Z"
   },
   {
    "duration": 47,
    "start_time": "2025-08-23T16:42:02.085Z"
   },
   {
    "duration": 65,
    "start_time": "2025-08-23T16:42:02.134Z"
   },
   {
    "duration": 31,
    "start_time": "2025-08-23T16:42:02.200Z"
   },
   {
    "duration": 146,
    "start_time": "2025-08-23T16:42:02.233Z"
   },
   {
    "duration": 20,
    "start_time": "2025-08-23T16:42:02.380Z"
   },
   {
    "duration": 94,
    "start_time": "2025-08-23T16:42:02.402Z"
   },
   {
    "duration": 17,
    "start_time": "2025-08-23T16:42:02.498Z"
   },
   {
    "duration": 32,
    "start_time": "2025-08-23T16:42:02.517Z"
   },
   {
    "duration": 40,
    "start_time": "2025-08-23T16:42:02.550Z"
   },
   {
    "duration": 40,
    "start_time": "2025-08-23T16:42:02.594Z"
   },
   {
    "duration": 58,
    "start_time": "2025-08-23T16:42:02.636Z"
   },
   {
    "duration": 44,
    "start_time": "2025-08-23T16:42:02.695Z"
   },
   {
    "duration": 65,
    "start_time": "2025-08-23T16:42:02.740Z"
   },
   {
    "duration": 65,
    "start_time": "2025-08-23T16:42:02.806Z"
   },
   {
    "duration": 47,
    "start_time": "2025-08-23T16:42:02.872Z"
   },
   {
    "duration": 133,
    "start_time": "2025-08-23T16:42:02.920Z"
   },
   {
    "duration": 12,
    "start_time": "2025-08-23T16:42:03.055Z"
   },
   {
    "duration": 103,
    "start_time": "2025-08-23T16:42:03.069Z"
   },
   {
    "duration": 32,
    "start_time": "2025-08-23T16:42:03.174Z"
   },
   {
    "duration": 56,
    "start_time": "2025-08-23T16:42:03.208Z"
   },
   {
    "duration": 36,
    "start_time": "2025-08-23T16:42:03.266Z"
   },
   {
    "duration": 14,
    "start_time": "2025-08-23T16:42:03.303Z"
   },
   {
    "duration": 25,
    "start_time": "2025-08-23T16:42:03.318Z"
   },
   {
    "duration": 135,
    "start_time": "2025-08-23T16:42:03.345Z"
   },
   {
    "duration": 228,
    "start_time": "2025-08-23T16:42:03.482Z"
   },
   {
    "duration": 28,
    "start_time": "2025-08-23T16:42:03.712Z"
   },
   {
    "duration": 146,
    "start_time": "2025-08-23T16:42:03.742Z"
   },
   {
    "duration": 64,
    "start_time": "2025-08-23T16:42:03.889Z"
   },
   {
    "duration": 39,
    "start_time": "2025-08-23T16:42:03.954Z"
   },
   {
    "duration": 87,
    "start_time": "2025-08-23T16:42:03.994Z"
   },
   {
    "duration": 68,
    "start_time": "2025-08-23T16:42:04.084Z"
   },
   {
    "duration": 145,
    "start_time": "2025-08-23T16:42:04.154Z"
   },
   {
    "duration": 5,
    "start_time": "2025-08-23T16:42:04.301Z"
   },
   {
    "duration": 66,
    "start_time": "2025-08-23T16:42:04.307Z"
   },
   {
    "duration": 21,
    "start_time": "2025-08-23T16:42:04.375Z"
   },
   {
    "duration": 31,
    "start_time": "2025-08-23T16:42:04.398Z"
   },
   {
    "duration": 45,
    "start_time": "2025-08-23T16:42:04.431Z"
   },
   {
    "duration": 10,
    "start_time": "2025-08-23T16:42:04.478Z"
   },
   {
    "duration": 7,
    "start_time": "2025-08-23T16:42:04.489Z"
   },
   {
    "duration": 13,
    "start_time": "2025-08-23T16:42:04.497Z"
   },
   {
    "duration": 15,
    "start_time": "2025-08-23T16:42:04.511Z"
   },
   {
    "duration": 10,
    "start_time": "2025-08-23T16:43:40.378Z"
   },
   {
    "duration": 9,
    "start_time": "2025-08-23T16:43:41.852Z"
   },
   {
    "duration": 9,
    "start_time": "2025-08-23T16:43:48.752Z"
   },
   {
    "duration": 9,
    "start_time": "2025-08-23T16:43:49.285Z"
   },
   {
    "duration": 48,
    "start_time": "2025-08-24T11:16:55.281Z"
   },
   {
    "duration": 430,
    "start_time": "2025-08-24T11:17:02.537Z"
   },
   {
    "duration": 2040,
    "start_time": "2025-08-24T11:17:02.969Z"
   },
   {
    "duration": 24,
    "start_time": "2025-08-24T11:17:05.011Z"
   },
   {
    "duration": 21,
    "start_time": "2025-08-24T11:17:05.036Z"
   },
   {
    "duration": 21,
    "start_time": "2025-08-24T11:17:05.059Z"
   },
   {
    "duration": 36,
    "start_time": "2025-08-24T11:17:05.081Z"
   },
   {
    "duration": 21,
    "start_time": "2025-08-24T11:17:05.119Z"
   },
   {
    "duration": 18,
    "start_time": "2025-08-24T11:17:05.142Z"
   },
   {
    "duration": 9,
    "start_time": "2025-08-24T11:17:05.161Z"
   },
   {
    "duration": 29,
    "start_time": "2025-08-24T11:17:05.172Z"
   },
   {
    "duration": 38,
    "start_time": "2025-08-24T11:17:05.202Z"
   },
   {
    "duration": 15,
    "start_time": "2025-08-24T11:17:05.242Z"
   },
   {
    "duration": 10,
    "start_time": "2025-08-24T11:17:05.258Z"
   },
   {
    "duration": 24,
    "start_time": "2025-08-24T11:17:05.269Z"
   },
   {
    "duration": 52,
    "start_time": "2025-08-24T11:17:05.295Z"
   },
   {
    "duration": 27,
    "start_time": "2025-08-24T11:17:05.348Z"
   },
   {
    "duration": 16,
    "start_time": "2025-08-24T11:17:05.376Z"
   },
   {
    "duration": 24,
    "start_time": "2025-08-24T11:17:05.394Z"
   },
   {
    "duration": 34,
    "start_time": "2025-08-24T11:17:05.419Z"
   },
   {
    "duration": 28,
    "start_time": "2025-08-24T11:17:05.455Z"
   },
   {
    "duration": 26,
    "start_time": "2025-08-24T11:17:05.485Z"
   },
   {
    "duration": 33,
    "start_time": "2025-08-24T11:17:05.512Z"
   },
   {
    "duration": 16,
    "start_time": "2025-08-24T11:17:05.547Z"
   },
   {
    "duration": 27,
    "start_time": "2025-08-24T11:17:05.565Z"
   },
   {
    "duration": 29,
    "start_time": "2025-08-24T11:17:05.594Z"
   },
   {
    "duration": 32,
    "start_time": "2025-08-24T11:17:05.625Z"
   },
   {
    "duration": 30,
    "start_time": "2025-08-24T11:17:05.658Z"
   },
   {
    "duration": 59,
    "start_time": "2025-08-24T11:17:05.691Z"
   },
   {
    "duration": 16,
    "start_time": "2025-08-24T11:17:05.752Z"
   },
   {
    "duration": 21,
    "start_time": "2025-08-24T11:17:05.770Z"
   },
   {
    "duration": 49,
    "start_time": "2025-08-24T11:17:05.793Z"
   },
   {
    "duration": 22,
    "start_time": "2025-08-24T11:17:05.844Z"
   },
   {
    "duration": 37,
    "start_time": "2025-08-24T11:17:05.867Z"
   },
   {
    "duration": 121,
    "start_time": "2025-08-24T11:17:05.906Z"
   },
   {
    "duration": 19,
    "start_time": "2025-08-24T11:17:06.029Z"
   },
   {
    "duration": 66,
    "start_time": "2025-08-24T11:17:06.049Z"
   },
   {
    "duration": 50,
    "start_time": "2025-08-24T11:17:06.116Z"
   },
   {
    "duration": 11,
    "start_time": "2025-08-24T11:17:06.168Z"
   },
   {
    "duration": 33,
    "start_time": "2025-08-24T11:17:06.180Z"
   },
   {
    "duration": 32,
    "start_time": "2025-08-24T11:17:06.215Z"
   },
   {
    "duration": 26,
    "start_time": "2025-08-24T11:17:06.249Z"
   },
   {
    "duration": 67,
    "start_time": "2025-08-24T11:17:06.277Z"
   },
   {
    "duration": 219,
    "start_time": "2025-08-24T11:17:06.346Z"
   },
   {
    "duration": 30,
    "start_time": "2025-08-24T11:17:06.567Z"
   },
   {
    "duration": 144,
    "start_time": "2025-08-24T11:17:06.599Z"
   },
   {
    "duration": 66,
    "start_time": "2025-08-24T11:17:06.744Z"
   },
   {
    "duration": 38,
    "start_time": "2025-08-24T11:17:06.812Z"
   },
   {
    "duration": 75,
    "start_time": "2025-08-24T11:17:06.852Z"
   },
   {
    "duration": 72,
    "start_time": "2025-08-24T11:17:06.938Z"
   },
   {
    "duration": 154,
    "start_time": "2025-08-24T11:17:07.011Z"
   },
   {
    "duration": 5,
    "start_time": "2025-08-24T11:17:07.167Z"
   },
   {
    "duration": 27,
    "start_time": "2025-08-24T11:17:07.174Z"
   },
   {
    "duration": 17,
    "start_time": "2025-08-24T11:17:07.202Z"
   },
   {
    "duration": 23,
    "start_time": "2025-08-24T11:17:07.220Z"
   },
   {
    "duration": 13,
    "start_time": "2025-08-24T11:17:07.244Z"
   },
   {
    "duration": 10,
    "start_time": "2025-08-24T11:17:07.259Z"
   },
   {
    "duration": 7,
    "start_time": "2025-08-24T11:17:07.270Z"
   },
   {
    "duration": 20,
    "start_time": "2025-08-24T11:17:07.279Z"
   },
   {
    "duration": 9,
    "start_time": "2025-08-24T11:17:07.301Z"
   },
   {
    "duration": 8,
    "start_time": "2025-08-24T11:24:52.584Z"
   },
   {
    "duration": 6,
    "start_time": "2025-08-24T11:50:22.709Z"
   },
   {
    "duration": 423,
    "start_time": "2025-08-24T11:53:50.912Z"
   },
   {
    "duration": 1183,
    "start_time": "2025-08-24T11:53:51.338Z"
   },
   {
    "duration": 28,
    "start_time": "2025-08-24T11:53:52.523Z"
   },
   {
    "duration": 20,
    "start_time": "2025-08-24T11:53:52.553Z"
   },
   {
    "duration": 16,
    "start_time": "2025-08-24T11:53:52.575Z"
   },
   {
    "duration": 63,
    "start_time": "2025-08-24T11:53:52.592Z"
   },
   {
    "duration": 9,
    "start_time": "2025-08-24T11:53:52.657Z"
   },
   {
    "duration": 16,
    "start_time": "2025-08-24T11:53:52.668Z"
   },
   {
    "duration": 9,
    "start_time": "2025-08-24T11:53:52.685Z"
   },
   {
    "duration": 57,
    "start_time": "2025-08-24T11:53:52.697Z"
   },
   {
    "duration": 12,
    "start_time": "2025-08-24T11:53:52.756Z"
   },
   {
    "duration": 39,
    "start_time": "2025-08-24T11:53:52.770Z"
   },
   {
    "duration": 13,
    "start_time": "2025-08-24T11:53:52.811Z"
   },
   {
    "duration": 94,
    "start_time": "2025-08-24T11:53:52.826Z"
   },
   {
    "duration": 46,
    "start_time": "2025-08-24T11:53:52.921Z"
   },
   {
    "duration": 26,
    "start_time": "2025-08-24T11:53:52.968Z"
   },
   {
    "duration": 14,
    "start_time": "2025-08-24T11:53:52.995Z"
   },
   {
    "duration": 42,
    "start_time": "2025-08-24T11:53:53.011Z"
   },
   {
    "duration": 17,
    "start_time": "2025-08-24T11:53:53.054Z"
   },
   {
    "duration": 26,
    "start_time": "2025-08-24T11:53:53.073Z"
   },
   {
    "duration": 43,
    "start_time": "2025-08-24T11:53:53.100Z"
   },
   {
    "duration": 50,
    "start_time": "2025-08-24T11:53:53.145Z"
   },
   {
    "duration": 13,
    "start_time": "2025-08-24T11:53:53.196Z"
   },
   {
    "duration": 15,
    "start_time": "2025-08-24T11:53:53.211Z"
   },
   {
    "duration": 13,
    "start_time": "2025-08-24T11:53:53.228Z"
   },
   {
    "duration": 31,
    "start_time": "2025-08-24T11:53:53.242Z"
   },
   {
    "duration": 30,
    "start_time": "2025-08-24T11:53:53.275Z"
   },
   {
    "duration": 49,
    "start_time": "2025-08-24T11:53:53.309Z"
   },
   {
    "duration": 16,
    "start_time": "2025-08-24T11:53:53.359Z"
   },
   {
    "duration": 22,
    "start_time": "2025-08-24T11:53:53.377Z"
   },
   {
    "duration": 45,
    "start_time": "2025-08-24T11:53:53.400Z"
   },
   {
    "duration": 17,
    "start_time": "2025-08-24T11:53:53.447Z"
   },
   {
    "duration": 26,
    "start_time": "2025-08-24T11:53:53.465Z"
   },
   {
    "duration": 144,
    "start_time": "2025-08-24T11:53:53.493Z"
   },
   {
    "duration": 19,
    "start_time": "2025-08-24T11:53:53.639Z"
   },
   {
    "duration": 81,
    "start_time": "2025-08-24T11:53:53.659Z"
   },
   {
    "duration": 33,
    "start_time": "2025-08-24T11:53:53.742Z"
   },
   {
    "duration": 11,
    "start_time": "2025-08-24T11:53:53.776Z"
   },
   {
    "duration": 52,
    "start_time": "2025-08-24T11:53:53.788Z"
   },
   {
    "duration": 15,
    "start_time": "2025-08-24T11:53:53.842Z"
   },
   {
    "duration": 24,
    "start_time": "2025-08-24T11:53:53.859Z"
   },
   {
    "duration": 67,
    "start_time": "2025-08-24T11:53:53.885Z"
   },
   {
    "duration": 220,
    "start_time": "2025-08-24T11:53:53.954Z"
   },
   {
    "duration": 25,
    "start_time": "2025-08-24T11:53:54.176Z"
   },
   {
    "duration": 139,
    "start_time": "2025-08-24T11:53:54.203Z"
   },
   {
    "duration": 66,
    "start_time": "2025-08-24T11:53:54.343Z"
   },
   {
    "duration": 42,
    "start_time": "2025-08-24T11:53:54.411Z"
   },
   {
    "duration": 85,
    "start_time": "2025-08-24T11:53:54.455Z"
   },
   {
    "duration": 71,
    "start_time": "2025-08-24T11:53:54.541Z"
   },
   {
    "duration": 153,
    "start_time": "2025-08-24T11:53:54.614Z"
   },
   {
    "duration": 4,
    "start_time": "2025-08-24T11:53:54.769Z"
   },
   {
    "duration": 20,
    "start_time": "2025-08-24T11:53:54.775Z"
   },
   {
    "duration": 15,
    "start_time": "2025-08-24T11:53:54.796Z"
   },
   {
    "duration": 27,
    "start_time": "2025-08-24T11:53:54.813Z"
   },
   {
    "duration": 58,
    "start_time": "2025-08-24T11:53:54.842Z"
   },
   {
    "duration": 8,
    "start_time": "2025-08-24T11:53:54.902Z"
   },
   {
    "duration": 6,
    "start_time": "2025-08-24T11:53:54.911Z"
   },
   {
    "duration": 9,
    "start_time": "2025-08-24T11:53:54.918Z"
   },
   {
    "duration": 8,
    "start_time": "2025-08-24T11:53:54.928Z"
   },
   {
    "duration": 4,
    "start_time": "2025-08-24T11:53:54.938Z"
   },
   {
    "duration": 33,
    "start_time": "2025-08-24T11:53:54.944Z"
   },
   {
    "duration": 16,
    "start_time": "2025-08-24T11:53:54.979Z"
   },
   {
    "duration": 5,
    "start_time": "2025-08-24T11:53:54.997Z"
   },
   {
    "duration": 36,
    "start_time": "2025-08-24T11:53:55.004Z"
   },
   {
    "duration": 10,
    "start_time": "2025-08-24T11:53:55.042Z"
   },
   {
    "duration": 10,
    "start_time": "2025-08-24T11:53:55.053Z"
   },
   {
    "duration": 15,
    "start_time": "2025-08-24T11:53:55.064Z"
   },
   {
    "duration": 103,
    "start_time": "2025-08-24T11:53:55.081Z"
   },
   {
    "duration": 428,
    "start_time": "2025-08-24T13:01:43.151Z"
   },
   {
    "duration": 1209,
    "start_time": "2025-08-24T13:01:43.581Z"
   },
   {
    "duration": 32,
    "start_time": "2025-08-24T13:01:44.792Z"
   },
   {
    "duration": 55,
    "start_time": "2025-08-24T13:01:44.838Z"
   },
   {
    "duration": 41,
    "start_time": "2025-08-24T13:01:44.895Z"
   },
   {
    "duration": 39,
    "start_time": "2025-08-24T13:01:44.938Z"
   },
   {
    "duration": 9,
    "start_time": "2025-08-24T13:01:44.979Z"
   },
   {
    "duration": 26,
    "start_time": "2025-08-24T13:01:44.989Z"
   },
   {
    "duration": 68,
    "start_time": "2025-08-24T13:01:45.018Z"
   },
   {
    "duration": 98,
    "start_time": "2025-08-24T13:01:45.089Z"
   },
   {
    "duration": 102,
    "start_time": "2025-08-24T13:01:45.189Z"
   },
   {
    "duration": 68,
    "start_time": "2025-08-24T13:01:45.293Z"
   },
   {
    "duration": 19,
    "start_time": "2025-08-24T13:01:45.363Z"
   },
   {
    "duration": 53,
    "start_time": "2025-08-24T13:01:45.384Z"
   },
   {
    "duration": 51,
    "start_time": "2025-08-24T13:01:45.439Z"
   },
   {
    "duration": 36,
    "start_time": "2025-08-24T13:01:45.492Z"
   },
   {
    "duration": 107,
    "start_time": "2025-08-24T13:01:45.529Z"
   },
   {
    "duration": 25,
    "start_time": "2025-08-24T13:01:45.638Z"
   },
   {
    "duration": 36,
    "start_time": "2025-08-24T13:01:45.664Z"
   },
   {
    "duration": 49,
    "start_time": "2025-08-24T13:01:45.701Z"
   },
   {
    "duration": 50,
    "start_time": "2025-08-24T13:01:45.751Z"
   },
   {
    "duration": 36,
    "start_time": "2025-08-24T13:01:45.802Z"
   },
   {
    "duration": 24,
    "start_time": "2025-08-24T13:01:45.840Z"
   },
   {
    "duration": 25,
    "start_time": "2025-08-24T13:01:45.865Z"
   },
   {
    "duration": 22,
    "start_time": "2025-08-24T13:01:45.892Z"
   },
   {
    "duration": 44,
    "start_time": "2025-08-24T13:01:45.916Z"
   },
   {
    "duration": 40,
    "start_time": "2025-08-24T13:01:45.963Z"
   },
   {
    "duration": 43,
    "start_time": "2025-08-24T13:01:46.007Z"
   },
   {
    "duration": 36,
    "start_time": "2025-08-24T13:01:46.052Z"
   },
   {
    "duration": 34,
    "start_time": "2025-08-24T13:01:46.089Z"
   },
   {
    "duration": 57,
    "start_time": "2025-08-24T13:01:46.124Z"
   },
   {
    "duration": 32,
    "start_time": "2025-08-24T13:01:46.184Z"
   },
   {
    "duration": 33,
    "start_time": "2025-08-24T13:01:46.218Z"
   },
   {
    "duration": 144,
    "start_time": "2025-08-24T13:01:46.253Z"
   },
   {
    "duration": 19,
    "start_time": "2025-08-24T13:01:46.399Z"
   },
   {
    "duration": 75,
    "start_time": "2025-08-24T13:01:46.420Z"
   },
   {
    "duration": 67,
    "start_time": "2025-08-24T13:01:46.497Z"
   },
   {
    "duration": 14,
    "start_time": "2025-08-24T13:01:46.567Z"
   },
   {
    "duration": 64,
    "start_time": "2025-08-24T13:01:46.583Z"
   },
   {
    "duration": 21,
    "start_time": "2025-08-24T13:01:46.650Z"
   },
   {
    "duration": 44,
    "start_time": "2025-08-24T13:01:46.673Z"
   },
   {
    "duration": 66,
    "start_time": "2025-08-24T13:01:46.719Z"
   },
   {
    "duration": 261,
    "start_time": "2025-08-24T13:01:46.787Z"
   },
   {
    "duration": 26,
    "start_time": "2025-08-24T13:01:47.050Z"
   },
   {
    "duration": 134,
    "start_time": "2025-08-24T13:01:47.078Z"
   },
   {
    "duration": 93,
    "start_time": "2025-08-24T13:01:47.213Z"
   },
   {
    "duration": 47,
    "start_time": "2025-08-24T13:01:47.307Z"
   },
   {
    "duration": 86,
    "start_time": "2025-08-24T13:01:47.357Z"
   },
   {
    "duration": 74,
    "start_time": "2025-08-24T13:01:47.445Z"
   },
   {
    "duration": 179,
    "start_time": "2025-08-24T13:01:47.521Z"
   },
   {
    "duration": 5,
    "start_time": "2025-08-24T13:01:47.702Z"
   },
   {
    "duration": 32,
    "start_time": "2025-08-24T13:01:47.709Z"
   },
   {
    "duration": 17,
    "start_time": "2025-08-24T13:01:47.743Z"
   },
   {
    "duration": 5,
    "start_time": "2025-08-24T13:01:47.761Z"
   },
   {
    "duration": 9,
    "start_time": "2025-08-24T13:01:47.768Z"
   },
   {
    "duration": 9,
    "start_time": "2025-08-24T13:01:47.779Z"
   },
   {
    "duration": 8,
    "start_time": "2025-08-24T13:01:47.789Z"
   },
   {
    "duration": 42,
    "start_time": "2025-08-24T13:01:47.798Z"
   },
   {
    "duration": 10,
    "start_time": "2025-08-24T13:01:47.842Z"
   },
   {
    "duration": 8,
    "start_time": "2025-08-24T13:01:47.854Z"
   },
   {
    "duration": 37,
    "start_time": "2025-08-24T13:01:47.864Z"
   },
   {
    "duration": 41,
    "start_time": "2025-08-24T13:01:47.902Z"
   },
   {
    "duration": 16,
    "start_time": "2025-08-24T13:01:47.946Z"
   },
   {
    "duration": 15,
    "start_time": "2025-08-24T13:01:47.964Z"
   },
   {
    "duration": 9,
    "start_time": "2025-08-24T13:01:47.980Z"
   },
   {
    "duration": 5,
    "start_time": "2025-08-24T13:01:47.991Z"
   },
   {
    "duration": 15,
    "start_time": "2025-08-24T13:01:47.997Z"
   },
   {
    "duration": 35,
    "start_time": "2025-08-24T13:01:48.014Z"
   },
   {
    "duration": 13,
    "start_time": "2025-08-24T13:01:48.051Z"
   },
   {
    "duration": 8,
    "start_time": "2025-08-24T13:05:43.855Z"
   },
   {
    "duration": 19,
    "start_time": "2025-08-24T13:07:27.530Z"
   },
   {
    "duration": 24,
    "start_time": "2025-08-24T13:07:45.715Z"
   },
   {
    "duration": 16,
    "start_time": "2025-08-24T13:18:11.340Z"
   },
   {
    "duration": 19,
    "start_time": "2025-08-24T13:23:01.250Z"
   },
   {
    "duration": 431,
    "start_time": "2025-08-24T13:40:04.349Z"
   },
   {
    "duration": 1178,
    "start_time": "2025-08-24T13:40:04.782Z"
   },
   {
    "duration": 21,
    "start_time": "2025-08-24T13:40:05.962Z"
   },
   {
    "duration": 39,
    "start_time": "2025-08-24T13:40:05.985Z"
   },
   {
    "duration": 18,
    "start_time": "2025-08-24T13:40:06.027Z"
   },
   {
    "duration": 35,
    "start_time": "2025-08-24T13:40:06.047Z"
   },
   {
    "duration": 9,
    "start_time": "2025-08-24T13:40:06.084Z"
   },
   {
    "duration": 40,
    "start_time": "2025-08-24T13:40:06.095Z"
   },
   {
    "duration": 10,
    "start_time": "2025-08-24T13:40:06.136Z"
   },
   {
    "duration": 25,
    "start_time": "2025-08-24T13:40:06.147Z"
   },
   {
    "duration": 34,
    "start_time": "2025-08-24T13:40:06.173Z"
   },
   {
    "duration": 24,
    "start_time": "2025-08-24T13:40:06.208Z"
   },
   {
    "duration": 9,
    "start_time": "2025-08-24T13:40:06.233Z"
   },
   {
    "duration": 21,
    "start_time": "2025-08-24T13:40:06.245Z"
   },
   {
    "duration": 57,
    "start_time": "2025-08-24T13:40:06.268Z"
   },
   {
    "duration": 64,
    "start_time": "2025-08-24T13:40:06.326Z"
   },
   {
    "duration": 40,
    "start_time": "2025-08-24T13:40:06.392Z"
   },
   {
    "duration": 54,
    "start_time": "2025-08-24T13:40:06.434Z"
   },
   {
    "duration": 59,
    "start_time": "2025-08-24T13:40:06.490Z"
   },
   {
    "duration": 34,
    "start_time": "2025-08-24T13:40:06.550Z"
   },
   {
    "duration": 37,
    "start_time": "2025-08-24T13:40:06.586Z"
   },
   {
    "duration": 14,
    "start_time": "2025-08-24T13:40:06.624Z"
   },
   {
    "duration": 12,
    "start_time": "2025-08-24T13:40:06.640Z"
   },
   {
    "duration": 22,
    "start_time": "2025-08-24T13:40:06.653Z"
   },
   {
    "duration": 42,
    "start_time": "2025-08-24T13:40:06.676Z"
   },
   {
    "duration": 47,
    "start_time": "2025-08-24T13:40:06.719Z"
   },
   {
    "duration": 39,
    "start_time": "2025-08-24T13:40:06.768Z"
   },
   {
    "duration": 32,
    "start_time": "2025-08-24T13:40:06.808Z"
   },
   {
    "duration": 16,
    "start_time": "2025-08-24T13:40:06.841Z"
   },
   {
    "duration": 40,
    "start_time": "2025-08-24T13:40:06.858Z"
   },
   {
    "duration": 49,
    "start_time": "2025-08-24T13:40:06.900Z"
   },
   {
    "duration": 60,
    "start_time": "2025-08-24T13:40:06.951Z"
   },
   {
    "duration": 33,
    "start_time": "2025-08-24T13:40:07.013Z"
   },
   {
    "duration": 148,
    "start_time": "2025-08-24T13:40:07.048Z"
   },
   {
    "duration": 12,
    "start_time": "2025-08-24T13:40:07.198Z"
   },
   {
    "duration": 49,
    "start_time": "2025-08-24T13:40:07.211Z"
   },
   {
    "duration": 31,
    "start_time": "2025-08-24T13:40:07.262Z"
   },
   {
    "duration": 48,
    "start_time": "2025-08-24T13:40:07.294Z"
   },
   {
    "duration": 21,
    "start_time": "2025-08-24T13:40:07.343Z"
   },
   {
    "duration": 14,
    "start_time": "2025-08-24T13:40:07.366Z"
   },
   {
    "duration": 24,
    "start_time": "2025-08-24T13:40:07.384Z"
   },
   {
    "duration": 77,
    "start_time": "2025-08-24T13:40:07.439Z"
   },
   {
    "duration": 242,
    "start_time": "2025-08-24T13:40:07.517Z"
   },
   {
    "duration": 26,
    "start_time": "2025-08-24T13:40:07.762Z"
   },
   {
    "duration": 131,
    "start_time": "2025-08-24T13:40:07.790Z"
   },
   {
    "duration": 84,
    "start_time": "2025-08-24T13:40:07.922Z"
   },
   {
    "duration": 42,
    "start_time": "2025-08-24T13:40:08.007Z"
   },
   {
    "duration": 88,
    "start_time": "2025-08-24T13:40:08.051Z"
   },
   {
    "duration": 75,
    "start_time": "2025-08-24T13:40:08.141Z"
   },
   {
    "duration": 163,
    "start_time": "2025-08-24T13:40:08.218Z"
   },
   {
    "duration": 5,
    "start_time": "2025-08-24T13:40:08.383Z"
   },
   {
    "duration": 34,
    "start_time": "2025-08-24T13:40:08.390Z"
   },
   {
    "duration": 20,
    "start_time": "2025-08-24T13:40:08.426Z"
   },
   {
    "duration": 11,
    "start_time": "2025-08-24T13:40:08.448Z"
   },
   {
    "duration": 19,
    "start_time": "2025-08-24T13:40:08.461Z"
   },
   {
    "duration": 21,
    "start_time": "2025-08-24T13:40:08.482Z"
   },
   {
    "duration": 11,
    "start_time": "2025-08-24T13:40:08.505Z"
   },
   {
    "duration": 20,
    "start_time": "2025-08-24T13:40:08.518Z"
   },
   {
    "duration": 17,
    "start_time": "2025-08-24T13:40:08.540Z"
   },
   {
    "duration": 6,
    "start_time": "2025-08-24T13:40:08.559Z"
   },
   {
    "duration": 56,
    "start_time": "2025-08-24T13:40:08.567Z"
   },
   {
    "duration": 33,
    "start_time": "2025-08-24T13:40:08.625Z"
   },
   {
    "duration": 10,
    "start_time": "2025-08-24T13:40:08.659Z"
   },
   {
    "duration": 16,
    "start_time": "2025-08-24T13:40:08.671Z"
   },
   {
    "duration": 13,
    "start_time": "2025-08-24T13:40:08.689Z"
   },
   {
    "duration": 26,
    "start_time": "2025-08-24T13:40:08.704Z"
   },
   {
    "duration": 22,
    "start_time": "2025-08-24T13:40:08.740Z"
   },
   {
    "duration": 19,
    "start_time": "2025-08-24T13:40:08.764Z"
   },
   {
    "duration": 26,
    "start_time": "2025-08-24T13:40:08.785Z"
   },
   {
    "duration": 416,
    "start_time": "2025-08-25T06:53:25.278Z"
   },
   {
    "duration": 1293,
    "start_time": "2025-08-25T06:53:25.696Z"
   },
   {
    "duration": 22,
    "start_time": "2025-08-25T06:53:26.991Z"
   },
   {
    "duration": 20,
    "start_time": "2025-08-25T06:53:27.014Z"
   },
   {
    "duration": 14,
    "start_time": "2025-08-25T06:53:27.035Z"
   },
   {
    "duration": 54,
    "start_time": "2025-08-25T06:53:27.051Z"
   },
   {
    "duration": 8,
    "start_time": "2025-08-25T06:53:27.107Z"
   },
   {
    "duration": 15,
    "start_time": "2025-08-25T06:53:27.117Z"
   },
   {
    "duration": 8,
    "start_time": "2025-08-25T06:53:27.133Z"
   },
   {
    "duration": 50,
    "start_time": "2025-08-25T06:53:27.144Z"
   },
   {
    "duration": 15,
    "start_time": "2025-08-25T06:53:27.195Z"
   },
   {
    "duration": 20,
    "start_time": "2025-08-25T06:53:27.212Z"
   },
   {
    "duration": 9,
    "start_time": "2025-08-25T06:53:27.234Z"
   },
   {
    "duration": 40,
    "start_time": "2025-08-25T06:53:27.244Z"
   },
   {
    "duration": 38,
    "start_time": "2025-08-25T06:53:27.286Z"
   },
   {
    "duration": 24,
    "start_time": "2025-08-25T06:53:27.325Z"
   },
   {
    "duration": 26,
    "start_time": "2025-08-25T06:53:27.350Z"
   },
   {
    "duration": 21,
    "start_time": "2025-08-25T06:53:27.377Z"
   },
   {
    "duration": 40,
    "start_time": "2025-08-25T06:53:27.400Z"
   },
   {
    "duration": 26,
    "start_time": "2025-08-25T06:53:27.442Z"
   },
   {
    "duration": 28,
    "start_time": "2025-08-25T06:53:27.470Z"
   },
   {
    "duration": 20,
    "start_time": "2025-08-25T06:53:27.500Z"
   },
   {
    "duration": 11,
    "start_time": "2025-08-25T06:53:27.522Z"
   },
   {
    "duration": 9,
    "start_time": "2025-08-25T06:53:27.535Z"
   },
   {
    "duration": 12,
    "start_time": "2025-08-25T06:53:27.546Z"
   },
   {
    "duration": 35,
    "start_time": "2025-08-25T06:53:27.575Z"
   },
   {
    "duration": 31,
    "start_time": "2025-08-25T06:53:27.612Z"
   },
   {
    "duration": 50,
    "start_time": "2025-08-25T06:53:27.648Z"
   },
   {
    "duration": 15,
    "start_time": "2025-08-25T06:53:27.699Z"
   },
   {
    "duration": 34,
    "start_time": "2025-08-25T06:53:27.716Z"
   },
   {
    "duration": 30,
    "start_time": "2025-08-25T06:53:27.751Z"
   },
   {
    "duration": 17,
    "start_time": "2025-08-25T06:53:27.782Z"
   },
   {
    "duration": 18,
    "start_time": "2025-08-25T06:53:27.800Z"
   },
   {
    "duration": 125,
    "start_time": "2025-08-25T06:53:27.820Z"
   },
   {
    "duration": 12,
    "start_time": "2025-08-25T06:53:27.947Z"
   },
   {
    "duration": 58,
    "start_time": "2025-08-25T06:53:27.961Z"
   },
   {
    "duration": 56,
    "start_time": "2025-08-25T06:53:28.021Z"
   },
   {
    "duration": 11,
    "start_time": "2025-08-25T06:53:28.079Z"
   },
   {
    "duration": 34,
    "start_time": "2025-08-25T06:53:28.092Z"
   },
   {
    "duration": 15,
    "start_time": "2025-08-25T06:53:28.128Z"
   },
   {
    "duration": 42,
    "start_time": "2025-08-25T06:53:28.144Z"
   },
   {
    "duration": 48,
    "start_time": "2025-08-25T06:53:28.187Z"
   },
   {
    "duration": 239,
    "start_time": "2025-08-25T06:53:28.237Z"
   },
   {
    "duration": 23,
    "start_time": "2025-08-25T06:53:28.478Z"
   },
   {
    "duration": 133,
    "start_time": "2025-08-25T06:53:28.503Z"
   },
   {
    "duration": 76,
    "start_time": "2025-08-25T06:53:28.637Z"
   },
   {
    "duration": 20,
    "start_time": "2025-08-25T06:53:28.714Z"
   },
   {
    "duration": 89,
    "start_time": "2025-08-25T06:53:28.735Z"
   },
   {
    "duration": 81,
    "start_time": "2025-08-25T06:53:28.825Z"
   },
   {
    "duration": 138,
    "start_time": "2025-08-25T06:53:28.908Z"
   },
   {
    "duration": 4,
    "start_time": "2025-08-25T06:53:29.048Z"
   },
   {
    "duration": 31,
    "start_time": "2025-08-25T06:53:29.054Z"
   },
   {
    "duration": 15,
    "start_time": "2025-08-25T06:53:29.086Z"
   },
   {
    "duration": 19,
    "start_time": "2025-08-25T06:53:29.102Z"
   },
   {
    "duration": 13,
    "start_time": "2025-08-25T06:53:29.122Z"
   },
   {
    "duration": 7,
    "start_time": "2025-08-25T06:53:29.137Z"
   },
   {
    "duration": 14,
    "start_time": "2025-08-25T06:53:29.146Z"
   },
   {
    "duration": 23,
    "start_time": "2025-08-25T06:53:29.161Z"
   },
   {
    "duration": 19,
    "start_time": "2025-08-25T06:53:29.186Z"
   },
   {
    "duration": 12,
    "start_time": "2025-08-25T06:53:29.206Z"
   },
   {
    "duration": 53,
    "start_time": "2025-08-25T06:53:29.219Z"
   },
   {
    "duration": 16,
    "start_time": "2025-08-25T06:53:29.273Z"
   },
   {
    "duration": 20,
    "start_time": "2025-08-25T06:53:29.290Z"
   },
   {
    "duration": 13,
    "start_time": "2025-08-25T06:53:29.311Z"
   },
   {
    "duration": 19,
    "start_time": "2025-08-25T06:53:29.326Z"
   },
   {
    "duration": 8,
    "start_time": "2025-08-25T06:53:29.346Z"
   },
   {
    "duration": 9,
    "start_time": "2025-08-25T06:53:29.356Z"
   },
   {
    "duration": 15,
    "start_time": "2025-08-25T06:53:29.366Z"
   },
   {
    "duration": 20,
    "start_time": "2025-08-25T06:53:29.382Z"
   },
   {
    "duration": 14,
    "start_time": "2025-08-25T06:58:19.028Z"
   },
   {
    "duration": 10,
    "start_time": "2025-08-25T07:00:32.300Z"
   },
   {
    "duration": 18,
    "start_time": "2025-08-25T07:05:19.996Z"
   },
   {
    "duration": 20,
    "start_time": "2025-08-25T07:06:19.696Z"
   },
   {
    "duration": 19,
    "start_time": "2025-08-25T07:06:45.088Z"
   },
   {
    "duration": 20,
    "start_time": "2025-08-25T07:07:02.001Z"
   },
   {
    "duration": 9,
    "start_time": "2025-08-25T07:08:37.368Z"
   },
   {
    "duration": 81,
    "start_time": "2025-08-25T07:10:14.407Z"
   },
   {
    "duration": 12,
    "start_time": "2025-08-25T07:10:20.211Z"
   },
   {
    "duration": 86,
    "start_time": "2025-08-25T07:16:17.521Z"
   },
   {
    "duration": 86,
    "start_time": "2025-08-25T07:16:39.756Z"
   },
   {
    "duration": 90,
    "start_time": "2025-08-25T07:16:50.273Z"
   },
   {
    "duration": 75,
    "start_time": "2025-08-25T07:17:17.473Z"
   },
   {
    "duration": 19,
    "start_time": "2025-08-25T07:19:48.269Z"
   },
   {
    "duration": 15,
    "start_time": "2025-08-25T07:20:49.297Z"
   },
   {
    "duration": 13,
    "start_time": "2025-08-25T07:20:58.003Z"
   },
   {
    "duration": 17,
    "start_time": "2025-08-25T07:21:22.600Z"
   },
   {
    "duration": 13,
    "start_time": "2025-08-25T07:44:03.426Z"
   },
   {
    "duration": 10,
    "start_time": "2025-08-25T07:44:23.241Z"
   },
   {
    "duration": 10,
    "start_time": "2025-08-25T07:44:30.358Z"
   },
   {
    "duration": 8,
    "start_time": "2025-08-25T07:44:57.876Z"
   },
   {
    "duration": 17,
    "start_time": "2025-08-25T07:54:15.131Z"
   },
   {
    "duration": 32,
    "start_time": "2025-08-25T07:55:11.994Z"
   },
   {
    "duration": 17,
    "start_time": "2025-08-25T08:02:46.032Z"
   },
   {
    "duration": 7,
    "start_time": "2025-08-25T08:05:52.171Z"
   },
   {
    "duration": 400,
    "start_time": "2025-08-25T08:59:50.099Z"
   },
   {
    "duration": 1188,
    "start_time": "2025-08-25T08:59:50.501Z"
   },
   {
    "duration": 21,
    "start_time": "2025-08-25T08:59:51.690Z"
   },
   {
    "duration": 18,
    "start_time": "2025-08-25T08:59:51.713Z"
   },
   {
    "duration": 36,
    "start_time": "2025-08-25T08:59:51.733Z"
   },
   {
    "duration": 55,
    "start_time": "2025-08-25T08:59:51.776Z"
   },
   {
    "duration": 9,
    "start_time": "2025-08-25T08:59:51.832Z"
   },
   {
    "duration": 26,
    "start_time": "2025-08-25T08:59:51.842Z"
   },
   {
    "duration": 23,
    "start_time": "2025-08-25T08:59:51.869Z"
   },
   {
    "duration": 25,
    "start_time": "2025-08-25T08:59:51.894Z"
   },
   {
    "duration": 9,
    "start_time": "2025-08-25T08:59:51.920Z"
   },
   {
    "duration": 30,
    "start_time": "2025-08-25T08:59:51.930Z"
   },
   {
    "duration": 23,
    "start_time": "2025-08-25T08:59:51.962Z"
   },
   {
    "duration": 50,
    "start_time": "2025-08-25T08:59:51.987Z"
   },
   {
    "duration": 41,
    "start_time": "2025-08-25T08:59:52.039Z"
   },
   {
    "duration": 49,
    "start_time": "2025-08-25T08:59:52.082Z"
   },
   {
    "duration": 15,
    "start_time": "2025-08-25T08:59:52.133Z"
   },
   {
    "duration": 64,
    "start_time": "2025-08-25T08:59:52.150Z"
   },
   {
    "duration": 17,
    "start_time": "2025-08-25T08:59:52.216Z"
   },
   {
    "duration": 45,
    "start_time": "2025-08-25T08:59:52.234Z"
   },
   {
    "duration": 27,
    "start_time": "2025-08-25T08:59:52.281Z"
   },
   {
    "duration": 13,
    "start_time": "2025-08-25T08:59:52.310Z"
   },
   {
    "duration": 12,
    "start_time": "2025-08-25T08:59:52.325Z"
   },
   {
    "duration": 38,
    "start_time": "2025-08-25T08:59:52.339Z"
   },
   {
    "duration": 18,
    "start_time": "2025-08-25T08:59:52.379Z"
   },
   {
    "duration": 39,
    "start_time": "2025-08-25T08:59:52.398Z"
   },
   {
    "duration": 44,
    "start_time": "2025-08-25T08:59:52.439Z"
   },
   {
    "duration": 59,
    "start_time": "2025-08-25T08:59:52.487Z"
   },
   {
    "duration": 22,
    "start_time": "2025-08-25T08:59:52.547Z"
   },
   {
    "duration": 26,
    "start_time": "2025-08-25T08:59:52.571Z"
   },
   {
    "duration": 101,
    "start_time": "2025-08-25T08:59:52.599Z"
   },
   {
    "duration": 25,
    "start_time": "2025-08-25T08:59:52.702Z"
   },
   {
    "duration": 53,
    "start_time": "2025-08-25T08:59:52.728Z"
   },
   {
    "duration": 152,
    "start_time": "2025-08-25T08:59:52.782Z"
   },
   {
    "duration": 14,
    "start_time": "2025-08-25T08:59:52.935Z"
   },
   {
    "duration": 58,
    "start_time": "2025-08-25T08:59:52.950Z"
   },
   {
    "duration": 30,
    "start_time": "2025-08-25T08:59:53.009Z"
   },
   {
    "duration": 39,
    "start_time": "2025-08-25T08:59:53.040Z"
   },
   {
    "duration": 21,
    "start_time": "2025-08-25T08:59:53.081Z"
   },
   {
    "duration": 75,
    "start_time": "2025-08-25T08:59:53.103Z"
   },
   {
    "duration": 30,
    "start_time": "2025-08-25T08:59:53.179Z"
   },
   {
    "duration": 45,
    "start_time": "2025-08-25T08:59:53.210Z"
   },
   {
    "duration": 220,
    "start_time": "2025-08-25T08:59:53.256Z"
   },
   {
    "duration": 23,
    "start_time": "2025-08-25T08:59:53.478Z"
   },
   {
    "duration": 138,
    "start_time": "2025-08-25T08:59:53.503Z"
   },
   {
    "duration": 76,
    "start_time": "2025-08-25T08:59:53.642Z"
   },
   {
    "duration": 18,
    "start_time": "2025-08-25T08:59:53.719Z"
   },
   {
    "duration": 90,
    "start_time": "2025-08-25T08:59:53.738Z"
   },
   {
    "duration": 79,
    "start_time": "2025-08-25T08:59:53.829Z"
   },
   {
    "duration": 139,
    "start_time": "2025-08-25T08:59:53.910Z"
   },
   {
    "duration": 5,
    "start_time": "2025-08-25T08:59:54.051Z"
   },
   {
    "duration": 32,
    "start_time": "2025-08-25T08:59:54.057Z"
   },
   {
    "duration": 22,
    "start_time": "2025-08-25T08:59:54.090Z"
   },
   {
    "duration": 4,
    "start_time": "2025-08-25T08:59:54.114Z"
   },
   {
    "duration": 9,
    "start_time": "2025-08-25T08:59:54.119Z"
   },
   {
    "duration": 9,
    "start_time": "2025-08-25T08:59:54.129Z"
   },
   {
    "duration": 40,
    "start_time": "2025-08-25T08:59:54.139Z"
   },
   {
    "duration": 17,
    "start_time": "2025-08-25T08:59:54.180Z"
   },
   {
    "duration": 15,
    "start_time": "2025-08-25T08:59:54.199Z"
   },
   {
    "duration": 18,
    "start_time": "2025-08-25T08:59:54.216Z"
   },
   {
    "duration": 50,
    "start_time": "2025-08-25T08:59:54.235Z"
   },
   {
    "duration": 19,
    "start_time": "2025-08-25T08:59:54.286Z"
   },
   {
    "duration": 11,
    "start_time": "2025-08-25T08:59:54.306Z"
   },
   {
    "duration": 42,
    "start_time": "2025-08-25T08:59:54.319Z"
   },
   {
    "duration": 9,
    "start_time": "2025-08-25T08:59:54.362Z"
   },
   {
    "duration": 13,
    "start_time": "2025-08-25T08:59:54.373Z"
   },
   {
    "duration": 21,
    "start_time": "2025-08-25T08:59:54.387Z"
   },
   {
    "duration": 9,
    "start_time": "2025-08-25T08:59:54.411Z"
   },
   {
    "duration": 17,
    "start_time": "2025-08-25T08:59:54.422Z"
   },
   {
    "duration": 46,
    "start_time": "2025-08-25T08:59:54.441Z"
   },
   {
    "duration": 15,
    "start_time": "2025-08-25T08:59:54.488Z"
   },
   {
    "duration": 94,
    "start_time": "2025-08-25T08:59:54.505Z"
   },
   {
    "duration": 106,
    "start_time": "2025-08-25T08:59:54.601Z"
   },
   {
    "duration": 4,
    "start_time": "2025-08-25T09:03:14.421Z"
   },
   {
    "duration": 6,
    "start_time": "2025-08-25T09:04:10.186Z"
   },
   {
    "duration": 7,
    "start_time": "2025-08-25T09:04:22.717Z"
   },
   {
    "duration": 10,
    "start_time": "2025-08-25T09:07:39.017Z"
   },
   {
    "duration": 13,
    "start_time": "2025-08-25T09:07:58.108Z"
   },
   {
    "duration": 13,
    "start_time": "2025-08-25T09:08:04.709Z"
   },
   {
    "duration": 5,
    "start_time": "2025-08-25T09:09:24.605Z"
   },
   {
    "duration": 15,
    "start_time": "2025-08-25T09:11:13.232Z"
   },
   {
    "duration": 10,
    "start_time": "2025-08-25T09:12:12.463Z"
   },
   {
    "duration": 11,
    "start_time": "2025-08-25T09:13:34.710Z"
   },
   {
    "duration": 11,
    "start_time": "2025-08-25T09:13:45.031Z"
   },
   {
    "duration": 68,
    "start_time": "2025-08-25T09:13:59.797Z"
   },
   {
    "duration": 16,
    "start_time": "2025-08-25T09:14:06.785Z"
   },
   {
    "duration": 17,
    "start_time": "2025-08-25T09:14:16.453Z"
   },
   {
    "duration": 15,
    "start_time": "2025-08-25T09:14:26.777Z"
   },
   {
    "duration": 16,
    "start_time": "2025-08-25T09:14:38.512Z"
   },
   {
    "duration": 10,
    "start_time": "2025-08-25T09:14:40.716Z"
   },
   {
    "duration": 12,
    "start_time": "2025-08-25T09:16:02.927Z"
   },
   {
    "duration": 14,
    "start_time": "2025-08-25T09:16:16.595Z"
   },
   {
    "duration": 13,
    "start_time": "2025-08-25T09:20:54.210Z"
   },
   {
    "duration": 16,
    "start_time": "2025-08-25T09:26:30.886Z"
   },
   {
    "duration": 29,
    "start_time": "2025-08-25T09:38:10.902Z"
   },
   {
    "duration": 52,
    "start_time": "2025-08-25T09:38:11.740Z"
   },
   {
    "duration": 416,
    "start_time": "2025-08-25T09:41:45.452Z"
   },
   {
    "duration": 1214,
    "start_time": "2025-08-25T09:41:45.871Z"
   },
   {
    "duration": 23,
    "start_time": "2025-08-25T09:41:47.087Z"
   },
   {
    "duration": 20,
    "start_time": "2025-08-25T09:41:47.112Z"
   },
   {
    "duration": 15,
    "start_time": "2025-08-25T09:41:47.134Z"
   },
   {
    "duration": 57,
    "start_time": "2025-08-25T09:41:47.150Z"
   },
   {
    "duration": 9,
    "start_time": "2025-08-25T09:41:47.209Z"
   },
   {
    "duration": 29,
    "start_time": "2025-08-25T09:41:47.219Z"
   },
   {
    "duration": 11,
    "start_time": "2025-08-25T09:41:47.250Z"
   },
   {
    "duration": 39,
    "start_time": "2025-08-25T09:41:47.263Z"
   },
   {
    "duration": 11,
    "start_time": "2025-08-25T09:41:47.304Z"
   },
   {
    "duration": 110,
    "start_time": "2025-08-25T09:41:47.317Z"
   },
   {
    "duration": 17,
    "start_time": "2025-08-25T09:41:47.429Z"
   },
   {
    "duration": 36,
    "start_time": "2025-08-25T09:41:47.448Z"
   },
   {
    "duration": 25,
    "start_time": "2025-08-25T09:41:47.486Z"
   },
   {
    "duration": 25,
    "start_time": "2025-08-25T09:41:47.513Z"
   },
   {
    "duration": 37,
    "start_time": "2025-08-25T09:41:47.540Z"
   },
   {
    "duration": 16,
    "start_time": "2025-08-25T09:41:47.579Z"
   },
   {
    "duration": 110,
    "start_time": "2025-08-25T09:41:47.597Z"
   },
   {
    "duration": 52,
    "start_time": "2025-08-25T09:41:47.709Z"
   },
   {
    "duration": 28,
    "start_time": "2025-08-25T09:41:47.762Z"
   },
   {
    "duration": 96,
    "start_time": "2025-08-25T09:41:47.791Z"
   },
   {
    "duration": 13,
    "start_time": "2025-08-25T09:41:47.889Z"
   },
   {
    "duration": 9,
    "start_time": "2025-08-25T09:41:47.904Z"
   },
   {
    "duration": 22,
    "start_time": "2025-08-25T09:41:47.914Z"
   },
   {
    "duration": 46,
    "start_time": "2025-08-25T09:41:47.938Z"
   },
   {
    "duration": 30,
    "start_time": "2025-08-25T09:41:47.985Z"
   },
   {
    "duration": 40,
    "start_time": "2025-08-25T09:41:48.019Z"
   },
   {
    "duration": 27,
    "start_time": "2025-08-25T09:41:48.061Z"
   },
   {
    "duration": 39,
    "start_time": "2025-08-25T09:41:48.090Z"
   },
   {
    "duration": 21,
    "start_time": "2025-08-25T09:41:48.131Z"
   },
   {
    "duration": 38,
    "start_time": "2025-08-25T09:41:48.154Z"
   },
   {
    "duration": 21,
    "start_time": "2025-08-25T09:41:48.194Z"
   },
   {
    "duration": 118,
    "start_time": "2025-08-25T09:41:48.216Z"
   },
   {
    "duration": 41,
    "start_time": "2025-08-25T09:41:48.336Z"
   },
   {
    "duration": 51,
    "start_time": "2025-08-25T09:41:48.378Z"
   },
   {
    "duration": 61,
    "start_time": "2025-08-25T09:41:48.431Z"
   },
   {
    "duration": 10,
    "start_time": "2025-08-25T09:41:48.494Z"
   },
   {
    "duration": 25,
    "start_time": "2025-08-25T09:41:48.505Z"
   },
   {
    "duration": 45,
    "start_time": "2025-08-25T09:41:48.532Z"
   },
   {
    "duration": 26,
    "start_time": "2025-08-25T09:41:48.579Z"
   },
   {
    "duration": 78,
    "start_time": "2025-08-25T09:41:48.607Z"
   },
   {
    "duration": 292,
    "start_time": "2025-08-25T09:41:48.686Z"
   },
   {
    "duration": 25,
    "start_time": "2025-08-25T09:41:48.980Z"
   },
   {
    "duration": 128,
    "start_time": "2025-08-25T09:41:49.007Z"
   },
   {
    "duration": 84,
    "start_time": "2025-08-25T09:41:49.137Z"
   },
   {
    "duration": 20,
    "start_time": "2025-08-25T09:41:49.222Z"
   },
   {
    "duration": 98,
    "start_time": "2025-08-25T09:41:49.244Z"
   },
   {
    "duration": 83,
    "start_time": "2025-08-25T09:41:49.343Z"
   },
   {
    "duration": 149,
    "start_time": "2025-08-25T09:41:49.428Z"
   },
   {
    "duration": 5,
    "start_time": "2025-08-25T09:41:49.578Z"
   },
   {
    "duration": 24,
    "start_time": "2025-08-25T09:41:49.584Z"
   },
   {
    "duration": 75,
    "start_time": "2025-08-25T09:41:49.610Z"
   },
   {
    "duration": 10,
    "start_time": "2025-08-25T09:41:49.686Z"
   },
   {
    "duration": 14,
    "start_time": "2025-08-25T09:41:49.698Z"
   },
   {
    "duration": 9,
    "start_time": "2025-08-25T09:41:49.714Z"
   },
   {
    "duration": 8,
    "start_time": "2025-08-25T09:41:49.724Z"
   },
   {
    "duration": 24,
    "start_time": "2025-08-25T09:41:49.733Z"
   },
   {
    "duration": 8,
    "start_time": "2025-08-25T09:41:49.758Z"
   },
   {
    "duration": 11,
    "start_time": "2025-08-25T09:41:49.768Z"
   },
   {
    "duration": 41,
    "start_time": "2025-08-25T09:41:49.781Z"
   },
   {
    "duration": 77,
    "start_time": "2025-08-25T09:41:49.824Z"
   },
   {
    "duration": 19,
    "start_time": "2025-08-25T09:41:49.902Z"
   },
   {
    "duration": 32,
    "start_time": "2025-08-25T09:41:49.923Z"
   },
   {
    "duration": 9,
    "start_time": "2025-08-25T09:41:49.957Z"
   },
   {
    "duration": 15,
    "start_time": "2025-08-25T09:41:49.967Z"
   },
   {
    "duration": 29,
    "start_time": "2025-08-25T09:41:49.984Z"
   },
   {
    "duration": 46,
    "start_time": "2025-08-25T09:41:50.015Z"
   },
   {
    "duration": 22,
    "start_time": "2025-08-25T09:41:50.063Z"
   },
   {
    "duration": 62,
    "start_time": "2025-08-25T09:41:50.087Z"
   },
   {
    "duration": 19,
    "start_time": "2025-08-25T09:41:50.151Z"
   },
   {
    "duration": 15,
    "start_time": "2025-08-25T09:41:50.172Z"
   },
   {
    "duration": 33,
    "start_time": "2025-08-25T09:41:50.188Z"
   },
   {
    "duration": 24,
    "start_time": "2025-08-25T09:41:50.222Z"
   },
   {
    "duration": 377,
    "start_time": "2025-08-25T09:43:07.039Z"
   },
   {
    "duration": 401,
    "start_time": "2025-08-25T09:43:20.590Z"
   },
   {
    "duration": 1188,
    "start_time": "2025-08-25T09:43:20.993Z"
   },
   {
    "duration": 19,
    "start_time": "2025-08-25T09:43:22.183Z"
   },
   {
    "duration": 17,
    "start_time": "2025-08-25T09:43:22.204Z"
   },
   {
    "duration": 13,
    "start_time": "2025-08-25T09:43:22.222Z"
   },
   {
    "duration": 49,
    "start_time": "2025-08-25T09:43:22.236Z"
   },
   {
    "duration": 8,
    "start_time": "2025-08-25T09:43:22.286Z"
   },
   {
    "duration": 17,
    "start_time": "2025-08-25T09:43:22.295Z"
   },
   {
    "duration": 13,
    "start_time": "2025-08-25T09:43:22.313Z"
   },
   {
    "duration": 25,
    "start_time": "2025-08-25T09:43:22.328Z"
   },
   {
    "duration": 29,
    "start_time": "2025-08-25T09:43:22.354Z"
   },
   {
    "duration": 12,
    "start_time": "2025-08-25T09:43:22.384Z"
   },
   {
    "duration": 8,
    "start_time": "2025-08-25T09:43:22.398Z"
   },
   {
    "duration": 20,
    "start_time": "2025-08-25T09:43:22.407Z"
   },
   {
    "duration": 64,
    "start_time": "2025-08-25T09:43:22.429Z"
   },
   {
    "duration": 13,
    "start_time": "2025-08-25T09:43:22.494Z"
   },
   {
    "duration": 25,
    "start_time": "2025-08-25T09:43:22.509Z"
   },
   {
    "duration": 13,
    "start_time": "2025-08-25T09:43:22.536Z"
   },
   {
    "duration": 37,
    "start_time": "2025-08-25T09:43:22.550Z"
   },
   {
    "duration": 25,
    "start_time": "2025-08-25T09:43:22.588Z"
   },
   {
    "duration": 19,
    "start_time": "2025-08-25T09:43:22.614Z"
   },
   {
    "duration": 11,
    "start_time": "2025-08-25T09:43:22.634Z"
   },
   {
    "duration": 30,
    "start_time": "2025-08-25T09:43:22.646Z"
   },
   {
    "duration": 9,
    "start_time": "2025-08-25T09:43:22.678Z"
   },
   {
    "duration": 28,
    "start_time": "2025-08-25T09:43:22.689Z"
   },
   {
    "duration": 88,
    "start_time": "2025-08-25T09:43:22.718Z"
   },
   {
    "duration": 25,
    "start_time": "2025-08-25T09:43:22.808Z"
   },
   {
    "duration": 17,
    "start_time": "2025-08-25T09:43:22.836Z"
   },
   {
    "duration": 38,
    "start_time": "2025-08-25T09:43:22.854Z"
   },
   {
    "duration": 21,
    "start_time": "2025-08-25T09:43:22.894Z"
   },
   {
    "duration": 18,
    "start_time": "2025-08-25T09:43:22.916Z"
   },
   {
    "duration": 31,
    "start_time": "2025-08-25T09:43:22.935Z"
   },
   {
    "duration": 115,
    "start_time": "2025-08-25T09:43:22.967Z"
   },
   {
    "duration": 17,
    "start_time": "2025-08-25T09:43:23.084Z"
   },
   {
    "duration": 116,
    "start_time": "2025-08-25T09:43:23.102Z"
   },
   {
    "duration": 29,
    "start_time": "2025-08-25T09:43:23.220Z"
   },
   {
    "duration": 37,
    "start_time": "2025-08-25T09:43:23.250Z"
   },
   {
    "duration": 118,
    "start_time": "2025-08-25T09:43:23.288Z"
   },
   {
    "duration": 75,
    "start_time": "2025-08-25T09:43:23.407Z"
   },
   {
    "duration": 24,
    "start_time": "2025-08-25T09:43:23.484Z"
   },
   {
    "duration": 67,
    "start_time": "2025-08-25T09:43:23.509Z"
   },
   {
    "duration": 227,
    "start_time": "2025-08-25T09:43:23.578Z"
   },
   {
    "duration": 27,
    "start_time": "2025-08-25T09:43:23.807Z"
   },
   {
    "duration": 182,
    "start_time": "2025-08-25T09:43:23.836Z"
   },
   {
    "duration": 87,
    "start_time": "2025-08-25T09:43:24.020Z"
   },
   {
    "duration": 18,
    "start_time": "2025-08-25T09:43:24.109Z"
   },
   {
    "duration": 98,
    "start_time": "2025-08-25T09:43:24.129Z"
   },
   {
    "duration": 90,
    "start_time": "2025-08-25T09:43:24.228Z"
   },
   {
    "duration": 163,
    "start_time": "2025-08-25T09:43:24.320Z"
   },
   {
    "duration": 7,
    "start_time": "2025-08-25T09:43:24.485Z"
   },
   {
    "duration": 22,
    "start_time": "2025-08-25T09:43:24.493Z"
   },
   {
    "duration": 19,
    "start_time": "2025-08-25T09:43:24.516Z"
   },
   {
    "duration": 5,
    "start_time": "2025-08-25T09:43:24.536Z"
   },
   {
    "duration": 11,
    "start_time": "2025-08-25T09:43:24.543Z"
   },
   {
    "duration": 37,
    "start_time": "2025-08-25T09:43:24.555Z"
   },
   {
    "duration": 4,
    "start_time": "2025-08-25T09:43:24.594Z"
   },
   {
    "duration": 28,
    "start_time": "2025-08-25T09:43:24.599Z"
   },
   {
    "duration": 9,
    "start_time": "2025-08-25T09:43:24.628Z"
   },
   {
    "duration": 18,
    "start_time": "2025-08-25T09:43:24.638Z"
   },
   {
    "duration": 40,
    "start_time": "2025-08-25T09:43:24.658Z"
   },
   {
    "duration": 15,
    "start_time": "2025-08-25T09:43:24.699Z"
   },
   {
    "duration": 106,
    "start_time": "2025-08-25T09:43:24.716Z"
   },
   {
    "duration": 22,
    "start_time": "2025-08-25T09:43:24.823Z"
   },
   {
    "duration": 7,
    "start_time": "2025-08-25T09:43:24.846Z"
   },
   {
    "duration": 4,
    "start_time": "2025-08-25T09:43:24.855Z"
   },
   {
    "duration": 8,
    "start_time": "2025-08-25T09:43:24.861Z"
   },
   {
    "duration": 12,
    "start_time": "2025-08-25T09:43:24.870Z"
   },
   {
    "duration": 31,
    "start_time": "2025-08-25T09:43:24.883Z"
   },
   {
    "duration": 28,
    "start_time": "2025-08-25T09:43:24.915Z"
   },
   {
    "duration": 13,
    "start_time": "2025-08-25T09:43:24.944Z"
   },
   {
    "duration": 19,
    "start_time": "2025-08-25T09:43:24.958Z"
   },
   {
    "duration": 16,
    "start_time": "2025-08-25T09:43:24.979Z"
   },
   {
    "duration": 14,
    "start_time": "2025-08-25T09:43:24.997Z"
   },
   {
    "duration": 444,
    "start_time": "2025-08-25T09:45:20.187Z"
   },
   {
    "duration": 1189,
    "start_time": "2025-08-25T09:45:20.633Z"
   },
   {
    "duration": 22,
    "start_time": "2025-08-25T09:45:21.823Z"
   },
   {
    "duration": 65,
    "start_time": "2025-08-25T09:45:21.846Z"
   },
   {
    "duration": 15,
    "start_time": "2025-08-25T09:45:21.913Z"
   },
   {
    "duration": 57,
    "start_time": "2025-08-25T09:45:21.930Z"
   },
   {
    "duration": 14,
    "start_time": "2025-08-25T09:45:21.988Z"
   },
   {
    "duration": 29,
    "start_time": "2025-08-25T09:45:22.004Z"
   },
   {
    "duration": 13,
    "start_time": "2025-08-25T09:45:22.035Z"
   },
   {
    "duration": 51,
    "start_time": "2025-08-25T09:45:22.050Z"
   },
   {
    "duration": 10,
    "start_time": "2025-08-25T09:45:22.102Z"
   },
   {
    "duration": 75,
    "start_time": "2025-08-25T09:45:22.113Z"
   },
   {
    "duration": 12,
    "start_time": "2025-08-25T09:45:22.190Z"
   },
   {
    "duration": 19,
    "start_time": "2025-08-25T09:45:22.205Z"
   },
   {
    "duration": 51,
    "start_time": "2025-08-25T09:45:22.226Z"
   },
   {
    "duration": 13,
    "start_time": "2025-08-25T09:45:22.278Z"
   },
   {
    "duration": 16,
    "start_time": "2025-08-25T09:45:22.293Z"
   },
   {
    "duration": 19,
    "start_time": "2025-08-25T09:45:22.311Z"
   },
   {
    "duration": 46,
    "start_time": "2025-08-25T09:45:22.332Z"
   },
   {
    "duration": 26,
    "start_time": "2025-08-25T09:45:22.380Z"
   },
   {
    "duration": 34,
    "start_time": "2025-08-25T09:45:22.407Z"
   },
   {
    "duration": 39,
    "start_time": "2025-08-25T09:45:22.442Z"
   },
   {
    "duration": 9,
    "start_time": "2025-08-25T09:45:22.483Z"
   },
   {
    "duration": 16,
    "start_time": "2025-08-25T09:45:22.493Z"
   },
   {
    "duration": 85,
    "start_time": "2025-08-25T09:45:22.511Z"
   },
   {
    "duration": 50,
    "start_time": "2025-08-25T09:45:22.598Z"
   },
   {
    "duration": 28,
    "start_time": "2025-08-25T09:45:22.650Z"
   },
   {
    "duration": 15,
    "start_time": "2025-08-25T09:45:22.680Z"
   },
   {
    "duration": 23,
    "start_time": "2025-08-25T09:45:22.696Z"
   },
   {
    "duration": 98,
    "start_time": "2025-08-25T09:45:22.721Z"
   },
   {
    "duration": 64,
    "start_time": "2025-08-25T09:45:22.821Z"
   },
   {
    "duration": 16,
    "start_time": "2025-08-25T09:45:22.886Z"
   },
   {
    "duration": 117,
    "start_time": "2025-08-25T09:45:22.904Z"
   },
   {
    "duration": 13,
    "start_time": "2025-08-25T09:45:23.023Z"
   },
   {
    "duration": 100,
    "start_time": "2025-08-25T09:45:23.038Z"
   },
   {
    "duration": 38,
    "start_time": "2025-08-25T09:45:23.139Z"
   },
   {
    "duration": 10,
    "start_time": "2025-08-25T09:45:23.178Z"
   },
   {
    "duration": 43,
    "start_time": "2025-08-25T09:45:23.189Z"
   },
   {
    "duration": 14,
    "start_time": "2025-08-25T09:45:23.234Z"
   },
   {
    "duration": 24,
    "start_time": "2025-08-25T09:45:23.250Z"
   },
   {
    "duration": 45,
    "start_time": "2025-08-25T09:45:23.278Z"
   },
   {
    "duration": 202,
    "start_time": "2025-08-25T09:45:23.325Z"
   },
   {
    "duration": 53,
    "start_time": "2025-08-25T09:45:23.528Z"
   },
   {
    "duration": 115,
    "start_time": "2025-08-25T09:45:23.582Z"
   },
   {
    "duration": 82,
    "start_time": "2025-08-25T09:45:23.698Z"
   },
   {
    "duration": 19,
    "start_time": "2025-08-25T09:45:23.781Z"
   },
   {
    "duration": 92,
    "start_time": "2025-08-25T09:45:23.801Z"
   },
   {
    "duration": 71,
    "start_time": "2025-08-25T09:45:23.894Z"
   },
   {
    "duration": 150,
    "start_time": "2025-08-25T09:45:23.967Z"
   },
   {
    "duration": 5,
    "start_time": "2025-08-25T09:45:24.118Z"
   },
   {
    "duration": 22,
    "start_time": "2025-08-25T09:45:24.124Z"
   },
   {
    "duration": 15,
    "start_time": "2025-08-25T09:45:24.147Z"
   },
   {
    "duration": 5,
    "start_time": "2025-08-25T09:45:24.177Z"
   },
   {
    "duration": 8,
    "start_time": "2025-08-25T09:45:24.183Z"
   },
   {
    "duration": 7,
    "start_time": "2025-08-25T09:45:24.193Z"
   },
   {
    "duration": 18,
    "start_time": "2025-08-25T09:45:24.202Z"
   },
   {
    "duration": 9,
    "start_time": "2025-08-25T09:45:24.221Z"
   },
   {
    "duration": 28,
    "start_time": "2025-08-25T09:45:24.232Z"
   },
   {
    "duration": 16,
    "start_time": "2025-08-25T09:45:24.261Z"
   },
   {
    "duration": 41,
    "start_time": "2025-08-25T09:45:24.278Z"
   },
   {
    "duration": 15,
    "start_time": "2025-08-25T09:45:24.321Z"
   },
   {
    "duration": 26,
    "start_time": "2025-08-25T09:45:24.337Z"
   },
   {
    "duration": 12,
    "start_time": "2025-08-25T09:45:24.365Z"
   },
   {
    "duration": 8,
    "start_time": "2025-08-25T09:45:24.378Z"
   },
   {
    "duration": 6,
    "start_time": "2025-08-25T09:45:24.387Z"
   },
   {
    "duration": 11,
    "start_time": "2025-08-25T09:45:24.395Z"
   },
   {
    "duration": 8,
    "start_time": "2025-08-25T09:45:24.407Z"
   },
   {
    "duration": 26,
    "start_time": "2025-08-25T09:45:24.416Z"
   },
   {
    "duration": 59,
    "start_time": "2025-08-25T09:45:24.443Z"
   },
   {
    "duration": 21,
    "start_time": "2025-08-25T09:45:24.503Z"
   },
   {
    "duration": 16,
    "start_time": "2025-08-25T09:45:24.526Z"
   },
   {
    "duration": 12,
    "start_time": "2025-08-25T09:45:24.543Z"
   },
   {
    "duration": 32,
    "start_time": "2025-08-25T09:45:24.556Z"
   }
  ],
  "colab": {
   "provenance": [],
   "toc_visible": true
  },
  "kernelspec": {
   "display_name": "Python 3",
   "language": "python",
   "name": "python3"
  },
  "language_info": {
   "codemirror_mode": {
    "name": "ipython",
    "version": 3
   },
   "file_extension": ".py",
   "mimetype": "text/x-python",
   "name": "python",
   "nbconvert_exporter": "python",
   "pygments_lexer": "ipython3",
   "version": "3.13.3"
  },
  "toc": {
   "base_numbering": 1,
   "nav_menu": {},
   "number_sections": true,
   "sideBar": true,
   "skip_h1_title": true,
   "title_cell": "Table of Contents",
   "title_sidebar": "Contents",
   "toc_cell": false,
   "toc_position": {},
   "toc_section_display": true,
   "toc_window_display": false
  }
 },
 "nbformat": 4,
 "nbformat_minor": 0
}
